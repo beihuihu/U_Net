{
 "cells": [
  {
   "cell_type": "code",
   "execution_count": 1,
   "metadata": {},
   "outputs": [
    {
     "name": "stdout",
     "output_type": "stream",
     "text": [
      "16\n"
     ]
    }
   ],
   "source": [
    "import os\n",
    "os.environ[\"MKL_NUM_THREADS\"] = '16'\n",
    "os.environ[\"NUMEXPR_NUM_THREADS\"] = '16'\n",
    "os.environ[\"OMP_NUM_THREADS\"] = '16'\n",
    "print(os.environ.get('OMP_NUM_THREADS'))"
   ]
  },
  {
   "cell_type": "code",
   "execution_count": 2,
   "metadata": {},
   "outputs": [
    {
     "name": "stdout",
     "output_type": "stream",
     "text": [
      "2.9.0\n"
     ]
    }
   ],
   "source": [
    "import tensorflow as tf\n",
    "import numpy as np\n",
    "from PIL import Image\n",
    "import rasterio\n",
    "import imgaug as ia\n",
    "from imgaug import augmenters as iaa\n",
    "from tensorflow.keras.preprocessing.image import ImageDataGenerator\n",
    "import tensorflow as tf\n",
    "\n",
    "import imageio\n",
    "import os\n",
    "\n",
    "import time\n",
    "import rasterio.warp             # Reproject raster samples\n",
    "from functools import reduce\n",
    "from tensorflow.keras.models import load_model\n",
    "\n",
    "from core.UNet import UNet  #\n",
    "from core.losses import tversky, focalTversky, bce_dice_loss, accuracy, dice_loss, IoU, recall, precision\n",
    "from tensorflow.keras.losses import BinaryCrossentropy as bce\n",
    "from core.optimizers import adaDelta, adagrad, adam, nadam\n",
    "from core.frame_info import FrameInfo\n",
    "from core.dataset_generator import DataGenerator\n",
    "from core.visualize import display_images,plot\n",
    "import json\n",
    "from sklearn.model_selection import train_test_split\n",
    "from sklearn.utils import shuffle\n",
    "import shutil\n",
    "import pickle\n",
    "import random\n",
    "\n",
    "%matplotlib inline\n",
    "import matplotlib.pyplot as plt  # plotting tools\n",
    "import matplotlib.patches as patches\n",
    "from matplotlib.patches import Polygon\n",
    "#matplotlib.use(\"Agg\")\n",
    "\n",
    "import warnings                  # ignore annoying warnings\n",
    "warnings.filterwarnings(\"ignore\")\n",
    "import logging\n",
    "logger = logging.getLogger()\n",
    "logger.setLevel(logging.CRITICAL)\n",
    "\n",
    "%reload_ext autoreload\n",
    "%autoreload 2\n",
    "from IPython.core.interactiveshell import InteractiveShell\n",
    "InteractiveShell.ast_node_interactivity = \"all\"\n",
    "\n",
    "#Mixed precision is the use of both 16-bit and 32-bit floating-point types in a model during training to make it run faster and use less memory.\n",
    "os.environ['TF_ENABLE_AUTO_MIXED_PRECISION'] = '1'\n",
    "# os.environ[\"CUDA_VISIBLE_DEVICES\"] = \"1\"\n",
    "print(tf.__version__)"
   ]
  },
  {
   "cell_type": "code",
   "execution_count": 3,
   "metadata": {},
   "outputs": [],
   "source": [
    "from tensorflow.compat.v1 import ConfigProto\n",
    "from tensorflow.compat.v1 import InteractiveSession\n",
    "\n",
    "config = ConfigProto(\n",
    "    #device_count={\"CPU\": 64},\n",
    "    allow_soft_placement=True, \n",
    "    log_device_placement=False)\n",
    "config.gpu_options.allow_growth = True\n",
    "session = InteractiveSession(config=config)"
   ]
  },
  {
   "cell_type": "code",
   "execution_count": 7,
   "metadata": {},
   "outputs": [],
   "source": [
    "base_dir = r'D:\\lakemapping\\U_Net'\n",
    "dataset_dir=r'D:\\lakemapping\\2_dataset'\n",
    "image_type = '.png'       \n",
    "NDWI_fn = 'ndwi'\n",
    "red_fn = 'red'\n",
    "blue_fn = 'blue'\n",
    "green_fn = 'green'\n",
    "swir_fn = 'swir'\n",
    "annotation_fn = 'annotation'\n",
    "type_num=6\n",
    "patch_size = (512,512,6) \n",
    "patch_dir = os.path.join(base_dir,'patches{}'.format(patch_size[0])) \n",
    "# The training areas are divided into training, validation and testing set. Note that training area can have different sizes, so it doesn't guarantee that the final generated patches (when using sequential stratergy) will be in the same ratio.\n",
    "test_ratio = 0.2\n",
    "val_ratio = 0.25"
   ]
  },
  {
   "cell_type": "markdown",
   "metadata": {},
   "source": [
    "## 划分数据集\n",
    "从output文件夹存储到patchReshape文件夹，train和test按类别type分别存储"
   ]
  },
  {
   "cell_type": "code",
   "execution_count": 8,
   "metadata": {},
   "outputs": [],
   "source": [
    "#hbh: check whether the output dir(must be present) of each type is empty\n",
    "for i in range(0,type_num):\n",
    "    path_to_write=os.path.join(dataset_dir,'output550\\output{}'.format(i))\n",
    "    assert os.path.exists(path_to_write)\n",
    "    if len(os.listdir(path_to_write))==0:\n",
    "         print('Warning: path_to_write{} is empty!'.format(i))"
   ]
  },
  {
   "cell_type": "code",
   "execution_count": 9,
   "metadata": {},
   "outputs": [],
   "source": [
    "def removeFileinType(lakeType,patchType,fn):\n",
    "    output_dir=os.path.join(dataset_dir,'patchesReshape550\\\\{}\\\\type{}'.format(patchType,lakeType))\n",
    "    remove(output_dir,fn)\n",
    "    remove(output_dir,fn.replace(NDWI_fn,annotation_fn))\n",
    "    remove(output_dir,fn.replace(NDWI_fn,red_fn))\n",
    "    remove(output_dir,fn.replace(NDWI_fn,green_fn))\n",
    "    remove(output_dir,fn.replace(NDWI_fn,blue_fn))\n",
    "    remove(output_dir,fn.replace(NDWI_fn,swir_fn))\n",
    "    \n",
    "def remove(output_dir,fn):\n",
    "    new=os.path.join(output_dir,fn)\n",
    "    old=os.path.join(patch_output,fn)\n",
    "    shutil.copy(old, new)"
   ]
  },
  {
   "cell_type": "code",
   "execution_count": 10,
   "metadata": {},
   "outputs": [
    {
     "data": {
      "text/plain": [
       "195"
      ]
     },
     "execution_count": 10,
     "metadata": {},
     "output_type": "execute_result"
    },
    {
     "name": "stdout",
     "output_type": "stream",
     "text": [
      "['ndwi_100.png', 'ndwi_101.png', 'ndwi_106.png', 'ndwi_107.png', 'ndwi_108.png', 'ndwi_113.png', 'ndwi_120.png', 'ndwi_123.png', 'ndwi_126.png', 'ndwi_132.png', 'ndwi_136.png', 'ndwi_140.png', 'ndwi_142.png', 'ndwi_144.png', 'ndwi_15.png', 'ndwi_151.png', 'ndwi_152.png', 'ndwi_153.png', 'ndwi_154.png', 'ndwi_158.png', 'ndwi_164.png', 'ndwi_165.png', 'ndwi_166.png', 'ndwi_168.png', 'ndwi_169.png', 'ndwi_17.png', 'ndwi_170.png', 'ndwi_171.png', 'ndwi_177.png', 'ndwi_178.png', 'ndwi_181.png', 'ndwi_19.png', 'ndwi_229.png', 'ndwi_230.png', 'ndwi_231.png', 'ndwi_232.png', 'ndwi_235.png', 'ndwi_236.png', 'ndwi_237.png', 'ndwi_238.png', 'ndwi_239.png', 'ndwi_241.png', 'ndwi_247.png', 'ndwi_251.png', 'ndwi_253.png', 'ndwi_255.png', 'ndwi_259.png', 'ndwi_26.png', 'ndwi_265.png', 'ndwi_268.png', 'ndwi_269.png', 'ndwi_27.png', 'ndwi_270.png', 'ndwi_271.png', 'ndwi_272.png', 'ndwi_276.png', 'ndwi_277.png', 'ndwi_278.png', 'ndwi_279.png', 'ndwi_28.png', 'ndwi_280.png', 'ndwi_282.png', 'ndwi_286.png', 'ndwi_288.png', 'ndwi_295.png', 'ndwi_296.png', 'ndwi_297.png', 'ndwi_298.png', 'ndwi_30.png', 'ndwi_306.png', 'ndwi_307.png', 'ndwi_31.png', 'ndwi_312.png', 'ndwi_313.png', 'ndwi_314.png', 'ndwi_320.png', 'ndwi_325.png', 'ndwi_326.png', 'ndwi_327.png', 'ndwi_328.png', 'ndwi_329.png', 'ndwi_33.png', 'ndwi_332.png', 'ndwi_337.png', 'ndwi_340.png', 'ndwi_342.png', 'ndwi_344.png', 'ndwi_348.png', 'ndwi_35.png', 'ndwi_353.png', 'ndwi_36.png', 'ndwi_362.png', 'ndwi_363.png', 'ndwi_367.png', 'ndwi_368.png', 'ndwi_369.png', 'ndwi_37.png', 'ndwi_370.png', 'ndwi_380.png', 'ndwi_382.png', 'ndwi_384.png', 'ndwi_385.png', 'ndwi_389.png', 'ndwi_393.png', 'ndwi_395.png', 'ndwi_397.png', 'ndwi_398.png', 'ndwi_40.png', 'ndwi_400.png', 'ndwi_401.png', 'ndwi_409.png', 'ndwi_411.png', 'ndwi_414.png', 'ndwi_417.png', 'ndwi_418.png', 'ndwi_419.png', 'ndwi_420.png', 'ndwi_421.png', 'ndwi_422.png', 'ndwi_423.png', 'ndwi_424.png', 'ndwi_425.png', 'ndwi_427.png', 'ndwi_428.png', 'ndwi_43.png', 'ndwi_437.png', 'ndwi_441.png', 'ndwi_444.png', 'ndwi_445.png', 'ndwi_448.png', 'ndwi_449.png', 'ndwi_451.png', 'ndwi_452.png', 'ndwi_453.png', 'ndwi_455.png', 'ndwi_457.png', 'ndwi_458.png', 'ndwi_460.png', 'ndwi_462.png', 'ndwi_466.png', 'ndwi_467.png', 'ndwi_468.png', 'ndwi_470.png', 'ndwi_471.png', 'ndwi_472.png', 'ndwi_475.png', 'ndwi_478.png', 'ndwi_48.png', 'ndwi_480.png', 'ndwi_481.png', 'ndwi_482.png', 'ndwi_483.png', 'ndwi_484.png', 'ndwi_485.png', 'ndwi_486.png', 'ndwi_488.png', 'ndwi_492.png', 'ndwi_493.png', 'ndwi_494.png', 'ndwi_495.png', 'ndwi_496.png', 'ndwi_499.png', 'ndwi_50.png', 'ndwi_500.png', 'ndwi_514.png', 'ndwi_516.png', 'ndwi_517.png', 'ndwi_519.png', 'ndwi_523.png', 'ndwi_524.png', 'ndwi_532.png', 'ndwi_533.png', 'ndwi_534.png', 'ndwi_537.png', 'ndwi_538.png', 'ndwi_539.png', 'ndwi_542.png', 'ndwi_545.png', 'ndwi_546.png', 'ndwi_547.png', 'ndwi_548.png', 'ndwi_549.png', 'ndwi_55.png', 'ndwi_57.png', 'ndwi_66.png', 'ndwi_68.png', 'ndwi_69.png', 'ndwi_71.png', 'ndwi_80.png', 'ndwi_84.png', 'ndwi_91.png', 'ndwi_93.png', 'ndwi_97.png', 'ndwi_98.png', 'ndwi_99.png']\n",
      "Creating and writing train-test split from file\n",
      "training_frames ['ndwi_337.png', 'ndwi_170.png', 'ndwi_448.png', 'ndwi_524.png', 'ndwi_314.png', 'ndwi_411.png', 'ndwi_441.png', 'ndwi_236.png', 'ndwi_48.png', 'ndwi_126.png', 'ndwi_142.png', 'ndwi_270.png', 'ndwi_421.png', 'ndwi_113.png', 'ndwi_239.png', 'ndwi_279.png', 'ndwi_277.png', 'ndwi_84.png', 'ndwi_30.png', 'ndwi_247.png', 'ndwi_253.png', 'ndwi_31.png', 'ndwi_549.png', 'ndwi_232.png', 'ndwi_537.png', 'ndwi_278.png', 'ndwi_344.png', 'ndwi_389.png', 'ndwi_367.png', 'ndwi_286.png', 'ndwi_26.png', 'ndwi_151.png', 'ndwi_445.png', 'ndwi_458.png', 'ndwi_369.png', 'ndwi_320.png', 'ndwi_370.png', 'ndwi_154.png', 'ndwi_27.png', 'ndwi_427.png', 'ndwi_471.png', 'ndwi_238.png', 'ndwi_268.png', 'ndwi_455.png', 'ndwi_493.png', 'ndwi_312.png', 'ndwi_295.png', 'ndwi_362.png', 'ndwi_499.png', 'ndwi_500.png', 'ndwi_297.png', 'ndwi_482.png', 'ndwi_466.png', 'ndwi_523.png', 'ndwi_33.png', 'ndwi_237.png', 'ndwi_235.png', 'ndwi_395.png', 'ndwi_66.png', 'ndwi_326.png', 'ndwi_519.png', 'ndwi_401.png', 'ndwi_178.png', 'ndwi_423.png', 'ndwi_251.png', 'ndwi_340.png', 'ndwi_15.png', 'ndwi_269.png', 'ndwi_144.png', 'ndwi_393.png', 'ndwi_101.png', 'ndwi_271.png', 'ndwi_35.png', 'ndwi_467.png', 'ndwi_136.png', 'ndwi_451.png', 'ndwi_468.png', 'ndwi_329.png', 'ndwi_259.png', 'ndwi_538.png', 'ndwi_353.png', 'ndwi_50.png', 'ndwi_397.png', 'ndwi_132.png', 'ndwi_533.png', 'ndwi_97.png', 'ndwi_460.png', 'ndwi_534.png', 'ndwi_437.png', 'ndwi_19.png', 'ndwi_422.png', 'ndwi_484.png', 'ndwi_342.png', 'ndwi_165.png', 'ndwi_100.png', 'ndwi_71.png', 'ndwi_328.png', 'ndwi_494.png', 'ndwi_177.png', 'ndwi_325.png', 'ndwi_444.png', 'ndwi_298.png', 'ndwi_153.png', 'ndwi_140.png', 'ndwi_231.png', 'ndwi_547.png', 'ndwi_166.png', 'ndwi_385.png', 'ndwi_332.png', 'ndwi_418.png', 'ndwi_181.png', 'ndwi_478.png', 'ndwi_417.png', 'ndwi_272.png', 'ndwi_265.png', 'ndwi_545.png', 'ndwi_307.png']\n",
      "validation_frames ['ndwi_481.png', 'ndwi_414.png', 'ndwi_548.png', 'ndwi_255.png', 'ndwi_542.png', 'ndwi_428.png', 'ndwi_462.png', 'ndwi_288.png', 'ndwi_475.png', 'ndwi_306.png', 'ndwi_296.png', 'ndwi_108.png', 'ndwi_483.png', 'ndwi_546.png', 'ndwi_496.png', 'ndwi_384.png', 'ndwi_280.png', 'ndwi_409.png', 'ndwi_488.png', 'ndwi_382.png', 'ndwi_327.png', 'ndwi_68.png', 'ndwi_55.png', 'ndwi_91.png', 'ndwi_93.png', 'ndwi_57.png', 'ndwi_532.png', 'ndwi_539.png', 'ndwi_449.png', 'ndwi_98.png', 'ndwi_313.png', 'ndwi_419.png', 'ndwi_424.png', 'ndwi_492.png', 'ndwi_282.png', 'ndwi_28.png', 'ndwi_158.png', 'ndwi_480.png', 'ndwi_107.png']\n",
      "testing_frames ['ndwi_43.png', 'ndwi_36.png', 'ndwi_452.png', 'ndwi_516.png', 'ndwi_164.png', 'ndwi_229.png', 'ndwi_457.png', 'ndwi_425.png', 'ndwi_398.png', 'ndwi_230.png', 'ndwi_106.png', 'ndwi_514.png', 'ndwi_168.png', 'ndwi_169.png', 'ndwi_80.png', 'ndwi_69.png', 'ndwi_241.png', 'ndwi_37.png', 'ndwi_517.png', 'ndwi_99.png', 'ndwi_40.png', 'ndwi_123.png', 'ndwi_400.png', 'ndwi_171.png', 'ndwi_486.png', 'ndwi_152.png', 'ndwi_495.png', 'ndwi_348.png', 'ndwi_17.png', 'ndwi_363.png', 'ndwi_485.png', 'ndwi_420.png', 'ndwi_470.png', 'ndwi_276.png', 'ndwi_120.png', 'ndwi_472.png', 'ndwi_380.png', 'ndwi_368.png', 'ndwi_453.png']\n"
     ]
    },
    {
     "data": {
      "text/plain": [
       "163"
      ]
     },
     "execution_count": 10,
     "metadata": {},
     "output_type": "execute_result"
    },
    {
     "name": "stdout",
     "output_type": "stream",
     "text": [
      "['ndwi_0.png', 'ndwi_10.png', 'ndwi_102.png', 'ndwi_103.png', 'ndwi_104.png', 'ndwi_105.png', 'ndwi_11.png', 'ndwi_111.png', 'ndwi_112.png', 'ndwi_114.png', 'ndwi_115.png', 'ndwi_117.png', 'ndwi_12.png', 'ndwi_121.png', 'ndwi_128.png', 'ndwi_129.png', 'ndwi_130.png', 'ndwi_133.png', 'ndwi_134.png', 'ndwi_135.png', 'ndwi_145.png', 'ndwi_156.png', 'ndwi_16.png', 'ndwi_160.png', 'ndwi_172.png', 'ndwi_173.png', 'ndwi_18.png', 'ndwi_185.png', 'ndwi_2.png', 'ndwi_21.png', 'ndwi_22.png', 'ndwi_228.png', 'ndwi_233.png', 'ndwi_234.png', 'ndwi_24.png', 'ndwi_242.png', 'ndwi_243.png', 'ndwi_248.png', 'ndwi_254.png', 'ndwi_256.png', 'ndwi_258.png', 'ndwi_261.png', 'ndwi_263.png', 'ndwi_264.png', 'ndwi_266.png', 'ndwi_267.png', 'ndwi_273.png', 'ndwi_274.png', 'ndwi_275.png', 'ndwi_281.png', 'ndwi_283.png', 'ndwi_285.png', 'ndwi_3.png', 'ndwi_300.png', 'ndwi_301.png', 'ndwi_304.png', 'ndwi_308.png', 'ndwi_311.png', 'ndwi_317.png', 'ndwi_318.png', 'ndwi_32.png', 'ndwi_321.png', 'ndwi_331.png', 'ndwi_333.png', 'ndwi_334.png', 'ndwi_335.png', 'ndwi_336.png', 'ndwi_338.png', 'ndwi_339.png', 'ndwi_34.png', 'ndwi_341.png', 'ndwi_343.png', 'ndwi_345.png', 'ndwi_346.png', 'ndwi_347.png', 'ndwi_349.png', 'ndwi_351.png', 'ndwi_352.png', 'ndwi_354.png', 'ndwi_355.png', 'ndwi_356.png', 'ndwi_357.png', 'ndwi_358.png', 'ndwi_359.png', 'ndwi_360.png', 'ndwi_361.png', 'ndwi_375.png', 'ndwi_377.png', 'ndwi_38.png', 'ndwi_387.png', 'ndwi_39.png', 'ndwi_396.png', 'ndwi_41.png', 'ndwi_42.png', 'ndwi_434.png', 'ndwi_438.png', 'ndwi_44.png', 'ndwi_45.png', 'ndwi_456.png', 'ndwi_46.png', 'ndwi_461.png', 'ndwi_463.png', 'ndwi_469.png', 'ndwi_47.png', 'ndwi_474.png', 'ndwi_487.png', 'ndwi_489.png', 'ndwi_49.png', 'ndwi_490.png', 'ndwi_491.png', 'ndwi_497.png', 'ndwi_505.png', 'ndwi_507.png', 'ndwi_508.png', 'ndwi_509.png', 'ndwi_510.png', 'ndwi_518.png', 'ndwi_52.png', 'ndwi_520.png', 'ndwi_521.png', 'ndwi_522.png', 'ndwi_525.png', 'ndwi_526.png', 'ndwi_527.png', 'ndwi_528.png', 'ndwi_529.png', 'ndwi_530.png', 'ndwi_531.png', 'ndwi_536.png', 'ndwi_541.png', 'ndwi_543.png', 'ndwi_544.png', 'ndwi_56.png', 'ndwi_58.png', 'ndwi_59.png', 'ndwi_6.png', 'ndwi_60.png', 'ndwi_61.png', 'ndwi_62.png', 'ndwi_63.png', 'ndwi_64.png', 'ndwi_65.png', 'ndwi_67.png', 'ndwi_70.png', 'ndwi_74.png', 'ndwi_75.png', 'ndwi_76.png', 'ndwi_77.png', 'ndwi_78.png', 'ndwi_79.png', 'ndwi_82.png', 'ndwi_83.png', 'ndwi_85.png', 'ndwi_86.png', 'ndwi_87.png', 'ndwi_88.png', 'ndwi_89.png', 'ndwi_9.png', 'ndwi_90.png', 'ndwi_92.png', 'ndwi_94.png', 'ndwi_95.png', 'ndwi_96.png']\n",
      "Creating and writing train-test split from file\n",
      "training_frames ['ndwi_18.png', 'ndwi_266.png', 'ndwi_82.png', 'ndwi_83.png', 'ndwi_526.png', 'ndwi_354.png', 'ndwi_345.png', 'ndwi_331.png', 'ndwi_474.png', 'ndwi_339.png', 'ndwi_103.png', 'ndwi_60.png', 'ndwi_359.png', 'ndwi_543.png', 'ndwi_133.png', 'ndwi_273.png', 'ndwi_300.png', 'ndwi_105.png', 'ndwi_508.png', 'ndwi_64.png', 'ndwi_274.png', 'ndwi_185.png', 'ndwi_375.png', 'ndwi_94.png', 'ndwi_10.png', 'ndwi_544.png', 'ndwi_343.png', 'ndwi_530.png', 'ndwi_70.png', 'ndwi_160.png', 'ndwi_497.png', 'ndwi_281.png', 'ndwi_24.png', 'ndwi_318.png', 'ndwi_461.png', 'ndwi_111.png', 'ndwi_41.png', 'ndwi_317.png', 'ndwi_248.png', 'ndwi_156.png', 'ndwi_264.png', 'ndwi_130.png', 'ndwi_172.png', 'ndwi_308.png', 'ndwi_228.png', 'ndwi_341.png', 'ndwi_45.png', 'ndwi_355.png', 'ndwi_360.png', 'ndwi_44.png', 'ndwi_263.png', 'ndwi_487.png', 'ndwi_254.png', 'ndwi_79.png', 'ndwi_463.png', 'ndwi_74.png', 'ndwi_12.png', 'ndwi_117.png', 'ndwi_234.png', 'ndwi_134.png', 'ndwi_261.png', 'ndwi_525.png', 'ndwi_242.png', 'ndwi_92.png', 'ndwi_336.png', 'ndwi_529.png', 'ndwi_104.png', 'ndwi_347.png', 'ndwi_62.png', 'ndwi_2.png', 'ndwi_507.png', 'ndwi_115.png', 'ndwi_285.png', 'ndwi_275.png', 'ndwi_95.png', 'ndwi_59.png', 'ndwi_96.png', 'ndwi_112.png', 'ndwi_258.png', 'ndwi_89.png', 'ndwi_21.png', 'ndwi_527.png', 'ndwi_38.png', 'ndwi_377.png', 'ndwi_49.png', 'ndwi_67.png', 'ndwi_396.png', 'ndwi_76.png', 'ndwi_304.png', 'ndwi_536.png', 'ndwi_490.png', 'ndwi_46.png', 'ndwi_510.png', 'ndwi_42.png', 'ndwi_509.png', 'ndwi_135.png', 'ndwi_522.png']\n",
      "validation_frames ['ndwi_256.png', 'ndwi_267.png', 'ndwi_358.png', 'ndwi_75.png', 'ndwi_65.png', 'ndwi_61.png', 'ndwi_311.png', 'ndwi_361.png', 'ndwi_121.png', 'ndwi_87.png', 'ndwi_349.png', 'ndwi_489.png', 'ndwi_63.png', 'ndwi_86.png', 'ndwi_338.png', 'ndwi_77.png', 'ndwi_145.png', 'ndwi_233.png', 'ndwi_52.png', 'ndwi_173.png', 'ndwi_528.png', 'ndwi_438.png', 'ndwi_518.png', 'ndwi_456.png', 'ndwi_356.png', 'ndwi_32.png', 'ndwi_56.png', 'ndwi_541.png', 'ndwi_334.png', 'ndwi_434.png', 'ndwi_114.png', 'ndwi_333.png', 'ndwi_47.png']\n",
      "testing_frames ['ndwi_321.png', 'ndwi_78.png', 'ndwi_9.png', 'ndwi_90.png', 'ndwi_88.png', 'ndwi_469.png', 'ndwi_34.png', 'ndwi_505.png', 'ndwi_357.png', 'ndwi_352.png', 'ndwi_11.png', 'ndwi_283.png', 'ndwi_102.png', 'ndwi_0.png', 'ndwi_351.png', 'ndwi_129.png', 'ndwi_58.png', 'ndwi_243.png', 'ndwi_128.png', 'ndwi_491.png', 'ndwi_3.png', 'ndwi_22.png', 'ndwi_335.png', 'ndwi_6.png', 'ndwi_521.png', 'ndwi_16.png', 'ndwi_520.png', 'ndwi_346.png', 'ndwi_301.png', 'ndwi_531.png', 'ndwi_387.png', 'ndwi_39.png', 'ndwi_85.png']\n"
     ]
    },
    {
     "data": {
      "text/plain": [
       "88"
      ]
     },
     "execution_count": 10,
     "metadata": {},
     "output_type": "execute_result"
    },
    {
     "name": "stdout",
     "output_type": "stream",
     "text": [
      "['ndwi_116.png', 'ndwi_122.png', 'ndwi_127.png', 'ndwi_137.png', 'ndwi_143.png', 'ndwi_150.png', 'ndwi_155.png', 'ndwi_157.png', 'ndwi_159.png', 'ndwi_161.png', 'ndwi_163.png', 'ndwi_167.png', 'ndwi_174.png', 'ndwi_175.png', 'ndwi_176.png', 'ndwi_179.png', 'ndwi_180.png', 'ndwi_182.png', 'ndwi_186.png', 'ndwi_20.png', 'ndwi_260.png', 'ndwi_262.png', 'ndwi_287.png', 'ndwi_289.png', 'ndwi_29.png', 'ndwi_290.png', 'ndwi_291.png', 'ndwi_292.png', 'ndwi_293.png', 'ndwi_294.png', 'ndwi_299.png', 'ndwi_302.png', 'ndwi_303.png', 'ndwi_305.png', 'ndwi_309.png', 'ndwi_316.png', 'ndwi_323.png', 'ndwi_324.png', 'ndwi_330.png', 'ndwi_364.png', 'ndwi_365.png', 'ndwi_371.png', 'ndwi_372.png', 'ndwi_373.png', 'ndwi_374.png', 'ndwi_379.png', 'ndwi_381.png', 'ndwi_383.png', 'ndwi_386.png', 'ndwi_388.png', 'ndwi_394.png', 'ndwi_399.png', 'ndwi_402.png', 'ndwi_403.png', 'ndwi_404.png', 'ndwi_405.png', 'ndwi_406.png', 'ndwi_410.png', 'ndwi_412.png', 'ndwi_413.png', 'ndwi_415.png', 'ndwi_416.png', 'ndwi_429.png', 'ndwi_436.png', 'ndwi_439.png', 'ndwi_440.png', 'ndwi_442.png', 'ndwi_443.png', 'ndwi_446.png', 'ndwi_447.png', 'ndwi_450.png', 'ndwi_454.png', 'ndwi_459.png', 'ndwi_464.png', 'ndwi_465.png', 'ndwi_473.png', 'ndwi_477.png', 'ndwi_479.png', 'ndwi_511.png', 'ndwi_512.png', 'ndwi_513.png', 'ndwi_515.png', 'ndwi_535.png', 'ndwi_7.png', 'ndwi_72.png', 'ndwi_73.png', 'ndwi_8.png', 'ndwi_81.png']\n",
      "Creating and writing train-test split from file\n",
      "training_frames ['ndwi_81.png', 'ndwi_167.png', 'ndwi_150.png', 'ndwi_305.png', 'ndwi_159.png', 'ndwi_163.png', 'ndwi_415.png', 'ndwi_442.png', 'ndwi_413.png', 'ndwi_443.png', 'ndwi_127.png', 'ndwi_176.png', 'ndwi_143.png', 'ndwi_436.png', 'ndwi_324.png', 'ndwi_374.png', 'ndwi_447.png', 'ndwi_403.png', 'ndwi_459.png', 'ndwi_29.png', 'ndwi_535.png', 'ndwi_299.png', 'ndwi_292.png', 'ndwi_412.png', 'ndwi_406.png', 'ndwi_386.png', 'ndwi_302.png', 'ndwi_365.png', 'ndwi_161.png', 'ndwi_477.png', 'ndwi_512.png', 'ndwi_309.png', 'ndwi_291.png', 'ndwi_429.png', 'ndwi_450.png', 'ndwi_182.png', 'ndwi_402.png', 'ndwi_262.png', 'ndwi_473.png', 'ndwi_394.png', 'ndwi_180.png', 'ndwi_316.png', 'ndwi_330.png', 'ndwi_175.png', 'ndwi_73.png', 'ndwi_440.png', 'ndwi_372.png', 'ndwi_388.png', 'ndwi_72.png', 'ndwi_287.png', 'ndwi_260.png', 'ndwi_454.png']\n",
      "validation_frames ['ndwi_399.png', 'ndwi_464.png', 'ndwi_323.png', 'ndwi_446.png', 'ndwi_404.png', 'ndwi_465.png', 'ndwi_293.png', 'ndwi_371.png', 'ndwi_379.png', 'ndwi_20.png', 'ndwi_8.png', 'ndwi_186.png', 'ndwi_515.png', 'ndwi_289.png', 'ndwi_7.png', 'ndwi_155.png', 'ndwi_294.png', 'ndwi_179.png']\n",
      "testing_frames ['ndwi_410.png', 'ndwi_122.png', 'ndwi_513.png', 'ndwi_373.png', 'ndwi_479.png', 'ndwi_157.png', 'ndwi_383.png', 'ndwi_364.png', 'ndwi_290.png', 'ndwi_405.png', 'ndwi_381.png', 'ndwi_174.png', 'ndwi_511.png', 'ndwi_116.png', 'ndwi_439.png', 'ndwi_137.png', 'ndwi_303.png', 'ndwi_416.png']\n"
     ]
    },
    {
     "data": {
      "text/plain": [
       "67"
      ]
     },
     "execution_count": 10,
     "metadata": {},
     "output_type": "execute_result"
    },
    {
     "name": "stdout",
     "output_type": "stream",
     "text": [
      "['ndwi_1.png', 'ndwi_110.png', 'ndwi_13.png', 'ndwi_14.png', 'ndwi_141.png', 'ndwi_187.png', 'ndwi_188.png', 'ndwi_189.png', 'ndwi_190.png', 'ndwi_191.png', 'ndwi_192.png', 'ndwi_193.png', 'ndwi_194.png', 'ndwi_195.png', 'ndwi_196.png', 'ndwi_197.png', 'ndwi_198.png', 'ndwi_199.png', 'ndwi_200.png', 'ndwi_201.png', 'ndwi_202.png', 'ndwi_203.png', 'ndwi_204.png', 'ndwi_205.png', 'ndwi_206.png', 'ndwi_207.png', 'ndwi_208.png', 'ndwi_209.png', 'ndwi_210.png', 'ndwi_211.png', 'ndwi_212.png', 'ndwi_213.png', 'ndwi_214.png', 'ndwi_215.png', 'ndwi_216.png', 'ndwi_217.png', 'ndwi_218.png', 'ndwi_219.png', 'ndwi_220.png', 'ndwi_221.png', 'ndwi_222.png', 'ndwi_223.png', 'ndwi_224.png', 'ndwi_225.png', 'ndwi_226.png', 'ndwi_227.png', 'ndwi_23.png', 'ndwi_240.png', 'ndwi_252.png', 'ndwi_284.png', 'ndwi_319.png', 'ndwi_322.png', 'ndwi_350.png', 'ndwi_4.png', 'ndwi_426.png', 'ndwi_435.png', 'ndwi_476.png', 'ndwi_498.png', 'ndwi_5.png', 'ndwi_501.png', 'ndwi_502.png', 'ndwi_503.png', 'ndwi_504.png', 'ndwi_506.png', 'ndwi_51.png', 'ndwi_54.png', 'ndwi_540.png']\n",
      "Creating and writing train-test split from file\n",
      "training_frames ['ndwi_196.png', 'ndwi_506.png', 'ndwi_207.png', 'ndwi_240.png', 'ndwi_203.png', 'ndwi_189.png', 'ndwi_504.png', 'ndwi_1.png', 'ndwi_141.png', 'ndwi_212.png', 'ndwi_217.png', 'ndwi_503.png', 'ndwi_195.png', 'ndwi_221.png', 'ndwi_284.png', 'ndwi_200.png', 'ndwi_54.png', 'ndwi_350.png', 'ndwi_198.png', 'ndwi_190.png', 'ndwi_5.png', 'ndwi_224.png', 'ndwi_205.png', 'ndwi_210.png', 'ndwi_227.png', 'ndwi_252.png', 'ndwi_193.png', 'ndwi_188.png', 'ndwi_215.png', 'ndwi_218.png', 'ndwi_501.png', 'ndwi_476.png', 'ndwi_4.png', 'ndwi_319.png', 'ndwi_435.png', 'ndwi_540.png', 'ndwi_192.png', 'ndwi_225.png', 'ndwi_223.png']\n",
      "validation_frames ['ndwi_191.png', 'ndwi_322.png', 'ndwi_208.png', 'ndwi_211.png', 'ndwi_226.png', 'ndwi_110.png', 'ndwi_51.png', 'ndwi_13.png', 'ndwi_498.png', 'ndwi_23.png', 'ndwi_199.png', 'ndwi_201.png', 'ndwi_209.png', 'ndwi_219.png']\n",
      "testing_frames ['ndwi_206.png', 'ndwi_194.png', 'ndwi_197.png', 'ndwi_220.png', 'ndwi_213.png', 'ndwi_187.png', 'ndwi_216.png', 'ndwi_502.png', 'ndwi_214.png', 'ndwi_426.png', 'ndwi_14.png', 'ndwi_222.png', 'ndwi_204.png', 'ndwi_202.png']\n"
     ]
    },
    {
     "data": {
      "text/plain": [
       "16"
      ]
     },
     "execution_count": 10,
     "metadata": {},
     "output_type": "execute_result"
    },
    {
     "name": "stdout",
     "output_type": "stream",
     "text": [
      "['ndwi_109.png', 'ndwi_118.png', 'ndwi_119.png', 'ndwi_124.png', 'ndwi_125.png', 'ndwi_162.png', 'ndwi_246.png', 'ndwi_249.png', 'ndwi_25.png', 'ndwi_366.png', 'ndwi_376.png', 'ndwi_378.png', 'ndwi_392.png', 'ndwi_407.png', 'ndwi_430.png', 'ndwi_53.png']\n",
      "Creating and writing train-test split from file\n",
      "training_frames ['ndwi_430.png', 'ndwi_378.png', 'ndwi_124.png', 'ndwi_249.png', 'ndwi_162.png', 'ndwi_53.png', 'ndwi_407.png', 'ndwi_109.png', 'ndwi_125.png']\n",
      "validation_frames ['ndwi_366.png', 'ndwi_25.png', 'ndwi_246.png']\n",
      "testing_frames ['ndwi_118.png', 'ndwi_392.png', 'ndwi_119.png', 'ndwi_376.png']\n"
     ]
    },
    {
     "data": {
      "text/plain": [
       "21"
      ]
     },
     "execution_count": 10,
     "metadata": {},
     "output_type": "execute_result"
    },
    {
     "name": "stdout",
     "output_type": "stream",
     "text": [
      "['ndwi_131.png', 'ndwi_138.png', 'ndwi_139.png', 'ndwi_146.png', 'ndwi_147.png', 'ndwi_148.png', 'ndwi_149.png', 'ndwi_183.png', 'ndwi_184.png', 'ndwi_244.png', 'ndwi_245.png', 'ndwi_250.png', 'ndwi_257.png', 'ndwi_310.png', 'ndwi_315.png', 'ndwi_390.png', 'ndwi_391.png', 'ndwi_408.png', 'ndwi_431.png', 'ndwi_432.png', 'ndwi_433.png']\n",
      "Creating and writing train-test split from file\n",
      "training_frames ['ndwi_184.png', 'ndwi_183.png', 'ndwi_149.png', 'ndwi_310.png', 'ndwi_147.png', 'ndwi_131.png', 'ndwi_432.png', 'ndwi_315.png', 'ndwi_250.png', 'ndwi_408.png', 'ndwi_431.png', 'ndwi_433.png']\n",
      "validation_frames ['ndwi_146.png', 'ndwi_391.png', 'ndwi_257.png', 'ndwi_139.png']\n",
      "testing_frames ['ndwi_390.png', 'ndwi_138.png', 'ndwi_244.png', 'ndwi_245.png', 'ndwi_148.png']\n"
     ]
    }
   ],
   "source": [
    "# split dataset and remove images & annotations to new directory\n",
    "for i in range(0,type_num):\n",
    "    frames = []\n",
    "    frames_json = os.path.join(patch_dir,'frames_list{}.json'.format(i))\n",
    "    patch_output = os.path.join(dataset_dir,'output550\\output{}'.format(i))\n",
    "    all_files = os.listdir(patch_output)\n",
    "    all_files_NDWI = [fn for fn in all_files if fn.startswith(NDWI_fn) and fn.endswith(image_type)]#ndwi.png\n",
    "    len(all_files_NDWI)\n",
    "    print(all_files_NDWI)\n",
    "\n",
    "    if os.path.isfile(frames_json):\n",
    "            print(\"images had been removed\")\n",
    "    else:\n",
    "            print(\"Creating and writing train-test split from file\")\n",
    "            frames_list = list(range(len(all_files_NDWI)))\n",
    "            \n",
    "            # Divide into training and test set       \n",
    "            training_frames, testing_frames = train_test_split(frames_list, test_size=test_ratio)\n",
    "            # Further divide into training set into training and validataion set              \n",
    "            training_frames, validation_frames = train_test_split(training_frames, test_size=val_ratio)\n",
    "            \n",
    "            training_frames_name=[all_files_NDWI[id] for id in training_frames]\n",
    "            testing_frames_name=[all_files_NDWI[id] for id in testing_frames]\n",
    "            validation_frames_name=[all_files_NDWI[id] for id in validation_frames]\n",
    "            \n",
    "            #train data are classified into different dirs for following process.\n",
    "            for train_fn in training_frames_name:\n",
    "                removeFileinType(i,'train',train_fn)\n",
    "            for testing_fn in testing_frames_name:\n",
    "                removeFileinType(i,'test',testing_fn) \n",
    "            for validation_fn in validation_frames_name:\n",
    "                removeFileinType(i,'val',validation_fn)\n",
    "                \n",
    "            frame_split = {\n",
    "                'training_frames': training_frames_name,\n",
    "                'testing_frames': testing_frames_name,\n",
    "                'validation_frames': validation_frames_name\n",
    "            }\n",
    "            \n",
    "            if not os.path.exists(patch_dir):\n",
    "                os.makedirs(patch_dir)\n",
    "            with open(frames_json, 'w') as f:\n",
    "                json.dump(frame_split, f)\n",
    "                \n",
    "            print('training_frames', training_frames_name)\n",
    "            print('validation_frames',validation_frames_name )\n",
    "            print('testing_frames', testing_frames_name)"
   ]
  },
  {
   "cell_type": "code",
   "execution_count": null,
   "metadata": {},
   "outputs": [],
   "source": []
  }
 ],
 "metadata": {
  "kernelspec": {
   "display_name": "lake_env",
   "language": "python",
   "name": "lake_env"
  },
  "language_info": {
   "codemirror_mode": {
    "name": "ipython",
    "version": 3
   },
   "file_extension": ".py",
   "mimetype": "text/x-python",
   "name": "python",
   "nbconvert_exporter": "python",
   "pygments_lexer": "ipython3",
   "version": "3.8.18"
  }
 },
 "nbformat": 4,
 "nbformat_minor": 4
}
