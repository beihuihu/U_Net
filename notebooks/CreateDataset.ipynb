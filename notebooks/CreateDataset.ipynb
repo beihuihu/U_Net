{
 "cells": [
  {
   "cell_type": "code",
   "execution_count": 6,
   "metadata": {},
   "outputs": [],
   "source": [
    "import os\n",
    "import json\n",
    "from sklearn.model_selection import train_test_split\n",
    "import shutil"
   ]
  },
  {
   "cell_type": "code",
   "execution_count": 7,
   "metadata": {},
   "outputs": [],
   "source": [
    "# base_dir = r'D:\\lakemapping\\U_Net'\n",
    "# dataset_dir=r'D:\\lakemapping\\2_dataset'\n",
    "base_dir = r'/media/nkd/backup/5_lakemapping/U_Net'\n",
    "dataset_dir=r'/media/nkd/backup/5_lakemapping/sample600'\n",
    "image_type = '.png'       \n",
    "NDWI_fn = 'ndwi'\n",
    "red_fn = 'red'\n",
    "blue_fn = 'blue'\n",
    "green_fn = 'green'\n",
    "swir_fn = 'swir'\n",
    "annotation_fn = 'annotation'\n",
    "type_num=6\n",
    "patch_size = (512,512,6) \n",
    "patch_dir = os.path.join(base_dir,'patches{}'.format(patch_size[0])) \n",
    "# The training areas are divided into training, validation and testing set. Note that training area can have different sizes, so it doesn't guarantee that the final generated patches (when using sequential stratergy) will be in the same ratio.\n",
    "test_ratio = 0.2\n",
    "val_ratio = 0.25"
   ]
  },
  {
   "cell_type": "markdown",
   "metadata": {},
   "source": [
    "## 划分数据集\n",
    "从output文件夹存储到patchReshape文件夹，train和test按类别type分别存储"
   ]
  },
  {
   "cell_type": "code",
   "execution_count": 8,
   "metadata": {},
   "outputs": [],
   "source": [
    "#hbh: check whether the output dir(must be present) of each type is empty\n",
    "for i in range(0,type_num):\n",
    "    path_to_write=os.path.join(dataset_dir,'output/output{}'.format(i))\n",
    "    assert os.path.exists(path_to_write)\n",
    "    if len(os.listdir(path_to_write))==0:\n",
    "         print('Warning: path_to_write{} is empty!'.format(i))"
   ]
  },
  {
   "cell_type": "code",
   "execution_count": 9,
   "metadata": {},
   "outputs": [],
   "source": [
    "def removeFileinType(lakeType,patchType,fn):\n",
    "    output_dir=os.path.join(dataset_dir,r'patchesReshape/{}/type{}'.format(patchType,lakeType))\n",
    "    if not os.path.exists(output_dir):\n",
    "        os.makedirs(output_dir)\n",
    "    remove(output_dir,fn)\n",
    "    remove(output_dir,fn.replace(NDWI_fn,annotation_fn))\n",
    "    remove(output_dir,fn.replace(NDWI_fn,red_fn))\n",
    "    remove(output_dir,fn.replace(NDWI_fn,green_fn))\n",
    "    remove(output_dir,fn.replace(NDWI_fn,blue_fn))\n",
    "    remove(output_dir,fn.replace(NDWI_fn,swir_fn))\n",
    "    \n",
    "def remove(output_dir,fn):\n",
    "    new=os.path.join(output_dir,fn)\n",
    "    old=os.path.join(patch_output,fn)\n",
    "    shutil.copy(old, new)"
   ]
  },
  {
   "cell_type": "code",
   "execution_count": 10,
   "metadata": {
    "scrolled": true
   },
   "outputs": [
    {
     "name": "stdout",
     "output_type": "stream",
     "text": [
      "['ndwi_6870.png', 'ndwi_6923.png', 'ndwi_7006.png', 'ndwi_8791.png', 'ndwi_8960.png', 'ndwi_8992.png', 'ndwi_9010.png', 'ndwi_9011.png', 'ndwi_9070.png', 'ndwi_9080.png', 'ndwi_9081.png', 'ndwi_9082.png', 'ndwi_9093.png', 'ndwi_9115.png', 'ndwi_9178.png', 'ndwi_5969.png', 'ndwi_8658.png', 'ndwi_8870.png', 'ndwi_147.png', 'ndwi_168.png', 'ndwi_178.png', 'ndwi_343.png', 'ndwi_863.png', 'ndwi_1260.png', 'ndwi_1625.png', 'ndwi_1652.png', 'ndwi_1565.png', 'ndwi_1621.png', 'ndwi_1673.png', 'ndwi_1704.png', 'ndwi_1712.png', 'ndwi_1727.png', 'ndwi_1903.png', 'ndwi_1941.png', 'ndwi_1963.png', 'ndwi_2051.png', 'ndwi_2320.png', 'ndwi_2433.png', 'ndwi_2589.png', 'ndwi_2720.png', 'ndwi_2893.png', 'ndwi_2923.png', 'ndwi_1972.png', 'ndwi_3015.png', 'ndwi_3058.png', 'ndwi_3250.png', 'ndwi_3272.png', 'ndwi_3444.png', 'ndwi_3445.png', 'ndwi_3472.png', 'ndwi_3599.png', 'ndwi_3601.png', 'ndwi_3610.png', 'ndwi_3634.png', 'ndwi_3638.png', 'ndwi_3645.png', 'ndwi_3659.png', 'ndwi_3922.png', 'ndwi_3924.png', 'ndwi_4009.png', 'ndwi_4735.png', 'ndwi_4773.png', 'ndwi_4807.png', 'ndwi_4846.png', 'ndwi_5042.png', 'ndwi_5057.png', 'ndwi_5085.png', 'ndwi_5093.png', 'ndwi_5596.png', 'ndwi_5717.png', 'ndwi_5732.png', 'ndwi_5784.png', 'ndwi_5897.png', 'ndwi_5986.png', 'ndwi_5999.png', 'ndwi_6305.png', 'ndwi_6369.png', 'ndwi_6423.png', 'ndwi_6477.png', 'ndwi_6485.png', 'ndwi_6504.png', 'ndwi_6549.png', 'ndwi_6555.png', 'ndwi_6576.png', 'ndwi_6601.png', 'ndwi_6634.png', 'ndwi_6664.png', 'ndwi_6723.png', 'ndwi_6735.png', 'ndwi_7105.png', 'ndwi_7169.png', 'ndwi_7203.png', 'ndwi_7230.png', 'ndwi_7322.png', 'ndwi_7341.png', 'ndwi_7393.png', 'ndwi_7400.png', 'ndwi_7427.png', 'ndwi_7499.png', 'ndwi_7531.png', 'ndwi_7548.png', 'ndwi_7578.png', 'ndwi_7648.png', 'ndwi_7724.png', 'ndwi_7733.png', 'ndwi_7752.png', 'ndwi_7776.png', 'ndwi_7796.png', 'ndwi_7815.png', 'ndwi_7889.png', 'ndwi_7993.png', 'ndwi_8038.png', 'ndwi_8043.png', 'ndwi_8103.png', 'ndwi_8150.png', 'ndwi_8166.png', 'ndwi_8199.png', 'ndwi_8212.png', 'ndwi_8250.png', 'ndwi_8517.png', 'ndwi_8603.png', 'ndwi_8667.png', 'ndwi_8834.png', 'ndwi_9044.png', 'ndwi_9547.png', 'ndwi_9653.png', 'ndwi_9697.png', 'ndwi_9732.png', 'ndwi_9766.png', 'ndwi_9792.png', 'ndwi_9890.png', 'ndwi_9921.png', 'ndwi_9945.png', 'ndwi_9959.png', 'ndwi_9973.png', 'ndwi_10031.png', 'ndwi_10150.png', 'ndwi_10174.png', 'ndwi_10332.png', 'ndwi_10358.png', 'ndwi_10383.png', 'ndwi_10408.png', 'ndwi_10689.png', 'ndwi_10713.png', 'ndwi_10856.png', 'ndwi_10892.png', 'ndwi_10928.png', 'ndwi_11081.png', 'ndwi_11289.png', 'ndwi_11306.png', 'ndwi_11324.png', 'ndwi_11383.png', 'ndwi_11428.png', 'ndwi_11490.png', 'ndwi_11601.png', 'ndwi_11664.png', 'ndwi_11740.png', 'ndwi_11773.png', 'ndwi_11904.png', 'ndwi_12000.png', 'ndwi_12234.png', 'ndwi_12262.png', 'ndwi_12277.png', 'ndwi_12312.png', 'ndwi_12344.png', 'ndwi_12351.png', 'ndwi_12389.png', 'ndwi_12395.png', 'ndwi_12443.png', 'ndwi_12455.png', 'ndwi_12596.png', 'ndwi_12602.png', 'ndwi_12637.png', 'ndwi_12666.png', 'ndwi_12688.png', 'ndwi_12821.png', 'ndwi_12843.png', 'ndwi_13177.png', 'ndwi_13224.png', 'ndwi_13251.png', 'ndwi_13307.png', 'ndwi_13362.png', 'ndwi_13407.png', 'ndwi_13554.png', 'ndwi_13582.png', 'ndwi_13618.png', 'ndwi_13705.png', 'ndwi_13742.png', 'ndwi_13748.png', 'ndwi_13830.png', 'ndwi_13928.png', 'ndwi_13944.png', 'ndwi_13962.png', 'ndwi_13979.png', 'ndwi_14006.png', 'ndwi_14077.png', 'ndwi_14084.png', 'ndwi_14111.png', 'ndwi_14206.png', 'ndwi_14422.png', 'ndwi_14449.png', 'ndwi_14494.png', 'ndwi_14689.png', 'ndwi_14735.png', 'ndwi_14753.png', 'ndwi_14781.png', 'ndwi_14807.png', 'ndwi_14836.png', 'ndwi_14857.png', 'ndwi_14862.png', 'ndwi_14872.png', 'ndwi_14926.png', 'ndwi_14947.png', 'ndwi_14975.png', 'ndwi_14997.png', 'ndwi_14914.png', 'ndwi_15009.png']\n",
      "Creating and writing train-test split from file\n",
      "training_frames ['ndwi_11428.png', 'ndwi_2589.png', 'ndwi_6477.png', 'ndwi_2051.png', 'ndwi_7796.png', 'ndwi_13407.png', 'ndwi_9697.png', 'ndwi_14006.png', 'ndwi_9178.png', 'ndwi_9732.png', 'ndwi_7776.png', 'ndwi_8103.png', 'ndwi_7400.png', 'ndwi_12443.png', 'ndwi_6423.png', 'ndwi_9081.png', 'ndwi_14689.png', 'ndwi_8166.png', 'ndwi_8791.png', 'ndwi_7993.png', 'ndwi_8043.png', 'ndwi_13928.png', 'ndwi_11324.png', 'ndwi_3645.png', 'ndwi_7733.png', 'ndwi_11383.png', 'ndwi_11904.png', 'ndwi_6369.png', 'ndwi_168.png', 'ndwi_1625.png', 'ndwi_11289.png', 'ndwi_12637.png', 'ndwi_4807.png', 'ndwi_10713.png', 'ndwi_14084.png', 'ndwi_7752.png', 'ndwi_1941.png', 'ndwi_1621.png', 'ndwi_10928.png', 'ndwi_3659.png', 'ndwi_12843.png', 'ndwi_9082.png', 'ndwi_5784.png', 'ndwi_3634.png', 'ndwi_5986.png', 'ndwi_14753.png', 'ndwi_14862.png', 'ndwi_12688.png', 'ndwi_14781.png', 'ndwi_7889.png', 'ndwi_14449.png', 'ndwi_12602.png', 'ndwi_6664.png', 'ndwi_13705.png', 'ndwi_12344.png', 'ndwi_1652.png', 'ndwi_14422.png', 'ndwi_13830.png', 'ndwi_7169.png', 'ndwi_4846.png', 'ndwi_15009.png', 'ndwi_6549.png', 'ndwi_3445.png', 'ndwi_5732.png', 'ndwi_2720.png', 'ndwi_13979.png', 'ndwi_3610.png', 'ndwi_5057.png', 'ndwi_1903.png', 'ndwi_3015.png', 'ndwi_12455.png', 'ndwi_7648.png', 'ndwi_10150.png', 'ndwi_14836.png', 'ndwi_7531.png', 'ndwi_3601.png', 'ndwi_3638.png', 'ndwi_5999.png', 'ndwi_1260.png', 'ndwi_12666.png', 'ndwi_11306.png', 'ndwi_8038.png', 'ndwi_7230.png', 'ndwi_147.png', 'ndwi_12821.png', 'ndwi_3250.png', 'ndwi_12389.png', 'ndwi_10856.png', 'ndwi_13748.png', 'ndwi_8870.png', 'ndwi_8212.png', 'ndwi_4009.png', 'ndwi_14947.png', 'ndwi_7105.png', 'ndwi_10408.png', 'ndwi_7006.png', 'ndwi_7499.png', 'ndwi_12000.png', 'ndwi_9792.png', 'ndwi_3472.png', 'ndwi_11740.png', 'ndwi_13962.png', 'ndwi_6555.png', 'ndwi_8199.png', 'ndwi_13307.png', 'ndwi_7548.png', 'ndwi_9115.png', 'ndwi_14111.png', 'ndwi_2893.png', 'ndwi_10892.png', 'ndwi_5596.png', 'ndwi_7341.png', 'ndwi_6735.png', 'ndwi_6601.png', 'ndwi_10358.png', 'ndwi_14975.png', 'ndwi_8658.png', 'ndwi_14206.png', 'ndwi_8992.png', 'ndwi_13618.png', 'ndwi_13944.png', 'ndwi_1972.png', 'ndwi_14872.png', 'ndwi_5717.png', 'ndwi_14807.png', 'ndwi_14914.png', 'ndwi_14997.png', 'ndwi_9945.png', 'ndwi_10174.png']\n",
      "validation_frames ['ndwi_7322.png', 'ndwi_6634.png', 'ndwi_9973.png', 'ndwi_9070.png', 'ndwi_3924.png', 'ndwi_7427.png', 'ndwi_1704.png', 'ndwi_6923.png', 'ndwi_8834.png', 'ndwi_5042.png', 'ndwi_12395.png', 'ndwi_6504.png', 'ndwi_7815.png', 'ndwi_3599.png', 'ndwi_1565.png', 'ndwi_9547.png', 'ndwi_9011.png', 'ndwi_9959.png', 'ndwi_11081.png', 'ndwi_6870.png', 'ndwi_11773.png', 'ndwi_14857.png', 'ndwi_5093.png', 'ndwi_4773.png', 'ndwi_10332.png', 'ndwi_6576.png', 'ndwi_8150.png', 'ndwi_7724.png', 'ndwi_7203.png', 'ndwi_2923.png', 'ndwi_863.png', 'ndwi_10383.png', 'ndwi_2433.png', 'ndwi_5897.png', 'ndwi_13582.png', 'ndwi_1963.png', 'ndwi_12262.png', 'ndwi_8667.png', 'ndwi_5969.png', 'ndwi_4735.png', 'ndwi_7578.png', 'ndwi_9890.png', 'ndwi_9766.png', 'ndwi_7393.png']\n",
      "testing_frames ['ndwi_11490.png', 'ndwi_3922.png', 'ndwi_6723.png', 'ndwi_6485.png', 'ndwi_343.png', 'ndwi_9080.png', 'ndwi_1727.png', 'ndwi_5085.png', 'ndwi_178.png', 'ndwi_13251.png', 'ndwi_9010.png', 'ndwi_8960.png', 'ndwi_9921.png', 'ndwi_13554.png', 'ndwi_1712.png', 'ndwi_3444.png', 'ndwi_14735.png', 'ndwi_12312.png', 'ndwi_2320.png', 'ndwi_13362.png', 'ndwi_9044.png', 'ndwi_3272.png', 'ndwi_6305.png', 'ndwi_9653.png', 'ndwi_12351.png', 'ndwi_11664.png', 'ndwi_12234.png', 'ndwi_10031.png', 'ndwi_8603.png', 'ndwi_12596.png', 'ndwi_8517.png', 'ndwi_10689.png', 'ndwi_11601.png', 'ndwi_14926.png', 'ndwi_1673.png', 'ndwi_13742.png', 'ndwi_13224.png', 'ndwi_14077.png', 'ndwi_9093.png', 'ndwi_13177.png', 'ndwi_3058.png', 'ndwi_8250.png', 'ndwi_14494.png', 'ndwi_12277.png']\n",
      "['ndwi_5213.png', 'ndwi_5108.png', 'ndwi_5109.png', 'ndwi_5041.png', 'ndwi_5140.png', 'ndwi_5150.png', 'ndwi_5209.png', 'ndwi_5237.png', 'ndwi_6881.png', 'ndwi_6948.png', 'ndwi_7064.png', 'ndwi_8661.png', 'ndwi_8671.png', 'ndwi_9068.png', 'ndwi_9078.png', 'ndwi_9088.png', 'ndwi_9089.png', 'ndwi_9095.png', 'ndwi_9105.png', 'ndwi_9116.png', 'ndwi_9117.png', 'ndwi_9169.png', 'ndwi_9172.png', 'ndwi_5277.png', 'ndwi_6102.png', 'ndwi_8735.png', 'ndwi_56.png', 'ndwi_65.png', 'ndwi_66.png', 'ndwi_85.png', 'ndwi_91.png', 'ndwi_96.png', 'ndwi_102.png', 'ndwi_115.png', 'ndwi_149.png', 'ndwi_213.png', 'ndwi_520.png', 'ndwi_646.png', 'ndwi_648.png', 'ndwi_658.png', 'ndwi_759.png', 'ndwi_862.png', 'ndwi_995.png', 'ndwi_1013.png', 'ndwi_1319.png', 'ndwi_1397.png', 'ndwi_1402.png', 'ndwi_1403.png', 'ndwi_1421.png', 'ndwi_1538.png', 'ndwi_1638.png', 'ndwi_455.png', 'ndwi_1452.png', 'ndwi_1543.png', 'ndwi_1773.png', 'ndwi_1786.png', 'ndwi_1800.png', 'ndwi_1858.png', 'ndwi_1978.png', 'ndwi_1992.png', 'ndwi_2056.png', 'ndwi_2067.png', 'ndwi_2107.png', 'ndwi_2355.png', 'ndwi_2810.png', 'ndwi_2827.png', 'ndwi_2896.png', 'ndwi_2913.png', 'ndwi_2922.png', 'ndwi_3090.png', 'ndwi_3458.png', 'ndwi_3531.png', 'ndwi_3690.png', 'ndwi_3703.png', 'ndwi_4467.png', 'ndwi_4978.png', 'ndwi_5017.png', 'ndwi_5296.png', 'ndwi_5771.png', 'ndwi_6813.png', 'ndwi_7116.png', 'ndwi_7513.png', 'ndwi_7601.png', 'ndwi_7653.png', 'ndwi_7763.png', 'ndwi_7875.png', 'ndwi_8069.png', 'ndwi_8074.png', 'ndwi_8303.png', 'ndwi_8318.png', 'ndwi_8522.png', 'ndwi_8681.png', 'ndwi_8876.png', 'ndwi_8966.png', 'ndwi_9211.png', 'ndwi_9238.png', 'ndwi_9263.png', 'ndwi_9604.png', 'ndwi_9618.png', 'ndwi_9816.png', 'ndwi_9847.png', 'ndwi_9875.png', 'ndwi_10017.png', 'ndwi_10077.png', 'ndwi_10125.png', 'ndwi_10457.png', 'ndwi_10493.png', 'ndwi_10592.png', 'ndwi_10738.png', 'ndwi_10830.png', 'ndwi_11020.png', 'ndwi_11024.png', 'ndwi_11148.png', 'ndwi_11473.png', 'ndwi_11516.png', 'ndwi_11555.png', 'ndwi_11562.png', 'ndwi_11581.png', 'ndwi_11624.png', 'ndwi_11632.png', 'ndwi_11676.png', 'ndwi_11765.png', 'ndwi_11814.png', 'ndwi_11841.png', 'ndwi_11877.png', 'ndwi_11920.png', 'ndwi_11968.png', 'ndwi_11983.png', 'ndwi_12040.png', 'ndwi_12072.png', 'ndwi_12120.png', 'ndwi_12126.png', 'ndwi_12164.png', 'ndwi_12193.png', 'ndwi_12197.png', 'ndwi_12221.png', 'ndwi_12449.png', 'ndwi_12492.png', 'ndwi_12506.png', 'ndwi_12539.png', 'ndwi_12722.png', 'ndwi_12960.png', 'ndwi_13010.png', 'ndwi_13031.png', 'ndwi_13036.png', 'ndwi_13063.png', 'ndwi_13294.png', 'ndwi_13324.png', 'ndwi_13346.png', 'ndwi_13347.png', 'ndwi_13411.png', 'ndwi_13444.png', 'ndwi_13451.png', 'ndwi_13478.png', 'ndwi_13494.png', 'ndwi_13512.png', 'ndwi_13538.png', 'ndwi_13663.png', 'ndwi_13816.png', 'ndwi_13885.png', 'ndwi_13891.png', 'ndwi_14042.png', 'ndwi_14147.png', 'ndwi_14241.png', 'ndwi_14277.png', 'ndwi_14312.png', 'ndwi_14346.png', 'ndwi_14370.png', 'ndwi_14416.png', 'ndwi_14500.png', 'ndwi_14541.png', 'ndwi_14557.png', 'ndwi_14583.png', 'ndwi_14600.png', 'ndwi_14624.png', 'ndwi_14674.png', 'ndwi_14682.png', 'ndwi_14698.png', 'ndwi_15054.png', 'ndwi_15277.png', 'ndwi_15346.png', 'ndwi_15355.png', 'ndwi_43.png', 'ndwi_2796.png']\n",
      "Creating and writing train-test split from file\n",
      "training_frames ['ndwi_8303.png', 'ndwi_7875.png', 'ndwi_2827.png', 'ndwi_3458.png', 'ndwi_14624.png', 'ndwi_9088.png', 'ndwi_5209.png', 'ndwi_11024.png', 'ndwi_11877.png', 'ndwi_3690.png', 'ndwi_11148.png', 'ndwi_14557.png', 'ndwi_13663.png', 'ndwi_1403.png', 'ndwi_12120.png', 'ndwi_1397.png', 'ndwi_115.png', 'ndwi_12164.png', 'ndwi_12193.png', 'ndwi_520.png', 'ndwi_5150.png', 'ndwi_11920.png', 'ndwi_3703.png', 'ndwi_1319.png', 'ndwi_5213.png', 'ndwi_6813.png', 'ndwi_759.png', 'ndwi_11983.png', 'ndwi_13346.png', 'ndwi_9117.png', 'ndwi_8074.png', 'ndwi_11968.png', 'ndwi_6102.png', 'ndwi_1013.png', 'ndwi_2067.png', 'ndwi_10457.png', 'ndwi_9263.png', 'ndwi_455.png', 'ndwi_9618.png', 'ndwi_646.png', 'ndwi_2896.png', 'ndwi_7763.png', 'ndwi_7064.png', 'ndwi_13324.png', 'ndwi_5108.png', 'ndwi_91.png', 'ndwi_10738.png', 'ndwi_12449.png', 'ndwi_8522.png', 'ndwi_7601.png', 'ndwi_2810.png', 'ndwi_13451.png', 'ndwi_1978.png', 'ndwi_9068.png', 'ndwi_11632.png', 'ndwi_11765.png', 'ndwi_9116.png', 'ndwi_14042.png', 'ndwi_12221.png', 'ndwi_14277.png', 'ndwi_13010.png', 'ndwi_13494.png', 'ndwi_1421.png', 'ndwi_12126.png', 'ndwi_149.png', 'ndwi_5296.png', 'ndwi_14416.png', 'ndwi_1538.png', 'ndwi_2355.png', 'ndwi_7513.png', 'ndwi_96.png', 'ndwi_14370.png', 'ndwi_13891.png', 'ndwi_14147.png', 'ndwi_13512.png', 'ndwi_14600.png', 'ndwi_12040.png', 'ndwi_10125.png', 'ndwi_11555.png', 'ndwi_2796.png', 'ndwi_11814.png', 'ndwi_9847.png', 'ndwi_7116.png', 'ndwi_9604.png', 'ndwi_8318.png', 'ndwi_6881.png', 'ndwi_8661.png', 'ndwi_9105.png', 'ndwi_11473.png', 'ndwi_13411.png', 'ndwi_8876.png', 'ndwi_4978.png', 'ndwi_66.png', 'ndwi_1786.png', 'ndwi_1992.png', 'ndwi_9095.png', 'ndwi_14682.png', 'ndwi_43.png', 'ndwi_15054.png', 'ndwi_4467.png', 'ndwi_14241.png', 'ndwi_13478.png', 'ndwi_9172.png', 'ndwi_13444.png', 'ndwi_2922.png', 'ndwi_14346.png', 'ndwi_13063.png', 'ndwi_15277.png', 'ndwi_13036.png', 'ndwi_3531.png']\n",
      "validation_frames ['ndwi_2056.png', 'ndwi_11624.png', 'ndwi_11516.png', 'ndwi_658.png', 'ndwi_1452.png', 'ndwi_10077.png', 'ndwi_13347.png', 'ndwi_12960.png', 'ndwi_5017.png', 'ndwi_5109.png', 'ndwi_11676.png', 'ndwi_648.png', 'ndwi_65.png', 'ndwi_1402.png', 'ndwi_995.png', 'ndwi_8681.png', 'ndwi_14674.png', 'ndwi_13538.png', 'ndwi_3090.png', 'ndwi_13885.png', 'ndwi_11020.png', 'ndwi_15355.png', 'ndwi_5140.png', 'ndwi_7653.png', 'ndwi_9078.png', 'ndwi_6948.png', 'ndwi_10017.png', 'ndwi_1800.png', 'ndwi_12506.png', 'ndwi_1773.png', 'ndwi_9816.png', 'ndwi_11841.png', 'ndwi_14541.png', 'ndwi_10592.png', 'ndwi_102.png', 'ndwi_12492.png', 'ndwi_14312.png']\n",
      "testing_frames ['ndwi_5277.png', 'ndwi_9875.png', 'ndwi_12722.png', 'ndwi_15346.png', 'ndwi_11562.png', 'ndwi_213.png', 'ndwi_85.png', 'ndwi_2107.png', 'ndwi_13294.png', 'ndwi_9169.png', 'ndwi_1543.png', 'ndwi_14500.png', 'ndwi_10830.png', 'ndwi_2913.png', 'ndwi_13031.png', 'ndwi_862.png', 'ndwi_13816.png', 'ndwi_12072.png', 'ndwi_9238.png', 'ndwi_5771.png', 'ndwi_1858.png', 'ndwi_5237.png', 'ndwi_9089.png', 'ndwi_8966.png', 'ndwi_8069.png', 'ndwi_8671.png', 'ndwi_14698.png', 'ndwi_5041.png', 'ndwi_8735.png', 'ndwi_1638.png', 'ndwi_12197.png', 'ndwi_11581.png', 'ndwi_14583.png', 'ndwi_10493.png', 'ndwi_12539.png', 'ndwi_9211.png', 'ndwi_56.png']\n",
      "['ndwi_5087.png', 'ndwi_5116.png', 'ndwi_7032.png', 'ndwi_8999.png', 'ndwi_347.png', 'ndwi_349.png', 'ndwi_933.png', 'ndwi_2094.png', 'ndwi_2561.png', 'ndwi_2739.png', 'ndwi_2929.png', 'ndwi_3023.png', 'ndwi_3205.png', 'ndwi_3454.png', 'ndwi_3461.png', 'ndwi_3501.png', 'ndwi_3535.png', 'ndwi_3565.png', 'ndwi_3624.png', 'ndwi_3876.png', 'ndwi_3886.png', 'ndwi_3921.png', 'ndwi_3928.png', 'ndwi_3932.png', 'ndwi_4030.png', 'ndwi_4482.png', 'ndwi_4582.png', 'ndwi_4631.png', 'ndwi_4850.png', 'ndwi_4886.png', 'ndwi_4917.png', 'ndwi_4976.png', 'ndwi_5039.png', 'ndwi_5053.png', 'ndwi_5062.png', 'ndwi_5123.png', 'ndwi_5560.png', 'ndwi_5719.png', 'ndwi_5919.png', 'ndwi_6193.png', 'ndwi_6182.png', 'ndwi_6217.png', 'ndwi_6226.png', 'ndwi_6233.png', 'ndwi_6339.png', 'ndwi_6377.png', 'ndwi_6402.png', 'ndwi_6445.png', 'ndwi_6448.png', 'ndwi_6741.png', 'ndwi_7084.png', 'ndwi_7117.png', 'ndwi_7156.png', 'ndwi_7192.png', 'ndwi_7196.png', 'ndwi_7249.png', 'ndwi_7255.png', 'ndwi_7366.png', 'ndwi_7453.png', 'ndwi_7564.png', 'ndwi_7693.png', 'ndwi_7704.png', 'ndwi_7853.png', 'ndwi_7906.png', 'ndwi_8000.png', 'ndwi_9200.png', 'ndwi_9228.png', 'ndwi_10171.png', 'ndwi_10198.png', 'ndwi_10203.png', 'ndwi_10228.png', 'ndwi_10247.png', 'ndwi_10277.png', 'ndwi_10324.png', 'ndwi_10413.png', 'ndwi_10531.png', 'ndwi_10557.png', 'ndwi_10636.png', 'ndwi_10786.png', 'ndwi_10979.png', 'ndwi_11234.png', 'ndwi_11238.png', 'ndwi_11432.png', 'ndwi_13105.png', 'ndwi_13119.png', 'ndwi_13153.png', 'ndwi_13198.png', 'ndwi_13624.png']\n",
      "Creating and writing train-test split from file\n",
      "training_frames ['ndwi_10979.png', 'ndwi_3876.png', 'ndwi_6402.png', 'ndwi_13198.png', 'ndwi_6377.png', 'ndwi_10171.png', 'ndwi_5062.png', 'ndwi_5560.png', 'ndwi_7192.png', 'ndwi_5039.png', 'ndwi_7156.png', 'ndwi_6233.png', 'ndwi_2561.png', 'ndwi_3501.png', 'ndwi_10247.png', 'ndwi_4850.png', 'ndwi_6193.png', 'ndwi_7704.png', 'ndwi_4631.png', 'ndwi_7117.png', 'ndwi_6741.png', 'ndwi_4030.png', 'ndwi_10324.png', 'ndwi_7564.png', 'ndwi_3535.png', 'ndwi_13105.png', 'ndwi_2739.png', 'ndwi_10413.png', 'ndwi_2094.png', 'ndwi_3454.png', 'ndwi_13153.png', 'ndwi_5919.png', 'ndwi_7693.png', 'ndwi_7366.png', 'ndwi_9228.png', 'ndwi_5719.png', 'ndwi_4976.png', 'ndwi_7853.png', 'ndwi_4886.png', 'ndwi_13624.png', 'ndwi_4482.png', 'ndwi_3624.png', 'ndwi_3928.png', 'ndwi_6448.png', 'ndwi_6217.png', 'ndwi_10636.png', 'ndwi_7249.png', 'ndwi_933.png', 'ndwi_11432.png', 'ndwi_9200.png', 'ndwi_10786.png', 'ndwi_7032.png']\n",
      "validation_frames ['ndwi_6445.png', 'ndwi_5087.png', 'ndwi_8000.png', 'ndwi_3565.png', 'ndwi_6182.png', 'ndwi_7255.png', 'ndwi_5123.png', 'ndwi_3205.png', 'ndwi_3886.png', 'ndwi_7196.png', 'ndwi_10531.png', 'ndwi_7453.png', 'ndwi_4917.png', 'ndwi_8999.png', 'ndwi_3023.png', 'ndwi_10557.png', 'ndwi_4582.png', 'ndwi_10277.png']\n",
      "testing_frames ['ndwi_6226.png', 'ndwi_10203.png', 'ndwi_5053.png', 'ndwi_10228.png', 'ndwi_7906.png', 'ndwi_5116.png', 'ndwi_11234.png', 'ndwi_3461.png', 'ndwi_7084.png', 'ndwi_3921.png', 'ndwi_347.png', 'ndwi_3932.png', 'ndwi_11238.png', 'ndwi_6339.png', 'ndwi_2929.png', 'ndwi_10198.png', 'ndwi_349.png', 'ndwi_13119.png']\n",
      "['ndwi_4982.png', 'ndwi_4999.png', 'ndwi_5031.png', 'ndwi_6013.png', 'ndwi_6018.png', 'ndwi_8662.png', 'ndwi_6056.png', 'ndwi_6966.png', 'ndwi_1975.png', 'ndwi_2340.png', 'ndwi_629.png', 'ndwi_4914.png', 'ndwi_5935.png', 'ndwi_6843.png', 'ndwi_6845.png', 'ndwi_7202.png', 'ndwi_7210.png', 'ndwi_7890.png', 'ndwi_8072.png', 'ndwi_8263.png', 'ndwi_8283.png', 'ndwi_8331.png', 'ndwi_8727.png', 'ndwi_9321.png', 'ndwi_9376.png', 'ndwi_9473.png', 'ndwi_9476.png', 'ndwi_9501.png', 'ndwi_9508.png', 'ndwi_9553.png', 'ndwi_10273.png', 'ndwi_11084.png', 'ndwi_11092.png', 'ndwi_11193.png', 'ndwi_11368.png', 'ndwi_11689.png', 'ndwi_11691.png', 'ndwi_11721.png', 'ndwi_11932.png', 'ndwi_12014.png', 'ndwi_12017.png', 'ndwi_12026.png', 'ndwi_12104.png', 'ndwi_12185.png', 'ndwi_12770.png', 'ndwi_12793.png', 'ndwi_12810.png', 'ndwi_14172.png', 'ndwi_4953.png', 'ndwi_6236.png', 'ndwi_14542.png', 'ndwi_6708.png', 'ndwi_6826.png', 'ndwi_7900.png', 'ndwi_8242.png', 'ndwi_8629.png', 'ndwi_10083.png', 'ndwi_11076.png', 'ndwi_11155.png', 'ndwi_11956.png', 'ndwi_12746.png', 'ndwi_12889.png', 'ndwi_12903.png', 'ndwi_12926.png', 'ndwi_12939.png', 'ndwi_12988.png', 'ndwi_13803.png', 'ndwi_14309.png', 'ndwi_14668.png', 'ndwi_15107.png', 'ndwi_15137.png', 'ndwi_15171.png', 'ndwi_15183.png', 'ndwi_15225.png', 'ndwi_15253.png', 'ndwi_15312.png', 'ndwi_15381.png']\n",
      "Creating and writing train-test split from file\n",
      "training_frames ['ndwi_5031.png', 'ndwi_12746.png', 'ndwi_9473.png', 'ndwi_11193.png', 'ndwi_8072.png', 'ndwi_15381.png', 'ndwi_14309.png', 'ndwi_6018.png', 'ndwi_12185.png', 'ndwi_11155.png', 'ndwi_6843.png', 'ndwi_10083.png', 'ndwi_12026.png', 'ndwi_11084.png', 'ndwi_6056.png', 'ndwi_11092.png', 'ndwi_14668.png', 'ndwi_12810.png', 'ndwi_14172.png', 'ndwi_15171.png', 'ndwi_6708.png', 'ndwi_14542.png', 'ndwi_6966.png', 'ndwi_12988.png', 'ndwi_6845.png', 'ndwi_4914.png', 'ndwi_9508.png', 'ndwi_8727.png', 'ndwi_6826.png', 'ndwi_12889.png', 'ndwi_12014.png', 'ndwi_11691.png', 'ndwi_12770.png', 'ndwi_7210.png', 'ndwi_6236.png', 'ndwi_15253.png', 'ndwi_15183.png', 'ndwi_9553.png', 'ndwi_4982.png', 'ndwi_4953.png', 'ndwi_7900.png', 'ndwi_9376.png', 'ndwi_11076.png', 'ndwi_9321.png', 'ndwi_2340.png']\n",
      "validation_frames ['ndwi_8662.png', 'ndwi_9476.png', 'ndwi_1975.png', 'ndwi_12903.png', 'ndwi_9501.png', 'ndwi_12939.png', 'ndwi_15225.png', 'ndwi_13803.png', 'ndwi_11689.png', 'ndwi_4999.png', 'ndwi_8283.png', 'ndwi_5935.png', 'ndwi_15107.png', 'ndwi_12926.png', 'ndwi_7890.png', 'ndwi_10273.png']\n",
      "testing_frames ['ndwi_11932.png', 'ndwi_11956.png', 'ndwi_8242.png', 'ndwi_15137.png', 'ndwi_12793.png', 'ndwi_11721.png', 'ndwi_12104.png', 'ndwi_8263.png', 'ndwi_8629.png', 'ndwi_7202.png', 'ndwi_8331.png', 'ndwi_15312.png', 'ndwi_6013.png', 'ndwi_11368.png', 'ndwi_629.png', 'ndwi_12017.png']\n",
      "['ndwi_8732.png', 'ndwi_6108.png', 'ndwi_1974.png', 'ndwi_2155.png', 'ndwi_2618.png', 'ndwi_3560.png', 'ndwi_4685.png', 'ndwi_5006.png', 'ndwi_5026.png', 'ndwi_5711.png', 'ndwi_6229.png', 'ndwi_6752.png', 'ndwi_8460.png', 'ndwi_8538.png']\n",
      "Creating and writing train-test split from file\n",
      "training_frames ['ndwi_6229.png', 'ndwi_5026.png', 'ndwi_8732.png', 'ndwi_3560.png', 'ndwi_8538.png', 'ndwi_4685.png', 'ndwi_6108.png', 'ndwi_1974.png']\n",
      "validation_frames ['ndwi_5006.png', 'ndwi_2618.png', 'ndwi_8460.png']\n",
      "testing_frames ['ndwi_6752.png', 'ndwi_5711.png', 'ndwi_2155.png']\n",
      "['ndwi_2883.png', 'ndwi_2979.png', 'ndwi_2986.png', 'ndwi_3126.png', 'ndwi_3159.png', 'ndwi_3194.png', 'ndwi_3202.png', 'ndwi_4299.png', 'ndwi_4418.png', 'ndwi_5605.png', 'ndwi_5636.png', 'ndwi_6252.png', 'ndwi_6765.png', 'ndwi_6779.png', 'ndwi_6794.png', 'ndwi_8456.png', 'ndwi_8555.png', 'ndwi_8904.png', 'ndwi_10792.png', 'ndwi_10953.png']\n",
      "Creating and writing train-test split from file\n",
      "training_frames ['ndwi_2986.png', 'ndwi_10953.png', 'ndwi_5636.png', 'ndwi_5605.png', 'ndwi_4299.png', 'ndwi_3126.png', 'ndwi_6765.png', 'ndwi_8555.png', 'ndwi_6794.png', 'ndwi_3202.png', 'ndwi_2979.png', 'ndwi_6252.png']\n",
      "validation_frames ['ndwi_8456.png', 'ndwi_3159.png', 'ndwi_6779.png', 'ndwi_10792.png']\n",
      "testing_frames ['ndwi_4418.png', 'ndwi_8904.png', 'ndwi_2883.png', 'ndwi_3194.png']\n"
     ]
    }
   ],
   "source": [
    "# split dataset and copy images & annotations to new directory\n",
    "for i in range(0,type_num):\n",
    "    frames = []\n",
    "    frames_json = os.path.join(patch_dir,'frames_list{}.json'.format(i))\n",
    "    patch_output = os.path.join(dataset_dir,'output/output{}'.format(i))\n",
    "    all_files = os.listdir(patch_output)\n",
    "    all_files_NDWI = [fn for fn in all_files if fn.startswith(NDWI_fn) and fn.endswith(image_type)]#ndwi.png\n",
    "    len(all_files_NDWI)\n",
    "    print(all_files_NDWI)\n",
    "\n",
    "    if os.path.isfile(frames_json):\n",
    "            print(\"dataset type{} had been splited\".format(i))\n",
    "    else:\n",
    "            print(\"Creating and writing train-test split from file\")\n",
    "            frames_list = list(range(len(all_files_NDWI)))\n",
    "            \n",
    "            # Divide into training and test set       \n",
    "            training_frames, testing_frames = train_test_split(frames_list, test_size=test_ratio)\n",
    "            # Further divide into training set into training and validataion set              \n",
    "            training_frames, validation_frames = train_test_split(training_frames, test_size=val_ratio)\n",
    "            \n",
    "            training_frames_name=[all_files_NDWI[id] for id in training_frames]\n",
    "            testing_frames_name=[all_files_NDWI[id] for id in testing_frames]\n",
    "            validation_frames_name=[all_files_NDWI[id] for id in validation_frames]\n",
    "            \n",
    "            #train data are classified into different dirs for following process.\n",
    "            for train_fn in training_frames_name:\n",
    "                removeFileinType(i,'train',train_fn)\n",
    "            for testing_fn in testing_frames_name:\n",
    "                removeFileinType(i,'test',testing_fn) \n",
    "            for validation_fn in validation_frames_name:\n",
    "                removeFileinType(i,'val',validation_fn)\n",
    "                \n",
    "            frame_split = {\n",
    "                'training_frames': training_frames_name,\n",
    "                'testing_frames': testing_frames_name,\n",
    "                'validation_frames': validation_frames_name\n",
    "            }\n",
    "            \n",
    "            if not os.path.exists(patch_dir):\n",
    "                os.makedirs(patch_dir)\n",
    "            with open(frames_json, 'w') as f:\n",
    "                json.dump(frame_split, f)\n",
    "                \n",
    "            print('training_frames', training_frames_name)\n",
    "            print('validation_frames',validation_frames_name )\n",
    "            print('testing_frames', testing_frames_name)"
   ]
  },
  {
   "cell_type": "code",
   "execution_count": null,
   "metadata": {},
   "outputs": [],
   "source": []
  }
 ],
 "metadata": {
  "kernelspec": {
   "display_name": "hbh_env",
   "language": "python",
   "name": "hbh_env"
  },
  "language_info": {
   "codemirror_mode": {
    "name": "ipython",
    "version": 3
   },
   "file_extension": ".py",
   "mimetype": "text/x-python",
   "name": "python",
   "nbconvert_exporter": "python",
   "pygments_lexer": "ipython3",
   "version": "3.8.13"
  }
 },
 "nbformat": 4,
 "nbformat_minor": 4
}
