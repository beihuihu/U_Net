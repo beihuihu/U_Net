{
 "cells": [
  {
   "cell_type": "code",
   "execution_count": 1,
   "metadata": {},
   "outputs": [],
   "source": [
    "import geopandas as gps\n",
    "import rasterio                  # I/O raster data (netcdf, height, geotiff, ...)\n",
    "import rasterio.mask\n",
    "import rasterio.warp             # Reproject raster samples\n",
    "import rasterio.merge\n",
    "from rasterio.transform import rowcol\n",
    "from rasterio import features\n",
    "import fiona                     # I/O vector data (shape, geojson, ...)\n",
    "import pyproj                    # Change coordinate reference system\n",
    "from osgeo import gdal,ogr,osr\n",
    "import pandas as pd\n",
    "import shapely\n",
    "from shapely.geometry import box, Point\n",
    "import json\n",
    "\n",
    "import numpy as np               # numerical array manipulation\n",
    "import time\n",
    "import os\n",
    "from PIL import Image\n",
    "import PIL.ImageDraw\n",
    "from core.visualize import display_images\n",
    "\n",
    "import matplotlib.pyplot as plt  # plotting tools\n",
    "%matplotlib inline\n",
    "from tqdm import tqdm_notebook as tqdm\n",
    "from tqdm import trange\n",
    "import warnings                  # ignore annoying warnings\n",
    "warnings.filterwarnings(\"ignore\")\n",
    "\n",
    "%reload_ext autoreload\n",
    "%autoreload 2\n",
    "from IPython.core.interactiveshell import InteractiveShell\n",
    "InteractiveShell.ast_node_interactivity = \"all\"\n",
    "\n",
    "from multiprocessing import Pool"
   ]
  },
  {
   "cell_type": "code",
   "execution_count": 2,
   "metadata": {},
   "outputs": [],
   "source": [
    "# Required configurations (including the input and output paths) are stored in a separate file (such as config/Preprocessing.py)\n",
    "# Please provide required info in the file before continuing with this notebook. \n",
    "# hbh: in this scene,a new config named Preprocessing_within is created to distinguish from the original\n",
    "from config import Preprocessing   \n",
    "# In case you are using a different folder name such as configLargeCluster, then you should import from the respective folder \n",
    "# Eg. from configLargeCluster import Preprocessing\n",
    "config = Preprocessing.Configuration()"
   ]
  },
  {
   "cell_type": "code",
   "execution_count": 3,
   "metadata": {},
   "outputs": [],
   "source": [
    "output_dir=r'D:\\lakemapping\\2_dataset\\sample747'#sample747\n",
    "raw_img_dir=r'D:\\lakemapping\\sample750_pad\\tif'\n",
    "\n",
    "area_prefix='area_'\n",
    "pad_area_prefix='pad_area_'\n",
    "raw_image_prefix='sample_'\n",
    "image_prefix='image_'\n",
    "pad_image_prefix='pad_image_'\n",
    "area_file_type='.shp'\n",
    "image_file_type='.tif'\n",
    "type_num=6"
   ]
  },
  {
   "cell_type": "markdown",
   "metadata": {},
   "source": [
    "## 提取shapefile\n",
    "将shapefile按类别存储为单个文件，以便后续裁剪"
   ]
  },
  {
   "cell_type": "code",
   "execution_count": 30,
   "metadata": {},
   "outputs": [],
   "source": [
    "for i in range(0,type_num):\n",
    "    writePath=os.path.join(output_dir,r'output{}'.format(i))\n",
    "    if not os.path.exists(writePath):\n",
    "        os.makedirs(writePath)\n",
    "    writePath2=os.path.join(output_dir,r'shp\\output{}'.format(ty))\n",
    "    if not os.path.exists(writePath2):\n",
    "        os.makedirs(writePath2)"
   ]
  },
  {
   "cell_type": "code",
   "execution_count": 15,
   "metadata": {
    "scrolled": true
   },
   "outputs": [
    {
     "data": {
      "application/vnd.jupyter.widget-view+json": {
       "model_id": "89815f2efe8e49678033f3b8e2b210b7",
       "version_major": 2,
       "version_minor": 0
      },
      "text/plain": [
       "  0%|          | 0/747 [00:00<?, ?it/s]"
      ]
     },
     "metadata": {},
     "output_type": "display_data"
    }
   ],
   "source": [
    "trainingArea = gps.read_file(os.path.join(config.training_base_dir, config.training_area_fn))\n",
    "for i in tqdm(trainingArea.index):\n",
    "    fn=trainingArea.loc[i]['file_name']\n",
    "    ty=trainingArea.loc[i]['type']\n",
    "    shape=trainingArea[i:i+1]\n",
    "    shape.to_file(os.path.join(writePath,area_prefix+fn+area_file_type))"
   ]
  },
  {
   "cell_type": "markdown",
   "metadata": {},
   "source": [
    "## 裁剪sampe影像，获得image影像"
   ]
  },
  {
   "cell_type": "code",
   "execution_count": 34,
   "metadata": {
    "scrolled": true
   },
   "outputs": [
    {
     "name": "stdout",
     "output_type": "stream",
     "text": [
      "area_10031.shp\n",
      "D:\\lakemapping\\sample750_pad\\tif\\sample_10031.tif\n",
      "D:\\lakemapping\\2_dataset\\sample747\\output0\\image_10031.tif\n",
      "area_10150.shp\n",
      "D:\\lakemapping\\sample750_pad\\tif\\sample_10150.tif\n",
      "D:\\lakemapping\\2_dataset\\sample747\\output0\\image_10150.tif\n",
      "area_10174.shp\n",
      "D:\\lakemapping\\sample750_pad\\tif\\sample_10174.tif\n",
      "D:\\lakemapping\\2_dataset\\sample747\\output0\\image_10174.tif\n",
      "area_10332.shp\n",
      "D:\\lakemapping\\sample750_pad\\tif\\sample_10332.tif\n",
      "D:\\lakemapping\\2_dataset\\sample747\\output0\\image_10332.tif\n",
      "area_10358.shp\n",
      "D:\\lakemapping\\sample750_pad\\tif\\sample_10358.tif\n",
      "D:\\lakemapping\\2_dataset\\sample747\\output0\\image_10358.tif\n",
      "area_10383.shp\n",
      "D:\\lakemapping\\sample750_pad\\tif\\sample_10383.tif\n",
      "D:\\lakemapping\\2_dataset\\sample747\\output0\\image_10383.tif\n",
      "area_10408.shp\n",
      "D:\\lakemapping\\sample750_pad\\tif\\sample_10408.tif\n",
      "D:\\lakemapping\\2_dataset\\sample747\\output0\\image_10408.tif\n",
      "area_10689.shp\n",
      "D:\\lakemapping\\sample750_pad\\tif\\sample_10689.tif\n",
      "D:\\lakemapping\\2_dataset\\sample747\\output0\\image_10689.tif\n",
      "area_10713.shp\n",
      "D:\\lakemapping\\sample750_pad\\tif\\sample_10713.tif\n",
      "D:\\lakemapping\\2_dataset\\sample747\\output0\\image_10713.tif\n",
      "area_10856.shp\n",
      "D:\\lakemapping\\sample750_pad\\tif\\sample_10856.tif\n",
      "D:\\lakemapping\\2_dataset\\sample747\\output0\\image_10856.tif\n",
      "area_10892.shp\n",
      "D:\\lakemapping\\sample750_pad\\tif\\sample_10892.tif\n",
      "D:\\lakemapping\\2_dataset\\sample747\\output0\\image_10892.tif\n",
      "area_10928.shp\n",
      "D:\\lakemapping\\sample750_pad\\tif\\sample_10928.tif\n",
      "D:\\lakemapping\\2_dataset\\sample747\\output0\\image_10928.tif\n",
      "area_11020_3.shp\n",
      "D:\\lakemapping\\sample750_pad\\tif\\sample_11020_3.tif\n",
      "D:\\lakemapping\\2_dataset\\sample747\\output0\\image_11020_3.tif\n",
      "area_11081.shp\n",
      "D:\\lakemapping\\sample750_pad\\tif\\sample_11081.tif\n",
      "D:\\lakemapping\\2_dataset\\sample747\\output0\\image_11081.tif\n",
      "area_11289.shp\n",
      "D:\\lakemapping\\sample750_pad\\tif\\sample_11289.tif\n",
      "D:\\lakemapping\\2_dataset\\sample747\\output0\\image_11289.tif\n",
      "area_11306.shp\n",
      "D:\\lakemapping\\sample750_pad\\tif\\sample_11306.tif\n",
      "D:\\lakemapping\\2_dataset\\sample747\\output0\\image_11306.tif\n",
      "area_11324.shp\n",
      "D:\\lakemapping\\sample750_pad\\tif\\sample_11324.tif\n",
      "D:\\lakemapping\\2_dataset\\sample747\\output0\\image_11324.tif\n",
      "area_11383.shp\n",
      "D:\\lakemapping\\sample750_pad\\tif\\sample_11383.tif\n",
      "D:\\lakemapping\\2_dataset\\sample747\\output0\\image_11383.tif\n",
      "area_11428.shp\n",
      "D:\\lakemapping\\sample750_pad\\tif\\sample_11428.tif\n",
      "D:\\lakemapping\\2_dataset\\sample747\\output0\\image_11428.tif\n",
      "area_11490.shp\n",
      "D:\\lakemapping\\sample750_pad\\tif\\sample_11490.tif\n",
      "D:\\lakemapping\\2_dataset\\sample747\\output0\\image_11490.tif\n",
      "area_11601.shp\n",
      "D:\\lakemapping\\sample750_pad\\tif\\sample_11601.tif\n",
      "D:\\lakemapping\\2_dataset\\sample747\\output0\\image_11601.tif\n",
      "area_11664.shp\n",
      "D:\\lakemapping\\sample750_pad\\tif\\sample_11664.tif\n",
      "D:\\lakemapping\\2_dataset\\sample747\\output0\\image_11664.tif\n",
      "area_11740.shp\n",
      "D:\\lakemapping\\sample750_pad\\tif\\sample_11740.tif\n",
      "D:\\lakemapping\\2_dataset\\sample747\\output0\\image_11740.tif\n",
      "area_11773.shp\n",
      "D:\\lakemapping\\sample750_pad\\tif\\sample_11773.tif\n",
      "D:\\lakemapping\\2_dataset\\sample747\\output0\\image_11773.tif\n",
      "area_11904.shp\n",
      "D:\\lakemapping\\sample750_pad\\tif\\sample_11904.tif\n",
      "D:\\lakemapping\\2_dataset\\sample747\\output0\\image_11904.tif\n",
      "area_12000.shp\n",
      "D:\\lakemapping\\sample750_pad\\tif\\sample_12000.tif\n",
      "D:\\lakemapping\\2_dataset\\sample747\\output0\\image_12000.tif\n",
      "area_12234.shp\n",
      "D:\\lakemapping\\sample750_pad\\tif\\sample_12234.tif\n",
      "D:\\lakemapping\\2_dataset\\sample747\\output0\\image_12234.tif\n",
      "area_12262.shp\n",
      "D:\\lakemapping\\sample750_pad\\tif\\sample_12262.tif\n",
      "D:\\lakemapping\\2_dataset\\sample747\\output0\\image_12262.tif\n",
      "area_12277.shp\n",
      "D:\\lakemapping\\sample750_pad\\tif\\sample_12277.tif\n",
      "D:\\lakemapping\\2_dataset\\sample747\\output0\\image_12277.tif\n",
      "area_12312.shp\n",
      "D:\\lakemapping\\sample750_pad\\tif\\sample_12312.tif\n",
      "D:\\lakemapping\\2_dataset\\sample747\\output0\\image_12312.tif\n",
      "area_12344.shp\n",
      "D:\\lakemapping\\sample750_pad\\tif\\sample_12344.tif\n",
      "D:\\lakemapping\\2_dataset\\sample747\\output0\\image_12344.tif\n",
      "area_12351.shp\n",
      "D:\\lakemapping\\sample750_pad\\tif\\sample_12351.tif\n",
      "D:\\lakemapping\\2_dataset\\sample747\\output0\\image_12351.tif\n",
      "area_12389.shp\n",
      "D:\\lakemapping\\sample750_pad\\tif\\sample_12389.tif\n",
      "D:\\lakemapping\\2_dataset\\sample747\\output0\\image_12389.tif\n",
      "area_12395.shp\n",
      "D:\\lakemapping\\sample750_pad\\tif\\sample_12395.tif\n",
      "D:\\lakemapping\\2_dataset\\sample747\\output0\\image_12395.tif\n",
      "area_12443.shp\n",
      "D:\\lakemapping\\sample750_pad\\tif\\sample_12443.tif\n",
      "D:\\lakemapping\\2_dataset\\sample747\\output0\\image_12443.tif\n",
      "area_12455.shp\n",
      "D:\\lakemapping\\sample750_pad\\tif\\sample_12455.tif\n",
      "D:\\lakemapping\\2_dataset\\sample747\\output0\\image_12455.tif\n",
      "area_12596.shp\n",
      "D:\\lakemapping\\sample750_pad\\tif\\sample_12596.tif\n",
      "D:\\lakemapping\\2_dataset\\sample747\\output0\\image_12596.tif\n",
      "area_1260.shp\n",
      "D:\\lakemapping\\sample750_pad\\tif\\sample_1260.tif\n",
      "D:\\lakemapping\\2_dataset\\sample747\\output0\\image_1260.tif\n",
      "area_12602.shp\n",
      "D:\\lakemapping\\sample750_pad\\tif\\sample_12602.tif\n",
      "D:\\lakemapping\\2_dataset\\sample747\\output0\\image_12602.tif\n",
      "area_12637.shp\n",
      "D:\\lakemapping\\sample750_pad\\tif\\sample_12637.tif\n",
      "D:\\lakemapping\\2_dataset\\sample747\\output0\\image_12637.tif\n",
      "area_12666.shp\n",
      "D:\\lakemapping\\sample750_pad\\tif\\sample_12666.tif\n",
      "D:\\lakemapping\\2_dataset\\sample747\\output0\\image_12666.tif\n",
      "area_12688.shp\n",
      "D:\\lakemapping\\sample750_pad\\tif\\sample_12688.tif\n",
      "D:\\lakemapping\\2_dataset\\sample747\\output0\\image_12688.tif\n",
      "area_12821.shp\n",
      "D:\\lakemapping\\sample750_pad\\tif\\sample_12821.tif\n",
      "D:\\lakemapping\\2_dataset\\sample747\\output0\\image_12821.tif\n",
      "area_12843.shp\n",
      "D:\\lakemapping\\sample750_pad\\tif\\sample_12843.tif\n",
      "D:\\lakemapping\\2_dataset\\sample747\\output0\\image_12843.tif\n",
      "area_13177.shp\n",
      "D:\\lakemapping\\sample750_pad\\tif\\sample_13177.tif\n",
      "D:\\lakemapping\\2_dataset\\sample747\\output0\\image_13177.tif\n",
      "area_13224.shp\n",
      "D:\\lakemapping\\sample750_pad\\tif\\sample_13224.tif\n",
      "D:\\lakemapping\\2_dataset\\sample747\\output0\\image_13224.tif\n",
      "area_13246.shp\n",
      "D:\\lakemapping\\sample750_pad\\tif\\sample_13246.tif\n",
      "D:\\lakemapping\\2_dataset\\sample747\\output0\\image_13246.tif\n",
      "area_13251.shp\n",
      "D:\\lakemapping\\sample750_pad\\tif\\sample_13251.tif\n",
      "D:\\lakemapping\\2_dataset\\sample747\\output0\\image_13251.tif\n",
      "area_13307.shp\n",
      "D:\\lakemapping\\sample750_pad\\tif\\sample_13307.tif\n",
      "D:\\lakemapping\\2_dataset\\sample747\\output0\\image_13307.tif\n",
      "area_13362.shp\n",
      "D:\\lakemapping\\sample750_pad\\tif\\sample_13362.tif\n",
      "D:\\lakemapping\\2_dataset\\sample747\\output0\\image_13362.tif\n",
      "area_13407.shp\n",
      "D:\\lakemapping\\sample750_pad\\tif\\sample_13407.tif\n",
      "D:\\lakemapping\\2_dataset\\sample747\\output0\\image_13407.tif\n",
      "area_13411_2.shp\n",
      "D:\\lakemapping\\sample750_pad\\tif\\sample_13411_2.tif\n",
      "D:\\lakemapping\\2_dataset\\sample747\\output0\\image_13411_2.tif\n",
      "area_13554.shp\n",
      "D:\\lakemapping\\sample750_pad\\tif\\sample_13554.tif\n",
      "D:\\lakemapping\\2_dataset\\sample747\\output0\\image_13554.tif\n",
      "area_13582.shp\n",
      "D:\\lakemapping\\sample750_pad\\tif\\sample_13582.tif\n",
      "D:\\lakemapping\\2_dataset\\sample747\\output0\\image_13582.tif\n",
      "area_13618.shp\n",
      "D:\\lakemapping\\sample750_pad\\tif\\sample_13618.tif\n",
      "D:\\lakemapping\\2_dataset\\sample747\\output0\\image_13618.tif\n",
      "area_13705.shp\n",
      "D:\\lakemapping\\sample750_pad\\tif\\sample_13705.tif\n",
      "D:\\lakemapping\\2_dataset\\sample747\\output0\\image_13705.tif\n",
      "area_13742.shp\n",
      "D:\\lakemapping\\sample750_pad\\tif\\sample_13742.tif\n",
      "D:\\lakemapping\\2_dataset\\sample747\\output0\\image_13742.tif\n",
      "area_13748.shp\n",
      "D:\\lakemapping\\sample750_pad\\tif\\sample_13748.tif\n",
      "D:\\lakemapping\\2_dataset\\sample747\\output0\\image_13748.tif\n",
      "area_13830.shp\n",
      "D:\\lakemapping\\sample750_pad\\tif\\sample_13830.tif\n",
      "D:\\lakemapping\\2_dataset\\sample747\\output0\\image_13830.tif\n",
      "area_13928.shp\n",
      "D:\\lakemapping\\sample750_pad\\tif\\sample_13928.tif\n",
      "D:\\lakemapping\\2_dataset\\sample747\\output0\\image_13928.tif\n",
      "area_13944.shp\n",
      "D:\\lakemapping\\sample750_pad\\tif\\sample_13944.tif\n",
      "D:\\lakemapping\\2_dataset\\sample747\\output0\\image_13944.tif\n",
      "area_13962.shp\n",
      "D:\\lakemapping\\sample750_pad\\tif\\sample_13962.tif\n",
      "D:\\lakemapping\\2_dataset\\sample747\\output0\\image_13962.tif\n",
      "area_13979.shp\n",
      "D:\\lakemapping\\sample750_pad\\tif\\sample_13979.tif\n",
      "D:\\lakemapping\\2_dataset\\sample747\\output0\\image_13979.tif\n",
      "area_14006.shp\n",
      "D:\\lakemapping\\sample750_pad\\tif\\sample_14006.tif\n",
      "D:\\lakemapping\\2_dataset\\sample747\\output0\\image_14006.tif\n",
      "area_14077.shp\n",
      "D:\\lakemapping\\sample750_pad\\tif\\sample_14077.tif\n",
      "D:\\lakemapping\\2_dataset\\sample747\\output0\\image_14077.tif\n",
      "area_14084.shp\n",
      "D:\\lakemapping\\sample750_pad\\tif\\sample_14084.tif\n",
      "D:\\lakemapping\\2_dataset\\sample747\\output0\\image_14084.tif\n",
      "area_14111.shp\n",
      "D:\\lakemapping\\sample750_pad\\tif\\sample_14111.tif\n",
      "D:\\lakemapping\\2_dataset\\sample747\\output0\\image_14111.tif\n"
     ]
    },
    {
     "name": "stdout",
     "output_type": "stream",
     "text": [
      "area_14206.shp\n",
      "D:\\lakemapping\\sample750_pad\\tif\\sample_14206.tif\n",
      "D:\\lakemapping\\2_dataset\\sample747\\output0\\image_14206.tif\n",
      "area_14422.shp\n",
      "D:\\lakemapping\\sample750_pad\\tif\\sample_14422.tif\n",
      "D:\\lakemapping\\2_dataset\\sample747\\output0\\image_14422.tif\n",
      "area_14449.shp\n",
      "D:\\lakemapping\\sample750_pad\\tif\\sample_14449.tif\n",
      "D:\\lakemapping\\2_dataset\\sample747\\output0\\image_14449.tif\n",
      "area_14494.shp\n",
      "D:\\lakemapping\\sample750_pad\\tif\\sample_14494.tif\n",
      "D:\\lakemapping\\2_dataset\\sample747\\output0\\image_14494.tif\n",
      "area_14689.shp\n",
      "D:\\lakemapping\\sample750_pad\\tif\\sample_14689.tif\n",
      "D:\\lakemapping\\2_dataset\\sample747\\output0\\image_14689.tif\n",
      "area_147.shp\n",
      "D:\\lakemapping\\sample750_pad\\tif\\sample_147.tif\n",
      "D:\\lakemapping\\2_dataset\\sample747\\output0\\image_147.tif\n",
      "area_14735.shp\n",
      "D:\\lakemapping\\sample750_pad\\tif\\sample_14735.tif\n",
      "D:\\lakemapping\\2_dataset\\sample747\\output0\\image_14735.tif\n",
      "area_14753.shp\n",
      "D:\\lakemapping\\sample750_pad\\tif\\sample_14753.tif\n",
      "D:\\lakemapping\\2_dataset\\sample747\\output0\\image_14753.tif\n",
      "area_14781.shp\n",
      "D:\\lakemapping\\sample750_pad\\tif\\sample_14781.tif\n",
      "D:\\lakemapping\\2_dataset\\sample747\\output0\\image_14781.tif\n",
      "area_14807.shp\n",
      "D:\\lakemapping\\sample750_pad\\tif\\sample_14807.tif\n",
      "D:\\lakemapping\\2_dataset\\sample747\\output0\\image_14807.tif\n",
      "area_14836.shp\n",
      "D:\\lakemapping\\sample750_pad\\tif\\sample_14836.tif\n",
      "D:\\lakemapping\\2_dataset\\sample747\\output0\\image_14836.tif\n",
      "area_14857.shp\n",
      "D:\\lakemapping\\sample750_pad\\tif\\sample_14857.tif\n",
      "D:\\lakemapping\\2_dataset\\sample747\\output0\\image_14857.tif\n",
      "area_14862.shp\n",
      "D:\\lakemapping\\sample750_pad\\tif\\sample_14862.tif\n",
      "D:\\lakemapping\\2_dataset\\sample747\\output0\\image_14862.tif\n",
      "area_14872.shp\n",
      "D:\\lakemapping\\sample750_pad\\tif\\sample_14872.tif\n",
      "D:\\lakemapping\\2_dataset\\sample747\\output0\\image_14872.tif\n",
      "area_14914.shp\n",
      "D:\\lakemapping\\sample750_pad\\tif\\sample_14914.tif\n",
      "D:\\lakemapping\\2_dataset\\sample747\\output0\\image_14914.tif\n",
      "area_14926.shp\n",
      "D:\\lakemapping\\sample750_pad\\tif\\sample_14926.tif\n",
      "D:\\lakemapping\\2_dataset\\sample747\\output0\\image_14926.tif\n",
      "area_14947.shp\n",
      "D:\\lakemapping\\sample750_pad\\tif\\sample_14947.tif\n",
      "D:\\lakemapping\\2_dataset\\sample747\\output0\\image_14947.tif\n",
      "area_14975.shp\n",
      "D:\\lakemapping\\sample750_pad\\tif\\sample_14975.tif\n",
      "D:\\lakemapping\\2_dataset\\sample747\\output0\\image_14975.tif\n",
      "area_14997.shp\n",
      "D:\\lakemapping\\sample750_pad\\tif\\sample_14997.tif\n",
      "D:\\lakemapping\\2_dataset\\sample747\\output0\\image_14997.tif\n",
      "area_15009.shp\n",
      "D:\\lakemapping\\sample750_pad\\tif\\sample_15009.tif\n",
      "D:\\lakemapping\\2_dataset\\sample747\\output0\\image_15009.tif\n",
      "area_1543_1.shp\n",
      "D:\\lakemapping\\sample750_pad\\tif\\sample_1543_1.tif\n",
      "D:\\lakemapping\\2_dataset\\sample747\\output0\\image_1543_1.tif\n",
      "area_1543_2.shp\n",
      "D:\\lakemapping\\sample750_pad\\tif\\sample_1543_2.tif\n",
      "D:\\lakemapping\\2_dataset\\sample747\\output0\\image_1543_2.tif\n",
      "area_15612.shp\n",
      "D:\\lakemapping\\sample750_pad\\tif\\sample_15612.tif\n",
      "D:\\lakemapping\\2_dataset\\sample747\\output0\\image_15612.tif\n",
      "area_1565.shp\n",
      "D:\\lakemapping\\sample750_pad\\tif\\sample_1565.tif\n",
      "D:\\lakemapping\\2_dataset\\sample747\\output0\\image_1565.tif\n",
      "area_15693.shp\n",
      "D:\\lakemapping\\sample750_pad\\tif\\sample_15693.tif\n",
      "D:\\lakemapping\\2_dataset\\sample747\\output0\\image_15693.tif\n",
      "area_15816.shp\n",
      "D:\\lakemapping\\sample750_pad\\tif\\sample_15816.tif\n",
      "D:\\lakemapping\\2_dataset\\sample747\\output0\\image_15816.tif\n",
      "area_15898.shp\n",
      "D:\\lakemapping\\sample750_pad\\tif\\sample_15898.tif\n",
      "D:\\lakemapping\\2_dataset\\sample747\\output0\\image_15898.tif\n",
      "area_16071.shp\n",
      "D:\\lakemapping\\sample750_pad\\tif\\sample_16071.tif\n",
      "D:\\lakemapping\\2_dataset\\sample747\\output0\\image_16071.tif\n",
      "area_16178.shp\n",
      "D:\\lakemapping\\sample750_pad\\tif\\sample_16178.tif\n",
      "D:\\lakemapping\\2_dataset\\sample747\\output0\\image_16178.tif\n",
      "area_1621.shp\n",
      "D:\\lakemapping\\sample750_pad\\tif\\sample_1621.tif\n",
      "D:\\lakemapping\\2_dataset\\sample747\\output0\\image_1621.tif\n",
      "area_16227.shp\n",
      "D:\\lakemapping\\sample750_pad\\tif\\sample_16227.tif\n",
      "D:\\lakemapping\\2_dataset\\sample747\\output0\\image_16227.tif\n",
      "area_1625.shp\n",
      "D:\\lakemapping\\sample750_pad\\tif\\sample_1625.tif\n",
      "D:\\lakemapping\\2_dataset\\sample747\\output0\\image_1625.tif\n",
      "area_16329.shp\n",
      "D:\\lakemapping\\sample750_pad\\tif\\sample_16329.tif\n",
      "D:\\lakemapping\\2_dataset\\sample747\\output0\\image_16329.tif\n",
      "area_16333.shp\n",
      "D:\\lakemapping\\sample750_pad\\tif\\sample_16333.tif\n",
      "D:\\lakemapping\\2_dataset\\sample747\\output0\\image_16333.tif\n",
      "area_16388.shp\n",
      "D:\\lakemapping\\sample750_pad\\tif\\sample_16388.tif\n",
      "D:\\lakemapping\\2_dataset\\sample747\\output0\\image_16388.tif\n",
      "area_16458.shp\n",
      "D:\\lakemapping\\sample750_pad\\tif\\sample_16458.tif\n",
      "D:\\lakemapping\\2_dataset\\sample747\\output0\\image_16458.tif\n",
      "area_16483.shp\n",
      "D:\\lakemapping\\sample750_pad\\tif\\sample_16483.tif\n",
      "D:\\lakemapping\\2_dataset\\sample747\\output0\\image_16483.tif\n",
      "area_1652.shp\n",
      "D:\\lakemapping\\sample750_pad\\tif\\sample_1652.tif\n",
      "D:\\lakemapping\\2_dataset\\sample747\\output0\\image_1652.tif\n",
      "area_16526.shp\n",
      "D:\\lakemapping\\sample750_pad\\tif\\sample_16526.tif\n",
      "D:\\lakemapping\\2_dataset\\sample747\\output0\\image_16526.tif\n",
      "area_16599.shp\n",
      "D:\\lakemapping\\sample750_pad\\tif\\sample_16599.tif\n",
      "D:\\lakemapping\\2_dataset\\sample747\\output0\\image_16599.tif\n",
      "area_16653.shp\n",
      "D:\\lakemapping\\sample750_pad\\tif\\sample_16653.tif\n",
      "D:\\lakemapping\\2_dataset\\sample747\\output0\\image_16653.tif\n",
      "area_1673.shp\n",
      "D:\\lakemapping\\sample750_pad\\tif\\sample_1673.tif\n",
      "D:\\lakemapping\\2_dataset\\sample747\\output0\\image_1673.tif\n",
      "area_168.shp\n",
      "D:\\lakemapping\\sample750_pad\\tif\\sample_168.tif\n",
      "D:\\lakemapping\\2_dataset\\sample747\\output0\\image_168.tif\n",
      "area_16816.shp\n",
      "D:\\lakemapping\\sample750_pad\\tif\\sample_16816.tif\n",
      "D:\\lakemapping\\2_dataset\\sample747\\output0\\image_16816.tif\n",
      "area_16901.shp\n",
      "D:\\lakemapping\\sample750_pad\\tif\\sample_16901.tif\n",
      "D:\\lakemapping\\2_dataset\\sample747\\output0\\image_16901.tif\n",
      "area_1704.shp\n",
      "D:\\lakemapping\\sample750_pad\\tif\\sample_1704.tif\n",
      "D:\\lakemapping\\2_dataset\\sample747\\output0\\image_1704.tif\n",
      "area_1712.shp\n",
      "D:\\lakemapping\\sample750_pad\\tif\\sample_1712.tif\n",
      "D:\\lakemapping\\2_dataset\\sample747\\output0\\image_1712.tif\n",
      "area_17161.shp\n",
      "D:\\lakemapping\\sample750_pad\\tif\\sample_17161.tif\n",
      "D:\\lakemapping\\2_dataset\\sample747\\output0\\image_17161.tif\n",
      "area_17175.shp\n",
      "D:\\lakemapping\\sample750_pad\\tif\\sample_17175.tif\n",
      "D:\\lakemapping\\2_dataset\\sample747\\output0\\image_17175.tif\n",
      "area_1727.shp\n",
      "D:\\lakemapping\\sample750_pad\\tif\\sample_1727.tif\n",
      "D:\\lakemapping\\2_dataset\\sample747\\output0\\image_1727.tif\n",
      "area_17517.shp\n",
      "D:\\lakemapping\\sample750_pad\\tif\\sample_17517.tif\n",
      "D:\\lakemapping\\2_dataset\\sample747\\output0\\image_17517.tif\n",
      "area_17553.shp\n",
      "D:\\lakemapping\\sample750_pad\\tif\\sample_17553.tif\n",
      "D:\\lakemapping\\2_dataset\\sample747\\output0\\image_17553.tif\n",
      "area_178.shp\n",
      "D:\\lakemapping\\sample750_pad\\tif\\sample_178.tif\n",
      "D:\\lakemapping\\2_dataset\\sample747\\output0\\image_178.tif\n",
      "area_17955.shp\n",
      "D:\\lakemapping\\sample750_pad\\tif\\sample_17955.tif\n",
      "D:\\lakemapping\\2_dataset\\sample747\\output0\\image_17955.tif\n",
      "area_18071.shp\n",
      "D:\\lakemapping\\sample750_pad\\tif\\sample_18071.tif\n",
      "D:\\lakemapping\\2_dataset\\sample747\\output0\\image_18071.tif\n",
      "area_18153.shp\n",
      "D:\\lakemapping\\sample750_pad\\tif\\sample_18153.tif\n",
      "D:\\lakemapping\\2_dataset\\sample747\\output0\\image_18153.tif\n",
      "area_18200.shp\n",
      "D:\\lakemapping\\sample750_pad\\tif\\sample_18200.tif\n",
      "D:\\lakemapping\\2_dataset\\sample747\\output0\\image_18200.tif\n",
      "area_18247.shp\n",
      "D:\\lakemapping\\sample750_pad\\tif\\sample_18247.tif\n",
      "D:\\lakemapping\\2_dataset\\sample747\\output0\\image_18247.tif\n",
      "area_18272.shp\n",
      "D:\\lakemapping\\sample750_pad\\tif\\sample_18272.tif\n",
      "D:\\lakemapping\\2_dataset\\sample747\\output0\\image_18272.tif\n",
      "area_18304.shp\n",
      "D:\\lakemapping\\sample750_pad\\tif\\sample_18304.tif\n",
      "D:\\lakemapping\\2_dataset\\sample747\\output0\\image_18304.tif\n",
      "area_18337.shp\n",
      "D:\\lakemapping\\sample750_pad\\tif\\sample_18337.tif\n",
      "D:\\lakemapping\\2_dataset\\sample747\\output0\\image_18337.tif\n",
      "area_18375.shp\n",
      "D:\\lakemapping\\sample750_pad\\tif\\sample_18375.tif\n",
      "D:\\lakemapping\\2_dataset\\sample747\\output0\\image_18375.tif\n",
      "area_18397.shp\n",
      "D:\\lakemapping\\sample750_pad\\tif\\sample_18397.tif\n",
      "D:\\lakemapping\\2_dataset\\sample747\\output0\\image_18397.tif\n",
      "area_18447.shp\n",
      "D:\\lakemapping\\sample750_pad\\tif\\sample_18447.tif\n",
      "D:\\lakemapping\\2_dataset\\sample747\\output0\\image_18447.tif\n",
      "area_18575.shp\n",
      "D:\\lakemapping\\sample750_pad\\tif\\sample_18575.tif\n",
      "D:\\lakemapping\\2_dataset\\sample747\\output0\\image_18575.tif\n",
      "area_18682.shp\n",
      "D:\\lakemapping\\sample750_pad\\tif\\sample_18682.tif\n",
      "D:\\lakemapping\\2_dataset\\sample747\\output0\\image_18682.tif\n",
      "area_18782.shp\n",
      "D:\\lakemapping\\sample750_pad\\tif\\sample_18782.tif\n",
      "D:\\lakemapping\\2_dataset\\sample747\\output0\\image_18782.tif\n",
      "area_18890.shp\n",
      "D:\\lakemapping\\sample750_pad\\tif\\sample_18890.tif\n",
      "D:\\lakemapping\\2_dataset\\sample747\\output0\\image_18890.tif\n",
      "area_18899.shp\n",
      "D:\\lakemapping\\sample750_pad\\tif\\sample_18899.tif\n",
      "D:\\lakemapping\\2_dataset\\sample747\\output0\\image_18899.tif\n",
      "area_1903.shp\n",
      "D:\\lakemapping\\sample750_pad\\tif\\sample_1903.tif\n",
      "D:\\lakemapping\\2_dataset\\sample747\\output0\\image_1903.tif\n",
      "area_1941.shp\n",
      "D:\\lakemapping\\sample750_pad\\tif\\sample_1941.tif\n",
      "D:\\lakemapping\\2_dataset\\sample747\\output0\\image_1941.tif\n",
      "area_1963.shp\n",
      "D:\\lakemapping\\sample750_pad\\tif\\sample_1963.tif\n",
      "D:\\lakemapping\\2_dataset\\sample747\\output0\\image_1963.tif\n",
      "area_1972.shp\n",
      "D:\\lakemapping\\sample750_pad\\tif\\sample_1972.tif\n",
      "D:\\lakemapping\\2_dataset\\sample747\\output0\\image_1972.tif\n"
     ]
    },
    {
     "name": "stdout",
     "output_type": "stream",
     "text": [
      "area_2051.shp\n",
      "D:\\lakemapping\\sample750_pad\\tif\\sample_2051.tif\n",
      "D:\\lakemapping\\2_dataset\\sample747\\output0\\image_2051.tif\n",
      "area_2320.shp\n",
      "D:\\lakemapping\\sample750_pad\\tif\\sample_2320.tif\n",
      "D:\\lakemapping\\2_dataset\\sample747\\output0\\image_2320.tif\n",
      "area_2345.shp\n",
      "D:\\lakemapping\\sample750_pad\\tif\\sample_2345.tif\n",
      "D:\\lakemapping\\2_dataset\\sample747\\output0\\image_2345.tif\n",
      "area_2433.shp\n",
      "D:\\lakemapping\\sample750_pad\\tif\\sample_2433.tif\n",
      "D:\\lakemapping\\2_dataset\\sample747\\output0\\image_2433.tif\n",
      "area_2589.shp\n",
      "D:\\lakemapping\\sample750_pad\\tif\\sample_2589.tif\n",
      "D:\\lakemapping\\2_dataset\\sample747\\output0\\image_2589.tif\n",
      "area_2720.shp\n",
      "D:\\lakemapping\\sample750_pad\\tif\\sample_2720.tif\n",
      "D:\\lakemapping\\2_dataset\\sample747\\output0\\image_2720.tif\n",
      "area_2893.shp\n",
      "D:\\lakemapping\\sample750_pad\\tif\\sample_2893.tif\n",
      "D:\\lakemapping\\2_dataset\\sample747\\output0\\image_2893.tif\n",
      "area_2923.shp\n",
      "D:\\lakemapping\\sample750_pad\\tif\\sample_2923.tif\n",
      "D:\\lakemapping\\2_dataset\\sample747\\output0\\image_2923.tif\n",
      "area_3015.shp\n",
      "D:\\lakemapping\\sample750_pad\\tif\\sample_3015.tif\n",
      "D:\\lakemapping\\2_dataset\\sample747\\output0\\image_3015.tif\n",
      "area_3058.shp\n",
      "D:\\lakemapping\\sample750_pad\\tif\\sample_3058.tif\n",
      "D:\\lakemapping\\2_dataset\\sample747\\output0\\image_3058.tif\n",
      "area_3250.shp\n",
      "D:\\lakemapping\\sample750_pad\\tif\\sample_3250.tif\n",
      "D:\\lakemapping\\2_dataset\\sample747\\output0\\image_3250.tif\n",
      "area_3272.shp\n",
      "D:\\lakemapping\\sample750_pad\\tif\\sample_3272.tif\n",
      "D:\\lakemapping\\2_dataset\\sample747\\output0\\image_3272.tif\n",
      "area_343.shp\n",
      "D:\\lakemapping\\sample750_pad\\tif\\sample_343.tif\n",
      "D:\\lakemapping\\2_dataset\\sample747\\output0\\image_343.tif\n",
      "area_3444.shp\n",
      "D:\\lakemapping\\sample750_pad\\tif\\sample_3444.tif\n",
      "D:\\lakemapping\\2_dataset\\sample747\\output0\\image_3444.tif\n",
      "area_3445.shp\n",
      "D:\\lakemapping\\sample750_pad\\tif\\sample_3445.tif\n",
      "D:\\lakemapping\\2_dataset\\sample747\\output0\\image_3445.tif\n",
      "area_3472.shp\n",
      "D:\\lakemapping\\sample750_pad\\tif\\sample_3472.tif\n",
      "D:\\lakemapping\\2_dataset\\sample747\\output0\\image_3472.tif\n",
      "area_3599.shp\n",
      "D:\\lakemapping\\sample750_pad\\tif\\sample_3599.tif\n",
      "D:\\lakemapping\\2_dataset\\sample747\\output0\\image_3599.tif\n",
      "area_3601.shp\n",
      "D:\\lakemapping\\sample750_pad\\tif\\sample_3601.tif\n",
      "D:\\lakemapping\\2_dataset\\sample747\\output0\\image_3601.tif\n",
      "area_3610.shp\n",
      "D:\\lakemapping\\sample750_pad\\tif\\sample_3610.tif\n",
      "D:\\lakemapping\\2_dataset\\sample747\\output0\\image_3610.tif\n",
      "area_3634.shp\n",
      "D:\\lakemapping\\sample750_pad\\tif\\sample_3634.tif\n",
      "D:\\lakemapping\\2_dataset\\sample747\\output0\\image_3634.tif\n",
      "area_3638.shp\n",
      "D:\\lakemapping\\sample750_pad\\tif\\sample_3638.tif\n",
      "D:\\lakemapping\\2_dataset\\sample747\\output0\\image_3638.tif\n",
      "area_3645.shp\n",
      "D:\\lakemapping\\sample750_pad\\tif\\sample_3645.tif\n",
      "D:\\lakemapping\\2_dataset\\sample747\\output0\\image_3645.tif\n",
      "area_3659.shp\n",
      "D:\\lakemapping\\sample750_pad\\tif\\sample_3659.tif\n",
      "D:\\lakemapping\\2_dataset\\sample747\\output0\\image_3659.tif\n",
      "area_3922.shp\n",
      "D:\\lakemapping\\sample750_pad\\tif\\sample_3922.tif\n",
      "D:\\lakemapping\\2_dataset\\sample747\\output0\\image_3922.tif\n",
      "area_3924.shp\n",
      "D:\\lakemapping\\sample750_pad\\tif\\sample_3924.tif\n",
      "D:\\lakemapping\\2_dataset\\sample747\\output0\\image_3924.tif\n",
      "area_4009.shp\n",
      "D:\\lakemapping\\sample750_pad\\tif\\sample_4009.tif\n",
      "D:\\lakemapping\\2_dataset\\sample747\\output0\\image_4009.tif\n",
      "area_4735.shp\n",
      "D:\\lakemapping\\sample750_pad\\tif\\sample_4735.tif\n",
      "D:\\lakemapping\\2_dataset\\sample747\\output0\\image_4735.tif\n",
      "area_4773.shp\n",
      "D:\\lakemapping\\sample750_pad\\tif\\sample_4773.tif\n",
      "D:\\lakemapping\\2_dataset\\sample747\\output0\\image_4773.tif\n",
      "area_4807.shp\n",
      "D:\\lakemapping\\sample750_pad\\tif\\sample_4807.tif\n",
      "D:\\lakemapping\\2_dataset\\sample747\\output0\\image_4807.tif\n",
      "area_4846.shp\n",
      "D:\\lakemapping\\sample750_pad\\tif\\sample_4846.tif\n",
      "D:\\lakemapping\\2_dataset\\sample747\\output0\\image_4846.tif\n",
      "area_5042.shp\n",
      "D:\\lakemapping\\sample750_pad\\tif\\sample_5042.tif\n",
      "D:\\lakemapping\\2_dataset\\sample747\\output0\\image_5042.tif\n",
      "area_5057.shp\n",
      "D:\\lakemapping\\sample750_pad\\tif\\sample_5057.tif\n",
      "D:\\lakemapping\\2_dataset\\sample747\\output0\\image_5057.tif\n",
      "area_5085.shp\n",
      "D:\\lakemapping\\sample750_pad\\tif\\sample_5085.tif\n",
      "D:\\lakemapping\\2_dataset\\sample747\\output0\\image_5085.tif\n",
      "area_5093.shp\n",
      "D:\\lakemapping\\sample750_pad\\tif\\sample_5093.tif\n",
      "D:\\lakemapping\\2_dataset\\sample747\\output0\\image_5093.tif\n",
      "area_5596.shp\n",
      "D:\\lakemapping\\sample750_pad\\tif\\sample_5596.tif\n",
      "D:\\lakemapping\\2_dataset\\sample747\\output0\\image_5596.tif\n",
      "area_5717.shp\n",
      "D:\\lakemapping\\sample750_pad\\tif\\sample_5717.tif\n",
      "D:\\lakemapping\\2_dataset\\sample747\\output0\\image_5717.tif\n",
      "area_5732.shp\n",
      "D:\\lakemapping\\sample750_pad\\tif\\sample_5732.tif\n",
      "D:\\lakemapping\\2_dataset\\sample747\\output0\\image_5732.tif\n",
      "area_5784.shp\n",
      "D:\\lakemapping\\sample750_pad\\tif\\sample_5784.tif\n",
      "D:\\lakemapping\\2_dataset\\sample747\\output0\\image_5784.tif\n",
      "area_5897.shp\n",
      "D:\\lakemapping\\sample750_pad\\tif\\sample_5897.tif\n",
      "D:\\lakemapping\\2_dataset\\sample747\\output0\\image_5897.tif\n",
      "area_5969.shp\n",
      "D:\\lakemapping\\sample750_pad\\tif\\sample_5969.tif\n",
      "D:\\lakemapping\\2_dataset\\sample747\\output0\\image_5969.tif\n",
      "area_5986.shp\n",
      "D:\\lakemapping\\sample750_pad\\tif\\sample_5986.tif\n",
      "D:\\lakemapping\\2_dataset\\sample747\\output0\\image_5986.tif\n",
      "area_5999.shp\n",
      "D:\\lakemapping\\sample750_pad\\tif\\sample_5999.tif\n",
      "D:\\lakemapping\\2_dataset\\sample747\\output0\\image_5999.tif\n",
      "area_6305.shp\n",
      "D:\\lakemapping\\sample750_pad\\tif\\sample_6305.tif\n",
      "D:\\lakemapping\\2_dataset\\sample747\\output0\\image_6305.tif\n",
      "area_6369.shp\n",
      "D:\\lakemapping\\sample750_pad\\tif\\sample_6369.tif\n",
      "D:\\lakemapping\\2_dataset\\sample747\\output0\\image_6369.tif\n",
      "area_6423.shp\n",
      "D:\\lakemapping\\sample750_pad\\tif\\sample_6423.tif\n",
      "D:\\lakemapping\\2_dataset\\sample747\\output0\\image_6423.tif\n",
      "area_6477.shp\n",
      "D:\\lakemapping\\sample750_pad\\tif\\sample_6477.tif\n",
      "D:\\lakemapping\\2_dataset\\sample747\\output0\\image_6477.tif\n",
      "area_6485.shp\n",
      "D:\\lakemapping\\sample750_pad\\tif\\sample_6485.tif\n",
      "D:\\lakemapping\\2_dataset\\sample747\\output0\\image_6485.tif\n",
      "area_6504.shp\n",
      "D:\\lakemapping\\sample750_pad\\tif\\sample_6504.tif\n",
      "D:\\lakemapping\\2_dataset\\sample747\\output0\\image_6504.tif\n",
      "area_6549.shp\n",
      "D:\\lakemapping\\sample750_pad\\tif\\sample_6549.tif\n",
      "D:\\lakemapping\\2_dataset\\sample747\\output0\\image_6549.tif\n",
      "area_6555.shp\n",
      "D:\\lakemapping\\sample750_pad\\tif\\sample_6555.tif\n",
      "D:\\lakemapping\\2_dataset\\sample747\\output0\\image_6555.tif\n",
      "area_6576.shp\n",
      "D:\\lakemapping\\sample750_pad\\tif\\sample_6576.tif\n",
      "D:\\lakemapping\\2_dataset\\sample747\\output0\\image_6576.tif\n",
      "area_6601.shp\n",
      "D:\\lakemapping\\sample750_pad\\tif\\sample_6601.tif\n",
      "D:\\lakemapping\\2_dataset\\sample747\\output0\\image_6601.tif\n",
      "area_6634.shp\n",
      "D:\\lakemapping\\sample750_pad\\tif\\sample_6634.tif\n",
      "D:\\lakemapping\\2_dataset\\sample747\\output0\\image_6634.tif\n",
      "area_6664.shp\n",
      "D:\\lakemapping\\sample750_pad\\tif\\sample_6664.tif\n",
      "D:\\lakemapping\\2_dataset\\sample747\\output0\\image_6664.tif\n",
      "area_6723.shp\n",
      "D:\\lakemapping\\sample750_pad\\tif\\sample_6723.tif\n",
      "D:\\lakemapping\\2_dataset\\sample747\\output0\\image_6723.tif\n",
      "area_6735.shp\n",
      "D:\\lakemapping\\sample750_pad\\tif\\sample_6735.tif\n",
      "D:\\lakemapping\\2_dataset\\sample747\\output0\\image_6735.tif\n",
      "area_6870.shp\n",
      "D:\\lakemapping\\sample750_pad\\tif\\sample_6870.tif\n",
      "D:\\lakemapping\\2_dataset\\sample747\\output0\\image_6870.tif\n",
      "area_6923.shp\n",
      "D:\\lakemapping\\sample750_pad\\tif\\sample_6923.tif\n",
      "D:\\lakemapping\\2_dataset\\sample747\\output0\\image_6923.tif\n",
      "area_7006.shp\n",
      "D:\\lakemapping\\sample750_pad\\tif\\sample_7006.tif\n",
      "D:\\lakemapping\\2_dataset\\sample747\\output0\\image_7006.tif\n",
      "area_7105.shp\n",
      "D:\\lakemapping\\sample750_pad\\tif\\sample_7105.tif\n",
      "D:\\lakemapping\\2_dataset\\sample747\\output0\\image_7105.tif\n",
      "area_7169.shp\n",
      "D:\\lakemapping\\sample750_pad\\tif\\sample_7169.tif\n",
      "D:\\lakemapping\\2_dataset\\sample747\\output0\\image_7169.tif\n",
      "area_7203.shp\n",
      "D:\\lakemapping\\sample750_pad\\tif\\sample_7203.tif\n",
      "D:\\lakemapping\\2_dataset\\sample747\\output0\\image_7203.tif\n",
      "area_7230.shp\n",
      "D:\\lakemapping\\sample750_pad\\tif\\sample_7230.tif\n",
      "D:\\lakemapping\\2_dataset\\sample747\\output0\\image_7230.tif\n",
      "area_7322.shp\n",
      "D:\\lakemapping\\sample750_pad\\tif\\sample_7322.tif\n",
      "D:\\lakemapping\\2_dataset\\sample747\\output0\\image_7322.tif\n",
      "area_7341.shp\n",
      "D:\\lakemapping\\sample750_pad\\tif\\sample_7341.tif\n",
      "D:\\lakemapping\\2_dataset\\sample747\\output0\\image_7341.tif\n",
      "area_7393.shp\n",
      "D:\\lakemapping\\sample750_pad\\tif\\sample_7393.tif\n",
      "D:\\lakemapping\\2_dataset\\sample747\\output0\\image_7393.tif\n",
      "area_7400.shp\n",
      "D:\\lakemapping\\sample750_pad\\tif\\sample_7400.tif\n",
      "D:\\lakemapping\\2_dataset\\sample747\\output0\\image_7400.tif\n",
      "area_7427.shp\n",
      "D:\\lakemapping\\sample750_pad\\tif\\sample_7427.tif\n",
      "D:\\lakemapping\\2_dataset\\sample747\\output0\\image_7427.tif\n",
      "area_7499.shp\n",
      "D:\\lakemapping\\sample750_pad\\tif\\sample_7499.tif\n",
      "D:\\lakemapping\\2_dataset\\sample747\\output0\\image_7499.tif\n",
      "area_7531.shp\n",
      "D:\\lakemapping\\sample750_pad\\tif\\sample_7531.tif\n",
      "D:\\lakemapping\\2_dataset\\sample747\\output0\\image_7531.tif\n",
      "area_7548.shp\n",
      "D:\\lakemapping\\sample750_pad\\tif\\sample_7548.tif\n",
      "D:\\lakemapping\\2_dataset\\sample747\\output0\\image_7548.tif\n",
      "area_7578.shp\n",
      "D:\\lakemapping\\sample750_pad\\tif\\sample_7578.tif\n",
      "D:\\lakemapping\\2_dataset\\sample747\\output0\\image_7578.tif\n"
     ]
    },
    {
     "name": "stdout",
     "output_type": "stream",
     "text": [
      "area_7648.shp\n",
      "D:\\lakemapping\\sample750_pad\\tif\\sample_7648.tif\n",
      "D:\\lakemapping\\2_dataset\\sample747\\output0\\image_7648.tif\n",
      "area_7724.shp\n",
      "D:\\lakemapping\\sample750_pad\\tif\\sample_7724.tif\n",
      "D:\\lakemapping\\2_dataset\\sample747\\output0\\image_7724.tif\n",
      "area_7733.shp\n",
      "D:\\lakemapping\\sample750_pad\\tif\\sample_7733.tif\n",
      "D:\\lakemapping\\2_dataset\\sample747\\output0\\image_7733.tif\n",
      "area_7752.shp\n",
      "D:\\lakemapping\\sample750_pad\\tif\\sample_7752.tif\n",
      "D:\\lakemapping\\2_dataset\\sample747\\output0\\image_7752.tif\n",
      "area_7776.shp\n",
      "D:\\lakemapping\\sample750_pad\\tif\\sample_7776.tif\n",
      "D:\\lakemapping\\2_dataset\\sample747\\output0\\image_7776.tif\n",
      "area_7796.shp\n",
      "D:\\lakemapping\\sample750_pad\\tif\\sample_7796.tif\n",
      "D:\\lakemapping\\2_dataset\\sample747\\output0\\image_7796.tif\n",
      "area_7815.shp\n",
      "D:\\lakemapping\\sample750_pad\\tif\\sample_7815.tif\n",
      "D:\\lakemapping\\2_dataset\\sample747\\output0\\image_7815.tif\n",
      "area_7889.shp\n",
      "D:\\lakemapping\\sample750_pad\\tif\\sample_7889.tif\n",
      "D:\\lakemapping\\2_dataset\\sample747\\output0\\image_7889.tif\n",
      "area_7993.shp\n",
      "D:\\lakemapping\\sample750_pad\\tif\\sample_7993.tif\n",
      "D:\\lakemapping\\2_dataset\\sample747\\output0\\image_7993.tif\n",
      "area_8038.shp\n",
      "D:\\lakemapping\\sample750_pad\\tif\\sample_8038.tif\n",
      "D:\\lakemapping\\2_dataset\\sample747\\output0\\image_8038.tif\n",
      "area_8043.shp\n",
      "D:\\lakemapping\\sample750_pad\\tif\\sample_8043.tif\n",
      "D:\\lakemapping\\2_dataset\\sample747\\output0\\image_8043.tif\n",
      "area_8103.shp\n",
      "D:\\lakemapping\\sample750_pad\\tif\\sample_8103.tif\n",
      "D:\\lakemapping\\2_dataset\\sample747\\output0\\image_8103.tif\n",
      "area_8150.shp\n",
      "D:\\lakemapping\\sample750_pad\\tif\\sample_8150.tif\n",
      "D:\\lakemapping\\2_dataset\\sample747\\output0\\image_8150.tif\n",
      "area_8166.shp\n",
      "D:\\lakemapping\\sample750_pad\\tif\\sample_8166.tif\n",
      "D:\\lakemapping\\2_dataset\\sample747\\output0\\image_8166.tif\n",
      "area_8199.shp\n",
      "D:\\lakemapping\\sample750_pad\\tif\\sample_8199.tif\n",
      "D:\\lakemapping\\2_dataset\\sample747\\output0\\image_8199.tif\n",
      "area_8212.shp\n",
      "D:\\lakemapping\\sample750_pad\\tif\\sample_8212.tif\n",
      "D:\\lakemapping\\2_dataset\\sample747\\output0\\image_8212.tif\n",
      "area_8250.shp\n",
      "D:\\lakemapping\\sample750_pad\\tif\\sample_8250.tif\n",
      "D:\\lakemapping\\2_dataset\\sample747\\output0\\image_8250.tif\n",
      "area_8517.shp\n",
      "D:\\lakemapping\\sample750_pad\\tif\\sample_8517.tif\n",
      "D:\\lakemapping\\2_dataset\\sample747\\output0\\image_8517.tif\n",
      "area_8603.shp\n",
      "D:\\lakemapping\\sample750_pad\\tif\\sample_8603.tif\n",
      "D:\\lakemapping\\2_dataset\\sample747\\output0\\image_8603.tif\n",
      "area_863.shp\n",
      "D:\\lakemapping\\sample750_pad\\tif\\sample_863.tif\n",
      "D:\\lakemapping\\2_dataset\\sample747\\output0\\image_863.tif\n",
      "area_8658.shp\n",
      "D:\\lakemapping\\sample750_pad\\tif\\sample_8658.tif\n",
      "D:\\lakemapping\\2_dataset\\sample747\\output0\\image_8658.tif\n",
      "area_8667.shp\n",
      "D:\\lakemapping\\sample750_pad\\tif\\sample_8667.tif\n",
      "D:\\lakemapping\\2_dataset\\sample747\\output0\\image_8667.tif\n",
      "area_8791.shp\n",
      "D:\\lakemapping\\sample750_pad\\tif\\sample_8791.tif\n",
      "D:\\lakemapping\\2_dataset\\sample747\\output0\\image_8791.tif\n",
      "area_8834.shp\n",
      "D:\\lakemapping\\sample750_pad\\tif\\sample_8834.tif\n",
      "D:\\lakemapping\\2_dataset\\sample747\\output0\\image_8834.tif\n",
      "area_8870.shp\n",
      "D:\\lakemapping\\sample750_pad\\tif\\sample_8870.tif\n",
      "D:\\lakemapping\\2_dataset\\sample747\\output0\\image_8870.tif\n",
      "area_8960.shp\n",
      "D:\\lakemapping\\sample750_pad\\tif\\sample_8960.tif\n",
      "D:\\lakemapping\\2_dataset\\sample747\\output0\\image_8960.tif\n",
      "area_8992.shp\n",
      "D:\\lakemapping\\sample750_pad\\tif\\sample_8992.tif\n",
      "D:\\lakemapping\\2_dataset\\sample747\\output0\\image_8992.tif\n",
      "area_9010.shp\n",
      "D:\\lakemapping\\sample750_pad\\tif\\sample_9010.tif\n",
      "D:\\lakemapping\\2_dataset\\sample747\\output0\\image_9010.tif\n",
      "area_9011.shp\n",
      "D:\\lakemapping\\sample750_pad\\tif\\sample_9011.tif\n",
      "D:\\lakemapping\\2_dataset\\sample747\\output0\\image_9011.tif\n",
      "area_9044.shp\n",
      "D:\\lakemapping\\sample750_pad\\tif\\sample_9044.tif\n",
      "D:\\lakemapping\\2_dataset\\sample747\\output0\\image_9044.tif\n",
      "area_9070.shp\n",
      "D:\\lakemapping\\sample750_pad\\tif\\sample_9070.tif\n",
      "D:\\lakemapping\\2_dataset\\sample747\\output0\\image_9070.tif\n",
      "area_9080.shp\n",
      "D:\\lakemapping\\sample750_pad\\tif\\sample_9080.tif\n",
      "D:\\lakemapping\\2_dataset\\sample747\\output0\\image_9080.tif\n",
      "area_9081.shp\n",
      "D:\\lakemapping\\sample750_pad\\tif\\sample_9081.tif\n",
      "D:\\lakemapping\\2_dataset\\sample747\\output0\\image_9081.tif\n",
      "area_9082.shp\n",
      "D:\\lakemapping\\sample750_pad\\tif\\sample_9082.tif\n",
      "D:\\lakemapping\\2_dataset\\sample747\\output0\\image_9082.tif\n",
      "area_9093.shp\n",
      "D:\\lakemapping\\sample750_pad\\tif\\sample_9093.tif\n",
      "D:\\lakemapping\\2_dataset\\sample747\\output0\\image_9093.tif\n",
      "area_9115.shp\n",
      "D:\\lakemapping\\sample750_pad\\tif\\sample_9115.tif\n",
      "D:\\lakemapping\\2_dataset\\sample747\\output0\\image_9115.tif\n",
      "area_9172.shp\n",
      "D:\\lakemapping\\sample750_pad\\tif\\sample_9172.tif\n",
      "D:\\lakemapping\\2_dataset\\sample747\\output0\\image_9172.tif\n",
      "area_9178.shp\n",
      "D:\\lakemapping\\sample750_pad\\tif\\sample_9178.tif\n",
      "D:\\lakemapping\\2_dataset\\sample747\\output0\\image_9178.tif\n",
      "area_9211_1.shp\n",
      "D:\\lakemapping\\sample750_pad\\tif\\sample_9211_1.tif\n",
      "D:\\lakemapping\\2_dataset\\sample747\\output0\\image_9211_1.tif\n",
      "area_953.shp\n",
      "D:\\lakemapping\\sample750_pad\\tif\\sample_953.tif\n",
      "D:\\lakemapping\\2_dataset\\sample747\\output0\\image_953.tif\n",
      "area_9547.shp\n",
      "D:\\lakemapping\\sample750_pad\\tif\\sample_9547.tif\n",
      "D:\\lakemapping\\2_dataset\\sample747\\output0\\image_9547.tif\n",
      "area_9653.shp\n",
      "D:\\lakemapping\\sample750_pad\\tif\\sample_9653.tif\n",
      "D:\\lakemapping\\2_dataset\\sample747\\output0\\image_9653.tif\n",
      "area_9697.shp\n",
      "D:\\lakemapping\\sample750_pad\\tif\\sample_9697.tif\n",
      "D:\\lakemapping\\2_dataset\\sample747\\output0\\image_9697.tif\n",
      "area_9732.shp\n",
      "D:\\lakemapping\\sample750_pad\\tif\\sample_9732.tif\n",
      "D:\\lakemapping\\2_dataset\\sample747\\output0\\image_9732.tif\n",
      "area_9766.shp\n",
      "D:\\lakemapping\\sample750_pad\\tif\\sample_9766.tif\n",
      "D:\\lakemapping\\2_dataset\\sample747\\output0\\image_9766.tif\n",
      "area_9792.shp\n",
      "D:\\lakemapping\\sample750_pad\\tif\\sample_9792.tif\n",
      "D:\\lakemapping\\2_dataset\\sample747\\output0\\image_9792.tif\n",
      "area_9890.shp\n",
      "D:\\lakemapping\\sample750_pad\\tif\\sample_9890.tif\n",
      "D:\\lakemapping\\2_dataset\\sample747\\output0\\image_9890.tif\n",
      "area_9921.shp\n",
      "D:\\lakemapping\\sample750_pad\\tif\\sample_9921.tif\n",
      "D:\\lakemapping\\2_dataset\\sample747\\output0\\image_9921.tif\n",
      "area_9945.shp\n",
      "D:\\lakemapping\\sample750_pad\\tif\\sample_9945.tif\n",
      "D:\\lakemapping\\2_dataset\\sample747\\output0\\image_9945.tif\n",
      "area_9959.shp\n",
      "D:\\lakemapping\\sample750_pad\\tif\\sample_9959.tif\n",
      "D:\\lakemapping\\2_dataset\\sample747\\output0\\image_9959.tif\n",
      "area_9973.shp\n",
      "D:\\lakemapping\\sample750_pad\\tif\\sample_9973.tif\n",
      "D:\\lakemapping\\2_dataset\\sample747\\output0\\image_9973.tif\n",
      "area_10017.shp\n",
      "D:\\lakemapping\\sample750_pad\\tif\\sample_10017.tif\n",
      "D:\\lakemapping\\2_dataset\\sample747\\output1\\image_10017.tif\n",
      "area_10077.shp\n",
      "D:\\lakemapping\\sample750_pad\\tif\\sample_10077.tif\n",
      "D:\\lakemapping\\2_dataset\\sample747\\output1\\image_10077.tif\n",
      "area_10125.shp\n",
      "D:\\lakemapping\\sample750_pad\\tif\\sample_10125.tif\n",
      "D:\\lakemapping\\2_dataset\\sample747\\output1\\image_10125.tif\n",
      "area_1013.shp\n",
      "D:\\lakemapping\\sample750_pad\\tif\\sample_1013.tif\n",
      "D:\\lakemapping\\2_dataset\\sample747\\output1\\image_1013.tif\n",
      "area_102.shp\n",
      "D:\\lakemapping\\sample750_pad\\tif\\sample_102.tif\n",
      "D:\\lakemapping\\2_dataset\\sample747\\output1\\image_102.tif\n",
      "area_10457.shp\n",
      "D:\\lakemapping\\sample750_pad\\tif\\sample_10457.tif\n",
      "D:\\lakemapping\\2_dataset\\sample747\\output1\\image_10457.tif\n",
      "area_10493.shp\n",
      "D:\\lakemapping\\sample750_pad\\tif\\sample_10493.tif\n",
      "D:\\lakemapping\\2_dataset\\sample747\\output1\\image_10493.tif\n",
      "area_10592.shp\n",
      "D:\\lakemapping\\sample750_pad\\tif\\sample_10592.tif\n",
      "D:\\lakemapping\\2_dataset\\sample747\\output1\\image_10592.tif\n",
      "area_10738.shp\n",
      "D:\\lakemapping\\sample750_pad\\tif\\sample_10738.tif\n",
      "D:\\lakemapping\\2_dataset\\sample747\\output1\\image_10738.tif\n",
      "area_10830.shp\n",
      "D:\\lakemapping\\sample750_pad\\tif\\sample_10830.tif\n",
      "D:\\lakemapping\\2_dataset\\sample747\\output1\\image_10830.tif\n",
      "area_1090.shp\n",
      "D:\\lakemapping\\sample750_pad\\tif\\sample_1090.tif\n",
      "D:\\lakemapping\\2_dataset\\sample747\\output1\\image_1090.tif\n",
      "area_11020_1.shp\n",
      "D:\\lakemapping\\sample750_pad\\tif\\sample_11020_1.tif\n",
      "D:\\lakemapping\\2_dataset\\sample747\\output1\\image_11020_1.tif\n",
      "area_11020_2.shp\n",
      "D:\\lakemapping\\sample750_pad\\tif\\sample_11020_2.tif\n",
      "D:\\lakemapping\\2_dataset\\sample747\\output1\\image_11020_2.tif\n",
      "area_11024.shp\n",
      "D:\\lakemapping\\sample750_pad\\tif\\sample_11024.tif\n",
      "D:\\lakemapping\\2_dataset\\sample747\\output1\\image_11024.tif\n",
      "area_11148.shp\n",
      "D:\\lakemapping\\sample750_pad\\tif\\sample_11148.tif\n",
      "D:\\lakemapping\\2_dataset\\sample747\\output1\\image_11148.tif\n",
      "area_11473.shp\n",
      "D:\\lakemapping\\sample750_pad\\tif\\sample_11473.tif\n",
      "D:\\lakemapping\\2_dataset\\sample747\\output1\\image_11473.tif\n",
      "area_115.shp\n",
      "D:\\lakemapping\\sample750_pad\\tif\\sample_115.tif\n",
      "D:\\lakemapping\\2_dataset\\sample747\\output1\\image_115.tif\n",
      "area_11516.shp\n",
      "D:\\lakemapping\\sample750_pad\\tif\\sample_11516.tif\n",
      "D:\\lakemapping\\2_dataset\\sample747\\output1\\image_11516.tif\n",
      "area_11555.shp\n",
      "D:\\lakemapping\\sample750_pad\\tif\\sample_11555.tif\n",
      "D:\\lakemapping\\2_dataset\\sample747\\output1\\image_11555.tif\n"
     ]
    },
    {
     "name": "stdout",
     "output_type": "stream",
     "text": [
      "area_11562_1.shp\n",
      "D:\\lakemapping\\sample750_pad\\tif\\sample_11562_1.tif\n",
      "D:\\lakemapping\\2_dataset\\sample747\\output1\\image_11562_1.tif\n",
      "area_11562_2.shp\n",
      "D:\\lakemapping\\sample750_pad\\tif\\sample_11562_2.tif\n",
      "D:\\lakemapping\\2_dataset\\sample747\\output1\\image_11562_2.tif\n",
      "area_11581.shp\n",
      "D:\\lakemapping\\sample750_pad\\tif\\sample_11581.tif\n",
      "D:\\lakemapping\\2_dataset\\sample747\\output1\\image_11581.tif\n",
      "area_11624.shp\n",
      "D:\\lakemapping\\sample750_pad\\tif\\sample_11624.tif\n",
      "D:\\lakemapping\\2_dataset\\sample747\\output1\\image_11624.tif\n",
      "area_11632.shp\n",
      "D:\\lakemapping\\sample750_pad\\tif\\sample_11632.tif\n",
      "D:\\lakemapping\\2_dataset\\sample747\\output1\\image_11632.tif\n",
      "area_11676.shp\n",
      "D:\\lakemapping\\sample750_pad\\tif\\sample_11676.tif\n",
      "D:\\lakemapping\\2_dataset\\sample747\\output1\\image_11676.tif\n",
      "area_11765.shp\n",
      "D:\\lakemapping\\sample750_pad\\tif\\sample_11765.tif\n",
      "D:\\lakemapping\\2_dataset\\sample747\\output1\\image_11765.tif\n",
      "area_11814.shp\n",
      "D:\\lakemapping\\sample750_pad\\tif\\sample_11814.tif\n",
      "D:\\lakemapping\\2_dataset\\sample747\\output1\\image_11814.tif\n",
      "area_11841.shp\n",
      "D:\\lakemapping\\sample750_pad\\tif\\sample_11841.tif\n",
      "D:\\lakemapping\\2_dataset\\sample747\\output1\\image_11841.tif\n",
      "area_11877.shp\n",
      "D:\\lakemapping\\sample750_pad\\tif\\sample_11877.tif\n",
      "D:\\lakemapping\\2_dataset\\sample747\\output1\\image_11877.tif\n",
      "area_11920.shp\n",
      "D:\\lakemapping\\sample750_pad\\tif\\sample_11920.tif\n",
      "D:\\lakemapping\\2_dataset\\sample747\\output1\\image_11920.tif\n",
      "area_11963.shp\n",
      "D:\\lakemapping\\sample750_pad\\tif\\sample_11963.tif\n",
      "D:\\lakemapping\\2_dataset\\sample747\\output1\\image_11963.tif\n",
      "area_11968.shp\n",
      "D:\\lakemapping\\sample750_pad\\tif\\sample_11968.tif\n",
      "D:\\lakemapping\\2_dataset\\sample747\\output1\\image_11968.tif\n",
      "area_11983.shp\n",
      "D:\\lakemapping\\sample750_pad\\tif\\sample_11983.tif\n",
      "D:\\lakemapping\\2_dataset\\sample747\\output1\\image_11983.tif\n",
      "area_12040.shp\n",
      "D:\\lakemapping\\sample750_pad\\tif\\sample_12040.tif\n",
      "D:\\lakemapping\\2_dataset\\sample747\\output1\\image_12040.tif\n",
      "area_12072.shp\n",
      "D:\\lakemapping\\sample750_pad\\tif\\sample_12072.tif\n",
      "D:\\lakemapping\\2_dataset\\sample747\\output1\\image_12072.tif\n",
      "area_12120.shp\n",
      "D:\\lakemapping\\sample750_pad\\tif\\sample_12120.tif\n",
      "D:\\lakemapping\\2_dataset\\sample747\\output1\\image_12120.tif\n",
      "area_12126.shp\n",
      "D:\\lakemapping\\sample750_pad\\tif\\sample_12126.tif\n",
      "D:\\lakemapping\\2_dataset\\sample747\\output1\\image_12126.tif\n",
      "area_12164.shp\n",
      "D:\\lakemapping\\sample750_pad\\tif\\sample_12164.tif\n",
      "D:\\lakemapping\\2_dataset\\sample747\\output1\\image_12164.tif\n",
      "area_12193.shp\n",
      "D:\\lakemapping\\sample750_pad\\tif\\sample_12193.tif\n",
      "D:\\lakemapping\\2_dataset\\sample747\\output1\\image_12193.tif\n",
      "area_12197.shp\n",
      "D:\\lakemapping\\sample750_pad\\tif\\sample_12197.tif\n",
      "D:\\lakemapping\\2_dataset\\sample747\\output1\\image_12197.tif\n",
      "area_12221.shp\n",
      "D:\\lakemapping\\sample750_pad\\tif\\sample_12221.tif\n",
      "D:\\lakemapping\\2_dataset\\sample747\\output1\\image_12221.tif\n",
      "area_12449.shp\n",
      "D:\\lakemapping\\sample750_pad\\tif\\sample_12449.tif\n",
      "D:\\lakemapping\\2_dataset\\sample747\\output1\\image_12449.tif\n",
      "area_12492.shp\n",
      "D:\\lakemapping\\sample750_pad\\tif\\sample_12492.tif\n",
      "D:\\lakemapping\\2_dataset\\sample747\\output1\\image_12492.tif\n",
      "area_12506.shp\n",
      "D:\\lakemapping\\sample750_pad\\tif\\sample_12506.tif\n",
      "D:\\lakemapping\\2_dataset\\sample747\\output1\\image_12506.tif\n",
      "area_12539.shp\n",
      "D:\\lakemapping\\sample750_pad\\tif\\sample_12539.tif\n",
      "D:\\lakemapping\\2_dataset\\sample747\\output1\\image_12539.tif\n",
      "area_12722.shp\n",
      "D:\\lakemapping\\sample750_pad\\tif\\sample_12722.tif\n",
      "D:\\lakemapping\\2_dataset\\sample747\\output1\\image_12722.tif\n",
      "area_12960.shp\n",
      "D:\\lakemapping\\sample750_pad\\tif\\sample_12960.tif\n",
      "D:\\lakemapping\\2_dataset\\sample747\\output1\\image_12960.tif\n",
      "area_13010.shp\n",
      "D:\\lakemapping\\sample750_pad\\tif\\sample_13010.tif\n",
      "D:\\lakemapping\\2_dataset\\sample747\\output1\\image_13010.tif\n",
      "area_13031.shp\n",
      "D:\\lakemapping\\sample750_pad\\tif\\sample_13031.tif\n",
      "D:\\lakemapping\\2_dataset\\sample747\\output1\\image_13031.tif\n",
      "area_13036.shp\n",
      "D:\\lakemapping\\sample750_pad\\tif\\sample_13036.tif\n",
      "D:\\lakemapping\\2_dataset\\sample747\\output1\\image_13036.tif\n",
      "area_13063.shp\n",
      "D:\\lakemapping\\sample750_pad\\tif\\sample_13063.tif\n",
      "D:\\lakemapping\\2_dataset\\sample747\\output1\\image_13063.tif\n",
      "area_1319.shp\n",
      "D:\\lakemapping\\sample750_pad\\tif\\sample_1319.tif\n",
      "D:\\lakemapping\\2_dataset\\sample747\\output1\\image_1319.tif\n",
      "area_13294.shp\n",
      "D:\\lakemapping\\sample750_pad\\tif\\sample_13294.tif\n",
      "D:\\lakemapping\\2_dataset\\sample747\\output1\\image_13294.tif\n",
      "area_13324.shp\n",
      "D:\\lakemapping\\sample750_pad\\tif\\sample_13324.tif\n",
      "D:\\lakemapping\\2_dataset\\sample747\\output1\\image_13324.tif\n",
      "area_13346.shp\n",
      "D:\\lakemapping\\sample750_pad\\tif\\sample_13346.tif\n",
      "D:\\lakemapping\\2_dataset\\sample747\\output1\\image_13346.tif\n",
      "area_13347.shp\n",
      "D:\\lakemapping\\sample750_pad\\tif\\sample_13347.tif\n",
      "D:\\lakemapping\\2_dataset\\sample747\\output1\\image_13347.tif\n",
      "area_13411_1.shp\n",
      "D:\\lakemapping\\sample750_pad\\tif\\sample_13411_1.tif\n",
      "D:\\lakemapping\\2_dataset\\sample747\\output1\\image_13411_1.tif\n",
      "area_13444.shp\n",
      "D:\\lakemapping\\sample750_pad\\tif\\sample_13444.tif\n",
      "D:\\lakemapping\\2_dataset\\sample747\\output1\\image_13444.tif\n",
      "area_13451.shp\n",
      "D:\\lakemapping\\sample750_pad\\tif\\sample_13451.tif\n",
      "D:\\lakemapping\\2_dataset\\sample747\\output1\\image_13451.tif\n",
      "area_13478.shp\n",
      "D:\\lakemapping\\sample750_pad\\tif\\sample_13478.tif\n",
      "D:\\lakemapping\\2_dataset\\sample747\\output1\\image_13478.tif\n",
      "area_13494.shp\n",
      "D:\\lakemapping\\sample750_pad\\tif\\sample_13494.tif\n",
      "D:\\lakemapping\\2_dataset\\sample747\\output1\\image_13494.tif\n",
      "area_13512.shp\n",
      "D:\\lakemapping\\sample750_pad\\tif\\sample_13512.tif\n",
      "D:\\lakemapping\\2_dataset\\sample747\\output1\\image_13512.tif\n",
      "area_13538.shp\n",
      "D:\\lakemapping\\sample750_pad\\tif\\sample_13538.tif\n",
      "D:\\lakemapping\\2_dataset\\sample747\\output1\\image_13538.tif\n",
      "area_13663.shp\n",
      "D:\\lakemapping\\sample750_pad\\tif\\sample_13663.tif\n",
      "D:\\lakemapping\\2_dataset\\sample747\\output1\\image_13663.tif\n",
      "area_13816.shp\n",
      "D:\\lakemapping\\sample750_pad\\tif\\sample_13816.tif\n",
      "D:\\lakemapping\\2_dataset\\sample747\\output1\\image_13816.tif\n",
      "area_13885.shp\n",
      "D:\\lakemapping\\sample750_pad\\tif\\sample_13885.tif\n",
      "D:\\lakemapping\\2_dataset\\sample747\\output1\\image_13885.tif\n",
      "area_13891.shp\n",
      "D:\\lakemapping\\sample750_pad\\tif\\sample_13891.tif\n",
      "D:\\lakemapping\\2_dataset\\sample747\\output1\\image_13891.tif\n",
      "area_1397.shp\n",
      "D:\\lakemapping\\sample750_pad\\tif\\sample_1397.tif\n",
      "D:\\lakemapping\\2_dataset\\sample747\\output1\\image_1397.tif\n",
      "area_1402_1.shp\n",
      "D:\\lakemapping\\sample750_pad\\tif\\sample_1402_1.tif\n",
      "D:\\lakemapping\\2_dataset\\sample747\\output1\\image_1402_1.tif\n",
      "area_1402_2.shp\n",
      "D:\\lakemapping\\sample750_pad\\tif\\sample_1402_2.tif\n",
      "D:\\lakemapping\\2_dataset\\sample747\\output1\\image_1402_2.tif\n",
      "area_14042.shp\n",
      "D:\\lakemapping\\sample750_pad\\tif\\sample_14042.tif\n",
      "D:\\lakemapping\\2_dataset\\sample747\\output1\\image_14042.tif\n",
      "area_14147.shp\n",
      "D:\\lakemapping\\sample750_pad\\tif\\sample_14147.tif\n",
      "D:\\lakemapping\\2_dataset\\sample747\\output1\\image_14147.tif\n",
      "area_1421.shp\n",
      "D:\\lakemapping\\sample750_pad\\tif\\sample_1421.tif\n",
      "D:\\lakemapping\\2_dataset\\sample747\\output1\\image_1421.tif\n",
      "area_14241.shp\n",
      "D:\\lakemapping\\sample750_pad\\tif\\sample_14241.tif\n",
      "D:\\lakemapping\\2_dataset\\sample747\\output1\\image_14241.tif\n",
      "area_14277.shp\n",
      "D:\\lakemapping\\sample750_pad\\tif\\sample_14277.tif\n",
      "D:\\lakemapping\\2_dataset\\sample747\\output1\\image_14277.tif\n",
      "area_14312.shp\n",
      "D:\\lakemapping\\sample750_pad\\tif\\sample_14312.tif\n",
      "D:\\lakemapping\\2_dataset\\sample747\\output1\\image_14312.tif\n",
      "area_14346.shp\n",
      "D:\\lakemapping\\sample750_pad\\tif\\sample_14346.tif\n",
      "D:\\lakemapping\\2_dataset\\sample747\\output1\\image_14346.tif\n",
      "area_14370.shp\n",
      "D:\\lakemapping\\sample750_pad\\tif\\sample_14370.tif\n",
      "D:\\lakemapping\\2_dataset\\sample747\\output1\\image_14370.tif\n",
      "area_14416.shp\n",
      "D:\\lakemapping\\sample750_pad\\tif\\sample_14416.tif\n",
      "D:\\lakemapping\\2_dataset\\sample747\\output1\\image_14416.tif\n",
      "area_14500.shp\n",
      "D:\\lakemapping\\sample750_pad\\tif\\sample_14500.tif\n",
      "D:\\lakemapping\\2_dataset\\sample747\\output1\\image_14500.tif\n",
      "area_14541.shp\n",
      "D:\\lakemapping\\sample750_pad\\tif\\sample_14541.tif\n",
      "D:\\lakemapping\\2_dataset\\sample747\\output1\\image_14541.tif\n",
      "area_14557.shp\n",
      "D:\\lakemapping\\sample750_pad\\tif\\sample_14557.tif\n",
      "D:\\lakemapping\\2_dataset\\sample747\\output1\\image_14557.tif\n",
      "area_14583.shp\n",
      "D:\\lakemapping\\sample750_pad\\tif\\sample_14583.tif\n",
      "D:\\lakemapping\\2_dataset\\sample747\\output1\\image_14583.tif\n",
      "area_1460.shp\n",
      "D:\\lakemapping\\sample750_pad\\tif\\sample_1460.tif\n",
      "D:\\lakemapping\\2_dataset\\sample747\\output1\\image_1460.tif\n",
      "area_14600.shp\n",
      "D:\\lakemapping\\sample750_pad\\tif\\sample_14600.tif\n",
      "D:\\lakemapping\\2_dataset\\sample747\\output1\\image_14600.tif\n",
      "area_14624_1.shp\n",
      "D:\\lakemapping\\sample750_pad\\tif\\sample_14624_1.tif\n",
      "D:\\lakemapping\\2_dataset\\sample747\\output1\\image_14624_1.tif\n",
      "area_14624_2.shp\n",
      "D:\\lakemapping\\sample750_pad\\tif\\sample_14624_2.tif\n",
      "D:\\lakemapping\\2_dataset\\sample747\\output1\\image_14624_2.tif\n"
     ]
    },
    {
     "name": "stdout",
     "output_type": "stream",
     "text": [
      "area_14624_3.shp\n",
      "D:\\lakemapping\\sample750_pad\\tif\\sample_14624_3.tif\n",
      "D:\\lakemapping\\2_dataset\\sample747\\output1\\image_14624_3.tif\n",
      "area_14624_4.shp\n",
      "D:\\lakemapping\\sample750_pad\\tif\\sample_14624_4.tif\n",
      "D:\\lakemapping\\2_dataset\\sample747\\output1\\image_14624_4.tif\n",
      "area_14674.shp\n",
      "D:\\lakemapping\\sample750_pad\\tif\\sample_14674.tif\n",
      "D:\\lakemapping\\2_dataset\\sample747\\output1\\image_14674.tif\n",
      "area_14682.shp\n",
      "D:\\lakemapping\\sample750_pad\\tif\\sample_14682.tif\n",
      "D:\\lakemapping\\2_dataset\\sample747\\output1\\image_14682.tif\n",
      "area_14698.shp\n",
      "D:\\lakemapping\\sample750_pad\\tif\\sample_14698.tif\n",
      "D:\\lakemapping\\2_dataset\\sample747\\output1\\image_14698.tif\n",
      "area_149.shp\n",
      "D:\\lakemapping\\sample750_pad\\tif\\sample_149.tif\n",
      "D:\\lakemapping\\2_dataset\\sample747\\output1\\image_149.tif\n",
      "area_15054.shp\n",
      "D:\\lakemapping\\sample750_pad\\tif\\sample_15054.tif\n",
      "D:\\lakemapping\\2_dataset\\sample747\\output1\\image_15054.tif\n",
      "area_15277.shp\n",
      "D:\\lakemapping\\sample750_pad\\tif\\sample_15277.tif\n",
      "D:\\lakemapping\\2_dataset\\sample747\\output1\\image_15277.tif\n",
      "area_15346.shp\n",
      "D:\\lakemapping\\sample750_pad\\tif\\sample_15346.tif\n",
      "D:\\lakemapping\\2_dataset\\sample747\\output1\\image_15346.tif\n",
      "area_15355.shp\n",
      "D:\\lakemapping\\sample750_pad\\tif\\sample_15355.tif\n",
      "D:\\lakemapping\\2_dataset\\sample747\\output1\\image_15355.tif\n",
      "area_1538.shp\n",
      "D:\\lakemapping\\sample750_pad\\tif\\sample_1538.tif\n",
      "D:\\lakemapping\\2_dataset\\sample747\\output1\\image_1538.tif\n",
      "area_15414.shp\n",
      "D:\\lakemapping\\sample750_pad\\tif\\sample_15414.tif\n",
      "D:\\lakemapping\\2_dataset\\sample747\\output1\\image_15414.tif\n",
      "area_15419.shp\n",
      "D:\\lakemapping\\sample750_pad\\tif\\sample_15419.tif\n",
      "D:\\lakemapping\\2_dataset\\sample747\\output1\\image_15419.tif\n",
      "area_15457.shp\n",
      "D:\\lakemapping\\sample750_pad\\tif\\sample_15457.tif\n",
      "D:\\lakemapping\\2_dataset\\sample747\\output1\\image_15457.tif\n",
      "area_15496.shp\n",
      "D:\\lakemapping\\sample750_pad\\tif\\sample_15496.tif\n",
      "D:\\lakemapping\\2_dataset\\sample747\\output1\\image_15496.tif\n",
      "area_15536.shp\n",
      "D:\\lakemapping\\sample750_pad\\tif\\sample_15536.tif\n",
      "D:\\lakemapping\\2_dataset\\sample747\\output1\\image_15536.tif\n",
      "area_15573.shp\n",
      "D:\\lakemapping\\sample750_pad\\tif\\sample_15573.tif\n",
      "D:\\lakemapping\\2_dataset\\sample747\\output1\\image_15573.tif\n",
      "area_15601.shp\n",
      "D:\\lakemapping\\sample750_pad\\tif\\sample_15601.tif\n",
      "D:\\lakemapping\\2_dataset\\sample747\\output1\\image_15601.tif\n",
      "area_15663.shp\n",
      "D:\\lakemapping\\sample750_pad\\tif\\sample_15663.tif\n",
      "D:\\lakemapping\\2_dataset\\sample747\\output1\\image_15663.tif\n",
      "area_15682.shp\n",
      "D:\\lakemapping\\sample750_pad\\tif\\sample_15682.tif\n",
      "D:\\lakemapping\\2_dataset\\sample747\\output1\\image_15682.tif\n",
      "area_15721.shp\n",
      "D:\\lakemapping\\sample750_pad\\tif\\sample_15721.tif\n",
      "D:\\lakemapping\\2_dataset\\sample747\\output1\\image_15721.tif\n",
      "area_15744.shp\n",
      "D:\\lakemapping\\sample750_pad\\tif\\sample_15744.tif\n",
      "D:\\lakemapping\\2_dataset\\sample747\\output1\\image_15744.tif\n",
      "area_15769.shp\n",
      "D:\\lakemapping\\sample750_pad\\tif\\sample_15769.tif\n",
      "D:\\lakemapping\\2_dataset\\sample747\\output1\\image_15769.tif\n",
      "area_15841.shp\n",
      "D:\\lakemapping\\sample750_pad\\tif\\sample_15841.tif\n",
      "D:\\lakemapping\\2_dataset\\sample747\\output1\\image_15841.tif\n",
      "area_15864.shp\n",
      "D:\\lakemapping\\sample750_pad\\tif\\sample_15864.tif\n",
      "D:\\lakemapping\\2_dataset\\sample747\\output1\\image_15864.tif\n",
      "area_16092.shp\n",
      "D:\\lakemapping\\sample750_pad\\tif\\sample_16092.tif\n",
      "D:\\lakemapping\\2_dataset\\sample747\\output1\\image_16092.tif\n",
      "area_16142.shp\n",
      "D:\\lakemapping\\sample750_pad\\tif\\sample_16142.tif\n",
      "D:\\lakemapping\\2_dataset\\sample747\\output1\\image_16142.tif\n",
      "area_16185.shp\n",
      "D:\\lakemapping\\sample750_pad\\tif\\sample_16185.tif\n",
      "D:\\lakemapping\\2_dataset\\sample747\\output1\\image_16185.tif\n",
      "area_16222.shp\n",
      "D:\\lakemapping\\sample750_pad\\tif\\sample_16222.tif\n",
      "D:\\lakemapping\\2_dataset\\sample747\\output1\\image_16222.tif\n",
      "area_16263.shp\n",
      "D:\\lakemapping\\sample750_pad\\tif\\sample_16263.tif\n",
      "D:\\lakemapping\\2_dataset\\sample747\\output1\\image_16263.tif\n",
      "area_16280.shp\n",
      "D:\\lakemapping\\sample750_pad\\tif\\sample_16280.tif\n",
      "D:\\lakemapping\\2_dataset\\sample747\\output1\\image_16280.tif\n",
      "area_1638.shp\n",
      "D:\\lakemapping\\sample750_pad\\tif\\sample_1638.tif\n",
      "D:\\lakemapping\\2_dataset\\sample747\\output1\\image_1638.tif\n",
      "area_16445.shp\n",
      "D:\\lakemapping\\sample750_pad\\tif\\sample_16445.tif\n",
      "D:\\lakemapping\\2_dataset\\sample747\\output1\\image_16445.tif\n",
      "area_16523.shp\n",
      "D:\\lakemapping\\sample750_pad\\tif\\sample_16523.tif\n",
      "D:\\lakemapping\\2_dataset\\sample747\\output1\\image_16523.tif\n",
      "area_16548.shp\n",
      "D:\\lakemapping\\sample750_pad\\tif\\sample_16548.tif\n",
      "D:\\lakemapping\\2_dataset\\sample747\\output1\\image_16548.tif\n",
      "area_16659.shp\n",
      "D:\\lakemapping\\sample750_pad\\tif\\sample_16659.tif\n",
      "D:\\lakemapping\\2_dataset\\sample747\\output1\\image_16659.tif\n",
      "area_16703.shp\n",
      "D:\\lakemapping\\sample750_pad\\tif\\sample_16703.tif\n",
      "D:\\lakemapping\\2_dataset\\sample747\\output1\\image_16703.tif\n",
      "area_16761.shp\n",
      "D:\\lakemapping\\sample750_pad\\tif\\sample_16761.tif\n",
      "D:\\lakemapping\\2_dataset\\sample747\\output1\\image_16761.tif\n",
      "area_16818.shp\n",
      "D:\\lakemapping\\sample750_pad\\tif\\sample_16818.tif\n",
      "D:\\lakemapping\\2_dataset\\sample747\\output1\\image_16818.tif\n",
      "area_16866.shp\n",
      "D:\\lakemapping\\sample750_pad\\tif\\sample_16866.tif\n",
      "D:\\lakemapping\\2_dataset\\sample747\\output1\\image_16866.tif\n",
      "area_16953.shp\n",
      "D:\\lakemapping\\sample750_pad\\tif\\sample_16953.tif\n",
      "D:\\lakemapping\\2_dataset\\sample747\\output1\\image_16953.tif\n",
      "area_16998.shp\n",
      "D:\\lakemapping\\sample750_pad\\tif\\sample_16998.tif\n",
      "D:\\lakemapping\\2_dataset\\sample747\\output1\\image_16998.tif\n",
      "area_17233.shp\n",
      "D:\\lakemapping\\sample750_pad\\tif\\sample_17233.tif\n",
      "D:\\lakemapping\\2_dataset\\sample747\\output1\\image_17233.tif\n",
      "area_17248.shp\n",
      "D:\\lakemapping\\sample750_pad\\tif\\sample_17248.tif\n",
      "D:\\lakemapping\\2_dataset\\sample747\\output1\\image_17248.tif\n",
      "area_17302.shp\n",
      "D:\\lakemapping\\sample750_pad\\tif\\sample_17302.tif\n",
      "D:\\lakemapping\\2_dataset\\sample747\\output1\\image_17302.tif\n",
      "area_17427.shp\n",
      "D:\\lakemapping\\sample750_pad\\tif\\sample_17427.tif\n",
      "D:\\lakemapping\\2_dataset\\sample747\\output1\\image_17427.tif\n",
      "area_17541.shp\n",
      "D:\\lakemapping\\sample750_pad\\tif\\sample_17541.tif\n",
      "D:\\lakemapping\\2_dataset\\sample747\\output1\\image_17541.tif\n",
      "area_17592.shp\n",
      "D:\\lakemapping\\sample750_pad\\tif\\sample_17592.tif\n",
      "D:\\lakemapping\\2_dataset\\sample747\\output1\\image_17592.tif\n",
      "area_17596.shp\n",
      "D:\\lakemapping\\sample750_pad\\tif\\sample_17596.tif\n",
      "D:\\lakemapping\\2_dataset\\sample747\\output1\\image_17596.tif\n",
      "area_17622.shp\n",
      "D:\\lakemapping\\sample750_pad\\tif\\sample_17622.tif\n",
      "D:\\lakemapping\\2_dataset\\sample747\\output1\\image_17622.tif\n",
      "area_1773.shp\n",
      "D:\\lakemapping\\sample750_pad\\tif\\sample_1773.tif\n",
      "D:\\lakemapping\\2_dataset\\sample747\\output1\\image_1773.tif\n",
      "area_1786.shp\n",
      "D:\\lakemapping\\sample750_pad\\tif\\sample_1786.tif\n",
      "D:\\lakemapping\\2_dataset\\sample747\\output1\\image_1786.tif\n",
      "area_1800.shp\n",
      "D:\\lakemapping\\sample750_pad\\tif\\sample_1800.tif\n",
      "D:\\lakemapping\\2_dataset\\sample747\\output1\\image_1800.tif\n",
      "area_18027.shp\n",
      "D:\\lakemapping\\sample750_pad\\tif\\sample_18027.tif\n",
      "D:\\lakemapping\\2_dataset\\sample747\\output1\\image_18027.tif\n",
      "area_18223.shp\n",
      "D:\\lakemapping\\sample750_pad\\tif\\sample_18223.tif\n",
      "D:\\lakemapping\\2_dataset\\sample747\\output1\\image_18223.tif\n",
      "area_18505.shp\n",
      "D:\\lakemapping\\sample750_pad\\tif\\sample_18505.tif\n",
      "D:\\lakemapping\\2_dataset\\sample747\\output1\\image_18505.tif\n",
      "area_1858.shp\n",
      "D:\\lakemapping\\sample750_pad\\tif\\sample_1858.tif\n",
      "D:\\lakemapping\\2_dataset\\sample747\\output1\\image_1858.tif\n",
      "area_18747.shp\n",
      "D:\\lakemapping\\sample750_pad\\tif\\sample_18747.tif\n",
      "D:\\lakemapping\\2_dataset\\sample747\\output1\\image_18747.tif\n",
      "area_1978.shp\n",
      "D:\\lakemapping\\sample750_pad\\tif\\sample_1978.tif\n",
      "D:\\lakemapping\\2_dataset\\sample747\\output1\\image_1978.tif\n",
      "area_1992.shp\n",
      "D:\\lakemapping\\sample750_pad\\tif\\sample_1992.tif\n",
      "D:\\lakemapping\\2_dataset\\sample747\\output1\\image_1992.tif\n",
      "area_2056.shp\n",
      "D:\\lakemapping\\sample750_pad\\tif\\sample_2056.tif\n",
      "D:\\lakemapping\\2_dataset\\sample747\\output1\\image_2056.tif\n",
      "area_2067.shp\n",
      "D:\\lakemapping\\sample750_pad\\tif\\sample_2067.tif\n",
      "D:\\lakemapping\\2_dataset\\sample747\\output1\\image_2067.tif\n",
      "area_2107.shp\n",
      "D:\\lakemapping\\sample750_pad\\tif\\sample_2107.tif\n",
      "D:\\lakemapping\\2_dataset\\sample747\\output1\\image_2107.tif\n",
      "area_213.shp\n",
      "D:\\lakemapping\\sample750_pad\\tif\\sample_213.tif\n",
      "D:\\lakemapping\\2_dataset\\sample747\\output1\\image_213.tif\n",
      "area_2203.shp\n",
      "D:\\lakemapping\\sample750_pad\\tif\\sample_2203.tif\n",
      "D:\\lakemapping\\2_dataset\\sample747\\output1\\image_2203.tif\n",
      "area_2263.shp\n",
      "D:\\lakemapping\\sample750_pad\\tif\\sample_2263.tif\n",
      "D:\\lakemapping\\2_dataset\\sample747\\output1\\image_2263.tif\n",
      "area_2355.shp\n",
      "D:\\lakemapping\\sample750_pad\\tif\\sample_2355.tif\n",
      "D:\\lakemapping\\2_dataset\\sample747\\output1\\image_2355.tif\n",
      "area_2580.shp\n",
      "D:\\lakemapping\\sample750_pad\\tif\\sample_2580.tif\n",
      "D:\\lakemapping\\2_dataset\\sample747\\output1\\image_2580.tif\n",
      "area_2657.shp\n",
      "D:\\lakemapping\\sample750_pad\\tif\\sample_2657.tif\n",
      "D:\\lakemapping\\2_dataset\\sample747\\output1\\image_2657.tif\n",
      "area_2686.shp\n",
      "D:\\lakemapping\\sample750_pad\\tif\\sample_2686.tif\n",
      "D:\\lakemapping\\2_dataset\\sample747\\output1\\image_2686.tif\n",
      "area_2796.shp\n",
      "D:\\lakemapping\\sample750_pad\\tif\\sample_2796.tif\n",
      "D:\\lakemapping\\2_dataset\\sample747\\output1\\image_2796.tif\n",
      "area_2810.shp\n",
      "D:\\lakemapping\\sample750_pad\\tif\\sample_2810.tif\n",
      "D:\\lakemapping\\2_dataset\\sample747\\output1\\image_2810.tif\n"
     ]
    },
    {
     "name": "stdout",
     "output_type": "stream",
     "text": [
      "area_2827.shp\n",
      "D:\\lakemapping\\sample750_pad\\tif\\sample_2827.tif\n",
      "D:\\lakemapping\\2_dataset\\sample747\\output1\\image_2827.tif\n",
      "area_2896.shp\n",
      "D:\\lakemapping\\sample750_pad\\tif\\sample_2896.tif\n",
      "D:\\lakemapping\\2_dataset\\sample747\\output1\\image_2896.tif\n",
      "area_2913_1.shp\n",
      "D:\\lakemapping\\sample750_pad\\tif\\sample_2913_1.tif\n",
      "D:\\lakemapping\\2_dataset\\sample747\\output1\\image_2913_1.tif\n",
      "area_2913_2.shp\n",
      "D:\\lakemapping\\sample750_pad\\tif\\sample_2913_2.tif\n",
      "D:\\lakemapping\\2_dataset\\sample747\\output1\\image_2913_2.tif\n",
      "area_2922.shp\n",
      "D:\\lakemapping\\sample750_pad\\tif\\sample_2922.tif\n",
      "D:\\lakemapping\\2_dataset\\sample747\\output1\\image_2922.tif\n",
      "area_306.shp\n",
      "D:\\lakemapping\\sample750_pad\\tif\\sample_306.tif\n",
      "D:\\lakemapping\\2_dataset\\sample747\\output1\\image_306.tif\n",
      "area_3090.shp\n",
      "D:\\lakemapping\\sample750_pad\\tif\\sample_3090.tif\n",
      "D:\\lakemapping\\2_dataset\\sample747\\output1\\image_3090.tif\n",
      "area_3458.shp\n",
      "D:\\lakemapping\\sample750_pad\\tif\\sample_3458.tif\n",
      "D:\\lakemapping\\2_dataset\\sample747\\output1\\image_3458.tif\n",
      "area_3531.shp\n",
      "D:\\lakemapping\\sample750_pad\\tif\\sample_3531.tif\n",
      "D:\\lakemapping\\2_dataset\\sample747\\output1\\image_3531.tif\n",
      "area_3690.shp\n",
      "D:\\lakemapping\\sample750_pad\\tif\\sample_3690.tif\n",
      "D:\\lakemapping\\2_dataset\\sample747\\output1\\image_3690.tif\n",
      "area_3703.shp\n",
      "D:\\lakemapping\\sample750_pad\\tif\\sample_3703.tif\n",
      "D:\\lakemapping\\2_dataset\\sample747\\output1\\image_3703.tif\n",
      "area_43.shp\n",
      "D:\\lakemapping\\sample750_pad\\tif\\sample_43.tif\n",
      "D:\\lakemapping\\2_dataset\\sample747\\output1\\image_43.tif\n",
      "area_4467.shp\n",
      "D:\\lakemapping\\sample750_pad\\tif\\sample_4467.tif\n",
      "D:\\lakemapping\\2_dataset\\sample747\\output1\\image_4467.tif\n",
      "area_455.shp\n",
      "D:\\lakemapping\\sample750_pad\\tif\\sample_455.tif\n",
      "D:\\lakemapping\\2_dataset\\sample747\\output1\\image_455.tif\n",
      "area_4978.shp\n",
      "D:\\lakemapping\\sample750_pad\\tif\\sample_4978.tif\n",
      "D:\\lakemapping\\2_dataset\\sample747\\output1\\image_4978.tif\n",
      "area_5017.shp\n",
      "D:\\lakemapping\\sample750_pad\\tif\\sample_5017.tif\n",
      "D:\\lakemapping\\2_dataset\\sample747\\output1\\image_5017.tif\n",
      "area_5041.shp\n",
      "D:\\lakemapping\\sample750_pad\\tif\\sample_5041.tif\n",
      "D:\\lakemapping\\2_dataset\\sample747\\output1\\image_5041.tif\n",
      "area_5108.shp\n",
      "D:\\lakemapping\\sample750_pad\\tif\\sample_5108.tif\n",
      "D:\\lakemapping\\2_dataset\\sample747\\output1\\image_5108.tif\n",
      "area_5109.shp\n",
      "D:\\lakemapping\\sample750_pad\\tif\\sample_5109.tif\n",
      "D:\\lakemapping\\2_dataset\\sample747\\output1\\image_5109.tif\n",
      "area_5140.shp\n",
      "D:\\lakemapping\\sample750_pad\\tif\\sample_5140.tif\n",
      "D:\\lakemapping\\2_dataset\\sample747\\output1\\image_5140.tif\n",
      "area_5150.shp\n",
      "D:\\lakemapping\\sample750_pad\\tif\\sample_5150.tif\n",
      "D:\\lakemapping\\2_dataset\\sample747\\output1\\image_5150.tif\n",
      "area_520.shp\n",
      "D:\\lakemapping\\sample750_pad\\tif\\sample_520.tif\n",
      "D:\\lakemapping\\2_dataset\\sample747\\output1\\image_520.tif\n",
      "area_5209.shp\n",
      "D:\\lakemapping\\sample750_pad\\tif\\sample_5209.tif\n",
      "D:\\lakemapping\\2_dataset\\sample747\\output1\\image_5209.tif\n",
      "area_5213.shp\n",
      "D:\\lakemapping\\sample750_pad\\tif\\sample_5213.tif\n",
      "D:\\lakemapping\\2_dataset\\sample747\\output1\\image_5213.tif\n",
      "area_5237.shp\n",
      "D:\\lakemapping\\sample750_pad\\tif\\sample_5237.tif\n",
      "D:\\lakemapping\\2_dataset\\sample747\\output1\\image_5237.tif\n",
      "area_5277.shp\n",
      "D:\\lakemapping\\sample750_pad\\tif\\sample_5277.tif\n",
      "D:\\lakemapping\\2_dataset\\sample747\\output1\\image_5277.tif\n",
      "area_5296.shp\n",
      "D:\\lakemapping\\sample750_pad\\tif\\sample_5296.tif\n",
      "D:\\lakemapping\\2_dataset\\sample747\\output1\\image_5296.tif\n",
      "area_56.shp\n",
      "D:\\lakemapping\\sample750_pad\\tif\\sample_56.tif\n",
      "D:\\lakemapping\\2_dataset\\sample747\\output1\\image_56.tif\n",
      "area_5771.shp\n",
      "D:\\lakemapping\\sample750_pad\\tif\\sample_5771.tif\n",
      "D:\\lakemapping\\2_dataset\\sample747\\output1\\image_5771.tif\n",
      "area_6102.shp\n",
      "D:\\lakemapping\\sample750_pad\\tif\\sample_6102.tif\n",
      "D:\\lakemapping\\2_dataset\\sample747\\output1\\image_6102.tif\n",
      "area_646.shp\n",
      "D:\\lakemapping\\sample750_pad\\tif\\sample_646.tif\n",
      "D:\\lakemapping\\2_dataset\\sample747\\output1\\image_646.tif\n",
      "area_648.shp\n",
      "D:\\lakemapping\\sample750_pad\\tif\\sample_648.tif\n",
      "D:\\lakemapping\\2_dataset\\sample747\\output1\\image_648.tif\n",
      "area_65.shp\n",
      "D:\\lakemapping\\sample750_pad\\tif\\sample_65.tif\n",
      "D:\\lakemapping\\2_dataset\\sample747\\output1\\image_65.tif\n",
      "area_658.shp\n",
      "D:\\lakemapping\\sample750_pad\\tif\\sample_658.tif\n",
      "D:\\lakemapping\\2_dataset\\sample747\\output1\\image_658.tif\n",
      "area_66.shp\n",
      "D:\\lakemapping\\sample750_pad\\tif\\sample_66.tif\n",
      "D:\\lakemapping\\2_dataset\\sample747\\output1\\image_66.tif\n",
      "area_6813.shp\n",
      "D:\\lakemapping\\sample750_pad\\tif\\sample_6813.tif\n",
      "D:\\lakemapping\\2_dataset\\sample747\\output1\\image_6813.tif\n",
      "area_6881.shp\n",
      "D:\\lakemapping\\sample750_pad\\tif\\sample_6881.tif\n",
      "D:\\lakemapping\\2_dataset\\sample747\\output1\\image_6881.tif\n",
      "area_6948.shp\n",
      "D:\\lakemapping\\sample750_pad\\tif\\sample_6948.tif\n",
      "D:\\lakemapping\\2_dataset\\sample747\\output1\\image_6948.tif\n",
      "area_7064.shp\n",
      "D:\\lakemapping\\sample750_pad\\tif\\sample_7064.tif\n",
      "D:\\lakemapping\\2_dataset\\sample747\\output1\\image_7064.tif\n",
      "area_7116.shp\n",
      "D:\\lakemapping\\sample750_pad\\tif\\sample_7116.tif\n",
      "D:\\lakemapping\\2_dataset\\sample747\\output1\\image_7116.tif\n",
      "area_7513.shp\n",
      "D:\\lakemapping\\sample750_pad\\tif\\sample_7513.tif\n",
      "D:\\lakemapping\\2_dataset\\sample747\\output1\\image_7513.tif\n",
      "area_759.shp\n",
      "D:\\lakemapping\\sample750_pad\\tif\\sample_759.tif\n",
      "D:\\lakemapping\\2_dataset\\sample747\\output1\\image_759.tif\n",
      "area_7601.shp\n",
      "D:\\lakemapping\\sample750_pad\\tif\\sample_7601.tif\n",
      "D:\\lakemapping\\2_dataset\\sample747\\output1\\image_7601.tif\n",
      "area_7653.shp\n",
      "D:\\lakemapping\\sample750_pad\\tif\\sample_7653.tif\n",
      "D:\\lakemapping\\2_dataset\\sample747\\output1\\image_7653.tif\n",
      "area_7763.shp\n",
      "D:\\lakemapping\\sample750_pad\\tif\\sample_7763.tif\n",
      "D:\\lakemapping\\2_dataset\\sample747\\output1\\image_7763.tif\n",
      "area_7875.shp\n",
      "D:\\lakemapping\\sample750_pad\\tif\\sample_7875.tif\n",
      "D:\\lakemapping\\2_dataset\\sample747\\output1\\image_7875.tif\n",
      "area_8069.shp\n",
      "D:\\lakemapping\\sample750_pad\\tif\\sample_8069.tif\n",
      "D:\\lakemapping\\2_dataset\\sample747\\output1\\image_8069.tif\n",
      "area_8074.shp\n",
      "D:\\lakemapping\\sample750_pad\\tif\\sample_8074.tif\n",
      "D:\\lakemapping\\2_dataset\\sample747\\output1\\image_8074.tif\n",
      "area_8303.shp\n",
      "D:\\lakemapping\\sample750_pad\\tif\\sample_8303.tif\n",
      "D:\\lakemapping\\2_dataset\\sample747\\output1\\image_8303.tif\n",
      "area_8318.shp\n",
      "D:\\lakemapping\\sample750_pad\\tif\\sample_8318.tif\n",
      "D:\\lakemapping\\2_dataset\\sample747\\output1\\image_8318.tif\n",
      "area_85.shp\n",
      "D:\\lakemapping\\sample750_pad\\tif\\sample_85.tif\n",
      "D:\\lakemapping\\2_dataset\\sample747\\output1\\image_85.tif\n",
      "area_8522.shp\n",
      "D:\\lakemapping\\sample750_pad\\tif\\sample_8522.tif\n",
      "D:\\lakemapping\\2_dataset\\sample747\\output1\\image_8522.tif\n",
      "area_862.shp\n",
      "D:\\lakemapping\\sample750_pad\\tif\\sample_862.tif\n",
      "D:\\lakemapping\\2_dataset\\sample747\\output1\\image_862.tif\n",
      "area_8661.shp\n",
      "D:\\lakemapping\\sample750_pad\\tif\\sample_8661.tif\n",
      "D:\\lakemapping\\2_dataset\\sample747\\output1\\image_8661.tif\n",
      "area_8671.shp\n",
      "D:\\lakemapping\\sample750_pad\\tif\\sample_8671.tif\n",
      "D:\\lakemapping\\2_dataset\\sample747\\output1\\image_8671.tif\n",
      "area_8681.shp\n",
      "D:\\lakemapping\\sample750_pad\\tif\\sample_8681.tif\n",
      "D:\\lakemapping\\2_dataset\\sample747\\output1\\image_8681.tif\n",
      "area_8735.shp\n",
      "D:\\lakemapping\\sample750_pad\\tif\\sample_8735.tif\n",
      "D:\\lakemapping\\2_dataset\\sample747\\output1\\image_8735.tif\n",
      "area_8876.shp\n",
      "D:\\lakemapping\\sample750_pad\\tif\\sample_8876.tif\n",
      "D:\\lakemapping\\2_dataset\\sample747\\output1\\image_8876.tif\n",
      "area_8966.shp\n",
      "D:\\lakemapping\\sample750_pad\\tif\\sample_8966.tif\n",
      "D:\\lakemapping\\2_dataset\\sample747\\output1\\image_8966.tif\n",
      "area_9078.shp\n",
      "D:\\lakemapping\\sample750_pad\\tif\\sample_9078.tif\n",
      "D:\\lakemapping\\2_dataset\\sample747\\output1\\image_9078.tif\n",
      "area_9088.shp\n",
      "D:\\lakemapping\\sample750_pad\\tif\\sample_9088.tif\n",
      "D:\\lakemapping\\2_dataset\\sample747\\output1\\image_9088.tif\n",
      "area_9089.shp\n",
      "D:\\lakemapping\\sample750_pad\\tif\\sample_9089.tif\n",
      "D:\\lakemapping\\2_dataset\\sample747\\output1\\image_9089.tif\n",
      "area_9095.shp\n",
      "D:\\lakemapping\\sample750_pad\\tif\\sample_9095.tif\n",
      "D:\\lakemapping\\2_dataset\\sample747\\output1\\image_9095.tif\n",
      "area_91.shp\n",
      "D:\\lakemapping\\sample750_pad\\tif\\sample_91.tif\n",
      "D:\\lakemapping\\2_dataset\\sample747\\output1\\image_91.tif\n",
      "area_9105.shp\n",
      "D:\\lakemapping\\sample750_pad\\tif\\sample_9105.tif\n",
      "D:\\lakemapping\\2_dataset\\sample747\\output1\\image_9105.tif\n",
      "area_9116.shp\n",
      "D:\\lakemapping\\sample750_pad\\tif\\sample_9116.tif\n",
      "D:\\lakemapping\\2_dataset\\sample747\\output1\\image_9116.tif\n",
      "area_9117.shp\n",
      "D:\\lakemapping\\sample750_pad\\tif\\sample_9117.tif\n",
      "D:\\lakemapping\\2_dataset\\sample747\\output1\\image_9117.tif\n",
      "area_9169.shp\n",
      "D:\\lakemapping\\sample750_pad\\tif\\sample_9169.tif\n",
      "D:\\lakemapping\\2_dataset\\sample747\\output1\\image_9169.tif\n",
      "area_9211_2.shp\n",
      "D:\\lakemapping\\sample750_pad\\tif\\sample_9211_2.tif\n",
      "D:\\lakemapping\\2_dataset\\sample747\\output1\\image_9211_2.tif\n",
      "area_9238.shp\n",
      "D:\\lakemapping\\sample750_pad\\tif\\sample_9238.tif\n",
      "D:\\lakemapping\\2_dataset\\sample747\\output1\\image_9238.tif\n",
      "area_9263.shp\n",
      "D:\\lakemapping\\sample750_pad\\tif\\sample_9263.tif\n",
      "D:\\lakemapping\\2_dataset\\sample747\\output1\\image_9263.tif\n",
      "area_96.shp\n",
      "D:\\lakemapping\\sample750_pad\\tif\\sample_96.tif\n",
      "D:\\lakemapping\\2_dataset\\sample747\\output1\\image_96.tif\n",
      "area_9604.shp\n",
      "D:\\lakemapping\\sample750_pad\\tif\\sample_9604.tif\n",
      "D:\\lakemapping\\2_dataset\\sample747\\output1\\image_9604.tif\n"
     ]
    },
    {
     "name": "stdout",
     "output_type": "stream",
     "text": [
      "area_9618.shp\n",
      "D:\\lakemapping\\sample750_pad\\tif\\sample_9618.tif\n",
      "D:\\lakemapping\\2_dataset\\sample747\\output1\\image_9618.tif\n",
      "area_9816.shp\n",
      "D:\\lakemapping\\sample750_pad\\tif\\sample_9816.tif\n",
      "D:\\lakemapping\\2_dataset\\sample747\\output1\\image_9816.tif\n",
      "area_9847.shp\n",
      "D:\\lakemapping\\sample750_pad\\tif\\sample_9847.tif\n",
      "D:\\lakemapping\\2_dataset\\sample747\\output1\\image_9847.tif\n",
      "area_9875.shp\n",
      "D:\\lakemapping\\sample750_pad\\tif\\sample_9875.tif\n",
      "D:\\lakemapping\\2_dataset\\sample747\\output1\\image_9875.tif\n",
      "area_995.shp\n",
      "D:\\lakemapping\\sample750_pad\\tif\\sample_995.tif\n",
      "D:\\lakemapping\\2_dataset\\sample747\\output1\\image_995.tif\n",
      "area_10171.shp\n",
      "D:\\lakemapping\\sample750_pad\\tif\\sample_10171.tif\n",
      "D:\\lakemapping\\2_dataset\\sample747\\output2\\image_10171.tif\n",
      "area_10198.shp\n",
      "D:\\lakemapping\\sample750_pad\\tif\\sample_10198.tif\n",
      "D:\\lakemapping\\2_dataset\\sample747\\output2\\image_10198.tif\n",
      "area_10203.shp\n",
      "D:\\lakemapping\\sample750_pad\\tif\\sample_10203.tif\n",
      "D:\\lakemapping\\2_dataset\\sample747\\output2\\image_10203.tif\n",
      "area_10228.shp\n",
      "D:\\lakemapping\\sample750_pad\\tif\\sample_10228.tif\n",
      "D:\\lakemapping\\2_dataset\\sample747\\output2\\image_10228.tif\n",
      "area_10247.shp\n",
      "D:\\lakemapping\\sample750_pad\\tif\\sample_10247.tif\n",
      "D:\\lakemapping\\2_dataset\\sample747\\output2\\image_10247.tif\n",
      "area_10277.shp\n",
      "D:\\lakemapping\\sample750_pad\\tif\\sample_10277.tif\n",
      "D:\\lakemapping\\2_dataset\\sample747\\output2\\image_10277.tif\n",
      "area_10324.shp\n",
      "D:\\lakemapping\\sample750_pad\\tif\\sample_10324.tif\n",
      "D:\\lakemapping\\2_dataset\\sample747\\output2\\image_10324.tif\n",
      "area_10413.shp\n",
      "D:\\lakemapping\\sample750_pad\\tif\\sample_10413.tif\n",
      "D:\\lakemapping\\2_dataset\\sample747\\output2\\image_10413.tif\n",
      "area_10531.shp\n",
      "D:\\lakemapping\\sample750_pad\\tif\\sample_10531.tif\n",
      "D:\\lakemapping\\2_dataset\\sample747\\output2\\image_10531.tif\n",
      "area_10557.shp\n",
      "D:\\lakemapping\\sample750_pad\\tif\\sample_10557.tif\n",
      "D:\\lakemapping\\2_dataset\\sample747\\output2\\image_10557.tif\n",
      "area_10636.shp\n",
      "D:\\lakemapping\\sample750_pad\\tif\\sample_10636.tif\n",
      "D:\\lakemapping\\2_dataset\\sample747\\output2\\image_10636.tif\n",
      "area_10786.shp\n",
      "D:\\lakemapping\\sample750_pad\\tif\\sample_10786.tif\n",
      "D:\\lakemapping\\2_dataset\\sample747\\output2\\image_10786.tif\n",
      "area_10979.shp\n",
      "D:\\lakemapping\\sample750_pad\\tif\\sample_10979.tif\n",
      "D:\\lakemapping\\2_dataset\\sample747\\output2\\image_10979.tif\n",
      "area_11234.shp\n",
      "D:\\lakemapping\\sample750_pad\\tif\\sample_11234.tif\n",
      "D:\\lakemapping\\2_dataset\\sample747\\output2\\image_11234.tif\n",
      "area_11238.shp\n",
      "D:\\lakemapping\\sample750_pad\\tif\\sample_11238.tif\n",
      "D:\\lakemapping\\2_dataset\\sample747\\output2\\image_11238.tif\n",
      "area_11432.shp\n",
      "D:\\lakemapping\\sample750_pad\\tif\\sample_11432.tif\n",
      "D:\\lakemapping\\2_dataset\\sample747\\output2\\image_11432.tif\n",
      "area_13105.shp\n",
      "D:\\lakemapping\\sample750_pad\\tif\\sample_13105.tif\n",
      "D:\\lakemapping\\2_dataset\\sample747\\output2\\image_13105.tif\n",
      "area_13119.shp\n",
      "D:\\lakemapping\\sample750_pad\\tif\\sample_13119.tif\n",
      "D:\\lakemapping\\2_dataset\\sample747\\output2\\image_13119.tif\n",
      "area_13153.shp\n",
      "D:\\lakemapping\\sample750_pad\\tif\\sample_13153.tif\n",
      "D:\\lakemapping\\2_dataset\\sample747\\output2\\image_13153.tif\n",
      "area_13198.shp\n",
      "D:\\lakemapping\\sample750_pad\\tif\\sample_13198.tif\n",
      "D:\\lakemapping\\2_dataset\\sample747\\output2\\image_13198.tif\n",
      "area_13624.shp\n",
      "D:\\lakemapping\\sample750_pad\\tif\\sample_13624.tif\n",
      "D:\\lakemapping\\2_dataset\\sample747\\output2\\image_13624.tif\n",
      "area_16287.shp\n",
      "D:\\lakemapping\\sample750_pad\\tif\\sample_16287.tif\n",
      "D:\\lakemapping\\2_dataset\\sample747\\output2\\image_16287.tif\n",
      "area_16371.shp\n",
      "D:\\lakemapping\\sample750_pad\\tif\\sample_16371.tif\n",
      "D:\\lakemapping\\2_dataset\\sample747\\output2\\image_16371.tif\n",
      "area_16417.shp\n",
      "D:\\lakemapping\\sample750_pad\\tif\\sample_16417.tif\n",
      "D:\\lakemapping\\2_dataset\\sample747\\output2\\image_16417.tif\n",
      "area_16583.shp\n",
      "D:\\lakemapping\\sample750_pad\\tif\\sample_16583.tif\n",
      "D:\\lakemapping\\2_dataset\\sample747\\output2\\image_16583.tif\n",
      "area_16738.shp\n",
      "D:\\lakemapping\\sample750_pad\\tif\\sample_16738.tif\n",
      "D:\\lakemapping\\2_dataset\\sample747\\output2\\image_16738.tif\n",
      "area_17210.shp\n",
      "D:\\lakemapping\\sample750_pad\\tif\\sample_17210.tif\n",
      "D:\\lakemapping\\2_dataset\\sample747\\output2\\image_17210.tif\n",
      "area_17328.shp\n",
      "D:\\lakemapping\\sample750_pad\\tif\\sample_17328.tif\n",
      "D:\\lakemapping\\2_dataset\\sample747\\output2\\image_17328.tif\n",
      "area_17363.shp\n",
      "D:\\lakemapping\\sample750_pad\\tif\\sample_17363.tif\n",
      "D:\\lakemapping\\2_dataset\\sample747\\output2\\image_17363.tif\n",
      "area_17374.shp\n",
      "D:\\lakemapping\\sample750_pad\\tif\\sample_17374.tif\n",
      "D:\\lakemapping\\2_dataset\\sample747\\output2\\image_17374.tif\n",
      "area_17388.shp\n",
      "D:\\lakemapping\\sample750_pad\\tif\\sample_17388.tif\n",
      "D:\\lakemapping\\2_dataset\\sample747\\output2\\image_17388.tif\n",
      "area_17920.shp\n",
      "D:\\lakemapping\\sample750_pad\\tif\\sample_17920.tif\n",
      "D:\\lakemapping\\2_dataset\\sample747\\output2\\image_17920.tif\n",
      "area_18569.shp\n",
      "D:\\lakemapping\\sample750_pad\\tif\\sample_18569.tif\n",
      "D:\\lakemapping\\2_dataset\\sample747\\output2\\image_18569.tif\n",
      "area_18605.shp\n",
      "D:\\lakemapping\\sample750_pad\\tif\\sample_18605.tif\n",
      "D:\\lakemapping\\2_dataset\\sample747\\output2\\image_18605.tif\n",
      "area_18618.shp\n",
      "D:\\lakemapping\\sample750_pad\\tif\\sample_18618.tif\n",
      "D:\\lakemapping\\2_dataset\\sample747\\output2\\image_18618.tif\n",
      "area_18818.shp\n",
      "D:\\lakemapping\\sample750_pad\\tif\\sample_18818.tif\n",
      "D:\\lakemapping\\2_dataset\\sample747\\output2\\image_18818.tif\n",
      "area_2080.shp\n",
      "D:\\lakemapping\\sample750_pad\\tif\\sample_2080.tif\n",
      "D:\\lakemapping\\2_dataset\\sample747\\output2\\image_2080.tif\n",
      "area_2094.shp\n",
      "D:\\lakemapping\\sample750_pad\\tif\\sample_2094.tif\n",
      "D:\\lakemapping\\2_dataset\\sample747\\output2\\image_2094.tif\n",
      "area_2561.shp\n",
      "D:\\lakemapping\\sample750_pad\\tif\\sample_2561.tif\n",
      "D:\\lakemapping\\2_dataset\\sample747\\output2\\image_2561.tif\n",
      "area_2604.shp\n",
      "D:\\lakemapping\\sample750_pad\\tif\\sample_2604.tif\n",
      "D:\\lakemapping\\2_dataset\\sample747\\output2\\image_2604.tif\n",
      "area_2739.shp\n",
      "D:\\lakemapping\\sample750_pad\\tif\\sample_2739.tif\n",
      "D:\\lakemapping\\2_dataset\\sample747\\output2\\image_2739.tif\n",
      "area_2929.shp\n",
      "D:\\lakemapping\\sample750_pad\\tif\\sample_2929.tif\n",
      "D:\\lakemapping\\2_dataset\\sample747\\output2\\image_2929.tif\n",
      "area_3023.shp\n",
      "D:\\lakemapping\\sample750_pad\\tif\\sample_3023.tif\n",
      "D:\\lakemapping\\2_dataset\\sample747\\output2\\image_3023.tif\n",
      "area_3205.shp\n",
      "D:\\lakemapping\\sample750_pad\\tif\\sample_3205.tif\n",
      "D:\\lakemapping\\2_dataset\\sample747\\output2\\image_3205.tif\n",
      "area_3421.shp\n",
      "D:\\lakemapping\\sample750_pad\\tif\\sample_3421.tif\n",
      "D:\\lakemapping\\2_dataset\\sample747\\output2\\image_3421.tif\n",
      "area_3454.shp\n",
      "D:\\lakemapping\\sample750_pad\\tif\\sample_3454.tif\n",
      "D:\\lakemapping\\2_dataset\\sample747\\output2\\image_3454.tif\n",
      "area_3461.shp\n",
      "D:\\lakemapping\\sample750_pad\\tif\\sample_3461.tif\n",
      "D:\\lakemapping\\2_dataset\\sample747\\output2\\image_3461.tif\n",
      "area_347.shp\n",
      "D:\\lakemapping\\sample750_pad\\tif\\sample_347.tif\n",
      "D:\\lakemapping\\2_dataset\\sample747\\output2\\image_347.tif\n",
      "area_3477.shp\n",
      "D:\\lakemapping\\sample750_pad\\tif\\sample_3477.tif\n",
      "D:\\lakemapping\\2_dataset\\sample747\\output2\\image_3477.tif\n",
      "area_349.shp\n",
      "D:\\lakemapping\\sample750_pad\\tif\\sample_349.tif\n",
      "D:\\lakemapping\\2_dataset\\sample747\\output2\\image_349.tif\n",
      "area_3501.shp\n",
      "D:\\lakemapping\\sample750_pad\\tif\\sample_3501.tif\n",
      "D:\\lakemapping\\2_dataset\\sample747\\output2\\image_3501.tif\n",
      "area_3535.shp\n",
      "D:\\lakemapping\\sample750_pad\\tif\\sample_3535.tif\n",
      "D:\\lakemapping\\2_dataset\\sample747\\output2\\image_3535.tif\n",
      "area_3565.shp\n",
      "D:\\lakemapping\\sample750_pad\\tif\\sample_3565.tif\n",
      "D:\\lakemapping\\2_dataset\\sample747\\output2\\image_3565.tif\n",
      "area_3624.shp\n",
      "D:\\lakemapping\\sample750_pad\\tif\\sample_3624.tif\n",
      "D:\\lakemapping\\2_dataset\\sample747\\output2\\image_3624.tif\n",
      "area_3876.shp\n",
      "D:\\lakemapping\\sample750_pad\\tif\\sample_3876.tif\n",
      "D:\\lakemapping\\2_dataset\\sample747\\output2\\image_3876.tif\n",
      "area_3886.shp\n",
      "D:\\lakemapping\\sample750_pad\\tif\\sample_3886.tif\n",
      "D:\\lakemapping\\2_dataset\\sample747\\output2\\image_3886.tif\n",
      "area_3921.shp\n",
      "D:\\lakemapping\\sample750_pad\\tif\\sample_3921.tif\n",
      "D:\\lakemapping\\2_dataset\\sample747\\output2\\image_3921.tif\n",
      "area_3928.shp\n",
      "D:\\lakemapping\\sample750_pad\\tif\\sample_3928.tif\n",
      "D:\\lakemapping\\2_dataset\\sample747\\output2\\image_3928.tif\n",
      "area_3932.shp\n",
      "D:\\lakemapping\\sample750_pad\\tif\\sample_3932.tif\n",
      "D:\\lakemapping\\2_dataset\\sample747\\output2\\image_3932.tif\n",
      "area_4030.shp\n",
      "D:\\lakemapping\\sample750_pad\\tif\\sample_4030.tif\n",
      "D:\\lakemapping\\2_dataset\\sample747\\output2\\image_4030.tif\n",
      "area_4052.shp\n",
      "D:\\lakemapping\\sample750_pad\\tif\\sample_4052.tif\n",
      "D:\\lakemapping\\2_dataset\\sample747\\output2\\image_4052.tif\n",
      "area_4482.shp\n",
      "D:\\lakemapping\\sample750_pad\\tif\\sample_4482.tif\n",
      "D:\\lakemapping\\2_dataset\\sample747\\output2\\image_4482.tif\n",
      "area_4582.shp\n",
      "D:\\lakemapping\\sample750_pad\\tif\\sample_4582.tif\n",
      "D:\\lakemapping\\2_dataset\\sample747\\output2\\image_4582.tif\n",
      "area_4631.shp\n",
      "D:\\lakemapping\\sample750_pad\\tif\\sample_4631.tif\n"
     ]
    },
    {
     "name": "stdout",
     "output_type": "stream",
     "text": [
      "D:\\lakemapping\\2_dataset\\sample747\\output2\\image_4631.tif\n",
      "area_4850.shp\n",
      "D:\\lakemapping\\sample750_pad\\tif\\sample_4850.tif\n",
      "D:\\lakemapping\\2_dataset\\sample747\\output2\\image_4850.tif\n",
      "area_4851.shp\n",
      "D:\\lakemapping\\sample750_pad\\tif\\sample_4851.tif\n",
      "D:\\lakemapping\\2_dataset\\sample747\\output2\\image_4851.tif\n",
      "area_4886.shp\n",
      "D:\\lakemapping\\sample750_pad\\tif\\sample_4886.tif\n",
      "D:\\lakemapping\\2_dataset\\sample747\\output2\\image_4886.tif\n",
      "area_4892.shp\n",
      "D:\\lakemapping\\sample750_pad\\tif\\sample_4892.tif\n",
      "D:\\lakemapping\\2_dataset\\sample747\\output2\\image_4892.tif\n",
      "area_4917.shp\n",
      "D:\\lakemapping\\sample750_pad\\tif\\sample_4917.tif\n",
      "D:\\lakemapping\\2_dataset\\sample747\\output2\\image_4917.tif\n",
      "area_4949.shp\n",
      "D:\\lakemapping\\sample750_pad\\tif\\sample_4949.tif\n",
      "D:\\lakemapping\\2_dataset\\sample747\\output2\\image_4949.tif\n",
      "area_4976.shp\n",
      "D:\\lakemapping\\sample750_pad\\tif\\sample_4976.tif\n",
      "D:\\lakemapping\\2_dataset\\sample747\\output2\\image_4976.tif\n",
      "area_5039.shp\n",
      "D:\\lakemapping\\sample750_pad\\tif\\sample_5039.tif\n",
      "D:\\lakemapping\\2_dataset\\sample747\\output2\\image_5039.tif\n",
      "area_5053.shp\n",
      "D:\\lakemapping\\sample750_pad\\tif\\sample_5053.tif\n",
      "D:\\lakemapping\\2_dataset\\sample747\\output2\\image_5053.tif\n",
      "area_5062.shp\n",
      "D:\\lakemapping\\sample750_pad\\tif\\sample_5062.tif\n",
      "D:\\lakemapping\\2_dataset\\sample747\\output2\\image_5062.tif\n",
      "area_5087.shp\n",
      "D:\\lakemapping\\sample750_pad\\tif\\sample_5087.tif\n",
      "D:\\lakemapping\\2_dataset\\sample747\\output2\\image_5087.tif\n",
      "area_5116.shp\n",
      "D:\\lakemapping\\sample750_pad\\tif\\sample_5116.tif\n",
      "D:\\lakemapping\\2_dataset\\sample747\\output2\\image_5116.tif\n",
      "area_5123.shp\n",
      "D:\\lakemapping\\sample750_pad\\tif\\sample_5123.tif\n",
      "D:\\lakemapping\\2_dataset\\sample747\\output2\\image_5123.tif\n",
      "area_5264.shp\n",
      "D:\\lakemapping\\sample750_pad\\tif\\sample_5264.tif\n",
      "D:\\lakemapping\\2_dataset\\sample747\\output2\\image_5264.tif\n",
      "area_5560.shp\n",
      "D:\\lakemapping\\sample750_pad\\tif\\sample_5560.tif\n",
      "D:\\lakemapping\\2_dataset\\sample747\\output2\\image_5560.tif\n",
      "area_5719.shp\n",
      "D:\\lakemapping\\sample750_pad\\tif\\sample_5719.tif\n",
      "D:\\lakemapping\\2_dataset\\sample747\\output2\\image_5719.tif\n",
      "area_5919.shp\n",
      "D:\\lakemapping\\sample750_pad\\tif\\sample_5919.tif\n",
      "D:\\lakemapping\\2_dataset\\sample747\\output2\\image_5919.tif\n",
      "area_6182.shp\n",
      "D:\\lakemapping\\sample750_pad\\tif\\sample_6182.tif\n",
      "D:\\lakemapping\\2_dataset\\sample747\\output2\\image_6182.tif\n",
      "area_6193.shp\n",
      "D:\\lakemapping\\sample750_pad\\tif\\sample_6193.tif\n",
      "D:\\lakemapping\\2_dataset\\sample747\\output2\\image_6193.tif\n",
      "area_6198.shp\n",
      "D:\\lakemapping\\sample750_pad\\tif\\sample_6198.tif\n",
      "D:\\lakemapping\\2_dataset\\sample747\\output2\\image_6198.tif\n",
      "area_6217.shp\n",
      "D:\\lakemapping\\sample750_pad\\tif\\sample_6217.tif\n",
      "D:\\lakemapping\\2_dataset\\sample747\\output2\\image_6217.tif\n",
      "area_6226.shp\n",
      "D:\\lakemapping\\sample750_pad\\tif\\sample_6226.tif\n",
      "D:\\lakemapping\\2_dataset\\sample747\\output2\\image_6226.tif\n",
      "area_6233.shp\n",
      "D:\\lakemapping\\sample750_pad\\tif\\sample_6233.tif\n",
      "D:\\lakemapping\\2_dataset\\sample747\\output2\\image_6233.tif\n",
      "area_6339.shp\n",
      "D:\\lakemapping\\sample750_pad\\tif\\sample_6339.tif\n",
      "D:\\lakemapping\\2_dataset\\sample747\\output2\\image_6339.tif\n",
      "area_6377.shp\n",
      "D:\\lakemapping\\sample750_pad\\tif\\sample_6377.tif\n",
      "D:\\lakemapping\\2_dataset\\sample747\\output2\\image_6377.tif\n",
      "area_6402.shp\n",
      "D:\\lakemapping\\sample750_pad\\tif\\sample_6402.tif\n",
      "D:\\lakemapping\\2_dataset\\sample747\\output2\\image_6402.tif\n",
      "area_6445_1.shp\n",
      "D:\\lakemapping\\sample750_pad\\tif\\sample_6445_1.tif\n",
      "D:\\lakemapping\\2_dataset\\sample747\\output2\\image_6445_1.tif\n",
      "area_6445_2.shp\n",
      "D:\\lakemapping\\sample750_pad\\tif\\sample_6445_2.tif\n",
      "D:\\lakemapping\\2_dataset\\sample747\\output2\\image_6445_2.tif\n",
      "area_6448.shp\n",
      "D:\\lakemapping\\sample750_pad\\tif\\sample_6448.tif\n",
      "D:\\lakemapping\\2_dataset\\sample747\\output2\\image_6448.tif\n",
      "area_6741.shp\n",
      "D:\\lakemapping\\sample750_pad\\tif\\sample_6741.tif\n",
      "D:\\lakemapping\\2_dataset\\sample747\\output2\\image_6741.tif\n",
      "area_7032.shp\n",
      "D:\\lakemapping\\sample750_pad\\tif\\sample_7032.tif\n",
      "D:\\lakemapping\\2_dataset\\sample747\\output2\\image_7032.tif\n",
      "area_7084.shp\n",
      "D:\\lakemapping\\sample750_pad\\tif\\sample_7084.tif\n",
      "D:\\lakemapping\\2_dataset\\sample747\\output2\\image_7084.tif\n",
      "area_7117.shp\n",
      "D:\\lakemapping\\sample750_pad\\tif\\sample_7117.tif\n",
      "D:\\lakemapping\\2_dataset\\sample747\\output2\\image_7117.tif\n",
      "area_7156.shp\n",
      "D:\\lakemapping\\sample750_pad\\tif\\sample_7156.tif\n",
      "D:\\lakemapping\\2_dataset\\sample747\\output2\\image_7156.tif\n",
      "area_7192.shp\n",
      "D:\\lakemapping\\sample750_pad\\tif\\sample_7192.tif\n",
      "D:\\lakemapping\\2_dataset\\sample747\\output2\\image_7192.tif\n",
      "area_7196.shp\n",
      "D:\\lakemapping\\sample750_pad\\tif\\sample_7196.tif\n",
      "D:\\lakemapping\\2_dataset\\sample747\\output2\\image_7196.tif\n",
      "area_7249.shp\n",
      "D:\\lakemapping\\sample750_pad\\tif\\sample_7249.tif\n",
      "D:\\lakemapping\\2_dataset\\sample747\\output2\\image_7249.tif\n",
      "area_7255.shp\n",
      "D:\\lakemapping\\sample750_pad\\tif\\sample_7255.tif\n",
      "D:\\lakemapping\\2_dataset\\sample747\\output2\\image_7255.tif\n",
      "area_7366.shp\n",
      "D:\\lakemapping\\sample750_pad\\tif\\sample_7366.tif\n",
      "D:\\lakemapping\\2_dataset\\sample747\\output2\\image_7366.tif\n",
      "area_7453.shp\n",
      "D:\\lakemapping\\sample750_pad\\tif\\sample_7453.tif\n",
      "D:\\lakemapping\\2_dataset\\sample747\\output2\\image_7453.tif\n",
      "area_7564.shp\n",
      "D:\\lakemapping\\sample750_pad\\tif\\sample_7564.tif\n",
      "D:\\lakemapping\\2_dataset\\sample747\\output2\\image_7564.tif\n",
      "area_7693.shp\n",
      "D:\\lakemapping\\sample750_pad\\tif\\sample_7693.tif\n",
      "D:\\lakemapping\\2_dataset\\sample747\\output2\\image_7693.tif\n",
      "area_7704.shp\n",
      "D:\\lakemapping\\sample750_pad\\tif\\sample_7704.tif\n",
      "D:\\lakemapping\\2_dataset\\sample747\\output2\\image_7704.tif\n",
      "area_7853.shp\n",
      "D:\\lakemapping\\sample750_pad\\tif\\sample_7853.tif\n",
      "D:\\lakemapping\\2_dataset\\sample747\\output2\\image_7853.tif\n",
      "area_7906.shp\n",
      "D:\\lakemapping\\sample750_pad\\tif\\sample_7906.tif\n",
      "D:\\lakemapping\\2_dataset\\sample747\\output2\\image_7906.tif\n",
      "area_8000.shp\n",
      "D:\\lakemapping\\sample750_pad\\tif\\sample_8000.tif\n",
      "D:\\lakemapping\\2_dataset\\sample747\\output2\\image_8000.tif\n",
      "area_8999.shp\n",
      "D:\\lakemapping\\sample750_pad\\tif\\sample_8999.tif\n",
      "D:\\lakemapping\\2_dataset\\sample747\\output2\\image_8999.tif\n",
      "area_9200.shp\n",
      "D:\\lakemapping\\sample750_pad\\tif\\sample_9200.tif\n",
      "D:\\lakemapping\\2_dataset\\sample747\\output2\\image_9200.tif\n",
      "area_9228.shp\n",
      "D:\\lakemapping\\sample750_pad\\tif\\sample_9228.tif\n",
      "D:\\lakemapping\\2_dataset\\sample747\\output2\\image_9228.tif\n",
      "area_933.shp\n",
      "D:\\lakemapping\\sample750_pad\\tif\\sample_933.tif\n",
      "D:\\lakemapping\\2_dataset\\sample747\\output2\\image_933.tif\n",
      "area_10083.shp\n",
      "D:\\lakemapping\\sample750_pad\\tif\\sample_10083.tif\n",
      "D:\\lakemapping\\2_dataset\\sample747\\output3\\image_10083.tif\n",
      "area_10273.shp\n",
      "D:\\lakemapping\\sample750_pad\\tif\\sample_10273.tif\n",
      "D:\\lakemapping\\2_dataset\\sample747\\output3\\image_10273.tif\n",
      "area_11076.shp\n",
      "D:\\lakemapping\\sample750_pad\\tif\\sample_11076.tif\n",
      "D:\\lakemapping\\2_dataset\\sample747\\output3\\image_11076.tif\n",
      "area_11084.shp\n",
      "D:\\lakemapping\\sample750_pad\\tif\\sample_11084.tif\n",
      "D:\\lakemapping\\2_dataset\\sample747\\output3\\image_11084.tif\n",
      "area_11092.shp\n",
      "D:\\lakemapping\\sample750_pad\\tif\\sample_11092.tif\n",
      "D:\\lakemapping\\2_dataset\\sample747\\output3\\image_11092.tif\n",
      "area_11155.shp\n",
      "D:\\lakemapping\\sample750_pad\\tif\\sample_11155.tif\n",
      "D:\\lakemapping\\2_dataset\\sample747\\output3\\image_11155.tif\n",
      "area_11193.shp\n",
      "D:\\lakemapping\\sample750_pad\\tif\\sample_11193.tif\n",
      "D:\\lakemapping\\2_dataset\\sample747\\output3\\image_11193.tif\n",
      "area_11368.shp\n",
      "D:\\lakemapping\\sample750_pad\\tif\\sample_11368.tif\n",
      "D:\\lakemapping\\2_dataset\\sample747\\output3\\image_11368.tif\n",
      "area_11689.shp\n",
      "D:\\lakemapping\\sample750_pad\\tif\\sample_11689.tif\n",
      "D:\\lakemapping\\2_dataset\\sample747\\output3\\image_11689.tif\n",
      "area_11691.shp\n",
      "D:\\lakemapping\\sample750_pad\\tif\\sample_11691.tif\n",
      "D:\\lakemapping\\2_dataset\\sample747\\output3\\image_11691.tif\n",
      "area_11721.shp\n",
      "D:\\lakemapping\\sample750_pad\\tif\\sample_11721.tif\n",
      "D:\\lakemapping\\2_dataset\\sample747\\output3\\image_11721.tif\n",
      "area_11932.shp\n",
      "D:\\lakemapping\\sample750_pad\\tif\\sample_11932.tif\n",
      "D:\\lakemapping\\2_dataset\\sample747\\output3\\image_11932.tif\n",
      "area_11956.shp\n",
      "D:\\lakemapping\\sample750_pad\\tif\\sample_11956.tif\n",
      "D:\\lakemapping\\2_dataset\\sample747\\output3\\image_11956.tif\n",
      "area_12014.shp\n",
      "D:\\lakemapping\\sample750_pad\\tif\\sample_12014.tif\n",
      "D:\\lakemapping\\2_dataset\\sample747\\output3\\image_12014.tif\n",
      "area_12017.shp\n",
      "D:\\lakemapping\\sample750_pad\\tif\\sample_12017.tif\n",
      "D:\\lakemapping\\2_dataset\\sample747\\output3\\image_12017.tif\n",
      "area_12026.shp\n",
      "D:\\lakemapping\\sample750_pad\\tif\\sample_12026.tif\n",
      "D:\\lakemapping\\2_dataset\\sample747\\output3\\image_12026.tif\n",
      "area_12104.shp\n",
      "D:\\lakemapping\\sample750_pad\\tif\\sample_12104.tif\n",
      "D:\\lakemapping\\2_dataset\\sample747\\output3\\image_12104.tif\n",
      "area_12185.shp\n",
      "D:\\lakemapping\\sample750_pad\\tif\\sample_12185.tif\n",
      "D:\\lakemapping\\2_dataset\\sample747\\output3\\image_12185.tif\n"
     ]
    },
    {
     "name": "stdout",
     "output_type": "stream",
     "text": [
      "area_12746.shp\n",
      "D:\\lakemapping\\sample750_pad\\tif\\sample_12746.tif\n",
      "D:\\lakemapping\\2_dataset\\sample747\\output3\\image_12746.tif\n",
      "area_12770.shp\n",
      "D:\\lakemapping\\sample750_pad\\tif\\sample_12770.tif\n",
      "D:\\lakemapping\\2_dataset\\sample747\\output3\\image_12770.tif\n",
      "area_12793.shp\n",
      "D:\\lakemapping\\sample750_pad\\tif\\sample_12793.tif\n",
      "D:\\lakemapping\\2_dataset\\sample747\\output3\\image_12793.tif\n",
      "area_12810.shp\n",
      "D:\\lakemapping\\sample750_pad\\tif\\sample_12810.tif\n",
      "D:\\lakemapping\\2_dataset\\sample747\\output3\\image_12810.tif\n",
      "area_12847.shp\n",
      "D:\\lakemapping\\sample750_pad\\tif\\sample_12847.tif\n",
      "D:\\lakemapping\\2_dataset\\sample747\\output3\\image_12847.tif\n",
      "area_12889.shp\n",
      "D:\\lakemapping\\sample750_pad\\tif\\sample_12889.tif\n",
      "D:\\lakemapping\\2_dataset\\sample747\\output3\\image_12889.tif\n",
      "area_12903.shp\n",
      "D:\\lakemapping\\sample750_pad\\tif\\sample_12903.tif\n",
      "D:\\lakemapping\\2_dataset\\sample747\\output3\\image_12903.tif\n",
      "area_12926.shp\n",
      "D:\\lakemapping\\sample750_pad\\tif\\sample_12926.tif\n",
      "D:\\lakemapping\\2_dataset\\sample747\\output3\\image_12926.tif\n",
      "area_12939.shp\n",
      "D:\\lakemapping\\sample750_pad\\tif\\sample_12939.tif\n",
      "D:\\lakemapping\\2_dataset\\sample747\\output3\\image_12939.tif\n",
      "area_12988.shp\n",
      "D:\\lakemapping\\sample750_pad\\tif\\sample_12988.tif\n",
      "D:\\lakemapping\\2_dataset\\sample747\\output3\\image_12988.tif\n",
      "area_13803.shp\n",
      "D:\\lakemapping\\sample750_pad\\tif\\sample_13803.tif\n",
      "D:\\lakemapping\\2_dataset\\sample747\\output3\\image_13803.tif\n",
      "area_14172.shp\n",
      "D:\\lakemapping\\sample750_pad\\tif\\sample_14172.tif\n",
      "D:\\lakemapping\\2_dataset\\sample747\\output3\\image_14172.tif\n",
      "area_14309.shp\n",
      "D:\\lakemapping\\sample750_pad\\tif\\sample_14309.tif\n",
      "D:\\lakemapping\\2_dataset\\sample747\\output3\\image_14309.tif\n",
      "area_14542.shp\n",
      "D:\\lakemapping\\sample750_pad\\tif\\sample_14542.tif\n",
      "D:\\lakemapping\\2_dataset\\sample747\\output3\\image_14542.tif\n",
      "area_14668.shp\n",
      "D:\\lakemapping\\sample750_pad\\tif\\sample_14668.tif\n",
      "D:\\lakemapping\\2_dataset\\sample747\\output3\\image_14668.tif\n",
      "area_15074.shp\n",
      "D:\\lakemapping\\sample750_pad\\tif\\sample_15074.tif\n",
      "D:\\lakemapping\\2_dataset\\sample747\\output3\\image_15074.tif\n",
      "area_15078.shp\n",
      "D:\\lakemapping\\sample750_pad\\tif\\sample_15078.tif\n",
      "D:\\lakemapping\\2_dataset\\sample747\\output3\\image_15078.tif\n",
      "area_15107.shp\n",
      "D:\\lakemapping\\sample750_pad\\tif\\sample_15107.tif\n",
      "D:\\lakemapping\\2_dataset\\sample747\\output3\\image_15107.tif\n",
      "area_15137.shp\n",
      "D:\\lakemapping\\sample750_pad\\tif\\sample_15137.tif\n",
      "D:\\lakemapping\\2_dataset\\sample747\\output3\\image_15137.tif\n",
      "area_15171.shp\n",
      "D:\\lakemapping\\sample750_pad\\tif\\sample_15171.tif\n",
      "D:\\lakemapping\\2_dataset\\sample747\\output3\\image_15171.tif\n",
      "area_15183.shp\n",
      "D:\\lakemapping\\sample750_pad\\tif\\sample_15183.tif\n",
      "D:\\lakemapping\\2_dataset\\sample747\\output3\\image_15183.tif\n",
      "area_15204.shp\n",
      "D:\\lakemapping\\sample750_pad\\tif\\sample_15204.tif\n",
      "D:\\lakemapping\\2_dataset\\sample747\\output3\\image_15204.tif\n",
      "area_15225.shp\n",
      "D:\\lakemapping\\sample750_pad\\tif\\sample_15225.tif\n",
      "D:\\lakemapping\\2_dataset\\sample747\\output3\\image_15225.tif\n",
      "area_15253.shp\n",
      "D:\\lakemapping\\sample750_pad\\tif\\sample_15253.tif\n",
      "D:\\lakemapping\\2_dataset\\sample747\\output3\\image_15253.tif\n",
      "area_15312.shp\n",
      "D:\\lakemapping\\sample750_pad\\tif\\sample_15312.tif\n",
      "D:\\lakemapping\\2_dataset\\sample747\\output3\\image_15312.tif\n",
      "area_15381.shp\n",
      "D:\\lakemapping\\sample750_pad\\tif\\sample_15381.tif\n",
      "D:\\lakemapping\\2_dataset\\sample747\\output3\\image_15381.tif\n",
      "area_15388.shp\n",
      "D:\\lakemapping\\sample750_pad\\tif\\sample_15388.tif\n",
      "D:\\lakemapping\\2_dataset\\sample747\\output3\\image_15388.tif\n",
      "area_16048.shp\n",
      "D:\\lakemapping\\sample750_pad\\tif\\sample_16048.tif\n",
      "D:\\lakemapping\\2_dataset\\sample747\\output3\\image_16048.tif\n",
      "area_18120.shp\n",
      "D:\\lakemapping\\sample750_pad\\tif\\sample_18120.tif\n",
      "D:\\lakemapping\\2_dataset\\sample747\\output3\\image_18120.tif\n",
      "area_18641.shp\n",
      "D:\\lakemapping\\sample750_pad\\tif\\sample_18641.tif\n",
      "D:\\lakemapping\\2_dataset\\sample747\\output3\\image_18641.tif\n",
      "area_18667.shp\n",
      "D:\\lakemapping\\sample750_pad\\tif\\sample_18667.tif\n",
      "D:\\lakemapping\\2_dataset\\sample747\\output3\\image_18667.tif\n",
      "area_18809.shp\n",
      "D:\\lakemapping\\sample750_pad\\tif\\sample_18809.tif\n",
      "D:\\lakemapping\\2_dataset\\sample747\\output3\\image_18809.tif\n",
      "area_18856.shp\n",
      "D:\\lakemapping\\sample750_pad\\tif\\sample_18856.tif\n",
      "D:\\lakemapping\\2_dataset\\sample747\\output3\\image_18856.tif\n",
      "area_1975.shp\n",
      "D:\\lakemapping\\sample750_pad\\tif\\sample_1975.tif\n",
      "D:\\lakemapping\\2_dataset\\sample747\\output3\\image_1975.tif\n",
      "area_2340.shp\n",
      "D:\\lakemapping\\sample750_pad\\tif\\sample_2340.tif\n",
      "D:\\lakemapping\\2_dataset\\sample747\\output3\\image_2340.tif\n",
      "area_4914.shp\n",
      "D:\\lakemapping\\sample750_pad\\tif\\sample_4914.tif\n",
      "D:\\lakemapping\\2_dataset\\sample747\\output3\\image_4914.tif\n",
      "area_4953.shp\n",
      "D:\\lakemapping\\sample750_pad\\tif\\sample_4953.tif\n",
      "D:\\lakemapping\\2_dataset\\sample747\\output3\\image_4953.tif\n",
      "area_4982.shp\n",
      "D:\\lakemapping\\sample750_pad\\tif\\sample_4982.tif\n",
      "D:\\lakemapping\\2_dataset\\sample747\\output3\\image_4982.tif\n",
      "area_4999.shp\n",
      "D:\\lakemapping\\sample750_pad\\tif\\sample_4999.tif\n",
      "D:\\lakemapping\\2_dataset\\sample747\\output3\\image_4999.tif\n",
      "area_5031.shp\n",
      "D:\\lakemapping\\sample750_pad\\tif\\sample_5031.tif\n",
      "D:\\lakemapping\\2_dataset\\sample747\\output3\\image_5031.tif\n",
      "area_5935.shp\n",
      "D:\\lakemapping\\sample750_pad\\tif\\sample_5935.tif\n",
      "D:\\lakemapping\\2_dataset\\sample747\\output3\\image_5935.tif\n",
      "area_6013.shp\n",
      "D:\\lakemapping\\sample750_pad\\tif\\sample_6013.tif\n",
      "D:\\lakemapping\\2_dataset\\sample747\\output3\\image_6013.tif\n",
      "area_6018.shp\n",
      "D:\\lakemapping\\sample750_pad\\tif\\sample_6018.tif\n",
      "D:\\lakemapping\\2_dataset\\sample747\\output3\\image_6018.tif\n",
      "area_6056.shp\n",
      "D:\\lakemapping\\sample750_pad\\tif\\sample_6056.tif\n",
      "D:\\lakemapping\\2_dataset\\sample747\\output3\\image_6056.tif\n",
      "area_6236.shp\n",
      "D:\\lakemapping\\sample750_pad\\tif\\sample_6236.tif\n",
      "D:\\lakemapping\\2_dataset\\sample747\\output3\\image_6236.tif\n",
      "area_629.shp\n",
      "D:\\lakemapping\\sample750_pad\\tif\\sample_629.tif\n",
      "D:\\lakemapping\\2_dataset\\sample747\\output3\\image_629.tif\n",
      "area_6708.shp\n",
      "D:\\lakemapping\\sample750_pad\\tif\\sample_6708.tif\n",
      "D:\\lakemapping\\2_dataset\\sample747\\output3\\image_6708.tif\n",
      "area_6826.shp\n",
      "D:\\lakemapping\\sample750_pad\\tif\\sample_6826.tif\n",
      "D:\\lakemapping\\2_dataset\\sample747\\output3\\image_6826.tif\n",
      "area_6843.shp\n",
      "D:\\lakemapping\\sample750_pad\\tif\\sample_6843.tif\n",
      "D:\\lakemapping\\2_dataset\\sample747\\output3\\image_6843.tif\n",
      "area_6845.shp\n",
      "D:\\lakemapping\\sample750_pad\\tif\\sample_6845.tif\n",
      "D:\\lakemapping\\2_dataset\\sample747\\output3\\image_6845.tif\n",
      "area_6966.shp\n",
      "D:\\lakemapping\\sample750_pad\\tif\\sample_6966.tif\n",
      "D:\\lakemapping\\2_dataset\\sample747\\output3\\image_6966.tif\n",
      "area_7202.shp\n",
      "D:\\lakemapping\\sample750_pad\\tif\\sample_7202.tif\n",
      "D:\\lakemapping\\2_dataset\\sample747\\output3\\image_7202.tif\n",
      "area_7210.shp\n",
      "D:\\lakemapping\\sample750_pad\\tif\\sample_7210.tif\n",
      "D:\\lakemapping\\2_dataset\\sample747\\output3\\image_7210.tif\n",
      "area_7890.shp\n",
      "D:\\lakemapping\\sample750_pad\\tif\\sample_7890.tif\n",
      "D:\\lakemapping\\2_dataset\\sample747\\output3\\image_7890.tif\n",
      "area_7900.shp\n",
      "D:\\lakemapping\\sample750_pad\\tif\\sample_7900.tif\n",
      "D:\\lakemapping\\2_dataset\\sample747\\output3\\image_7900.tif\n",
      "area_8072.shp\n",
      "D:\\lakemapping\\sample750_pad\\tif\\sample_8072.tif\n",
      "D:\\lakemapping\\2_dataset\\sample747\\output3\\image_8072.tif\n",
      "area_8242.shp\n",
      "D:\\lakemapping\\sample750_pad\\tif\\sample_8242.tif\n",
      "D:\\lakemapping\\2_dataset\\sample747\\output3\\image_8242.tif\n",
      "area_8263.shp\n",
      "D:\\lakemapping\\sample750_pad\\tif\\sample_8263.tif\n",
      "D:\\lakemapping\\2_dataset\\sample747\\output3\\image_8263.tif\n",
      "area_8283.shp\n",
      "D:\\lakemapping\\sample750_pad\\tif\\sample_8283.tif\n",
      "D:\\lakemapping\\2_dataset\\sample747\\output3\\image_8283.tif\n",
      "area_8331.shp\n",
      "D:\\lakemapping\\sample750_pad\\tif\\sample_8331.tif\n",
      "D:\\lakemapping\\2_dataset\\sample747\\output3\\image_8331.tif\n",
      "area_8629.shp\n",
      "D:\\lakemapping\\sample750_pad\\tif\\sample_8629.tif\n",
      "D:\\lakemapping\\2_dataset\\sample747\\output3\\image_8629.tif\n",
      "area_8662.shp\n",
      "D:\\lakemapping\\sample750_pad\\tif\\sample_8662.tif\n",
      "D:\\lakemapping\\2_dataset\\sample747\\output3\\image_8662.tif\n",
      "area_8727.shp\n",
      "D:\\lakemapping\\sample750_pad\\tif\\sample_8727.tif\n",
      "D:\\lakemapping\\2_dataset\\sample747\\output3\\image_8727.tif\n",
      "area_9321.shp\n",
      "D:\\lakemapping\\sample750_pad\\tif\\sample_9321.tif\n",
      "D:\\lakemapping\\2_dataset\\sample747\\output3\\image_9321.tif\n",
      "area_9376.shp\n",
      "D:\\lakemapping\\sample750_pad\\tif\\sample_9376.tif\n",
      "D:\\lakemapping\\2_dataset\\sample747\\output3\\image_9376.tif\n",
      "area_9436.shp\n",
      "D:\\lakemapping\\sample750_pad\\tif\\sample_9436.tif\n",
      "D:\\lakemapping\\2_dataset\\sample747\\output3\\image_9436.tif\n",
      "area_9473.shp\n",
      "D:\\lakemapping\\sample750_pad\\tif\\sample_9473.tif\n",
      "D:\\lakemapping\\2_dataset\\sample747\\output3\\image_9473.tif\n",
      "area_9476.shp\n",
      "D:\\lakemapping\\sample750_pad\\tif\\sample_9476.tif\n",
      "D:\\lakemapping\\2_dataset\\sample747\\output3\\image_9476.tif\n",
      "area_9501.shp\n",
      "D:\\lakemapping\\sample750_pad\\tif\\sample_9501.tif\n",
      "D:\\lakemapping\\2_dataset\\sample747\\output3\\image_9501.tif\n",
      "area_9508.shp\n",
      "D:\\lakemapping\\sample750_pad\\tif\\sample_9508.tif\n",
      "D:\\lakemapping\\2_dataset\\sample747\\output3\\image_9508.tif\n"
     ]
    },
    {
     "name": "stdout",
     "output_type": "stream",
     "text": [
      "area_9553.shp\n",
      "D:\\lakemapping\\sample750_pad\\tif\\sample_9553.tif\n",
      "D:\\lakemapping\\2_dataset\\sample747\\output3\\image_9553.tif\n",
      "area_1974.shp\n",
      "D:\\lakemapping\\sample750_pad\\tif\\sample_1974.tif\n",
      "D:\\lakemapping\\2_dataset\\sample747\\output4\\image_1974.tif\n",
      "area_2155.shp\n",
      "D:\\lakemapping\\sample750_pad\\tif\\sample_2155.tif\n",
      "D:\\lakemapping\\2_dataset\\sample747\\output4\\image_2155.tif\n",
      "area_2618.shp\n",
      "D:\\lakemapping\\sample750_pad\\tif\\sample_2618.tif\n",
      "D:\\lakemapping\\2_dataset\\sample747\\output4\\image_2618.tif\n",
      "area_3560.shp\n",
      "D:\\lakemapping\\sample750_pad\\tif\\sample_3560.tif\n",
      "D:\\lakemapping\\2_dataset\\sample747\\output4\\image_3560.tif\n",
      "area_4685.shp\n",
      "D:\\lakemapping\\sample750_pad\\tif\\sample_4685.tif\n",
      "D:\\lakemapping\\2_dataset\\sample747\\output4\\image_4685.tif\n",
      "area_5006.shp\n",
      "D:\\lakemapping\\sample750_pad\\tif\\sample_5006.tif\n",
      "D:\\lakemapping\\2_dataset\\sample747\\output4\\image_5006.tif\n",
      "area_5026.shp\n",
      "D:\\lakemapping\\sample750_pad\\tif\\sample_5026.tif\n",
      "D:\\lakemapping\\2_dataset\\sample747\\output4\\image_5026.tif\n",
      "area_5711.shp\n",
      "D:\\lakemapping\\sample750_pad\\tif\\sample_5711.tif\n",
      "D:\\lakemapping\\2_dataset\\sample747\\output4\\image_5711.tif\n",
      "area_6108.shp\n",
      "D:\\lakemapping\\sample750_pad\\tif\\sample_6108.tif\n",
      "D:\\lakemapping\\2_dataset\\sample747\\output4\\image_6108.tif\n",
      "area_6229.shp\n",
      "D:\\lakemapping\\sample750_pad\\tif\\sample_6229.tif\n",
      "D:\\lakemapping\\2_dataset\\sample747\\output4\\image_6229.tif\n",
      "area_6752.shp\n",
      "D:\\lakemapping\\sample750_pad\\tif\\sample_6752.tif\n",
      "D:\\lakemapping\\2_dataset\\sample747\\output4\\image_6752.tif\n",
      "area_8460.shp\n",
      "D:\\lakemapping\\sample750_pad\\tif\\sample_8460.tif\n",
      "D:\\lakemapping\\2_dataset\\sample747\\output4\\image_8460.tif\n",
      "area_8538.shp\n",
      "D:\\lakemapping\\sample750_pad\\tif\\sample_8538.tif\n",
      "D:\\lakemapping\\2_dataset\\sample747\\output4\\image_8538.tif\n",
      "area_8732.shp\n",
      "D:\\lakemapping\\sample750_pad\\tif\\sample_8732.tif\n",
      "D:\\lakemapping\\2_dataset\\sample747\\output4\\image_8732.tif\n",
      "area_9068.shp\n",
      "D:\\lakemapping\\sample750_pad\\tif\\sample_9068.tif\n",
      "D:\\lakemapping\\2_dataset\\sample747\\output4\\image_9068.tif\n",
      "area_10792.shp\n",
      "D:\\lakemapping\\sample750_pad\\tif\\sample_10792.tif\n",
      "D:\\lakemapping\\2_dataset\\sample747\\output5\\image_10792.tif\n",
      "area_10953.shp\n",
      "D:\\lakemapping\\sample750_pad\\tif\\sample_10953.tif\n",
      "D:\\lakemapping\\2_dataset\\sample747\\output5\\image_10953.tif\n",
      "area_16118.shp\n",
      "D:\\lakemapping\\sample750_pad\\tif\\sample_16118.tif\n",
      "D:\\lakemapping\\2_dataset\\sample747\\output5\\image_16118.tif\n",
      "area_17140.shp\n",
      "D:\\lakemapping\\sample750_pad\\tif\\sample_17140.tif\n",
      "D:\\lakemapping\\2_dataset\\sample747\\output5\\image_17140.tif\n",
      "area_17434.shp\n",
      "D:\\lakemapping\\sample750_pad\\tif\\sample_17434.tif\n",
      "D:\\lakemapping\\2_dataset\\sample747\\output5\\image_17434.tif\n",
      "area_17481.shp\n",
      "D:\\lakemapping\\sample750_pad\\tif\\sample_17481.tif\n",
      "D:\\lakemapping\\2_dataset\\sample747\\output5\\image_17481.tif\n",
      "area_17683.shp\n",
      "D:\\lakemapping\\sample750_pad\\tif\\sample_17683.tif\n",
      "D:\\lakemapping\\2_dataset\\sample747\\output5\\image_17683.tif\n",
      "area_17753.shp\n",
      "D:\\lakemapping\\sample750_pad\\tif\\sample_17753.tif\n",
      "D:\\lakemapping\\2_dataset\\sample747\\output5\\image_17753.tif\n",
      "area_17883.shp\n",
      "D:\\lakemapping\\sample750_pad\\tif\\sample_17883.tif\n",
      "D:\\lakemapping\\2_dataset\\sample747\\output5\\image_17883.tif\n",
      "area_18710.shp\n",
      "D:\\lakemapping\\sample750_pad\\tif\\sample_18710.tif\n",
      "D:\\lakemapping\\2_dataset\\sample747\\output5\\image_18710.tif\n",
      "area_18725.shp\n",
      "D:\\lakemapping\\sample750_pad\\tif\\sample_18725.tif\n",
      "D:\\lakemapping\\2_dataset\\sample747\\output5\\image_18725.tif\n",
      "area_2883.shp\n",
      "D:\\lakemapping\\sample750_pad\\tif\\sample_2883.tif\n",
      "D:\\lakemapping\\2_dataset\\sample747\\output5\\image_2883.tif\n",
      "area_2979.shp\n",
      "D:\\lakemapping\\sample750_pad\\tif\\sample_2979.tif\n",
      "D:\\lakemapping\\2_dataset\\sample747\\output5\\image_2979.tif\n",
      "area_2986.shp\n",
      "D:\\lakemapping\\sample750_pad\\tif\\sample_2986.tif\n",
      "D:\\lakemapping\\2_dataset\\sample747\\output5\\image_2986.tif\n",
      "area_3126.shp\n",
      "D:\\lakemapping\\sample750_pad\\tif\\sample_3126.tif\n",
      "D:\\lakemapping\\2_dataset\\sample747\\output5\\image_3126.tif\n",
      "area_3159.shp\n",
      "D:\\lakemapping\\sample750_pad\\tif\\sample_3159.tif\n",
      "D:\\lakemapping\\2_dataset\\sample747\\output5\\image_3159.tif\n",
      "area_3194.shp\n",
      "D:\\lakemapping\\sample750_pad\\tif\\sample_3194.tif\n",
      "D:\\lakemapping\\2_dataset\\sample747\\output5\\image_3194.tif\n",
      "area_3202.shp\n",
      "D:\\lakemapping\\sample750_pad\\tif\\sample_3202.tif\n",
      "D:\\lakemapping\\2_dataset\\sample747\\output5\\image_3202.tif\n",
      "area_4299.shp\n",
      "D:\\lakemapping\\sample750_pad\\tif\\sample_4299.tif\n",
      "D:\\lakemapping\\2_dataset\\sample747\\output5\\image_4299.tif\n",
      "area_4418.shp\n",
      "D:\\lakemapping\\sample750_pad\\tif\\sample_4418.tif\n",
      "D:\\lakemapping\\2_dataset\\sample747\\output5\\image_4418.tif\n",
      "area_5605.shp\n",
      "D:\\lakemapping\\sample750_pad\\tif\\sample_5605.tif\n",
      "D:\\lakemapping\\2_dataset\\sample747\\output5\\image_5605.tif\n",
      "area_5636.shp\n",
      "D:\\lakemapping\\sample750_pad\\tif\\sample_5636.tif\n",
      "D:\\lakemapping\\2_dataset\\sample747\\output5\\image_5636.tif\n",
      "area_6252.shp\n",
      "D:\\lakemapping\\sample750_pad\\tif\\sample_6252.tif\n",
      "D:\\lakemapping\\2_dataset\\sample747\\output5\\image_6252.tif\n",
      "area_6765.shp\n",
      "D:\\lakemapping\\sample750_pad\\tif\\sample_6765.tif\n",
      "D:\\lakemapping\\2_dataset\\sample747\\output5\\image_6765.tif\n",
      "area_6779.shp\n",
      "D:\\lakemapping\\sample750_pad\\tif\\sample_6779.tif\n",
      "D:\\lakemapping\\2_dataset\\sample747\\output5\\image_6779.tif\n",
      "area_6794.shp\n",
      "D:\\lakemapping\\sample750_pad\\tif\\sample_6794.tif\n",
      "D:\\lakemapping\\2_dataset\\sample747\\output5\\image_6794.tif\n",
      "area_8456.shp\n",
      "D:\\lakemapping\\sample750_pad\\tif\\sample_8456.tif\n",
      "D:\\lakemapping\\2_dataset\\sample747\\output5\\image_8456.tif\n",
      "area_8555.shp\n",
      "D:\\lakemapping\\sample750_pad\\tif\\sample_8555.tif\n",
      "D:\\lakemapping\\2_dataset\\sample747\\output5\\image_8555.tif\n",
      "area_8904.shp\n",
      "D:\\lakemapping\\sample750_pad\\tif\\sample_8904.tif\n",
      "D:\\lakemapping\\2_dataset\\sample747\\output5\\image_8904.tif\n"
     ]
    }
   ],
   "source": [
    "for i in range(0,type_num):\n",
    "    all_files = []\n",
    "    for root, dirs, files in os.walk(os.path.join(output_dir,'shp\\output{}'.format(i))):\n",
    "        for file in files:\n",
    "            if file.endswith(area_file_type)and file.startswith(area_prefix):\n",
    "                 all_files.append((os.path.join(root, file), file))\n",
    "                    \n",
    "    for fullPath, filename in all_files:\n",
    "        print(filename)\n",
    "        raster_fn=os.path.join(raw_img_dir,filename.replace(area_prefix,raw_image_prefix).replace(area_file_type,image_file_type))\n",
    "        print(raster_fn)\n",
    "        input_raster = gdal.Open(raster_fn)\n",
    "        in_shp_path=fullPath\n",
    "        out_raster_path=fullPath.replace(area_prefix,image_prefix).replace(area_file_type,image_file_type).replace(r'\\shp','')\n",
    "        print(out_raster_path)\n",
    "            # 利用gdal.Warp进行裁剪\n",
    "            # https://gdal.org/api/python/osgeo.gdal.html#osgeo.gdal.Warp\n",
    "        result = gdal.Warp(\n",
    "                out_raster_path,\n",
    "                input_raster,\n",
    "                format = 'GTiff',\n",
    "                cutlineDSName = in_shp_path, # 用于裁剪的矢量\n",
    "                cropToCutline = True, # 是否使用cutlineDSName的extent作为输出的界线\n",
    "                dstNodata = -999 # 输出数据的nodata值\n",
    "                )\n",
    "        result.FlushCache()\n",
    "        del result"
   ]
  },
  {
   "cell_type": "markdown",
   "metadata": {},
   "source": [
    "## 提取pad92个像素的shapefile\n",
    "读取image影像，保存 pad width 为92个像素的shapefile"
   ]
  },
  {
   "cell_type": "code",
   "execution_count": 36,
   "metadata": {},
   "outputs": [
    {
     "name": "stdout",
     "output_type": "stream",
     "text": [
      "image_10031.tif\n",
      "pad_area_10031.shp\n",
      "D:\\lakemapping\\2_dataset\\sample747\\shp\\output0\\pad_area_10031.shp\n"
     ]
    },
    {
     "data": {
      "text/plain": [
       "0"
      ]
     },
     "execution_count": 36,
     "metadata": {},
     "output_type": "execute_result"
    },
    {
     "data": {
      "text/plain": [
       "0"
      ]
     },
     "execution_count": 36,
     "metadata": {},
     "output_type": "execute_result"
    },
    {
     "data": {
      "text/plain": [
       "0"
      ]
     },
     "execution_count": 36,
     "metadata": {},
     "output_type": "execute_result"
    },
    {
     "name": "stdout",
     "output_type": "stream",
     "text": [
      "image_10150.tif\n",
      "pad_area_10150.shp\n",
      "D:\\lakemapping\\2_dataset\\sample747\\shp\\output0\\pad_area_10150.shp\n"
     ]
    },
    {
     "data": {
      "text/plain": [
       "0"
      ]
     },
     "execution_count": 36,
     "metadata": {},
     "output_type": "execute_result"
    },
    {
     "data": {
      "text/plain": [
       "0"
      ]
     },
     "execution_count": 36,
     "metadata": {},
     "output_type": "execute_result"
    },
    {
     "data": {
      "text/plain": [
       "0"
      ]
     },
     "execution_count": 36,
     "metadata": {},
     "output_type": "execute_result"
    },
    {
     "name": "stdout",
     "output_type": "stream",
     "text": [
      "image_10174.tif\n",
      "pad_area_10174.shp\n",
      "D:\\lakemapping\\2_dataset\\sample747\\shp\\output0\\pad_area_10174.shp\n"
     ]
    },
    {
     "data": {
      "text/plain": [
       "0"
      ]
     },
     "execution_count": 36,
     "metadata": {},
     "output_type": "execute_result"
    },
    {
     "data": {
      "text/plain": [
       "0"
      ]
     },
     "execution_count": 36,
     "metadata": {},
     "output_type": "execute_result"
    },
    {
     "data": {
      "text/plain": [
       "0"
      ]
     },
     "execution_count": 36,
     "metadata": {},
     "output_type": "execute_result"
    },
    {
     "name": "stdout",
     "output_type": "stream",
     "text": [
      "image_10332.tif\n",
      "pad_area_10332.shp\n",
      "D:\\lakemapping\\2_dataset\\sample747\\shp\\output0\\pad_area_10332.shp\n"
     ]
    },
    {
     "data": {
      "text/plain": [
       "0"
      ]
     },
     "execution_count": 36,
     "metadata": {},
     "output_type": "execute_result"
    },
    {
     "data": {
      "text/plain": [
       "0"
      ]
     },
     "execution_count": 36,
     "metadata": {},
     "output_type": "execute_result"
    },
    {
     "data": {
      "text/plain": [
       "0"
      ]
     },
     "execution_count": 36,
     "metadata": {},
     "output_type": "execute_result"
    },
    {
     "name": "stdout",
     "output_type": "stream",
     "text": [
      "image_10358.tif\n",
      "pad_area_10358.shp\n",
      "D:\\lakemapping\\2_dataset\\sample747\\shp\\output0\\pad_area_10358.shp\n"
     ]
    },
    {
     "data": {
      "text/plain": [
       "0"
      ]
     },
     "execution_count": 36,
     "metadata": {},
     "output_type": "execute_result"
    },
    {
     "data": {
      "text/plain": [
       "0"
      ]
     },
     "execution_count": 36,
     "metadata": {},
     "output_type": "execute_result"
    },
    {
     "data": {
      "text/plain": [
       "0"
      ]
     },
     "execution_count": 36,
     "metadata": {},
     "output_type": "execute_result"
    },
    {
     "name": "stdout",
     "output_type": "stream",
     "text": [
      "image_10383.tif\n",
      "pad_area_10383.shp\n",
      "D:\\lakemapping\\2_dataset\\sample747\\shp\\output0\\pad_area_10383.shp\n"
     ]
    },
    {
     "data": {
      "text/plain": [
       "0"
      ]
     },
     "execution_count": 36,
     "metadata": {},
     "output_type": "execute_result"
    },
    {
     "data": {
      "text/plain": [
       "0"
      ]
     },
     "execution_count": 36,
     "metadata": {},
     "output_type": "execute_result"
    },
    {
     "data": {
      "text/plain": [
       "0"
      ]
     },
     "execution_count": 36,
     "metadata": {},
     "output_type": "execute_result"
    },
    {
     "name": "stdout",
     "output_type": "stream",
     "text": [
      "image_10408.tif\n",
      "pad_area_10408.shp\n",
      "D:\\lakemapping\\2_dataset\\sample747\\shp\\output0\\pad_area_10408.shp\n"
     ]
    },
    {
     "data": {
      "text/plain": [
       "0"
      ]
     },
     "execution_count": 36,
     "metadata": {},
     "output_type": "execute_result"
    },
    {
     "data": {
      "text/plain": [
       "0"
      ]
     },
     "execution_count": 36,
     "metadata": {},
     "output_type": "execute_result"
    },
    {
     "data": {
      "text/plain": [
       "0"
      ]
     },
     "execution_count": 36,
     "metadata": {},
     "output_type": "execute_result"
    },
    {
     "name": "stdout",
     "output_type": "stream",
     "text": [
      "image_10689.tif\n",
      "pad_area_10689.shp\n",
      "D:\\lakemapping\\2_dataset\\sample747\\shp\\output0\\pad_area_10689.shp\n"
     ]
    },
    {
     "data": {
      "text/plain": [
       "0"
      ]
     },
     "execution_count": 36,
     "metadata": {},
     "output_type": "execute_result"
    },
    {
     "data": {
      "text/plain": [
       "0"
      ]
     },
     "execution_count": 36,
     "metadata": {},
     "output_type": "execute_result"
    },
    {
     "data": {
      "text/plain": [
       "0"
      ]
     },
     "execution_count": 36,
     "metadata": {},
     "output_type": "execute_result"
    },
    {
     "name": "stdout",
     "output_type": "stream",
     "text": [
      "image_10713.tif\n",
      "pad_area_10713.shp\n",
      "D:\\lakemapping\\2_dataset\\sample747\\shp\\output0\\pad_area_10713.shp\n"
     ]
    },
    {
     "data": {
      "text/plain": [
       "0"
      ]
     },
     "execution_count": 36,
     "metadata": {},
     "output_type": "execute_result"
    },
    {
     "data": {
      "text/plain": [
       "0"
      ]
     },
     "execution_count": 36,
     "metadata": {},
     "output_type": "execute_result"
    },
    {
     "data": {
      "text/plain": [
       "0"
      ]
     },
     "execution_count": 36,
     "metadata": {},
     "output_type": "execute_result"
    },
    {
     "name": "stdout",
     "output_type": "stream",
     "text": [
      "image_10856.tif\n",
      "pad_area_10856.shp\n",
      "D:\\lakemapping\\2_dataset\\sample747\\shp\\output0\\pad_area_10856.shp\n"
     ]
    },
    {
     "data": {
      "text/plain": [
       "0"
      ]
     },
     "execution_count": 36,
     "metadata": {},
     "output_type": "execute_result"
    },
    {
     "data": {
      "text/plain": [
       "0"
      ]
     },
     "execution_count": 36,
     "metadata": {},
     "output_type": "execute_result"
    },
    {
     "data": {
      "text/plain": [
       "0"
      ]
     },
     "execution_count": 36,
     "metadata": {},
     "output_type": "execute_result"
    },
    {
     "name": "stdout",
     "output_type": "stream",
     "text": [
      "image_10892.tif\n",
      "pad_area_10892.shp\n",
      "D:\\lakemapping\\2_dataset\\sample747\\shp\\output0\\pad_area_10892.shp\n"
     ]
    },
    {
     "data": {
      "text/plain": [
       "0"
      ]
     },
     "execution_count": 36,
     "metadata": {},
     "output_type": "execute_result"
    },
    {
     "data": {
      "text/plain": [
       "0"
      ]
     },
     "execution_count": 36,
     "metadata": {},
     "output_type": "execute_result"
    },
    {
     "data": {
      "text/plain": [
       "0"
      ]
     },
     "execution_count": 36,
     "metadata": {},
     "output_type": "execute_result"
    },
    {
     "name": "stdout",
     "output_type": "stream",
     "text": [
      "image_10928.tif\n",
      "pad_area_10928.shp\n",
      "D:\\lakemapping\\2_dataset\\sample747\\shp\\output0\\pad_area_10928.shp\n"
     ]
    },
    {
     "data": {
      "text/plain": [
       "0"
      ]
     },
     "execution_count": 36,
     "metadata": {},
     "output_type": "execute_result"
    },
    {
     "data": {
      "text/plain": [
       "0"
      ]
     },
     "execution_count": 36,
     "metadata": {},
     "output_type": "execute_result"
    },
    {
     "data": {
      "text/plain": [
       "0"
      ]
     },
     "execution_count": 36,
     "metadata": {},
     "output_type": "execute_result"
    },
    {
     "name": "stdout",
     "output_type": "stream",
     "text": [
      "image_11020_3.tif\n",
      "pad_area_11020_3.shp\n",
      "D:\\lakemapping\\2_dataset\\sample747\\shp\\output0\\pad_area_11020_3.shp\n"
     ]
    },
    {
     "data": {
      "text/plain": [
       "0"
      ]
     },
     "execution_count": 36,
     "metadata": {},
     "output_type": "execute_result"
    },
    {
     "data": {
      "text/plain": [
       "0"
      ]
     },
     "execution_count": 36,
     "metadata": {},
     "output_type": "execute_result"
    },
    {
     "data": {
      "text/plain": [
       "0"
      ]
     },
     "execution_count": 36,
     "metadata": {},
     "output_type": "execute_result"
    },
    {
     "name": "stdout",
     "output_type": "stream",
     "text": [
      "image_11081.tif\n",
      "pad_area_11081.shp\n",
      "D:\\lakemapping\\2_dataset\\sample747\\shp\\output0\\pad_area_11081.shp\n"
     ]
    },
    {
     "data": {
      "text/plain": [
       "0"
      ]
     },
     "execution_count": 36,
     "metadata": {},
     "output_type": "execute_result"
    },
    {
     "data": {
      "text/plain": [
       "0"
      ]
     },
     "execution_count": 36,
     "metadata": {},
     "output_type": "execute_result"
    },
    {
     "data": {
      "text/plain": [
       "0"
      ]
     },
     "execution_count": 36,
     "metadata": {},
     "output_type": "execute_result"
    },
    {
     "name": "stdout",
     "output_type": "stream",
     "text": [
      "image_11289.tif\n",
      "pad_area_11289.shp\n",
      "D:\\lakemapping\\2_dataset\\sample747\\shp\\output0\\pad_area_11289.shp\n"
     ]
    },
    {
     "data": {
      "text/plain": [
       "0"
      ]
     },
     "execution_count": 36,
     "metadata": {},
     "output_type": "execute_result"
    },
    {
     "data": {
      "text/plain": [
       "0"
      ]
     },
     "execution_count": 36,
     "metadata": {},
     "output_type": "execute_result"
    },
    {
     "data": {
      "text/plain": [
       "0"
      ]
     },
     "execution_count": 36,
     "metadata": {},
     "output_type": "execute_result"
    },
    {
     "name": "stdout",
     "output_type": "stream",
     "text": [
      "image_11306.tif\n",
      "pad_area_11306.shp\n",
      "D:\\lakemapping\\2_dataset\\sample747\\shp\\output0\\pad_area_11306.shp\n"
     ]
    },
    {
     "data": {
      "text/plain": [
       "0"
      ]
     },
     "execution_count": 36,
     "metadata": {},
     "output_type": "execute_result"
    },
    {
     "data": {
      "text/plain": [
       "0"
      ]
     },
     "execution_count": 36,
     "metadata": {},
     "output_type": "execute_result"
    },
    {
     "data": {
      "text/plain": [
       "0"
      ]
     },
     "execution_count": 36,
     "metadata": {},
     "output_type": "execute_result"
    },
    {
     "name": "stdout",
     "output_type": "stream",
     "text": [
      "image_11324.tif\n",
      "pad_area_11324.shp\n",
      "D:\\lakemapping\\2_dataset\\sample747\\shp\\output0\\pad_area_11324.shp\n"
     ]
    },
    {
     "data": {
      "text/plain": [
       "0"
      ]
     },
     "execution_count": 36,
     "metadata": {},
     "output_type": "execute_result"
    },
    {
     "data": {
      "text/plain": [
       "0"
      ]
     },
     "execution_count": 36,
     "metadata": {},
     "output_type": "execute_result"
    },
    {
     "data": {
      "text/plain": [
       "0"
      ]
     },
     "execution_count": 36,
     "metadata": {},
     "output_type": "execute_result"
    },
    {
     "name": "stdout",
     "output_type": "stream",
     "text": [
      "image_11383.tif\n",
      "pad_area_11383.shp\n",
      "D:\\lakemapping\\2_dataset\\sample747\\shp\\output0\\pad_area_11383.shp\n"
     ]
    },
    {
     "data": {
      "text/plain": [
       "0"
      ]
     },
     "execution_count": 36,
     "metadata": {},
     "output_type": "execute_result"
    },
    {
     "data": {
      "text/plain": [
       "0"
      ]
     },
     "execution_count": 36,
     "metadata": {},
     "output_type": "execute_result"
    },
    {
     "data": {
      "text/plain": [
       "0"
      ]
     },
     "execution_count": 36,
     "metadata": {},
     "output_type": "execute_result"
    },
    {
     "name": "stdout",
     "output_type": "stream",
     "text": [
      "image_11428.tif\n",
      "pad_area_11428.shp\n",
      "D:\\lakemapping\\2_dataset\\sample747\\shp\\output0\\pad_area_11428.shp\n"
     ]
    },
    {
     "data": {
      "text/plain": [
       "0"
      ]
     },
     "execution_count": 36,
     "metadata": {},
     "output_type": "execute_result"
    },
    {
     "data": {
      "text/plain": [
       "0"
      ]
     },
     "execution_count": 36,
     "metadata": {},
     "output_type": "execute_result"
    },
    {
     "data": {
      "text/plain": [
       "0"
      ]
     },
     "execution_count": 36,
     "metadata": {},
     "output_type": "execute_result"
    },
    {
     "name": "stdout",
     "output_type": "stream",
     "text": [
      "image_11490.tif\n",
      "pad_area_11490.shp\n",
      "D:\\lakemapping\\2_dataset\\sample747\\shp\\output0\\pad_area_11490.shp\n"
     ]
    },
    {
     "data": {
      "text/plain": [
       "0"
      ]
     },
     "execution_count": 36,
     "metadata": {},
     "output_type": "execute_result"
    },
    {
     "data": {
      "text/plain": [
       "0"
      ]
     },
     "execution_count": 36,
     "metadata": {},
     "output_type": "execute_result"
    },
    {
     "data": {
      "text/plain": [
       "0"
      ]
     },
     "execution_count": 36,
     "metadata": {},
     "output_type": "execute_result"
    },
    {
     "name": "stdout",
     "output_type": "stream",
     "text": [
      "image_11601.tif\n",
      "pad_area_11601.shp\n",
      "D:\\lakemapping\\2_dataset\\sample747\\shp\\output0\\pad_area_11601.shp\n"
     ]
    },
    {
     "data": {
      "text/plain": [
       "0"
      ]
     },
     "execution_count": 36,
     "metadata": {},
     "output_type": "execute_result"
    },
    {
     "data": {
      "text/plain": [
       "0"
      ]
     },
     "execution_count": 36,
     "metadata": {},
     "output_type": "execute_result"
    },
    {
     "data": {
      "text/plain": [
       "0"
      ]
     },
     "execution_count": 36,
     "metadata": {},
     "output_type": "execute_result"
    },
    {
     "name": "stdout",
     "output_type": "stream",
     "text": [
      "image_11664.tif\n",
      "pad_area_11664.shp\n",
      "D:\\lakemapping\\2_dataset\\sample747\\shp\\output0\\pad_area_11664.shp\n"
     ]
    },
    {
     "data": {
      "text/plain": [
       "0"
      ]
     },
     "execution_count": 36,
     "metadata": {},
     "output_type": "execute_result"
    },
    {
     "data": {
      "text/plain": [
       "0"
      ]
     },
     "execution_count": 36,
     "metadata": {},
     "output_type": "execute_result"
    },
    {
     "data": {
      "text/plain": [
       "0"
      ]
     },
     "execution_count": 36,
     "metadata": {},
     "output_type": "execute_result"
    },
    {
     "name": "stdout",
     "output_type": "stream",
     "text": [
      "image_11740.tif\n",
      "pad_area_11740.shp\n",
      "D:\\lakemapping\\2_dataset\\sample747\\shp\\output0\\pad_area_11740.shp\n"
     ]
    },
    {
     "data": {
      "text/plain": [
       "0"
      ]
     },
     "execution_count": 36,
     "metadata": {},
     "output_type": "execute_result"
    },
    {
     "data": {
      "text/plain": [
       "0"
      ]
     },
     "execution_count": 36,
     "metadata": {},
     "output_type": "execute_result"
    },
    {
     "data": {
      "text/plain": [
       "0"
      ]
     },
     "execution_count": 36,
     "metadata": {},
     "output_type": "execute_result"
    },
    {
     "name": "stdout",
     "output_type": "stream",
     "text": [
      "image_11773.tif\n",
      "pad_area_11773.shp\n",
      "D:\\lakemapping\\2_dataset\\sample747\\shp\\output0\\pad_area_11773.shp\n"
     ]
    },
    {
     "data": {
      "text/plain": [
       "0"
      ]
     },
     "execution_count": 36,
     "metadata": {},
     "output_type": "execute_result"
    },
    {
     "data": {
      "text/plain": [
       "0"
      ]
     },
     "execution_count": 36,
     "metadata": {},
     "output_type": "execute_result"
    },
    {
     "data": {
      "text/plain": [
       "0"
      ]
     },
     "execution_count": 36,
     "metadata": {},
     "output_type": "execute_result"
    },
    {
     "name": "stdout",
     "output_type": "stream",
     "text": [
      "image_11904.tif\n",
      "pad_area_11904.shp\n",
      "D:\\lakemapping\\2_dataset\\sample747\\shp\\output0\\pad_area_11904.shp\n"
     ]
    },
    {
     "data": {
      "text/plain": [
       "0"
      ]
     },
     "execution_count": 36,
     "metadata": {},
     "output_type": "execute_result"
    },
    {
     "data": {
      "text/plain": [
       "0"
      ]
     },
     "execution_count": 36,
     "metadata": {},
     "output_type": "execute_result"
    },
    {
     "data": {
      "text/plain": [
       "0"
      ]
     },
     "execution_count": 36,
     "metadata": {},
     "output_type": "execute_result"
    },
    {
     "name": "stdout",
     "output_type": "stream",
     "text": [
      "image_12000.tif\n",
      "pad_area_12000.shp\n",
      "D:\\lakemapping\\2_dataset\\sample747\\shp\\output0\\pad_area_12000.shp\n"
     ]
    },
    {
     "data": {
      "text/plain": [
       "0"
      ]
     },
     "execution_count": 36,
     "metadata": {},
     "output_type": "execute_result"
    },
    {
     "data": {
      "text/plain": [
       "0"
      ]
     },
     "execution_count": 36,
     "metadata": {},
     "output_type": "execute_result"
    },
    {
     "data": {
      "text/plain": [
       "0"
      ]
     },
     "execution_count": 36,
     "metadata": {},
     "output_type": "execute_result"
    },
    {
     "name": "stdout",
     "output_type": "stream",
     "text": [
      "image_12234.tif\n",
      "pad_area_12234.shp\n",
      "D:\\lakemapping\\2_dataset\\sample747\\shp\\output0\\pad_area_12234.shp\n"
     ]
    },
    {
     "data": {
      "text/plain": [
       "0"
      ]
     },
     "execution_count": 36,
     "metadata": {},
     "output_type": "execute_result"
    },
    {
     "data": {
      "text/plain": [
       "0"
      ]
     },
     "execution_count": 36,
     "metadata": {},
     "output_type": "execute_result"
    },
    {
     "data": {
      "text/plain": [
       "0"
      ]
     },
     "execution_count": 36,
     "metadata": {},
     "output_type": "execute_result"
    },
    {
     "name": "stdout",
     "output_type": "stream",
     "text": [
      "image_12262.tif\n",
      "pad_area_12262.shp\n",
      "D:\\lakemapping\\2_dataset\\sample747\\shp\\output0\\pad_area_12262.shp\n"
     ]
    },
    {
     "data": {
      "text/plain": [
       "0"
      ]
     },
     "execution_count": 36,
     "metadata": {},
     "output_type": "execute_result"
    },
    {
     "data": {
      "text/plain": [
       "0"
      ]
     },
     "execution_count": 36,
     "metadata": {},
     "output_type": "execute_result"
    },
    {
     "data": {
      "text/plain": [
       "0"
      ]
     },
     "execution_count": 36,
     "metadata": {},
     "output_type": "execute_result"
    },
    {
     "name": "stdout",
     "output_type": "stream",
     "text": [
      "image_12277.tif\n",
      "pad_area_12277.shp\n",
      "D:\\lakemapping\\2_dataset\\sample747\\shp\\output0\\pad_area_12277.shp\n"
     ]
    },
    {
     "data": {
      "text/plain": [
       "0"
      ]
     },
     "execution_count": 36,
     "metadata": {},
     "output_type": "execute_result"
    },
    {
     "data": {
      "text/plain": [
       "0"
      ]
     },
     "execution_count": 36,
     "metadata": {},
     "output_type": "execute_result"
    },
    {
     "data": {
      "text/plain": [
       "0"
      ]
     },
     "execution_count": 36,
     "metadata": {},
     "output_type": "execute_result"
    },
    {
     "name": "stdout",
     "output_type": "stream",
     "text": [
      "image_12312.tif\n",
      "pad_area_12312.shp\n",
      "D:\\lakemapping\\2_dataset\\sample747\\shp\\output0\\pad_area_12312.shp\n"
     ]
    },
    {
     "data": {
      "text/plain": [
       "0"
      ]
     },
     "execution_count": 36,
     "metadata": {},
     "output_type": "execute_result"
    },
    {
     "data": {
      "text/plain": [
       "0"
      ]
     },
     "execution_count": 36,
     "metadata": {},
     "output_type": "execute_result"
    },
    {
     "data": {
      "text/plain": [
       "0"
      ]
     },
     "execution_count": 36,
     "metadata": {},
     "output_type": "execute_result"
    },
    {
     "name": "stdout",
     "output_type": "stream",
     "text": [
      "image_12344.tif\n",
      "pad_area_12344.shp\n",
      "D:\\lakemapping\\2_dataset\\sample747\\shp\\output0\\pad_area_12344.shp\n"
     ]
    },
    {
     "data": {
      "text/plain": [
       "0"
      ]
     },
     "execution_count": 36,
     "metadata": {},
     "output_type": "execute_result"
    },
    {
     "data": {
      "text/plain": [
       "0"
      ]
     },
     "execution_count": 36,
     "metadata": {},
     "output_type": "execute_result"
    },
    {
     "data": {
      "text/plain": [
       "0"
      ]
     },
     "execution_count": 36,
     "metadata": {},
     "output_type": "execute_result"
    },
    {
     "name": "stdout",
     "output_type": "stream",
     "text": [
      "image_12351.tif\n",
      "pad_area_12351.shp\n",
      "D:\\lakemapping\\2_dataset\\sample747\\shp\\output0\\pad_area_12351.shp\n"
     ]
    },
    {
     "data": {
      "text/plain": [
       "0"
      ]
     },
     "execution_count": 36,
     "metadata": {},
     "output_type": "execute_result"
    },
    {
     "data": {
      "text/plain": [
       "0"
      ]
     },
     "execution_count": 36,
     "metadata": {},
     "output_type": "execute_result"
    },
    {
     "data": {
      "text/plain": [
       "0"
      ]
     },
     "execution_count": 36,
     "metadata": {},
     "output_type": "execute_result"
    },
    {
     "name": "stdout",
     "output_type": "stream",
     "text": [
      "image_12389.tif\n",
      "pad_area_12389.shp\n",
      "D:\\lakemapping\\2_dataset\\sample747\\shp\\output0\\pad_area_12389.shp\n"
     ]
    },
    {
     "data": {
      "text/plain": [
       "0"
      ]
     },
     "execution_count": 36,
     "metadata": {},
     "output_type": "execute_result"
    },
    {
     "data": {
      "text/plain": [
       "0"
      ]
     },
     "execution_count": 36,
     "metadata": {},
     "output_type": "execute_result"
    },
    {
     "data": {
      "text/plain": [
       "0"
      ]
     },
     "execution_count": 36,
     "metadata": {},
     "output_type": "execute_result"
    },
    {
     "name": "stdout",
     "output_type": "stream",
     "text": [
      "image_12395.tif\n",
      "pad_area_12395.shp\n",
      "D:\\lakemapping\\2_dataset\\sample747\\shp\\output0\\pad_area_12395.shp\n"
     ]
    },
    {
     "data": {
      "text/plain": [
       "0"
      ]
     },
     "execution_count": 36,
     "metadata": {},
     "output_type": "execute_result"
    },
    {
     "data": {
      "text/plain": [
       "0"
      ]
     },
     "execution_count": 36,
     "metadata": {},
     "output_type": "execute_result"
    },
    {
     "data": {
      "text/plain": [
       "0"
      ]
     },
     "execution_count": 36,
     "metadata": {},
     "output_type": "execute_result"
    },
    {
     "name": "stdout",
     "output_type": "stream",
     "text": [
      "image_12443.tif\n",
      "pad_area_12443.shp\n",
      "D:\\lakemapping\\2_dataset\\sample747\\shp\\output0\\pad_area_12443.shp\n"
     ]
    },
    {
     "data": {
      "text/plain": [
       "0"
      ]
     },
     "execution_count": 36,
     "metadata": {},
     "output_type": "execute_result"
    },
    {
     "data": {
      "text/plain": [
       "0"
      ]
     },
     "execution_count": 36,
     "metadata": {},
     "output_type": "execute_result"
    },
    {
     "data": {
      "text/plain": [
       "0"
      ]
     },
     "execution_count": 36,
     "metadata": {},
     "output_type": "execute_result"
    },
    {
     "name": "stdout",
     "output_type": "stream",
     "text": [
      "image_12455.tif\n",
      "pad_area_12455.shp\n",
      "D:\\lakemapping\\2_dataset\\sample747\\shp\\output0\\pad_area_12455.shp\n"
     ]
    },
    {
     "data": {
      "text/plain": [
       "0"
      ]
     },
     "execution_count": 36,
     "metadata": {},
     "output_type": "execute_result"
    },
    {
     "data": {
      "text/plain": [
       "0"
      ]
     },
     "execution_count": 36,
     "metadata": {},
     "output_type": "execute_result"
    },
    {
     "data": {
      "text/plain": [
       "0"
      ]
     },
     "execution_count": 36,
     "metadata": {},
     "output_type": "execute_result"
    },
    {
     "name": "stdout",
     "output_type": "stream",
     "text": [
      "image_12596.tif\n",
      "pad_area_12596.shp\n",
      "D:\\lakemapping\\2_dataset\\sample747\\shp\\output0\\pad_area_12596.shp\n"
     ]
    },
    {
     "data": {
      "text/plain": [
       "0"
      ]
     },
     "execution_count": 36,
     "metadata": {},
     "output_type": "execute_result"
    },
    {
     "data": {
      "text/plain": [
       "0"
      ]
     },
     "execution_count": 36,
     "metadata": {},
     "output_type": "execute_result"
    },
    {
     "data": {
      "text/plain": [
       "0"
      ]
     },
     "execution_count": 36,
     "metadata": {},
     "output_type": "execute_result"
    },
    {
     "name": "stdout",
     "output_type": "stream",
     "text": [
      "image_1260.tif\n",
      "pad_area_1260.shp\n",
      "D:\\lakemapping\\2_dataset\\sample747\\shp\\output0\\pad_area_1260.shp\n"
     ]
    },
    {
     "data": {
      "text/plain": [
       "0"
      ]
     },
     "execution_count": 36,
     "metadata": {},
     "output_type": "execute_result"
    },
    {
     "data": {
      "text/plain": [
       "0"
      ]
     },
     "execution_count": 36,
     "metadata": {},
     "output_type": "execute_result"
    },
    {
     "data": {
      "text/plain": [
       "0"
      ]
     },
     "execution_count": 36,
     "metadata": {},
     "output_type": "execute_result"
    },
    {
     "name": "stdout",
     "output_type": "stream",
     "text": [
      "image_12602.tif\n",
      "pad_area_12602.shp\n",
      "D:\\lakemapping\\2_dataset\\sample747\\shp\\output0\\pad_area_12602.shp\n"
     ]
    },
    {
     "data": {
      "text/plain": [
       "0"
      ]
     },
     "execution_count": 36,
     "metadata": {},
     "output_type": "execute_result"
    },
    {
     "data": {
      "text/plain": [
       "0"
      ]
     },
     "execution_count": 36,
     "metadata": {},
     "output_type": "execute_result"
    },
    {
     "data": {
      "text/plain": [
       "0"
      ]
     },
     "execution_count": 36,
     "metadata": {},
     "output_type": "execute_result"
    },
    {
     "name": "stdout",
     "output_type": "stream",
     "text": [
      "image_12637.tif\n",
      "pad_area_12637.shp\n",
      "D:\\lakemapping\\2_dataset\\sample747\\shp\\output0\\pad_area_12637.shp\n"
     ]
    },
    {
     "data": {
      "text/plain": [
       "0"
      ]
     },
     "execution_count": 36,
     "metadata": {},
     "output_type": "execute_result"
    },
    {
     "data": {
      "text/plain": [
       "0"
      ]
     },
     "execution_count": 36,
     "metadata": {},
     "output_type": "execute_result"
    },
    {
     "data": {
      "text/plain": [
       "0"
      ]
     },
     "execution_count": 36,
     "metadata": {},
     "output_type": "execute_result"
    },
    {
     "name": "stdout",
     "output_type": "stream",
     "text": [
      "image_12666.tif\n",
      "pad_area_12666.shp\n",
      "D:\\lakemapping\\2_dataset\\sample747\\shp\\output0\\pad_area_12666.shp\n"
     ]
    },
    {
     "data": {
      "text/plain": [
       "0"
      ]
     },
     "execution_count": 36,
     "metadata": {},
     "output_type": "execute_result"
    },
    {
     "data": {
      "text/plain": [
       "0"
      ]
     },
     "execution_count": 36,
     "metadata": {},
     "output_type": "execute_result"
    },
    {
     "data": {
      "text/plain": [
       "0"
      ]
     },
     "execution_count": 36,
     "metadata": {},
     "output_type": "execute_result"
    },
    {
     "name": "stdout",
     "output_type": "stream",
     "text": [
      "image_12688.tif\n",
      "pad_area_12688.shp\n",
      "D:\\lakemapping\\2_dataset\\sample747\\shp\\output0\\pad_area_12688.shp\n"
     ]
    },
    {
     "data": {
      "text/plain": [
       "0"
      ]
     },
     "execution_count": 36,
     "metadata": {},
     "output_type": "execute_result"
    },
    {
     "data": {
      "text/plain": [
       "0"
      ]
     },
     "execution_count": 36,
     "metadata": {},
     "output_type": "execute_result"
    },
    {
     "data": {
      "text/plain": [
       "0"
      ]
     },
     "execution_count": 36,
     "metadata": {},
     "output_type": "execute_result"
    },
    {
     "name": "stdout",
     "output_type": "stream",
     "text": [
      "image_12821.tif\n",
      "pad_area_12821.shp\n",
      "D:\\lakemapping\\2_dataset\\sample747\\shp\\output0\\pad_area_12821.shp\n"
     ]
    },
    {
     "data": {
      "text/plain": [
       "0"
      ]
     },
     "execution_count": 36,
     "metadata": {},
     "output_type": "execute_result"
    },
    {
     "data": {
      "text/plain": [
       "0"
      ]
     },
     "execution_count": 36,
     "metadata": {},
     "output_type": "execute_result"
    },
    {
     "data": {
      "text/plain": [
       "0"
      ]
     },
     "execution_count": 36,
     "metadata": {},
     "output_type": "execute_result"
    },
    {
     "name": "stdout",
     "output_type": "stream",
     "text": [
      "image_12843.tif\n",
      "pad_area_12843.shp\n",
      "D:\\lakemapping\\2_dataset\\sample747\\shp\\output0\\pad_area_12843.shp\n"
     ]
    },
    {
     "data": {
      "text/plain": [
       "0"
      ]
     },
     "execution_count": 36,
     "metadata": {},
     "output_type": "execute_result"
    },
    {
     "data": {
      "text/plain": [
       "0"
      ]
     },
     "execution_count": 36,
     "metadata": {},
     "output_type": "execute_result"
    },
    {
     "data": {
      "text/plain": [
       "0"
      ]
     },
     "execution_count": 36,
     "metadata": {},
     "output_type": "execute_result"
    },
    {
     "name": "stdout",
     "output_type": "stream",
     "text": [
      "image_13177.tif\n",
      "pad_area_13177.shp\n",
      "D:\\lakemapping\\2_dataset\\sample747\\shp\\output0\\pad_area_13177.shp\n"
     ]
    },
    {
     "data": {
      "text/plain": [
       "0"
      ]
     },
     "execution_count": 36,
     "metadata": {},
     "output_type": "execute_result"
    },
    {
     "data": {
      "text/plain": [
       "0"
      ]
     },
     "execution_count": 36,
     "metadata": {},
     "output_type": "execute_result"
    },
    {
     "data": {
      "text/plain": [
       "0"
      ]
     },
     "execution_count": 36,
     "metadata": {},
     "output_type": "execute_result"
    },
    {
     "name": "stdout",
     "output_type": "stream",
     "text": [
      "image_13224.tif\n",
      "pad_area_13224.shp\n",
      "D:\\lakemapping\\2_dataset\\sample747\\shp\\output0\\pad_area_13224.shp\n"
     ]
    },
    {
     "data": {
      "text/plain": [
       "0"
      ]
     },
     "execution_count": 36,
     "metadata": {},
     "output_type": "execute_result"
    },
    {
     "data": {
      "text/plain": [
       "0"
      ]
     },
     "execution_count": 36,
     "metadata": {},
     "output_type": "execute_result"
    },
    {
     "data": {
      "text/plain": [
       "0"
      ]
     },
     "execution_count": 36,
     "metadata": {},
     "output_type": "execute_result"
    },
    {
     "name": "stdout",
     "output_type": "stream",
     "text": [
      "image_13246.tif\n",
      "pad_area_13246.shp\n",
      "D:\\lakemapping\\2_dataset\\sample747\\shp\\output0\\pad_area_13246.shp\n"
     ]
    },
    {
     "data": {
      "text/plain": [
       "0"
      ]
     },
     "execution_count": 36,
     "metadata": {},
     "output_type": "execute_result"
    },
    {
     "data": {
      "text/plain": [
       "0"
      ]
     },
     "execution_count": 36,
     "metadata": {},
     "output_type": "execute_result"
    },
    {
     "data": {
      "text/plain": [
       "0"
      ]
     },
     "execution_count": 36,
     "metadata": {},
     "output_type": "execute_result"
    },
    {
     "name": "stdout",
     "output_type": "stream",
     "text": [
      "image_13251.tif\n",
      "pad_area_13251.shp\n",
      "D:\\lakemapping\\2_dataset\\sample747\\shp\\output0\\pad_area_13251.shp\n"
     ]
    },
    {
     "data": {
      "text/plain": [
       "0"
      ]
     },
     "execution_count": 36,
     "metadata": {},
     "output_type": "execute_result"
    },
    {
     "data": {
      "text/plain": [
       "0"
      ]
     },
     "execution_count": 36,
     "metadata": {},
     "output_type": "execute_result"
    },
    {
     "data": {
      "text/plain": [
       "0"
      ]
     },
     "execution_count": 36,
     "metadata": {},
     "output_type": "execute_result"
    },
    {
     "name": "stdout",
     "output_type": "stream",
     "text": [
      "image_13307.tif\n",
      "pad_area_13307.shp\n",
      "D:\\lakemapping\\2_dataset\\sample747\\shp\\output0\\pad_area_13307.shp\n"
     ]
    },
    {
     "data": {
      "text/plain": [
       "0"
      ]
     },
     "execution_count": 36,
     "metadata": {},
     "output_type": "execute_result"
    },
    {
     "data": {
      "text/plain": [
       "0"
      ]
     },
     "execution_count": 36,
     "metadata": {},
     "output_type": "execute_result"
    },
    {
     "data": {
      "text/plain": [
       "0"
      ]
     },
     "execution_count": 36,
     "metadata": {},
     "output_type": "execute_result"
    },
    {
     "name": "stdout",
     "output_type": "stream",
     "text": [
      "image_13362.tif\n",
      "pad_area_13362.shp\n",
      "D:\\lakemapping\\2_dataset\\sample747\\shp\\output0\\pad_area_13362.shp\n"
     ]
    },
    {
     "data": {
      "text/plain": [
       "0"
      ]
     },
     "execution_count": 36,
     "metadata": {},
     "output_type": "execute_result"
    },
    {
     "data": {
      "text/plain": [
       "0"
      ]
     },
     "execution_count": 36,
     "metadata": {},
     "output_type": "execute_result"
    },
    {
     "data": {
      "text/plain": [
       "0"
      ]
     },
     "execution_count": 36,
     "metadata": {},
     "output_type": "execute_result"
    },
    {
     "name": "stdout",
     "output_type": "stream",
     "text": [
      "image_13407.tif\n",
      "pad_area_13407.shp\n",
      "D:\\lakemapping\\2_dataset\\sample747\\shp\\output0\\pad_area_13407.shp\n"
     ]
    },
    {
     "data": {
      "text/plain": [
       "0"
      ]
     },
     "execution_count": 36,
     "metadata": {},
     "output_type": "execute_result"
    },
    {
     "data": {
      "text/plain": [
       "0"
      ]
     },
     "execution_count": 36,
     "metadata": {},
     "output_type": "execute_result"
    },
    {
     "data": {
      "text/plain": [
       "0"
      ]
     },
     "execution_count": 36,
     "metadata": {},
     "output_type": "execute_result"
    },
    {
     "name": "stdout",
     "output_type": "stream",
     "text": [
      "image_13411_2.tif\n",
      "pad_area_13411_2.shp\n",
      "D:\\lakemapping\\2_dataset\\sample747\\shp\\output0\\pad_area_13411_2.shp\n"
     ]
    },
    {
     "data": {
      "text/plain": [
       "0"
      ]
     },
     "execution_count": 36,
     "metadata": {},
     "output_type": "execute_result"
    },
    {
     "data": {
      "text/plain": [
       "0"
      ]
     },
     "execution_count": 36,
     "metadata": {},
     "output_type": "execute_result"
    },
    {
     "data": {
      "text/plain": [
       "0"
      ]
     },
     "execution_count": 36,
     "metadata": {},
     "output_type": "execute_result"
    },
    {
     "name": "stdout",
     "output_type": "stream",
     "text": [
      "image_13554.tif\n",
      "pad_area_13554.shp\n",
      "D:\\lakemapping\\2_dataset\\sample747\\shp\\output0\\pad_area_13554.shp\n"
     ]
    },
    {
     "data": {
      "text/plain": [
       "0"
      ]
     },
     "execution_count": 36,
     "metadata": {},
     "output_type": "execute_result"
    },
    {
     "data": {
      "text/plain": [
       "0"
      ]
     },
     "execution_count": 36,
     "metadata": {},
     "output_type": "execute_result"
    },
    {
     "data": {
      "text/plain": [
       "0"
      ]
     },
     "execution_count": 36,
     "metadata": {},
     "output_type": "execute_result"
    },
    {
     "name": "stdout",
     "output_type": "stream",
     "text": [
      "image_13582.tif\n",
      "pad_area_13582.shp\n",
      "D:\\lakemapping\\2_dataset\\sample747\\shp\\output0\\pad_area_13582.shp\n"
     ]
    },
    {
     "data": {
      "text/plain": [
       "0"
      ]
     },
     "execution_count": 36,
     "metadata": {},
     "output_type": "execute_result"
    },
    {
     "data": {
      "text/plain": [
       "0"
      ]
     },
     "execution_count": 36,
     "metadata": {},
     "output_type": "execute_result"
    },
    {
     "data": {
      "text/plain": [
       "0"
      ]
     },
     "execution_count": 36,
     "metadata": {},
     "output_type": "execute_result"
    },
    {
     "name": "stdout",
     "output_type": "stream",
     "text": [
      "image_13618.tif\n",
      "pad_area_13618.shp\n",
      "D:\\lakemapping\\2_dataset\\sample747\\shp\\output0\\pad_area_13618.shp\n"
     ]
    },
    {
     "data": {
      "text/plain": [
       "0"
      ]
     },
     "execution_count": 36,
     "metadata": {},
     "output_type": "execute_result"
    },
    {
     "data": {
      "text/plain": [
       "0"
      ]
     },
     "execution_count": 36,
     "metadata": {},
     "output_type": "execute_result"
    },
    {
     "data": {
      "text/plain": [
       "0"
      ]
     },
     "execution_count": 36,
     "metadata": {},
     "output_type": "execute_result"
    },
    {
     "name": "stdout",
     "output_type": "stream",
     "text": [
      "image_13705.tif\n",
      "pad_area_13705.shp\n",
      "D:\\lakemapping\\2_dataset\\sample747\\shp\\output0\\pad_area_13705.shp\n"
     ]
    },
    {
     "data": {
      "text/plain": [
       "0"
      ]
     },
     "execution_count": 36,
     "metadata": {},
     "output_type": "execute_result"
    },
    {
     "data": {
      "text/plain": [
       "0"
      ]
     },
     "execution_count": 36,
     "metadata": {},
     "output_type": "execute_result"
    },
    {
     "data": {
      "text/plain": [
       "0"
      ]
     },
     "execution_count": 36,
     "metadata": {},
     "output_type": "execute_result"
    },
    {
     "name": "stdout",
     "output_type": "stream",
     "text": [
      "image_13742.tif\n",
      "pad_area_13742.shp\n",
      "D:\\lakemapping\\2_dataset\\sample747\\shp\\output0\\pad_area_13742.shp\n"
     ]
    },
    {
     "data": {
      "text/plain": [
       "0"
      ]
     },
     "execution_count": 36,
     "metadata": {},
     "output_type": "execute_result"
    },
    {
     "data": {
      "text/plain": [
       "0"
      ]
     },
     "execution_count": 36,
     "metadata": {},
     "output_type": "execute_result"
    },
    {
     "data": {
      "text/plain": [
       "0"
      ]
     },
     "execution_count": 36,
     "metadata": {},
     "output_type": "execute_result"
    },
    {
     "name": "stdout",
     "output_type": "stream",
     "text": [
      "image_13748.tif\n",
      "pad_area_13748.shp\n",
      "D:\\lakemapping\\2_dataset\\sample747\\shp\\output0\\pad_area_13748.shp\n"
     ]
    },
    {
     "data": {
      "text/plain": [
       "0"
      ]
     },
     "execution_count": 36,
     "metadata": {},
     "output_type": "execute_result"
    },
    {
     "data": {
      "text/plain": [
       "0"
      ]
     },
     "execution_count": 36,
     "metadata": {},
     "output_type": "execute_result"
    },
    {
     "data": {
      "text/plain": [
       "0"
      ]
     },
     "execution_count": 36,
     "metadata": {},
     "output_type": "execute_result"
    },
    {
     "name": "stdout",
     "output_type": "stream",
     "text": [
      "image_13830.tif\n",
      "pad_area_13830.shp\n",
      "D:\\lakemapping\\2_dataset\\sample747\\shp\\output0\\pad_area_13830.shp\n"
     ]
    },
    {
     "data": {
      "text/plain": [
       "0"
      ]
     },
     "execution_count": 36,
     "metadata": {},
     "output_type": "execute_result"
    },
    {
     "data": {
      "text/plain": [
       "0"
      ]
     },
     "execution_count": 36,
     "metadata": {},
     "output_type": "execute_result"
    },
    {
     "data": {
      "text/plain": [
       "0"
      ]
     },
     "execution_count": 36,
     "metadata": {},
     "output_type": "execute_result"
    },
    {
     "name": "stdout",
     "output_type": "stream",
     "text": [
      "image_13928.tif\n",
      "pad_area_13928.shp\n",
      "D:\\lakemapping\\2_dataset\\sample747\\shp\\output0\\pad_area_13928.shp\n"
     ]
    },
    {
     "data": {
      "text/plain": [
       "0"
      ]
     },
     "execution_count": 36,
     "metadata": {},
     "output_type": "execute_result"
    },
    {
     "data": {
      "text/plain": [
       "0"
      ]
     },
     "execution_count": 36,
     "metadata": {},
     "output_type": "execute_result"
    },
    {
     "data": {
      "text/plain": [
       "0"
      ]
     },
     "execution_count": 36,
     "metadata": {},
     "output_type": "execute_result"
    },
    {
     "name": "stdout",
     "output_type": "stream",
     "text": [
      "image_13944.tif\n",
      "pad_area_13944.shp\n",
      "D:\\lakemapping\\2_dataset\\sample747\\shp\\output0\\pad_area_13944.shp\n"
     ]
    },
    {
     "data": {
      "text/plain": [
       "0"
      ]
     },
     "execution_count": 36,
     "metadata": {},
     "output_type": "execute_result"
    },
    {
     "data": {
      "text/plain": [
       "0"
      ]
     },
     "execution_count": 36,
     "metadata": {},
     "output_type": "execute_result"
    },
    {
     "data": {
      "text/plain": [
       "0"
      ]
     },
     "execution_count": 36,
     "metadata": {},
     "output_type": "execute_result"
    },
    {
     "name": "stdout",
     "output_type": "stream",
     "text": [
      "image_13962.tif\n",
      "pad_area_13962.shp\n",
      "D:\\lakemapping\\2_dataset\\sample747\\shp\\output0\\pad_area_13962.shp\n"
     ]
    },
    {
     "data": {
      "text/plain": [
       "0"
      ]
     },
     "execution_count": 36,
     "metadata": {},
     "output_type": "execute_result"
    },
    {
     "data": {
      "text/plain": [
       "0"
      ]
     },
     "execution_count": 36,
     "metadata": {},
     "output_type": "execute_result"
    },
    {
     "data": {
      "text/plain": [
       "0"
      ]
     },
     "execution_count": 36,
     "metadata": {},
     "output_type": "execute_result"
    },
    {
     "name": "stdout",
     "output_type": "stream",
     "text": [
      "image_13979.tif\n",
      "pad_area_13979.shp\n",
      "D:\\lakemapping\\2_dataset\\sample747\\shp\\output0\\pad_area_13979.shp\n"
     ]
    },
    {
     "data": {
      "text/plain": [
       "0"
      ]
     },
     "execution_count": 36,
     "metadata": {},
     "output_type": "execute_result"
    },
    {
     "data": {
      "text/plain": [
       "0"
      ]
     },
     "execution_count": 36,
     "metadata": {},
     "output_type": "execute_result"
    },
    {
     "data": {
      "text/plain": [
       "0"
      ]
     },
     "execution_count": 36,
     "metadata": {},
     "output_type": "execute_result"
    },
    {
     "name": "stdout",
     "output_type": "stream",
     "text": [
      "image_14006.tif\n",
      "pad_area_14006.shp\n",
      "D:\\lakemapping\\2_dataset\\sample747\\shp\\output0\\pad_area_14006.shp\n"
     ]
    },
    {
     "data": {
      "text/plain": [
       "0"
      ]
     },
     "execution_count": 36,
     "metadata": {},
     "output_type": "execute_result"
    },
    {
     "data": {
      "text/plain": [
       "0"
      ]
     },
     "execution_count": 36,
     "metadata": {},
     "output_type": "execute_result"
    },
    {
     "data": {
      "text/plain": [
       "0"
      ]
     },
     "execution_count": 36,
     "metadata": {},
     "output_type": "execute_result"
    },
    {
     "name": "stdout",
     "output_type": "stream",
     "text": [
      "image_14077.tif\n",
      "pad_area_14077.shp\n",
      "D:\\lakemapping\\2_dataset\\sample747\\shp\\output0\\pad_area_14077.shp\n"
     ]
    },
    {
     "data": {
      "text/plain": [
       "0"
      ]
     },
     "execution_count": 36,
     "metadata": {},
     "output_type": "execute_result"
    },
    {
     "data": {
      "text/plain": [
       "0"
      ]
     },
     "execution_count": 36,
     "metadata": {},
     "output_type": "execute_result"
    },
    {
     "data": {
      "text/plain": [
       "0"
      ]
     },
     "execution_count": 36,
     "metadata": {},
     "output_type": "execute_result"
    },
    {
     "name": "stdout",
     "output_type": "stream",
     "text": [
      "image_14084.tif\n",
      "pad_area_14084.shp\n",
      "D:\\lakemapping\\2_dataset\\sample747\\shp\\output0\\pad_area_14084.shp\n"
     ]
    },
    {
     "data": {
      "text/plain": [
       "0"
      ]
     },
     "execution_count": 36,
     "metadata": {},
     "output_type": "execute_result"
    },
    {
     "data": {
      "text/plain": [
       "0"
      ]
     },
     "execution_count": 36,
     "metadata": {},
     "output_type": "execute_result"
    },
    {
     "data": {
      "text/plain": [
       "0"
      ]
     },
     "execution_count": 36,
     "metadata": {},
     "output_type": "execute_result"
    },
    {
     "name": "stdout",
     "output_type": "stream",
     "text": [
      "image_14111.tif\n",
      "pad_area_14111.shp\n",
      "D:\\lakemapping\\2_dataset\\sample747\\shp\\output0\\pad_area_14111.shp\n"
     ]
    },
    {
     "data": {
      "text/plain": [
       "0"
      ]
     },
     "execution_count": 36,
     "metadata": {},
     "output_type": "execute_result"
    },
    {
     "data": {
      "text/plain": [
       "0"
      ]
     },
     "execution_count": 36,
     "metadata": {},
     "output_type": "execute_result"
    },
    {
     "data": {
      "text/plain": [
       "0"
      ]
     },
     "execution_count": 36,
     "metadata": {},
     "output_type": "execute_result"
    },
    {
     "name": "stdout",
     "output_type": "stream",
     "text": [
      "image_14206.tif\n",
      "pad_area_14206.shp\n",
      "D:\\lakemapping\\2_dataset\\sample747\\shp\\output0\\pad_area_14206.shp\n"
     ]
    },
    {
     "data": {
      "text/plain": [
       "0"
      ]
     },
     "execution_count": 36,
     "metadata": {},
     "output_type": "execute_result"
    },
    {
     "data": {
      "text/plain": [
       "0"
      ]
     },
     "execution_count": 36,
     "metadata": {},
     "output_type": "execute_result"
    },
    {
     "data": {
      "text/plain": [
       "0"
      ]
     },
     "execution_count": 36,
     "metadata": {},
     "output_type": "execute_result"
    },
    {
     "name": "stdout",
     "output_type": "stream",
     "text": [
      "image_14422.tif\n",
      "pad_area_14422.shp\n",
      "D:\\lakemapping\\2_dataset\\sample747\\shp\\output0\\pad_area_14422.shp\n"
     ]
    },
    {
     "data": {
      "text/plain": [
       "0"
      ]
     },
     "execution_count": 36,
     "metadata": {},
     "output_type": "execute_result"
    },
    {
     "data": {
      "text/plain": [
       "0"
      ]
     },
     "execution_count": 36,
     "metadata": {},
     "output_type": "execute_result"
    },
    {
     "data": {
      "text/plain": [
       "0"
      ]
     },
     "execution_count": 36,
     "metadata": {},
     "output_type": "execute_result"
    },
    {
     "name": "stdout",
     "output_type": "stream",
     "text": [
      "image_14449.tif\n",
      "pad_area_14449.shp\n",
      "D:\\lakemapping\\2_dataset\\sample747\\shp\\output0\\pad_area_14449.shp\n"
     ]
    },
    {
     "data": {
      "text/plain": [
       "0"
      ]
     },
     "execution_count": 36,
     "metadata": {},
     "output_type": "execute_result"
    },
    {
     "data": {
      "text/plain": [
       "0"
      ]
     },
     "execution_count": 36,
     "metadata": {},
     "output_type": "execute_result"
    },
    {
     "data": {
      "text/plain": [
       "0"
      ]
     },
     "execution_count": 36,
     "metadata": {},
     "output_type": "execute_result"
    },
    {
     "name": "stdout",
     "output_type": "stream",
     "text": [
      "image_14494.tif\n",
      "pad_area_14494.shp\n",
      "D:\\lakemapping\\2_dataset\\sample747\\shp\\output0\\pad_area_14494.shp\n"
     ]
    },
    {
     "data": {
      "text/plain": [
       "0"
      ]
     },
     "execution_count": 36,
     "metadata": {},
     "output_type": "execute_result"
    },
    {
     "data": {
      "text/plain": [
       "0"
      ]
     },
     "execution_count": 36,
     "metadata": {},
     "output_type": "execute_result"
    },
    {
     "data": {
      "text/plain": [
       "0"
      ]
     },
     "execution_count": 36,
     "metadata": {},
     "output_type": "execute_result"
    },
    {
     "name": "stdout",
     "output_type": "stream",
     "text": [
      "image_14689.tif\n",
      "pad_area_14689.shp\n",
      "D:\\lakemapping\\2_dataset\\sample747\\shp\\output0\\pad_area_14689.shp\n"
     ]
    },
    {
     "data": {
      "text/plain": [
       "0"
      ]
     },
     "execution_count": 36,
     "metadata": {},
     "output_type": "execute_result"
    },
    {
     "data": {
      "text/plain": [
       "0"
      ]
     },
     "execution_count": 36,
     "metadata": {},
     "output_type": "execute_result"
    },
    {
     "data": {
      "text/plain": [
       "0"
      ]
     },
     "execution_count": 36,
     "metadata": {},
     "output_type": "execute_result"
    },
    {
     "name": "stdout",
     "output_type": "stream",
     "text": [
      "image_147.tif\n",
      "pad_area_147.shp\n",
      "D:\\lakemapping\\2_dataset\\sample747\\shp\\output0\\pad_area_147.shp\n"
     ]
    },
    {
     "data": {
      "text/plain": [
       "0"
      ]
     },
     "execution_count": 36,
     "metadata": {},
     "output_type": "execute_result"
    },
    {
     "data": {
      "text/plain": [
       "0"
      ]
     },
     "execution_count": 36,
     "metadata": {},
     "output_type": "execute_result"
    },
    {
     "data": {
      "text/plain": [
       "0"
      ]
     },
     "execution_count": 36,
     "metadata": {},
     "output_type": "execute_result"
    },
    {
     "name": "stdout",
     "output_type": "stream",
     "text": [
      "image_14735.tif\n",
      "pad_area_14735.shp\n",
      "D:\\lakemapping\\2_dataset\\sample747\\shp\\output0\\pad_area_14735.shp\n"
     ]
    },
    {
     "data": {
      "text/plain": [
       "0"
      ]
     },
     "execution_count": 36,
     "metadata": {},
     "output_type": "execute_result"
    },
    {
     "data": {
      "text/plain": [
       "0"
      ]
     },
     "execution_count": 36,
     "metadata": {},
     "output_type": "execute_result"
    },
    {
     "data": {
      "text/plain": [
       "0"
      ]
     },
     "execution_count": 36,
     "metadata": {},
     "output_type": "execute_result"
    },
    {
     "name": "stdout",
     "output_type": "stream",
     "text": [
      "image_14753.tif\n",
      "pad_area_14753.shp\n",
      "D:\\lakemapping\\2_dataset\\sample747\\shp\\output0\\pad_area_14753.shp\n"
     ]
    },
    {
     "data": {
      "text/plain": [
       "0"
      ]
     },
     "execution_count": 36,
     "metadata": {},
     "output_type": "execute_result"
    },
    {
     "data": {
      "text/plain": [
       "0"
      ]
     },
     "execution_count": 36,
     "metadata": {},
     "output_type": "execute_result"
    },
    {
     "data": {
      "text/plain": [
       "0"
      ]
     },
     "execution_count": 36,
     "metadata": {},
     "output_type": "execute_result"
    },
    {
     "name": "stdout",
     "output_type": "stream",
     "text": [
      "image_14781.tif\n",
      "pad_area_14781.shp\n",
      "D:\\lakemapping\\2_dataset\\sample747\\shp\\output0\\pad_area_14781.shp\n"
     ]
    },
    {
     "data": {
      "text/plain": [
       "0"
      ]
     },
     "execution_count": 36,
     "metadata": {},
     "output_type": "execute_result"
    },
    {
     "data": {
      "text/plain": [
       "0"
      ]
     },
     "execution_count": 36,
     "metadata": {},
     "output_type": "execute_result"
    },
    {
     "data": {
      "text/plain": [
       "0"
      ]
     },
     "execution_count": 36,
     "metadata": {},
     "output_type": "execute_result"
    },
    {
     "name": "stdout",
     "output_type": "stream",
     "text": [
      "image_14807.tif\n",
      "pad_area_14807.shp\n",
      "D:\\lakemapping\\2_dataset\\sample747\\shp\\output0\\pad_area_14807.shp\n"
     ]
    },
    {
     "data": {
      "text/plain": [
       "0"
      ]
     },
     "execution_count": 36,
     "metadata": {},
     "output_type": "execute_result"
    },
    {
     "data": {
      "text/plain": [
       "0"
      ]
     },
     "execution_count": 36,
     "metadata": {},
     "output_type": "execute_result"
    },
    {
     "data": {
      "text/plain": [
       "0"
      ]
     },
     "execution_count": 36,
     "metadata": {},
     "output_type": "execute_result"
    },
    {
     "name": "stdout",
     "output_type": "stream",
     "text": [
      "image_14836.tif\n",
      "pad_area_14836.shp\n",
      "D:\\lakemapping\\2_dataset\\sample747\\shp\\output0\\pad_area_14836.shp\n"
     ]
    },
    {
     "data": {
      "text/plain": [
       "0"
      ]
     },
     "execution_count": 36,
     "metadata": {},
     "output_type": "execute_result"
    },
    {
     "data": {
      "text/plain": [
       "0"
      ]
     },
     "execution_count": 36,
     "metadata": {},
     "output_type": "execute_result"
    },
    {
     "data": {
      "text/plain": [
       "0"
      ]
     },
     "execution_count": 36,
     "metadata": {},
     "output_type": "execute_result"
    },
    {
     "name": "stdout",
     "output_type": "stream",
     "text": [
      "image_14857.tif\n",
      "pad_area_14857.shp\n",
      "D:\\lakemapping\\2_dataset\\sample747\\shp\\output0\\pad_area_14857.shp\n"
     ]
    },
    {
     "data": {
      "text/plain": [
       "0"
      ]
     },
     "execution_count": 36,
     "metadata": {},
     "output_type": "execute_result"
    },
    {
     "data": {
      "text/plain": [
       "0"
      ]
     },
     "execution_count": 36,
     "metadata": {},
     "output_type": "execute_result"
    },
    {
     "data": {
      "text/plain": [
       "0"
      ]
     },
     "execution_count": 36,
     "metadata": {},
     "output_type": "execute_result"
    },
    {
     "name": "stdout",
     "output_type": "stream",
     "text": [
      "image_14862.tif\n",
      "pad_area_14862.shp\n",
      "D:\\lakemapping\\2_dataset\\sample747\\shp\\output0\\pad_area_14862.shp\n"
     ]
    },
    {
     "data": {
      "text/plain": [
       "0"
      ]
     },
     "execution_count": 36,
     "metadata": {},
     "output_type": "execute_result"
    },
    {
     "data": {
      "text/plain": [
       "0"
      ]
     },
     "execution_count": 36,
     "metadata": {},
     "output_type": "execute_result"
    },
    {
     "data": {
      "text/plain": [
       "0"
      ]
     },
     "execution_count": 36,
     "metadata": {},
     "output_type": "execute_result"
    },
    {
     "name": "stdout",
     "output_type": "stream",
     "text": [
      "image_14872.tif\n",
      "pad_area_14872.shp\n",
      "D:\\lakemapping\\2_dataset\\sample747\\shp\\output0\\pad_area_14872.shp\n"
     ]
    },
    {
     "data": {
      "text/plain": [
       "0"
      ]
     },
     "execution_count": 36,
     "metadata": {},
     "output_type": "execute_result"
    },
    {
     "data": {
      "text/plain": [
       "0"
      ]
     },
     "execution_count": 36,
     "metadata": {},
     "output_type": "execute_result"
    },
    {
     "data": {
      "text/plain": [
       "0"
      ]
     },
     "execution_count": 36,
     "metadata": {},
     "output_type": "execute_result"
    },
    {
     "name": "stdout",
     "output_type": "stream",
     "text": [
      "image_14914.tif\n",
      "pad_area_14914.shp\n",
      "D:\\lakemapping\\2_dataset\\sample747\\shp\\output0\\pad_area_14914.shp\n"
     ]
    },
    {
     "data": {
      "text/plain": [
       "0"
      ]
     },
     "execution_count": 36,
     "metadata": {},
     "output_type": "execute_result"
    },
    {
     "data": {
      "text/plain": [
       "0"
      ]
     },
     "execution_count": 36,
     "metadata": {},
     "output_type": "execute_result"
    },
    {
     "data": {
      "text/plain": [
       "0"
      ]
     },
     "execution_count": 36,
     "metadata": {},
     "output_type": "execute_result"
    },
    {
     "name": "stdout",
     "output_type": "stream",
     "text": [
      "image_14926.tif\n",
      "pad_area_14926.shp\n",
      "D:\\lakemapping\\2_dataset\\sample747\\shp\\output0\\pad_area_14926.shp\n"
     ]
    },
    {
     "data": {
      "text/plain": [
       "0"
      ]
     },
     "execution_count": 36,
     "metadata": {},
     "output_type": "execute_result"
    },
    {
     "data": {
      "text/plain": [
       "0"
      ]
     },
     "execution_count": 36,
     "metadata": {},
     "output_type": "execute_result"
    },
    {
     "data": {
      "text/plain": [
       "0"
      ]
     },
     "execution_count": 36,
     "metadata": {},
     "output_type": "execute_result"
    },
    {
     "name": "stdout",
     "output_type": "stream",
     "text": [
      "image_14947.tif\n",
      "pad_area_14947.shp\n",
      "D:\\lakemapping\\2_dataset\\sample747\\shp\\output0\\pad_area_14947.shp\n"
     ]
    },
    {
     "data": {
      "text/plain": [
       "0"
      ]
     },
     "execution_count": 36,
     "metadata": {},
     "output_type": "execute_result"
    },
    {
     "data": {
      "text/plain": [
       "0"
      ]
     },
     "execution_count": 36,
     "metadata": {},
     "output_type": "execute_result"
    },
    {
     "data": {
      "text/plain": [
       "0"
      ]
     },
     "execution_count": 36,
     "metadata": {},
     "output_type": "execute_result"
    },
    {
     "name": "stdout",
     "output_type": "stream",
     "text": [
      "image_14975.tif\n",
      "pad_area_14975.shp\n",
      "D:\\lakemapping\\2_dataset\\sample747\\shp\\output0\\pad_area_14975.shp\n"
     ]
    },
    {
     "data": {
      "text/plain": [
       "0"
      ]
     },
     "execution_count": 36,
     "metadata": {},
     "output_type": "execute_result"
    },
    {
     "data": {
      "text/plain": [
       "0"
      ]
     },
     "execution_count": 36,
     "metadata": {},
     "output_type": "execute_result"
    },
    {
     "data": {
      "text/plain": [
       "0"
      ]
     },
     "execution_count": 36,
     "metadata": {},
     "output_type": "execute_result"
    },
    {
     "name": "stdout",
     "output_type": "stream",
     "text": [
      "image_14997.tif\n",
      "pad_area_14997.shp\n",
      "D:\\lakemapping\\2_dataset\\sample747\\shp\\output0\\pad_area_14997.shp\n"
     ]
    },
    {
     "data": {
      "text/plain": [
       "0"
      ]
     },
     "execution_count": 36,
     "metadata": {},
     "output_type": "execute_result"
    },
    {
     "data": {
      "text/plain": [
       "0"
      ]
     },
     "execution_count": 36,
     "metadata": {},
     "output_type": "execute_result"
    },
    {
     "data": {
      "text/plain": [
       "0"
      ]
     },
     "execution_count": 36,
     "metadata": {},
     "output_type": "execute_result"
    },
    {
     "name": "stdout",
     "output_type": "stream",
     "text": [
      "image_15009.tif\n",
      "pad_area_15009.shp\n",
      "D:\\lakemapping\\2_dataset\\sample747\\shp\\output0\\pad_area_15009.shp\n"
     ]
    },
    {
     "data": {
      "text/plain": [
       "0"
      ]
     },
     "execution_count": 36,
     "metadata": {},
     "output_type": "execute_result"
    },
    {
     "data": {
      "text/plain": [
       "0"
      ]
     },
     "execution_count": 36,
     "metadata": {},
     "output_type": "execute_result"
    },
    {
     "data": {
      "text/plain": [
       "0"
      ]
     },
     "execution_count": 36,
     "metadata": {},
     "output_type": "execute_result"
    },
    {
     "name": "stdout",
     "output_type": "stream",
     "text": [
      "image_1543_1.tif\n",
      "pad_area_1543_1.shp\n",
      "D:\\lakemapping\\2_dataset\\sample747\\shp\\output0\\pad_area_1543_1.shp\n"
     ]
    },
    {
     "data": {
      "text/plain": [
       "0"
      ]
     },
     "execution_count": 36,
     "metadata": {},
     "output_type": "execute_result"
    },
    {
     "data": {
      "text/plain": [
       "0"
      ]
     },
     "execution_count": 36,
     "metadata": {},
     "output_type": "execute_result"
    },
    {
     "data": {
      "text/plain": [
       "0"
      ]
     },
     "execution_count": 36,
     "metadata": {},
     "output_type": "execute_result"
    },
    {
     "name": "stdout",
     "output_type": "stream",
     "text": [
      "image_1543_2.tif\n",
      "pad_area_1543_2.shp\n",
      "D:\\lakemapping\\2_dataset\\sample747\\shp\\output0\\pad_area_1543_2.shp\n"
     ]
    },
    {
     "data": {
      "text/plain": [
       "0"
      ]
     },
     "execution_count": 36,
     "metadata": {},
     "output_type": "execute_result"
    },
    {
     "data": {
      "text/plain": [
       "0"
      ]
     },
     "execution_count": 36,
     "metadata": {},
     "output_type": "execute_result"
    },
    {
     "data": {
      "text/plain": [
       "0"
      ]
     },
     "execution_count": 36,
     "metadata": {},
     "output_type": "execute_result"
    },
    {
     "name": "stdout",
     "output_type": "stream",
     "text": [
      "image_15612.tif\n",
      "pad_area_15612.shp\n",
      "D:\\lakemapping\\2_dataset\\sample747\\shp\\output0\\pad_area_15612.shp\n"
     ]
    },
    {
     "data": {
      "text/plain": [
       "0"
      ]
     },
     "execution_count": 36,
     "metadata": {},
     "output_type": "execute_result"
    },
    {
     "data": {
      "text/plain": [
       "0"
      ]
     },
     "execution_count": 36,
     "metadata": {},
     "output_type": "execute_result"
    },
    {
     "data": {
      "text/plain": [
       "0"
      ]
     },
     "execution_count": 36,
     "metadata": {},
     "output_type": "execute_result"
    },
    {
     "name": "stdout",
     "output_type": "stream",
     "text": [
      "image_1565.tif\n",
      "pad_area_1565.shp\n",
      "D:\\lakemapping\\2_dataset\\sample747\\shp\\output0\\pad_area_1565.shp\n"
     ]
    },
    {
     "data": {
      "text/plain": [
       "0"
      ]
     },
     "execution_count": 36,
     "metadata": {},
     "output_type": "execute_result"
    },
    {
     "data": {
      "text/plain": [
       "0"
      ]
     },
     "execution_count": 36,
     "metadata": {},
     "output_type": "execute_result"
    },
    {
     "data": {
      "text/plain": [
       "0"
      ]
     },
     "execution_count": 36,
     "metadata": {},
     "output_type": "execute_result"
    },
    {
     "name": "stdout",
     "output_type": "stream",
     "text": [
      "image_15693.tif\n",
      "pad_area_15693.shp\n",
      "D:\\lakemapping\\2_dataset\\sample747\\shp\\output0\\pad_area_15693.shp\n"
     ]
    },
    {
     "data": {
      "text/plain": [
       "0"
      ]
     },
     "execution_count": 36,
     "metadata": {},
     "output_type": "execute_result"
    },
    {
     "data": {
      "text/plain": [
       "0"
      ]
     },
     "execution_count": 36,
     "metadata": {},
     "output_type": "execute_result"
    },
    {
     "data": {
      "text/plain": [
       "0"
      ]
     },
     "execution_count": 36,
     "metadata": {},
     "output_type": "execute_result"
    },
    {
     "name": "stdout",
     "output_type": "stream",
     "text": [
      "image_15816.tif\n",
      "pad_area_15816.shp\n",
      "D:\\lakemapping\\2_dataset\\sample747\\shp\\output0\\pad_area_15816.shp\n"
     ]
    },
    {
     "data": {
      "text/plain": [
       "0"
      ]
     },
     "execution_count": 36,
     "metadata": {},
     "output_type": "execute_result"
    },
    {
     "data": {
      "text/plain": [
       "0"
      ]
     },
     "execution_count": 36,
     "metadata": {},
     "output_type": "execute_result"
    },
    {
     "data": {
      "text/plain": [
       "0"
      ]
     },
     "execution_count": 36,
     "metadata": {},
     "output_type": "execute_result"
    },
    {
     "name": "stdout",
     "output_type": "stream",
     "text": [
      "image_15898.tif\n",
      "pad_area_15898.shp\n",
      "D:\\lakemapping\\2_dataset\\sample747\\shp\\output0\\pad_area_15898.shp\n"
     ]
    },
    {
     "data": {
      "text/plain": [
       "0"
      ]
     },
     "execution_count": 36,
     "metadata": {},
     "output_type": "execute_result"
    },
    {
     "data": {
      "text/plain": [
       "0"
      ]
     },
     "execution_count": 36,
     "metadata": {},
     "output_type": "execute_result"
    },
    {
     "data": {
      "text/plain": [
       "0"
      ]
     },
     "execution_count": 36,
     "metadata": {},
     "output_type": "execute_result"
    },
    {
     "name": "stdout",
     "output_type": "stream",
     "text": [
      "image_16071.tif\n",
      "pad_area_16071.shp\n",
      "D:\\lakemapping\\2_dataset\\sample747\\shp\\output0\\pad_area_16071.shp\n"
     ]
    },
    {
     "data": {
      "text/plain": [
       "0"
      ]
     },
     "execution_count": 36,
     "metadata": {},
     "output_type": "execute_result"
    },
    {
     "data": {
      "text/plain": [
       "0"
      ]
     },
     "execution_count": 36,
     "metadata": {},
     "output_type": "execute_result"
    },
    {
     "data": {
      "text/plain": [
       "0"
      ]
     },
     "execution_count": 36,
     "metadata": {},
     "output_type": "execute_result"
    },
    {
     "name": "stdout",
     "output_type": "stream",
     "text": [
      "image_16178.tif\n",
      "pad_area_16178.shp\n",
      "D:\\lakemapping\\2_dataset\\sample747\\shp\\output0\\pad_area_16178.shp\n"
     ]
    },
    {
     "data": {
      "text/plain": [
       "0"
      ]
     },
     "execution_count": 36,
     "metadata": {},
     "output_type": "execute_result"
    },
    {
     "data": {
      "text/plain": [
       "0"
      ]
     },
     "execution_count": 36,
     "metadata": {},
     "output_type": "execute_result"
    },
    {
     "data": {
      "text/plain": [
       "0"
      ]
     },
     "execution_count": 36,
     "metadata": {},
     "output_type": "execute_result"
    },
    {
     "name": "stdout",
     "output_type": "stream",
     "text": [
      "image_1621.tif\n",
      "pad_area_1621.shp\n",
      "D:\\lakemapping\\2_dataset\\sample747\\shp\\output0\\pad_area_1621.shp\n"
     ]
    },
    {
     "data": {
      "text/plain": [
       "0"
      ]
     },
     "execution_count": 36,
     "metadata": {},
     "output_type": "execute_result"
    },
    {
     "data": {
      "text/plain": [
       "0"
      ]
     },
     "execution_count": 36,
     "metadata": {},
     "output_type": "execute_result"
    },
    {
     "data": {
      "text/plain": [
       "0"
      ]
     },
     "execution_count": 36,
     "metadata": {},
     "output_type": "execute_result"
    },
    {
     "name": "stdout",
     "output_type": "stream",
     "text": [
      "image_16227.tif\n",
      "pad_area_16227.shp\n",
      "D:\\lakemapping\\2_dataset\\sample747\\shp\\output0\\pad_area_16227.shp\n"
     ]
    },
    {
     "data": {
      "text/plain": [
       "0"
      ]
     },
     "execution_count": 36,
     "metadata": {},
     "output_type": "execute_result"
    },
    {
     "data": {
      "text/plain": [
       "0"
      ]
     },
     "execution_count": 36,
     "metadata": {},
     "output_type": "execute_result"
    },
    {
     "data": {
      "text/plain": [
       "0"
      ]
     },
     "execution_count": 36,
     "metadata": {},
     "output_type": "execute_result"
    },
    {
     "name": "stdout",
     "output_type": "stream",
     "text": [
      "image_1625.tif\n",
      "pad_area_1625.shp\n",
      "D:\\lakemapping\\2_dataset\\sample747\\shp\\output0\\pad_area_1625.shp\n"
     ]
    },
    {
     "data": {
      "text/plain": [
       "0"
      ]
     },
     "execution_count": 36,
     "metadata": {},
     "output_type": "execute_result"
    },
    {
     "data": {
      "text/plain": [
       "0"
      ]
     },
     "execution_count": 36,
     "metadata": {},
     "output_type": "execute_result"
    },
    {
     "data": {
      "text/plain": [
       "0"
      ]
     },
     "execution_count": 36,
     "metadata": {},
     "output_type": "execute_result"
    },
    {
     "name": "stdout",
     "output_type": "stream",
     "text": [
      "image_16329.tif\n",
      "pad_area_16329.shp\n",
      "D:\\lakemapping\\2_dataset\\sample747\\shp\\output0\\pad_area_16329.shp\n"
     ]
    },
    {
     "data": {
      "text/plain": [
       "0"
      ]
     },
     "execution_count": 36,
     "metadata": {},
     "output_type": "execute_result"
    },
    {
     "data": {
      "text/plain": [
       "0"
      ]
     },
     "execution_count": 36,
     "metadata": {},
     "output_type": "execute_result"
    },
    {
     "data": {
      "text/plain": [
       "0"
      ]
     },
     "execution_count": 36,
     "metadata": {},
     "output_type": "execute_result"
    },
    {
     "name": "stdout",
     "output_type": "stream",
     "text": [
      "image_16333.tif\n",
      "pad_area_16333.shp\n",
      "D:\\lakemapping\\2_dataset\\sample747\\shp\\output0\\pad_area_16333.shp\n"
     ]
    },
    {
     "data": {
      "text/plain": [
       "0"
      ]
     },
     "execution_count": 36,
     "metadata": {},
     "output_type": "execute_result"
    },
    {
     "data": {
      "text/plain": [
       "0"
      ]
     },
     "execution_count": 36,
     "metadata": {},
     "output_type": "execute_result"
    },
    {
     "data": {
      "text/plain": [
       "0"
      ]
     },
     "execution_count": 36,
     "metadata": {},
     "output_type": "execute_result"
    },
    {
     "name": "stdout",
     "output_type": "stream",
     "text": [
      "image_16388.tif\n",
      "pad_area_16388.shp\n",
      "D:\\lakemapping\\2_dataset\\sample747\\shp\\output0\\pad_area_16388.shp\n"
     ]
    },
    {
     "data": {
      "text/plain": [
       "0"
      ]
     },
     "execution_count": 36,
     "metadata": {},
     "output_type": "execute_result"
    },
    {
     "data": {
      "text/plain": [
       "0"
      ]
     },
     "execution_count": 36,
     "metadata": {},
     "output_type": "execute_result"
    },
    {
     "data": {
      "text/plain": [
       "0"
      ]
     },
     "execution_count": 36,
     "metadata": {},
     "output_type": "execute_result"
    },
    {
     "name": "stdout",
     "output_type": "stream",
     "text": [
      "image_16458.tif\n",
      "pad_area_16458.shp\n",
      "D:\\lakemapping\\2_dataset\\sample747\\shp\\output0\\pad_area_16458.shp\n"
     ]
    },
    {
     "data": {
      "text/plain": [
       "0"
      ]
     },
     "execution_count": 36,
     "metadata": {},
     "output_type": "execute_result"
    },
    {
     "data": {
      "text/plain": [
       "0"
      ]
     },
     "execution_count": 36,
     "metadata": {},
     "output_type": "execute_result"
    },
    {
     "data": {
      "text/plain": [
       "0"
      ]
     },
     "execution_count": 36,
     "metadata": {},
     "output_type": "execute_result"
    },
    {
     "name": "stdout",
     "output_type": "stream",
     "text": [
      "image_16483.tif\n",
      "pad_area_16483.shp\n",
      "D:\\lakemapping\\2_dataset\\sample747\\shp\\output0\\pad_area_16483.shp\n"
     ]
    },
    {
     "data": {
      "text/plain": [
       "0"
      ]
     },
     "execution_count": 36,
     "metadata": {},
     "output_type": "execute_result"
    },
    {
     "data": {
      "text/plain": [
       "0"
      ]
     },
     "execution_count": 36,
     "metadata": {},
     "output_type": "execute_result"
    },
    {
     "data": {
      "text/plain": [
       "0"
      ]
     },
     "execution_count": 36,
     "metadata": {},
     "output_type": "execute_result"
    },
    {
     "name": "stdout",
     "output_type": "stream",
     "text": [
      "image_1652.tif\n",
      "pad_area_1652.shp\n",
      "D:\\lakemapping\\2_dataset\\sample747\\shp\\output0\\pad_area_1652.shp\n"
     ]
    },
    {
     "data": {
      "text/plain": [
       "0"
      ]
     },
     "execution_count": 36,
     "metadata": {},
     "output_type": "execute_result"
    },
    {
     "data": {
      "text/plain": [
       "0"
      ]
     },
     "execution_count": 36,
     "metadata": {},
     "output_type": "execute_result"
    },
    {
     "data": {
      "text/plain": [
       "0"
      ]
     },
     "execution_count": 36,
     "metadata": {},
     "output_type": "execute_result"
    },
    {
     "name": "stdout",
     "output_type": "stream",
     "text": [
      "image_16526.tif\n",
      "pad_area_16526.shp\n",
      "D:\\lakemapping\\2_dataset\\sample747\\shp\\output0\\pad_area_16526.shp\n"
     ]
    },
    {
     "data": {
      "text/plain": [
       "0"
      ]
     },
     "execution_count": 36,
     "metadata": {},
     "output_type": "execute_result"
    },
    {
     "data": {
      "text/plain": [
       "0"
      ]
     },
     "execution_count": 36,
     "metadata": {},
     "output_type": "execute_result"
    },
    {
     "data": {
      "text/plain": [
       "0"
      ]
     },
     "execution_count": 36,
     "metadata": {},
     "output_type": "execute_result"
    },
    {
     "name": "stdout",
     "output_type": "stream",
     "text": [
      "image_16599.tif\n",
      "pad_area_16599.shp\n",
      "D:\\lakemapping\\2_dataset\\sample747\\shp\\output0\\pad_area_16599.shp\n"
     ]
    },
    {
     "data": {
      "text/plain": [
       "0"
      ]
     },
     "execution_count": 36,
     "metadata": {},
     "output_type": "execute_result"
    },
    {
     "data": {
      "text/plain": [
       "0"
      ]
     },
     "execution_count": 36,
     "metadata": {},
     "output_type": "execute_result"
    },
    {
     "data": {
      "text/plain": [
       "0"
      ]
     },
     "execution_count": 36,
     "metadata": {},
     "output_type": "execute_result"
    },
    {
     "name": "stdout",
     "output_type": "stream",
     "text": [
      "image_16653.tif\n",
      "pad_area_16653.shp\n",
      "D:\\lakemapping\\2_dataset\\sample747\\shp\\output0\\pad_area_16653.shp\n"
     ]
    },
    {
     "data": {
      "text/plain": [
       "0"
      ]
     },
     "execution_count": 36,
     "metadata": {},
     "output_type": "execute_result"
    },
    {
     "data": {
      "text/plain": [
       "0"
      ]
     },
     "execution_count": 36,
     "metadata": {},
     "output_type": "execute_result"
    },
    {
     "data": {
      "text/plain": [
       "0"
      ]
     },
     "execution_count": 36,
     "metadata": {},
     "output_type": "execute_result"
    },
    {
     "name": "stdout",
     "output_type": "stream",
     "text": [
      "image_1673.tif\n",
      "pad_area_1673.shp\n",
      "D:\\lakemapping\\2_dataset\\sample747\\shp\\output0\\pad_area_1673.shp\n"
     ]
    },
    {
     "data": {
      "text/plain": [
       "0"
      ]
     },
     "execution_count": 36,
     "metadata": {},
     "output_type": "execute_result"
    },
    {
     "data": {
      "text/plain": [
       "0"
      ]
     },
     "execution_count": 36,
     "metadata": {},
     "output_type": "execute_result"
    },
    {
     "data": {
      "text/plain": [
       "0"
      ]
     },
     "execution_count": 36,
     "metadata": {},
     "output_type": "execute_result"
    },
    {
     "name": "stdout",
     "output_type": "stream",
     "text": [
      "image_168.tif\n",
      "pad_area_168.shp\n",
      "D:\\lakemapping\\2_dataset\\sample747\\shp\\output0\\pad_area_168.shp\n"
     ]
    },
    {
     "data": {
      "text/plain": [
       "0"
      ]
     },
     "execution_count": 36,
     "metadata": {},
     "output_type": "execute_result"
    },
    {
     "data": {
      "text/plain": [
       "0"
      ]
     },
     "execution_count": 36,
     "metadata": {},
     "output_type": "execute_result"
    },
    {
     "data": {
      "text/plain": [
       "0"
      ]
     },
     "execution_count": 36,
     "metadata": {},
     "output_type": "execute_result"
    },
    {
     "name": "stdout",
     "output_type": "stream",
     "text": [
      "image_16816.tif\n",
      "pad_area_16816.shp\n",
      "D:\\lakemapping\\2_dataset\\sample747\\shp\\output0\\pad_area_16816.shp\n"
     ]
    },
    {
     "data": {
      "text/plain": [
       "0"
      ]
     },
     "execution_count": 36,
     "metadata": {},
     "output_type": "execute_result"
    },
    {
     "data": {
      "text/plain": [
       "0"
      ]
     },
     "execution_count": 36,
     "metadata": {},
     "output_type": "execute_result"
    },
    {
     "data": {
      "text/plain": [
       "0"
      ]
     },
     "execution_count": 36,
     "metadata": {},
     "output_type": "execute_result"
    },
    {
     "name": "stdout",
     "output_type": "stream",
     "text": [
      "image_16901.tif\n",
      "pad_area_16901.shp\n",
      "D:\\lakemapping\\2_dataset\\sample747\\shp\\output0\\pad_area_16901.shp\n"
     ]
    },
    {
     "data": {
      "text/plain": [
       "0"
      ]
     },
     "execution_count": 36,
     "metadata": {},
     "output_type": "execute_result"
    },
    {
     "data": {
      "text/plain": [
       "0"
      ]
     },
     "execution_count": 36,
     "metadata": {},
     "output_type": "execute_result"
    },
    {
     "data": {
      "text/plain": [
       "0"
      ]
     },
     "execution_count": 36,
     "metadata": {},
     "output_type": "execute_result"
    },
    {
     "name": "stdout",
     "output_type": "stream",
     "text": [
      "image_1704.tif\n",
      "pad_area_1704.shp\n",
      "D:\\lakemapping\\2_dataset\\sample747\\shp\\output0\\pad_area_1704.shp\n"
     ]
    },
    {
     "data": {
      "text/plain": [
       "0"
      ]
     },
     "execution_count": 36,
     "metadata": {},
     "output_type": "execute_result"
    },
    {
     "data": {
      "text/plain": [
       "0"
      ]
     },
     "execution_count": 36,
     "metadata": {},
     "output_type": "execute_result"
    },
    {
     "data": {
      "text/plain": [
       "0"
      ]
     },
     "execution_count": 36,
     "metadata": {},
     "output_type": "execute_result"
    },
    {
     "name": "stdout",
     "output_type": "stream",
     "text": [
      "image_1712.tif\n",
      "pad_area_1712.shp\n",
      "D:\\lakemapping\\2_dataset\\sample747\\shp\\output0\\pad_area_1712.shp\n"
     ]
    },
    {
     "data": {
      "text/plain": [
       "0"
      ]
     },
     "execution_count": 36,
     "metadata": {},
     "output_type": "execute_result"
    },
    {
     "data": {
      "text/plain": [
       "0"
      ]
     },
     "execution_count": 36,
     "metadata": {},
     "output_type": "execute_result"
    },
    {
     "data": {
      "text/plain": [
       "0"
      ]
     },
     "execution_count": 36,
     "metadata": {},
     "output_type": "execute_result"
    },
    {
     "name": "stdout",
     "output_type": "stream",
     "text": [
      "image_17161.tif\n",
      "pad_area_17161.shp\n",
      "D:\\lakemapping\\2_dataset\\sample747\\shp\\output0\\pad_area_17161.shp\n"
     ]
    },
    {
     "data": {
      "text/plain": [
       "0"
      ]
     },
     "execution_count": 36,
     "metadata": {},
     "output_type": "execute_result"
    },
    {
     "data": {
      "text/plain": [
       "0"
      ]
     },
     "execution_count": 36,
     "metadata": {},
     "output_type": "execute_result"
    },
    {
     "data": {
      "text/plain": [
       "0"
      ]
     },
     "execution_count": 36,
     "metadata": {},
     "output_type": "execute_result"
    },
    {
     "name": "stdout",
     "output_type": "stream",
     "text": [
      "image_17175.tif\n",
      "pad_area_17175.shp\n",
      "D:\\lakemapping\\2_dataset\\sample747\\shp\\output0\\pad_area_17175.shp\n"
     ]
    },
    {
     "data": {
      "text/plain": [
       "0"
      ]
     },
     "execution_count": 36,
     "metadata": {},
     "output_type": "execute_result"
    },
    {
     "data": {
      "text/plain": [
       "0"
      ]
     },
     "execution_count": 36,
     "metadata": {},
     "output_type": "execute_result"
    },
    {
     "data": {
      "text/plain": [
       "0"
      ]
     },
     "execution_count": 36,
     "metadata": {},
     "output_type": "execute_result"
    },
    {
     "name": "stdout",
     "output_type": "stream",
     "text": [
      "image_1727.tif\n",
      "pad_area_1727.shp\n",
      "D:\\lakemapping\\2_dataset\\sample747\\shp\\output0\\pad_area_1727.shp\n"
     ]
    },
    {
     "data": {
      "text/plain": [
       "0"
      ]
     },
     "execution_count": 36,
     "metadata": {},
     "output_type": "execute_result"
    },
    {
     "data": {
      "text/plain": [
       "0"
      ]
     },
     "execution_count": 36,
     "metadata": {},
     "output_type": "execute_result"
    },
    {
     "data": {
      "text/plain": [
       "0"
      ]
     },
     "execution_count": 36,
     "metadata": {},
     "output_type": "execute_result"
    },
    {
     "name": "stdout",
     "output_type": "stream",
     "text": [
      "image_17517.tif\n",
      "pad_area_17517.shp\n",
      "D:\\lakemapping\\2_dataset\\sample747\\shp\\output0\\pad_area_17517.shp\n"
     ]
    },
    {
     "data": {
      "text/plain": [
       "0"
      ]
     },
     "execution_count": 36,
     "metadata": {},
     "output_type": "execute_result"
    },
    {
     "data": {
      "text/plain": [
       "0"
      ]
     },
     "execution_count": 36,
     "metadata": {},
     "output_type": "execute_result"
    },
    {
     "data": {
      "text/plain": [
       "0"
      ]
     },
     "execution_count": 36,
     "metadata": {},
     "output_type": "execute_result"
    },
    {
     "name": "stdout",
     "output_type": "stream",
     "text": [
      "image_17553.tif\n",
      "pad_area_17553.shp\n",
      "D:\\lakemapping\\2_dataset\\sample747\\shp\\output0\\pad_area_17553.shp\n"
     ]
    },
    {
     "data": {
      "text/plain": [
       "0"
      ]
     },
     "execution_count": 36,
     "metadata": {},
     "output_type": "execute_result"
    },
    {
     "data": {
      "text/plain": [
       "0"
      ]
     },
     "execution_count": 36,
     "metadata": {},
     "output_type": "execute_result"
    },
    {
     "data": {
      "text/plain": [
       "0"
      ]
     },
     "execution_count": 36,
     "metadata": {},
     "output_type": "execute_result"
    },
    {
     "name": "stdout",
     "output_type": "stream",
     "text": [
      "image_178.tif\n",
      "pad_area_178.shp\n",
      "D:\\lakemapping\\2_dataset\\sample747\\shp\\output0\\pad_area_178.shp\n"
     ]
    },
    {
     "data": {
      "text/plain": [
       "0"
      ]
     },
     "execution_count": 36,
     "metadata": {},
     "output_type": "execute_result"
    },
    {
     "data": {
      "text/plain": [
       "0"
      ]
     },
     "execution_count": 36,
     "metadata": {},
     "output_type": "execute_result"
    },
    {
     "data": {
      "text/plain": [
       "0"
      ]
     },
     "execution_count": 36,
     "metadata": {},
     "output_type": "execute_result"
    },
    {
     "name": "stdout",
     "output_type": "stream",
     "text": [
      "image_17955.tif\n",
      "pad_area_17955.shp\n",
      "D:\\lakemapping\\2_dataset\\sample747\\shp\\output0\\pad_area_17955.shp\n"
     ]
    },
    {
     "data": {
      "text/plain": [
       "0"
      ]
     },
     "execution_count": 36,
     "metadata": {},
     "output_type": "execute_result"
    },
    {
     "data": {
      "text/plain": [
       "0"
      ]
     },
     "execution_count": 36,
     "metadata": {},
     "output_type": "execute_result"
    },
    {
     "data": {
      "text/plain": [
       "0"
      ]
     },
     "execution_count": 36,
     "metadata": {},
     "output_type": "execute_result"
    },
    {
     "name": "stdout",
     "output_type": "stream",
     "text": [
      "image_18071.tif\n",
      "pad_area_18071.shp\n",
      "D:\\lakemapping\\2_dataset\\sample747\\shp\\output0\\pad_area_18071.shp\n"
     ]
    },
    {
     "data": {
      "text/plain": [
       "0"
      ]
     },
     "execution_count": 36,
     "metadata": {},
     "output_type": "execute_result"
    },
    {
     "data": {
      "text/plain": [
       "0"
      ]
     },
     "execution_count": 36,
     "metadata": {},
     "output_type": "execute_result"
    },
    {
     "data": {
      "text/plain": [
       "0"
      ]
     },
     "execution_count": 36,
     "metadata": {},
     "output_type": "execute_result"
    },
    {
     "name": "stdout",
     "output_type": "stream",
     "text": [
      "image_18153.tif\n",
      "pad_area_18153.shp\n",
      "D:\\lakemapping\\2_dataset\\sample747\\shp\\output0\\pad_area_18153.shp\n"
     ]
    },
    {
     "data": {
      "text/plain": [
       "0"
      ]
     },
     "execution_count": 36,
     "metadata": {},
     "output_type": "execute_result"
    },
    {
     "data": {
      "text/plain": [
       "0"
      ]
     },
     "execution_count": 36,
     "metadata": {},
     "output_type": "execute_result"
    },
    {
     "data": {
      "text/plain": [
       "0"
      ]
     },
     "execution_count": 36,
     "metadata": {},
     "output_type": "execute_result"
    },
    {
     "name": "stdout",
     "output_type": "stream",
     "text": [
      "image_18200.tif\n",
      "pad_area_18200.shp\n",
      "D:\\lakemapping\\2_dataset\\sample747\\shp\\output0\\pad_area_18200.shp\n"
     ]
    },
    {
     "data": {
      "text/plain": [
       "0"
      ]
     },
     "execution_count": 36,
     "metadata": {},
     "output_type": "execute_result"
    },
    {
     "data": {
      "text/plain": [
       "0"
      ]
     },
     "execution_count": 36,
     "metadata": {},
     "output_type": "execute_result"
    },
    {
     "data": {
      "text/plain": [
       "0"
      ]
     },
     "execution_count": 36,
     "metadata": {},
     "output_type": "execute_result"
    },
    {
     "name": "stdout",
     "output_type": "stream",
     "text": [
      "image_18247.tif\n",
      "pad_area_18247.shp\n",
      "D:\\lakemapping\\2_dataset\\sample747\\shp\\output0\\pad_area_18247.shp\n"
     ]
    },
    {
     "data": {
      "text/plain": [
       "0"
      ]
     },
     "execution_count": 36,
     "metadata": {},
     "output_type": "execute_result"
    },
    {
     "data": {
      "text/plain": [
       "0"
      ]
     },
     "execution_count": 36,
     "metadata": {},
     "output_type": "execute_result"
    },
    {
     "data": {
      "text/plain": [
       "0"
      ]
     },
     "execution_count": 36,
     "metadata": {},
     "output_type": "execute_result"
    },
    {
     "name": "stdout",
     "output_type": "stream",
     "text": [
      "image_18272.tif\n",
      "pad_area_18272.shp\n",
      "D:\\lakemapping\\2_dataset\\sample747\\shp\\output0\\pad_area_18272.shp\n"
     ]
    },
    {
     "data": {
      "text/plain": [
       "0"
      ]
     },
     "execution_count": 36,
     "metadata": {},
     "output_type": "execute_result"
    },
    {
     "data": {
      "text/plain": [
       "0"
      ]
     },
     "execution_count": 36,
     "metadata": {},
     "output_type": "execute_result"
    },
    {
     "data": {
      "text/plain": [
       "0"
      ]
     },
     "execution_count": 36,
     "metadata": {},
     "output_type": "execute_result"
    },
    {
     "name": "stdout",
     "output_type": "stream",
     "text": [
      "image_18304.tif\n",
      "pad_area_18304.shp\n",
      "D:\\lakemapping\\2_dataset\\sample747\\shp\\output0\\pad_area_18304.shp\n"
     ]
    },
    {
     "data": {
      "text/plain": [
       "0"
      ]
     },
     "execution_count": 36,
     "metadata": {},
     "output_type": "execute_result"
    },
    {
     "data": {
      "text/plain": [
       "0"
      ]
     },
     "execution_count": 36,
     "metadata": {},
     "output_type": "execute_result"
    },
    {
     "data": {
      "text/plain": [
       "0"
      ]
     },
     "execution_count": 36,
     "metadata": {},
     "output_type": "execute_result"
    },
    {
     "name": "stdout",
     "output_type": "stream",
     "text": [
      "image_18337.tif\n",
      "pad_area_18337.shp\n",
      "D:\\lakemapping\\2_dataset\\sample747\\shp\\output0\\pad_area_18337.shp\n"
     ]
    },
    {
     "data": {
      "text/plain": [
       "0"
      ]
     },
     "execution_count": 36,
     "metadata": {},
     "output_type": "execute_result"
    },
    {
     "data": {
      "text/plain": [
       "0"
      ]
     },
     "execution_count": 36,
     "metadata": {},
     "output_type": "execute_result"
    },
    {
     "data": {
      "text/plain": [
       "0"
      ]
     },
     "execution_count": 36,
     "metadata": {},
     "output_type": "execute_result"
    },
    {
     "name": "stdout",
     "output_type": "stream",
     "text": [
      "image_18375.tif\n",
      "pad_area_18375.shp\n",
      "D:\\lakemapping\\2_dataset\\sample747\\shp\\output0\\pad_area_18375.shp\n"
     ]
    },
    {
     "data": {
      "text/plain": [
       "0"
      ]
     },
     "execution_count": 36,
     "metadata": {},
     "output_type": "execute_result"
    },
    {
     "data": {
      "text/plain": [
       "0"
      ]
     },
     "execution_count": 36,
     "metadata": {},
     "output_type": "execute_result"
    },
    {
     "data": {
      "text/plain": [
       "0"
      ]
     },
     "execution_count": 36,
     "metadata": {},
     "output_type": "execute_result"
    },
    {
     "name": "stdout",
     "output_type": "stream",
     "text": [
      "image_18397.tif\n",
      "pad_area_18397.shp\n",
      "D:\\lakemapping\\2_dataset\\sample747\\shp\\output0\\pad_area_18397.shp\n"
     ]
    },
    {
     "data": {
      "text/plain": [
       "0"
      ]
     },
     "execution_count": 36,
     "metadata": {},
     "output_type": "execute_result"
    },
    {
     "data": {
      "text/plain": [
       "0"
      ]
     },
     "execution_count": 36,
     "metadata": {},
     "output_type": "execute_result"
    },
    {
     "data": {
      "text/plain": [
       "0"
      ]
     },
     "execution_count": 36,
     "metadata": {},
     "output_type": "execute_result"
    },
    {
     "name": "stdout",
     "output_type": "stream",
     "text": [
      "image_18447.tif\n",
      "pad_area_18447.shp\n",
      "D:\\lakemapping\\2_dataset\\sample747\\shp\\output0\\pad_area_18447.shp\n"
     ]
    },
    {
     "data": {
      "text/plain": [
       "0"
      ]
     },
     "execution_count": 36,
     "metadata": {},
     "output_type": "execute_result"
    },
    {
     "data": {
      "text/plain": [
       "0"
      ]
     },
     "execution_count": 36,
     "metadata": {},
     "output_type": "execute_result"
    },
    {
     "data": {
      "text/plain": [
       "0"
      ]
     },
     "execution_count": 36,
     "metadata": {},
     "output_type": "execute_result"
    },
    {
     "name": "stdout",
     "output_type": "stream",
     "text": [
      "image_18575.tif\n",
      "pad_area_18575.shp\n",
      "D:\\lakemapping\\2_dataset\\sample747\\shp\\output0\\pad_area_18575.shp\n"
     ]
    },
    {
     "data": {
      "text/plain": [
       "0"
      ]
     },
     "execution_count": 36,
     "metadata": {},
     "output_type": "execute_result"
    },
    {
     "data": {
      "text/plain": [
       "0"
      ]
     },
     "execution_count": 36,
     "metadata": {},
     "output_type": "execute_result"
    },
    {
     "data": {
      "text/plain": [
       "0"
      ]
     },
     "execution_count": 36,
     "metadata": {},
     "output_type": "execute_result"
    },
    {
     "name": "stdout",
     "output_type": "stream",
     "text": [
      "image_18682.tif\n",
      "pad_area_18682.shp\n",
      "D:\\lakemapping\\2_dataset\\sample747\\shp\\output0\\pad_area_18682.shp\n"
     ]
    },
    {
     "data": {
      "text/plain": [
       "0"
      ]
     },
     "execution_count": 36,
     "metadata": {},
     "output_type": "execute_result"
    },
    {
     "data": {
      "text/plain": [
       "0"
      ]
     },
     "execution_count": 36,
     "metadata": {},
     "output_type": "execute_result"
    },
    {
     "data": {
      "text/plain": [
       "0"
      ]
     },
     "execution_count": 36,
     "metadata": {},
     "output_type": "execute_result"
    },
    {
     "name": "stdout",
     "output_type": "stream",
     "text": [
      "image_18782.tif\n",
      "pad_area_18782.shp\n",
      "D:\\lakemapping\\2_dataset\\sample747\\shp\\output0\\pad_area_18782.shp\n"
     ]
    },
    {
     "data": {
      "text/plain": [
       "0"
      ]
     },
     "execution_count": 36,
     "metadata": {},
     "output_type": "execute_result"
    },
    {
     "data": {
      "text/plain": [
       "0"
      ]
     },
     "execution_count": 36,
     "metadata": {},
     "output_type": "execute_result"
    },
    {
     "data": {
      "text/plain": [
       "0"
      ]
     },
     "execution_count": 36,
     "metadata": {},
     "output_type": "execute_result"
    },
    {
     "name": "stdout",
     "output_type": "stream",
     "text": [
      "image_18890.tif\n",
      "pad_area_18890.shp\n",
      "D:\\lakemapping\\2_dataset\\sample747\\shp\\output0\\pad_area_18890.shp\n"
     ]
    },
    {
     "data": {
      "text/plain": [
       "0"
      ]
     },
     "execution_count": 36,
     "metadata": {},
     "output_type": "execute_result"
    },
    {
     "data": {
      "text/plain": [
       "0"
      ]
     },
     "execution_count": 36,
     "metadata": {},
     "output_type": "execute_result"
    },
    {
     "data": {
      "text/plain": [
       "0"
      ]
     },
     "execution_count": 36,
     "metadata": {},
     "output_type": "execute_result"
    },
    {
     "name": "stdout",
     "output_type": "stream",
     "text": [
      "image_18899.tif\n",
      "pad_area_18899.shp\n",
      "D:\\lakemapping\\2_dataset\\sample747\\shp\\output0\\pad_area_18899.shp\n"
     ]
    },
    {
     "data": {
      "text/plain": [
       "0"
      ]
     },
     "execution_count": 36,
     "metadata": {},
     "output_type": "execute_result"
    },
    {
     "data": {
      "text/plain": [
       "0"
      ]
     },
     "execution_count": 36,
     "metadata": {},
     "output_type": "execute_result"
    },
    {
     "data": {
      "text/plain": [
       "0"
      ]
     },
     "execution_count": 36,
     "metadata": {},
     "output_type": "execute_result"
    },
    {
     "name": "stdout",
     "output_type": "stream",
     "text": [
      "image_1903.tif\n",
      "pad_area_1903.shp\n",
      "D:\\lakemapping\\2_dataset\\sample747\\shp\\output0\\pad_area_1903.shp\n"
     ]
    },
    {
     "data": {
      "text/plain": [
       "0"
      ]
     },
     "execution_count": 36,
     "metadata": {},
     "output_type": "execute_result"
    },
    {
     "data": {
      "text/plain": [
       "0"
      ]
     },
     "execution_count": 36,
     "metadata": {},
     "output_type": "execute_result"
    },
    {
     "data": {
      "text/plain": [
       "0"
      ]
     },
     "execution_count": 36,
     "metadata": {},
     "output_type": "execute_result"
    },
    {
     "name": "stdout",
     "output_type": "stream",
     "text": [
      "image_1941.tif\n",
      "pad_area_1941.shp\n",
      "D:\\lakemapping\\2_dataset\\sample747\\shp\\output0\\pad_area_1941.shp\n"
     ]
    },
    {
     "data": {
      "text/plain": [
       "0"
      ]
     },
     "execution_count": 36,
     "metadata": {},
     "output_type": "execute_result"
    },
    {
     "data": {
      "text/plain": [
       "0"
      ]
     },
     "execution_count": 36,
     "metadata": {},
     "output_type": "execute_result"
    },
    {
     "data": {
      "text/plain": [
       "0"
      ]
     },
     "execution_count": 36,
     "metadata": {},
     "output_type": "execute_result"
    },
    {
     "name": "stdout",
     "output_type": "stream",
     "text": [
      "image_1963.tif\n",
      "pad_area_1963.shp\n",
      "D:\\lakemapping\\2_dataset\\sample747\\shp\\output0\\pad_area_1963.shp\n"
     ]
    },
    {
     "data": {
      "text/plain": [
       "0"
      ]
     },
     "execution_count": 36,
     "metadata": {},
     "output_type": "execute_result"
    },
    {
     "data": {
      "text/plain": [
       "0"
      ]
     },
     "execution_count": 36,
     "metadata": {},
     "output_type": "execute_result"
    },
    {
     "data": {
      "text/plain": [
       "0"
      ]
     },
     "execution_count": 36,
     "metadata": {},
     "output_type": "execute_result"
    },
    {
     "name": "stdout",
     "output_type": "stream",
     "text": [
      "image_1972.tif\n",
      "pad_area_1972.shp\n",
      "D:\\lakemapping\\2_dataset\\sample747\\shp\\output0\\pad_area_1972.shp\n"
     ]
    },
    {
     "data": {
      "text/plain": [
       "0"
      ]
     },
     "execution_count": 36,
     "metadata": {},
     "output_type": "execute_result"
    },
    {
     "data": {
      "text/plain": [
       "0"
      ]
     },
     "execution_count": 36,
     "metadata": {},
     "output_type": "execute_result"
    },
    {
     "data": {
      "text/plain": [
       "0"
      ]
     },
     "execution_count": 36,
     "metadata": {},
     "output_type": "execute_result"
    },
    {
     "name": "stdout",
     "output_type": "stream",
     "text": [
      "image_2051.tif\n",
      "pad_area_2051.shp\n",
      "D:\\lakemapping\\2_dataset\\sample747\\shp\\output0\\pad_area_2051.shp\n"
     ]
    },
    {
     "data": {
      "text/plain": [
       "0"
      ]
     },
     "execution_count": 36,
     "metadata": {},
     "output_type": "execute_result"
    },
    {
     "data": {
      "text/plain": [
       "0"
      ]
     },
     "execution_count": 36,
     "metadata": {},
     "output_type": "execute_result"
    },
    {
     "data": {
      "text/plain": [
       "0"
      ]
     },
     "execution_count": 36,
     "metadata": {},
     "output_type": "execute_result"
    },
    {
     "name": "stdout",
     "output_type": "stream",
     "text": [
      "image_2320.tif\n",
      "pad_area_2320.shp\n",
      "D:\\lakemapping\\2_dataset\\sample747\\shp\\output0\\pad_area_2320.shp\n"
     ]
    },
    {
     "data": {
      "text/plain": [
       "0"
      ]
     },
     "execution_count": 36,
     "metadata": {},
     "output_type": "execute_result"
    },
    {
     "data": {
      "text/plain": [
       "0"
      ]
     },
     "execution_count": 36,
     "metadata": {},
     "output_type": "execute_result"
    },
    {
     "data": {
      "text/plain": [
       "0"
      ]
     },
     "execution_count": 36,
     "metadata": {},
     "output_type": "execute_result"
    },
    {
     "name": "stdout",
     "output_type": "stream",
     "text": [
      "image_2345.tif\n",
      "pad_area_2345.shp\n",
      "D:\\lakemapping\\2_dataset\\sample747\\shp\\output0\\pad_area_2345.shp\n"
     ]
    },
    {
     "data": {
      "text/plain": [
       "0"
      ]
     },
     "execution_count": 36,
     "metadata": {},
     "output_type": "execute_result"
    },
    {
     "data": {
      "text/plain": [
       "0"
      ]
     },
     "execution_count": 36,
     "metadata": {},
     "output_type": "execute_result"
    },
    {
     "data": {
      "text/plain": [
       "0"
      ]
     },
     "execution_count": 36,
     "metadata": {},
     "output_type": "execute_result"
    },
    {
     "name": "stdout",
     "output_type": "stream",
     "text": [
      "image_2433.tif\n",
      "pad_area_2433.shp\n",
      "D:\\lakemapping\\2_dataset\\sample747\\shp\\output0\\pad_area_2433.shp\n"
     ]
    },
    {
     "data": {
      "text/plain": [
       "0"
      ]
     },
     "execution_count": 36,
     "metadata": {},
     "output_type": "execute_result"
    },
    {
     "data": {
      "text/plain": [
       "0"
      ]
     },
     "execution_count": 36,
     "metadata": {},
     "output_type": "execute_result"
    },
    {
     "data": {
      "text/plain": [
       "0"
      ]
     },
     "execution_count": 36,
     "metadata": {},
     "output_type": "execute_result"
    },
    {
     "name": "stdout",
     "output_type": "stream",
     "text": [
      "image_2589.tif\n",
      "pad_area_2589.shp\n",
      "D:\\lakemapping\\2_dataset\\sample747\\shp\\output0\\pad_area_2589.shp\n"
     ]
    },
    {
     "data": {
      "text/plain": [
       "0"
      ]
     },
     "execution_count": 36,
     "metadata": {},
     "output_type": "execute_result"
    },
    {
     "data": {
      "text/plain": [
       "0"
      ]
     },
     "execution_count": 36,
     "metadata": {},
     "output_type": "execute_result"
    },
    {
     "data": {
      "text/plain": [
       "0"
      ]
     },
     "execution_count": 36,
     "metadata": {},
     "output_type": "execute_result"
    },
    {
     "name": "stdout",
     "output_type": "stream",
     "text": [
      "image_2720.tif\n",
      "pad_area_2720.shp\n",
      "D:\\lakemapping\\2_dataset\\sample747\\shp\\output0\\pad_area_2720.shp\n"
     ]
    },
    {
     "data": {
      "text/plain": [
       "0"
      ]
     },
     "execution_count": 36,
     "metadata": {},
     "output_type": "execute_result"
    },
    {
     "data": {
      "text/plain": [
       "0"
      ]
     },
     "execution_count": 36,
     "metadata": {},
     "output_type": "execute_result"
    },
    {
     "data": {
      "text/plain": [
       "0"
      ]
     },
     "execution_count": 36,
     "metadata": {},
     "output_type": "execute_result"
    },
    {
     "name": "stdout",
     "output_type": "stream",
     "text": [
      "image_2893.tif\n",
      "pad_area_2893.shp\n",
      "D:\\lakemapping\\2_dataset\\sample747\\shp\\output0\\pad_area_2893.shp\n"
     ]
    },
    {
     "data": {
      "text/plain": [
       "0"
      ]
     },
     "execution_count": 36,
     "metadata": {},
     "output_type": "execute_result"
    },
    {
     "data": {
      "text/plain": [
       "0"
      ]
     },
     "execution_count": 36,
     "metadata": {},
     "output_type": "execute_result"
    },
    {
     "data": {
      "text/plain": [
       "0"
      ]
     },
     "execution_count": 36,
     "metadata": {},
     "output_type": "execute_result"
    },
    {
     "name": "stdout",
     "output_type": "stream",
     "text": [
      "image_2923.tif\n",
      "pad_area_2923.shp\n",
      "D:\\lakemapping\\2_dataset\\sample747\\shp\\output0\\pad_area_2923.shp\n"
     ]
    },
    {
     "data": {
      "text/plain": [
       "0"
      ]
     },
     "execution_count": 36,
     "metadata": {},
     "output_type": "execute_result"
    },
    {
     "data": {
      "text/plain": [
       "0"
      ]
     },
     "execution_count": 36,
     "metadata": {},
     "output_type": "execute_result"
    },
    {
     "data": {
      "text/plain": [
       "0"
      ]
     },
     "execution_count": 36,
     "metadata": {},
     "output_type": "execute_result"
    },
    {
     "name": "stdout",
     "output_type": "stream",
     "text": [
      "image_3015.tif\n",
      "pad_area_3015.shp\n",
      "D:\\lakemapping\\2_dataset\\sample747\\shp\\output0\\pad_area_3015.shp\n"
     ]
    },
    {
     "data": {
      "text/plain": [
       "0"
      ]
     },
     "execution_count": 36,
     "metadata": {},
     "output_type": "execute_result"
    },
    {
     "data": {
      "text/plain": [
       "0"
      ]
     },
     "execution_count": 36,
     "metadata": {},
     "output_type": "execute_result"
    },
    {
     "data": {
      "text/plain": [
       "0"
      ]
     },
     "execution_count": 36,
     "metadata": {},
     "output_type": "execute_result"
    },
    {
     "name": "stdout",
     "output_type": "stream",
     "text": [
      "image_3058.tif\n",
      "pad_area_3058.shp\n",
      "D:\\lakemapping\\2_dataset\\sample747\\shp\\output0\\pad_area_3058.shp\n"
     ]
    },
    {
     "data": {
      "text/plain": [
       "0"
      ]
     },
     "execution_count": 36,
     "metadata": {},
     "output_type": "execute_result"
    },
    {
     "data": {
      "text/plain": [
       "0"
      ]
     },
     "execution_count": 36,
     "metadata": {},
     "output_type": "execute_result"
    },
    {
     "data": {
      "text/plain": [
       "0"
      ]
     },
     "execution_count": 36,
     "metadata": {},
     "output_type": "execute_result"
    },
    {
     "name": "stdout",
     "output_type": "stream",
     "text": [
      "image_3250.tif\n",
      "pad_area_3250.shp\n",
      "D:\\lakemapping\\2_dataset\\sample747\\shp\\output0\\pad_area_3250.shp\n"
     ]
    },
    {
     "data": {
      "text/plain": [
       "0"
      ]
     },
     "execution_count": 36,
     "metadata": {},
     "output_type": "execute_result"
    },
    {
     "data": {
      "text/plain": [
       "0"
      ]
     },
     "execution_count": 36,
     "metadata": {},
     "output_type": "execute_result"
    },
    {
     "data": {
      "text/plain": [
       "0"
      ]
     },
     "execution_count": 36,
     "metadata": {},
     "output_type": "execute_result"
    },
    {
     "name": "stdout",
     "output_type": "stream",
     "text": [
      "image_3272.tif\n",
      "pad_area_3272.shp\n",
      "D:\\lakemapping\\2_dataset\\sample747\\shp\\output0\\pad_area_3272.shp\n"
     ]
    },
    {
     "data": {
      "text/plain": [
       "0"
      ]
     },
     "execution_count": 36,
     "metadata": {},
     "output_type": "execute_result"
    },
    {
     "data": {
      "text/plain": [
       "0"
      ]
     },
     "execution_count": 36,
     "metadata": {},
     "output_type": "execute_result"
    },
    {
     "data": {
      "text/plain": [
       "0"
      ]
     },
     "execution_count": 36,
     "metadata": {},
     "output_type": "execute_result"
    },
    {
     "name": "stdout",
     "output_type": "stream",
     "text": [
      "image_343.tif\n",
      "pad_area_343.shp\n",
      "D:\\lakemapping\\2_dataset\\sample747\\shp\\output0\\pad_area_343.shp\n"
     ]
    },
    {
     "data": {
      "text/plain": [
       "0"
      ]
     },
     "execution_count": 36,
     "metadata": {},
     "output_type": "execute_result"
    },
    {
     "data": {
      "text/plain": [
       "0"
      ]
     },
     "execution_count": 36,
     "metadata": {},
     "output_type": "execute_result"
    },
    {
     "data": {
      "text/plain": [
       "0"
      ]
     },
     "execution_count": 36,
     "metadata": {},
     "output_type": "execute_result"
    },
    {
     "name": "stdout",
     "output_type": "stream",
     "text": [
      "image_3444.tif\n",
      "pad_area_3444.shp\n",
      "D:\\lakemapping\\2_dataset\\sample747\\shp\\output0\\pad_area_3444.shp\n"
     ]
    },
    {
     "data": {
      "text/plain": [
       "0"
      ]
     },
     "execution_count": 36,
     "metadata": {},
     "output_type": "execute_result"
    },
    {
     "data": {
      "text/plain": [
       "0"
      ]
     },
     "execution_count": 36,
     "metadata": {},
     "output_type": "execute_result"
    },
    {
     "data": {
      "text/plain": [
       "0"
      ]
     },
     "execution_count": 36,
     "metadata": {},
     "output_type": "execute_result"
    },
    {
     "name": "stdout",
     "output_type": "stream",
     "text": [
      "image_3445.tif\n",
      "pad_area_3445.shp\n",
      "D:\\lakemapping\\2_dataset\\sample747\\shp\\output0\\pad_area_3445.shp\n"
     ]
    },
    {
     "data": {
      "text/plain": [
       "0"
      ]
     },
     "execution_count": 36,
     "metadata": {},
     "output_type": "execute_result"
    },
    {
     "data": {
      "text/plain": [
       "0"
      ]
     },
     "execution_count": 36,
     "metadata": {},
     "output_type": "execute_result"
    },
    {
     "data": {
      "text/plain": [
       "0"
      ]
     },
     "execution_count": 36,
     "metadata": {},
     "output_type": "execute_result"
    },
    {
     "name": "stdout",
     "output_type": "stream",
     "text": [
      "image_3472.tif\n",
      "pad_area_3472.shp\n",
      "D:\\lakemapping\\2_dataset\\sample747\\shp\\output0\\pad_area_3472.shp\n"
     ]
    },
    {
     "data": {
      "text/plain": [
       "0"
      ]
     },
     "execution_count": 36,
     "metadata": {},
     "output_type": "execute_result"
    },
    {
     "data": {
      "text/plain": [
       "0"
      ]
     },
     "execution_count": 36,
     "metadata": {},
     "output_type": "execute_result"
    },
    {
     "data": {
      "text/plain": [
       "0"
      ]
     },
     "execution_count": 36,
     "metadata": {},
     "output_type": "execute_result"
    },
    {
     "name": "stdout",
     "output_type": "stream",
     "text": [
      "image_3599.tif\n",
      "pad_area_3599.shp\n",
      "D:\\lakemapping\\2_dataset\\sample747\\shp\\output0\\pad_area_3599.shp\n"
     ]
    },
    {
     "data": {
      "text/plain": [
       "0"
      ]
     },
     "execution_count": 36,
     "metadata": {},
     "output_type": "execute_result"
    },
    {
     "data": {
      "text/plain": [
       "0"
      ]
     },
     "execution_count": 36,
     "metadata": {},
     "output_type": "execute_result"
    },
    {
     "data": {
      "text/plain": [
       "0"
      ]
     },
     "execution_count": 36,
     "metadata": {},
     "output_type": "execute_result"
    },
    {
     "name": "stdout",
     "output_type": "stream",
     "text": [
      "image_3601.tif\n",
      "pad_area_3601.shp\n",
      "D:\\lakemapping\\2_dataset\\sample747\\shp\\output0\\pad_area_3601.shp\n"
     ]
    },
    {
     "data": {
      "text/plain": [
       "0"
      ]
     },
     "execution_count": 36,
     "metadata": {},
     "output_type": "execute_result"
    },
    {
     "data": {
      "text/plain": [
       "0"
      ]
     },
     "execution_count": 36,
     "metadata": {},
     "output_type": "execute_result"
    },
    {
     "data": {
      "text/plain": [
       "0"
      ]
     },
     "execution_count": 36,
     "metadata": {},
     "output_type": "execute_result"
    },
    {
     "name": "stdout",
     "output_type": "stream",
     "text": [
      "image_3610.tif\n",
      "pad_area_3610.shp\n",
      "D:\\lakemapping\\2_dataset\\sample747\\shp\\output0\\pad_area_3610.shp\n"
     ]
    },
    {
     "data": {
      "text/plain": [
       "0"
      ]
     },
     "execution_count": 36,
     "metadata": {},
     "output_type": "execute_result"
    },
    {
     "data": {
      "text/plain": [
       "0"
      ]
     },
     "execution_count": 36,
     "metadata": {},
     "output_type": "execute_result"
    },
    {
     "data": {
      "text/plain": [
       "0"
      ]
     },
     "execution_count": 36,
     "metadata": {},
     "output_type": "execute_result"
    },
    {
     "name": "stdout",
     "output_type": "stream",
     "text": [
      "image_3634.tif\n",
      "pad_area_3634.shp\n",
      "D:\\lakemapping\\2_dataset\\sample747\\shp\\output0\\pad_area_3634.shp\n"
     ]
    },
    {
     "data": {
      "text/plain": [
       "0"
      ]
     },
     "execution_count": 36,
     "metadata": {},
     "output_type": "execute_result"
    },
    {
     "data": {
      "text/plain": [
       "0"
      ]
     },
     "execution_count": 36,
     "metadata": {},
     "output_type": "execute_result"
    },
    {
     "data": {
      "text/plain": [
       "0"
      ]
     },
     "execution_count": 36,
     "metadata": {},
     "output_type": "execute_result"
    },
    {
     "name": "stdout",
     "output_type": "stream",
     "text": [
      "image_3638.tif\n",
      "pad_area_3638.shp\n",
      "D:\\lakemapping\\2_dataset\\sample747\\shp\\output0\\pad_area_3638.shp\n"
     ]
    },
    {
     "data": {
      "text/plain": [
       "0"
      ]
     },
     "execution_count": 36,
     "metadata": {},
     "output_type": "execute_result"
    },
    {
     "data": {
      "text/plain": [
       "0"
      ]
     },
     "execution_count": 36,
     "metadata": {},
     "output_type": "execute_result"
    },
    {
     "data": {
      "text/plain": [
       "0"
      ]
     },
     "execution_count": 36,
     "metadata": {},
     "output_type": "execute_result"
    },
    {
     "name": "stdout",
     "output_type": "stream",
     "text": [
      "image_3645.tif\n",
      "pad_area_3645.shp\n",
      "D:\\lakemapping\\2_dataset\\sample747\\shp\\output0\\pad_area_3645.shp\n"
     ]
    },
    {
     "data": {
      "text/plain": [
       "0"
      ]
     },
     "execution_count": 36,
     "metadata": {},
     "output_type": "execute_result"
    },
    {
     "data": {
      "text/plain": [
       "0"
      ]
     },
     "execution_count": 36,
     "metadata": {},
     "output_type": "execute_result"
    },
    {
     "data": {
      "text/plain": [
       "0"
      ]
     },
     "execution_count": 36,
     "metadata": {},
     "output_type": "execute_result"
    },
    {
     "name": "stdout",
     "output_type": "stream",
     "text": [
      "image_3659.tif\n",
      "pad_area_3659.shp\n",
      "D:\\lakemapping\\2_dataset\\sample747\\shp\\output0\\pad_area_3659.shp\n"
     ]
    },
    {
     "data": {
      "text/plain": [
       "0"
      ]
     },
     "execution_count": 36,
     "metadata": {},
     "output_type": "execute_result"
    },
    {
     "data": {
      "text/plain": [
       "0"
      ]
     },
     "execution_count": 36,
     "metadata": {},
     "output_type": "execute_result"
    },
    {
     "data": {
      "text/plain": [
       "0"
      ]
     },
     "execution_count": 36,
     "metadata": {},
     "output_type": "execute_result"
    },
    {
     "name": "stdout",
     "output_type": "stream",
     "text": [
      "image_3922.tif\n",
      "pad_area_3922.shp\n",
      "D:\\lakemapping\\2_dataset\\sample747\\shp\\output0\\pad_area_3922.shp\n"
     ]
    },
    {
     "data": {
      "text/plain": [
       "0"
      ]
     },
     "execution_count": 36,
     "metadata": {},
     "output_type": "execute_result"
    },
    {
     "data": {
      "text/plain": [
       "0"
      ]
     },
     "execution_count": 36,
     "metadata": {},
     "output_type": "execute_result"
    },
    {
     "data": {
      "text/plain": [
       "0"
      ]
     },
     "execution_count": 36,
     "metadata": {},
     "output_type": "execute_result"
    },
    {
     "name": "stdout",
     "output_type": "stream",
     "text": [
      "image_3924.tif\n",
      "pad_area_3924.shp\n",
      "D:\\lakemapping\\2_dataset\\sample747\\shp\\output0\\pad_area_3924.shp\n"
     ]
    },
    {
     "data": {
      "text/plain": [
       "0"
      ]
     },
     "execution_count": 36,
     "metadata": {},
     "output_type": "execute_result"
    },
    {
     "data": {
      "text/plain": [
       "0"
      ]
     },
     "execution_count": 36,
     "metadata": {},
     "output_type": "execute_result"
    },
    {
     "data": {
      "text/plain": [
       "0"
      ]
     },
     "execution_count": 36,
     "metadata": {},
     "output_type": "execute_result"
    },
    {
     "name": "stdout",
     "output_type": "stream",
     "text": [
      "image_4009.tif\n",
      "pad_area_4009.shp\n",
      "D:\\lakemapping\\2_dataset\\sample747\\shp\\output0\\pad_area_4009.shp\n"
     ]
    },
    {
     "data": {
      "text/plain": [
       "0"
      ]
     },
     "execution_count": 36,
     "metadata": {},
     "output_type": "execute_result"
    },
    {
     "data": {
      "text/plain": [
       "0"
      ]
     },
     "execution_count": 36,
     "metadata": {},
     "output_type": "execute_result"
    },
    {
     "data": {
      "text/plain": [
       "0"
      ]
     },
     "execution_count": 36,
     "metadata": {},
     "output_type": "execute_result"
    },
    {
     "name": "stdout",
     "output_type": "stream",
     "text": [
      "image_4735.tif\n",
      "pad_area_4735.shp\n",
      "D:\\lakemapping\\2_dataset\\sample747\\shp\\output0\\pad_area_4735.shp\n"
     ]
    },
    {
     "data": {
      "text/plain": [
       "0"
      ]
     },
     "execution_count": 36,
     "metadata": {},
     "output_type": "execute_result"
    },
    {
     "data": {
      "text/plain": [
       "0"
      ]
     },
     "execution_count": 36,
     "metadata": {},
     "output_type": "execute_result"
    },
    {
     "data": {
      "text/plain": [
       "0"
      ]
     },
     "execution_count": 36,
     "metadata": {},
     "output_type": "execute_result"
    },
    {
     "name": "stdout",
     "output_type": "stream",
     "text": [
      "image_4773.tif\n",
      "pad_area_4773.shp\n",
      "D:\\lakemapping\\2_dataset\\sample747\\shp\\output0\\pad_area_4773.shp\n"
     ]
    },
    {
     "data": {
      "text/plain": [
       "0"
      ]
     },
     "execution_count": 36,
     "metadata": {},
     "output_type": "execute_result"
    },
    {
     "data": {
      "text/plain": [
       "0"
      ]
     },
     "execution_count": 36,
     "metadata": {},
     "output_type": "execute_result"
    },
    {
     "data": {
      "text/plain": [
       "0"
      ]
     },
     "execution_count": 36,
     "metadata": {},
     "output_type": "execute_result"
    },
    {
     "name": "stdout",
     "output_type": "stream",
     "text": [
      "image_4807.tif\n",
      "pad_area_4807.shp\n",
      "D:\\lakemapping\\2_dataset\\sample747\\shp\\output0\\pad_area_4807.shp\n"
     ]
    },
    {
     "data": {
      "text/plain": [
       "0"
      ]
     },
     "execution_count": 36,
     "metadata": {},
     "output_type": "execute_result"
    },
    {
     "data": {
      "text/plain": [
       "0"
      ]
     },
     "execution_count": 36,
     "metadata": {},
     "output_type": "execute_result"
    },
    {
     "data": {
      "text/plain": [
       "0"
      ]
     },
     "execution_count": 36,
     "metadata": {},
     "output_type": "execute_result"
    },
    {
     "name": "stdout",
     "output_type": "stream",
     "text": [
      "image_4846.tif\n",
      "pad_area_4846.shp\n",
      "D:\\lakemapping\\2_dataset\\sample747\\shp\\output0\\pad_area_4846.shp\n"
     ]
    },
    {
     "data": {
      "text/plain": [
       "0"
      ]
     },
     "execution_count": 36,
     "metadata": {},
     "output_type": "execute_result"
    },
    {
     "data": {
      "text/plain": [
       "0"
      ]
     },
     "execution_count": 36,
     "metadata": {},
     "output_type": "execute_result"
    },
    {
     "data": {
      "text/plain": [
       "0"
      ]
     },
     "execution_count": 36,
     "metadata": {},
     "output_type": "execute_result"
    },
    {
     "name": "stdout",
     "output_type": "stream",
     "text": [
      "image_5042.tif\n",
      "pad_area_5042.shp\n",
      "D:\\lakemapping\\2_dataset\\sample747\\shp\\output0\\pad_area_5042.shp\n"
     ]
    },
    {
     "data": {
      "text/plain": [
       "0"
      ]
     },
     "execution_count": 36,
     "metadata": {},
     "output_type": "execute_result"
    },
    {
     "data": {
      "text/plain": [
       "0"
      ]
     },
     "execution_count": 36,
     "metadata": {},
     "output_type": "execute_result"
    },
    {
     "data": {
      "text/plain": [
       "0"
      ]
     },
     "execution_count": 36,
     "metadata": {},
     "output_type": "execute_result"
    },
    {
     "name": "stdout",
     "output_type": "stream",
     "text": [
      "image_5057.tif\n",
      "pad_area_5057.shp\n",
      "D:\\lakemapping\\2_dataset\\sample747\\shp\\output0\\pad_area_5057.shp\n"
     ]
    },
    {
     "data": {
      "text/plain": [
       "0"
      ]
     },
     "execution_count": 36,
     "metadata": {},
     "output_type": "execute_result"
    },
    {
     "data": {
      "text/plain": [
       "0"
      ]
     },
     "execution_count": 36,
     "metadata": {},
     "output_type": "execute_result"
    },
    {
     "data": {
      "text/plain": [
       "0"
      ]
     },
     "execution_count": 36,
     "metadata": {},
     "output_type": "execute_result"
    },
    {
     "name": "stdout",
     "output_type": "stream",
     "text": [
      "image_5085.tif\n",
      "pad_area_5085.shp\n",
      "D:\\lakemapping\\2_dataset\\sample747\\shp\\output0\\pad_area_5085.shp\n"
     ]
    },
    {
     "data": {
      "text/plain": [
       "0"
      ]
     },
     "execution_count": 36,
     "metadata": {},
     "output_type": "execute_result"
    },
    {
     "data": {
      "text/plain": [
       "0"
      ]
     },
     "execution_count": 36,
     "metadata": {},
     "output_type": "execute_result"
    },
    {
     "data": {
      "text/plain": [
       "0"
      ]
     },
     "execution_count": 36,
     "metadata": {},
     "output_type": "execute_result"
    },
    {
     "name": "stdout",
     "output_type": "stream",
     "text": [
      "image_5093.tif\n",
      "pad_area_5093.shp\n",
      "D:\\lakemapping\\2_dataset\\sample747\\shp\\output0\\pad_area_5093.shp\n"
     ]
    },
    {
     "data": {
      "text/plain": [
       "0"
      ]
     },
     "execution_count": 36,
     "metadata": {},
     "output_type": "execute_result"
    },
    {
     "data": {
      "text/plain": [
       "0"
      ]
     },
     "execution_count": 36,
     "metadata": {},
     "output_type": "execute_result"
    },
    {
     "data": {
      "text/plain": [
       "0"
      ]
     },
     "execution_count": 36,
     "metadata": {},
     "output_type": "execute_result"
    },
    {
     "name": "stdout",
     "output_type": "stream",
     "text": [
      "image_5596.tif\n",
      "pad_area_5596.shp\n",
      "D:\\lakemapping\\2_dataset\\sample747\\shp\\output0\\pad_area_5596.shp\n"
     ]
    },
    {
     "data": {
      "text/plain": [
       "0"
      ]
     },
     "execution_count": 36,
     "metadata": {},
     "output_type": "execute_result"
    },
    {
     "data": {
      "text/plain": [
       "0"
      ]
     },
     "execution_count": 36,
     "metadata": {},
     "output_type": "execute_result"
    },
    {
     "data": {
      "text/plain": [
       "0"
      ]
     },
     "execution_count": 36,
     "metadata": {},
     "output_type": "execute_result"
    },
    {
     "name": "stdout",
     "output_type": "stream",
     "text": [
      "image_5717.tif\n",
      "pad_area_5717.shp\n",
      "D:\\lakemapping\\2_dataset\\sample747\\shp\\output0\\pad_area_5717.shp\n"
     ]
    },
    {
     "data": {
      "text/plain": [
       "0"
      ]
     },
     "execution_count": 36,
     "metadata": {},
     "output_type": "execute_result"
    },
    {
     "data": {
      "text/plain": [
       "0"
      ]
     },
     "execution_count": 36,
     "metadata": {},
     "output_type": "execute_result"
    },
    {
     "data": {
      "text/plain": [
       "0"
      ]
     },
     "execution_count": 36,
     "metadata": {},
     "output_type": "execute_result"
    },
    {
     "name": "stdout",
     "output_type": "stream",
     "text": [
      "image_5732.tif\n",
      "pad_area_5732.shp\n",
      "D:\\lakemapping\\2_dataset\\sample747\\shp\\output0\\pad_area_5732.shp\n"
     ]
    },
    {
     "data": {
      "text/plain": [
       "0"
      ]
     },
     "execution_count": 36,
     "metadata": {},
     "output_type": "execute_result"
    },
    {
     "data": {
      "text/plain": [
       "0"
      ]
     },
     "execution_count": 36,
     "metadata": {},
     "output_type": "execute_result"
    },
    {
     "data": {
      "text/plain": [
       "0"
      ]
     },
     "execution_count": 36,
     "metadata": {},
     "output_type": "execute_result"
    },
    {
     "name": "stdout",
     "output_type": "stream",
     "text": [
      "image_5784.tif\n",
      "pad_area_5784.shp\n",
      "D:\\lakemapping\\2_dataset\\sample747\\shp\\output0\\pad_area_5784.shp\n"
     ]
    },
    {
     "data": {
      "text/plain": [
       "0"
      ]
     },
     "execution_count": 36,
     "metadata": {},
     "output_type": "execute_result"
    },
    {
     "data": {
      "text/plain": [
       "0"
      ]
     },
     "execution_count": 36,
     "metadata": {},
     "output_type": "execute_result"
    },
    {
     "data": {
      "text/plain": [
       "0"
      ]
     },
     "execution_count": 36,
     "metadata": {},
     "output_type": "execute_result"
    },
    {
     "name": "stdout",
     "output_type": "stream",
     "text": [
      "image_5897.tif\n",
      "pad_area_5897.shp\n",
      "D:\\lakemapping\\2_dataset\\sample747\\shp\\output0\\pad_area_5897.shp\n"
     ]
    },
    {
     "data": {
      "text/plain": [
       "0"
      ]
     },
     "execution_count": 36,
     "metadata": {},
     "output_type": "execute_result"
    },
    {
     "data": {
      "text/plain": [
       "0"
      ]
     },
     "execution_count": 36,
     "metadata": {},
     "output_type": "execute_result"
    },
    {
     "data": {
      "text/plain": [
       "0"
      ]
     },
     "execution_count": 36,
     "metadata": {},
     "output_type": "execute_result"
    },
    {
     "name": "stdout",
     "output_type": "stream",
     "text": [
      "image_5969.tif\n",
      "pad_area_5969.shp\n",
      "D:\\lakemapping\\2_dataset\\sample747\\shp\\output0\\pad_area_5969.shp\n"
     ]
    },
    {
     "data": {
      "text/plain": [
       "0"
      ]
     },
     "execution_count": 36,
     "metadata": {},
     "output_type": "execute_result"
    },
    {
     "data": {
      "text/plain": [
       "0"
      ]
     },
     "execution_count": 36,
     "metadata": {},
     "output_type": "execute_result"
    },
    {
     "data": {
      "text/plain": [
       "0"
      ]
     },
     "execution_count": 36,
     "metadata": {},
     "output_type": "execute_result"
    },
    {
     "name": "stdout",
     "output_type": "stream",
     "text": [
      "image_5986.tif\n",
      "pad_area_5986.shp\n",
      "D:\\lakemapping\\2_dataset\\sample747\\shp\\output0\\pad_area_5986.shp\n"
     ]
    },
    {
     "data": {
      "text/plain": [
       "0"
      ]
     },
     "execution_count": 36,
     "metadata": {},
     "output_type": "execute_result"
    },
    {
     "data": {
      "text/plain": [
       "0"
      ]
     },
     "execution_count": 36,
     "metadata": {},
     "output_type": "execute_result"
    },
    {
     "data": {
      "text/plain": [
       "0"
      ]
     },
     "execution_count": 36,
     "metadata": {},
     "output_type": "execute_result"
    },
    {
     "name": "stdout",
     "output_type": "stream",
     "text": [
      "image_5999.tif\n",
      "pad_area_5999.shp\n",
      "D:\\lakemapping\\2_dataset\\sample747\\shp\\output0\\pad_area_5999.shp\n"
     ]
    },
    {
     "data": {
      "text/plain": [
       "0"
      ]
     },
     "execution_count": 36,
     "metadata": {},
     "output_type": "execute_result"
    },
    {
     "data": {
      "text/plain": [
       "0"
      ]
     },
     "execution_count": 36,
     "metadata": {},
     "output_type": "execute_result"
    },
    {
     "data": {
      "text/plain": [
       "0"
      ]
     },
     "execution_count": 36,
     "metadata": {},
     "output_type": "execute_result"
    },
    {
     "name": "stdout",
     "output_type": "stream",
     "text": [
      "image_6305.tif\n",
      "pad_area_6305.shp\n",
      "D:\\lakemapping\\2_dataset\\sample747\\shp\\output0\\pad_area_6305.shp\n"
     ]
    },
    {
     "data": {
      "text/plain": [
       "0"
      ]
     },
     "execution_count": 36,
     "metadata": {},
     "output_type": "execute_result"
    },
    {
     "data": {
      "text/plain": [
       "0"
      ]
     },
     "execution_count": 36,
     "metadata": {},
     "output_type": "execute_result"
    },
    {
     "data": {
      "text/plain": [
       "0"
      ]
     },
     "execution_count": 36,
     "metadata": {},
     "output_type": "execute_result"
    },
    {
     "name": "stdout",
     "output_type": "stream",
     "text": [
      "image_6369.tif\n",
      "pad_area_6369.shp\n",
      "D:\\lakemapping\\2_dataset\\sample747\\shp\\output0\\pad_area_6369.shp\n"
     ]
    },
    {
     "data": {
      "text/plain": [
       "0"
      ]
     },
     "execution_count": 36,
     "metadata": {},
     "output_type": "execute_result"
    },
    {
     "data": {
      "text/plain": [
       "0"
      ]
     },
     "execution_count": 36,
     "metadata": {},
     "output_type": "execute_result"
    },
    {
     "data": {
      "text/plain": [
       "0"
      ]
     },
     "execution_count": 36,
     "metadata": {},
     "output_type": "execute_result"
    },
    {
     "name": "stdout",
     "output_type": "stream",
     "text": [
      "image_6423.tif\n",
      "pad_area_6423.shp\n",
      "D:\\lakemapping\\2_dataset\\sample747\\shp\\output0\\pad_area_6423.shp\n"
     ]
    },
    {
     "data": {
      "text/plain": [
       "0"
      ]
     },
     "execution_count": 36,
     "metadata": {},
     "output_type": "execute_result"
    },
    {
     "data": {
      "text/plain": [
       "0"
      ]
     },
     "execution_count": 36,
     "metadata": {},
     "output_type": "execute_result"
    },
    {
     "data": {
      "text/plain": [
       "0"
      ]
     },
     "execution_count": 36,
     "metadata": {},
     "output_type": "execute_result"
    },
    {
     "name": "stdout",
     "output_type": "stream",
     "text": [
      "image_6477.tif\n",
      "pad_area_6477.shp\n",
      "D:\\lakemapping\\2_dataset\\sample747\\shp\\output0\\pad_area_6477.shp\n"
     ]
    },
    {
     "data": {
      "text/plain": [
       "0"
      ]
     },
     "execution_count": 36,
     "metadata": {},
     "output_type": "execute_result"
    },
    {
     "data": {
      "text/plain": [
       "0"
      ]
     },
     "execution_count": 36,
     "metadata": {},
     "output_type": "execute_result"
    },
    {
     "data": {
      "text/plain": [
       "0"
      ]
     },
     "execution_count": 36,
     "metadata": {},
     "output_type": "execute_result"
    },
    {
     "name": "stdout",
     "output_type": "stream",
     "text": [
      "image_6485.tif\n",
      "pad_area_6485.shp\n",
      "D:\\lakemapping\\2_dataset\\sample747\\shp\\output0\\pad_area_6485.shp\n"
     ]
    },
    {
     "data": {
      "text/plain": [
       "0"
      ]
     },
     "execution_count": 36,
     "metadata": {},
     "output_type": "execute_result"
    },
    {
     "data": {
      "text/plain": [
       "0"
      ]
     },
     "execution_count": 36,
     "metadata": {},
     "output_type": "execute_result"
    },
    {
     "data": {
      "text/plain": [
       "0"
      ]
     },
     "execution_count": 36,
     "metadata": {},
     "output_type": "execute_result"
    },
    {
     "name": "stdout",
     "output_type": "stream",
     "text": [
      "image_6504.tif\n",
      "pad_area_6504.shp\n",
      "D:\\lakemapping\\2_dataset\\sample747\\shp\\output0\\pad_area_6504.shp\n"
     ]
    },
    {
     "data": {
      "text/plain": [
       "0"
      ]
     },
     "execution_count": 36,
     "metadata": {},
     "output_type": "execute_result"
    },
    {
     "data": {
      "text/plain": [
       "0"
      ]
     },
     "execution_count": 36,
     "metadata": {},
     "output_type": "execute_result"
    },
    {
     "data": {
      "text/plain": [
       "0"
      ]
     },
     "execution_count": 36,
     "metadata": {},
     "output_type": "execute_result"
    },
    {
     "name": "stdout",
     "output_type": "stream",
     "text": [
      "image_6549.tif\n",
      "pad_area_6549.shp\n",
      "D:\\lakemapping\\2_dataset\\sample747\\shp\\output0\\pad_area_6549.shp\n"
     ]
    },
    {
     "data": {
      "text/plain": [
       "0"
      ]
     },
     "execution_count": 36,
     "metadata": {},
     "output_type": "execute_result"
    },
    {
     "data": {
      "text/plain": [
       "0"
      ]
     },
     "execution_count": 36,
     "metadata": {},
     "output_type": "execute_result"
    },
    {
     "data": {
      "text/plain": [
       "0"
      ]
     },
     "execution_count": 36,
     "metadata": {},
     "output_type": "execute_result"
    },
    {
     "name": "stdout",
     "output_type": "stream",
     "text": [
      "image_6555.tif\n",
      "pad_area_6555.shp\n",
      "D:\\lakemapping\\2_dataset\\sample747\\shp\\output0\\pad_area_6555.shp\n"
     ]
    },
    {
     "data": {
      "text/plain": [
       "0"
      ]
     },
     "execution_count": 36,
     "metadata": {},
     "output_type": "execute_result"
    },
    {
     "data": {
      "text/plain": [
       "0"
      ]
     },
     "execution_count": 36,
     "metadata": {},
     "output_type": "execute_result"
    },
    {
     "data": {
      "text/plain": [
       "0"
      ]
     },
     "execution_count": 36,
     "metadata": {},
     "output_type": "execute_result"
    },
    {
     "name": "stdout",
     "output_type": "stream",
     "text": [
      "image_6576.tif\n",
      "pad_area_6576.shp\n",
      "D:\\lakemapping\\2_dataset\\sample747\\shp\\output0\\pad_area_6576.shp\n"
     ]
    },
    {
     "data": {
      "text/plain": [
       "0"
      ]
     },
     "execution_count": 36,
     "metadata": {},
     "output_type": "execute_result"
    },
    {
     "data": {
      "text/plain": [
       "0"
      ]
     },
     "execution_count": 36,
     "metadata": {},
     "output_type": "execute_result"
    },
    {
     "data": {
      "text/plain": [
       "0"
      ]
     },
     "execution_count": 36,
     "metadata": {},
     "output_type": "execute_result"
    },
    {
     "name": "stdout",
     "output_type": "stream",
     "text": [
      "image_6601.tif\n",
      "pad_area_6601.shp\n",
      "D:\\lakemapping\\2_dataset\\sample747\\shp\\output0\\pad_area_6601.shp\n"
     ]
    },
    {
     "data": {
      "text/plain": [
       "0"
      ]
     },
     "execution_count": 36,
     "metadata": {},
     "output_type": "execute_result"
    },
    {
     "data": {
      "text/plain": [
       "0"
      ]
     },
     "execution_count": 36,
     "metadata": {},
     "output_type": "execute_result"
    },
    {
     "data": {
      "text/plain": [
       "0"
      ]
     },
     "execution_count": 36,
     "metadata": {},
     "output_type": "execute_result"
    },
    {
     "name": "stdout",
     "output_type": "stream",
     "text": [
      "image_6634.tif\n",
      "pad_area_6634.shp\n",
      "D:\\lakemapping\\2_dataset\\sample747\\shp\\output0\\pad_area_6634.shp\n"
     ]
    },
    {
     "data": {
      "text/plain": [
       "0"
      ]
     },
     "execution_count": 36,
     "metadata": {},
     "output_type": "execute_result"
    },
    {
     "data": {
      "text/plain": [
       "0"
      ]
     },
     "execution_count": 36,
     "metadata": {},
     "output_type": "execute_result"
    },
    {
     "data": {
      "text/plain": [
       "0"
      ]
     },
     "execution_count": 36,
     "metadata": {},
     "output_type": "execute_result"
    },
    {
     "name": "stdout",
     "output_type": "stream",
     "text": [
      "image_6664.tif\n",
      "pad_area_6664.shp\n",
      "D:\\lakemapping\\2_dataset\\sample747\\shp\\output0\\pad_area_6664.shp\n"
     ]
    },
    {
     "data": {
      "text/plain": [
       "0"
      ]
     },
     "execution_count": 36,
     "metadata": {},
     "output_type": "execute_result"
    },
    {
     "data": {
      "text/plain": [
       "0"
      ]
     },
     "execution_count": 36,
     "metadata": {},
     "output_type": "execute_result"
    },
    {
     "data": {
      "text/plain": [
       "0"
      ]
     },
     "execution_count": 36,
     "metadata": {},
     "output_type": "execute_result"
    },
    {
     "name": "stdout",
     "output_type": "stream",
     "text": [
      "image_6723.tif\n",
      "pad_area_6723.shp\n",
      "D:\\lakemapping\\2_dataset\\sample747\\shp\\output0\\pad_area_6723.shp\n"
     ]
    },
    {
     "data": {
      "text/plain": [
       "0"
      ]
     },
     "execution_count": 36,
     "metadata": {},
     "output_type": "execute_result"
    },
    {
     "data": {
      "text/plain": [
       "0"
      ]
     },
     "execution_count": 36,
     "metadata": {},
     "output_type": "execute_result"
    },
    {
     "data": {
      "text/plain": [
       "0"
      ]
     },
     "execution_count": 36,
     "metadata": {},
     "output_type": "execute_result"
    },
    {
     "name": "stdout",
     "output_type": "stream",
     "text": [
      "image_6735.tif\n",
      "pad_area_6735.shp\n",
      "D:\\lakemapping\\2_dataset\\sample747\\shp\\output0\\pad_area_6735.shp\n"
     ]
    },
    {
     "data": {
      "text/plain": [
       "0"
      ]
     },
     "execution_count": 36,
     "metadata": {},
     "output_type": "execute_result"
    },
    {
     "data": {
      "text/plain": [
       "0"
      ]
     },
     "execution_count": 36,
     "metadata": {},
     "output_type": "execute_result"
    },
    {
     "data": {
      "text/plain": [
       "0"
      ]
     },
     "execution_count": 36,
     "metadata": {},
     "output_type": "execute_result"
    },
    {
     "name": "stdout",
     "output_type": "stream",
     "text": [
      "image_6870.tif\n",
      "pad_area_6870.shp\n",
      "D:\\lakemapping\\2_dataset\\sample747\\shp\\output0\\pad_area_6870.shp\n"
     ]
    },
    {
     "data": {
      "text/plain": [
       "0"
      ]
     },
     "execution_count": 36,
     "metadata": {},
     "output_type": "execute_result"
    },
    {
     "data": {
      "text/plain": [
       "0"
      ]
     },
     "execution_count": 36,
     "metadata": {},
     "output_type": "execute_result"
    },
    {
     "data": {
      "text/plain": [
       "0"
      ]
     },
     "execution_count": 36,
     "metadata": {},
     "output_type": "execute_result"
    },
    {
     "name": "stdout",
     "output_type": "stream",
     "text": [
      "image_6923.tif\n",
      "pad_area_6923.shp\n",
      "D:\\lakemapping\\2_dataset\\sample747\\shp\\output0\\pad_area_6923.shp\n"
     ]
    },
    {
     "data": {
      "text/plain": [
       "0"
      ]
     },
     "execution_count": 36,
     "metadata": {},
     "output_type": "execute_result"
    },
    {
     "data": {
      "text/plain": [
       "0"
      ]
     },
     "execution_count": 36,
     "metadata": {},
     "output_type": "execute_result"
    },
    {
     "data": {
      "text/plain": [
       "0"
      ]
     },
     "execution_count": 36,
     "metadata": {},
     "output_type": "execute_result"
    },
    {
     "name": "stdout",
     "output_type": "stream",
     "text": [
      "image_7006.tif\n",
      "pad_area_7006.shp\n",
      "D:\\lakemapping\\2_dataset\\sample747\\shp\\output0\\pad_area_7006.shp\n"
     ]
    },
    {
     "data": {
      "text/plain": [
       "0"
      ]
     },
     "execution_count": 36,
     "metadata": {},
     "output_type": "execute_result"
    },
    {
     "data": {
      "text/plain": [
       "0"
      ]
     },
     "execution_count": 36,
     "metadata": {},
     "output_type": "execute_result"
    },
    {
     "data": {
      "text/plain": [
       "0"
      ]
     },
     "execution_count": 36,
     "metadata": {},
     "output_type": "execute_result"
    },
    {
     "name": "stdout",
     "output_type": "stream",
     "text": [
      "image_7105.tif\n",
      "pad_area_7105.shp\n",
      "D:\\lakemapping\\2_dataset\\sample747\\shp\\output0\\pad_area_7105.shp\n"
     ]
    },
    {
     "data": {
      "text/plain": [
       "0"
      ]
     },
     "execution_count": 36,
     "metadata": {},
     "output_type": "execute_result"
    },
    {
     "data": {
      "text/plain": [
       "0"
      ]
     },
     "execution_count": 36,
     "metadata": {},
     "output_type": "execute_result"
    },
    {
     "data": {
      "text/plain": [
       "0"
      ]
     },
     "execution_count": 36,
     "metadata": {},
     "output_type": "execute_result"
    },
    {
     "name": "stdout",
     "output_type": "stream",
     "text": [
      "image_7169.tif\n",
      "pad_area_7169.shp\n",
      "D:\\lakemapping\\2_dataset\\sample747\\shp\\output0\\pad_area_7169.shp\n"
     ]
    },
    {
     "data": {
      "text/plain": [
       "0"
      ]
     },
     "execution_count": 36,
     "metadata": {},
     "output_type": "execute_result"
    },
    {
     "data": {
      "text/plain": [
       "0"
      ]
     },
     "execution_count": 36,
     "metadata": {},
     "output_type": "execute_result"
    },
    {
     "data": {
      "text/plain": [
       "0"
      ]
     },
     "execution_count": 36,
     "metadata": {},
     "output_type": "execute_result"
    },
    {
     "name": "stdout",
     "output_type": "stream",
     "text": [
      "image_7203.tif\n",
      "pad_area_7203.shp\n",
      "D:\\lakemapping\\2_dataset\\sample747\\shp\\output0\\pad_area_7203.shp\n"
     ]
    },
    {
     "data": {
      "text/plain": [
       "0"
      ]
     },
     "execution_count": 36,
     "metadata": {},
     "output_type": "execute_result"
    },
    {
     "data": {
      "text/plain": [
       "0"
      ]
     },
     "execution_count": 36,
     "metadata": {},
     "output_type": "execute_result"
    },
    {
     "data": {
      "text/plain": [
       "0"
      ]
     },
     "execution_count": 36,
     "metadata": {},
     "output_type": "execute_result"
    },
    {
     "name": "stdout",
     "output_type": "stream",
     "text": [
      "image_7230.tif\n",
      "pad_area_7230.shp\n",
      "D:\\lakemapping\\2_dataset\\sample747\\shp\\output0\\pad_area_7230.shp\n"
     ]
    },
    {
     "data": {
      "text/plain": [
       "0"
      ]
     },
     "execution_count": 36,
     "metadata": {},
     "output_type": "execute_result"
    },
    {
     "data": {
      "text/plain": [
       "0"
      ]
     },
     "execution_count": 36,
     "metadata": {},
     "output_type": "execute_result"
    },
    {
     "data": {
      "text/plain": [
       "0"
      ]
     },
     "execution_count": 36,
     "metadata": {},
     "output_type": "execute_result"
    },
    {
     "name": "stdout",
     "output_type": "stream",
     "text": [
      "image_7322.tif\n",
      "pad_area_7322.shp\n",
      "D:\\lakemapping\\2_dataset\\sample747\\shp\\output0\\pad_area_7322.shp\n"
     ]
    },
    {
     "data": {
      "text/plain": [
       "0"
      ]
     },
     "execution_count": 36,
     "metadata": {},
     "output_type": "execute_result"
    },
    {
     "data": {
      "text/plain": [
       "0"
      ]
     },
     "execution_count": 36,
     "metadata": {},
     "output_type": "execute_result"
    },
    {
     "data": {
      "text/plain": [
       "0"
      ]
     },
     "execution_count": 36,
     "metadata": {},
     "output_type": "execute_result"
    },
    {
     "name": "stdout",
     "output_type": "stream",
     "text": [
      "image_7341.tif\n",
      "pad_area_7341.shp\n",
      "D:\\lakemapping\\2_dataset\\sample747\\shp\\output0\\pad_area_7341.shp\n"
     ]
    },
    {
     "data": {
      "text/plain": [
       "0"
      ]
     },
     "execution_count": 36,
     "metadata": {},
     "output_type": "execute_result"
    },
    {
     "data": {
      "text/plain": [
       "0"
      ]
     },
     "execution_count": 36,
     "metadata": {},
     "output_type": "execute_result"
    },
    {
     "data": {
      "text/plain": [
       "0"
      ]
     },
     "execution_count": 36,
     "metadata": {},
     "output_type": "execute_result"
    },
    {
     "name": "stdout",
     "output_type": "stream",
     "text": [
      "image_7393.tif\n",
      "pad_area_7393.shp\n",
      "D:\\lakemapping\\2_dataset\\sample747\\shp\\output0\\pad_area_7393.shp\n"
     ]
    },
    {
     "data": {
      "text/plain": [
       "0"
      ]
     },
     "execution_count": 36,
     "metadata": {},
     "output_type": "execute_result"
    },
    {
     "data": {
      "text/plain": [
       "0"
      ]
     },
     "execution_count": 36,
     "metadata": {},
     "output_type": "execute_result"
    },
    {
     "data": {
      "text/plain": [
       "0"
      ]
     },
     "execution_count": 36,
     "metadata": {},
     "output_type": "execute_result"
    },
    {
     "name": "stdout",
     "output_type": "stream",
     "text": [
      "image_7400.tif\n",
      "pad_area_7400.shp\n",
      "D:\\lakemapping\\2_dataset\\sample747\\shp\\output0\\pad_area_7400.shp\n"
     ]
    },
    {
     "data": {
      "text/plain": [
       "0"
      ]
     },
     "execution_count": 36,
     "metadata": {},
     "output_type": "execute_result"
    },
    {
     "data": {
      "text/plain": [
       "0"
      ]
     },
     "execution_count": 36,
     "metadata": {},
     "output_type": "execute_result"
    },
    {
     "data": {
      "text/plain": [
       "0"
      ]
     },
     "execution_count": 36,
     "metadata": {},
     "output_type": "execute_result"
    },
    {
     "name": "stdout",
     "output_type": "stream",
     "text": [
      "image_7427.tif\n",
      "pad_area_7427.shp\n",
      "D:\\lakemapping\\2_dataset\\sample747\\shp\\output0\\pad_area_7427.shp\n"
     ]
    },
    {
     "data": {
      "text/plain": [
       "0"
      ]
     },
     "execution_count": 36,
     "metadata": {},
     "output_type": "execute_result"
    },
    {
     "data": {
      "text/plain": [
       "0"
      ]
     },
     "execution_count": 36,
     "metadata": {},
     "output_type": "execute_result"
    },
    {
     "data": {
      "text/plain": [
       "0"
      ]
     },
     "execution_count": 36,
     "metadata": {},
     "output_type": "execute_result"
    },
    {
     "name": "stdout",
     "output_type": "stream",
     "text": [
      "image_7499.tif\n",
      "pad_area_7499.shp\n",
      "D:\\lakemapping\\2_dataset\\sample747\\shp\\output0\\pad_area_7499.shp\n"
     ]
    },
    {
     "data": {
      "text/plain": [
       "0"
      ]
     },
     "execution_count": 36,
     "metadata": {},
     "output_type": "execute_result"
    },
    {
     "data": {
      "text/plain": [
       "0"
      ]
     },
     "execution_count": 36,
     "metadata": {},
     "output_type": "execute_result"
    },
    {
     "data": {
      "text/plain": [
       "0"
      ]
     },
     "execution_count": 36,
     "metadata": {},
     "output_type": "execute_result"
    },
    {
     "name": "stdout",
     "output_type": "stream",
     "text": [
      "image_7531.tif\n",
      "pad_area_7531.shp\n",
      "D:\\lakemapping\\2_dataset\\sample747\\shp\\output0\\pad_area_7531.shp\n"
     ]
    },
    {
     "data": {
      "text/plain": [
       "0"
      ]
     },
     "execution_count": 36,
     "metadata": {},
     "output_type": "execute_result"
    },
    {
     "data": {
      "text/plain": [
       "0"
      ]
     },
     "execution_count": 36,
     "metadata": {},
     "output_type": "execute_result"
    },
    {
     "data": {
      "text/plain": [
       "0"
      ]
     },
     "execution_count": 36,
     "metadata": {},
     "output_type": "execute_result"
    },
    {
     "name": "stdout",
     "output_type": "stream",
     "text": [
      "image_7548.tif\n",
      "pad_area_7548.shp\n",
      "D:\\lakemapping\\2_dataset\\sample747\\shp\\output0\\pad_area_7548.shp\n"
     ]
    },
    {
     "data": {
      "text/plain": [
       "0"
      ]
     },
     "execution_count": 36,
     "metadata": {},
     "output_type": "execute_result"
    },
    {
     "data": {
      "text/plain": [
       "0"
      ]
     },
     "execution_count": 36,
     "metadata": {},
     "output_type": "execute_result"
    },
    {
     "data": {
      "text/plain": [
       "0"
      ]
     },
     "execution_count": 36,
     "metadata": {},
     "output_type": "execute_result"
    },
    {
     "name": "stdout",
     "output_type": "stream",
     "text": [
      "image_7578.tif\n",
      "pad_area_7578.shp\n",
      "D:\\lakemapping\\2_dataset\\sample747\\shp\\output0\\pad_area_7578.shp\n"
     ]
    },
    {
     "data": {
      "text/plain": [
       "0"
      ]
     },
     "execution_count": 36,
     "metadata": {},
     "output_type": "execute_result"
    },
    {
     "data": {
      "text/plain": [
       "0"
      ]
     },
     "execution_count": 36,
     "metadata": {},
     "output_type": "execute_result"
    },
    {
     "data": {
      "text/plain": [
       "0"
      ]
     },
     "execution_count": 36,
     "metadata": {},
     "output_type": "execute_result"
    },
    {
     "name": "stdout",
     "output_type": "stream",
     "text": [
      "image_7648.tif\n",
      "pad_area_7648.shp\n",
      "D:\\lakemapping\\2_dataset\\sample747\\shp\\output0\\pad_area_7648.shp\n"
     ]
    },
    {
     "data": {
      "text/plain": [
       "0"
      ]
     },
     "execution_count": 36,
     "metadata": {},
     "output_type": "execute_result"
    },
    {
     "data": {
      "text/plain": [
       "0"
      ]
     },
     "execution_count": 36,
     "metadata": {},
     "output_type": "execute_result"
    },
    {
     "data": {
      "text/plain": [
       "0"
      ]
     },
     "execution_count": 36,
     "metadata": {},
     "output_type": "execute_result"
    },
    {
     "name": "stdout",
     "output_type": "stream",
     "text": [
      "image_7724.tif\n",
      "pad_area_7724.shp\n",
      "D:\\lakemapping\\2_dataset\\sample747\\shp\\output0\\pad_area_7724.shp\n"
     ]
    },
    {
     "data": {
      "text/plain": [
       "0"
      ]
     },
     "execution_count": 36,
     "metadata": {},
     "output_type": "execute_result"
    },
    {
     "data": {
      "text/plain": [
       "0"
      ]
     },
     "execution_count": 36,
     "metadata": {},
     "output_type": "execute_result"
    },
    {
     "data": {
      "text/plain": [
       "0"
      ]
     },
     "execution_count": 36,
     "metadata": {},
     "output_type": "execute_result"
    },
    {
     "name": "stdout",
     "output_type": "stream",
     "text": [
      "image_7733.tif\n",
      "pad_area_7733.shp\n",
      "D:\\lakemapping\\2_dataset\\sample747\\shp\\output0\\pad_area_7733.shp\n"
     ]
    },
    {
     "data": {
      "text/plain": [
       "0"
      ]
     },
     "execution_count": 36,
     "metadata": {},
     "output_type": "execute_result"
    },
    {
     "data": {
      "text/plain": [
       "0"
      ]
     },
     "execution_count": 36,
     "metadata": {},
     "output_type": "execute_result"
    },
    {
     "data": {
      "text/plain": [
       "0"
      ]
     },
     "execution_count": 36,
     "metadata": {},
     "output_type": "execute_result"
    },
    {
     "name": "stdout",
     "output_type": "stream",
     "text": [
      "image_7752.tif\n",
      "pad_area_7752.shp\n",
      "D:\\lakemapping\\2_dataset\\sample747\\shp\\output0\\pad_area_7752.shp\n"
     ]
    },
    {
     "data": {
      "text/plain": [
       "0"
      ]
     },
     "execution_count": 36,
     "metadata": {},
     "output_type": "execute_result"
    },
    {
     "data": {
      "text/plain": [
       "0"
      ]
     },
     "execution_count": 36,
     "metadata": {},
     "output_type": "execute_result"
    },
    {
     "data": {
      "text/plain": [
       "0"
      ]
     },
     "execution_count": 36,
     "metadata": {},
     "output_type": "execute_result"
    },
    {
     "name": "stdout",
     "output_type": "stream",
     "text": [
      "image_7776.tif\n",
      "pad_area_7776.shp\n",
      "D:\\lakemapping\\2_dataset\\sample747\\shp\\output0\\pad_area_7776.shp\n"
     ]
    },
    {
     "data": {
      "text/plain": [
       "0"
      ]
     },
     "execution_count": 36,
     "metadata": {},
     "output_type": "execute_result"
    },
    {
     "data": {
      "text/plain": [
       "0"
      ]
     },
     "execution_count": 36,
     "metadata": {},
     "output_type": "execute_result"
    },
    {
     "data": {
      "text/plain": [
       "0"
      ]
     },
     "execution_count": 36,
     "metadata": {},
     "output_type": "execute_result"
    },
    {
     "name": "stdout",
     "output_type": "stream",
     "text": [
      "image_7796.tif\n",
      "pad_area_7796.shp\n",
      "D:\\lakemapping\\2_dataset\\sample747\\shp\\output0\\pad_area_7796.shp\n"
     ]
    },
    {
     "data": {
      "text/plain": [
       "0"
      ]
     },
     "execution_count": 36,
     "metadata": {},
     "output_type": "execute_result"
    },
    {
     "data": {
      "text/plain": [
       "0"
      ]
     },
     "execution_count": 36,
     "metadata": {},
     "output_type": "execute_result"
    },
    {
     "data": {
      "text/plain": [
       "0"
      ]
     },
     "execution_count": 36,
     "metadata": {},
     "output_type": "execute_result"
    },
    {
     "name": "stdout",
     "output_type": "stream",
     "text": [
      "image_7815.tif\n",
      "pad_area_7815.shp\n",
      "D:\\lakemapping\\2_dataset\\sample747\\shp\\output0\\pad_area_7815.shp\n"
     ]
    },
    {
     "data": {
      "text/plain": [
       "0"
      ]
     },
     "execution_count": 36,
     "metadata": {},
     "output_type": "execute_result"
    },
    {
     "data": {
      "text/plain": [
       "0"
      ]
     },
     "execution_count": 36,
     "metadata": {},
     "output_type": "execute_result"
    },
    {
     "data": {
      "text/plain": [
       "0"
      ]
     },
     "execution_count": 36,
     "metadata": {},
     "output_type": "execute_result"
    },
    {
     "name": "stdout",
     "output_type": "stream",
     "text": [
      "image_7889.tif\n",
      "pad_area_7889.shp\n",
      "D:\\lakemapping\\2_dataset\\sample747\\shp\\output0\\pad_area_7889.shp\n"
     ]
    },
    {
     "data": {
      "text/plain": [
       "0"
      ]
     },
     "execution_count": 36,
     "metadata": {},
     "output_type": "execute_result"
    },
    {
     "data": {
      "text/plain": [
       "0"
      ]
     },
     "execution_count": 36,
     "metadata": {},
     "output_type": "execute_result"
    },
    {
     "data": {
      "text/plain": [
       "0"
      ]
     },
     "execution_count": 36,
     "metadata": {},
     "output_type": "execute_result"
    },
    {
     "name": "stdout",
     "output_type": "stream",
     "text": [
      "image_7993.tif\n",
      "pad_area_7993.shp\n",
      "D:\\lakemapping\\2_dataset\\sample747\\shp\\output0\\pad_area_7993.shp\n"
     ]
    },
    {
     "data": {
      "text/plain": [
       "0"
      ]
     },
     "execution_count": 36,
     "metadata": {},
     "output_type": "execute_result"
    },
    {
     "data": {
      "text/plain": [
       "0"
      ]
     },
     "execution_count": 36,
     "metadata": {},
     "output_type": "execute_result"
    },
    {
     "data": {
      "text/plain": [
       "0"
      ]
     },
     "execution_count": 36,
     "metadata": {},
     "output_type": "execute_result"
    },
    {
     "name": "stdout",
     "output_type": "stream",
     "text": [
      "image_8038.tif\n",
      "pad_area_8038.shp\n",
      "D:\\lakemapping\\2_dataset\\sample747\\shp\\output0\\pad_area_8038.shp\n"
     ]
    },
    {
     "data": {
      "text/plain": [
       "0"
      ]
     },
     "execution_count": 36,
     "metadata": {},
     "output_type": "execute_result"
    },
    {
     "data": {
      "text/plain": [
       "0"
      ]
     },
     "execution_count": 36,
     "metadata": {},
     "output_type": "execute_result"
    },
    {
     "data": {
      "text/plain": [
       "0"
      ]
     },
     "execution_count": 36,
     "metadata": {},
     "output_type": "execute_result"
    },
    {
     "name": "stdout",
     "output_type": "stream",
     "text": [
      "image_8043.tif\n",
      "pad_area_8043.shp\n",
      "D:\\lakemapping\\2_dataset\\sample747\\shp\\output0\\pad_area_8043.shp\n"
     ]
    },
    {
     "data": {
      "text/plain": [
       "0"
      ]
     },
     "execution_count": 36,
     "metadata": {},
     "output_type": "execute_result"
    },
    {
     "data": {
      "text/plain": [
       "0"
      ]
     },
     "execution_count": 36,
     "metadata": {},
     "output_type": "execute_result"
    },
    {
     "data": {
      "text/plain": [
       "0"
      ]
     },
     "execution_count": 36,
     "metadata": {},
     "output_type": "execute_result"
    },
    {
     "name": "stdout",
     "output_type": "stream",
     "text": [
      "image_8103.tif\n",
      "pad_area_8103.shp\n",
      "D:\\lakemapping\\2_dataset\\sample747\\shp\\output0\\pad_area_8103.shp\n"
     ]
    },
    {
     "data": {
      "text/plain": [
       "0"
      ]
     },
     "execution_count": 36,
     "metadata": {},
     "output_type": "execute_result"
    },
    {
     "data": {
      "text/plain": [
       "0"
      ]
     },
     "execution_count": 36,
     "metadata": {},
     "output_type": "execute_result"
    },
    {
     "data": {
      "text/plain": [
       "0"
      ]
     },
     "execution_count": 36,
     "metadata": {},
     "output_type": "execute_result"
    },
    {
     "name": "stdout",
     "output_type": "stream",
     "text": [
      "image_8150.tif\n",
      "pad_area_8150.shp\n",
      "D:\\lakemapping\\2_dataset\\sample747\\shp\\output0\\pad_area_8150.shp\n"
     ]
    },
    {
     "data": {
      "text/plain": [
       "0"
      ]
     },
     "execution_count": 36,
     "metadata": {},
     "output_type": "execute_result"
    },
    {
     "data": {
      "text/plain": [
       "0"
      ]
     },
     "execution_count": 36,
     "metadata": {},
     "output_type": "execute_result"
    },
    {
     "data": {
      "text/plain": [
       "0"
      ]
     },
     "execution_count": 36,
     "metadata": {},
     "output_type": "execute_result"
    },
    {
     "name": "stdout",
     "output_type": "stream",
     "text": [
      "image_8166.tif\n",
      "pad_area_8166.shp\n",
      "D:\\lakemapping\\2_dataset\\sample747\\shp\\output0\\pad_area_8166.shp\n"
     ]
    },
    {
     "data": {
      "text/plain": [
       "0"
      ]
     },
     "execution_count": 36,
     "metadata": {},
     "output_type": "execute_result"
    },
    {
     "data": {
      "text/plain": [
       "0"
      ]
     },
     "execution_count": 36,
     "metadata": {},
     "output_type": "execute_result"
    },
    {
     "data": {
      "text/plain": [
       "0"
      ]
     },
     "execution_count": 36,
     "metadata": {},
     "output_type": "execute_result"
    },
    {
     "name": "stdout",
     "output_type": "stream",
     "text": [
      "image_8199.tif\n",
      "pad_area_8199.shp\n",
      "D:\\lakemapping\\2_dataset\\sample747\\shp\\output0\\pad_area_8199.shp\n"
     ]
    },
    {
     "data": {
      "text/plain": [
       "0"
      ]
     },
     "execution_count": 36,
     "metadata": {},
     "output_type": "execute_result"
    },
    {
     "data": {
      "text/plain": [
       "0"
      ]
     },
     "execution_count": 36,
     "metadata": {},
     "output_type": "execute_result"
    },
    {
     "data": {
      "text/plain": [
       "0"
      ]
     },
     "execution_count": 36,
     "metadata": {},
     "output_type": "execute_result"
    },
    {
     "name": "stdout",
     "output_type": "stream",
     "text": [
      "image_8212.tif\n",
      "pad_area_8212.shp\n",
      "D:\\lakemapping\\2_dataset\\sample747\\shp\\output0\\pad_area_8212.shp\n"
     ]
    },
    {
     "data": {
      "text/plain": [
       "0"
      ]
     },
     "execution_count": 36,
     "metadata": {},
     "output_type": "execute_result"
    },
    {
     "data": {
      "text/plain": [
       "0"
      ]
     },
     "execution_count": 36,
     "metadata": {},
     "output_type": "execute_result"
    },
    {
     "data": {
      "text/plain": [
       "0"
      ]
     },
     "execution_count": 36,
     "metadata": {},
     "output_type": "execute_result"
    },
    {
     "name": "stdout",
     "output_type": "stream",
     "text": [
      "image_8250.tif\n",
      "pad_area_8250.shp\n",
      "D:\\lakemapping\\2_dataset\\sample747\\shp\\output0\\pad_area_8250.shp\n"
     ]
    },
    {
     "data": {
      "text/plain": [
       "0"
      ]
     },
     "execution_count": 36,
     "metadata": {},
     "output_type": "execute_result"
    },
    {
     "data": {
      "text/plain": [
       "0"
      ]
     },
     "execution_count": 36,
     "metadata": {},
     "output_type": "execute_result"
    },
    {
     "data": {
      "text/plain": [
       "0"
      ]
     },
     "execution_count": 36,
     "metadata": {},
     "output_type": "execute_result"
    },
    {
     "name": "stdout",
     "output_type": "stream",
     "text": [
      "image_8517.tif\n",
      "pad_area_8517.shp\n",
      "D:\\lakemapping\\2_dataset\\sample747\\shp\\output0\\pad_area_8517.shp\n"
     ]
    },
    {
     "data": {
      "text/plain": [
       "0"
      ]
     },
     "execution_count": 36,
     "metadata": {},
     "output_type": "execute_result"
    },
    {
     "data": {
      "text/plain": [
       "0"
      ]
     },
     "execution_count": 36,
     "metadata": {},
     "output_type": "execute_result"
    },
    {
     "data": {
      "text/plain": [
       "0"
      ]
     },
     "execution_count": 36,
     "metadata": {},
     "output_type": "execute_result"
    },
    {
     "name": "stdout",
     "output_type": "stream",
     "text": [
      "image_8603.tif\n",
      "pad_area_8603.shp\n",
      "D:\\lakemapping\\2_dataset\\sample747\\shp\\output0\\pad_area_8603.shp\n"
     ]
    },
    {
     "data": {
      "text/plain": [
       "0"
      ]
     },
     "execution_count": 36,
     "metadata": {},
     "output_type": "execute_result"
    },
    {
     "data": {
      "text/plain": [
       "0"
      ]
     },
     "execution_count": 36,
     "metadata": {},
     "output_type": "execute_result"
    },
    {
     "data": {
      "text/plain": [
       "0"
      ]
     },
     "execution_count": 36,
     "metadata": {},
     "output_type": "execute_result"
    },
    {
     "name": "stdout",
     "output_type": "stream",
     "text": [
      "image_863.tif\n",
      "pad_area_863.shp\n",
      "D:\\lakemapping\\2_dataset\\sample747\\shp\\output0\\pad_area_863.shp\n"
     ]
    },
    {
     "data": {
      "text/plain": [
       "0"
      ]
     },
     "execution_count": 36,
     "metadata": {},
     "output_type": "execute_result"
    },
    {
     "data": {
      "text/plain": [
       "0"
      ]
     },
     "execution_count": 36,
     "metadata": {},
     "output_type": "execute_result"
    },
    {
     "data": {
      "text/plain": [
       "0"
      ]
     },
     "execution_count": 36,
     "metadata": {},
     "output_type": "execute_result"
    },
    {
     "name": "stdout",
     "output_type": "stream",
     "text": [
      "image_8658.tif\n",
      "pad_area_8658.shp\n",
      "D:\\lakemapping\\2_dataset\\sample747\\shp\\output0\\pad_area_8658.shp\n"
     ]
    },
    {
     "data": {
      "text/plain": [
       "0"
      ]
     },
     "execution_count": 36,
     "metadata": {},
     "output_type": "execute_result"
    },
    {
     "data": {
      "text/plain": [
       "0"
      ]
     },
     "execution_count": 36,
     "metadata": {},
     "output_type": "execute_result"
    },
    {
     "data": {
      "text/plain": [
       "0"
      ]
     },
     "execution_count": 36,
     "metadata": {},
     "output_type": "execute_result"
    },
    {
     "name": "stdout",
     "output_type": "stream",
     "text": [
      "image_8667.tif\n",
      "pad_area_8667.shp\n",
      "D:\\lakemapping\\2_dataset\\sample747\\shp\\output0\\pad_area_8667.shp\n"
     ]
    },
    {
     "data": {
      "text/plain": [
       "0"
      ]
     },
     "execution_count": 36,
     "metadata": {},
     "output_type": "execute_result"
    },
    {
     "data": {
      "text/plain": [
       "0"
      ]
     },
     "execution_count": 36,
     "metadata": {},
     "output_type": "execute_result"
    },
    {
     "data": {
      "text/plain": [
       "0"
      ]
     },
     "execution_count": 36,
     "metadata": {},
     "output_type": "execute_result"
    },
    {
     "name": "stdout",
     "output_type": "stream",
     "text": [
      "image_8791.tif\n",
      "pad_area_8791.shp\n",
      "D:\\lakemapping\\2_dataset\\sample747\\shp\\output0\\pad_area_8791.shp\n"
     ]
    },
    {
     "data": {
      "text/plain": [
       "0"
      ]
     },
     "execution_count": 36,
     "metadata": {},
     "output_type": "execute_result"
    },
    {
     "data": {
      "text/plain": [
       "0"
      ]
     },
     "execution_count": 36,
     "metadata": {},
     "output_type": "execute_result"
    },
    {
     "data": {
      "text/plain": [
       "0"
      ]
     },
     "execution_count": 36,
     "metadata": {},
     "output_type": "execute_result"
    },
    {
     "name": "stdout",
     "output_type": "stream",
     "text": [
      "image_8834.tif\n",
      "pad_area_8834.shp\n",
      "D:\\lakemapping\\2_dataset\\sample747\\shp\\output0\\pad_area_8834.shp\n"
     ]
    },
    {
     "data": {
      "text/plain": [
       "0"
      ]
     },
     "execution_count": 36,
     "metadata": {},
     "output_type": "execute_result"
    },
    {
     "data": {
      "text/plain": [
       "0"
      ]
     },
     "execution_count": 36,
     "metadata": {},
     "output_type": "execute_result"
    },
    {
     "data": {
      "text/plain": [
       "0"
      ]
     },
     "execution_count": 36,
     "metadata": {},
     "output_type": "execute_result"
    },
    {
     "name": "stdout",
     "output_type": "stream",
     "text": [
      "image_8870.tif\n",
      "pad_area_8870.shp\n",
      "D:\\lakemapping\\2_dataset\\sample747\\shp\\output0\\pad_area_8870.shp\n"
     ]
    },
    {
     "data": {
      "text/plain": [
       "0"
      ]
     },
     "execution_count": 36,
     "metadata": {},
     "output_type": "execute_result"
    },
    {
     "data": {
      "text/plain": [
       "0"
      ]
     },
     "execution_count": 36,
     "metadata": {},
     "output_type": "execute_result"
    },
    {
     "data": {
      "text/plain": [
       "0"
      ]
     },
     "execution_count": 36,
     "metadata": {},
     "output_type": "execute_result"
    },
    {
     "name": "stdout",
     "output_type": "stream",
     "text": [
      "image_8960.tif\n",
      "pad_area_8960.shp\n",
      "D:\\lakemapping\\2_dataset\\sample747\\shp\\output0\\pad_area_8960.shp\n"
     ]
    },
    {
     "data": {
      "text/plain": [
       "0"
      ]
     },
     "execution_count": 36,
     "metadata": {},
     "output_type": "execute_result"
    },
    {
     "data": {
      "text/plain": [
       "0"
      ]
     },
     "execution_count": 36,
     "metadata": {},
     "output_type": "execute_result"
    },
    {
     "data": {
      "text/plain": [
       "0"
      ]
     },
     "execution_count": 36,
     "metadata": {},
     "output_type": "execute_result"
    },
    {
     "name": "stdout",
     "output_type": "stream",
     "text": [
      "image_8992.tif\n",
      "pad_area_8992.shp\n",
      "D:\\lakemapping\\2_dataset\\sample747\\shp\\output0\\pad_area_8992.shp\n"
     ]
    },
    {
     "data": {
      "text/plain": [
       "0"
      ]
     },
     "execution_count": 36,
     "metadata": {},
     "output_type": "execute_result"
    },
    {
     "data": {
      "text/plain": [
       "0"
      ]
     },
     "execution_count": 36,
     "metadata": {},
     "output_type": "execute_result"
    },
    {
     "data": {
      "text/plain": [
       "0"
      ]
     },
     "execution_count": 36,
     "metadata": {},
     "output_type": "execute_result"
    },
    {
     "name": "stdout",
     "output_type": "stream",
     "text": [
      "image_9010.tif\n",
      "pad_area_9010.shp\n",
      "D:\\lakemapping\\2_dataset\\sample747\\shp\\output0\\pad_area_9010.shp\n"
     ]
    },
    {
     "data": {
      "text/plain": [
       "0"
      ]
     },
     "execution_count": 36,
     "metadata": {},
     "output_type": "execute_result"
    },
    {
     "data": {
      "text/plain": [
       "0"
      ]
     },
     "execution_count": 36,
     "metadata": {},
     "output_type": "execute_result"
    },
    {
     "data": {
      "text/plain": [
       "0"
      ]
     },
     "execution_count": 36,
     "metadata": {},
     "output_type": "execute_result"
    },
    {
     "name": "stdout",
     "output_type": "stream",
     "text": [
      "image_9011.tif\n",
      "pad_area_9011.shp\n",
      "D:\\lakemapping\\2_dataset\\sample747\\shp\\output0\\pad_area_9011.shp\n"
     ]
    },
    {
     "data": {
      "text/plain": [
       "0"
      ]
     },
     "execution_count": 36,
     "metadata": {},
     "output_type": "execute_result"
    },
    {
     "data": {
      "text/plain": [
       "0"
      ]
     },
     "execution_count": 36,
     "metadata": {},
     "output_type": "execute_result"
    },
    {
     "data": {
      "text/plain": [
       "0"
      ]
     },
     "execution_count": 36,
     "metadata": {},
     "output_type": "execute_result"
    },
    {
     "name": "stdout",
     "output_type": "stream",
     "text": [
      "image_9044.tif\n",
      "pad_area_9044.shp\n",
      "D:\\lakemapping\\2_dataset\\sample747\\shp\\output0\\pad_area_9044.shp\n"
     ]
    },
    {
     "data": {
      "text/plain": [
       "0"
      ]
     },
     "execution_count": 36,
     "metadata": {},
     "output_type": "execute_result"
    },
    {
     "data": {
      "text/plain": [
       "0"
      ]
     },
     "execution_count": 36,
     "metadata": {},
     "output_type": "execute_result"
    },
    {
     "data": {
      "text/plain": [
       "0"
      ]
     },
     "execution_count": 36,
     "metadata": {},
     "output_type": "execute_result"
    },
    {
     "name": "stdout",
     "output_type": "stream",
     "text": [
      "image_9070.tif\n",
      "pad_area_9070.shp\n",
      "D:\\lakemapping\\2_dataset\\sample747\\shp\\output0\\pad_area_9070.shp\n"
     ]
    },
    {
     "data": {
      "text/plain": [
       "0"
      ]
     },
     "execution_count": 36,
     "metadata": {},
     "output_type": "execute_result"
    },
    {
     "data": {
      "text/plain": [
       "0"
      ]
     },
     "execution_count": 36,
     "metadata": {},
     "output_type": "execute_result"
    },
    {
     "data": {
      "text/plain": [
       "0"
      ]
     },
     "execution_count": 36,
     "metadata": {},
     "output_type": "execute_result"
    },
    {
     "name": "stdout",
     "output_type": "stream",
     "text": [
      "image_9080.tif\n",
      "pad_area_9080.shp\n",
      "D:\\lakemapping\\2_dataset\\sample747\\shp\\output0\\pad_area_9080.shp\n"
     ]
    },
    {
     "data": {
      "text/plain": [
       "0"
      ]
     },
     "execution_count": 36,
     "metadata": {},
     "output_type": "execute_result"
    },
    {
     "data": {
      "text/plain": [
       "0"
      ]
     },
     "execution_count": 36,
     "metadata": {},
     "output_type": "execute_result"
    },
    {
     "data": {
      "text/plain": [
       "0"
      ]
     },
     "execution_count": 36,
     "metadata": {},
     "output_type": "execute_result"
    },
    {
     "name": "stdout",
     "output_type": "stream",
     "text": [
      "image_9081.tif\n",
      "pad_area_9081.shp\n",
      "D:\\lakemapping\\2_dataset\\sample747\\shp\\output0\\pad_area_9081.shp\n"
     ]
    },
    {
     "data": {
      "text/plain": [
       "0"
      ]
     },
     "execution_count": 36,
     "metadata": {},
     "output_type": "execute_result"
    },
    {
     "data": {
      "text/plain": [
       "0"
      ]
     },
     "execution_count": 36,
     "metadata": {},
     "output_type": "execute_result"
    },
    {
     "data": {
      "text/plain": [
       "0"
      ]
     },
     "execution_count": 36,
     "metadata": {},
     "output_type": "execute_result"
    },
    {
     "name": "stdout",
     "output_type": "stream",
     "text": [
      "image_9082.tif\n",
      "pad_area_9082.shp\n",
      "D:\\lakemapping\\2_dataset\\sample747\\shp\\output0\\pad_area_9082.shp\n"
     ]
    },
    {
     "data": {
      "text/plain": [
       "0"
      ]
     },
     "execution_count": 36,
     "metadata": {},
     "output_type": "execute_result"
    },
    {
     "data": {
      "text/plain": [
       "0"
      ]
     },
     "execution_count": 36,
     "metadata": {},
     "output_type": "execute_result"
    },
    {
     "data": {
      "text/plain": [
       "0"
      ]
     },
     "execution_count": 36,
     "metadata": {},
     "output_type": "execute_result"
    },
    {
     "name": "stdout",
     "output_type": "stream",
     "text": [
      "image_9093.tif\n",
      "pad_area_9093.shp\n",
      "D:\\lakemapping\\2_dataset\\sample747\\shp\\output0\\pad_area_9093.shp\n"
     ]
    },
    {
     "data": {
      "text/plain": [
       "0"
      ]
     },
     "execution_count": 36,
     "metadata": {},
     "output_type": "execute_result"
    },
    {
     "data": {
      "text/plain": [
       "0"
      ]
     },
     "execution_count": 36,
     "metadata": {},
     "output_type": "execute_result"
    },
    {
     "data": {
      "text/plain": [
       "0"
      ]
     },
     "execution_count": 36,
     "metadata": {},
     "output_type": "execute_result"
    },
    {
     "name": "stdout",
     "output_type": "stream",
     "text": [
      "image_9115.tif\n",
      "pad_area_9115.shp\n",
      "D:\\lakemapping\\2_dataset\\sample747\\shp\\output0\\pad_area_9115.shp\n"
     ]
    },
    {
     "data": {
      "text/plain": [
       "0"
      ]
     },
     "execution_count": 36,
     "metadata": {},
     "output_type": "execute_result"
    },
    {
     "data": {
      "text/plain": [
       "0"
      ]
     },
     "execution_count": 36,
     "metadata": {},
     "output_type": "execute_result"
    },
    {
     "data": {
      "text/plain": [
       "0"
      ]
     },
     "execution_count": 36,
     "metadata": {},
     "output_type": "execute_result"
    },
    {
     "name": "stdout",
     "output_type": "stream",
     "text": [
      "image_9172.tif\n",
      "pad_area_9172.shp\n",
      "D:\\lakemapping\\2_dataset\\sample747\\shp\\output0\\pad_area_9172.shp\n"
     ]
    },
    {
     "data": {
      "text/plain": [
       "0"
      ]
     },
     "execution_count": 36,
     "metadata": {},
     "output_type": "execute_result"
    },
    {
     "data": {
      "text/plain": [
       "0"
      ]
     },
     "execution_count": 36,
     "metadata": {},
     "output_type": "execute_result"
    },
    {
     "data": {
      "text/plain": [
       "0"
      ]
     },
     "execution_count": 36,
     "metadata": {},
     "output_type": "execute_result"
    },
    {
     "name": "stdout",
     "output_type": "stream",
     "text": [
      "image_9178.tif\n",
      "pad_area_9178.shp\n",
      "D:\\lakemapping\\2_dataset\\sample747\\shp\\output0\\pad_area_9178.shp\n"
     ]
    },
    {
     "data": {
      "text/plain": [
       "0"
      ]
     },
     "execution_count": 36,
     "metadata": {},
     "output_type": "execute_result"
    },
    {
     "data": {
      "text/plain": [
       "0"
      ]
     },
     "execution_count": 36,
     "metadata": {},
     "output_type": "execute_result"
    },
    {
     "data": {
      "text/plain": [
       "0"
      ]
     },
     "execution_count": 36,
     "metadata": {},
     "output_type": "execute_result"
    },
    {
     "name": "stdout",
     "output_type": "stream",
     "text": [
      "image_9211_1.tif\n",
      "pad_area_9211_1.shp\n",
      "D:\\lakemapping\\2_dataset\\sample747\\shp\\output0\\pad_area_9211_1.shp\n"
     ]
    },
    {
     "data": {
      "text/plain": [
       "0"
      ]
     },
     "execution_count": 36,
     "metadata": {},
     "output_type": "execute_result"
    },
    {
     "data": {
      "text/plain": [
       "0"
      ]
     },
     "execution_count": 36,
     "metadata": {},
     "output_type": "execute_result"
    },
    {
     "data": {
      "text/plain": [
       "0"
      ]
     },
     "execution_count": 36,
     "metadata": {},
     "output_type": "execute_result"
    },
    {
     "name": "stdout",
     "output_type": "stream",
     "text": [
      "image_953.tif\n",
      "pad_area_953.shp\n",
      "D:\\lakemapping\\2_dataset\\sample747\\shp\\output0\\pad_area_953.shp\n"
     ]
    },
    {
     "data": {
      "text/plain": [
       "0"
      ]
     },
     "execution_count": 36,
     "metadata": {},
     "output_type": "execute_result"
    },
    {
     "data": {
      "text/plain": [
       "0"
      ]
     },
     "execution_count": 36,
     "metadata": {},
     "output_type": "execute_result"
    },
    {
     "data": {
      "text/plain": [
       "0"
      ]
     },
     "execution_count": 36,
     "metadata": {},
     "output_type": "execute_result"
    },
    {
     "name": "stdout",
     "output_type": "stream",
     "text": [
      "image_9547.tif\n",
      "pad_area_9547.shp\n",
      "D:\\lakemapping\\2_dataset\\sample747\\shp\\output0\\pad_area_9547.shp\n"
     ]
    },
    {
     "data": {
      "text/plain": [
       "0"
      ]
     },
     "execution_count": 36,
     "metadata": {},
     "output_type": "execute_result"
    },
    {
     "data": {
      "text/plain": [
       "0"
      ]
     },
     "execution_count": 36,
     "metadata": {},
     "output_type": "execute_result"
    },
    {
     "data": {
      "text/plain": [
       "0"
      ]
     },
     "execution_count": 36,
     "metadata": {},
     "output_type": "execute_result"
    },
    {
     "name": "stdout",
     "output_type": "stream",
     "text": [
      "image_9653.tif\n",
      "pad_area_9653.shp\n",
      "D:\\lakemapping\\2_dataset\\sample747\\shp\\output0\\pad_area_9653.shp\n"
     ]
    },
    {
     "data": {
      "text/plain": [
       "0"
      ]
     },
     "execution_count": 36,
     "metadata": {},
     "output_type": "execute_result"
    },
    {
     "data": {
      "text/plain": [
       "0"
      ]
     },
     "execution_count": 36,
     "metadata": {},
     "output_type": "execute_result"
    },
    {
     "data": {
      "text/plain": [
       "0"
      ]
     },
     "execution_count": 36,
     "metadata": {},
     "output_type": "execute_result"
    },
    {
     "name": "stdout",
     "output_type": "stream",
     "text": [
      "image_9697.tif\n",
      "pad_area_9697.shp\n",
      "D:\\lakemapping\\2_dataset\\sample747\\shp\\output0\\pad_area_9697.shp\n"
     ]
    },
    {
     "data": {
      "text/plain": [
       "0"
      ]
     },
     "execution_count": 36,
     "metadata": {},
     "output_type": "execute_result"
    },
    {
     "data": {
      "text/plain": [
       "0"
      ]
     },
     "execution_count": 36,
     "metadata": {},
     "output_type": "execute_result"
    },
    {
     "data": {
      "text/plain": [
       "0"
      ]
     },
     "execution_count": 36,
     "metadata": {},
     "output_type": "execute_result"
    },
    {
     "name": "stdout",
     "output_type": "stream",
     "text": [
      "image_9732.tif\n",
      "pad_area_9732.shp\n",
      "D:\\lakemapping\\2_dataset\\sample747\\shp\\output0\\pad_area_9732.shp\n"
     ]
    },
    {
     "data": {
      "text/plain": [
       "0"
      ]
     },
     "execution_count": 36,
     "metadata": {},
     "output_type": "execute_result"
    },
    {
     "data": {
      "text/plain": [
       "0"
      ]
     },
     "execution_count": 36,
     "metadata": {},
     "output_type": "execute_result"
    },
    {
     "data": {
      "text/plain": [
       "0"
      ]
     },
     "execution_count": 36,
     "metadata": {},
     "output_type": "execute_result"
    },
    {
     "name": "stdout",
     "output_type": "stream",
     "text": [
      "image_9766.tif\n",
      "pad_area_9766.shp\n",
      "D:\\lakemapping\\2_dataset\\sample747\\shp\\output0\\pad_area_9766.shp\n"
     ]
    },
    {
     "data": {
      "text/plain": [
       "0"
      ]
     },
     "execution_count": 36,
     "metadata": {},
     "output_type": "execute_result"
    },
    {
     "data": {
      "text/plain": [
       "0"
      ]
     },
     "execution_count": 36,
     "metadata": {},
     "output_type": "execute_result"
    },
    {
     "data": {
      "text/plain": [
       "0"
      ]
     },
     "execution_count": 36,
     "metadata": {},
     "output_type": "execute_result"
    },
    {
     "name": "stdout",
     "output_type": "stream",
     "text": [
      "image_9792.tif\n",
      "pad_area_9792.shp\n",
      "D:\\lakemapping\\2_dataset\\sample747\\shp\\output0\\pad_area_9792.shp\n"
     ]
    },
    {
     "data": {
      "text/plain": [
       "0"
      ]
     },
     "execution_count": 36,
     "metadata": {},
     "output_type": "execute_result"
    },
    {
     "data": {
      "text/plain": [
       "0"
      ]
     },
     "execution_count": 36,
     "metadata": {},
     "output_type": "execute_result"
    },
    {
     "data": {
      "text/plain": [
       "0"
      ]
     },
     "execution_count": 36,
     "metadata": {},
     "output_type": "execute_result"
    },
    {
     "name": "stdout",
     "output_type": "stream",
     "text": [
      "image_9890.tif\n",
      "pad_area_9890.shp\n",
      "D:\\lakemapping\\2_dataset\\sample747\\shp\\output0\\pad_area_9890.shp\n"
     ]
    },
    {
     "data": {
      "text/plain": [
       "0"
      ]
     },
     "execution_count": 36,
     "metadata": {},
     "output_type": "execute_result"
    },
    {
     "data": {
      "text/plain": [
       "0"
      ]
     },
     "execution_count": 36,
     "metadata": {},
     "output_type": "execute_result"
    },
    {
     "data": {
      "text/plain": [
       "0"
      ]
     },
     "execution_count": 36,
     "metadata": {},
     "output_type": "execute_result"
    },
    {
     "name": "stdout",
     "output_type": "stream",
     "text": [
      "image_9921.tif\n",
      "pad_area_9921.shp\n",
      "D:\\lakemapping\\2_dataset\\sample747\\shp\\output0\\pad_area_9921.shp\n"
     ]
    },
    {
     "data": {
      "text/plain": [
       "0"
      ]
     },
     "execution_count": 36,
     "metadata": {},
     "output_type": "execute_result"
    },
    {
     "data": {
      "text/plain": [
       "0"
      ]
     },
     "execution_count": 36,
     "metadata": {},
     "output_type": "execute_result"
    },
    {
     "data": {
      "text/plain": [
       "0"
      ]
     },
     "execution_count": 36,
     "metadata": {},
     "output_type": "execute_result"
    },
    {
     "name": "stdout",
     "output_type": "stream",
     "text": [
      "image_9945.tif\n",
      "pad_area_9945.shp\n",
      "D:\\lakemapping\\2_dataset\\sample747\\shp\\output0\\pad_area_9945.shp\n"
     ]
    },
    {
     "data": {
      "text/plain": [
       "0"
      ]
     },
     "execution_count": 36,
     "metadata": {},
     "output_type": "execute_result"
    },
    {
     "data": {
      "text/plain": [
       "0"
      ]
     },
     "execution_count": 36,
     "metadata": {},
     "output_type": "execute_result"
    },
    {
     "data": {
      "text/plain": [
       "0"
      ]
     },
     "execution_count": 36,
     "metadata": {},
     "output_type": "execute_result"
    },
    {
     "name": "stdout",
     "output_type": "stream",
     "text": [
      "image_9959.tif\n",
      "pad_area_9959.shp\n",
      "D:\\lakemapping\\2_dataset\\sample747\\shp\\output0\\pad_area_9959.shp\n"
     ]
    },
    {
     "data": {
      "text/plain": [
       "0"
      ]
     },
     "execution_count": 36,
     "metadata": {},
     "output_type": "execute_result"
    },
    {
     "data": {
      "text/plain": [
       "0"
      ]
     },
     "execution_count": 36,
     "metadata": {},
     "output_type": "execute_result"
    },
    {
     "data": {
      "text/plain": [
       "0"
      ]
     },
     "execution_count": 36,
     "metadata": {},
     "output_type": "execute_result"
    },
    {
     "name": "stdout",
     "output_type": "stream",
     "text": [
      "image_9973.tif\n",
      "pad_area_9973.shp\n",
      "D:\\lakemapping\\2_dataset\\sample747\\shp\\output0\\pad_area_9973.shp\n"
     ]
    },
    {
     "data": {
      "text/plain": [
       "0"
      ]
     },
     "execution_count": 36,
     "metadata": {},
     "output_type": "execute_result"
    },
    {
     "data": {
      "text/plain": [
       "0"
      ]
     },
     "execution_count": 36,
     "metadata": {},
     "output_type": "execute_result"
    },
    {
     "data": {
      "text/plain": [
       "0"
      ]
     },
     "execution_count": 36,
     "metadata": {},
     "output_type": "execute_result"
    },
    {
     "name": "stdout",
     "output_type": "stream",
     "text": [
      "image_10017.tif\n",
      "pad_area_10017.shp\n",
      "D:\\lakemapping\\2_dataset\\sample747\\shp\\output1\\pad_area_10017.shp\n"
     ]
    },
    {
     "data": {
      "text/plain": [
       "0"
      ]
     },
     "execution_count": 36,
     "metadata": {},
     "output_type": "execute_result"
    },
    {
     "data": {
      "text/plain": [
       "0"
      ]
     },
     "execution_count": 36,
     "metadata": {},
     "output_type": "execute_result"
    },
    {
     "data": {
      "text/plain": [
       "0"
      ]
     },
     "execution_count": 36,
     "metadata": {},
     "output_type": "execute_result"
    },
    {
     "name": "stdout",
     "output_type": "stream",
     "text": [
      "image_10077.tif\n",
      "pad_area_10077.shp\n",
      "D:\\lakemapping\\2_dataset\\sample747\\shp\\output1\\pad_area_10077.shp\n"
     ]
    },
    {
     "data": {
      "text/plain": [
       "0"
      ]
     },
     "execution_count": 36,
     "metadata": {},
     "output_type": "execute_result"
    },
    {
     "data": {
      "text/plain": [
       "0"
      ]
     },
     "execution_count": 36,
     "metadata": {},
     "output_type": "execute_result"
    },
    {
     "data": {
      "text/plain": [
       "0"
      ]
     },
     "execution_count": 36,
     "metadata": {},
     "output_type": "execute_result"
    },
    {
     "name": "stdout",
     "output_type": "stream",
     "text": [
      "image_10125.tif\n",
      "pad_area_10125.shp\n",
      "D:\\lakemapping\\2_dataset\\sample747\\shp\\output1\\pad_area_10125.shp\n"
     ]
    },
    {
     "data": {
      "text/plain": [
       "0"
      ]
     },
     "execution_count": 36,
     "metadata": {},
     "output_type": "execute_result"
    },
    {
     "data": {
      "text/plain": [
       "0"
      ]
     },
     "execution_count": 36,
     "metadata": {},
     "output_type": "execute_result"
    },
    {
     "data": {
      "text/plain": [
       "0"
      ]
     },
     "execution_count": 36,
     "metadata": {},
     "output_type": "execute_result"
    },
    {
     "name": "stdout",
     "output_type": "stream",
     "text": [
      "image_1013.tif\n",
      "pad_area_1013.shp\n",
      "D:\\lakemapping\\2_dataset\\sample747\\shp\\output1\\pad_area_1013.shp\n"
     ]
    },
    {
     "data": {
      "text/plain": [
       "0"
      ]
     },
     "execution_count": 36,
     "metadata": {},
     "output_type": "execute_result"
    },
    {
     "data": {
      "text/plain": [
       "0"
      ]
     },
     "execution_count": 36,
     "metadata": {},
     "output_type": "execute_result"
    },
    {
     "data": {
      "text/plain": [
       "0"
      ]
     },
     "execution_count": 36,
     "metadata": {},
     "output_type": "execute_result"
    },
    {
     "name": "stdout",
     "output_type": "stream",
     "text": [
      "image_102.tif\n",
      "pad_area_102.shp\n",
      "D:\\lakemapping\\2_dataset\\sample747\\shp\\output1\\pad_area_102.shp\n"
     ]
    },
    {
     "data": {
      "text/plain": [
       "0"
      ]
     },
     "execution_count": 36,
     "metadata": {},
     "output_type": "execute_result"
    },
    {
     "data": {
      "text/plain": [
       "0"
      ]
     },
     "execution_count": 36,
     "metadata": {},
     "output_type": "execute_result"
    },
    {
     "data": {
      "text/plain": [
       "0"
      ]
     },
     "execution_count": 36,
     "metadata": {},
     "output_type": "execute_result"
    },
    {
     "name": "stdout",
     "output_type": "stream",
     "text": [
      "image_10457.tif\n",
      "pad_area_10457.shp\n",
      "D:\\lakemapping\\2_dataset\\sample747\\shp\\output1\\pad_area_10457.shp\n"
     ]
    },
    {
     "data": {
      "text/plain": [
       "0"
      ]
     },
     "execution_count": 36,
     "metadata": {},
     "output_type": "execute_result"
    },
    {
     "data": {
      "text/plain": [
       "0"
      ]
     },
     "execution_count": 36,
     "metadata": {},
     "output_type": "execute_result"
    },
    {
     "data": {
      "text/plain": [
       "0"
      ]
     },
     "execution_count": 36,
     "metadata": {},
     "output_type": "execute_result"
    },
    {
     "name": "stdout",
     "output_type": "stream",
     "text": [
      "image_10493.tif\n",
      "pad_area_10493.shp\n",
      "D:\\lakemapping\\2_dataset\\sample747\\shp\\output1\\pad_area_10493.shp\n"
     ]
    },
    {
     "data": {
      "text/plain": [
       "0"
      ]
     },
     "execution_count": 36,
     "metadata": {},
     "output_type": "execute_result"
    },
    {
     "data": {
      "text/plain": [
       "0"
      ]
     },
     "execution_count": 36,
     "metadata": {},
     "output_type": "execute_result"
    },
    {
     "data": {
      "text/plain": [
       "0"
      ]
     },
     "execution_count": 36,
     "metadata": {},
     "output_type": "execute_result"
    },
    {
     "name": "stdout",
     "output_type": "stream",
     "text": [
      "image_10592.tif\n",
      "pad_area_10592.shp\n",
      "D:\\lakemapping\\2_dataset\\sample747\\shp\\output1\\pad_area_10592.shp\n"
     ]
    },
    {
     "data": {
      "text/plain": [
       "0"
      ]
     },
     "execution_count": 36,
     "metadata": {},
     "output_type": "execute_result"
    },
    {
     "data": {
      "text/plain": [
       "0"
      ]
     },
     "execution_count": 36,
     "metadata": {},
     "output_type": "execute_result"
    },
    {
     "data": {
      "text/plain": [
       "0"
      ]
     },
     "execution_count": 36,
     "metadata": {},
     "output_type": "execute_result"
    },
    {
     "name": "stdout",
     "output_type": "stream",
     "text": [
      "image_10738.tif\n",
      "pad_area_10738.shp\n",
      "D:\\lakemapping\\2_dataset\\sample747\\shp\\output1\\pad_area_10738.shp\n"
     ]
    },
    {
     "data": {
      "text/plain": [
       "0"
      ]
     },
     "execution_count": 36,
     "metadata": {},
     "output_type": "execute_result"
    },
    {
     "data": {
      "text/plain": [
       "0"
      ]
     },
     "execution_count": 36,
     "metadata": {},
     "output_type": "execute_result"
    },
    {
     "data": {
      "text/plain": [
       "0"
      ]
     },
     "execution_count": 36,
     "metadata": {},
     "output_type": "execute_result"
    },
    {
     "name": "stdout",
     "output_type": "stream",
     "text": [
      "image_10830.tif\n",
      "pad_area_10830.shp\n",
      "D:\\lakemapping\\2_dataset\\sample747\\shp\\output1\\pad_area_10830.shp\n"
     ]
    },
    {
     "data": {
      "text/plain": [
       "0"
      ]
     },
     "execution_count": 36,
     "metadata": {},
     "output_type": "execute_result"
    },
    {
     "data": {
      "text/plain": [
       "0"
      ]
     },
     "execution_count": 36,
     "metadata": {},
     "output_type": "execute_result"
    },
    {
     "data": {
      "text/plain": [
       "0"
      ]
     },
     "execution_count": 36,
     "metadata": {},
     "output_type": "execute_result"
    },
    {
     "name": "stdout",
     "output_type": "stream",
     "text": [
      "image_1090.tif\n",
      "pad_area_1090.shp\n",
      "D:\\lakemapping\\2_dataset\\sample747\\shp\\output1\\pad_area_1090.shp\n"
     ]
    },
    {
     "data": {
      "text/plain": [
       "0"
      ]
     },
     "execution_count": 36,
     "metadata": {},
     "output_type": "execute_result"
    },
    {
     "data": {
      "text/plain": [
       "0"
      ]
     },
     "execution_count": 36,
     "metadata": {},
     "output_type": "execute_result"
    },
    {
     "data": {
      "text/plain": [
       "0"
      ]
     },
     "execution_count": 36,
     "metadata": {},
     "output_type": "execute_result"
    },
    {
     "name": "stdout",
     "output_type": "stream",
     "text": [
      "image_11020_1.tif\n",
      "pad_area_11020_1.shp\n",
      "D:\\lakemapping\\2_dataset\\sample747\\shp\\output1\\pad_area_11020_1.shp\n"
     ]
    },
    {
     "data": {
      "text/plain": [
       "0"
      ]
     },
     "execution_count": 36,
     "metadata": {},
     "output_type": "execute_result"
    },
    {
     "data": {
      "text/plain": [
       "0"
      ]
     },
     "execution_count": 36,
     "metadata": {},
     "output_type": "execute_result"
    },
    {
     "data": {
      "text/plain": [
       "0"
      ]
     },
     "execution_count": 36,
     "metadata": {},
     "output_type": "execute_result"
    },
    {
     "name": "stdout",
     "output_type": "stream",
     "text": [
      "image_11020_2.tif\n",
      "pad_area_11020_2.shp\n",
      "D:\\lakemapping\\2_dataset\\sample747\\shp\\output1\\pad_area_11020_2.shp\n"
     ]
    },
    {
     "data": {
      "text/plain": [
       "0"
      ]
     },
     "execution_count": 36,
     "metadata": {},
     "output_type": "execute_result"
    },
    {
     "data": {
      "text/plain": [
       "0"
      ]
     },
     "execution_count": 36,
     "metadata": {},
     "output_type": "execute_result"
    },
    {
     "data": {
      "text/plain": [
       "0"
      ]
     },
     "execution_count": 36,
     "metadata": {},
     "output_type": "execute_result"
    },
    {
     "name": "stdout",
     "output_type": "stream",
     "text": [
      "image_11024.tif\n",
      "pad_area_11024.shp\n",
      "D:\\lakemapping\\2_dataset\\sample747\\shp\\output1\\pad_area_11024.shp\n"
     ]
    },
    {
     "data": {
      "text/plain": [
       "0"
      ]
     },
     "execution_count": 36,
     "metadata": {},
     "output_type": "execute_result"
    },
    {
     "data": {
      "text/plain": [
       "0"
      ]
     },
     "execution_count": 36,
     "metadata": {},
     "output_type": "execute_result"
    },
    {
     "data": {
      "text/plain": [
       "0"
      ]
     },
     "execution_count": 36,
     "metadata": {},
     "output_type": "execute_result"
    },
    {
     "name": "stdout",
     "output_type": "stream",
     "text": [
      "image_11148.tif\n",
      "pad_area_11148.shp\n",
      "D:\\lakemapping\\2_dataset\\sample747\\shp\\output1\\pad_area_11148.shp\n"
     ]
    },
    {
     "data": {
      "text/plain": [
       "0"
      ]
     },
     "execution_count": 36,
     "metadata": {},
     "output_type": "execute_result"
    },
    {
     "data": {
      "text/plain": [
       "0"
      ]
     },
     "execution_count": 36,
     "metadata": {},
     "output_type": "execute_result"
    },
    {
     "data": {
      "text/plain": [
       "0"
      ]
     },
     "execution_count": 36,
     "metadata": {},
     "output_type": "execute_result"
    },
    {
     "name": "stdout",
     "output_type": "stream",
     "text": [
      "image_11473.tif\n",
      "pad_area_11473.shp\n",
      "D:\\lakemapping\\2_dataset\\sample747\\shp\\output1\\pad_area_11473.shp\n"
     ]
    },
    {
     "data": {
      "text/plain": [
       "0"
      ]
     },
     "execution_count": 36,
     "metadata": {},
     "output_type": "execute_result"
    },
    {
     "data": {
      "text/plain": [
       "0"
      ]
     },
     "execution_count": 36,
     "metadata": {},
     "output_type": "execute_result"
    },
    {
     "data": {
      "text/plain": [
       "0"
      ]
     },
     "execution_count": 36,
     "metadata": {},
     "output_type": "execute_result"
    },
    {
     "name": "stdout",
     "output_type": "stream",
     "text": [
      "image_115.tif\n",
      "pad_area_115.shp\n",
      "D:\\lakemapping\\2_dataset\\sample747\\shp\\output1\\pad_area_115.shp\n"
     ]
    },
    {
     "data": {
      "text/plain": [
       "0"
      ]
     },
     "execution_count": 36,
     "metadata": {},
     "output_type": "execute_result"
    },
    {
     "data": {
      "text/plain": [
       "0"
      ]
     },
     "execution_count": 36,
     "metadata": {},
     "output_type": "execute_result"
    },
    {
     "data": {
      "text/plain": [
       "0"
      ]
     },
     "execution_count": 36,
     "metadata": {},
     "output_type": "execute_result"
    },
    {
     "name": "stdout",
     "output_type": "stream",
     "text": [
      "image_11516.tif\n",
      "pad_area_11516.shp\n",
      "D:\\lakemapping\\2_dataset\\sample747\\shp\\output1\\pad_area_11516.shp\n"
     ]
    },
    {
     "data": {
      "text/plain": [
       "0"
      ]
     },
     "execution_count": 36,
     "metadata": {},
     "output_type": "execute_result"
    },
    {
     "data": {
      "text/plain": [
       "0"
      ]
     },
     "execution_count": 36,
     "metadata": {},
     "output_type": "execute_result"
    },
    {
     "data": {
      "text/plain": [
       "0"
      ]
     },
     "execution_count": 36,
     "metadata": {},
     "output_type": "execute_result"
    },
    {
     "name": "stdout",
     "output_type": "stream",
     "text": [
      "image_11555.tif\n",
      "pad_area_11555.shp\n",
      "D:\\lakemapping\\2_dataset\\sample747\\shp\\output1\\pad_area_11555.shp\n"
     ]
    },
    {
     "data": {
      "text/plain": [
       "0"
      ]
     },
     "execution_count": 36,
     "metadata": {},
     "output_type": "execute_result"
    },
    {
     "data": {
      "text/plain": [
       "0"
      ]
     },
     "execution_count": 36,
     "metadata": {},
     "output_type": "execute_result"
    },
    {
     "data": {
      "text/plain": [
       "0"
      ]
     },
     "execution_count": 36,
     "metadata": {},
     "output_type": "execute_result"
    },
    {
     "name": "stdout",
     "output_type": "stream",
     "text": [
      "image_11562_1.tif\n",
      "pad_area_11562_1.shp\n",
      "D:\\lakemapping\\2_dataset\\sample747\\shp\\output1\\pad_area_11562_1.shp\n"
     ]
    },
    {
     "data": {
      "text/plain": [
       "0"
      ]
     },
     "execution_count": 36,
     "metadata": {},
     "output_type": "execute_result"
    },
    {
     "data": {
      "text/plain": [
       "0"
      ]
     },
     "execution_count": 36,
     "metadata": {},
     "output_type": "execute_result"
    },
    {
     "data": {
      "text/plain": [
       "0"
      ]
     },
     "execution_count": 36,
     "metadata": {},
     "output_type": "execute_result"
    },
    {
     "name": "stdout",
     "output_type": "stream",
     "text": [
      "image_11562_2.tif\n",
      "pad_area_11562_2.shp\n",
      "D:\\lakemapping\\2_dataset\\sample747\\shp\\output1\\pad_area_11562_2.shp\n"
     ]
    },
    {
     "data": {
      "text/plain": [
       "0"
      ]
     },
     "execution_count": 36,
     "metadata": {},
     "output_type": "execute_result"
    },
    {
     "data": {
      "text/plain": [
       "0"
      ]
     },
     "execution_count": 36,
     "metadata": {},
     "output_type": "execute_result"
    },
    {
     "data": {
      "text/plain": [
       "0"
      ]
     },
     "execution_count": 36,
     "metadata": {},
     "output_type": "execute_result"
    },
    {
     "name": "stdout",
     "output_type": "stream",
     "text": [
      "image_11581.tif\n",
      "pad_area_11581.shp\n",
      "D:\\lakemapping\\2_dataset\\sample747\\shp\\output1\\pad_area_11581.shp\n"
     ]
    },
    {
     "data": {
      "text/plain": [
       "0"
      ]
     },
     "execution_count": 36,
     "metadata": {},
     "output_type": "execute_result"
    },
    {
     "data": {
      "text/plain": [
       "0"
      ]
     },
     "execution_count": 36,
     "metadata": {},
     "output_type": "execute_result"
    },
    {
     "data": {
      "text/plain": [
       "0"
      ]
     },
     "execution_count": 36,
     "metadata": {},
     "output_type": "execute_result"
    },
    {
     "name": "stdout",
     "output_type": "stream",
     "text": [
      "image_11624.tif\n",
      "pad_area_11624.shp\n",
      "D:\\lakemapping\\2_dataset\\sample747\\shp\\output1\\pad_area_11624.shp\n"
     ]
    },
    {
     "data": {
      "text/plain": [
       "0"
      ]
     },
     "execution_count": 36,
     "metadata": {},
     "output_type": "execute_result"
    },
    {
     "data": {
      "text/plain": [
       "0"
      ]
     },
     "execution_count": 36,
     "metadata": {},
     "output_type": "execute_result"
    },
    {
     "data": {
      "text/plain": [
       "0"
      ]
     },
     "execution_count": 36,
     "metadata": {},
     "output_type": "execute_result"
    },
    {
     "name": "stdout",
     "output_type": "stream",
     "text": [
      "image_11632.tif\n",
      "pad_area_11632.shp\n",
      "D:\\lakemapping\\2_dataset\\sample747\\shp\\output1\\pad_area_11632.shp\n"
     ]
    },
    {
     "data": {
      "text/plain": [
       "0"
      ]
     },
     "execution_count": 36,
     "metadata": {},
     "output_type": "execute_result"
    },
    {
     "data": {
      "text/plain": [
       "0"
      ]
     },
     "execution_count": 36,
     "metadata": {},
     "output_type": "execute_result"
    },
    {
     "data": {
      "text/plain": [
       "0"
      ]
     },
     "execution_count": 36,
     "metadata": {},
     "output_type": "execute_result"
    },
    {
     "name": "stdout",
     "output_type": "stream",
     "text": [
      "image_11676.tif\n",
      "pad_area_11676.shp\n",
      "D:\\lakemapping\\2_dataset\\sample747\\shp\\output1\\pad_area_11676.shp\n"
     ]
    },
    {
     "data": {
      "text/plain": [
       "0"
      ]
     },
     "execution_count": 36,
     "metadata": {},
     "output_type": "execute_result"
    },
    {
     "data": {
      "text/plain": [
       "0"
      ]
     },
     "execution_count": 36,
     "metadata": {},
     "output_type": "execute_result"
    },
    {
     "data": {
      "text/plain": [
       "0"
      ]
     },
     "execution_count": 36,
     "metadata": {},
     "output_type": "execute_result"
    },
    {
     "name": "stdout",
     "output_type": "stream",
     "text": [
      "image_11765.tif\n",
      "pad_area_11765.shp\n",
      "D:\\lakemapping\\2_dataset\\sample747\\shp\\output1\\pad_area_11765.shp\n"
     ]
    },
    {
     "data": {
      "text/plain": [
       "0"
      ]
     },
     "execution_count": 36,
     "metadata": {},
     "output_type": "execute_result"
    },
    {
     "data": {
      "text/plain": [
       "0"
      ]
     },
     "execution_count": 36,
     "metadata": {},
     "output_type": "execute_result"
    },
    {
     "data": {
      "text/plain": [
       "0"
      ]
     },
     "execution_count": 36,
     "metadata": {},
     "output_type": "execute_result"
    },
    {
     "name": "stdout",
     "output_type": "stream",
     "text": [
      "image_11814.tif\n",
      "pad_area_11814.shp\n",
      "D:\\lakemapping\\2_dataset\\sample747\\shp\\output1\\pad_area_11814.shp\n"
     ]
    },
    {
     "data": {
      "text/plain": [
       "0"
      ]
     },
     "execution_count": 36,
     "metadata": {},
     "output_type": "execute_result"
    },
    {
     "data": {
      "text/plain": [
       "0"
      ]
     },
     "execution_count": 36,
     "metadata": {},
     "output_type": "execute_result"
    },
    {
     "data": {
      "text/plain": [
       "0"
      ]
     },
     "execution_count": 36,
     "metadata": {},
     "output_type": "execute_result"
    },
    {
     "name": "stdout",
     "output_type": "stream",
     "text": [
      "image_11841.tif\n",
      "pad_area_11841.shp\n",
      "D:\\lakemapping\\2_dataset\\sample747\\shp\\output1\\pad_area_11841.shp\n"
     ]
    },
    {
     "data": {
      "text/plain": [
       "0"
      ]
     },
     "execution_count": 36,
     "metadata": {},
     "output_type": "execute_result"
    },
    {
     "data": {
      "text/plain": [
       "0"
      ]
     },
     "execution_count": 36,
     "metadata": {},
     "output_type": "execute_result"
    },
    {
     "data": {
      "text/plain": [
       "0"
      ]
     },
     "execution_count": 36,
     "metadata": {},
     "output_type": "execute_result"
    },
    {
     "name": "stdout",
     "output_type": "stream",
     "text": [
      "image_11877.tif\n",
      "pad_area_11877.shp\n",
      "D:\\lakemapping\\2_dataset\\sample747\\shp\\output1\\pad_area_11877.shp\n"
     ]
    },
    {
     "data": {
      "text/plain": [
       "0"
      ]
     },
     "execution_count": 36,
     "metadata": {},
     "output_type": "execute_result"
    },
    {
     "data": {
      "text/plain": [
       "0"
      ]
     },
     "execution_count": 36,
     "metadata": {},
     "output_type": "execute_result"
    },
    {
     "data": {
      "text/plain": [
       "0"
      ]
     },
     "execution_count": 36,
     "metadata": {},
     "output_type": "execute_result"
    },
    {
     "name": "stdout",
     "output_type": "stream",
     "text": [
      "image_11920.tif\n",
      "pad_area_11920.shp\n",
      "D:\\lakemapping\\2_dataset\\sample747\\shp\\output1\\pad_area_11920.shp\n"
     ]
    },
    {
     "data": {
      "text/plain": [
       "0"
      ]
     },
     "execution_count": 36,
     "metadata": {},
     "output_type": "execute_result"
    },
    {
     "data": {
      "text/plain": [
       "0"
      ]
     },
     "execution_count": 36,
     "metadata": {},
     "output_type": "execute_result"
    },
    {
     "data": {
      "text/plain": [
       "0"
      ]
     },
     "execution_count": 36,
     "metadata": {},
     "output_type": "execute_result"
    },
    {
     "name": "stdout",
     "output_type": "stream",
     "text": [
      "image_11963.tif\n",
      "pad_area_11963.shp\n",
      "D:\\lakemapping\\2_dataset\\sample747\\shp\\output1\\pad_area_11963.shp\n"
     ]
    },
    {
     "data": {
      "text/plain": [
       "0"
      ]
     },
     "execution_count": 36,
     "metadata": {},
     "output_type": "execute_result"
    },
    {
     "data": {
      "text/plain": [
       "0"
      ]
     },
     "execution_count": 36,
     "metadata": {},
     "output_type": "execute_result"
    },
    {
     "data": {
      "text/plain": [
       "0"
      ]
     },
     "execution_count": 36,
     "metadata": {},
     "output_type": "execute_result"
    },
    {
     "name": "stdout",
     "output_type": "stream",
     "text": [
      "image_11968.tif\n",
      "pad_area_11968.shp\n",
      "D:\\lakemapping\\2_dataset\\sample747\\shp\\output1\\pad_area_11968.shp\n"
     ]
    },
    {
     "data": {
      "text/plain": [
       "0"
      ]
     },
     "execution_count": 36,
     "metadata": {},
     "output_type": "execute_result"
    },
    {
     "data": {
      "text/plain": [
       "0"
      ]
     },
     "execution_count": 36,
     "metadata": {},
     "output_type": "execute_result"
    },
    {
     "data": {
      "text/plain": [
       "0"
      ]
     },
     "execution_count": 36,
     "metadata": {},
     "output_type": "execute_result"
    },
    {
     "name": "stdout",
     "output_type": "stream",
     "text": [
      "image_11983.tif\n",
      "pad_area_11983.shp\n",
      "D:\\lakemapping\\2_dataset\\sample747\\shp\\output1\\pad_area_11983.shp\n"
     ]
    },
    {
     "data": {
      "text/plain": [
       "0"
      ]
     },
     "execution_count": 36,
     "metadata": {},
     "output_type": "execute_result"
    },
    {
     "data": {
      "text/plain": [
       "0"
      ]
     },
     "execution_count": 36,
     "metadata": {},
     "output_type": "execute_result"
    },
    {
     "data": {
      "text/plain": [
       "0"
      ]
     },
     "execution_count": 36,
     "metadata": {},
     "output_type": "execute_result"
    },
    {
     "name": "stdout",
     "output_type": "stream",
     "text": [
      "image_12040.tif\n",
      "pad_area_12040.shp\n",
      "D:\\lakemapping\\2_dataset\\sample747\\shp\\output1\\pad_area_12040.shp\n"
     ]
    },
    {
     "data": {
      "text/plain": [
       "0"
      ]
     },
     "execution_count": 36,
     "metadata": {},
     "output_type": "execute_result"
    },
    {
     "data": {
      "text/plain": [
       "0"
      ]
     },
     "execution_count": 36,
     "metadata": {},
     "output_type": "execute_result"
    },
    {
     "data": {
      "text/plain": [
       "0"
      ]
     },
     "execution_count": 36,
     "metadata": {},
     "output_type": "execute_result"
    },
    {
     "name": "stdout",
     "output_type": "stream",
     "text": [
      "image_12072.tif\n",
      "pad_area_12072.shp\n",
      "D:\\lakemapping\\2_dataset\\sample747\\shp\\output1\\pad_area_12072.shp\n"
     ]
    },
    {
     "data": {
      "text/plain": [
       "0"
      ]
     },
     "execution_count": 36,
     "metadata": {},
     "output_type": "execute_result"
    },
    {
     "data": {
      "text/plain": [
       "0"
      ]
     },
     "execution_count": 36,
     "metadata": {},
     "output_type": "execute_result"
    },
    {
     "data": {
      "text/plain": [
       "0"
      ]
     },
     "execution_count": 36,
     "metadata": {},
     "output_type": "execute_result"
    },
    {
     "name": "stdout",
     "output_type": "stream",
     "text": [
      "image_12120.tif\n",
      "pad_area_12120.shp\n",
      "D:\\lakemapping\\2_dataset\\sample747\\shp\\output1\\pad_area_12120.shp\n"
     ]
    },
    {
     "data": {
      "text/plain": [
       "0"
      ]
     },
     "execution_count": 36,
     "metadata": {},
     "output_type": "execute_result"
    },
    {
     "data": {
      "text/plain": [
       "0"
      ]
     },
     "execution_count": 36,
     "metadata": {},
     "output_type": "execute_result"
    },
    {
     "data": {
      "text/plain": [
       "0"
      ]
     },
     "execution_count": 36,
     "metadata": {},
     "output_type": "execute_result"
    },
    {
     "name": "stdout",
     "output_type": "stream",
     "text": [
      "image_12126.tif\n",
      "pad_area_12126.shp\n",
      "D:\\lakemapping\\2_dataset\\sample747\\shp\\output1\\pad_area_12126.shp\n"
     ]
    },
    {
     "data": {
      "text/plain": [
       "0"
      ]
     },
     "execution_count": 36,
     "metadata": {},
     "output_type": "execute_result"
    },
    {
     "data": {
      "text/plain": [
       "0"
      ]
     },
     "execution_count": 36,
     "metadata": {},
     "output_type": "execute_result"
    },
    {
     "data": {
      "text/plain": [
       "0"
      ]
     },
     "execution_count": 36,
     "metadata": {},
     "output_type": "execute_result"
    },
    {
     "name": "stdout",
     "output_type": "stream",
     "text": [
      "image_12164.tif\n",
      "pad_area_12164.shp\n",
      "D:\\lakemapping\\2_dataset\\sample747\\shp\\output1\\pad_area_12164.shp\n"
     ]
    },
    {
     "data": {
      "text/plain": [
       "0"
      ]
     },
     "execution_count": 36,
     "metadata": {},
     "output_type": "execute_result"
    },
    {
     "data": {
      "text/plain": [
       "0"
      ]
     },
     "execution_count": 36,
     "metadata": {},
     "output_type": "execute_result"
    },
    {
     "data": {
      "text/plain": [
       "0"
      ]
     },
     "execution_count": 36,
     "metadata": {},
     "output_type": "execute_result"
    },
    {
     "name": "stdout",
     "output_type": "stream",
     "text": [
      "image_12193.tif\n",
      "pad_area_12193.shp\n",
      "D:\\lakemapping\\2_dataset\\sample747\\shp\\output1\\pad_area_12193.shp\n"
     ]
    },
    {
     "data": {
      "text/plain": [
       "0"
      ]
     },
     "execution_count": 36,
     "metadata": {},
     "output_type": "execute_result"
    },
    {
     "data": {
      "text/plain": [
       "0"
      ]
     },
     "execution_count": 36,
     "metadata": {},
     "output_type": "execute_result"
    },
    {
     "data": {
      "text/plain": [
       "0"
      ]
     },
     "execution_count": 36,
     "metadata": {},
     "output_type": "execute_result"
    },
    {
     "name": "stdout",
     "output_type": "stream",
     "text": [
      "image_12197.tif\n",
      "pad_area_12197.shp\n",
      "D:\\lakemapping\\2_dataset\\sample747\\shp\\output1\\pad_area_12197.shp\n"
     ]
    },
    {
     "data": {
      "text/plain": [
       "0"
      ]
     },
     "execution_count": 36,
     "metadata": {},
     "output_type": "execute_result"
    },
    {
     "data": {
      "text/plain": [
       "0"
      ]
     },
     "execution_count": 36,
     "metadata": {},
     "output_type": "execute_result"
    },
    {
     "data": {
      "text/plain": [
       "0"
      ]
     },
     "execution_count": 36,
     "metadata": {},
     "output_type": "execute_result"
    },
    {
     "name": "stdout",
     "output_type": "stream",
     "text": [
      "image_12221.tif\n",
      "pad_area_12221.shp\n",
      "D:\\lakemapping\\2_dataset\\sample747\\shp\\output1\\pad_area_12221.shp\n"
     ]
    },
    {
     "data": {
      "text/plain": [
       "0"
      ]
     },
     "execution_count": 36,
     "metadata": {},
     "output_type": "execute_result"
    },
    {
     "data": {
      "text/plain": [
       "0"
      ]
     },
     "execution_count": 36,
     "metadata": {},
     "output_type": "execute_result"
    },
    {
     "data": {
      "text/plain": [
       "0"
      ]
     },
     "execution_count": 36,
     "metadata": {},
     "output_type": "execute_result"
    },
    {
     "name": "stdout",
     "output_type": "stream",
     "text": [
      "image_12449.tif\n",
      "pad_area_12449.shp\n",
      "D:\\lakemapping\\2_dataset\\sample747\\shp\\output1\\pad_area_12449.shp\n"
     ]
    },
    {
     "data": {
      "text/plain": [
       "0"
      ]
     },
     "execution_count": 36,
     "metadata": {},
     "output_type": "execute_result"
    },
    {
     "data": {
      "text/plain": [
       "0"
      ]
     },
     "execution_count": 36,
     "metadata": {},
     "output_type": "execute_result"
    },
    {
     "data": {
      "text/plain": [
       "0"
      ]
     },
     "execution_count": 36,
     "metadata": {},
     "output_type": "execute_result"
    },
    {
     "name": "stdout",
     "output_type": "stream",
     "text": [
      "image_12492.tif\n",
      "pad_area_12492.shp\n",
      "D:\\lakemapping\\2_dataset\\sample747\\shp\\output1\\pad_area_12492.shp\n"
     ]
    },
    {
     "data": {
      "text/plain": [
       "0"
      ]
     },
     "execution_count": 36,
     "metadata": {},
     "output_type": "execute_result"
    },
    {
     "data": {
      "text/plain": [
       "0"
      ]
     },
     "execution_count": 36,
     "metadata": {},
     "output_type": "execute_result"
    },
    {
     "data": {
      "text/plain": [
       "0"
      ]
     },
     "execution_count": 36,
     "metadata": {},
     "output_type": "execute_result"
    },
    {
     "name": "stdout",
     "output_type": "stream",
     "text": [
      "image_12506.tif\n",
      "pad_area_12506.shp\n",
      "D:\\lakemapping\\2_dataset\\sample747\\shp\\output1\\pad_area_12506.shp\n"
     ]
    },
    {
     "data": {
      "text/plain": [
       "0"
      ]
     },
     "execution_count": 36,
     "metadata": {},
     "output_type": "execute_result"
    },
    {
     "data": {
      "text/plain": [
       "0"
      ]
     },
     "execution_count": 36,
     "metadata": {},
     "output_type": "execute_result"
    },
    {
     "data": {
      "text/plain": [
       "0"
      ]
     },
     "execution_count": 36,
     "metadata": {},
     "output_type": "execute_result"
    },
    {
     "name": "stdout",
     "output_type": "stream",
     "text": [
      "image_12539.tif\n",
      "pad_area_12539.shp\n",
      "D:\\lakemapping\\2_dataset\\sample747\\shp\\output1\\pad_area_12539.shp\n"
     ]
    },
    {
     "data": {
      "text/plain": [
       "0"
      ]
     },
     "execution_count": 36,
     "metadata": {},
     "output_type": "execute_result"
    },
    {
     "data": {
      "text/plain": [
       "0"
      ]
     },
     "execution_count": 36,
     "metadata": {},
     "output_type": "execute_result"
    },
    {
     "data": {
      "text/plain": [
       "0"
      ]
     },
     "execution_count": 36,
     "metadata": {},
     "output_type": "execute_result"
    },
    {
     "name": "stdout",
     "output_type": "stream",
     "text": [
      "image_12722.tif\n",
      "pad_area_12722.shp\n",
      "D:\\lakemapping\\2_dataset\\sample747\\shp\\output1\\pad_area_12722.shp\n"
     ]
    },
    {
     "data": {
      "text/plain": [
       "0"
      ]
     },
     "execution_count": 36,
     "metadata": {},
     "output_type": "execute_result"
    },
    {
     "data": {
      "text/plain": [
       "0"
      ]
     },
     "execution_count": 36,
     "metadata": {},
     "output_type": "execute_result"
    },
    {
     "data": {
      "text/plain": [
       "0"
      ]
     },
     "execution_count": 36,
     "metadata": {},
     "output_type": "execute_result"
    },
    {
     "name": "stdout",
     "output_type": "stream",
     "text": [
      "image_12960.tif\n",
      "pad_area_12960.shp\n",
      "D:\\lakemapping\\2_dataset\\sample747\\shp\\output1\\pad_area_12960.shp\n"
     ]
    },
    {
     "data": {
      "text/plain": [
       "0"
      ]
     },
     "execution_count": 36,
     "metadata": {},
     "output_type": "execute_result"
    },
    {
     "data": {
      "text/plain": [
       "0"
      ]
     },
     "execution_count": 36,
     "metadata": {},
     "output_type": "execute_result"
    },
    {
     "data": {
      "text/plain": [
       "0"
      ]
     },
     "execution_count": 36,
     "metadata": {},
     "output_type": "execute_result"
    },
    {
     "name": "stdout",
     "output_type": "stream",
     "text": [
      "image_13010.tif\n",
      "pad_area_13010.shp\n",
      "D:\\lakemapping\\2_dataset\\sample747\\shp\\output1\\pad_area_13010.shp\n"
     ]
    },
    {
     "data": {
      "text/plain": [
       "0"
      ]
     },
     "execution_count": 36,
     "metadata": {},
     "output_type": "execute_result"
    },
    {
     "data": {
      "text/plain": [
       "0"
      ]
     },
     "execution_count": 36,
     "metadata": {},
     "output_type": "execute_result"
    },
    {
     "data": {
      "text/plain": [
       "0"
      ]
     },
     "execution_count": 36,
     "metadata": {},
     "output_type": "execute_result"
    },
    {
     "name": "stdout",
     "output_type": "stream",
     "text": [
      "image_13031.tif\n",
      "pad_area_13031.shp\n",
      "D:\\lakemapping\\2_dataset\\sample747\\shp\\output1\\pad_area_13031.shp\n"
     ]
    },
    {
     "data": {
      "text/plain": [
       "0"
      ]
     },
     "execution_count": 36,
     "metadata": {},
     "output_type": "execute_result"
    },
    {
     "data": {
      "text/plain": [
       "0"
      ]
     },
     "execution_count": 36,
     "metadata": {},
     "output_type": "execute_result"
    },
    {
     "data": {
      "text/plain": [
       "0"
      ]
     },
     "execution_count": 36,
     "metadata": {},
     "output_type": "execute_result"
    },
    {
     "name": "stdout",
     "output_type": "stream",
     "text": [
      "image_13036.tif\n",
      "pad_area_13036.shp\n",
      "D:\\lakemapping\\2_dataset\\sample747\\shp\\output1\\pad_area_13036.shp\n"
     ]
    },
    {
     "data": {
      "text/plain": [
       "0"
      ]
     },
     "execution_count": 36,
     "metadata": {},
     "output_type": "execute_result"
    },
    {
     "data": {
      "text/plain": [
       "0"
      ]
     },
     "execution_count": 36,
     "metadata": {},
     "output_type": "execute_result"
    },
    {
     "data": {
      "text/plain": [
       "0"
      ]
     },
     "execution_count": 36,
     "metadata": {},
     "output_type": "execute_result"
    },
    {
     "name": "stdout",
     "output_type": "stream",
     "text": [
      "image_13063.tif\n",
      "pad_area_13063.shp\n",
      "D:\\lakemapping\\2_dataset\\sample747\\shp\\output1\\pad_area_13063.shp\n"
     ]
    },
    {
     "data": {
      "text/plain": [
       "0"
      ]
     },
     "execution_count": 36,
     "metadata": {},
     "output_type": "execute_result"
    },
    {
     "data": {
      "text/plain": [
       "0"
      ]
     },
     "execution_count": 36,
     "metadata": {},
     "output_type": "execute_result"
    },
    {
     "data": {
      "text/plain": [
       "0"
      ]
     },
     "execution_count": 36,
     "metadata": {},
     "output_type": "execute_result"
    },
    {
     "name": "stdout",
     "output_type": "stream",
     "text": [
      "image_1319.tif\n",
      "pad_area_1319.shp\n",
      "D:\\lakemapping\\2_dataset\\sample747\\shp\\output1\\pad_area_1319.shp\n"
     ]
    },
    {
     "data": {
      "text/plain": [
       "0"
      ]
     },
     "execution_count": 36,
     "metadata": {},
     "output_type": "execute_result"
    },
    {
     "data": {
      "text/plain": [
       "0"
      ]
     },
     "execution_count": 36,
     "metadata": {},
     "output_type": "execute_result"
    },
    {
     "data": {
      "text/plain": [
       "0"
      ]
     },
     "execution_count": 36,
     "metadata": {},
     "output_type": "execute_result"
    },
    {
     "name": "stdout",
     "output_type": "stream",
     "text": [
      "image_13294.tif\n",
      "pad_area_13294.shp\n",
      "D:\\lakemapping\\2_dataset\\sample747\\shp\\output1\\pad_area_13294.shp\n"
     ]
    },
    {
     "data": {
      "text/plain": [
       "0"
      ]
     },
     "execution_count": 36,
     "metadata": {},
     "output_type": "execute_result"
    },
    {
     "data": {
      "text/plain": [
       "0"
      ]
     },
     "execution_count": 36,
     "metadata": {},
     "output_type": "execute_result"
    },
    {
     "data": {
      "text/plain": [
       "0"
      ]
     },
     "execution_count": 36,
     "metadata": {},
     "output_type": "execute_result"
    },
    {
     "name": "stdout",
     "output_type": "stream",
     "text": [
      "image_13324.tif\n",
      "pad_area_13324.shp\n",
      "D:\\lakemapping\\2_dataset\\sample747\\shp\\output1\\pad_area_13324.shp\n"
     ]
    },
    {
     "data": {
      "text/plain": [
       "0"
      ]
     },
     "execution_count": 36,
     "metadata": {},
     "output_type": "execute_result"
    },
    {
     "data": {
      "text/plain": [
       "0"
      ]
     },
     "execution_count": 36,
     "metadata": {},
     "output_type": "execute_result"
    },
    {
     "data": {
      "text/plain": [
       "0"
      ]
     },
     "execution_count": 36,
     "metadata": {},
     "output_type": "execute_result"
    },
    {
     "name": "stdout",
     "output_type": "stream",
     "text": [
      "image_13346.tif\n",
      "pad_area_13346.shp\n",
      "D:\\lakemapping\\2_dataset\\sample747\\shp\\output1\\pad_area_13346.shp\n"
     ]
    },
    {
     "data": {
      "text/plain": [
       "0"
      ]
     },
     "execution_count": 36,
     "metadata": {},
     "output_type": "execute_result"
    },
    {
     "data": {
      "text/plain": [
       "0"
      ]
     },
     "execution_count": 36,
     "metadata": {},
     "output_type": "execute_result"
    },
    {
     "data": {
      "text/plain": [
       "0"
      ]
     },
     "execution_count": 36,
     "metadata": {},
     "output_type": "execute_result"
    },
    {
     "name": "stdout",
     "output_type": "stream",
     "text": [
      "image_13347.tif\n",
      "pad_area_13347.shp\n",
      "D:\\lakemapping\\2_dataset\\sample747\\shp\\output1\\pad_area_13347.shp\n"
     ]
    },
    {
     "data": {
      "text/plain": [
       "0"
      ]
     },
     "execution_count": 36,
     "metadata": {},
     "output_type": "execute_result"
    },
    {
     "data": {
      "text/plain": [
       "0"
      ]
     },
     "execution_count": 36,
     "metadata": {},
     "output_type": "execute_result"
    },
    {
     "data": {
      "text/plain": [
       "0"
      ]
     },
     "execution_count": 36,
     "metadata": {},
     "output_type": "execute_result"
    },
    {
     "name": "stdout",
     "output_type": "stream",
     "text": [
      "image_13411_1.tif\n",
      "pad_area_13411_1.shp\n",
      "D:\\lakemapping\\2_dataset\\sample747\\shp\\output1\\pad_area_13411_1.shp\n"
     ]
    },
    {
     "data": {
      "text/plain": [
       "0"
      ]
     },
     "execution_count": 36,
     "metadata": {},
     "output_type": "execute_result"
    },
    {
     "data": {
      "text/plain": [
       "0"
      ]
     },
     "execution_count": 36,
     "metadata": {},
     "output_type": "execute_result"
    },
    {
     "data": {
      "text/plain": [
       "0"
      ]
     },
     "execution_count": 36,
     "metadata": {},
     "output_type": "execute_result"
    },
    {
     "name": "stdout",
     "output_type": "stream",
     "text": [
      "image_13444.tif\n",
      "pad_area_13444.shp\n",
      "D:\\lakemapping\\2_dataset\\sample747\\shp\\output1\\pad_area_13444.shp\n"
     ]
    },
    {
     "data": {
      "text/plain": [
       "0"
      ]
     },
     "execution_count": 36,
     "metadata": {},
     "output_type": "execute_result"
    },
    {
     "data": {
      "text/plain": [
       "0"
      ]
     },
     "execution_count": 36,
     "metadata": {},
     "output_type": "execute_result"
    },
    {
     "data": {
      "text/plain": [
       "0"
      ]
     },
     "execution_count": 36,
     "metadata": {},
     "output_type": "execute_result"
    },
    {
     "name": "stdout",
     "output_type": "stream",
     "text": [
      "image_13451.tif\n",
      "pad_area_13451.shp\n",
      "D:\\lakemapping\\2_dataset\\sample747\\shp\\output1\\pad_area_13451.shp\n"
     ]
    },
    {
     "data": {
      "text/plain": [
       "0"
      ]
     },
     "execution_count": 36,
     "metadata": {},
     "output_type": "execute_result"
    },
    {
     "data": {
      "text/plain": [
       "0"
      ]
     },
     "execution_count": 36,
     "metadata": {},
     "output_type": "execute_result"
    },
    {
     "data": {
      "text/plain": [
       "0"
      ]
     },
     "execution_count": 36,
     "metadata": {},
     "output_type": "execute_result"
    },
    {
     "name": "stdout",
     "output_type": "stream",
     "text": [
      "image_13478.tif\n",
      "pad_area_13478.shp\n",
      "D:\\lakemapping\\2_dataset\\sample747\\shp\\output1\\pad_area_13478.shp\n"
     ]
    },
    {
     "data": {
      "text/plain": [
       "0"
      ]
     },
     "execution_count": 36,
     "metadata": {},
     "output_type": "execute_result"
    },
    {
     "data": {
      "text/plain": [
       "0"
      ]
     },
     "execution_count": 36,
     "metadata": {},
     "output_type": "execute_result"
    },
    {
     "data": {
      "text/plain": [
       "0"
      ]
     },
     "execution_count": 36,
     "metadata": {},
     "output_type": "execute_result"
    },
    {
     "name": "stdout",
     "output_type": "stream",
     "text": [
      "image_13494.tif\n",
      "pad_area_13494.shp\n",
      "D:\\lakemapping\\2_dataset\\sample747\\shp\\output1\\pad_area_13494.shp\n"
     ]
    },
    {
     "data": {
      "text/plain": [
       "0"
      ]
     },
     "execution_count": 36,
     "metadata": {},
     "output_type": "execute_result"
    },
    {
     "data": {
      "text/plain": [
       "0"
      ]
     },
     "execution_count": 36,
     "metadata": {},
     "output_type": "execute_result"
    },
    {
     "data": {
      "text/plain": [
       "0"
      ]
     },
     "execution_count": 36,
     "metadata": {},
     "output_type": "execute_result"
    },
    {
     "name": "stdout",
     "output_type": "stream",
     "text": [
      "image_13512.tif\n",
      "pad_area_13512.shp\n",
      "D:\\lakemapping\\2_dataset\\sample747\\shp\\output1\\pad_area_13512.shp\n"
     ]
    },
    {
     "data": {
      "text/plain": [
       "0"
      ]
     },
     "execution_count": 36,
     "metadata": {},
     "output_type": "execute_result"
    },
    {
     "data": {
      "text/plain": [
       "0"
      ]
     },
     "execution_count": 36,
     "metadata": {},
     "output_type": "execute_result"
    },
    {
     "data": {
      "text/plain": [
       "0"
      ]
     },
     "execution_count": 36,
     "metadata": {},
     "output_type": "execute_result"
    },
    {
     "name": "stdout",
     "output_type": "stream",
     "text": [
      "image_13538.tif\n",
      "pad_area_13538.shp\n",
      "D:\\lakemapping\\2_dataset\\sample747\\shp\\output1\\pad_area_13538.shp\n"
     ]
    },
    {
     "data": {
      "text/plain": [
       "0"
      ]
     },
     "execution_count": 36,
     "metadata": {},
     "output_type": "execute_result"
    },
    {
     "data": {
      "text/plain": [
       "0"
      ]
     },
     "execution_count": 36,
     "metadata": {},
     "output_type": "execute_result"
    },
    {
     "data": {
      "text/plain": [
       "0"
      ]
     },
     "execution_count": 36,
     "metadata": {},
     "output_type": "execute_result"
    },
    {
     "name": "stdout",
     "output_type": "stream",
     "text": [
      "image_13663.tif\n",
      "pad_area_13663.shp\n",
      "D:\\lakemapping\\2_dataset\\sample747\\shp\\output1\\pad_area_13663.shp\n"
     ]
    },
    {
     "data": {
      "text/plain": [
       "0"
      ]
     },
     "execution_count": 36,
     "metadata": {},
     "output_type": "execute_result"
    },
    {
     "data": {
      "text/plain": [
       "0"
      ]
     },
     "execution_count": 36,
     "metadata": {},
     "output_type": "execute_result"
    },
    {
     "data": {
      "text/plain": [
       "0"
      ]
     },
     "execution_count": 36,
     "metadata": {},
     "output_type": "execute_result"
    },
    {
     "name": "stdout",
     "output_type": "stream",
     "text": [
      "image_13816.tif\n",
      "pad_area_13816.shp\n",
      "D:\\lakemapping\\2_dataset\\sample747\\shp\\output1\\pad_area_13816.shp\n"
     ]
    },
    {
     "data": {
      "text/plain": [
       "0"
      ]
     },
     "execution_count": 36,
     "metadata": {},
     "output_type": "execute_result"
    },
    {
     "data": {
      "text/plain": [
       "0"
      ]
     },
     "execution_count": 36,
     "metadata": {},
     "output_type": "execute_result"
    },
    {
     "data": {
      "text/plain": [
       "0"
      ]
     },
     "execution_count": 36,
     "metadata": {},
     "output_type": "execute_result"
    },
    {
     "name": "stdout",
     "output_type": "stream",
     "text": [
      "image_13885.tif\n",
      "pad_area_13885.shp\n",
      "D:\\lakemapping\\2_dataset\\sample747\\shp\\output1\\pad_area_13885.shp\n"
     ]
    },
    {
     "data": {
      "text/plain": [
       "0"
      ]
     },
     "execution_count": 36,
     "metadata": {},
     "output_type": "execute_result"
    },
    {
     "data": {
      "text/plain": [
       "0"
      ]
     },
     "execution_count": 36,
     "metadata": {},
     "output_type": "execute_result"
    },
    {
     "data": {
      "text/plain": [
       "0"
      ]
     },
     "execution_count": 36,
     "metadata": {},
     "output_type": "execute_result"
    },
    {
     "name": "stdout",
     "output_type": "stream",
     "text": [
      "image_13891.tif\n",
      "pad_area_13891.shp\n",
      "D:\\lakemapping\\2_dataset\\sample747\\shp\\output1\\pad_area_13891.shp\n"
     ]
    },
    {
     "data": {
      "text/plain": [
       "0"
      ]
     },
     "execution_count": 36,
     "metadata": {},
     "output_type": "execute_result"
    },
    {
     "data": {
      "text/plain": [
       "0"
      ]
     },
     "execution_count": 36,
     "metadata": {},
     "output_type": "execute_result"
    },
    {
     "data": {
      "text/plain": [
       "0"
      ]
     },
     "execution_count": 36,
     "metadata": {},
     "output_type": "execute_result"
    },
    {
     "name": "stdout",
     "output_type": "stream",
     "text": [
      "image_1397.tif\n",
      "pad_area_1397.shp\n",
      "D:\\lakemapping\\2_dataset\\sample747\\shp\\output1\\pad_area_1397.shp\n"
     ]
    },
    {
     "data": {
      "text/plain": [
       "0"
      ]
     },
     "execution_count": 36,
     "metadata": {},
     "output_type": "execute_result"
    },
    {
     "data": {
      "text/plain": [
       "0"
      ]
     },
     "execution_count": 36,
     "metadata": {},
     "output_type": "execute_result"
    },
    {
     "data": {
      "text/plain": [
       "0"
      ]
     },
     "execution_count": 36,
     "metadata": {},
     "output_type": "execute_result"
    },
    {
     "name": "stdout",
     "output_type": "stream",
     "text": [
      "image_1402_1.tif\n",
      "pad_area_1402_1.shp\n",
      "D:\\lakemapping\\2_dataset\\sample747\\shp\\output1\\pad_area_1402_1.shp\n"
     ]
    },
    {
     "data": {
      "text/plain": [
       "0"
      ]
     },
     "execution_count": 36,
     "metadata": {},
     "output_type": "execute_result"
    },
    {
     "data": {
      "text/plain": [
       "0"
      ]
     },
     "execution_count": 36,
     "metadata": {},
     "output_type": "execute_result"
    },
    {
     "data": {
      "text/plain": [
       "0"
      ]
     },
     "execution_count": 36,
     "metadata": {},
     "output_type": "execute_result"
    },
    {
     "name": "stdout",
     "output_type": "stream",
     "text": [
      "image_1402_2.tif\n",
      "pad_area_1402_2.shp\n",
      "D:\\lakemapping\\2_dataset\\sample747\\shp\\output1\\pad_area_1402_2.shp\n"
     ]
    },
    {
     "data": {
      "text/plain": [
       "0"
      ]
     },
     "execution_count": 36,
     "metadata": {},
     "output_type": "execute_result"
    },
    {
     "data": {
      "text/plain": [
       "0"
      ]
     },
     "execution_count": 36,
     "metadata": {},
     "output_type": "execute_result"
    },
    {
     "data": {
      "text/plain": [
       "0"
      ]
     },
     "execution_count": 36,
     "metadata": {},
     "output_type": "execute_result"
    },
    {
     "name": "stdout",
     "output_type": "stream",
     "text": [
      "image_14042.tif\n",
      "pad_area_14042.shp\n",
      "D:\\lakemapping\\2_dataset\\sample747\\shp\\output1\\pad_area_14042.shp\n"
     ]
    },
    {
     "data": {
      "text/plain": [
       "0"
      ]
     },
     "execution_count": 36,
     "metadata": {},
     "output_type": "execute_result"
    },
    {
     "data": {
      "text/plain": [
       "0"
      ]
     },
     "execution_count": 36,
     "metadata": {},
     "output_type": "execute_result"
    },
    {
     "data": {
      "text/plain": [
       "0"
      ]
     },
     "execution_count": 36,
     "metadata": {},
     "output_type": "execute_result"
    },
    {
     "name": "stdout",
     "output_type": "stream",
     "text": [
      "image_14147.tif\n",
      "pad_area_14147.shp\n",
      "D:\\lakemapping\\2_dataset\\sample747\\shp\\output1\\pad_area_14147.shp\n"
     ]
    },
    {
     "data": {
      "text/plain": [
       "0"
      ]
     },
     "execution_count": 36,
     "metadata": {},
     "output_type": "execute_result"
    },
    {
     "data": {
      "text/plain": [
       "0"
      ]
     },
     "execution_count": 36,
     "metadata": {},
     "output_type": "execute_result"
    },
    {
     "data": {
      "text/plain": [
       "0"
      ]
     },
     "execution_count": 36,
     "metadata": {},
     "output_type": "execute_result"
    },
    {
     "name": "stdout",
     "output_type": "stream",
     "text": [
      "image_1421.tif\n",
      "pad_area_1421.shp\n",
      "D:\\lakemapping\\2_dataset\\sample747\\shp\\output1\\pad_area_1421.shp\n"
     ]
    },
    {
     "data": {
      "text/plain": [
       "0"
      ]
     },
     "execution_count": 36,
     "metadata": {},
     "output_type": "execute_result"
    },
    {
     "data": {
      "text/plain": [
       "0"
      ]
     },
     "execution_count": 36,
     "metadata": {},
     "output_type": "execute_result"
    },
    {
     "data": {
      "text/plain": [
       "0"
      ]
     },
     "execution_count": 36,
     "metadata": {},
     "output_type": "execute_result"
    },
    {
     "name": "stdout",
     "output_type": "stream",
     "text": [
      "image_14241.tif\n",
      "pad_area_14241.shp\n",
      "D:\\lakemapping\\2_dataset\\sample747\\shp\\output1\\pad_area_14241.shp\n"
     ]
    },
    {
     "data": {
      "text/plain": [
       "0"
      ]
     },
     "execution_count": 36,
     "metadata": {},
     "output_type": "execute_result"
    },
    {
     "data": {
      "text/plain": [
       "0"
      ]
     },
     "execution_count": 36,
     "metadata": {},
     "output_type": "execute_result"
    },
    {
     "data": {
      "text/plain": [
       "0"
      ]
     },
     "execution_count": 36,
     "metadata": {},
     "output_type": "execute_result"
    },
    {
     "name": "stdout",
     "output_type": "stream",
     "text": [
      "image_14277.tif\n",
      "pad_area_14277.shp\n",
      "D:\\lakemapping\\2_dataset\\sample747\\shp\\output1\\pad_area_14277.shp\n"
     ]
    },
    {
     "data": {
      "text/plain": [
       "0"
      ]
     },
     "execution_count": 36,
     "metadata": {},
     "output_type": "execute_result"
    },
    {
     "data": {
      "text/plain": [
       "0"
      ]
     },
     "execution_count": 36,
     "metadata": {},
     "output_type": "execute_result"
    },
    {
     "data": {
      "text/plain": [
       "0"
      ]
     },
     "execution_count": 36,
     "metadata": {},
     "output_type": "execute_result"
    },
    {
     "name": "stdout",
     "output_type": "stream",
     "text": [
      "image_14312.tif\n",
      "pad_area_14312.shp\n",
      "D:\\lakemapping\\2_dataset\\sample747\\shp\\output1\\pad_area_14312.shp\n"
     ]
    },
    {
     "data": {
      "text/plain": [
       "0"
      ]
     },
     "execution_count": 36,
     "metadata": {},
     "output_type": "execute_result"
    },
    {
     "data": {
      "text/plain": [
       "0"
      ]
     },
     "execution_count": 36,
     "metadata": {},
     "output_type": "execute_result"
    },
    {
     "data": {
      "text/plain": [
       "0"
      ]
     },
     "execution_count": 36,
     "metadata": {},
     "output_type": "execute_result"
    },
    {
     "name": "stdout",
     "output_type": "stream",
     "text": [
      "image_14346.tif\n",
      "pad_area_14346.shp\n",
      "D:\\lakemapping\\2_dataset\\sample747\\shp\\output1\\pad_area_14346.shp\n"
     ]
    },
    {
     "data": {
      "text/plain": [
       "0"
      ]
     },
     "execution_count": 36,
     "metadata": {},
     "output_type": "execute_result"
    },
    {
     "data": {
      "text/plain": [
       "0"
      ]
     },
     "execution_count": 36,
     "metadata": {},
     "output_type": "execute_result"
    },
    {
     "data": {
      "text/plain": [
       "0"
      ]
     },
     "execution_count": 36,
     "metadata": {},
     "output_type": "execute_result"
    },
    {
     "name": "stdout",
     "output_type": "stream",
     "text": [
      "image_14370.tif\n",
      "pad_area_14370.shp\n",
      "D:\\lakemapping\\2_dataset\\sample747\\shp\\output1\\pad_area_14370.shp\n"
     ]
    },
    {
     "data": {
      "text/plain": [
       "0"
      ]
     },
     "execution_count": 36,
     "metadata": {},
     "output_type": "execute_result"
    },
    {
     "data": {
      "text/plain": [
       "0"
      ]
     },
     "execution_count": 36,
     "metadata": {},
     "output_type": "execute_result"
    },
    {
     "data": {
      "text/plain": [
       "0"
      ]
     },
     "execution_count": 36,
     "metadata": {},
     "output_type": "execute_result"
    },
    {
     "name": "stdout",
     "output_type": "stream",
     "text": [
      "image_14416.tif\n",
      "pad_area_14416.shp\n",
      "D:\\lakemapping\\2_dataset\\sample747\\shp\\output1\\pad_area_14416.shp\n"
     ]
    },
    {
     "data": {
      "text/plain": [
       "0"
      ]
     },
     "execution_count": 36,
     "metadata": {},
     "output_type": "execute_result"
    },
    {
     "data": {
      "text/plain": [
       "0"
      ]
     },
     "execution_count": 36,
     "metadata": {},
     "output_type": "execute_result"
    },
    {
     "data": {
      "text/plain": [
       "0"
      ]
     },
     "execution_count": 36,
     "metadata": {},
     "output_type": "execute_result"
    },
    {
     "name": "stdout",
     "output_type": "stream",
     "text": [
      "image_14500.tif\n",
      "pad_area_14500.shp\n",
      "D:\\lakemapping\\2_dataset\\sample747\\shp\\output1\\pad_area_14500.shp\n"
     ]
    },
    {
     "data": {
      "text/plain": [
       "0"
      ]
     },
     "execution_count": 36,
     "metadata": {},
     "output_type": "execute_result"
    },
    {
     "data": {
      "text/plain": [
       "0"
      ]
     },
     "execution_count": 36,
     "metadata": {},
     "output_type": "execute_result"
    },
    {
     "data": {
      "text/plain": [
       "0"
      ]
     },
     "execution_count": 36,
     "metadata": {},
     "output_type": "execute_result"
    },
    {
     "name": "stdout",
     "output_type": "stream",
     "text": [
      "image_14541.tif\n",
      "pad_area_14541.shp\n",
      "D:\\lakemapping\\2_dataset\\sample747\\shp\\output1\\pad_area_14541.shp\n"
     ]
    },
    {
     "data": {
      "text/plain": [
       "0"
      ]
     },
     "execution_count": 36,
     "metadata": {},
     "output_type": "execute_result"
    },
    {
     "data": {
      "text/plain": [
       "0"
      ]
     },
     "execution_count": 36,
     "metadata": {},
     "output_type": "execute_result"
    },
    {
     "data": {
      "text/plain": [
       "0"
      ]
     },
     "execution_count": 36,
     "metadata": {},
     "output_type": "execute_result"
    },
    {
     "name": "stdout",
     "output_type": "stream",
     "text": [
      "image_14557.tif\n",
      "pad_area_14557.shp\n",
      "D:\\lakemapping\\2_dataset\\sample747\\shp\\output1\\pad_area_14557.shp\n"
     ]
    },
    {
     "data": {
      "text/plain": [
       "0"
      ]
     },
     "execution_count": 36,
     "metadata": {},
     "output_type": "execute_result"
    },
    {
     "data": {
      "text/plain": [
       "0"
      ]
     },
     "execution_count": 36,
     "metadata": {},
     "output_type": "execute_result"
    },
    {
     "data": {
      "text/plain": [
       "0"
      ]
     },
     "execution_count": 36,
     "metadata": {},
     "output_type": "execute_result"
    },
    {
     "name": "stdout",
     "output_type": "stream",
     "text": [
      "image_14583.tif\n",
      "pad_area_14583.shp\n",
      "D:\\lakemapping\\2_dataset\\sample747\\shp\\output1\\pad_area_14583.shp\n"
     ]
    },
    {
     "data": {
      "text/plain": [
       "0"
      ]
     },
     "execution_count": 36,
     "metadata": {},
     "output_type": "execute_result"
    },
    {
     "data": {
      "text/plain": [
       "0"
      ]
     },
     "execution_count": 36,
     "metadata": {},
     "output_type": "execute_result"
    },
    {
     "data": {
      "text/plain": [
       "0"
      ]
     },
     "execution_count": 36,
     "metadata": {},
     "output_type": "execute_result"
    },
    {
     "name": "stdout",
     "output_type": "stream",
     "text": [
      "image_1460.tif\n",
      "pad_area_1460.shp\n",
      "D:\\lakemapping\\2_dataset\\sample747\\shp\\output1\\pad_area_1460.shp\n"
     ]
    },
    {
     "data": {
      "text/plain": [
       "0"
      ]
     },
     "execution_count": 36,
     "metadata": {},
     "output_type": "execute_result"
    },
    {
     "data": {
      "text/plain": [
       "0"
      ]
     },
     "execution_count": 36,
     "metadata": {},
     "output_type": "execute_result"
    },
    {
     "data": {
      "text/plain": [
       "0"
      ]
     },
     "execution_count": 36,
     "metadata": {},
     "output_type": "execute_result"
    },
    {
     "name": "stdout",
     "output_type": "stream",
     "text": [
      "image_14600.tif\n",
      "pad_area_14600.shp\n",
      "D:\\lakemapping\\2_dataset\\sample747\\shp\\output1\\pad_area_14600.shp\n"
     ]
    },
    {
     "data": {
      "text/plain": [
       "0"
      ]
     },
     "execution_count": 36,
     "metadata": {},
     "output_type": "execute_result"
    },
    {
     "data": {
      "text/plain": [
       "0"
      ]
     },
     "execution_count": 36,
     "metadata": {},
     "output_type": "execute_result"
    },
    {
     "data": {
      "text/plain": [
       "0"
      ]
     },
     "execution_count": 36,
     "metadata": {},
     "output_type": "execute_result"
    },
    {
     "name": "stdout",
     "output_type": "stream",
     "text": [
      "image_14624_1.tif\n",
      "pad_area_14624_1.shp\n",
      "D:\\lakemapping\\2_dataset\\sample747\\shp\\output1\\pad_area_14624_1.shp\n"
     ]
    },
    {
     "data": {
      "text/plain": [
       "0"
      ]
     },
     "execution_count": 36,
     "metadata": {},
     "output_type": "execute_result"
    },
    {
     "data": {
      "text/plain": [
       "0"
      ]
     },
     "execution_count": 36,
     "metadata": {},
     "output_type": "execute_result"
    },
    {
     "data": {
      "text/plain": [
       "0"
      ]
     },
     "execution_count": 36,
     "metadata": {},
     "output_type": "execute_result"
    },
    {
     "name": "stdout",
     "output_type": "stream",
     "text": [
      "image_14624_2.tif\n",
      "pad_area_14624_2.shp\n",
      "D:\\lakemapping\\2_dataset\\sample747\\shp\\output1\\pad_area_14624_2.shp\n"
     ]
    },
    {
     "data": {
      "text/plain": [
       "0"
      ]
     },
     "execution_count": 36,
     "metadata": {},
     "output_type": "execute_result"
    },
    {
     "data": {
      "text/plain": [
       "0"
      ]
     },
     "execution_count": 36,
     "metadata": {},
     "output_type": "execute_result"
    },
    {
     "data": {
      "text/plain": [
       "0"
      ]
     },
     "execution_count": 36,
     "metadata": {},
     "output_type": "execute_result"
    },
    {
     "name": "stdout",
     "output_type": "stream",
     "text": [
      "image_14624_3.tif\n",
      "pad_area_14624_3.shp\n",
      "D:\\lakemapping\\2_dataset\\sample747\\shp\\output1\\pad_area_14624_3.shp\n"
     ]
    },
    {
     "data": {
      "text/plain": [
       "0"
      ]
     },
     "execution_count": 36,
     "metadata": {},
     "output_type": "execute_result"
    },
    {
     "data": {
      "text/plain": [
       "0"
      ]
     },
     "execution_count": 36,
     "metadata": {},
     "output_type": "execute_result"
    },
    {
     "data": {
      "text/plain": [
       "0"
      ]
     },
     "execution_count": 36,
     "metadata": {},
     "output_type": "execute_result"
    },
    {
     "name": "stdout",
     "output_type": "stream",
     "text": [
      "image_14624_4.tif\n",
      "pad_area_14624_4.shp\n",
      "D:\\lakemapping\\2_dataset\\sample747\\shp\\output1\\pad_area_14624_4.shp\n"
     ]
    },
    {
     "data": {
      "text/plain": [
       "0"
      ]
     },
     "execution_count": 36,
     "metadata": {},
     "output_type": "execute_result"
    },
    {
     "data": {
      "text/plain": [
       "0"
      ]
     },
     "execution_count": 36,
     "metadata": {},
     "output_type": "execute_result"
    },
    {
     "data": {
      "text/plain": [
       "0"
      ]
     },
     "execution_count": 36,
     "metadata": {},
     "output_type": "execute_result"
    },
    {
     "name": "stdout",
     "output_type": "stream",
     "text": [
      "image_14674.tif\n",
      "pad_area_14674.shp\n",
      "D:\\lakemapping\\2_dataset\\sample747\\shp\\output1\\pad_area_14674.shp\n"
     ]
    },
    {
     "data": {
      "text/plain": [
       "0"
      ]
     },
     "execution_count": 36,
     "metadata": {},
     "output_type": "execute_result"
    },
    {
     "data": {
      "text/plain": [
       "0"
      ]
     },
     "execution_count": 36,
     "metadata": {},
     "output_type": "execute_result"
    },
    {
     "data": {
      "text/plain": [
       "0"
      ]
     },
     "execution_count": 36,
     "metadata": {},
     "output_type": "execute_result"
    },
    {
     "name": "stdout",
     "output_type": "stream",
     "text": [
      "image_14682.tif\n",
      "pad_area_14682.shp\n",
      "D:\\lakemapping\\2_dataset\\sample747\\shp\\output1\\pad_area_14682.shp\n"
     ]
    },
    {
     "data": {
      "text/plain": [
       "0"
      ]
     },
     "execution_count": 36,
     "metadata": {},
     "output_type": "execute_result"
    },
    {
     "data": {
      "text/plain": [
       "0"
      ]
     },
     "execution_count": 36,
     "metadata": {},
     "output_type": "execute_result"
    },
    {
     "data": {
      "text/plain": [
       "0"
      ]
     },
     "execution_count": 36,
     "metadata": {},
     "output_type": "execute_result"
    },
    {
     "name": "stdout",
     "output_type": "stream",
     "text": [
      "image_14698.tif\n",
      "pad_area_14698.shp\n",
      "D:\\lakemapping\\2_dataset\\sample747\\shp\\output1\\pad_area_14698.shp\n"
     ]
    },
    {
     "data": {
      "text/plain": [
       "0"
      ]
     },
     "execution_count": 36,
     "metadata": {},
     "output_type": "execute_result"
    },
    {
     "data": {
      "text/plain": [
       "0"
      ]
     },
     "execution_count": 36,
     "metadata": {},
     "output_type": "execute_result"
    },
    {
     "data": {
      "text/plain": [
       "0"
      ]
     },
     "execution_count": 36,
     "metadata": {},
     "output_type": "execute_result"
    },
    {
     "name": "stdout",
     "output_type": "stream",
     "text": [
      "image_149.tif\n",
      "pad_area_149.shp\n",
      "D:\\lakemapping\\2_dataset\\sample747\\shp\\output1\\pad_area_149.shp\n"
     ]
    },
    {
     "data": {
      "text/plain": [
       "0"
      ]
     },
     "execution_count": 36,
     "metadata": {},
     "output_type": "execute_result"
    },
    {
     "data": {
      "text/plain": [
       "0"
      ]
     },
     "execution_count": 36,
     "metadata": {},
     "output_type": "execute_result"
    },
    {
     "data": {
      "text/plain": [
       "0"
      ]
     },
     "execution_count": 36,
     "metadata": {},
     "output_type": "execute_result"
    },
    {
     "name": "stdout",
     "output_type": "stream",
     "text": [
      "image_15054.tif\n",
      "pad_area_15054.shp\n",
      "D:\\lakemapping\\2_dataset\\sample747\\shp\\output1\\pad_area_15054.shp\n"
     ]
    },
    {
     "data": {
      "text/plain": [
       "0"
      ]
     },
     "execution_count": 36,
     "metadata": {},
     "output_type": "execute_result"
    },
    {
     "data": {
      "text/plain": [
       "0"
      ]
     },
     "execution_count": 36,
     "metadata": {},
     "output_type": "execute_result"
    },
    {
     "data": {
      "text/plain": [
       "0"
      ]
     },
     "execution_count": 36,
     "metadata": {},
     "output_type": "execute_result"
    },
    {
     "name": "stdout",
     "output_type": "stream",
     "text": [
      "image_15277.tif\n",
      "pad_area_15277.shp\n",
      "D:\\lakemapping\\2_dataset\\sample747\\shp\\output1\\pad_area_15277.shp\n"
     ]
    },
    {
     "data": {
      "text/plain": [
       "0"
      ]
     },
     "execution_count": 36,
     "metadata": {},
     "output_type": "execute_result"
    },
    {
     "data": {
      "text/plain": [
       "0"
      ]
     },
     "execution_count": 36,
     "metadata": {},
     "output_type": "execute_result"
    },
    {
     "data": {
      "text/plain": [
       "0"
      ]
     },
     "execution_count": 36,
     "metadata": {},
     "output_type": "execute_result"
    },
    {
     "name": "stdout",
     "output_type": "stream",
     "text": [
      "image_15346.tif\n",
      "pad_area_15346.shp\n",
      "D:\\lakemapping\\2_dataset\\sample747\\shp\\output1\\pad_area_15346.shp\n"
     ]
    },
    {
     "data": {
      "text/plain": [
       "0"
      ]
     },
     "execution_count": 36,
     "metadata": {},
     "output_type": "execute_result"
    },
    {
     "data": {
      "text/plain": [
       "0"
      ]
     },
     "execution_count": 36,
     "metadata": {},
     "output_type": "execute_result"
    },
    {
     "data": {
      "text/plain": [
       "0"
      ]
     },
     "execution_count": 36,
     "metadata": {},
     "output_type": "execute_result"
    },
    {
     "name": "stdout",
     "output_type": "stream",
     "text": [
      "image_15355.tif\n",
      "pad_area_15355.shp\n",
      "D:\\lakemapping\\2_dataset\\sample747\\shp\\output1\\pad_area_15355.shp\n"
     ]
    },
    {
     "data": {
      "text/plain": [
       "0"
      ]
     },
     "execution_count": 36,
     "metadata": {},
     "output_type": "execute_result"
    },
    {
     "data": {
      "text/plain": [
       "0"
      ]
     },
     "execution_count": 36,
     "metadata": {},
     "output_type": "execute_result"
    },
    {
     "data": {
      "text/plain": [
       "0"
      ]
     },
     "execution_count": 36,
     "metadata": {},
     "output_type": "execute_result"
    },
    {
     "name": "stdout",
     "output_type": "stream",
     "text": [
      "image_1538.tif\n",
      "pad_area_1538.shp\n",
      "D:\\lakemapping\\2_dataset\\sample747\\shp\\output1\\pad_area_1538.shp\n"
     ]
    },
    {
     "data": {
      "text/plain": [
       "0"
      ]
     },
     "execution_count": 36,
     "metadata": {},
     "output_type": "execute_result"
    },
    {
     "data": {
      "text/plain": [
       "0"
      ]
     },
     "execution_count": 36,
     "metadata": {},
     "output_type": "execute_result"
    },
    {
     "data": {
      "text/plain": [
       "0"
      ]
     },
     "execution_count": 36,
     "metadata": {},
     "output_type": "execute_result"
    },
    {
     "name": "stdout",
     "output_type": "stream",
     "text": [
      "image_15414.tif\n",
      "pad_area_15414.shp\n",
      "D:\\lakemapping\\2_dataset\\sample747\\shp\\output1\\pad_area_15414.shp\n"
     ]
    },
    {
     "data": {
      "text/plain": [
       "0"
      ]
     },
     "execution_count": 36,
     "metadata": {},
     "output_type": "execute_result"
    },
    {
     "data": {
      "text/plain": [
       "0"
      ]
     },
     "execution_count": 36,
     "metadata": {},
     "output_type": "execute_result"
    },
    {
     "data": {
      "text/plain": [
       "0"
      ]
     },
     "execution_count": 36,
     "metadata": {},
     "output_type": "execute_result"
    },
    {
     "name": "stdout",
     "output_type": "stream",
     "text": [
      "image_15419.tif\n",
      "pad_area_15419.shp\n",
      "D:\\lakemapping\\2_dataset\\sample747\\shp\\output1\\pad_area_15419.shp\n"
     ]
    },
    {
     "data": {
      "text/plain": [
       "0"
      ]
     },
     "execution_count": 36,
     "metadata": {},
     "output_type": "execute_result"
    },
    {
     "data": {
      "text/plain": [
       "0"
      ]
     },
     "execution_count": 36,
     "metadata": {},
     "output_type": "execute_result"
    },
    {
     "data": {
      "text/plain": [
       "0"
      ]
     },
     "execution_count": 36,
     "metadata": {},
     "output_type": "execute_result"
    },
    {
     "name": "stdout",
     "output_type": "stream",
     "text": [
      "image_15457.tif\n",
      "pad_area_15457.shp\n",
      "D:\\lakemapping\\2_dataset\\sample747\\shp\\output1\\pad_area_15457.shp\n"
     ]
    },
    {
     "data": {
      "text/plain": [
       "0"
      ]
     },
     "execution_count": 36,
     "metadata": {},
     "output_type": "execute_result"
    },
    {
     "data": {
      "text/plain": [
       "0"
      ]
     },
     "execution_count": 36,
     "metadata": {},
     "output_type": "execute_result"
    },
    {
     "data": {
      "text/plain": [
       "0"
      ]
     },
     "execution_count": 36,
     "metadata": {},
     "output_type": "execute_result"
    },
    {
     "name": "stdout",
     "output_type": "stream",
     "text": [
      "image_15496.tif\n",
      "pad_area_15496.shp\n",
      "D:\\lakemapping\\2_dataset\\sample747\\shp\\output1\\pad_area_15496.shp\n"
     ]
    },
    {
     "data": {
      "text/plain": [
       "0"
      ]
     },
     "execution_count": 36,
     "metadata": {},
     "output_type": "execute_result"
    },
    {
     "data": {
      "text/plain": [
       "0"
      ]
     },
     "execution_count": 36,
     "metadata": {},
     "output_type": "execute_result"
    },
    {
     "data": {
      "text/plain": [
       "0"
      ]
     },
     "execution_count": 36,
     "metadata": {},
     "output_type": "execute_result"
    },
    {
     "name": "stdout",
     "output_type": "stream",
     "text": [
      "image_15536.tif\n",
      "pad_area_15536.shp\n",
      "D:\\lakemapping\\2_dataset\\sample747\\shp\\output1\\pad_area_15536.shp\n"
     ]
    },
    {
     "data": {
      "text/plain": [
       "0"
      ]
     },
     "execution_count": 36,
     "metadata": {},
     "output_type": "execute_result"
    },
    {
     "data": {
      "text/plain": [
       "0"
      ]
     },
     "execution_count": 36,
     "metadata": {},
     "output_type": "execute_result"
    },
    {
     "data": {
      "text/plain": [
       "0"
      ]
     },
     "execution_count": 36,
     "metadata": {},
     "output_type": "execute_result"
    },
    {
     "name": "stdout",
     "output_type": "stream",
     "text": [
      "image_15573.tif\n",
      "pad_area_15573.shp\n",
      "D:\\lakemapping\\2_dataset\\sample747\\shp\\output1\\pad_area_15573.shp\n"
     ]
    },
    {
     "data": {
      "text/plain": [
       "0"
      ]
     },
     "execution_count": 36,
     "metadata": {},
     "output_type": "execute_result"
    },
    {
     "data": {
      "text/plain": [
       "0"
      ]
     },
     "execution_count": 36,
     "metadata": {},
     "output_type": "execute_result"
    },
    {
     "data": {
      "text/plain": [
       "0"
      ]
     },
     "execution_count": 36,
     "metadata": {},
     "output_type": "execute_result"
    },
    {
     "name": "stdout",
     "output_type": "stream",
     "text": [
      "image_15601.tif\n",
      "pad_area_15601.shp\n",
      "D:\\lakemapping\\2_dataset\\sample747\\shp\\output1\\pad_area_15601.shp\n"
     ]
    },
    {
     "data": {
      "text/plain": [
       "0"
      ]
     },
     "execution_count": 36,
     "metadata": {},
     "output_type": "execute_result"
    },
    {
     "data": {
      "text/plain": [
       "0"
      ]
     },
     "execution_count": 36,
     "metadata": {},
     "output_type": "execute_result"
    },
    {
     "data": {
      "text/plain": [
       "0"
      ]
     },
     "execution_count": 36,
     "metadata": {},
     "output_type": "execute_result"
    },
    {
     "name": "stdout",
     "output_type": "stream",
     "text": [
      "image_15663.tif\n",
      "pad_area_15663.shp\n",
      "D:\\lakemapping\\2_dataset\\sample747\\shp\\output1\\pad_area_15663.shp\n"
     ]
    },
    {
     "data": {
      "text/plain": [
       "0"
      ]
     },
     "execution_count": 36,
     "metadata": {},
     "output_type": "execute_result"
    },
    {
     "data": {
      "text/plain": [
       "0"
      ]
     },
     "execution_count": 36,
     "metadata": {},
     "output_type": "execute_result"
    },
    {
     "data": {
      "text/plain": [
       "0"
      ]
     },
     "execution_count": 36,
     "metadata": {},
     "output_type": "execute_result"
    },
    {
     "name": "stdout",
     "output_type": "stream",
     "text": [
      "image_15682.tif\n",
      "pad_area_15682.shp\n",
      "D:\\lakemapping\\2_dataset\\sample747\\shp\\output1\\pad_area_15682.shp\n"
     ]
    },
    {
     "data": {
      "text/plain": [
       "0"
      ]
     },
     "execution_count": 36,
     "metadata": {},
     "output_type": "execute_result"
    },
    {
     "data": {
      "text/plain": [
       "0"
      ]
     },
     "execution_count": 36,
     "metadata": {},
     "output_type": "execute_result"
    },
    {
     "data": {
      "text/plain": [
       "0"
      ]
     },
     "execution_count": 36,
     "metadata": {},
     "output_type": "execute_result"
    },
    {
     "name": "stdout",
     "output_type": "stream",
     "text": [
      "image_15721.tif\n",
      "pad_area_15721.shp\n",
      "D:\\lakemapping\\2_dataset\\sample747\\shp\\output1\\pad_area_15721.shp\n"
     ]
    },
    {
     "data": {
      "text/plain": [
       "0"
      ]
     },
     "execution_count": 36,
     "metadata": {},
     "output_type": "execute_result"
    },
    {
     "data": {
      "text/plain": [
       "0"
      ]
     },
     "execution_count": 36,
     "metadata": {},
     "output_type": "execute_result"
    },
    {
     "data": {
      "text/plain": [
       "0"
      ]
     },
     "execution_count": 36,
     "metadata": {},
     "output_type": "execute_result"
    },
    {
     "name": "stdout",
     "output_type": "stream",
     "text": [
      "image_15744.tif\n",
      "pad_area_15744.shp\n",
      "D:\\lakemapping\\2_dataset\\sample747\\shp\\output1\\pad_area_15744.shp\n"
     ]
    },
    {
     "data": {
      "text/plain": [
       "0"
      ]
     },
     "execution_count": 36,
     "metadata": {},
     "output_type": "execute_result"
    },
    {
     "data": {
      "text/plain": [
       "0"
      ]
     },
     "execution_count": 36,
     "metadata": {},
     "output_type": "execute_result"
    },
    {
     "data": {
      "text/plain": [
       "0"
      ]
     },
     "execution_count": 36,
     "metadata": {},
     "output_type": "execute_result"
    },
    {
     "name": "stdout",
     "output_type": "stream",
     "text": [
      "image_15769.tif\n",
      "pad_area_15769.shp\n",
      "D:\\lakemapping\\2_dataset\\sample747\\shp\\output1\\pad_area_15769.shp\n"
     ]
    },
    {
     "data": {
      "text/plain": [
       "0"
      ]
     },
     "execution_count": 36,
     "metadata": {},
     "output_type": "execute_result"
    },
    {
     "data": {
      "text/plain": [
       "0"
      ]
     },
     "execution_count": 36,
     "metadata": {},
     "output_type": "execute_result"
    },
    {
     "data": {
      "text/plain": [
       "0"
      ]
     },
     "execution_count": 36,
     "metadata": {},
     "output_type": "execute_result"
    },
    {
     "name": "stdout",
     "output_type": "stream",
     "text": [
      "image_15841.tif\n",
      "pad_area_15841.shp\n",
      "D:\\lakemapping\\2_dataset\\sample747\\shp\\output1\\pad_area_15841.shp\n"
     ]
    },
    {
     "data": {
      "text/plain": [
       "0"
      ]
     },
     "execution_count": 36,
     "metadata": {},
     "output_type": "execute_result"
    },
    {
     "data": {
      "text/plain": [
       "0"
      ]
     },
     "execution_count": 36,
     "metadata": {},
     "output_type": "execute_result"
    },
    {
     "data": {
      "text/plain": [
       "0"
      ]
     },
     "execution_count": 36,
     "metadata": {},
     "output_type": "execute_result"
    },
    {
     "name": "stdout",
     "output_type": "stream",
     "text": [
      "image_15864.tif\n",
      "pad_area_15864.shp\n",
      "D:\\lakemapping\\2_dataset\\sample747\\shp\\output1\\pad_area_15864.shp\n"
     ]
    },
    {
     "data": {
      "text/plain": [
       "0"
      ]
     },
     "execution_count": 36,
     "metadata": {},
     "output_type": "execute_result"
    },
    {
     "data": {
      "text/plain": [
       "0"
      ]
     },
     "execution_count": 36,
     "metadata": {},
     "output_type": "execute_result"
    },
    {
     "data": {
      "text/plain": [
       "0"
      ]
     },
     "execution_count": 36,
     "metadata": {},
     "output_type": "execute_result"
    },
    {
     "name": "stdout",
     "output_type": "stream",
     "text": [
      "image_16092.tif\n",
      "pad_area_16092.shp\n",
      "D:\\lakemapping\\2_dataset\\sample747\\shp\\output1\\pad_area_16092.shp\n"
     ]
    },
    {
     "data": {
      "text/plain": [
       "0"
      ]
     },
     "execution_count": 36,
     "metadata": {},
     "output_type": "execute_result"
    },
    {
     "data": {
      "text/plain": [
       "0"
      ]
     },
     "execution_count": 36,
     "metadata": {},
     "output_type": "execute_result"
    },
    {
     "data": {
      "text/plain": [
       "0"
      ]
     },
     "execution_count": 36,
     "metadata": {},
     "output_type": "execute_result"
    },
    {
     "name": "stdout",
     "output_type": "stream",
     "text": [
      "image_16142.tif\n",
      "pad_area_16142.shp\n",
      "D:\\lakemapping\\2_dataset\\sample747\\shp\\output1\\pad_area_16142.shp\n"
     ]
    },
    {
     "data": {
      "text/plain": [
       "0"
      ]
     },
     "execution_count": 36,
     "metadata": {},
     "output_type": "execute_result"
    },
    {
     "data": {
      "text/plain": [
       "0"
      ]
     },
     "execution_count": 36,
     "metadata": {},
     "output_type": "execute_result"
    },
    {
     "data": {
      "text/plain": [
       "0"
      ]
     },
     "execution_count": 36,
     "metadata": {},
     "output_type": "execute_result"
    },
    {
     "name": "stdout",
     "output_type": "stream",
     "text": [
      "image_16185.tif\n",
      "pad_area_16185.shp\n",
      "D:\\lakemapping\\2_dataset\\sample747\\shp\\output1\\pad_area_16185.shp\n"
     ]
    },
    {
     "data": {
      "text/plain": [
       "0"
      ]
     },
     "execution_count": 36,
     "metadata": {},
     "output_type": "execute_result"
    },
    {
     "data": {
      "text/plain": [
       "0"
      ]
     },
     "execution_count": 36,
     "metadata": {},
     "output_type": "execute_result"
    },
    {
     "data": {
      "text/plain": [
       "0"
      ]
     },
     "execution_count": 36,
     "metadata": {},
     "output_type": "execute_result"
    },
    {
     "name": "stdout",
     "output_type": "stream",
     "text": [
      "image_16222.tif\n",
      "pad_area_16222.shp\n",
      "D:\\lakemapping\\2_dataset\\sample747\\shp\\output1\\pad_area_16222.shp\n"
     ]
    },
    {
     "data": {
      "text/plain": [
       "0"
      ]
     },
     "execution_count": 36,
     "metadata": {},
     "output_type": "execute_result"
    },
    {
     "data": {
      "text/plain": [
       "0"
      ]
     },
     "execution_count": 36,
     "metadata": {},
     "output_type": "execute_result"
    },
    {
     "data": {
      "text/plain": [
       "0"
      ]
     },
     "execution_count": 36,
     "metadata": {},
     "output_type": "execute_result"
    },
    {
     "name": "stdout",
     "output_type": "stream",
     "text": [
      "image_16263.tif\n",
      "pad_area_16263.shp\n",
      "D:\\lakemapping\\2_dataset\\sample747\\shp\\output1\\pad_area_16263.shp\n"
     ]
    },
    {
     "data": {
      "text/plain": [
       "0"
      ]
     },
     "execution_count": 36,
     "metadata": {},
     "output_type": "execute_result"
    },
    {
     "data": {
      "text/plain": [
       "0"
      ]
     },
     "execution_count": 36,
     "metadata": {},
     "output_type": "execute_result"
    },
    {
     "data": {
      "text/plain": [
       "0"
      ]
     },
     "execution_count": 36,
     "metadata": {},
     "output_type": "execute_result"
    },
    {
     "name": "stdout",
     "output_type": "stream",
     "text": [
      "image_16280.tif\n",
      "pad_area_16280.shp\n",
      "D:\\lakemapping\\2_dataset\\sample747\\shp\\output1\\pad_area_16280.shp\n"
     ]
    },
    {
     "data": {
      "text/plain": [
       "0"
      ]
     },
     "execution_count": 36,
     "metadata": {},
     "output_type": "execute_result"
    },
    {
     "data": {
      "text/plain": [
       "0"
      ]
     },
     "execution_count": 36,
     "metadata": {},
     "output_type": "execute_result"
    },
    {
     "data": {
      "text/plain": [
       "0"
      ]
     },
     "execution_count": 36,
     "metadata": {},
     "output_type": "execute_result"
    },
    {
     "name": "stdout",
     "output_type": "stream",
     "text": [
      "image_1638.tif\n",
      "pad_area_1638.shp\n",
      "D:\\lakemapping\\2_dataset\\sample747\\shp\\output1\\pad_area_1638.shp\n"
     ]
    },
    {
     "data": {
      "text/plain": [
       "0"
      ]
     },
     "execution_count": 36,
     "metadata": {},
     "output_type": "execute_result"
    },
    {
     "data": {
      "text/plain": [
       "0"
      ]
     },
     "execution_count": 36,
     "metadata": {},
     "output_type": "execute_result"
    },
    {
     "data": {
      "text/plain": [
       "0"
      ]
     },
     "execution_count": 36,
     "metadata": {},
     "output_type": "execute_result"
    },
    {
     "name": "stdout",
     "output_type": "stream",
     "text": [
      "image_16445.tif\n",
      "pad_area_16445.shp\n",
      "D:\\lakemapping\\2_dataset\\sample747\\shp\\output1\\pad_area_16445.shp\n"
     ]
    },
    {
     "data": {
      "text/plain": [
       "0"
      ]
     },
     "execution_count": 36,
     "metadata": {},
     "output_type": "execute_result"
    },
    {
     "data": {
      "text/plain": [
       "0"
      ]
     },
     "execution_count": 36,
     "metadata": {},
     "output_type": "execute_result"
    },
    {
     "data": {
      "text/plain": [
       "0"
      ]
     },
     "execution_count": 36,
     "metadata": {},
     "output_type": "execute_result"
    },
    {
     "name": "stdout",
     "output_type": "stream",
     "text": [
      "image_16523.tif\n",
      "pad_area_16523.shp\n",
      "D:\\lakemapping\\2_dataset\\sample747\\shp\\output1\\pad_area_16523.shp\n"
     ]
    },
    {
     "data": {
      "text/plain": [
       "0"
      ]
     },
     "execution_count": 36,
     "metadata": {},
     "output_type": "execute_result"
    },
    {
     "data": {
      "text/plain": [
       "0"
      ]
     },
     "execution_count": 36,
     "metadata": {},
     "output_type": "execute_result"
    },
    {
     "data": {
      "text/plain": [
       "0"
      ]
     },
     "execution_count": 36,
     "metadata": {},
     "output_type": "execute_result"
    },
    {
     "name": "stdout",
     "output_type": "stream",
     "text": [
      "image_16548.tif\n",
      "pad_area_16548.shp\n",
      "D:\\lakemapping\\2_dataset\\sample747\\shp\\output1\\pad_area_16548.shp\n"
     ]
    },
    {
     "data": {
      "text/plain": [
       "0"
      ]
     },
     "execution_count": 36,
     "metadata": {},
     "output_type": "execute_result"
    },
    {
     "data": {
      "text/plain": [
       "0"
      ]
     },
     "execution_count": 36,
     "metadata": {},
     "output_type": "execute_result"
    },
    {
     "data": {
      "text/plain": [
       "0"
      ]
     },
     "execution_count": 36,
     "metadata": {},
     "output_type": "execute_result"
    },
    {
     "name": "stdout",
     "output_type": "stream",
     "text": [
      "image_16659.tif\n",
      "pad_area_16659.shp\n",
      "D:\\lakemapping\\2_dataset\\sample747\\shp\\output1\\pad_area_16659.shp\n"
     ]
    },
    {
     "data": {
      "text/plain": [
       "0"
      ]
     },
     "execution_count": 36,
     "metadata": {},
     "output_type": "execute_result"
    },
    {
     "data": {
      "text/plain": [
       "0"
      ]
     },
     "execution_count": 36,
     "metadata": {},
     "output_type": "execute_result"
    },
    {
     "data": {
      "text/plain": [
       "0"
      ]
     },
     "execution_count": 36,
     "metadata": {},
     "output_type": "execute_result"
    },
    {
     "name": "stdout",
     "output_type": "stream",
     "text": [
      "image_16703.tif\n",
      "pad_area_16703.shp\n",
      "D:\\lakemapping\\2_dataset\\sample747\\shp\\output1\\pad_area_16703.shp\n"
     ]
    },
    {
     "data": {
      "text/plain": [
       "0"
      ]
     },
     "execution_count": 36,
     "metadata": {},
     "output_type": "execute_result"
    },
    {
     "data": {
      "text/plain": [
       "0"
      ]
     },
     "execution_count": 36,
     "metadata": {},
     "output_type": "execute_result"
    },
    {
     "data": {
      "text/plain": [
       "0"
      ]
     },
     "execution_count": 36,
     "metadata": {},
     "output_type": "execute_result"
    },
    {
     "name": "stdout",
     "output_type": "stream",
     "text": [
      "image_16761.tif\n",
      "pad_area_16761.shp\n",
      "D:\\lakemapping\\2_dataset\\sample747\\shp\\output1\\pad_area_16761.shp\n"
     ]
    },
    {
     "data": {
      "text/plain": [
       "0"
      ]
     },
     "execution_count": 36,
     "metadata": {},
     "output_type": "execute_result"
    },
    {
     "data": {
      "text/plain": [
       "0"
      ]
     },
     "execution_count": 36,
     "metadata": {},
     "output_type": "execute_result"
    },
    {
     "data": {
      "text/plain": [
       "0"
      ]
     },
     "execution_count": 36,
     "metadata": {},
     "output_type": "execute_result"
    },
    {
     "name": "stdout",
     "output_type": "stream",
     "text": [
      "image_16818.tif\n",
      "pad_area_16818.shp\n",
      "D:\\lakemapping\\2_dataset\\sample747\\shp\\output1\\pad_area_16818.shp\n"
     ]
    },
    {
     "data": {
      "text/plain": [
       "0"
      ]
     },
     "execution_count": 36,
     "metadata": {},
     "output_type": "execute_result"
    },
    {
     "data": {
      "text/plain": [
       "0"
      ]
     },
     "execution_count": 36,
     "metadata": {},
     "output_type": "execute_result"
    },
    {
     "data": {
      "text/plain": [
       "0"
      ]
     },
     "execution_count": 36,
     "metadata": {},
     "output_type": "execute_result"
    },
    {
     "name": "stdout",
     "output_type": "stream",
     "text": [
      "image_16866.tif\n",
      "pad_area_16866.shp\n",
      "D:\\lakemapping\\2_dataset\\sample747\\shp\\output1\\pad_area_16866.shp\n"
     ]
    },
    {
     "data": {
      "text/plain": [
       "0"
      ]
     },
     "execution_count": 36,
     "metadata": {},
     "output_type": "execute_result"
    },
    {
     "data": {
      "text/plain": [
       "0"
      ]
     },
     "execution_count": 36,
     "metadata": {},
     "output_type": "execute_result"
    },
    {
     "data": {
      "text/plain": [
       "0"
      ]
     },
     "execution_count": 36,
     "metadata": {},
     "output_type": "execute_result"
    },
    {
     "name": "stdout",
     "output_type": "stream",
     "text": [
      "image_16953.tif\n",
      "pad_area_16953.shp\n",
      "D:\\lakemapping\\2_dataset\\sample747\\shp\\output1\\pad_area_16953.shp\n"
     ]
    },
    {
     "data": {
      "text/plain": [
       "0"
      ]
     },
     "execution_count": 36,
     "metadata": {},
     "output_type": "execute_result"
    },
    {
     "data": {
      "text/plain": [
       "0"
      ]
     },
     "execution_count": 36,
     "metadata": {},
     "output_type": "execute_result"
    },
    {
     "data": {
      "text/plain": [
       "0"
      ]
     },
     "execution_count": 36,
     "metadata": {},
     "output_type": "execute_result"
    },
    {
     "name": "stdout",
     "output_type": "stream",
     "text": [
      "image_16998.tif\n",
      "pad_area_16998.shp\n",
      "D:\\lakemapping\\2_dataset\\sample747\\shp\\output1\\pad_area_16998.shp\n"
     ]
    },
    {
     "data": {
      "text/plain": [
       "0"
      ]
     },
     "execution_count": 36,
     "metadata": {},
     "output_type": "execute_result"
    },
    {
     "data": {
      "text/plain": [
       "0"
      ]
     },
     "execution_count": 36,
     "metadata": {},
     "output_type": "execute_result"
    },
    {
     "data": {
      "text/plain": [
       "0"
      ]
     },
     "execution_count": 36,
     "metadata": {},
     "output_type": "execute_result"
    },
    {
     "name": "stdout",
     "output_type": "stream",
     "text": [
      "image_17233.tif\n",
      "pad_area_17233.shp\n",
      "D:\\lakemapping\\2_dataset\\sample747\\shp\\output1\\pad_area_17233.shp\n"
     ]
    },
    {
     "data": {
      "text/plain": [
       "0"
      ]
     },
     "execution_count": 36,
     "metadata": {},
     "output_type": "execute_result"
    },
    {
     "data": {
      "text/plain": [
       "0"
      ]
     },
     "execution_count": 36,
     "metadata": {},
     "output_type": "execute_result"
    },
    {
     "data": {
      "text/plain": [
       "0"
      ]
     },
     "execution_count": 36,
     "metadata": {},
     "output_type": "execute_result"
    },
    {
     "name": "stdout",
     "output_type": "stream",
     "text": [
      "image_17248.tif\n",
      "pad_area_17248.shp\n",
      "D:\\lakemapping\\2_dataset\\sample747\\shp\\output1\\pad_area_17248.shp\n"
     ]
    },
    {
     "data": {
      "text/plain": [
       "0"
      ]
     },
     "execution_count": 36,
     "metadata": {},
     "output_type": "execute_result"
    },
    {
     "data": {
      "text/plain": [
       "0"
      ]
     },
     "execution_count": 36,
     "metadata": {},
     "output_type": "execute_result"
    },
    {
     "data": {
      "text/plain": [
       "0"
      ]
     },
     "execution_count": 36,
     "metadata": {},
     "output_type": "execute_result"
    },
    {
     "name": "stdout",
     "output_type": "stream",
     "text": [
      "image_17302.tif\n",
      "pad_area_17302.shp\n",
      "D:\\lakemapping\\2_dataset\\sample747\\shp\\output1\\pad_area_17302.shp\n"
     ]
    },
    {
     "data": {
      "text/plain": [
       "0"
      ]
     },
     "execution_count": 36,
     "metadata": {},
     "output_type": "execute_result"
    },
    {
     "data": {
      "text/plain": [
       "0"
      ]
     },
     "execution_count": 36,
     "metadata": {},
     "output_type": "execute_result"
    },
    {
     "data": {
      "text/plain": [
       "0"
      ]
     },
     "execution_count": 36,
     "metadata": {},
     "output_type": "execute_result"
    },
    {
     "name": "stdout",
     "output_type": "stream",
     "text": [
      "image_17427.tif\n",
      "pad_area_17427.shp\n",
      "D:\\lakemapping\\2_dataset\\sample747\\shp\\output1\\pad_area_17427.shp\n"
     ]
    },
    {
     "data": {
      "text/plain": [
       "0"
      ]
     },
     "execution_count": 36,
     "metadata": {},
     "output_type": "execute_result"
    },
    {
     "data": {
      "text/plain": [
       "0"
      ]
     },
     "execution_count": 36,
     "metadata": {},
     "output_type": "execute_result"
    },
    {
     "data": {
      "text/plain": [
       "0"
      ]
     },
     "execution_count": 36,
     "metadata": {},
     "output_type": "execute_result"
    },
    {
     "name": "stdout",
     "output_type": "stream",
     "text": [
      "image_17541.tif\n",
      "pad_area_17541.shp\n",
      "D:\\lakemapping\\2_dataset\\sample747\\shp\\output1\\pad_area_17541.shp\n"
     ]
    },
    {
     "data": {
      "text/plain": [
       "0"
      ]
     },
     "execution_count": 36,
     "metadata": {},
     "output_type": "execute_result"
    },
    {
     "data": {
      "text/plain": [
       "0"
      ]
     },
     "execution_count": 36,
     "metadata": {},
     "output_type": "execute_result"
    },
    {
     "data": {
      "text/plain": [
       "0"
      ]
     },
     "execution_count": 36,
     "metadata": {},
     "output_type": "execute_result"
    },
    {
     "name": "stdout",
     "output_type": "stream",
     "text": [
      "image_17592.tif\n",
      "pad_area_17592.shp\n",
      "D:\\lakemapping\\2_dataset\\sample747\\shp\\output1\\pad_area_17592.shp\n"
     ]
    },
    {
     "data": {
      "text/plain": [
       "0"
      ]
     },
     "execution_count": 36,
     "metadata": {},
     "output_type": "execute_result"
    },
    {
     "data": {
      "text/plain": [
       "0"
      ]
     },
     "execution_count": 36,
     "metadata": {},
     "output_type": "execute_result"
    },
    {
     "data": {
      "text/plain": [
       "0"
      ]
     },
     "execution_count": 36,
     "metadata": {},
     "output_type": "execute_result"
    },
    {
     "name": "stdout",
     "output_type": "stream",
     "text": [
      "image_17596.tif\n",
      "pad_area_17596.shp\n",
      "D:\\lakemapping\\2_dataset\\sample747\\shp\\output1\\pad_area_17596.shp\n"
     ]
    },
    {
     "data": {
      "text/plain": [
       "0"
      ]
     },
     "execution_count": 36,
     "metadata": {},
     "output_type": "execute_result"
    },
    {
     "data": {
      "text/plain": [
       "0"
      ]
     },
     "execution_count": 36,
     "metadata": {},
     "output_type": "execute_result"
    },
    {
     "data": {
      "text/plain": [
       "0"
      ]
     },
     "execution_count": 36,
     "metadata": {},
     "output_type": "execute_result"
    },
    {
     "name": "stdout",
     "output_type": "stream",
     "text": [
      "image_17622.tif\n",
      "pad_area_17622.shp\n",
      "D:\\lakemapping\\2_dataset\\sample747\\shp\\output1\\pad_area_17622.shp\n"
     ]
    },
    {
     "data": {
      "text/plain": [
       "0"
      ]
     },
     "execution_count": 36,
     "metadata": {},
     "output_type": "execute_result"
    },
    {
     "data": {
      "text/plain": [
       "0"
      ]
     },
     "execution_count": 36,
     "metadata": {},
     "output_type": "execute_result"
    },
    {
     "data": {
      "text/plain": [
       "0"
      ]
     },
     "execution_count": 36,
     "metadata": {},
     "output_type": "execute_result"
    },
    {
     "name": "stdout",
     "output_type": "stream",
     "text": [
      "image_1773.tif\n",
      "pad_area_1773.shp\n",
      "D:\\lakemapping\\2_dataset\\sample747\\shp\\output1\\pad_area_1773.shp\n"
     ]
    },
    {
     "data": {
      "text/plain": [
       "0"
      ]
     },
     "execution_count": 36,
     "metadata": {},
     "output_type": "execute_result"
    },
    {
     "data": {
      "text/plain": [
       "0"
      ]
     },
     "execution_count": 36,
     "metadata": {},
     "output_type": "execute_result"
    },
    {
     "data": {
      "text/plain": [
       "0"
      ]
     },
     "execution_count": 36,
     "metadata": {},
     "output_type": "execute_result"
    },
    {
     "name": "stdout",
     "output_type": "stream",
     "text": [
      "image_1786.tif\n",
      "pad_area_1786.shp\n",
      "D:\\lakemapping\\2_dataset\\sample747\\shp\\output1\\pad_area_1786.shp\n"
     ]
    },
    {
     "data": {
      "text/plain": [
       "0"
      ]
     },
     "execution_count": 36,
     "metadata": {},
     "output_type": "execute_result"
    },
    {
     "data": {
      "text/plain": [
       "0"
      ]
     },
     "execution_count": 36,
     "metadata": {},
     "output_type": "execute_result"
    },
    {
     "data": {
      "text/plain": [
       "0"
      ]
     },
     "execution_count": 36,
     "metadata": {},
     "output_type": "execute_result"
    },
    {
     "name": "stdout",
     "output_type": "stream",
     "text": [
      "image_1800.tif\n",
      "pad_area_1800.shp\n",
      "D:\\lakemapping\\2_dataset\\sample747\\shp\\output1\\pad_area_1800.shp\n"
     ]
    },
    {
     "data": {
      "text/plain": [
       "0"
      ]
     },
     "execution_count": 36,
     "metadata": {},
     "output_type": "execute_result"
    },
    {
     "data": {
      "text/plain": [
       "0"
      ]
     },
     "execution_count": 36,
     "metadata": {},
     "output_type": "execute_result"
    },
    {
     "data": {
      "text/plain": [
       "0"
      ]
     },
     "execution_count": 36,
     "metadata": {},
     "output_type": "execute_result"
    },
    {
     "name": "stdout",
     "output_type": "stream",
     "text": [
      "image_18027.tif\n",
      "pad_area_18027.shp\n",
      "D:\\lakemapping\\2_dataset\\sample747\\shp\\output1\\pad_area_18027.shp\n"
     ]
    },
    {
     "data": {
      "text/plain": [
       "0"
      ]
     },
     "execution_count": 36,
     "metadata": {},
     "output_type": "execute_result"
    },
    {
     "data": {
      "text/plain": [
       "0"
      ]
     },
     "execution_count": 36,
     "metadata": {},
     "output_type": "execute_result"
    },
    {
     "data": {
      "text/plain": [
       "0"
      ]
     },
     "execution_count": 36,
     "metadata": {},
     "output_type": "execute_result"
    },
    {
     "name": "stdout",
     "output_type": "stream",
     "text": [
      "image_18223.tif\n",
      "pad_area_18223.shp\n",
      "D:\\lakemapping\\2_dataset\\sample747\\shp\\output1\\pad_area_18223.shp\n"
     ]
    },
    {
     "data": {
      "text/plain": [
       "0"
      ]
     },
     "execution_count": 36,
     "metadata": {},
     "output_type": "execute_result"
    },
    {
     "data": {
      "text/plain": [
       "0"
      ]
     },
     "execution_count": 36,
     "metadata": {},
     "output_type": "execute_result"
    },
    {
     "data": {
      "text/plain": [
       "0"
      ]
     },
     "execution_count": 36,
     "metadata": {},
     "output_type": "execute_result"
    },
    {
     "name": "stdout",
     "output_type": "stream",
     "text": [
      "image_18505.tif\n",
      "pad_area_18505.shp\n",
      "D:\\lakemapping\\2_dataset\\sample747\\shp\\output1\\pad_area_18505.shp\n"
     ]
    },
    {
     "data": {
      "text/plain": [
       "0"
      ]
     },
     "execution_count": 36,
     "metadata": {},
     "output_type": "execute_result"
    },
    {
     "data": {
      "text/plain": [
       "0"
      ]
     },
     "execution_count": 36,
     "metadata": {},
     "output_type": "execute_result"
    },
    {
     "data": {
      "text/plain": [
       "0"
      ]
     },
     "execution_count": 36,
     "metadata": {},
     "output_type": "execute_result"
    },
    {
     "name": "stdout",
     "output_type": "stream",
     "text": [
      "image_1858.tif\n",
      "pad_area_1858.shp\n",
      "D:\\lakemapping\\2_dataset\\sample747\\shp\\output1\\pad_area_1858.shp\n"
     ]
    },
    {
     "data": {
      "text/plain": [
       "0"
      ]
     },
     "execution_count": 36,
     "metadata": {},
     "output_type": "execute_result"
    },
    {
     "data": {
      "text/plain": [
       "0"
      ]
     },
     "execution_count": 36,
     "metadata": {},
     "output_type": "execute_result"
    },
    {
     "data": {
      "text/plain": [
       "0"
      ]
     },
     "execution_count": 36,
     "metadata": {},
     "output_type": "execute_result"
    },
    {
     "name": "stdout",
     "output_type": "stream",
     "text": [
      "image_18747.tif\n",
      "pad_area_18747.shp\n",
      "D:\\lakemapping\\2_dataset\\sample747\\shp\\output1\\pad_area_18747.shp\n"
     ]
    },
    {
     "data": {
      "text/plain": [
       "0"
      ]
     },
     "execution_count": 36,
     "metadata": {},
     "output_type": "execute_result"
    },
    {
     "data": {
      "text/plain": [
       "0"
      ]
     },
     "execution_count": 36,
     "metadata": {},
     "output_type": "execute_result"
    },
    {
     "data": {
      "text/plain": [
       "0"
      ]
     },
     "execution_count": 36,
     "metadata": {},
     "output_type": "execute_result"
    },
    {
     "name": "stdout",
     "output_type": "stream",
     "text": [
      "image_1978.tif\n",
      "pad_area_1978.shp\n",
      "D:\\lakemapping\\2_dataset\\sample747\\shp\\output1\\pad_area_1978.shp\n"
     ]
    },
    {
     "data": {
      "text/plain": [
       "0"
      ]
     },
     "execution_count": 36,
     "metadata": {},
     "output_type": "execute_result"
    },
    {
     "data": {
      "text/plain": [
       "0"
      ]
     },
     "execution_count": 36,
     "metadata": {},
     "output_type": "execute_result"
    },
    {
     "data": {
      "text/plain": [
       "0"
      ]
     },
     "execution_count": 36,
     "metadata": {},
     "output_type": "execute_result"
    },
    {
     "name": "stdout",
     "output_type": "stream",
     "text": [
      "image_1992.tif\n",
      "pad_area_1992.shp\n",
      "D:\\lakemapping\\2_dataset\\sample747\\shp\\output1\\pad_area_1992.shp\n"
     ]
    },
    {
     "data": {
      "text/plain": [
       "0"
      ]
     },
     "execution_count": 36,
     "metadata": {},
     "output_type": "execute_result"
    },
    {
     "data": {
      "text/plain": [
       "0"
      ]
     },
     "execution_count": 36,
     "metadata": {},
     "output_type": "execute_result"
    },
    {
     "data": {
      "text/plain": [
       "0"
      ]
     },
     "execution_count": 36,
     "metadata": {},
     "output_type": "execute_result"
    },
    {
     "name": "stdout",
     "output_type": "stream",
     "text": [
      "image_2056.tif\n",
      "pad_area_2056.shp\n",
      "D:\\lakemapping\\2_dataset\\sample747\\shp\\output1\\pad_area_2056.shp\n"
     ]
    },
    {
     "data": {
      "text/plain": [
       "0"
      ]
     },
     "execution_count": 36,
     "metadata": {},
     "output_type": "execute_result"
    },
    {
     "data": {
      "text/plain": [
       "0"
      ]
     },
     "execution_count": 36,
     "metadata": {},
     "output_type": "execute_result"
    },
    {
     "data": {
      "text/plain": [
       "0"
      ]
     },
     "execution_count": 36,
     "metadata": {},
     "output_type": "execute_result"
    },
    {
     "name": "stdout",
     "output_type": "stream",
     "text": [
      "image_2067.tif\n",
      "pad_area_2067.shp\n",
      "D:\\lakemapping\\2_dataset\\sample747\\shp\\output1\\pad_area_2067.shp\n"
     ]
    },
    {
     "data": {
      "text/plain": [
       "0"
      ]
     },
     "execution_count": 36,
     "metadata": {},
     "output_type": "execute_result"
    },
    {
     "data": {
      "text/plain": [
       "0"
      ]
     },
     "execution_count": 36,
     "metadata": {},
     "output_type": "execute_result"
    },
    {
     "data": {
      "text/plain": [
       "0"
      ]
     },
     "execution_count": 36,
     "metadata": {},
     "output_type": "execute_result"
    },
    {
     "name": "stdout",
     "output_type": "stream",
     "text": [
      "image_2107.tif\n",
      "pad_area_2107.shp\n",
      "D:\\lakemapping\\2_dataset\\sample747\\shp\\output1\\pad_area_2107.shp\n"
     ]
    },
    {
     "data": {
      "text/plain": [
       "0"
      ]
     },
     "execution_count": 36,
     "metadata": {},
     "output_type": "execute_result"
    },
    {
     "data": {
      "text/plain": [
       "0"
      ]
     },
     "execution_count": 36,
     "metadata": {},
     "output_type": "execute_result"
    },
    {
     "data": {
      "text/plain": [
       "0"
      ]
     },
     "execution_count": 36,
     "metadata": {},
     "output_type": "execute_result"
    },
    {
     "name": "stdout",
     "output_type": "stream",
     "text": [
      "image_213.tif\n",
      "pad_area_213.shp\n",
      "D:\\lakemapping\\2_dataset\\sample747\\shp\\output1\\pad_area_213.shp\n"
     ]
    },
    {
     "data": {
      "text/plain": [
       "0"
      ]
     },
     "execution_count": 36,
     "metadata": {},
     "output_type": "execute_result"
    },
    {
     "data": {
      "text/plain": [
       "0"
      ]
     },
     "execution_count": 36,
     "metadata": {},
     "output_type": "execute_result"
    },
    {
     "data": {
      "text/plain": [
       "0"
      ]
     },
     "execution_count": 36,
     "metadata": {},
     "output_type": "execute_result"
    },
    {
     "name": "stdout",
     "output_type": "stream",
     "text": [
      "image_2203.tif\n",
      "pad_area_2203.shp\n",
      "D:\\lakemapping\\2_dataset\\sample747\\shp\\output1\\pad_area_2203.shp\n"
     ]
    },
    {
     "data": {
      "text/plain": [
       "0"
      ]
     },
     "execution_count": 36,
     "metadata": {},
     "output_type": "execute_result"
    },
    {
     "data": {
      "text/plain": [
       "0"
      ]
     },
     "execution_count": 36,
     "metadata": {},
     "output_type": "execute_result"
    },
    {
     "data": {
      "text/plain": [
       "0"
      ]
     },
     "execution_count": 36,
     "metadata": {},
     "output_type": "execute_result"
    },
    {
     "name": "stdout",
     "output_type": "stream",
     "text": [
      "image_2263.tif\n",
      "pad_area_2263.shp\n",
      "D:\\lakemapping\\2_dataset\\sample747\\shp\\output1\\pad_area_2263.shp\n"
     ]
    },
    {
     "data": {
      "text/plain": [
       "0"
      ]
     },
     "execution_count": 36,
     "metadata": {},
     "output_type": "execute_result"
    },
    {
     "data": {
      "text/plain": [
       "0"
      ]
     },
     "execution_count": 36,
     "metadata": {},
     "output_type": "execute_result"
    },
    {
     "data": {
      "text/plain": [
       "0"
      ]
     },
     "execution_count": 36,
     "metadata": {},
     "output_type": "execute_result"
    },
    {
     "name": "stdout",
     "output_type": "stream",
     "text": [
      "image_2355.tif\n",
      "pad_area_2355.shp\n",
      "D:\\lakemapping\\2_dataset\\sample747\\shp\\output1\\pad_area_2355.shp\n"
     ]
    },
    {
     "data": {
      "text/plain": [
       "0"
      ]
     },
     "execution_count": 36,
     "metadata": {},
     "output_type": "execute_result"
    },
    {
     "data": {
      "text/plain": [
       "0"
      ]
     },
     "execution_count": 36,
     "metadata": {},
     "output_type": "execute_result"
    },
    {
     "data": {
      "text/plain": [
       "0"
      ]
     },
     "execution_count": 36,
     "metadata": {},
     "output_type": "execute_result"
    },
    {
     "name": "stdout",
     "output_type": "stream",
     "text": [
      "image_2580.tif\n",
      "pad_area_2580.shp\n",
      "D:\\lakemapping\\2_dataset\\sample747\\shp\\output1\\pad_area_2580.shp\n"
     ]
    },
    {
     "data": {
      "text/plain": [
       "0"
      ]
     },
     "execution_count": 36,
     "metadata": {},
     "output_type": "execute_result"
    },
    {
     "data": {
      "text/plain": [
       "0"
      ]
     },
     "execution_count": 36,
     "metadata": {},
     "output_type": "execute_result"
    },
    {
     "data": {
      "text/plain": [
       "0"
      ]
     },
     "execution_count": 36,
     "metadata": {},
     "output_type": "execute_result"
    },
    {
     "name": "stdout",
     "output_type": "stream",
     "text": [
      "image_2657.tif\n",
      "pad_area_2657.shp\n",
      "D:\\lakemapping\\2_dataset\\sample747\\shp\\output1\\pad_area_2657.shp\n"
     ]
    },
    {
     "data": {
      "text/plain": [
       "0"
      ]
     },
     "execution_count": 36,
     "metadata": {},
     "output_type": "execute_result"
    },
    {
     "data": {
      "text/plain": [
       "0"
      ]
     },
     "execution_count": 36,
     "metadata": {},
     "output_type": "execute_result"
    },
    {
     "data": {
      "text/plain": [
       "0"
      ]
     },
     "execution_count": 36,
     "metadata": {},
     "output_type": "execute_result"
    },
    {
     "name": "stdout",
     "output_type": "stream",
     "text": [
      "image_2686.tif\n",
      "pad_area_2686.shp\n",
      "D:\\lakemapping\\2_dataset\\sample747\\shp\\output1\\pad_area_2686.shp\n"
     ]
    },
    {
     "data": {
      "text/plain": [
       "0"
      ]
     },
     "execution_count": 36,
     "metadata": {},
     "output_type": "execute_result"
    },
    {
     "data": {
      "text/plain": [
       "0"
      ]
     },
     "execution_count": 36,
     "metadata": {},
     "output_type": "execute_result"
    },
    {
     "data": {
      "text/plain": [
       "0"
      ]
     },
     "execution_count": 36,
     "metadata": {},
     "output_type": "execute_result"
    },
    {
     "name": "stdout",
     "output_type": "stream",
     "text": [
      "image_2796.tif\n",
      "pad_area_2796.shp\n",
      "D:\\lakemapping\\2_dataset\\sample747\\shp\\output1\\pad_area_2796.shp\n"
     ]
    },
    {
     "data": {
      "text/plain": [
       "0"
      ]
     },
     "execution_count": 36,
     "metadata": {},
     "output_type": "execute_result"
    },
    {
     "data": {
      "text/plain": [
       "0"
      ]
     },
     "execution_count": 36,
     "metadata": {},
     "output_type": "execute_result"
    },
    {
     "data": {
      "text/plain": [
       "0"
      ]
     },
     "execution_count": 36,
     "metadata": {},
     "output_type": "execute_result"
    },
    {
     "name": "stdout",
     "output_type": "stream",
     "text": [
      "image_2810.tif\n",
      "pad_area_2810.shp\n",
      "D:\\lakemapping\\2_dataset\\sample747\\shp\\output1\\pad_area_2810.shp\n"
     ]
    },
    {
     "data": {
      "text/plain": [
       "0"
      ]
     },
     "execution_count": 36,
     "metadata": {},
     "output_type": "execute_result"
    },
    {
     "data": {
      "text/plain": [
       "0"
      ]
     },
     "execution_count": 36,
     "metadata": {},
     "output_type": "execute_result"
    },
    {
     "data": {
      "text/plain": [
       "0"
      ]
     },
     "execution_count": 36,
     "metadata": {},
     "output_type": "execute_result"
    },
    {
     "name": "stdout",
     "output_type": "stream",
     "text": [
      "image_2827.tif\n",
      "pad_area_2827.shp\n",
      "D:\\lakemapping\\2_dataset\\sample747\\shp\\output1\\pad_area_2827.shp\n"
     ]
    },
    {
     "data": {
      "text/plain": [
       "0"
      ]
     },
     "execution_count": 36,
     "metadata": {},
     "output_type": "execute_result"
    },
    {
     "data": {
      "text/plain": [
       "0"
      ]
     },
     "execution_count": 36,
     "metadata": {},
     "output_type": "execute_result"
    },
    {
     "data": {
      "text/plain": [
       "0"
      ]
     },
     "execution_count": 36,
     "metadata": {},
     "output_type": "execute_result"
    },
    {
     "name": "stdout",
     "output_type": "stream",
     "text": [
      "image_2896.tif\n",
      "pad_area_2896.shp\n",
      "D:\\lakemapping\\2_dataset\\sample747\\shp\\output1\\pad_area_2896.shp\n"
     ]
    },
    {
     "data": {
      "text/plain": [
       "0"
      ]
     },
     "execution_count": 36,
     "metadata": {},
     "output_type": "execute_result"
    },
    {
     "data": {
      "text/plain": [
       "0"
      ]
     },
     "execution_count": 36,
     "metadata": {},
     "output_type": "execute_result"
    },
    {
     "data": {
      "text/plain": [
       "0"
      ]
     },
     "execution_count": 36,
     "metadata": {},
     "output_type": "execute_result"
    },
    {
     "name": "stdout",
     "output_type": "stream",
     "text": [
      "image_2913_1.tif\n",
      "pad_area_2913_1.shp\n",
      "D:\\lakemapping\\2_dataset\\sample747\\shp\\output1\\pad_area_2913_1.shp\n"
     ]
    },
    {
     "data": {
      "text/plain": [
       "0"
      ]
     },
     "execution_count": 36,
     "metadata": {},
     "output_type": "execute_result"
    },
    {
     "data": {
      "text/plain": [
       "0"
      ]
     },
     "execution_count": 36,
     "metadata": {},
     "output_type": "execute_result"
    },
    {
     "data": {
      "text/plain": [
       "0"
      ]
     },
     "execution_count": 36,
     "metadata": {},
     "output_type": "execute_result"
    },
    {
     "name": "stdout",
     "output_type": "stream",
     "text": [
      "image_2913_2.tif\n",
      "pad_area_2913_2.shp\n",
      "D:\\lakemapping\\2_dataset\\sample747\\shp\\output1\\pad_area_2913_2.shp\n"
     ]
    },
    {
     "data": {
      "text/plain": [
       "0"
      ]
     },
     "execution_count": 36,
     "metadata": {},
     "output_type": "execute_result"
    },
    {
     "data": {
      "text/plain": [
       "0"
      ]
     },
     "execution_count": 36,
     "metadata": {},
     "output_type": "execute_result"
    },
    {
     "data": {
      "text/plain": [
       "0"
      ]
     },
     "execution_count": 36,
     "metadata": {},
     "output_type": "execute_result"
    },
    {
     "name": "stdout",
     "output_type": "stream",
     "text": [
      "image_2922.tif\n",
      "pad_area_2922.shp\n",
      "D:\\lakemapping\\2_dataset\\sample747\\shp\\output1\\pad_area_2922.shp\n"
     ]
    },
    {
     "data": {
      "text/plain": [
       "0"
      ]
     },
     "execution_count": 36,
     "metadata": {},
     "output_type": "execute_result"
    },
    {
     "data": {
      "text/plain": [
       "0"
      ]
     },
     "execution_count": 36,
     "metadata": {},
     "output_type": "execute_result"
    },
    {
     "data": {
      "text/plain": [
       "0"
      ]
     },
     "execution_count": 36,
     "metadata": {},
     "output_type": "execute_result"
    },
    {
     "name": "stdout",
     "output_type": "stream",
     "text": [
      "image_306.tif\n",
      "pad_area_306.shp\n",
      "D:\\lakemapping\\2_dataset\\sample747\\shp\\output1\\pad_area_306.shp\n"
     ]
    },
    {
     "data": {
      "text/plain": [
       "0"
      ]
     },
     "execution_count": 36,
     "metadata": {},
     "output_type": "execute_result"
    },
    {
     "data": {
      "text/plain": [
       "0"
      ]
     },
     "execution_count": 36,
     "metadata": {},
     "output_type": "execute_result"
    },
    {
     "data": {
      "text/plain": [
       "0"
      ]
     },
     "execution_count": 36,
     "metadata": {},
     "output_type": "execute_result"
    },
    {
     "name": "stdout",
     "output_type": "stream",
     "text": [
      "image_3090.tif\n",
      "pad_area_3090.shp\n",
      "D:\\lakemapping\\2_dataset\\sample747\\shp\\output1\\pad_area_3090.shp\n"
     ]
    },
    {
     "data": {
      "text/plain": [
       "0"
      ]
     },
     "execution_count": 36,
     "metadata": {},
     "output_type": "execute_result"
    },
    {
     "data": {
      "text/plain": [
       "0"
      ]
     },
     "execution_count": 36,
     "metadata": {},
     "output_type": "execute_result"
    },
    {
     "data": {
      "text/plain": [
       "0"
      ]
     },
     "execution_count": 36,
     "metadata": {},
     "output_type": "execute_result"
    },
    {
     "name": "stdout",
     "output_type": "stream",
     "text": [
      "image_3458.tif\n",
      "pad_area_3458.shp\n",
      "D:\\lakemapping\\2_dataset\\sample747\\shp\\output1\\pad_area_3458.shp\n"
     ]
    },
    {
     "data": {
      "text/plain": [
       "0"
      ]
     },
     "execution_count": 36,
     "metadata": {},
     "output_type": "execute_result"
    },
    {
     "data": {
      "text/plain": [
       "0"
      ]
     },
     "execution_count": 36,
     "metadata": {},
     "output_type": "execute_result"
    },
    {
     "data": {
      "text/plain": [
       "0"
      ]
     },
     "execution_count": 36,
     "metadata": {},
     "output_type": "execute_result"
    },
    {
     "name": "stdout",
     "output_type": "stream",
     "text": [
      "image_3531.tif\n",
      "pad_area_3531.shp\n",
      "D:\\lakemapping\\2_dataset\\sample747\\shp\\output1\\pad_area_3531.shp\n"
     ]
    },
    {
     "data": {
      "text/plain": [
       "0"
      ]
     },
     "execution_count": 36,
     "metadata": {},
     "output_type": "execute_result"
    },
    {
     "data": {
      "text/plain": [
       "0"
      ]
     },
     "execution_count": 36,
     "metadata": {},
     "output_type": "execute_result"
    },
    {
     "data": {
      "text/plain": [
       "0"
      ]
     },
     "execution_count": 36,
     "metadata": {},
     "output_type": "execute_result"
    },
    {
     "name": "stdout",
     "output_type": "stream",
     "text": [
      "image_3690.tif\n",
      "pad_area_3690.shp\n",
      "D:\\lakemapping\\2_dataset\\sample747\\shp\\output1\\pad_area_3690.shp\n"
     ]
    },
    {
     "data": {
      "text/plain": [
       "0"
      ]
     },
     "execution_count": 36,
     "metadata": {},
     "output_type": "execute_result"
    },
    {
     "data": {
      "text/plain": [
       "0"
      ]
     },
     "execution_count": 36,
     "metadata": {},
     "output_type": "execute_result"
    },
    {
     "data": {
      "text/plain": [
       "0"
      ]
     },
     "execution_count": 36,
     "metadata": {},
     "output_type": "execute_result"
    },
    {
     "name": "stdout",
     "output_type": "stream",
     "text": [
      "image_3703.tif\n",
      "pad_area_3703.shp\n",
      "D:\\lakemapping\\2_dataset\\sample747\\shp\\output1\\pad_area_3703.shp\n"
     ]
    },
    {
     "data": {
      "text/plain": [
       "0"
      ]
     },
     "execution_count": 36,
     "metadata": {},
     "output_type": "execute_result"
    },
    {
     "data": {
      "text/plain": [
       "0"
      ]
     },
     "execution_count": 36,
     "metadata": {},
     "output_type": "execute_result"
    },
    {
     "data": {
      "text/plain": [
       "0"
      ]
     },
     "execution_count": 36,
     "metadata": {},
     "output_type": "execute_result"
    },
    {
     "name": "stdout",
     "output_type": "stream",
     "text": [
      "image_43.tif\n",
      "pad_area_43.shp\n",
      "D:\\lakemapping\\2_dataset\\sample747\\shp\\output1\\pad_area_43.shp\n"
     ]
    },
    {
     "data": {
      "text/plain": [
       "0"
      ]
     },
     "execution_count": 36,
     "metadata": {},
     "output_type": "execute_result"
    },
    {
     "data": {
      "text/plain": [
       "0"
      ]
     },
     "execution_count": 36,
     "metadata": {},
     "output_type": "execute_result"
    },
    {
     "data": {
      "text/plain": [
       "0"
      ]
     },
     "execution_count": 36,
     "metadata": {},
     "output_type": "execute_result"
    },
    {
     "name": "stdout",
     "output_type": "stream",
     "text": [
      "image_4467.tif\n",
      "pad_area_4467.shp\n",
      "D:\\lakemapping\\2_dataset\\sample747\\shp\\output1\\pad_area_4467.shp\n"
     ]
    },
    {
     "data": {
      "text/plain": [
       "0"
      ]
     },
     "execution_count": 36,
     "metadata": {},
     "output_type": "execute_result"
    },
    {
     "data": {
      "text/plain": [
       "0"
      ]
     },
     "execution_count": 36,
     "metadata": {},
     "output_type": "execute_result"
    },
    {
     "data": {
      "text/plain": [
       "0"
      ]
     },
     "execution_count": 36,
     "metadata": {},
     "output_type": "execute_result"
    },
    {
     "name": "stdout",
     "output_type": "stream",
     "text": [
      "image_455.tif\n",
      "pad_area_455.shp\n",
      "D:\\lakemapping\\2_dataset\\sample747\\shp\\output1\\pad_area_455.shp\n"
     ]
    },
    {
     "data": {
      "text/plain": [
       "0"
      ]
     },
     "execution_count": 36,
     "metadata": {},
     "output_type": "execute_result"
    },
    {
     "data": {
      "text/plain": [
       "0"
      ]
     },
     "execution_count": 36,
     "metadata": {},
     "output_type": "execute_result"
    },
    {
     "data": {
      "text/plain": [
       "0"
      ]
     },
     "execution_count": 36,
     "metadata": {},
     "output_type": "execute_result"
    },
    {
     "name": "stdout",
     "output_type": "stream",
     "text": [
      "image_4978.tif\n",
      "pad_area_4978.shp\n",
      "D:\\lakemapping\\2_dataset\\sample747\\shp\\output1\\pad_area_4978.shp\n"
     ]
    },
    {
     "data": {
      "text/plain": [
       "0"
      ]
     },
     "execution_count": 36,
     "metadata": {},
     "output_type": "execute_result"
    },
    {
     "data": {
      "text/plain": [
       "0"
      ]
     },
     "execution_count": 36,
     "metadata": {},
     "output_type": "execute_result"
    },
    {
     "data": {
      "text/plain": [
       "0"
      ]
     },
     "execution_count": 36,
     "metadata": {},
     "output_type": "execute_result"
    },
    {
     "name": "stdout",
     "output_type": "stream",
     "text": [
      "image_5017.tif\n",
      "pad_area_5017.shp\n",
      "D:\\lakemapping\\2_dataset\\sample747\\shp\\output1\\pad_area_5017.shp\n"
     ]
    },
    {
     "data": {
      "text/plain": [
       "0"
      ]
     },
     "execution_count": 36,
     "metadata": {},
     "output_type": "execute_result"
    },
    {
     "data": {
      "text/plain": [
       "0"
      ]
     },
     "execution_count": 36,
     "metadata": {},
     "output_type": "execute_result"
    },
    {
     "data": {
      "text/plain": [
       "0"
      ]
     },
     "execution_count": 36,
     "metadata": {},
     "output_type": "execute_result"
    },
    {
     "name": "stdout",
     "output_type": "stream",
     "text": [
      "image_5041.tif\n",
      "pad_area_5041.shp\n",
      "D:\\lakemapping\\2_dataset\\sample747\\shp\\output1\\pad_area_5041.shp\n"
     ]
    },
    {
     "data": {
      "text/plain": [
       "0"
      ]
     },
     "execution_count": 36,
     "metadata": {},
     "output_type": "execute_result"
    },
    {
     "data": {
      "text/plain": [
       "0"
      ]
     },
     "execution_count": 36,
     "metadata": {},
     "output_type": "execute_result"
    },
    {
     "data": {
      "text/plain": [
       "0"
      ]
     },
     "execution_count": 36,
     "metadata": {},
     "output_type": "execute_result"
    },
    {
     "name": "stdout",
     "output_type": "stream",
     "text": [
      "image_5108.tif\n",
      "pad_area_5108.shp\n",
      "D:\\lakemapping\\2_dataset\\sample747\\shp\\output1\\pad_area_5108.shp\n"
     ]
    },
    {
     "data": {
      "text/plain": [
       "0"
      ]
     },
     "execution_count": 36,
     "metadata": {},
     "output_type": "execute_result"
    },
    {
     "data": {
      "text/plain": [
       "0"
      ]
     },
     "execution_count": 36,
     "metadata": {},
     "output_type": "execute_result"
    },
    {
     "data": {
      "text/plain": [
       "0"
      ]
     },
     "execution_count": 36,
     "metadata": {},
     "output_type": "execute_result"
    },
    {
     "name": "stdout",
     "output_type": "stream",
     "text": [
      "image_5109.tif\n",
      "pad_area_5109.shp\n",
      "D:\\lakemapping\\2_dataset\\sample747\\shp\\output1\\pad_area_5109.shp\n"
     ]
    },
    {
     "data": {
      "text/plain": [
       "0"
      ]
     },
     "execution_count": 36,
     "metadata": {},
     "output_type": "execute_result"
    },
    {
     "data": {
      "text/plain": [
       "0"
      ]
     },
     "execution_count": 36,
     "metadata": {},
     "output_type": "execute_result"
    },
    {
     "data": {
      "text/plain": [
       "0"
      ]
     },
     "execution_count": 36,
     "metadata": {},
     "output_type": "execute_result"
    },
    {
     "name": "stdout",
     "output_type": "stream",
     "text": [
      "image_5140.tif\n",
      "pad_area_5140.shp\n",
      "D:\\lakemapping\\2_dataset\\sample747\\shp\\output1\\pad_area_5140.shp\n"
     ]
    },
    {
     "data": {
      "text/plain": [
       "0"
      ]
     },
     "execution_count": 36,
     "metadata": {},
     "output_type": "execute_result"
    },
    {
     "data": {
      "text/plain": [
       "0"
      ]
     },
     "execution_count": 36,
     "metadata": {},
     "output_type": "execute_result"
    },
    {
     "data": {
      "text/plain": [
       "0"
      ]
     },
     "execution_count": 36,
     "metadata": {},
     "output_type": "execute_result"
    },
    {
     "name": "stdout",
     "output_type": "stream",
     "text": [
      "image_5150.tif\n",
      "pad_area_5150.shp\n",
      "D:\\lakemapping\\2_dataset\\sample747\\shp\\output1\\pad_area_5150.shp\n"
     ]
    },
    {
     "data": {
      "text/plain": [
       "0"
      ]
     },
     "execution_count": 36,
     "metadata": {},
     "output_type": "execute_result"
    },
    {
     "data": {
      "text/plain": [
       "0"
      ]
     },
     "execution_count": 36,
     "metadata": {},
     "output_type": "execute_result"
    },
    {
     "data": {
      "text/plain": [
       "0"
      ]
     },
     "execution_count": 36,
     "metadata": {},
     "output_type": "execute_result"
    },
    {
     "name": "stdout",
     "output_type": "stream",
     "text": [
      "image_520.tif\n",
      "pad_area_520.shp\n",
      "D:\\lakemapping\\2_dataset\\sample747\\shp\\output1\\pad_area_520.shp\n"
     ]
    },
    {
     "data": {
      "text/plain": [
       "0"
      ]
     },
     "execution_count": 36,
     "metadata": {},
     "output_type": "execute_result"
    },
    {
     "data": {
      "text/plain": [
       "0"
      ]
     },
     "execution_count": 36,
     "metadata": {},
     "output_type": "execute_result"
    },
    {
     "data": {
      "text/plain": [
       "0"
      ]
     },
     "execution_count": 36,
     "metadata": {},
     "output_type": "execute_result"
    },
    {
     "name": "stdout",
     "output_type": "stream",
     "text": [
      "image_5209.tif\n",
      "pad_area_5209.shp\n",
      "D:\\lakemapping\\2_dataset\\sample747\\shp\\output1\\pad_area_5209.shp\n"
     ]
    },
    {
     "data": {
      "text/plain": [
       "0"
      ]
     },
     "execution_count": 36,
     "metadata": {},
     "output_type": "execute_result"
    },
    {
     "data": {
      "text/plain": [
       "0"
      ]
     },
     "execution_count": 36,
     "metadata": {},
     "output_type": "execute_result"
    },
    {
     "data": {
      "text/plain": [
       "0"
      ]
     },
     "execution_count": 36,
     "metadata": {},
     "output_type": "execute_result"
    },
    {
     "name": "stdout",
     "output_type": "stream",
     "text": [
      "image_5213.tif\n",
      "pad_area_5213.shp\n",
      "D:\\lakemapping\\2_dataset\\sample747\\shp\\output1\\pad_area_5213.shp\n"
     ]
    },
    {
     "data": {
      "text/plain": [
       "0"
      ]
     },
     "execution_count": 36,
     "metadata": {},
     "output_type": "execute_result"
    },
    {
     "data": {
      "text/plain": [
       "0"
      ]
     },
     "execution_count": 36,
     "metadata": {},
     "output_type": "execute_result"
    },
    {
     "data": {
      "text/plain": [
       "0"
      ]
     },
     "execution_count": 36,
     "metadata": {},
     "output_type": "execute_result"
    },
    {
     "name": "stdout",
     "output_type": "stream",
     "text": [
      "image_5237.tif\n",
      "pad_area_5237.shp\n",
      "D:\\lakemapping\\2_dataset\\sample747\\shp\\output1\\pad_area_5237.shp\n"
     ]
    },
    {
     "data": {
      "text/plain": [
       "0"
      ]
     },
     "execution_count": 36,
     "metadata": {},
     "output_type": "execute_result"
    },
    {
     "data": {
      "text/plain": [
       "0"
      ]
     },
     "execution_count": 36,
     "metadata": {},
     "output_type": "execute_result"
    },
    {
     "data": {
      "text/plain": [
       "0"
      ]
     },
     "execution_count": 36,
     "metadata": {},
     "output_type": "execute_result"
    },
    {
     "name": "stdout",
     "output_type": "stream",
     "text": [
      "image_5277.tif\n",
      "pad_area_5277.shp\n",
      "D:\\lakemapping\\2_dataset\\sample747\\shp\\output1\\pad_area_5277.shp\n"
     ]
    },
    {
     "data": {
      "text/plain": [
       "0"
      ]
     },
     "execution_count": 36,
     "metadata": {},
     "output_type": "execute_result"
    },
    {
     "data": {
      "text/plain": [
       "0"
      ]
     },
     "execution_count": 36,
     "metadata": {},
     "output_type": "execute_result"
    },
    {
     "data": {
      "text/plain": [
       "0"
      ]
     },
     "execution_count": 36,
     "metadata": {},
     "output_type": "execute_result"
    },
    {
     "name": "stdout",
     "output_type": "stream",
     "text": [
      "image_5296.tif\n",
      "pad_area_5296.shp\n",
      "D:\\lakemapping\\2_dataset\\sample747\\shp\\output1\\pad_area_5296.shp\n"
     ]
    },
    {
     "data": {
      "text/plain": [
       "0"
      ]
     },
     "execution_count": 36,
     "metadata": {},
     "output_type": "execute_result"
    },
    {
     "data": {
      "text/plain": [
       "0"
      ]
     },
     "execution_count": 36,
     "metadata": {},
     "output_type": "execute_result"
    },
    {
     "data": {
      "text/plain": [
       "0"
      ]
     },
     "execution_count": 36,
     "metadata": {},
     "output_type": "execute_result"
    },
    {
     "name": "stdout",
     "output_type": "stream",
     "text": [
      "image_56.tif\n",
      "pad_area_56.shp\n",
      "D:\\lakemapping\\2_dataset\\sample747\\shp\\output1\\pad_area_56.shp\n"
     ]
    },
    {
     "data": {
      "text/plain": [
       "0"
      ]
     },
     "execution_count": 36,
     "metadata": {},
     "output_type": "execute_result"
    },
    {
     "data": {
      "text/plain": [
       "0"
      ]
     },
     "execution_count": 36,
     "metadata": {},
     "output_type": "execute_result"
    },
    {
     "data": {
      "text/plain": [
       "0"
      ]
     },
     "execution_count": 36,
     "metadata": {},
     "output_type": "execute_result"
    },
    {
     "name": "stdout",
     "output_type": "stream",
     "text": [
      "image_5771.tif\n",
      "pad_area_5771.shp\n",
      "D:\\lakemapping\\2_dataset\\sample747\\shp\\output1\\pad_area_5771.shp\n"
     ]
    },
    {
     "data": {
      "text/plain": [
       "0"
      ]
     },
     "execution_count": 36,
     "metadata": {},
     "output_type": "execute_result"
    },
    {
     "data": {
      "text/plain": [
       "0"
      ]
     },
     "execution_count": 36,
     "metadata": {},
     "output_type": "execute_result"
    },
    {
     "data": {
      "text/plain": [
       "0"
      ]
     },
     "execution_count": 36,
     "metadata": {},
     "output_type": "execute_result"
    },
    {
     "name": "stdout",
     "output_type": "stream",
     "text": [
      "image_6102.tif\n",
      "pad_area_6102.shp\n",
      "D:\\lakemapping\\2_dataset\\sample747\\shp\\output1\\pad_area_6102.shp\n"
     ]
    },
    {
     "data": {
      "text/plain": [
       "0"
      ]
     },
     "execution_count": 36,
     "metadata": {},
     "output_type": "execute_result"
    },
    {
     "data": {
      "text/plain": [
       "0"
      ]
     },
     "execution_count": 36,
     "metadata": {},
     "output_type": "execute_result"
    },
    {
     "data": {
      "text/plain": [
       "0"
      ]
     },
     "execution_count": 36,
     "metadata": {},
     "output_type": "execute_result"
    },
    {
     "name": "stdout",
     "output_type": "stream",
     "text": [
      "image_646.tif\n",
      "pad_area_646.shp\n",
      "D:\\lakemapping\\2_dataset\\sample747\\shp\\output1\\pad_area_646.shp\n"
     ]
    },
    {
     "data": {
      "text/plain": [
       "0"
      ]
     },
     "execution_count": 36,
     "metadata": {},
     "output_type": "execute_result"
    },
    {
     "data": {
      "text/plain": [
       "0"
      ]
     },
     "execution_count": 36,
     "metadata": {},
     "output_type": "execute_result"
    },
    {
     "data": {
      "text/plain": [
       "0"
      ]
     },
     "execution_count": 36,
     "metadata": {},
     "output_type": "execute_result"
    },
    {
     "name": "stdout",
     "output_type": "stream",
     "text": [
      "image_648.tif\n",
      "pad_area_648.shp\n",
      "D:\\lakemapping\\2_dataset\\sample747\\shp\\output1\\pad_area_648.shp\n"
     ]
    },
    {
     "data": {
      "text/plain": [
       "0"
      ]
     },
     "execution_count": 36,
     "metadata": {},
     "output_type": "execute_result"
    },
    {
     "data": {
      "text/plain": [
       "0"
      ]
     },
     "execution_count": 36,
     "metadata": {},
     "output_type": "execute_result"
    },
    {
     "data": {
      "text/plain": [
       "0"
      ]
     },
     "execution_count": 36,
     "metadata": {},
     "output_type": "execute_result"
    },
    {
     "name": "stdout",
     "output_type": "stream",
     "text": [
      "image_65.tif\n",
      "pad_area_65.shp\n",
      "D:\\lakemapping\\2_dataset\\sample747\\shp\\output1\\pad_area_65.shp\n"
     ]
    },
    {
     "data": {
      "text/plain": [
       "0"
      ]
     },
     "execution_count": 36,
     "metadata": {},
     "output_type": "execute_result"
    },
    {
     "data": {
      "text/plain": [
       "0"
      ]
     },
     "execution_count": 36,
     "metadata": {},
     "output_type": "execute_result"
    },
    {
     "data": {
      "text/plain": [
       "0"
      ]
     },
     "execution_count": 36,
     "metadata": {},
     "output_type": "execute_result"
    },
    {
     "name": "stdout",
     "output_type": "stream",
     "text": [
      "image_658.tif\n",
      "pad_area_658.shp\n",
      "D:\\lakemapping\\2_dataset\\sample747\\shp\\output1\\pad_area_658.shp\n"
     ]
    },
    {
     "data": {
      "text/plain": [
       "0"
      ]
     },
     "execution_count": 36,
     "metadata": {},
     "output_type": "execute_result"
    },
    {
     "data": {
      "text/plain": [
       "0"
      ]
     },
     "execution_count": 36,
     "metadata": {},
     "output_type": "execute_result"
    },
    {
     "data": {
      "text/plain": [
       "0"
      ]
     },
     "execution_count": 36,
     "metadata": {},
     "output_type": "execute_result"
    },
    {
     "name": "stdout",
     "output_type": "stream",
     "text": [
      "image_66.tif\n",
      "pad_area_66.shp\n",
      "D:\\lakemapping\\2_dataset\\sample747\\shp\\output1\\pad_area_66.shp\n"
     ]
    },
    {
     "data": {
      "text/plain": [
       "0"
      ]
     },
     "execution_count": 36,
     "metadata": {},
     "output_type": "execute_result"
    },
    {
     "data": {
      "text/plain": [
       "0"
      ]
     },
     "execution_count": 36,
     "metadata": {},
     "output_type": "execute_result"
    },
    {
     "data": {
      "text/plain": [
       "0"
      ]
     },
     "execution_count": 36,
     "metadata": {},
     "output_type": "execute_result"
    },
    {
     "name": "stdout",
     "output_type": "stream",
     "text": [
      "image_6813.tif\n",
      "pad_area_6813.shp\n",
      "D:\\lakemapping\\2_dataset\\sample747\\shp\\output1\\pad_area_6813.shp\n"
     ]
    },
    {
     "data": {
      "text/plain": [
       "0"
      ]
     },
     "execution_count": 36,
     "metadata": {},
     "output_type": "execute_result"
    },
    {
     "data": {
      "text/plain": [
       "0"
      ]
     },
     "execution_count": 36,
     "metadata": {},
     "output_type": "execute_result"
    },
    {
     "data": {
      "text/plain": [
       "0"
      ]
     },
     "execution_count": 36,
     "metadata": {},
     "output_type": "execute_result"
    },
    {
     "name": "stdout",
     "output_type": "stream",
     "text": [
      "image_6881.tif\n",
      "pad_area_6881.shp\n",
      "D:\\lakemapping\\2_dataset\\sample747\\shp\\output1\\pad_area_6881.shp\n"
     ]
    },
    {
     "data": {
      "text/plain": [
       "0"
      ]
     },
     "execution_count": 36,
     "metadata": {},
     "output_type": "execute_result"
    },
    {
     "data": {
      "text/plain": [
       "0"
      ]
     },
     "execution_count": 36,
     "metadata": {},
     "output_type": "execute_result"
    },
    {
     "data": {
      "text/plain": [
       "0"
      ]
     },
     "execution_count": 36,
     "metadata": {},
     "output_type": "execute_result"
    },
    {
     "name": "stdout",
     "output_type": "stream",
     "text": [
      "image_6948.tif\n",
      "pad_area_6948.shp\n",
      "D:\\lakemapping\\2_dataset\\sample747\\shp\\output1\\pad_area_6948.shp\n"
     ]
    },
    {
     "data": {
      "text/plain": [
       "0"
      ]
     },
     "execution_count": 36,
     "metadata": {},
     "output_type": "execute_result"
    },
    {
     "data": {
      "text/plain": [
       "0"
      ]
     },
     "execution_count": 36,
     "metadata": {},
     "output_type": "execute_result"
    },
    {
     "data": {
      "text/plain": [
       "0"
      ]
     },
     "execution_count": 36,
     "metadata": {},
     "output_type": "execute_result"
    },
    {
     "name": "stdout",
     "output_type": "stream",
     "text": [
      "image_7064.tif\n",
      "pad_area_7064.shp\n",
      "D:\\lakemapping\\2_dataset\\sample747\\shp\\output1\\pad_area_7064.shp\n"
     ]
    },
    {
     "data": {
      "text/plain": [
       "0"
      ]
     },
     "execution_count": 36,
     "metadata": {},
     "output_type": "execute_result"
    },
    {
     "data": {
      "text/plain": [
       "0"
      ]
     },
     "execution_count": 36,
     "metadata": {},
     "output_type": "execute_result"
    },
    {
     "data": {
      "text/plain": [
       "0"
      ]
     },
     "execution_count": 36,
     "metadata": {},
     "output_type": "execute_result"
    },
    {
     "name": "stdout",
     "output_type": "stream",
     "text": [
      "image_7116.tif\n",
      "pad_area_7116.shp\n",
      "D:\\lakemapping\\2_dataset\\sample747\\shp\\output1\\pad_area_7116.shp\n"
     ]
    },
    {
     "data": {
      "text/plain": [
       "0"
      ]
     },
     "execution_count": 36,
     "metadata": {},
     "output_type": "execute_result"
    },
    {
     "data": {
      "text/plain": [
       "0"
      ]
     },
     "execution_count": 36,
     "metadata": {},
     "output_type": "execute_result"
    },
    {
     "data": {
      "text/plain": [
       "0"
      ]
     },
     "execution_count": 36,
     "metadata": {},
     "output_type": "execute_result"
    },
    {
     "name": "stdout",
     "output_type": "stream",
     "text": [
      "image_7513.tif\n",
      "pad_area_7513.shp\n",
      "D:\\lakemapping\\2_dataset\\sample747\\shp\\output1\\pad_area_7513.shp\n"
     ]
    },
    {
     "data": {
      "text/plain": [
       "0"
      ]
     },
     "execution_count": 36,
     "metadata": {},
     "output_type": "execute_result"
    },
    {
     "data": {
      "text/plain": [
       "0"
      ]
     },
     "execution_count": 36,
     "metadata": {},
     "output_type": "execute_result"
    },
    {
     "data": {
      "text/plain": [
       "0"
      ]
     },
     "execution_count": 36,
     "metadata": {},
     "output_type": "execute_result"
    },
    {
     "name": "stdout",
     "output_type": "stream",
     "text": [
      "image_759.tif\n",
      "pad_area_759.shp\n",
      "D:\\lakemapping\\2_dataset\\sample747\\shp\\output1\\pad_area_759.shp\n"
     ]
    },
    {
     "data": {
      "text/plain": [
       "0"
      ]
     },
     "execution_count": 36,
     "metadata": {},
     "output_type": "execute_result"
    },
    {
     "data": {
      "text/plain": [
       "0"
      ]
     },
     "execution_count": 36,
     "metadata": {},
     "output_type": "execute_result"
    },
    {
     "data": {
      "text/plain": [
       "0"
      ]
     },
     "execution_count": 36,
     "metadata": {},
     "output_type": "execute_result"
    },
    {
     "name": "stdout",
     "output_type": "stream",
     "text": [
      "image_7601.tif\n",
      "pad_area_7601.shp\n",
      "D:\\lakemapping\\2_dataset\\sample747\\shp\\output1\\pad_area_7601.shp\n"
     ]
    },
    {
     "data": {
      "text/plain": [
       "0"
      ]
     },
     "execution_count": 36,
     "metadata": {},
     "output_type": "execute_result"
    },
    {
     "data": {
      "text/plain": [
       "0"
      ]
     },
     "execution_count": 36,
     "metadata": {},
     "output_type": "execute_result"
    },
    {
     "data": {
      "text/plain": [
       "0"
      ]
     },
     "execution_count": 36,
     "metadata": {},
     "output_type": "execute_result"
    },
    {
     "name": "stdout",
     "output_type": "stream",
     "text": [
      "image_7653.tif\n",
      "pad_area_7653.shp\n",
      "D:\\lakemapping\\2_dataset\\sample747\\shp\\output1\\pad_area_7653.shp\n"
     ]
    },
    {
     "data": {
      "text/plain": [
       "0"
      ]
     },
     "execution_count": 36,
     "metadata": {},
     "output_type": "execute_result"
    },
    {
     "data": {
      "text/plain": [
       "0"
      ]
     },
     "execution_count": 36,
     "metadata": {},
     "output_type": "execute_result"
    },
    {
     "data": {
      "text/plain": [
       "0"
      ]
     },
     "execution_count": 36,
     "metadata": {},
     "output_type": "execute_result"
    },
    {
     "name": "stdout",
     "output_type": "stream",
     "text": [
      "image_7763.tif\n",
      "pad_area_7763.shp\n",
      "D:\\lakemapping\\2_dataset\\sample747\\shp\\output1\\pad_area_7763.shp\n"
     ]
    },
    {
     "data": {
      "text/plain": [
       "0"
      ]
     },
     "execution_count": 36,
     "metadata": {},
     "output_type": "execute_result"
    },
    {
     "data": {
      "text/plain": [
       "0"
      ]
     },
     "execution_count": 36,
     "metadata": {},
     "output_type": "execute_result"
    },
    {
     "data": {
      "text/plain": [
       "0"
      ]
     },
     "execution_count": 36,
     "metadata": {},
     "output_type": "execute_result"
    },
    {
     "name": "stdout",
     "output_type": "stream",
     "text": [
      "image_7875.tif\n",
      "pad_area_7875.shp\n",
      "D:\\lakemapping\\2_dataset\\sample747\\shp\\output1\\pad_area_7875.shp\n"
     ]
    },
    {
     "data": {
      "text/plain": [
       "0"
      ]
     },
     "execution_count": 36,
     "metadata": {},
     "output_type": "execute_result"
    },
    {
     "data": {
      "text/plain": [
       "0"
      ]
     },
     "execution_count": 36,
     "metadata": {},
     "output_type": "execute_result"
    },
    {
     "data": {
      "text/plain": [
       "0"
      ]
     },
     "execution_count": 36,
     "metadata": {},
     "output_type": "execute_result"
    },
    {
     "name": "stdout",
     "output_type": "stream",
     "text": [
      "image_8069.tif\n",
      "pad_area_8069.shp\n",
      "D:\\lakemapping\\2_dataset\\sample747\\shp\\output1\\pad_area_8069.shp\n"
     ]
    },
    {
     "data": {
      "text/plain": [
       "0"
      ]
     },
     "execution_count": 36,
     "metadata": {},
     "output_type": "execute_result"
    },
    {
     "data": {
      "text/plain": [
       "0"
      ]
     },
     "execution_count": 36,
     "metadata": {},
     "output_type": "execute_result"
    },
    {
     "data": {
      "text/plain": [
       "0"
      ]
     },
     "execution_count": 36,
     "metadata": {},
     "output_type": "execute_result"
    },
    {
     "name": "stdout",
     "output_type": "stream",
     "text": [
      "image_8074.tif\n",
      "pad_area_8074.shp\n",
      "D:\\lakemapping\\2_dataset\\sample747\\shp\\output1\\pad_area_8074.shp\n"
     ]
    },
    {
     "data": {
      "text/plain": [
       "0"
      ]
     },
     "execution_count": 36,
     "metadata": {},
     "output_type": "execute_result"
    },
    {
     "data": {
      "text/plain": [
       "0"
      ]
     },
     "execution_count": 36,
     "metadata": {},
     "output_type": "execute_result"
    },
    {
     "data": {
      "text/plain": [
       "0"
      ]
     },
     "execution_count": 36,
     "metadata": {},
     "output_type": "execute_result"
    },
    {
     "name": "stdout",
     "output_type": "stream",
     "text": [
      "image_8303.tif\n",
      "pad_area_8303.shp\n",
      "D:\\lakemapping\\2_dataset\\sample747\\shp\\output1\\pad_area_8303.shp\n"
     ]
    },
    {
     "data": {
      "text/plain": [
       "0"
      ]
     },
     "execution_count": 36,
     "metadata": {},
     "output_type": "execute_result"
    },
    {
     "data": {
      "text/plain": [
       "0"
      ]
     },
     "execution_count": 36,
     "metadata": {},
     "output_type": "execute_result"
    },
    {
     "data": {
      "text/plain": [
       "0"
      ]
     },
     "execution_count": 36,
     "metadata": {},
     "output_type": "execute_result"
    },
    {
     "name": "stdout",
     "output_type": "stream",
     "text": [
      "image_8318.tif\n",
      "pad_area_8318.shp\n",
      "D:\\lakemapping\\2_dataset\\sample747\\shp\\output1\\pad_area_8318.shp\n"
     ]
    },
    {
     "data": {
      "text/plain": [
       "0"
      ]
     },
     "execution_count": 36,
     "metadata": {},
     "output_type": "execute_result"
    },
    {
     "data": {
      "text/plain": [
       "0"
      ]
     },
     "execution_count": 36,
     "metadata": {},
     "output_type": "execute_result"
    },
    {
     "data": {
      "text/plain": [
       "0"
      ]
     },
     "execution_count": 36,
     "metadata": {},
     "output_type": "execute_result"
    },
    {
     "name": "stdout",
     "output_type": "stream",
     "text": [
      "image_85.tif\n",
      "pad_area_85.shp\n",
      "D:\\lakemapping\\2_dataset\\sample747\\shp\\output1\\pad_area_85.shp\n"
     ]
    },
    {
     "data": {
      "text/plain": [
       "0"
      ]
     },
     "execution_count": 36,
     "metadata": {},
     "output_type": "execute_result"
    },
    {
     "data": {
      "text/plain": [
       "0"
      ]
     },
     "execution_count": 36,
     "metadata": {},
     "output_type": "execute_result"
    },
    {
     "data": {
      "text/plain": [
       "0"
      ]
     },
     "execution_count": 36,
     "metadata": {},
     "output_type": "execute_result"
    },
    {
     "name": "stdout",
     "output_type": "stream",
     "text": [
      "image_8522.tif\n",
      "pad_area_8522.shp\n",
      "D:\\lakemapping\\2_dataset\\sample747\\shp\\output1\\pad_area_8522.shp\n"
     ]
    },
    {
     "data": {
      "text/plain": [
       "0"
      ]
     },
     "execution_count": 36,
     "metadata": {},
     "output_type": "execute_result"
    },
    {
     "data": {
      "text/plain": [
       "0"
      ]
     },
     "execution_count": 36,
     "metadata": {},
     "output_type": "execute_result"
    },
    {
     "data": {
      "text/plain": [
       "0"
      ]
     },
     "execution_count": 36,
     "metadata": {},
     "output_type": "execute_result"
    },
    {
     "name": "stdout",
     "output_type": "stream",
     "text": [
      "image_862.tif\n",
      "pad_area_862.shp\n",
      "D:\\lakemapping\\2_dataset\\sample747\\shp\\output1\\pad_area_862.shp\n"
     ]
    },
    {
     "data": {
      "text/plain": [
       "0"
      ]
     },
     "execution_count": 36,
     "metadata": {},
     "output_type": "execute_result"
    },
    {
     "data": {
      "text/plain": [
       "0"
      ]
     },
     "execution_count": 36,
     "metadata": {},
     "output_type": "execute_result"
    },
    {
     "data": {
      "text/plain": [
       "0"
      ]
     },
     "execution_count": 36,
     "metadata": {},
     "output_type": "execute_result"
    },
    {
     "name": "stdout",
     "output_type": "stream",
     "text": [
      "image_8661.tif\n",
      "pad_area_8661.shp\n",
      "D:\\lakemapping\\2_dataset\\sample747\\shp\\output1\\pad_area_8661.shp\n"
     ]
    },
    {
     "data": {
      "text/plain": [
       "0"
      ]
     },
     "execution_count": 36,
     "metadata": {},
     "output_type": "execute_result"
    },
    {
     "data": {
      "text/plain": [
       "0"
      ]
     },
     "execution_count": 36,
     "metadata": {},
     "output_type": "execute_result"
    },
    {
     "data": {
      "text/plain": [
       "0"
      ]
     },
     "execution_count": 36,
     "metadata": {},
     "output_type": "execute_result"
    },
    {
     "name": "stdout",
     "output_type": "stream",
     "text": [
      "image_8671.tif\n",
      "pad_area_8671.shp\n",
      "D:\\lakemapping\\2_dataset\\sample747\\shp\\output1\\pad_area_8671.shp\n"
     ]
    },
    {
     "data": {
      "text/plain": [
       "0"
      ]
     },
     "execution_count": 36,
     "metadata": {},
     "output_type": "execute_result"
    },
    {
     "data": {
      "text/plain": [
       "0"
      ]
     },
     "execution_count": 36,
     "metadata": {},
     "output_type": "execute_result"
    },
    {
     "data": {
      "text/plain": [
       "0"
      ]
     },
     "execution_count": 36,
     "metadata": {},
     "output_type": "execute_result"
    },
    {
     "name": "stdout",
     "output_type": "stream",
     "text": [
      "image_8681.tif\n",
      "pad_area_8681.shp\n",
      "D:\\lakemapping\\2_dataset\\sample747\\shp\\output1\\pad_area_8681.shp\n"
     ]
    },
    {
     "data": {
      "text/plain": [
       "0"
      ]
     },
     "execution_count": 36,
     "metadata": {},
     "output_type": "execute_result"
    },
    {
     "data": {
      "text/plain": [
       "0"
      ]
     },
     "execution_count": 36,
     "metadata": {},
     "output_type": "execute_result"
    },
    {
     "data": {
      "text/plain": [
       "0"
      ]
     },
     "execution_count": 36,
     "metadata": {},
     "output_type": "execute_result"
    },
    {
     "name": "stdout",
     "output_type": "stream",
     "text": [
      "image_8735.tif\n",
      "pad_area_8735.shp\n",
      "D:\\lakemapping\\2_dataset\\sample747\\shp\\output1\\pad_area_8735.shp\n"
     ]
    },
    {
     "data": {
      "text/plain": [
       "0"
      ]
     },
     "execution_count": 36,
     "metadata": {},
     "output_type": "execute_result"
    },
    {
     "data": {
      "text/plain": [
       "0"
      ]
     },
     "execution_count": 36,
     "metadata": {},
     "output_type": "execute_result"
    },
    {
     "data": {
      "text/plain": [
       "0"
      ]
     },
     "execution_count": 36,
     "metadata": {},
     "output_type": "execute_result"
    },
    {
     "name": "stdout",
     "output_type": "stream",
     "text": [
      "image_8876.tif\n",
      "pad_area_8876.shp\n",
      "D:\\lakemapping\\2_dataset\\sample747\\shp\\output1\\pad_area_8876.shp\n"
     ]
    },
    {
     "data": {
      "text/plain": [
       "0"
      ]
     },
     "execution_count": 36,
     "metadata": {},
     "output_type": "execute_result"
    },
    {
     "data": {
      "text/plain": [
       "0"
      ]
     },
     "execution_count": 36,
     "metadata": {},
     "output_type": "execute_result"
    },
    {
     "data": {
      "text/plain": [
       "0"
      ]
     },
     "execution_count": 36,
     "metadata": {},
     "output_type": "execute_result"
    },
    {
     "name": "stdout",
     "output_type": "stream",
     "text": [
      "image_8966.tif\n",
      "pad_area_8966.shp\n",
      "D:\\lakemapping\\2_dataset\\sample747\\shp\\output1\\pad_area_8966.shp\n"
     ]
    },
    {
     "data": {
      "text/plain": [
       "0"
      ]
     },
     "execution_count": 36,
     "metadata": {},
     "output_type": "execute_result"
    },
    {
     "data": {
      "text/plain": [
       "0"
      ]
     },
     "execution_count": 36,
     "metadata": {},
     "output_type": "execute_result"
    },
    {
     "data": {
      "text/plain": [
       "0"
      ]
     },
     "execution_count": 36,
     "metadata": {},
     "output_type": "execute_result"
    },
    {
     "name": "stdout",
     "output_type": "stream",
     "text": [
      "image_9078.tif\n",
      "pad_area_9078.shp\n",
      "D:\\lakemapping\\2_dataset\\sample747\\shp\\output1\\pad_area_9078.shp\n"
     ]
    },
    {
     "data": {
      "text/plain": [
       "0"
      ]
     },
     "execution_count": 36,
     "metadata": {},
     "output_type": "execute_result"
    },
    {
     "data": {
      "text/plain": [
       "0"
      ]
     },
     "execution_count": 36,
     "metadata": {},
     "output_type": "execute_result"
    },
    {
     "data": {
      "text/plain": [
       "0"
      ]
     },
     "execution_count": 36,
     "metadata": {},
     "output_type": "execute_result"
    },
    {
     "name": "stdout",
     "output_type": "stream",
     "text": [
      "image_9088.tif\n",
      "pad_area_9088.shp\n",
      "D:\\lakemapping\\2_dataset\\sample747\\shp\\output1\\pad_area_9088.shp\n"
     ]
    },
    {
     "data": {
      "text/plain": [
       "0"
      ]
     },
     "execution_count": 36,
     "metadata": {},
     "output_type": "execute_result"
    },
    {
     "data": {
      "text/plain": [
       "0"
      ]
     },
     "execution_count": 36,
     "metadata": {},
     "output_type": "execute_result"
    },
    {
     "data": {
      "text/plain": [
       "0"
      ]
     },
     "execution_count": 36,
     "metadata": {},
     "output_type": "execute_result"
    },
    {
     "name": "stdout",
     "output_type": "stream",
     "text": [
      "image_9089.tif\n",
      "pad_area_9089.shp\n",
      "D:\\lakemapping\\2_dataset\\sample747\\shp\\output1\\pad_area_9089.shp\n"
     ]
    },
    {
     "data": {
      "text/plain": [
       "0"
      ]
     },
     "execution_count": 36,
     "metadata": {},
     "output_type": "execute_result"
    },
    {
     "data": {
      "text/plain": [
       "0"
      ]
     },
     "execution_count": 36,
     "metadata": {},
     "output_type": "execute_result"
    },
    {
     "data": {
      "text/plain": [
       "0"
      ]
     },
     "execution_count": 36,
     "metadata": {},
     "output_type": "execute_result"
    },
    {
     "name": "stdout",
     "output_type": "stream",
     "text": [
      "image_9095.tif\n",
      "pad_area_9095.shp\n",
      "D:\\lakemapping\\2_dataset\\sample747\\shp\\output1\\pad_area_9095.shp\n"
     ]
    },
    {
     "data": {
      "text/plain": [
       "0"
      ]
     },
     "execution_count": 36,
     "metadata": {},
     "output_type": "execute_result"
    },
    {
     "data": {
      "text/plain": [
       "0"
      ]
     },
     "execution_count": 36,
     "metadata": {},
     "output_type": "execute_result"
    },
    {
     "data": {
      "text/plain": [
       "0"
      ]
     },
     "execution_count": 36,
     "metadata": {},
     "output_type": "execute_result"
    },
    {
     "name": "stdout",
     "output_type": "stream",
     "text": [
      "image_91.tif\n",
      "pad_area_91.shp\n",
      "D:\\lakemapping\\2_dataset\\sample747\\shp\\output1\\pad_area_91.shp\n"
     ]
    },
    {
     "data": {
      "text/plain": [
       "0"
      ]
     },
     "execution_count": 36,
     "metadata": {},
     "output_type": "execute_result"
    },
    {
     "data": {
      "text/plain": [
       "0"
      ]
     },
     "execution_count": 36,
     "metadata": {},
     "output_type": "execute_result"
    },
    {
     "data": {
      "text/plain": [
       "0"
      ]
     },
     "execution_count": 36,
     "metadata": {},
     "output_type": "execute_result"
    },
    {
     "name": "stdout",
     "output_type": "stream",
     "text": [
      "image_9105.tif\n",
      "pad_area_9105.shp\n",
      "D:\\lakemapping\\2_dataset\\sample747\\shp\\output1\\pad_area_9105.shp\n"
     ]
    },
    {
     "data": {
      "text/plain": [
       "0"
      ]
     },
     "execution_count": 36,
     "metadata": {},
     "output_type": "execute_result"
    },
    {
     "data": {
      "text/plain": [
       "0"
      ]
     },
     "execution_count": 36,
     "metadata": {},
     "output_type": "execute_result"
    },
    {
     "data": {
      "text/plain": [
       "0"
      ]
     },
     "execution_count": 36,
     "metadata": {},
     "output_type": "execute_result"
    },
    {
     "name": "stdout",
     "output_type": "stream",
     "text": [
      "image_9116.tif\n",
      "pad_area_9116.shp\n",
      "D:\\lakemapping\\2_dataset\\sample747\\shp\\output1\\pad_area_9116.shp\n"
     ]
    },
    {
     "data": {
      "text/plain": [
       "0"
      ]
     },
     "execution_count": 36,
     "metadata": {},
     "output_type": "execute_result"
    },
    {
     "data": {
      "text/plain": [
       "0"
      ]
     },
     "execution_count": 36,
     "metadata": {},
     "output_type": "execute_result"
    },
    {
     "data": {
      "text/plain": [
       "0"
      ]
     },
     "execution_count": 36,
     "metadata": {},
     "output_type": "execute_result"
    },
    {
     "name": "stdout",
     "output_type": "stream",
     "text": [
      "image_9117.tif\n",
      "pad_area_9117.shp\n",
      "D:\\lakemapping\\2_dataset\\sample747\\shp\\output1\\pad_area_9117.shp\n"
     ]
    },
    {
     "data": {
      "text/plain": [
       "0"
      ]
     },
     "execution_count": 36,
     "metadata": {},
     "output_type": "execute_result"
    },
    {
     "data": {
      "text/plain": [
       "0"
      ]
     },
     "execution_count": 36,
     "metadata": {},
     "output_type": "execute_result"
    },
    {
     "data": {
      "text/plain": [
       "0"
      ]
     },
     "execution_count": 36,
     "metadata": {},
     "output_type": "execute_result"
    },
    {
     "name": "stdout",
     "output_type": "stream",
     "text": [
      "image_9169.tif\n",
      "pad_area_9169.shp\n",
      "D:\\lakemapping\\2_dataset\\sample747\\shp\\output1\\pad_area_9169.shp\n"
     ]
    },
    {
     "data": {
      "text/plain": [
       "0"
      ]
     },
     "execution_count": 36,
     "metadata": {},
     "output_type": "execute_result"
    },
    {
     "data": {
      "text/plain": [
       "0"
      ]
     },
     "execution_count": 36,
     "metadata": {},
     "output_type": "execute_result"
    },
    {
     "data": {
      "text/plain": [
       "0"
      ]
     },
     "execution_count": 36,
     "metadata": {},
     "output_type": "execute_result"
    },
    {
     "name": "stdout",
     "output_type": "stream",
     "text": [
      "image_9211_2.tif\n",
      "pad_area_9211_2.shp\n",
      "D:\\lakemapping\\2_dataset\\sample747\\shp\\output1\\pad_area_9211_2.shp\n"
     ]
    },
    {
     "data": {
      "text/plain": [
       "0"
      ]
     },
     "execution_count": 36,
     "metadata": {},
     "output_type": "execute_result"
    },
    {
     "data": {
      "text/plain": [
       "0"
      ]
     },
     "execution_count": 36,
     "metadata": {},
     "output_type": "execute_result"
    },
    {
     "data": {
      "text/plain": [
       "0"
      ]
     },
     "execution_count": 36,
     "metadata": {},
     "output_type": "execute_result"
    },
    {
     "name": "stdout",
     "output_type": "stream",
     "text": [
      "image_9238.tif\n",
      "pad_area_9238.shp\n",
      "D:\\lakemapping\\2_dataset\\sample747\\shp\\output1\\pad_area_9238.shp\n"
     ]
    },
    {
     "data": {
      "text/plain": [
       "0"
      ]
     },
     "execution_count": 36,
     "metadata": {},
     "output_type": "execute_result"
    },
    {
     "data": {
      "text/plain": [
       "0"
      ]
     },
     "execution_count": 36,
     "metadata": {},
     "output_type": "execute_result"
    },
    {
     "data": {
      "text/plain": [
       "0"
      ]
     },
     "execution_count": 36,
     "metadata": {},
     "output_type": "execute_result"
    },
    {
     "name": "stdout",
     "output_type": "stream",
     "text": [
      "image_9263.tif\n",
      "pad_area_9263.shp\n",
      "D:\\lakemapping\\2_dataset\\sample747\\shp\\output1\\pad_area_9263.shp\n"
     ]
    },
    {
     "data": {
      "text/plain": [
       "0"
      ]
     },
     "execution_count": 36,
     "metadata": {},
     "output_type": "execute_result"
    },
    {
     "data": {
      "text/plain": [
       "0"
      ]
     },
     "execution_count": 36,
     "metadata": {},
     "output_type": "execute_result"
    },
    {
     "data": {
      "text/plain": [
       "0"
      ]
     },
     "execution_count": 36,
     "metadata": {},
     "output_type": "execute_result"
    },
    {
     "name": "stdout",
     "output_type": "stream",
     "text": [
      "image_96.tif\n",
      "pad_area_96.shp\n",
      "D:\\lakemapping\\2_dataset\\sample747\\shp\\output1\\pad_area_96.shp\n"
     ]
    },
    {
     "data": {
      "text/plain": [
       "0"
      ]
     },
     "execution_count": 36,
     "metadata": {},
     "output_type": "execute_result"
    },
    {
     "data": {
      "text/plain": [
       "0"
      ]
     },
     "execution_count": 36,
     "metadata": {},
     "output_type": "execute_result"
    },
    {
     "data": {
      "text/plain": [
       "0"
      ]
     },
     "execution_count": 36,
     "metadata": {},
     "output_type": "execute_result"
    },
    {
     "name": "stdout",
     "output_type": "stream",
     "text": [
      "image_9604.tif\n",
      "pad_area_9604.shp\n",
      "D:\\lakemapping\\2_dataset\\sample747\\shp\\output1\\pad_area_9604.shp\n"
     ]
    },
    {
     "data": {
      "text/plain": [
       "0"
      ]
     },
     "execution_count": 36,
     "metadata": {},
     "output_type": "execute_result"
    },
    {
     "data": {
      "text/plain": [
       "0"
      ]
     },
     "execution_count": 36,
     "metadata": {},
     "output_type": "execute_result"
    },
    {
     "data": {
      "text/plain": [
       "0"
      ]
     },
     "execution_count": 36,
     "metadata": {},
     "output_type": "execute_result"
    },
    {
     "name": "stdout",
     "output_type": "stream",
     "text": [
      "image_9618.tif\n",
      "pad_area_9618.shp\n",
      "D:\\lakemapping\\2_dataset\\sample747\\shp\\output1\\pad_area_9618.shp\n"
     ]
    },
    {
     "data": {
      "text/plain": [
       "0"
      ]
     },
     "execution_count": 36,
     "metadata": {},
     "output_type": "execute_result"
    },
    {
     "data": {
      "text/plain": [
       "0"
      ]
     },
     "execution_count": 36,
     "metadata": {},
     "output_type": "execute_result"
    },
    {
     "data": {
      "text/plain": [
       "0"
      ]
     },
     "execution_count": 36,
     "metadata": {},
     "output_type": "execute_result"
    },
    {
     "name": "stdout",
     "output_type": "stream",
     "text": [
      "image_9816.tif\n",
      "pad_area_9816.shp\n",
      "D:\\lakemapping\\2_dataset\\sample747\\shp\\output1\\pad_area_9816.shp\n"
     ]
    },
    {
     "data": {
      "text/plain": [
       "0"
      ]
     },
     "execution_count": 36,
     "metadata": {},
     "output_type": "execute_result"
    },
    {
     "data": {
      "text/plain": [
       "0"
      ]
     },
     "execution_count": 36,
     "metadata": {},
     "output_type": "execute_result"
    },
    {
     "data": {
      "text/plain": [
       "0"
      ]
     },
     "execution_count": 36,
     "metadata": {},
     "output_type": "execute_result"
    },
    {
     "name": "stdout",
     "output_type": "stream",
     "text": [
      "image_9847.tif\n",
      "pad_area_9847.shp\n",
      "D:\\lakemapping\\2_dataset\\sample747\\shp\\output1\\pad_area_9847.shp\n"
     ]
    },
    {
     "data": {
      "text/plain": [
       "0"
      ]
     },
     "execution_count": 36,
     "metadata": {},
     "output_type": "execute_result"
    },
    {
     "data": {
      "text/plain": [
       "0"
      ]
     },
     "execution_count": 36,
     "metadata": {},
     "output_type": "execute_result"
    },
    {
     "data": {
      "text/plain": [
       "0"
      ]
     },
     "execution_count": 36,
     "metadata": {},
     "output_type": "execute_result"
    },
    {
     "name": "stdout",
     "output_type": "stream",
     "text": [
      "image_9875.tif\n",
      "pad_area_9875.shp\n",
      "D:\\lakemapping\\2_dataset\\sample747\\shp\\output1\\pad_area_9875.shp\n"
     ]
    },
    {
     "data": {
      "text/plain": [
       "0"
      ]
     },
     "execution_count": 36,
     "metadata": {},
     "output_type": "execute_result"
    },
    {
     "data": {
      "text/plain": [
       "0"
      ]
     },
     "execution_count": 36,
     "metadata": {},
     "output_type": "execute_result"
    },
    {
     "data": {
      "text/plain": [
       "0"
      ]
     },
     "execution_count": 36,
     "metadata": {},
     "output_type": "execute_result"
    },
    {
     "name": "stdout",
     "output_type": "stream",
     "text": [
      "image_995.tif\n",
      "pad_area_995.shp\n",
      "D:\\lakemapping\\2_dataset\\sample747\\shp\\output1\\pad_area_995.shp\n"
     ]
    },
    {
     "data": {
      "text/plain": [
       "0"
      ]
     },
     "execution_count": 36,
     "metadata": {},
     "output_type": "execute_result"
    },
    {
     "data": {
      "text/plain": [
       "0"
      ]
     },
     "execution_count": 36,
     "metadata": {},
     "output_type": "execute_result"
    },
    {
     "data": {
      "text/plain": [
       "0"
      ]
     },
     "execution_count": 36,
     "metadata": {},
     "output_type": "execute_result"
    },
    {
     "name": "stdout",
     "output_type": "stream",
     "text": [
      "image_10171.tif\n",
      "pad_area_10171.shp\n",
      "D:\\lakemapping\\2_dataset\\sample747\\shp\\output2\\pad_area_10171.shp\n"
     ]
    },
    {
     "data": {
      "text/plain": [
       "0"
      ]
     },
     "execution_count": 36,
     "metadata": {},
     "output_type": "execute_result"
    },
    {
     "data": {
      "text/plain": [
       "0"
      ]
     },
     "execution_count": 36,
     "metadata": {},
     "output_type": "execute_result"
    },
    {
     "data": {
      "text/plain": [
       "0"
      ]
     },
     "execution_count": 36,
     "metadata": {},
     "output_type": "execute_result"
    },
    {
     "name": "stdout",
     "output_type": "stream",
     "text": [
      "image_10198.tif\n",
      "pad_area_10198.shp\n",
      "D:\\lakemapping\\2_dataset\\sample747\\shp\\output2\\pad_area_10198.shp\n"
     ]
    },
    {
     "data": {
      "text/plain": [
       "0"
      ]
     },
     "execution_count": 36,
     "metadata": {},
     "output_type": "execute_result"
    },
    {
     "data": {
      "text/plain": [
       "0"
      ]
     },
     "execution_count": 36,
     "metadata": {},
     "output_type": "execute_result"
    },
    {
     "data": {
      "text/plain": [
       "0"
      ]
     },
     "execution_count": 36,
     "metadata": {},
     "output_type": "execute_result"
    },
    {
     "name": "stdout",
     "output_type": "stream",
     "text": [
      "image_10203.tif\n",
      "pad_area_10203.shp\n",
      "D:\\lakemapping\\2_dataset\\sample747\\shp\\output2\\pad_area_10203.shp\n"
     ]
    },
    {
     "data": {
      "text/plain": [
       "0"
      ]
     },
     "execution_count": 36,
     "metadata": {},
     "output_type": "execute_result"
    },
    {
     "data": {
      "text/plain": [
       "0"
      ]
     },
     "execution_count": 36,
     "metadata": {},
     "output_type": "execute_result"
    },
    {
     "data": {
      "text/plain": [
       "0"
      ]
     },
     "execution_count": 36,
     "metadata": {},
     "output_type": "execute_result"
    },
    {
     "name": "stdout",
     "output_type": "stream",
     "text": [
      "image_10228.tif\n",
      "pad_area_10228.shp\n",
      "D:\\lakemapping\\2_dataset\\sample747\\shp\\output2\\pad_area_10228.shp\n"
     ]
    },
    {
     "data": {
      "text/plain": [
       "0"
      ]
     },
     "execution_count": 36,
     "metadata": {},
     "output_type": "execute_result"
    },
    {
     "data": {
      "text/plain": [
       "0"
      ]
     },
     "execution_count": 36,
     "metadata": {},
     "output_type": "execute_result"
    },
    {
     "data": {
      "text/plain": [
       "0"
      ]
     },
     "execution_count": 36,
     "metadata": {},
     "output_type": "execute_result"
    },
    {
     "name": "stdout",
     "output_type": "stream",
     "text": [
      "image_10247.tif\n",
      "pad_area_10247.shp\n",
      "D:\\lakemapping\\2_dataset\\sample747\\shp\\output2\\pad_area_10247.shp\n"
     ]
    },
    {
     "data": {
      "text/plain": [
       "0"
      ]
     },
     "execution_count": 36,
     "metadata": {},
     "output_type": "execute_result"
    },
    {
     "data": {
      "text/plain": [
       "0"
      ]
     },
     "execution_count": 36,
     "metadata": {},
     "output_type": "execute_result"
    },
    {
     "data": {
      "text/plain": [
       "0"
      ]
     },
     "execution_count": 36,
     "metadata": {},
     "output_type": "execute_result"
    },
    {
     "name": "stdout",
     "output_type": "stream",
     "text": [
      "image_10277.tif\n",
      "pad_area_10277.shp\n",
      "D:\\lakemapping\\2_dataset\\sample747\\shp\\output2\\pad_area_10277.shp\n"
     ]
    },
    {
     "data": {
      "text/plain": [
       "0"
      ]
     },
     "execution_count": 36,
     "metadata": {},
     "output_type": "execute_result"
    },
    {
     "data": {
      "text/plain": [
       "0"
      ]
     },
     "execution_count": 36,
     "metadata": {},
     "output_type": "execute_result"
    },
    {
     "data": {
      "text/plain": [
       "0"
      ]
     },
     "execution_count": 36,
     "metadata": {},
     "output_type": "execute_result"
    },
    {
     "name": "stdout",
     "output_type": "stream",
     "text": [
      "image_10324.tif\n",
      "pad_area_10324.shp\n",
      "D:\\lakemapping\\2_dataset\\sample747\\shp\\output2\\pad_area_10324.shp\n"
     ]
    },
    {
     "data": {
      "text/plain": [
       "0"
      ]
     },
     "execution_count": 36,
     "metadata": {},
     "output_type": "execute_result"
    },
    {
     "data": {
      "text/plain": [
       "0"
      ]
     },
     "execution_count": 36,
     "metadata": {},
     "output_type": "execute_result"
    },
    {
     "data": {
      "text/plain": [
       "0"
      ]
     },
     "execution_count": 36,
     "metadata": {},
     "output_type": "execute_result"
    },
    {
     "name": "stdout",
     "output_type": "stream",
     "text": [
      "image_10413.tif\n",
      "pad_area_10413.shp\n",
      "D:\\lakemapping\\2_dataset\\sample747\\shp\\output2\\pad_area_10413.shp\n"
     ]
    },
    {
     "data": {
      "text/plain": [
       "0"
      ]
     },
     "execution_count": 36,
     "metadata": {},
     "output_type": "execute_result"
    },
    {
     "data": {
      "text/plain": [
       "0"
      ]
     },
     "execution_count": 36,
     "metadata": {},
     "output_type": "execute_result"
    },
    {
     "data": {
      "text/plain": [
       "0"
      ]
     },
     "execution_count": 36,
     "metadata": {},
     "output_type": "execute_result"
    },
    {
     "name": "stdout",
     "output_type": "stream",
     "text": [
      "image_10531.tif\n",
      "pad_area_10531.shp\n",
      "D:\\lakemapping\\2_dataset\\sample747\\shp\\output2\\pad_area_10531.shp\n"
     ]
    },
    {
     "data": {
      "text/plain": [
       "0"
      ]
     },
     "execution_count": 36,
     "metadata": {},
     "output_type": "execute_result"
    },
    {
     "data": {
      "text/plain": [
       "0"
      ]
     },
     "execution_count": 36,
     "metadata": {},
     "output_type": "execute_result"
    },
    {
     "data": {
      "text/plain": [
       "0"
      ]
     },
     "execution_count": 36,
     "metadata": {},
     "output_type": "execute_result"
    },
    {
     "name": "stdout",
     "output_type": "stream",
     "text": [
      "image_10557.tif\n",
      "pad_area_10557.shp\n",
      "D:\\lakemapping\\2_dataset\\sample747\\shp\\output2\\pad_area_10557.shp\n"
     ]
    },
    {
     "data": {
      "text/plain": [
       "0"
      ]
     },
     "execution_count": 36,
     "metadata": {},
     "output_type": "execute_result"
    },
    {
     "data": {
      "text/plain": [
       "0"
      ]
     },
     "execution_count": 36,
     "metadata": {},
     "output_type": "execute_result"
    },
    {
     "data": {
      "text/plain": [
       "0"
      ]
     },
     "execution_count": 36,
     "metadata": {},
     "output_type": "execute_result"
    },
    {
     "name": "stdout",
     "output_type": "stream",
     "text": [
      "image_10636.tif\n",
      "pad_area_10636.shp\n",
      "D:\\lakemapping\\2_dataset\\sample747\\shp\\output2\\pad_area_10636.shp\n"
     ]
    },
    {
     "data": {
      "text/plain": [
       "0"
      ]
     },
     "execution_count": 36,
     "metadata": {},
     "output_type": "execute_result"
    },
    {
     "data": {
      "text/plain": [
       "0"
      ]
     },
     "execution_count": 36,
     "metadata": {},
     "output_type": "execute_result"
    },
    {
     "data": {
      "text/plain": [
       "0"
      ]
     },
     "execution_count": 36,
     "metadata": {},
     "output_type": "execute_result"
    },
    {
     "name": "stdout",
     "output_type": "stream",
     "text": [
      "image_10786.tif\n",
      "pad_area_10786.shp\n",
      "D:\\lakemapping\\2_dataset\\sample747\\shp\\output2\\pad_area_10786.shp\n"
     ]
    },
    {
     "data": {
      "text/plain": [
       "0"
      ]
     },
     "execution_count": 36,
     "metadata": {},
     "output_type": "execute_result"
    },
    {
     "data": {
      "text/plain": [
       "0"
      ]
     },
     "execution_count": 36,
     "metadata": {},
     "output_type": "execute_result"
    },
    {
     "data": {
      "text/plain": [
       "0"
      ]
     },
     "execution_count": 36,
     "metadata": {},
     "output_type": "execute_result"
    },
    {
     "name": "stdout",
     "output_type": "stream",
     "text": [
      "image_10979.tif\n",
      "pad_area_10979.shp\n",
      "D:\\lakemapping\\2_dataset\\sample747\\shp\\output2\\pad_area_10979.shp\n"
     ]
    },
    {
     "data": {
      "text/plain": [
       "0"
      ]
     },
     "execution_count": 36,
     "metadata": {},
     "output_type": "execute_result"
    },
    {
     "data": {
      "text/plain": [
       "0"
      ]
     },
     "execution_count": 36,
     "metadata": {},
     "output_type": "execute_result"
    },
    {
     "data": {
      "text/plain": [
       "0"
      ]
     },
     "execution_count": 36,
     "metadata": {},
     "output_type": "execute_result"
    },
    {
     "name": "stdout",
     "output_type": "stream",
     "text": [
      "image_11234.tif\n",
      "pad_area_11234.shp\n",
      "D:\\lakemapping\\2_dataset\\sample747\\shp\\output2\\pad_area_11234.shp\n"
     ]
    },
    {
     "data": {
      "text/plain": [
       "0"
      ]
     },
     "execution_count": 36,
     "metadata": {},
     "output_type": "execute_result"
    },
    {
     "data": {
      "text/plain": [
       "0"
      ]
     },
     "execution_count": 36,
     "metadata": {},
     "output_type": "execute_result"
    },
    {
     "data": {
      "text/plain": [
       "0"
      ]
     },
     "execution_count": 36,
     "metadata": {},
     "output_type": "execute_result"
    },
    {
     "name": "stdout",
     "output_type": "stream",
     "text": [
      "image_11238.tif\n",
      "pad_area_11238.shp\n",
      "D:\\lakemapping\\2_dataset\\sample747\\shp\\output2\\pad_area_11238.shp\n"
     ]
    },
    {
     "data": {
      "text/plain": [
       "0"
      ]
     },
     "execution_count": 36,
     "metadata": {},
     "output_type": "execute_result"
    },
    {
     "data": {
      "text/plain": [
       "0"
      ]
     },
     "execution_count": 36,
     "metadata": {},
     "output_type": "execute_result"
    },
    {
     "data": {
      "text/plain": [
       "0"
      ]
     },
     "execution_count": 36,
     "metadata": {},
     "output_type": "execute_result"
    },
    {
     "name": "stdout",
     "output_type": "stream",
     "text": [
      "image_11432.tif\n",
      "pad_area_11432.shp\n",
      "D:\\lakemapping\\2_dataset\\sample747\\shp\\output2\\pad_area_11432.shp\n"
     ]
    },
    {
     "data": {
      "text/plain": [
       "0"
      ]
     },
     "execution_count": 36,
     "metadata": {},
     "output_type": "execute_result"
    },
    {
     "data": {
      "text/plain": [
       "0"
      ]
     },
     "execution_count": 36,
     "metadata": {},
     "output_type": "execute_result"
    },
    {
     "data": {
      "text/plain": [
       "0"
      ]
     },
     "execution_count": 36,
     "metadata": {},
     "output_type": "execute_result"
    },
    {
     "name": "stdout",
     "output_type": "stream",
     "text": [
      "image_13105.tif\n",
      "pad_area_13105.shp\n",
      "D:\\lakemapping\\2_dataset\\sample747\\shp\\output2\\pad_area_13105.shp\n"
     ]
    },
    {
     "data": {
      "text/plain": [
       "0"
      ]
     },
     "execution_count": 36,
     "metadata": {},
     "output_type": "execute_result"
    },
    {
     "data": {
      "text/plain": [
       "0"
      ]
     },
     "execution_count": 36,
     "metadata": {},
     "output_type": "execute_result"
    },
    {
     "data": {
      "text/plain": [
       "0"
      ]
     },
     "execution_count": 36,
     "metadata": {},
     "output_type": "execute_result"
    },
    {
     "name": "stdout",
     "output_type": "stream",
     "text": [
      "image_13119.tif\n",
      "pad_area_13119.shp\n",
      "D:\\lakemapping\\2_dataset\\sample747\\shp\\output2\\pad_area_13119.shp\n"
     ]
    },
    {
     "data": {
      "text/plain": [
       "0"
      ]
     },
     "execution_count": 36,
     "metadata": {},
     "output_type": "execute_result"
    },
    {
     "data": {
      "text/plain": [
       "0"
      ]
     },
     "execution_count": 36,
     "metadata": {},
     "output_type": "execute_result"
    },
    {
     "data": {
      "text/plain": [
       "0"
      ]
     },
     "execution_count": 36,
     "metadata": {},
     "output_type": "execute_result"
    },
    {
     "name": "stdout",
     "output_type": "stream",
     "text": [
      "image_13153.tif\n",
      "pad_area_13153.shp\n",
      "D:\\lakemapping\\2_dataset\\sample747\\shp\\output2\\pad_area_13153.shp\n"
     ]
    },
    {
     "data": {
      "text/plain": [
       "0"
      ]
     },
     "execution_count": 36,
     "metadata": {},
     "output_type": "execute_result"
    },
    {
     "data": {
      "text/plain": [
       "0"
      ]
     },
     "execution_count": 36,
     "metadata": {},
     "output_type": "execute_result"
    },
    {
     "data": {
      "text/plain": [
       "0"
      ]
     },
     "execution_count": 36,
     "metadata": {},
     "output_type": "execute_result"
    },
    {
     "name": "stdout",
     "output_type": "stream",
     "text": [
      "image_13198.tif\n",
      "pad_area_13198.shp\n",
      "D:\\lakemapping\\2_dataset\\sample747\\shp\\output2\\pad_area_13198.shp\n"
     ]
    },
    {
     "data": {
      "text/plain": [
       "0"
      ]
     },
     "execution_count": 36,
     "metadata": {},
     "output_type": "execute_result"
    },
    {
     "data": {
      "text/plain": [
       "0"
      ]
     },
     "execution_count": 36,
     "metadata": {},
     "output_type": "execute_result"
    },
    {
     "data": {
      "text/plain": [
       "0"
      ]
     },
     "execution_count": 36,
     "metadata": {},
     "output_type": "execute_result"
    },
    {
     "name": "stdout",
     "output_type": "stream",
     "text": [
      "image_13624.tif\n",
      "pad_area_13624.shp\n",
      "D:\\lakemapping\\2_dataset\\sample747\\shp\\output2\\pad_area_13624.shp\n"
     ]
    },
    {
     "data": {
      "text/plain": [
       "0"
      ]
     },
     "execution_count": 36,
     "metadata": {},
     "output_type": "execute_result"
    },
    {
     "data": {
      "text/plain": [
       "0"
      ]
     },
     "execution_count": 36,
     "metadata": {},
     "output_type": "execute_result"
    },
    {
     "data": {
      "text/plain": [
       "0"
      ]
     },
     "execution_count": 36,
     "metadata": {},
     "output_type": "execute_result"
    },
    {
     "name": "stdout",
     "output_type": "stream",
     "text": [
      "image_16287.tif\n",
      "pad_area_16287.shp\n",
      "D:\\lakemapping\\2_dataset\\sample747\\shp\\output2\\pad_area_16287.shp\n"
     ]
    },
    {
     "data": {
      "text/plain": [
       "0"
      ]
     },
     "execution_count": 36,
     "metadata": {},
     "output_type": "execute_result"
    },
    {
     "data": {
      "text/plain": [
       "0"
      ]
     },
     "execution_count": 36,
     "metadata": {},
     "output_type": "execute_result"
    },
    {
     "data": {
      "text/plain": [
       "0"
      ]
     },
     "execution_count": 36,
     "metadata": {},
     "output_type": "execute_result"
    },
    {
     "name": "stdout",
     "output_type": "stream",
     "text": [
      "image_16371.tif\n",
      "pad_area_16371.shp\n",
      "D:\\lakemapping\\2_dataset\\sample747\\shp\\output2\\pad_area_16371.shp\n"
     ]
    },
    {
     "data": {
      "text/plain": [
       "0"
      ]
     },
     "execution_count": 36,
     "metadata": {},
     "output_type": "execute_result"
    },
    {
     "data": {
      "text/plain": [
       "0"
      ]
     },
     "execution_count": 36,
     "metadata": {},
     "output_type": "execute_result"
    },
    {
     "data": {
      "text/plain": [
       "0"
      ]
     },
     "execution_count": 36,
     "metadata": {},
     "output_type": "execute_result"
    },
    {
     "name": "stdout",
     "output_type": "stream",
     "text": [
      "image_16417.tif\n",
      "pad_area_16417.shp\n",
      "D:\\lakemapping\\2_dataset\\sample747\\shp\\output2\\pad_area_16417.shp\n"
     ]
    },
    {
     "data": {
      "text/plain": [
       "0"
      ]
     },
     "execution_count": 36,
     "metadata": {},
     "output_type": "execute_result"
    },
    {
     "data": {
      "text/plain": [
       "0"
      ]
     },
     "execution_count": 36,
     "metadata": {},
     "output_type": "execute_result"
    },
    {
     "data": {
      "text/plain": [
       "0"
      ]
     },
     "execution_count": 36,
     "metadata": {},
     "output_type": "execute_result"
    },
    {
     "name": "stdout",
     "output_type": "stream",
     "text": [
      "image_16583.tif\n",
      "pad_area_16583.shp\n",
      "D:\\lakemapping\\2_dataset\\sample747\\shp\\output2\\pad_area_16583.shp\n"
     ]
    },
    {
     "data": {
      "text/plain": [
       "0"
      ]
     },
     "execution_count": 36,
     "metadata": {},
     "output_type": "execute_result"
    },
    {
     "data": {
      "text/plain": [
       "0"
      ]
     },
     "execution_count": 36,
     "metadata": {},
     "output_type": "execute_result"
    },
    {
     "data": {
      "text/plain": [
       "0"
      ]
     },
     "execution_count": 36,
     "metadata": {},
     "output_type": "execute_result"
    },
    {
     "name": "stdout",
     "output_type": "stream",
     "text": [
      "image_16738.tif\n",
      "pad_area_16738.shp\n",
      "D:\\lakemapping\\2_dataset\\sample747\\shp\\output2\\pad_area_16738.shp\n"
     ]
    },
    {
     "data": {
      "text/plain": [
       "0"
      ]
     },
     "execution_count": 36,
     "metadata": {},
     "output_type": "execute_result"
    },
    {
     "data": {
      "text/plain": [
       "0"
      ]
     },
     "execution_count": 36,
     "metadata": {},
     "output_type": "execute_result"
    },
    {
     "data": {
      "text/plain": [
       "0"
      ]
     },
     "execution_count": 36,
     "metadata": {},
     "output_type": "execute_result"
    },
    {
     "name": "stdout",
     "output_type": "stream",
     "text": [
      "image_17210.tif\n",
      "pad_area_17210.shp\n",
      "D:\\lakemapping\\2_dataset\\sample747\\shp\\output2\\pad_area_17210.shp\n"
     ]
    },
    {
     "data": {
      "text/plain": [
       "0"
      ]
     },
     "execution_count": 36,
     "metadata": {},
     "output_type": "execute_result"
    },
    {
     "data": {
      "text/plain": [
       "0"
      ]
     },
     "execution_count": 36,
     "metadata": {},
     "output_type": "execute_result"
    },
    {
     "data": {
      "text/plain": [
       "0"
      ]
     },
     "execution_count": 36,
     "metadata": {},
     "output_type": "execute_result"
    },
    {
     "name": "stdout",
     "output_type": "stream",
     "text": [
      "image_17328.tif\n",
      "pad_area_17328.shp\n",
      "D:\\lakemapping\\2_dataset\\sample747\\shp\\output2\\pad_area_17328.shp\n"
     ]
    },
    {
     "data": {
      "text/plain": [
       "0"
      ]
     },
     "execution_count": 36,
     "metadata": {},
     "output_type": "execute_result"
    },
    {
     "data": {
      "text/plain": [
       "0"
      ]
     },
     "execution_count": 36,
     "metadata": {},
     "output_type": "execute_result"
    },
    {
     "data": {
      "text/plain": [
       "0"
      ]
     },
     "execution_count": 36,
     "metadata": {},
     "output_type": "execute_result"
    },
    {
     "name": "stdout",
     "output_type": "stream",
     "text": [
      "image_17363.tif\n",
      "pad_area_17363.shp\n",
      "D:\\lakemapping\\2_dataset\\sample747\\shp\\output2\\pad_area_17363.shp\n"
     ]
    },
    {
     "data": {
      "text/plain": [
       "0"
      ]
     },
     "execution_count": 36,
     "metadata": {},
     "output_type": "execute_result"
    },
    {
     "data": {
      "text/plain": [
       "0"
      ]
     },
     "execution_count": 36,
     "metadata": {},
     "output_type": "execute_result"
    },
    {
     "data": {
      "text/plain": [
       "0"
      ]
     },
     "execution_count": 36,
     "metadata": {},
     "output_type": "execute_result"
    },
    {
     "name": "stdout",
     "output_type": "stream",
     "text": [
      "image_17374.tif\n",
      "pad_area_17374.shp\n",
      "D:\\lakemapping\\2_dataset\\sample747\\shp\\output2\\pad_area_17374.shp\n"
     ]
    },
    {
     "data": {
      "text/plain": [
       "0"
      ]
     },
     "execution_count": 36,
     "metadata": {},
     "output_type": "execute_result"
    },
    {
     "data": {
      "text/plain": [
       "0"
      ]
     },
     "execution_count": 36,
     "metadata": {},
     "output_type": "execute_result"
    },
    {
     "data": {
      "text/plain": [
       "0"
      ]
     },
     "execution_count": 36,
     "metadata": {},
     "output_type": "execute_result"
    },
    {
     "name": "stdout",
     "output_type": "stream",
     "text": [
      "image_17388.tif\n",
      "pad_area_17388.shp\n",
      "D:\\lakemapping\\2_dataset\\sample747\\shp\\output2\\pad_area_17388.shp\n"
     ]
    },
    {
     "data": {
      "text/plain": [
       "0"
      ]
     },
     "execution_count": 36,
     "metadata": {},
     "output_type": "execute_result"
    },
    {
     "data": {
      "text/plain": [
       "0"
      ]
     },
     "execution_count": 36,
     "metadata": {},
     "output_type": "execute_result"
    },
    {
     "data": {
      "text/plain": [
       "0"
      ]
     },
     "execution_count": 36,
     "metadata": {},
     "output_type": "execute_result"
    },
    {
     "name": "stdout",
     "output_type": "stream",
     "text": [
      "image_17920.tif\n",
      "pad_area_17920.shp\n",
      "D:\\lakemapping\\2_dataset\\sample747\\shp\\output2\\pad_area_17920.shp\n"
     ]
    },
    {
     "data": {
      "text/plain": [
       "0"
      ]
     },
     "execution_count": 36,
     "metadata": {},
     "output_type": "execute_result"
    },
    {
     "data": {
      "text/plain": [
       "0"
      ]
     },
     "execution_count": 36,
     "metadata": {},
     "output_type": "execute_result"
    },
    {
     "data": {
      "text/plain": [
       "0"
      ]
     },
     "execution_count": 36,
     "metadata": {},
     "output_type": "execute_result"
    },
    {
     "name": "stdout",
     "output_type": "stream",
     "text": [
      "image_18569.tif\n",
      "pad_area_18569.shp\n",
      "D:\\lakemapping\\2_dataset\\sample747\\shp\\output2\\pad_area_18569.shp\n"
     ]
    },
    {
     "data": {
      "text/plain": [
       "0"
      ]
     },
     "execution_count": 36,
     "metadata": {},
     "output_type": "execute_result"
    },
    {
     "data": {
      "text/plain": [
       "0"
      ]
     },
     "execution_count": 36,
     "metadata": {},
     "output_type": "execute_result"
    },
    {
     "data": {
      "text/plain": [
       "0"
      ]
     },
     "execution_count": 36,
     "metadata": {},
     "output_type": "execute_result"
    },
    {
     "name": "stdout",
     "output_type": "stream",
     "text": [
      "image_18605.tif\n",
      "pad_area_18605.shp\n",
      "D:\\lakemapping\\2_dataset\\sample747\\shp\\output2\\pad_area_18605.shp\n"
     ]
    },
    {
     "data": {
      "text/plain": [
       "0"
      ]
     },
     "execution_count": 36,
     "metadata": {},
     "output_type": "execute_result"
    },
    {
     "data": {
      "text/plain": [
       "0"
      ]
     },
     "execution_count": 36,
     "metadata": {},
     "output_type": "execute_result"
    },
    {
     "data": {
      "text/plain": [
       "0"
      ]
     },
     "execution_count": 36,
     "metadata": {},
     "output_type": "execute_result"
    },
    {
     "name": "stdout",
     "output_type": "stream",
     "text": [
      "image_18618.tif\n",
      "pad_area_18618.shp\n",
      "D:\\lakemapping\\2_dataset\\sample747\\shp\\output2\\pad_area_18618.shp\n"
     ]
    },
    {
     "data": {
      "text/plain": [
       "0"
      ]
     },
     "execution_count": 36,
     "metadata": {},
     "output_type": "execute_result"
    },
    {
     "data": {
      "text/plain": [
       "0"
      ]
     },
     "execution_count": 36,
     "metadata": {},
     "output_type": "execute_result"
    },
    {
     "data": {
      "text/plain": [
       "0"
      ]
     },
     "execution_count": 36,
     "metadata": {},
     "output_type": "execute_result"
    },
    {
     "name": "stdout",
     "output_type": "stream",
     "text": [
      "image_18818.tif\n",
      "pad_area_18818.shp\n",
      "D:\\lakemapping\\2_dataset\\sample747\\shp\\output2\\pad_area_18818.shp\n"
     ]
    },
    {
     "data": {
      "text/plain": [
       "0"
      ]
     },
     "execution_count": 36,
     "metadata": {},
     "output_type": "execute_result"
    },
    {
     "data": {
      "text/plain": [
       "0"
      ]
     },
     "execution_count": 36,
     "metadata": {},
     "output_type": "execute_result"
    },
    {
     "data": {
      "text/plain": [
       "0"
      ]
     },
     "execution_count": 36,
     "metadata": {},
     "output_type": "execute_result"
    },
    {
     "name": "stdout",
     "output_type": "stream",
     "text": [
      "image_2080.tif\n",
      "pad_area_2080.shp\n",
      "D:\\lakemapping\\2_dataset\\sample747\\shp\\output2\\pad_area_2080.shp\n"
     ]
    },
    {
     "data": {
      "text/plain": [
       "0"
      ]
     },
     "execution_count": 36,
     "metadata": {},
     "output_type": "execute_result"
    },
    {
     "data": {
      "text/plain": [
       "0"
      ]
     },
     "execution_count": 36,
     "metadata": {},
     "output_type": "execute_result"
    },
    {
     "data": {
      "text/plain": [
       "0"
      ]
     },
     "execution_count": 36,
     "metadata": {},
     "output_type": "execute_result"
    },
    {
     "name": "stdout",
     "output_type": "stream",
     "text": [
      "image_2094.tif\n",
      "pad_area_2094.shp\n",
      "D:\\lakemapping\\2_dataset\\sample747\\shp\\output2\\pad_area_2094.shp\n"
     ]
    },
    {
     "data": {
      "text/plain": [
       "0"
      ]
     },
     "execution_count": 36,
     "metadata": {},
     "output_type": "execute_result"
    },
    {
     "data": {
      "text/plain": [
       "0"
      ]
     },
     "execution_count": 36,
     "metadata": {},
     "output_type": "execute_result"
    },
    {
     "data": {
      "text/plain": [
       "0"
      ]
     },
     "execution_count": 36,
     "metadata": {},
     "output_type": "execute_result"
    },
    {
     "name": "stdout",
     "output_type": "stream",
     "text": [
      "image_2561.tif\n",
      "pad_area_2561.shp\n",
      "D:\\lakemapping\\2_dataset\\sample747\\shp\\output2\\pad_area_2561.shp\n"
     ]
    },
    {
     "data": {
      "text/plain": [
       "0"
      ]
     },
     "execution_count": 36,
     "metadata": {},
     "output_type": "execute_result"
    },
    {
     "data": {
      "text/plain": [
       "0"
      ]
     },
     "execution_count": 36,
     "metadata": {},
     "output_type": "execute_result"
    },
    {
     "data": {
      "text/plain": [
       "0"
      ]
     },
     "execution_count": 36,
     "metadata": {},
     "output_type": "execute_result"
    },
    {
     "name": "stdout",
     "output_type": "stream",
     "text": [
      "image_2604.tif\n",
      "pad_area_2604.shp\n",
      "D:\\lakemapping\\2_dataset\\sample747\\shp\\output2\\pad_area_2604.shp\n"
     ]
    },
    {
     "data": {
      "text/plain": [
       "0"
      ]
     },
     "execution_count": 36,
     "metadata": {},
     "output_type": "execute_result"
    },
    {
     "data": {
      "text/plain": [
       "0"
      ]
     },
     "execution_count": 36,
     "metadata": {},
     "output_type": "execute_result"
    },
    {
     "data": {
      "text/plain": [
       "0"
      ]
     },
     "execution_count": 36,
     "metadata": {},
     "output_type": "execute_result"
    },
    {
     "name": "stdout",
     "output_type": "stream",
     "text": [
      "image_2739.tif\n",
      "pad_area_2739.shp\n",
      "D:\\lakemapping\\2_dataset\\sample747\\shp\\output2\\pad_area_2739.shp\n"
     ]
    },
    {
     "data": {
      "text/plain": [
       "0"
      ]
     },
     "execution_count": 36,
     "metadata": {},
     "output_type": "execute_result"
    },
    {
     "data": {
      "text/plain": [
       "0"
      ]
     },
     "execution_count": 36,
     "metadata": {},
     "output_type": "execute_result"
    },
    {
     "data": {
      "text/plain": [
       "0"
      ]
     },
     "execution_count": 36,
     "metadata": {},
     "output_type": "execute_result"
    },
    {
     "name": "stdout",
     "output_type": "stream",
     "text": [
      "image_2929.tif\n",
      "pad_area_2929.shp\n",
      "D:\\lakemapping\\2_dataset\\sample747\\shp\\output2\\pad_area_2929.shp\n"
     ]
    },
    {
     "data": {
      "text/plain": [
       "0"
      ]
     },
     "execution_count": 36,
     "metadata": {},
     "output_type": "execute_result"
    },
    {
     "data": {
      "text/plain": [
       "0"
      ]
     },
     "execution_count": 36,
     "metadata": {},
     "output_type": "execute_result"
    },
    {
     "data": {
      "text/plain": [
       "0"
      ]
     },
     "execution_count": 36,
     "metadata": {},
     "output_type": "execute_result"
    },
    {
     "name": "stdout",
     "output_type": "stream",
     "text": [
      "image_3023.tif\n",
      "pad_area_3023.shp\n",
      "D:\\lakemapping\\2_dataset\\sample747\\shp\\output2\\pad_area_3023.shp\n"
     ]
    },
    {
     "data": {
      "text/plain": [
       "0"
      ]
     },
     "execution_count": 36,
     "metadata": {},
     "output_type": "execute_result"
    },
    {
     "data": {
      "text/plain": [
       "0"
      ]
     },
     "execution_count": 36,
     "metadata": {},
     "output_type": "execute_result"
    },
    {
     "data": {
      "text/plain": [
       "0"
      ]
     },
     "execution_count": 36,
     "metadata": {},
     "output_type": "execute_result"
    },
    {
     "name": "stdout",
     "output_type": "stream",
     "text": [
      "image_3205.tif\n",
      "pad_area_3205.shp\n",
      "D:\\lakemapping\\2_dataset\\sample747\\shp\\output2\\pad_area_3205.shp\n"
     ]
    },
    {
     "data": {
      "text/plain": [
       "0"
      ]
     },
     "execution_count": 36,
     "metadata": {},
     "output_type": "execute_result"
    },
    {
     "data": {
      "text/plain": [
       "0"
      ]
     },
     "execution_count": 36,
     "metadata": {},
     "output_type": "execute_result"
    },
    {
     "data": {
      "text/plain": [
       "0"
      ]
     },
     "execution_count": 36,
     "metadata": {},
     "output_type": "execute_result"
    },
    {
     "name": "stdout",
     "output_type": "stream",
     "text": [
      "image_3421.tif\n",
      "pad_area_3421.shp\n",
      "D:\\lakemapping\\2_dataset\\sample747\\shp\\output2\\pad_area_3421.shp\n"
     ]
    },
    {
     "data": {
      "text/plain": [
       "0"
      ]
     },
     "execution_count": 36,
     "metadata": {},
     "output_type": "execute_result"
    },
    {
     "data": {
      "text/plain": [
       "0"
      ]
     },
     "execution_count": 36,
     "metadata": {},
     "output_type": "execute_result"
    },
    {
     "data": {
      "text/plain": [
       "0"
      ]
     },
     "execution_count": 36,
     "metadata": {},
     "output_type": "execute_result"
    },
    {
     "name": "stdout",
     "output_type": "stream",
     "text": [
      "image_3454.tif\n",
      "pad_area_3454.shp\n",
      "D:\\lakemapping\\2_dataset\\sample747\\shp\\output2\\pad_area_3454.shp\n"
     ]
    },
    {
     "data": {
      "text/plain": [
       "0"
      ]
     },
     "execution_count": 36,
     "metadata": {},
     "output_type": "execute_result"
    },
    {
     "data": {
      "text/plain": [
       "0"
      ]
     },
     "execution_count": 36,
     "metadata": {},
     "output_type": "execute_result"
    },
    {
     "data": {
      "text/plain": [
       "0"
      ]
     },
     "execution_count": 36,
     "metadata": {},
     "output_type": "execute_result"
    },
    {
     "name": "stdout",
     "output_type": "stream",
     "text": [
      "image_3461.tif\n",
      "pad_area_3461.shp\n",
      "D:\\lakemapping\\2_dataset\\sample747\\shp\\output2\\pad_area_3461.shp\n"
     ]
    },
    {
     "data": {
      "text/plain": [
       "0"
      ]
     },
     "execution_count": 36,
     "metadata": {},
     "output_type": "execute_result"
    },
    {
     "data": {
      "text/plain": [
       "0"
      ]
     },
     "execution_count": 36,
     "metadata": {},
     "output_type": "execute_result"
    },
    {
     "data": {
      "text/plain": [
       "0"
      ]
     },
     "execution_count": 36,
     "metadata": {},
     "output_type": "execute_result"
    },
    {
     "name": "stdout",
     "output_type": "stream",
     "text": [
      "image_347.tif\n",
      "pad_area_347.shp\n",
      "D:\\lakemapping\\2_dataset\\sample747\\shp\\output2\\pad_area_347.shp\n"
     ]
    },
    {
     "data": {
      "text/plain": [
       "0"
      ]
     },
     "execution_count": 36,
     "metadata": {},
     "output_type": "execute_result"
    },
    {
     "data": {
      "text/plain": [
       "0"
      ]
     },
     "execution_count": 36,
     "metadata": {},
     "output_type": "execute_result"
    },
    {
     "data": {
      "text/plain": [
       "0"
      ]
     },
     "execution_count": 36,
     "metadata": {},
     "output_type": "execute_result"
    },
    {
     "name": "stdout",
     "output_type": "stream",
     "text": [
      "image_3477.tif\n",
      "pad_area_3477.shp\n",
      "D:\\lakemapping\\2_dataset\\sample747\\shp\\output2\\pad_area_3477.shp\n"
     ]
    },
    {
     "data": {
      "text/plain": [
       "0"
      ]
     },
     "execution_count": 36,
     "metadata": {},
     "output_type": "execute_result"
    },
    {
     "data": {
      "text/plain": [
       "0"
      ]
     },
     "execution_count": 36,
     "metadata": {},
     "output_type": "execute_result"
    },
    {
     "data": {
      "text/plain": [
       "0"
      ]
     },
     "execution_count": 36,
     "metadata": {},
     "output_type": "execute_result"
    },
    {
     "name": "stdout",
     "output_type": "stream",
     "text": [
      "image_349.tif\n",
      "pad_area_349.shp\n",
      "D:\\lakemapping\\2_dataset\\sample747\\shp\\output2\\pad_area_349.shp\n"
     ]
    },
    {
     "data": {
      "text/plain": [
       "0"
      ]
     },
     "execution_count": 36,
     "metadata": {},
     "output_type": "execute_result"
    },
    {
     "data": {
      "text/plain": [
       "0"
      ]
     },
     "execution_count": 36,
     "metadata": {},
     "output_type": "execute_result"
    },
    {
     "data": {
      "text/plain": [
       "0"
      ]
     },
     "execution_count": 36,
     "metadata": {},
     "output_type": "execute_result"
    },
    {
     "name": "stdout",
     "output_type": "stream",
     "text": [
      "image_3501.tif\n",
      "pad_area_3501.shp\n",
      "D:\\lakemapping\\2_dataset\\sample747\\shp\\output2\\pad_area_3501.shp\n"
     ]
    },
    {
     "data": {
      "text/plain": [
       "0"
      ]
     },
     "execution_count": 36,
     "metadata": {},
     "output_type": "execute_result"
    },
    {
     "data": {
      "text/plain": [
       "0"
      ]
     },
     "execution_count": 36,
     "metadata": {},
     "output_type": "execute_result"
    },
    {
     "data": {
      "text/plain": [
       "0"
      ]
     },
     "execution_count": 36,
     "metadata": {},
     "output_type": "execute_result"
    },
    {
     "name": "stdout",
     "output_type": "stream",
     "text": [
      "image_3535.tif\n",
      "pad_area_3535.shp\n",
      "D:\\lakemapping\\2_dataset\\sample747\\shp\\output2\\pad_area_3535.shp\n"
     ]
    },
    {
     "data": {
      "text/plain": [
       "0"
      ]
     },
     "execution_count": 36,
     "metadata": {},
     "output_type": "execute_result"
    },
    {
     "data": {
      "text/plain": [
       "0"
      ]
     },
     "execution_count": 36,
     "metadata": {},
     "output_type": "execute_result"
    },
    {
     "data": {
      "text/plain": [
       "0"
      ]
     },
     "execution_count": 36,
     "metadata": {},
     "output_type": "execute_result"
    },
    {
     "name": "stdout",
     "output_type": "stream",
     "text": [
      "image_3565.tif\n",
      "pad_area_3565.shp\n",
      "D:\\lakemapping\\2_dataset\\sample747\\shp\\output2\\pad_area_3565.shp\n"
     ]
    },
    {
     "data": {
      "text/plain": [
       "0"
      ]
     },
     "execution_count": 36,
     "metadata": {},
     "output_type": "execute_result"
    },
    {
     "data": {
      "text/plain": [
       "0"
      ]
     },
     "execution_count": 36,
     "metadata": {},
     "output_type": "execute_result"
    },
    {
     "data": {
      "text/plain": [
       "0"
      ]
     },
     "execution_count": 36,
     "metadata": {},
     "output_type": "execute_result"
    },
    {
     "name": "stdout",
     "output_type": "stream",
     "text": [
      "image_3624.tif\n",
      "pad_area_3624.shp\n",
      "D:\\lakemapping\\2_dataset\\sample747\\shp\\output2\\pad_area_3624.shp\n"
     ]
    },
    {
     "data": {
      "text/plain": [
       "0"
      ]
     },
     "execution_count": 36,
     "metadata": {},
     "output_type": "execute_result"
    },
    {
     "data": {
      "text/plain": [
       "0"
      ]
     },
     "execution_count": 36,
     "metadata": {},
     "output_type": "execute_result"
    },
    {
     "data": {
      "text/plain": [
       "0"
      ]
     },
     "execution_count": 36,
     "metadata": {},
     "output_type": "execute_result"
    },
    {
     "name": "stdout",
     "output_type": "stream",
     "text": [
      "image_3876.tif\n",
      "pad_area_3876.shp\n",
      "D:\\lakemapping\\2_dataset\\sample747\\shp\\output2\\pad_area_3876.shp\n"
     ]
    },
    {
     "data": {
      "text/plain": [
       "0"
      ]
     },
     "execution_count": 36,
     "metadata": {},
     "output_type": "execute_result"
    },
    {
     "data": {
      "text/plain": [
       "0"
      ]
     },
     "execution_count": 36,
     "metadata": {},
     "output_type": "execute_result"
    },
    {
     "data": {
      "text/plain": [
       "0"
      ]
     },
     "execution_count": 36,
     "metadata": {},
     "output_type": "execute_result"
    },
    {
     "name": "stdout",
     "output_type": "stream",
     "text": [
      "image_3886.tif\n",
      "pad_area_3886.shp\n",
      "D:\\lakemapping\\2_dataset\\sample747\\shp\\output2\\pad_area_3886.shp\n"
     ]
    },
    {
     "data": {
      "text/plain": [
       "0"
      ]
     },
     "execution_count": 36,
     "metadata": {},
     "output_type": "execute_result"
    },
    {
     "data": {
      "text/plain": [
       "0"
      ]
     },
     "execution_count": 36,
     "metadata": {},
     "output_type": "execute_result"
    },
    {
     "data": {
      "text/plain": [
       "0"
      ]
     },
     "execution_count": 36,
     "metadata": {},
     "output_type": "execute_result"
    },
    {
     "name": "stdout",
     "output_type": "stream",
     "text": [
      "image_3921.tif\n",
      "pad_area_3921.shp\n",
      "D:\\lakemapping\\2_dataset\\sample747\\shp\\output2\\pad_area_3921.shp\n"
     ]
    },
    {
     "data": {
      "text/plain": [
       "0"
      ]
     },
     "execution_count": 36,
     "metadata": {},
     "output_type": "execute_result"
    },
    {
     "data": {
      "text/plain": [
       "0"
      ]
     },
     "execution_count": 36,
     "metadata": {},
     "output_type": "execute_result"
    },
    {
     "data": {
      "text/plain": [
       "0"
      ]
     },
     "execution_count": 36,
     "metadata": {},
     "output_type": "execute_result"
    },
    {
     "name": "stdout",
     "output_type": "stream",
     "text": [
      "image_3928.tif\n",
      "pad_area_3928.shp\n",
      "D:\\lakemapping\\2_dataset\\sample747\\shp\\output2\\pad_area_3928.shp\n"
     ]
    },
    {
     "data": {
      "text/plain": [
       "0"
      ]
     },
     "execution_count": 36,
     "metadata": {},
     "output_type": "execute_result"
    },
    {
     "data": {
      "text/plain": [
       "0"
      ]
     },
     "execution_count": 36,
     "metadata": {},
     "output_type": "execute_result"
    },
    {
     "data": {
      "text/plain": [
       "0"
      ]
     },
     "execution_count": 36,
     "metadata": {},
     "output_type": "execute_result"
    },
    {
     "name": "stdout",
     "output_type": "stream",
     "text": [
      "image_3932.tif\n",
      "pad_area_3932.shp\n",
      "D:\\lakemapping\\2_dataset\\sample747\\shp\\output2\\pad_area_3932.shp\n"
     ]
    },
    {
     "data": {
      "text/plain": [
       "0"
      ]
     },
     "execution_count": 36,
     "metadata": {},
     "output_type": "execute_result"
    },
    {
     "data": {
      "text/plain": [
       "0"
      ]
     },
     "execution_count": 36,
     "metadata": {},
     "output_type": "execute_result"
    },
    {
     "data": {
      "text/plain": [
       "0"
      ]
     },
     "execution_count": 36,
     "metadata": {},
     "output_type": "execute_result"
    },
    {
     "name": "stdout",
     "output_type": "stream",
     "text": [
      "image_4030.tif\n",
      "pad_area_4030.shp\n",
      "D:\\lakemapping\\2_dataset\\sample747\\shp\\output2\\pad_area_4030.shp\n"
     ]
    },
    {
     "data": {
      "text/plain": [
       "0"
      ]
     },
     "execution_count": 36,
     "metadata": {},
     "output_type": "execute_result"
    },
    {
     "data": {
      "text/plain": [
       "0"
      ]
     },
     "execution_count": 36,
     "metadata": {},
     "output_type": "execute_result"
    },
    {
     "data": {
      "text/plain": [
       "0"
      ]
     },
     "execution_count": 36,
     "metadata": {},
     "output_type": "execute_result"
    },
    {
     "name": "stdout",
     "output_type": "stream",
     "text": [
      "image_4052.tif\n",
      "pad_area_4052.shp\n",
      "D:\\lakemapping\\2_dataset\\sample747\\shp\\output2\\pad_area_4052.shp\n"
     ]
    },
    {
     "data": {
      "text/plain": [
       "0"
      ]
     },
     "execution_count": 36,
     "metadata": {},
     "output_type": "execute_result"
    },
    {
     "data": {
      "text/plain": [
       "0"
      ]
     },
     "execution_count": 36,
     "metadata": {},
     "output_type": "execute_result"
    },
    {
     "data": {
      "text/plain": [
       "0"
      ]
     },
     "execution_count": 36,
     "metadata": {},
     "output_type": "execute_result"
    },
    {
     "name": "stdout",
     "output_type": "stream",
     "text": [
      "image_4482.tif\n",
      "pad_area_4482.shp\n",
      "D:\\lakemapping\\2_dataset\\sample747\\shp\\output2\\pad_area_4482.shp\n"
     ]
    },
    {
     "data": {
      "text/plain": [
       "0"
      ]
     },
     "execution_count": 36,
     "metadata": {},
     "output_type": "execute_result"
    },
    {
     "data": {
      "text/plain": [
       "0"
      ]
     },
     "execution_count": 36,
     "metadata": {},
     "output_type": "execute_result"
    },
    {
     "data": {
      "text/plain": [
       "0"
      ]
     },
     "execution_count": 36,
     "metadata": {},
     "output_type": "execute_result"
    },
    {
     "name": "stdout",
     "output_type": "stream",
     "text": [
      "image_4582.tif\n",
      "pad_area_4582.shp\n",
      "D:\\lakemapping\\2_dataset\\sample747\\shp\\output2\\pad_area_4582.shp\n"
     ]
    },
    {
     "data": {
      "text/plain": [
       "0"
      ]
     },
     "execution_count": 36,
     "metadata": {},
     "output_type": "execute_result"
    },
    {
     "data": {
      "text/plain": [
       "0"
      ]
     },
     "execution_count": 36,
     "metadata": {},
     "output_type": "execute_result"
    },
    {
     "data": {
      "text/plain": [
       "0"
      ]
     },
     "execution_count": 36,
     "metadata": {},
     "output_type": "execute_result"
    },
    {
     "name": "stdout",
     "output_type": "stream",
     "text": [
      "image_4631.tif\n",
      "pad_area_4631.shp\n",
      "D:\\lakemapping\\2_dataset\\sample747\\shp\\output2\\pad_area_4631.shp\n"
     ]
    },
    {
     "data": {
      "text/plain": [
       "0"
      ]
     },
     "execution_count": 36,
     "metadata": {},
     "output_type": "execute_result"
    },
    {
     "data": {
      "text/plain": [
       "0"
      ]
     },
     "execution_count": 36,
     "metadata": {},
     "output_type": "execute_result"
    },
    {
     "data": {
      "text/plain": [
       "0"
      ]
     },
     "execution_count": 36,
     "metadata": {},
     "output_type": "execute_result"
    },
    {
     "name": "stdout",
     "output_type": "stream",
     "text": [
      "image_4850.tif\n",
      "pad_area_4850.shp\n",
      "D:\\lakemapping\\2_dataset\\sample747\\shp\\output2\\pad_area_4850.shp\n"
     ]
    },
    {
     "data": {
      "text/plain": [
       "0"
      ]
     },
     "execution_count": 36,
     "metadata": {},
     "output_type": "execute_result"
    },
    {
     "data": {
      "text/plain": [
       "0"
      ]
     },
     "execution_count": 36,
     "metadata": {},
     "output_type": "execute_result"
    },
    {
     "data": {
      "text/plain": [
       "0"
      ]
     },
     "execution_count": 36,
     "metadata": {},
     "output_type": "execute_result"
    },
    {
     "name": "stdout",
     "output_type": "stream",
     "text": [
      "image_4851.tif\n",
      "pad_area_4851.shp\n",
      "D:\\lakemapping\\2_dataset\\sample747\\shp\\output2\\pad_area_4851.shp\n"
     ]
    },
    {
     "data": {
      "text/plain": [
       "0"
      ]
     },
     "execution_count": 36,
     "metadata": {},
     "output_type": "execute_result"
    },
    {
     "data": {
      "text/plain": [
       "0"
      ]
     },
     "execution_count": 36,
     "metadata": {},
     "output_type": "execute_result"
    },
    {
     "data": {
      "text/plain": [
       "0"
      ]
     },
     "execution_count": 36,
     "metadata": {},
     "output_type": "execute_result"
    },
    {
     "name": "stdout",
     "output_type": "stream",
     "text": [
      "image_4886.tif\n",
      "pad_area_4886.shp\n",
      "D:\\lakemapping\\2_dataset\\sample747\\shp\\output2\\pad_area_4886.shp\n"
     ]
    },
    {
     "data": {
      "text/plain": [
       "0"
      ]
     },
     "execution_count": 36,
     "metadata": {},
     "output_type": "execute_result"
    },
    {
     "data": {
      "text/plain": [
       "0"
      ]
     },
     "execution_count": 36,
     "metadata": {},
     "output_type": "execute_result"
    },
    {
     "data": {
      "text/plain": [
       "0"
      ]
     },
     "execution_count": 36,
     "metadata": {},
     "output_type": "execute_result"
    },
    {
     "name": "stdout",
     "output_type": "stream",
     "text": [
      "image_4892.tif\n",
      "pad_area_4892.shp\n",
      "D:\\lakemapping\\2_dataset\\sample747\\shp\\output2\\pad_area_4892.shp\n"
     ]
    },
    {
     "data": {
      "text/plain": [
       "0"
      ]
     },
     "execution_count": 36,
     "metadata": {},
     "output_type": "execute_result"
    },
    {
     "data": {
      "text/plain": [
       "0"
      ]
     },
     "execution_count": 36,
     "metadata": {},
     "output_type": "execute_result"
    },
    {
     "data": {
      "text/plain": [
       "0"
      ]
     },
     "execution_count": 36,
     "metadata": {},
     "output_type": "execute_result"
    },
    {
     "name": "stdout",
     "output_type": "stream",
     "text": [
      "image_4917.tif\n",
      "pad_area_4917.shp\n",
      "D:\\lakemapping\\2_dataset\\sample747\\shp\\output2\\pad_area_4917.shp\n"
     ]
    },
    {
     "data": {
      "text/plain": [
       "0"
      ]
     },
     "execution_count": 36,
     "metadata": {},
     "output_type": "execute_result"
    },
    {
     "data": {
      "text/plain": [
       "0"
      ]
     },
     "execution_count": 36,
     "metadata": {},
     "output_type": "execute_result"
    },
    {
     "data": {
      "text/plain": [
       "0"
      ]
     },
     "execution_count": 36,
     "metadata": {},
     "output_type": "execute_result"
    },
    {
     "name": "stdout",
     "output_type": "stream",
     "text": [
      "image_4949.tif\n",
      "pad_area_4949.shp\n",
      "D:\\lakemapping\\2_dataset\\sample747\\shp\\output2\\pad_area_4949.shp\n"
     ]
    },
    {
     "data": {
      "text/plain": [
       "0"
      ]
     },
     "execution_count": 36,
     "metadata": {},
     "output_type": "execute_result"
    },
    {
     "data": {
      "text/plain": [
       "0"
      ]
     },
     "execution_count": 36,
     "metadata": {},
     "output_type": "execute_result"
    },
    {
     "data": {
      "text/plain": [
       "0"
      ]
     },
     "execution_count": 36,
     "metadata": {},
     "output_type": "execute_result"
    },
    {
     "name": "stdout",
     "output_type": "stream",
     "text": [
      "image_4976.tif\n",
      "pad_area_4976.shp\n",
      "D:\\lakemapping\\2_dataset\\sample747\\shp\\output2\\pad_area_4976.shp\n"
     ]
    },
    {
     "data": {
      "text/plain": [
       "0"
      ]
     },
     "execution_count": 36,
     "metadata": {},
     "output_type": "execute_result"
    },
    {
     "data": {
      "text/plain": [
       "0"
      ]
     },
     "execution_count": 36,
     "metadata": {},
     "output_type": "execute_result"
    },
    {
     "data": {
      "text/plain": [
       "0"
      ]
     },
     "execution_count": 36,
     "metadata": {},
     "output_type": "execute_result"
    },
    {
     "name": "stdout",
     "output_type": "stream",
     "text": [
      "image_5039.tif\n",
      "pad_area_5039.shp\n",
      "D:\\lakemapping\\2_dataset\\sample747\\shp\\output2\\pad_area_5039.shp\n"
     ]
    },
    {
     "data": {
      "text/plain": [
       "0"
      ]
     },
     "execution_count": 36,
     "metadata": {},
     "output_type": "execute_result"
    },
    {
     "data": {
      "text/plain": [
       "0"
      ]
     },
     "execution_count": 36,
     "metadata": {},
     "output_type": "execute_result"
    },
    {
     "data": {
      "text/plain": [
       "0"
      ]
     },
     "execution_count": 36,
     "metadata": {},
     "output_type": "execute_result"
    },
    {
     "name": "stdout",
     "output_type": "stream",
     "text": [
      "image_5053.tif\n",
      "pad_area_5053.shp\n",
      "D:\\lakemapping\\2_dataset\\sample747\\shp\\output2\\pad_area_5053.shp\n"
     ]
    },
    {
     "data": {
      "text/plain": [
       "0"
      ]
     },
     "execution_count": 36,
     "metadata": {},
     "output_type": "execute_result"
    },
    {
     "data": {
      "text/plain": [
       "0"
      ]
     },
     "execution_count": 36,
     "metadata": {},
     "output_type": "execute_result"
    },
    {
     "data": {
      "text/plain": [
       "0"
      ]
     },
     "execution_count": 36,
     "metadata": {},
     "output_type": "execute_result"
    },
    {
     "name": "stdout",
     "output_type": "stream",
     "text": [
      "image_5062.tif\n",
      "pad_area_5062.shp\n",
      "D:\\lakemapping\\2_dataset\\sample747\\shp\\output2\\pad_area_5062.shp\n"
     ]
    },
    {
     "data": {
      "text/plain": [
       "0"
      ]
     },
     "execution_count": 36,
     "metadata": {},
     "output_type": "execute_result"
    },
    {
     "data": {
      "text/plain": [
       "0"
      ]
     },
     "execution_count": 36,
     "metadata": {},
     "output_type": "execute_result"
    },
    {
     "data": {
      "text/plain": [
       "0"
      ]
     },
     "execution_count": 36,
     "metadata": {},
     "output_type": "execute_result"
    },
    {
     "name": "stdout",
     "output_type": "stream",
     "text": [
      "image_5087.tif\n",
      "pad_area_5087.shp\n",
      "D:\\lakemapping\\2_dataset\\sample747\\shp\\output2\\pad_area_5087.shp\n"
     ]
    },
    {
     "data": {
      "text/plain": [
       "0"
      ]
     },
     "execution_count": 36,
     "metadata": {},
     "output_type": "execute_result"
    },
    {
     "data": {
      "text/plain": [
       "0"
      ]
     },
     "execution_count": 36,
     "metadata": {},
     "output_type": "execute_result"
    },
    {
     "data": {
      "text/plain": [
       "0"
      ]
     },
     "execution_count": 36,
     "metadata": {},
     "output_type": "execute_result"
    },
    {
     "name": "stdout",
     "output_type": "stream",
     "text": [
      "image_5116.tif\n",
      "pad_area_5116.shp\n",
      "D:\\lakemapping\\2_dataset\\sample747\\shp\\output2\\pad_area_5116.shp\n"
     ]
    },
    {
     "data": {
      "text/plain": [
       "0"
      ]
     },
     "execution_count": 36,
     "metadata": {},
     "output_type": "execute_result"
    },
    {
     "data": {
      "text/plain": [
       "0"
      ]
     },
     "execution_count": 36,
     "metadata": {},
     "output_type": "execute_result"
    },
    {
     "data": {
      "text/plain": [
       "0"
      ]
     },
     "execution_count": 36,
     "metadata": {},
     "output_type": "execute_result"
    },
    {
     "name": "stdout",
     "output_type": "stream",
     "text": [
      "image_5123.tif\n",
      "pad_area_5123.shp\n",
      "D:\\lakemapping\\2_dataset\\sample747\\shp\\output2\\pad_area_5123.shp\n"
     ]
    },
    {
     "data": {
      "text/plain": [
       "0"
      ]
     },
     "execution_count": 36,
     "metadata": {},
     "output_type": "execute_result"
    },
    {
     "data": {
      "text/plain": [
       "0"
      ]
     },
     "execution_count": 36,
     "metadata": {},
     "output_type": "execute_result"
    },
    {
     "data": {
      "text/plain": [
       "0"
      ]
     },
     "execution_count": 36,
     "metadata": {},
     "output_type": "execute_result"
    },
    {
     "name": "stdout",
     "output_type": "stream",
     "text": [
      "image_5264.tif\n",
      "pad_area_5264.shp\n",
      "D:\\lakemapping\\2_dataset\\sample747\\shp\\output2\\pad_area_5264.shp\n"
     ]
    },
    {
     "data": {
      "text/plain": [
       "0"
      ]
     },
     "execution_count": 36,
     "metadata": {},
     "output_type": "execute_result"
    },
    {
     "data": {
      "text/plain": [
       "0"
      ]
     },
     "execution_count": 36,
     "metadata": {},
     "output_type": "execute_result"
    },
    {
     "data": {
      "text/plain": [
       "0"
      ]
     },
     "execution_count": 36,
     "metadata": {},
     "output_type": "execute_result"
    },
    {
     "name": "stdout",
     "output_type": "stream",
     "text": [
      "image_5560.tif\n",
      "pad_area_5560.shp\n",
      "D:\\lakemapping\\2_dataset\\sample747\\shp\\output2\\pad_area_5560.shp\n"
     ]
    },
    {
     "data": {
      "text/plain": [
       "0"
      ]
     },
     "execution_count": 36,
     "metadata": {},
     "output_type": "execute_result"
    },
    {
     "data": {
      "text/plain": [
       "0"
      ]
     },
     "execution_count": 36,
     "metadata": {},
     "output_type": "execute_result"
    },
    {
     "data": {
      "text/plain": [
       "0"
      ]
     },
     "execution_count": 36,
     "metadata": {},
     "output_type": "execute_result"
    },
    {
     "name": "stdout",
     "output_type": "stream",
     "text": [
      "image_5719.tif\n",
      "pad_area_5719.shp\n",
      "D:\\lakemapping\\2_dataset\\sample747\\shp\\output2\\pad_area_5719.shp\n"
     ]
    },
    {
     "data": {
      "text/plain": [
       "0"
      ]
     },
     "execution_count": 36,
     "metadata": {},
     "output_type": "execute_result"
    },
    {
     "data": {
      "text/plain": [
       "0"
      ]
     },
     "execution_count": 36,
     "metadata": {},
     "output_type": "execute_result"
    },
    {
     "data": {
      "text/plain": [
       "0"
      ]
     },
     "execution_count": 36,
     "metadata": {},
     "output_type": "execute_result"
    },
    {
     "name": "stdout",
     "output_type": "stream",
     "text": [
      "image_5919.tif\n",
      "pad_area_5919.shp\n",
      "D:\\lakemapping\\2_dataset\\sample747\\shp\\output2\\pad_area_5919.shp\n"
     ]
    },
    {
     "data": {
      "text/plain": [
       "0"
      ]
     },
     "execution_count": 36,
     "metadata": {},
     "output_type": "execute_result"
    },
    {
     "data": {
      "text/plain": [
       "0"
      ]
     },
     "execution_count": 36,
     "metadata": {},
     "output_type": "execute_result"
    },
    {
     "data": {
      "text/plain": [
       "0"
      ]
     },
     "execution_count": 36,
     "metadata": {},
     "output_type": "execute_result"
    },
    {
     "name": "stdout",
     "output_type": "stream",
     "text": [
      "image_6182.tif\n",
      "pad_area_6182.shp\n",
      "D:\\lakemapping\\2_dataset\\sample747\\shp\\output2\\pad_area_6182.shp\n"
     ]
    },
    {
     "data": {
      "text/plain": [
       "0"
      ]
     },
     "execution_count": 36,
     "metadata": {},
     "output_type": "execute_result"
    },
    {
     "data": {
      "text/plain": [
       "0"
      ]
     },
     "execution_count": 36,
     "metadata": {},
     "output_type": "execute_result"
    },
    {
     "data": {
      "text/plain": [
       "0"
      ]
     },
     "execution_count": 36,
     "metadata": {},
     "output_type": "execute_result"
    },
    {
     "name": "stdout",
     "output_type": "stream",
     "text": [
      "image_6193.tif\n",
      "pad_area_6193.shp\n",
      "D:\\lakemapping\\2_dataset\\sample747\\shp\\output2\\pad_area_6193.shp\n"
     ]
    },
    {
     "data": {
      "text/plain": [
       "0"
      ]
     },
     "execution_count": 36,
     "metadata": {},
     "output_type": "execute_result"
    },
    {
     "data": {
      "text/plain": [
       "0"
      ]
     },
     "execution_count": 36,
     "metadata": {},
     "output_type": "execute_result"
    },
    {
     "data": {
      "text/plain": [
       "0"
      ]
     },
     "execution_count": 36,
     "metadata": {},
     "output_type": "execute_result"
    },
    {
     "name": "stdout",
     "output_type": "stream",
     "text": [
      "image_6198.tif\n",
      "pad_area_6198.shp\n",
      "D:\\lakemapping\\2_dataset\\sample747\\shp\\output2\\pad_area_6198.shp\n"
     ]
    },
    {
     "data": {
      "text/plain": [
       "0"
      ]
     },
     "execution_count": 36,
     "metadata": {},
     "output_type": "execute_result"
    },
    {
     "data": {
      "text/plain": [
       "0"
      ]
     },
     "execution_count": 36,
     "metadata": {},
     "output_type": "execute_result"
    },
    {
     "data": {
      "text/plain": [
       "0"
      ]
     },
     "execution_count": 36,
     "metadata": {},
     "output_type": "execute_result"
    },
    {
     "name": "stdout",
     "output_type": "stream",
     "text": [
      "image_6217.tif\n",
      "pad_area_6217.shp\n",
      "D:\\lakemapping\\2_dataset\\sample747\\shp\\output2\\pad_area_6217.shp\n"
     ]
    },
    {
     "data": {
      "text/plain": [
       "0"
      ]
     },
     "execution_count": 36,
     "metadata": {},
     "output_type": "execute_result"
    },
    {
     "data": {
      "text/plain": [
       "0"
      ]
     },
     "execution_count": 36,
     "metadata": {},
     "output_type": "execute_result"
    },
    {
     "data": {
      "text/plain": [
       "0"
      ]
     },
     "execution_count": 36,
     "metadata": {},
     "output_type": "execute_result"
    },
    {
     "name": "stdout",
     "output_type": "stream",
     "text": [
      "image_6226.tif\n",
      "pad_area_6226.shp\n",
      "D:\\lakemapping\\2_dataset\\sample747\\shp\\output2\\pad_area_6226.shp\n"
     ]
    },
    {
     "data": {
      "text/plain": [
       "0"
      ]
     },
     "execution_count": 36,
     "metadata": {},
     "output_type": "execute_result"
    },
    {
     "data": {
      "text/plain": [
       "0"
      ]
     },
     "execution_count": 36,
     "metadata": {},
     "output_type": "execute_result"
    },
    {
     "data": {
      "text/plain": [
       "0"
      ]
     },
     "execution_count": 36,
     "metadata": {},
     "output_type": "execute_result"
    },
    {
     "name": "stdout",
     "output_type": "stream",
     "text": [
      "image_6233.tif\n",
      "pad_area_6233.shp\n",
      "D:\\lakemapping\\2_dataset\\sample747\\shp\\output2\\pad_area_6233.shp\n"
     ]
    },
    {
     "data": {
      "text/plain": [
       "0"
      ]
     },
     "execution_count": 36,
     "metadata": {},
     "output_type": "execute_result"
    },
    {
     "data": {
      "text/plain": [
       "0"
      ]
     },
     "execution_count": 36,
     "metadata": {},
     "output_type": "execute_result"
    },
    {
     "data": {
      "text/plain": [
       "0"
      ]
     },
     "execution_count": 36,
     "metadata": {},
     "output_type": "execute_result"
    },
    {
     "name": "stdout",
     "output_type": "stream",
     "text": [
      "image_6339.tif\n",
      "pad_area_6339.shp\n",
      "D:\\lakemapping\\2_dataset\\sample747\\shp\\output2\\pad_area_6339.shp\n"
     ]
    },
    {
     "data": {
      "text/plain": [
       "0"
      ]
     },
     "execution_count": 36,
     "metadata": {},
     "output_type": "execute_result"
    },
    {
     "data": {
      "text/plain": [
       "0"
      ]
     },
     "execution_count": 36,
     "metadata": {},
     "output_type": "execute_result"
    },
    {
     "data": {
      "text/plain": [
       "0"
      ]
     },
     "execution_count": 36,
     "metadata": {},
     "output_type": "execute_result"
    },
    {
     "name": "stdout",
     "output_type": "stream",
     "text": [
      "image_6377.tif\n",
      "pad_area_6377.shp\n",
      "D:\\lakemapping\\2_dataset\\sample747\\shp\\output2\\pad_area_6377.shp\n"
     ]
    },
    {
     "data": {
      "text/plain": [
       "0"
      ]
     },
     "execution_count": 36,
     "metadata": {},
     "output_type": "execute_result"
    },
    {
     "data": {
      "text/plain": [
       "0"
      ]
     },
     "execution_count": 36,
     "metadata": {},
     "output_type": "execute_result"
    },
    {
     "data": {
      "text/plain": [
       "0"
      ]
     },
     "execution_count": 36,
     "metadata": {},
     "output_type": "execute_result"
    },
    {
     "name": "stdout",
     "output_type": "stream",
     "text": [
      "image_6402.tif\n",
      "pad_area_6402.shp\n",
      "D:\\lakemapping\\2_dataset\\sample747\\shp\\output2\\pad_area_6402.shp\n"
     ]
    },
    {
     "data": {
      "text/plain": [
       "0"
      ]
     },
     "execution_count": 36,
     "metadata": {},
     "output_type": "execute_result"
    },
    {
     "data": {
      "text/plain": [
       "0"
      ]
     },
     "execution_count": 36,
     "metadata": {},
     "output_type": "execute_result"
    },
    {
     "data": {
      "text/plain": [
       "0"
      ]
     },
     "execution_count": 36,
     "metadata": {},
     "output_type": "execute_result"
    },
    {
     "name": "stdout",
     "output_type": "stream",
     "text": [
      "image_6445_1.tif\n",
      "pad_area_6445_1.shp\n",
      "D:\\lakemapping\\2_dataset\\sample747\\shp\\output2\\pad_area_6445_1.shp\n"
     ]
    },
    {
     "data": {
      "text/plain": [
       "0"
      ]
     },
     "execution_count": 36,
     "metadata": {},
     "output_type": "execute_result"
    },
    {
     "data": {
      "text/plain": [
       "0"
      ]
     },
     "execution_count": 36,
     "metadata": {},
     "output_type": "execute_result"
    },
    {
     "data": {
      "text/plain": [
       "0"
      ]
     },
     "execution_count": 36,
     "metadata": {},
     "output_type": "execute_result"
    },
    {
     "name": "stdout",
     "output_type": "stream",
     "text": [
      "image_6445_2.tif\n",
      "pad_area_6445_2.shp\n",
      "D:\\lakemapping\\2_dataset\\sample747\\shp\\output2\\pad_area_6445_2.shp\n"
     ]
    },
    {
     "data": {
      "text/plain": [
       "0"
      ]
     },
     "execution_count": 36,
     "metadata": {},
     "output_type": "execute_result"
    },
    {
     "data": {
      "text/plain": [
       "0"
      ]
     },
     "execution_count": 36,
     "metadata": {},
     "output_type": "execute_result"
    },
    {
     "data": {
      "text/plain": [
       "0"
      ]
     },
     "execution_count": 36,
     "metadata": {},
     "output_type": "execute_result"
    },
    {
     "name": "stdout",
     "output_type": "stream",
     "text": [
      "image_6448.tif\n",
      "pad_area_6448.shp\n",
      "D:\\lakemapping\\2_dataset\\sample747\\shp\\output2\\pad_area_6448.shp\n"
     ]
    },
    {
     "data": {
      "text/plain": [
       "0"
      ]
     },
     "execution_count": 36,
     "metadata": {},
     "output_type": "execute_result"
    },
    {
     "data": {
      "text/plain": [
       "0"
      ]
     },
     "execution_count": 36,
     "metadata": {},
     "output_type": "execute_result"
    },
    {
     "data": {
      "text/plain": [
       "0"
      ]
     },
     "execution_count": 36,
     "metadata": {},
     "output_type": "execute_result"
    },
    {
     "name": "stdout",
     "output_type": "stream",
     "text": [
      "image_6741.tif\n",
      "pad_area_6741.shp\n",
      "D:\\lakemapping\\2_dataset\\sample747\\shp\\output2\\pad_area_6741.shp\n"
     ]
    },
    {
     "data": {
      "text/plain": [
       "0"
      ]
     },
     "execution_count": 36,
     "metadata": {},
     "output_type": "execute_result"
    },
    {
     "data": {
      "text/plain": [
       "0"
      ]
     },
     "execution_count": 36,
     "metadata": {},
     "output_type": "execute_result"
    },
    {
     "data": {
      "text/plain": [
       "0"
      ]
     },
     "execution_count": 36,
     "metadata": {},
     "output_type": "execute_result"
    },
    {
     "name": "stdout",
     "output_type": "stream",
     "text": [
      "image_7032.tif\n",
      "pad_area_7032.shp\n",
      "D:\\lakemapping\\2_dataset\\sample747\\shp\\output2\\pad_area_7032.shp\n"
     ]
    },
    {
     "data": {
      "text/plain": [
       "0"
      ]
     },
     "execution_count": 36,
     "metadata": {},
     "output_type": "execute_result"
    },
    {
     "data": {
      "text/plain": [
       "0"
      ]
     },
     "execution_count": 36,
     "metadata": {},
     "output_type": "execute_result"
    },
    {
     "data": {
      "text/plain": [
       "0"
      ]
     },
     "execution_count": 36,
     "metadata": {},
     "output_type": "execute_result"
    },
    {
     "name": "stdout",
     "output_type": "stream",
     "text": [
      "image_7084.tif\n",
      "pad_area_7084.shp\n",
      "D:\\lakemapping\\2_dataset\\sample747\\shp\\output2\\pad_area_7084.shp\n"
     ]
    },
    {
     "data": {
      "text/plain": [
       "0"
      ]
     },
     "execution_count": 36,
     "metadata": {},
     "output_type": "execute_result"
    },
    {
     "data": {
      "text/plain": [
       "0"
      ]
     },
     "execution_count": 36,
     "metadata": {},
     "output_type": "execute_result"
    },
    {
     "data": {
      "text/plain": [
       "0"
      ]
     },
     "execution_count": 36,
     "metadata": {},
     "output_type": "execute_result"
    },
    {
     "name": "stdout",
     "output_type": "stream",
     "text": [
      "image_7117.tif\n",
      "pad_area_7117.shp\n",
      "D:\\lakemapping\\2_dataset\\sample747\\shp\\output2\\pad_area_7117.shp\n"
     ]
    },
    {
     "data": {
      "text/plain": [
       "0"
      ]
     },
     "execution_count": 36,
     "metadata": {},
     "output_type": "execute_result"
    },
    {
     "data": {
      "text/plain": [
       "0"
      ]
     },
     "execution_count": 36,
     "metadata": {},
     "output_type": "execute_result"
    },
    {
     "data": {
      "text/plain": [
       "0"
      ]
     },
     "execution_count": 36,
     "metadata": {},
     "output_type": "execute_result"
    },
    {
     "name": "stdout",
     "output_type": "stream",
     "text": [
      "image_7156.tif\n",
      "pad_area_7156.shp\n",
      "D:\\lakemapping\\2_dataset\\sample747\\shp\\output2\\pad_area_7156.shp\n"
     ]
    },
    {
     "data": {
      "text/plain": [
       "0"
      ]
     },
     "execution_count": 36,
     "metadata": {},
     "output_type": "execute_result"
    },
    {
     "data": {
      "text/plain": [
       "0"
      ]
     },
     "execution_count": 36,
     "metadata": {},
     "output_type": "execute_result"
    },
    {
     "data": {
      "text/plain": [
       "0"
      ]
     },
     "execution_count": 36,
     "metadata": {},
     "output_type": "execute_result"
    },
    {
     "name": "stdout",
     "output_type": "stream",
     "text": [
      "image_7192.tif\n",
      "pad_area_7192.shp\n",
      "D:\\lakemapping\\2_dataset\\sample747\\shp\\output2\\pad_area_7192.shp\n"
     ]
    },
    {
     "data": {
      "text/plain": [
       "0"
      ]
     },
     "execution_count": 36,
     "metadata": {},
     "output_type": "execute_result"
    },
    {
     "data": {
      "text/plain": [
       "0"
      ]
     },
     "execution_count": 36,
     "metadata": {},
     "output_type": "execute_result"
    },
    {
     "data": {
      "text/plain": [
       "0"
      ]
     },
     "execution_count": 36,
     "metadata": {},
     "output_type": "execute_result"
    },
    {
     "name": "stdout",
     "output_type": "stream",
     "text": [
      "image_7196.tif\n",
      "pad_area_7196.shp\n",
      "D:\\lakemapping\\2_dataset\\sample747\\shp\\output2\\pad_area_7196.shp\n"
     ]
    },
    {
     "data": {
      "text/plain": [
       "0"
      ]
     },
     "execution_count": 36,
     "metadata": {},
     "output_type": "execute_result"
    },
    {
     "data": {
      "text/plain": [
       "0"
      ]
     },
     "execution_count": 36,
     "metadata": {},
     "output_type": "execute_result"
    },
    {
     "data": {
      "text/plain": [
       "0"
      ]
     },
     "execution_count": 36,
     "metadata": {},
     "output_type": "execute_result"
    },
    {
     "name": "stdout",
     "output_type": "stream",
     "text": [
      "image_7249.tif\n",
      "pad_area_7249.shp\n",
      "D:\\lakemapping\\2_dataset\\sample747\\shp\\output2\\pad_area_7249.shp\n"
     ]
    },
    {
     "data": {
      "text/plain": [
       "0"
      ]
     },
     "execution_count": 36,
     "metadata": {},
     "output_type": "execute_result"
    },
    {
     "data": {
      "text/plain": [
       "0"
      ]
     },
     "execution_count": 36,
     "metadata": {},
     "output_type": "execute_result"
    },
    {
     "data": {
      "text/plain": [
       "0"
      ]
     },
     "execution_count": 36,
     "metadata": {},
     "output_type": "execute_result"
    },
    {
     "name": "stdout",
     "output_type": "stream",
     "text": [
      "image_7255.tif\n",
      "pad_area_7255.shp\n",
      "D:\\lakemapping\\2_dataset\\sample747\\shp\\output2\\pad_area_7255.shp\n"
     ]
    },
    {
     "data": {
      "text/plain": [
       "0"
      ]
     },
     "execution_count": 36,
     "metadata": {},
     "output_type": "execute_result"
    },
    {
     "data": {
      "text/plain": [
       "0"
      ]
     },
     "execution_count": 36,
     "metadata": {},
     "output_type": "execute_result"
    },
    {
     "data": {
      "text/plain": [
       "0"
      ]
     },
     "execution_count": 36,
     "metadata": {},
     "output_type": "execute_result"
    },
    {
     "name": "stdout",
     "output_type": "stream",
     "text": [
      "image_7366.tif\n",
      "pad_area_7366.shp\n",
      "D:\\lakemapping\\2_dataset\\sample747\\shp\\output2\\pad_area_7366.shp\n"
     ]
    },
    {
     "data": {
      "text/plain": [
       "0"
      ]
     },
     "execution_count": 36,
     "metadata": {},
     "output_type": "execute_result"
    },
    {
     "data": {
      "text/plain": [
       "0"
      ]
     },
     "execution_count": 36,
     "metadata": {},
     "output_type": "execute_result"
    },
    {
     "data": {
      "text/plain": [
       "0"
      ]
     },
     "execution_count": 36,
     "metadata": {},
     "output_type": "execute_result"
    },
    {
     "name": "stdout",
     "output_type": "stream",
     "text": [
      "image_7453.tif\n",
      "pad_area_7453.shp\n",
      "D:\\lakemapping\\2_dataset\\sample747\\shp\\output2\\pad_area_7453.shp\n"
     ]
    },
    {
     "data": {
      "text/plain": [
       "0"
      ]
     },
     "execution_count": 36,
     "metadata": {},
     "output_type": "execute_result"
    },
    {
     "data": {
      "text/plain": [
       "0"
      ]
     },
     "execution_count": 36,
     "metadata": {},
     "output_type": "execute_result"
    },
    {
     "data": {
      "text/plain": [
       "0"
      ]
     },
     "execution_count": 36,
     "metadata": {},
     "output_type": "execute_result"
    },
    {
     "name": "stdout",
     "output_type": "stream",
     "text": [
      "image_7564.tif\n",
      "pad_area_7564.shp\n",
      "D:\\lakemapping\\2_dataset\\sample747\\shp\\output2\\pad_area_7564.shp\n"
     ]
    },
    {
     "data": {
      "text/plain": [
       "0"
      ]
     },
     "execution_count": 36,
     "metadata": {},
     "output_type": "execute_result"
    },
    {
     "data": {
      "text/plain": [
       "0"
      ]
     },
     "execution_count": 36,
     "metadata": {},
     "output_type": "execute_result"
    },
    {
     "data": {
      "text/plain": [
       "0"
      ]
     },
     "execution_count": 36,
     "metadata": {},
     "output_type": "execute_result"
    },
    {
     "name": "stdout",
     "output_type": "stream",
     "text": [
      "image_7693.tif\n",
      "pad_area_7693.shp\n",
      "D:\\lakemapping\\2_dataset\\sample747\\shp\\output2\\pad_area_7693.shp\n"
     ]
    },
    {
     "data": {
      "text/plain": [
       "0"
      ]
     },
     "execution_count": 36,
     "metadata": {},
     "output_type": "execute_result"
    },
    {
     "data": {
      "text/plain": [
       "0"
      ]
     },
     "execution_count": 36,
     "metadata": {},
     "output_type": "execute_result"
    },
    {
     "data": {
      "text/plain": [
       "0"
      ]
     },
     "execution_count": 36,
     "metadata": {},
     "output_type": "execute_result"
    },
    {
     "name": "stdout",
     "output_type": "stream",
     "text": [
      "image_7704.tif\n",
      "pad_area_7704.shp\n",
      "D:\\lakemapping\\2_dataset\\sample747\\shp\\output2\\pad_area_7704.shp\n"
     ]
    },
    {
     "data": {
      "text/plain": [
       "0"
      ]
     },
     "execution_count": 36,
     "metadata": {},
     "output_type": "execute_result"
    },
    {
     "data": {
      "text/plain": [
       "0"
      ]
     },
     "execution_count": 36,
     "metadata": {},
     "output_type": "execute_result"
    },
    {
     "data": {
      "text/plain": [
       "0"
      ]
     },
     "execution_count": 36,
     "metadata": {},
     "output_type": "execute_result"
    },
    {
     "name": "stdout",
     "output_type": "stream",
     "text": [
      "image_7853.tif\n",
      "pad_area_7853.shp\n",
      "D:\\lakemapping\\2_dataset\\sample747\\shp\\output2\\pad_area_7853.shp\n"
     ]
    },
    {
     "data": {
      "text/plain": [
       "0"
      ]
     },
     "execution_count": 36,
     "metadata": {},
     "output_type": "execute_result"
    },
    {
     "data": {
      "text/plain": [
       "0"
      ]
     },
     "execution_count": 36,
     "metadata": {},
     "output_type": "execute_result"
    },
    {
     "data": {
      "text/plain": [
       "0"
      ]
     },
     "execution_count": 36,
     "metadata": {},
     "output_type": "execute_result"
    },
    {
     "name": "stdout",
     "output_type": "stream",
     "text": [
      "image_7906.tif\n",
      "pad_area_7906.shp\n",
      "D:\\lakemapping\\2_dataset\\sample747\\shp\\output2\\pad_area_7906.shp\n"
     ]
    },
    {
     "data": {
      "text/plain": [
       "0"
      ]
     },
     "execution_count": 36,
     "metadata": {},
     "output_type": "execute_result"
    },
    {
     "data": {
      "text/plain": [
       "0"
      ]
     },
     "execution_count": 36,
     "metadata": {},
     "output_type": "execute_result"
    },
    {
     "data": {
      "text/plain": [
       "0"
      ]
     },
     "execution_count": 36,
     "metadata": {},
     "output_type": "execute_result"
    },
    {
     "name": "stdout",
     "output_type": "stream",
     "text": [
      "image_8000.tif\n",
      "pad_area_8000.shp\n",
      "D:\\lakemapping\\2_dataset\\sample747\\shp\\output2\\pad_area_8000.shp\n"
     ]
    },
    {
     "data": {
      "text/plain": [
       "0"
      ]
     },
     "execution_count": 36,
     "metadata": {},
     "output_type": "execute_result"
    },
    {
     "data": {
      "text/plain": [
       "0"
      ]
     },
     "execution_count": 36,
     "metadata": {},
     "output_type": "execute_result"
    },
    {
     "data": {
      "text/plain": [
       "0"
      ]
     },
     "execution_count": 36,
     "metadata": {},
     "output_type": "execute_result"
    },
    {
     "name": "stdout",
     "output_type": "stream",
     "text": [
      "image_8999.tif\n",
      "pad_area_8999.shp\n",
      "D:\\lakemapping\\2_dataset\\sample747\\shp\\output2\\pad_area_8999.shp\n"
     ]
    },
    {
     "data": {
      "text/plain": [
       "0"
      ]
     },
     "execution_count": 36,
     "metadata": {},
     "output_type": "execute_result"
    },
    {
     "data": {
      "text/plain": [
       "0"
      ]
     },
     "execution_count": 36,
     "metadata": {},
     "output_type": "execute_result"
    },
    {
     "data": {
      "text/plain": [
       "0"
      ]
     },
     "execution_count": 36,
     "metadata": {},
     "output_type": "execute_result"
    },
    {
     "name": "stdout",
     "output_type": "stream",
     "text": [
      "image_9200.tif\n",
      "pad_area_9200.shp\n",
      "D:\\lakemapping\\2_dataset\\sample747\\shp\\output2\\pad_area_9200.shp\n"
     ]
    },
    {
     "data": {
      "text/plain": [
       "0"
      ]
     },
     "execution_count": 36,
     "metadata": {},
     "output_type": "execute_result"
    },
    {
     "data": {
      "text/plain": [
       "0"
      ]
     },
     "execution_count": 36,
     "metadata": {},
     "output_type": "execute_result"
    },
    {
     "data": {
      "text/plain": [
       "0"
      ]
     },
     "execution_count": 36,
     "metadata": {},
     "output_type": "execute_result"
    },
    {
     "name": "stdout",
     "output_type": "stream",
     "text": [
      "image_9228.tif\n",
      "pad_area_9228.shp\n",
      "D:\\lakemapping\\2_dataset\\sample747\\shp\\output2\\pad_area_9228.shp\n"
     ]
    },
    {
     "data": {
      "text/plain": [
       "0"
      ]
     },
     "execution_count": 36,
     "metadata": {},
     "output_type": "execute_result"
    },
    {
     "data": {
      "text/plain": [
       "0"
      ]
     },
     "execution_count": 36,
     "metadata": {},
     "output_type": "execute_result"
    },
    {
     "data": {
      "text/plain": [
       "0"
      ]
     },
     "execution_count": 36,
     "metadata": {},
     "output_type": "execute_result"
    },
    {
     "name": "stdout",
     "output_type": "stream",
     "text": [
      "image_933.tif\n",
      "pad_area_933.shp\n",
      "D:\\lakemapping\\2_dataset\\sample747\\shp\\output2\\pad_area_933.shp\n"
     ]
    },
    {
     "data": {
      "text/plain": [
       "0"
      ]
     },
     "execution_count": 36,
     "metadata": {},
     "output_type": "execute_result"
    },
    {
     "data": {
      "text/plain": [
       "0"
      ]
     },
     "execution_count": 36,
     "metadata": {},
     "output_type": "execute_result"
    },
    {
     "data": {
      "text/plain": [
       "0"
      ]
     },
     "execution_count": 36,
     "metadata": {},
     "output_type": "execute_result"
    },
    {
     "name": "stdout",
     "output_type": "stream",
     "text": [
      "image_10083.tif\n",
      "pad_area_10083.shp\n",
      "D:\\lakemapping\\2_dataset\\sample747\\shp\\output3\\pad_area_10083.shp\n"
     ]
    },
    {
     "data": {
      "text/plain": [
       "0"
      ]
     },
     "execution_count": 36,
     "metadata": {},
     "output_type": "execute_result"
    },
    {
     "data": {
      "text/plain": [
       "0"
      ]
     },
     "execution_count": 36,
     "metadata": {},
     "output_type": "execute_result"
    },
    {
     "data": {
      "text/plain": [
       "0"
      ]
     },
     "execution_count": 36,
     "metadata": {},
     "output_type": "execute_result"
    },
    {
     "name": "stdout",
     "output_type": "stream",
     "text": [
      "image_10273.tif\n",
      "pad_area_10273.shp\n",
      "D:\\lakemapping\\2_dataset\\sample747\\shp\\output3\\pad_area_10273.shp\n"
     ]
    },
    {
     "data": {
      "text/plain": [
       "0"
      ]
     },
     "execution_count": 36,
     "metadata": {},
     "output_type": "execute_result"
    },
    {
     "data": {
      "text/plain": [
       "0"
      ]
     },
     "execution_count": 36,
     "metadata": {},
     "output_type": "execute_result"
    },
    {
     "data": {
      "text/plain": [
       "0"
      ]
     },
     "execution_count": 36,
     "metadata": {},
     "output_type": "execute_result"
    },
    {
     "name": "stdout",
     "output_type": "stream",
     "text": [
      "image_11076.tif\n",
      "pad_area_11076.shp\n",
      "D:\\lakemapping\\2_dataset\\sample747\\shp\\output3\\pad_area_11076.shp\n"
     ]
    },
    {
     "data": {
      "text/plain": [
       "0"
      ]
     },
     "execution_count": 36,
     "metadata": {},
     "output_type": "execute_result"
    },
    {
     "data": {
      "text/plain": [
       "0"
      ]
     },
     "execution_count": 36,
     "metadata": {},
     "output_type": "execute_result"
    },
    {
     "data": {
      "text/plain": [
       "0"
      ]
     },
     "execution_count": 36,
     "metadata": {},
     "output_type": "execute_result"
    },
    {
     "name": "stdout",
     "output_type": "stream",
     "text": [
      "image_11084.tif\n",
      "pad_area_11084.shp\n",
      "D:\\lakemapping\\2_dataset\\sample747\\shp\\output3\\pad_area_11084.shp\n"
     ]
    },
    {
     "data": {
      "text/plain": [
       "0"
      ]
     },
     "execution_count": 36,
     "metadata": {},
     "output_type": "execute_result"
    },
    {
     "data": {
      "text/plain": [
       "0"
      ]
     },
     "execution_count": 36,
     "metadata": {},
     "output_type": "execute_result"
    },
    {
     "data": {
      "text/plain": [
       "0"
      ]
     },
     "execution_count": 36,
     "metadata": {},
     "output_type": "execute_result"
    },
    {
     "name": "stdout",
     "output_type": "stream",
     "text": [
      "image_11092.tif\n",
      "pad_area_11092.shp\n",
      "D:\\lakemapping\\2_dataset\\sample747\\shp\\output3\\pad_area_11092.shp\n"
     ]
    },
    {
     "data": {
      "text/plain": [
       "0"
      ]
     },
     "execution_count": 36,
     "metadata": {},
     "output_type": "execute_result"
    },
    {
     "data": {
      "text/plain": [
       "0"
      ]
     },
     "execution_count": 36,
     "metadata": {},
     "output_type": "execute_result"
    },
    {
     "data": {
      "text/plain": [
       "0"
      ]
     },
     "execution_count": 36,
     "metadata": {},
     "output_type": "execute_result"
    },
    {
     "name": "stdout",
     "output_type": "stream",
     "text": [
      "image_11155.tif\n",
      "pad_area_11155.shp\n",
      "D:\\lakemapping\\2_dataset\\sample747\\shp\\output3\\pad_area_11155.shp\n"
     ]
    },
    {
     "data": {
      "text/plain": [
       "0"
      ]
     },
     "execution_count": 36,
     "metadata": {},
     "output_type": "execute_result"
    },
    {
     "data": {
      "text/plain": [
       "0"
      ]
     },
     "execution_count": 36,
     "metadata": {},
     "output_type": "execute_result"
    },
    {
     "data": {
      "text/plain": [
       "0"
      ]
     },
     "execution_count": 36,
     "metadata": {},
     "output_type": "execute_result"
    },
    {
     "name": "stdout",
     "output_type": "stream",
     "text": [
      "image_11193.tif\n",
      "pad_area_11193.shp\n",
      "D:\\lakemapping\\2_dataset\\sample747\\shp\\output3\\pad_area_11193.shp\n"
     ]
    },
    {
     "data": {
      "text/plain": [
       "0"
      ]
     },
     "execution_count": 36,
     "metadata": {},
     "output_type": "execute_result"
    },
    {
     "data": {
      "text/plain": [
       "0"
      ]
     },
     "execution_count": 36,
     "metadata": {},
     "output_type": "execute_result"
    },
    {
     "data": {
      "text/plain": [
       "0"
      ]
     },
     "execution_count": 36,
     "metadata": {},
     "output_type": "execute_result"
    },
    {
     "name": "stdout",
     "output_type": "stream",
     "text": [
      "image_11368.tif\n",
      "pad_area_11368.shp\n",
      "D:\\lakemapping\\2_dataset\\sample747\\shp\\output3\\pad_area_11368.shp\n"
     ]
    },
    {
     "data": {
      "text/plain": [
       "0"
      ]
     },
     "execution_count": 36,
     "metadata": {},
     "output_type": "execute_result"
    },
    {
     "data": {
      "text/plain": [
       "0"
      ]
     },
     "execution_count": 36,
     "metadata": {},
     "output_type": "execute_result"
    },
    {
     "data": {
      "text/plain": [
       "0"
      ]
     },
     "execution_count": 36,
     "metadata": {},
     "output_type": "execute_result"
    },
    {
     "name": "stdout",
     "output_type": "stream",
     "text": [
      "image_11689.tif\n",
      "pad_area_11689.shp\n",
      "D:\\lakemapping\\2_dataset\\sample747\\shp\\output3\\pad_area_11689.shp\n"
     ]
    },
    {
     "data": {
      "text/plain": [
       "0"
      ]
     },
     "execution_count": 36,
     "metadata": {},
     "output_type": "execute_result"
    },
    {
     "data": {
      "text/plain": [
       "0"
      ]
     },
     "execution_count": 36,
     "metadata": {},
     "output_type": "execute_result"
    },
    {
     "data": {
      "text/plain": [
       "0"
      ]
     },
     "execution_count": 36,
     "metadata": {},
     "output_type": "execute_result"
    },
    {
     "name": "stdout",
     "output_type": "stream",
     "text": [
      "image_11691.tif\n",
      "pad_area_11691.shp\n",
      "D:\\lakemapping\\2_dataset\\sample747\\shp\\output3\\pad_area_11691.shp\n"
     ]
    },
    {
     "data": {
      "text/plain": [
       "0"
      ]
     },
     "execution_count": 36,
     "metadata": {},
     "output_type": "execute_result"
    },
    {
     "data": {
      "text/plain": [
       "0"
      ]
     },
     "execution_count": 36,
     "metadata": {},
     "output_type": "execute_result"
    },
    {
     "data": {
      "text/plain": [
       "0"
      ]
     },
     "execution_count": 36,
     "metadata": {},
     "output_type": "execute_result"
    },
    {
     "name": "stdout",
     "output_type": "stream",
     "text": [
      "image_11721.tif\n",
      "pad_area_11721.shp\n",
      "D:\\lakemapping\\2_dataset\\sample747\\shp\\output3\\pad_area_11721.shp\n"
     ]
    },
    {
     "data": {
      "text/plain": [
       "0"
      ]
     },
     "execution_count": 36,
     "metadata": {},
     "output_type": "execute_result"
    },
    {
     "data": {
      "text/plain": [
       "0"
      ]
     },
     "execution_count": 36,
     "metadata": {},
     "output_type": "execute_result"
    },
    {
     "data": {
      "text/plain": [
       "0"
      ]
     },
     "execution_count": 36,
     "metadata": {},
     "output_type": "execute_result"
    },
    {
     "name": "stdout",
     "output_type": "stream",
     "text": [
      "image_11932.tif\n",
      "pad_area_11932.shp\n",
      "D:\\lakemapping\\2_dataset\\sample747\\shp\\output3\\pad_area_11932.shp\n"
     ]
    },
    {
     "data": {
      "text/plain": [
       "0"
      ]
     },
     "execution_count": 36,
     "metadata": {},
     "output_type": "execute_result"
    },
    {
     "data": {
      "text/plain": [
       "0"
      ]
     },
     "execution_count": 36,
     "metadata": {},
     "output_type": "execute_result"
    },
    {
     "data": {
      "text/plain": [
       "0"
      ]
     },
     "execution_count": 36,
     "metadata": {},
     "output_type": "execute_result"
    },
    {
     "name": "stdout",
     "output_type": "stream",
     "text": [
      "image_11956.tif\n",
      "pad_area_11956.shp\n",
      "D:\\lakemapping\\2_dataset\\sample747\\shp\\output3\\pad_area_11956.shp\n"
     ]
    },
    {
     "data": {
      "text/plain": [
       "0"
      ]
     },
     "execution_count": 36,
     "metadata": {},
     "output_type": "execute_result"
    },
    {
     "data": {
      "text/plain": [
       "0"
      ]
     },
     "execution_count": 36,
     "metadata": {},
     "output_type": "execute_result"
    },
    {
     "data": {
      "text/plain": [
       "0"
      ]
     },
     "execution_count": 36,
     "metadata": {},
     "output_type": "execute_result"
    },
    {
     "name": "stdout",
     "output_type": "stream",
     "text": [
      "image_12014.tif\n",
      "pad_area_12014.shp\n",
      "D:\\lakemapping\\2_dataset\\sample747\\shp\\output3\\pad_area_12014.shp\n"
     ]
    },
    {
     "data": {
      "text/plain": [
       "0"
      ]
     },
     "execution_count": 36,
     "metadata": {},
     "output_type": "execute_result"
    },
    {
     "data": {
      "text/plain": [
       "0"
      ]
     },
     "execution_count": 36,
     "metadata": {},
     "output_type": "execute_result"
    },
    {
     "data": {
      "text/plain": [
       "0"
      ]
     },
     "execution_count": 36,
     "metadata": {},
     "output_type": "execute_result"
    },
    {
     "name": "stdout",
     "output_type": "stream",
     "text": [
      "image_12017.tif\n",
      "pad_area_12017.shp\n",
      "D:\\lakemapping\\2_dataset\\sample747\\shp\\output3\\pad_area_12017.shp\n"
     ]
    },
    {
     "data": {
      "text/plain": [
       "0"
      ]
     },
     "execution_count": 36,
     "metadata": {},
     "output_type": "execute_result"
    },
    {
     "data": {
      "text/plain": [
       "0"
      ]
     },
     "execution_count": 36,
     "metadata": {},
     "output_type": "execute_result"
    },
    {
     "data": {
      "text/plain": [
       "0"
      ]
     },
     "execution_count": 36,
     "metadata": {},
     "output_type": "execute_result"
    },
    {
     "name": "stdout",
     "output_type": "stream",
     "text": [
      "image_12026.tif\n",
      "pad_area_12026.shp\n",
      "D:\\lakemapping\\2_dataset\\sample747\\shp\\output3\\pad_area_12026.shp\n"
     ]
    },
    {
     "data": {
      "text/plain": [
       "0"
      ]
     },
     "execution_count": 36,
     "metadata": {},
     "output_type": "execute_result"
    },
    {
     "data": {
      "text/plain": [
       "0"
      ]
     },
     "execution_count": 36,
     "metadata": {},
     "output_type": "execute_result"
    },
    {
     "data": {
      "text/plain": [
       "0"
      ]
     },
     "execution_count": 36,
     "metadata": {},
     "output_type": "execute_result"
    },
    {
     "name": "stdout",
     "output_type": "stream",
     "text": [
      "image_12104.tif\n",
      "pad_area_12104.shp\n",
      "D:\\lakemapping\\2_dataset\\sample747\\shp\\output3\\pad_area_12104.shp\n"
     ]
    },
    {
     "data": {
      "text/plain": [
       "0"
      ]
     },
     "execution_count": 36,
     "metadata": {},
     "output_type": "execute_result"
    },
    {
     "data": {
      "text/plain": [
       "0"
      ]
     },
     "execution_count": 36,
     "metadata": {},
     "output_type": "execute_result"
    },
    {
     "data": {
      "text/plain": [
       "0"
      ]
     },
     "execution_count": 36,
     "metadata": {},
     "output_type": "execute_result"
    },
    {
     "name": "stdout",
     "output_type": "stream",
     "text": [
      "image_12185.tif\n",
      "pad_area_12185.shp\n",
      "D:\\lakemapping\\2_dataset\\sample747\\shp\\output3\\pad_area_12185.shp\n"
     ]
    },
    {
     "data": {
      "text/plain": [
       "0"
      ]
     },
     "execution_count": 36,
     "metadata": {},
     "output_type": "execute_result"
    },
    {
     "data": {
      "text/plain": [
       "0"
      ]
     },
     "execution_count": 36,
     "metadata": {},
     "output_type": "execute_result"
    },
    {
     "data": {
      "text/plain": [
       "0"
      ]
     },
     "execution_count": 36,
     "metadata": {},
     "output_type": "execute_result"
    },
    {
     "name": "stdout",
     "output_type": "stream",
     "text": [
      "image_12746.tif\n",
      "pad_area_12746.shp\n",
      "D:\\lakemapping\\2_dataset\\sample747\\shp\\output3\\pad_area_12746.shp\n"
     ]
    },
    {
     "data": {
      "text/plain": [
       "0"
      ]
     },
     "execution_count": 36,
     "metadata": {},
     "output_type": "execute_result"
    },
    {
     "data": {
      "text/plain": [
       "0"
      ]
     },
     "execution_count": 36,
     "metadata": {},
     "output_type": "execute_result"
    },
    {
     "data": {
      "text/plain": [
       "0"
      ]
     },
     "execution_count": 36,
     "metadata": {},
     "output_type": "execute_result"
    },
    {
     "name": "stdout",
     "output_type": "stream",
     "text": [
      "image_12770.tif\n",
      "pad_area_12770.shp\n",
      "D:\\lakemapping\\2_dataset\\sample747\\shp\\output3\\pad_area_12770.shp\n"
     ]
    },
    {
     "data": {
      "text/plain": [
       "0"
      ]
     },
     "execution_count": 36,
     "metadata": {},
     "output_type": "execute_result"
    },
    {
     "data": {
      "text/plain": [
       "0"
      ]
     },
     "execution_count": 36,
     "metadata": {},
     "output_type": "execute_result"
    },
    {
     "data": {
      "text/plain": [
       "0"
      ]
     },
     "execution_count": 36,
     "metadata": {},
     "output_type": "execute_result"
    },
    {
     "name": "stdout",
     "output_type": "stream",
     "text": [
      "image_12793.tif\n",
      "pad_area_12793.shp\n",
      "D:\\lakemapping\\2_dataset\\sample747\\shp\\output3\\pad_area_12793.shp\n"
     ]
    },
    {
     "data": {
      "text/plain": [
       "0"
      ]
     },
     "execution_count": 36,
     "metadata": {},
     "output_type": "execute_result"
    },
    {
     "data": {
      "text/plain": [
       "0"
      ]
     },
     "execution_count": 36,
     "metadata": {},
     "output_type": "execute_result"
    },
    {
     "data": {
      "text/plain": [
       "0"
      ]
     },
     "execution_count": 36,
     "metadata": {},
     "output_type": "execute_result"
    },
    {
     "name": "stdout",
     "output_type": "stream",
     "text": [
      "image_12810.tif\n",
      "pad_area_12810.shp\n",
      "D:\\lakemapping\\2_dataset\\sample747\\shp\\output3\\pad_area_12810.shp\n"
     ]
    },
    {
     "data": {
      "text/plain": [
       "0"
      ]
     },
     "execution_count": 36,
     "metadata": {},
     "output_type": "execute_result"
    },
    {
     "data": {
      "text/plain": [
       "0"
      ]
     },
     "execution_count": 36,
     "metadata": {},
     "output_type": "execute_result"
    },
    {
     "data": {
      "text/plain": [
       "0"
      ]
     },
     "execution_count": 36,
     "metadata": {},
     "output_type": "execute_result"
    },
    {
     "name": "stdout",
     "output_type": "stream",
     "text": [
      "image_12847.tif\n",
      "pad_area_12847.shp\n",
      "D:\\lakemapping\\2_dataset\\sample747\\shp\\output3\\pad_area_12847.shp\n"
     ]
    },
    {
     "data": {
      "text/plain": [
       "0"
      ]
     },
     "execution_count": 36,
     "metadata": {},
     "output_type": "execute_result"
    },
    {
     "data": {
      "text/plain": [
       "0"
      ]
     },
     "execution_count": 36,
     "metadata": {},
     "output_type": "execute_result"
    },
    {
     "data": {
      "text/plain": [
       "0"
      ]
     },
     "execution_count": 36,
     "metadata": {},
     "output_type": "execute_result"
    },
    {
     "name": "stdout",
     "output_type": "stream",
     "text": [
      "image_12889.tif\n",
      "pad_area_12889.shp\n",
      "D:\\lakemapping\\2_dataset\\sample747\\shp\\output3\\pad_area_12889.shp\n"
     ]
    },
    {
     "data": {
      "text/plain": [
       "0"
      ]
     },
     "execution_count": 36,
     "metadata": {},
     "output_type": "execute_result"
    },
    {
     "data": {
      "text/plain": [
       "0"
      ]
     },
     "execution_count": 36,
     "metadata": {},
     "output_type": "execute_result"
    },
    {
     "data": {
      "text/plain": [
       "0"
      ]
     },
     "execution_count": 36,
     "metadata": {},
     "output_type": "execute_result"
    },
    {
     "name": "stdout",
     "output_type": "stream",
     "text": [
      "image_12903.tif\n",
      "pad_area_12903.shp\n",
      "D:\\lakemapping\\2_dataset\\sample747\\shp\\output3\\pad_area_12903.shp\n"
     ]
    },
    {
     "data": {
      "text/plain": [
       "0"
      ]
     },
     "execution_count": 36,
     "metadata": {},
     "output_type": "execute_result"
    },
    {
     "data": {
      "text/plain": [
       "0"
      ]
     },
     "execution_count": 36,
     "metadata": {},
     "output_type": "execute_result"
    },
    {
     "data": {
      "text/plain": [
       "0"
      ]
     },
     "execution_count": 36,
     "metadata": {},
     "output_type": "execute_result"
    },
    {
     "name": "stdout",
     "output_type": "stream",
     "text": [
      "image_12926.tif\n",
      "pad_area_12926.shp\n",
      "D:\\lakemapping\\2_dataset\\sample747\\shp\\output3\\pad_area_12926.shp\n"
     ]
    },
    {
     "data": {
      "text/plain": [
       "0"
      ]
     },
     "execution_count": 36,
     "metadata": {},
     "output_type": "execute_result"
    },
    {
     "data": {
      "text/plain": [
       "0"
      ]
     },
     "execution_count": 36,
     "metadata": {},
     "output_type": "execute_result"
    },
    {
     "data": {
      "text/plain": [
       "0"
      ]
     },
     "execution_count": 36,
     "metadata": {},
     "output_type": "execute_result"
    },
    {
     "name": "stdout",
     "output_type": "stream",
     "text": [
      "image_12939.tif\n",
      "pad_area_12939.shp\n",
      "D:\\lakemapping\\2_dataset\\sample747\\shp\\output3\\pad_area_12939.shp\n"
     ]
    },
    {
     "data": {
      "text/plain": [
       "0"
      ]
     },
     "execution_count": 36,
     "metadata": {},
     "output_type": "execute_result"
    },
    {
     "data": {
      "text/plain": [
       "0"
      ]
     },
     "execution_count": 36,
     "metadata": {},
     "output_type": "execute_result"
    },
    {
     "data": {
      "text/plain": [
       "0"
      ]
     },
     "execution_count": 36,
     "metadata": {},
     "output_type": "execute_result"
    },
    {
     "name": "stdout",
     "output_type": "stream",
     "text": [
      "image_12988.tif\n",
      "pad_area_12988.shp\n",
      "D:\\lakemapping\\2_dataset\\sample747\\shp\\output3\\pad_area_12988.shp\n"
     ]
    },
    {
     "data": {
      "text/plain": [
       "0"
      ]
     },
     "execution_count": 36,
     "metadata": {},
     "output_type": "execute_result"
    },
    {
     "data": {
      "text/plain": [
       "0"
      ]
     },
     "execution_count": 36,
     "metadata": {},
     "output_type": "execute_result"
    },
    {
     "data": {
      "text/plain": [
       "0"
      ]
     },
     "execution_count": 36,
     "metadata": {},
     "output_type": "execute_result"
    },
    {
     "name": "stdout",
     "output_type": "stream",
     "text": [
      "image_13803.tif\n",
      "pad_area_13803.shp\n",
      "D:\\lakemapping\\2_dataset\\sample747\\shp\\output3\\pad_area_13803.shp\n"
     ]
    },
    {
     "data": {
      "text/plain": [
       "0"
      ]
     },
     "execution_count": 36,
     "metadata": {},
     "output_type": "execute_result"
    },
    {
     "data": {
      "text/plain": [
       "0"
      ]
     },
     "execution_count": 36,
     "metadata": {},
     "output_type": "execute_result"
    },
    {
     "data": {
      "text/plain": [
       "0"
      ]
     },
     "execution_count": 36,
     "metadata": {},
     "output_type": "execute_result"
    },
    {
     "name": "stdout",
     "output_type": "stream",
     "text": [
      "image_14172.tif\n",
      "pad_area_14172.shp\n",
      "D:\\lakemapping\\2_dataset\\sample747\\shp\\output3\\pad_area_14172.shp\n"
     ]
    },
    {
     "data": {
      "text/plain": [
       "0"
      ]
     },
     "execution_count": 36,
     "metadata": {},
     "output_type": "execute_result"
    },
    {
     "data": {
      "text/plain": [
       "0"
      ]
     },
     "execution_count": 36,
     "metadata": {},
     "output_type": "execute_result"
    },
    {
     "data": {
      "text/plain": [
       "0"
      ]
     },
     "execution_count": 36,
     "metadata": {},
     "output_type": "execute_result"
    },
    {
     "name": "stdout",
     "output_type": "stream",
     "text": [
      "image_14309.tif\n",
      "pad_area_14309.shp\n",
      "D:\\lakemapping\\2_dataset\\sample747\\shp\\output3\\pad_area_14309.shp\n"
     ]
    },
    {
     "data": {
      "text/plain": [
       "0"
      ]
     },
     "execution_count": 36,
     "metadata": {},
     "output_type": "execute_result"
    },
    {
     "data": {
      "text/plain": [
       "0"
      ]
     },
     "execution_count": 36,
     "metadata": {},
     "output_type": "execute_result"
    },
    {
     "data": {
      "text/plain": [
       "0"
      ]
     },
     "execution_count": 36,
     "metadata": {},
     "output_type": "execute_result"
    },
    {
     "name": "stdout",
     "output_type": "stream",
     "text": [
      "image_14542.tif\n",
      "pad_area_14542.shp\n",
      "D:\\lakemapping\\2_dataset\\sample747\\shp\\output3\\pad_area_14542.shp\n"
     ]
    },
    {
     "data": {
      "text/plain": [
       "0"
      ]
     },
     "execution_count": 36,
     "metadata": {},
     "output_type": "execute_result"
    },
    {
     "data": {
      "text/plain": [
       "0"
      ]
     },
     "execution_count": 36,
     "metadata": {},
     "output_type": "execute_result"
    },
    {
     "data": {
      "text/plain": [
       "0"
      ]
     },
     "execution_count": 36,
     "metadata": {},
     "output_type": "execute_result"
    },
    {
     "name": "stdout",
     "output_type": "stream",
     "text": [
      "image_14668.tif\n",
      "pad_area_14668.shp\n",
      "D:\\lakemapping\\2_dataset\\sample747\\shp\\output3\\pad_area_14668.shp\n"
     ]
    },
    {
     "data": {
      "text/plain": [
       "0"
      ]
     },
     "execution_count": 36,
     "metadata": {},
     "output_type": "execute_result"
    },
    {
     "data": {
      "text/plain": [
       "0"
      ]
     },
     "execution_count": 36,
     "metadata": {},
     "output_type": "execute_result"
    },
    {
     "data": {
      "text/plain": [
       "0"
      ]
     },
     "execution_count": 36,
     "metadata": {},
     "output_type": "execute_result"
    },
    {
     "name": "stdout",
     "output_type": "stream",
     "text": [
      "image_15074.tif\n",
      "pad_area_15074.shp\n",
      "D:\\lakemapping\\2_dataset\\sample747\\shp\\output3\\pad_area_15074.shp\n"
     ]
    },
    {
     "data": {
      "text/plain": [
       "0"
      ]
     },
     "execution_count": 36,
     "metadata": {},
     "output_type": "execute_result"
    },
    {
     "data": {
      "text/plain": [
       "0"
      ]
     },
     "execution_count": 36,
     "metadata": {},
     "output_type": "execute_result"
    },
    {
     "data": {
      "text/plain": [
       "0"
      ]
     },
     "execution_count": 36,
     "metadata": {},
     "output_type": "execute_result"
    },
    {
     "name": "stdout",
     "output_type": "stream",
     "text": [
      "image_15078.tif\n",
      "pad_area_15078.shp\n",
      "D:\\lakemapping\\2_dataset\\sample747\\shp\\output3\\pad_area_15078.shp\n"
     ]
    },
    {
     "data": {
      "text/plain": [
       "0"
      ]
     },
     "execution_count": 36,
     "metadata": {},
     "output_type": "execute_result"
    },
    {
     "data": {
      "text/plain": [
       "0"
      ]
     },
     "execution_count": 36,
     "metadata": {},
     "output_type": "execute_result"
    },
    {
     "data": {
      "text/plain": [
       "0"
      ]
     },
     "execution_count": 36,
     "metadata": {},
     "output_type": "execute_result"
    },
    {
     "name": "stdout",
     "output_type": "stream",
     "text": [
      "image_15107.tif\n",
      "pad_area_15107.shp\n",
      "D:\\lakemapping\\2_dataset\\sample747\\shp\\output3\\pad_area_15107.shp\n"
     ]
    },
    {
     "data": {
      "text/plain": [
       "0"
      ]
     },
     "execution_count": 36,
     "metadata": {},
     "output_type": "execute_result"
    },
    {
     "data": {
      "text/plain": [
       "0"
      ]
     },
     "execution_count": 36,
     "metadata": {},
     "output_type": "execute_result"
    },
    {
     "data": {
      "text/plain": [
       "0"
      ]
     },
     "execution_count": 36,
     "metadata": {},
     "output_type": "execute_result"
    },
    {
     "name": "stdout",
     "output_type": "stream",
     "text": [
      "image_15137.tif\n",
      "pad_area_15137.shp\n",
      "D:\\lakemapping\\2_dataset\\sample747\\shp\\output3\\pad_area_15137.shp\n"
     ]
    },
    {
     "data": {
      "text/plain": [
       "0"
      ]
     },
     "execution_count": 36,
     "metadata": {},
     "output_type": "execute_result"
    },
    {
     "data": {
      "text/plain": [
       "0"
      ]
     },
     "execution_count": 36,
     "metadata": {},
     "output_type": "execute_result"
    },
    {
     "data": {
      "text/plain": [
       "0"
      ]
     },
     "execution_count": 36,
     "metadata": {},
     "output_type": "execute_result"
    },
    {
     "name": "stdout",
     "output_type": "stream",
     "text": [
      "image_15171.tif\n",
      "pad_area_15171.shp\n",
      "D:\\lakemapping\\2_dataset\\sample747\\shp\\output3\\pad_area_15171.shp\n"
     ]
    },
    {
     "data": {
      "text/plain": [
       "0"
      ]
     },
     "execution_count": 36,
     "metadata": {},
     "output_type": "execute_result"
    },
    {
     "data": {
      "text/plain": [
       "0"
      ]
     },
     "execution_count": 36,
     "metadata": {},
     "output_type": "execute_result"
    },
    {
     "data": {
      "text/plain": [
       "0"
      ]
     },
     "execution_count": 36,
     "metadata": {},
     "output_type": "execute_result"
    },
    {
     "name": "stdout",
     "output_type": "stream",
     "text": [
      "image_15183.tif\n",
      "pad_area_15183.shp\n",
      "D:\\lakemapping\\2_dataset\\sample747\\shp\\output3\\pad_area_15183.shp\n"
     ]
    },
    {
     "data": {
      "text/plain": [
       "0"
      ]
     },
     "execution_count": 36,
     "metadata": {},
     "output_type": "execute_result"
    },
    {
     "data": {
      "text/plain": [
       "0"
      ]
     },
     "execution_count": 36,
     "metadata": {},
     "output_type": "execute_result"
    },
    {
     "data": {
      "text/plain": [
       "0"
      ]
     },
     "execution_count": 36,
     "metadata": {},
     "output_type": "execute_result"
    },
    {
     "name": "stdout",
     "output_type": "stream",
     "text": [
      "image_15204.tif\n",
      "pad_area_15204.shp\n",
      "D:\\lakemapping\\2_dataset\\sample747\\shp\\output3\\pad_area_15204.shp\n"
     ]
    },
    {
     "data": {
      "text/plain": [
       "0"
      ]
     },
     "execution_count": 36,
     "metadata": {},
     "output_type": "execute_result"
    },
    {
     "data": {
      "text/plain": [
       "0"
      ]
     },
     "execution_count": 36,
     "metadata": {},
     "output_type": "execute_result"
    },
    {
     "data": {
      "text/plain": [
       "0"
      ]
     },
     "execution_count": 36,
     "metadata": {},
     "output_type": "execute_result"
    },
    {
     "name": "stdout",
     "output_type": "stream",
     "text": [
      "image_15225.tif\n",
      "pad_area_15225.shp\n",
      "D:\\lakemapping\\2_dataset\\sample747\\shp\\output3\\pad_area_15225.shp\n"
     ]
    },
    {
     "data": {
      "text/plain": [
       "0"
      ]
     },
     "execution_count": 36,
     "metadata": {},
     "output_type": "execute_result"
    },
    {
     "data": {
      "text/plain": [
       "0"
      ]
     },
     "execution_count": 36,
     "metadata": {},
     "output_type": "execute_result"
    },
    {
     "data": {
      "text/plain": [
       "0"
      ]
     },
     "execution_count": 36,
     "metadata": {},
     "output_type": "execute_result"
    },
    {
     "name": "stdout",
     "output_type": "stream",
     "text": [
      "image_15253.tif\n",
      "pad_area_15253.shp\n",
      "D:\\lakemapping\\2_dataset\\sample747\\shp\\output3\\pad_area_15253.shp\n"
     ]
    },
    {
     "data": {
      "text/plain": [
       "0"
      ]
     },
     "execution_count": 36,
     "metadata": {},
     "output_type": "execute_result"
    },
    {
     "data": {
      "text/plain": [
       "0"
      ]
     },
     "execution_count": 36,
     "metadata": {},
     "output_type": "execute_result"
    },
    {
     "data": {
      "text/plain": [
       "0"
      ]
     },
     "execution_count": 36,
     "metadata": {},
     "output_type": "execute_result"
    },
    {
     "name": "stdout",
     "output_type": "stream",
     "text": [
      "image_15312.tif\n",
      "pad_area_15312.shp\n",
      "D:\\lakemapping\\2_dataset\\sample747\\shp\\output3\\pad_area_15312.shp\n"
     ]
    },
    {
     "data": {
      "text/plain": [
       "0"
      ]
     },
     "execution_count": 36,
     "metadata": {},
     "output_type": "execute_result"
    },
    {
     "data": {
      "text/plain": [
       "0"
      ]
     },
     "execution_count": 36,
     "metadata": {},
     "output_type": "execute_result"
    },
    {
     "data": {
      "text/plain": [
       "0"
      ]
     },
     "execution_count": 36,
     "metadata": {},
     "output_type": "execute_result"
    },
    {
     "name": "stdout",
     "output_type": "stream",
     "text": [
      "image_15381.tif\n",
      "pad_area_15381.shp\n",
      "D:\\lakemapping\\2_dataset\\sample747\\shp\\output3\\pad_area_15381.shp\n"
     ]
    },
    {
     "data": {
      "text/plain": [
       "0"
      ]
     },
     "execution_count": 36,
     "metadata": {},
     "output_type": "execute_result"
    },
    {
     "data": {
      "text/plain": [
       "0"
      ]
     },
     "execution_count": 36,
     "metadata": {},
     "output_type": "execute_result"
    },
    {
     "data": {
      "text/plain": [
       "0"
      ]
     },
     "execution_count": 36,
     "metadata": {},
     "output_type": "execute_result"
    },
    {
     "name": "stdout",
     "output_type": "stream",
     "text": [
      "image_15388.tif\n",
      "pad_area_15388.shp\n",
      "D:\\lakemapping\\2_dataset\\sample747\\shp\\output3\\pad_area_15388.shp\n"
     ]
    },
    {
     "data": {
      "text/plain": [
       "0"
      ]
     },
     "execution_count": 36,
     "metadata": {},
     "output_type": "execute_result"
    },
    {
     "data": {
      "text/plain": [
       "0"
      ]
     },
     "execution_count": 36,
     "metadata": {},
     "output_type": "execute_result"
    },
    {
     "data": {
      "text/plain": [
       "0"
      ]
     },
     "execution_count": 36,
     "metadata": {},
     "output_type": "execute_result"
    },
    {
     "name": "stdout",
     "output_type": "stream",
     "text": [
      "image_16048.tif\n",
      "pad_area_16048.shp\n",
      "D:\\lakemapping\\2_dataset\\sample747\\shp\\output3\\pad_area_16048.shp\n"
     ]
    },
    {
     "data": {
      "text/plain": [
       "0"
      ]
     },
     "execution_count": 36,
     "metadata": {},
     "output_type": "execute_result"
    },
    {
     "data": {
      "text/plain": [
       "0"
      ]
     },
     "execution_count": 36,
     "metadata": {},
     "output_type": "execute_result"
    },
    {
     "data": {
      "text/plain": [
       "0"
      ]
     },
     "execution_count": 36,
     "metadata": {},
     "output_type": "execute_result"
    },
    {
     "name": "stdout",
     "output_type": "stream",
     "text": [
      "image_18120.tif\n",
      "pad_area_18120.shp\n",
      "D:\\lakemapping\\2_dataset\\sample747\\shp\\output3\\pad_area_18120.shp\n"
     ]
    },
    {
     "data": {
      "text/plain": [
       "0"
      ]
     },
     "execution_count": 36,
     "metadata": {},
     "output_type": "execute_result"
    },
    {
     "data": {
      "text/plain": [
       "0"
      ]
     },
     "execution_count": 36,
     "metadata": {},
     "output_type": "execute_result"
    },
    {
     "data": {
      "text/plain": [
       "0"
      ]
     },
     "execution_count": 36,
     "metadata": {},
     "output_type": "execute_result"
    },
    {
     "name": "stdout",
     "output_type": "stream",
     "text": [
      "image_18641.tif\n",
      "pad_area_18641.shp\n",
      "D:\\lakemapping\\2_dataset\\sample747\\shp\\output3\\pad_area_18641.shp\n"
     ]
    },
    {
     "data": {
      "text/plain": [
       "0"
      ]
     },
     "execution_count": 36,
     "metadata": {},
     "output_type": "execute_result"
    },
    {
     "data": {
      "text/plain": [
       "0"
      ]
     },
     "execution_count": 36,
     "metadata": {},
     "output_type": "execute_result"
    },
    {
     "data": {
      "text/plain": [
       "0"
      ]
     },
     "execution_count": 36,
     "metadata": {},
     "output_type": "execute_result"
    },
    {
     "name": "stdout",
     "output_type": "stream",
     "text": [
      "image_18667.tif\n",
      "pad_area_18667.shp\n",
      "D:\\lakemapping\\2_dataset\\sample747\\shp\\output3\\pad_area_18667.shp\n"
     ]
    },
    {
     "data": {
      "text/plain": [
       "0"
      ]
     },
     "execution_count": 36,
     "metadata": {},
     "output_type": "execute_result"
    },
    {
     "data": {
      "text/plain": [
       "0"
      ]
     },
     "execution_count": 36,
     "metadata": {},
     "output_type": "execute_result"
    },
    {
     "data": {
      "text/plain": [
       "0"
      ]
     },
     "execution_count": 36,
     "metadata": {},
     "output_type": "execute_result"
    },
    {
     "name": "stdout",
     "output_type": "stream",
     "text": [
      "image_18809.tif\n",
      "pad_area_18809.shp\n",
      "D:\\lakemapping\\2_dataset\\sample747\\shp\\output3\\pad_area_18809.shp\n"
     ]
    },
    {
     "data": {
      "text/plain": [
       "0"
      ]
     },
     "execution_count": 36,
     "metadata": {},
     "output_type": "execute_result"
    },
    {
     "data": {
      "text/plain": [
       "0"
      ]
     },
     "execution_count": 36,
     "metadata": {},
     "output_type": "execute_result"
    },
    {
     "data": {
      "text/plain": [
       "0"
      ]
     },
     "execution_count": 36,
     "metadata": {},
     "output_type": "execute_result"
    },
    {
     "name": "stdout",
     "output_type": "stream",
     "text": [
      "image_18856.tif\n",
      "pad_area_18856.shp\n",
      "D:\\lakemapping\\2_dataset\\sample747\\shp\\output3\\pad_area_18856.shp\n"
     ]
    },
    {
     "data": {
      "text/plain": [
       "0"
      ]
     },
     "execution_count": 36,
     "metadata": {},
     "output_type": "execute_result"
    },
    {
     "data": {
      "text/plain": [
       "0"
      ]
     },
     "execution_count": 36,
     "metadata": {},
     "output_type": "execute_result"
    },
    {
     "data": {
      "text/plain": [
       "0"
      ]
     },
     "execution_count": 36,
     "metadata": {},
     "output_type": "execute_result"
    },
    {
     "name": "stdout",
     "output_type": "stream",
     "text": [
      "image_1975.tif\n",
      "pad_area_1975.shp\n",
      "D:\\lakemapping\\2_dataset\\sample747\\shp\\output3\\pad_area_1975.shp\n"
     ]
    },
    {
     "data": {
      "text/plain": [
       "0"
      ]
     },
     "execution_count": 36,
     "metadata": {},
     "output_type": "execute_result"
    },
    {
     "data": {
      "text/plain": [
       "0"
      ]
     },
     "execution_count": 36,
     "metadata": {},
     "output_type": "execute_result"
    },
    {
     "data": {
      "text/plain": [
       "0"
      ]
     },
     "execution_count": 36,
     "metadata": {},
     "output_type": "execute_result"
    },
    {
     "name": "stdout",
     "output_type": "stream",
     "text": [
      "image_2340.tif\n",
      "pad_area_2340.shp\n",
      "D:\\lakemapping\\2_dataset\\sample747\\shp\\output3\\pad_area_2340.shp\n"
     ]
    },
    {
     "data": {
      "text/plain": [
       "0"
      ]
     },
     "execution_count": 36,
     "metadata": {},
     "output_type": "execute_result"
    },
    {
     "data": {
      "text/plain": [
       "0"
      ]
     },
     "execution_count": 36,
     "metadata": {},
     "output_type": "execute_result"
    },
    {
     "data": {
      "text/plain": [
       "0"
      ]
     },
     "execution_count": 36,
     "metadata": {},
     "output_type": "execute_result"
    },
    {
     "name": "stdout",
     "output_type": "stream",
     "text": [
      "image_4914.tif\n",
      "pad_area_4914.shp\n",
      "D:\\lakemapping\\2_dataset\\sample747\\shp\\output3\\pad_area_4914.shp\n"
     ]
    },
    {
     "data": {
      "text/plain": [
       "0"
      ]
     },
     "execution_count": 36,
     "metadata": {},
     "output_type": "execute_result"
    },
    {
     "data": {
      "text/plain": [
       "0"
      ]
     },
     "execution_count": 36,
     "metadata": {},
     "output_type": "execute_result"
    },
    {
     "data": {
      "text/plain": [
       "0"
      ]
     },
     "execution_count": 36,
     "metadata": {},
     "output_type": "execute_result"
    },
    {
     "name": "stdout",
     "output_type": "stream",
     "text": [
      "image_4953.tif\n",
      "pad_area_4953.shp\n",
      "D:\\lakemapping\\2_dataset\\sample747\\shp\\output3\\pad_area_4953.shp\n"
     ]
    },
    {
     "data": {
      "text/plain": [
       "0"
      ]
     },
     "execution_count": 36,
     "metadata": {},
     "output_type": "execute_result"
    },
    {
     "data": {
      "text/plain": [
       "0"
      ]
     },
     "execution_count": 36,
     "metadata": {},
     "output_type": "execute_result"
    },
    {
     "data": {
      "text/plain": [
       "0"
      ]
     },
     "execution_count": 36,
     "metadata": {},
     "output_type": "execute_result"
    },
    {
     "name": "stdout",
     "output_type": "stream",
     "text": [
      "image_4982.tif\n",
      "pad_area_4982.shp\n",
      "D:\\lakemapping\\2_dataset\\sample747\\shp\\output3\\pad_area_4982.shp\n"
     ]
    },
    {
     "data": {
      "text/plain": [
       "0"
      ]
     },
     "execution_count": 36,
     "metadata": {},
     "output_type": "execute_result"
    },
    {
     "data": {
      "text/plain": [
       "0"
      ]
     },
     "execution_count": 36,
     "metadata": {},
     "output_type": "execute_result"
    },
    {
     "data": {
      "text/plain": [
       "0"
      ]
     },
     "execution_count": 36,
     "metadata": {},
     "output_type": "execute_result"
    },
    {
     "name": "stdout",
     "output_type": "stream",
     "text": [
      "image_4999.tif\n",
      "pad_area_4999.shp\n",
      "D:\\lakemapping\\2_dataset\\sample747\\shp\\output3\\pad_area_4999.shp\n"
     ]
    },
    {
     "data": {
      "text/plain": [
       "0"
      ]
     },
     "execution_count": 36,
     "metadata": {},
     "output_type": "execute_result"
    },
    {
     "data": {
      "text/plain": [
       "0"
      ]
     },
     "execution_count": 36,
     "metadata": {},
     "output_type": "execute_result"
    },
    {
     "data": {
      "text/plain": [
       "0"
      ]
     },
     "execution_count": 36,
     "metadata": {},
     "output_type": "execute_result"
    },
    {
     "name": "stdout",
     "output_type": "stream",
     "text": [
      "image_5031.tif\n",
      "pad_area_5031.shp\n",
      "D:\\lakemapping\\2_dataset\\sample747\\shp\\output3\\pad_area_5031.shp\n"
     ]
    },
    {
     "data": {
      "text/plain": [
       "0"
      ]
     },
     "execution_count": 36,
     "metadata": {},
     "output_type": "execute_result"
    },
    {
     "data": {
      "text/plain": [
       "0"
      ]
     },
     "execution_count": 36,
     "metadata": {},
     "output_type": "execute_result"
    },
    {
     "data": {
      "text/plain": [
       "0"
      ]
     },
     "execution_count": 36,
     "metadata": {},
     "output_type": "execute_result"
    },
    {
     "name": "stdout",
     "output_type": "stream",
     "text": [
      "image_5935.tif\n",
      "pad_area_5935.shp\n",
      "D:\\lakemapping\\2_dataset\\sample747\\shp\\output3\\pad_area_5935.shp\n"
     ]
    },
    {
     "data": {
      "text/plain": [
       "0"
      ]
     },
     "execution_count": 36,
     "metadata": {},
     "output_type": "execute_result"
    },
    {
     "data": {
      "text/plain": [
       "0"
      ]
     },
     "execution_count": 36,
     "metadata": {},
     "output_type": "execute_result"
    },
    {
     "data": {
      "text/plain": [
       "0"
      ]
     },
     "execution_count": 36,
     "metadata": {},
     "output_type": "execute_result"
    },
    {
     "name": "stdout",
     "output_type": "stream",
     "text": [
      "image_6013.tif\n",
      "pad_area_6013.shp\n",
      "D:\\lakemapping\\2_dataset\\sample747\\shp\\output3\\pad_area_6013.shp\n"
     ]
    },
    {
     "data": {
      "text/plain": [
       "0"
      ]
     },
     "execution_count": 36,
     "metadata": {},
     "output_type": "execute_result"
    },
    {
     "data": {
      "text/plain": [
       "0"
      ]
     },
     "execution_count": 36,
     "metadata": {},
     "output_type": "execute_result"
    },
    {
     "data": {
      "text/plain": [
       "0"
      ]
     },
     "execution_count": 36,
     "metadata": {},
     "output_type": "execute_result"
    },
    {
     "name": "stdout",
     "output_type": "stream",
     "text": [
      "image_6018.tif\n",
      "pad_area_6018.shp\n",
      "D:\\lakemapping\\2_dataset\\sample747\\shp\\output3\\pad_area_6018.shp\n"
     ]
    },
    {
     "data": {
      "text/plain": [
       "0"
      ]
     },
     "execution_count": 36,
     "metadata": {},
     "output_type": "execute_result"
    },
    {
     "data": {
      "text/plain": [
       "0"
      ]
     },
     "execution_count": 36,
     "metadata": {},
     "output_type": "execute_result"
    },
    {
     "data": {
      "text/plain": [
       "0"
      ]
     },
     "execution_count": 36,
     "metadata": {},
     "output_type": "execute_result"
    },
    {
     "name": "stdout",
     "output_type": "stream",
     "text": [
      "image_6056.tif\n",
      "pad_area_6056.shp\n",
      "D:\\lakemapping\\2_dataset\\sample747\\shp\\output3\\pad_area_6056.shp\n"
     ]
    },
    {
     "data": {
      "text/plain": [
       "0"
      ]
     },
     "execution_count": 36,
     "metadata": {},
     "output_type": "execute_result"
    },
    {
     "data": {
      "text/plain": [
       "0"
      ]
     },
     "execution_count": 36,
     "metadata": {},
     "output_type": "execute_result"
    },
    {
     "data": {
      "text/plain": [
       "0"
      ]
     },
     "execution_count": 36,
     "metadata": {},
     "output_type": "execute_result"
    },
    {
     "name": "stdout",
     "output_type": "stream",
     "text": [
      "image_6236.tif\n",
      "pad_area_6236.shp\n",
      "D:\\lakemapping\\2_dataset\\sample747\\shp\\output3\\pad_area_6236.shp\n"
     ]
    },
    {
     "data": {
      "text/plain": [
       "0"
      ]
     },
     "execution_count": 36,
     "metadata": {},
     "output_type": "execute_result"
    },
    {
     "data": {
      "text/plain": [
       "0"
      ]
     },
     "execution_count": 36,
     "metadata": {},
     "output_type": "execute_result"
    },
    {
     "data": {
      "text/plain": [
       "0"
      ]
     },
     "execution_count": 36,
     "metadata": {},
     "output_type": "execute_result"
    },
    {
     "name": "stdout",
     "output_type": "stream",
     "text": [
      "image_629.tif\n",
      "pad_area_629.shp\n",
      "D:\\lakemapping\\2_dataset\\sample747\\shp\\output3\\pad_area_629.shp\n"
     ]
    },
    {
     "data": {
      "text/plain": [
       "0"
      ]
     },
     "execution_count": 36,
     "metadata": {},
     "output_type": "execute_result"
    },
    {
     "data": {
      "text/plain": [
       "0"
      ]
     },
     "execution_count": 36,
     "metadata": {},
     "output_type": "execute_result"
    },
    {
     "data": {
      "text/plain": [
       "0"
      ]
     },
     "execution_count": 36,
     "metadata": {},
     "output_type": "execute_result"
    },
    {
     "name": "stdout",
     "output_type": "stream",
     "text": [
      "image_6708.tif\n",
      "pad_area_6708.shp\n",
      "D:\\lakemapping\\2_dataset\\sample747\\shp\\output3\\pad_area_6708.shp\n"
     ]
    },
    {
     "data": {
      "text/plain": [
       "0"
      ]
     },
     "execution_count": 36,
     "metadata": {},
     "output_type": "execute_result"
    },
    {
     "data": {
      "text/plain": [
       "0"
      ]
     },
     "execution_count": 36,
     "metadata": {},
     "output_type": "execute_result"
    },
    {
     "data": {
      "text/plain": [
       "0"
      ]
     },
     "execution_count": 36,
     "metadata": {},
     "output_type": "execute_result"
    },
    {
     "name": "stdout",
     "output_type": "stream",
     "text": [
      "image_6826.tif\n",
      "pad_area_6826.shp\n",
      "D:\\lakemapping\\2_dataset\\sample747\\shp\\output3\\pad_area_6826.shp\n"
     ]
    },
    {
     "data": {
      "text/plain": [
       "0"
      ]
     },
     "execution_count": 36,
     "metadata": {},
     "output_type": "execute_result"
    },
    {
     "data": {
      "text/plain": [
       "0"
      ]
     },
     "execution_count": 36,
     "metadata": {},
     "output_type": "execute_result"
    },
    {
     "data": {
      "text/plain": [
       "0"
      ]
     },
     "execution_count": 36,
     "metadata": {},
     "output_type": "execute_result"
    },
    {
     "name": "stdout",
     "output_type": "stream",
     "text": [
      "image_6843.tif\n",
      "pad_area_6843.shp\n",
      "D:\\lakemapping\\2_dataset\\sample747\\shp\\output3\\pad_area_6843.shp\n"
     ]
    },
    {
     "data": {
      "text/plain": [
       "0"
      ]
     },
     "execution_count": 36,
     "metadata": {},
     "output_type": "execute_result"
    },
    {
     "data": {
      "text/plain": [
       "0"
      ]
     },
     "execution_count": 36,
     "metadata": {},
     "output_type": "execute_result"
    },
    {
     "data": {
      "text/plain": [
       "0"
      ]
     },
     "execution_count": 36,
     "metadata": {},
     "output_type": "execute_result"
    },
    {
     "name": "stdout",
     "output_type": "stream",
     "text": [
      "image_6845.tif\n",
      "pad_area_6845.shp\n",
      "D:\\lakemapping\\2_dataset\\sample747\\shp\\output3\\pad_area_6845.shp\n"
     ]
    },
    {
     "data": {
      "text/plain": [
       "0"
      ]
     },
     "execution_count": 36,
     "metadata": {},
     "output_type": "execute_result"
    },
    {
     "data": {
      "text/plain": [
       "0"
      ]
     },
     "execution_count": 36,
     "metadata": {},
     "output_type": "execute_result"
    },
    {
     "data": {
      "text/plain": [
       "0"
      ]
     },
     "execution_count": 36,
     "metadata": {},
     "output_type": "execute_result"
    },
    {
     "name": "stdout",
     "output_type": "stream",
     "text": [
      "image_6966.tif\n",
      "pad_area_6966.shp\n",
      "D:\\lakemapping\\2_dataset\\sample747\\shp\\output3\\pad_area_6966.shp\n"
     ]
    },
    {
     "data": {
      "text/plain": [
       "0"
      ]
     },
     "execution_count": 36,
     "metadata": {},
     "output_type": "execute_result"
    },
    {
     "data": {
      "text/plain": [
       "0"
      ]
     },
     "execution_count": 36,
     "metadata": {},
     "output_type": "execute_result"
    },
    {
     "data": {
      "text/plain": [
       "0"
      ]
     },
     "execution_count": 36,
     "metadata": {},
     "output_type": "execute_result"
    },
    {
     "name": "stdout",
     "output_type": "stream",
     "text": [
      "image_7202.tif\n",
      "pad_area_7202.shp\n",
      "D:\\lakemapping\\2_dataset\\sample747\\shp\\output3\\pad_area_7202.shp\n"
     ]
    },
    {
     "data": {
      "text/plain": [
       "0"
      ]
     },
     "execution_count": 36,
     "metadata": {},
     "output_type": "execute_result"
    },
    {
     "data": {
      "text/plain": [
       "0"
      ]
     },
     "execution_count": 36,
     "metadata": {},
     "output_type": "execute_result"
    },
    {
     "data": {
      "text/plain": [
       "0"
      ]
     },
     "execution_count": 36,
     "metadata": {},
     "output_type": "execute_result"
    },
    {
     "name": "stdout",
     "output_type": "stream",
     "text": [
      "image_7210.tif\n",
      "pad_area_7210.shp\n",
      "D:\\lakemapping\\2_dataset\\sample747\\shp\\output3\\pad_area_7210.shp\n"
     ]
    },
    {
     "data": {
      "text/plain": [
       "0"
      ]
     },
     "execution_count": 36,
     "metadata": {},
     "output_type": "execute_result"
    },
    {
     "data": {
      "text/plain": [
       "0"
      ]
     },
     "execution_count": 36,
     "metadata": {},
     "output_type": "execute_result"
    },
    {
     "data": {
      "text/plain": [
       "0"
      ]
     },
     "execution_count": 36,
     "metadata": {},
     "output_type": "execute_result"
    },
    {
     "name": "stdout",
     "output_type": "stream",
     "text": [
      "image_7890.tif\n",
      "pad_area_7890.shp\n",
      "D:\\lakemapping\\2_dataset\\sample747\\shp\\output3\\pad_area_7890.shp\n"
     ]
    },
    {
     "data": {
      "text/plain": [
       "0"
      ]
     },
     "execution_count": 36,
     "metadata": {},
     "output_type": "execute_result"
    },
    {
     "data": {
      "text/plain": [
       "0"
      ]
     },
     "execution_count": 36,
     "metadata": {},
     "output_type": "execute_result"
    },
    {
     "data": {
      "text/plain": [
       "0"
      ]
     },
     "execution_count": 36,
     "metadata": {},
     "output_type": "execute_result"
    },
    {
     "name": "stdout",
     "output_type": "stream",
     "text": [
      "image_7900.tif\n",
      "pad_area_7900.shp\n",
      "D:\\lakemapping\\2_dataset\\sample747\\shp\\output3\\pad_area_7900.shp\n"
     ]
    },
    {
     "data": {
      "text/plain": [
       "0"
      ]
     },
     "execution_count": 36,
     "metadata": {},
     "output_type": "execute_result"
    },
    {
     "data": {
      "text/plain": [
       "0"
      ]
     },
     "execution_count": 36,
     "metadata": {},
     "output_type": "execute_result"
    },
    {
     "data": {
      "text/plain": [
       "0"
      ]
     },
     "execution_count": 36,
     "metadata": {},
     "output_type": "execute_result"
    },
    {
     "name": "stdout",
     "output_type": "stream",
     "text": [
      "image_8072.tif\n",
      "pad_area_8072.shp\n",
      "D:\\lakemapping\\2_dataset\\sample747\\shp\\output3\\pad_area_8072.shp\n"
     ]
    },
    {
     "data": {
      "text/plain": [
       "0"
      ]
     },
     "execution_count": 36,
     "metadata": {},
     "output_type": "execute_result"
    },
    {
     "data": {
      "text/plain": [
       "0"
      ]
     },
     "execution_count": 36,
     "metadata": {},
     "output_type": "execute_result"
    },
    {
     "data": {
      "text/plain": [
       "0"
      ]
     },
     "execution_count": 36,
     "metadata": {},
     "output_type": "execute_result"
    },
    {
     "name": "stdout",
     "output_type": "stream",
     "text": [
      "image_8242.tif\n",
      "pad_area_8242.shp\n",
      "D:\\lakemapping\\2_dataset\\sample747\\shp\\output3\\pad_area_8242.shp\n"
     ]
    },
    {
     "data": {
      "text/plain": [
       "0"
      ]
     },
     "execution_count": 36,
     "metadata": {},
     "output_type": "execute_result"
    },
    {
     "data": {
      "text/plain": [
       "0"
      ]
     },
     "execution_count": 36,
     "metadata": {},
     "output_type": "execute_result"
    },
    {
     "data": {
      "text/plain": [
       "0"
      ]
     },
     "execution_count": 36,
     "metadata": {},
     "output_type": "execute_result"
    },
    {
     "name": "stdout",
     "output_type": "stream",
     "text": [
      "image_8263.tif\n",
      "pad_area_8263.shp\n",
      "D:\\lakemapping\\2_dataset\\sample747\\shp\\output3\\pad_area_8263.shp\n"
     ]
    },
    {
     "data": {
      "text/plain": [
       "0"
      ]
     },
     "execution_count": 36,
     "metadata": {},
     "output_type": "execute_result"
    },
    {
     "data": {
      "text/plain": [
       "0"
      ]
     },
     "execution_count": 36,
     "metadata": {},
     "output_type": "execute_result"
    },
    {
     "data": {
      "text/plain": [
       "0"
      ]
     },
     "execution_count": 36,
     "metadata": {},
     "output_type": "execute_result"
    },
    {
     "name": "stdout",
     "output_type": "stream",
     "text": [
      "image_8283.tif\n",
      "pad_area_8283.shp\n",
      "D:\\lakemapping\\2_dataset\\sample747\\shp\\output3\\pad_area_8283.shp\n"
     ]
    },
    {
     "data": {
      "text/plain": [
       "0"
      ]
     },
     "execution_count": 36,
     "metadata": {},
     "output_type": "execute_result"
    },
    {
     "data": {
      "text/plain": [
       "0"
      ]
     },
     "execution_count": 36,
     "metadata": {},
     "output_type": "execute_result"
    },
    {
     "data": {
      "text/plain": [
       "0"
      ]
     },
     "execution_count": 36,
     "metadata": {},
     "output_type": "execute_result"
    },
    {
     "name": "stdout",
     "output_type": "stream",
     "text": [
      "image_8331.tif\n",
      "pad_area_8331.shp\n",
      "D:\\lakemapping\\2_dataset\\sample747\\shp\\output3\\pad_area_8331.shp\n"
     ]
    },
    {
     "data": {
      "text/plain": [
       "0"
      ]
     },
     "execution_count": 36,
     "metadata": {},
     "output_type": "execute_result"
    },
    {
     "data": {
      "text/plain": [
       "0"
      ]
     },
     "execution_count": 36,
     "metadata": {},
     "output_type": "execute_result"
    },
    {
     "data": {
      "text/plain": [
       "0"
      ]
     },
     "execution_count": 36,
     "metadata": {},
     "output_type": "execute_result"
    },
    {
     "name": "stdout",
     "output_type": "stream",
     "text": [
      "image_8629.tif\n",
      "pad_area_8629.shp\n",
      "D:\\lakemapping\\2_dataset\\sample747\\shp\\output3\\pad_area_8629.shp\n"
     ]
    },
    {
     "data": {
      "text/plain": [
       "0"
      ]
     },
     "execution_count": 36,
     "metadata": {},
     "output_type": "execute_result"
    },
    {
     "data": {
      "text/plain": [
       "0"
      ]
     },
     "execution_count": 36,
     "metadata": {},
     "output_type": "execute_result"
    },
    {
     "data": {
      "text/plain": [
       "0"
      ]
     },
     "execution_count": 36,
     "metadata": {},
     "output_type": "execute_result"
    },
    {
     "name": "stdout",
     "output_type": "stream",
     "text": [
      "image_8662.tif\n",
      "pad_area_8662.shp\n",
      "D:\\lakemapping\\2_dataset\\sample747\\shp\\output3\\pad_area_8662.shp\n"
     ]
    },
    {
     "data": {
      "text/plain": [
       "0"
      ]
     },
     "execution_count": 36,
     "metadata": {},
     "output_type": "execute_result"
    },
    {
     "data": {
      "text/plain": [
       "0"
      ]
     },
     "execution_count": 36,
     "metadata": {},
     "output_type": "execute_result"
    },
    {
     "data": {
      "text/plain": [
       "0"
      ]
     },
     "execution_count": 36,
     "metadata": {},
     "output_type": "execute_result"
    },
    {
     "name": "stdout",
     "output_type": "stream",
     "text": [
      "image_8727.tif\n",
      "pad_area_8727.shp\n",
      "D:\\lakemapping\\2_dataset\\sample747\\shp\\output3\\pad_area_8727.shp\n"
     ]
    },
    {
     "data": {
      "text/plain": [
       "0"
      ]
     },
     "execution_count": 36,
     "metadata": {},
     "output_type": "execute_result"
    },
    {
     "data": {
      "text/plain": [
       "0"
      ]
     },
     "execution_count": 36,
     "metadata": {},
     "output_type": "execute_result"
    },
    {
     "data": {
      "text/plain": [
       "0"
      ]
     },
     "execution_count": 36,
     "metadata": {},
     "output_type": "execute_result"
    },
    {
     "name": "stdout",
     "output_type": "stream",
     "text": [
      "image_9321.tif\n",
      "pad_area_9321.shp\n",
      "D:\\lakemapping\\2_dataset\\sample747\\shp\\output3\\pad_area_9321.shp\n"
     ]
    },
    {
     "data": {
      "text/plain": [
       "0"
      ]
     },
     "execution_count": 36,
     "metadata": {},
     "output_type": "execute_result"
    },
    {
     "data": {
      "text/plain": [
       "0"
      ]
     },
     "execution_count": 36,
     "metadata": {},
     "output_type": "execute_result"
    },
    {
     "data": {
      "text/plain": [
       "0"
      ]
     },
     "execution_count": 36,
     "metadata": {},
     "output_type": "execute_result"
    },
    {
     "name": "stdout",
     "output_type": "stream",
     "text": [
      "image_9376.tif\n",
      "pad_area_9376.shp\n",
      "D:\\lakemapping\\2_dataset\\sample747\\shp\\output3\\pad_area_9376.shp\n"
     ]
    },
    {
     "data": {
      "text/plain": [
       "0"
      ]
     },
     "execution_count": 36,
     "metadata": {},
     "output_type": "execute_result"
    },
    {
     "data": {
      "text/plain": [
       "0"
      ]
     },
     "execution_count": 36,
     "metadata": {},
     "output_type": "execute_result"
    },
    {
     "data": {
      "text/plain": [
       "0"
      ]
     },
     "execution_count": 36,
     "metadata": {},
     "output_type": "execute_result"
    },
    {
     "name": "stdout",
     "output_type": "stream",
     "text": [
      "image_9436.tif\n",
      "pad_area_9436.shp\n",
      "D:\\lakemapping\\2_dataset\\sample747\\shp\\output3\\pad_area_9436.shp\n"
     ]
    },
    {
     "data": {
      "text/plain": [
       "0"
      ]
     },
     "execution_count": 36,
     "metadata": {},
     "output_type": "execute_result"
    },
    {
     "data": {
      "text/plain": [
       "0"
      ]
     },
     "execution_count": 36,
     "metadata": {},
     "output_type": "execute_result"
    },
    {
     "data": {
      "text/plain": [
       "0"
      ]
     },
     "execution_count": 36,
     "metadata": {},
     "output_type": "execute_result"
    },
    {
     "name": "stdout",
     "output_type": "stream",
     "text": [
      "image_9473.tif\n",
      "pad_area_9473.shp\n",
      "D:\\lakemapping\\2_dataset\\sample747\\shp\\output3\\pad_area_9473.shp\n"
     ]
    },
    {
     "data": {
      "text/plain": [
       "0"
      ]
     },
     "execution_count": 36,
     "metadata": {},
     "output_type": "execute_result"
    },
    {
     "data": {
      "text/plain": [
       "0"
      ]
     },
     "execution_count": 36,
     "metadata": {},
     "output_type": "execute_result"
    },
    {
     "data": {
      "text/plain": [
       "0"
      ]
     },
     "execution_count": 36,
     "metadata": {},
     "output_type": "execute_result"
    },
    {
     "name": "stdout",
     "output_type": "stream",
     "text": [
      "image_9476.tif\n",
      "pad_area_9476.shp\n",
      "D:\\lakemapping\\2_dataset\\sample747\\shp\\output3\\pad_area_9476.shp\n"
     ]
    },
    {
     "data": {
      "text/plain": [
       "0"
      ]
     },
     "execution_count": 36,
     "metadata": {},
     "output_type": "execute_result"
    },
    {
     "data": {
      "text/plain": [
       "0"
      ]
     },
     "execution_count": 36,
     "metadata": {},
     "output_type": "execute_result"
    },
    {
     "data": {
      "text/plain": [
       "0"
      ]
     },
     "execution_count": 36,
     "metadata": {},
     "output_type": "execute_result"
    },
    {
     "name": "stdout",
     "output_type": "stream",
     "text": [
      "image_9501.tif\n",
      "pad_area_9501.shp\n",
      "D:\\lakemapping\\2_dataset\\sample747\\shp\\output3\\pad_area_9501.shp\n"
     ]
    },
    {
     "data": {
      "text/plain": [
       "0"
      ]
     },
     "execution_count": 36,
     "metadata": {},
     "output_type": "execute_result"
    },
    {
     "data": {
      "text/plain": [
       "0"
      ]
     },
     "execution_count": 36,
     "metadata": {},
     "output_type": "execute_result"
    },
    {
     "data": {
      "text/plain": [
       "0"
      ]
     },
     "execution_count": 36,
     "metadata": {},
     "output_type": "execute_result"
    },
    {
     "name": "stdout",
     "output_type": "stream",
     "text": [
      "image_9508.tif\n",
      "pad_area_9508.shp\n",
      "D:\\lakemapping\\2_dataset\\sample747\\shp\\output3\\pad_area_9508.shp\n"
     ]
    },
    {
     "data": {
      "text/plain": [
       "0"
      ]
     },
     "execution_count": 36,
     "metadata": {},
     "output_type": "execute_result"
    },
    {
     "data": {
      "text/plain": [
       "0"
      ]
     },
     "execution_count": 36,
     "metadata": {},
     "output_type": "execute_result"
    },
    {
     "data": {
      "text/plain": [
       "0"
      ]
     },
     "execution_count": 36,
     "metadata": {},
     "output_type": "execute_result"
    },
    {
     "name": "stdout",
     "output_type": "stream",
     "text": [
      "image_9553.tif\n",
      "pad_area_9553.shp\n",
      "D:\\lakemapping\\2_dataset\\sample747\\shp\\output3\\pad_area_9553.shp\n"
     ]
    },
    {
     "data": {
      "text/plain": [
       "0"
      ]
     },
     "execution_count": 36,
     "metadata": {},
     "output_type": "execute_result"
    },
    {
     "data": {
      "text/plain": [
       "0"
      ]
     },
     "execution_count": 36,
     "metadata": {},
     "output_type": "execute_result"
    },
    {
     "data": {
      "text/plain": [
       "0"
      ]
     },
     "execution_count": 36,
     "metadata": {},
     "output_type": "execute_result"
    },
    {
     "name": "stdout",
     "output_type": "stream",
     "text": [
      "image_1974.tif\n",
      "pad_area_1974.shp\n",
      "D:\\lakemapping\\2_dataset\\sample747\\shp\\output4\\pad_area_1974.shp\n"
     ]
    },
    {
     "data": {
      "text/plain": [
       "0"
      ]
     },
     "execution_count": 36,
     "metadata": {},
     "output_type": "execute_result"
    },
    {
     "data": {
      "text/plain": [
       "0"
      ]
     },
     "execution_count": 36,
     "metadata": {},
     "output_type": "execute_result"
    },
    {
     "data": {
      "text/plain": [
       "0"
      ]
     },
     "execution_count": 36,
     "metadata": {},
     "output_type": "execute_result"
    },
    {
     "name": "stdout",
     "output_type": "stream",
     "text": [
      "image_2155.tif\n",
      "pad_area_2155.shp\n",
      "D:\\lakemapping\\2_dataset\\sample747\\shp\\output4\\pad_area_2155.shp\n"
     ]
    },
    {
     "data": {
      "text/plain": [
       "0"
      ]
     },
     "execution_count": 36,
     "metadata": {},
     "output_type": "execute_result"
    },
    {
     "data": {
      "text/plain": [
       "0"
      ]
     },
     "execution_count": 36,
     "metadata": {},
     "output_type": "execute_result"
    },
    {
     "data": {
      "text/plain": [
       "0"
      ]
     },
     "execution_count": 36,
     "metadata": {},
     "output_type": "execute_result"
    },
    {
     "name": "stdout",
     "output_type": "stream",
     "text": [
      "image_2618.tif\n",
      "pad_area_2618.shp\n",
      "D:\\lakemapping\\2_dataset\\sample747\\shp\\output4\\pad_area_2618.shp\n"
     ]
    },
    {
     "data": {
      "text/plain": [
       "0"
      ]
     },
     "execution_count": 36,
     "metadata": {},
     "output_type": "execute_result"
    },
    {
     "data": {
      "text/plain": [
       "0"
      ]
     },
     "execution_count": 36,
     "metadata": {},
     "output_type": "execute_result"
    },
    {
     "data": {
      "text/plain": [
       "0"
      ]
     },
     "execution_count": 36,
     "metadata": {},
     "output_type": "execute_result"
    },
    {
     "name": "stdout",
     "output_type": "stream",
     "text": [
      "image_3560.tif\n",
      "pad_area_3560.shp\n",
      "D:\\lakemapping\\2_dataset\\sample747\\shp\\output4\\pad_area_3560.shp\n"
     ]
    },
    {
     "data": {
      "text/plain": [
       "0"
      ]
     },
     "execution_count": 36,
     "metadata": {},
     "output_type": "execute_result"
    },
    {
     "data": {
      "text/plain": [
       "0"
      ]
     },
     "execution_count": 36,
     "metadata": {},
     "output_type": "execute_result"
    },
    {
     "data": {
      "text/plain": [
       "0"
      ]
     },
     "execution_count": 36,
     "metadata": {},
     "output_type": "execute_result"
    },
    {
     "name": "stdout",
     "output_type": "stream",
     "text": [
      "image_4685.tif\n",
      "pad_area_4685.shp\n",
      "D:\\lakemapping\\2_dataset\\sample747\\shp\\output4\\pad_area_4685.shp\n"
     ]
    },
    {
     "data": {
      "text/plain": [
       "0"
      ]
     },
     "execution_count": 36,
     "metadata": {},
     "output_type": "execute_result"
    },
    {
     "data": {
      "text/plain": [
       "0"
      ]
     },
     "execution_count": 36,
     "metadata": {},
     "output_type": "execute_result"
    },
    {
     "data": {
      "text/plain": [
       "0"
      ]
     },
     "execution_count": 36,
     "metadata": {},
     "output_type": "execute_result"
    },
    {
     "name": "stdout",
     "output_type": "stream",
     "text": [
      "image_5006.tif\n",
      "pad_area_5006.shp\n",
      "D:\\lakemapping\\2_dataset\\sample747\\shp\\output4\\pad_area_5006.shp\n"
     ]
    },
    {
     "data": {
      "text/plain": [
       "0"
      ]
     },
     "execution_count": 36,
     "metadata": {},
     "output_type": "execute_result"
    },
    {
     "data": {
      "text/plain": [
       "0"
      ]
     },
     "execution_count": 36,
     "metadata": {},
     "output_type": "execute_result"
    },
    {
     "data": {
      "text/plain": [
       "0"
      ]
     },
     "execution_count": 36,
     "metadata": {},
     "output_type": "execute_result"
    },
    {
     "name": "stdout",
     "output_type": "stream",
     "text": [
      "image_5026.tif\n",
      "pad_area_5026.shp\n",
      "D:\\lakemapping\\2_dataset\\sample747\\shp\\output4\\pad_area_5026.shp\n"
     ]
    },
    {
     "data": {
      "text/plain": [
       "0"
      ]
     },
     "execution_count": 36,
     "metadata": {},
     "output_type": "execute_result"
    },
    {
     "data": {
      "text/plain": [
       "0"
      ]
     },
     "execution_count": 36,
     "metadata": {},
     "output_type": "execute_result"
    },
    {
     "data": {
      "text/plain": [
       "0"
      ]
     },
     "execution_count": 36,
     "metadata": {},
     "output_type": "execute_result"
    },
    {
     "name": "stdout",
     "output_type": "stream",
     "text": [
      "image_5711.tif\n",
      "pad_area_5711.shp\n",
      "D:\\lakemapping\\2_dataset\\sample747\\shp\\output4\\pad_area_5711.shp\n"
     ]
    },
    {
     "data": {
      "text/plain": [
       "0"
      ]
     },
     "execution_count": 36,
     "metadata": {},
     "output_type": "execute_result"
    },
    {
     "data": {
      "text/plain": [
       "0"
      ]
     },
     "execution_count": 36,
     "metadata": {},
     "output_type": "execute_result"
    },
    {
     "data": {
      "text/plain": [
       "0"
      ]
     },
     "execution_count": 36,
     "metadata": {},
     "output_type": "execute_result"
    },
    {
     "name": "stdout",
     "output_type": "stream",
     "text": [
      "image_6108.tif\n",
      "pad_area_6108.shp\n",
      "D:\\lakemapping\\2_dataset\\sample747\\shp\\output4\\pad_area_6108.shp\n"
     ]
    },
    {
     "data": {
      "text/plain": [
       "0"
      ]
     },
     "execution_count": 36,
     "metadata": {},
     "output_type": "execute_result"
    },
    {
     "data": {
      "text/plain": [
       "0"
      ]
     },
     "execution_count": 36,
     "metadata": {},
     "output_type": "execute_result"
    },
    {
     "data": {
      "text/plain": [
       "0"
      ]
     },
     "execution_count": 36,
     "metadata": {},
     "output_type": "execute_result"
    },
    {
     "name": "stdout",
     "output_type": "stream",
     "text": [
      "image_6229.tif\n",
      "pad_area_6229.shp\n",
      "D:\\lakemapping\\2_dataset\\sample747\\shp\\output4\\pad_area_6229.shp\n"
     ]
    },
    {
     "data": {
      "text/plain": [
       "0"
      ]
     },
     "execution_count": 36,
     "metadata": {},
     "output_type": "execute_result"
    },
    {
     "data": {
      "text/plain": [
       "0"
      ]
     },
     "execution_count": 36,
     "metadata": {},
     "output_type": "execute_result"
    },
    {
     "data": {
      "text/plain": [
       "0"
      ]
     },
     "execution_count": 36,
     "metadata": {},
     "output_type": "execute_result"
    },
    {
     "name": "stdout",
     "output_type": "stream",
     "text": [
      "image_6752.tif\n",
      "pad_area_6752.shp\n",
      "D:\\lakemapping\\2_dataset\\sample747\\shp\\output4\\pad_area_6752.shp\n"
     ]
    },
    {
     "data": {
      "text/plain": [
       "0"
      ]
     },
     "execution_count": 36,
     "metadata": {},
     "output_type": "execute_result"
    },
    {
     "data": {
      "text/plain": [
       "0"
      ]
     },
     "execution_count": 36,
     "metadata": {},
     "output_type": "execute_result"
    },
    {
     "data": {
      "text/plain": [
       "0"
      ]
     },
     "execution_count": 36,
     "metadata": {},
     "output_type": "execute_result"
    },
    {
     "name": "stdout",
     "output_type": "stream",
     "text": [
      "image_8460.tif\n",
      "pad_area_8460.shp\n",
      "D:\\lakemapping\\2_dataset\\sample747\\shp\\output4\\pad_area_8460.shp\n"
     ]
    },
    {
     "data": {
      "text/plain": [
       "0"
      ]
     },
     "execution_count": 36,
     "metadata": {},
     "output_type": "execute_result"
    },
    {
     "data": {
      "text/plain": [
       "0"
      ]
     },
     "execution_count": 36,
     "metadata": {},
     "output_type": "execute_result"
    },
    {
     "data": {
      "text/plain": [
       "0"
      ]
     },
     "execution_count": 36,
     "metadata": {},
     "output_type": "execute_result"
    },
    {
     "name": "stdout",
     "output_type": "stream",
     "text": [
      "image_8538.tif\n",
      "pad_area_8538.shp\n",
      "D:\\lakemapping\\2_dataset\\sample747\\shp\\output4\\pad_area_8538.shp\n"
     ]
    },
    {
     "data": {
      "text/plain": [
       "0"
      ]
     },
     "execution_count": 36,
     "metadata": {},
     "output_type": "execute_result"
    },
    {
     "data": {
      "text/plain": [
       "0"
      ]
     },
     "execution_count": 36,
     "metadata": {},
     "output_type": "execute_result"
    },
    {
     "data": {
      "text/plain": [
       "0"
      ]
     },
     "execution_count": 36,
     "metadata": {},
     "output_type": "execute_result"
    },
    {
     "name": "stdout",
     "output_type": "stream",
     "text": [
      "image_8732.tif\n",
      "pad_area_8732.shp\n",
      "D:\\lakemapping\\2_dataset\\sample747\\shp\\output4\\pad_area_8732.shp\n"
     ]
    },
    {
     "data": {
      "text/plain": [
       "0"
      ]
     },
     "execution_count": 36,
     "metadata": {},
     "output_type": "execute_result"
    },
    {
     "data": {
      "text/plain": [
       "0"
      ]
     },
     "execution_count": 36,
     "metadata": {},
     "output_type": "execute_result"
    },
    {
     "data": {
      "text/plain": [
       "0"
      ]
     },
     "execution_count": 36,
     "metadata": {},
     "output_type": "execute_result"
    },
    {
     "name": "stdout",
     "output_type": "stream",
     "text": [
      "image_9068.tif\n",
      "pad_area_9068.shp\n",
      "D:\\lakemapping\\2_dataset\\sample747\\shp\\output4\\pad_area_9068.shp\n"
     ]
    },
    {
     "data": {
      "text/plain": [
       "0"
      ]
     },
     "execution_count": 36,
     "metadata": {},
     "output_type": "execute_result"
    },
    {
     "data": {
      "text/plain": [
       "0"
      ]
     },
     "execution_count": 36,
     "metadata": {},
     "output_type": "execute_result"
    },
    {
     "data": {
      "text/plain": [
       "0"
      ]
     },
     "execution_count": 36,
     "metadata": {},
     "output_type": "execute_result"
    },
    {
     "name": "stdout",
     "output_type": "stream",
     "text": [
      "image_10792.tif\n",
      "pad_area_10792.shp\n",
      "D:\\lakemapping\\2_dataset\\sample747\\shp\\output5\\pad_area_10792.shp\n"
     ]
    },
    {
     "data": {
      "text/plain": [
       "0"
      ]
     },
     "execution_count": 36,
     "metadata": {},
     "output_type": "execute_result"
    },
    {
     "data": {
      "text/plain": [
       "0"
      ]
     },
     "execution_count": 36,
     "metadata": {},
     "output_type": "execute_result"
    },
    {
     "data": {
      "text/plain": [
       "0"
      ]
     },
     "execution_count": 36,
     "metadata": {},
     "output_type": "execute_result"
    },
    {
     "name": "stdout",
     "output_type": "stream",
     "text": [
      "image_10953.tif\n",
      "pad_area_10953.shp\n",
      "D:\\lakemapping\\2_dataset\\sample747\\shp\\output5\\pad_area_10953.shp\n"
     ]
    },
    {
     "data": {
      "text/plain": [
       "0"
      ]
     },
     "execution_count": 36,
     "metadata": {},
     "output_type": "execute_result"
    },
    {
     "data": {
      "text/plain": [
       "0"
      ]
     },
     "execution_count": 36,
     "metadata": {},
     "output_type": "execute_result"
    },
    {
     "data": {
      "text/plain": [
       "0"
      ]
     },
     "execution_count": 36,
     "metadata": {},
     "output_type": "execute_result"
    },
    {
     "name": "stdout",
     "output_type": "stream",
     "text": [
      "image_16118.tif\n",
      "pad_area_16118.shp\n",
      "D:\\lakemapping\\2_dataset\\sample747\\shp\\output5\\pad_area_16118.shp\n"
     ]
    },
    {
     "data": {
      "text/plain": [
       "0"
      ]
     },
     "execution_count": 36,
     "metadata": {},
     "output_type": "execute_result"
    },
    {
     "data": {
      "text/plain": [
       "0"
      ]
     },
     "execution_count": 36,
     "metadata": {},
     "output_type": "execute_result"
    },
    {
     "data": {
      "text/plain": [
       "0"
      ]
     },
     "execution_count": 36,
     "metadata": {},
     "output_type": "execute_result"
    },
    {
     "name": "stdout",
     "output_type": "stream",
     "text": [
      "image_17140.tif\n",
      "pad_area_17140.shp\n",
      "D:\\lakemapping\\2_dataset\\sample747\\shp\\output5\\pad_area_17140.shp\n"
     ]
    },
    {
     "data": {
      "text/plain": [
       "0"
      ]
     },
     "execution_count": 36,
     "metadata": {},
     "output_type": "execute_result"
    },
    {
     "data": {
      "text/plain": [
       "0"
      ]
     },
     "execution_count": 36,
     "metadata": {},
     "output_type": "execute_result"
    },
    {
     "data": {
      "text/plain": [
       "0"
      ]
     },
     "execution_count": 36,
     "metadata": {},
     "output_type": "execute_result"
    },
    {
     "name": "stdout",
     "output_type": "stream",
     "text": [
      "image_17434.tif\n",
      "pad_area_17434.shp\n",
      "D:\\lakemapping\\2_dataset\\sample747\\shp\\output5\\pad_area_17434.shp\n"
     ]
    },
    {
     "data": {
      "text/plain": [
       "0"
      ]
     },
     "execution_count": 36,
     "metadata": {},
     "output_type": "execute_result"
    },
    {
     "data": {
      "text/plain": [
       "0"
      ]
     },
     "execution_count": 36,
     "metadata": {},
     "output_type": "execute_result"
    },
    {
     "data": {
      "text/plain": [
       "0"
      ]
     },
     "execution_count": 36,
     "metadata": {},
     "output_type": "execute_result"
    },
    {
     "name": "stdout",
     "output_type": "stream",
     "text": [
      "image_17481.tif\n",
      "pad_area_17481.shp\n",
      "D:\\lakemapping\\2_dataset\\sample747\\shp\\output5\\pad_area_17481.shp\n"
     ]
    },
    {
     "data": {
      "text/plain": [
       "0"
      ]
     },
     "execution_count": 36,
     "metadata": {},
     "output_type": "execute_result"
    },
    {
     "data": {
      "text/plain": [
       "0"
      ]
     },
     "execution_count": 36,
     "metadata": {},
     "output_type": "execute_result"
    },
    {
     "data": {
      "text/plain": [
       "0"
      ]
     },
     "execution_count": 36,
     "metadata": {},
     "output_type": "execute_result"
    },
    {
     "name": "stdout",
     "output_type": "stream",
     "text": [
      "image_17683.tif\n",
      "pad_area_17683.shp\n",
      "D:\\lakemapping\\2_dataset\\sample747\\shp\\output5\\pad_area_17683.shp\n"
     ]
    },
    {
     "data": {
      "text/plain": [
       "0"
      ]
     },
     "execution_count": 36,
     "metadata": {},
     "output_type": "execute_result"
    },
    {
     "data": {
      "text/plain": [
       "0"
      ]
     },
     "execution_count": 36,
     "metadata": {},
     "output_type": "execute_result"
    },
    {
     "data": {
      "text/plain": [
       "0"
      ]
     },
     "execution_count": 36,
     "metadata": {},
     "output_type": "execute_result"
    },
    {
     "name": "stdout",
     "output_type": "stream",
     "text": [
      "image_17753.tif\n",
      "pad_area_17753.shp\n",
      "D:\\lakemapping\\2_dataset\\sample747\\shp\\output5\\pad_area_17753.shp\n"
     ]
    },
    {
     "data": {
      "text/plain": [
       "0"
      ]
     },
     "execution_count": 36,
     "metadata": {},
     "output_type": "execute_result"
    },
    {
     "data": {
      "text/plain": [
       "0"
      ]
     },
     "execution_count": 36,
     "metadata": {},
     "output_type": "execute_result"
    },
    {
     "data": {
      "text/plain": [
       "0"
      ]
     },
     "execution_count": 36,
     "metadata": {},
     "output_type": "execute_result"
    },
    {
     "name": "stdout",
     "output_type": "stream",
     "text": [
      "image_17883.tif\n",
      "pad_area_17883.shp\n",
      "D:\\lakemapping\\2_dataset\\sample747\\shp\\output5\\pad_area_17883.shp\n"
     ]
    },
    {
     "data": {
      "text/plain": [
       "0"
      ]
     },
     "execution_count": 36,
     "metadata": {},
     "output_type": "execute_result"
    },
    {
     "data": {
      "text/plain": [
       "0"
      ]
     },
     "execution_count": 36,
     "metadata": {},
     "output_type": "execute_result"
    },
    {
     "data": {
      "text/plain": [
       "0"
      ]
     },
     "execution_count": 36,
     "metadata": {},
     "output_type": "execute_result"
    },
    {
     "name": "stdout",
     "output_type": "stream",
     "text": [
      "image_18710.tif\n",
      "pad_area_18710.shp\n",
      "D:\\lakemapping\\2_dataset\\sample747\\shp\\output5\\pad_area_18710.shp\n"
     ]
    },
    {
     "data": {
      "text/plain": [
       "0"
      ]
     },
     "execution_count": 36,
     "metadata": {},
     "output_type": "execute_result"
    },
    {
     "data": {
      "text/plain": [
       "0"
      ]
     },
     "execution_count": 36,
     "metadata": {},
     "output_type": "execute_result"
    },
    {
     "data": {
      "text/plain": [
       "0"
      ]
     },
     "execution_count": 36,
     "metadata": {},
     "output_type": "execute_result"
    },
    {
     "name": "stdout",
     "output_type": "stream",
     "text": [
      "image_18725.tif\n",
      "pad_area_18725.shp\n",
      "D:\\lakemapping\\2_dataset\\sample747\\shp\\output5\\pad_area_18725.shp\n"
     ]
    },
    {
     "data": {
      "text/plain": [
       "0"
      ]
     },
     "execution_count": 36,
     "metadata": {},
     "output_type": "execute_result"
    },
    {
     "data": {
      "text/plain": [
       "0"
      ]
     },
     "execution_count": 36,
     "metadata": {},
     "output_type": "execute_result"
    },
    {
     "data": {
      "text/plain": [
       "0"
      ]
     },
     "execution_count": 36,
     "metadata": {},
     "output_type": "execute_result"
    },
    {
     "name": "stdout",
     "output_type": "stream",
     "text": [
      "image_2883.tif\n",
      "pad_area_2883.shp\n",
      "D:\\lakemapping\\2_dataset\\sample747\\shp\\output5\\pad_area_2883.shp\n"
     ]
    },
    {
     "data": {
      "text/plain": [
       "0"
      ]
     },
     "execution_count": 36,
     "metadata": {},
     "output_type": "execute_result"
    },
    {
     "data": {
      "text/plain": [
       "0"
      ]
     },
     "execution_count": 36,
     "metadata": {},
     "output_type": "execute_result"
    },
    {
     "data": {
      "text/plain": [
       "0"
      ]
     },
     "execution_count": 36,
     "metadata": {},
     "output_type": "execute_result"
    },
    {
     "name": "stdout",
     "output_type": "stream",
     "text": [
      "image_2979.tif\n",
      "pad_area_2979.shp\n",
      "D:\\lakemapping\\2_dataset\\sample747\\shp\\output5\\pad_area_2979.shp\n"
     ]
    },
    {
     "data": {
      "text/plain": [
       "0"
      ]
     },
     "execution_count": 36,
     "metadata": {},
     "output_type": "execute_result"
    },
    {
     "data": {
      "text/plain": [
       "0"
      ]
     },
     "execution_count": 36,
     "metadata": {},
     "output_type": "execute_result"
    },
    {
     "data": {
      "text/plain": [
       "0"
      ]
     },
     "execution_count": 36,
     "metadata": {},
     "output_type": "execute_result"
    },
    {
     "name": "stdout",
     "output_type": "stream",
     "text": [
      "image_2986.tif\n",
      "pad_area_2986.shp\n",
      "D:\\lakemapping\\2_dataset\\sample747\\shp\\output5\\pad_area_2986.shp\n"
     ]
    },
    {
     "data": {
      "text/plain": [
       "0"
      ]
     },
     "execution_count": 36,
     "metadata": {},
     "output_type": "execute_result"
    },
    {
     "data": {
      "text/plain": [
       "0"
      ]
     },
     "execution_count": 36,
     "metadata": {},
     "output_type": "execute_result"
    },
    {
     "data": {
      "text/plain": [
       "0"
      ]
     },
     "execution_count": 36,
     "metadata": {},
     "output_type": "execute_result"
    },
    {
     "name": "stdout",
     "output_type": "stream",
     "text": [
      "image_3126.tif\n",
      "pad_area_3126.shp\n",
      "D:\\lakemapping\\2_dataset\\sample747\\shp\\output5\\pad_area_3126.shp\n"
     ]
    },
    {
     "data": {
      "text/plain": [
       "0"
      ]
     },
     "execution_count": 36,
     "metadata": {},
     "output_type": "execute_result"
    },
    {
     "data": {
      "text/plain": [
       "0"
      ]
     },
     "execution_count": 36,
     "metadata": {},
     "output_type": "execute_result"
    },
    {
     "data": {
      "text/plain": [
       "0"
      ]
     },
     "execution_count": 36,
     "metadata": {},
     "output_type": "execute_result"
    },
    {
     "name": "stdout",
     "output_type": "stream",
     "text": [
      "image_3159.tif\n",
      "pad_area_3159.shp\n",
      "D:\\lakemapping\\2_dataset\\sample747\\shp\\output5\\pad_area_3159.shp\n"
     ]
    },
    {
     "data": {
      "text/plain": [
       "0"
      ]
     },
     "execution_count": 36,
     "metadata": {},
     "output_type": "execute_result"
    },
    {
     "data": {
      "text/plain": [
       "0"
      ]
     },
     "execution_count": 36,
     "metadata": {},
     "output_type": "execute_result"
    },
    {
     "data": {
      "text/plain": [
       "0"
      ]
     },
     "execution_count": 36,
     "metadata": {},
     "output_type": "execute_result"
    },
    {
     "name": "stdout",
     "output_type": "stream",
     "text": [
      "image_3194.tif\n",
      "pad_area_3194.shp\n",
      "D:\\lakemapping\\2_dataset\\sample747\\shp\\output5\\pad_area_3194.shp\n"
     ]
    },
    {
     "data": {
      "text/plain": [
       "0"
      ]
     },
     "execution_count": 36,
     "metadata": {},
     "output_type": "execute_result"
    },
    {
     "data": {
      "text/plain": [
       "0"
      ]
     },
     "execution_count": 36,
     "metadata": {},
     "output_type": "execute_result"
    },
    {
     "data": {
      "text/plain": [
       "0"
      ]
     },
     "execution_count": 36,
     "metadata": {},
     "output_type": "execute_result"
    },
    {
     "name": "stdout",
     "output_type": "stream",
     "text": [
      "image_3202.tif\n",
      "pad_area_3202.shp\n",
      "D:\\lakemapping\\2_dataset\\sample747\\shp\\output5\\pad_area_3202.shp\n"
     ]
    },
    {
     "data": {
      "text/plain": [
       "0"
      ]
     },
     "execution_count": 36,
     "metadata": {},
     "output_type": "execute_result"
    },
    {
     "data": {
      "text/plain": [
       "0"
      ]
     },
     "execution_count": 36,
     "metadata": {},
     "output_type": "execute_result"
    },
    {
     "data": {
      "text/plain": [
       "0"
      ]
     },
     "execution_count": 36,
     "metadata": {},
     "output_type": "execute_result"
    },
    {
     "name": "stdout",
     "output_type": "stream",
     "text": [
      "image_4299.tif\n",
      "pad_area_4299.shp\n",
      "D:\\lakemapping\\2_dataset\\sample747\\shp\\output5\\pad_area_4299.shp\n"
     ]
    },
    {
     "data": {
      "text/plain": [
       "0"
      ]
     },
     "execution_count": 36,
     "metadata": {},
     "output_type": "execute_result"
    },
    {
     "data": {
      "text/plain": [
       "0"
      ]
     },
     "execution_count": 36,
     "metadata": {},
     "output_type": "execute_result"
    },
    {
     "data": {
      "text/plain": [
       "0"
      ]
     },
     "execution_count": 36,
     "metadata": {},
     "output_type": "execute_result"
    },
    {
     "name": "stdout",
     "output_type": "stream",
     "text": [
      "image_4418.tif\n",
      "pad_area_4418.shp\n",
      "D:\\lakemapping\\2_dataset\\sample747\\shp\\output5\\pad_area_4418.shp\n"
     ]
    },
    {
     "data": {
      "text/plain": [
       "0"
      ]
     },
     "execution_count": 36,
     "metadata": {},
     "output_type": "execute_result"
    },
    {
     "data": {
      "text/plain": [
       "0"
      ]
     },
     "execution_count": 36,
     "metadata": {},
     "output_type": "execute_result"
    },
    {
     "data": {
      "text/plain": [
       "0"
      ]
     },
     "execution_count": 36,
     "metadata": {},
     "output_type": "execute_result"
    },
    {
     "name": "stdout",
     "output_type": "stream",
     "text": [
      "image_5605.tif\n",
      "pad_area_5605.shp\n",
      "D:\\lakemapping\\2_dataset\\sample747\\shp\\output5\\pad_area_5605.shp\n"
     ]
    },
    {
     "data": {
      "text/plain": [
       "0"
      ]
     },
     "execution_count": 36,
     "metadata": {},
     "output_type": "execute_result"
    },
    {
     "data": {
      "text/plain": [
       "0"
      ]
     },
     "execution_count": 36,
     "metadata": {},
     "output_type": "execute_result"
    },
    {
     "data": {
      "text/plain": [
       "0"
      ]
     },
     "execution_count": 36,
     "metadata": {},
     "output_type": "execute_result"
    },
    {
     "name": "stdout",
     "output_type": "stream",
     "text": [
      "image_5636.tif\n",
      "pad_area_5636.shp\n",
      "D:\\lakemapping\\2_dataset\\sample747\\shp\\output5\\pad_area_5636.shp\n"
     ]
    },
    {
     "data": {
      "text/plain": [
       "0"
      ]
     },
     "execution_count": 36,
     "metadata": {},
     "output_type": "execute_result"
    },
    {
     "data": {
      "text/plain": [
       "0"
      ]
     },
     "execution_count": 36,
     "metadata": {},
     "output_type": "execute_result"
    },
    {
     "data": {
      "text/plain": [
       "0"
      ]
     },
     "execution_count": 36,
     "metadata": {},
     "output_type": "execute_result"
    },
    {
     "name": "stdout",
     "output_type": "stream",
     "text": [
      "image_6252.tif\n",
      "pad_area_6252.shp\n",
      "D:\\lakemapping\\2_dataset\\sample747\\shp\\output5\\pad_area_6252.shp\n"
     ]
    },
    {
     "data": {
      "text/plain": [
       "0"
      ]
     },
     "execution_count": 36,
     "metadata": {},
     "output_type": "execute_result"
    },
    {
     "data": {
      "text/plain": [
       "0"
      ]
     },
     "execution_count": 36,
     "metadata": {},
     "output_type": "execute_result"
    },
    {
     "data": {
      "text/plain": [
       "0"
      ]
     },
     "execution_count": 36,
     "metadata": {},
     "output_type": "execute_result"
    },
    {
     "name": "stdout",
     "output_type": "stream",
     "text": [
      "image_6765.tif\n",
      "pad_area_6765.shp\n",
      "D:\\lakemapping\\2_dataset\\sample747\\shp\\output5\\pad_area_6765.shp\n"
     ]
    },
    {
     "data": {
      "text/plain": [
       "0"
      ]
     },
     "execution_count": 36,
     "metadata": {},
     "output_type": "execute_result"
    },
    {
     "data": {
      "text/plain": [
       "0"
      ]
     },
     "execution_count": 36,
     "metadata": {},
     "output_type": "execute_result"
    },
    {
     "data": {
      "text/plain": [
       "0"
      ]
     },
     "execution_count": 36,
     "metadata": {},
     "output_type": "execute_result"
    },
    {
     "name": "stdout",
     "output_type": "stream",
     "text": [
      "image_6779.tif\n",
      "pad_area_6779.shp\n",
      "D:\\lakemapping\\2_dataset\\sample747\\shp\\output5\\pad_area_6779.shp\n"
     ]
    },
    {
     "data": {
      "text/plain": [
       "0"
      ]
     },
     "execution_count": 36,
     "metadata": {},
     "output_type": "execute_result"
    },
    {
     "data": {
      "text/plain": [
       "0"
      ]
     },
     "execution_count": 36,
     "metadata": {},
     "output_type": "execute_result"
    },
    {
     "data": {
      "text/plain": [
       "0"
      ]
     },
     "execution_count": 36,
     "metadata": {},
     "output_type": "execute_result"
    },
    {
     "name": "stdout",
     "output_type": "stream",
     "text": [
      "image_6794.tif\n",
      "pad_area_6794.shp\n",
      "D:\\lakemapping\\2_dataset\\sample747\\shp\\output5\\pad_area_6794.shp\n"
     ]
    },
    {
     "data": {
      "text/plain": [
       "0"
      ]
     },
     "execution_count": 36,
     "metadata": {},
     "output_type": "execute_result"
    },
    {
     "data": {
      "text/plain": [
       "0"
      ]
     },
     "execution_count": 36,
     "metadata": {},
     "output_type": "execute_result"
    },
    {
     "data": {
      "text/plain": [
       "0"
      ]
     },
     "execution_count": 36,
     "metadata": {},
     "output_type": "execute_result"
    },
    {
     "name": "stdout",
     "output_type": "stream",
     "text": [
      "image_8456.tif\n",
      "pad_area_8456.shp\n",
      "D:\\lakemapping\\2_dataset\\sample747\\shp\\output5\\pad_area_8456.shp\n"
     ]
    },
    {
     "data": {
      "text/plain": [
       "0"
      ]
     },
     "execution_count": 36,
     "metadata": {},
     "output_type": "execute_result"
    },
    {
     "data": {
      "text/plain": [
       "0"
      ]
     },
     "execution_count": 36,
     "metadata": {},
     "output_type": "execute_result"
    },
    {
     "data": {
      "text/plain": [
       "0"
      ]
     },
     "execution_count": 36,
     "metadata": {},
     "output_type": "execute_result"
    },
    {
     "name": "stdout",
     "output_type": "stream",
     "text": [
      "image_8555.tif\n",
      "pad_area_8555.shp\n",
      "D:\\lakemapping\\2_dataset\\sample747\\shp\\output5\\pad_area_8555.shp\n"
     ]
    },
    {
     "data": {
      "text/plain": [
       "0"
      ]
     },
     "execution_count": 36,
     "metadata": {},
     "output_type": "execute_result"
    },
    {
     "data": {
      "text/plain": [
       "0"
      ]
     },
     "execution_count": 36,
     "metadata": {},
     "output_type": "execute_result"
    },
    {
     "data": {
      "text/plain": [
       "0"
      ]
     },
     "execution_count": 36,
     "metadata": {},
     "output_type": "execute_result"
    },
    {
     "name": "stdout",
     "output_type": "stream",
     "text": [
      "image_8904.tif\n",
      "pad_area_8904.shp\n",
      "D:\\lakemapping\\2_dataset\\sample747\\shp\\output5\\pad_area_8904.shp\n"
     ]
    },
    {
     "data": {
      "text/plain": [
       "0"
      ]
     },
     "execution_count": 36,
     "metadata": {},
     "output_type": "execute_result"
    },
    {
     "data": {
      "text/plain": [
       "0"
      ]
     },
     "execution_count": 36,
     "metadata": {},
     "output_type": "execute_result"
    },
    {
     "data": {
      "text/plain": [
       "0"
      ]
     },
     "execution_count": 36,
     "metadata": {},
     "output_type": "execute_result"
    }
   ],
   "source": [
    "for i in range(0,type_num):\n",
    "    writePath=os.path.join(output_dir,r'output{}'.format(i))\n",
    "    shpWritePath=os.path.join(output_dir,r'shp\\output{}'.format(i))\n",
    "    \n",
    "    all_files = []\n",
    "    for root, dirs, files in os.walk(writePath):\n",
    "        for file in files:\n",
    "            if file.endswith(image_file_type)and file.startswith(image_prefix):\n",
    "                 all_files.append((os.path.join(root, file), file))\n",
    "    # print(all_files)\n",
    "\n",
    "    for fullPath, filename in all_files:\n",
    "        print(filename)\n",
    "        shp_fn=filename.replace(image_file_type,area_file_type).replace(image_prefix,pad_area_prefix)\n",
    "        print(shp_fn)\n",
    "        dataset = gdal.Open(fullPath)\n",
    "        geocd=dataset.GetGeoTransform()\n",
    "        outfilename =os.path.join(shpWritePath,shp_fn)\n",
    "        print(outfilename)\n",
    "        oDriver = ogr.GetDriverByName('ESRI Shapefile')\n",
    "        oDS = oDriver.CreateDataSource(outfilename)\n",
    "        srs = osr.SpatialReference(wkt=dataset.GetProjection())\n",
    "        oLayer = oDS.CreateLayer(\"polygon\", srs, ogr.wkbPolygon)\n",
    "        oDefn = oLayer.GetLayerDefn()\n",
    "        row = dataset.RasterXSize+92\n",
    "        line = dataset.RasterYSize+92\n",
    "        geoxmin = geocd[0]-92*geocd[1]-92*geocd[2]\n",
    "        geoymin = geocd[3]-92*geocd[4]-92*geocd[5]\n",
    "        geoxmax = geocd[0] + (row) * geocd[1] + (line) * geocd[2]\n",
    "        geoymax = geocd[3] + (row) * geocd[4] + (line) * geocd[5]\n",
    "        ring = ogr.Geometry(ogr.wkbLinearRing)\n",
    "        ring.AddPoint(geoxmin, geoymin)\n",
    "        ring.AddPoint(geoxmax, geoymin)\n",
    "        ring.AddPoint(geoxmax, geoymax)\n",
    "        ring.AddPoint(geoxmin, geoymax)\n",
    "        ring.CloseRings()\n",
    "        poly = ogr.Geometry(ogr.wkbPolygon)\n",
    "        poly.AddGeometry(ring)\n",
    "        outfeat = ogr.Feature(oDefn)\n",
    "        outfeat.SetGeometry(poly)\n",
    "        oLayer.CreateFeature(outfeat)\n",
    "        outfeat = None"
   ]
  },
  {
   "cell_type": "markdown",
   "metadata": {},
   "source": [
    "## 裁剪sampe影像，获得pad image影像"
   ]
  },
  {
   "cell_type": "code",
   "execution_count": 16,
   "metadata": {},
   "outputs": [
    {
     "name": "stdout",
     "output_type": "stream",
     "text": [
      "pad_area_10031.shp\n",
      "pad_area_10150.shp\n",
      "pad_area_10174.shp\n",
      "pad_area_10332.shp\n",
      "pad_area_10358.shp\n",
      "pad_area_10383.shp\n",
      "pad_area_10408.shp\n",
      "pad_area_10689.shp\n",
      "pad_area_10713.shp\n",
      "pad_area_10856.shp\n",
      "pad_area_10892.shp\n",
      "pad_area_10928.shp\n",
      "pad_area_11020_3.shp\n",
      "pad_area_11081.shp\n",
      "pad_area_11289.shp\n",
      "pad_area_11306.shp\n",
      "pad_area_11324.shp\n",
      "pad_area_11383.shp\n",
      "pad_area_11428.shp\n",
      "pad_area_11490.shp\n",
      "pad_area_11601.shp\n",
      "pad_area_11664.shp\n",
      "pad_area_11740.shp\n",
      "pad_area_11773.shp\n",
      "pad_area_11904.shp\n",
      "pad_area_12000.shp\n",
      "pad_area_12234.shp\n",
      "pad_area_12262.shp\n",
      "pad_area_12277.shp\n",
      "pad_area_12312.shp\n",
      "pad_area_12344.shp\n",
      "pad_area_12351.shp\n",
      "pad_area_12389.shp\n",
      "pad_area_12395.shp\n",
      "pad_area_12443.shp\n",
      "pad_area_12455.shp\n",
      "pad_area_12596.shp\n",
      "pad_area_1260.shp\n",
      "pad_area_12602.shp\n",
      "pad_area_12637.shp\n",
      "pad_area_12666.shp\n",
      "pad_area_12688.shp\n",
      "pad_area_12821.shp\n",
      "pad_area_12843.shp\n",
      "pad_area_13177.shp\n",
      "pad_area_13224.shp\n",
      "pad_area_13246.shp\n",
      "pad_area_13251.shp\n",
      "pad_area_13307.shp\n",
      "pad_area_13362.shp\n",
      "pad_area_13407.shp\n",
      "pad_area_13411_2.shp\n",
      "pad_area_13554.shp\n",
      "pad_area_13582.shp\n",
      "pad_area_13618.shp\n",
      "pad_area_13705.shp\n",
      "pad_area_13742.shp\n",
      "pad_area_13748.shp\n",
      "pad_area_13830.shp\n",
      "pad_area_13928.shp\n",
      "pad_area_13944.shp\n",
      "pad_area_13962.shp\n",
      "pad_area_13979.shp\n",
      "pad_area_14006.shp\n",
      "pad_area_14077.shp\n",
      "pad_area_14084.shp\n",
      "pad_area_14111.shp\n",
      "pad_area_14206.shp\n",
      "pad_area_14422.shp\n",
      "pad_area_14449.shp\n",
      "pad_area_14494.shp\n",
      "pad_area_14689.shp\n",
      "pad_area_147.shp\n",
      "pad_area_14735.shp\n",
      "pad_area_14753.shp\n",
      "pad_area_14781.shp\n",
      "pad_area_14807.shp\n",
      "pad_area_14836.shp\n",
      "pad_area_14857.shp\n",
      "pad_area_14862.shp\n",
      "pad_area_14872.shp\n",
      "pad_area_14914.shp\n",
      "pad_area_14926.shp\n",
      "pad_area_14947.shp\n",
      "pad_area_14975.shp\n",
      "pad_area_14997.shp\n",
      "pad_area_15009.shp\n",
      "pad_area_1543_1.shp\n",
      "pad_area_1543_2.shp\n",
      "pad_area_15612.shp\n",
      "pad_area_1565.shp\n",
      "pad_area_15693.shp\n",
      "pad_area_15816.shp\n",
      "pad_area_15898.shp\n",
      "pad_area_16071.shp\n",
      "pad_area_16178.shp\n",
      "pad_area_1621.shp\n",
      "pad_area_16227.shp\n",
      "pad_area_1625.shp\n",
      "pad_area_16329.shp\n",
      "pad_area_16333.shp\n",
      "pad_area_16388.shp\n",
      "pad_area_16458.shp\n",
      "pad_area_16483.shp\n",
      "pad_area_1652.shp\n",
      "pad_area_16526.shp\n",
      "pad_area_16599.shp\n",
      "pad_area_16653.shp\n",
      "pad_area_1673.shp\n",
      "pad_area_168.shp\n",
      "pad_area_16816.shp\n",
      "pad_area_16901.shp\n",
      "pad_area_1704.shp\n",
      "pad_area_1712.shp\n",
      "pad_area_17161.shp\n",
      "pad_area_17175.shp\n",
      "pad_area_1727.shp\n",
      "pad_area_17517.shp\n",
      "pad_area_17553.shp\n",
      "pad_area_178.shp\n",
      "pad_area_17955.shp\n",
      "pad_area_18071.shp\n",
      "pad_area_18153.shp\n",
      "pad_area_18200.shp\n",
      "pad_area_18247.shp\n",
      "pad_area_18272.shp\n",
      "pad_area_18304.shp\n",
      "pad_area_18337.shp\n",
      "pad_area_18375.shp\n",
      "pad_area_18397.shp\n",
      "pad_area_18447.shp\n",
      "pad_area_18575.shp\n",
      "pad_area_18682.shp\n",
      "pad_area_18782.shp\n",
      "pad_area_18890.shp\n",
      "pad_area_18899.shp\n",
      "pad_area_1903.shp\n",
      "pad_area_1941.shp\n",
      "pad_area_1963.shp\n",
      "pad_area_1972.shp\n",
      "pad_area_2051.shp\n",
      "pad_area_2320.shp\n",
      "pad_area_2345.shp\n",
      "pad_area_2433.shp\n",
      "pad_area_2589.shp\n",
      "pad_area_2720.shp\n",
      "pad_area_2893.shp\n",
      "pad_area_2923.shp\n",
      "pad_area_3015.shp\n",
      "pad_area_3058.shp\n",
      "pad_area_3250.shp\n",
      "pad_area_3272.shp\n",
      "pad_area_343.shp\n",
      "pad_area_3444.shp\n",
      "pad_area_3445.shp\n",
      "pad_area_3472.shp\n",
      "pad_area_3599.shp\n",
      "pad_area_3601.shp\n",
      "pad_area_3610.shp\n",
      "pad_area_3634.shp\n",
      "pad_area_3638.shp\n",
      "pad_area_3645.shp\n",
      "pad_area_3659.shp\n",
      "pad_area_3922.shp\n",
      "pad_area_3924.shp\n",
      "pad_area_4009.shp\n",
      "pad_area_4735.shp\n",
      "pad_area_4773.shp\n",
      "pad_area_4807.shp\n",
      "pad_area_4846.shp\n",
      "pad_area_5042.shp\n",
      "pad_area_5057.shp\n",
      "pad_area_5085.shp\n",
      "pad_area_5093.shp\n",
      "pad_area_5596.shp\n",
      "pad_area_5717.shp\n",
      "pad_area_5732.shp\n",
      "pad_area_5784.shp\n",
      "pad_area_5897.shp\n",
      "pad_area_5969.shp\n",
      "pad_area_5986.shp\n",
      "pad_area_5999.shp\n",
      "pad_area_6305.shp\n",
      "pad_area_6369.shp\n",
      "pad_area_6423.shp\n",
      "pad_area_6477.shp\n",
      "pad_area_6485.shp\n",
      "pad_area_6504.shp\n",
      "pad_area_6549.shp\n",
      "pad_area_6555.shp\n",
      "pad_area_6576.shp\n",
      "pad_area_6601.shp\n",
      "pad_area_6634.shp\n",
      "pad_area_6664.shp\n",
      "pad_area_6723.shp\n",
      "pad_area_6735.shp\n",
      "pad_area_6870.shp\n",
      "pad_area_6923.shp\n",
      "pad_area_7006.shp\n",
      "pad_area_7105.shp\n",
      "pad_area_7169.shp\n",
      "pad_area_7203.shp\n",
      "pad_area_7230.shp\n",
      "pad_area_7322.shp\n",
      "pad_area_7341.shp\n",
      "pad_area_7393.shp\n",
      "pad_area_7400.shp\n",
      "pad_area_7427.shp\n",
      "pad_area_7499.shp\n",
      "pad_area_7531.shp\n",
      "pad_area_7548.shp\n",
      "pad_area_7578.shp\n",
      "pad_area_7648.shp\n",
      "pad_area_7724.shp\n",
      "pad_area_7733.shp\n",
      "pad_area_7752.shp\n",
      "pad_area_7776.shp\n",
      "pad_area_7796.shp\n",
      "pad_area_7815.shp\n",
      "pad_area_7889.shp\n",
      "pad_area_7993.shp\n",
      "pad_area_8038.shp\n",
      "pad_area_8043.shp\n",
      "pad_area_8103.shp\n",
      "pad_area_8150.shp\n",
      "pad_area_8166.shp\n",
      "pad_area_8199.shp\n",
      "pad_area_8212.shp\n",
      "pad_area_8250.shp\n",
      "pad_area_8517.shp\n",
      "pad_area_8603.shp\n",
      "pad_area_863.shp\n",
      "pad_area_8658.shp\n",
      "pad_area_8667.shp\n",
      "pad_area_8791.shp\n",
      "pad_area_8834.shp\n",
      "pad_area_8870.shp\n",
      "pad_area_8960.shp\n",
      "pad_area_8992.shp\n",
      "pad_area_9010.shp\n",
      "pad_area_9011.shp\n",
      "pad_area_9044.shp\n",
      "pad_area_9070.shp\n",
      "pad_area_9080.shp\n",
      "pad_area_9081.shp\n",
      "pad_area_9082.shp\n",
      "pad_area_9093.shp\n",
      "pad_area_9115.shp\n",
      "pad_area_9172.shp\n",
      "pad_area_9178.shp\n",
      "pad_area_9211_1.shp\n",
      "pad_area_953.shp\n",
      "pad_area_9547.shp\n",
      "pad_area_9653.shp\n",
      "pad_area_9697.shp\n",
      "pad_area_9732.shp\n",
      "pad_area_9766.shp\n",
      "pad_area_9792.shp\n",
      "pad_area_9890.shp\n",
      "pad_area_9921.shp\n",
      "pad_area_9945.shp\n",
      "pad_area_9959.shp\n",
      "pad_area_9973.shp\n",
      "pad_area_10017.shp\n",
      "pad_area_10077.shp\n",
      "pad_area_10125.shp\n",
      "pad_area_1013.shp\n",
      "pad_area_102.shp\n",
      "pad_area_10457.shp\n",
      "pad_area_10493.shp\n",
      "pad_area_10592.shp\n",
      "pad_area_10738.shp\n",
      "pad_area_10830.shp\n",
      "pad_area_1090.shp\n",
      "pad_area_11020_1.shp\n",
      "pad_area_11020_2.shp\n",
      "pad_area_11024.shp\n",
      "pad_area_11148.shp\n",
      "pad_area_11473.shp\n",
      "pad_area_115.shp\n",
      "pad_area_11516.shp\n",
      "pad_area_11555.shp\n",
      "pad_area_11562_1.shp\n",
      "pad_area_11562_2.shp\n",
      "pad_area_11581.shp\n",
      "pad_area_11624.shp\n",
      "pad_area_11632.shp\n",
      "pad_area_11676.shp\n",
      "pad_area_11765.shp\n",
      "pad_area_11814.shp\n",
      "pad_area_11841.shp\n",
      "pad_area_11877.shp\n",
      "pad_area_11920.shp\n",
      "pad_area_11963.shp\n",
      "pad_area_11968.shp\n",
      "pad_area_11983.shp\n",
      "pad_area_12040.shp\n",
      "pad_area_12072.shp\n",
      "pad_area_12120.shp\n",
      "pad_area_12126.shp\n",
      "pad_area_12164.shp\n",
      "pad_area_12193.shp\n",
      "pad_area_12197.shp\n",
      "pad_area_12221.shp\n",
      "pad_area_12449.shp\n",
      "pad_area_12492.shp\n",
      "pad_area_12506.shp\n",
      "pad_area_12539.shp\n",
      "pad_area_12722.shp\n",
      "pad_area_12960.shp\n",
      "pad_area_13010.shp\n",
      "pad_area_13031.shp\n",
      "pad_area_13036.shp\n",
      "pad_area_13063.shp\n",
      "pad_area_1319.shp\n",
      "pad_area_13294.shp\n",
      "pad_area_13324.shp\n",
      "pad_area_13346.shp\n",
      "pad_area_13347.shp\n",
      "pad_area_13411_1.shp\n",
      "pad_area_13444.shp\n",
      "pad_area_13451.shp\n",
      "pad_area_13478.shp\n",
      "pad_area_13494.shp\n",
      "pad_area_13512.shp\n",
      "pad_area_13538.shp\n",
      "pad_area_13663.shp\n",
      "pad_area_13816.shp\n",
      "pad_area_13885.shp\n",
      "pad_area_13891.shp\n",
      "pad_area_1397.shp\n",
      "pad_area_1402_1.shp\n",
      "pad_area_1402_2.shp\n",
      "pad_area_14042.shp\n",
      "pad_area_14147.shp\n",
      "pad_area_1421.shp\n",
      "pad_area_14241.shp\n",
      "pad_area_14277.shp\n",
      "pad_area_14312.shp\n",
      "pad_area_14346.shp\n",
      "pad_area_14370.shp\n",
      "pad_area_14416.shp\n",
      "pad_area_14500.shp\n",
      "pad_area_14541.shp\n",
      "pad_area_14557.shp\n",
      "pad_area_14583.shp\n",
      "pad_area_1460.shp\n",
      "pad_area_14600.shp\n",
      "pad_area_14624_1.shp\n",
      "pad_area_14624_2.shp\n",
      "pad_area_14624_3.shp\n",
      "pad_area_14624_4.shp\n",
      "pad_area_14674.shp\n",
      "pad_area_14682.shp\n",
      "pad_area_14698.shp\n",
      "pad_area_149.shp\n",
      "pad_area_15054.shp\n",
      "pad_area_15277.shp\n",
      "pad_area_15346.shp\n",
      "pad_area_15355.shp\n",
      "pad_area_1538.shp\n",
      "pad_area_15414.shp\n",
      "pad_area_15419.shp\n",
      "pad_area_15457.shp\n",
      "pad_area_15496.shp\n",
      "pad_area_15536.shp\n",
      "pad_area_15573.shp\n",
      "pad_area_15601.shp\n",
      "pad_area_15663.shp\n",
      "pad_area_15682.shp\n",
      "pad_area_15721.shp\n",
      "pad_area_15744.shp\n",
      "pad_area_15769.shp\n",
      "pad_area_15841.shp\n",
      "pad_area_15864.shp\n",
      "pad_area_16092.shp\n",
      "pad_area_16142.shp\n",
      "pad_area_16185.shp\n",
      "pad_area_16222.shp\n",
      "pad_area_16263.shp\n",
      "pad_area_16280.shp\n",
      "pad_area_1638.shp\n",
      "pad_area_16445.shp\n",
      "pad_area_16523.shp\n",
      "pad_area_16548.shp\n",
      "pad_area_16659.shp\n",
      "pad_area_16703.shp\n",
      "pad_area_16761.shp\n",
      "pad_area_16818.shp\n",
      "pad_area_16866.shp\n",
      "pad_area_16953.shp\n",
      "pad_area_16998.shp\n",
      "pad_area_17233.shp\n",
      "pad_area_17248.shp\n",
      "pad_area_17302.shp\n",
      "pad_area_17427.shp\n",
      "pad_area_17541.shp\n",
      "pad_area_17592.shp\n",
      "pad_area_17596.shp\n",
      "pad_area_17622.shp\n",
      "pad_area_1773.shp\n",
      "pad_area_1786.shp\n",
      "pad_area_1800.shp\n",
      "pad_area_18027.shp\n",
      "pad_area_18223.shp\n",
      "pad_area_18505.shp\n",
      "pad_area_1858.shp\n",
      "pad_area_18747.shp\n",
      "pad_area_1978.shp\n",
      "pad_area_1992.shp\n",
      "pad_area_2056.shp\n",
      "pad_area_2067.shp\n",
      "pad_area_2107.shp\n",
      "pad_area_213.shp\n",
      "pad_area_2203.shp\n",
      "pad_area_2263.shp\n",
      "pad_area_2355.shp\n",
      "pad_area_2580.shp\n",
      "pad_area_2657.shp\n",
      "pad_area_2686.shp\n",
      "pad_area_2796.shp\n",
      "pad_area_2810.shp\n",
      "pad_area_2827.shp\n",
      "pad_area_2896.shp\n",
      "pad_area_2913_1.shp\n",
      "pad_area_2913_2.shp\n",
      "pad_area_2922.shp\n",
      "pad_area_306.shp\n",
      "pad_area_3090.shp\n",
      "pad_area_3458.shp\n",
      "pad_area_3531.shp\n",
      "pad_area_3690.shp\n",
      "pad_area_3703.shp\n",
      "pad_area_43.shp\n",
      "pad_area_4467.shp\n",
      "pad_area_455.shp\n",
      "pad_area_4978.shp\n",
      "pad_area_5017.shp\n",
      "pad_area_5041.shp\n",
      "pad_area_5108.shp\n",
      "pad_area_5109.shp\n",
      "pad_area_5140.shp\n",
      "pad_area_5150.shp\n",
      "pad_area_520.shp\n",
      "pad_area_5209.shp\n",
      "pad_area_5213.shp\n",
      "pad_area_5237.shp\n",
      "pad_area_5277.shp\n",
      "pad_area_5296.shp\n",
      "pad_area_56.shp\n",
      "pad_area_5771.shp\n",
      "pad_area_6102.shp\n",
      "pad_area_646.shp\n",
      "pad_area_648.shp\n",
      "pad_area_65.shp\n",
      "pad_area_658.shp\n",
      "pad_area_66.shp\n",
      "pad_area_6813.shp\n",
      "pad_area_6881.shp\n",
      "pad_area_6948.shp\n",
      "pad_area_7064.shp\n",
      "pad_area_7116.shp\n",
      "pad_area_7513.shp\n",
      "pad_area_759.shp\n",
      "pad_area_7601.shp\n",
      "pad_area_7653.shp\n",
      "pad_area_7763.shp\n",
      "pad_area_7875.shp\n",
      "pad_area_8069.shp\n",
      "pad_area_8074.shp\n",
      "pad_area_8303.shp\n",
      "pad_area_8318.shp\n",
      "pad_area_85.shp\n",
      "pad_area_8522.shp\n",
      "pad_area_862.shp\n",
      "pad_area_8661.shp\n",
      "pad_area_8671.shp\n",
      "pad_area_8681.shp\n",
      "pad_area_8735.shp\n",
      "pad_area_8876.shp\n",
      "pad_area_8966.shp\n",
      "pad_area_9078.shp\n",
      "pad_area_9088.shp\n",
      "pad_area_9089.shp\n",
      "pad_area_9095.shp\n",
      "pad_area_91.shp\n",
      "pad_area_9105.shp\n",
      "pad_area_9116.shp\n",
      "pad_area_9117.shp\n",
      "pad_area_9169.shp\n",
      "pad_area_9211_2.shp\n",
      "pad_area_9238.shp\n",
      "pad_area_9263.shp\n",
      "pad_area_96.shp\n",
      "pad_area_9604.shp\n",
      "pad_area_9618.shp\n",
      "pad_area_9816.shp\n",
      "pad_area_9847.shp\n",
      "pad_area_9875.shp\n",
      "pad_area_995.shp\n",
      "pad_area_10171.shp\n",
      "pad_area_10198.shp\n",
      "pad_area_10203.shp\n",
      "pad_area_10228.shp\n",
      "pad_area_10247.shp\n",
      "pad_area_10277.shp\n",
      "pad_area_10324.shp\n",
      "pad_area_10413.shp\n",
      "pad_area_10531.shp\n",
      "pad_area_10557.shp\n",
      "pad_area_10636.shp\n",
      "pad_area_10786.shp\n",
      "pad_area_10979.shp\n",
      "pad_area_11234.shp\n",
      "pad_area_11238.shp\n",
      "pad_area_11432.shp\n",
      "pad_area_13105.shp\n",
      "pad_area_13119.shp\n",
      "pad_area_13153.shp\n",
      "pad_area_13198.shp\n",
      "pad_area_13624.shp\n",
      "pad_area_16287.shp\n",
      "pad_area_16371.shp\n",
      "pad_area_16417.shp\n",
      "pad_area_16583.shp\n",
      "pad_area_16738.shp\n",
      "pad_area_17210.shp\n",
      "pad_area_17328.shp\n",
      "pad_area_17363.shp\n",
      "pad_area_17374.shp\n",
      "pad_area_17388.shp\n",
      "pad_area_17920.shp\n",
      "pad_area_18569.shp\n",
      "pad_area_18605.shp\n",
      "pad_area_18618.shp\n",
      "pad_area_18818.shp\n",
      "pad_area_2080.shp\n",
      "pad_area_2094.shp\n",
      "pad_area_2561.shp\n",
      "pad_area_2604.shp\n",
      "pad_area_2739.shp\n",
      "pad_area_2929.shp\n",
      "pad_area_3023.shp\n",
      "pad_area_3205.shp\n",
      "pad_area_3421.shp\n",
      "pad_area_3454.shp\n",
      "pad_area_3461.shp\n",
      "pad_area_347.shp\n",
      "pad_area_3477.shp\n",
      "pad_area_349.shp\n",
      "pad_area_3501.shp\n",
      "pad_area_3535.shp\n",
      "pad_area_3565.shp\n",
      "pad_area_3624.shp\n",
      "pad_area_3876.shp\n",
      "pad_area_3886.shp\n",
      "pad_area_3921.shp\n",
      "pad_area_3928.shp\n",
      "pad_area_3932.shp\n",
      "pad_area_4030.shp\n",
      "pad_area_4052.shp\n",
      "pad_area_4482.shp\n",
      "pad_area_4582.shp\n",
      "pad_area_4631.shp\n",
      "pad_area_4850.shp\n",
      "pad_area_4851.shp\n",
      "pad_area_4886.shp\n",
      "pad_area_4892.shp\n",
      "pad_area_4917.shp\n",
      "pad_area_4949.shp\n",
      "pad_area_4976.shp\n",
      "pad_area_5039.shp\n",
      "pad_area_5053.shp\n",
      "pad_area_5062.shp\n",
      "pad_area_5087.shp\n",
      "pad_area_5116.shp\n",
      "pad_area_5123.shp\n",
      "pad_area_5264.shp\n",
      "pad_area_5560.shp\n",
      "pad_area_5719.shp\n",
      "pad_area_5919.shp\n",
      "pad_area_6182.shp\n",
      "pad_area_6193.shp\n",
      "pad_area_6198.shp\n",
      "pad_area_6217.shp\n",
      "pad_area_6226.shp\n",
      "pad_area_6233.shp\n",
      "pad_area_6339.shp\n",
      "pad_area_6377.shp\n",
      "pad_area_6402.shp\n",
      "pad_area_6445_1.shp\n",
      "pad_area_6445_2.shp\n",
      "pad_area_6448.shp\n",
      "pad_area_6741.shp\n",
      "pad_area_7032.shp\n",
      "pad_area_7084.shp\n",
      "pad_area_7117.shp\n",
      "pad_area_7156.shp\n",
      "pad_area_7192.shp\n",
      "pad_area_7196.shp\n",
      "pad_area_7249.shp\n",
      "pad_area_7255.shp\n",
      "pad_area_7366.shp\n",
      "pad_area_7453.shp\n",
      "pad_area_7564.shp\n",
      "pad_area_7693.shp\n",
      "pad_area_7704.shp\n",
      "pad_area_7853.shp\n",
      "pad_area_7906.shp\n",
      "pad_area_8000.shp\n",
      "pad_area_8999.shp\n",
      "pad_area_9200.shp\n",
      "pad_area_9228.shp\n",
      "pad_area_933.shp\n",
      "pad_area_10083.shp\n",
      "pad_area_10273.shp\n",
      "pad_area_11076.shp\n",
      "pad_area_11084.shp\n",
      "pad_area_11092.shp\n",
      "pad_area_11155.shp\n",
      "pad_area_11193.shp\n",
      "pad_area_11368.shp\n",
      "pad_area_11689.shp\n",
      "pad_area_11691.shp\n",
      "pad_area_11721.shp\n",
      "pad_area_11932.shp\n",
      "pad_area_11956.shp\n",
      "pad_area_12014.shp\n",
      "pad_area_12017.shp\n",
      "pad_area_12026.shp\n",
      "pad_area_12104.shp\n",
      "pad_area_12185.shp\n",
      "pad_area_12746.shp\n",
      "pad_area_12770.shp\n",
      "pad_area_12793.shp\n",
      "pad_area_12810.shp\n",
      "pad_area_12847.shp\n",
      "pad_area_12889.shp\n",
      "pad_area_12903.shp\n",
      "pad_area_12926.shp\n",
      "pad_area_12939.shp\n",
      "pad_area_12988.shp\n",
      "pad_area_13803.shp\n",
      "pad_area_14172.shp\n",
      "pad_area_14309.shp\n",
      "pad_area_14542.shp\n",
      "pad_area_14668.shp\n",
      "pad_area_15074.shp\n",
      "pad_area_15078.shp\n",
      "pad_area_15107.shp\n",
      "pad_area_15137.shp\n",
      "pad_area_15171.shp\n",
      "pad_area_15183.shp\n",
      "pad_area_15204.shp\n",
      "pad_area_15225.shp\n",
      "pad_area_15253.shp\n",
      "pad_area_15312.shp\n",
      "pad_area_15381.shp\n",
      "pad_area_15388.shp\n",
      "pad_area_16048.shp\n",
      "pad_area_18120.shp\n",
      "pad_area_18641.shp\n",
      "pad_area_18667.shp\n",
      "pad_area_18809.shp\n",
      "pad_area_18856.shp\n",
      "pad_area_1975.shp\n",
      "pad_area_2340.shp\n",
      "pad_area_4914.shp\n",
      "pad_area_4953.shp\n",
      "pad_area_4982.shp\n",
      "pad_area_4999.shp\n",
      "pad_area_5031.shp\n",
      "pad_area_5935.shp\n",
      "pad_area_6013.shp\n",
      "pad_area_6018.shp\n",
      "pad_area_6056.shp\n",
      "pad_area_6236.shp\n",
      "pad_area_629.shp\n",
      "pad_area_6708.shp\n",
      "pad_area_6826.shp\n",
      "pad_area_6843.shp\n",
      "pad_area_6845.shp\n",
      "pad_area_6966.shp\n",
      "pad_area_7202.shp\n",
      "pad_area_7210.shp\n",
      "pad_area_7890.shp\n",
      "pad_area_7900.shp\n",
      "pad_area_8072.shp\n",
      "pad_area_8242.shp\n",
      "pad_area_8263.shp\n",
      "pad_area_8283.shp\n",
      "pad_area_8331.shp\n",
      "pad_area_8629.shp\n",
      "pad_area_8662.shp\n",
      "pad_area_8727.shp\n",
      "pad_area_9321.shp\n",
      "pad_area_9376.shp\n",
      "pad_area_9436.shp\n",
      "pad_area_9473.shp\n",
      "pad_area_9476.shp\n",
      "pad_area_9501.shp\n",
      "pad_area_9508.shp\n",
      "pad_area_9553.shp\n",
      "pad_area_1974.shp\n",
      "pad_area_2155.shp\n",
      "pad_area_2618.shp\n",
      "pad_area_3560.shp\n",
      "pad_area_4685.shp\n",
      "pad_area_5006.shp\n",
      "pad_area_5026.shp\n",
      "pad_area_5711.shp\n",
      "pad_area_6108.shp\n",
      "pad_area_6229.shp\n",
      "pad_area_6752.shp\n",
      "pad_area_8460.shp\n",
      "pad_area_8538.shp\n",
      "pad_area_8732.shp\n",
      "pad_area_9068.shp\n",
      "pad_area_10792.shp\n",
      "pad_area_10953.shp\n",
      "pad_area_16118.shp\n",
      "pad_area_17140.shp\n",
      "pad_area_17434.shp\n",
      "pad_area_17481.shp\n",
      "pad_area_17683.shp\n",
      "pad_area_17753.shp\n",
      "pad_area_17883.shp\n",
      "pad_area_18710.shp\n",
      "pad_area_18725.shp\n",
      "pad_area_2883.shp\n",
      "pad_area_2979.shp\n",
      "pad_area_2986.shp\n",
      "pad_area_3126.shp\n",
      "pad_area_3159.shp\n",
      "pad_area_3194.shp\n",
      "pad_area_3202.shp\n",
      "pad_area_4299.shp\n",
      "pad_area_4418.shp\n",
      "pad_area_5605.shp\n",
      "pad_area_5636.shp\n",
      "pad_area_6252.shp\n",
      "pad_area_6765.shp\n",
      "pad_area_6779.shp\n",
      "pad_area_6794.shp\n",
      "pad_area_8456.shp\n",
      "pad_area_8555.shp\n",
      "pad_area_8904.shp\n",
      "D:\\lakemapping\\sample750_pad\\tif\\sample_8904.tif\n",
      "D:\\lakemapping\\2_dataset\\sample747\\output5\\pad_image_8904.tif\n"
     ]
    }
   ],
   "source": [
    "for i in range(0,type_num):\n",
    "    all_files = []\n",
    "    for root, dirs, files in os.walk(os.path.join(output_dir,'shp\\output{}'.format(i))):\n",
    "        for file in files:\n",
    "            if file.endswith(area_file_type)and file.startswith(pad_area_prefix):\n",
    "                 all_files.append((os.path.join(root, file), file))\n",
    "#     print(all_files)                    \n",
    "    for fullPath, filename in all_files:\n",
    "        print(filename)\n",
    "        raster_fn=os.path.join(raw_img_dir,filename.replace(pad_area_prefix,raw_image_prefix).replace(area_file_type,image_file_type))\n",
    "        print(raster_fn)\n",
    "        input_raster = gdal.Open(raster_fn)\n",
    "        in_shp_path=fullPath\n",
    "        out_raster_path=fullPath.replace(pad_area_prefix,pad_image_prefix).replace(area_file_type,image_file_type).replace(r'\\shp','')\n",
    "        print(out_raster_path)\n",
    "            # 利用gdal.Warp进行裁剪\n",
    "            # https://gdal.org/api/python/osgeo.gdal.html#osgeo.gdal.Warp\n",
    "        result = gdal.Warp(\n",
    "                out_raster_path,\n",
    "                input_raster,\n",
    "                format = 'GTiff',\n",
    "                cutlineDSName = in_shp_path, # 用于裁剪的矢量\n",
    "                cropToCutline = True, # 是否使用cutlineDSName的extent作为输出的界线\n",
    "#                 dstNodata = -999 # 输出数据的nodata值\n",
    "                )\n",
    "        result.FlushCache()\n",
    "        del result"
   ]
  },
  {
   "cell_type": "markdown",
   "metadata": {},
   "source": [
    "## 生成annotation"
   ]
  },
  {
   "cell_type": "code",
   "execution_count": 9,
   "metadata": {
    "scrolled": true
   },
   "outputs": [
    {
     "name": "stdout",
     "output_type": "stream",
     "text": [
      "(216026, 2) (247, 6)\n"
     ]
    },
    {
     "data": {
      "text/html": [
       "<div>\n",
       "<style scoped>\n",
       "    .dataframe tbody tr th:only-of-type {\n",
       "        vertical-align: middle;\n",
       "    }\n",
       "\n",
       "    .dataframe tbody tr th {\n",
       "        vertical-align: top;\n",
       "    }\n",
       "\n",
       "    .dataframe thead th {\n",
       "        text-align: right;\n",
       "    }\n",
       "</style>\n",
       "<table border=\"1\" class=\"dataframe\">\n",
       "  <thead>\n",
       "    <tr style=\"text-align: right;\">\n",
       "      <th></th>\n",
       "      <th>CLASS_NAME</th>\n",
       "      <th>geometry</th>\n",
       "    </tr>\n",
       "  </thead>\n",
       "  <tbody>\n",
       "    <tr>\n",
       "      <th>0</th>\n",
       "      <td>Lake</td>\n",
       "      <td>POLYGON Z ((-66.54333 -2.42330 0.00000, -66.54...</td>\n",
       "    </tr>\n",
       "    <tr>\n",
       "      <th>1</th>\n",
       "      <td>LakeLikeRiver</td>\n",
       "      <td>POLYGON Z ((-66.49653 -2.42321 0.00000, -66.49...</td>\n",
       "    </tr>\n",
       "    <tr>\n",
       "      <th>2</th>\n",
       "      <td>LakeLikeRiver</td>\n",
       "      <td>POLYGON Z ((-66.49959 -2.42312 0.00000, -66.49...</td>\n",
       "    </tr>\n",
       "    <tr>\n",
       "      <th>3</th>\n",
       "      <td>Lake</td>\n",
       "      <td>POLYGON Z ((-66.43051 -2.42132 0.00000, -66.43...</td>\n",
       "    </tr>\n",
       "    <tr>\n",
       "      <th>4</th>\n",
       "      <td>Lake</td>\n",
       "      <td>POLYGON Z ((-66.55762 -2.43021 0.00000, -66.55...</td>\n",
       "    </tr>\n",
       "    <tr>\n",
       "      <th>...</th>\n",
       "      <td>...</td>\n",
       "      <td>...</td>\n",
       "    </tr>\n",
       "    <tr>\n",
       "      <th>216021</th>\n",
       "      <td>Reservoir</td>\n",
       "      <td>POLYGON Z ((-78.25458 21.51941 0.00000, -78.25...</td>\n",
       "    </tr>\n",
       "    <tr>\n",
       "      <th>216022</th>\n",
       "      <td>Reservoir</td>\n",
       "      <td>POLYGON Z ((33.00752 24.34722 0.00000, 33.0076...</td>\n",
       "    </tr>\n",
       "    <tr>\n",
       "      <th>216023</th>\n",
       "      <td>Reservoir</td>\n",
       "      <td>POLYGON Z ((33.00752 24.34722 0.00000, 33.0074...</td>\n",
       "    </tr>\n",
       "    <tr>\n",
       "      <th>216024</th>\n",
       "      <td>Reservoir</td>\n",
       "      <td>POLYGON Z ((33.02126 24.33500 0.00000, 33.0212...</td>\n",
       "    </tr>\n",
       "    <tr>\n",
       "      <th>216025</th>\n",
       "      <td>Reservoir</td>\n",
       "      <td>POLYGON Z ((33.02135 24.33509 0.00000, 33.0213...</td>\n",
       "    </tr>\n",
       "  </tbody>\n",
       "</table>\n",
       "<p>216026 rows × 2 columns</p>\n",
       "</div>"
      ],
      "text/plain": [
       "           CLASS_NAME                                           geometry\n",
       "0                Lake  POLYGON Z ((-66.54333 -2.42330 0.00000, -66.54...\n",
       "1       LakeLikeRiver  POLYGON Z ((-66.49653 -2.42321 0.00000, -66.49...\n",
       "2       LakeLikeRiver  POLYGON Z ((-66.49959 -2.42312 0.00000, -66.49...\n",
       "3                Lake  POLYGON Z ((-66.43051 -2.42132 0.00000, -66.43...\n",
       "4                Lake  POLYGON Z ((-66.55762 -2.43021 0.00000, -66.55...\n",
       "...               ...                                                ...\n",
       "216021      Reservoir  POLYGON Z ((-78.25458 21.51941 0.00000, -78.25...\n",
       "216022      Reservoir  POLYGON Z ((33.00752 24.34722 0.00000, 33.0076...\n",
       "216023      Reservoir  POLYGON Z ((33.00752 24.34722 0.00000, 33.0074...\n",
       "216024      Reservoir  POLYGON Z ((33.02126 24.33500 0.00000, 33.0212...\n",
       "216025      Reservoir  POLYGON Z ((33.02135 24.33509 0.00000, 33.0213...\n",
       "\n",
       "[216026 rows x 2 columns]"
      ]
     },
     "execution_count": 9,
     "metadata": {},
     "output_type": "execute_result"
    },
    {
     "data": {
      "text/html": [
       "<div>\n",
       "<style scoped>\n",
       "    .dataframe tbody tr th:only-of-type {\n",
       "        vertical-align: middle;\n",
       "    }\n",
       "\n",
       "    .dataframe tbody tr th {\n",
       "        vertical-align: top;\n",
       "    }\n",
       "\n",
       "    .dataframe thead th {\n",
       "        text-align: right;\n",
       "    }\n",
       "</style>\n",
       "<table border=\"1\" class=\"dataframe\">\n",
       "  <thead>\n",
       "    <tr style=\"text-align: right;\">\n",
       "      <th></th>\n",
       "      <th>Shape_Leng</th>\n",
       "      <th>Shape_Area</th>\n",
       "      <th>id</th>\n",
       "      <th>type</th>\n",
       "      <th>file_name</th>\n",
       "      <th>geometry</th>\n",
       "    </tr>\n",
       "  </thead>\n",
       "  <tbody>\n",
       "    <tr>\n",
       "      <th>0</th>\n",
       "      <td>0.628580</td>\n",
       "      <td>229.401691</td>\n",
       "      <td>347</td>\n",
       "      <td>2</td>\n",
       "      <td>347</td>\n",
       "      <td>POLYGON Z ((-4.99056 7.63742 0.00000, -5.13394...</td>\n",
       "    </tr>\n",
       "    <tr>\n",
       "      <th>1</th>\n",
       "      <td>0.802842</td>\n",
       "      <td>489.156087</td>\n",
       "      <td>349</td>\n",
       "      <td>2</td>\n",
       "      <td>349</td>\n",
       "      <td>POLYGON Z ((-5.71309 9.60074 0.00000, -5.51509...</td>\n",
       "    </tr>\n",
       "    <tr>\n",
       "      <th>2</th>\n",
       "      <td>1.054339</td>\n",
       "      <td>841.794593</td>\n",
       "      <td>933</td>\n",
       "      <td>2</td>\n",
       "      <td>933</td>\n",
       "      <td>POLYGON Z ((100.99123 4.57989 0.00000, 101.225...</td>\n",
       "    </tr>\n",
       "    <tr>\n",
       "      <th>3</th>\n",
       "      <td>0.000000</td>\n",
       "      <td>209.589763</td>\n",
       "      <td>2080</td>\n",
       "      <td>2</td>\n",
       "      <td>2080</td>\n",
       "      <td>POLYGON Z ((106.84582 -6.12265 0.00000, 107.00...</td>\n",
       "    </tr>\n",
       "    <tr>\n",
       "      <th>4</th>\n",
       "      <td>0.000000</td>\n",
       "      <td>202.830576</td>\n",
       "      <td>2094</td>\n",
       "      <td>2</td>\n",
       "      <td>2094</td>\n",
       "      <td>POLYGON Z ((108.81742 -7.00084 0.00000, 108.81...</td>\n",
       "    </tr>\n",
       "    <tr>\n",
       "      <th>...</th>\n",
       "      <td>...</td>\n",
       "      <td>...</td>\n",
       "      <td>...</td>\n",
       "      <td>...</td>\n",
       "      <td>...</td>\n",
       "      <td>...</td>\n",
       "    </tr>\n",
       "    <tr>\n",
       "      <th>242</th>\n",
       "      <td>0.000000</td>\n",
       "      <td>521.261347</td>\n",
       "      <td>17683</td>\n",
       "      <td>5</td>\n",
       "      <td>17683</td>\n",
       "      <td>POLYGON Z ((116.21661 -29.38319 0.00000, 116.4...</td>\n",
       "    </tr>\n",
       "    <tr>\n",
       "      <th>243</th>\n",
       "      <td>0.000000</td>\n",
       "      <td>753.615692</td>\n",
       "      <td>17753</td>\n",
       "      <td>5</td>\n",
       "      <td>17753</td>\n",
       "      <td>POLYGON Z ((123.22449 -29.09343 0.00000, 123.4...</td>\n",
       "    </tr>\n",
       "    <tr>\n",
       "      <th>244</th>\n",
       "      <td>0.000000</td>\n",
       "      <td>31.153862</td>\n",
       "      <td>17883</td>\n",
       "      <td>5</td>\n",
       "      <td>17883</td>\n",
       "      <td>POLYGON Z ((136.76231 -27.69697 0.00000, 136.8...</td>\n",
       "    </tr>\n",
       "    <tr>\n",
       "      <th>245</th>\n",
       "      <td>0.000000</td>\n",
       "      <td>376.203141</td>\n",
       "      <td>18710</td>\n",
       "      <td>5</td>\n",
       "      <td>18710</td>\n",
       "      <td>POLYGON Z ((-68.65232 -40.45139 0.00000, -68.6...</td>\n",
       "    </tr>\n",
       "    <tr>\n",
       "      <th>246</th>\n",
       "      <td>0.000000</td>\n",
       "      <td>193.247453</td>\n",
       "      <td>18725</td>\n",
       "      <td>5</td>\n",
       "      <td>18725</td>\n",
       "      <td>POLYGON Z ((-66.61869 -44.57767 0.00000, -66.6...</td>\n",
       "    </tr>\n",
       "  </tbody>\n",
       "</table>\n",
       "<p>247 rows × 6 columns</p>\n",
       "</div>"
      ],
      "text/plain": [
       "     Shape_Leng  Shape_Area     id  type file_name  \\\n",
       "0      0.628580  229.401691    347     2       347   \n",
       "1      0.802842  489.156087    349     2       349   \n",
       "2      1.054339  841.794593    933     2       933   \n",
       "3      0.000000  209.589763   2080     2      2080   \n",
       "4      0.000000  202.830576   2094     2      2094   \n",
       "..          ...         ...    ...   ...       ...   \n",
       "242    0.000000  521.261347  17683     5     17683   \n",
       "243    0.000000  753.615692  17753     5     17753   \n",
       "244    0.000000   31.153862  17883     5     17883   \n",
       "245    0.000000  376.203141  18710     5     18710   \n",
       "246    0.000000  193.247453  18725     5     18725   \n",
       "\n",
       "                                              geometry  \n",
       "0    POLYGON Z ((-4.99056 7.63742 0.00000, -5.13394...  \n",
       "1    POLYGON Z ((-5.71309 9.60074 0.00000, -5.51509...  \n",
       "2    POLYGON Z ((100.99123 4.57989 0.00000, 101.225...  \n",
       "3    POLYGON Z ((106.84582 -6.12265 0.00000, 107.00...  \n",
       "4    POLYGON Z ((108.81742 -7.00084 0.00000, 108.81...  \n",
       "..                                                 ...  \n",
       "242  POLYGON Z ((116.21661 -29.38319 0.00000, 116.4...  \n",
       "243  POLYGON Z ((123.22449 -29.09343 0.00000, 123.4...  \n",
       "244  POLYGON Z ((136.76231 -27.69697 0.00000, 136.8...  \n",
       "245  POLYGON Z ((-68.65232 -40.45139 0.00000, -68.6...  \n",
       "246  POLYGON Z ((-66.61869 -44.57767 0.00000, -66.6...  \n",
       "\n",
       "[247 rows x 6 columns]"
      ]
     },
     "execution_count": 9,
     "metadata": {},
     "output_type": "execute_result"
    }
   ],
   "source": [
    "#Read the training area 、 training polygons\n",
    "trainingArea = gps.read_file(r'D:\\lakemapping\\2_dataset\\sampleAnnotations\\finalSample\\area_type2345.shp')\n",
    "trainingPolygon = gps.read_file(r'D:\\lakemapping\\2_dataset\\sampleAnnotations\\finalSample\\polygon_type2345.shp')\n",
    "\n",
    "print(trainingPolygon.shape,trainingArea.shape)# area:id, geomerry;   polygon:id, geometry \n",
    "trainingPolygon\n",
    "trainingArea\n",
    "# print(f'Read a total of {trainingPolygon.shape[0]} object polygons and {trainingArea.shape[0]} training areas.')\n",
    "# print(f'Polygons will be assigned to training areas in the next steps.')"
   ]
  },
  {
   "cell_type": "code",
   "execution_count": 10,
   "metadata": {},
   "outputs": [
    {
     "name": "stdout",
     "output_type": "stream",
     "text": [
      "epsg:4326\n",
      "epsg:4326\n"
     ]
    }
   ],
   "source": [
    "# Check if the training areas and the training polygons have the same crs     \n",
    "if trainingArea.crs  != trainingPolygon.crs:\n",
    "    print('Training area CRS does not match training_polygon CRS')\n",
    "    targetCRS = trainingPolygon.crs #Areas are less in number so conversion should be faster\n",
    "    trainingArea = trainingArea.to_crs(targetCRS)\n",
    "print(trainingPolygon.crs)\n",
    "print(trainingArea.crs)\n",
    "assert trainingPolygon.crs == trainingArea.crs"
   ]
  },
  {
   "cell_type": "code",
   "execution_count": 11,
   "metadata": {
    "scrolled": true,
    "tags": []
   },
   "outputs": [
    {
     "data": {
      "application/vnd.jupyter.widget-view+json": {
       "model_id": "725f3f0cc3414dc4b9602359acb0a5b2",
       "version_major": 2,
       "version_minor": 0
      },
      "text/plain": [
       "  0%|          | 0/247 [00:00<?, ?it/s]"
      ]
     },
     "metadata": {},
     "output_type": "display_data"
    },
    {
     "name": "stdout",
     "output_type": "stream",
     "text": [
      "area's index: 0\n",
      "area's index: 1\n",
      "area's index: 2\n",
      "area's index: 3\n",
      "area's index: 4\n",
      "area's index: 5\n",
      "area's index: 6\n",
      "area's index: 7\n",
      "area's index: 8\n",
      "area's index: 9\n",
      "area's index: 10\n",
      "area's index: 11\n",
      "area's index: 12\n",
      "area's index: 13\n",
      "area's index: 14\n",
      "area's index: 15\n",
      "area's index: 16\n",
      "area's index: 17\n",
      "area's index: 18\n",
      "area's index: 19\n",
      "area's index: 20\n",
      "area's index: 21\n",
      "area's index: 22\n",
      "area's index: 23\n",
      "area's index: 24\n",
      "area's index: 25\n",
      "area's index: 26\n",
      "area's index: 27\n",
      "area's index: 28\n",
      "area's index: 29\n",
      "area's index: 30\n",
      "area's index: 31\n",
      "area's index: 32\n",
      "area's index: 33\n",
      "area's index: 34\n",
      "area's index: 35\n",
      "area's index: 36\n",
      "area's index: 37\n",
      "area's index: 38\n",
      "area's index: 39\n",
      "area's index: 40\n",
      "area's index: 41\n",
      "area's index: 42\n",
      "area's index: 43\n",
      "area's index: 44\n",
      "area's index: 45\n",
      "area's index: 46\n",
      "area's index: 47\n",
      "area's index: 48\n",
      "area's index: 49\n",
      "area's index: 50\n",
      "area's index: 51\n",
      "area's index: 52\n",
      "area's index: 53\n",
      "area's index: 54\n",
      "area's index: 55\n",
      "area's index: 56\n",
      "area's index: 57\n",
      "area's index: 58\n",
      "area's index: 59\n",
      "area's index: 60\n",
      "area's index: 61\n",
      "area's index: 62\n",
      "area's index: 63\n",
      "area's index: 64\n",
      "area's index: 65\n",
      "area's index: 66\n",
      "area's index: 67\n",
      "area's index: 68\n",
      "area's index: 69\n",
      "area's index: 70\n",
      "area's index: 71\n",
      "area's index: 72\n",
      "area's index: 73\n",
      "area's index: 74\n",
      "area's index: 75\n",
      "area's index: 76\n",
      "area's index: 77\n",
      "area's index: 78\n",
      "area's index: 79\n",
      "area's index: 80\n",
      "area's index: 81\n",
      "area's index: 82\n",
      "area's index: 83\n",
      "area's index: 84\n",
      "area's index: 85\n",
      "area's index: 86\n",
      "area's index: 87\n",
      "area's index: 88\n",
      "area's index: 89\n",
      "area's index: 90\n",
      "area's index: 91\n",
      "area's index: 92\n",
      "area's index: 93\n",
      "area's index: 94\n",
      "area's index: 95\n",
      "area's index: 96\n",
      "area's index: 97\n",
      "area's index: 98\n",
      "area's index: 99\n",
      "area's index: 100\n",
      "area's index: 101\n",
      "area's index: 102\n",
      "area's index: 103\n",
      "area's index: 104\n",
      "area's index: 105\n",
      "area's index: 106\n",
      "area's index: 107\n",
      "area's index: 108\n",
      "area's index: 109\n",
      "area's index: 110\n",
      "area's index: 111\n",
      "area's index: 112\n",
      "area's index: 113\n",
      "area's index: 114\n",
      "area's index: 115\n",
      "area's index: 116\n",
      "area's index: 117\n",
      "area's index: 118\n",
      "area's index: 119\n",
      "area's index: 120\n",
      "area's index: 121\n",
      "area's index: 122\n",
      "area's index: 123\n",
      "area's index: 124\n",
      "area's index: 125\n",
      "area's index: 126\n",
      "area's index: 127\n",
      "area's index: 128\n",
      "area's index: 129\n",
      "area's index: 130\n",
      "area's index: 131\n",
      "area's index: 132\n",
      "area's index: 133\n",
      "area's index: 134\n",
      "area's index: 135\n",
      "area's index: 136\n",
      "area's index: 137\n",
      "area's index: 138\n",
      "area's index: 139\n",
      "area's index: 140\n",
      "area's index: 141\n",
      "area's index: 142\n",
      "area's index: 143\n",
      "area's index: 144\n",
      "area's index: 145\n",
      "area's index: 146\n",
      "area's index: 147\n",
      "area's index: 148\n",
      "area's index: 149\n",
      "area's index: 150\n",
      "area's index: 151\n",
      "area's index: 152\n",
      "area's index: 153\n",
      "area's index: 154\n",
      "area's index: 155\n",
      "area's index: 156\n",
      "area's index: 157\n",
      "area's index: 158\n",
      "area's index: 159\n",
      "area's index: 160\n",
      "area's index: 161\n",
      "area's index: 162\n",
      "area's index: 163\n",
      "area's index: 164\n",
      "area's index: 165\n",
      "area's index: 166\n",
      "area's index: 167\n",
      "area's index: 168\n",
      "area's index: 169\n",
      "area's index: 170\n",
      "area's index: 171\n",
      "area's index: 172\n",
      "area's index: 173\n",
      "area's index: 174\n",
      "area's index: 175\n",
      "area's index: 176\n",
      "area's index: 177\n",
      "area's index: 178\n",
      "area's index: 179\n",
      "area's index: 180\n",
      "area's index: 181\n",
      "area's index: 182\n",
      "area's index: 183\n",
      "area's index: 184\n",
      "area's index: 185\n",
      "area's index: 186\n",
      "area's index: 187\n",
      "area's index: 188\n",
      "area's index: 189\n",
      "area's index: 190\n",
      "area's index: 191\n",
      "area's index: 192\n",
      "area's index: 193\n",
      "area's index: 194\n",
      "area's index: 195\n",
      "area's index: 196\n",
      "area's index: 197\n",
      "area's index: 198\n",
      "area's index: 199\n",
      "area's index: 200\n",
      "area's index: 201\n",
      "area's index: 202\n",
      "area's index: 203\n",
      "area's index: 204\n",
      "area's index: 205\n",
      "area's index: 206\n",
      "area's index: 207\n",
      "area's index: 208\n",
      "area's index: 209\n",
      "area's index: 210\n",
      "area's index: 211\n",
      "area's index: 212\n",
      "area's index: 213\n",
      "area's index: 214\n",
      "area's index: 215\n",
      "area's index: 216\n",
      "area's index: 217\n",
      "area's index: 218\n",
      "area's index: 219\n",
      "area's index: 220\n",
      "area's index: 221\n",
      "area's index: 222\n",
      "area's index: 223\n",
      "area's index: 224\n",
      "area's index: 225\n",
      "area's index: 226\n",
      "area's index: 227\n",
      "area's index: 228\n",
      "area's index: 229\n",
      "area's index: 230\n",
      "area's index: 231\n",
      "area's index: 232\n",
      "area's index: 233\n",
      "area's index: 234\n",
      "area's index: 235\n",
      "area's index: 236\n",
      "area's index: 237\n",
      "area's index: 238\n",
      "area's index: 239\n",
      "area's index: 240\n",
      "area's index: 241\n",
      "area's index: 242\n",
      "area's index: 243\n",
      "area's index: 244\n",
      "area's index: 245\n",
      "area's index: 246\n",
      "Assigned training polygons in 247 training areas\n"
     ]
    }
   ],
   "source": [
    "# As input we received two shapefile, first one contains the training areas/rectangles and other contains the polygon of lakes/objects in those training areas\n",
    "# The first task is to determine the parent training area for each polygon.\n",
    "\n",
    "def dividePolygonsInTrainingAreas(trainingPolygon, trainingArea):\n",
    "    '''Assign annotated ploygons in to the training areas.'''\n",
    "    # For efficiency, assigned polygons are removed from the list, we make a copy here. \n",
    "    cpTrainingPolygon = trainingPolygon.copy()\n",
    "    splitPolygons = {}\n",
    "    for i in tqdm(trainingArea.index):\n",
    "        spTemp = [] \n",
    "        allocated = []\n",
    "        print(\"area's index:\",i)\n",
    "        for j in cpTrainingPolygon.index:\n",
    "            if cpTrainingPolygon.loc[j]['geometry'].within(trainingArea.loc[i]['geometry']):\n",
    "                spTemp.append(cpTrainingPolygon.loc[j])\n",
    "                allocated.append(j)      \n",
    "        splitPolygons[i] = {'polygons':spTemp,'bounds':list(trainingArea.bounds.loc[i]),'file_name':trainingArea.loc[i]['file_name'] ,'type':trainingArea.loc[i]['type']}\n",
    "        cpTrainingPolygon = cpTrainingPolygon.drop(allocated)#assigned polygons are removed from the list\n",
    "    return splitPolygons\n",
    "\n",
    "# areasWithPolygons contains the object polygons for each area!\n",
    "areasWithPolygons = dividePolygonsInTrainingAreas(trainingPolygon, trainingArea)\n",
    "print(f'Assigned training polygons in {len(areasWithPolygons)} training areas')"
   ]
  },
  {
   "cell_type": "code",
   "execution_count": 11,
   "metadata": {
    "scrolled": false
   },
   "outputs": [
    {
     "name": "stderr",
     "output_type": "stream",
     "text": [
      "IOPub data rate exceeded.\n",
      "The Jupyter server will temporarily stop sending output\n",
      "to the client in order to avoid crashing it.\n",
      "To change this limit, set the config variable\n",
      "`--ServerApp.iopub_data_rate_limit`.\n",
      "\n",
      "Current values:\n",
      "ServerApp.iopub_data_rate_limit=1000000.0 (bytes/sec)\n",
      "ServerApp.rate_limit_window=3.0 (secs)\n",
      "\n"
     ]
    }
   ],
   "source": [
    "# print(areasWithPolygons) "
   ]
  },
  {
   "cell_type": "code",
   "execution_count": 12,
   "metadata": {},
   "outputs": [],
   "source": [
    "def extractAreasThatOverlapWithTrainingData(areaInfo):\n",
    "    \"\"\"Iterates over raw NDWI images and using findOverlap() extract areas that overlap with training data. \n",
    "    The overlapping areas in raw images are written in a separate file, and annotation file are created from polygons in the overlapping areas.\n",
    "    \"\"\"   \n",
    "    polygonsInAreaDf = gps.GeoDataFrame(areaInfo['polygons'])\n",
    "    file_name=str(areaInfo['file_name'])\n",
    "    bboxArea = box(*areaInfo['bounds'])\n",
    "    area_type=areaInfo['type']\n",
    "    writePath=os.path.join(output_dir,'output{}'.format(area_type))\n",
    "    if not os.path.exists(writePath):\n",
    "        os.makedirs(writePath)\n",
    "    #draw image: set pad width of the sample images\n",
    "    raw_img = rasterio.open(os.path.join(writePath,image_prefix+file_name+image_file_type))\n",
    "    profile = raw_img.profile  \n",
    "    profile['dtype'] = rasterio.uint8\n",
    "    profile['nodata']= None\n",
    "    profile['count'] = 1\n",
    "    polygons = []\n",
    "    for i in polygonsInAreaDf.index:\n",
    "        gm = polygonsInAreaDf.loc[i]['geometry']\n",
    "        polygons.append(gm)\n",
    "                \n",
    "    with rasterio.open(os.path.join(writePath,config.extracted_annotation_filename+'_{}.png'.format(file_name)), 'w+', **profile) as out:\n",
    "        out_arr = out.read(1)\n",
    "        burned = features.rasterize(polygons, fill=0, default_value=1,all_touched=False,out=out_arr, transform=out.transform)\n",
    "        out.write_band(1, burned)"
   ]
  },
  {
   "cell_type": "code",
   "execution_count": 13,
   "metadata": {
    "scrolled": true
   },
   "outputs": [],
   "source": [
    "for value in areasWithPolygons.values():\n",
    "    extractAreasThatOverlapWithTrainingData(value)"
   ]
  },
  {
   "cell_type": "code",
   "execution_count": 62,
   "metadata": {
    "scrolled": true
   },
   "outputs": [
    {
     "name": "stdout",
     "output_type": "stream",
     "text": [
      "[('D:\\\\lakemapping\\\\2_dataset\\\\test\\\\output5/shp\\\\ndwi_10792_pad92.shp', 'ndwi_10792_pad92.shp'), ('D:\\\\lakemapping\\\\2_dataset\\\\test\\\\output5/shp\\\\ndwi_10953_pad92.shp', 'ndwi_10953_pad92.shp'), ('D:\\\\lakemapping\\\\2_dataset\\\\test\\\\output5/shp\\\\ndwi_16118_pad92.shp', 'ndwi_16118_pad92.shp'), ('D:\\\\lakemapping\\\\2_dataset\\\\test\\\\output5/shp\\\\ndwi_17140_pad92.shp', 'ndwi_17140_pad92.shp'), ('D:\\\\lakemapping\\\\2_dataset\\\\test\\\\output5/shp\\\\ndwi_17434_pad92.shp', 'ndwi_17434_pad92.shp'), ('D:\\\\lakemapping\\\\2_dataset\\\\test\\\\output5/shp\\\\ndwi_17481_pad92.shp', 'ndwi_17481_pad92.shp'), ('D:\\\\lakemapping\\\\2_dataset\\\\test\\\\output5/shp\\\\ndwi_17683_pad92.shp', 'ndwi_17683_pad92.shp'), ('D:\\\\lakemapping\\\\2_dataset\\\\test\\\\output5/shp\\\\ndwi_17753_pad92.shp', 'ndwi_17753_pad92.shp'), ('D:\\\\lakemapping\\\\2_dataset\\\\test\\\\output5/shp\\\\ndwi_17883_pad92.shp', 'ndwi_17883_pad92.shp'), ('D:\\\\lakemapping\\\\2_dataset\\\\test\\\\output5/shp\\\\ndwi_18710_pad92.shp', 'ndwi_18710_pad92.shp'), ('D:\\\\lakemapping\\\\2_dataset\\\\test\\\\output5/shp\\\\ndwi_18725_pad92.shp', 'ndwi_18725_pad92.shp'), ('D:\\\\lakemapping\\\\2_dataset\\\\test\\\\output5/shp\\\\ndwi_2883_pad92.shp', 'ndwi_2883_pad92.shp'), ('D:\\\\lakemapping\\\\2_dataset\\\\test\\\\output5/shp\\\\ndwi_2979_pad92.shp', 'ndwi_2979_pad92.shp'), ('D:\\\\lakemapping\\\\2_dataset\\\\test\\\\output5/shp\\\\ndwi_2986_pad92.shp', 'ndwi_2986_pad92.shp'), ('D:\\\\lakemapping\\\\2_dataset\\\\test\\\\output5/shp\\\\ndwi_3126_pad92.shp', 'ndwi_3126_pad92.shp'), ('D:\\\\lakemapping\\\\2_dataset\\\\test\\\\output5/shp\\\\ndwi_3159_pad92.shp', 'ndwi_3159_pad92.shp'), ('D:\\\\lakemapping\\\\2_dataset\\\\test\\\\output5/shp\\\\ndwi_3194_pad92.shp', 'ndwi_3194_pad92.shp'), ('D:\\\\lakemapping\\\\2_dataset\\\\test\\\\output5/shp\\\\ndwi_3202_pad92.shp', 'ndwi_3202_pad92.shp'), ('D:\\\\lakemapping\\\\2_dataset\\\\test\\\\output5/shp\\\\ndwi_4299_pad92.shp', 'ndwi_4299_pad92.shp'), ('D:\\\\lakemapping\\\\2_dataset\\\\test\\\\output5/shp\\\\ndwi_4418_pad92.shp', 'ndwi_4418_pad92.shp'), ('D:\\\\lakemapping\\\\2_dataset\\\\test\\\\output5/shp\\\\ndwi_5605_pad92.shp', 'ndwi_5605_pad92.shp'), ('D:\\\\lakemapping\\\\2_dataset\\\\test\\\\output5/shp\\\\ndwi_5636_pad92.shp', 'ndwi_5636_pad92.shp'), ('D:\\\\lakemapping\\\\2_dataset\\\\test\\\\output5/shp\\\\ndwi_6252_pad92.shp', 'ndwi_6252_pad92.shp'), ('D:\\\\lakemapping\\\\2_dataset\\\\test\\\\output5/shp\\\\ndwi_6765_pad92.shp', 'ndwi_6765_pad92.shp'), ('D:\\\\lakemapping\\\\2_dataset\\\\test\\\\output5/shp\\\\ndwi_6779_pad92.shp', 'ndwi_6779_pad92.shp'), ('D:\\\\lakemapping\\\\2_dataset\\\\test\\\\output5/shp\\\\ndwi_6794_pad92.shp', 'ndwi_6794_pad92.shp'), ('D:\\\\lakemapping\\\\2_dataset\\\\test\\\\output5/shp\\\\ndwi_8456_pad92.shp', 'ndwi_8456_pad92.shp'), ('D:\\\\lakemapping\\\\2_dataset\\\\test\\\\output5/shp\\\\ndwi_8555_pad92.shp', 'ndwi_8555_pad92.shp'), ('D:\\\\lakemapping\\\\2_dataset\\\\test\\\\output5/shp\\\\ndwi_8904_pad92.shp', 'ndwi_8904_pad92.shp')]\n",
      "ndwi_10792_pad92.shp\n",
      "D:\\lakemapping\\sample750_pad\\tif\\sample_10792.tif\n",
      "D:\\lakemapping\\2_dataset\\test\\output5\\image_10792_pad92.tif\n",
      "ndwi_10953_pad92.shp\n",
      "D:\\lakemapping\\sample750_pad\\tif\\sample_10953.tif\n",
      "D:\\lakemapping\\2_dataset\\test\\output5\\image_10953_pad92.tif\n",
      "ndwi_16118_pad92.shp\n",
      "D:\\lakemapping\\sample750_pad\\tif\\sample_16118.tif\n",
      "D:\\lakemapping\\2_dataset\\test\\output5\\image_16118_pad92.tif\n",
      "ndwi_17140_pad92.shp\n",
      "D:\\lakemapping\\sample750_pad\\tif\\sample_17140.tif\n",
      "D:\\lakemapping\\2_dataset\\test\\output5\\image_17140_pad92.tif\n",
      "ndwi_17434_pad92.shp\n",
      "D:\\lakemapping\\sample750_pad\\tif\\sample_17434.tif\n",
      "D:\\lakemapping\\2_dataset\\test\\output5\\image_17434_pad92.tif\n",
      "ndwi_17481_pad92.shp\n",
      "D:\\lakemapping\\sample750_pad\\tif\\sample_17481.tif\n",
      "D:\\lakemapping\\2_dataset\\test\\output5\\image_17481_pad92.tif\n",
      "ndwi_17683_pad92.shp\n",
      "D:\\lakemapping\\sample750_pad\\tif\\sample_17683.tif\n",
      "D:\\lakemapping\\2_dataset\\test\\output5\\image_17683_pad92.tif\n",
      "ndwi_17753_pad92.shp\n",
      "D:\\lakemapping\\sample750_pad\\tif\\sample_17753.tif\n",
      "D:\\lakemapping\\2_dataset\\test\\output5\\image_17753_pad92.tif\n",
      "ndwi_17883_pad92.shp\n",
      "D:\\lakemapping\\sample750_pad\\tif\\sample_17883.tif\n",
      "D:\\lakemapping\\2_dataset\\test\\output5\\image_17883_pad92.tif\n",
      "ndwi_18710_pad92.shp\n",
      "D:\\lakemapping\\sample750_pad\\tif\\sample_18710.tif\n",
      "D:\\lakemapping\\2_dataset\\test\\output5\\image_18710_pad92.tif\n",
      "ndwi_18725_pad92.shp\n",
      "D:\\lakemapping\\sample750_pad\\tif\\sample_18725.tif\n",
      "D:\\lakemapping\\2_dataset\\test\\output5\\image_18725_pad92.tif\n",
      "ndwi_2883_pad92.shp\n",
      "D:\\lakemapping\\sample750_pad\\tif\\sample_2883.tif\n",
      "D:\\lakemapping\\2_dataset\\test\\output5\\image_2883_pad92.tif\n",
      "ndwi_2979_pad92.shp\n",
      "D:\\lakemapping\\sample750_pad\\tif\\sample_2979.tif\n",
      "D:\\lakemapping\\2_dataset\\test\\output5\\image_2979_pad92.tif\n",
      "ndwi_2986_pad92.shp\n",
      "D:\\lakemapping\\sample750_pad\\tif\\sample_2986.tif\n",
      "D:\\lakemapping\\2_dataset\\test\\output5\\image_2986_pad92.tif\n",
      "ndwi_3126_pad92.shp\n",
      "D:\\lakemapping\\sample750_pad\\tif\\sample_3126.tif\n",
      "D:\\lakemapping\\2_dataset\\test\\output5\\image_3126_pad92.tif\n",
      "ndwi_3159_pad92.shp\n",
      "D:\\lakemapping\\sample750_pad\\tif\\sample_3159.tif\n",
      "D:\\lakemapping\\2_dataset\\test\\output5\\image_3159_pad92.tif\n",
      "ndwi_3194_pad92.shp\n",
      "D:\\lakemapping\\sample750_pad\\tif\\sample_3194.tif\n",
      "D:\\lakemapping\\2_dataset\\test\\output5\\image_3194_pad92.tif\n",
      "ndwi_3202_pad92.shp\n",
      "D:\\lakemapping\\sample750_pad\\tif\\sample_3202.tif\n",
      "D:\\lakemapping\\2_dataset\\test\\output5\\image_3202_pad92.tif\n",
      "ndwi_4299_pad92.shp\n",
      "D:\\lakemapping\\sample750_pad\\tif\\sample_4299.tif\n",
      "D:\\lakemapping\\2_dataset\\test\\output5\\image_4299_pad92.tif\n",
      "ndwi_4418_pad92.shp\n",
      "D:\\lakemapping\\sample750_pad\\tif\\sample_4418.tif\n",
      "D:\\lakemapping\\2_dataset\\test\\output5\\image_4418_pad92.tif\n",
      "ndwi_5605_pad92.shp\n",
      "D:\\lakemapping\\sample750_pad\\tif\\sample_5605.tif\n",
      "D:\\lakemapping\\2_dataset\\test\\output5\\image_5605_pad92.tif\n",
      "ndwi_5636_pad92.shp\n",
      "D:\\lakemapping\\sample750_pad\\tif\\sample_5636.tif\n",
      "D:\\lakemapping\\2_dataset\\test\\output5\\image_5636_pad92.tif\n",
      "ndwi_6252_pad92.shp\n",
      "D:\\lakemapping\\sample750_pad\\tif\\sample_6252.tif\n",
      "D:\\lakemapping\\2_dataset\\test\\output5\\image_6252_pad92.tif\n",
      "ndwi_6765_pad92.shp\n",
      "D:\\lakemapping\\sample750_pad\\tif\\sample_6765.tif\n",
      "D:\\lakemapping\\2_dataset\\test\\output5\\image_6765_pad92.tif\n",
      "ndwi_6779_pad92.shp\n",
      "D:\\lakemapping\\sample750_pad\\tif\\sample_6779.tif\n",
      "D:\\lakemapping\\2_dataset\\test\\output5\\image_6779_pad92.tif\n",
      "ndwi_6794_pad92.shp\n",
      "D:\\lakemapping\\sample750_pad\\tif\\sample_6794.tif\n",
      "D:\\lakemapping\\2_dataset\\test\\output5\\image_6794_pad92.tif\n",
      "ndwi_8456_pad92.shp\n",
      "D:\\lakemapping\\sample750_pad\\tif\\sample_8456.tif\n",
      "D:\\lakemapping\\2_dataset\\test\\output5\\image_8456_pad92.tif\n",
      "ndwi_8555_pad92.shp\n",
      "D:\\lakemapping\\sample750_pad\\tif\\sample_8555.tif\n",
      "D:\\lakemapping\\2_dataset\\test\\output5\\image_8555_pad92.tif\n",
      "ndwi_8904_pad92.shp\n",
      "D:\\lakemapping\\sample750_pad\\tif\\sample_8904.tif\n",
      "D:\\lakemapping\\2_dataset\\test\\output5\\image_8904_pad92.tif\n"
     ]
    },
    {
     "ename": "AttributeError",
     "evalue": "'NoneType' object has no attribute 'FlushCache'",
     "output_type": "error",
     "traceback": [
      "\u001b[1;31m---------------------------------------------------------------------------\u001b[0m",
      "\u001b[1;31mAttributeError\u001b[0m                            Traceback (most recent call last)",
      "Cell \u001b[1;32mIn[62], line 32\u001b[0m\n\u001b[0;32m     22\u001b[0m     \u001b[38;5;66;03m# 利用gdal.Warp进行裁剪\u001b[39;00m\n\u001b[0;32m     23\u001b[0m     \u001b[38;5;66;03m# https://gdal.org/api/python/osgeo.gdal.html#osgeo.gdal.Warp\u001b[39;00m\n\u001b[0;32m     24\u001b[0m result \u001b[38;5;241m=\u001b[39m gdal\u001b[38;5;241m.\u001b[39mWarp(\n\u001b[0;32m     25\u001b[0m         out_raster_path,\n\u001b[0;32m     26\u001b[0m         input_raster,\n\u001b[1;32m   (...)\u001b[0m\n\u001b[0;32m     30\u001b[0m         dstNodata \u001b[38;5;241m=\u001b[39m \u001b[38;5;241m-\u001b[39m\u001b[38;5;241m999\u001b[39m \u001b[38;5;66;03m# 输出数据的nodata值\u001b[39;00m\n\u001b[0;32m     31\u001b[0m         )\n\u001b[1;32m---> 32\u001b[0m \u001b[43mresult\u001b[49m\u001b[38;5;241;43m.\u001b[39;49m\u001b[43mFlushCache\u001b[49m()\n\u001b[0;32m     33\u001b[0m \u001b[38;5;28;01mdel\u001b[39;00m result\n",
      "\u001b[1;31mAttributeError\u001b[0m: 'NoneType' object has no attribute 'FlushCache'"
     ]
    }
   ],
   "source": [
    "area_prefix='ndwi_'#'area_img_'\n",
    "area_file_type='.shp'\n",
    "sample_prefix='sample_'\n",
    "sample_file_type='.tif'\n",
    "output_prefix='image_'\n",
    "sample_img_dir=r'D:\\lakemapping\\sample750_pad\\tif'\n",
    "all_files = []\n",
    "for root, dirs, files in os.walk(os.path.join(output_dir,r'output5/shp')):\n",
    "    for file in files:\n",
    "        if file.endswith(area_file_type)and file.startswith(area_prefix):\n",
    "             all_files.append((os.path.join(root, file), file))\n",
    "print(all_files)\n",
    "\n",
    "for fullPath, filename in all_files:\n",
    "    print(filename)\n",
    "    raster_fn=os.path.join(sample_img_dir,filename.replace(area_prefix,sample_prefix).replace(area_file_type,sample_file_type).replace('_pad92',''))\n",
    "    print(raster_fn)\n",
    "    input_raster = gdal.Open(raster_fn)\n",
    "    in_shp_path=fullPath\n",
    "    out_raster_path=fullPath.replace(area_prefix,output_prefix).replace(area_file_type,sample_file_type).replace('/shp','')\n",
    "    print(out_raster_path)\n",
    "        # 利用gdal.Warp进行裁剪\n",
    "        # https://gdal.org/api/python/osgeo.gdal.html#osgeo.gdal.Warp\n",
    "    result = gdal.Warp(\n",
    "            out_raster_path,\n",
    "            input_raster,\n",
    "            format = 'GTiff',\n",
    "            cutlineDSName = in_shp_path, # 用于裁剪的矢量\n",
    "            cropToCutline = True, # 是否使用cutlineDSName的extent作为输出的界线\n",
    "            dstNodata = -999 # 输出数据的nodata值\n",
    "            )\n",
    "    result.FlushCache()\n",
    "    del result"
   ]
  },
  {
   "cell_type": "code",
   "execution_count": null,
   "metadata": {},
   "outputs": [],
   "source": [
    "# Display extracted image \n",
    "sampleImage = '_55.png'\n",
    "# path_to_write=os.path.join(training_base_dir,'output\\output4')\n",
    "path_to_write=os.path.join(training_base_dir,'output\\sample750\\output0' )\n",
    "fn = os.path.join(path_to_write, extracted_NDWI_filename + sampleImage)\n",
    "NDWI_img = Image.open(fn)\n",
    "read_NDWI_img = np.array(NDWI_img)\n",
    "\n",
    "# redBands = os.path.join(path_to_write, 'red'+ sampleImage)\n",
    "# red_img = Image.open(redBands)\n",
    "# read_red_img = np.array(red_img)\n",
    "\n",
    "greenBands = os.path.join(path_to_write, 'green'+ sampleImage)\n",
    "green_img = Image.open(greenBands)\n",
    "read_green_img = np.array(green_img)\n",
    "\n",
    "# blueBands = os.path.join(path_to_write, 'blue'+ sampleImage)\n",
    "# blue_img = Image.open(blueBands)\n",
    "# read_blue_img = np.array(blue_img)\n",
    "\n",
    "swirBands = os.path.join(path_to_write, 'swir'+ sampleImage)\n",
    "swir_img = Image.open(swirBands)\n",
    "read_swir_img = np.array(swir_img)\n",
    "# print(read_NDWI_img.shape)\n",
    "# print(read_Bands_img.shape)\n",
    "annotation_im = Image.open(fn.replace(extracted_ndwi_filename ,config.extracted_annotation_filename))\n",
    "read_annotation = np.array(annotation_im)\n",
    "# print(read_annotation.shape)\n",
    "# print(read_annotation)\n",
    "\n",
    "all_images = np.array([read_NDWI_img,read_green_img,read_swir_img, read_annotation])#,read_red_img,read_blue_img\n",
    "# print(all_images.shape[1])\n",
    "display_images(np.expand_dims(np.transpose(all_images, axes=(1,2,0)), axis=0),['ndwi','green','swir','annotation'])"
   ]
  },
  {
   "cell_type": "code",
   "execution_count": null,
   "metadata": {},
   "outputs": [],
   "source": []
  }
 ],
 "metadata": {
  "kernelspec": {
   "display_name": "lake_env",
   "language": "python",
   "name": "lake_env"
  },
  "language_info": {
   "codemirror_mode": {
    "name": "ipython",
    "version": 3
   },
   "file_extension": ".py",
   "mimetype": "text/x-python",
   "name": "python",
   "nbconvert_exporter": "python",
   "pygments_lexer": "ipython3",
   "version": "3.8.18"
  }
 },
 "nbformat": 4,
 "nbformat_minor": 4
}
