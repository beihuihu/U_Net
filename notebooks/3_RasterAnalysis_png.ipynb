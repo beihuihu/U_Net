{
 "cells": [
  {
   "cell_type": "code",
   "execution_count": 1,
   "metadata": {},
   "outputs": [
    {
     "name": "stderr",
     "output_type": "stream",
     "text": [
      "2023-11-18 15:11:53.253398: I tensorflow/stream_executor/platform/default/dso_loader.cc:49] Successfully opened dynamic library libcudart.so.11.0\n"
     ]
    },
    {
     "name": "stdout",
     "output_type": "stream",
     "text": [
      "INFO:tensorflow:Mixed precision compatibility check (mixed_float16): OK\n",
      "Your GPU will likely run quickly with dtype policy mixed_float16 as it has compute capability of at least 7.0. Your GPU: NVIDIA RTX A6000, compute capability 8.6\n"
     ]
    },
    {
     "name": "stderr",
     "output_type": "stream",
     "text": [
      "2023-11-18 15:11:54.188180: I tensorflow/compiler/jit/xla_cpu_device.cc:41] Not creating XLA devices, tf_xla_enable_xla_devices not set\n",
      "2023-11-18 15:11:54.188786: I tensorflow/stream_executor/platform/default/dso_loader.cc:49] Successfully opened dynamic library libcuda.so.1\n",
      "2023-11-18 15:11:54.200664: I tensorflow/core/common_runtime/gpu/gpu_device.cc:1720] Found device 0 with properties: \n",
      "pciBusID: 0000:17:00.0 name: NVIDIA RTX A6000 computeCapability: 8.6\n",
      "coreClock: 1.8GHz coreCount: 84 deviceMemorySize: 47.53GiB deviceMemoryBandwidth: 715.34GiB/s\n",
      "2023-11-18 15:11:54.200685: I tensorflow/stream_executor/platform/default/dso_loader.cc:49] Successfully opened dynamic library libcudart.so.11.0\n",
      "2023-11-18 15:11:54.202412: I tensorflow/stream_executor/platform/default/dso_loader.cc:49] Successfully opened dynamic library libcublas.so.11\n",
      "2023-11-18 15:11:54.202460: I tensorflow/stream_executor/platform/default/dso_loader.cc:49] Successfully opened dynamic library libcublasLt.so.11\n",
      "2023-11-18 15:11:54.203173: I tensorflow/stream_executor/platform/default/dso_loader.cc:49] Successfully opened dynamic library libcufft.so.10\n",
      "2023-11-18 15:11:54.203375: I tensorflow/stream_executor/platform/default/dso_loader.cc:49] Successfully opened dynamic library libcurand.so.10\n",
      "2023-11-18 15:11:54.205180: I tensorflow/stream_executor/platform/default/dso_loader.cc:49] Successfully opened dynamic library libcusolver.so.10\n",
      "2023-11-18 15:11:54.205598: I tensorflow/stream_executor/platform/default/dso_loader.cc:49] Successfully opened dynamic library libcusparse.so.11\n",
      "2023-11-18 15:11:54.205692: I tensorflow/stream_executor/platform/default/dso_loader.cc:49] Successfully opened dynamic library libcudnn.so.8\n",
      "2023-11-18 15:11:54.205895: I tensorflow/core/common_runtime/gpu/gpu_device.cc:1862] Adding visible gpu devices: 0\n",
      "2023-11-18 15:11:54.206126: I tensorflow/compiler/jit/xla_cpu_device.cc:41] Not creating XLA devices, tf_xla_enable_xla_devices not set\n"
     ]
    },
    {
     "name": "stdout",
     "output_type": "stream",
     "text": [
      "2.4.1\n"
     ]
    }
   ],
   "source": [
    "from tensorflow.keras.models import load_model\n",
    "from tensorflow.keras import mixed_precision \n",
    "mixed_precision.set_global_policy('mixed_float16')\n",
    "import geopandas as gps\n",
    "import rasterio                  # I/O raster data (netcdf, height, geotiff, ...)\n",
    "import rasterio.warp             # Reproject raster samples\n",
    "from rasterio import windows\n",
    "from rasterio import features\n",
    "import fiona                     # I/O vector data (shape, geojson, ...)\n",
    "import pyproj                    # Change coordinate reference system\n",
    "from osgeo import gdal, ogr, osr\n",
    "import pandas as pd\n",
    "import shapely\n",
    "from shapely.geometry import Point, Polygon\n",
    "from shapely.geometry import mapping, shape\n",
    "import cv2\n",
    "import json\n",
    "import geopandas as gpd\n",
    "import numpy as np               # numerical array manipulation\n",
    "import pandas as pd\n",
    "import os\n",
    "os.environ[\"CUDA_VISIBLE_DEVICES\"] = \"1\"\n",
    "from tqdm import tqdm\n",
    "from PIL import Image\n",
    "import PIL.ImageDraw\n",
    "\n",
    "from itertools import product\n",
    "\n",
    "import sys\n",
    "from core.UNet import UNet\n",
    "from core.losses import tversky, focalTversky, bce_dice_loss, accuracy, dice_loss, IoU, recall, precision\n",
    "from core.optimizers import adaDelta, adagrad, adam, nadam\n",
    "from core.visualize import display_images\n",
    "# from core.dataset_generator import DataGenerator\n",
    "\n",
    "import matplotlib.pyplot as plt  # plotting tools\n",
    "%matplotlib inline\n",
    "import warnings                  # ignore annoying warnings\n",
    "warnings.filterwarnings(\"ignore\")\n",
    "import logging\n",
    "logger = logging.getLogger()\n",
    "logger.setLevel(logging.CRITICAL)\n",
    "\n",
    "%reload_ext autoreload\n",
    "%autoreload 2\n",
    "from IPython.core.interactiveshell import InteractiveShell\n",
    "InteractiveShell.ast_node_interactivity = \"all\"\n",
    "\n",
    "os.environ['TF_ENABLE_AUTO_MIXED_PRECISION'] = '1'\n",
    "import tensorflow as tf\n",
    "print(tf.__version__)"
   ]
  },
  {
   "cell_type": "code",
   "execution_count": 2,
   "metadata": {},
   "outputs": [
    {
     "name": "stderr",
     "output_type": "stream",
     "text": [
      "2023-11-18 15:11:54.877693: I tensorflow/core/platform/cpu_feature_guard.cc:142] This TensorFlow binary is optimized with oneAPI Deep Neural Network Library (oneDNN) to use the following CPU instructions in performance-critical operations:  AVX2 AVX512F FMA\n",
      "To enable them in other operations, rebuild TensorFlow with the appropriate compiler flags.\n",
      "2023-11-18 15:11:54.879562: I tensorflow/compiler/jit/xla_gpu_device.cc:99] Not creating XLA devices, tf_xla_enable_xla_devices not set\n",
      "2023-11-18 15:11:54.879837: I tensorflow/core/common_runtime/gpu/gpu_device.cc:1720] Found device 0 with properties: \n",
      "pciBusID: 0000:17:00.0 name: NVIDIA RTX A6000 computeCapability: 8.6\n",
      "coreClock: 1.8GHz coreCount: 84 deviceMemorySize: 47.53GiB deviceMemoryBandwidth: 715.34GiB/s\n",
      "2023-11-18 15:11:54.879869: I tensorflow/stream_executor/platform/default/dso_loader.cc:49] Successfully opened dynamic library libcudart.so.11.0\n",
      "2023-11-18 15:11:54.879900: I tensorflow/stream_executor/platform/default/dso_loader.cc:49] Successfully opened dynamic library libcublas.so.11\n",
      "2023-11-18 15:11:54.879908: I tensorflow/stream_executor/platform/default/dso_loader.cc:49] Successfully opened dynamic library libcublasLt.so.11\n",
      "2023-11-18 15:11:54.879916: I tensorflow/stream_executor/platform/default/dso_loader.cc:49] Successfully opened dynamic library libcufft.so.10\n",
      "2023-11-18 15:11:54.879923: I tensorflow/stream_executor/platform/default/dso_loader.cc:49] Successfully opened dynamic library libcurand.so.10\n",
      "2023-11-18 15:11:54.879931: I tensorflow/stream_executor/platform/default/dso_loader.cc:49] Successfully opened dynamic library libcusolver.so.10\n",
      "2023-11-18 15:11:54.879938: I tensorflow/stream_executor/platform/default/dso_loader.cc:49] Successfully opened dynamic library libcusparse.so.11\n",
      "2023-11-18 15:11:54.879945: I tensorflow/stream_executor/platform/default/dso_loader.cc:49] Successfully opened dynamic library libcudnn.so.8\n",
      "2023-11-18 15:11:54.880126: I tensorflow/core/common_runtime/gpu/gpu_device.cc:1862] Adding visible gpu devices: 0\n",
      "2023-11-18 15:11:54.880155: I tensorflow/stream_executor/platform/default/dso_loader.cc:49] Successfully opened dynamic library libcudart.so.11.0\n",
      "2023-11-18 15:11:55.273236: I tensorflow/core/common_runtime/gpu/gpu_device.cc:1261] Device interconnect StreamExecutor with strength 1 edge matrix:\n",
      "2023-11-18 15:11:55.273265: I tensorflow/core/common_runtime/gpu/gpu_device.cc:1267]      0 \n",
      "2023-11-18 15:11:55.273270: I tensorflow/core/common_runtime/gpu/gpu_device.cc:1280] 0:   N \n",
      "2023-11-18 15:11:55.273719: I tensorflow/core/common_runtime/gpu/gpu_device.cc:1406] Created TensorFlow device (/job:localhost/replica:0/task:0/device:GPU:0 with 44877 MB memory) -> physical GPU (device: 0, name: NVIDIA RTX A6000, pci bus id: 0000:17:00.0, compute capability: 8.6)\n"
     ]
    }
   ],
   "source": [
    "from tensorflow.compat.v1 import ConfigProto\n",
    "from tensorflow.compat.v1 import InteractiveSession\n",
    "\n",
    "config = ConfigProto(\n",
    "    #device_count={\"CPU\": 64},\n",
    "    allow_soft_placement=True, \n",
    "    log_device_placement=False)\n",
    "config.gpu_options.allow_growth = True\n",
    "session = InteractiveSession(config=config)"
   ]
  },
  {
   "cell_type": "code",
   "execution_count": 10,
   "metadata": {},
   "outputs": [
    {
     "name": "stdout",
     "output_type": "stream",
     "text": [
      "self.trained_model_path: /media/nkd/backup/5_lakemapping/U_Net/saved_models/UNet/lakes_20231117-1542_AdaDelta_dice_loss_012345_512.h5\n"
     ]
    }
   ],
   "source": [
    "# Required configurations (including the input and output paths) are stored in a separate file (such as config/RasterAnalysis.py)\n",
    "# Please provide required info in the file before continuing with this notebook. \n",
    " \n",
    "from config import RasterAnalysis_png\n",
    "# In case you are using a different folder name such as configLargeCluster, then you should import from the respective folder \n",
    "# Eg. from configLargeCluster import RasterAnalysis\n",
    "config = RasterAnalysis_png.Configuration()"
   ]
  },
  {
   "cell_type": "code",
   "execution_count": 4,
   "metadata": {},
   "outputs": [
    {
     "name": "stderr",
     "output_type": "stream",
     "text": [
      "2023-11-18 15:11:55.324118: I tensorflow/compiler/jit/xla_gpu_device.cc:99] Not creating XLA devices, tf_xla_enable_xla_devices not set\n",
      "2023-11-18 15:11:55.324381: I tensorflow/core/common_runtime/gpu/gpu_device.cc:1720] Found device 0 with properties: \n",
      "pciBusID: 0000:17:00.0 name: NVIDIA RTX A6000 computeCapability: 8.6\n",
      "coreClock: 1.8GHz coreCount: 84 deviceMemorySize: 47.53GiB deviceMemoryBandwidth: 715.34GiB/s\n",
      "2023-11-18 15:11:55.324415: I tensorflow/stream_executor/platform/default/dso_loader.cc:49] Successfully opened dynamic library libcudart.so.11.0\n",
      "2023-11-18 15:11:55.324447: I tensorflow/stream_executor/platform/default/dso_loader.cc:49] Successfully opened dynamic library libcublas.so.11\n",
      "2023-11-18 15:11:55.324453: I tensorflow/stream_executor/platform/default/dso_loader.cc:49] Successfully opened dynamic library libcublasLt.so.11\n",
      "2023-11-18 15:11:55.324460: I tensorflow/stream_executor/platform/default/dso_loader.cc:49] Successfully opened dynamic library libcufft.so.10\n",
      "2023-11-18 15:11:55.324467: I tensorflow/stream_executor/platform/default/dso_loader.cc:49] Successfully opened dynamic library libcurand.so.10\n",
      "2023-11-18 15:11:55.324473: I tensorflow/stream_executor/platform/default/dso_loader.cc:49] Successfully opened dynamic library libcusolver.so.10\n",
      "2023-11-18 15:11:55.324479: I tensorflow/stream_executor/platform/default/dso_loader.cc:49] Successfully opened dynamic library libcusparse.so.11\n",
      "2023-11-18 15:11:55.324485: I tensorflow/stream_executor/platform/default/dso_loader.cc:49] Successfully opened dynamic library libcudnn.so.8\n",
      "2023-11-18 15:11:55.324642: I tensorflow/core/common_runtime/gpu/gpu_device.cc:1862] Adding visible gpu devices: 0\n",
      "2023-11-18 15:11:55.324665: I tensorflow/core/common_runtime/gpu/gpu_device.cc:1261] Device interconnect StreamExecutor with strength 1 edge matrix:\n",
      "2023-11-18 15:11:55.324668: I tensorflow/core/common_runtime/gpu/gpu_device.cc:1267]      0 \n",
      "2023-11-18 15:11:55.324671: I tensorflow/core/common_runtime/gpu/gpu_device.cc:1280] 0:   N \n",
      "2023-11-18 15:11:55.324843: I tensorflow/core/common_runtime/gpu/gpu_device.cc:1406] Created TensorFlow device (/job:localhost/replica:0/task:0/device:GPU:0 with 44877 MB memory) -> physical GPU (device: 0, name: NVIDIA RTX A6000, pci bus id: 0000:17:00.0, compute capability: 8.6)\n"
     ]
    }
   ],
   "source": [
    "# Load a pretrained model \n",
    "OPTIMIZER = adaDelta\n",
    "# OPTIMIZER = adam\n",
    "OPTIMIZER=mixed_precision.LossScaleOptimizer(OPTIMIZER)\n",
    "model = load_model(config.trained_model_path, custom_objects={'dice loss': dice_loss, 'accuracy':accuracy ,'recall':recall, 'precision':precision,'IoU': IoU}, compile=False)\n",
    "model.compile(optimizer=OPTIMIZER, loss=dice_loss, metrics=[dice_loss, accuracy,recall, precision, IoU])"
   ]
  },
  {
   "cell_type": "code",
   "execution_count": 5,
   "metadata": {},
   "outputs": [],
   "source": [
    "# Methods to add results of a patch   to    the total results of a larger area. \n",
    "#The operator could be min (useful if there are too many false positives), max (useful for tackle false negatives)\n",
    "#res:mask [rows,cols] predition=np.squeeze(prediction[i], axis = -1) (col, row, wi, he) = batch_pos[i]\n",
    "def addTOResult(res, prediction, row, col, he, wi,operator,ie_width):\n",
    "    \n",
    "    currValue = res[row+ie_width:row+he-ie_width, col+ie_width:col+wi-ie_width]\n",
    "    newPredictions = prediction[ie_width:he-ie_width, ie_width:wi-ie_width]\n",
    "    \n",
    "# IMPORTANT: MIN can't be used as long as the mask is initialed with 0!!!!! \n",
    "#If you want to use MIN initial the mask with -1 and handle the case of default value(-1) separately.\n",
    "    if operator == 'min': # Takes the min of current prediction and new prediction for each pixel  \n",
    "        currValue [currValue == -1] = 1 #Replace -1 with 1 in case of MIN  \n",
    "        res[row+ie_width:row+he-ie_width, col+ie_width:col+wi-ie_width] = np.minimum(currValue, newPredictions)\n",
    "    elif operator == 'max':\n",
    "        res[row+ie_width:row+he-ie_width, col+ie_width:col+wi-ie_width] = np.maximum(currValue, newPredictions)\n",
    "    else:\n",
    "        res[row+ie_width:row+he-ie_width, col+ie_width:col+wi-ie_width] = newPredictions  \n",
    "    return (res)"
   ]
  },
  {
   "cell_type": "code",
   "execution_count": 6,
   "metadata": {},
   "outputs": [],
   "source": [
    "def readBands(fn,window):\n",
    "    img=rasterio.open(fn)\n",
    "    im=img.read(window=window)/1000\n",
    "    return im\n",
    "\n",
    "# Methods that actually makes the predictions\n",
    "def predict_using_model(model, batch, batch_pos, mask,operator,ie_width):\n",
    "#     print(batch)\n",
    "    tm = np.stack(batch, axis = 0)\n",
    "#     print(tm)\n",
    "    prediction = model.predict(tm)\n",
    "    for i in range(len(batch_pos)): \n",
    "        (col, row, wi, he) = batch_pos[i]\n",
    "        p = np.squeeze(prediction[i], axis = -1)\n",
    "        # Instead of replacing the current values with new values, use the user specified operator (MIN,MAX,REPLACE)\n",
    "        mask = addTOResult(mask, p, row, col, he, wi,operator,ie_width)  \n",
    "    return mask\n",
    "    \n",
    "def detect_lake(fullPath,NDWI_img,operator, width=512, height=512, stride = 256,ie_width=0,bandNum=1):\n",
    "    nols, nrows = NDWI_img.meta['width'], NDWI_img.meta['height']\n",
    "    meta = NDWI_img.meta.copy() \n",
    "    if 'float' not in meta['dtype']: #The prediction is a float so we keep it as float to be consistent with the prediction. \n",
    "        meta['dtype'] = np.float32\n",
    "    col_index=list(range(0, nols-width, stride))\n",
    "    col_index.append(nols-width)\n",
    "    row_index=list(range(0, nrows-height, stride))\n",
    "    row_index.append(nrows-height)\n",
    "    offsets = product(col_index,row_index)\n",
    "    big_window = windows.Window(col_off=0, row_off=0, width=nols, height=nrows)\n",
    "    print('the size of current NDWI_img',nrows, nols) \n",
    "\n",
    "    mask = np.zeros((nrows, nols), dtype=meta['dtype'])\n",
    "\n",
    "#     mask = mask -1   # Note: The initial mask is initialized with -1 instead of zero   to handle the MIN case (see addToResult)\n",
    "    batch = []\n",
    "    batch_pos = [ ]\n",
    "    for col_off, row_off in  tqdm(offsets):\n",
    "        window =windows.Window(col_off=col_off, row_off=row_off, width=width, height=height).intersection(big_window)\n",
    "        transform = windows.transform(window, NDWI_img.transform) \n",
    "#         hbh:notice datatype is float\n",
    "        patch = np.full((height, width, bandNum),-1.0)\n",
    "        if bandNum==1:\n",
    "            read_NDWI_img=NDWI_img.read(window=window)\n",
    "            temp_im=read_NDWI_img\n",
    "        elif bandNum==3:\n",
    "            read_NDWI_img=NDWI_img.read(window=window)/100\n",
    "            read_green_img =readBands(fullPath.replace(config.ndwi_fn_st ,config.green_fn_st),window)\n",
    "            read_swir_img = readBands(fullPath.replace(config.ndwi_fn_st ,config.swir_fn_st),window)\n",
    "            temp_im =  np.concatenate((read_NDWI_img,read_green_img,read_swir_img), axis=0)\n",
    "        else:#bandNum==5\n",
    "            read_NDWI_img=NDWI_img.read(window=window)/100\n",
    "            read_red_img =readBands(fullPath.replace(config.ndwi_fn_st ,config.red_fn_st),window)\n",
    "            read_green_img =readBands(fullPath.replace(config.ndwi_fn_st ,config.green_fn_st),window)\n",
    "            read_blue_img = readBands(fullPath.replace(config.ndwi_fn_st ,config.blue_fn_st),window)\n",
    "            read_swir_img = readBands(fullPath.replace(config.ndwi_fn_st ,config.swir_fn_st),window)\n",
    "            temp_im =  np.concatenate((read_NDWI_img,read_red_img,read_green_img,read_blue_img, read_swir_img), axis=0)\n",
    "\n",
    "        temp_im =  np.transpose(temp_im, axes=(1,2,0))\n",
    "    \n",
    "        patch[:window.height, :window.width] = temp_im   \n",
    "        \n",
    "        batch.append(patch)\n",
    "        batch_pos.append((window.col_off, window.row_off, window.width, window.height))\n",
    "        if (len(batch) == config.BATCH_SIZE):\n",
    "            mask = predict_using_model(model, batch, batch_pos, mask,operator,ie_width)\n",
    "            batch = []\n",
    "            batch_pos = []\n",
    "            \n",
    "    # To handle the edge of images as the image size may not be divisible by n complete batches and few frames on the edge may be left.\n",
    "    if batch:\n",
    "        mask = predict_using_model(model, batch, batch_pos, mask,operator,ie_width)\n",
    "        batch = []\n",
    "        batch_pos = []\n",
    "\n",
    "    return(mask, meta)"
   ]
  },
  {
   "cell_type": "code",
   "execution_count": 7,
   "metadata": {},
   "outputs": [],
   "source": [
    "def raster2vector(raster_path, vecter_path, field_name=\"class\", ignore_values = None):\n",
    "    \n",
    "    # 读取路径中的栅格数据\n",
    "    raster = gdal.Open(raster_path)\n",
    "    # in_band 为想要转为矢量的波段,一般需要进行转矢量的栅格都是单波段分类结果\n",
    "    # 若栅格为多波段,需要提前转换为单波段\n",
    "    band = raster.GetRasterBand(1)\n",
    "    \n",
    "    # 读取栅格的投影信息,为后面生成的矢量赋予相同的投影信息\n",
    "    prj = osr.SpatialReference()\n",
    "    prj.ImportFromWkt(raster.GetProjection())\n",
    "    \n",
    "    \n",
    "    drv = ogr.GetDriverByName(\"ESRI Shapefile\")\n",
    "    # 若文件已经存在,删除\n",
    "    if os.path.exists(vecter_path):\n",
    "        drv.DeleteDataSource(vecter_path)\n",
    "        \n",
    "    # 创建目标文件\n",
    "    polygon = drv.CreateDataSource(vecter_path)\n",
    "    # 创建面图层\n",
    "    poly_layer = polygon.CreateLayer(vecter_path[:-4], srs=prj, geom_type=ogr.wkbMultiPolygon)\n",
    "    # 添加浮点型字段,用来存储栅格的像素值\n",
    "    field = ogr.FieldDefn(field_name, ogr.OFTReal)  \n",
    "    poly_layer.CreateField(field)\n",
    "    \n",
    "    # FPolygonize将每个像元转成一个矩形，然后将相似的像元进行合并\n",
    "    # 设置矢量图层中保存像元值的字段序号为0\n",
    "    gdal.FPolygonize(band, None, poly_layer, 0)\n",
    "    \n",
    "    # 删除ignore_value链表中的类别要素\n",
    "    if ignore_values is not None:\n",
    "        for feature in poly_layer:\n",
    "            class_value = feature.GetField('class')\n",
    "            for ignore_value in ignore_values:\n",
    "                if class_value==ignore_value:\n",
    "                    # 通过FID删除要素\n",
    "                    poly_layer.DeleteFeature(feature.GetFID())\n",
    "                    break\n",
    "                \n",
    "    polygon.SyncToDisk()\n",
    "    polygon = None\n",
    "    print('Vector File Exported Successfully!')\n",
    "        \n",
    "def writeMaskToDisk(detected_mask, detected_meta, wp, write_as_type = 'uint8', th = 0.5, create_countors = False):\n",
    "    # Convert to correct required before writing\n",
    "    if 'float' in str(detected_meta['dtype']) and 'int' in write_as_type:\n",
    "        print(f'Converting prediction from {detected_meta[\"dtype\"]} to {write_as_type}, using threshold of {th}')#float32 to uint8\n",
    "#         initial code have problem of big lake\n",
    "        detected_mask[detected_mask<th]=0\n",
    "        detected_mask[detected_mask>=th]=1\n",
    "        detected_mask = detected_mask.astype(write_as_type)#'uint8'\n",
    "        detected_meta['dtype'] =  write_as_type\n",
    "    \n",
    "    # compress tif\n",
    "    detected_meta.update({\"compress\": 'lzw'})\n",
    "    \n",
    "    with rasterio.open(wp, 'w', **detected_meta) as outds:\n",
    "        outds.write(detected_mask, 1)"
   ]
  },
  {
   "cell_type": "code",
   "execution_count": null,
   "metadata": {
    "scrolled": true
   },
   "outputs": [
    {
     "name": "stdout",
     "output_type": "stream",
     "text": [
      "[('/media/nkd/backup/5_lakemapping/sample600/patchesReshape/test/type0/ndwi_11490.png', 'ndwi_11490.png'), ('/media/nkd/backup/5_lakemapping/sample600/patchesReshape/test/type0/ndwi_3922.png', 'ndwi_3922.png'), ('/media/nkd/backup/5_lakemapping/sample600/patchesReshape/test/type0/ndwi_6723.png', 'ndwi_6723.png'), ('/media/nkd/backup/5_lakemapping/sample600/patchesReshape/test/type0/ndwi_6485.png', 'ndwi_6485.png'), ('/media/nkd/backup/5_lakemapping/sample600/patchesReshape/test/type0/ndwi_343.png', 'ndwi_343.png'), ('/media/nkd/backup/5_lakemapping/sample600/patchesReshape/test/type0/ndwi_9080.png', 'ndwi_9080.png'), ('/media/nkd/backup/5_lakemapping/sample600/patchesReshape/test/type0/ndwi_1727.png', 'ndwi_1727.png'), ('/media/nkd/backup/5_lakemapping/sample600/patchesReshape/test/type0/ndwi_5085.png', 'ndwi_5085.png'), ('/media/nkd/backup/5_lakemapping/sample600/patchesReshape/test/type0/ndwi_178.png', 'ndwi_178.png'), ('/media/nkd/backup/5_lakemapping/sample600/patchesReshape/test/type0/ndwi_13251.png', 'ndwi_13251.png'), ('/media/nkd/backup/5_lakemapping/sample600/patchesReshape/test/type0/ndwi_9010.png', 'ndwi_9010.png'), ('/media/nkd/backup/5_lakemapping/sample600/patchesReshape/test/type0/ndwi_8960.png', 'ndwi_8960.png'), ('/media/nkd/backup/5_lakemapping/sample600/patchesReshape/test/type0/ndwi_9921.png', 'ndwi_9921.png'), ('/media/nkd/backup/5_lakemapping/sample600/patchesReshape/test/type0/ndwi_13554.png', 'ndwi_13554.png'), ('/media/nkd/backup/5_lakemapping/sample600/patchesReshape/test/type0/ndwi_1712.png', 'ndwi_1712.png'), ('/media/nkd/backup/5_lakemapping/sample600/patchesReshape/test/type0/ndwi_3444.png', 'ndwi_3444.png'), ('/media/nkd/backup/5_lakemapping/sample600/patchesReshape/test/type0/ndwi_14735.png', 'ndwi_14735.png'), ('/media/nkd/backup/5_lakemapping/sample600/patchesReshape/test/type0/ndwi_12312.png', 'ndwi_12312.png'), ('/media/nkd/backup/5_lakemapping/sample600/patchesReshape/test/type0/ndwi_2320.png', 'ndwi_2320.png'), ('/media/nkd/backup/5_lakemapping/sample600/patchesReshape/test/type0/ndwi_13362.png', 'ndwi_13362.png'), ('/media/nkd/backup/5_lakemapping/sample600/patchesReshape/test/type0/ndwi_9044.png', 'ndwi_9044.png'), ('/media/nkd/backup/5_lakemapping/sample600/patchesReshape/test/type0/ndwi_3272.png', 'ndwi_3272.png'), ('/media/nkd/backup/5_lakemapping/sample600/patchesReshape/test/type0/ndwi_6305.png', 'ndwi_6305.png'), ('/media/nkd/backup/5_lakemapping/sample600/patchesReshape/test/type0/ndwi_9653.png', 'ndwi_9653.png'), ('/media/nkd/backup/5_lakemapping/sample600/patchesReshape/test/type0/ndwi_12351.png', 'ndwi_12351.png'), ('/media/nkd/backup/5_lakemapping/sample600/patchesReshape/test/type0/ndwi_11664.png', 'ndwi_11664.png'), ('/media/nkd/backup/5_lakemapping/sample600/patchesReshape/test/type0/ndwi_12234.png', 'ndwi_12234.png'), ('/media/nkd/backup/5_lakemapping/sample600/patchesReshape/test/type0/ndwi_10031.png', 'ndwi_10031.png'), ('/media/nkd/backup/5_lakemapping/sample600/patchesReshape/test/type0/ndwi_8603.png', 'ndwi_8603.png'), ('/media/nkd/backup/5_lakemapping/sample600/patchesReshape/test/type0/ndwi_12596.png', 'ndwi_12596.png'), ('/media/nkd/backup/5_lakemapping/sample600/patchesReshape/test/type0/ndwi_8517.png', 'ndwi_8517.png'), ('/media/nkd/backup/5_lakemapping/sample600/patchesReshape/test/type0/ndwi_10689.png', 'ndwi_10689.png'), ('/media/nkd/backup/5_lakemapping/sample600/patchesReshape/test/type0/ndwi_11601.png', 'ndwi_11601.png'), ('/media/nkd/backup/5_lakemapping/sample600/patchesReshape/test/type0/ndwi_14926.png', 'ndwi_14926.png'), ('/media/nkd/backup/5_lakemapping/sample600/patchesReshape/test/type0/ndwi_1673.png', 'ndwi_1673.png'), ('/media/nkd/backup/5_lakemapping/sample600/patchesReshape/test/type0/ndwi_13742.png', 'ndwi_13742.png'), ('/media/nkd/backup/5_lakemapping/sample600/patchesReshape/test/type0/ndwi_13224.png', 'ndwi_13224.png'), ('/media/nkd/backup/5_lakemapping/sample600/patchesReshape/test/type0/ndwi_14077.png', 'ndwi_14077.png'), ('/media/nkd/backup/5_lakemapping/sample600/patchesReshape/test/type0/ndwi_9093.png', 'ndwi_9093.png'), ('/media/nkd/backup/5_lakemapping/sample600/patchesReshape/test/type0/ndwi_13177.png', 'ndwi_13177.png'), ('/media/nkd/backup/5_lakemapping/sample600/patchesReshape/test/type0/ndwi_3058.png', 'ndwi_3058.png'), ('/media/nkd/backup/5_lakemapping/sample600/patchesReshape/test/type0/ndwi_8250.png', 'ndwi_8250.png'), ('/media/nkd/backup/5_lakemapping/sample600/patchesReshape/test/type0/ndwi_14494.png', 'ndwi_14494.png'), ('/media/nkd/backup/5_lakemapping/sample600/patchesReshape/test/type0/ndwi_12277.png', 'ndwi_12277.png'), ('/media/nkd/backup/5_lakemapping/sample600/patchesReshape/test/type1/ndwi_5277.png', 'ndwi_5277.png'), ('/media/nkd/backup/5_lakemapping/sample600/patchesReshape/test/type1/ndwi_9875.png', 'ndwi_9875.png'), ('/media/nkd/backup/5_lakemapping/sample600/patchesReshape/test/type1/ndwi_12722.png', 'ndwi_12722.png'), ('/media/nkd/backup/5_lakemapping/sample600/patchesReshape/test/type1/ndwi_15346.png', 'ndwi_15346.png'), ('/media/nkd/backup/5_lakemapping/sample600/patchesReshape/test/type1/ndwi_11562.png', 'ndwi_11562.png'), ('/media/nkd/backup/5_lakemapping/sample600/patchesReshape/test/type1/ndwi_213.png', 'ndwi_213.png'), ('/media/nkd/backup/5_lakemapping/sample600/patchesReshape/test/type1/ndwi_85.png', 'ndwi_85.png'), ('/media/nkd/backup/5_lakemapping/sample600/patchesReshape/test/type1/ndwi_2107.png', 'ndwi_2107.png'), ('/media/nkd/backup/5_lakemapping/sample600/patchesReshape/test/type1/ndwi_13294.png', 'ndwi_13294.png'), ('/media/nkd/backup/5_lakemapping/sample600/patchesReshape/test/type1/ndwi_9169.png', 'ndwi_9169.png'), ('/media/nkd/backup/5_lakemapping/sample600/patchesReshape/test/type1/ndwi_1543.png', 'ndwi_1543.png'), ('/media/nkd/backup/5_lakemapping/sample600/patchesReshape/test/type1/ndwi_14500.png', 'ndwi_14500.png'), ('/media/nkd/backup/5_lakemapping/sample600/patchesReshape/test/type1/ndwi_10830.png', 'ndwi_10830.png'), ('/media/nkd/backup/5_lakemapping/sample600/patchesReshape/test/type1/ndwi_2913.png', 'ndwi_2913.png'), ('/media/nkd/backup/5_lakemapping/sample600/patchesReshape/test/type1/ndwi_13031.png', 'ndwi_13031.png'), ('/media/nkd/backup/5_lakemapping/sample600/patchesReshape/test/type1/ndwi_862.png', 'ndwi_862.png'), ('/media/nkd/backup/5_lakemapping/sample600/patchesReshape/test/type1/ndwi_13816.png', 'ndwi_13816.png'), ('/media/nkd/backup/5_lakemapping/sample600/patchesReshape/test/type1/ndwi_12072.png', 'ndwi_12072.png'), ('/media/nkd/backup/5_lakemapping/sample600/patchesReshape/test/type1/ndwi_9238.png', 'ndwi_9238.png'), ('/media/nkd/backup/5_lakemapping/sample600/patchesReshape/test/type1/ndwi_5771.png', 'ndwi_5771.png'), ('/media/nkd/backup/5_lakemapping/sample600/patchesReshape/test/type1/ndwi_1858.png', 'ndwi_1858.png'), ('/media/nkd/backup/5_lakemapping/sample600/patchesReshape/test/type1/ndwi_5237.png', 'ndwi_5237.png'), ('/media/nkd/backup/5_lakemapping/sample600/patchesReshape/test/type1/ndwi_9089.png', 'ndwi_9089.png'), ('/media/nkd/backup/5_lakemapping/sample600/patchesReshape/test/type1/ndwi_8966.png', 'ndwi_8966.png'), ('/media/nkd/backup/5_lakemapping/sample600/patchesReshape/test/type1/ndwi_8069.png', 'ndwi_8069.png'), ('/media/nkd/backup/5_lakemapping/sample600/patchesReshape/test/type1/ndwi_8671.png', 'ndwi_8671.png'), ('/media/nkd/backup/5_lakemapping/sample600/patchesReshape/test/type1/ndwi_14698.png', 'ndwi_14698.png'), ('/media/nkd/backup/5_lakemapping/sample600/patchesReshape/test/type1/ndwi_5041.png', 'ndwi_5041.png'), ('/media/nkd/backup/5_lakemapping/sample600/patchesReshape/test/type1/ndwi_8735.png', 'ndwi_8735.png'), ('/media/nkd/backup/5_lakemapping/sample600/patchesReshape/test/type1/ndwi_1638.png', 'ndwi_1638.png'), ('/media/nkd/backup/5_lakemapping/sample600/patchesReshape/test/type1/ndwi_12197.png', 'ndwi_12197.png'), ('/media/nkd/backup/5_lakemapping/sample600/patchesReshape/test/type1/ndwi_11581.png', 'ndwi_11581.png'), ('/media/nkd/backup/5_lakemapping/sample600/patchesReshape/test/type1/ndwi_14583.png', 'ndwi_14583.png'), ('/media/nkd/backup/5_lakemapping/sample600/patchesReshape/test/type1/ndwi_10493.png', 'ndwi_10493.png'), ('/media/nkd/backup/5_lakemapping/sample600/patchesReshape/test/type1/ndwi_12539.png', 'ndwi_12539.png'), ('/media/nkd/backup/5_lakemapping/sample600/patchesReshape/test/type1/ndwi_9211.png', 'ndwi_9211.png'), ('/media/nkd/backup/5_lakemapping/sample600/patchesReshape/test/type1/ndwi_56.png', 'ndwi_56.png'), ('/media/nkd/backup/5_lakemapping/sample600/patchesReshape/test/type2/ndwi_6226.png', 'ndwi_6226.png'), ('/media/nkd/backup/5_lakemapping/sample600/patchesReshape/test/type2/ndwi_10203.png', 'ndwi_10203.png'), ('/media/nkd/backup/5_lakemapping/sample600/patchesReshape/test/type2/ndwi_5053.png', 'ndwi_5053.png'), ('/media/nkd/backup/5_lakemapping/sample600/patchesReshape/test/type2/ndwi_10228.png', 'ndwi_10228.png'), ('/media/nkd/backup/5_lakemapping/sample600/patchesReshape/test/type2/ndwi_7906.png', 'ndwi_7906.png'), ('/media/nkd/backup/5_lakemapping/sample600/patchesReshape/test/type2/ndwi_5116.png', 'ndwi_5116.png'), ('/media/nkd/backup/5_lakemapping/sample600/patchesReshape/test/type2/ndwi_11234.png', 'ndwi_11234.png'), ('/media/nkd/backup/5_lakemapping/sample600/patchesReshape/test/type2/ndwi_3461.png', 'ndwi_3461.png'), ('/media/nkd/backup/5_lakemapping/sample600/patchesReshape/test/type2/ndwi_7084.png', 'ndwi_7084.png'), ('/media/nkd/backup/5_lakemapping/sample600/patchesReshape/test/type2/ndwi_3921.png', 'ndwi_3921.png'), ('/media/nkd/backup/5_lakemapping/sample600/patchesReshape/test/type2/ndwi_347.png', 'ndwi_347.png'), ('/media/nkd/backup/5_lakemapping/sample600/patchesReshape/test/type2/ndwi_3932.png', 'ndwi_3932.png'), ('/media/nkd/backup/5_lakemapping/sample600/patchesReshape/test/type2/ndwi_11238.png', 'ndwi_11238.png'), ('/media/nkd/backup/5_lakemapping/sample600/patchesReshape/test/type2/ndwi_6339.png', 'ndwi_6339.png'), ('/media/nkd/backup/5_lakemapping/sample600/patchesReshape/test/type2/ndwi_2929.png', 'ndwi_2929.png'), ('/media/nkd/backup/5_lakemapping/sample600/patchesReshape/test/type2/ndwi_10198.png', 'ndwi_10198.png'), ('/media/nkd/backup/5_lakemapping/sample600/patchesReshape/test/type2/ndwi_349.png', 'ndwi_349.png'), ('/media/nkd/backup/5_lakemapping/sample600/patchesReshape/test/type2/ndwi_13119.png', 'ndwi_13119.png'), ('/media/nkd/backup/5_lakemapping/sample600/patchesReshape/test/type3/ndwi_11932.png', 'ndwi_11932.png'), ('/media/nkd/backup/5_lakemapping/sample600/patchesReshape/test/type3/ndwi_11956.png', 'ndwi_11956.png'), ('/media/nkd/backup/5_lakemapping/sample600/patchesReshape/test/type3/ndwi_8242.png', 'ndwi_8242.png'), ('/media/nkd/backup/5_lakemapping/sample600/patchesReshape/test/type3/ndwi_15137.png', 'ndwi_15137.png'), ('/media/nkd/backup/5_lakemapping/sample600/patchesReshape/test/type3/ndwi_12793.png', 'ndwi_12793.png'), ('/media/nkd/backup/5_lakemapping/sample600/patchesReshape/test/type3/ndwi_11721.png', 'ndwi_11721.png'), ('/media/nkd/backup/5_lakemapping/sample600/patchesReshape/test/type3/ndwi_12104.png', 'ndwi_12104.png'), ('/media/nkd/backup/5_lakemapping/sample600/patchesReshape/test/type3/ndwi_8263.png', 'ndwi_8263.png'), ('/media/nkd/backup/5_lakemapping/sample600/patchesReshape/test/type3/ndwi_8629.png', 'ndwi_8629.png'), ('/media/nkd/backup/5_lakemapping/sample600/patchesReshape/test/type3/ndwi_7202.png', 'ndwi_7202.png'), ('/media/nkd/backup/5_lakemapping/sample600/patchesReshape/test/type3/ndwi_8331.png', 'ndwi_8331.png'), ('/media/nkd/backup/5_lakemapping/sample600/patchesReshape/test/type3/ndwi_15312.png', 'ndwi_15312.png'), ('/media/nkd/backup/5_lakemapping/sample600/patchesReshape/test/type3/ndwi_6013.png', 'ndwi_6013.png'), ('/media/nkd/backup/5_lakemapping/sample600/patchesReshape/test/type3/ndwi_11368.png', 'ndwi_11368.png'), ('/media/nkd/backup/5_lakemapping/sample600/patchesReshape/test/type3/ndwi_629.png', 'ndwi_629.png'), ('/media/nkd/backup/5_lakemapping/sample600/patchesReshape/test/type3/ndwi_12017.png', 'ndwi_12017.png'), ('/media/nkd/backup/5_lakemapping/sample600/patchesReshape/test/type4/ndwi_6752.png', 'ndwi_6752.png'), ('/media/nkd/backup/5_lakemapping/sample600/patchesReshape/test/type4/ndwi_5711.png', 'ndwi_5711.png'), ('/media/nkd/backup/5_lakemapping/sample600/patchesReshape/test/type4/ndwi_2155.png', 'ndwi_2155.png'), ('/media/nkd/backup/5_lakemapping/sample600/patchesReshape/test/type5/ndwi_4418.png', 'ndwi_4418.png'), ('/media/nkd/backup/5_lakemapping/sample600/patchesReshape/test/type5/ndwi_8904.png', 'ndwi_8904.png'), ('/media/nkd/backup/5_lakemapping/sample600/patchesReshape/test/type5/ndwi_2883.png', 'ndwi_2883.png'), ('/media/nkd/backup/5_lakemapping/sample600/patchesReshape/test/type5/ndwi_3194.png', 'ndwi_3194.png')]\n",
      "/media/nkd/backup/5_lakemapping/sample600/patchesReshape/test/type0/ndwi_11490.png\n",
      "the size of current NDWI_img 1552 2350\n"
     ]
    },
    {
     "name": "stderr",
     "output_type": "stream",
     "text": [
      "54it [00:02, 20.28it/s]\n"
     ]
    },
    {
     "name": "stdout",
     "output_type": "stream",
     "text": [
      "Converting prediction from float32 to uint8, using threshold of 0.5\n",
      "Vector File Exported Successfully!\n",
      "/media/nkd/backup/5_lakemapping/sample600/patchesReshape/test/type0/ndwi_3922.png\n",
      "the size of current NDWI_img 2015 2032\n"
     ]
    },
    {
     "name": "stderr",
     "output_type": "stream",
     "text": [
      "49it [00:02, 19.28it/s]\n"
     ]
    },
    {
     "name": "stdout",
     "output_type": "stream",
     "text": [
      "Converting prediction from float32 to uint8, using threshold of 0.5\n",
      "Vector File Exported Successfully!\n",
      "/media/nkd/backup/5_lakemapping/sample600/patchesReshape/test/type0/ndwi_6723.png\n",
      "the size of current NDWI_img 2217 4747\n"
     ]
    },
    {
     "name": "stderr",
     "output_type": "stream",
     "text": [
      "144it [00:07, 18.55it/s]\n"
     ]
    },
    {
     "name": "stdout",
     "output_type": "stream",
     "text": [
      "Converting prediction from float32 to uint8, using threshold of 0.5\n",
      "Vector File Exported Successfully!\n",
      "/media/nkd/backup/5_lakemapping/sample600/patchesReshape/test/type0/ndwi_6485.png\n",
      "the size of current NDWI_img 2147 2551\n"
     ]
    },
    {
     "name": "stderr",
     "output_type": "stream",
     "text": [
      "72it [00:03, 18.96it/s]\n"
     ]
    },
    {
     "name": "stdout",
     "output_type": "stream",
     "text": [
      "Converting prediction from float32 to uint8, using threshold of 0.5\n",
      "Vector File Exported Successfully!\n",
      "/media/nkd/backup/5_lakemapping/sample600/patchesReshape/test/type0/ndwi_343.png\n",
      "the size of current NDWI_img 2490 1842\n"
     ]
    },
    {
     "name": "stderr",
     "output_type": "stream",
     "text": [
      "63it [00:02, 21.74it/s]\n"
     ]
    },
    {
     "name": "stdout",
     "output_type": "stream",
     "text": [
      "Converting prediction from float32 to uint8, using threshold of 0.5\n",
      "Vector File Exported Successfully!\n",
      "/media/nkd/backup/5_lakemapping/sample600/patchesReshape/test/type0/ndwi_9080.png\n",
      "the size of current NDWI_img 2116 3178\n"
     ]
    },
    {
     "name": "stderr",
     "output_type": "stream",
     "text": [
      "96it [00:05, 18.06it/s]\n"
     ]
    },
    {
     "name": "stdout",
     "output_type": "stream",
     "text": [
      "Converting prediction from float32 to uint8, using threshold of 0.5\n",
      "Vector File Exported Successfully!\n",
      "/media/nkd/backup/5_lakemapping/sample600/patchesReshape/test/type0/ndwi_1727.png\n",
      "the size of current NDWI_img 2611 1695\n"
     ]
    },
    {
     "name": "stderr",
     "output_type": "stream",
     "text": [
      "60it [00:02, 21.96it/s]\n"
     ]
    },
    {
     "name": "stdout",
     "output_type": "stream",
     "text": [
      "Converting prediction from float32 to uint8, using threshold of 0.5\n",
      "Vector File Exported Successfully!\n",
      "/media/nkd/backup/5_lakemapping/sample600/patchesReshape/test/type0/ndwi_5085.png\n",
      "the size of current NDWI_img 1888 2021\n"
     ]
    },
    {
     "name": "stderr",
     "output_type": "stream",
     "text": [
      "49it [00:02, 20.84it/s]\n"
     ]
    },
    {
     "name": "stdout",
     "output_type": "stream",
     "text": [
      "Converting prediction from float32 to uint8, using threshold of 0.5\n",
      "Vector File Exported Successfully!\n",
      "/media/nkd/backup/5_lakemapping/sample600/patchesReshape/test/type0/ndwi_178.png\n",
      "the size of current NDWI_img 1065 1878\n"
     ]
    },
    {
     "name": "stderr",
     "output_type": "stream",
     "text": [
      "28it [00:01, 27.95it/s]\n"
     ]
    },
    {
     "name": "stdout",
     "output_type": "stream",
     "text": [
      "Converting prediction from float32 to uint8, using threshold of 0.5\n",
      "Vector File Exported Successfully!\n",
      "/media/nkd/backup/5_lakemapping/sample600/patchesReshape/test/type0/ndwi_13251.png\n",
      "the size of current NDWI_img 1657 1771\n"
     ]
    },
    {
     "name": "stderr",
     "output_type": "stream",
     "text": [
      "36it [00:01, 18.24it/s]\n"
     ]
    },
    {
     "name": "stdout",
     "output_type": "stream",
     "text": [
      "Converting prediction from float32 to uint8, using threshold of 0.5\n",
      "Vector File Exported Successfully!\n",
      "/media/nkd/backup/5_lakemapping/sample600/patchesReshape/test/type0/ndwi_9010.png\n",
      "the size of current NDWI_img 2010 2010\n"
     ]
    },
    {
     "name": "stderr",
     "output_type": "stream",
     "text": [
      "49it [00:02, 19.63it/s]\n"
     ]
    },
    {
     "name": "stdout",
     "output_type": "stream",
     "text": [
      "Converting prediction from float32 to uint8, using threshold of 0.5\n",
      "Vector File Exported Successfully!\n",
      "/media/nkd/backup/5_lakemapping/sample600/patchesReshape/test/type0/ndwi_8960.png\n",
      "the size of current NDWI_img 2121 3356\n"
     ]
    },
    {
     "name": "stderr",
     "output_type": "stream",
     "text": [
      "104it [00:05, 19.60it/s]\n"
     ]
    },
    {
     "name": "stdout",
     "output_type": "stream",
     "text": [
      "Converting prediction from float32 to uint8, using threshold of 0.5\n",
      "Vector File Exported Successfully!\n",
      "/media/nkd/backup/5_lakemapping/sample600/patchesReshape/test/type0/ndwi_9921.png\n",
      "the size of current NDWI_img 1554 1239\n"
     ]
    },
    {
     "name": "stderr",
     "output_type": "stream",
     "text": [
      "24it [00:00, 27.58it/s]\n"
     ]
    },
    {
     "name": "stdout",
     "output_type": "stream",
     "text": [
      "Converting prediction from float32 to uint8, using threshold of 0.5\n",
      "Vector File Exported Successfully!\n",
      "/media/nkd/backup/5_lakemapping/sample600/patchesReshape/test/type0/ndwi_13554.png\n",
      "the size of current NDWI_img 3306 3593\n"
     ]
    },
    {
     "name": "stderr",
     "output_type": "stream",
     "text": [
      "168it [00:08, 19.39it/s]\n"
     ]
    },
    {
     "name": "stdout",
     "output_type": "stream",
     "text": [
      "Converting prediction from float32 to uint8, using threshold of 0.5\n",
      "Vector File Exported Successfully!\n",
      "/media/nkd/backup/5_lakemapping/sample600/patchesReshape/test/type0/ndwi_1712.png\n",
      "the size of current NDWI_img 1641 1372\n"
     ]
    },
    {
     "name": "stderr",
     "output_type": "stream",
     "text": [
      "30it [00:01, 28.79it/s]\n"
     ]
    },
    {
     "name": "stdout",
     "output_type": "stream",
     "text": [
      "Converting prediction from float32 to uint8, using threshold of 0.5\n",
      "Vector File Exported Successfully!\n",
      "/media/nkd/backup/5_lakemapping/sample600/patchesReshape/test/type0/ndwi_3444.png\n",
      "the size of current NDWI_img 2642 2555\n"
     ]
    },
    {
     "name": "stderr",
     "output_type": "stream",
     "text": [
      "90it [00:04, 20.93it/s]\n"
     ]
    },
    {
     "name": "stdout",
     "output_type": "stream",
     "text": [
      "Converting prediction from float32 to uint8, using threshold of 0.5\n",
      "Vector File Exported Successfully!\n",
      "/media/nkd/backup/5_lakemapping/sample600/patchesReshape/test/type0/ndwi_14735.png\n",
      "the size of current NDWI_img 2141 4451\n"
     ]
    },
    {
     "name": "stderr",
     "output_type": "stream",
     "text": [
      "136it [00:07, 19.09it/s]\n"
     ]
    },
    {
     "name": "stdout",
     "output_type": "stream",
     "text": [
      "Converting prediction from float32 to uint8, using threshold of 0.5\n",
      "Vector File Exported Successfully!\n",
      "/media/nkd/backup/5_lakemapping/sample600/patchesReshape/test/type0/ndwi_12312.png\n",
      "the size of current NDWI_img 2594 4328\n"
     ]
    },
    {
     "name": "stderr",
     "output_type": "stream",
     "text": [
      "160it [00:08, 18.40it/s]\n"
     ]
    },
    {
     "name": "stdout",
     "output_type": "stream",
     "text": [
      "Converting prediction from float32 to uint8, using threshold of 0.5\n",
      "Vector File Exported Successfully!\n",
      "/media/nkd/backup/5_lakemapping/sample600/patchesReshape/test/type0/ndwi_2320.png\n",
      "the size of current NDWI_img 1225 2425\n"
     ]
    },
    {
     "name": "stderr",
     "output_type": "stream",
     "text": [
      "36it [00:01, 19.73it/s]\n"
     ]
    },
    {
     "name": "stdout",
     "output_type": "stream",
     "text": [
      "Converting prediction from float32 to uint8, using threshold of 0.5\n",
      "Vector File Exported Successfully!\n",
      "/media/nkd/backup/5_lakemapping/sample600/patchesReshape/test/type0/ndwi_13362.png\n",
      "the size of current NDWI_img 2033 3375\n"
     ]
    },
    {
     "name": "stderr",
     "output_type": "stream",
     "text": [
      "91it [00:04, 20.64it/s]\n"
     ]
    },
    {
     "name": "stdout",
     "output_type": "stream",
     "text": [
      "Converting prediction from float32 to uint8, using threshold of 0.5\n",
      "Vector File Exported Successfully!\n",
      "/media/nkd/backup/5_lakemapping/sample600/patchesReshape/test/type0/ndwi_9044.png\n",
      "the size of current NDWI_img 2130 4204\n"
     ]
    },
    {
     "name": "stderr",
     "output_type": "stream",
     "text": [
      "128it [00:06, 18.68it/s]\n"
     ]
    },
    {
     "name": "stdout",
     "output_type": "stream",
     "text": [
      "Converting prediction from float32 to uint8, using threshold of 0.5\n",
      "Vector File Exported Successfully!\n",
      "/media/nkd/backup/5_lakemapping/sample600/patchesReshape/test/type0/ndwi_3272.png\n",
      "the size of current NDWI_img 3108 4185\n"
     ]
    },
    {
     "name": "stderr",
     "output_type": "stream",
     "text": [
      "192it [00:10, 18.16it/s]\n"
     ]
    },
    {
     "name": "stdout",
     "output_type": "stream",
     "text": [
      "Converting prediction from float32 to uint8, using threshold of 0.5\n",
      "Vector File Exported Successfully!\n",
      "/media/nkd/backup/5_lakemapping/sample600/patchesReshape/test/type0/ndwi_6305.png\n",
      "the size of current NDWI_img 5794 4961\n"
     ]
    },
    {
     "name": "stderr",
     "output_type": "stream",
     "text": [
      "151it [00:07, 25.11it/s]"
     ]
    }
   ],
   "source": [
    "# Predict trees in the all the files in the input image dir \n",
    "# Depending upon the available RAM, images may not to be split before running this cell.\n",
    "# Use the Auxiliary-2-SplitRasterToAnalyse if the images are too big to be analysed in memory.\n",
    "all_files = []\n",
    "\n",
    "# for root, dirs, files in os.walk(config.input_image_dir):\n",
    "#     for file in files:\n",
    "#         if file.endswith(config.input_image_type)and file.startswith(config.ndwi_fn_st):\n",
    "#              all_files.append((os.path.join(root, file), file))\n",
    "\n",
    "for i in range(0,config.type_num):\n",
    "    for root, dirs, files in os.walk(os.path.join(config.input_image_dir,'test/type{}'.format(i))):\n",
    "        for file in files:\n",
    "            if file.endswith(config.input_image_type)and file.startswith(config.ndwi_fn_st):\n",
    "                 all_files.append((os.path.join(root, file), file))\n",
    "print(all_files)\n",
    "                                     \n",
    "operator='max'\n",
    "suffix='_iew{}'.format(config.ignore_edge_width)\n",
    "for fullPath, filename in all_files:\n",
    "    output = filename.replace(config.input_image_type,config.output_image_type)\n",
    "    outputFile = os.path.join(config.output_dir, 'test/'+output.replace(config.ndwi_fn_st, config.output_prefix + operator + suffix))\n",
    "    if not os.path.isfile(outputFile) or config.overwrite_analysed_files:\n",
    "        with rasterio.open(fullPath) as NDWI:\n",
    "            print(fullPath)\n",
    "            detectedMask, detectedMeta = detect_lake(fullPath,NDWI,operator,width = config.WIDTH, height = config.HEIGHT, stride = config.STRIDE,ie_width=config.ignore_edge_width,bandNum=config.band_num)\n",
    "            writeMaskToDisk(detectedMask, detectedMeta, outputFile, write_as_type = config.output_dtype, th = 0.5, create_countors = False) \n",
    "            vecter_path =outputFile.replace('tif','shp')\n",
    "            field_name = \"class\"\n",
    "#            第0类删除,若实际情况不需要1类和2类,则ignore_values = [1,2]\n",
    "            ignore_values = [0]\n",
    "            raster2vector(outputFile, vecter_path, field_name=field_name, ignore_values = ignore_values)#, ignore_values = ignore_values\n",
    "    else:\n",
    "        print('File already analysed!', fullPath)\n",
    "        \n",
    "print('finish')"
   ]
  },
  {
   "cell_type": "code",
   "execution_count": null,
   "metadata": {},
   "outputs": [],
   "source": []
  }
 ],
 "metadata": {
  "kernelspec": {
   "display_name": "hbh_env",
   "language": "python",
   "name": "hbh_env"
  },
  "language_info": {
   "codemirror_mode": {
    "name": "ipython",
    "version": 3
   },
   "file_extension": ".py",
   "mimetype": "text/x-python",
   "name": "python",
   "nbconvert_exporter": "python",
   "pygments_lexer": "ipython3",
   "version": "3.8.13"
  }
 },
 "nbformat": 4,
 "nbformat_minor": 4
}
