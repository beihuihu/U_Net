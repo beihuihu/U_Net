{
 "cells": [
  {
   "cell_type": "code",
   "execution_count": 10,
   "metadata": {},
   "outputs": [
    {
     "name": "stdout",
     "output_type": "stream",
     "text": [
      "2.5.0-rc3\n"
     ]
    }
   ],
   "source": [
    "from tensorflow.keras.models import load_model\n",
    "import geopandas as gps\n",
    "import rasterio                  # I/O raster data (netcdf, height, geotiff, ...)\n",
    "import rasterio.warp             # Reproject raster samples\n",
    "from rasterio import windows\n",
    "from rasterio import features\n",
    "import fiona                     # I/O vector data (shape, geojson, ...)\n",
    "import pyproj                    # Change coordinate reference system\n",
    "from osgeo import gdal, ogr, osr\n",
    "import pandas as pd\n",
    "import shapely\n",
    "from shapely.geometry import Point, Polygon\n",
    "from shapely.geometry import mapping, shape\n",
    "import cv2\n",
    "import json\n",
    "import geopandas as gpd\n",
    "import numpy as np               # numerical array manipulation\n",
    "import pandas as pd\n",
    "import os\n",
    "os.environ[\"CUDA_VISIBLE_DEVICES\"] = \"1\"\n",
    "from tqdm import tqdm\n",
    "from PIL import Image\n",
    "import PIL.ImageDraw\n",
    "\n",
    "from itertools import product\n",
    "\n",
    "import sys\n",
    "from core.UNet import UNet\n",
    "from core.losses import tversky, focalTversky, bce_dice_loss, accuracy, dice_loss, IoU, recall, precision\n",
    "from core.optimizers import adaDelta, adagrad, adam, nadam\n",
    "from core.visualize import display_images\n",
    "# from core.dataset_generator import DataGenerator\n",
    "\n",
    "import matplotlib.pyplot as plt  # plotting tools\n",
    "%matplotlib inline\n",
    "import warnings                  # ignore annoying warnings\n",
    "warnings.filterwarnings(\"ignore\")\n",
    "import logging\n",
    "logger = logging.getLogger()\n",
    "logger.setLevel(logging.CRITICAL)\n",
    "\n",
    "%reload_ext autoreload\n",
    "%autoreload 2\n",
    "from IPython.core.interactiveshell import InteractiveShell\n",
    "InteractiveShell.ast_node_interactivity = \"all\"\n",
    "\n",
    "os.environ['TF_ENABLE_AUTO_MIXED_PRECISION'] = '1'\n",
    "import tensorflow as tf\n",
    "print(tf.__version__)"
   ]
  },
  {
   "cell_type": "code",
   "execution_count": 11,
   "metadata": {},
   "outputs": [],
   "source": [
    "from tensorflow.compat.v1 import ConfigProto\n",
    "from tensorflow.compat.v1 import InteractiveSession\n",
    "\n",
    "config = ConfigProto(\n",
    "    #device_count={\"CPU\": 64},\n",
    "    allow_soft_placement=True, \n",
    "    log_device_placement=False)\n",
    "config.gpu_options.allow_growth = True\n",
    "session = InteractiveSession(config=config)"
   ]
  },
  {
   "cell_type": "code",
   "execution_count": 21,
   "metadata": {},
   "outputs": [
    {
     "name": "stdout",
     "output_type": "stream",
     "text": [
      "self.trained_model_path: D:\\sample250\\U-Net_13\\saved_models\\UNet\\lakes_20230818-2031_AdaDelta_dice_loss_b5_012345_512.h5\n"
     ]
    }
   ],
   "source": [
    "# Required configurations (including the input and output paths) are stored in a separate file (such as config/RasterAnalysis.py)\n",
    "# Please provide required info in the file before continuing with this notebook. \n",
    " \n",
    "from config import RasterAnalysis\n",
    "# In case you are using a different folder name such as configLargeCluster, then you should import from the respective folder \n",
    "# Eg. from configLargeCluster import RasterAnalysis\n",
    "config = RasterAnalysis.Configuration()"
   ]
  },
  {
   "cell_type": "code",
   "execution_count": 14,
   "metadata": {},
   "outputs": [],
   "source": [
    "# Load a pretrained model \n",
    "OPTIMIZER = adaDelta\n",
    "# OPTIMIZER = adam\n",
    "OPTIMIZER=tf.train.experimental.enable_mixed_precision_graph_rewrite(OPTIMIZER)\n",
    "model = load_model(config.trained_model_path, custom_objects={'dice loss': dice_loss, 'accuracy':accuracy ,'recall':recall, 'precision':precision,'IoU': IoU}, compile=False)\n",
    "model.compile(optimizer=OPTIMIZER, loss=dice_loss, metrics=[dice_loss, accuracy,recall, precision, IoU])"
   ]
  },
  {
   "cell_type": "code",
   "execution_count": 15,
   "metadata": {},
   "outputs": [],
   "source": [
    "# Methods to add results of a patch   to    the total results of a larger area. \n",
    "#The operator could be min (useful if there are too many false positives), max (useful for tackle false negatives)\n",
    "#res:mask [rows,cols] predition=np.squeeze(prediction[i], axis = -1) (col, row, wi, he) = batch_pos[i]\n",
    "def addTOResult(res, prediction, row, col, he, wi,operator,padding):\n",
    "    currValue = res[row:row+he, col:col+wi]\n",
    "    newPredictions = prediction[:he, :wi]\n",
    "# IMPORTANT: MIN can't be used as long as the mask is initialed with 0!!!!! \n",
    "#If you want to use MIN initial the mask with -1 and handle the case of default value(-1) separately.\n",
    "    if operator == 'min': # Takes the min of current prediction and new prediction for each pixel  \n",
    "        currValue [currValue == -1] = 1 #Replace -1 with 1 in case of MIN  \n",
    "        res[row:row+he, col:col+wi] =  np.minimum(currValue, newPredictions)\n",
    "    elif operator == 'max':\n",
    "        res[row:row+he, col:col+wi] = np.maximum(currValue, newPredictions)\n",
    "    elif operator == 'padding':\n",
    "        newPredictions = newPredictions[padding:he-padding, padding:wi-padding]\n",
    "        res[row+padding:row+he-padding, col+padding:col+wi-padding] =newPredictions\n",
    "    else:\n",
    "        res[row:row+he, col:col+wi] = newPredictions  \n",
    "    return (res)"
   ]
  },
  {
   "cell_type": "code",
   "execution_count": 16,
   "metadata": {},
   "outputs": [],
   "source": [
    "def readBands(fn,window):\n",
    "    img=rasterio.open(fn)\n",
    "    im=img.read(window=window)/1000\n",
    "    return im\n",
    "\n",
    "# Methods that actually makes the predictions\n",
    "def predict_using_model(model, batch, batch_pos, mask,operator,padding):\n",
    "#     print(batch)\n",
    "    tm = np.stack(batch, axis = 0)\n",
    "#     print(tm)\n",
    "    prediction = model.predict(tm)\n",
    "    for i in range(len(batch_pos)): \n",
    "        (col, row, wi, he) = batch_pos[i]\n",
    "        p = np.squeeze(prediction[i], axis = -1)\n",
    "        # Instead of replacing the current values with new values, use the user specified operator (MIN,MAX,REPLACE)\n",
    "        mask = addTOResult(mask, p, row, col, he, wi,operator,padding)  \n",
    "    return mask\n",
    "    \n",
    "def detect_lake(fullPath,NDWI_img,operator, width=512, height=512, stride = 256,padding=100):\n",
    "    nols, nrows = NDWI_img.meta['width'], NDWI_img.meta['height']\n",
    "    meta = NDWI_img.meta.copy() \n",
    "    if 'float' not in meta['dtype']: #The prediction is a float so we keep it as float to be consistent with the prediction. \n",
    "        meta['dtype'] = np.float32\n",
    "    col_index=list(range(0, nols-width, stride))\n",
    "    col_index.append(nols-width)\n",
    "    row_index=list(range(0, nrows-height, stride))\n",
    "    row_index.append(nrows-height)\n",
    "    offsets = product(col_index,row_index)\n",
    "    big_window = windows.Window(col_off=0, row_off=0, width=nols, height=nrows)\n",
    "    print('the size of current NDWI_img',nrows, nols) \n",
    "\n",
    "    mask = np.zeros((nrows, nols), dtype=meta['dtype'])\n",
    "\n",
    "#     mask = mask -1   # Note: The initial mask is initialized with -1 instead of zero   to handle the MIN case (see addToResult)\n",
    "    batch = []\n",
    "    batch_pos = [ ]\n",
    "    for col_off, row_off in  tqdm(offsets):\n",
    "        window =windows.Window(col_off=col_off, row_off=row_off, width=width, height=height).intersection(big_window)\n",
    "        transform = windows.transform(window, NDWI_img.transform) \n",
    "#         hbh:notice datatype is float\n",
    "        patch = np.full((height, width, 5),-1.0)#Add -1 padding in case of corner images\n",
    "    \n",
    "        read_NDWI_img=NDWI_img.read(window=window)/100\n",
    "        read_red_img =readBands(fullPath.replace(config.ndwi_fn_st ,config.red_fn_st),window)\n",
    "        read_green_img =readBands(fullPath.replace(config.ndwi_fn_st ,config.green_fn_st),window)\n",
    "        read_blue_img = readBands(fullPath.replace(config.ndwi_fn_st ,config.blue_fn_st),window)\n",
    "        read_swir_img = readBands(fullPath.replace(config.ndwi_fn_st ,config.swir_fn_st),window)\n",
    "        temp_im =  np.concatenate((read_NDWI_img,read_red_img,read_green_img,read_blue_img, read_swir_img), axis=0)\n",
    "        temp_im =  np.transpose(temp_im, axes=(1,2,0))\n",
    "        patch[:window.height, :window.width] = temp_im   \n",
    "        \n",
    "        batch.append(patch)\n",
    "        batch_pos.append((window.col_off, window.row_off, window.width, window.height))\n",
    "        if (len(batch) == config.BATCH_SIZE):\n",
    "            mask = predict_using_model(model, batch, batch_pos, mask,operator,padding)\n",
    "            batch = []\n",
    "            batch_pos = []\n",
    "            \n",
    "    # To handle the edge of images as the image size may not be divisible by n complete batches and few frames on the edge may be left.\n",
    "    if batch:\n",
    "        mask = predict_using_model(model, batch, batch_pos, mask,operator,padding)\n",
    "        batch = []\n",
    "        batch_pos = []\n",
    "\n",
    "    return(mask, meta)"
   ]
  },
  {
   "cell_type": "code",
   "execution_count": 17,
   "metadata": {},
   "outputs": [],
   "source": [
    "def raster2vector(raster_path, vecter_path, field_name=\"class\", ignore_values = None):\n",
    "    \n",
    "    # 读取路径中的栅格数据\n",
    "    raster = gdal.Open(raster_path)\n",
    "    # in_band 为想要转为矢量的波段,一般需要进行转矢量的栅格都是单波段分类结果\n",
    "    # 若栅格为多波段,需要提前转换为单波段\n",
    "    band = raster.GetRasterBand(1)\n",
    "    \n",
    "    # 读取栅格的投影信息,为后面生成的矢量赋予相同的投影信息\n",
    "    prj = osr.SpatialReference()\n",
    "    prj.ImportFromWkt(raster.GetProjection())\n",
    "    \n",
    "    \n",
    "    drv = ogr.GetDriverByName(\"ESRI Shapefile\")\n",
    "    # 若文件已经存在,删除\n",
    "    if os.path.exists(vecter_path):\n",
    "        drv.DeleteDataSource(vecter_path)\n",
    "        \n",
    "    # 创建目标文件\n",
    "    polygon = drv.CreateDataSource(vecter_path)\n",
    "    # 创建面图层\n",
    "    poly_layer = polygon.CreateLayer(vecter_path[:-4], srs=prj, geom_type=ogr.wkbMultiPolygon)\n",
    "    # 添加浮点型字段,用来存储栅格的像素值\n",
    "    field = ogr.FieldDefn(field_name, ogr.OFTReal)  \n",
    "    poly_layer.CreateField(field)\n",
    "    \n",
    "    # FPolygonize将每个像元转成一个矩形，然后将相似的像元进行合并\n",
    "    # 设置矢量图层中保存像元值的字段序号为0\n",
    "    gdal.FPolygonize(band, None, poly_layer, 0)\n",
    "    \n",
    "    # 删除ignore_value链表中的类别要素\n",
    "    if ignore_values is not None:\n",
    "        for feature in poly_layer:\n",
    "            class_value = feature.GetField('class')\n",
    "            for ignore_value in ignore_values:\n",
    "                if class_value==ignore_value:\n",
    "                    # 通过FID删除要素\n",
    "                    poly_layer.DeleteFeature(feature.GetFID())\n",
    "                    break\n",
    "                \n",
    "    polygon.SyncToDisk()\n",
    "    polygon = None\n",
    "    print('Vector File Exported Successfully!')\n",
    "        \n",
    "def writeMaskToDisk(detected_mask, detected_meta, wp, write_as_type = 'uint8', th = 0.5, create_countors = False):\n",
    "    # Convert to correct required before writing\n",
    "    if 'float' in str(detected_meta['dtype']) and 'int' in write_as_type:\n",
    "        print(f'Converting prediction from {detected_meta[\"dtype\"]} to {write_as_type}, using threshold of {th}')#float32 to uint8\n",
    "#         initial code have problem of big lake\n",
    "        detected_mask[detected_mask<th]=0\n",
    "        detected_mask[detected_mask>=th]=1\n",
    "        detected_mask = detected_mask.astype(write_as_type)#'uint8'\n",
    "        detected_meta['dtype'] =  write_as_type\n",
    "    \n",
    "    # compress tif\n",
    "    detected_meta.update({\"compress\": 'lzw'})\n",
    "    \n",
    "    with rasterio.open(wp, 'w', **detected_meta) as outds:\n",
    "        outds.write(detected_mask, 1)"
   ]
  },
  {
   "cell_type": "code",
   "execution_count": 22,
   "metadata": {
    "scrolled": true
   },
   "outputs": [
    {
     "name": "stderr",
     "output_type": "stream",
     "text": [
      "1it [00:00,  6.73it/s]"
     ]
    },
    {
     "name": "stdout",
     "output_type": "stream",
     "text": [
      "[('D:\\\\sample250\\\\test_png\\\\ndwi_178.png', 'ndwi_178.png'), ('D:\\\\sample250\\\\test_png\\\\ndwi_24.png', 'ndwi_24.png'), ('D:\\\\sample250\\\\test_png\\\\ndwi_26.png', 'ndwi_26.png'), ('D:\\\\sample250\\\\test_png\\\\ndwi_29.png', 'ndwi_29.png'), ('D:\\\\sample250\\\\test_png\\\\ndwi_35.png', 'ndwi_35.png'), ('D:\\\\sample250\\\\test_png\\\\ndwi_41.png', 'ndwi_41.png'), ('D:\\\\sample250\\\\test_png\\\\ndwi_103.png', 'ndwi_103.png'), ('D:\\\\sample250\\\\test_png\\\\ndwi_152.png', 'ndwi_152.png'), ('D:\\\\sample250\\\\test_png\\\\ndwi_156.png', 'ndwi_156.png'), ('D:\\\\sample250\\\\test_png\\\\ndwi_165.png', 'ndwi_165.png'), ('D:\\\\sample250\\\\test_png\\\\ndwi_168.png', 'ndwi_168.png'), ('D:\\\\sample250\\\\test_png\\\\ndwi_181.png', 'ndwi_181.png'), ('D:\\\\sample250\\\\test_png\\\\ndwi_188.png', 'ndwi_188.png'), ('D:\\\\sample250\\\\test_png\\\\ndwi_196.png', 'ndwi_196.png'), ('D:\\\\sample250\\\\test_png\\\\ndwi_202.png', 'ndwi_202.png'), ('D:\\\\sample250\\\\test_png\\\\ndwi_0.png', 'ndwi_0.png'), ('D:\\\\sample250\\\\test_png\\\\ndwi_15.png', 'ndwi_15.png'), ('D:\\\\sample250\\\\test_png\\\\ndwi_32.png', 'ndwi_32.png'), ('D:\\\\sample250\\\\test_png\\\\ndwi_60.png', 'ndwi_60.png'), ('D:\\\\sample250\\\\test_png\\\\ndwi_64.png', 'ndwi_64.png'), ('D:\\\\sample250\\\\test_png\\\\ndwi_74.png', 'ndwi_74.png'), ('D:\\\\sample250\\\\test_png\\\\ndwi_77.png', 'ndwi_77.png'), ('D:\\\\sample250\\\\test_png\\\\ndwi_83.png', 'ndwi_83.png'), ('D:\\\\sample250\\\\test_png\\\\ndwi_89.png', 'ndwi_89.png'), ('D:\\\\sample250\\\\test_png\\\\ndwi_108.png', 'ndwi_108.png'), ('D:\\\\sample250\\\\test_png\\\\ndwi_116.png', 'ndwi_116.png'), ('D:\\\\sample250\\\\test_png\\\\ndwi_119.png', 'ndwi_119.png'), ('D:\\\\sample250\\\\test_png\\\\ndwi_120.png', 'ndwi_120.png'), ('D:\\\\sample250\\\\test_png\\\\ndwi_143.png', 'ndwi_143.png'), ('D:\\\\sample250\\\\test_png\\\\ndwi_27.png', 'ndwi_27.png'), ('D:\\\\sample250\\\\test_png\\\\ndwi_131.png', 'ndwi_131.png'), ('D:\\\\sample250\\\\test_png\\\\ndwi_164.png', 'ndwi_164.png'), ('D:\\\\sample250\\\\test_png\\\\ndwi_175.png', 'ndwi_175.png'), ('D:\\\\sample250\\\\test_png\\\\ndwi_205.png', 'ndwi_205.png'), ('D:\\\\sample250\\\\test_png\\\\ndwi_53.png', 'ndwi_53.png'), ('D:\\\\sample250\\\\test_png\\\\ndwi_115.png', 'ndwi_115.png'), ('D:\\\\sample250\\\\test_png\\\\ndwi_206.png', 'ndwi_206.png'), ('D:\\\\sample250\\\\test_png\\\\ndwi_219.png', 'ndwi_219.png'), ('D:\\\\sample250\\\\test_png\\\\ndwi_226.png', 'ndwi_226.png'), ('D:\\\\sample250\\\\test_png\\\\ndwi_228.png', 'ndwi_228.png'), ('D:\\\\sample250\\\\test_png\\\\ndwi_230.png', 'ndwi_230.png'), ('D:\\\\sample250\\\\test_png\\\\ndwi_235.png', 'ndwi_235.png'), ('D:\\\\sample250\\\\test_png\\\\ndwi_239.png', 'ndwi_239.png'), ('D:\\\\sample250\\\\test_png\\\\ndwi_242.png', 'ndwi_242.png'), ('D:\\\\sample250\\\\test_png\\\\ndwi_243.png', 'ndwi_243.png'), ('D:\\\\sample250\\\\test_png\\\\test\\\\ndwi_0.png', 'ndwi_0.png')]\n",
      "D:\\sample250\\test_png\\ndwi_178.png\n",
      "the size of current NDWI_img 1119 1413\n"
     ]
    },
    {
     "name": "stderr",
     "output_type": "stream",
     "text": [
      "20it [00:04,  4.29it/s]\n",
      "0it [00:00, ?it/s]"
     ]
    },
    {
     "name": "stdout",
     "output_type": "stream",
     "text": [
      "Converting prediction from float32 to uint8, using threshold of 0.5\n",
      "D:\\sample250\\test_png\\ndwi_24.png\n",
      "the size of current NDWI_img 926 1624\n"
     ]
    },
    {
     "name": "stderr",
     "output_type": "stream",
     "text": [
      "18it [00:04,  3.78it/s]\n",
      "0it [00:00, ?it/s]"
     ]
    },
    {
     "name": "stdout",
     "output_type": "stream",
     "text": [
      "Converting prediction from float32 to uint8, using threshold of 0.5\n",
      "D:\\sample250\\test_png\\ndwi_26.png\n",
      "the size of current NDWI_img 2081 1769\n"
     ]
    },
    {
     "name": "stderr",
     "output_type": "stream",
     "text": [
      "48it [00:12,  3.80it/s]\n",
      "0it [00:00, ?it/s]"
     ]
    },
    {
     "name": "stdout",
     "output_type": "stream",
     "text": [
      "Converting prediction from float32 to uint8, using threshold of 0.5\n",
      "D:\\sample250\\test_png\\ndwi_29.png\n",
      "the size of current NDWI_img 1289 1289\n"
     ]
    },
    {
     "name": "stderr",
     "output_type": "stream",
     "text": [
      "25it [00:05,  4.58it/s]\n",
      "0it [00:00, ?it/s]"
     ]
    },
    {
     "name": "stdout",
     "output_type": "stream",
     "text": [
      "Converting prediction from float32 to uint8, using threshold of 0.5\n",
      "D:\\sample250\\test_png\\ndwi_35.png\n",
      "the size of current NDWI_img 1434 1967\n"
     ]
    },
    {
     "name": "stderr",
     "output_type": "stream",
     "text": [
      "35it [00:08,  4.06it/s]\n",
      "0it [00:00, ?it/s]"
     ]
    },
    {
     "name": "stdout",
     "output_type": "stream",
     "text": [
      "Converting prediction from float32 to uint8, using threshold of 0.5\n",
      "D:\\sample250\\test_png\\ndwi_41.png\n",
      "the size of current NDWI_img 2698 3010\n"
     ]
    },
    {
     "name": "stderr",
     "output_type": "stream",
     "text": [
      "110it [00:27,  3.99it/s]\n",
      "0it [00:00, ?it/s]"
     ]
    },
    {
     "name": "stdout",
     "output_type": "stream",
     "text": [
      "Converting prediction from float32 to uint8, using threshold of 0.5\n",
      "D:\\sample250\\test_png\\ndwi_103.png\n",
      "the size of current NDWI_img 2362 2028\n"
     ]
    },
    {
     "name": "stderr",
     "output_type": "stream",
     "text": [
      "63it [00:15,  4.16it/s]\n",
      "0it [00:00, ?it/s]"
     ]
    },
    {
     "name": "stdout",
     "output_type": "stream",
     "text": [
      "Converting prediction from float32 to uint8, using threshold of 0.5\n",
      "D:\\sample250\\test_png\\ndwi_152.png\n",
      "the size of current NDWI_img 4544 3739\n"
     ]
    },
    {
     "name": "stderr",
     "output_type": "stream",
     "text": [
      "238it [01:02,  3.79it/s]\n"
     ]
    },
    {
     "name": "stdout",
     "output_type": "stream",
     "text": [
      "Converting prediction from float32 to uint8, using threshold of 0.5\n"
     ]
    },
    {
     "name": "stderr",
     "output_type": "stream",
     "text": [
      "1it [00:00,  6.87it/s]"
     ]
    },
    {
     "name": "stdout",
     "output_type": "stream",
     "text": [
      "D:\\sample250\\test_png\\ndwi_156.png\n",
      "the size of current NDWI_img 1682 2171\n"
     ]
    },
    {
     "name": "stderr",
     "output_type": "stream",
     "text": [
      "48it [00:12,  3.75it/s]\n",
      "0it [00:00, ?it/s]"
     ]
    },
    {
     "name": "stdout",
     "output_type": "stream",
     "text": [
      "Converting prediction from float32 to uint8, using threshold of 0.5\n",
      "D:\\sample250\\test_png\\ndwi_165.png\n",
      "the size of current NDWI_img 1172 1232\n"
     ]
    },
    {
     "name": "stderr",
     "output_type": "stream",
     "text": [
      "16it [00:04,  3.76it/s]\n",
      "0it [00:00, ?it/s]"
     ]
    },
    {
     "name": "stdout",
     "output_type": "stream",
     "text": [
      "Converting prediction from float32 to uint8, using threshold of 0.5\n",
      "D:\\sample250\\test_png\\ndwi_168.png\n",
      "the size of current NDWI_img 2642 2555\n"
     ]
    },
    {
     "name": "stderr",
     "output_type": "stream",
     "text": [
      "90it [00:23,  3.89it/s]\n",
      "0it [00:00, ?it/s]"
     ]
    },
    {
     "name": "stdout",
     "output_type": "stream",
     "text": [
      "Converting prediction from float32 to uint8, using threshold of 0.5\n",
      "D:\\sample250\\test_png\\ndwi_181.png\n",
      "the size of current NDWI_img 1807 1716\n"
     ]
    },
    {
     "name": "stderr",
     "output_type": "stream",
     "text": [
      "42it [00:10,  4.13it/s]\n",
      "0it [00:00, ?it/s]"
     ]
    },
    {
     "name": "stdout",
     "output_type": "stream",
     "text": [
      "Converting prediction from float32 to uint8, using threshold of 0.5\n",
      "D:\\sample250\\test_png\\ndwi_188.png\n",
      "the size of current NDWI_img 1172 1965\n"
     ]
    },
    {
     "name": "stderr",
     "output_type": "stream",
     "text": [
      "28it [00:06,  4.62it/s]\n",
      "0it [00:00, ?it/s]"
     ]
    },
    {
     "name": "stdout",
     "output_type": "stream",
     "text": [
      "Converting prediction from float32 to uint8, using threshold of 0.5\n",
      "D:\\sample250\\test_png\\ndwi_196.png\n",
      "the size of current NDWI_img 2193 2032\n"
     ]
    },
    {
     "name": "stderr",
     "output_type": "stream",
     "text": [
      "56it [00:14,  3.89it/s]\n",
      "0it [00:00, ?it/s]"
     ]
    },
    {
     "name": "stdout",
     "output_type": "stream",
     "text": [
      "Converting prediction from float32 to uint8, using threshold of 0.5\n",
      "D:\\sample250\\test_png\\ndwi_202.png\n",
      "the size of current NDWI_img 1173 2397\n"
     ]
    },
    {
     "name": "stderr",
     "output_type": "stream",
     "text": [
      "36it [00:09,  3.87it/s]\n"
     ]
    },
    {
     "name": "stdout",
     "output_type": "stream",
     "text": [
      "Converting prediction from float32 to uint8, using threshold of 0.5\n"
     ]
    },
    {
     "name": "stderr",
     "output_type": "stream",
     "text": [
      "1it [00:00,  6.80it/s]"
     ]
    },
    {
     "name": "stdout",
     "output_type": "stream",
     "text": [
      "D:\\sample250\\test_png\\ndwi_0.png\n",
      "the size of current NDWI_img 2228 2227\n"
     ]
    },
    {
     "name": "stderr",
     "output_type": "stream",
     "text": [
      "64it [00:16,  3.78it/s]\n",
      "0it [00:00, ?it/s]"
     ]
    },
    {
     "name": "stdout",
     "output_type": "stream",
     "text": [
      "Converting prediction from float32 to uint8, using threshold of 0.5\n",
      "D:\\sample250\\test_png\\ndwi_15.png\n",
      "the size of current NDWI_img 1114 1248\n"
     ]
    },
    {
     "name": "stderr",
     "output_type": "stream",
     "text": [
      "16it [00:04,  3.78it/s]\n"
     ]
    },
    {
     "name": "stdout",
     "output_type": "stream",
     "text": [
      "Converting prediction from float32 to uint8, using threshold of 0.5\n"
     ]
    },
    {
     "name": "stderr",
     "output_type": "stream",
     "text": [
      "1it [00:00,  6.77it/s]"
     ]
    },
    {
     "name": "stdout",
     "output_type": "stream",
     "text": [
      "D:\\sample250\\test_png\\ndwi_32.png\n",
      "the size of current NDWI_img 2140 1481\n"
     ]
    },
    {
     "name": "stderr",
     "output_type": "stream",
     "text": [
      "40it [00:09,  4.13it/s]\n",
      "0it [00:00, ?it/s]"
     ]
    },
    {
     "name": "stdout",
     "output_type": "stream",
     "text": [
      "Converting prediction from float32 to uint8, using threshold of 0.5\n",
      "D:\\sample250\\test_png\\ndwi_60.png\n",
      "the size of current NDWI_img 1866 2567\n"
     ]
    },
    {
     "name": "stderr",
     "output_type": "stream",
     "text": [
      "70it [00:18,  3.78it/s]\n",
      "0it [00:00, ?it/s]"
     ]
    },
    {
     "name": "stdout",
     "output_type": "stream",
     "text": [
      "Converting prediction from float32 to uint8, using threshold of 0.5\n",
      "D:\\sample250\\test_png\\ndwi_64.png\n",
      "the size of current NDWI_img 2390 749\n"
     ]
    },
    {
     "name": "stderr",
     "output_type": "stream",
     "text": [
      "18it [00:04,  3.79it/s]\n",
      "0it [00:00, ?it/s]"
     ]
    },
    {
     "name": "stdout",
     "output_type": "stream",
     "text": [
      "Converting prediction from float32 to uint8, using threshold of 0.5\n",
      "D:\\sample250\\test_png\\ndwi_74.png\n",
      "the size of current NDWI_img 3137 1038\n"
     ]
    },
    {
     "name": "stderr",
     "output_type": "stream",
     "text": [
      "48it [00:12,  3.76it/s]\n",
      "0it [00:00, ?it/s]"
     ]
    },
    {
     "name": "stdout",
     "output_type": "stream",
     "text": [
      "Converting prediction from float32 to uint8, using threshold of 0.5\n",
      "D:\\sample250\\test_png\\ndwi_77.png\n",
      "the size of current NDWI_img 1748 4536\n"
     ]
    },
    {
     "name": "stderr",
     "output_type": "stream",
     "text": [
      "102it [00:27,  3.76it/s]\n",
      "0it [00:00, ?it/s]"
     ]
    },
    {
     "name": "stdout",
     "output_type": "stream",
     "text": [
      "Converting prediction from float32 to uint8, using threshold of 0.5\n",
      "D:\\sample250\\test_png\\ndwi_83.png\n",
      "the size of current NDWI_img 2501 3228\n"
     ]
    },
    {
     "name": "stderr",
     "output_type": "stream",
     "text": [
      "108it [00:28,  3.84it/s]\n",
      "0it [00:00, ?it/s]"
     ]
    },
    {
     "name": "stdout",
     "output_type": "stream",
     "text": [
      "Converting prediction from float32 to uint8, using threshold of 0.5\n",
      "D:\\sample250\\test_png\\ndwi_89.png\n",
      "the size of current NDWI_img 896 2408\n"
     ]
    },
    {
     "name": "stderr",
     "output_type": "stream",
     "text": [
      "27it [00:05,  4.60it/s]\n",
      "0it [00:00, ?it/s]"
     ]
    },
    {
     "name": "stdout",
     "output_type": "stream",
     "text": [
      "Converting prediction from float32 to uint8, using threshold of 0.5\n",
      "D:\\sample250\\test_png\\ndwi_108.png\n",
      "the size of current NDWI_img 1596 708\n"
     ]
    },
    {
     "name": "stderr",
     "output_type": "stream",
     "text": [
      "12it [00:01,  7.04it/s]\n",
      "0it [00:00, ?it/s]"
     ]
    },
    {
     "name": "stdout",
     "output_type": "stream",
     "text": [
      "Converting prediction from float32 to uint8, using threshold of 0.5\n",
      "D:\\sample250\\test_png\\ndwi_116.png\n",
      "the size of current NDWI_img 1606 2398\n"
     ]
    },
    {
     "name": "stderr",
     "output_type": "stream",
     "text": [
      "54it [00:18,  2.92it/s]\n",
      "0it [00:00, ?it/s]"
     ]
    },
    {
     "name": "stdout",
     "output_type": "stream",
     "text": [
      "Converting prediction from float32 to uint8, using threshold of 0.5\n",
      "D:\\sample250\\test_png\\ndwi_119.png\n",
      "the size of current NDWI_img 1931 3183\n"
     ]
    },
    {
     "name": "stderr",
     "output_type": "stream",
     "text": [
      "84it [00:22,  3.67it/s]\n",
      "0it [00:00, ?it/s]"
     ]
    },
    {
     "name": "stdout",
     "output_type": "stream",
     "text": [
      "Converting prediction from float32 to uint8, using threshold of 0.5\n",
      "D:\\sample250\\test_png\\ndwi_120.png\n",
      "the size of current NDWI_img 2993 1440\n"
     ]
    },
    {
     "name": "stderr",
     "output_type": "stream",
     "text": [
      "55it [00:13,  3.94it/s]\n",
      "0it [00:00, ?it/s]"
     ]
    },
    {
     "name": "stdout",
     "output_type": "stream",
     "text": [
      "Converting prediction from float32 to uint8, using threshold of 0.5\n",
      "D:\\sample250\\test_png\\ndwi_143.png\n",
      "the size of current NDWI_img 1865 2052\n"
     ]
    },
    {
     "name": "stderr",
     "output_type": "stream",
     "text": [
      "56it [00:14,  3.84it/s]\n",
      "0it [00:00, ?it/s]"
     ]
    },
    {
     "name": "stdout",
     "output_type": "stream",
     "text": [
      "Converting prediction from float32 to uint8, using threshold of 0.5\n",
      "D:\\sample250\\test_png\\ndwi_27.png\n",
      "the size of current NDWI_img 1471 1471\n"
     ]
    },
    {
     "name": "stderr",
     "output_type": "stream",
     "text": [
      "25it [00:05,  4.38it/s]\n",
      "0it [00:00, ?it/s]"
     ]
    },
    {
     "name": "stdout",
     "output_type": "stream",
     "text": [
      "Converting prediction from float32 to uint8, using threshold of 0.5\n",
      "D:\\sample250\\test_png\\ndwi_131.png\n",
      "the size of current NDWI_img 2214 2558\n"
     ]
    },
    {
     "name": "stderr",
     "output_type": "stream",
     "text": [
      "72it [00:18,  3.84it/s]\n",
      "0it [00:00, ?it/s]"
     ]
    },
    {
     "name": "stdout",
     "output_type": "stream",
     "text": [
      "Converting prediction from float32 to uint8, using threshold of 0.5\n",
      "D:\\sample250\\test_png\\ndwi_164.png\n",
      "the size of current NDWI_img 889 1496\n"
     ]
    },
    {
     "name": "stderr",
     "output_type": "stream",
     "text": [
      "15it [00:02,  6.91it/s]\n",
      "0it [00:00, ?it/s]"
     ]
    },
    {
     "name": "stdout",
     "output_type": "stream",
     "text": [
      "Converting prediction from float32 to uint8, using threshold of 0.5\n",
      "D:\\sample250\\test_png\\ndwi_175.png\n",
      "the size of current NDWI_img 1287 1402\n"
     ]
    },
    {
     "name": "stderr",
     "output_type": "stream",
     "text": [
      "25it [00:05,  4.48it/s]\n",
      "0it [00:00, ?it/s]"
     ]
    },
    {
     "name": "stdout",
     "output_type": "stream",
     "text": [
      "Converting prediction from float32 to uint8, using threshold of 0.5\n",
      "D:\\sample250\\test_png\\ndwi_205.png\n",
      "the size of current NDWI_img 1721 1227\n"
     ]
    },
    {
     "name": "stderr",
     "output_type": "stream",
     "text": [
      "24it [00:05,  4.34it/s]\n",
      "0it [00:00, ?it/s]"
     ]
    },
    {
     "name": "stdout",
     "output_type": "stream",
     "text": [
      "Converting prediction from float32 to uint8, using threshold of 0.5\n",
      "D:\\sample250\\test_png\\ndwi_53.png\n",
      "the size of current NDWI_img 2396 5500\n"
     ]
    },
    {
     "name": "stderr",
     "output_type": "stream",
     "text": [
      "189it [00:50,  3.75it/s]\n"
     ]
    },
    {
     "name": "stdout",
     "output_type": "stream",
     "text": [
      "Converting prediction from float32 to uint8, using threshold of 0.5\n"
     ]
    },
    {
     "name": "stderr",
     "output_type": "stream",
     "text": [
      "1it [00:00,  6.99it/s]"
     ]
    },
    {
     "name": "stdout",
     "output_type": "stream",
     "text": [
      "D:\\sample250\\test_png\\ndwi_115.png\n",
      "the size of current NDWI_img 1495 1690\n"
     ]
    },
    {
     "name": "stderr",
     "output_type": "stream",
     "text": [
      "30it [00:06,  4.83it/s]\n",
      "0it [00:00, ?it/s]"
     ]
    },
    {
     "name": "stdout",
     "output_type": "stream",
     "text": [
      "Converting prediction from float32 to uint8, using threshold of 0.5\n",
      "D:\\sample250\\test_png\\ndwi_206.png\n",
      "the size of current NDWI_img 2313 1625\n"
     ]
    },
    {
     "name": "stderr",
     "output_type": "stream",
     "text": [
      "54it [00:14,  3.85it/s]\n",
      "0it [00:00, ?it/s]"
     ]
    },
    {
     "name": "stdout",
     "output_type": "stream",
     "text": [
      "Converting prediction from float32 to uint8, using threshold of 0.5\n",
      "D:\\sample250\\test_png\\ndwi_219.png\n",
      "the size of current NDWI_img 1258 1474\n"
     ]
    },
    {
     "name": "stderr",
     "output_type": "stream",
     "text": [
      "20it [00:04,  4.01it/s]\n",
      "0it [00:00, ?it/s]"
     ]
    },
    {
     "name": "stdout",
     "output_type": "stream",
     "text": [
      "Converting prediction from float32 to uint8, using threshold of 0.5\n",
      "D:\\sample250\\test_png\\ndwi_226.png\n",
      "the size of current NDWI_img 1772 3053\n"
     ]
    },
    {
     "name": "stderr",
     "output_type": "stream",
     "text": [
      "66it [00:17,  3.81it/s]\n",
      "0it [00:00, ?it/s]"
     ]
    },
    {
     "name": "stdout",
     "output_type": "stream",
     "text": [
      "Converting prediction from float32 to uint8, using threshold of 0.5\n",
      "D:\\sample250\\test_png\\ndwi_228.png\n",
      "the size of current NDWI_img 1551 3759\n"
     ]
    },
    {
     "name": "stderr",
     "output_type": "stream",
     "text": [
      "84it [00:22,  3.80it/s]\n",
      "0it [00:00, ?it/s]"
     ]
    },
    {
     "name": "stdout",
     "output_type": "stream",
     "text": [
      "Converting prediction from float32 to uint8, using threshold of 0.5\n",
      "D:\\sample250\\test_png\\ndwi_230.png\n",
      "the size of current NDWI_img 1664 2625\n"
     ]
    },
    {
     "name": "stderr",
     "output_type": "stream",
     "text": [
      "60it [00:14,  4.18it/s]\n",
      "0it [00:00, ?it/s]"
     ]
    },
    {
     "name": "stdout",
     "output_type": "stream",
     "text": [
      "Converting prediction from float32 to uint8, using threshold of 0.5\n",
      "D:\\sample250\\test_png\\ndwi_235.png\n",
      "the size of current NDWI_img 1468 2512\n"
     ]
    },
    {
     "name": "stderr",
     "output_type": "stream",
     "text": [
      "45it [00:10,  4.20it/s]\n",
      "0it [00:00, ?it/s]"
     ]
    },
    {
     "name": "stdout",
     "output_type": "stream",
     "text": [
      "Converting prediction from float32 to uint8, using threshold of 0.5\n",
      "D:\\sample250\\test_png\\ndwi_239.png\n",
      "the size of current NDWI_img 1731 1566\n"
     ]
    },
    {
     "name": "stderr",
     "output_type": "stream",
     "text": [
      "36it [00:09,  3.83it/s]\n"
     ]
    },
    {
     "name": "stdout",
     "output_type": "stream",
     "text": [
      "Converting prediction from float32 to uint8, using threshold of 0.5\n",
      "D:\\sample250\\test_png\\ndwi_242.png\n"
     ]
    },
    {
     "name": "stderr",
     "output_type": "stream",
     "text": [
      "1it [00:00,  6.76it/s]"
     ]
    },
    {
     "name": "stdout",
     "output_type": "stream",
     "text": [
      "the size of current NDWI_img 1664 1216\n"
     ]
    },
    {
     "name": "stderr",
     "output_type": "stream",
     "text": [
      "24it [00:05,  4.80it/s]\n",
      "0it [00:00, ?it/s]"
     ]
    },
    {
     "name": "stdout",
     "output_type": "stream",
     "text": [
      "Converting prediction from float32 to uint8, using threshold of 0.5\n",
      "D:\\sample250\\test_png\\ndwi_243.png\n",
      "the size of current NDWI_img 2679 3570\n"
     ]
    },
    {
     "name": "stderr",
     "output_type": "stream",
     "text": [
      "130it [00:35,  3.70it/s]\n"
     ]
    },
    {
     "name": "stdout",
     "output_type": "stream",
     "text": [
      "Converting prediction from float32 to uint8, using threshold of 0.5\n",
      "File already analysed! D:\\sample250\\test_png\\test\\ndwi_0.png\n",
      "finish\n"
     ]
    }
   ],
   "source": [
    "# Predict trees in the all the files in the input image dir \n",
    "# Depending upon the available RAM, images may not to be split before running this cell.\n",
    "# Use the Auxiliary-2-SplitRasterToAnalyse if the images are too big to be analysed in memory.\n",
    "all_files = []\n",
    "for root, dirs, files in os.walk(config.input_image_dir):\n",
    "    for file in files:\n",
    "#         if file.endswith(config.input_image_type) and file.startswith(config.NDWI_fn_st):\n",
    "        if file.endswith(config.input_image_type)and file.startswith(config.ndwi_fn_st):\n",
    "             all_files.append((os.path.join(root, file), file))\n",
    "print(all_files)\n",
    "\n",
    "operator='padding'\n",
    "for fullPath, filename in all_files:\n",
    "    output = filename.replace(config.input_image_type,config.output_image_type)\n",
    "    outputFile = os.path.join(config.output_dir, output.replace(config.ndwi_fn_st, config.output_prefix + operator))\n",
    "    if not os.path.isfile(outputFile) or config.overwrite_analysed_files:\n",
    "        with rasterio.open(fullPath) as NDWI:\n",
    "            print(fullPath)\n",
    "            detectedMask, detectedMeta = detect_lake(fullPath,NDWI,operator,width = config.WIDTH, height = config.HEIGHT, stride = config.STRIDE)\n",
    "            writeMaskToDisk(detectedMask, detectedMeta, outputFile, write_as_type = config.output_dtype, th = 0.5, create_countors = False)            \n",
    "    else:\n",
    "        print('File already analysed!', fullPath)\n",
    "        \n",
    "print('finish')"
   ]
  },
  {
   "cell_type": "code",
   "execution_count": null,
   "metadata": {},
   "outputs": [],
   "source": []
  }
 ],
 "metadata": {
  "kernelspec": {
   "display_name": "Python 3 (ipykernel)",
   "language": "python",
   "name": "python3"
  },
  "language_info": {
   "codemirror_mode": {
    "name": "ipython",
    "version": 3
   },
   "file_extension": ".py",
   "mimetype": "text/x-python",
   "name": "python",
   "nbconvert_exporter": "python",
   "pygments_lexer": "ipython3",
   "version": "3.8.5"
  }
 },
 "nbformat": 4,
 "nbformat_minor": 4
}
