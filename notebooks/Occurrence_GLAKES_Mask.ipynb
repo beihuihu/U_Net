{
 "cells": [
  {
   "cell_type": "code",
   "execution_count": null,
   "metadata": {},
   "outputs": [],
   "source": [
    "import rasterio  \n",
    "import rasterio.mask\n",
    "import geopandas as gps\n",
    "import os\n",
    "import time\n",
    "import shutil\n",
    "from shapely.geometry import Point, Polygon,box\n",
    "import numpy as np"
   ]
  },
  {
   "cell_type": "code",
   "execution_count": null,
   "metadata": {},
   "outputs": [],
   "source": [
    "all_files=[]\n",
    "for root, dirs, files in os.walk(r'J:\\4_GSW\\occurrence_2010_2019'):\n",
    "    for file in files:\n",
    "        # if file.endswith(config.input_image_type)and file.startswith('sample'):\n",
    "        if file.endswith('.tif')and file.startswith('occurrence'):\n",
    "             all_files.append((os.path.join(root, file), file))\n",
    "print(all_files)\n",
    "\n",
    "out_dir=r'J:\\4_GSW\\P3\\v1_0221\\after_GLAKES_mask'\n",
    "\n",
    "for fullPath, filename in all_files:  \n",
    "    raw_occurrence_tif=rasterio.open(fullPath)\n",
    "    out_occurrence_tif=os.path.join(out_dir,filename.replace('.tif','_after_lake_mask.tif'))\n",
    "    if not os.path.exists(out_occurrence_tif):\n",
    "        bbox = box(*raw_occurrence_tif.bounds)\n",
    "        meta=raw_occurrence_tif.meta\n",
    "        meta.update({\"compress\": 'lzw'})\n",
    "        GLAKES_mask = gps.read_file(r'D:\\lakemapping\\0_auxiliary_data\\GLAKES\\GLAKES\\GLAKES.gdb',layer='GLAKES', bbox=bbox) \n",
    "        mask_patch_geojson = GLAKES_mask.geometry.values \n",
    "\n",
    "        if len(mask_patch_geojson) > 0:\n",
    "            modelpredtictions_masked, out_meta = rasterio.mask.mask(raw_occurrence_tif, mask_patch_geojson, all_touched=False, invert=False)\n",
    "            print(f'Mask finished: {filename}')\n",
    "            with rasterio.open(out_occurrence_tif, \"w\", **meta) as prediction_masked:\n",
    "                prediction_masked.write(modelpredtictions_masked)\n",
    "    "
   ]
  },
  {
   "cell_type": "code",
   "execution_count": null,
   "metadata": {},
   "outputs": [],
   "source": [
    "print(len(all_files))"
   ]
  },
  {
   "cell_type": "code",
   "execution_count": null,
   "metadata": {},
   "outputs": [],
   "source": []
  }
 ],
 "metadata": {
  "kernelspec": {
   "display_name": "tf_gpu_38",
   "language": "python",
   "name": "tf_gpu_38"
  },
  "language_info": {
   "codemirror_mode": {
    "name": "ipython",
    "version": 3
   },
   "file_extension": ".py",
   "mimetype": "text/x-python",
   "name": "python",
   "nbconvert_exporter": "python",
   "pygments_lexer": "ipython3",
   "version": "3.8.18"
  }
 },
 "nbformat": 4,
 "nbformat_minor": 4
}
