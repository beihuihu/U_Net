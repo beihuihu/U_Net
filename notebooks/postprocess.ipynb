{
 "cells": [
  {
   "cell_type": "code",
   "execution_count": null,
   "metadata": {},
   "outputs": [],
   "source": [
    "import rasterio  \n",
    "import rasterio.mask\n",
    "import geopandas as gps\n",
    "import os\n",
    "import time\n",
    "import shutil\n",
    "from shapely.geometry import Point, Polygon,box\n",
    "import numpy as np"
   ]
  },
  {
   "cell_type": "code",
   "execution_count": null,
   "metadata": {},
   "outputs": [],
   "source": [
    "auxiliary_data_dir=r'D:\\lakemapping\\0_auxiliary_data/auxiliary_dataset.gdb'\n",
    "# grwl_path = os.path.join(auxiliary_data_dir, 'GRWL') \n",
    "# OSM_path =  os.path.join(auxiliary_data_dir, 'OSM_water') \n",
    "raw_prediction_dir=r'F:\\result_0220\\tif'\n",
    "output_dir=r'F:\\result_0220\\after_land_mask'"
   ]
  },
  {
   "cell_type": "code",
   "execution_count": null,
   "metadata": {},
   "outputs": [],
   "source": [
    "land_mask = gps.read_file(auxiliary_data_dir,layer='continent_polygon')\n",
    "land_mask"
   ]
  },
  {
   "cell_type": "markdown",
   "metadata": {},
   "source": [
    "## 1 land mask"
   ]
  },
  {
   "cell_type": "code",
   "execution_count": null,
   "metadata": {
    "scrolled": true
   },
   "outputs": [],
   "source": [
    "start_id=6001\n",
    "end_id=start_id+1000\n",
    "out_dir=os.path.join(output_dir,'{}_{}'.format(start_id,end_id-1))\n",
    "if not os.path.exists(out_dir):\n",
    "    os.makedirs(out_dir)\n",
    "start=time.time()\n",
    "for index in range(6826,end_id):\n",
    "# for index in range(9294,9295):    \n",
    "    raw_pre_dir=os.path.join(raw_prediction_dir,'{}_{}/pre_{}_iew100.tif'.format(start_id,end_id-1,index))\n",
    "    out_pre_dir=os.path.join(out_dir,'pre_{}_alm.tif'.format(index))\n",
    "#     print(out_pre_dir)\n",
    "    raw_prediction_image=rasterio.open(raw_pre_dir)\n",
    "#     print(raw_prediction_image)\n",
    "    bbox = box(*raw_prediction_image.bounds)\n",
    "    meta=raw_prediction_image.meta\n",
    "    meta.update({\"compress\": 'lzw'})\n",
    "    # grwl_river_patch = gps.read_file(auxiliary_data_dir,layer='GRWL_DNRiver' ,bbox=bbox) # data from GRWL_mask_V01.01 product with DN = 255 (River) (see https://doi.org/10.5281/zenodo.1297434).\n",
    "    # ocean_patch = gps.read_file(auxiliary_data_dir,layer='oceanline_polygon', bbox=bbox) \n",
    "    # mask_patch = ocean_patch#grwl_river_patch._append(ocean_patch)\n",
    "    # mask_patch_geojson = mask_patch.geometry.values \n",
    "    land_mask = gps.read_file(r'D:\\lakemapping\\8_postprocess\\region\\continent_polygon.shp', bbox=bbox) \n",
    "    mask_patch_geojson = land_mask.geometry.values \n",
    " # perform land mask\n",
    "    if len(mask_patch_geojson) > 0:\n",
    "        modelpredtictions_masked, out_meta = rasterio.mask.mask(raw_prediction_image, mask_patch_geojson, all_touched=True, invert=False)\n",
    "        print(f'Mask finished: {index} / {end_id-1}')\n",
    "        with rasterio.open(out_pre_dir, \"w\", **meta) as prediction_masked:\n",
    "            prediction_masked.write(modelpredtictions_masked)\n",
    "    \n",
    "end=time.time()\n",
    "print(f'time:{end-start}')"
   ]
  },
  {
   "cell_type": "markdown",
   "metadata": {},
   "source": [
    "## classify to different region"
   ]
  },
  {
   "cell_type": "code",
   "execution_count": null,
   "metadata": {},
   "outputs": [],
   "source": [
    "continent_polygon = gps.read_file(auxiliary_data_dir,layer='continent_polygon')\n",
    "continent_polygon"
   ]
  },
  {
   "cell_type": "code",
   "execution_count": null,
   "metadata": {},
   "outputs": [],
   "source": [
    "region_List=continent_polygon['region'].unique().tolist()"
   ]
  },
  {
   "cell_type": "code",
   "execution_count": null,
   "metadata": {},
   "outputs": [],
   "source": [
    "for region in region_List:\n",
    "    os.makedirs(r'D:\\postprocess\\v240220\\region\\{}'.format(region))"
   ]
  },
  {
   "cell_type": "code",
   "execution_count": null,
   "metadata": {},
   "outputs": [],
   "source": [
    "for region in region_List:\n",
    "    region_clip=continent_polygon[continent_polygon.region==region]\n",
    "    id_list=region_clip.Id.tolist()\n",
    "    for i in id_list:\n",
    "        for root, dirs, files in os.walk(r'D:\\postprocess\\v240220\\shp_dn1'):\n",
    "            for file in files:\n",
    "                if file.startswith(f'pre_{i}_alm2shp_dn1') or file.startswith(f'pre_{i}_after_land_mask2shp_dn1'):\n",
    "                    old_file=os.path.join(root, file)\n",
    "                    new_file=os.path.join(r'D:\\postprocess\\v240220\\region',region+'/'+file)\n",
    "#                     print(old_file)\n",
    "#                     print(new_file)\n",
    "                    shutil.move(old_file,new_file)\n",
    "                    continue"
   ]
  }
 ],
 "metadata": {
  "kernelspec": {
   "display_name": "tf_gpu_38",
   "language": "python",
   "name": "tf_gpu_38"
  },
  "language_info": {
   "codemirror_mode": {
    "name": "ipython",
    "version": 3
   },
   "file_extension": ".py",
   "mimetype": "text/x-python",
   "name": "python",
   "nbconvert_exporter": "python",
   "pygments_lexer": "ipython3",
   "version": "3.8.18"
  }
 },
 "nbformat": 4,
 "nbformat_minor": 4
}
