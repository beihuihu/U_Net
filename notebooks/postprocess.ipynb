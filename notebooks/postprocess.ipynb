{
 "cells": [
  {
   "cell_type": "code",
   "execution_count": 13,
   "metadata": {},
   "outputs": [],
   "source": [
    "import rasterio  \n",
    "import rasterio.mask\n",
    "import geopandas as gps\n",
    "import os\n",
    "from shapely.geometry import Point, Polygon,box"
   ]
  },
  {
   "cell_type": "code",
   "execution_count": 2,
   "metadata": {},
   "outputs": [],
   "source": [
    "auxiliary_data_dir=r'D:\\lakemapping\\0_auxiliary_data\\auxiliary_dataset.gdb'\n",
    "# grwl_path = os.path.join(auxiliary_data_dir, 'GRWL') \n",
    "# OSM_path =  os.path.join(auxiliary_data_dir, 'OSM_water') \n",
    "raw_prediction_dir=r'J:\\result836\\model0121\\tif'\n",
    "output_dir=r'J:\\result836\\model0121\\aftermask'"
   ]
  },
  {
   "cell_type": "code",
   "execution_count": 19,
   "metadata": {},
   "outputs": [
    {
     "name": "stdout",
     "output_type": "stream",
     "text": [
      "Mask finished: 1 / 10\n",
      "Mask finished: 2 / 10\n",
      "Mask finished: 3 / 10\n",
      "Mask finished: 4 / 10\n",
      "Mask finished: 5 / 10\n",
      "Mask finished: 6 / 10\n",
      "Mask finished: 7 / 10\n",
      "Mask finished: 8 / 10\n",
      "Mask finished: 9 / 10\n"
     ]
    }
   ],
   "source": [
    "for index in range(1,10):\n",
    "    raw_prediction_image=rasterio.open(os.path.join(raw_prediction_dir,'pre_max_iew100_{}.tif'.format(index)))\n",
    "    bbox = box(*raw_prediction_image.bounds)\n",
    "    meta=raw_prediction_image.meta\n",
    "    meta.update({\"compress\": 'lzw'})\n",
    "    grwl_river_patch = gps.read_file(auxiliary_data_dir,layer='GRWL_DNRiver' ,bbox=bbox) # data from GRWL_mask_V01.01 product with DN = 255 (River) (see https://doi.org/10.5281/zenodo.1297434).\n",
    "    ocean_patch = gps.read_file(auxiliary_data_dir,layer='oceanline_polygon', bbox=bbox) \n",
    "    mask_patch = grwl_river_patch._append(ocean_patch)\n",
    "    mask_patch_geojson = mask_patch.geometry.values \n",
    " # perform river mask and ocean mask\n",
    "    if len(mask_patch_geojson) > 0:\n",
    "        modelpredtictions_masked, out_meta = rasterio.mask.mask(raw_prediction_image, mask_patch_geojson, all_touched=True, invert=True)\n",
    "        print(f'Mask finished: {index} / 10')\n",
    "    else:\n",
    "        modelpredtictions_masked = raw_prediction_image.copy()\n",
    "        print(f'No masks detected, output original image instead: {i}')\n",
    "    with rasterio.open(output_dir+'/prediction_{}_masked.tif'.format(index), \"w\", **meta) as prediction_masked:\n",
    "        prediction_masked.write(modelpredtictions_masked)\n"
   ]
  },
  {
   "cell_type": "code",
   "execution_count": null,
   "metadata": {},
   "outputs": [],
   "source": []
  }
 ],
 "metadata": {
  "kernelspec": {
   "display_name": "tf_gpu_38",
   "language": "python",
   "name": "tf_gpu_38"
  },
  "language_info": {
   "codemirror_mode": {
    "name": "ipython",
    "version": 3
   },
   "file_extension": ".py",
   "mimetype": "text/x-python",
   "name": "python",
   "nbconvert_exporter": "python",
   "pygments_lexer": "ipython3",
   "version": "3.8.18"
  }
 },
 "nbformat": 4,
 "nbformat_minor": 4
}
