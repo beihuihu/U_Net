{
 "cells": [
  {
   "cell_type": "markdown",
   "metadata": {},
   "source": [
    "  Author: Ankit Kariryaa, University of Bremen\n",
    "  \n",
    "  Modified by Xuehui Pi and Qiuqi Luo"
   ]
  },
  {
   "cell_type": "markdown",
   "metadata": {},
   "source": [
    "### Getting started\n",
    "Define the paths for the dataset and trained models in the `notebooks/config/UNetTraining.py` file.  "
   ]
  },
  {
   "cell_type": "code",
   "execution_count": null,
   "metadata": {},
   "outputs": [],
   "source": [
    "import os\n",
    "os.environ[\"MKL_NUM_THREADS\"] = '16'\n",
    "os.environ[\"NUMEXPR_NUM_THREADS\"] = '16'\n",
    "os.environ[\"OMP_NUM_THREADS\"] = '16'\n",
    "print(os.environ.get('OMP_NUM_THREADS'))"
   ]
  },
  {
   "cell_type": "code",
   "execution_count": null,
   "metadata": {},
   "outputs": [],
   "source": [
    "import tensorflow as tf\n",
    "import numpy as np\n",
    "from PIL import Image\n",
    "import rasterio\n",
    "import imgaug as ia\n",
    "from imgaug import augmenters as iaa\n",
    "from tensorflow.keras.preprocessing.image import ImageDataGenerator\n",
    "import tensorflow as tf\n",
    "from tensorflow.keras import mixed_precision \n",
    "mixed_precision.set_global_policy('mixed_float16')\n",
    "\n",
    "import imageio\n",
    "import os\n",
    "\n",
    "import time\n",
    "import rasterio.warp             # Reproject raster samples\n",
    "from functools import reduce\n",
    "from tensorflow.keras.models import load_model\n",
    "\n",
    "from core.UNet import UNet  #\n",
    "from core.losses import accuracy, dice_loss, IoU, recall, precision,F1_score\n",
    "from tensorflow.keras.losses import BinaryCrossentropy as bce\n",
    "from core.optimizers import adaDelta, adagrad, adam, nadam\n",
    "from core.frame_info import FrameInfo\n",
    "from core.dataset_generator import DataGenerator\n",
    "from core.visualize import display_images_2,plot\n",
    "import json\n",
    "from sklearn.model_selection import train_test_split\n",
    "from sklearn.utils import shuffle\n",
    "import pickle\n",
    "import random\n",
    "\n",
    "%matplotlib inline\n",
    "import matplotlib.pyplot as plt  # plotting tools\n",
    "import matplotlib.patches as patches\n",
    "from matplotlib.patches import Polygon\n",
    "#matplotlib.use(\"Agg\")\n",
    "\n",
    "import warnings                  # ignore annoying warnings\n",
    "warnings.filterwarnings(\"ignore\")\n",
    "import logging\n",
    "logger = logging.getLogger()\n",
    "logger.setLevel(logging.CRITICAL)\n",
    "\n",
    "%reload_ext autoreload\n",
    "%autoreload 2\n",
    "from IPython.core.interactiveshell import InteractiveShell\n",
    "InteractiveShell.ast_node_interactivity = \"all\"\n",
    "\n",
    "#Mixed precision is the use of both 16-bit and 32-bit floating-point types in a model during training to make it run faster and use less memory.\n",
    "os.environ['TF_ENABLE_AUTO_MIXED_PRECISION'] = '1'\n",
    "print(tf.__version__)"
   ]
  },
  {
   "cell_type": "code",
   "execution_count": null,
   "metadata": {
    "scrolled": true
   },
   "outputs": [],
   "source": [
    "from tensorflow.compat.v1 import ConfigProto\n",
    "from tensorflow.compat.v1 import InteractiveSession\n",
    "\n",
    "config = ConfigProto(\n",
    "    #device_count={\"CPU\": 64},\n",
    "    allow_soft_placement=True, \n",
    "    log_device_placement=False)\n",
    "config.gpu_options.allow_growth = True\n",
    "session = InteractiveSession(config=config)"
   ]
  },
  {
   "cell_type": "code",
   "execution_count": null,
   "metadata": {},
   "outputs": [],
   "source": [
    "# Required configurations (including the input and output paths) are stored in a separate file (such as config/UNetTraining.py)\n",
    "# Please provide required info in the file before continuing with this notebook. \n",
    "# hbh: in this scene,a new config named UNetTraining_sequential is created to distinguish from the original\n",
    "from config import UNetTraining\n",
    "# In case you are using a different folder name such as configLargeCluster, then you should import from the respective folder \n",
    "# Eg. from configLargeCluster import UNetTraining\n",
    "config = UNetTraining.Configuration()"
   ]
  },
  {
   "cell_type": "code",
   "execution_count": null,
   "metadata": {},
   "outputs": [],
   "source": [
    "def readImgs(path_to_write, fn):\n",
    "    image = rasterio.open(os.path.join(path_to_write, fn))\n",
    "    read_image = image.read()/1000\n",
    "    comb_img = np.transpose(read_image, axes=(1,2,0))\n",
    "    annotation_im = Image.open(os.path.join(path_to_write, fn.replace(config.image_fn,config.annotation_fn).replace(config.image_type,config.ann_type)))\n",
    "    annotation = np.array(annotation_im)\n",
    "    rowNum=annotation.shape[0]/config.input_shape[0]\n",
    "    colNum=annotation.shape[1]/config.input_shape[1]\n",
    "    f = FrameInfo(comb_img, annotation)\n",
    "    return f,rowNum*colNum\n",
    "\n",
    "def readFrames(dataType):\n",
    "    frames=[]\n",
    "    numList=[]\n",
    "    print(dataType)\n",
    "    for i in range(0,config.type_num):\n",
    "        path_to_write=os.path.join(config.dataset_dir,'{}/type{}'.format(dataType,i))\n",
    "        all_files = os.listdir(path_to_write)\n",
    "        all_files_image = [fn for fn in all_files if fn.startswith(config.image_fn) and fn.endswith(config.image_type)]#image.png\n",
    "        print('type{} image number :{}'.format(i,len(all_files_image)))\n",
    "        for j, fn in enumerate(all_files_image):\n",
    "            f,num = readImgs(path_to_write,fn)\n",
    "            frames.append(f)\n",
    "            numList.append(num)\n",
    "    return frames,numList\n"
   ]
  },
  {
   "cell_type": "markdown",
   "metadata": {},
   "source": [
    "## 参数初始化"
   ]
  },
  {
   "cell_type": "code",
   "execution_count": null,
   "metadata": {
    "scrolled": true
   },
   "outputs": [],
   "source": [
    "OPTIMIZER = adaDelta\n",
    "OPTIMIZER =  mixed_precision.LossScaleOptimizer(OPTIMIZER)\n",
    "OPTIMIZER_NAME = 'AdaDelta'"
   ]
  },
  {
   "cell_type": "code",
   "execution_count": null,
   "metadata": {},
   "outputs": [],
   "source": [
    "LOSS=dice_loss\n",
    "LOSS_NAME = 'dice_loss'"
   ]
  },
  {
   "cell_type": "markdown",
   "metadata": {},
   "source": [
    "## 数据集准备"
   ]
  },
  {
   "cell_type": "code",
   "execution_count": null,
   "metadata": {
    "scrolled": true
   },
   "outputs": [],
   "source": [
    "frames,numList=readFrames('train')\n",
    "percentages=np.array(numList)\n",
    "train_sum=percentages.sum()\n",
    "percentages=percentages/percentages.sum()\n",
    "print('total training img count:'+str(len(frames)))\n",
    "print('total training patches count:{}'.format(train_sum))\n",
    "train_generator = DataGenerator(config.input_image_channel, config.patch_size, frames, config.input_label_channel, augmenter = 'iaa').random_generator(config.BATCH_SIZE,percentages)#,normalize ="
   ]
  },
  {
   "cell_type": "code",
   "execution_count": null,
   "metadata": {},
   "outputs": [],
   "source": [
    "frames,numList=readFrames('val')\n",
    "percentages=np.array(numList)\n",
    "val_sum=percentages.sum()\n",
    "percentages=percentages/percentages.sum()\n",
    "print('total training img count:'+str(len(frames)))\n",
    "print('total training patches count:{}'.format(val_sum))\n",
    "val_generator = DataGenerator(config.input_image_channel, config.patch_size, frames, config.input_label_channel, augmenter = None).random_generator(config.BATCH_SIZE,percentages)#, normalize = config.normalize"
   ]
  },
  {
   "cell_type": "code",
   "execution_count": null,
   "metadata": {
    "scrolled": true
   },
   "outputs": [],
   "source": [
    "for _ in range(1):\n",
    "    train_images, real_label = next(train_generator) \n",
    "#     print(train_images.Length())\n",
    "    display_images_2(np.concatenate((train_images,real_label), axis = -1),pad=100,output_size=376)"
   ]
  },
  {
   "cell_type": "code",
   "execution_count": null,
   "metadata": {
    "scrolled": true
   },
   "outputs": [],
   "source": [
    "for _ in range(1):\n",
    "    val_images, val_label = next(val_generator) \n",
    "    print(val_images.shape)\n",
    "    display_images_2(np.concatenate((val_images,val_label), axis = -1),pad=100,output_size=376)"
   ]
  },
  {
   "cell_type": "markdown",
   "metadata": {},
   "source": [
    "### 训练参数设置"
   ]
  },
  {
   "cell_type": "code",
   "execution_count": null,
   "metadata": {},
   "outputs": [],
   "source": [
    "timestr = time.strftime(\"%Y%m%d-%H%M\")\n",
    "chf = config.input_image_channel + config.input_label_channel\n",
    "chs = reduce(lambda a,b: a+str(b), chf, '') \n",
    "\n",
    "if not os.path.exists(config.model_path):\n",
    "    os.makedirs(config.model_path)\n",
    "model_name='_{}_{}_{}_{}_{}.h5'.format(timestr,OPTIMIZER_NAME,LOSS_NAME,chs,config.input_shape[0])\n",
    "model_path = os.path.join(config.model_path,'lakes'+model_name)\n",
    "\n",
    "chf = config.input_image_channel + config.input_label_channel\n",
    "chs = reduce(lambda a,b: a+str(b), chf, '') \n",
    "print(model_path)"
   ]
  },
  {
   "cell_type": "code",
   "execution_count": null,
   "metadata": {
    "scrolled": true
   },
   "outputs": [],
   "source": [
    "# Define the model and compile it  \n",
    "model = UNet([config.BATCH_SIZE, *config.input_shape],config.input_label_channel)\n",
    "model.compile(optimizer=OPTIMIZER, loss=LOSS, metrics=[accuracy, recall, precision,F1_score, IoU])"
   ]
  },
  {
   "cell_type": "code",
   "execution_count": null,
   "metadata": {},
   "outputs": [],
   "source": [
    "# Define callbacks      for the early stopping of training, LearningRateScheduler and model checkpointing \n",
    "from tensorflow.keras.callbacks import ModelCheckpoint, LearningRateScheduler, EarlyStopping, ReduceLROnPlateau, TensorBoard\n",
    "\n",
    "checkpoint = ModelCheckpoint(model_path, monitor='val_loss', verbose=1, \n",
    "                             save_best_only=True, mode='min', save_weights_only = False)\n",
    "\n",
    "#reduceonplatea： It can be useful when using adam as optimizer\n",
    "#Reduce learning rate when a metric has stopped improving (after some patience 个epoch, reduce by a factor of 0.33, new_lr = lr * factor). \n",
    "#cooldown: number of epochs to wait before resuming normal operation after lr has been reduced. \n",
    "\n",
    "reduceLROnPlat = ReduceLROnPlateau(monitor='val_loss', factor=0.33,\n",
    "                                   patience=4, verbose=1, mode='min',\n",
    "                                   min_delta=0.0001, cooldown=4, min_lr=1e-16) \n",
    "\n",
    "#early = EarlyStopping(monitor=\"val_loss\", mode=\"min\", verbose=2, patience=40)\n",
    "\n",
    "\n",
    "log_dir = os.path.join('./logs','UNet'+model_name)\n",
    "tensorboard = TensorBoard(log_dir=log_dir, histogram_freq=0, write_graph=True, write_grads=False, write_images=False, embeddings_freq=0, embeddings_layer_names=None, embeddings_metadata=None, embeddings_data=None, update_freq='epoch')\n",
    "\n",
    "callbacks_list = [checkpoint, tensorboard] #reduceLROnPlat is not required with adaDelta, early"
   ]
  },
  {
   "cell_type": "markdown",
   "metadata": {},
   "source": [
    "## 训练模型\n",
    "保存history文件并绘图"
   ]
  },
  {
   "cell_type": "code",
   "execution_count": null,
   "metadata": {
    "scrolled": true
   },
   "outputs": [],
   "source": [
    "loss_history = model.fit(train_generator, \n",
    "                         steps_per_epoch=train_sum//config.BATCH_SIZE,\n",
    "                         epochs=config.NB_EPOCHS, \n",
    "                         validation_data=val_generator,\n",
    "                         validation_steps=val_sum//config.BATCH_SIZE,\n",
    "                         callbacks=callbacks_list,\n",
    "                         workers=1\n",
    "                        )\n",
    "h=loss_history.history\n",
    "with open('history_{}_{}_{}_{}_{}.txt'.format(timestr,OPTIMIZER_NAME,LOSS_NAME, chs,config.input_shape[0]), 'wb') as file_pi:\n",
    "    pickle.dump(h, file_pi)\n",
    "plot(h,timestr, OPTIMIZER_NAME,LOSS_NAME, config.patch_size[0], config.NB_EPOCHS, config.BATCH_SIZE,chs)"
   ]
  },
  {
   "cell_type": "code",
   "execution_count": null,
   "metadata": {
    "scrolled": true
   },
   "outputs": [],
   "source": [
    "##### 读取现有history文件\n",
    "with open(r'.txt','rb')as file_pi:\n",
    "    h=pickle.load(file_pi)\n",
    "# print(h)"
   ]
  },
  {
   "cell_type": "markdown",
   "metadata": {},
   "source": [
    "## 模型精度评价"
   ]
  },
  {
   "cell_type": "code",
   "execution_count": null,
   "metadata": {},
   "outputs": [],
   "source": [
    "# Load model after training \n",
    "model_path=os.path.join(config.model_path,r'lakes_20240219-2347_AdaDelta_dice_loss_01234_576.h5')\n",
    "model = load_model(model_path, custom_objects={'dice loss': LOSS, 'accuracy':accuracy ,'recall':recall, 'precision':precision,'F1_score':F1_score,'IoU': IoU,}, compile=False) \n",
    "model.compile(optimizer=OPTIMIZER, loss=LOSS, metrics=[accuracy,recall,F1_score, precision, IoU])"
   ]
  },
  {
   "cell_type": "code",
   "execution_count": null,
   "metadata": {
    "scrolled": true
   },
   "outputs": [],
   "source": [
    "# titles=['ndwi','rgb','swir','annotation','prediction']\n",
    "# j=1\n",
    "# frames=[]\n",
    "# path_to_write=os.path.join(config.dataset_dir,'test/type'+str(j))\n",
    "# all_files = os.listdir(path_to_write)\n",
    "# all_image_files = [fn for fn in all_files if fn.startswith(config.image_fn) and fn.endswith(config.image_type)]#ndwi.png\n",
    "# for i, fn in enumerate(all_image_files):\n",
    "#     f,nums = readImgs(path_to_write,fn)\n",
    "#     frames.append(f)\n",
    "# test_DGT=DataGenerator(config.input_image_channel, config.patch_size, frames, config.input_label_channel, augmenter = None)\n",
    "# test_patches_type = test_DGT.all_sequential_patches(config.step_size)\n",
    "# print(len(test_patches_type[0]))\n",
    "# step=8\n",
    "# for i in range(len(test_patches_type[0])//step+1):\n",
    "#     prediction = model.predict(test_patches_type[0][i*step:(i+1)*step], steps=1)\n",
    "#     prediction[prediction>0.5]=1\n",
    "#     prediction[prediction<=0.5]=0\n",
    "#     fn=r'D:\\sample746\\image\\type{}_{}_576_2.png'.format(j,i)\n",
    "#     image=np.concatenate((test_patches_type[0][i*step:(i+1)*step], test_patches_type[1][i*step:(i+1)*step], prediction), axis = -1)\n",
    "#     display_images_2(image,92,388,fn,titles=titles)"
   ]
  },
  {
   "cell_type": "markdown",
   "metadata": {},
   "source": [
    "## 总体精度评价"
   ]
  },
  {
   "cell_type": "code",
   "execution_count": null,
   "metadata": {},
   "outputs": [],
   "source": [
    "frames,numList=readFrames('test')#,sample_factor\n",
    "test_patches = DataGenerator(config.input_image_channel, config.patch_size, frames, config.input_label_channel, augmenter = None).all_sequential_patches(config.step_size)\n",
    "print('test patchs number:',len(test_patches[0]))"
   ]
  },
  {
   "cell_type": "code",
   "execution_count": null,
   "metadata": {
    "scrolled": true
   },
   "outputs": [],
   "source": [
    "ev=model.evaluate(test_patches[0],test_patches[1],config.BATCH_SIZE)\n",
    "ev.append(len(test_patches[0]))"
   ]
  },
  {
   "cell_type": "markdown",
   "metadata": {},
   "source": [
    "## 分类别精度评价"
   ]
  },
  {
   "cell_type": "code",
   "execution_count": null,
   "metadata": {
    "scrolled": true
   },
   "outputs": [],
   "source": [
    "ev_list=[]\n",
    "for i in range(0,config.type_num):\n",
    "    frames=[]\n",
    "    test_patchs_type=[]\n",
    "    path_to_write=os.path.join(config.dataset_dir,'test/type{}'.format(i))\n",
    "    all_files = os.listdir(path_to_write)\n",
    "    all_files_NDWI = [fn for fn in all_files if fn.startswith(config.image_fn) and fn.endswith(config.image_type)]#ndwi.png\n",
    "    for j, fn in enumerate(all_files_NDWI):\n",
    "        f ,num = readImgs(path_to_write,fn)\n",
    "        frames.append(f)\n",
    "    test_patchs_type = DataGenerator(config.input_image_channel, config.patch_size, frames, config.input_label_channel, augmenter = None).all_sequential_patches(config.step_size)\n",
    "    print('type{} patches number:{}'.format(i,len(test_patchs_type[0])))\n",
    "    ev2 = model.evaluate(test_patchs_type[0],test_patchs_type[1],config.BATCH_SIZE,verbose=1)\n",
    "    ev2.append(len(test_patchs_type[0]))\n",
    "    ev_list.append(ev2)\n",
    "    del frames,test_patchs_type"
   ]
  },
  {
   "cell_type": "code",
   "execution_count": null,
   "metadata": {},
   "outputs": [],
   "source": [
    "print('      patch_num   loss accuracy   recall  precision F1_score     IoU')\n",
    "print('total:{:^9}{:^9.3f}{:^9.3f}{:^9.3f} {:^9.3f} {:^9.3f} {:^9.3f}'.format(ev[-1],ev[0],ev[1],ev[2],ev[3],ev[4],ev[5]))\n",
    "for i in range(0,config.type_num):\n",
    "    print('type{}:{:^9}{:^9.3f}{:^9.3f}{:^9.3f} {:^9.3f} {:^9.3f} {:^9.3f}'.format(i,ev_list[i][-1],ev_list[i][0],ev_list[i][1],ev_list[i][2],ev_list[i][3],ev_list[i][4],ev_list[i][5]))"
   ]
  }
 ],
 "metadata": {
  "accelerator": "GPU",
  "colab": {
   "authorship_tag": "ABX9TyOeYCBzQRMr8FXNUC8za+ng",
   "collapsed_sections": [],
   "name": "step3-Training.ipynb",
   "provenance": []
  },
  "kernelspec": {
   "display_name": "tf_gpu_38",
   "language": "python",
   "name": "tf_gpu_38"
  },
  "language_info": {
   "codemirror_mode": {
    "name": "ipython",
    "version": 3
   },
   "file_extension": ".py",
   "mimetype": "text/x-python",
   "name": "python",
   "nbconvert_exporter": "python",
   "pygments_lexer": "ipython3",
   "version": "3.8.18"
  },
  "toc-autonumbering": false
 },
 "nbformat": 4,
 "nbformat_minor": 4
}
