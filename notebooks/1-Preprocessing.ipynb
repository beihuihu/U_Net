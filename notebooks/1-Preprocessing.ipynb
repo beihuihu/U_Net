{
 "cells": [
  {
   "cell_type": "markdown",
   "metadata": {},
   "source": [
    "  Author: Ankit Kariryaa, University of Bremen\n",
    "  \n",
    "  Modified by Beihui Hu\n",
    "\n",
    "\n",
    "#*************************************************************************************************************\n",
    "\n",
    "Copyright (c) 2020, Ankit Kariryaa\n",
    "\n",
    "Permission is hereby granted, free of charge, to any person obtaining a copy\n",
    "of this software and associated documentation files (the \"Software\"), to deal\n",
    "in the Software without restriction, including without limitation the rights\n",
    "to use, copy, modify, merge, publish, distribute, sublicense, and/or sell\n",
    "copies of the Software, and to permit persons to whom the Software is\n",
    "furnished to do so, subject to the following conditions:\n",
    "\n",
    "The above copyright notice and this permission notice shall be included in all\n",
    "copies or substantial portions of the Software.\n",
    "\n",
    "THE SOFTWARE IS PROVIDED \"AS IS\", WITHOUT WARRANTY OF ANY KIND, EXPRESS OR\n",
    "IMPLIED, INCLUDING BUT NOT LIMITED TO THE WARRANTIES OF MERCHANTABILITY,\n",
    "FITNESS FOR A PARTICULAR PURPOSE AND NONINFRINGEMENT. IN NO EVENT SHALL THE\n",
    "AUTHORS OR COPYRIGHT HOLDERS BE LIABLE FOR ANY CLAIM, DAMAGES OR OTHER\n",
    "LIABILITY, WHETHER IN AN ACTION OF CONTRACT, TORT OR OTHERWISE, ARISING FROM,\n",
    "OUT OF OR IN CONNECTION WITH THE SOFTWARE OR THE USE OR OTHER DEALINGS IN THE\n",
    "SOFTWARE.s\n",
    "\n",
    "#*************************************************************************************************************\n"
   ]
  },
  {
   "cell_type": "markdown",
   "metadata": {},
   "source": [
    "### Overview \n",
    "\n",
    "The code was written by Ankit Kariryaa (Kariryaa AT uni-bremen DOT de) in 2018 (see https://doi.org/10.5281/zenodo.3978185), and some modifications were made by Beihui Hu in 2023.\n",
    "\n",
    "Start by labeling a part of the satellite images with the lakes and storing the labels in shapefiles. The areas that are labeled are denoted by the 'training area' and actual lakes in that area are denoted by the 'training polygons'.\n",
    "\n",
    "- First, we read the training area and the training polygons from two separate shapefiles. Then we determine the training area for each training polygon. \n",
    "- Next, we read the raw satellite images (NDWI channel), and extract training image that overlap with a training area from each satellite image. The part of the NDWI image that overlap with the training area and the corresponding label are then written to separate files.\n",
    "- Then, we classify the areas and corresponding polygons into different types .\n",
    "\n",
    "Here, the term training area and training polygon represent all available input data, which can then be separated into training, validation, and test sets in the next notebook(s)."
   ]
  },
  {
   "cell_type": "code",
   "execution_count": 1,
   "metadata": {},
   "outputs": [],
   "source": [
    "import geopandas as gps\n",
    "import rasterio                  # I/O raster data (netcdf, height, geotiff, ...)\n",
    "import rasterio.mask\n",
    "import rasterio.warp             # Reproject raster samples\n",
    "import rasterio.merge\n",
    "from rasterio.transform import rowcol\n",
    "from rasterio import features\n",
    "import fiona                     # I/O vector data (shape, geojson, ...)\n",
    "import pyproj                    # Change coordinate reference system\n",
    "from osgeo import gdal\n",
    "import pandas as pd\n",
    "import shapely\n",
    "from shapely.geometry import box, Point\n",
    "import json\n",
    "\n",
    "import numpy as np               # numerical array manipulation\n",
    "import time\n",
    "import os\n",
    "from PIL import Image\n",
    "import PIL.ImageDraw\n",
    "from core.visualize import display_images\n",
    "\n",
    "import matplotlib.pyplot as plt  # plotting tools\n",
    "%matplotlib inline\n",
    "from tqdm import tqdm_notebook as tqdm\n",
    "from tqdm import trange\n",
    "import warnings                  # ignore annoying warnings\n",
    "warnings.filterwarnings(\"ignore\")\n",
    "\n",
    "%reload_ext autoreload\n",
    "%autoreload 2\n",
    "from IPython.core.interactiveshell import InteractiveShell\n",
    "InteractiveShell.ast_node_interactivity = \"all\"\n",
    "\n",
    "from multiprocessing import Pool"
   ]
  },
  {
   "cell_type": "code",
   "execution_count": 46,
   "metadata": {},
   "outputs": [],
   "source": [
    "# Required configurations (including the input and output paths) are stored in a separate file (such as config/Preprocessing.py)\n",
    "# Please provide required info in the file before continuing with this notebook. \n",
    "# hbh: in this scene,a new config named Preprocessing_within is created to distinguish from the original\n",
    "from config import Preprocessing   \n",
    "# In case you are using a different folder name such as configLargeCluster, then you should import from the respective folder \n",
    "# Eg. from configLargeCluster import Preprocessing\n",
    "config = Preprocessing.Configuration()"
   ]
  },
  {
   "cell_type": "code",
   "execution_count": 4,
   "metadata": {
    "scrolled": true
   },
   "outputs": [],
   "source": [
    "#hbh: check whether the output dir(must be present) of each type is empty\n",
    "for i in range(0,config.type_num):\n",
    "    path_to_write=os.path.join(config.training_base_dir,'output\\\\output'+str(i))\n",
    "    assert os.path.exists(path_to_write)\n",
    "    if not len(os.listdir(path_to_write))==0:\n",
    "         print('Warning: path_to_write{} is not empty! The old files in the directory may not be overwritten!!'.format(i))"
   ]
  },
  {
   "cell_type": "code",
   "execution_count": 55,
   "metadata": {
    "scrolled": true
   },
   "outputs": [
    {
     "name": "stdout",
     "output_type": "stream",
     "text": [
      "(12691, 2) (40, 5)\n"
     ]
    },
    {
     "data": {
      "text/html": [
       "<div>\n",
       "<style scoped>\n",
       "    .dataframe tbody tr th:only-of-type {\n",
       "        vertical-align: middle;\n",
       "    }\n",
       "\n",
       "    .dataframe tbody tr th {\n",
       "        vertical-align: top;\n",
       "    }\n",
       "\n",
       "    .dataframe thead th {\n",
       "        text-align: right;\n",
       "    }\n",
       "</style>\n",
       "<table border=\"1\" class=\"dataframe\">\n",
       "  <thead>\n",
       "    <tr style=\"text-align: right;\">\n",
       "      <th></th>\n",
       "      <th>CLASS_NAME</th>\n",
       "      <th>geometry</th>\n",
       "    </tr>\n",
       "  </thead>\n",
       "  <tbody>\n",
       "    <tr>\n",
       "      <th>0</th>\n",
       "      <td>Lake</td>\n",
       "      <td>POLYGON ((115.37701 68.53903, 115.37674 68.539...</td>\n",
       "    </tr>\n",
       "    <tr>\n",
       "      <th>1</th>\n",
       "      <td>LakeLikeRiver</td>\n",
       "      <td>POLYGON ((115.37045 68.53894, 115.36973 68.538...</td>\n",
       "    </tr>\n",
       "    <tr>\n",
       "      <th>2</th>\n",
       "      <td>Lake</td>\n",
       "      <td>POLYGON ((115.43423 68.53508, 115.43271 68.535...</td>\n",
       "    </tr>\n",
       "    <tr>\n",
       "      <th>3</th>\n",
       "      <td>Lake</td>\n",
       "      <td>POLYGON ((115.41779 68.53292, 115.41761 68.532...</td>\n",
       "    </tr>\n",
       "    <tr>\n",
       "      <th>4</th>\n",
       "      <td>Lake</td>\n",
       "      <td>POLYGON ((115.41330 68.53247, 115.41186 68.532...</td>\n",
       "    </tr>\n",
       "    <tr>\n",
       "      <th>...</th>\n",
       "      <td>...</td>\n",
       "      <td>...</td>\n",
       "    </tr>\n",
       "    <tr>\n",
       "      <th>12686</th>\n",
       "      <td>Lake</td>\n",
       "      <td>POLYGON ((-88.33314 71.49143, -88.33341 71.491...</td>\n",
       "    </tr>\n",
       "    <tr>\n",
       "      <th>12687</th>\n",
       "      <td>Lake</td>\n",
       "      <td>POLYGON ((-88.28050 71.49027, -88.28086 71.490...</td>\n",
       "    </tr>\n",
       "    <tr>\n",
       "      <th>12688</th>\n",
       "      <td>Lake</td>\n",
       "      <td>POLYGON ((-88.28652 71.48820, -88.28831 71.488...</td>\n",
       "    </tr>\n",
       "    <tr>\n",
       "      <th>12689</th>\n",
       "      <td>Lake</td>\n",
       "      <td>POLYGON ((-88.36467 71.48533, -88.36575 71.485...</td>\n",
       "    </tr>\n",
       "    <tr>\n",
       "      <th>12690</th>\n",
       "      <td>Lake</td>\n",
       "      <td>POLYGON ((-88.34931 71.48452, -88.35057 71.484...</td>\n",
       "    </tr>\n",
       "  </tbody>\n",
       "</table>\n",
       "<p>12691 rows × 2 columns</p>\n",
       "</div>"
      ],
      "text/plain": [
       "          CLASS_NAME                                           geometry\n",
       "0               Lake  POLYGON ((115.37701 68.53903, 115.37674 68.539...\n",
       "1      LakeLikeRiver  POLYGON ((115.37045 68.53894, 115.36973 68.538...\n",
       "2               Lake  POLYGON ((115.43423 68.53508, 115.43271 68.535...\n",
       "3               Lake  POLYGON ((115.41779 68.53292, 115.41761 68.532...\n",
       "4               Lake  POLYGON ((115.41330 68.53247, 115.41186 68.532...\n",
       "...              ...                                                ...\n",
       "12686           Lake  POLYGON ((-88.33314 71.49143, -88.33341 71.491...\n",
       "12687           Lake  POLYGON ((-88.28050 71.49027, -88.28086 71.490...\n",
       "12688           Lake  POLYGON ((-88.28652 71.48820, -88.28831 71.488...\n",
       "12689           Lake  POLYGON ((-88.36467 71.48533, -88.36575 71.485...\n",
       "12690           Lake  POLYGON ((-88.34931 71.48452, -88.35057 71.484...\n",
       "\n",
       "[12691 rows x 2 columns]"
      ]
     },
     "execution_count": 55,
     "metadata": {},
     "output_type": "execute_result"
    },
    {
     "data": {
      "text/html": [
       "<div>\n",
       "<style scoped>\n",
       "    .dataframe tbody tr th:only-of-type {\n",
       "        vertical-align: middle;\n",
       "    }\n",
       "\n",
       "    .dataframe tbody tr th {\n",
       "        vertical-align: top;\n",
       "    }\n",
       "\n",
       "    .dataframe thead th {\n",
       "        text-align: right;\n",
       "    }\n",
       "</style>\n",
       "<table border=\"1\" class=\"dataframe\">\n",
       "  <thead>\n",
       "    <tr style=\"text-align: right;\">\n",
       "      <th></th>\n",
       "      <th>Shape_Leng</th>\n",
       "      <th>Shape_Area</th>\n",
       "      <th>id</th>\n",
       "      <th>type</th>\n",
       "      <th>geometry</th>\n",
       "    </tr>\n",
       "  </thead>\n",
       "  <tbody>\n",
       "    <tr>\n",
       "      <th>0</th>\n",
       "      <td>0.0</td>\n",
       "      <td>253.836619</td>\n",
       "      <td>14042</td>\n",
       "      <td>1</td>\n",
       "      <td>POLYGON Z ((115.36804 68.55690 0.00000, 115.59...</td>\n",
       "    </tr>\n",
       "    <tr>\n",
       "      <th>1</th>\n",
       "      <td>0.0</td>\n",
       "      <td>232.079808</td>\n",
       "      <td>14077</td>\n",
       "      <td>0</td>\n",
       "      <td>POLYGON Z ((120.00713 63.84945 0.00000, 120.00...</td>\n",
       "    </tr>\n",
       "    <tr>\n",
       "      <th>2</th>\n",
       "      <td>0.0</td>\n",
       "      <td>123.291028</td>\n",
       "      <td>14084</td>\n",
       "      <td>0</td>\n",
       "      <td>POLYGON Z ((120.24413 60.54646 0.00000, 120.37...</td>\n",
       "    </tr>\n",
       "    <tr>\n",
       "      <th>3</th>\n",
       "      <td>0.0</td>\n",
       "      <td>206.680485</td>\n",
       "      <td>14111</td>\n",
       "      <td>0</td>\n",
       "      <td>POLYGON Z ((122.42050 66.99405 0.00000, 122.42...</td>\n",
       "    </tr>\n",
       "    <tr>\n",
       "      <th>4</th>\n",
       "      <td>0.0</td>\n",
       "      <td>225.228661</td>\n",
       "      <td>14147</td>\n",
       "      <td>1</td>\n",
       "      <td>POLYGON Z ((126.61620 63.89721 0.00000, 126.61...</td>\n",
       "    </tr>\n",
       "    <tr>\n",
       "      <th>5</th>\n",
       "      <td>0.0</td>\n",
       "      <td>382.767429</td>\n",
       "      <td>14206</td>\n",
       "      <td>0</td>\n",
       "      <td>POLYGON Z ((132.53697 62.22490 0.00000, 132.53...</td>\n",
       "    </tr>\n",
       "    <tr>\n",
       "      <th>6</th>\n",
       "      <td>0.0</td>\n",
       "      <td>320.846646</td>\n",
       "      <td>14241</td>\n",
       "      <td>1</td>\n",
       "      <td>POLYGON Z ((135.34413 67.97670 0.00000, 135.65...</td>\n",
       "    </tr>\n",
       "    <tr>\n",
       "      <th>7</th>\n",
       "      <td>0.0</td>\n",
       "      <td>593.351246</td>\n",
       "      <td>14277</td>\n",
       "      <td>1</td>\n",
       "      <td>POLYGON Z ((139.88433 63.64279 0.00000, 139.88...</td>\n",
       "    </tr>\n",
       "    <tr>\n",
       "      <th>8</th>\n",
       "      <td>0.0</td>\n",
       "      <td>598.908950</td>\n",
       "      <td>14309</td>\n",
       "      <td>3</td>\n",
       "      <td>POLYGON Z ((142.69395 65.72465 0.00000, 142.99...</td>\n",
       "    </tr>\n",
       "    <tr>\n",
       "      <th>9</th>\n",
       "      <td>0.0</td>\n",
       "      <td>250.418992</td>\n",
       "      <td>14312</td>\n",
       "      <td>1</td>\n",
       "      <td>POLYGON Z ((142.98301 68.30494 0.00000, 142.73...</td>\n",
       "    </tr>\n",
       "    <tr>\n",
       "      <th>10</th>\n",
       "      <td>0.0</td>\n",
       "      <td>269.024711</td>\n",
       "      <td>14346</td>\n",
       "      <td>1</td>\n",
       "      <td>POLYGON Z ((146.35985 62.51971 0.00000, 146.59...</td>\n",
       "    </tr>\n",
       "    <tr>\n",
       "      <th>11</th>\n",
       "      <td>0.0</td>\n",
       "      <td>205.476949</td>\n",
       "      <td>14370</td>\n",
       "      <td>1</td>\n",
       "      <td>POLYGON Z ((148.00646 66.86335 0.00000, 148.23...</td>\n",
       "    </tr>\n",
       "    <tr>\n",
       "      <th>12</th>\n",
       "      <td>0.0</td>\n",
       "      <td>447.664594</td>\n",
       "      <td>14416</td>\n",
       "      <td>1</td>\n",
       "      <td>POLYGON Z ((153.34402 62.64263 0.00000, 153.67...</td>\n",
       "    </tr>\n",
       "    <tr>\n",
       "      <th>13</th>\n",
       "      <td>0.0</td>\n",
       "      <td>192.769724</td>\n",
       "      <td>14422</td>\n",
       "      <td>0</td>\n",
       "      <td>POLYGON Z ((152.99807 68.81187 0.00000, 152.99...</td>\n",
       "    </tr>\n",
       "    <tr>\n",
       "      <th>14</th>\n",
       "      <td>0.0</td>\n",
       "      <td>133.150037</td>\n",
       "      <td>14449</td>\n",
       "      <td>0</td>\n",
       "      <td>POLYGON Z ((156.28896 65.91263 0.00000, 156.50...</td>\n",
       "    </tr>\n",
       "    <tr>\n",
       "      <th>15</th>\n",
       "      <td>0.0</td>\n",
       "      <td>274.678725</td>\n",
       "      <td>14494</td>\n",
       "      <td>0</td>\n",
       "      <td>POLYGON Z ((161.15242 62.24007 0.00000, 161.15...</td>\n",
       "    </tr>\n",
       "    <tr>\n",
       "      <th>16</th>\n",
       "      <td>0.0</td>\n",
       "      <td>291.803071</td>\n",
       "      <td>14500</td>\n",
       "      <td>1</td>\n",
       "      <td>POLYGON Z ((161.32969 68.61266 0.00000, 161.59...</td>\n",
       "    </tr>\n",
       "    <tr>\n",
       "      <th>17</th>\n",
       "      <td>0.0</td>\n",
       "      <td>149.249986</td>\n",
       "      <td>14541</td>\n",
       "      <td>1</td>\n",
       "      <td>POLYGON Z ((165.11224 69.57306 0.00000, 165.39...</td>\n",
       "    </tr>\n",
       "    <tr>\n",
       "      <th>18</th>\n",
       "      <td>0.0</td>\n",
       "      <td>457.896669</td>\n",
       "      <td>14557</td>\n",
       "      <td>1</td>\n",
       "      <td>POLYGON Z ((167.24202 65.57142 0.00000, 167.70...</td>\n",
       "    </tr>\n",
       "    <tr>\n",
       "      <th>19</th>\n",
       "      <td>0.0</td>\n",
       "      <td>304.151059</td>\n",
       "      <td>14583</td>\n",
       "      <td>1</td>\n",
       "      <td>POLYGON Z ((170.30814 61.67228 0.00000, 170.57...</td>\n",
       "    </tr>\n",
       "    <tr>\n",
       "      <th>20</th>\n",
       "      <td>0.0</td>\n",
       "      <td>391.783553</td>\n",
       "      <td>14600</td>\n",
       "      <td>1</td>\n",
       "      <td>POLYGON Z ((171.34741 68.76906 0.00000, 171.66...</td>\n",
       "    </tr>\n",
       "    <tr>\n",
       "      <th>21</th>\n",
       "      <td>0.0</td>\n",
       "      <td>373.217592</td>\n",
       "      <td>14624</td>\n",
       "      <td>1</td>\n",
       "      <td>POLYGON Z ((174.30739 64.79243 0.00000, 174.65...</td>\n",
       "    </tr>\n",
       "    <tr>\n",
       "      <th>22</th>\n",
       "      <td>0.0</td>\n",
       "      <td>371.287453</td>\n",
       "      <td>14668</td>\n",
       "      <td>3</td>\n",
       "      <td>POLYGON Z ((179.99940 67.57255 0.00000, 179.99...</td>\n",
       "    </tr>\n",
       "    <tr>\n",
       "      <th>23</th>\n",
       "      <td>0.0</td>\n",
       "      <td>243.515741</td>\n",
       "      <td>14674</td>\n",
       "      <td>1</td>\n",
       "      <td>POLYGON Z ((-178.99302 71.56248 0.00000, -178....</td>\n",
       "    </tr>\n",
       "    <tr>\n",
       "      <th>24</th>\n",
       "      <td>0.0</td>\n",
       "      <td>337.244267</td>\n",
       "      <td>14682</td>\n",
       "      <td>1</td>\n",
       "      <td>POLYGON Z ((-159.70140 70.30777 0.00000, -159....</td>\n",
       "    </tr>\n",
       "    <tr>\n",
       "      <th>25</th>\n",
       "      <td>0.0</td>\n",
       "      <td>140.614233</td>\n",
       "      <td>14689</td>\n",
       "      <td>0</td>\n",
       "      <td>POLYGON Z ((-156.46526 71.25234 0.00000, -156....</td>\n",
       "    </tr>\n",
       "    <tr>\n",
       "      <th>26</th>\n",
       "      <td>0.0</td>\n",
       "      <td>134.357481</td>\n",
       "      <td>14698</td>\n",
       "      <td>1</td>\n",
       "      <td>POLYGON Z ((-151.62395 70.11620 0.00000, -151....</td>\n",
       "    </tr>\n",
       "    <tr>\n",
       "      <th>27</th>\n",
       "      <td>0.0</td>\n",
       "      <td>300.245312</td>\n",
       "      <td>14735</td>\n",
       "      <td>0</td>\n",
       "      <td>POLYGON Z ((-122.87805 71.82362 0.00000, -122....</td>\n",
       "    </tr>\n",
       "    <tr>\n",
       "      <th>28</th>\n",
       "      <td>0.0</td>\n",
       "      <td>174.433063</td>\n",
       "      <td>14753</td>\n",
       "      <td>0</td>\n",
       "      <td>POLYGON Z ((-120.31807 76.64682 0.00000, -120....</td>\n",
       "    </tr>\n",
       "    <tr>\n",
       "      <th>29</th>\n",
       "      <td>0.0</td>\n",
       "      <td>270.514872</td>\n",
       "      <td>14781</td>\n",
       "      <td>0</td>\n",
       "      <td>POLYGON Z ((-116.63203 73.60901 0.00000, -116....</td>\n",
       "    </tr>\n",
       "    <tr>\n",
       "      <th>30</th>\n",
       "      <td>0.0</td>\n",
       "      <td>300.657089</td>\n",
       "      <td>14807</td>\n",
       "      <td>0</td>\n",
       "      <td>POLYGON Z ((-113.29415 75.49958 0.00000, -113....</td>\n",
       "    </tr>\n",
       "    <tr>\n",
       "      <th>31</th>\n",
       "      <td>0.0</td>\n",
       "      <td>205.711251</td>\n",
       "      <td>14836</td>\n",
       "      <td>0</td>\n",
       "      <td>POLYGON Z ((-109.36715 72.73091 0.00000, -109....</td>\n",
       "    </tr>\n",
       "    <tr>\n",
       "      <th>32</th>\n",
       "      <td>0.0</td>\n",
       "      <td>169.284980</td>\n",
       "      <td>14857</td>\n",
       "      <td>0</td>\n",
       "      <td>POLYGON Z ((-106.14094 70.63022 0.00000, -106....</td>\n",
       "    </tr>\n",
       "    <tr>\n",
       "      <th>33</th>\n",
       "      <td>0.0</td>\n",
       "      <td>156.635518</td>\n",
       "      <td>14862</td>\n",
       "      <td>0</td>\n",
       "      <td>POLYGON Z ((-106.82361 75.72715 0.00000, -106....</td>\n",
       "    </tr>\n",
       "    <tr>\n",
       "      <th>34</th>\n",
       "      <td>0.0</td>\n",
       "      <td>45.489278</td>\n",
       "      <td>14872</td>\n",
       "      <td>0</td>\n",
       "      <td>POLYGON Z ((-105.42200 77.26120 0.00000, -105....</td>\n",
       "    </tr>\n",
       "    <tr>\n",
       "      <th>35</th>\n",
       "      <td>0.0</td>\n",
       "      <td>169.405728</td>\n",
       "      <td>14926</td>\n",
       "      <td>0</td>\n",
       "      <td>POLYGON Z ((-97.75425 71.93638 0.00000, -97.52...</td>\n",
       "    </tr>\n",
       "    <tr>\n",
       "      <th>36</th>\n",
       "      <td>0.0</td>\n",
       "      <td>119.394775</td>\n",
       "      <td>14947</td>\n",
       "      <td>0</td>\n",
       "      <td>POLYGON Z ((-95.62320 76.59598 0.00000, -95.41...</td>\n",
       "    </tr>\n",
       "    <tr>\n",
       "      <th>37</th>\n",
       "      <td>0.0</td>\n",
       "      <td>329.855360</td>\n",
       "      <td>14975</td>\n",
       "      <td>0</td>\n",
       "      <td>POLYGON Z ((-91.47424 73.68117 0.00000, -91.12...</td>\n",
       "    </tr>\n",
       "    <tr>\n",
       "      <th>38</th>\n",
       "      <td>0.0</td>\n",
       "      <td>188.775178</td>\n",
       "      <td>14997</td>\n",
       "      <td>0</td>\n",
       "      <td>POLYGON Z ((-88.46861 71.67452 0.00000, -88.21...</td>\n",
       "    </tr>\n",
       "    <tr>\n",
       "      <th>39</th>\n",
       "      <td>0.0</td>\n",
       "      <td>70.238972</td>\n",
       "      <td>14914</td>\n",
       "      <td>0</td>\n",
       "      <td>POLYGON Z ((-99.76715 75.15305 0.00000, -99.60...</td>\n",
       "    </tr>\n",
       "  </tbody>\n",
       "</table>\n",
       "</div>"
      ],
      "text/plain": [
       "    Shape_Leng  Shape_Area     id  type  \\\n",
       "0          0.0  253.836619  14042     1   \n",
       "1          0.0  232.079808  14077     0   \n",
       "2          0.0  123.291028  14084     0   \n",
       "3          0.0  206.680485  14111     0   \n",
       "4          0.0  225.228661  14147     1   \n",
       "5          0.0  382.767429  14206     0   \n",
       "6          0.0  320.846646  14241     1   \n",
       "7          0.0  593.351246  14277     1   \n",
       "8          0.0  598.908950  14309     3   \n",
       "9          0.0  250.418992  14312     1   \n",
       "10         0.0  269.024711  14346     1   \n",
       "11         0.0  205.476949  14370     1   \n",
       "12         0.0  447.664594  14416     1   \n",
       "13         0.0  192.769724  14422     0   \n",
       "14         0.0  133.150037  14449     0   \n",
       "15         0.0  274.678725  14494     0   \n",
       "16         0.0  291.803071  14500     1   \n",
       "17         0.0  149.249986  14541     1   \n",
       "18         0.0  457.896669  14557     1   \n",
       "19         0.0  304.151059  14583     1   \n",
       "20         0.0  391.783553  14600     1   \n",
       "21         0.0  373.217592  14624     1   \n",
       "22         0.0  371.287453  14668     3   \n",
       "23         0.0  243.515741  14674     1   \n",
       "24         0.0  337.244267  14682     1   \n",
       "25         0.0  140.614233  14689     0   \n",
       "26         0.0  134.357481  14698     1   \n",
       "27         0.0  300.245312  14735     0   \n",
       "28         0.0  174.433063  14753     0   \n",
       "29         0.0  270.514872  14781     0   \n",
       "30         0.0  300.657089  14807     0   \n",
       "31         0.0  205.711251  14836     0   \n",
       "32         0.0  169.284980  14857     0   \n",
       "33         0.0  156.635518  14862     0   \n",
       "34         0.0   45.489278  14872     0   \n",
       "35         0.0  169.405728  14926     0   \n",
       "36         0.0  119.394775  14947     0   \n",
       "37         0.0  329.855360  14975     0   \n",
       "38         0.0  188.775178  14997     0   \n",
       "39         0.0   70.238972  14914     0   \n",
       "\n",
       "                                             geometry  \n",
       "0   POLYGON Z ((115.36804 68.55690 0.00000, 115.59...  \n",
       "1   POLYGON Z ((120.00713 63.84945 0.00000, 120.00...  \n",
       "2   POLYGON Z ((120.24413 60.54646 0.00000, 120.37...  \n",
       "3   POLYGON Z ((122.42050 66.99405 0.00000, 122.42...  \n",
       "4   POLYGON Z ((126.61620 63.89721 0.00000, 126.61...  \n",
       "5   POLYGON Z ((132.53697 62.22490 0.00000, 132.53...  \n",
       "6   POLYGON Z ((135.34413 67.97670 0.00000, 135.65...  \n",
       "7   POLYGON Z ((139.88433 63.64279 0.00000, 139.88...  \n",
       "8   POLYGON Z ((142.69395 65.72465 0.00000, 142.99...  \n",
       "9   POLYGON Z ((142.98301 68.30494 0.00000, 142.73...  \n",
       "10  POLYGON Z ((146.35985 62.51971 0.00000, 146.59...  \n",
       "11  POLYGON Z ((148.00646 66.86335 0.00000, 148.23...  \n",
       "12  POLYGON Z ((153.34402 62.64263 0.00000, 153.67...  \n",
       "13  POLYGON Z ((152.99807 68.81187 0.00000, 152.99...  \n",
       "14  POLYGON Z ((156.28896 65.91263 0.00000, 156.50...  \n",
       "15  POLYGON Z ((161.15242 62.24007 0.00000, 161.15...  \n",
       "16  POLYGON Z ((161.32969 68.61266 0.00000, 161.59...  \n",
       "17  POLYGON Z ((165.11224 69.57306 0.00000, 165.39...  \n",
       "18  POLYGON Z ((167.24202 65.57142 0.00000, 167.70...  \n",
       "19  POLYGON Z ((170.30814 61.67228 0.00000, 170.57...  \n",
       "20  POLYGON Z ((171.34741 68.76906 0.00000, 171.66...  \n",
       "21  POLYGON Z ((174.30739 64.79243 0.00000, 174.65...  \n",
       "22  POLYGON Z ((179.99940 67.57255 0.00000, 179.99...  \n",
       "23  POLYGON Z ((-178.99302 71.56248 0.00000, -178....  \n",
       "24  POLYGON Z ((-159.70140 70.30777 0.00000, -159....  \n",
       "25  POLYGON Z ((-156.46526 71.25234 0.00000, -156....  \n",
       "26  POLYGON Z ((-151.62395 70.11620 0.00000, -151....  \n",
       "27  POLYGON Z ((-122.87805 71.82362 0.00000, -122....  \n",
       "28  POLYGON Z ((-120.31807 76.64682 0.00000, -120....  \n",
       "29  POLYGON Z ((-116.63203 73.60901 0.00000, -116....  \n",
       "30  POLYGON Z ((-113.29415 75.49958 0.00000, -113....  \n",
       "31  POLYGON Z ((-109.36715 72.73091 0.00000, -109....  \n",
       "32  POLYGON Z ((-106.14094 70.63022 0.00000, -106....  \n",
       "33  POLYGON Z ((-106.82361 75.72715 0.00000, -106....  \n",
       "34  POLYGON Z ((-105.42200 77.26120 0.00000, -105....  \n",
       "35  POLYGON Z ((-97.75425 71.93638 0.00000, -97.52...  \n",
       "36  POLYGON Z ((-95.62320 76.59598 0.00000, -95.41...  \n",
       "37  POLYGON Z ((-91.47424 73.68117 0.00000, -91.12...  \n",
       "38  POLYGON Z ((-88.46861 71.67452 0.00000, -88.21...  \n",
       "39  POLYGON Z ((-99.76715 75.15305 0.00000, -99.60...  "
      ]
     },
     "execution_count": 55,
     "metadata": {},
     "output_type": "execute_result"
    },
    {
     "name": "stdout",
     "output_type": "stream",
     "text": [
      "Read a total of 12691 object polygons and 40 training areas.\n",
      "Polygons will be assigned to training areas in the next steps.\n"
     ]
    }
   ],
   "source": [
    "#Read the training area 、 training polygons\n",
    "trainingArea = gps.read_file(r\"D:\\lakemapping\\2_dataset\\sampleAnnotations\\area\")\n",
    "trainingPolygon = gps.read_file(r\"D:\\lakemapping\\2_dataset\\sampleAnnotations\\polygon\")\n",
    "# trainingArea = gps.read_file(os.path.join(config.training_base_dir, config.training_area_fn))\n",
    "# trainingPolygon = gps.read_file(os.path.join(config.training_base_dir, config.training_polygon_fn))\n",
    "print(trainingPolygon.shape,trainingArea.shape)# area:id, geomerry;   polygon:id, geometry \n",
    "trainingPolygon\n",
    "trainingArea\n",
    "print(f'Read a total of {trainingPolygon.shape[0]} object polygons and {trainingArea.shape[0]} training areas.')\n",
    "print(f'Polygons will be assigned to training areas in the next steps.')"
   ]
  },
  {
   "cell_type": "code",
   "execution_count": 56,
   "metadata": {},
   "outputs": [
    {
     "name": "stdout",
     "output_type": "stream",
     "text": [
      "epsg:4326\n",
      "epsg:4326\n"
     ]
    }
   ],
   "source": [
    "# Check if the training areas and the training polygons have the same crs     \n",
    "if trainingArea.crs  != trainingPolygon.crs:\n",
    "    print('Training area CRS does not match training_polygon CRS')\n",
    "    targetCRS = trainingPolygon.crs #Areas are less in number so conversion should be faster\n",
    "    trainingArea = trainingArea.to_crs(targetCRS)\n",
    "print(trainingPolygon.crs)\n",
    "print(trainingArea.crs)\n",
    "assert trainingPolygon.crs == trainingArea.crs"
   ]
  },
  {
   "cell_type": "code",
   "execution_count": 57,
   "metadata": {
    "scrolled": true
   },
   "outputs": [
    {
     "data": {
      "text/html": [
       "<div>\n",
       "<style scoped>\n",
       "    .dataframe tbody tr th:only-of-type {\n",
       "        vertical-align: middle;\n",
       "    }\n",
       "\n",
       "    .dataframe tbody tr th {\n",
       "        vertical-align: top;\n",
       "    }\n",
       "\n",
       "    .dataframe thead th {\n",
       "        text-align: right;\n",
       "    }\n",
       "</style>\n",
       "<table border=\"1\" class=\"dataframe\">\n",
       "  <thead>\n",
       "    <tr style=\"text-align: right;\">\n",
       "      <th></th>\n",
       "      <th>Shape_Leng</th>\n",
       "      <th>Shape_Area</th>\n",
       "      <th>id</th>\n",
       "      <th>type</th>\n",
       "      <th>geometry</th>\n",
       "    </tr>\n",
       "  </thead>\n",
       "  <tbody>\n",
       "    <tr>\n",
       "      <th>0</th>\n",
       "      <td>0.0</td>\n",
       "      <td>253.836619</td>\n",
       "      <td>0</td>\n",
       "      <td>1</td>\n",
       "      <td>POLYGON Z ((115.36804 68.55690 0.00000, 115.59...</td>\n",
       "    </tr>\n",
       "    <tr>\n",
       "      <th>1</th>\n",
       "      <td>0.0</td>\n",
       "      <td>232.079808</td>\n",
       "      <td>1</td>\n",
       "      <td>0</td>\n",
       "      <td>POLYGON Z ((120.00713 63.84945 0.00000, 120.00...</td>\n",
       "    </tr>\n",
       "    <tr>\n",
       "      <th>2</th>\n",
       "      <td>0.0</td>\n",
       "      <td>123.291028</td>\n",
       "      <td>2</td>\n",
       "      <td>0</td>\n",
       "      <td>POLYGON Z ((120.24413 60.54646 0.00000, 120.37...</td>\n",
       "    </tr>\n",
       "    <tr>\n",
       "      <th>3</th>\n",
       "      <td>0.0</td>\n",
       "      <td>206.680485</td>\n",
       "      <td>3</td>\n",
       "      <td>0</td>\n",
       "      <td>POLYGON Z ((122.42050 66.99405 0.00000, 122.42...</td>\n",
       "    </tr>\n",
       "    <tr>\n",
       "      <th>4</th>\n",
       "      <td>0.0</td>\n",
       "      <td>225.228661</td>\n",
       "      <td>4</td>\n",
       "      <td>1</td>\n",
       "      <td>POLYGON Z ((126.61620 63.89721 0.00000, 126.61...</td>\n",
       "    </tr>\n",
       "    <tr>\n",
       "      <th>5</th>\n",
       "      <td>0.0</td>\n",
       "      <td>382.767429</td>\n",
       "      <td>5</td>\n",
       "      <td>0</td>\n",
       "      <td>POLYGON Z ((132.53697 62.22490 0.00000, 132.53...</td>\n",
       "    </tr>\n",
       "    <tr>\n",
       "      <th>6</th>\n",
       "      <td>0.0</td>\n",
       "      <td>320.846646</td>\n",
       "      <td>6</td>\n",
       "      <td>1</td>\n",
       "      <td>POLYGON Z ((135.34413 67.97670 0.00000, 135.65...</td>\n",
       "    </tr>\n",
       "    <tr>\n",
       "      <th>7</th>\n",
       "      <td>0.0</td>\n",
       "      <td>593.351246</td>\n",
       "      <td>7</td>\n",
       "      <td>1</td>\n",
       "      <td>POLYGON Z ((139.88433 63.64279 0.00000, 139.88...</td>\n",
       "    </tr>\n",
       "    <tr>\n",
       "      <th>8</th>\n",
       "      <td>0.0</td>\n",
       "      <td>598.908950</td>\n",
       "      <td>8</td>\n",
       "      <td>3</td>\n",
       "      <td>POLYGON Z ((142.69395 65.72465 0.00000, 142.99...</td>\n",
       "    </tr>\n",
       "    <tr>\n",
       "      <th>9</th>\n",
       "      <td>0.0</td>\n",
       "      <td>250.418992</td>\n",
       "      <td>9</td>\n",
       "      <td>1</td>\n",
       "      <td>POLYGON Z ((142.98301 68.30494 0.00000, 142.73...</td>\n",
       "    </tr>\n",
       "    <tr>\n",
       "      <th>10</th>\n",
       "      <td>0.0</td>\n",
       "      <td>269.024711</td>\n",
       "      <td>10</td>\n",
       "      <td>1</td>\n",
       "      <td>POLYGON Z ((146.35985 62.51971 0.00000, 146.59...</td>\n",
       "    </tr>\n",
       "    <tr>\n",
       "      <th>11</th>\n",
       "      <td>0.0</td>\n",
       "      <td>205.476949</td>\n",
       "      <td>11</td>\n",
       "      <td>1</td>\n",
       "      <td>POLYGON Z ((148.00646 66.86335 0.00000, 148.23...</td>\n",
       "    </tr>\n",
       "    <tr>\n",
       "      <th>12</th>\n",
       "      <td>0.0</td>\n",
       "      <td>447.664594</td>\n",
       "      <td>12</td>\n",
       "      <td>1</td>\n",
       "      <td>POLYGON Z ((153.34402 62.64263 0.00000, 153.67...</td>\n",
       "    </tr>\n",
       "    <tr>\n",
       "      <th>13</th>\n",
       "      <td>0.0</td>\n",
       "      <td>192.769724</td>\n",
       "      <td>13</td>\n",
       "      <td>0</td>\n",
       "      <td>POLYGON Z ((152.99807 68.81187 0.00000, 152.99...</td>\n",
       "    </tr>\n",
       "    <tr>\n",
       "      <th>14</th>\n",
       "      <td>0.0</td>\n",
       "      <td>133.150037</td>\n",
       "      <td>14</td>\n",
       "      <td>0</td>\n",
       "      <td>POLYGON Z ((156.28896 65.91263 0.00000, 156.50...</td>\n",
       "    </tr>\n",
       "    <tr>\n",
       "      <th>15</th>\n",
       "      <td>0.0</td>\n",
       "      <td>274.678725</td>\n",
       "      <td>15</td>\n",
       "      <td>0</td>\n",
       "      <td>POLYGON Z ((161.15242 62.24007 0.00000, 161.15...</td>\n",
       "    </tr>\n",
       "    <tr>\n",
       "      <th>16</th>\n",
       "      <td>0.0</td>\n",
       "      <td>291.803071</td>\n",
       "      <td>16</td>\n",
       "      <td>1</td>\n",
       "      <td>POLYGON Z ((161.32969 68.61266 0.00000, 161.59...</td>\n",
       "    </tr>\n",
       "    <tr>\n",
       "      <th>17</th>\n",
       "      <td>0.0</td>\n",
       "      <td>149.249986</td>\n",
       "      <td>17</td>\n",
       "      <td>1</td>\n",
       "      <td>POLYGON Z ((165.11224 69.57306 0.00000, 165.39...</td>\n",
       "    </tr>\n",
       "    <tr>\n",
       "      <th>18</th>\n",
       "      <td>0.0</td>\n",
       "      <td>457.896669</td>\n",
       "      <td>18</td>\n",
       "      <td>1</td>\n",
       "      <td>POLYGON Z ((167.24202 65.57142 0.00000, 167.70...</td>\n",
       "    </tr>\n",
       "    <tr>\n",
       "      <th>19</th>\n",
       "      <td>0.0</td>\n",
       "      <td>304.151059</td>\n",
       "      <td>19</td>\n",
       "      <td>1</td>\n",
       "      <td>POLYGON Z ((170.30814 61.67228 0.00000, 170.57...</td>\n",
       "    </tr>\n",
       "    <tr>\n",
       "      <th>20</th>\n",
       "      <td>0.0</td>\n",
       "      <td>391.783553</td>\n",
       "      <td>20</td>\n",
       "      <td>1</td>\n",
       "      <td>POLYGON Z ((171.34741 68.76906 0.00000, 171.66...</td>\n",
       "    </tr>\n",
       "    <tr>\n",
       "      <th>21</th>\n",
       "      <td>0.0</td>\n",
       "      <td>373.217592</td>\n",
       "      <td>21</td>\n",
       "      <td>1</td>\n",
       "      <td>POLYGON Z ((174.30739 64.79243 0.00000, 174.65...</td>\n",
       "    </tr>\n",
       "    <tr>\n",
       "      <th>22</th>\n",
       "      <td>0.0</td>\n",
       "      <td>371.287453</td>\n",
       "      <td>22</td>\n",
       "      <td>3</td>\n",
       "      <td>POLYGON Z ((179.99940 67.57255 0.00000, 179.99...</td>\n",
       "    </tr>\n",
       "    <tr>\n",
       "      <th>23</th>\n",
       "      <td>0.0</td>\n",
       "      <td>243.515741</td>\n",
       "      <td>23</td>\n",
       "      <td>1</td>\n",
       "      <td>POLYGON Z ((-178.99302 71.56248 0.00000, -178....</td>\n",
       "    </tr>\n",
       "    <tr>\n",
       "      <th>24</th>\n",
       "      <td>0.0</td>\n",
       "      <td>337.244267</td>\n",
       "      <td>24</td>\n",
       "      <td>1</td>\n",
       "      <td>POLYGON Z ((-159.70140 70.30777 0.00000, -159....</td>\n",
       "    </tr>\n",
       "    <tr>\n",
       "      <th>25</th>\n",
       "      <td>0.0</td>\n",
       "      <td>140.614233</td>\n",
       "      <td>25</td>\n",
       "      <td>0</td>\n",
       "      <td>POLYGON Z ((-156.46526 71.25234 0.00000, -156....</td>\n",
       "    </tr>\n",
       "    <tr>\n",
       "      <th>26</th>\n",
       "      <td>0.0</td>\n",
       "      <td>134.357481</td>\n",
       "      <td>26</td>\n",
       "      <td>1</td>\n",
       "      <td>POLYGON Z ((-151.62395 70.11620 0.00000, -151....</td>\n",
       "    </tr>\n",
       "    <tr>\n",
       "      <th>27</th>\n",
       "      <td>0.0</td>\n",
       "      <td>300.245312</td>\n",
       "      <td>27</td>\n",
       "      <td>0</td>\n",
       "      <td>POLYGON Z ((-122.87805 71.82362 0.00000, -122....</td>\n",
       "    </tr>\n",
       "    <tr>\n",
       "      <th>28</th>\n",
       "      <td>0.0</td>\n",
       "      <td>174.433063</td>\n",
       "      <td>28</td>\n",
       "      <td>0</td>\n",
       "      <td>POLYGON Z ((-120.31807 76.64682 0.00000, -120....</td>\n",
       "    </tr>\n",
       "    <tr>\n",
       "      <th>29</th>\n",
       "      <td>0.0</td>\n",
       "      <td>270.514872</td>\n",
       "      <td>29</td>\n",
       "      <td>0</td>\n",
       "      <td>POLYGON Z ((-116.63203 73.60901 0.00000, -116....</td>\n",
       "    </tr>\n",
       "    <tr>\n",
       "      <th>30</th>\n",
       "      <td>0.0</td>\n",
       "      <td>300.657089</td>\n",
       "      <td>30</td>\n",
       "      <td>0</td>\n",
       "      <td>POLYGON Z ((-113.29415 75.49958 0.00000, -113....</td>\n",
       "    </tr>\n",
       "    <tr>\n",
       "      <th>31</th>\n",
       "      <td>0.0</td>\n",
       "      <td>205.711251</td>\n",
       "      <td>31</td>\n",
       "      <td>0</td>\n",
       "      <td>POLYGON Z ((-109.36715 72.73091 0.00000, -109....</td>\n",
       "    </tr>\n",
       "    <tr>\n",
       "      <th>32</th>\n",
       "      <td>0.0</td>\n",
       "      <td>169.284980</td>\n",
       "      <td>32</td>\n",
       "      <td>0</td>\n",
       "      <td>POLYGON Z ((-106.14094 70.63022 0.00000, -106....</td>\n",
       "    </tr>\n",
       "    <tr>\n",
       "      <th>33</th>\n",
       "      <td>0.0</td>\n",
       "      <td>156.635518</td>\n",
       "      <td>33</td>\n",
       "      <td>0</td>\n",
       "      <td>POLYGON Z ((-106.82361 75.72715 0.00000, -106....</td>\n",
       "    </tr>\n",
       "    <tr>\n",
       "      <th>34</th>\n",
       "      <td>0.0</td>\n",
       "      <td>45.489278</td>\n",
       "      <td>34</td>\n",
       "      <td>0</td>\n",
       "      <td>POLYGON Z ((-105.42200 77.26120 0.00000, -105....</td>\n",
       "    </tr>\n",
       "    <tr>\n",
       "      <th>35</th>\n",
       "      <td>0.0</td>\n",
       "      <td>169.405728</td>\n",
       "      <td>35</td>\n",
       "      <td>0</td>\n",
       "      <td>POLYGON Z ((-97.75425 71.93638 0.00000, -97.52...</td>\n",
       "    </tr>\n",
       "    <tr>\n",
       "      <th>36</th>\n",
       "      <td>0.0</td>\n",
       "      <td>119.394775</td>\n",
       "      <td>36</td>\n",
       "      <td>0</td>\n",
       "      <td>POLYGON Z ((-95.62320 76.59598 0.00000, -95.41...</td>\n",
       "    </tr>\n",
       "    <tr>\n",
       "      <th>37</th>\n",
       "      <td>0.0</td>\n",
       "      <td>329.855360</td>\n",
       "      <td>37</td>\n",
       "      <td>0</td>\n",
       "      <td>POLYGON Z ((-91.47424 73.68117 0.00000, -91.12...</td>\n",
       "    </tr>\n",
       "    <tr>\n",
       "      <th>38</th>\n",
       "      <td>0.0</td>\n",
       "      <td>188.775178</td>\n",
       "      <td>38</td>\n",
       "      <td>0</td>\n",
       "      <td>POLYGON Z ((-88.46861 71.67452 0.00000, -88.21...</td>\n",
       "    </tr>\n",
       "    <tr>\n",
       "      <th>39</th>\n",
       "      <td>0.0</td>\n",
       "      <td>70.238972</td>\n",
       "      <td>39</td>\n",
       "      <td>0</td>\n",
       "      <td>POLYGON Z ((-99.76715 75.15305 0.00000, -99.60...</td>\n",
       "    </tr>\n",
       "  </tbody>\n",
       "</table>\n",
       "</div>"
      ],
      "text/plain": [
       "    Shape_Leng  Shape_Area  id  type  \\\n",
       "0          0.0  253.836619   0     1   \n",
       "1          0.0  232.079808   1     0   \n",
       "2          0.0  123.291028   2     0   \n",
       "3          0.0  206.680485   3     0   \n",
       "4          0.0  225.228661   4     1   \n",
       "5          0.0  382.767429   5     0   \n",
       "6          0.0  320.846646   6     1   \n",
       "7          0.0  593.351246   7     1   \n",
       "8          0.0  598.908950   8     3   \n",
       "9          0.0  250.418992   9     1   \n",
       "10         0.0  269.024711  10     1   \n",
       "11         0.0  205.476949  11     1   \n",
       "12         0.0  447.664594  12     1   \n",
       "13         0.0  192.769724  13     0   \n",
       "14         0.0  133.150037  14     0   \n",
       "15         0.0  274.678725  15     0   \n",
       "16         0.0  291.803071  16     1   \n",
       "17         0.0  149.249986  17     1   \n",
       "18         0.0  457.896669  18     1   \n",
       "19         0.0  304.151059  19     1   \n",
       "20         0.0  391.783553  20     1   \n",
       "21         0.0  373.217592  21     1   \n",
       "22         0.0  371.287453  22     3   \n",
       "23         0.0  243.515741  23     1   \n",
       "24         0.0  337.244267  24     1   \n",
       "25         0.0  140.614233  25     0   \n",
       "26         0.0  134.357481  26     1   \n",
       "27         0.0  300.245312  27     0   \n",
       "28         0.0  174.433063  28     0   \n",
       "29         0.0  270.514872  29     0   \n",
       "30         0.0  300.657089  30     0   \n",
       "31         0.0  205.711251  31     0   \n",
       "32         0.0  169.284980  32     0   \n",
       "33         0.0  156.635518  33     0   \n",
       "34         0.0   45.489278  34     0   \n",
       "35         0.0  169.405728  35     0   \n",
       "36         0.0  119.394775  36     0   \n",
       "37         0.0  329.855360  37     0   \n",
       "38         0.0  188.775178  38     0   \n",
       "39         0.0   70.238972  39     0   \n",
       "\n",
       "                                             geometry  \n",
       "0   POLYGON Z ((115.36804 68.55690 0.00000, 115.59...  \n",
       "1   POLYGON Z ((120.00713 63.84945 0.00000, 120.00...  \n",
       "2   POLYGON Z ((120.24413 60.54646 0.00000, 120.37...  \n",
       "3   POLYGON Z ((122.42050 66.99405 0.00000, 122.42...  \n",
       "4   POLYGON Z ((126.61620 63.89721 0.00000, 126.61...  \n",
       "5   POLYGON Z ((132.53697 62.22490 0.00000, 132.53...  \n",
       "6   POLYGON Z ((135.34413 67.97670 0.00000, 135.65...  \n",
       "7   POLYGON Z ((139.88433 63.64279 0.00000, 139.88...  \n",
       "8   POLYGON Z ((142.69395 65.72465 0.00000, 142.99...  \n",
       "9   POLYGON Z ((142.98301 68.30494 0.00000, 142.73...  \n",
       "10  POLYGON Z ((146.35985 62.51971 0.00000, 146.59...  \n",
       "11  POLYGON Z ((148.00646 66.86335 0.00000, 148.23...  \n",
       "12  POLYGON Z ((153.34402 62.64263 0.00000, 153.67...  \n",
       "13  POLYGON Z ((152.99807 68.81187 0.00000, 152.99...  \n",
       "14  POLYGON Z ((156.28896 65.91263 0.00000, 156.50...  \n",
       "15  POLYGON Z ((161.15242 62.24007 0.00000, 161.15...  \n",
       "16  POLYGON Z ((161.32969 68.61266 0.00000, 161.59...  \n",
       "17  POLYGON Z ((165.11224 69.57306 0.00000, 165.39...  \n",
       "18  POLYGON Z ((167.24202 65.57142 0.00000, 167.70...  \n",
       "19  POLYGON Z ((170.30814 61.67228 0.00000, 170.57...  \n",
       "20  POLYGON Z ((171.34741 68.76906 0.00000, 171.66...  \n",
       "21  POLYGON Z ((174.30739 64.79243 0.00000, 174.65...  \n",
       "22  POLYGON Z ((179.99940 67.57255 0.00000, 179.99...  \n",
       "23  POLYGON Z ((-178.99302 71.56248 0.00000, -178....  \n",
       "24  POLYGON Z ((-159.70140 70.30777 0.00000, -159....  \n",
       "25  POLYGON Z ((-156.46526 71.25234 0.00000, -156....  \n",
       "26  POLYGON Z ((-151.62395 70.11620 0.00000, -151....  \n",
       "27  POLYGON Z ((-122.87805 71.82362 0.00000, -122....  \n",
       "28  POLYGON Z ((-120.31807 76.64682 0.00000, -120....  \n",
       "29  POLYGON Z ((-116.63203 73.60901 0.00000, -116....  \n",
       "30  POLYGON Z ((-113.29415 75.49958 0.00000, -113....  \n",
       "31  POLYGON Z ((-109.36715 72.73091 0.00000, -109....  \n",
       "32  POLYGON Z ((-106.14094 70.63022 0.00000, -106....  \n",
       "33  POLYGON Z ((-106.82361 75.72715 0.00000, -106....  \n",
       "34  POLYGON Z ((-105.42200 77.26120 0.00000, -105....  \n",
       "35  POLYGON Z ((-97.75425 71.93638 0.00000, -97.52...  \n",
       "36  POLYGON Z ((-95.62320 76.59598 0.00000, -95.41...  \n",
       "37  POLYGON Z ((-91.47424 73.68117 0.00000, -91.12...  \n",
       "38  POLYGON Z ((-88.46861 71.67452 0.00000, -88.21...  \n",
       "39  POLYGON Z ((-99.76715 75.15305 0.00000, -99.60...  "
      ]
     },
     "execution_count": 57,
     "metadata": {},
     "output_type": "execute_result"
    }
   ],
   "source": [
    "# Assign serial IDs to training areas    \n",
    "trainingArea['id'] = range(trainingArea.shape[0])\n",
    "trainingArea#print(trainingArea.shape)  #area:   id,Type,geometry "
   ]
  },
  {
   "cell_type": "code",
   "execution_count": 58,
   "metadata": {
    "scrolled": true,
    "tags": []
   },
   "outputs": [
    {
     "data": {
      "application/vnd.jupyter.widget-view+json": {
       "model_id": "9b980c1c7e124379ac02c5a3556b5f2f",
       "version_major": 2,
       "version_minor": 0
      },
      "text/plain": [
       "  0%|          | 0/40 [00:00<?, ?it/s]"
      ]
     },
     "metadata": {},
     "output_type": "display_data"
    },
    {
     "name": "stdout",
     "output_type": "stream",
     "text": [
      "area's index: 0\n",
      "area's index: 1\n",
      "area's index: 2\n",
      "area's index: 3\n",
      "area's index: 4\n",
      "area's index: 5\n",
      "area's index: 6\n",
      "area's index: 7\n",
      "area's index: 8\n",
      "area's index: 9\n",
      "area's index: 10\n",
      "area's index: 11\n",
      "area's index: 12\n",
      "area's index: 13\n",
      "area's index: 14\n",
      "area's index: 15\n",
      "area's index: 16\n",
      "area's index: 17\n",
      "area's index: 18\n",
      "area's index: 19\n",
      "area's index: 20\n",
      "area's index: 21\n",
      "area's index: 22\n",
      "area's index: 23\n",
      "area's index: 24\n",
      "area's index: 25\n",
      "area's index: 26\n",
      "area's index: 27\n",
      "area's index: 28\n",
      "area's index: 29\n",
      "area's index: 30\n",
      "area's index: 31\n",
      "area's index: 32\n",
      "area's index: 33\n",
      "area's index: 34\n",
      "area's index: 35\n",
      "area's index: 36\n",
      "area's index: 37\n",
      "area's index: 38\n",
      "area's index: 39\n",
      "Assigned training polygons in 40 training areas\n"
     ]
    }
   ],
   "source": [
    "# As input we received two shapefile, first one contains the training areas/rectangles and other contains the polygon of lakes/objects in those training areas\n",
    "# The first task is to determine the parent training area for each polygon.\n",
    "\n",
    "def dividePolygonsInTrainingAreas(trainingPolygon, trainingArea):\n",
    "    '''Assign annotated ploygons in to the training areas.'''\n",
    "    # For efficiency, assigned polygons are removed from the list, we make a copy here. \n",
    "    cpTrainingPolygon = trainingPolygon.copy()\n",
    "    splitPolygons = {}\n",
    "    for i in tqdm(trainingArea.index):\n",
    "        spTemp = [] \n",
    "        allocated = []\n",
    "        print(\"area's index:\",i)\n",
    "        for j in cpTrainingPolygon.index:\n",
    "            if cpTrainingPolygon.loc[j]['geometry'].intersects(trainingArea.loc[i]['geometry']):\n",
    "                spTemp.append(cpTrainingPolygon.loc[j])\n",
    "                allocated.append(j)           \n",
    "            # Order of bounds: minx miny maxx maxy\n",
    "        #print(spTemp)\n",
    "        splitPolygons[trainingArea.loc[i]['id']] = {'polygons':spTemp, 'bounds':list(trainingArea.bounds.loc[i]),'type':trainingArea.loc[i]['type']}\n",
    "        cpTrainingPolygon = cpTrainingPolygon.drop(allocated)#assigned polygons are removed from the list\n",
    "    return splitPolygons\n",
    "\n",
    "# areasWithPolygons contains the object polygons for each area!\n",
    "areasWithPolygons = dividePolygonsInTrainingAreas(trainingPolygon, trainingArea)\n",
    "print(f'Assigned training polygons in {len(areasWithPolygons)} training areas')"
   ]
  },
  {
   "cell_type": "code",
   "execution_count": 48,
   "metadata": {},
   "outputs": [
    {
     "name": "stdout",
     "output_type": "stream",
     "text": [
      "Found a total of 120 pair of raw image(s) to process!\n"
     ]
    }
   ],
   "source": [
    "### Read the raw input images\n",
    "def readInputImages(imageBaseDir, rawImageFileType, rawNdwiImagePrefix, rawBandsImagePrefix):\n",
    "    \"\"\"\n",
    "    Reads all images with prefix ndvi_image_prefix and image_file_type datatype in the image_base_dir directory.\n",
    "    \"\"\"  \n",
    "    ndwiImageFn = []\n",
    "    for root, dirs, files in os.walk(imageBaseDir):\n",
    "        for file in files:\n",
    "            if file.endswith(rawImageFileType) and file.startswith(rawNdwiImagePrefix):\n",
    "                ndwiImageFn.append(os.path.join(root, file))\n",
    "    bandsImageFn = [fn.replace(rawNdwiImagePrefix, rawBandsImagePrefix) for fn in ndwiImageFn]\n",
    "    inputImages = list(zip(ndwiImageFn,bandsImageFn))\n",
    "    return inputImages\n",
    "\n",
    "inputImages = readInputImages(config.raw_image_base_dir, config.raw_image_file_type, config.raw_NDWI_image_prefix, config.raw_bands_image_prefix)\n",
    "print(f'Found a total of {len(inputImages)} pair of raw image(s) to process!')"
   ]
  },
  {
   "cell_type": "code",
   "execution_count": 41,
   "metadata": {},
   "outputs": [],
   "source": [
    "# For each raw satellite image, determine if it overlaps with a training area. \n",
    "# If a overlap if found, then extract + write the overlapping part of the raw image, create + write an image from training polygons.\n",
    "\n",
    "def writeExtractedImageAndAnnotation(img, sm, profile, polygonsInAreaDf,  writePath, imagesFilename, annotationFilename, bands, writeCounter):\n",
    "    \"\"\"Write the part of raw image that overlaps with a training area into a separate image file. \n",
    "    Use rowColPolygons to create and write annotation image from polygons in the training area.\n",
    "    \"\"\"\n",
    "    try:\n",
    "        for band, imFn in zip(bands, imagesFilename):\n",
    "            # Rasterio reads file channel first, so the sm[0] has the shape [1 or ch_count, x,y]\n",
    "            # If raster has multiple channels, then bands will be [0, 1, ...] otherwise simply [0]\n",
    "            dt = sm[0][band].astype(profile['dtype'])\n",
    "            with rasterio.open(os.path.join(writePath, imFn+'_{}.png'.format(writeCounter)), 'w', **profile) as dst:\n",
    "                dst.write(dt, 1) \n",
    "#                 print('write '+ imFn+'_{}.png'.format(writeCounter) +' image\\n')\n",
    "\n",
    "        if annotationFilename:\n",
    "            annotation_filepath = os.path.join(writePath,annotationFilename+'_{}.png'.format(writeCounter))\n",
    "            polygons = []\n",
    "            for i in polygonsInAreaDf.index:\n",
    "                gm = polygonsInAreaDf.loc[i]['geometry']\n",
    "                polygons.append(gm)\n",
    "                \n",
    "            with rasterio.open(annotation_filepath, 'w+', **profile) as out:\n",
    "                out_arr = out.read(1)\n",
    "                burned = features.rasterize(polygons, fill=0, default_value=1,out=out_arr, transform=out.transform)\n",
    "                out.write_band(1, burned)\n",
    "        return(writeCounter+1)\n",
    "    \n",
    "    except Exception as e:\n",
    "        print(e)\n",
    "        print(\"Something nasty happened, could not write the annotation or the mask file!======\\n\\n\\n\")\n",
    "        return writeCounter\n",
    "        \n",
    "def findOverlap(img, areasWithPolygons, writePath, imageFilename, annotationFilename, bands, writeCounter):\n",
    "    \"\"\"Finds overlap of image with a training area.\n",
    "    Use writeExtractedImageAndAnnotation() to write the overlapping training area and corresponding polygons in separate image files.\n",
    "    \"\"\"\n",
    "    overlappedAreas = set()\n",
    "    \n",
    "    for areaID, areaInfo in areasWithPolygons.items():\n",
    "        #Convert the polygons in the area   in a dataframe and get the bounds of the area. \n",
    "        polygonsInAreaDf = gps.GeoDataFrame(areaInfo['polygons'])\n",
    "        bboxArea = box(*areaInfo['bounds'])#area bounds\n",
    "        bboxImg = box(*img.bounds)#image bounds\n",
    "        \n",
    "        #Extract the window if area is in the image\n",
    "        #hbh: if an area may overlap with multiple images, use intersect() rather than within()\n",
    "        #if(bboxArea.within(intersect)):\n",
    "        if(bboxArea.within(bboxImg)):\n",
    "            profile = img.profile  \n",
    "            sm = rasterio.mask.mask(img, [bboxArea], all_touched=True, crop=True )\n",
    "            profile['height'] = sm[0].shape[1]\n",
    "            profile['width'] = sm[0].shape[2]\n",
    "            profile['transform'] = sm[1]\n",
    "            # That's a problem with rasterio, if the height and the width are less then 256 it throws: ValueError: blockysize exceeds raster height \n",
    "            # So set the blockxsize and blockysize to prevent this problem\n",
    "            profile['blockxsize'] = 32\n",
    "            profile['blockysize'] = 32\n",
    "            profile['count'] = 1\n",
    "            #hbh:band[ndwi] is range from[-100,100]\n",
    "            profile['dtype'] = rasterio.float32\n",
    "            writeCounter = writeExtractedImageAndAnnotation(img, sm, profile, polygonsInAreaDf, writePath, imageFilename, annotationFilename,  bands, writeCounter)\n",
    "            overlappedAreas.add(areaID)\n",
    "    return(writeCounter, overlappedAreas)\n",
    "\n",
    "\n",
    "def extractAreasThatOverlapWithTrainingData(inputImages, areasWithPolygons, writePath, NdwiFilename,BandsFilename, annotationFilename, writeCounter):\n",
    "    \"\"\"Iterates over raw NDWI images and using findOverlap() extract areas that overlap with training data. \n",
    "    The overlapping areas in raw images are written in a separate file, and annotation file are created from polygons in the overlapping areas.\n",
    "    \"\"\"\n",
    "    if not os.path.exists(writePath):\n",
    "        os.makedirs(writePath)\n",
    "        \n",
    "    overlappedAreas = set()\n",
    "    for imgs in tqdm(inputImages):\n",
    "        ndwiImg = rasterio.open(imgs[0])\n",
    "#         print(ndwiImg.shape)\n",
    "        bandsImg = rasterio.open(imgs[1])\n",
    "        ncNDWI,imOverlappedAreasNDWI = findOverlap(ndwiImg, areasWithPolygons, writePath=writePath, imageFilename=[NdwiFilename], annotationFilename=annotationFilename, bands=config.bands0, writeCounter=writeCounter)\n",
    "        ncBands,imOverlapppedAreasBands = findOverlap(bandsImg, areasWithPolygons, writePath=writePath, imageFilename=BandsFilename, annotationFilename='', bands=config.bands1, writeCounter=writeCounter )\n",
    "        if ncNDWI == ncBands:\n",
    "            writeCounter = ncNDWI\n",
    "        else: \n",
    "            print('Couldnt create mask!!!')\n",
    "            print(ncNDWI)\n",
    "            print(ncBands)\n",
    "            break;\n",
    "        overlappedAreas.update(imOverlappedAreasNDWI)\n",
    "    \n",
    "    allAreas = set(areasWithPolygons.keys())\n",
    "    if allAreas.difference(overlappedAreas):\n",
    "        print(f'Warning: Could not find a raw image correspoinding to {allAreas.difference(overlappedAreas)} areas. Make sure that you have provided the correct paths!')\n",
    "    return writeCounter"
   ]
  },
  {
   "cell_type": "code",
   "execution_count": 60,
   "metadata": {
    "scrolled": true
   },
   "outputs": [
    {
     "data": {
      "application/vnd.jupyter.widget-view+json": {
       "model_id": "0ae595c2a95f4718a60807d4e6129725",
       "version_major": 2,
       "version_minor": 0
      },
      "text/plain": [
       "  0%|          | 0/120 [00:00<?, ?it/s]"
      ]
     },
     "metadata": {},
     "output_type": "display_data"
    },
    {
     "data": {
      "application/vnd.jupyter.widget-view+json": {
       "model_id": "f6877c5053a04b62b9f9011d4e01591d",
       "version_major": 2,
       "version_minor": 0
      },
      "text/plain": [
       "  0%|          | 0/120 [00:00<?, ?it/s]"
      ]
     },
     "metadata": {},
     "output_type": "display_data"
    },
    {
     "data": {
      "application/vnd.jupyter.widget-view+json": {
       "model_id": "03dac1cd720a4f9eb8137d4df374982b",
       "version_major": 2,
       "version_minor": 0
      },
      "text/plain": [
       "  0%|          | 0/120 [00:00<?, ?it/s]"
      ]
     },
     "metadata": {},
     "output_type": "display_data"
    },
    {
     "data": {
      "application/vnd.jupyter.widget-view+json": {
       "model_id": "51455d01c199474eb7040e04e77c2592",
       "version_major": 2,
       "version_minor": 0
      },
      "text/plain": [
       "  0%|          | 0/120 [00:00<?, ?it/s]"
      ]
     },
     "metadata": {},
     "output_type": "display_data"
    },
    {
     "data": {
      "application/vnd.jupyter.widget-view+json": {
       "model_id": "54eebcb13c05430da58656f818bf67d5",
       "version_major": 2,
       "version_minor": 0
      },
      "text/plain": [
       "  0%|          | 0/120 [00:00<?, ?it/s]"
      ]
     },
     "metadata": {},
     "output_type": "display_data"
    },
    {
     "data": {
      "application/vnd.jupyter.widget-view+json": {
       "model_id": "53cba8412a0e4734b55e9317adb6106e",
       "version_major": 2,
       "version_minor": 0
      },
      "text/plain": [
       "  0%|          | 0/120 [00:00<?, ?it/s]"
      ]
     },
     "metadata": {},
     "output_type": "display_data"
    },
    {
     "data": {
      "application/vnd.jupyter.widget-view+json": {
       "model_id": "b31634f2721d42de9ae2028a4321c8f6",
       "version_major": 2,
       "version_minor": 0
      },
      "text/plain": [
       "  0%|          | 0/120 [00:00<?, ?it/s]"
      ]
     },
     "metadata": {},
     "output_type": "display_data"
    },
    {
     "data": {
      "application/vnd.jupyter.widget-view+json": {
       "model_id": "58cd3e4e09174cf990c287cbf4f6a88a",
       "version_major": 2,
       "version_minor": 0
      },
      "text/plain": [
       "  0%|          | 0/120 [00:00<?, ?it/s]"
      ]
     },
     "metadata": {},
     "output_type": "display_data"
    },
    {
     "data": {
      "application/vnd.jupyter.widget-view+json": {
       "model_id": "833e698c30a544e3a3c3b133e08853ed",
       "version_major": 2,
       "version_minor": 0
      },
      "text/plain": [
       "  0%|          | 0/120 [00:00<?, ?it/s]"
      ]
     },
     "metadata": {},
     "output_type": "display_data"
    },
    {
     "data": {
      "application/vnd.jupyter.widget-view+json": {
       "model_id": "7b7ead46368c4a4e8cec26a43fe00876",
       "version_major": 2,
       "version_minor": 0
      },
      "text/plain": [
       "  0%|          | 0/120 [00:00<?, ?it/s]"
      ]
     },
     "metadata": {},
     "output_type": "display_data"
    },
    {
     "data": {
      "application/vnd.jupyter.widget-view+json": {
       "model_id": "f3ed4fab6f164a6d8fa3602635711d1a",
       "version_major": 2,
       "version_minor": 0
      },
      "text/plain": [
       "  0%|          | 0/120 [00:00<?, ?it/s]"
      ]
     },
     "metadata": {},
     "output_type": "display_data"
    },
    {
     "data": {
      "application/vnd.jupyter.widget-view+json": {
       "model_id": "1094944e751f452598580ebf20cc6fe3",
       "version_major": 2,
       "version_minor": 0
      },
      "text/plain": [
       "  0%|          | 0/120 [00:00<?, ?it/s]"
      ]
     },
     "metadata": {},
     "output_type": "display_data"
    },
    {
     "data": {
      "application/vnd.jupyter.widget-view+json": {
       "model_id": "2f3f104ab44d4ace8b415d5b70d04c71",
       "version_major": 2,
       "version_minor": 0
      },
      "text/plain": [
       "  0%|          | 0/120 [00:00<?, ?it/s]"
      ]
     },
     "metadata": {},
     "output_type": "display_data"
    },
    {
     "data": {
      "application/vnd.jupyter.widget-view+json": {
       "model_id": "892ece4550d0462691cfd2df8d681578",
       "version_major": 2,
       "version_minor": 0
      },
      "text/plain": [
       "  0%|          | 0/120 [00:00<?, ?it/s]"
      ]
     },
     "metadata": {},
     "output_type": "display_data"
    },
    {
     "data": {
      "application/vnd.jupyter.widget-view+json": {
       "model_id": "09b3a35ef3e7490bb5b86fb2da03aba4",
       "version_major": 2,
       "version_minor": 0
      },
      "text/plain": [
       "  0%|          | 0/120 [00:00<?, ?it/s]"
      ]
     },
     "metadata": {},
     "output_type": "display_data"
    },
    {
     "data": {
      "application/vnd.jupyter.widget-view+json": {
       "model_id": "04712788dc5c4884b889db7bce6ee8ca",
       "version_major": 2,
       "version_minor": 0
      },
      "text/plain": [
       "  0%|          | 0/120 [00:00<?, ?it/s]"
      ]
     },
     "metadata": {},
     "output_type": "display_data"
    },
    {
     "data": {
      "application/vnd.jupyter.widget-view+json": {
       "model_id": "82d97432a1db4bcfbb1fe4730e6545b8",
       "version_major": 2,
       "version_minor": 0
      },
      "text/plain": [
       "  0%|          | 0/120 [00:00<?, ?it/s]"
      ]
     },
     "metadata": {},
     "output_type": "display_data"
    },
    {
     "data": {
      "application/vnd.jupyter.widget-view+json": {
       "model_id": "42b6afa37cc74e988865085ed0d7b37f",
       "version_major": 2,
       "version_minor": 0
      },
      "text/plain": [
       "  0%|          | 0/120 [00:00<?, ?it/s]"
      ]
     },
     "metadata": {},
     "output_type": "display_data"
    },
    {
     "data": {
      "application/vnd.jupyter.widget-view+json": {
       "model_id": "cba04e5bb87b4e02b16dfcce12f78629",
       "version_major": 2,
       "version_minor": 0
      },
      "text/plain": [
       "  0%|          | 0/120 [00:00<?, ?it/s]"
      ]
     },
     "metadata": {},
     "output_type": "display_data"
    },
    {
     "data": {
      "application/vnd.jupyter.widget-view+json": {
       "model_id": "669a1f7f9aae4c1e99529079f2e0fa93",
       "version_major": 2,
       "version_minor": 0
      },
      "text/plain": [
       "  0%|          | 0/120 [00:00<?, ?it/s]"
      ]
     },
     "metadata": {},
     "output_type": "display_data"
    },
    {
     "data": {
      "application/vnd.jupyter.widget-view+json": {
       "model_id": "aeabafc6c72847c1a09fc09848e08957",
       "version_major": 2,
       "version_minor": 0
      },
      "text/plain": [
       "  0%|          | 0/120 [00:00<?, ?it/s]"
      ]
     },
     "metadata": {},
     "output_type": "display_data"
    },
    {
     "data": {
      "application/vnd.jupyter.widget-view+json": {
       "model_id": "8174e3e1096c4964aa8a7bed2eeb2320",
       "version_major": 2,
       "version_minor": 0
      },
      "text/plain": [
       "  0%|          | 0/120 [00:00<?, ?it/s]"
      ]
     },
     "metadata": {},
     "output_type": "display_data"
    },
    {
     "data": {
      "application/vnd.jupyter.widget-view+json": {
       "model_id": "35c4acef5b594876b4c582717dca3d4b",
       "version_major": 2,
       "version_minor": 0
      },
      "text/plain": [
       "  0%|          | 0/120 [00:00<?, ?it/s]"
      ]
     },
     "metadata": {},
     "output_type": "display_data"
    },
    {
     "data": {
      "application/vnd.jupyter.widget-view+json": {
       "model_id": "a63c062d97e440da9ca2a9a611866d53",
       "version_major": 2,
       "version_minor": 0
      },
      "text/plain": [
       "  0%|          | 0/120 [00:00<?, ?it/s]"
      ]
     },
     "metadata": {},
     "output_type": "display_data"
    },
    {
     "data": {
      "application/vnd.jupyter.widget-view+json": {
       "model_id": "9d793a04f781493597a6120c07166817",
       "version_major": 2,
       "version_minor": 0
      },
      "text/plain": [
       "  0%|          | 0/120 [00:00<?, ?it/s]"
      ]
     },
     "metadata": {},
     "output_type": "display_data"
    },
    {
     "data": {
      "application/vnd.jupyter.widget-view+json": {
       "model_id": "d7ea788cab474d8f89ed42296de36884",
       "version_major": 2,
       "version_minor": 0
      },
      "text/plain": [
       "  0%|          | 0/120 [00:00<?, ?it/s]"
      ]
     },
     "metadata": {},
     "output_type": "display_data"
    },
    {
     "data": {
      "application/vnd.jupyter.widget-view+json": {
       "model_id": "cf3b7ce7c979473daf01082dad652bfe",
       "version_major": 2,
       "version_minor": 0
      },
      "text/plain": [
       "  0%|          | 0/120 [00:00<?, ?it/s]"
      ]
     },
     "metadata": {},
     "output_type": "display_data"
    },
    {
     "data": {
      "application/vnd.jupyter.widget-view+json": {
       "model_id": "f712d109d6314b6e950f4c26749863ae",
       "version_major": 2,
       "version_minor": 0
      },
      "text/plain": [
       "  0%|          | 0/120 [00:00<?, ?it/s]"
      ]
     },
     "metadata": {},
     "output_type": "display_data"
    },
    {
     "data": {
      "application/vnd.jupyter.widget-view+json": {
       "model_id": "f0f974f20dcc47b39cda0353e3e2f2c6",
       "version_major": 2,
       "version_minor": 0
      },
      "text/plain": [
       "  0%|          | 0/120 [00:00<?, ?it/s]"
      ]
     },
     "metadata": {},
     "output_type": "display_data"
    },
    {
     "data": {
      "application/vnd.jupyter.widget-view+json": {
       "model_id": "c31de70f95f14c348afd1a5fa68e981a",
       "version_major": 2,
       "version_minor": 0
      },
      "text/plain": [
       "  0%|          | 0/120 [00:00<?, ?it/s]"
      ]
     },
     "metadata": {},
     "output_type": "display_data"
    },
    {
     "data": {
      "application/vnd.jupyter.widget-view+json": {
       "model_id": "19415c91bc0b4c7bb68529838304e8fc",
       "version_major": 2,
       "version_minor": 0
      },
      "text/plain": [
       "  0%|          | 0/120 [00:00<?, ?it/s]"
      ]
     },
     "metadata": {},
     "output_type": "display_data"
    },
    {
     "data": {
      "application/vnd.jupyter.widget-view+json": {
       "model_id": "d7b2ac8cec3d499db32543f94b06bd1f",
       "version_major": 2,
       "version_minor": 0
      },
      "text/plain": [
       "  0%|          | 0/120 [00:00<?, ?it/s]"
      ]
     },
     "metadata": {},
     "output_type": "display_data"
    },
    {
     "data": {
      "application/vnd.jupyter.widget-view+json": {
       "model_id": "803bc0d735494d7abf7e66b4278739af",
       "version_major": 2,
       "version_minor": 0
      },
      "text/plain": [
       "  0%|          | 0/120 [00:00<?, ?it/s]"
      ]
     },
     "metadata": {},
     "output_type": "display_data"
    },
    {
     "data": {
      "application/vnd.jupyter.widget-view+json": {
       "model_id": "17e1513042ed4562a34a958b6daa2021",
       "version_major": 2,
       "version_minor": 0
      },
      "text/plain": [
       "  0%|          | 0/120 [00:00<?, ?it/s]"
      ]
     },
     "metadata": {},
     "output_type": "display_data"
    },
    {
     "data": {
      "application/vnd.jupyter.widget-view+json": {
       "model_id": "b3e1a53a554843188bf8dccd7f31116c",
       "version_major": 2,
       "version_minor": 0
      },
      "text/plain": [
       "  0%|          | 0/120 [00:00<?, ?it/s]"
      ]
     },
     "metadata": {},
     "output_type": "display_data"
    },
    {
     "data": {
      "application/vnd.jupyter.widget-view+json": {
       "model_id": "71827336c2fd421c8a6fdbfc1e7e854e",
       "version_major": 2,
       "version_minor": 0
      },
      "text/plain": [
       "  0%|          | 0/120 [00:00<?, ?it/s]"
      ]
     },
     "metadata": {},
     "output_type": "display_data"
    },
    {
     "data": {
      "application/vnd.jupyter.widget-view+json": {
       "model_id": "817a9104dd0e42a8b7b9be66fec5ce4e",
       "version_major": 2,
       "version_minor": 0
      },
      "text/plain": [
       "  0%|          | 0/120 [00:00<?, ?it/s]"
      ]
     },
     "metadata": {},
     "output_type": "display_data"
    },
    {
     "data": {
      "application/vnd.jupyter.widget-view+json": {
       "model_id": "4453619ef5c94ac48aaa0c1aa60f9445",
       "version_major": 2,
       "version_minor": 0
      },
      "text/plain": [
       "  0%|          | 0/120 [00:00<?, ?it/s]"
      ]
     },
     "metadata": {},
     "output_type": "display_data"
    },
    {
     "data": {
      "application/vnd.jupyter.widget-view+json": {
       "model_id": "7ec521bc499048318d57b3a586d207e7",
       "version_major": 2,
       "version_minor": 0
      },
      "text/plain": [
       "  0%|          | 0/120 [00:00<?, ?it/s]"
      ]
     },
     "metadata": {},
     "output_type": "display_data"
    },
    {
     "data": {
      "application/vnd.jupyter.widget-view+json": {
       "model_id": "a66b029fcf0f4f55af66b01f86b54df8",
       "version_major": 2,
       "version_minor": 0
      },
      "text/plain": [
       "  0%|          | 0/120 [00:00<?, ?it/s]"
      ]
     },
     "metadata": {},
     "output_type": "display_data"
    }
   ],
   "source": [
    "# writeCounter=0\n",
    "for key,value in zip(areasWithPolygons.keys(),areasWithPolygons.values()):\n",
    "    newdict={}\n",
    "    path_to_write=r'D:\\lakemapping\\2_dataset\\output588\\output{}'.format(value['type'])\n",
    "#     path_to_write=os.path.join(config.training_base_dir,'output\\output'+str(value['type']))\n",
    "    newdict[key] = {'polygons':value['polygons'], 'bounds':value['bounds']}\n",
    "    writeCounter=extractAreasThatOverlapWithTrainingData(inputImages,newdict, path_to_write, config.extracted_NDWI_filename,config.extracted_bands_filename, config.extracted_annotation_filename, writeCounter)"
   ]
  },
  {
   "cell_type": "code",
   "execution_count": 61,
   "metadata": {},
   "outputs": [
    {
     "name": "stdout",
     "output_type": "stream",
     "text": [
      "588\n"
     ]
    }
   ],
   "source": [
    "print(writeCounter)"
   ]
  },
  {
   "cell_type": "code",
   "execution_count": null,
   "metadata": {
    "scrolled": false
   },
   "outputs": [],
   "source": [
    "# Display extracted image \n",
    "sampleImage = '_27.png'\n",
    "# path_to_write=os.path.join(config.training_base_dir,'output\\output4')\n",
    "path_to_write=os.path.join(config.training_base_dir,'output\\output0' )\n",
    "fn = os.path.join(path_to_write, config.extracted_NDWI_filename + sampleImage)\n",
    "NDWI_img = Image.open(fn)\n",
    "read_NDWI_img = np.array(NDWI_img)\n",
    "\n",
    "redBands = os.path.join(path_to_write, 'red'+ sampleImage)\n",
    "red_img = Image.open(redBands)\n",
    "read_red_img = np.array(red_img)\n",
    "\n",
    "greenBands = os.path.join(path_to_write, 'green'+ sampleImage)\n",
    "green_img = Image.open(greenBands)\n",
    "read_green_img = np.array(green_img)\n",
    "\n",
    "blueBands = os.path.join(path_to_write, 'blue'+ sampleImage)\n",
    "blue_img = Image.open(blueBands)\n",
    "read_blue_img = np.array(blue_img)\n",
    "\n",
    "swirBands = os.path.join(path_to_write, 'swir'+ sampleImage)\n",
    "swir_img = Image.open(swirBands)\n",
    "read_swir_img = np.array(swir_img)\n",
    "# print(read_NDWI_img.shape)\n",
    "# print(read_Bands_img.shape)\n",
    "annotation_im = Image.open(fn.replace(config.extracted_NDWI_filename ,config.extracted_annotation_filename))\n",
    "read_annotation = np.array(annotation_im)\n",
    "# print(read_annotation.shape)\n",
    "# print(read_annotation)\n",
    "\n",
    "all_images = np.array([read_NDWI_img,read_red_img,read_green_img,read_blue_img,read_swir_img, read_annotation])\n",
    "# print(all_images.shape[1])\n",
    "display_images(np.expand_dims(np.transpose(all_images, axes=(1,2,0)), axis=0))"
   ]
  },
  {
   "cell_type": "code",
   "execution_count": null,
   "metadata": {},
   "outputs": [],
   "source": []
  },
  {
   "cell_type": "code",
   "execution_count": null,
   "metadata": {},
   "outputs": [],
   "source": []
  }
 ],
 "metadata": {
  "kernelspec": {
   "display_name": "tf_gpu",
   "language": "python",
   "name": "tf_gpu"
  },
  "language_info": {
   "codemirror_mode": {
    "name": "ipython",
    "version": 3
   },
   "file_extension": ".py",
   "mimetype": "text/x-python",
   "name": "python",
   "nbconvert_exporter": "python",
   "pygments_lexer": "ipython3",
   "version": "3.8.18"
  }
 },
 "nbformat": 4,
 "nbformat_minor": 4
}
