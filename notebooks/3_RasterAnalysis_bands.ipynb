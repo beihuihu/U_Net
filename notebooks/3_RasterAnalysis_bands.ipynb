{
 "cells": [
  {
   "cell_type": "code",
   "execution_count": 1,
   "metadata": {},
   "outputs": [
    {
     "name": "stderr",
     "output_type": "stream",
     "text": [
      "2024-02-16 10:14:56.863783: I tensorflow/stream_executor/platform/default/dso_loader.cc:49] Successfully opened dynamic library libcudart.so.11.0\n"
     ]
    },
    {
     "name": "stdout",
     "output_type": "stream",
     "text": [
      "INFO:tensorflow:Mixed precision compatibility check (mixed_float16): OK\n",
      "Your GPU will likely run quickly with dtype policy mixed_float16 as it has compute capability of at least 7.0. Your GPU: NVIDIA RTX A6000, compute capability 8.6\n"
     ]
    },
    {
     "name": "stderr",
     "output_type": "stream",
     "text": [
      "2024-02-16 10:14:57.964338: I tensorflow/compiler/jit/xla_cpu_device.cc:41] Not creating XLA devices, tf_xla_enable_xla_devices not set\n",
      "2024-02-16 10:14:57.965098: I tensorflow/stream_executor/platform/default/dso_loader.cc:49] Successfully opened dynamic library libcuda.so.1\n",
      "2024-02-16 10:14:57.988305: I tensorflow/core/common_runtime/gpu/gpu_device.cc:1720] Found device 0 with properties: \n",
      "pciBusID: 0000:17:00.0 name: NVIDIA RTX A6000 computeCapability: 8.6\n",
      "coreClock: 1.8GHz coreCount: 84 deviceMemorySize: 47.53GiB deviceMemoryBandwidth: 715.34GiB/s\n",
      "2024-02-16 10:14:57.988335: I tensorflow/stream_executor/platform/default/dso_loader.cc:49] Successfully opened dynamic library libcudart.so.11.0\n",
      "2024-02-16 10:14:57.990609: I tensorflow/stream_executor/platform/default/dso_loader.cc:49] Successfully opened dynamic library libcublas.so.11\n",
      "2024-02-16 10:14:57.990687: I tensorflow/stream_executor/platform/default/dso_loader.cc:49] Successfully opened dynamic library libcublasLt.so.11\n",
      "2024-02-16 10:14:57.991652: I tensorflow/stream_executor/platform/default/dso_loader.cc:49] Successfully opened dynamic library libcufft.so.10\n",
      "2024-02-16 10:14:57.991904: I tensorflow/stream_executor/platform/default/dso_loader.cc:49] Successfully opened dynamic library libcurand.so.10\n",
      "2024-02-16 10:14:57.994309: I tensorflow/stream_executor/platform/default/dso_loader.cc:49] Successfully opened dynamic library libcusolver.so.10\n",
      "2024-02-16 10:14:57.994870: I tensorflow/stream_executor/platform/default/dso_loader.cc:49] Successfully opened dynamic library libcusparse.so.11\n",
      "2024-02-16 10:14:57.994995: I tensorflow/stream_executor/platform/default/dso_loader.cc:49] Successfully opened dynamic library libcudnn.so.8\n",
      "2024-02-16 10:14:57.995286: I tensorflow/core/common_runtime/gpu/gpu_device.cc:1862] Adding visible gpu devices: 0\n",
      "2024-02-16 10:14:57.995483: I tensorflow/compiler/jit/xla_cpu_device.cc:41] Not creating XLA devices, tf_xla_enable_xla_devices not set\n"
     ]
    },
    {
     "name": "stdout",
     "output_type": "stream",
     "text": [
      "2.4.1\n"
     ]
    }
   ],
   "source": [
    "from tensorflow.keras.models import load_model\n",
    "from tensorflow.keras import mixed_precision \n",
    "mixed_precision.set_global_policy('mixed_float16')\n",
    "import geopandas as gps\n",
    "import rasterio                  # I/O raster data (netcdf, height, geotiff, ...)\n",
    "import rasterio.warp             # Reproject raster samples\n",
    "from rasterio import windows\n",
    "from rasterio import features\n",
    "import fiona                     # I/O vector data (shape, geojson, ...)\n",
    "import pyproj                    # Change coordinate reference system\n",
    "from osgeo import gdal, ogr, osr\n",
    "import pandas as pd\n",
    "import shapely\n",
    "from shapely.geometry import Point, Polygon,box\n",
    "from shapely.geometry import mapping, shape\n",
    "import cv2\n",
    "import json\n",
    "import geopandas as gpd\n",
    "import numpy as np               # numerical array manipulation\n",
    "import pandas as pd\n",
    "import os\n",
    "from tqdm import tqdm\n",
    "from PIL import Image\n",
    "import PIL.ImageDraw\n",
    "import shutil\n",
    "from itertools import product\n",
    "\n",
    "import sys\n",
    "from core.UNet import UNet\n",
    "from core.losses import tversky, focalTversky, bce_dice_loss, accuracy, dice_loss, IoU, recall, precision,F1_score\n",
    "from core.optimizers import adaDelta, adagrad, adam, nadam\n",
    "from core.visualize import display_images\n",
    "\n",
    "import matplotlib.pyplot as plt  # plotting tools\n",
    "%matplotlib inline\n",
    "import warnings                  # ignore annoying warnings\n",
    "warnings.filterwarnings(\"ignore\")\n",
    "import logging\n",
    "logger = logging.getLogger()\n",
    "logger.setLevel(logging.CRITICAL)\n",
    "\n",
    "%reload_ext autoreload\n",
    "%autoreload 2\n",
    "from IPython.core.interactiveshell import InteractiveShell\n",
    "InteractiveShell.ast_node_interactivity = \"all\"\n",
    "\n",
    "os.environ['TF_ENABLE_AUTO_MIXED_PRECISION'] = '1'\n",
    "import tensorflow as tf\n",
    "print(tf.__version__)"
   ]
  },
  {
   "cell_type": "code",
   "execution_count": 2,
   "metadata": {},
   "outputs": [
    {
     "name": "stderr",
     "output_type": "stream",
     "text": [
      "2024-02-16 10:14:58.771657: I tensorflow/core/platform/cpu_feature_guard.cc:142] This TensorFlow binary is optimized with oneAPI Deep Neural Network Library (oneDNN) to use the following CPU instructions in performance-critical operations:  AVX2 AVX512F FMA\n",
      "To enable them in other operations, rebuild TensorFlow with the appropriate compiler flags.\n",
      "2024-02-16 10:14:58.773489: I tensorflow/compiler/jit/xla_gpu_device.cc:99] Not creating XLA devices, tf_xla_enable_xla_devices not set\n",
      "2024-02-16 10:14:58.773773: I tensorflow/core/common_runtime/gpu/gpu_device.cc:1720] Found device 0 with properties: \n",
      "pciBusID: 0000:17:00.0 name: NVIDIA RTX A6000 computeCapability: 8.6\n",
      "coreClock: 1.8GHz coreCount: 84 deviceMemorySize: 47.53GiB deviceMemoryBandwidth: 715.34GiB/s\n",
      "2024-02-16 10:14:58.773807: I tensorflow/stream_executor/platform/default/dso_loader.cc:49] Successfully opened dynamic library libcudart.so.11.0\n",
      "2024-02-16 10:14:58.773836: I tensorflow/stream_executor/platform/default/dso_loader.cc:49] Successfully opened dynamic library libcublas.so.11\n",
      "2024-02-16 10:14:58.773844: I tensorflow/stream_executor/platform/default/dso_loader.cc:49] Successfully opened dynamic library libcublasLt.so.11\n",
      "2024-02-16 10:14:58.773852: I tensorflow/stream_executor/platform/default/dso_loader.cc:49] Successfully opened dynamic library libcufft.so.10\n",
      "2024-02-16 10:14:58.773860: I tensorflow/stream_executor/platform/default/dso_loader.cc:49] Successfully opened dynamic library libcurand.so.10\n",
      "2024-02-16 10:14:58.773867: I tensorflow/stream_executor/platform/default/dso_loader.cc:49] Successfully opened dynamic library libcusolver.so.10\n",
      "2024-02-16 10:14:58.773877: I tensorflow/stream_executor/platform/default/dso_loader.cc:49] Successfully opened dynamic library libcusparse.so.11\n",
      "2024-02-16 10:14:58.773889: I tensorflow/stream_executor/platform/default/dso_loader.cc:49] Successfully opened dynamic library libcudnn.so.8\n",
      "2024-02-16 10:14:58.774076: I tensorflow/core/common_runtime/gpu/gpu_device.cc:1862] Adding visible gpu devices: 0\n",
      "2024-02-16 10:14:58.774102: I tensorflow/stream_executor/platform/default/dso_loader.cc:49] Successfully opened dynamic library libcudart.so.11.0\n",
      "2024-02-16 10:14:59.201310: I tensorflow/core/common_runtime/gpu/gpu_device.cc:1261] Device interconnect StreamExecutor with strength 1 edge matrix:\n",
      "2024-02-16 10:14:59.201338: I tensorflow/core/common_runtime/gpu/gpu_device.cc:1267]      0 \n",
      "2024-02-16 10:14:59.201343: I tensorflow/core/common_runtime/gpu/gpu_device.cc:1280] 0:   N \n",
      "2024-02-16 10:14:59.201805: I tensorflow/core/common_runtime/gpu/gpu_device.cc:1406] Created TensorFlow device (/job:localhost/replica:0/task:0/device:GPU:0 with 26685 MB memory) -> physical GPU (device: 0, name: NVIDIA RTX A6000, pci bus id: 0000:17:00.0, compute capability: 8.6)\n"
     ]
    }
   ],
   "source": [
    "from tensorflow.compat.v1 import ConfigProto\n",
    "from tensorflow.compat.v1 import InteractiveSession\n",
    "\n",
    "config = ConfigProto(\n",
    "    #device_count={\"CPU\": 64},\n",
    "    allow_soft_placement=True, \n",
    "    log_device_placement=False)\n",
    "config.gpu_options.allow_growth = True\n",
    "session = InteractiveSession(config=config)"
   ]
  },
  {
   "cell_type": "code",
   "execution_count": 3,
   "metadata": {},
   "outputs": [
    {
     "name": "stdout",
     "output_type": "stream",
     "text": [
      "self.trained_model_path: /home/nkd/hbh/5_saved_models/lakes_20240130-2243_AdaDelta_dice_loss_012345_576.h5\n"
     ]
    }
   ],
   "source": [
    "# Required configurations (including the input and output paths) are stored in a separate file (such as config/RasterAnalysis.py)\n",
    "# Please provide required info in the file before continuing with this notebook. \n",
    " \n",
    "from config import RasterAnalysis_bands\n",
    "# In case you are using a different folder name such as configLargeCluster, then you should import from the respective folder \n",
    "# Eg. from configLargeCluster import RasterAnalysis\n",
    "config = RasterAnalysis_bands.Configuration()"
   ]
  },
  {
   "cell_type": "code",
   "execution_count": 4,
   "metadata": {
    "scrolled": true
   },
   "outputs": [],
   "source": [
    "# testArea = gps.read_file(r'D:\\lakemapping\\predition\\test\\test_area.shp')\n",
    "# image_dir=r'G:\\sample_img_3'\n",
    "# output_dir=config.input_image_dir\n",
    "# for root, dirs, files in os.walk(image_dir):\n",
    "#         for file in files:\n",
    "#             if file.endswith('.tif') and file.startswith('ndwi'):\n",
    "#                 ndwiImg = rasterio.open(os.path.join(root, file))\n",
    "#                 bboxImg = box(*ndwiImg.bounds)\n",
    "#                 for i in tqdm(testArea.index):\n",
    "#                     if(bboxImg.intersects(testArea.loc[i]['geometry'])):\n",
    "#                         oldNDWI=os.path.join(root, file)\n",
    "#                         newNDWI=os.path.join(output_dir,file)\n",
    "#                         shutil.copy(oldNDWI, newNDWI)\n",
    "#                         oldBands=oldNDWI.replace('ndwi_int8','bands_int16')\n",
    "#                         newBands=newNDWI.replace('ndwi_int8','bands_int16')\n",
    "#                         shutil.copy(oldBands, newBands)"
   ]
  },
  {
   "cell_type": "code",
   "execution_count": 5,
   "metadata": {},
   "outputs": [
    {
     "name": "stderr",
     "output_type": "stream",
     "text": [
      "2024-02-16 10:14:59.283357: I tensorflow/compiler/jit/xla_gpu_device.cc:99] Not creating XLA devices, tf_xla_enable_xla_devices not set\n",
      "2024-02-16 10:14:59.283657: I tensorflow/core/common_runtime/gpu/gpu_device.cc:1720] Found device 0 with properties: \n",
      "pciBusID: 0000:17:00.0 name: NVIDIA RTX A6000 computeCapability: 8.6\n",
      "coreClock: 1.8GHz coreCount: 84 deviceMemorySize: 47.53GiB deviceMemoryBandwidth: 715.34GiB/s\n",
      "2024-02-16 10:14:59.283691: I tensorflow/stream_executor/platform/default/dso_loader.cc:49] Successfully opened dynamic library libcudart.so.11.0\n",
      "2024-02-16 10:14:59.283722: I tensorflow/stream_executor/platform/default/dso_loader.cc:49] Successfully opened dynamic library libcublas.so.11\n",
      "2024-02-16 10:14:59.283729: I tensorflow/stream_executor/platform/default/dso_loader.cc:49] Successfully opened dynamic library libcublasLt.so.11\n",
      "2024-02-16 10:14:59.283735: I tensorflow/stream_executor/platform/default/dso_loader.cc:49] Successfully opened dynamic library libcufft.so.10\n",
      "2024-02-16 10:14:59.283742: I tensorflow/stream_executor/platform/default/dso_loader.cc:49] Successfully opened dynamic library libcurand.so.10\n",
      "2024-02-16 10:14:59.283749: I tensorflow/stream_executor/platform/default/dso_loader.cc:49] Successfully opened dynamic library libcusolver.so.10\n",
      "2024-02-16 10:14:59.283755: I tensorflow/stream_executor/platform/default/dso_loader.cc:49] Successfully opened dynamic library libcusparse.so.11\n",
      "2024-02-16 10:14:59.283761: I tensorflow/stream_executor/platform/default/dso_loader.cc:49] Successfully opened dynamic library libcudnn.so.8\n",
      "2024-02-16 10:14:59.283922: I tensorflow/core/common_runtime/gpu/gpu_device.cc:1862] Adding visible gpu devices: 0\n",
      "2024-02-16 10:14:59.283947: I tensorflow/core/common_runtime/gpu/gpu_device.cc:1261] Device interconnect StreamExecutor with strength 1 edge matrix:\n",
      "2024-02-16 10:14:59.283952: I tensorflow/core/common_runtime/gpu/gpu_device.cc:1267]      0 \n",
      "2024-02-16 10:14:59.283955: I tensorflow/core/common_runtime/gpu/gpu_device.cc:1280] 0:   N \n",
      "2024-02-16 10:14:59.284141: I tensorflow/core/common_runtime/gpu/gpu_device.cc:1406] Created TensorFlow device (/job:localhost/replica:0/task:0/device:GPU:0 with 26685 MB memory) -> physical GPU (device: 0, name: NVIDIA RTX A6000, pci bus id: 0000:17:00.0, compute capability: 8.6)\n"
     ]
    }
   ],
   "source": [
    "# Load a pretrained model \n",
    "OPTIMIZER = adaDelta\n",
    "# OPTIMIZER = adam\n",
    "OPTIMIZER=mixed_precision.LossScaleOptimizer(OPTIMIZER)\n",
    "model = load_model(config.trained_model_path, custom_objects={'dice loss': dice_loss, 'accuracy':accuracy ,'recall':recall, 'F1_score':F1_score,'precision':precision,'IoU': IoU}, compile=False)\n",
    "model.compile(optimizer=OPTIMIZER, loss=dice_loss, metrics=[dice_loss, accuracy,recall, precision, IoU])"
   ]
  },
  {
   "cell_type": "code",
   "execution_count": 6,
   "metadata": {},
   "outputs": [],
   "source": [
    "# Methods to add results of a patch   to    the total results of a larger area. \n",
    "#The operator could be min (useful if there are too many false positives), max (useful for tackle false negatives)\n",
    "#res:mask [rows,cols] predition=np.squeeze(prediction[i], axis = -1) (col, row, wi, he) = batch_pos[i]\n",
    "def addTOResult(res, prediction, row, col, he, wi,operator,ie_width):\n",
    "    currValue = res[row+ie_width:row+he-ie_width, col+ie_width:col+wi-ie_width]\n",
    "    newPredictions = prediction[ie_width:he-ie_width, ie_width:wi-ie_width]\n",
    "    \n",
    "# IMPORTANT: MIN can't be used as long as the mask is initialed with 0!!!!! \n",
    "#If you want to use MIN initial the mask with -1 and handle the case of default value(-1) separately.\n",
    "    if operator == 'min': # Takes the min of current prediction and new prediction for each pixel  \n",
    "        currValue [currValue == -1] = 1 #Replace -1 with 1 in case of MIN  \n",
    "        res[row+ie_width:row+he-ie_width, col+ie_width:col+wi-ie_width] = np.minimum(currValue, newPredictions)\n",
    "    elif operator == 'max':\n",
    "        res[row+ie_width:row+he-ie_width, col+ie_width:col+wi-ie_width] = np.maximum(currValue, newPredictions)\n",
    "    else:\n",
    "        res[row+ie_width:row+he-ie_width, col+ie_width:col+wi-ie_width] = newPredictions  \n",
    "    return (res)"
   ]
  },
  {
   "cell_type": "code",
   "execution_count": 7,
   "metadata": {},
   "outputs": [],
   "source": [
    "# Methods that actually makes the predictions\n",
    "def predict_using_model(model, batch, batch_pos, mask,operator,ie_width):\n",
    "#     print(batch)\n",
    "    tm = np.stack(batch, axis = 0)\n",
    "#     print(tm)\n",
    "    prediction = model.predict(tm)\n",
    "    for i in range(len(batch_pos)): \n",
    "        (col, row, wi, he) = batch_pos[i]\n",
    "        p = np.squeeze(prediction[i], axis = -1)\n",
    "        # Instead of replacing the current values with new values, use the user specified operator (MIN,MAX,REPLACE)\n",
    "        mask = addTOResult(mask, p, row, col, he, wi,operator,ie_width)  \n",
    "    return mask\n",
    "\n",
    "def detect_lake(fullPath, NDWI_img, bands_img, operator ,width=512, height=512, stride = 256,ie_width=0,bandNum=1):\n",
    "    nols, nrows = NDWI_img.meta['width'], NDWI_img.meta['height']\n",
    "    meta = NDWI_img.meta.copy() \n",
    "    if 'float' not in meta['dtype']: #The prediction is a float so we keep it as float to be consistent with the prediction. \n",
    "        meta['dtype'] = np.float32\n",
    "    col_index=list(range(0, nols-width, stride))\n",
    "    col_index.append(nols-width)\n",
    "    row_index=list(range(0, nrows-height, stride))\n",
    "    row_index.append(nrows-height)\n",
    "    offsets = product(col_index,row_index)\n",
    "    big_window = windows.Window(col_off=0, row_off=0, width=nols, height=nrows)\n",
    "    print('the size of current NDWI_img',nrows, nols) \n",
    "\n",
    "    mask = np.zeros((nrows, nols), dtype=meta['dtype'])\n",
    "\n",
    "#     mask = mask -1   # Note: The initial mask is initialized with -1 instead of zero   to handle the MIN case (see addToResult)\n",
    "    batch = []\n",
    "    batch_pos = [ ]\n",
    "    for col_off, row_off in  tqdm(offsets):\n",
    "        window =windows.Window(col_off=col_off, row_off=row_off, width=width, height=height).intersection(big_window)\n",
    "        transform = windows.transform(window, NDWI_img.transform) \n",
    "#         hbh:notice datatype is float\n",
    "        patch = np.full((height, width, bandNum),-1.0)#Add -1 padding in case of corner images\n",
    "        if bandNum==1:\n",
    "            read_ndwi_img=NDWI_img.read(window=window)\n",
    "            temp_im = read_ndwi_img\n",
    "        elif bandNum==3:\n",
    "            read_ndwi_img=NDWI_img.read(window=window)/100\n",
    "            read_bands_img = bands_img.read(window=window)/1000\n",
    "            temp_im = np.concatenate((read_ndwi_img,np.expand_dims(read_bands_img[1],axis=0),np.expand_dims(read_bands_img[3],axis=0)), axis=0)\n",
    "        else:#band==5\n",
    "            read_ndwi_img=NDWI_img.read(window=window)/100\n",
    "            read_bands_img = bands_img.read(window=window)/1000\n",
    "            temp_im = np.concatenate((read_ndwi_img,read_bands_img), axis=0)\n",
    "        temp_im =  np.transpose(temp_im, axes=(1,2,0))\n",
    "\n",
    "        patch[:window.height, :window.width] = temp_im   \n",
    "        batch.append(patch)\n",
    "        batch_pos.append((window.col_off, window.row_off, window.width, window.height))\n",
    "        \n",
    "        if (len(batch) == config.BATCH_SIZE):\n",
    "            mask = predict_using_model(model, batch, batch_pos, mask,operator,ie_width)\n",
    "            batch = []\n",
    "            batch_pos = []\n",
    "            \n",
    "    # To handle the edge of images as the image size may not be divisible by n complete batches and few frames on the edge may be left.\n",
    "    if batch:\n",
    "        mask = predict_using_model(model, batch, batch_pos, mask,operator,ie_width)\n",
    "        batch = []\n",
    "        batch_pos = []\n",
    "\n",
    "    return(mask, meta)"
   ]
  },
  {
   "cell_type": "code",
   "execution_count": 8,
   "metadata": {},
   "outputs": [],
   "source": [
    "def raster2vector(raster_path, vecter_path, field_name=\"class\", ignore_values = None):\n",
    "    \n",
    "    # 读取路径中的栅格数据\n",
    "    raster = gdal.Open(raster_path)\n",
    "    # in_band 为想要转为矢量的波段,一般需要进行转矢量的栅格都是单波段分类结果\n",
    "    # 若栅格为多波段,需要提前转换为单波段\n",
    "    band = raster.GetRasterBand(1)\n",
    "    \n",
    "    # 读取栅格的投影信息,为后面生成的矢量赋予相同的投影信息\n",
    "    prj = osr.SpatialReference()\n",
    "    prj.ImportFromWkt(raster.GetProjection())\n",
    "    \n",
    "    \n",
    "    drv = ogr.GetDriverByName(\"ESRI Shapefile\")\n",
    "    # 若文件已经存在,删除\n",
    "    if os.path.exists(vecter_path):\n",
    "        drv.DeleteDataSource(vecter_path)\n",
    "    # 创建目标文件\n",
    "    polygon = drv.CreateDataSource(vecter_path)\n",
    "    # 创建面图层\n",
    "    poly_layer = polygon.CreateLayer(vecter_path[:-4], srs=prj, geom_type=ogr.wkbMultiPolygon)\n",
    "    # 添加浮点型字段,用来存储栅格的像素值\n",
    "    field = ogr.FieldDefn(field_name, ogr.OFTReal)  \n",
    "    poly_layer.CreateField(field)\n",
    "    \n",
    "    # FPolygonize将每个像元转成一个矩形，然后将相似的像元进行合并\n",
    "    # 设置矢量图层中保存像元值的字段序号为0\n",
    "    gdal.FPolygonize(band, None, poly_layer, 0)\n",
    "    \n",
    "    # 删除ignore_value链表中的类别要素\n",
    "    if ignore_values is not None:\n",
    "        for feature in poly_layer:\n",
    "            class_value = feature.GetField('class')\n",
    "            for ignore_value in ignore_values:\n",
    "                if class_value==ignore_value:\n",
    "                    # 通过FID删除要素\n",
    "                    poly_layer.DeleteFeature(feature.GetFID())\n",
    "                    break\n",
    "                \n",
    "    polygon.SyncToDisk()\n",
    "    polygon = None\n",
    "    print('Vector File Exported Successfully!')\n",
    "        \n",
    "def writeMaskToDisk(detected_mask, detected_meta, wp, write_as_type = 'uint8', th = 0.5, create_countors = False):\n",
    "    # Convert to correct required before writing\n",
    "    if 'float' in str(detected_meta['dtype']) and 'int' in write_as_type:\n",
    "        print(f'Converting prediction from {detected_meta[\"dtype\"]} to {write_as_type}, using threshold of {th}')#float32 to uint8\n",
    "#         initial code have problem of big lake\n",
    "        detected_mask[detected_mask<th]=0\n",
    "        detected_mask[detected_mask>=th]=1\n",
    "        detected_mask = detected_mask.astype(write_as_type)#'uint8'\n",
    "        detected_meta['dtype'] =  write_as_type\n",
    "    \n",
    "    # compress tif\n",
    "    detected_meta.update({\"compress\": 'lzw'})\n",
    "    \n",
    "    with rasterio.open(wp, 'w', **detected_meta) as outds:\n",
    "        outds.write(detected_mask, 1)"
   ]
  },
  {
   "cell_type": "code",
   "execution_count": null,
   "metadata": {
    "scrolled": true
   },
   "outputs": [
    {
     "name": "stdout",
     "output_type": "stream",
     "text": [
      "/media/nkd/data18931/ndwi_int8_13001_18931/ndwi_int8_17124.tif\n",
      "the size of current NDWI_img 11355 11355\n"
     ]
    },
    {
     "name": "stderr",
     "output_type": "stream",
     "text": [
      "900it [00:36, 24.53it/s]\n"
     ]
    },
    {
     "name": "stdout",
     "output_type": "stream",
     "text": [
      "Converting prediction from <class 'numpy.float32'> to uint8, using threshold of 0.5\n",
      "File already analysed! /media/nkd/data18931/ndwi_int8_13001_18931/ndwi_int8_17124.tif\n",
      "/media/nkd/data18931/ndwi_int8_13001_18931/ndwi_int8_17125.tif\n",
      "the size of current NDWI_img 11356 11355\n"
     ]
    },
    {
     "name": "stderr",
     "output_type": "stream",
     "text": [
      "900it [00:37, 23.98it/s]\n"
     ]
    },
    {
     "name": "stdout",
     "output_type": "stream",
     "text": [
      "Converting prediction from <class 'numpy.float32'> to uint8, using threshold of 0.5\n",
      "File already analysed! /media/nkd/data18931/ndwi_int8_13001_18931/ndwi_int8_17125.tif\n",
      "/media/nkd/data18931/ndwi_int8_13001_18931/ndwi_int8_17126.tif\n",
      "the size of current NDWI_img 11356 11355\n"
     ]
    },
    {
     "name": "stderr",
     "output_type": "stream",
     "text": [
      "900it [00:52, 17.22it/s]\n"
     ]
    },
    {
     "name": "stdout",
     "output_type": "stream",
     "text": [
      "Converting prediction from <class 'numpy.float32'> to uint8, using threshold of 0.5\n",
      "File already analysed! /media/nkd/data18931/ndwi_int8_13001_18931/ndwi_int8_17126.tif\n",
      "/media/nkd/data18931/ndwi_int8_13001_18931/ndwi_int8_17127.tif\n",
      "the size of current NDWI_img 11355 11355\n"
     ]
    },
    {
     "name": "stderr",
     "output_type": "stream",
     "text": [
      "900it [00:55, 16.24it/s]\n"
     ]
    },
    {
     "name": "stdout",
     "output_type": "stream",
     "text": [
      "Converting prediction from <class 'numpy.float32'> to uint8, using threshold of 0.5\n",
      "File already analysed! /media/nkd/data18931/ndwi_int8_13001_18931/ndwi_int8_17127.tif\n",
      "/media/nkd/data18931/ndwi_int8_13001_18931/ndwi_int8_17128.tif\n",
      "the size of current NDWI_img 11356 11355\n"
     ]
    },
    {
     "name": "stderr",
     "output_type": "stream",
     "text": [
      "900it [00:51, 17.37it/s]\n"
     ]
    },
    {
     "name": "stdout",
     "output_type": "stream",
     "text": [
      "Converting prediction from <class 'numpy.float32'> to uint8, using threshold of 0.5\n",
      "File already analysed! /media/nkd/data18931/ndwi_int8_13001_18931/ndwi_int8_17128.tif\n",
      "/media/nkd/data18931/ndwi_int8_13001_18931/ndwi_int8_17129.tif\n",
      "the size of current NDWI_img 11356 11355\n"
     ]
    },
    {
     "name": "stderr",
     "output_type": "stream",
     "text": [
      "900it [00:53, 16.71it/s]\n"
     ]
    },
    {
     "name": "stdout",
     "output_type": "stream",
     "text": [
      "Converting prediction from <class 'numpy.float32'> to uint8, using threshold of 0.5\n",
      "File already analysed! /media/nkd/data18931/ndwi_int8_13001_18931/ndwi_int8_17129.tif\n",
      "/media/nkd/data18931/ndwi_int8_13001_18931/ndwi_int8_17130.tif\n",
      "the size of current NDWI_img 11355 11355\n"
     ]
    },
    {
     "name": "stderr",
     "output_type": "stream",
     "text": [
      "900it [00:47, 18.82it/s]\n"
     ]
    },
    {
     "name": "stdout",
     "output_type": "stream",
     "text": [
      "Converting prediction from <class 'numpy.float32'> to uint8, using threshold of 0.5\n",
      "File already analysed! /media/nkd/data18931/ndwi_int8_13001_18931/ndwi_int8_17130.tif\n",
      "/media/nkd/data18931/ndwi_int8_13001_18931/ndwi_int8_17131.tif\n",
      "the size of current NDWI_img 11355 11355\n"
     ]
    },
    {
     "name": "stderr",
     "output_type": "stream",
     "text": [
      "900it [00:36, 24.47it/s]\n"
     ]
    },
    {
     "name": "stdout",
     "output_type": "stream",
     "text": [
      "Converting prediction from <class 'numpy.float32'> to uint8, using threshold of 0.5\n",
      "File already analysed! /media/nkd/data18931/ndwi_int8_13001_18931/ndwi_int8_17131.tif\n",
      "/media/nkd/data18931/ndwi_int8_13001_18931/ndwi_int8_17132.tif\n",
      "the size of current NDWI_img 11355 11356\n"
     ]
    },
    {
     "name": "stderr",
     "output_type": "stream",
     "text": [
      "900it [00:32, 27.29it/s]\n"
     ]
    },
    {
     "name": "stdout",
     "output_type": "stream",
     "text": [
      "Converting prediction from <class 'numpy.float32'> to uint8, using threshold of 0.5\n",
      "File already analysed! /media/nkd/data18931/ndwi_int8_13001_18931/ndwi_int8_17132.tif\n",
      "/media/nkd/data18931/ndwi_int8_13001_18931/ndwi_int8_17133.tif\n",
      "the size of current NDWI_img 11355 11356\n"
     ]
    },
    {
     "name": "stderr",
     "output_type": "stream",
     "text": [
      "900it [00:32, 27.39it/s]\n"
     ]
    },
    {
     "name": "stdout",
     "output_type": "stream",
     "text": [
      "Converting prediction from <class 'numpy.float32'> to uint8, using threshold of 0.5\n",
      "File already analysed! /media/nkd/data18931/ndwi_int8_13001_18931/ndwi_int8_17133.tif\n",
      "/media/nkd/data18931/ndwi_int8_13001_18931/ndwi_int8_17134.tif\n",
      "the size of current NDWI_img 11355 11355\n"
     ]
    },
    {
     "name": "stderr",
     "output_type": "stream",
     "text": [
      "900it [00:36, 24.67it/s]\n"
     ]
    },
    {
     "name": "stdout",
     "output_type": "stream",
     "text": [
      "Converting prediction from <class 'numpy.float32'> to uint8, using threshold of 0.5\n",
      "File already analysed! /media/nkd/data18931/ndwi_int8_13001_18931/ndwi_int8_17134.tif\n",
      "/media/nkd/data18931/ndwi_int8_13001_18931/ndwi_int8_17135.tif\n",
      "the size of current NDWI_img 11355 11355\n"
     ]
    },
    {
     "name": "stderr",
     "output_type": "stream",
     "text": [
      "900it [00:36, 24.70it/s]\n"
     ]
    },
    {
     "name": "stdout",
     "output_type": "stream",
     "text": [
      "Converting prediction from <class 'numpy.float32'> to uint8, using threshold of 0.5\n",
      "File already analysed! /media/nkd/data18931/ndwi_int8_13001_18931/ndwi_int8_17135.tif\n",
      "/media/nkd/data18931/ndwi_int8_13001_18931/ndwi_int8_17136.tif\n",
      "the size of current NDWI_img 11355 11355\n"
     ]
    },
    {
     "name": "stderr",
     "output_type": "stream",
     "text": [
      "900it [00:58, 15.26it/s]\n"
     ]
    },
    {
     "name": "stdout",
     "output_type": "stream",
     "text": [
      "Converting prediction from <class 'numpy.float32'> to uint8, using threshold of 0.5\n",
      "File already analysed! /media/nkd/data18931/ndwi_int8_13001_18931/ndwi_int8_17136.tif\n",
      "/media/nkd/data18931/ndwi_int8_13001_18931/ndwi_int8_17137.tif\n",
      "the size of current NDWI_img 11355 11355\n"
     ]
    },
    {
     "name": "stderr",
     "output_type": "stream",
     "text": [
      "900it [00:57, 15.59it/s]\n"
     ]
    },
    {
     "name": "stdout",
     "output_type": "stream",
     "text": [
      "Converting prediction from <class 'numpy.float32'> to uint8, using threshold of 0.5\n",
      "File already analysed! /media/nkd/data18931/ndwi_int8_13001_18931/ndwi_int8_17137.tif\n",
      "/media/nkd/data18931/ndwi_int8_13001_18931/ndwi_int8_17138.tif\n",
      "the size of current NDWI_img 11355 11355\n"
     ]
    },
    {
     "name": "stderr",
     "output_type": "stream",
     "text": [
      "900it [01:23, 10.77it/s]\n"
     ]
    },
    {
     "name": "stdout",
     "output_type": "stream",
     "text": [
      "Converting prediction from <class 'numpy.float32'> to uint8, using threshold of 0.5\n",
      "File already analysed! /media/nkd/data18931/ndwi_int8_13001_18931/ndwi_int8_17138.tif\n",
      "/media/nkd/data18931/ndwi_int8_13001_18931/ndwi_int8_17139.tif\n",
      "the size of current NDWI_img 11355 11355\n"
     ]
    },
    {
     "name": "stderr",
     "output_type": "stream",
     "text": [
      "900it [01:21, 11.05it/s]\n"
     ]
    },
    {
     "name": "stdout",
     "output_type": "stream",
     "text": [
      "Converting prediction from <class 'numpy.float32'> to uint8, using threshold of 0.5\n",
      "File already analysed! /media/nkd/data18931/ndwi_int8_13001_18931/ndwi_int8_17139.tif\n",
      "/media/nkd/data18931/ndwi_int8_13001_18931/ndwi_int8_17140.tif\n",
      "the size of current NDWI_img 11355 11355\n"
     ]
    },
    {
     "name": "stderr",
     "output_type": "stream",
     "text": [
      "900it [01:19, 11.36it/s]\n"
     ]
    },
    {
     "name": "stdout",
     "output_type": "stream",
     "text": [
      "Converting prediction from <class 'numpy.float32'> to uint8, using threshold of 0.5\n",
      "File already analysed! /media/nkd/data18931/ndwi_int8_13001_18931/ndwi_int8_17140.tif\n",
      "/media/nkd/data18931/ndwi_int8_13001_18931/ndwi_int8_17141.tif\n",
      "the size of current NDWI_img 11355 11355\n"
     ]
    },
    {
     "name": "stderr",
     "output_type": "stream",
     "text": [
      "900it [01:06, 13.49it/s]\n"
     ]
    },
    {
     "name": "stdout",
     "output_type": "stream",
     "text": [
      "Converting prediction from <class 'numpy.float32'> to uint8, using threshold of 0.5\n",
      "File already analysed! /media/nkd/data18931/ndwi_int8_13001_18931/ndwi_int8_17141.tif\n",
      "/media/nkd/data18931/ndwi_int8_13001_18931/ndwi_int8_17142.tif\n",
      "the size of current NDWI_img 11355 11355\n"
     ]
    },
    {
     "name": "stderr",
     "output_type": "stream",
     "text": [
      "900it [01:00, 14.88it/s]\n"
     ]
    },
    {
     "name": "stdout",
     "output_type": "stream",
     "text": [
      "Converting prediction from <class 'numpy.float32'> to uint8, using threshold of 0.5\n",
      "File already analysed! /media/nkd/data18931/ndwi_int8_13001_18931/ndwi_int8_17142.tif\n",
      "/media/nkd/data18931/ndwi_int8_13001_18931/ndwi_int8_17143.tif\n",
      "the size of current NDWI_img 11356 11355\n"
     ]
    },
    {
     "name": "stderr",
     "output_type": "stream",
     "text": [
      "900it [00:59, 15.17it/s]\n"
     ]
    },
    {
     "name": "stdout",
     "output_type": "stream",
     "text": [
      "Converting prediction from <class 'numpy.float32'> to uint8, using threshold of 0.5\n",
      "File already analysed! /media/nkd/data18931/ndwi_int8_13001_18931/ndwi_int8_17143.tif\n",
      "/media/nkd/data18931/ndwi_int8_13001_18931/ndwi_int8_17144.tif\n",
      "the size of current NDWI_img 11356 11355\n"
     ]
    },
    {
     "name": "stderr",
     "output_type": "stream",
     "text": [
      "900it [00:55, 16.11it/s]\n"
     ]
    },
    {
     "name": "stdout",
     "output_type": "stream",
     "text": [
      "Converting prediction from <class 'numpy.float32'> to uint8, using threshold of 0.5\n",
      "File already analysed! /media/nkd/data18931/ndwi_int8_13001_18931/ndwi_int8_17144.tif\n",
      "/media/nkd/data18931/ndwi_int8_13001_18931/ndwi_int8_17145.tif\n",
      "the size of current NDWI_img 11356 11355\n"
     ]
    },
    {
     "name": "stderr",
     "output_type": "stream",
     "text": [
      "900it [00:49, 18.10it/s]\n"
     ]
    },
    {
     "name": "stdout",
     "output_type": "stream",
     "text": [
      "Converting prediction from <class 'numpy.float32'> to uint8, using threshold of 0.5\n",
      "File already analysed! /media/nkd/data18931/ndwi_int8_13001_18931/ndwi_int8_17145.tif\n",
      "/media/nkd/data18931/ndwi_int8_13001_18931/ndwi_int8_17146.tif\n",
      "the size of current NDWI_img 11356 11355\n"
     ]
    },
    {
     "name": "stderr",
     "output_type": "stream",
     "text": [
      "900it [00:47, 18.93it/s]\n"
     ]
    },
    {
     "name": "stdout",
     "output_type": "stream",
     "text": [
      "Converting prediction from <class 'numpy.float32'> to uint8, using threshold of 0.5\n",
      "File already analysed! /media/nkd/data18931/ndwi_int8_13001_18931/ndwi_int8_17146.tif\n",
      "/media/nkd/data18931/ndwi_int8_13001_18931/ndwi_int8_17147.tif\n",
      "the size of current NDWI_img 11356 11355\n"
     ]
    },
    {
     "name": "stderr",
     "output_type": "stream",
     "text": [
      "900it [00:46, 19.17it/s]\n"
     ]
    },
    {
     "name": "stdout",
     "output_type": "stream",
     "text": [
      "Converting prediction from <class 'numpy.float32'> to uint8, using threshold of 0.5\n",
      "File already analysed! /media/nkd/data18931/ndwi_int8_13001_18931/ndwi_int8_17147.tif\n",
      "/media/nkd/data18931/ndwi_int8_13001_18931/ndwi_int8_17148.tif\n",
      "the size of current NDWI_img 11355 11355\n"
     ]
    },
    {
     "name": "stderr",
     "output_type": "stream",
     "text": [
      "900it [01:09, 12.93it/s]\n"
     ]
    },
    {
     "name": "stdout",
     "output_type": "stream",
     "text": [
      "Converting prediction from <class 'numpy.float32'> to uint8, using threshold of 0.5\n",
      "File already analysed! /media/nkd/data18931/ndwi_int8_13001_18931/ndwi_int8_17148.tif\n",
      "/media/nkd/data18931/ndwi_int8_13001_18931/ndwi_int8_17149.tif\n",
      "the size of current NDWI_img 11355 11355\n"
     ]
    },
    {
     "name": "stderr",
     "output_type": "stream",
     "text": [
      "900it [01:11, 12.59it/s]\n"
     ]
    },
    {
     "name": "stdout",
     "output_type": "stream",
     "text": [
      "Converting prediction from <class 'numpy.float32'> to uint8, using threshold of 0.5\n",
      "File already analysed! /media/nkd/data18931/ndwi_int8_13001_18931/ndwi_int8_17149.tif\n",
      "/media/nkd/data18931/ndwi_int8_13001_18931/ndwi_int8_17150.tif\n",
      "the size of current NDWI_img 11355 11355\n"
     ]
    },
    {
     "name": "stderr",
     "output_type": "stream",
     "text": [
      "900it [01:10, 12.78it/s]\n"
     ]
    },
    {
     "name": "stdout",
     "output_type": "stream",
     "text": [
      "Converting prediction from <class 'numpy.float32'> to uint8, using threshold of 0.5\n",
      "File already analysed! /media/nkd/data18931/ndwi_int8_13001_18931/ndwi_int8_17150.tif\n",
      "/media/nkd/data18931/ndwi_int8_13001_18931/ndwi_int8_17151.tif\n",
      "the size of current NDWI_img 11355 11355\n"
     ]
    },
    {
     "name": "stderr",
     "output_type": "stream",
     "text": [
      "900it [01:07, 13.24it/s]\n"
     ]
    },
    {
     "name": "stdout",
     "output_type": "stream",
     "text": [
      "Converting prediction from <class 'numpy.float32'> to uint8, using threshold of 0.5\n",
      "File already analysed! /media/nkd/data18931/ndwi_int8_13001_18931/ndwi_int8_17151.tif\n",
      "/media/nkd/data18931/ndwi_int8_13001_18931/ndwi_int8_17152.tif\n",
      "the size of current NDWI_img 11355 11355\n"
     ]
    },
    {
     "name": "stderr",
     "output_type": "stream",
     "text": [
      "900it [01:10, 12.80it/s]\n"
     ]
    },
    {
     "name": "stdout",
     "output_type": "stream",
     "text": [
      "Converting prediction from <class 'numpy.float32'> to uint8, using threshold of 0.5\n",
      "File already analysed! /media/nkd/data18931/ndwi_int8_13001_18931/ndwi_int8_17152.tif\n",
      "/media/nkd/data18931/ndwi_int8_13001_18931/ndwi_int8_17153.tif\n",
      "the size of current NDWI_img 11356 11355\n"
     ]
    },
    {
     "name": "stderr",
     "output_type": "stream",
     "text": [
      "900it [01:18, 11.49it/s]\n"
     ]
    },
    {
     "name": "stdout",
     "output_type": "stream",
     "text": [
      "Converting prediction from <class 'numpy.float32'> to uint8, using threshold of 0.5\n",
      "File already analysed! /media/nkd/data18931/ndwi_int8_13001_18931/ndwi_int8_17153.tif\n",
      "/media/nkd/data18931/ndwi_int8_13001_18931/ndwi_int8_17154.tif\n",
      "the size of current NDWI_img 11356 11355\n"
     ]
    },
    {
     "name": "stderr",
     "output_type": "stream",
     "text": [
      "900it [01:19, 11.34it/s]\n"
     ]
    },
    {
     "name": "stdout",
     "output_type": "stream",
     "text": [
      "Converting prediction from <class 'numpy.float32'> to uint8, using threshold of 0.5\n",
      "File already analysed! /media/nkd/data18931/ndwi_int8_13001_18931/ndwi_int8_17154.tif\n",
      "/media/nkd/data18931/ndwi_int8_13001_18931/ndwi_int8_17155.tif\n",
      "the size of current NDWI_img 11356 11355\n"
     ]
    },
    {
     "name": "stderr",
     "output_type": "stream",
     "text": [
      "900it [01:18, 11.44it/s]\n"
     ]
    },
    {
     "name": "stdout",
     "output_type": "stream",
     "text": [
      "Converting prediction from <class 'numpy.float32'> to uint8, using threshold of 0.5\n",
      "File already analysed! /media/nkd/data18931/ndwi_int8_13001_18931/ndwi_int8_17155.tif\n",
      "/media/nkd/data18931/ndwi_int8_13001_18931/ndwi_int8_17156.tif\n",
      "the size of current NDWI_img 11356 11355\n"
     ]
    },
    {
     "name": "stderr",
     "output_type": "stream",
     "text": [
      "900it [01:15, 11.84it/s]\n"
     ]
    },
    {
     "name": "stdout",
     "output_type": "stream",
     "text": [
      "Converting prediction from <class 'numpy.float32'> to uint8, using threshold of 0.5\n",
      "File already analysed! /media/nkd/data18931/ndwi_int8_13001_18931/ndwi_int8_17156.tif\n",
      "/media/nkd/data18931/ndwi_int8_13001_18931/ndwi_int8_17157.tif\n",
      "the size of current NDWI_img 11356 11355\n"
     ]
    },
    {
     "name": "stderr",
     "output_type": "stream",
     "text": [
      "900it [01:13, 12.30it/s]\n"
     ]
    },
    {
     "name": "stdout",
     "output_type": "stream",
     "text": [
      "Converting prediction from <class 'numpy.float32'> to uint8, using threshold of 0.5\n",
      "File already analysed! /media/nkd/data18931/ndwi_int8_13001_18931/ndwi_int8_17157.tif\n",
      "/media/nkd/data18931/ndwi_int8_13001_18931/ndwi_int8_17158.tif\n",
      "the size of current NDWI_img 11355 11355\n"
     ]
    },
    {
     "name": "stderr",
     "output_type": "stream",
     "text": [
      "900it [01:26, 10.46it/s]\n"
     ]
    },
    {
     "name": "stdout",
     "output_type": "stream",
     "text": [
      "Converting prediction from <class 'numpy.float32'> to uint8, using threshold of 0.5\n",
      "File already analysed! /media/nkd/data18931/ndwi_int8_13001_18931/ndwi_int8_17158.tif\n",
      "/media/nkd/data18931/ndwi_int8_13001_18931/ndwi_int8_17159.tif\n",
      "the size of current NDWI_img 11355 11355\n"
     ]
    },
    {
     "name": "stderr",
     "output_type": "stream",
     "text": [
      "900it [01:21, 11.09it/s]\n"
     ]
    },
    {
     "name": "stdout",
     "output_type": "stream",
     "text": [
      "Converting prediction from <class 'numpy.float32'> to uint8, using threshold of 0.5\n",
      "File already analysed! /media/nkd/data18931/ndwi_int8_13001_18931/ndwi_int8_17159.tif\n",
      "/media/nkd/data18931/ndwi_int8_13001_18931/ndwi_int8_17160.tif\n",
      "the size of current NDWI_img 11355 11355\n"
     ]
    },
    {
     "name": "stderr",
     "output_type": "stream",
     "text": [
      "900it [01:17, 11.66it/s]\n"
     ]
    },
    {
     "name": "stdout",
     "output_type": "stream",
     "text": [
      "Converting prediction from <class 'numpy.float32'> to uint8, using threshold of 0.5\n",
      "File already analysed! /media/nkd/data18931/ndwi_int8_13001_18931/ndwi_int8_17160.tif\n",
      "/media/nkd/data18931/ndwi_int8_13001_18931/ndwi_int8_17161.tif\n",
      "the size of current NDWI_img 11355 11355\n"
     ]
    },
    {
     "name": "stderr",
     "output_type": "stream",
     "text": [
      "900it [01:17, 11.56it/s]\n"
     ]
    },
    {
     "name": "stdout",
     "output_type": "stream",
     "text": [
      "Converting prediction from <class 'numpy.float32'> to uint8, using threshold of 0.5\n",
      "File already analysed! /media/nkd/data18931/ndwi_int8_13001_18931/ndwi_int8_17161.tif\n",
      "/media/nkd/data18931/ndwi_int8_13001_18931/ndwi_int8_17162.tif\n",
      "the size of current NDWI_img 11355 11355\n"
     ]
    },
    {
     "name": "stderr",
     "output_type": "stream",
     "text": [
      "900it [01:16, 11.80it/s]\n"
     ]
    },
    {
     "name": "stdout",
     "output_type": "stream",
     "text": [
      "Converting prediction from <class 'numpy.float32'> to uint8, using threshold of 0.5\n",
      "File already analysed! /media/nkd/data18931/ndwi_int8_13001_18931/ndwi_int8_17162.tif\n",
      "/media/nkd/data18931/ndwi_int8_13001_18931/ndwi_int8_17163.tif\n",
      "the size of current NDWI_img 11356 11355\n"
     ]
    },
    {
     "name": "stderr",
     "output_type": "stream",
     "text": [
      "900it [01:17, 11.54it/s]\n"
     ]
    },
    {
     "name": "stdout",
     "output_type": "stream",
     "text": [
      "Converting prediction from <class 'numpy.float32'> to uint8, using threshold of 0.5\n",
      "File already analysed! /media/nkd/data18931/ndwi_int8_13001_18931/ndwi_int8_17163.tif\n",
      "/media/nkd/data18931/ndwi_int8_13001_18931/ndwi_int8_17164.tif\n",
      "the size of current NDWI_img 11356 11355\n"
     ]
    },
    {
     "name": "stderr",
     "output_type": "stream",
     "text": [
      "900it [01:15, 11.87it/s]\n"
     ]
    },
    {
     "name": "stdout",
     "output_type": "stream",
     "text": [
      "Converting prediction from <class 'numpy.float32'> to uint8, using threshold of 0.5\n",
      "File already analysed! /media/nkd/data18931/ndwi_int8_13001_18931/ndwi_int8_17164.tif\n",
      "/media/nkd/data18931/ndwi_int8_13001_18931/ndwi_int8_17165.tif\n",
      "the size of current NDWI_img 11356 11355\n"
     ]
    },
    {
     "name": "stderr",
     "output_type": "stream",
     "text": [
      "900it [01:17, 11.57it/s]\n"
     ]
    },
    {
     "name": "stdout",
     "output_type": "stream",
     "text": [
      "Converting prediction from <class 'numpy.float32'> to uint8, using threshold of 0.5\n",
      "File already analysed! /media/nkd/data18931/ndwi_int8_13001_18931/ndwi_int8_17165.tif\n",
      "/media/nkd/data18931/ndwi_int8_13001_18931/ndwi_int8_17166.tif\n",
      "the size of current NDWI_img 11356 11355\n"
     ]
    },
    {
     "name": "stderr",
     "output_type": "stream",
     "text": [
      "900it [01:19, 11.32it/s]\n"
     ]
    },
    {
     "name": "stdout",
     "output_type": "stream",
     "text": [
      "Converting prediction from <class 'numpy.float32'> to uint8, using threshold of 0.5\n",
      "File already analysed! /media/nkd/data18931/ndwi_int8_13001_18931/ndwi_int8_17166.tif\n",
      "/media/nkd/data18931/ndwi_int8_13001_18931/ndwi_int8_17167.tif\n",
      "the size of current NDWI_img 11356 11355\n"
     ]
    },
    {
     "name": "stderr",
     "output_type": "stream",
     "text": [
      "900it [01:19, 11.31it/s]\n"
     ]
    },
    {
     "name": "stdout",
     "output_type": "stream",
     "text": [
      "Converting prediction from <class 'numpy.float32'> to uint8, using threshold of 0.5\n",
      "File already analysed! /media/nkd/data18931/ndwi_int8_13001_18931/ndwi_int8_17167.tif\n",
      "/media/nkd/data18931/ndwi_int8_13001_18931/ndwi_int8_17168.tif\n",
      "the size of current NDWI_img 11355 11355\n"
     ]
    },
    {
     "name": "stderr",
     "output_type": "stream",
     "text": [
      "900it [01:25, 10.54it/s]\n"
     ]
    },
    {
     "name": "stdout",
     "output_type": "stream",
     "text": [
      "Converting prediction from <class 'numpy.float32'> to uint8, using threshold of 0.5\n",
      "File already analysed! /media/nkd/data18931/ndwi_int8_13001_18931/ndwi_int8_17168.tif\n",
      "/media/nkd/data18931/ndwi_int8_13001_18931/ndwi_int8_17169.tif\n",
      "the size of current NDWI_img 11355 11355\n"
     ]
    },
    {
     "name": "stderr",
     "output_type": "stream",
     "text": [
      "900it [01:26, 10.35it/s]\n"
     ]
    },
    {
     "name": "stdout",
     "output_type": "stream",
     "text": [
      "Converting prediction from <class 'numpy.float32'> to uint8, using threshold of 0.5\n",
      "File already analysed! /media/nkd/data18931/ndwi_int8_13001_18931/ndwi_int8_17169.tif\n",
      "/media/nkd/data18931/ndwi_int8_13001_18931/ndwi_int8_17170.tif\n",
      "the size of current NDWI_img 11355 11355\n"
     ]
    },
    {
     "name": "stderr",
     "output_type": "stream",
     "text": [
      "900it [01:25, 10.49it/s]\n"
     ]
    },
    {
     "name": "stdout",
     "output_type": "stream",
     "text": [
      "Converting prediction from <class 'numpy.float32'> to uint8, using threshold of 0.5\n",
      "File already analysed! /media/nkd/data18931/ndwi_int8_13001_18931/ndwi_int8_17170.tif\n",
      "/media/nkd/data18931/ndwi_int8_13001_18931/ndwi_int8_17171.tif\n",
      "the size of current NDWI_img 11355 11355\n"
     ]
    },
    {
     "name": "stderr",
     "output_type": "stream",
     "text": [
      "900it [01:17, 11.58it/s]\n"
     ]
    },
    {
     "name": "stdout",
     "output_type": "stream",
     "text": [
      "Converting prediction from <class 'numpy.float32'> to uint8, using threshold of 0.5\n",
      "File already analysed! /media/nkd/data18931/ndwi_int8_13001_18931/ndwi_int8_17171.tif\n",
      "/media/nkd/data18931/ndwi_int8_13001_18931/ndwi_int8_17172.tif\n",
      "the size of current NDWI_img 11355 11355\n"
     ]
    },
    {
     "name": "stderr",
     "output_type": "stream",
     "text": [
      "900it [01:18, 11.46it/s]\n"
     ]
    },
    {
     "name": "stdout",
     "output_type": "stream",
     "text": [
      "Converting prediction from <class 'numpy.float32'> to uint8, using threshold of 0.5\n",
      "File already analysed! /media/nkd/data18931/ndwi_int8_13001_18931/ndwi_int8_17172.tif\n",
      "/media/nkd/data18931/ndwi_int8_13001_18931/ndwi_int8_17173.tif\n",
      "the size of current NDWI_img 11356 11355\n"
     ]
    },
    {
     "name": "stderr",
     "output_type": "stream",
     "text": [
      "900it [01:09, 12.95it/s]\n"
     ]
    },
    {
     "name": "stdout",
     "output_type": "stream",
     "text": [
      "Converting prediction from <class 'numpy.float32'> to uint8, using threshold of 0.5\n",
      "File already analysed! /media/nkd/data18931/ndwi_int8_13001_18931/ndwi_int8_17173.tif\n",
      "/media/nkd/data18931/ndwi_int8_13001_18931/ndwi_int8_17174.tif\n",
      "the size of current NDWI_img 11356 11355\n"
     ]
    },
    {
     "name": "stderr",
     "output_type": "stream",
     "text": [
      "900it [01:08, 13.17it/s]\n"
     ]
    },
    {
     "name": "stdout",
     "output_type": "stream",
     "text": [
      "Converting prediction from <class 'numpy.float32'> to uint8, using threshold of 0.5\n",
      "File already analysed! /media/nkd/data18931/ndwi_int8_13001_18931/ndwi_int8_17174.tif\n",
      "/media/nkd/data18931/ndwi_int8_13001_18931/ndwi_int8_17175.tif\n",
      "the size of current NDWI_img 11356 11355\n"
     ]
    },
    {
     "name": "stderr",
     "output_type": "stream",
     "text": [
      "900it [01:09, 12.92it/s]\n"
     ]
    },
    {
     "name": "stdout",
     "output_type": "stream",
     "text": [
      "Converting prediction from <class 'numpy.float32'> to uint8, using threshold of 0.5\n",
      "File already analysed! /media/nkd/data18931/ndwi_int8_13001_18931/ndwi_int8_17175.tif\n",
      "/media/nkd/data18931/ndwi_int8_13001_18931/ndwi_int8_17176.tif\n",
      "the size of current NDWI_img 11356 11355\n"
     ]
    },
    {
     "name": "stderr",
     "output_type": "stream",
     "text": [
      "900it [01:09, 12.91it/s]\n"
     ]
    },
    {
     "name": "stdout",
     "output_type": "stream",
     "text": [
      "Converting prediction from <class 'numpy.float32'> to uint8, using threshold of 0.5\n",
      "File already analysed! /media/nkd/data18931/ndwi_int8_13001_18931/ndwi_int8_17176.tif\n",
      "/media/nkd/data18931/ndwi_int8_13001_18931/ndwi_int8_17177.tif\n",
      "the size of current NDWI_img 11356 11355\n"
     ]
    },
    {
     "name": "stderr",
     "output_type": "stream",
     "text": [
      "900it [01:07, 13.42it/s]\n"
     ]
    },
    {
     "name": "stdout",
     "output_type": "stream",
     "text": [
      "Converting prediction from <class 'numpy.float32'> to uint8, using threshold of 0.5\n",
      "File already analysed! /media/nkd/data18931/ndwi_int8_13001_18931/ndwi_int8_17177.tif\n",
      "/media/nkd/data18931/ndwi_int8_13001_18931/ndwi_int8_17178.tif\n",
      "the size of current NDWI_img 11355 11355\n"
     ]
    },
    {
     "name": "stderr",
     "output_type": "stream",
     "text": [
      "900it [01:16, 11.80it/s]\n"
     ]
    },
    {
     "name": "stdout",
     "output_type": "stream",
     "text": [
      "Converting prediction from <class 'numpy.float32'> to uint8, using threshold of 0.5\n",
      "File already analysed! /media/nkd/data18931/ndwi_int8_13001_18931/ndwi_int8_17178.tif\n",
      "/media/nkd/data18931/ndwi_int8_13001_18931/ndwi_int8_17179.tif\n",
      "the size of current NDWI_img 11355 11355\n"
     ]
    },
    {
     "name": "stderr",
     "output_type": "stream",
     "text": [
      "900it [01:17, 11.57it/s]\n"
     ]
    },
    {
     "name": "stdout",
     "output_type": "stream",
     "text": [
      "Converting prediction from <class 'numpy.float32'> to uint8, using threshold of 0.5\n",
      "File already analysed! /media/nkd/data18931/ndwi_int8_13001_18931/ndwi_int8_17179.tif\n",
      "/media/nkd/data18931/ndwi_int8_13001_18931/ndwi_int8_17180.tif\n",
      "the size of current NDWI_img 11355 11355\n"
     ]
    },
    {
     "name": "stderr",
     "output_type": "stream",
     "text": [
      "900it [01:13, 12.17it/s]\n"
     ]
    },
    {
     "name": "stdout",
     "output_type": "stream",
     "text": [
      "Converting prediction from <class 'numpy.float32'> to uint8, using threshold of 0.5\n",
      "File already analysed! /media/nkd/data18931/ndwi_int8_13001_18931/ndwi_int8_17180.tif\n",
      "/media/nkd/data18931/ndwi_int8_13001_18931/ndwi_int8_17181.tif\n",
      "the size of current NDWI_img 11355 11355\n"
     ]
    },
    {
     "name": "stderr",
     "output_type": "stream",
     "text": [
      "900it [01:12, 12.48it/s]\n"
     ]
    },
    {
     "name": "stdout",
     "output_type": "stream",
     "text": [
      "Converting prediction from <class 'numpy.float32'> to uint8, using threshold of 0.5\n",
      "File already analysed! /media/nkd/data18931/ndwi_int8_13001_18931/ndwi_int8_17181.tif\n",
      "/media/nkd/data18931/ndwi_int8_13001_18931/ndwi_int8_17182.tif\n",
      "the size of current NDWI_img 11355 11355\n"
     ]
    },
    {
     "name": "stderr",
     "output_type": "stream",
     "text": [
      "900it [01:11, 12.53it/s]\n"
     ]
    },
    {
     "name": "stdout",
     "output_type": "stream",
     "text": [
      "Converting prediction from <class 'numpy.float32'> to uint8, using threshold of 0.5\n",
      "File already analysed! /media/nkd/data18931/ndwi_int8_13001_18931/ndwi_int8_17182.tif\n",
      "/media/nkd/data18931/ndwi_int8_13001_18931/ndwi_int8_17183.tif\n",
      "the size of current NDWI_img 11356 11355\n"
     ]
    },
    {
     "name": "stderr",
     "output_type": "stream",
     "text": [
      "900it [01:10, 12.77it/s]\n"
     ]
    },
    {
     "name": "stdout",
     "output_type": "stream",
     "text": [
      "Converting prediction from <class 'numpy.float32'> to uint8, using threshold of 0.5\n",
      "File already analysed! /media/nkd/data18931/ndwi_int8_13001_18931/ndwi_int8_17183.tif\n",
      "/media/nkd/data18931/ndwi_int8_13001_18931/ndwi_int8_17184.tif\n",
      "the size of current NDWI_img 11356 11355\n"
     ]
    },
    {
     "name": "stderr",
     "output_type": "stream",
     "text": [
      "900it [01:09, 13.01it/s]\n"
     ]
    },
    {
     "name": "stdout",
     "output_type": "stream",
     "text": [
      "Converting prediction from <class 'numpy.float32'> to uint8, using threshold of 0.5\n",
      "File already analysed! /media/nkd/data18931/ndwi_int8_13001_18931/ndwi_int8_17184.tif\n",
      "/media/nkd/data18931/ndwi_int8_13001_18931/ndwi_int8_17185.tif\n",
      "the size of current NDWI_img 11356 11355\n"
     ]
    },
    {
     "name": "stderr",
     "output_type": "stream",
     "text": [
      "900it [01:11, 12.62it/s]\n"
     ]
    },
    {
     "name": "stdout",
     "output_type": "stream",
     "text": [
      "Converting prediction from <class 'numpy.float32'> to uint8, using threshold of 0.5\n",
      "File already analysed! /media/nkd/data18931/ndwi_int8_13001_18931/ndwi_int8_17185.tif\n",
      "/media/nkd/data18931/ndwi_int8_13001_18931/ndwi_int8_17186.tif\n",
      "the size of current NDWI_img 11356 11355\n"
     ]
    },
    {
     "name": "stderr",
     "output_type": "stream",
     "text": [
      "900it [01:12, 12.48it/s]\n"
     ]
    },
    {
     "name": "stdout",
     "output_type": "stream",
     "text": [
      "Converting prediction from <class 'numpy.float32'> to uint8, using threshold of 0.5\n",
      "File already analysed! /media/nkd/data18931/ndwi_int8_13001_18931/ndwi_int8_17186.tif\n",
      "/media/nkd/data18931/ndwi_int8_13001_18931/ndwi_int8_17187.tif\n",
      "the size of current NDWI_img 11356 11355\n"
     ]
    },
    {
     "name": "stderr",
     "output_type": "stream",
     "text": [
      "900it [01:13, 12.21it/s]\n"
     ]
    },
    {
     "name": "stdout",
     "output_type": "stream",
     "text": [
      "Converting prediction from <class 'numpy.float32'> to uint8, using threshold of 0.5\n",
      "File already analysed! /media/nkd/data18931/ndwi_int8_13001_18931/ndwi_int8_17187.tif\n",
      "/media/nkd/data18931/ndwi_int8_13001_18931/ndwi_int8_17188.tif\n",
      "the size of current NDWI_img 11355 11355\n"
     ]
    },
    {
     "name": "stderr",
     "output_type": "stream",
     "text": [
      "900it [01:10, 12.69it/s]\n"
     ]
    },
    {
     "name": "stdout",
     "output_type": "stream",
     "text": [
      "Converting prediction from <class 'numpy.float32'> to uint8, using threshold of 0.5\n",
      "File already analysed! /media/nkd/data18931/ndwi_int8_13001_18931/ndwi_int8_17188.tif\n",
      "/media/nkd/data18931/ndwi_int8_13001_18931/ndwi_int8_17189.tif\n",
      "the size of current NDWI_img 11355 11355\n"
     ]
    },
    {
     "name": "stderr",
     "output_type": "stream",
     "text": [
      "900it [01:08, 13.06it/s]\n"
     ]
    },
    {
     "name": "stdout",
     "output_type": "stream",
     "text": [
      "Converting prediction from <class 'numpy.float32'> to uint8, using threshold of 0.5\n",
      "File already analysed! /media/nkd/data18931/ndwi_int8_13001_18931/ndwi_int8_17189.tif\n",
      "/media/nkd/data18931/ndwi_int8_13001_18931/ndwi_int8_17190.tif\n",
      "the size of current NDWI_img 11355 11355\n"
     ]
    },
    {
     "name": "stderr",
     "output_type": "stream",
     "text": [
      "900it [01:07, 13.37it/s]\n"
     ]
    },
    {
     "name": "stdout",
     "output_type": "stream",
     "text": [
      "Converting prediction from <class 'numpy.float32'> to uint8, using threshold of 0.5\n",
      "File already analysed! /media/nkd/data18931/ndwi_int8_13001_18931/ndwi_int8_17190.tif\n",
      "/media/nkd/data18931/ndwi_int8_13001_18931/ndwi_int8_17191.tif\n",
      "the size of current NDWI_img 11355 11355\n"
     ]
    },
    {
     "name": "stderr",
     "output_type": "stream",
     "text": [
      "900it [01:11, 12.65it/s]\n"
     ]
    },
    {
     "name": "stdout",
     "output_type": "stream",
     "text": [
      "Converting prediction from <class 'numpy.float32'> to uint8, using threshold of 0.5\n",
      "File already analysed! /media/nkd/data18931/ndwi_int8_13001_18931/ndwi_int8_17191.tif\n",
      "/media/nkd/data18931/ndwi_int8_13001_18931/ndwi_int8_17192.tif\n",
      "the size of current NDWI_img 11355 11355\n"
     ]
    },
    {
     "name": "stderr",
     "output_type": "stream",
     "text": [
      "900it [01:11, 12.59it/s]\n"
     ]
    },
    {
     "name": "stdout",
     "output_type": "stream",
     "text": [
      "Converting prediction from <class 'numpy.float32'> to uint8, using threshold of 0.5\n",
      "File already analysed! /media/nkd/data18931/ndwi_int8_13001_18931/ndwi_int8_17192.tif\n",
      "/media/nkd/data18931/ndwi_int8_13001_18931/ndwi_int8_17193.tif\n",
      "the size of current NDWI_img 11356 11355\n"
     ]
    },
    {
     "name": "stderr",
     "output_type": "stream",
     "text": [
      "900it [01:12, 12.40it/s]\n"
     ]
    },
    {
     "name": "stdout",
     "output_type": "stream",
     "text": [
      "Converting prediction from <class 'numpy.float32'> to uint8, using threshold of 0.5\n",
      "File already analysed! /media/nkd/data18931/ndwi_int8_13001_18931/ndwi_int8_17193.tif\n",
      "/media/nkd/data18931/ndwi_int8_13001_18931/ndwi_int8_17194.tif\n",
      "the size of current NDWI_img 11356 11355\n"
     ]
    },
    {
     "name": "stderr",
     "output_type": "stream",
     "text": [
      "900it [01:13, 12.31it/s]\n"
     ]
    },
    {
     "name": "stdout",
     "output_type": "stream",
     "text": [
      "Converting prediction from <class 'numpy.float32'> to uint8, using threshold of 0.5\n",
      "File already analysed! /media/nkd/data18931/ndwi_int8_13001_18931/ndwi_int8_17194.tif\n",
      "/media/nkd/data18931/ndwi_int8_13001_18931/ndwi_int8_17195.tif\n",
      "the size of current NDWI_img 11356 11355\n"
     ]
    },
    {
     "name": "stderr",
     "output_type": "stream",
     "text": [
      "900it [01:13, 12.22it/s]\n"
     ]
    },
    {
     "name": "stdout",
     "output_type": "stream",
     "text": [
      "Converting prediction from <class 'numpy.float32'> to uint8, using threshold of 0.5\n",
      "File already analysed! /media/nkd/data18931/ndwi_int8_13001_18931/ndwi_int8_17195.tif\n",
      "/media/nkd/data18931/ndwi_int8_13001_18931/ndwi_int8_17196.tif\n",
      "the size of current NDWI_img 11356 11355\n"
     ]
    },
    {
     "name": "stderr",
     "output_type": "stream",
     "text": [
      "900it [01:15, 11.85it/s]\n"
     ]
    },
    {
     "name": "stdout",
     "output_type": "stream",
     "text": [
      "Converting prediction from <class 'numpy.float32'> to uint8, using threshold of 0.5\n",
      "File already analysed! /media/nkd/data18931/ndwi_int8_13001_18931/ndwi_int8_17196.tif\n",
      "/media/nkd/data18931/ndwi_int8_13001_18931/ndwi_int8_17197.tif\n",
      "the size of current NDWI_img 11356 11355\n"
     ]
    },
    {
     "name": "stderr",
     "output_type": "stream",
     "text": [
      "900it [01:17, 11.58it/s]\n"
     ]
    },
    {
     "name": "stdout",
     "output_type": "stream",
     "text": [
      "Converting prediction from <class 'numpy.float32'> to uint8, using threshold of 0.5\n",
      "File already analysed! /media/nkd/data18931/ndwi_int8_13001_18931/ndwi_int8_17197.tif\n",
      "/media/nkd/data18931/ndwi_int8_13001_18931/ndwi_int8_17198.tif\n",
      "the size of current NDWI_img 11355 11356\n"
     ]
    },
    {
     "name": "stderr",
     "output_type": "stream",
     "text": [
      "900it [01:05, 13.70it/s]\n"
     ]
    },
    {
     "name": "stdout",
     "output_type": "stream",
     "text": [
      "Converting prediction from <class 'numpy.float32'> to uint8, using threshold of 0.5\n",
      "File already analysed! /media/nkd/data18931/ndwi_int8_13001_18931/ndwi_int8_17198.tif\n",
      "/media/nkd/data18931/ndwi_int8_13001_18931/ndwi_int8_17199.tif\n",
      "the size of current NDWI_img 11355 11356\n"
     ]
    },
    {
     "name": "stderr",
     "output_type": "stream",
     "text": [
      "900it [01:07, 13.38it/s]\n"
     ]
    },
    {
     "name": "stdout",
     "output_type": "stream",
     "text": [
      "Converting prediction from <class 'numpy.float32'> to uint8, using threshold of 0.5\n",
      "File already analysed! /media/nkd/data18931/ndwi_int8_13001_18931/ndwi_int8_17199.tif\n",
      "/media/nkd/data18931/ndwi_int8_13001_18931/ndwi_int8_17200.tif\n",
      "the size of current NDWI_img 11355 11356\n"
     ]
    },
    {
     "name": "stderr",
     "output_type": "stream",
     "text": [
      "900it [01:07, 13.36it/s]\n"
     ]
    },
    {
     "name": "stdout",
     "output_type": "stream",
     "text": [
      "Converting prediction from <class 'numpy.float32'> to uint8, using threshold of 0.5\n",
      "File already analysed! /media/nkd/data18931/ndwi_int8_13001_18931/ndwi_int8_17200.tif\n",
      "/media/nkd/data18931/ndwi_int8_13001_18931/ndwi_int8_17201.tif\n",
      "the size of current NDWI_img 11355 11356\n"
     ]
    },
    {
     "name": "stderr",
     "output_type": "stream",
     "text": [
      "900it [01:02, 14.41it/s]\n"
     ]
    },
    {
     "name": "stdout",
     "output_type": "stream",
     "text": [
      "Converting prediction from <class 'numpy.float32'> to uint8, using threshold of 0.5\n",
      "File already analysed! /media/nkd/data18931/ndwi_int8_13001_18931/ndwi_int8_17201.tif\n",
      "/media/nkd/data18931/ndwi_int8_13001_18931/ndwi_int8_17202.tif\n",
      "the size of current NDWI_img 11355 11356\n"
     ]
    },
    {
     "name": "stderr",
     "output_type": "stream",
     "text": [
      "900it [01:04, 13.90it/s]\n"
     ]
    },
    {
     "name": "stdout",
     "output_type": "stream",
     "text": [
      "Converting prediction from <class 'numpy.float32'> to uint8, using threshold of 0.5\n",
      "File already analysed! /media/nkd/data18931/ndwi_int8_13001_18931/ndwi_int8_17202.tif\n",
      "/media/nkd/data18931/ndwi_int8_13001_18931/ndwi_int8_17203.tif\n",
      "the size of current NDWI_img 11356 11356\n"
     ]
    },
    {
     "name": "stderr",
     "output_type": "stream",
     "text": [
      "900it [01:04, 13.91it/s]\n"
     ]
    },
    {
     "name": "stdout",
     "output_type": "stream",
     "text": [
      "Converting prediction from <class 'numpy.float32'> to uint8, using threshold of 0.5\n",
      "File already analysed! /media/nkd/data18931/ndwi_int8_13001_18931/ndwi_int8_17203.tif\n",
      "/media/nkd/data18931/ndwi_int8_13001_18931/ndwi_int8_17204.tif\n",
      "the size of current NDWI_img 11356 11356\n"
     ]
    },
    {
     "name": "stderr",
     "output_type": "stream",
     "text": [
      "900it [01:05, 13.69it/s]\n"
     ]
    },
    {
     "name": "stdout",
     "output_type": "stream",
     "text": [
      "Converting prediction from <class 'numpy.float32'> to uint8, using threshold of 0.5\n",
      "File already analysed! /media/nkd/data18931/ndwi_int8_13001_18931/ndwi_int8_17204.tif\n",
      "/media/nkd/data18931/ndwi_int8_13001_18931/ndwi_int8_17205.tif\n",
      "the size of current NDWI_img 11356 11356\n"
     ]
    },
    {
     "name": "stderr",
     "output_type": "stream",
     "text": [
      "900it [01:09, 12.91it/s]\n"
     ]
    },
    {
     "name": "stdout",
     "output_type": "stream",
     "text": [
      "Converting prediction from <class 'numpy.float32'> to uint8, using threshold of 0.5\n",
      "File already analysed! /media/nkd/data18931/ndwi_int8_13001_18931/ndwi_int8_17205.tif\n",
      "/media/nkd/data18931/ndwi_int8_13001_18931/ndwi_int8_17206.tif\n",
      "the size of current NDWI_img 11356 11356\n"
     ]
    },
    {
     "name": "stderr",
     "output_type": "stream",
     "text": [
      "900it [01:15, 11.92it/s]\n"
     ]
    },
    {
     "name": "stdout",
     "output_type": "stream",
     "text": [
      "Converting prediction from <class 'numpy.float32'> to uint8, using threshold of 0.5\n",
      "File already analysed! /media/nkd/data18931/ndwi_int8_13001_18931/ndwi_int8_17206.tif\n",
      "/media/nkd/data18931/ndwi_int8_13001_18931/ndwi_int8_17207.tif\n",
      "the size of current NDWI_img 11356 11356\n"
     ]
    },
    {
     "name": "stderr",
     "output_type": "stream",
     "text": [
      "900it [01:15, 11.89it/s]\n"
     ]
    },
    {
     "name": "stdout",
     "output_type": "stream",
     "text": [
      "Converting prediction from <class 'numpy.float32'> to uint8, using threshold of 0.5\n",
      "File already analysed! /media/nkd/data18931/ndwi_int8_13001_18931/ndwi_int8_17207.tif\n",
      "/media/nkd/data18931/ndwi_int8_13001_18931/ndwi_int8_17208.tif\n",
      "the size of current NDWI_img 11355 11356\n"
     ]
    },
    {
     "name": "stderr",
     "output_type": "stream",
     "text": [
      "900it [01:06, 13.63it/s]\n"
     ]
    },
    {
     "name": "stdout",
     "output_type": "stream",
     "text": [
      "Converting prediction from <class 'numpy.float32'> to uint8, using threshold of 0.5\n",
      "File already analysed! /media/nkd/data18931/ndwi_int8_13001_18931/ndwi_int8_17208.tif\n",
      "/media/nkd/data18931/ndwi_int8_13001_18931/ndwi_int8_17209.tif\n",
      "the size of current NDWI_img 11355 11356\n"
     ]
    },
    {
     "name": "stderr",
     "output_type": "stream",
     "text": [
      "900it [01:07, 13.29it/s]\n"
     ]
    },
    {
     "name": "stdout",
     "output_type": "stream",
     "text": [
      "Converting prediction from <class 'numpy.float32'> to uint8, using threshold of 0.5\n",
      "File already analysed! /media/nkd/data18931/ndwi_int8_13001_18931/ndwi_int8_17209.tif\n",
      "/media/nkd/data18931/ndwi_int8_13001_18931/ndwi_int8_17210.tif\n",
      "the size of current NDWI_img 11355 11356\n"
     ]
    },
    {
     "name": "stderr",
     "output_type": "stream",
     "text": [
      "900it [01:02, 14.29it/s]\n"
     ]
    },
    {
     "name": "stdout",
     "output_type": "stream",
     "text": [
      "Converting prediction from <class 'numpy.float32'> to uint8, using threshold of 0.5\n",
      "File already analysed! /media/nkd/data18931/ndwi_int8_13001_18931/ndwi_int8_17210.tif\n",
      "/media/nkd/data18931/ndwi_int8_13001_18931/ndwi_int8_17211.tif\n",
      "the size of current NDWI_img 11355 11356\n"
     ]
    },
    {
     "name": "stderr",
     "output_type": "stream",
     "text": [
      "900it [01:00, 14.76it/s]\n"
     ]
    },
    {
     "name": "stdout",
     "output_type": "stream",
     "text": [
      "Converting prediction from <class 'numpy.float32'> to uint8, using threshold of 0.5\n",
      "File already analysed! /media/nkd/data18931/ndwi_int8_13001_18931/ndwi_int8_17211.tif\n",
      "/media/nkd/data18931/ndwi_int8_13001_18931/ndwi_int8_17212.tif\n",
      "the size of current NDWI_img 11355 11356\n"
     ]
    },
    {
     "name": "stderr",
     "output_type": "stream",
     "text": [
      "900it [01:00, 14.96it/s]\n"
     ]
    },
    {
     "name": "stdout",
     "output_type": "stream",
     "text": [
      "Converting prediction from <class 'numpy.float32'> to uint8, using threshold of 0.5\n",
      "File already analysed! /media/nkd/data18931/ndwi_int8_13001_18931/ndwi_int8_17212.tif\n",
      "/media/nkd/data18931/ndwi_int8_13001_18931/ndwi_int8_17213.tif\n",
      "the size of current NDWI_img 11356 11356\n"
     ]
    },
    {
     "name": "stderr",
     "output_type": "stream",
     "text": [
      "900it [01:04, 14.01it/s]\n"
     ]
    },
    {
     "name": "stdout",
     "output_type": "stream",
     "text": [
      "Converting prediction from <class 'numpy.float32'> to uint8, using threshold of 0.5\n",
      "File already analysed! /media/nkd/data18931/ndwi_int8_13001_18931/ndwi_int8_17213.tif\n",
      "/media/nkd/data18931/ndwi_int8_13001_18931/ndwi_int8_17214.tif\n",
      "the size of current NDWI_img 11356 11356\n"
     ]
    },
    {
     "name": "stderr",
     "output_type": "stream",
     "text": [
      "900it [01:04, 13.93it/s]\n"
     ]
    },
    {
     "name": "stdout",
     "output_type": "stream",
     "text": [
      "Converting prediction from <class 'numpy.float32'> to uint8, using threshold of 0.5\n",
      "File already analysed! /media/nkd/data18931/ndwi_int8_13001_18931/ndwi_int8_17214.tif\n",
      "/media/nkd/data18931/ndwi_int8_13001_18931/ndwi_int8_17215.tif\n",
      "the size of current NDWI_img 11356 11356\n"
     ]
    },
    {
     "name": "stderr",
     "output_type": "stream",
     "text": [
      "900it [00:59, 15.09it/s]\n"
     ]
    },
    {
     "name": "stdout",
     "output_type": "stream",
     "text": [
      "Converting prediction from <class 'numpy.float32'> to uint8, using threshold of 0.5\n",
      "File already analysed! /media/nkd/data18931/ndwi_int8_13001_18931/ndwi_int8_17215.tif\n",
      "/media/nkd/data18931/ndwi_int8_13001_18931/ndwi_int8_17216.tif\n",
      "the size of current NDWI_img 11356 11356\n"
     ]
    },
    {
     "name": "stderr",
     "output_type": "stream",
     "text": [
      "900it [01:06, 13.59it/s]\n"
     ]
    },
    {
     "name": "stdout",
     "output_type": "stream",
     "text": [
      "Converting prediction from <class 'numpy.float32'> to uint8, using threshold of 0.5\n",
      "File already analysed! /media/nkd/data18931/ndwi_int8_13001_18931/ndwi_int8_17216.tif\n",
      "/media/nkd/data18931/ndwi_int8_13001_18931/ndwi_int8_17217.tif\n",
      "the size of current NDWI_img 11356 11356\n"
     ]
    },
    {
     "name": "stderr",
     "output_type": "stream",
     "text": [
      "900it [01:08, 13.22it/s]\n"
     ]
    },
    {
     "name": "stdout",
     "output_type": "stream",
     "text": [
      "Converting prediction from <class 'numpy.float32'> to uint8, using threshold of 0.5\n",
      "File already analysed! /media/nkd/data18931/ndwi_int8_13001_18931/ndwi_int8_17217.tif\n",
      "/media/nkd/data18931/ndwi_int8_13001_18931/ndwi_int8_17218.tif\n",
      "the size of current NDWI_img 11355 11356\n"
     ]
    },
    {
     "name": "stderr",
     "output_type": "stream",
     "text": [
      "900it [01:04, 13.96it/s]\n"
     ]
    },
    {
     "name": "stdout",
     "output_type": "stream",
     "text": [
      "Converting prediction from <class 'numpy.float32'> to uint8, using threshold of 0.5\n",
      "File already analysed! /media/nkd/data18931/ndwi_int8_13001_18931/ndwi_int8_17218.tif\n",
      "/media/nkd/data18931/ndwi_int8_13001_18931/ndwi_int8_17219.tif\n",
      "the size of current NDWI_img 11355 11356\n"
     ]
    },
    {
     "name": "stderr",
     "output_type": "stream",
     "text": [
      "900it [01:01, 14.57it/s]\n"
     ]
    },
    {
     "name": "stdout",
     "output_type": "stream",
     "text": [
      "Converting prediction from <class 'numpy.float32'> to uint8, using threshold of 0.5\n",
      "File already analysed! /media/nkd/data18931/ndwi_int8_13001_18931/ndwi_int8_17219.tif\n",
      "/media/nkd/data18931/ndwi_int8_13001_18931/ndwi_int8_17220.tif\n",
      "the size of current NDWI_img 11355 11356\n"
     ]
    },
    {
     "name": "stderr",
     "output_type": "stream",
     "text": [
      "900it [00:59, 15.25it/s]\n"
     ]
    },
    {
     "name": "stdout",
     "output_type": "stream",
     "text": [
      "Converting prediction from <class 'numpy.float32'> to uint8, using threshold of 0.5\n",
      "File already analysed! /media/nkd/data18931/ndwi_int8_13001_18931/ndwi_int8_17220.tif\n",
      "/media/nkd/data18931/ndwi_int8_13001_18931/ndwi_int8_17221.tif\n",
      "the size of current NDWI_img 11355 11356\n"
     ]
    },
    {
     "name": "stderr",
     "output_type": "stream",
     "text": [
      "900it [01:02, 14.37it/s]\n"
     ]
    },
    {
     "name": "stdout",
     "output_type": "stream",
     "text": [
      "Converting prediction from <class 'numpy.float32'> to uint8, using threshold of 0.5\n",
      "File already analysed! /media/nkd/data18931/ndwi_int8_13001_18931/ndwi_int8_17221.tif\n",
      "/media/nkd/data18931/ndwi_int8_13001_18931/ndwi_int8_17222.tif\n",
      "the size of current NDWI_img 11355 11356\n"
     ]
    },
    {
     "name": "stderr",
     "output_type": "stream",
     "text": [
      "900it [00:59, 15.15it/s]\n"
     ]
    },
    {
     "name": "stdout",
     "output_type": "stream",
     "text": [
      "Converting prediction from <class 'numpy.float32'> to uint8, using threshold of 0.5\n",
      "File already analysed! /media/nkd/data18931/ndwi_int8_13001_18931/ndwi_int8_17222.tif\n",
      "/media/nkd/data18931/ndwi_int8_13001_18931/ndwi_int8_17223.tif\n",
      "the size of current NDWI_img 11356 11356\n"
     ]
    },
    {
     "name": "stderr",
     "output_type": "stream",
     "text": [
      "900it [01:04, 14.05it/s]\n"
     ]
    },
    {
     "name": "stdout",
     "output_type": "stream",
     "text": [
      "Converting prediction from <class 'numpy.float32'> to uint8, using threshold of 0.5\n",
      "File already analysed! /media/nkd/data18931/ndwi_int8_13001_18931/ndwi_int8_17223.tif\n",
      "/media/nkd/data18931/ndwi_int8_13001_18931/ndwi_int8_17224.tif\n",
      "the size of current NDWI_img 11356 11356\n"
     ]
    },
    {
     "name": "stderr",
     "output_type": "stream",
     "text": [
      "900it [01:02, 14.48it/s]\n"
     ]
    },
    {
     "name": "stdout",
     "output_type": "stream",
     "text": [
      "Converting prediction from <class 'numpy.float32'> to uint8, using threshold of 0.5\n",
      "File already analysed! /media/nkd/data18931/ndwi_int8_13001_18931/ndwi_int8_17224.tif\n",
      "/media/nkd/data18931/ndwi_int8_13001_18931/ndwi_int8_17225.tif\n",
      "the size of current NDWI_img 11356 11356\n"
     ]
    },
    {
     "name": "stderr",
     "output_type": "stream",
     "text": [
      "900it [01:07, 13.29it/s]\n"
     ]
    },
    {
     "name": "stdout",
     "output_type": "stream",
     "text": [
      "Converting prediction from <class 'numpy.float32'> to uint8, using threshold of 0.5\n",
      "File already analysed! /media/nkd/data18931/ndwi_int8_13001_18931/ndwi_int8_17225.tif\n",
      "/media/nkd/data18931/ndwi_int8_13001_18931/ndwi_int8_17226.tif\n",
      "the size of current NDWI_img 11356 11356\n"
     ]
    },
    {
     "name": "stderr",
     "output_type": "stream",
     "text": [
      "900it [01:00, 14.81it/s]\n"
     ]
    },
    {
     "name": "stdout",
     "output_type": "stream",
     "text": [
      "Converting prediction from <class 'numpy.float32'> to uint8, using threshold of 0.5\n",
      "File already analysed! /media/nkd/data18931/ndwi_int8_13001_18931/ndwi_int8_17226.tif\n",
      "/media/nkd/data18931/ndwi_int8_13001_18931/ndwi_int8_17227.tif\n",
      "the size of current NDWI_img 11356 11356\n"
     ]
    },
    {
     "name": "stderr",
     "output_type": "stream",
     "text": [
      "900it [00:56, 15.87it/s]\n"
     ]
    },
    {
     "name": "stdout",
     "output_type": "stream",
     "text": [
      "Converting prediction from <class 'numpy.float32'> to uint8, using threshold of 0.5\n",
      "File already analysed! /media/nkd/data18931/ndwi_int8_13001_18931/ndwi_int8_17227.tif\n",
      "/media/nkd/data18931/ndwi_int8_13001_18931/ndwi_int8_17228.tif\n",
      "the size of current NDWI_img 11355 11356\n"
     ]
    },
    {
     "name": "stderr",
     "output_type": "stream",
     "text": [
      "900it [01:08, 13.14it/s]\n"
     ]
    },
    {
     "name": "stdout",
     "output_type": "stream",
     "text": [
      "Converting prediction from <class 'numpy.float32'> to uint8, using threshold of 0.5\n",
      "File already analysed! /media/nkd/data18931/ndwi_int8_13001_18931/ndwi_int8_17228.tif\n",
      "/media/nkd/data18931/ndwi_int8_13001_18931/ndwi_int8_17229.tif\n",
      "the size of current NDWI_img 11355 11356\n"
     ]
    },
    {
     "name": "stderr",
     "output_type": "stream",
     "text": [
      "900it [01:05, 13.65it/s]\n"
     ]
    },
    {
     "name": "stdout",
     "output_type": "stream",
     "text": [
      "Converting prediction from <class 'numpy.float32'> to uint8, using threshold of 0.5\n",
      "File already analysed! /media/nkd/data18931/ndwi_int8_13001_18931/ndwi_int8_17229.tif\n",
      "/media/nkd/data18931/ndwi_int8_13001_18931/ndwi_int8_17230.tif\n",
      "the size of current NDWI_img 11355 11356\n"
     ]
    },
    {
     "name": "stderr",
     "output_type": "stream",
     "text": [
      "900it [01:04, 13.85it/s]\n"
     ]
    },
    {
     "name": "stdout",
     "output_type": "stream",
     "text": [
      "Converting prediction from <class 'numpy.float32'> to uint8, using threshold of 0.5\n",
      "File already analysed! /media/nkd/data18931/ndwi_int8_13001_18931/ndwi_int8_17230.tif\n",
      "/media/nkd/data18931/ndwi_int8_13001_18931/ndwi_int8_17231.tif\n",
      "the size of current NDWI_img 11355 11356\n"
     ]
    },
    {
     "name": "stderr",
     "output_type": "stream",
     "text": [
      "900it [01:03, 14.16it/s]\n"
     ]
    },
    {
     "name": "stdout",
     "output_type": "stream",
     "text": [
      "Converting prediction from <class 'numpy.float32'> to uint8, using threshold of 0.5\n",
      "File already analysed! /media/nkd/data18931/ndwi_int8_13001_18931/ndwi_int8_17231.tif\n",
      "/media/nkd/data18931/ndwi_int8_13001_18931/ndwi_int8_17232.tif\n",
      "the size of current NDWI_img 11355 11356\n"
     ]
    },
    {
     "name": "stderr",
     "output_type": "stream",
     "text": [
      "900it [01:00, 14.81it/s]\n"
     ]
    },
    {
     "name": "stdout",
     "output_type": "stream",
     "text": [
      "Converting prediction from <class 'numpy.float32'> to uint8, using threshold of 0.5\n",
      "File already analysed! /media/nkd/data18931/ndwi_int8_13001_18931/ndwi_int8_17232.tif\n",
      "/media/nkd/data18931/ndwi_int8_13001_18931/ndwi_int8_17233.tif\n",
      "the size of current NDWI_img 11356 11356\n"
     ]
    },
    {
     "name": "stderr",
     "output_type": "stream",
     "text": [
      "900it [01:01, 14.52it/s]\n"
     ]
    },
    {
     "name": "stdout",
     "output_type": "stream",
     "text": [
      "Converting prediction from <class 'numpy.float32'> to uint8, using threshold of 0.5\n",
      "File already analysed! /media/nkd/data18931/ndwi_int8_13001_18931/ndwi_int8_17233.tif\n",
      "/media/nkd/data18931/ndwi_int8_13001_18931/ndwi_int8_17234.tif\n",
      "the size of current NDWI_img 11356 11356\n"
     ]
    },
    {
     "name": "stderr",
     "output_type": "stream",
     "text": [
      "900it [01:06, 13.59it/s]\n"
     ]
    },
    {
     "name": "stdout",
     "output_type": "stream",
     "text": [
      "Converting prediction from <class 'numpy.float32'> to uint8, using threshold of 0.5\n",
      "File already analysed! /media/nkd/data18931/ndwi_int8_13001_18931/ndwi_int8_17234.tif\n",
      "/media/nkd/data18931/ndwi_int8_13001_18931/ndwi_int8_17235.tif\n",
      "the size of current NDWI_img 11356 11356\n"
     ]
    },
    {
     "name": "stderr",
     "output_type": "stream",
     "text": [
      "900it [01:07, 13.28it/s]\n"
     ]
    },
    {
     "name": "stdout",
     "output_type": "stream",
     "text": [
      "Converting prediction from <class 'numpy.float32'> to uint8, using threshold of 0.5\n",
      "File already analysed! /media/nkd/data18931/ndwi_int8_13001_18931/ndwi_int8_17235.tif\n",
      "/media/nkd/data18931/ndwi_int8_13001_18931/ndwi_int8_17236.tif\n",
      "the size of current NDWI_img 11356 11356\n"
     ]
    },
    {
     "name": "stderr",
     "output_type": "stream",
     "text": [
      "900it [01:05, 13.69it/s]\n"
     ]
    },
    {
     "name": "stdout",
     "output_type": "stream",
     "text": [
      "Converting prediction from <class 'numpy.float32'> to uint8, using threshold of 0.5\n",
      "File already analysed! /media/nkd/data18931/ndwi_int8_13001_18931/ndwi_int8_17236.tif\n",
      "/media/nkd/data18931/ndwi_int8_13001_18931/ndwi_int8_17237.tif\n",
      "the size of current NDWI_img 11356 11356\n"
     ]
    },
    {
     "name": "stderr",
     "output_type": "stream",
     "text": [
      "900it [00:55, 16.15it/s]\n"
     ]
    },
    {
     "name": "stdout",
     "output_type": "stream",
     "text": [
      "Converting prediction from <class 'numpy.float32'> to uint8, using threshold of 0.5\n",
      "File already analysed! /media/nkd/data18931/ndwi_int8_13001_18931/ndwi_int8_17237.tif\n",
      "/media/nkd/data18931/ndwi_int8_13001_18931/ndwi_int8_17238.tif\n",
      "the size of current NDWI_img 11355 11356\n"
     ]
    },
    {
     "name": "stderr",
     "output_type": "stream",
     "text": [
      "900it [01:09, 12.88it/s]\n"
     ]
    },
    {
     "name": "stdout",
     "output_type": "stream",
     "text": [
      "Converting prediction from <class 'numpy.float32'> to uint8, using threshold of 0.5\n",
      "File already analysed! /media/nkd/data18931/ndwi_int8_13001_18931/ndwi_int8_17238.tif\n",
      "/media/nkd/data18931/ndwi_int8_13001_18931/ndwi_int8_17239.tif\n",
      "the size of current NDWI_img 11355 11356\n"
     ]
    },
    {
     "name": "stderr",
     "output_type": "stream",
     "text": [
      "900it [01:01, 14.68it/s]\n"
     ]
    },
    {
     "name": "stdout",
     "output_type": "stream",
     "text": [
      "Converting prediction from <class 'numpy.float32'> to uint8, using threshold of 0.5\n",
      "File already analysed! /media/nkd/data18931/ndwi_int8_13001_18931/ndwi_int8_17239.tif\n",
      "/media/nkd/data18931/ndwi_int8_13001_18931/ndwi_int8_17240.tif\n",
      "the size of current NDWI_img 11355 11356\n"
     ]
    },
    {
     "name": "stderr",
     "output_type": "stream",
     "text": [
      "900it [01:11, 12.65it/s]\n"
     ]
    },
    {
     "name": "stdout",
     "output_type": "stream",
     "text": [
      "Converting prediction from <class 'numpy.float32'> to uint8, using threshold of 0.5\n",
      "File already analysed! /media/nkd/data18931/ndwi_int8_13001_18931/ndwi_int8_17240.tif\n",
      "/media/nkd/data18931/ndwi_int8_13001_18931/ndwi_int8_17241.tif\n",
      "the size of current NDWI_img 11355 11356\n"
     ]
    },
    {
     "name": "stderr",
     "output_type": "stream",
     "text": [
      "900it [01:10, 12.82it/s]\n"
     ]
    },
    {
     "name": "stdout",
     "output_type": "stream",
     "text": [
      "Converting prediction from <class 'numpy.float32'> to uint8, using threshold of 0.5\n",
      "File already analysed! /media/nkd/data18931/ndwi_int8_13001_18931/ndwi_int8_17241.tif\n",
      "/media/nkd/data18931/ndwi_int8_13001_18931/ndwi_int8_17242.tif\n",
      "the size of current NDWI_img 11355 11356\n"
     ]
    },
    {
     "name": "stderr",
     "output_type": "stream",
     "text": [
      "900it [01:05, 13.69it/s]\n"
     ]
    },
    {
     "name": "stdout",
     "output_type": "stream",
     "text": [
      "Converting prediction from <class 'numpy.float32'> to uint8, using threshold of 0.5\n",
      "File already analysed! /media/nkd/data18931/ndwi_int8_13001_18931/ndwi_int8_17242.tif\n",
      "/media/nkd/data18931/ndwi_int8_13001_18931/ndwi_int8_17243.tif\n",
      "the size of current NDWI_img 11356 11356\n"
     ]
    },
    {
     "name": "stderr",
     "output_type": "stream",
     "text": [
      "900it [01:04, 14.05it/s]\n"
     ]
    },
    {
     "name": "stdout",
     "output_type": "stream",
     "text": [
      "Converting prediction from <class 'numpy.float32'> to uint8, using threshold of 0.5\n",
      "File already analysed! /media/nkd/data18931/ndwi_int8_13001_18931/ndwi_int8_17243.tif\n",
      "/media/nkd/data18931/ndwi_int8_13001_18931/ndwi_int8_17244.tif\n",
      "the size of current NDWI_img 11356 11356\n"
     ]
    },
    {
     "name": "stderr",
     "output_type": "stream",
     "text": [
      "900it [01:06, 13.49it/s]\n"
     ]
    },
    {
     "name": "stdout",
     "output_type": "stream",
     "text": [
      "Converting prediction from <class 'numpy.float32'> to uint8, using threshold of 0.5\n",
      "File already analysed! /media/nkd/data18931/ndwi_int8_13001_18931/ndwi_int8_17244.tif\n",
      "/media/nkd/data18931/ndwi_int8_13001_18931/ndwi_int8_17245.tif\n",
      "the size of current NDWI_img 11356 11356\n"
     ]
    },
    {
     "name": "stderr",
     "output_type": "stream",
     "text": [
      "900it [01:13, 12.29it/s]\n"
     ]
    },
    {
     "name": "stdout",
     "output_type": "stream",
     "text": [
      "Converting prediction from <class 'numpy.float32'> to uint8, using threshold of 0.5\n",
      "File already analysed! /media/nkd/data18931/ndwi_int8_13001_18931/ndwi_int8_17245.tif\n",
      "/media/nkd/data18931/ndwi_int8_13001_18931/ndwi_int8_17246.tif\n",
      "the size of current NDWI_img 11356 11356\n"
     ]
    },
    {
     "name": "stderr",
     "output_type": "stream",
     "text": [
      "900it [01:05, 13.78it/s]\n"
     ]
    },
    {
     "name": "stdout",
     "output_type": "stream",
     "text": [
      "Converting prediction from <class 'numpy.float32'> to uint8, using threshold of 0.5\n",
      "File already analysed! /media/nkd/data18931/ndwi_int8_13001_18931/ndwi_int8_17246.tif\n",
      "/media/nkd/data18931/ndwi_int8_13001_18931/ndwi_int8_17247.tif\n",
      "the size of current NDWI_img 11356 11356\n"
     ]
    },
    {
     "name": "stderr",
     "output_type": "stream",
     "text": [
      "900it [00:58, 15.33it/s]\n"
     ]
    },
    {
     "name": "stdout",
     "output_type": "stream",
     "text": [
      "Converting prediction from <class 'numpy.float32'> to uint8, using threshold of 0.5\n",
      "File already analysed! /media/nkd/data18931/ndwi_int8_13001_18931/ndwi_int8_17247.tif\n",
      "/media/nkd/data18931/ndwi_int8_13001_18931/ndwi_int8_17248.tif\n",
      "the size of current NDWI_img 11355 11356\n"
     ]
    },
    {
     "name": "stderr",
     "output_type": "stream",
     "text": [
      "900it [01:13, 12.23it/s]\n"
     ]
    },
    {
     "name": "stdout",
     "output_type": "stream",
     "text": [
      "Converting prediction from <class 'numpy.float32'> to uint8, using threshold of 0.5\n",
      "File already analysed! /media/nkd/data18931/ndwi_int8_13001_18931/ndwi_int8_17248.tif\n",
      "/media/nkd/data18931/ndwi_int8_13001_18931/ndwi_int8_17249.tif\n",
      "the size of current NDWI_img 11355 11356\n"
     ]
    },
    {
     "name": "stderr",
     "output_type": "stream",
     "text": [
      "900it [01:10, 12.68it/s]\n"
     ]
    },
    {
     "name": "stdout",
     "output_type": "stream",
     "text": [
      "Converting prediction from <class 'numpy.float32'> to uint8, using threshold of 0.5\n",
      "File already analysed! /media/nkd/data18931/ndwi_int8_13001_18931/ndwi_int8_17249.tif\n",
      "/media/nkd/data18931/ndwi_int8_13001_18931/ndwi_int8_17250.tif\n",
      "the size of current NDWI_img 11355 11356\n"
     ]
    },
    {
     "name": "stderr",
     "output_type": "stream",
     "text": [
      "900it [01:08, 13.14it/s]\n"
     ]
    },
    {
     "name": "stdout",
     "output_type": "stream",
     "text": [
      "Converting prediction from <class 'numpy.float32'> to uint8, using threshold of 0.5\n",
      "File already analysed! /media/nkd/data18931/ndwi_int8_13001_18931/ndwi_int8_17250.tif\n",
      "/media/nkd/data18931/ndwi_int8_13001_18931/ndwi_int8_17251.tif\n",
      "the size of current NDWI_img 11355 11356\n"
     ]
    },
    {
     "name": "stderr",
     "output_type": "stream",
     "text": [
      "900it [01:11, 12.66it/s]\n"
     ]
    },
    {
     "name": "stdout",
     "output_type": "stream",
     "text": [
      "Converting prediction from <class 'numpy.float32'> to uint8, using threshold of 0.5\n",
      "File already analysed! /media/nkd/data18931/ndwi_int8_13001_18931/ndwi_int8_17251.tif\n",
      "/media/nkd/data18931/ndwi_int8_13001_18931/ndwi_int8_17252.tif\n",
      "the size of current NDWI_img 11355 11356\n"
     ]
    },
    {
     "name": "stderr",
     "output_type": "stream",
     "text": [
      "900it [01:05, 13.73it/s]\n"
     ]
    },
    {
     "name": "stdout",
     "output_type": "stream",
     "text": [
      "Converting prediction from <class 'numpy.float32'> to uint8, using threshold of 0.5\n",
      "File already analysed! /media/nkd/data18931/ndwi_int8_13001_18931/ndwi_int8_17252.tif\n",
      "/media/nkd/data18931/ndwi_int8_13001_18931/ndwi_int8_17253.tif\n",
      "the size of current NDWI_img 11356 11356\n"
     ]
    },
    {
     "name": "stderr",
     "output_type": "stream",
     "text": [
      "900it [01:03, 14.28it/s]\n"
     ]
    },
    {
     "name": "stdout",
     "output_type": "stream",
     "text": [
      "Converting prediction from <class 'numpy.float32'> to uint8, using threshold of 0.5\n",
      "File already analysed! /media/nkd/data18931/ndwi_int8_13001_18931/ndwi_int8_17253.tif\n",
      "/media/nkd/data18931/ndwi_int8_13001_18931/ndwi_int8_17254.tif\n",
      "the size of current NDWI_img 11356 11356\n"
     ]
    },
    {
     "name": "stderr",
     "output_type": "stream",
     "text": [
      "900it [01:05, 13.67it/s]\n"
     ]
    },
    {
     "name": "stdout",
     "output_type": "stream",
     "text": [
      "Converting prediction from <class 'numpy.float32'> to uint8, using threshold of 0.5\n",
      "File already analysed! /media/nkd/data18931/ndwi_int8_13001_18931/ndwi_int8_17254.tif\n",
      "/media/nkd/data18931/ndwi_int8_13001_18931/ndwi_int8_17255.tif\n",
      "the size of current NDWI_img 11356 11356\n"
     ]
    },
    {
     "name": "stderr",
     "output_type": "stream",
     "text": [
      "900it [01:10, 12.74it/s]\n"
     ]
    },
    {
     "name": "stdout",
     "output_type": "stream",
     "text": [
      "Converting prediction from <class 'numpy.float32'> to uint8, using threshold of 0.5\n",
      "File already analysed! /media/nkd/data18931/ndwi_int8_13001_18931/ndwi_int8_17255.tif\n",
      "/media/nkd/data18931/ndwi_int8_13001_18931/ndwi_int8_17256.tif\n",
      "the size of current NDWI_img 11356 11356\n"
     ]
    },
    {
     "name": "stderr",
     "output_type": "stream",
     "text": [
      "900it [01:04, 14.03it/s]\n"
     ]
    },
    {
     "name": "stdout",
     "output_type": "stream",
     "text": [
      "Converting prediction from <class 'numpy.float32'> to uint8, using threshold of 0.5\n",
      "File already analysed! /media/nkd/data18931/ndwi_int8_13001_18931/ndwi_int8_17256.tif\n",
      "/media/nkd/data18931/ndwi_int8_13001_18931/ndwi_int8_17257.tif\n",
      "the size of current NDWI_img 11356 11356\n"
     ]
    },
    {
     "name": "stderr",
     "output_type": "stream",
     "text": [
      "900it [01:01, 14.74it/s]\n"
     ]
    },
    {
     "name": "stdout",
     "output_type": "stream",
     "text": [
      "Converting prediction from <class 'numpy.float32'> to uint8, using threshold of 0.5\n",
      "File already analysed! /media/nkd/data18931/ndwi_int8_13001_18931/ndwi_int8_17257.tif\n",
      "/media/nkd/data18931/ndwi_int8_13001_18931/ndwi_int8_17258.tif\n",
      "the size of current NDWI_img 11355 11356\n"
     ]
    },
    {
     "name": "stderr",
     "output_type": "stream",
     "text": [
      "900it [01:05, 13.80it/s]\n"
     ]
    },
    {
     "name": "stdout",
     "output_type": "stream",
     "text": [
      "Converting prediction from <class 'numpy.float32'> to uint8, using threshold of 0.5\n",
      "File already analysed! /media/nkd/data18931/ndwi_int8_13001_18931/ndwi_int8_17258.tif\n",
      "/media/nkd/data18931/ndwi_int8_13001_18931/ndwi_int8_17259.tif\n",
      "the size of current NDWI_img 11355 11356\n"
     ]
    },
    {
     "name": "stderr",
     "output_type": "stream",
     "text": [
      "900it [01:08, 13.20it/s]\n"
     ]
    },
    {
     "name": "stdout",
     "output_type": "stream",
     "text": [
      "Converting prediction from <class 'numpy.float32'> to uint8, using threshold of 0.5\n",
      "File already analysed! /media/nkd/data18931/ndwi_int8_13001_18931/ndwi_int8_17259.tif\n",
      "/media/nkd/data18931/ndwi_int8_13001_18931/ndwi_int8_17260.tif\n",
      "the size of current NDWI_img 11355 11356\n"
     ]
    },
    {
     "name": "stderr",
     "output_type": "stream",
     "text": [
      "900it [01:10, 12.77it/s]\n"
     ]
    },
    {
     "name": "stdout",
     "output_type": "stream",
     "text": [
      "Converting prediction from <class 'numpy.float32'> to uint8, using threshold of 0.5\n",
      "File already analysed! /media/nkd/data18931/ndwi_int8_13001_18931/ndwi_int8_17260.tif\n",
      "/media/nkd/data18931/ndwi_int8_13001_18931/ndwi_int8_17261.tif\n",
      "the size of current NDWI_img 11355 11356\n"
     ]
    },
    {
     "name": "stderr",
     "output_type": "stream",
     "text": [
      "900it [01:08, 13.13it/s]\n"
     ]
    },
    {
     "name": "stdout",
     "output_type": "stream",
     "text": [
      "Converting prediction from <class 'numpy.float32'> to uint8, using threshold of 0.5\n",
      "File already analysed! /media/nkd/data18931/ndwi_int8_13001_18931/ndwi_int8_17261.tif\n",
      "/media/nkd/data18931/ndwi_int8_13001_18931/ndwi_int8_17262.tif\n",
      "the size of current NDWI_img 11355 11356\n"
     ]
    },
    {
     "name": "stderr",
     "output_type": "stream",
     "text": [
      "900it [01:05, 13.83it/s]\n"
     ]
    },
    {
     "name": "stdout",
     "output_type": "stream",
     "text": [
      "Converting prediction from <class 'numpy.float32'> to uint8, using threshold of 0.5\n",
      "File already analysed! /media/nkd/data18931/ndwi_int8_13001_18931/ndwi_int8_17262.tif\n",
      "/media/nkd/data18931/ndwi_int8_13001_18931/ndwi_int8_17263.tif\n",
      "the size of current NDWI_img 11356 11356\n"
     ]
    },
    {
     "name": "stderr",
     "output_type": "stream",
     "text": [
      "900it [01:03, 14.11it/s]\n"
     ]
    },
    {
     "name": "stdout",
     "output_type": "stream",
     "text": [
      "Converting prediction from <class 'numpy.float32'> to uint8, using threshold of 0.5\n",
      "File already analysed! /media/nkd/data18931/ndwi_int8_13001_18931/ndwi_int8_17263.tif\n",
      "/media/nkd/data18931/ndwi_int8_13001_18931/ndwi_int8_17264.tif\n",
      "the size of current NDWI_img 11356 11356\n"
     ]
    },
    {
     "name": "stderr",
     "output_type": "stream",
     "text": [
      "900it [01:05, 13.70it/s]\n"
     ]
    },
    {
     "name": "stdout",
     "output_type": "stream",
     "text": [
      "Converting prediction from <class 'numpy.float32'> to uint8, using threshold of 0.5\n",
      "File already analysed! /media/nkd/data18931/ndwi_int8_13001_18931/ndwi_int8_17264.tif\n",
      "/media/nkd/data18931/ndwi_int8_13001_18931/ndwi_int8_17265.tif\n",
      "the size of current NDWI_img 11356 11356\n"
     ]
    },
    {
     "name": "stderr",
     "output_type": "stream",
     "text": [
      "900it [01:02, 14.43it/s]\n"
     ]
    },
    {
     "name": "stdout",
     "output_type": "stream",
     "text": [
      "Converting prediction from <class 'numpy.float32'> to uint8, using threshold of 0.5\n",
      "File already analysed! /media/nkd/data18931/ndwi_int8_13001_18931/ndwi_int8_17265.tif\n",
      "/media/nkd/data18931/ndwi_int8_13001_18931/ndwi_int8_17266.tif\n",
      "the size of current NDWI_img 11356 11356\n"
     ]
    },
    {
     "name": "stderr",
     "output_type": "stream",
     "text": [
      "900it [01:03, 14.12it/s]\n"
     ]
    },
    {
     "name": "stdout",
     "output_type": "stream",
     "text": [
      "Converting prediction from <class 'numpy.float32'> to uint8, using threshold of 0.5\n",
      "File already analysed! /media/nkd/data18931/ndwi_int8_13001_18931/ndwi_int8_17266.tif\n",
      "/media/nkd/data18931/ndwi_int8_13001_18931/ndwi_int8_17267.tif\n",
      "the size of current NDWI_img 11356 11356\n"
     ]
    },
    {
     "name": "stderr",
     "output_type": "stream",
     "text": [
      "900it [01:00, 14.84it/s]\n"
     ]
    },
    {
     "name": "stdout",
     "output_type": "stream",
     "text": [
      "Converting prediction from <class 'numpy.float32'> to uint8, using threshold of 0.5\n",
      "File already analysed! /media/nkd/data18931/ndwi_int8_13001_18931/ndwi_int8_17267.tif\n",
      "/media/nkd/data18931/ndwi_int8_13001_18931/ndwi_int8_17268.tif\n",
      "the size of current NDWI_img 11355 11356\n"
     ]
    },
    {
     "name": "stderr",
     "output_type": "stream",
     "text": [
      "900it [01:02, 14.46it/s]\n"
     ]
    },
    {
     "name": "stdout",
     "output_type": "stream",
     "text": [
      "Converting prediction from <class 'numpy.float32'> to uint8, using threshold of 0.5\n",
      "File already analysed! /media/nkd/data18931/ndwi_int8_13001_18931/ndwi_int8_17268.tif\n",
      "/media/nkd/data18931/ndwi_int8_13001_18931/ndwi_int8_17269.tif\n",
      "the size of current NDWI_img 11355 11356\n"
     ]
    },
    {
     "name": "stderr",
     "output_type": "stream",
     "text": [
      "900it [01:04, 13.97it/s]\n"
     ]
    },
    {
     "name": "stdout",
     "output_type": "stream",
     "text": [
      "Converting prediction from <class 'numpy.float32'> to uint8, using threshold of 0.5\n",
      "File already analysed! /media/nkd/data18931/ndwi_int8_13001_18931/ndwi_int8_17269.tif\n",
      "/media/nkd/data18931/ndwi_int8_13001_18931/ndwi_int8_17270.tif\n",
      "the size of current NDWI_img 11355 11356\n"
     ]
    },
    {
     "name": "stderr",
     "output_type": "stream",
     "text": [
      "900it [01:06, 13.61it/s]\n"
     ]
    },
    {
     "name": "stdout",
     "output_type": "stream",
     "text": [
      "Converting prediction from <class 'numpy.float32'> to uint8, using threshold of 0.5\n",
      "File already analysed! /media/nkd/data18931/ndwi_int8_13001_18931/ndwi_int8_17270.tif\n",
      "/media/nkd/data18931/ndwi_int8_13001_18931/ndwi_int8_17271.tif\n",
      "the size of current NDWI_img 11355 11356\n"
     ]
    },
    {
     "name": "stderr",
     "output_type": "stream",
     "text": [
      "900it [01:04, 13.95it/s]\n"
     ]
    },
    {
     "name": "stdout",
     "output_type": "stream",
     "text": [
      "Converting prediction from <class 'numpy.float32'> to uint8, using threshold of 0.5\n",
      "File already analysed! /media/nkd/data18931/ndwi_int8_13001_18931/ndwi_int8_17271.tif\n",
      "/media/nkd/data18931/ndwi_int8_13001_18931/ndwi_int8_17272.tif\n",
      "the size of current NDWI_img 11355 11356\n"
     ]
    },
    {
     "name": "stderr",
     "output_type": "stream",
     "text": [
      "900it [01:09, 12.86it/s]\n"
     ]
    },
    {
     "name": "stdout",
     "output_type": "stream",
     "text": [
      "Converting prediction from <class 'numpy.float32'> to uint8, using threshold of 0.5\n",
      "File already analysed! /media/nkd/data18931/ndwi_int8_13001_18931/ndwi_int8_17272.tif\n",
      "/media/nkd/data18931/ndwi_int8_13001_18931/ndwi_int8_17273.tif\n",
      "the size of current NDWI_img 11356 11356\n"
     ]
    },
    {
     "name": "stderr",
     "output_type": "stream",
     "text": [
      "900it [01:02, 14.44it/s]\n"
     ]
    },
    {
     "name": "stdout",
     "output_type": "stream",
     "text": [
      "Converting prediction from <class 'numpy.float32'> to uint8, using threshold of 0.5\n",
      "File already analysed! /media/nkd/data18931/ndwi_int8_13001_18931/ndwi_int8_17273.tif\n",
      "/media/nkd/data18931/ndwi_int8_13001_18931/ndwi_int8_17274.tif\n",
      "the size of current NDWI_img 11356 11356\n"
     ]
    },
    {
     "name": "stderr",
     "output_type": "stream",
     "text": [
      "900it [01:05, 13.67it/s]\n"
     ]
    },
    {
     "name": "stdout",
     "output_type": "stream",
     "text": [
      "Converting prediction from <class 'numpy.float32'> to uint8, using threshold of 0.5\n",
      "File already analysed! /media/nkd/data18931/ndwi_int8_13001_18931/ndwi_int8_17274.tif\n",
      "/media/nkd/data18931/ndwi_int8_13001_18931/ndwi_int8_17275.tif\n",
      "the size of current NDWI_img 11356 11356\n"
     ]
    },
    {
     "name": "stderr",
     "output_type": "stream",
     "text": [
      "900it [01:07, 13.39it/s]\n"
     ]
    },
    {
     "name": "stdout",
     "output_type": "stream",
     "text": [
      "Converting prediction from <class 'numpy.float32'> to uint8, using threshold of 0.5\n",
      "File already analysed! /media/nkd/data18931/ndwi_int8_13001_18931/ndwi_int8_17275.tif\n",
      "/media/nkd/data18931/ndwi_int8_13001_18931/ndwi_int8_17276.tif\n",
      "the size of current NDWI_img 11356 11356\n"
     ]
    },
    {
     "name": "stderr",
     "output_type": "stream",
     "text": [
      "900it [01:11, 12.57it/s]\n"
     ]
    },
    {
     "name": "stdout",
     "output_type": "stream",
     "text": [
      "Converting prediction from <class 'numpy.float32'> to uint8, using threshold of 0.5\n",
      "File already analysed! /media/nkd/data18931/ndwi_int8_13001_18931/ndwi_int8_17276.tif\n",
      "/media/nkd/data18931/ndwi_int8_13001_18931/ndwi_int8_17277.tif\n",
      "the size of current NDWI_img 11356 11356\n"
     ]
    },
    {
     "name": "stderr",
     "output_type": "stream",
     "text": [
      "900it [01:04, 13.87it/s]\n"
     ]
    },
    {
     "name": "stdout",
     "output_type": "stream",
     "text": [
      "Converting prediction from <class 'numpy.float32'> to uint8, using threshold of 0.5\n",
      "File already analysed! /media/nkd/data18931/ndwi_int8_13001_18931/ndwi_int8_17277.tif\n",
      "/media/nkd/data18931/ndwi_int8_13001_18931/ndwi_int8_17278.tif\n",
      "the size of current NDWI_img 11355 11356\n"
     ]
    },
    {
     "name": "stderr",
     "output_type": "stream",
     "text": [
      "900it [01:05, 13.84it/s]\n"
     ]
    },
    {
     "name": "stdout",
     "output_type": "stream",
     "text": [
      "Converting prediction from <class 'numpy.float32'> to uint8, using threshold of 0.5\n",
      "File already analysed! /media/nkd/data18931/ndwi_int8_13001_18931/ndwi_int8_17278.tif\n",
      "/media/nkd/data18931/ndwi_int8_13001_18931/ndwi_int8_17279.tif\n",
      "the size of current NDWI_img 11355 11356\n"
     ]
    },
    {
     "name": "stderr",
     "output_type": "stream",
     "text": [
      "900it [01:01, 14.74it/s]\n"
     ]
    },
    {
     "name": "stdout",
     "output_type": "stream",
     "text": [
      "Converting prediction from <class 'numpy.float32'> to uint8, using threshold of 0.5\n",
      "File already analysed! /media/nkd/data18931/ndwi_int8_13001_18931/ndwi_int8_17279.tif\n",
      "/media/nkd/data18931/ndwi_int8_13001_18931/ndwi_int8_17280.tif\n",
      "the size of current NDWI_img 11355 11356\n"
     ]
    },
    {
     "name": "stderr",
     "output_type": "stream",
     "text": [
      "900it [01:01, 14.62it/s]\n"
     ]
    },
    {
     "name": "stdout",
     "output_type": "stream",
     "text": [
      "Converting prediction from <class 'numpy.float32'> to uint8, using threshold of 0.5\n",
      "File already analysed! /media/nkd/data18931/ndwi_int8_13001_18931/ndwi_int8_17280.tif\n",
      "/media/nkd/data18931/ndwi_int8_13001_18931/ndwi_int8_17281.tif\n",
      "the size of current NDWI_img 11355 11356\n"
     ]
    },
    {
     "name": "stderr",
     "output_type": "stream",
     "text": [
      "900it [01:06, 13.47it/s]\n"
     ]
    },
    {
     "name": "stdout",
     "output_type": "stream",
     "text": [
      "Converting prediction from <class 'numpy.float32'> to uint8, using threshold of 0.5\n",
      "File already analysed! /media/nkd/data18931/ndwi_int8_13001_18931/ndwi_int8_17281.tif\n",
      "/media/nkd/data18931/ndwi_int8_13001_18931/ndwi_int8_17282.tif\n",
      "the size of current NDWI_img 11355 11356\n"
     ]
    },
    {
     "name": "stderr",
     "output_type": "stream",
     "text": [
      "900it [01:12, 12.40it/s]\n"
     ]
    },
    {
     "name": "stdout",
     "output_type": "stream",
     "text": [
      "Converting prediction from <class 'numpy.float32'> to uint8, using threshold of 0.5\n",
      "File already analysed! /media/nkd/data18931/ndwi_int8_13001_18931/ndwi_int8_17282.tif\n",
      "/media/nkd/data18931/ndwi_int8_13001_18931/ndwi_int8_17283.tif\n",
      "the size of current NDWI_img 11356 11356\n"
     ]
    },
    {
     "name": "stderr",
     "output_type": "stream",
     "text": [
      "900it [01:09, 12.91it/s]\n"
     ]
    },
    {
     "name": "stdout",
     "output_type": "stream",
     "text": [
      "Converting prediction from <class 'numpy.float32'> to uint8, using threshold of 0.5\n",
      "File already analysed! /media/nkd/data18931/ndwi_int8_13001_18931/ndwi_int8_17283.tif\n",
      "/media/nkd/data18931/ndwi_int8_13001_18931/ndwi_int8_17284.tif\n",
      "the size of current NDWI_img 11356 11356\n"
     ]
    },
    {
     "name": "stderr",
     "output_type": "stream",
     "text": [
      "900it [01:08, 13.06it/s]\n"
     ]
    },
    {
     "name": "stdout",
     "output_type": "stream",
     "text": [
      "Converting prediction from <class 'numpy.float32'> to uint8, using threshold of 0.5\n",
      "File already analysed! /media/nkd/data18931/ndwi_int8_13001_18931/ndwi_int8_17284.tif\n",
      "/media/nkd/data18931/ndwi_int8_13001_18931/ndwi_int8_17285.tif\n",
      "the size of current NDWI_img 11356 11356\n"
     ]
    },
    {
     "name": "stderr",
     "output_type": "stream",
     "text": [
      "900it [01:10, 12.71it/s]\n"
     ]
    },
    {
     "name": "stdout",
     "output_type": "stream",
     "text": [
      "Converting prediction from <class 'numpy.float32'> to uint8, using threshold of 0.5\n",
      "File already analysed! /media/nkd/data18931/ndwi_int8_13001_18931/ndwi_int8_17285.tif\n",
      "/media/nkd/data18931/ndwi_int8_13001_18931/ndwi_int8_17286.tif\n",
      "the size of current NDWI_img 11356 11356\n"
     ]
    },
    {
     "name": "stderr",
     "output_type": "stream",
     "text": [
      "900it [01:10, 12.69it/s]\n"
     ]
    },
    {
     "name": "stdout",
     "output_type": "stream",
     "text": [
      "Converting prediction from <class 'numpy.float32'> to uint8, using threshold of 0.5\n",
      "File already analysed! /media/nkd/data18931/ndwi_int8_13001_18931/ndwi_int8_17286.tif\n",
      "/media/nkd/data18931/ndwi_int8_13001_18931/ndwi_int8_17287.tif\n",
      "the size of current NDWI_img 11356 11356\n"
     ]
    },
    {
     "name": "stderr",
     "output_type": "stream",
     "text": [
      "900it [01:10, 12.80it/s]\n"
     ]
    },
    {
     "name": "stdout",
     "output_type": "stream",
     "text": [
      "Converting prediction from <class 'numpy.float32'> to uint8, using threshold of 0.5\n",
      "File already analysed! /media/nkd/data18931/ndwi_int8_13001_18931/ndwi_int8_17287.tif\n",
      "/media/nkd/data18931/ndwi_int8_13001_18931/ndwi_int8_17288.tif\n",
      "the size of current NDWI_img 11355 11356\n"
     ]
    },
    {
     "name": "stderr",
     "output_type": "stream",
     "text": [
      "900it [01:08, 13.08it/s]\n"
     ]
    },
    {
     "name": "stdout",
     "output_type": "stream",
     "text": [
      "Converting prediction from <class 'numpy.float32'> to uint8, using threshold of 0.5\n",
      "File already analysed! /media/nkd/data18931/ndwi_int8_13001_18931/ndwi_int8_17288.tif\n",
      "/media/nkd/data18931/ndwi_int8_13001_18931/ndwi_int8_17289.tif\n",
      "the size of current NDWI_img 11355 11356\n"
     ]
    },
    {
     "name": "stderr",
     "output_type": "stream",
     "text": [
      "900it [01:08, 13.09it/s]\n"
     ]
    },
    {
     "name": "stdout",
     "output_type": "stream",
     "text": [
      "Converting prediction from <class 'numpy.float32'> to uint8, using threshold of 0.5\n",
      "File already analysed! /media/nkd/data18931/ndwi_int8_13001_18931/ndwi_int8_17289.tif\n",
      "/media/nkd/data18931/ndwi_int8_13001_18931/ndwi_int8_17290.tif\n",
      "the size of current NDWI_img 11355 11356\n"
     ]
    },
    {
     "name": "stderr",
     "output_type": "stream",
     "text": [
      "900it [01:11, 12.63it/s]\n"
     ]
    },
    {
     "name": "stdout",
     "output_type": "stream",
     "text": [
      "Converting prediction from <class 'numpy.float32'> to uint8, using threshold of 0.5\n",
      "File already analysed! /media/nkd/data18931/ndwi_int8_13001_18931/ndwi_int8_17290.tif\n",
      "/media/nkd/data18931/ndwi_int8_13001_18931/ndwi_int8_17291.tif\n",
      "the size of current NDWI_img 11355 11356\n"
     ]
    },
    {
     "name": "stderr",
     "output_type": "stream",
     "text": [
      "900it [01:08, 13.12it/s]\n"
     ]
    },
    {
     "name": "stdout",
     "output_type": "stream",
     "text": [
      "Converting prediction from <class 'numpy.float32'> to uint8, using threshold of 0.5\n",
      "File already analysed! /media/nkd/data18931/ndwi_int8_13001_18931/ndwi_int8_17291.tif\n",
      "/media/nkd/data18931/ndwi_int8_13001_18931/ndwi_int8_17292.tif\n",
      "the size of current NDWI_img 11355 11356\n"
     ]
    },
    {
     "name": "stderr",
     "output_type": "stream",
     "text": [
      "900it [01:07, 13.24it/s]\n"
     ]
    },
    {
     "name": "stdout",
     "output_type": "stream",
     "text": [
      "Converting prediction from <class 'numpy.float32'> to uint8, using threshold of 0.5\n",
      "File already analysed! /media/nkd/data18931/ndwi_int8_13001_18931/ndwi_int8_17292.tif\n",
      "/media/nkd/data18931/ndwi_int8_13001_18931/ndwi_int8_17293.tif\n",
      "the size of current NDWI_img 11356 11356\n"
     ]
    },
    {
     "name": "stderr",
     "output_type": "stream",
     "text": [
      "900it [01:08, 13.05it/s]\n"
     ]
    },
    {
     "name": "stdout",
     "output_type": "stream",
     "text": [
      "Converting prediction from <class 'numpy.float32'> to uint8, using threshold of 0.5\n",
      "File already analysed! /media/nkd/data18931/ndwi_int8_13001_18931/ndwi_int8_17293.tif\n",
      "/media/nkd/data18931/ndwi_int8_13001_18931/ndwi_int8_17294.tif\n",
      "the size of current NDWI_img 11356 11356\n"
     ]
    },
    {
     "name": "stderr",
     "output_type": "stream",
     "text": [
      "900it [01:09, 13.04it/s]\n"
     ]
    },
    {
     "name": "stdout",
     "output_type": "stream",
     "text": [
      "Converting prediction from <class 'numpy.float32'> to uint8, using threshold of 0.5\n",
      "File already analysed! /media/nkd/data18931/ndwi_int8_13001_18931/ndwi_int8_17294.tif\n",
      "/media/nkd/data18931/ndwi_int8_13001_18931/ndwi_int8_17295.tif\n",
      "the size of current NDWI_img 11356 11356\n"
     ]
    },
    {
     "name": "stderr",
     "output_type": "stream",
     "text": [
      "900it [01:02, 14.44it/s]\n"
     ]
    },
    {
     "name": "stdout",
     "output_type": "stream",
     "text": [
      "Converting prediction from <class 'numpy.float32'> to uint8, using threshold of 0.5\n",
      "File already analysed! /media/nkd/data18931/ndwi_int8_13001_18931/ndwi_int8_17295.tif\n",
      "/media/nkd/data18931/ndwi_int8_13001_18931/ndwi_int8_17296.tif\n",
      "the size of current NDWI_img 11356 11356\n"
     ]
    },
    {
     "name": "stderr",
     "output_type": "stream",
     "text": [
      "900it [01:05, 13.85it/s]\n"
     ]
    },
    {
     "name": "stdout",
     "output_type": "stream",
     "text": [
      "Converting prediction from <class 'numpy.float32'> to uint8, using threshold of 0.5\n",
      "File already analysed! /media/nkd/data18931/ndwi_int8_13001_18931/ndwi_int8_17296.tif\n",
      "/media/nkd/data18931/ndwi_int8_13001_18931/ndwi_int8_17297.tif\n",
      "the size of current NDWI_img 11356 11356\n"
     ]
    },
    {
     "name": "stderr",
     "output_type": "stream",
     "text": [
      "900it [01:11, 12.56it/s]\n"
     ]
    },
    {
     "name": "stdout",
     "output_type": "stream",
     "text": [
      "Converting prediction from <class 'numpy.float32'> to uint8, using threshold of 0.5\n",
      "File already analysed! /media/nkd/data18931/ndwi_int8_13001_18931/ndwi_int8_17297.tif\n",
      "/media/nkd/data18931/ndwi_int8_13001_18931/ndwi_int8_17298.tif\n",
      "the size of current NDWI_img 11355 11356\n"
     ]
    },
    {
     "name": "stderr",
     "output_type": "stream",
     "text": [
      "900it [01:11, 12.51it/s]\n"
     ]
    },
    {
     "name": "stdout",
     "output_type": "stream",
     "text": [
      "Converting prediction from <class 'numpy.float32'> to uint8, using threshold of 0.5\n",
      "File already analysed! /media/nkd/data18931/ndwi_int8_13001_18931/ndwi_int8_17298.tif\n",
      "/media/nkd/data18931/ndwi_int8_13001_18931/ndwi_int8_17299.tif\n",
      "the size of current NDWI_img 11355 11356\n"
     ]
    },
    {
     "name": "stderr",
     "output_type": "stream",
     "text": [
      "900it [01:09, 12.97it/s]\n"
     ]
    },
    {
     "name": "stdout",
     "output_type": "stream",
     "text": [
      "Converting prediction from <class 'numpy.float32'> to uint8, using threshold of 0.5\n",
      "File already analysed! /media/nkd/data18931/ndwi_int8_13001_18931/ndwi_int8_17299.tif\n",
      "/media/nkd/data18931/ndwi_int8_13001_18931/ndwi_int8_17300.tif\n",
      "the size of current NDWI_img 11355 11356\n"
     ]
    },
    {
     "name": "stderr",
     "output_type": "stream",
     "text": [
      "900it [01:13, 12.23it/s]\n"
     ]
    },
    {
     "name": "stdout",
     "output_type": "stream",
     "text": [
      "Converting prediction from <class 'numpy.float32'> to uint8, using threshold of 0.5\n",
      "File already analysed! /media/nkd/data18931/ndwi_int8_13001_18931/ndwi_int8_17300.tif\n",
      "/media/nkd/data18931/ndwi_int8_13001_18931/ndwi_int8_17301.tif\n",
      "the size of current NDWI_img 11355 11356\n"
     ]
    },
    {
     "name": "stderr",
     "output_type": "stream",
     "text": [
      "900it [01:06, 13.60it/s]\n"
     ]
    },
    {
     "name": "stdout",
     "output_type": "stream",
     "text": [
      "Converting prediction from <class 'numpy.float32'> to uint8, using threshold of 0.5\n",
      "File already analysed! /media/nkd/data18931/ndwi_int8_13001_18931/ndwi_int8_17301.tif\n",
      "/media/nkd/data18931/ndwi_int8_13001_18931/ndwi_int8_17302.tif\n",
      "the size of current NDWI_img 11355 11356\n"
     ]
    },
    {
     "name": "stderr",
     "output_type": "stream",
     "text": [
      "900it [01:05, 13.65it/s]\n"
     ]
    },
    {
     "name": "stdout",
     "output_type": "stream",
     "text": [
      "Converting prediction from <class 'numpy.float32'> to uint8, using threshold of 0.5\n",
      "File already analysed! /media/nkd/data18931/ndwi_int8_13001_18931/ndwi_int8_17302.tif\n",
      "/media/nkd/data18931/ndwi_int8_13001_18931/ndwi_int8_17303.tif\n",
      "the size of current NDWI_img 11356 11356\n"
     ]
    },
    {
     "name": "stderr",
     "output_type": "stream",
     "text": [
      "900it [01:04, 13.97it/s]\n"
     ]
    },
    {
     "name": "stdout",
     "output_type": "stream",
     "text": [
      "Converting prediction from <class 'numpy.float32'> to uint8, using threshold of 0.5\n",
      "File already analysed! /media/nkd/data18931/ndwi_int8_13001_18931/ndwi_int8_17303.tif\n",
      "/media/nkd/data18931/ndwi_int8_13001_18931/ndwi_int8_17304.tif\n",
      "the size of current NDWI_img 11356 11356\n"
     ]
    },
    {
     "name": "stderr",
     "output_type": "stream",
     "text": [
      "900it [01:05, 13.77it/s]\n"
     ]
    },
    {
     "name": "stdout",
     "output_type": "stream",
     "text": [
      "Converting prediction from <class 'numpy.float32'> to uint8, using threshold of 0.5\n",
      "File already analysed! /media/nkd/data18931/ndwi_int8_13001_18931/ndwi_int8_17304.tif\n",
      "/media/nkd/data18931/ndwi_int8_13001_18931/ndwi_int8_17305.tif\n",
      "the size of current NDWI_img 11356 11356\n"
     ]
    },
    {
     "name": "stderr",
     "output_type": "stream",
     "text": [
      "900it [01:04, 13.86it/s]\n"
     ]
    },
    {
     "name": "stdout",
     "output_type": "stream",
     "text": [
      "Converting prediction from <class 'numpy.float32'> to uint8, using threshold of 0.5\n",
      "File already analysed! /media/nkd/data18931/ndwi_int8_13001_18931/ndwi_int8_17305.tif\n",
      "/media/nkd/data18931/ndwi_int8_13001_18931/ndwi_int8_17306.tif\n",
      "the size of current NDWI_img 11356 11356\n"
     ]
    },
    {
     "name": "stderr",
     "output_type": "stream",
     "text": [
      "900it [01:05, 13.84it/s]\n"
     ]
    },
    {
     "name": "stdout",
     "output_type": "stream",
     "text": [
      "Converting prediction from <class 'numpy.float32'> to uint8, using threshold of 0.5\n",
      "File already analysed! /media/nkd/data18931/ndwi_int8_13001_18931/ndwi_int8_17306.tif\n",
      "/media/nkd/data18931/ndwi_int8_13001_18931/ndwi_int8_17307.tif\n",
      "the size of current NDWI_img 11356 11356\n"
     ]
    },
    {
     "name": "stderr",
     "output_type": "stream",
     "text": [
      "900it [01:09, 12.89it/s]\n"
     ]
    },
    {
     "name": "stdout",
     "output_type": "stream",
     "text": [
      "Converting prediction from <class 'numpy.float32'> to uint8, using threshold of 0.5\n",
      "File already analysed! /media/nkd/data18931/ndwi_int8_13001_18931/ndwi_int8_17307.tif\n",
      "/media/nkd/data18931/ndwi_int8_13001_18931/ndwi_int8_17308.tif\n",
      "the size of current NDWI_img 11355 11356\n"
     ]
    },
    {
     "name": "stderr",
     "output_type": "stream",
     "text": [
      "900it [01:11, 12.59it/s]\n"
     ]
    },
    {
     "name": "stdout",
     "output_type": "stream",
     "text": [
      "Converting prediction from <class 'numpy.float32'> to uint8, using threshold of 0.5\n",
      "File already analysed! /media/nkd/data18931/ndwi_int8_13001_18931/ndwi_int8_17308.tif\n",
      "/media/nkd/data18931/ndwi_int8_13001_18931/ndwi_int8_17309.tif\n",
      "the size of current NDWI_img 11355 11356\n"
     ]
    },
    {
     "name": "stderr",
     "output_type": "stream",
     "text": [
      "900it [01:02, 14.35it/s]\n"
     ]
    },
    {
     "name": "stdout",
     "output_type": "stream",
     "text": [
      "Converting prediction from <class 'numpy.float32'> to uint8, using threshold of 0.5\n",
      "File already analysed! /media/nkd/data18931/ndwi_int8_13001_18931/ndwi_int8_17309.tif\n",
      "/media/nkd/data18931/ndwi_int8_13001_18931/ndwi_int8_17310.tif\n",
      "the size of current NDWI_img 11355 11356\n"
     ]
    },
    {
     "name": "stderr",
     "output_type": "stream",
     "text": [
      "900it [01:10, 12.72it/s]\n"
     ]
    },
    {
     "name": "stdout",
     "output_type": "stream",
     "text": [
      "Converting prediction from <class 'numpy.float32'> to uint8, using threshold of 0.5\n",
      "File already analysed! /media/nkd/data18931/ndwi_int8_13001_18931/ndwi_int8_17310.tif\n",
      "/media/nkd/data18931/ndwi_int8_13001_18931/ndwi_int8_17311.tif\n",
      "the size of current NDWI_img 11355 11356\n"
     ]
    },
    {
     "name": "stderr",
     "output_type": "stream",
     "text": [
      "900it [01:12, 12.35it/s]\n"
     ]
    },
    {
     "name": "stdout",
     "output_type": "stream",
     "text": [
      "Converting prediction from <class 'numpy.float32'> to uint8, using threshold of 0.5\n",
      "File already analysed! /media/nkd/data18931/ndwi_int8_13001_18931/ndwi_int8_17311.tif\n",
      "/media/nkd/data18931/ndwi_int8_13001_18931/ndwi_int8_17312.tif\n",
      "the size of current NDWI_img 11355 11356\n"
     ]
    },
    {
     "name": "stderr",
     "output_type": "stream",
     "text": [
      "900it [01:11, 12.52it/s]\n"
     ]
    },
    {
     "name": "stdout",
     "output_type": "stream",
     "text": [
      "Converting prediction from <class 'numpy.float32'> to uint8, using threshold of 0.5\n",
      "File already analysed! /media/nkd/data18931/ndwi_int8_13001_18931/ndwi_int8_17312.tif\n",
      "/media/nkd/data18931/ndwi_int8_13001_18931/ndwi_int8_17313.tif\n",
      "the size of current NDWI_img 11356 11356\n"
     ]
    },
    {
     "name": "stderr",
     "output_type": "stream",
     "text": [
      "900it [01:05, 13.67it/s]\n"
     ]
    },
    {
     "name": "stdout",
     "output_type": "stream",
     "text": [
      "Converting prediction from <class 'numpy.float32'> to uint8, using threshold of 0.5\n",
      "File already analysed! /media/nkd/data18931/ndwi_int8_13001_18931/ndwi_int8_17313.tif\n",
      "/media/nkd/data18931/ndwi_int8_13001_18931/ndwi_int8_17314.tif\n",
      "the size of current NDWI_img 11356 11356\n"
     ]
    },
    {
     "name": "stderr",
     "output_type": "stream",
     "text": [
      "900it [01:12, 12.46it/s]\n"
     ]
    },
    {
     "name": "stdout",
     "output_type": "stream",
     "text": [
      "Converting prediction from <class 'numpy.float32'> to uint8, using threshold of 0.5\n",
      "File already analysed! /media/nkd/data18931/ndwi_int8_13001_18931/ndwi_int8_17314.tif\n",
      "/media/nkd/data18931/ndwi_int8_13001_18931/ndwi_int8_17315.tif\n",
      "the size of current NDWI_img 11356 11356\n"
     ]
    },
    {
     "name": "stderr",
     "output_type": "stream",
     "text": [
      "900it [01:08, 13.12it/s]\n"
     ]
    },
    {
     "name": "stdout",
     "output_type": "stream",
     "text": [
      "Converting prediction from <class 'numpy.float32'> to uint8, using threshold of 0.5\n",
      "File already analysed! /media/nkd/data18931/ndwi_int8_13001_18931/ndwi_int8_17315.tif\n",
      "/media/nkd/data18931/ndwi_int8_13001_18931/ndwi_int8_17316.tif\n",
      "the size of current NDWI_img 11356 11356\n"
     ]
    },
    {
     "name": "stderr",
     "output_type": "stream",
     "text": [
      "900it [01:06, 13.53it/s]\n"
     ]
    },
    {
     "name": "stdout",
     "output_type": "stream",
     "text": [
      "Converting prediction from <class 'numpy.float32'> to uint8, using threshold of 0.5\n",
      "File already analysed! /media/nkd/data18931/ndwi_int8_13001_18931/ndwi_int8_17316.tif\n",
      "/media/nkd/data18931/ndwi_int8_13001_18931/ndwi_int8_17317.tif\n",
      "the size of current NDWI_img 11356 11356\n"
     ]
    },
    {
     "name": "stderr",
     "output_type": "stream",
     "text": [
      "900it [01:06, 13.43it/s]\n"
     ]
    },
    {
     "name": "stdout",
     "output_type": "stream",
     "text": [
      "Converting prediction from <class 'numpy.float32'> to uint8, using threshold of 0.5\n",
      "File already analysed! /media/nkd/data18931/ndwi_int8_13001_18931/ndwi_int8_17317.tif\n",
      "/media/nkd/data18931/ndwi_int8_13001_18931/ndwi_int8_17318.tif\n",
      "the size of current NDWI_img 11355 11355\n"
     ]
    },
    {
     "name": "stderr",
     "output_type": "stream",
     "text": [
      "900it [01:14, 12.08it/s]\n"
     ]
    },
    {
     "name": "stdout",
     "output_type": "stream",
     "text": [
      "Converting prediction from <class 'numpy.float32'> to uint8, using threshold of 0.5\n",
      "File already analysed! /media/nkd/data18931/ndwi_int8_13001_18931/ndwi_int8_17318.tif\n",
      "/media/nkd/data18931/ndwi_int8_13001_18931/ndwi_int8_17319.tif\n",
      "the size of current NDWI_img 11355 11355\n"
     ]
    },
    {
     "name": "stderr",
     "output_type": "stream",
     "text": [
      "900it [01:10, 12.80it/s]\n"
     ]
    },
    {
     "name": "stdout",
     "output_type": "stream",
     "text": [
      "Converting prediction from <class 'numpy.float32'> to uint8, using threshold of 0.5\n",
      "File already analysed! /media/nkd/data18931/ndwi_int8_13001_18931/ndwi_int8_17319.tif\n",
      "/media/nkd/data18931/ndwi_int8_13001_18931/ndwi_int8_17320.tif\n",
      "the size of current NDWI_img 11355 11355\n"
     ]
    },
    {
     "name": "stderr",
     "output_type": "stream",
     "text": [
      "900it [01:12, 12.36it/s]\n"
     ]
    },
    {
     "name": "stdout",
     "output_type": "stream",
     "text": [
      "Converting prediction from <class 'numpy.float32'> to uint8, using threshold of 0.5\n",
      "File already analysed! /media/nkd/data18931/ndwi_int8_13001_18931/ndwi_int8_17320.tif\n",
      "/media/nkd/data18931/ndwi_int8_13001_18931/ndwi_int8_17321.tif\n",
      "the size of current NDWI_img 11355 11355\n"
     ]
    },
    {
     "name": "stderr",
     "output_type": "stream",
     "text": [
      "900it [01:13, 12.28it/s]\n"
     ]
    },
    {
     "name": "stdout",
     "output_type": "stream",
     "text": [
      "Converting prediction from <class 'numpy.float32'> to uint8, using threshold of 0.5\n",
      "File already analysed! /media/nkd/data18931/ndwi_int8_13001_18931/ndwi_int8_17321.tif\n",
      "/media/nkd/data18931/ndwi_int8_13001_18931/ndwi_int8_17322.tif\n",
      "the size of current NDWI_img 11355 11355\n"
     ]
    },
    {
     "name": "stderr",
     "output_type": "stream",
     "text": [
      "900it [01:13, 12.31it/s]\n"
     ]
    },
    {
     "name": "stdout",
     "output_type": "stream",
     "text": [
      "Converting prediction from <class 'numpy.float32'> to uint8, using threshold of 0.5\n",
      "File already analysed! /media/nkd/data18931/ndwi_int8_13001_18931/ndwi_int8_17322.tif\n",
      "/media/nkd/data18931/ndwi_int8_13001_18931/ndwi_int8_17323.tif\n",
      "the size of current NDWI_img 11356 11355\n"
     ]
    },
    {
     "name": "stderr",
     "output_type": "stream",
     "text": [
      "900it [01:10, 12.76it/s]\n"
     ]
    },
    {
     "name": "stdout",
     "output_type": "stream",
     "text": [
      "Converting prediction from <class 'numpy.float32'> to uint8, using threshold of 0.5\n",
      "File already analysed! /media/nkd/data18931/ndwi_int8_13001_18931/ndwi_int8_17323.tif\n",
      "/media/nkd/data18931/ndwi_int8_13001_18931/ndwi_int8_17324.tif\n",
      "the size of current NDWI_img 11356 11355\n"
     ]
    },
    {
     "name": "stderr",
     "output_type": "stream",
     "text": [
      "900it [01:08, 13.19it/s]\n"
     ]
    },
    {
     "name": "stdout",
     "output_type": "stream",
     "text": [
      "Converting prediction from <class 'numpy.float32'> to uint8, using threshold of 0.5\n",
      "File already analysed! /media/nkd/data18931/ndwi_int8_13001_18931/ndwi_int8_17324.tif\n",
      "/media/nkd/data18931/ndwi_int8_13001_18931/ndwi_int8_17325.tif\n",
      "the size of current NDWI_img 11356 11355\n"
     ]
    },
    {
     "name": "stderr",
     "output_type": "stream",
     "text": [
      "900it [01:03, 14.17it/s]\n"
     ]
    },
    {
     "name": "stdout",
     "output_type": "stream",
     "text": [
      "Converting prediction from <class 'numpy.float32'> to uint8, using threshold of 0.5\n",
      "File already analysed! /media/nkd/data18931/ndwi_int8_13001_18931/ndwi_int8_17325.tif\n",
      "/media/nkd/data18931/ndwi_int8_13001_18931/ndwi_int8_17326.tif\n",
      "the size of current NDWI_img 11356 11355\n"
     ]
    },
    {
     "name": "stderr",
     "output_type": "stream",
     "text": [
      "900it [01:03, 14.15it/s]\n"
     ]
    },
    {
     "name": "stdout",
     "output_type": "stream",
     "text": [
      "Converting prediction from <class 'numpy.float32'> to uint8, using threshold of 0.5\n",
      "File already analysed! /media/nkd/data18931/ndwi_int8_13001_18931/ndwi_int8_17326.tif\n",
      "/media/nkd/data18931/ndwi_int8_13001_18931/ndwi_int8_17327.tif\n",
      "the size of current NDWI_img 11356 11355\n"
     ]
    },
    {
     "name": "stderr",
     "output_type": "stream",
     "text": [
      "900it [01:06, 13.62it/s]\n"
     ]
    },
    {
     "name": "stdout",
     "output_type": "stream",
     "text": [
      "Converting prediction from <class 'numpy.float32'> to uint8, using threshold of 0.5\n",
      "File already analysed! /media/nkd/data18931/ndwi_int8_13001_18931/ndwi_int8_17327.tif\n",
      "/media/nkd/data18931/ndwi_int8_13001_18931/ndwi_int8_17328.tif\n",
      "the size of current NDWI_img 11355 11355\n"
     ]
    },
    {
     "name": "stderr",
     "output_type": "stream",
     "text": [
      "900it [01:15, 11.93it/s]\n"
     ]
    },
    {
     "name": "stdout",
     "output_type": "stream",
     "text": [
      "Converting prediction from <class 'numpy.float32'> to uint8, using threshold of 0.5\n",
      "File already analysed! /media/nkd/data18931/ndwi_int8_13001_18931/ndwi_int8_17328.tif\n",
      "/media/nkd/data18931/ndwi_int8_13001_18931/ndwi_int8_17329.tif\n",
      "the size of current NDWI_img 11355 11355\n"
     ]
    },
    {
     "name": "stderr",
     "output_type": "stream",
     "text": [
      "900it [01:13, 12.29it/s]\n"
     ]
    },
    {
     "name": "stdout",
     "output_type": "stream",
     "text": [
      "Converting prediction from <class 'numpy.float32'> to uint8, using threshold of 0.5\n",
      "File already analysed! /media/nkd/data18931/ndwi_int8_13001_18931/ndwi_int8_17329.tif\n",
      "/media/nkd/data18931/ndwi_int8_13001_18931/ndwi_int8_17330.tif\n",
      "the size of current NDWI_img 11355 11355\n"
     ]
    },
    {
     "name": "stderr",
     "output_type": "stream",
     "text": [
      "900it [01:12, 12.33it/s]\n"
     ]
    },
    {
     "name": "stdout",
     "output_type": "stream",
     "text": [
      "Converting prediction from <class 'numpy.float32'> to uint8, using threshold of 0.5\n",
      "File already analysed! /media/nkd/data18931/ndwi_int8_13001_18931/ndwi_int8_17330.tif\n",
      "/media/nkd/data18931/ndwi_int8_13001_18931/ndwi_int8_17331.tif\n",
      "the size of current NDWI_img 11355 11355\n"
     ]
    },
    {
     "name": "stderr",
     "output_type": "stream",
     "text": [
      "900it [01:12, 12.46it/s]\n"
     ]
    },
    {
     "name": "stdout",
     "output_type": "stream",
     "text": [
      "Converting prediction from <class 'numpy.float32'> to uint8, using threshold of 0.5\n",
      "File already analysed! /media/nkd/data18931/ndwi_int8_13001_18931/ndwi_int8_17331.tif\n",
      "/media/nkd/data18931/ndwi_int8_13001_18931/ndwi_int8_17332.tif\n",
      "the size of current NDWI_img 11355 11355\n"
     ]
    },
    {
     "name": "stderr",
     "output_type": "stream",
     "text": [
      "900it [01:11, 12.50it/s]\n"
     ]
    },
    {
     "name": "stdout",
     "output_type": "stream",
     "text": [
      "Converting prediction from <class 'numpy.float32'> to uint8, using threshold of 0.5\n",
      "File already analysed! /media/nkd/data18931/ndwi_int8_13001_18931/ndwi_int8_17332.tif\n",
      "/media/nkd/data18931/ndwi_int8_13001_18931/ndwi_int8_17333.tif\n",
      "the size of current NDWI_img 11356 11355\n"
     ]
    },
    {
     "name": "stderr",
     "output_type": "stream",
     "text": [
      "900it [01:13, 12.24it/s]\n"
     ]
    },
    {
     "name": "stdout",
     "output_type": "stream",
     "text": [
      "Converting prediction from <class 'numpy.float32'> to uint8, using threshold of 0.5\n",
      "File already analysed! /media/nkd/data18931/ndwi_int8_13001_18931/ndwi_int8_17333.tif\n",
      "/media/nkd/data18931/ndwi_int8_13001_18931/ndwi_int8_17334.tif\n",
      "the size of current NDWI_img 11356 11355\n"
     ]
    },
    {
     "name": "stderr",
     "output_type": "stream",
     "text": [
      "900it [01:11, 12.51it/s]\n"
     ]
    },
    {
     "name": "stdout",
     "output_type": "stream",
     "text": [
      "Converting prediction from <class 'numpy.float32'> to uint8, using threshold of 0.5\n",
      "File already analysed! /media/nkd/data18931/ndwi_int8_13001_18931/ndwi_int8_17334.tif\n",
      "/media/nkd/data18931/ndwi_int8_13001_18931/ndwi_int8_17335.tif\n",
      "the size of current NDWI_img 11356 11355\n"
     ]
    },
    {
     "name": "stderr",
     "output_type": "stream",
     "text": [
      "900it [01:07, 13.32it/s]\n"
     ]
    },
    {
     "name": "stdout",
     "output_type": "stream",
     "text": [
      "Converting prediction from <class 'numpy.float32'> to uint8, using threshold of 0.5\n",
      "File already analysed! /media/nkd/data18931/ndwi_int8_13001_18931/ndwi_int8_17335.tif\n",
      "/media/nkd/data18931/ndwi_int8_13001_18931/ndwi_int8_17336.tif\n",
      "the size of current NDWI_img 11356 11355\n"
     ]
    },
    {
     "name": "stderr",
     "output_type": "stream",
     "text": [
      "900it [01:11, 12.67it/s]\n"
     ]
    },
    {
     "name": "stdout",
     "output_type": "stream",
     "text": [
      "Converting prediction from <class 'numpy.float32'> to uint8, using threshold of 0.5\n",
      "File already analysed! /media/nkd/data18931/ndwi_int8_13001_18931/ndwi_int8_17336.tif\n",
      "/media/nkd/data18931/ndwi_int8_13001_18931/ndwi_int8_17337.tif\n",
      "the size of current NDWI_img 11356 11355\n"
     ]
    },
    {
     "name": "stderr",
     "output_type": "stream",
     "text": [
      "900it [01:06, 13.63it/s]\n"
     ]
    },
    {
     "name": "stdout",
     "output_type": "stream",
     "text": [
      "Converting prediction from <class 'numpy.float32'> to uint8, using threshold of 0.5\n",
      "File already analysed! /media/nkd/data18931/ndwi_int8_13001_18931/ndwi_int8_17337.tif\n",
      "/media/nkd/data18931/ndwi_int8_13001_18931/ndwi_int8_17338.tif\n",
      "the size of current NDWI_img 11355 11355\n"
     ]
    },
    {
     "name": "stderr",
     "output_type": "stream",
     "text": [
      "900it [01:12, 12.47it/s]\n"
     ]
    },
    {
     "name": "stdout",
     "output_type": "stream",
     "text": [
      "Converting prediction from <class 'numpy.float32'> to uint8, using threshold of 0.5\n",
      "File already analysed! /media/nkd/data18931/ndwi_int8_13001_18931/ndwi_int8_17338.tif\n",
      "/media/nkd/data18931/ndwi_int8_13001_18931/ndwi_int8_17339.tif\n",
      "the size of current NDWI_img 11355 11355\n"
     ]
    },
    {
     "name": "stderr",
     "output_type": "stream",
     "text": [
      "900it [01:12, 12.47it/s]\n"
     ]
    },
    {
     "name": "stdout",
     "output_type": "stream",
     "text": [
      "Converting prediction from <class 'numpy.float32'> to uint8, using threshold of 0.5\n",
      "File already analysed! /media/nkd/data18931/ndwi_int8_13001_18931/ndwi_int8_17339.tif\n",
      "/media/nkd/data18931/ndwi_int8_13001_18931/ndwi_int8_17340.tif\n",
      "the size of current NDWI_img 11355 11355\n"
     ]
    },
    {
     "name": "stderr",
     "output_type": "stream",
     "text": [
      "900it [01:14, 12.09it/s]\n"
     ]
    },
    {
     "name": "stdout",
     "output_type": "stream",
     "text": [
      "Converting prediction from <class 'numpy.float32'> to uint8, using threshold of 0.5\n",
      "File already analysed! /media/nkd/data18931/ndwi_int8_13001_18931/ndwi_int8_17340.tif\n",
      "/media/nkd/data18931/ndwi_int8_13001_18931/ndwi_int8_17341.tif\n",
      "the size of current NDWI_img 11355 11355\n"
     ]
    },
    {
     "name": "stderr",
     "output_type": "stream",
     "text": [
      "900it [01:13, 12.23it/s]\n"
     ]
    },
    {
     "name": "stdout",
     "output_type": "stream",
     "text": [
      "Converting prediction from <class 'numpy.float32'> to uint8, using threshold of 0.5\n",
      "File already analysed! /media/nkd/data18931/ndwi_int8_13001_18931/ndwi_int8_17341.tif\n",
      "/media/nkd/data18931/ndwi_int8_13001_18931/ndwi_int8_17342.tif\n",
      "the size of current NDWI_img 11355 11355\n"
     ]
    },
    {
     "name": "stderr",
     "output_type": "stream",
     "text": [
      "900it [01:13, 12.23it/s]\n"
     ]
    },
    {
     "name": "stdout",
     "output_type": "stream",
     "text": [
      "Converting prediction from <class 'numpy.float32'> to uint8, using threshold of 0.5\n",
      "File already analysed! /media/nkd/data18931/ndwi_int8_13001_18931/ndwi_int8_17342.tif\n",
      "/media/nkd/data18931/ndwi_int8_13001_18931/ndwi_int8_17343.tif\n",
      "the size of current NDWI_img 11356 11355\n"
     ]
    },
    {
     "name": "stderr",
     "output_type": "stream",
     "text": [
      "900it [01:11, 12.64it/s]\n"
     ]
    },
    {
     "name": "stdout",
     "output_type": "stream",
     "text": [
      "Converting prediction from <class 'numpy.float32'> to uint8, using threshold of 0.5\n",
      "File already analysed! /media/nkd/data18931/ndwi_int8_13001_18931/ndwi_int8_17343.tif\n",
      "/media/nkd/data18931/ndwi_int8_13001_18931/ndwi_int8_17344.tif\n",
      "the size of current NDWI_img 11356 11355\n"
     ]
    },
    {
     "name": "stderr",
     "output_type": "stream",
     "text": [
      "900it [01:12, 12.42it/s]\n"
     ]
    },
    {
     "name": "stdout",
     "output_type": "stream",
     "text": [
      "Converting prediction from <class 'numpy.float32'> to uint8, using threshold of 0.5\n",
      "File already analysed! /media/nkd/data18931/ndwi_int8_13001_18931/ndwi_int8_17344.tif\n",
      "/media/nkd/data18931/ndwi_int8_13001_18931/ndwi_int8_17345.tif\n",
      "the size of current NDWI_img 11356 11355\n"
     ]
    },
    {
     "name": "stderr",
     "output_type": "stream",
     "text": [
      "900it [01:06, 13.47it/s]\n"
     ]
    },
    {
     "name": "stdout",
     "output_type": "stream",
     "text": [
      "Converting prediction from <class 'numpy.float32'> to uint8, using threshold of 0.5\n",
      "File already analysed! /media/nkd/data18931/ndwi_int8_13001_18931/ndwi_int8_17345.tif\n",
      "/media/nkd/data18931/ndwi_int8_13001_18931/ndwi_int8_17346.tif\n",
      "the size of current NDWI_img 11356 11355\n"
     ]
    },
    {
     "name": "stderr",
     "output_type": "stream",
     "text": [
      "900it [01:10, 12.78it/s]\n"
     ]
    },
    {
     "name": "stdout",
     "output_type": "stream",
     "text": [
      "Converting prediction from <class 'numpy.float32'> to uint8, using threshold of 0.5\n",
      "File already analysed! /media/nkd/data18931/ndwi_int8_13001_18931/ndwi_int8_17346.tif\n",
      "/media/nkd/data18931/ndwi_int8_13001_18931/ndwi_int8_17347.tif\n",
      "the size of current NDWI_img 11356 11355\n"
     ]
    },
    {
     "name": "stderr",
     "output_type": "stream",
     "text": [
      "900it [01:11, 12.62it/s]\n"
     ]
    },
    {
     "name": "stdout",
     "output_type": "stream",
     "text": [
      "Converting prediction from <class 'numpy.float32'> to uint8, using threshold of 0.5\n",
      "File already analysed! /media/nkd/data18931/ndwi_int8_13001_18931/ndwi_int8_17347.tif\n",
      "/media/nkd/data18931/ndwi_int8_13001_18931/ndwi_int8_17348.tif\n",
      "the size of current NDWI_img 11355 11355\n"
     ]
    },
    {
     "name": "stderr",
     "output_type": "stream",
     "text": [
      "900it [00:48, 18.42it/s]\n"
     ]
    },
    {
     "name": "stdout",
     "output_type": "stream",
     "text": [
      "Converting prediction from <class 'numpy.float32'> to uint8, using threshold of 0.5\n",
      "File already analysed! /media/nkd/data18931/ndwi_int8_13001_18931/ndwi_int8_17348.tif\n",
      "/media/nkd/data18931/ndwi_int8_13001_18931/ndwi_int8_17349.tif\n",
      "the size of current NDWI_img 11355 11355\n"
     ]
    },
    {
     "name": "stderr",
     "output_type": "stream",
     "text": [
      "900it [01:14, 12.15it/s]\n"
     ]
    },
    {
     "name": "stdout",
     "output_type": "stream",
     "text": [
      "Converting prediction from <class 'numpy.float32'> to uint8, using threshold of 0.5\n",
      "File already analysed! /media/nkd/data18931/ndwi_int8_13001_18931/ndwi_int8_17349.tif\n",
      "/media/nkd/data18931/ndwi_int8_13001_18931/ndwi_int8_17350.tif\n",
      "the size of current NDWI_img 11355 11355\n"
     ]
    },
    {
     "name": "stderr",
     "output_type": "stream",
     "text": [
      "900it [01:16, 11.80it/s]\n"
     ]
    },
    {
     "name": "stdout",
     "output_type": "stream",
     "text": [
      "Converting prediction from <class 'numpy.float32'> to uint8, using threshold of 0.5\n",
      "File already analysed! /media/nkd/data18931/ndwi_int8_13001_18931/ndwi_int8_17350.tif\n",
      "/media/nkd/data18931/ndwi_int8_13001_18931/ndwi_int8_17351.tif\n",
      "the size of current NDWI_img 11355 11355\n"
     ]
    },
    {
     "name": "stderr",
     "output_type": "stream",
     "text": [
      "900it [01:14, 12.09it/s]\n"
     ]
    },
    {
     "name": "stdout",
     "output_type": "stream",
     "text": [
      "Converting prediction from <class 'numpy.float32'> to uint8, using threshold of 0.5\n",
      "File already analysed! /media/nkd/data18931/ndwi_int8_13001_18931/ndwi_int8_17351.tif\n",
      "/media/nkd/data18931/ndwi_int8_13001_18931/ndwi_int8_17352.tif\n",
      "the size of current NDWI_img 11355 11355\n"
     ]
    },
    {
     "name": "stderr",
     "output_type": "stream",
     "text": [
      "900it [01:14, 12.01it/s]\n"
     ]
    },
    {
     "name": "stdout",
     "output_type": "stream",
     "text": [
      "Converting prediction from <class 'numpy.float32'> to uint8, using threshold of 0.5\n",
      "File already analysed! /media/nkd/data18931/ndwi_int8_13001_18931/ndwi_int8_17352.tif\n",
      "/media/nkd/data18931/ndwi_int8_13001_18931/ndwi_int8_17353.tif\n",
      "the size of current NDWI_img 11356 11355\n"
     ]
    },
    {
     "name": "stderr",
     "output_type": "stream",
     "text": [
      "900it [01:11, 12.59it/s]\n"
     ]
    },
    {
     "name": "stdout",
     "output_type": "stream",
     "text": [
      "Converting prediction from <class 'numpy.float32'> to uint8, using threshold of 0.5\n",
      "File already analysed! /media/nkd/data18931/ndwi_int8_13001_18931/ndwi_int8_17353.tif\n",
      "/media/nkd/data18931/ndwi_int8_13001_18931/ndwi_int8_17354.tif\n",
      "the size of current NDWI_img 11356 11355\n"
     ]
    },
    {
     "name": "stderr",
     "output_type": "stream",
     "text": [
      "900it [01:11, 12.51it/s]\n"
     ]
    },
    {
     "name": "stdout",
     "output_type": "stream",
     "text": [
      "Converting prediction from <class 'numpy.float32'> to uint8, using threshold of 0.5\n",
      "File already analysed! /media/nkd/data18931/ndwi_int8_13001_18931/ndwi_int8_17354.tif\n",
      "/media/nkd/data18931/ndwi_int8_13001_18931/ndwi_int8_17355.tif\n",
      "the size of current NDWI_img 11356 11355\n"
     ]
    },
    {
     "name": "stderr",
     "output_type": "stream",
     "text": [
      "900it [01:09, 12.91it/s]\n"
     ]
    },
    {
     "name": "stdout",
     "output_type": "stream",
     "text": [
      "Converting prediction from <class 'numpy.float32'> to uint8, using threshold of 0.5\n",
      "File already analysed! /media/nkd/data18931/ndwi_int8_13001_18931/ndwi_int8_17355.tif\n",
      "/media/nkd/data18931/ndwi_int8_13001_18931/ndwi_int8_17356.tif\n",
      "the size of current NDWI_img 11356 11355\n"
     ]
    },
    {
     "name": "stderr",
     "output_type": "stream",
     "text": [
      "900it [01:10, 12.69it/s]\n"
     ]
    },
    {
     "name": "stdout",
     "output_type": "stream",
     "text": [
      "Converting prediction from <class 'numpy.float32'> to uint8, using threshold of 0.5\n",
      "File already analysed! /media/nkd/data18931/ndwi_int8_13001_18931/ndwi_int8_17356.tif\n",
      "/media/nkd/data18931/ndwi_int8_13001_18931/ndwi_int8_17357.tif\n",
      "the size of current NDWI_img 11356 11355\n"
     ]
    },
    {
     "name": "stderr",
     "output_type": "stream",
     "text": [
      "900it [01:12, 12.36it/s]\n"
     ]
    },
    {
     "name": "stdout",
     "output_type": "stream",
     "text": [
      "Converting prediction from <class 'numpy.float32'> to uint8, using threshold of 0.5\n",
      "File already analysed! /media/nkd/data18931/ndwi_int8_13001_18931/ndwi_int8_17357.tif\n",
      "/media/nkd/data18931/ndwi_int8_13001_18931/ndwi_int8_17358.tif\n",
      "the size of current NDWI_img 11355 11355\n"
     ]
    },
    {
     "name": "stderr",
     "output_type": "stream",
     "text": [
      "900it [00:47, 19.14it/s]\n"
     ]
    },
    {
     "name": "stdout",
     "output_type": "stream",
     "text": [
      "Converting prediction from <class 'numpy.float32'> to uint8, using threshold of 0.5\n",
      "File already analysed! /media/nkd/data18931/ndwi_int8_13001_18931/ndwi_int8_17358.tif\n",
      "/media/nkd/data18931/ndwi_int8_13001_18931/ndwi_int8_17359.tif\n",
      "the size of current NDWI_img 11355 11355\n"
     ]
    },
    {
     "name": "stderr",
     "output_type": "stream",
     "text": [
      "900it [00:58, 15.38it/s]\n"
     ]
    },
    {
     "name": "stdout",
     "output_type": "stream",
     "text": [
      "Converting prediction from <class 'numpy.float32'> to uint8, using threshold of 0.5\n",
      "File already analysed! /media/nkd/data18931/ndwi_int8_13001_18931/ndwi_int8_17359.tif\n",
      "/media/nkd/data18931/ndwi_int8_13001_18931/ndwi_int8_17360.tif\n",
      "the size of current NDWI_img 11355 11355\n"
     ]
    },
    {
     "name": "stderr",
     "output_type": "stream",
     "text": [
      "900it [00:59, 15.09it/s]\n"
     ]
    },
    {
     "name": "stdout",
     "output_type": "stream",
     "text": [
      "Converting prediction from <class 'numpy.float32'> to uint8, using threshold of 0.5\n",
      "File already analysed! /media/nkd/data18931/ndwi_int8_13001_18931/ndwi_int8_17360.tif\n",
      "/media/nkd/data18931/ndwi_int8_13001_18931/ndwi_int8_17361.tif\n",
      "the size of current NDWI_img 11355 11355\n"
     ]
    },
    {
     "name": "stderr",
     "output_type": "stream",
     "text": [
      "900it [01:01, 14.53it/s]\n"
     ]
    },
    {
     "name": "stdout",
     "output_type": "stream",
     "text": [
      "Converting prediction from <class 'numpy.float32'> to uint8, using threshold of 0.5\n",
      "File already analysed! /media/nkd/data18931/ndwi_int8_13001_18931/ndwi_int8_17361.tif\n",
      "/media/nkd/data18931/ndwi_int8_13001_18931/ndwi_int8_17362.tif\n",
      "the size of current NDWI_img 11356 11355\n"
     ]
    },
    {
     "name": "stderr",
     "output_type": "stream",
     "text": [
      "900it [01:11, 12.60it/s]\n"
     ]
    },
    {
     "name": "stdout",
     "output_type": "stream",
     "text": [
      "Converting prediction from <class 'numpy.float32'> to uint8, using threshold of 0.5\n",
      "File already analysed! /media/nkd/data18931/ndwi_int8_13001_18931/ndwi_int8_17362.tif\n",
      "/media/nkd/data18931/ndwi_int8_13001_18931/ndwi_int8_17363.tif\n",
      "the size of current NDWI_img 11356 11355\n"
     ]
    },
    {
     "name": "stderr",
     "output_type": "stream",
     "text": [
      "900it [01:11, 12.58it/s]\n"
     ]
    },
    {
     "name": "stdout",
     "output_type": "stream",
     "text": [
      "Converting prediction from <class 'numpy.float32'> to uint8, using threshold of 0.5\n",
      "File already analysed! /media/nkd/data18931/ndwi_int8_13001_18931/ndwi_int8_17363.tif\n",
      "/media/nkd/data18931/ndwi_int8_13001_18931/ndwi_int8_17364.tif\n",
      "the size of current NDWI_img 11356 11355\n"
     ]
    },
    {
     "name": "stderr",
     "output_type": "stream",
     "text": [
      "900it [01:10, 12.74it/s]\n"
     ]
    },
    {
     "name": "stdout",
     "output_type": "stream",
     "text": [
      "Converting prediction from <class 'numpy.float32'> to uint8, using threshold of 0.5\n",
      "File already analysed! /media/nkd/data18931/ndwi_int8_13001_18931/ndwi_int8_17364.tif\n",
      "/media/nkd/data18931/ndwi_int8_13001_18931/ndwi_int8_17365.tif\n",
      "the size of current NDWI_img 11356 11355\n"
     ]
    },
    {
     "name": "stderr",
     "output_type": "stream",
     "text": [
      "900it [01:10, 12.73it/s]\n"
     ]
    },
    {
     "name": "stdout",
     "output_type": "stream",
     "text": [
      "Converting prediction from <class 'numpy.float32'> to uint8, using threshold of 0.5\n",
      "File already analysed! /media/nkd/data18931/ndwi_int8_13001_18931/ndwi_int8_17365.tif\n",
      "/media/nkd/data18931/ndwi_int8_13001_18931/ndwi_int8_17366.tif\n",
      "the size of current NDWI_img 11356 11355\n"
     ]
    },
    {
     "name": "stderr",
     "output_type": "stream",
     "text": [
      "900it [01:04, 13.94it/s]\n"
     ]
    },
    {
     "name": "stdout",
     "output_type": "stream",
     "text": [
      "Converting prediction from <class 'numpy.float32'> to uint8, using threshold of 0.5\n",
      "File already analysed! /media/nkd/data18931/ndwi_int8_13001_18931/ndwi_int8_17366.tif\n",
      "/media/nkd/data18931/ndwi_int8_13001_18931/ndwi_int8_17367.tif\n",
      "the size of current NDWI_img 11355 11355\n"
     ]
    },
    {
     "name": "stderr",
     "output_type": "stream",
     "text": [
      "900it [00:43, 20.52it/s]\n"
     ]
    },
    {
     "name": "stdout",
     "output_type": "stream",
     "text": [
      "Converting prediction from <class 'numpy.float32'> to uint8, using threshold of 0.5\n",
      "File already analysed! /media/nkd/data18931/ndwi_int8_13001_18931/ndwi_int8_17367.tif\n",
      "/media/nkd/data18931/ndwi_int8_13001_18931/ndwi_int8_17368.tif\n",
      "the size of current NDWI_img 11356 11355\n"
     ]
    },
    {
     "name": "stderr",
     "output_type": "stream",
     "text": [
      "900it [01:00, 14.93it/s]\n"
     ]
    },
    {
     "name": "stdout",
     "output_type": "stream",
     "text": [
      "Converting prediction from <class 'numpy.float32'> to uint8, using threshold of 0.5\n",
      "File already analysed! /media/nkd/data18931/ndwi_int8_13001_18931/ndwi_int8_17368.tif\n",
      "/media/nkd/data18931/ndwi_int8_13001_18931/ndwi_int8_17369.tif\n",
      "the size of current NDWI_img 11356 11355\n"
     ]
    },
    {
     "name": "stderr",
     "output_type": "stream",
     "text": [
      "900it [01:14, 12.11it/s]\n"
     ]
    },
    {
     "name": "stdout",
     "output_type": "stream",
     "text": [
      "Converting prediction from <class 'numpy.float32'> to uint8, using threshold of 0.5\n",
      "File already analysed! /media/nkd/data18931/ndwi_int8_13001_18931/ndwi_int8_17369.tif\n",
      "/media/nkd/data18931/ndwi_int8_13001_18931/ndwi_int8_17370.tif\n",
      "the size of current NDWI_img 11356 11355\n"
     ]
    },
    {
     "name": "stderr",
     "output_type": "stream",
     "text": [
      "900it [01:15, 11.98it/s]\n"
     ]
    },
    {
     "name": "stdout",
     "output_type": "stream",
     "text": [
      "Converting prediction from <class 'numpy.float32'> to uint8, using threshold of 0.5\n",
      "File already analysed! /media/nkd/data18931/ndwi_int8_13001_18931/ndwi_int8_17370.tif\n",
      "/media/nkd/data18931/ndwi_int8_13001_18931/ndwi_int8_17371.tif\n",
      "the size of current NDWI_img 11356 11355\n"
     ]
    },
    {
     "name": "stderr",
     "output_type": "stream",
     "text": [
      "900it [01:10, 12.73it/s]\n"
     ]
    },
    {
     "name": "stdout",
     "output_type": "stream",
     "text": [
      "Converting prediction from <class 'numpy.float32'> to uint8, using threshold of 0.5\n",
      "File already analysed! /media/nkd/data18931/ndwi_int8_13001_18931/ndwi_int8_17371.tif\n",
      "/media/nkd/data18931/ndwi_int8_13001_18931/ndwi_int8_17372.tif\n",
      "the size of current NDWI_img 11356 11355\n"
     ]
    },
    {
     "name": "stderr",
     "output_type": "stream",
     "text": [
      "900it [01:13, 12.29it/s]\n"
     ]
    },
    {
     "name": "stdout",
     "output_type": "stream",
     "text": [
      "Converting prediction from <class 'numpy.float32'> to uint8, using threshold of 0.5\n",
      "File already analysed! /media/nkd/data18931/ndwi_int8_13001_18931/ndwi_int8_17372.tif\n",
      "/media/nkd/data18931/ndwi_int8_13001_18931/ndwi_int8_17373.tif\n",
      "the size of current NDWI_img 11356 11355\n"
     ]
    },
    {
     "name": "stderr",
     "output_type": "stream",
     "text": [
      "900it [00:47, 18.77it/s]\n"
     ]
    },
    {
     "name": "stdout",
     "output_type": "stream",
     "text": [
      "Converting prediction from <class 'numpy.float32'> to uint8, using threshold of 0.5\n",
      "File already analysed! /media/nkd/data18931/ndwi_int8_13001_18931/ndwi_int8_17373.tif\n",
      "/media/nkd/data18931/ndwi_int8_13001_18931/ndwi_int8_17374.tif\n",
      "the size of current NDWI_img 11356 11355\n"
     ]
    },
    {
     "name": "stderr",
     "output_type": "stream",
     "text": [
      "900it [01:16, 11.73it/s]\n"
     ]
    },
    {
     "name": "stdout",
     "output_type": "stream",
     "text": [
      "Converting prediction from <class 'numpy.float32'> to uint8, using threshold of 0.5\n",
      "File already analysed! /media/nkd/data18931/ndwi_int8_13001_18931/ndwi_int8_17374.tif\n",
      "/media/nkd/data18931/ndwi_int8_13001_18931/ndwi_int8_17375.tif\n",
      "the size of current NDWI_img 11356 11355\n"
     ]
    },
    {
     "name": "stderr",
     "output_type": "stream",
     "text": [
      "900it [01:16, 11.73it/s]\n"
     ]
    },
    {
     "name": "stdout",
     "output_type": "stream",
     "text": [
      "Converting prediction from <class 'numpy.float32'> to uint8, using threshold of 0.5\n",
      "File already analysed! /media/nkd/data18931/ndwi_int8_13001_18931/ndwi_int8_17375.tif\n",
      "/media/nkd/data18931/ndwi_int8_13001_18931/ndwi_int8_17376.tif\n",
      "the size of current NDWI_img 11356 11355\n"
     ]
    },
    {
     "name": "stderr",
     "output_type": "stream",
     "text": [
      "900it [01:18, 11.54it/s]\n"
     ]
    },
    {
     "name": "stdout",
     "output_type": "stream",
     "text": [
      "Converting prediction from <class 'numpy.float32'> to uint8, using threshold of 0.5\n",
      "File already analysed! /media/nkd/data18931/ndwi_int8_13001_18931/ndwi_int8_17376.tif\n",
      "/media/nkd/data18931/ndwi_int8_13001_18931/ndwi_int8_17377.tif\n",
      "the size of current NDWI_img 11356 11355\n"
     ]
    },
    {
     "name": "stderr",
     "output_type": "stream",
     "text": [
      "900it [01:14, 12.11it/s]\n"
     ]
    },
    {
     "name": "stdout",
     "output_type": "stream",
     "text": [
      "Converting prediction from <class 'numpy.float32'> to uint8, using threshold of 0.5\n",
      "File already analysed! /media/nkd/data18931/ndwi_int8_13001_18931/ndwi_int8_17377.tif\n",
      "/media/nkd/data18931/ndwi_int8_13001_18931/ndwi_int8_17378.tif\n",
      "the size of current NDWI_img 11356 11355\n"
     ]
    },
    {
     "name": "stderr",
     "output_type": "stream",
     "text": [
      "900it [00:44, 20.33it/s]\n"
     ]
    },
    {
     "name": "stdout",
     "output_type": "stream",
     "text": [
      "Converting prediction from <class 'numpy.float32'> to uint8, using threshold of 0.5\n",
      "File already analysed! /media/nkd/data18931/ndwi_int8_13001_18931/ndwi_int8_17378.tif\n",
      "/media/nkd/data18931/ndwi_int8_13001_18931/ndwi_int8_17379.tif\n",
      "the size of current NDWI_img 11356 11355\n"
     ]
    },
    {
     "name": "stderr",
     "output_type": "stream",
     "text": [
      "900it [01:06, 13.54it/s]\n"
     ]
    },
    {
     "name": "stdout",
     "output_type": "stream",
     "text": [
      "Converting prediction from <class 'numpy.float32'> to uint8, using threshold of 0.5\n",
      "File already analysed! /media/nkd/data18931/ndwi_int8_13001_18931/ndwi_int8_17379.tif\n",
      "/media/nkd/data18931/ndwi_int8_13001_18931/ndwi_int8_17380.tif\n",
      "the size of current NDWI_img 11356 11355\n"
     ]
    },
    {
     "name": "stderr",
     "output_type": "stream",
     "text": [
      "900it [01:14, 12.01it/s]\n"
     ]
    },
    {
     "name": "stdout",
     "output_type": "stream",
     "text": [
      "Converting prediction from <class 'numpy.float32'> to uint8, using threshold of 0.5\n",
      "File already analysed! /media/nkd/data18931/ndwi_int8_13001_18931/ndwi_int8_17380.tif\n",
      "/media/nkd/data18931/ndwi_int8_13001_18931/ndwi_int8_17381.tif\n",
      "the size of current NDWI_img 11356 11355\n"
     ]
    },
    {
     "name": "stderr",
     "output_type": "stream",
     "text": [
      "900it [01:15, 11.87it/s]\n"
     ]
    },
    {
     "name": "stdout",
     "output_type": "stream",
     "text": [
      "Converting prediction from <class 'numpy.float32'> to uint8, using threshold of 0.5\n",
      "File already analysed! /media/nkd/data18931/ndwi_int8_13001_18931/ndwi_int8_17381.tif\n",
      "/media/nkd/data18931/ndwi_int8_13001_18931/ndwi_int8_17382.tif\n",
      "the size of current NDWI_img 11356 11355\n"
     ]
    },
    {
     "name": "stderr",
     "output_type": "stream",
     "text": [
      "900it [01:16, 11.83it/s]\n"
     ]
    },
    {
     "name": "stdout",
     "output_type": "stream",
     "text": [
      "Converting prediction from <class 'numpy.float32'> to uint8, using threshold of 0.5\n",
      "File already analysed! /media/nkd/data18931/ndwi_int8_13001_18931/ndwi_int8_17382.tif\n",
      "/media/nkd/data18931/ndwi_int8_13001_18931/ndwi_int8_17383.tif\n",
      "the size of current NDWI_img 11356 11356\n"
     ]
    },
    {
     "name": "stderr",
     "output_type": "stream",
     "text": [
      "900it [00:48, 18.75it/s]\n"
     ]
    },
    {
     "name": "stdout",
     "output_type": "stream",
     "text": [
      "Converting prediction from <class 'numpy.float32'> to uint8, using threshold of 0.5\n",
      "File already analysed! /media/nkd/data18931/ndwi_int8_13001_18931/ndwi_int8_17383.tif\n",
      "/media/nkd/data18931/ndwi_int8_13001_18931/ndwi_int8_17384.tif\n",
      "the size of current NDWI_img 11356 11356\n"
     ]
    },
    {
     "name": "stderr",
     "output_type": "stream",
     "text": [
      "900it [01:16, 11.76it/s]\n"
     ]
    },
    {
     "name": "stdout",
     "output_type": "stream",
     "text": [
      "Converting prediction from <class 'numpy.float32'> to uint8, using threshold of 0.5\n",
      "File already analysed! /media/nkd/data18931/ndwi_int8_13001_18931/ndwi_int8_17384.tif\n",
      "/media/nkd/data18931/ndwi_int8_13001_18931/ndwi_int8_17385.tif\n",
      "the size of current NDWI_img 11356 11356\n"
     ]
    },
    {
     "name": "stderr",
     "output_type": "stream",
     "text": [
      "900it [01:16, 11.76it/s]\n"
     ]
    },
    {
     "name": "stdout",
     "output_type": "stream",
     "text": [
      "Converting prediction from <class 'numpy.float32'> to uint8, using threshold of 0.5\n",
      "File already analysed! /media/nkd/data18931/ndwi_int8_13001_18931/ndwi_int8_17385.tif\n",
      "/media/nkd/data18931/ndwi_int8_13001_18931/ndwi_int8_17386.tif\n",
      "the size of current NDWI_img 11356 11356\n"
     ]
    },
    {
     "name": "stderr",
     "output_type": "stream",
     "text": [
      "900it [01:17, 11.65it/s]\n"
     ]
    },
    {
     "name": "stdout",
     "output_type": "stream",
     "text": [
      "Converting prediction from <class 'numpy.float32'> to uint8, using threshold of 0.5\n",
      "File already analysed! /media/nkd/data18931/ndwi_int8_13001_18931/ndwi_int8_17386.tif\n",
      "/media/nkd/data18931/ndwi_int8_13001_18931/ndwi_int8_17387.tif\n",
      "the size of current NDWI_img 11356 11356\n"
     ]
    },
    {
     "name": "stderr",
     "output_type": "stream",
     "text": [
      "900it [00:46, 19.52it/s]\n"
     ]
    },
    {
     "name": "stdout",
     "output_type": "stream",
     "text": [
      "Converting prediction from <class 'numpy.float32'> to uint8, using threshold of 0.5\n",
      "File already analysed! /media/nkd/data18931/ndwi_int8_13001_18931/ndwi_int8_17387.tif\n",
      "/media/nkd/data18931/ndwi_int8_13001_18931/ndwi_int8_17388.tif\n",
      "the size of current NDWI_img 11356 11356\n"
     ]
    },
    {
     "name": "stderr",
     "output_type": "stream",
     "text": [
      "900it [01:18, 11.40it/s]\n"
     ]
    },
    {
     "name": "stdout",
     "output_type": "stream",
     "text": [
      "Converting prediction from <class 'numpy.float32'> to uint8, using threshold of 0.5\n",
      "File already analysed! /media/nkd/data18931/ndwi_int8_13001_18931/ndwi_int8_17388.tif\n",
      "/media/nkd/data18931/ndwi_int8_13001_18931/ndwi_int8_17389.tif\n",
      "the size of current NDWI_img 11356 11356\n"
     ]
    },
    {
     "name": "stderr",
     "output_type": "stream",
     "text": [
      "900it [01:14, 12.10it/s]\n"
     ]
    },
    {
     "name": "stdout",
     "output_type": "stream",
     "text": [
      "Converting prediction from <class 'numpy.float32'> to uint8, using threshold of 0.5\n",
      "File already analysed! /media/nkd/data18931/ndwi_int8_13001_18931/ndwi_int8_17389.tif\n",
      "/media/nkd/data18931/ndwi_int8_13001_18931/ndwi_int8_17390.tif\n",
      "the size of current NDWI_img 11356 11356\n"
     ]
    },
    {
     "name": "stderr",
     "output_type": "stream",
     "text": [
      "900it [01:15, 11.93it/s]\n"
     ]
    },
    {
     "name": "stdout",
     "output_type": "stream",
     "text": [
      "Converting prediction from <class 'numpy.float32'> to uint8, using threshold of 0.5\n",
      "File already analysed! /media/nkd/data18931/ndwi_int8_13001_18931/ndwi_int8_17390.tif\n",
      "/media/nkd/data18931/ndwi_int8_13001_18931/ndwi_int8_17391.tif\n",
      "the size of current NDWI_img 11356 11356\n"
     ]
    },
    {
     "name": "stderr",
     "output_type": "stream",
     "text": [
      "900it [00:46, 19.53it/s]\n"
     ]
    },
    {
     "name": "stdout",
     "output_type": "stream",
     "text": [
      "Converting prediction from <class 'numpy.float32'> to uint8, using threshold of 0.5\n",
      "File already analysed! /media/nkd/data18931/ndwi_int8_13001_18931/ndwi_int8_17391.tif\n",
      "/media/nkd/data18931/ndwi_int8_13001_18931/ndwi_int8_17392.tif\n",
      "the size of current NDWI_img 11356 11356\n"
     ]
    },
    {
     "name": "stderr",
     "output_type": "stream",
     "text": [
      "900it [01:14, 12.07it/s]\n"
     ]
    },
    {
     "name": "stdout",
     "output_type": "stream",
     "text": [
      "Converting prediction from <class 'numpy.float32'> to uint8, using threshold of 0.5\n",
      "File already analysed! /media/nkd/data18931/ndwi_int8_13001_18931/ndwi_int8_17392.tif\n",
      "/media/nkd/data18931/ndwi_int8_13001_18931/ndwi_int8_17393.tif\n",
      "the size of current NDWI_img 11356 11356\n"
     ]
    },
    {
     "name": "stderr",
     "output_type": "stream",
     "text": [
      "900it [01:17, 11.62it/s]\n"
     ]
    },
    {
     "name": "stdout",
     "output_type": "stream",
     "text": [
      "Converting prediction from <class 'numpy.float32'> to uint8, using threshold of 0.5\n",
      "File already analysed! /media/nkd/data18931/ndwi_int8_13001_18931/ndwi_int8_17393.tif\n",
      "/media/nkd/data18931/ndwi_int8_13001_18931/ndwi_int8_17394.tif\n",
      "the size of current NDWI_img 11356 11356\n"
     ]
    },
    {
     "name": "stderr",
     "output_type": "stream",
     "text": [
      "900it [01:14, 12.01it/s]\n"
     ]
    },
    {
     "name": "stdout",
     "output_type": "stream",
     "text": [
      "Converting prediction from <class 'numpy.float32'> to uint8, using threshold of 0.5\n",
      "File already analysed! /media/nkd/data18931/ndwi_int8_13001_18931/ndwi_int8_17394.tif\n",
      "/media/nkd/data18931/ndwi_int8_13001_18931/ndwi_int8_17395.tif\n",
      "the size of current NDWI_img 11356 11356\n"
     ]
    },
    {
     "name": "stderr",
     "output_type": "stream",
     "text": [
      "900it [00:44, 20.18it/s]\n"
     ]
    },
    {
     "name": "stdout",
     "output_type": "stream",
     "text": [
      "Converting prediction from <class 'numpy.float32'> to uint8, using threshold of 0.5\n",
      "File already analysed! /media/nkd/data18931/ndwi_int8_13001_18931/ndwi_int8_17395.tif\n",
      "/media/nkd/data18931/ndwi_int8_13001_18931/ndwi_int8_17396.tif\n",
      "the size of current NDWI_img 11356 11356\n"
     ]
    },
    {
     "name": "stderr",
     "output_type": "stream",
     "text": [
      "900it [00:49, 18.03it/s]\n"
     ]
    },
    {
     "name": "stdout",
     "output_type": "stream",
     "text": [
      "Converting prediction from <class 'numpy.float32'> to uint8, using threshold of 0.5\n",
      "File already analysed! /media/nkd/data18931/ndwi_int8_13001_18931/ndwi_int8_17396.tif\n",
      "/media/nkd/data18931/ndwi_int8_13001_18931/ndwi_int8_17397.tif\n",
      "the size of current NDWI_img 11356 11356\n"
     ]
    },
    {
     "name": "stderr",
     "output_type": "stream",
     "text": [
      "900it [01:17, 11.57it/s]\n"
     ]
    },
    {
     "name": "stdout",
     "output_type": "stream",
     "text": [
      "Converting prediction from <class 'numpy.float32'> to uint8, using threshold of 0.5\n",
      "File already analysed! /media/nkd/data18931/ndwi_int8_13001_18931/ndwi_int8_17397.tif\n",
      "/media/nkd/data18931/ndwi_int8_13001_18931/ndwi_int8_17398.tif\n",
      "the size of current NDWI_img 11356 11356\n"
     ]
    },
    {
     "name": "stderr",
     "output_type": "stream",
     "text": [
      "900it [01:17, 11.68it/s]\n"
     ]
    },
    {
     "name": "stdout",
     "output_type": "stream",
     "text": [
      "Converting prediction from <class 'numpy.float32'> to uint8, using threshold of 0.5\n",
      "File already analysed! /media/nkd/data18931/ndwi_int8_13001_18931/ndwi_int8_17398.tif\n",
      "/media/nkd/data18931/ndwi_int8_13001_18931/ndwi_int8_17399.tif\n",
      "the size of current NDWI_img 11356 11356\n"
     ]
    },
    {
     "name": "stderr",
     "output_type": "stream",
     "text": [
      "900it [00:44, 20.12it/s]\n"
     ]
    },
    {
     "name": "stdout",
     "output_type": "stream",
     "text": [
      "Converting prediction from <class 'numpy.float32'> to uint8, using threshold of 0.5\n",
      "File already analysed! /media/nkd/data18931/ndwi_int8_13001_18931/ndwi_int8_17399.tif\n",
      "/media/nkd/data18931/ndwi_int8_13001_18931/ndwi_int8_17400.tif\n",
      "the size of current NDWI_img 11356 11356\n"
     ]
    },
    {
     "name": "stderr",
     "output_type": "stream",
     "text": [
      "900it [00:46, 19.55it/s]\n"
     ]
    },
    {
     "name": "stdout",
     "output_type": "stream",
     "text": [
      "Converting prediction from <class 'numpy.float32'> to uint8, using threshold of 0.5\n",
      "File already analysed! /media/nkd/data18931/ndwi_int8_13001_18931/ndwi_int8_17400.tif\n",
      "/media/nkd/data18931/ndwi_int8_13001_18931/ndwi_int8_17401.tif\n",
      "the size of current NDWI_img 11356 11356\n"
     ]
    },
    {
     "name": "stderr",
     "output_type": "stream",
     "text": [
      "900it [01:03, 14.07it/s]\n"
     ]
    },
    {
     "name": "stdout",
     "output_type": "stream",
     "text": [
      "Converting prediction from <class 'numpy.float32'> to uint8, using threshold of 0.5\n",
      "File already analysed! /media/nkd/data18931/ndwi_int8_13001_18931/ndwi_int8_17401.tif\n",
      "/media/nkd/data18931/ndwi_int8_13001_18931/ndwi_int8_17402.tif\n",
      "the size of current NDWI_img 11356 11356\n"
     ]
    },
    {
     "name": "stderr",
     "output_type": "stream",
     "text": [
      "900it [00:49, 18.32it/s]\n"
     ]
    },
    {
     "name": "stdout",
     "output_type": "stream",
     "text": [
      "Converting prediction from <class 'numpy.float32'> to uint8, using threshold of 0.5\n",
      "File already analysed! /media/nkd/data18931/ndwi_int8_13001_18931/ndwi_int8_17402.tif\n",
      "/media/nkd/data18931/ndwi_int8_13001_18931/ndwi_int8_17403.tif\n",
      "the size of current NDWI_img 11356 11355\n"
     ]
    },
    {
     "name": "stderr",
     "output_type": "stream",
     "text": [
      "900it [00:31, 28.43it/s]\n"
     ]
    },
    {
     "name": "stdout",
     "output_type": "stream",
     "text": [
      "Converting prediction from <class 'numpy.float32'> to uint8, using threshold of 0.5\n",
      "File already analysed! /media/nkd/data18931/ndwi_int8_13001_18931/ndwi_int8_17403.tif\n",
      "/media/nkd/data18931/ndwi_int8_13001_18931/ndwi_int8_17404.tif\n",
      "the size of current NDWI_img 11356 11355\n"
     ]
    },
    {
     "name": "stderr",
     "output_type": "stream",
     "text": [
      "900it [00:31, 28.38it/s]\n"
     ]
    },
    {
     "name": "stdout",
     "output_type": "stream",
     "text": [
      "Converting prediction from <class 'numpy.float32'> to uint8, using threshold of 0.5\n",
      "File already analysed! /media/nkd/data18931/ndwi_int8_13001_18931/ndwi_int8_17404.tif\n",
      "/media/nkd/data18931/ndwi_int8_13001_18931/ndwi_int8_17405.tif\n",
      "the size of current NDWI_img 11356 11355\n"
     ]
    },
    {
     "name": "stderr",
     "output_type": "stream",
     "text": [
      "900it [00:46, 19.18it/s]\n"
     ]
    },
    {
     "name": "stdout",
     "output_type": "stream",
     "text": [
      "Converting prediction from <class 'numpy.float32'> to uint8, using threshold of 0.5\n",
      "File already analysed! /media/nkd/data18931/ndwi_int8_13001_18931/ndwi_int8_17405.tif\n",
      "/media/nkd/data18931/ndwi_int8_13001_18931/ndwi_int8_17406.tif\n",
      "the size of current NDWI_img 11356 11355\n"
     ]
    },
    {
     "name": "stderr",
     "output_type": "stream",
     "text": [
      "900it [00:45, 19.60it/s]\n"
     ]
    },
    {
     "name": "stdout",
     "output_type": "stream",
     "text": [
      "Converting prediction from <class 'numpy.float32'> to uint8, using threshold of 0.5\n",
      "File already analysed! /media/nkd/data18931/ndwi_int8_13001_18931/ndwi_int8_17406.tif\n",
      "/media/nkd/data18931/ndwi_int8_13001_18931/ndwi_int8_17407.tif\n",
      "the size of current NDWI_img 11356 11355\n"
     ]
    },
    {
     "name": "stderr",
     "output_type": "stream",
     "text": [
      "900it [00:52, 17.21it/s]\n"
     ]
    },
    {
     "name": "stdout",
     "output_type": "stream",
     "text": [
      "Converting prediction from <class 'numpy.float32'> to uint8, using threshold of 0.5\n",
      "File already analysed! /media/nkd/data18931/ndwi_int8_13001_18931/ndwi_int8_17407.tif\n",
      "/media/nkd/data18931/ndwi_int8_13001_18931/ndwi_int8_17408.tif\n",
      "the size of current NDWI_img 11356 11355\n"
     ]
    },
    {
     "name": "stderr",
     "output_type": "stream",
     "text": [
      "900it [01:04, 13.98it/s]\n"
     ]
    },
    {
     "name": "stdout",
     "output_type": "stream",
     "text": [
      "Converting prediction from <class 'numpy.float32'> to uint8, using threshold of 0.5\n",
      "File already analysed! /media/nkd/data18931/ndwi_int8_13001_18931/ndwi_int8_17408.tif\n",
      "/media/nkd/data18931/ndwi_int8_13001_18931/ndwi_int8_17409.tif\n",
      "the size of current NDWI_img 11355 11356\n"
     ]
    },
    {
     "name": "stderr",
     "output_type": "stream",
     "text": [
      "900it [00:42, 21.21it/s]\n"
     ]
    },
    {
     "name": "stdout",
     "output_type": "stream",
     "text": [
      "Converting prediction from <class 'numpy.float32'> to uint8, using threshold of 0.5\n",
      "File already analysed! /media/nkd/data18931/ndwi_int8_13001_18931/ndwi_int8_17409.tif\n",
      "/media/nkd/data18931/ndwi_int8_13001_18931/ndwi_int8_17410.tif\n",
      "the size of current NDWI_img 11355 11356\n"
     ]
    },
    {
     "name": "stderr",
     "output_type": "stream",
     "text": [
      "900it [00:40, 22.08it/s]\n"
     ]
    },
    {
     "name": "stdout",
     "output_type": "stream",
     "text": [
      "Converting prediction from <class 'numpy.float32'> to uint8, using threshold of 0.5\n",
      "File already analysed! /media/nkd/data18931/ndwi_int8_13001_18931/ndwi_int8_17410.tif\n",
      "/media/nkd/data18931/ndwi_int8_13001_18931/ndwi_int8_17411.tif\n",
      "the size of current NDWI_img 11355 11356\n"
     ]
    },
    {
     "name": "stderr",
     "output_type": "stream",
     "text": [
      "900it [00:45, 19.63it/s]\n"
     ]
    },
    {
     "name": "stdout",
     "output_type": "stream",
     "text": [
      "Converting prediction from <class 'numpy.float32'> to uint8, using threshold of 0.5\n",
      "File already analysed! /media/nkd/data18931/ndwi_int8_13001_18931/ndwi_int8_17411.tif\n",
      "/media/nkd/data18931/ndwi_int8_13001_18931/ndwi_int8_17412.tif\n",
      "the size of current NDWI_img 11356 11356\n"
     ]
    },
    {
     "name": "stderr",
     "output_type": "stream",
     "text": [
      "900it [00:51, 17.33it/s]\n"
     ]
    },
    {
     "name": "stdout",
     "output_type": "stream",
     "text": [
      "Converting prediction from <class 'numpy.float32'> to uint8, using threshold of 0.5\n",
      "File already analysed! /media/nkd/data18931/ndwi_int8_13001_18931/ndwi_int8_17412.tif\n",
      "/media/nkd/data18931/ndwi_int8_13001_18931/ndwi_int8_17413.tif\n",
      "the size of current NDWI_img 11356 11356\n"
     ]
    },
    {
     "name": "stderr",
     "output_type": "stream",
     "text": [
      "900it [00:55, 16.34it/s]\n"
     ]
    },
    {
     "name": "stdout",
     "output_type": "stream",
     "text": [
      "Converting prediction from <class 'numpy.float32'> to uint8, using threshold of 0.5\n",
      "File already analysed! /media/nkd/data18931/ndwi_int8_13001_18931/ndwi_int8_17413.tif\n",
      "/media/nkd/data18931/ndwi_int8_13001_18931/ndwi_int8_17414.tif\n",
      "the size of current NDWI_img 11356 11356\n"
     ]
    },
    {
     "name": "stderr",
     "output_type": "stream",
     "text": [
      "900it [00:57, 15.77it/s]\n"
     ]
    },
    {
     "name": "stdout",
     "output_type": "stream",
     "text": [
      "Converting prediction from <class 'numpy.float32'> to uint8, using threshold of 0.5\n",
      "File already analysed! /media/nkd/data18931/ndwi_int8_13001_18931/ndwi_int8_17414.tif\n",
      "/media/nkd/data18931/ndwi_int8_13001_18931/ndwi_int8_17415.tif\n",
      "the size of current NDWI_img 11356 11356\n"
     ]
    },
    {
     "name": "stderr",
     "output_type": "stream",
     "text": [
      "900it [01:08, 13.11it/s]\n"
     ]
    },
    {
     "name": "stdout",
     "output_type": "stream",
     "text": [
      "Converting prediction from <class 'numpy.float32'> to uint8, using threshold of 0.5\n",
      "File already analysed! /media/nkd/data18931/ndwi_int8_13001_18931/ndwi_int8_17415.tif\n",
      "/media/nkd/data18931/ndwi_int8_13001_18931/ndwi_int8_17416.tif\n",
      "the size of current NDWI_img 11356 11356\n"
     ]
    },
    {
     "name": "stderr",
     "output_type": "stream",
     "text": [
      "900it [01:12, 12.45it/s]\n"
     ]
    },
    {
     "name": "stdout",
     "output_type": "stream",
     "text": [
      "Converting prediction from <class 'numpy.float32'> to uint8, using threshold of 0.5\n",
      "File already analysed! /media/nkd/data18931/ndwi_int8_13001_18931/ndwi_int8_17416.tif\n",
      "/media/nkd/data18931/ndwi_int8_13001_18931/ndwi_int8_17417.tif\n",
      "the size of current NDWI_img 11355 11356\n"
     ]
    },
    {
     "name": "stderr",
     "output_type": "stream",
     "text": [
      "900it [00:42, 21.15it/s]\n"
     ]
    },
    {
     "name": "stdout",
     "output_type": "stream",
     "text": [
      "Converting prediction from <class 'numpy.float32'> to uint8, using threshold of 0.5\n",
      "File already analysed! /media/nkd/data18931/ndwi_int8_13001_18931/ndwi_int8_17417.tif\n",
      "/media/nkd/data18931/ndwi_int8_13001_18931/ndwi_int8_17418.tif\n",
      "the size of current NDWI_img 11355 11356\n"
     ]
    },
    {
     "name": "stderr",
     "output_type": "stream",
     "text": [
      "900it [00:55, 16.30it/s]\n"
     ]
    },
    {
     "name": "stdout",
     "output_type": "stream",
     "text": [
      "Converting prediction from <class 'numpy.float32'> to uint8, using threshold of 0.5\n",
      "File already analysed! /media/nkd/data18931/ndwi_int8_13001_18931/ndwi_int8_17418.tif\n",
      "/media/nkd/data18931/ndwi_int8_13001_18931/ndwi_int8_17419.tif\n",
      "the size of current NDWI_img 11355 11356\n"
     ]
    },
    {
     "name": "stderr",
     "output_type": "stream",
     "text": [
      "900it [01:03, 14.19it/s]\n"
     ]
    },
    {
     "name": "stdout",
     "output_type": "stream",
     "text": [
      "Converting prediction from <class 'numpy.float32'> to uint8, using threshold of 0.5\n",
      "File already analysed! /media/nkd/data18931/ndwi_int8_13001_18931/ndwi_int8_17419.tif\n",
      "/media/nkd/data18931/ndwi_int8_13001_18931/ndwi_int8_17420.tif\n",
      "the size of current NDWI_img 11355 11356\n"
     ]
    },
    {
     "name": "stderr",
     "output_type": "stream",
     "text": [
      "900it [01:03, 14.13it/s]\n"
     ]
    },
    {
     "name": "stdout",
     "output_type": "stream",
     "text": [
      "Converting prediction from <class 'numpy.float32'> to uint8, using threshold of 0.5\n",
      "File already analysed! /media/nkd/data18931/ndwi_int8_13001_18931/ndwi_int8_17420.tif\n",
      "/media/nkd/data18931/ndwi_int8_13001_18931/ndwi_int8_17421.tif\n",
      "the size of current NDWI_img 11356 11356\n"
     ]
    },
    {
     "name": "stderr",
     "output_type": "stream",
     "text": [
      "900it [01:04, 13.95it/s]\n"
     ]
    },
    {
     "name": "stdout",
     "output_type": "stream",
     "text": [
      "Converting prediction from <class 'numpy.float32'> to uint8, using threshold of 0.5\n",
      "File already analysed! /media/nkd/data18931/ndwi_int8_13001_18931/ndwi_int8_17421.tif\n",
      "/media/nkd/data18931/ndwi_int8_13001_18931/ndwi_int8_17422.tif\n",
      "the size of current NDWI_img 11356 11356\n"
     ]
    },
    {
     "name": "stderr",
     "output_type": "stream",
     "text": [
      "900it [01:04, 13.97it/s]\n"
     ]
    },
    {
     "name": "stdout",
     "output_type": "stream",
     "text": [
      "Converting prediction from <class 'numpy.float32'> to uint8, using threshold of 0.5\n",
      "File already analysed! /media/nkd/data18931/ndwi_int8_13001_18931/ndwi_int8_17422.tif\n",
      "/media/nkd/data18931/ndwi_int8_13001_18931/ndwi_int8_17423.tif\n",
      "the size of current NDWI_img 11356 11356\n"
     ]
    },
    {
     "name": "stderr",
     "output_type": "stream",
     "text": [
      "900it [01:11, 12.58it/s]\n"
     ]
    },
    {
     "name": "stdout",
     "output_type": "stream",
     "text": [
      "Converting prediction from <class 'numpy.float32'> to uint8, using threshold of 0.5\n",
      "File already analysed! /media/nkd/data18931/ndwi_int8_13001_18931/ndwi_int8_17423.tif\n",
      "/media/nkd/data18931/ndwi_int8_13001_18931/ndwi_int8_17424.tif\n",
      "the size of current NDWI_img 11356 11356\n"
     ]
    },
    {
     "name": "stderr",
     "output_type": "stream",
     "text": [
      "900it [01:14, 12.15it/s]\n"
     ]
    },
    {
     "name": "stdout",
     "output_type": "stream",
     "text": [
      "Converting prediction from <class 'numpy.float32'> to uint8, using threshold of 0.5\n",
      "File already analysed! /media/nkd/data18931/ndwi_int8_13001_18931/ndwi_int8_17424.tif\n",
      "/media/nkd/data18931/ndwi_int8_13001_18931/ndwi_int8_17425.tif\n",
      "the size of current NDWI_img 11356 11356\n"
     ]
    },
    {
     "name": "stderr",
     "output_type": "stream",
     "text": [
      "900it [01:14, 12.10it/s]\n"
     ]
    },
    {
     "name": "stdout",
     "output_type": "stream",
     "text": [
      "Converting prediction from <class 'numpy.float32'> to uint8, using threshold of 0.5\n",
      "File already analysed! /media/nkd/data18931/ndwi_int8_13001_18931/ndwi_int8_17425.tif\n",
      "/media/nkd/data18931/ndwi_int8_13001_18931/ndwi_int8_17426.tif\n",
      "the size of current NDWI_img 11355 11356\n"
     ]
    },
    {
     "name": "stderr",
     "output_type": "stream",
     "text": [
      "900it [00:41, 21.65it/s]\n"
     ]
    },
    {
     "name": "stdout",
     "output_type": "stream",
     "text": [
      "Converting prediction from <class 'numpy.float32'> to uint8, using threshold of 0.5\n",
      "File already analysed! /media/nkd/data18931/ndwi_int8_13001_18931/ndwi_int8_17426.tif\n",
      "/media/nkd/data18931/ndwi_int8_13001_18931/ndwi_int8_17427.tif\n",
      "the size of current NDWI_img 11355 11356\n"
     ]
    },
    {
     "name": "stderr",
     "output_type": "stream",
     "text": [
      "900it [00:58, 15.49it/s]\n"
     ]
    },
    {
     "name": "stdout",
     "output_type": "stream",
     "text": [
      "Converting prediction from <class 'numpy.float32'> to uint8, using threshold of 0.5\n",
      "File already analysed! /media/nkd/data18931/ndwi_int8_13001_18931/ndwi_int8_17427.tif\n",
      "/media/nkd/data18931/ndwi_int8_13001_18931/ndwi_int8_17428.tif\n",
      "the size of current NDWI_img 11355 11356\n"
     ]
    },
    {
     "name": "stderr",
     "output_type": "stream",
     "text": [
      "900it [01:07, 13.25it/s]\n"
     ]
    },
    {
     "name": "stdout",
     "output_type": "stream",
     "text": [
      "Converting prediction from <class 'numpy.float32'> to uint8, using threshold of 0.5\n",
      "File already analysed! /media/nkd/data18931/ndwi_int8_13001_18931/ndwi_int8_17428.tif\n",
      "/media/nkd/data18931/ndwi_int8_13001_18931/ndwi_int8_17429.tif\n",
      "the size of current NDWI_img 11355 11356\n"
     ]
    },
    {
     "name": "stderr",
     "output_type": "stream",
     "text": [
      "900it [01:07, 13.24it/s]\n"
     ]
    },
    {
     "name": "stdout",
     "output_type": "stream",
     "text": [
      "Converting prediction from <class 'numpy.float32'> to uint8, using threshold of 0.5\n",
      "File already analysed! /media/nkd/data18931/ndwi_int8_13001_18931/ndwi_int8_17429.tif\n",
      "/media/nkd/data18931/ndwi_int8_13001_18931/ndwi_int8_17430.tif\n",
      "the size of current NDWI_img 11355 11356\n"
     ]
    },
    {
     "name": "stderr",
     "output_type": "stream",
     "text": [
      "900it [01:07, 13.31it/s]\n"
     ]
    },
    {
     "name": "stdout",
     "output_type": "stream",
     "text": [
      "Converting prediction from <class 'numpy.float32'> to uint8, using threshold of 0.5\n",
      "File already analysed! /media/nkd/data18931/ndwi_int8_13001_18931/ndwi_int8_17430.tif\n",
      "/media/nkd/data18931/ndwi_int8_13001_18931/ndwi_int8_17431.tif\n",
      "the size of current NDWI_img 11356 11356\n"
     ]
    },
    {
     "name": "stderr",
     "output_type": "stream",
     "text": [
      "900it [01:12, 12.46it/s]\n"
     ]
    },
    {
     "name": "stdout",
     "output_type": "stream",
     "text": [
      "Converting prediction from <class 'numpy.float32'> to uint8, using threshold of 0.5\n",
      "File already analysed! /media/nkd/data18931/ndwi_int8_13001_18931/ndwi_int8_17431.tif\n",
      "/media/nkd/data18931/ndwi_int8_13001_18931/ndwi_int8_17432.tif\n",
      "the size of current NDWI_img 11356 11356\n"
     ]
    },
    {
     "name": "stderr",
     "output_type": "stream",
     "text": [
      "900it [01:14, 12.16it/s]\n"
     ]
    },
    {
     "name": "stdout",
     "output_type": "stream",
     "text": [
      "Converting prediction from <class 'numpy.float32'> to uint8, using threshold of 0.5\n",
      "File already analysed! /media/nkd/data18931/ndwi_int8_13001_18931/ndwi_int8_17432.tif\n",
      "/media/nkd/data18931/ndwi_int8_13001_18931/ndwi_int8_17433.tif\n",
      "the size of current NDWI_img 11356 11356\n"
     ]
    },
    {
     "name": "stderr",
     "output_type": "stream",
     "text": [
      "900it [01:12, 12.33it/s]\n"
     ]
    },
    {
     "name": "stdout",
     "output_type": "stream",
     "text": [
      "Converting prediction from <class 'numpy.float32'> to uint8, using threshold of 0.5\n",
      "File already analysed! /media/nkd/data18931/ndwi_int8_13001_18931/ndwi_int8_17433.tif\n",
      "/media/nkd/data18931/ndwi_int8_13001_18931/ndwi_int8_17434.tif\n",
      "the size of current NDWI_img 11356 11356\n"
     ]
    },
    {
     "name": "stderr",
     "output_type": "stream",
     "text": [
      "900it [01:12, 12.34it/s]\n"
     ]
    },
    {
     "name": "stdout",
     "output_type": "stream",
     "text": [
      "Converting prediction from <class 'numpy.float32'> to uint8, using threshold of 0.5\n",
      "File already analysed! /media/nkd/data18931/ndwi_int8_13001_18931/ndwi_int8_17434.tif\n",
      "/media/nkd/data18931/ndwi_int8_13001_18931/ndwi_int8_17435.tif\n",
      "the size of current NDWI_img 11356 11356\n"
     ]
    },
    {
     "name": "stderr",
     "output_type": "stream",
     "text": [
      "900it [01:11, 12.60it/s]\n"
     ]
    },
    {
     "name": "stdout",
     "output_type": "stream",
     "text": [
      "Converting prediction from <class 'numpy.float32'> to uint8, using threshold of 0.5\n",
      "File already analysed! /media/nkd/data18931/ndwi_int8_13001_18931/ndwi_int8_17435.tif\n",
      "/media/nkd/data18931/ndwi_int8_13001_18931/ndwi_int8_17436.tif\n",
      "the size of current NDWI_img 11355 11356\n"
     ]
    },
    {
     "name": "stderr",
     "output_type": "stream",
     "text": [
      "900it [01:11, 12.63it/s]\n"
     ]
    },
    {
     "name": "stdout",
     "output_type": "stream",
     "text": [
      "Converting prediction from <class 'numpy.float32'> to uint8, using threshold of 0.5\n",
      "File already analysed! /media/nkd/data18931/ndwi_int8_13001_18931/ndwi_int8_17436.tif\n",
      "/media/nkd/data18931/ndwi_int8_13001_18931/ndwi_int8_17437.tif\n",
      "the size of current NDWI_img 11355 11356\n"
     ]
    },
    {
     "name": "stderr",
     "output_type": "stream",
     "text": [
      "900it [01:11, 12.61it/s]\n"
     ]
    },
    {
     "name": "stdout",
     "output_type": "stream",
     "text": [
      "Converting prediction from <class 'numpy.float32'> to uint8, using threshold of 0.5\n",
      "File already analysed! /media/nkd/data18931/ndwi_int8_13001_18931/ndwi_int8_17437.tif\n",
      "/media/nkd/data18931/ndwi_int8_13001_18931/ndwi_int8_17438.tif\n",
      "the size of current NDWI_img 11355 11356\n"
     ]
    },
    {
     "name": "stderr",
     "output_type": "stream",
     "text": [
      "900it [01:11, 12.52it/s]\n"
     ]
    },
    {
     "name": "stdout",
     "output_type": "stream",
     "text": [
      "Converting prediction from <class 'numpy.float32'> to uint8, using threshold of 0.5\n",
      "File already analysed! /media/nkd/data18931/ndwi_int8_13001_18931/ndwi_int8_17438.tif\n",
      "/media/nkd/data18931/ndwi_int8_13001_18931/ndwi_int8_17439.tif\n",
      "the size of current NDWI_img 11355 11356\n"
     ]
    },
    {
     "name": "stderr",
     "output_type": "stream",
     "text": [
      "900it [01:11, 12.51it/s]\n"
     ]
    },
    {
     "name": "stdout",
     "output_type": "stream",
     "text": [
      "Converting prediction from <class 'numpy.float32'> to uint8, using threshold of 0.5\n",
      "File already analysed! /media/nkd/data18931/ndwi_int8_13001_18931/ndwi_int8_17439.tif\n",
      "/media/nkd/data18931/ndwi_int8_13001_18931/ndwi_int8_17440.tif\n",
      "the size of current NDWI_img 11355 11356\n"
     ]
    },
    {
     "name": "stderr",
     "output_type": "stream",
     "text": [
      "900it [01:04, 13.90it/s]\n"
     ]
    },
    {
     "name": "stdout",
     "output_type": "stream",
     "text": [
      "Converting prediction from <class 'numpy.float32'> to uint8, using threshold of 0.5\n",
      "File already analysed! /media/nkd/data18931/ndwi_int8_13001_18931/ndwi_int8_17440.tif\n",
      "/media/nkd/data18931/ndwi_int8_13001_18931/ndwi_int8_17441.tif\n",
      "the size of current NDWI_img 11356 11356\n"
     ]
    },
    {
     "name": "stderr",
     "output_type": "stream",
     "text": [
      "900it [01:04, 13.99it/s]\n"
     ]
    },
    {
     "name": "stdout",
     "output_type": "stream",
     "text": [
      "Converting prediction from <class 'numpy.float32'> to uint8, using threshold of 0.5\n",
      "File already analysed! /media/nkd/data18931/ndwi_int8_13001_18931/ndwi_int8_17441.tif\n",
      "/media/nkd/data18931/ndwi_int8_13001_18931/ndwi_int8_17442.tif\n",
      "the size of current NDWI_img 11356 11356\n"
     ]
    },
    {
     "name": "stderr",
     "output_type": "stream",
     "text": [
      "900it [01:12, 12.44it/s]\n"
     ]
    },
    {
     "name": "stdout",
     "output_type": "stream",
     "text": [
      "Converting prediction from <class 'numpy.float32'> to uint8, using threshold of 0.5\n",
      "File already analysed! /media/nkd/data18931/ndwi_int8_13001_18931/ndwi_int8_17442.tif\n",
      "/media/nkd/data18931/ndwi_int8_13001_18931/ndwi_int8_17443.tif\n",
      "the size of current NDWI_img 11356 11356\n"
     ]
    },
    {
     "name": "stderr",
     "output_type": "stream",
     "text": [
      "900it [01:11, 12.55it/s]\n"
     ]
    },
    {
     "name": "stdout",
     "output_type": "stream",
     "text": [
      "Converting prediction from <class 'numpy.float32'> to uint8, using threshold of 0.5\n",
      "File already analysed! /media/nkd/data18931/ndwi_int8_13001_18931/ndwi_int8_17443.tif\n",
      "/media/nkd/data18931/ndwi_int8_13001_18931/ndwi_int8_17444.tif\n",
      "the size of current NDWI_img 11356 11356\n"
     ]
    },
    {
     "name": "stderr",
     "output_type": "stream",
     "text": [
      "900it [01:08, 13.11it/s]\n"
     ]
    },
    {
     "name": "stdout",
     "output_type": "stream",
     "text": [
      "Converting prediction from <class 'numpy.float32'> to uint8, using threshold of 0.5\n",
      "File already analysed! /media/nkd/data18931/ndwi_int8_13001_18931/ndwi_int8_17444.tif\n",
      "/media/nkd/data18931/ndwi_int8_13001_18931/ndwi_int8_17445.tif\n",
      "the size of current NDWI_img 11356 11356\n"
     ]
    },
    {
     "name": "stderr",
     "output_type": "stream",
     "text": [
      "900it [01:10, 12.83it/s]\n"
     ]
    },
    {
     "name": "stdout",
     "output_type": "stream",
     "text": [
      "Converting prediction from <class 'numpy.float32'> to uint8, using threshold of 0.5\n",
      "File already analysed! /media/nkd/data18931/ndwi_int8_13001_18931/ndwi_int8_17445.tif\n",
      "/media/nkd/data18931/ndwi_int8_13001_18931/ndwi_int8_17446.tif\n",
      "the size of current NDWI_img 11355 11356\n"
     ]
    },
    {
     "name": "stderr",
     "output_type": "stream",
     "text": [
      "900it [01:08, 13.12it/s]\n"
     ]
    },
    {
     "name": "stdout",
     "output_type": "stream",
     "text": [
      "Converting prediction from <class 'numpy.float32'> to uint8, using threshold of 0.5\n",
      "File already analysed! /media/nkd/data18931/ndwi_int8_13001_18931/ndwi_int8_17446.tif\n",
      "/media/nkd/data18931/ndwi_int8_13001_18931/ndwi_int8_17447.tif\n",
      "the size of current NDWI_img 11355 11356\n"
     ]
    },
    {
     "name": "stderr",
     "output_type": "stream",
     "text": [
      "900it [01:11, 12.55it/s]\n"
     ]
    },
    {
     "name": "stdout",
     "output_type": "stream",
     "text": [
      "Converting prediction from <class 'numpy.float32'> to uint8, using threshold of 0.5\n",
      "File already analysed! /media/nkd/data18931/ndwi_int8_13001_18931/ndwi_int8_17447.tif\n",
      "/media/nkd/data18931/ndwi_int8_13001_18931/ndwi_int8_17448.tif\n",
      "the size of current NDWI_img 11355 11356\n"
     ]
    },
    {
     "name": "stderr",
     "output_type": "stream",
     "text": [
      "900it [01:12, 12.44it/s]\n"
     ]
    },
    {
     "name": "stdout",
     "output_type": "stream",
     "text": [
      "Converting prediction from <class 'numpy.float32'> to uint8, using threshold of 0.5\n",
      "File already analysed! /media/nkd/data18931/ndwi_int8_13001_18931/ndwi_int8_17448.tif\n",
      "/media/nkd/data18931/ndwi_int8_13001_18931/ndwi_int8_17449.tif\n",
      "the size of current NDWI_img 11355 11356\n"
     ]
    },
    {
     "name": "stderr",
     "output_type": "stream",
     "text": [
      "900it [01:12, 12.41it/s]\n"
     ]
    },
    {
     "name": "stdout",
     "output_type": "stream",
     "text": [
      "Converting prediction from <class 'numpy.float32'> to uint8, using threshold of 0.5\n",
      "File already analysed! /media/nkd/data18931/ndwi_int8_13001_18931/ndwi_int8_17449.tif\n",
      "/media/nkd/data18931/ndwi_int8_13001_18931/ndwi_int8_17450.tif\n",
      "the size of current NDWI_img 11355 11356\n"
     ]
    },
    {
     "name": "stderr",
     "output_type": "stream",
     "text": [
      "900it [01:11, 12.63it/s]\n"
     ]
    },
    {
     "name": "stdout",
     "output_type": "stream",
     "text": [
      "Converting prediction from <class 'numpy.float32'> to uint8, using threshold of 0.5\n",
      "File already analysed! /media/nkd/data18931/ndwi_int8_13001_18931/ndwi_int8_17450.tif\n",
      "/media/nkd/data18931/ndwi_int8_13001_18931/ndwi_int8_17451.tif\n",
      "the size of current NDWI_img 11356 11356\n"
     ]
    },
    {
     "name": "stderr",
     "output_type": "stream",
     "text": [
      "900it [01:10, 12.74it/s]\n"
     ]
    },
    {
     "name": "stdout",
     "output_type": "stream",
     "text": [
      "Converting prediction from <class 'numpy.float32'> to uint8, using threshold of 0.5\n",
      "File already analysed! /media/nkd/data18931/ndwi_int8_13001_18931/ndwi_int8_17451.tif\n",
      "/media/nkd/data18931/ndwi_int8_13001_18931/ndwi_int8_17452.tif\n",
      "the size of current NDWI_img 11356 11356\n"
     ]
    },
    {
     "name": "stderr",
     "output_type": "stream",
     "text": [
      "900it [01:08, 13.13it/s]\n"
     ]
    },
    {
     "name": "stdout",
     "output_type": "stream",
     "text": [
      "Converting prediction from <class 'numpy.float32'> to uint8, using threshold of 0.5\n",
      "File already analysed! /media/nkd/data18931/ndwi_int8_13001_18931/ndwi_int8_17452.tif\n",
      "/media/nkd/data18931/ndwi_int8_13001_18931/ndwi_int8_17453.tif\n",
      "the size of current NDWI_img 11356 11356\n"
     ]
    },
    {
     "name": "stderr",
     "output_type": "stream",
     "text": [
      "900it [01:07, 13.42it/s]\n"
     ]
    },
    {
     "name": "stdout",
     "output_type": "stream",
     "text": [
      "Converting prediction from <class 'numpy.float32'> to uint8, using threshold of 0.5\n",
      "File already analysed! /media/nkd/data18931/ndwi_int8_13001_18931/ndwi_int8_17453.tif\n",
      "/media/nkd/data18931/ndwi_int8_13001_18931/ndwi_int8_17454.tif\n",
      "the size of current NDWI_img 11356 11356\n"
     ]
    },
    {
     "name": "stderr",
     "output_type": "stream",
     "text": [
      "900it [01:07, 13.31it/s]\n"
     ]
    },
    {
     "name": "stdout",
     "output_type": "stream",
     "text": [
      "Converting prediction from <class 'numpy.float32'> to uint8, using threshold of 0.5\n",
      "File already analysed! /media/nkd/data18931/ndwi_int8_13001_18931/ndwi_int8_17454.tif\n",
      "/media/nkd/data18931/ndwi_int8_13001_18931/ndwi_int8_17455.tif\n",
      "the size of current NDWI_img 11356 11356\n"
     ]
    },
    {
     "name": "stderr",
     "output_type": "stream",
     "text": [
      "900it [01:09, 12.89it/s]\n"
     ]
    },
    {
     "name": "stdout",
     "output_type": "stream",
     "text": [
      "Converting prediction from <class 'numpy.float32'> to uint8, using threshold of 0.5\n",
      "File already analysed! /media/nkd/data18931/ndwi_int8_13001_18931/ndwi_int8_17455.tif\n",
      "/media/nkd/data18931/ndwi_int8_13001_18931/ndwi_int8_17456.tif\n",
      "the size of current NDWI_img 11355 11356\n"
     ]
    },
    {
     "name": "stderr",
     "output_type": "stream",
     "text": [
      "900it [01:08, 13.17it/s]\n"
     ]
    },
    {
     "name": "stdout",
     "output_type": "stream",
     "text": [
      "Converting prediction from <class 'numpy.float32'> to uint8, using threshold of 0.5\n",
      "File already analysed! /media/nkd/data18931/ndwi_int8_13001_18931/ndwi_int8_17456.tif\n",
      "/media/nkd/data18931/ndwi_int8_13001_18931/ndwi_int8_17457.tif\n",
      "the size of current NDWI_img 11355 11356\n"
     ]
    },
    {
     "name": "stderr",
     "output_type": "stream",
     "text": [
      "900it [01:12, 12.36it/s]\n"
     ]
    },
    {
     "name": "stdout",
     "output_type": "stream",
     "text": [
      "Converting prediction from <class 'numpy.float32'> to uint8, using threshold of 0.5\n",
      "File already analysed! /media/nkd/data18931/ndwi_int8_13001_18931/ndwi_int8_17457.tif\n",
      "/media/nkd/data18931/ndwi_int8_13001_18931/ndwi_int8_17458.tif\n",
      "the size of current NDWI_img 11355 11356\n"
     ]
    },
    {
     "name": "stderr",
     "output_type": "stream",
     "text": [
      "900it [01:08, 13.06it/s]\n"
     ]
    },
    {
     "name": "stdout",
     "output_type": "stream",
     "text": [
      "Converting prediction from <class 'numpy.float32'> to uint8, using threshold of 0.5\n",
      "File already analysed! /media/nkd/data18931/ndwi_int8_13001_18931/ndwi_int8_17458.tif\n",
      "/media/nkd/data18931/ndwi_int8_13001_18931/ndwi_int8_17459.tif\n",
      "the size of current NDWI_img 11355 11356\n"
     ]
    },
    {
     "name": "stderr",
     "output_type": "stream",
     "text": [
      "900it [01:09, 13.04it/s]\n"
     ]
    },
    {
     "name": "stdout",
     "output_type": "stream",
     "text": [
      "Converting prediction from <class 'numpy.float32'> to uint8, using threshold of 0.5\n",
      "File already analysed! /media/nkd/data18931/ndwi_int8_13001_18931/ndwi_int8_17459.tif\n",
      "/media/nkd/data18931/ndwi_int8_13001_18931/ndwi_int8_17460.tif\n",
      "the size of current NDWI_img 11355 11356\n"
     ]
    },
    {
     "name": "stderr",
     "output_type": "stream",
     "text": [
      "900it [01:10, 12.69it/s]\n"
     ]
    },
    {
     "name": "stdout",
     "output_type": "stream",
     "text": [
      "Converting prediction from <class 'numpy.float32'> to uint8, using threshold of 0.5\n",
      "File already analysed! /media/nkd/data18931/ndwi_int8_13001_18931/ndwi_int8_17460.tif\n",
      "/media/nkd/data18931/ndwi_int8_13001_18931/ndwi_int8_17461.tif\n",
      "the size of current NDWI_img 11356 11356\n"
     ]
    },
    {
     "name": "stderr",
     "output_type": "stream",
     "text": [
      "900it [01:13, 12.21it/s]\n"
     ]
    },
    {
     "name": "stdout",
     "output_type": "stream",
     "text": [
      "Converting prediction from <class 'numpy.float32'> to uint8, using threshold of 0.5\n",
      "File already analysed! /media/nkd/data18931/ndwi_int8_13001_18931/ndwi_int8_17461.tif\n",
      "/media/nkd/data18931/ndwi_int8_13001_18931/ndwi_int8_17462.tif\n",
      "the size of current NDWI_img 11356 11356\n"
     ]
    },
    {
     "name": "stderr",
     "output_type": "stream",
     "text": [
      "900it [01:12, 12.37it/s]\n"
     ]
    },
    {
     "name": "stdout",
     "output_type": "stream",
     "text": [
      "Converting prediction from <class 'numpy.float32'> to uint8, using threshold of 0.5\n",
      "File already analysed! /media/nkd/data18931/ndwi_int8_13001_18931/ndwi_int8_17462.tif\n",
      "/media/nkd/data18931/ndwi_int8_13001_18931/ndwi_int8_17463.tif\n",
      "the size of current NDWI_img 11356 11356\n"
     ]
    },
    {
     "name": "stderr",
     "output_type": "stream",
     "text": [
      "900it [01:10, 12.75it/s]\n"
     ]
    },
    {
     "name": "stdout",
     "output_type": "stream",
     "text": [
      "Converting prediction from <class 'numpy.float32'> to uint8, using threshold of 0.5\n",
      "File already analysed! /media/nkd/data18931/ndwi_int8_13001_18931/ndwi_int8_17463.tif\n",
      "/media/nkd/data18931/ndwi_int8_13001_18931/ndwi_int8_17464.tif\n",
      "the size of current NDWI_img 11356 11356\n"
     ]
    },
    {
     "name": "stderr",
     "output_type": "stream",
     "text": [
      "900it [01:11, 12.62it/s]\n"
     ]
    },
    {
     "name": "stdout",
     "output_type": "stream",
     "text": [
      "Converting prediction from <class 'numpy.float32'> to uint8, using threshold of 0.5\n",
      "File already analysed! /media/nkd/data18931/ndwi_int8_13001_18931/ndwi_int8_17464.tif\n",
      "/media/nkd/data18931/ndwi_int8_13001_18931/ndwi_int8_17465.tif\n",
      "the size of current NDWI_img 11356 11356\n"
     ]
    },
    {
     "name": "stderr",
     "output_type": "stream",
     "text": [
      "900it [01:09, 12.91it/s]\n"
     ]
    },
    {
     "name": "stdout",
     "output_type": "stream",
     "text": [
      "Converting prediction from <class 'numpy.float32'> to uint8, using threshold of 0.5\n",
      "File already analysed! /media/nkd/data18931/ndwi_int8_13001_18931/ndwi_int8_17465.tif\n",
      "/media/nkd/data18931/ndwi_int8_13001_18931/ndwi_int8_17466.tif\n",
      "the size of current NDWI_img 11355 11356\n"
     ]
    },
    {
     "name": "stderr",
     "output_type": "stream",
     "text": [
      "900it [01:12, 12.47it/s]\n"
     ]
    },
    {
     "name": "stdout",
     "output_type": "stream",
     "text": [
      "Converting prediction from <class 'numpy.float32'> to uint8, using threshold of 0.5\n",
      "File already analysed! /media/nkd/data18931/ndwi_int8_13001_18931/ndwi_int8_17466.tif\n",
      "/media/nkd/data18931/ndwi_int8_13001_18931/ndwi_int8_17467.tif\n",
      "the size of current NDWI_img 11355 11356\n"
     ]
    },
    {
     "name": "stderr",
     "output_type": "stream",
     "text": [
      "900it [01:12, 12.48it/s]\n"
     ]
    },
    {
     "name": "stdout",
     "output_type": "stream",
     "text": [
      "Converting prediction from <class 'numpy.float32'> to uint8, using threshold of 0.5\n",
      "File already analysed! /media/nkd/data18931/ndwi_int8_13001_18931/ndwi_int8_17467.tif\n",
      "/media/nkd/data18931/ndwi_int8_13001_18931/ndwi_int8_17468.tif\n",
      "the size of current NDWI_img 11355 11356\n"
     ]
    },
    {
     "name": "stderr",
     "output_type": "stream",
     "text": [
      "900it [01:08, 13.11it/s]\n"
     ]
    },
    {
     "name": "stdout",
     "output_type": "stream",
     "text": [
      "Converting prediction from <class 'numpy.float32'> to uint8, using threshold of 0.5\n",
      "File already analysed! /media/nkd/data18931/ndwi_int8_13001_18931/ndwi_int8_17468.tif\n",
      "/media/nkd/data18931/ndwi_int8_13001_18931/ndwi_int8_17469.tif\n",
      "the size of current NDWI_img 11355 11356\n"
     ]
    },
    {
     "name": "stderr",
     "output_type": "stream",
     "text": [
      "900it [01:10, 12.81it/s]\n"
     ]
    },
    {
     "name": "stdout",
     "output_type": "stream",
     "text": [
      "Converting prediction from <class 'numpy.float32'> to uint8, using threshold of 0.5\n",
      "File already analysed! /media/nkd/data18931/ndwi_int8_13001_18931/ndwi_int8_17469.tif\n",
      "/media/nkd/data18931/ndwi_int8_13001_18931/ndwi_int8_17470.tif\n",
      "the size of current NDWI_img 11355 11356\n"
     ]
    },
    {
     "name": "stderr",
     "output_type": "stream",
     "text": [
      "900it [01:09, 12.99it/s]\n"
     ]
    },
    {
     "name": "stdout",
     "output_type": "stream",
     "text": [
      "Converting prediction from <class 'numpy.float32'> to uint8, using threshold of 0.5\n",
      "File already analysed! /media/nkd/data18931/ndwi_int8_13001_18931/ndwi_int8_17470.tif\n",
      "/media/nkd/data18931/ndwi_int8_13001_18931/ndwi_int8_17471.tif\n",
      "the size of current NDWI_img 11356 11356\n"
     ]
    },
    {
     "name": "stderr",
     "output_type": "stream",
     "text": [
      "900it [01:10, 12.79it/s]\n"
     ]
    },
    {
     "name": "stdout",
     "output_type": "stream",
     "text": [
      "Converting prediction from <class 'numpy.float32'> to uint8, using threshold of 0.5\n",
      "File already analysed! /media/nkd/data18931/ndwi_int8_13001_18931/ndwi_int8_17471.tif\n",
      "/media/nkd/data18931/ndwi_int8_13001_18931/ndwi_int8_17472.tif\n",
      "the size of current NDWI_img 11356 11356\n"
     ]
    },
    {
     "name": "stderr",
     "output_type": "stream",
     "text": [
      "900it [01:10, 12.70it/s]\n"
     ]
    },
    {
     "name": "stdout",
     "output_type": "stream",
     "text": [
      "Converting prediction from <class 'numpy.float32'> to uint8, using threshold of 0.5\n",
      "File already analysed! /media/nkd/data18931/ndwi_int8_13001_18931/ndwi_int8_17472.tif\n",
      "/media/nkd/data18931/ndwi_int8_13001_18931/ndwi_int8_17473.tif\n",
      "the size of current NDWI_img 11356 11356\n"
     ]
    },
    {
     "name": "stderr",
     "output_type": "stream",
     "text": [
      "900it [01:12, 12.46it/s]\n"
     ]
    },
    {
     "name": "stdout",
     "output_type": "stream",
     "text": [
      "Converting prediction from <class 'numpy.float32'> to uint8, using threshold of 0.5\n",
      "File already analysed! /media/nkd/data18931/ndwi_int8_13001_18931/ndwi_int8_17473.tif\n",
      "/media/nkd/data18931/ndwi_int8_13001_18931/ndwi_int8_17474.tif\n",
      "the size of current NDWI_img 11356 11356\n"
     ]
    },
    {
     "name": "stderr",
     "output_type": "stream",
     "text": [
      "900it [01:10, 12.84it/s]\n"
     ]
    },
    {
     "name": "stdout",
     "output_type": "stream",
     "text": [
      "Converting prediction from <class 'numpy.float32'> to uint8, using threshold of 0.5\n",
      "File already analysed! /media/nkd/data18931/ndwi_int8_13001_18931/ndwi_int8_17474.tif\n",
      "/media/nkd/data18931/ndwi_int8_13001_18931/ndwi_int8_17475.tif\n",
      "the size of current NDWI_img 11356 11356\n"
     ]
    },
    {
     "name": "stderr",
     "output_type": "stream",
     "text": [
      "900it [01:09, 13.01it/s]\n"
     ]
    },
    {
     "name": "stdout",
     "output_type": "stream",
     "text": [
      "Converting prediction from <class 'numpy.float32'> to uint8, using threshold of 0.5\n",
      "File already analysed! /media/nkd/data18931/ndwi_int8_13001_18931/ndwi_int8_17475.tif\n",
      "/media/nkd/data18931/ndwi_int8_13001_18931/ndwi_int8_17476.tif\n",
      "the size of current NDWI_img 11355 11356\n"
     ]
    },
    {
     "name": "stderr",
     "output_type": "stream",
     "text": [
      "900it [01:09, 12.97it/s]\n"
     ]
    },
    {
     "name": "stdout",
     "output_type": "stream",
     "text": [
      "Converting prediction from <class 'numpy.float32'> to uint8, using threshold of 0.5\n",
      "File already analysed! /media/nkd/data18931/ndwi_int8_13001_18931/ndwi_int8_17476.tif\n",
      "/media/nkd/data18931/ndwi_int8_13001_18931/ndwi_int8_17477.tif\n",
      "the size of current NDWI_img 11355 11356\n"
     ]
    },
    {
     "name": "stderr",
     "output_type": "stream",
     "text": [
      "900it [01:11, 12.58it/s]\n"
     ]
    },
    {
     "name": "stdout",
     "output_type": "stream",
     "text": [
      "Converting prediction from <class 'numpy.float32'> to uint8, using threshold of 0.5\n",
      "File already analysed! /media/nkd/data18931/ndwi_int8_13001_18931/ndwi_int8_17477.tif\n",
      "/media/nkd/data18931/ndwi_int8_13001_18931/ndwi_int8_17478.tif\n",
      "the size of current NDWI_img 11355 11356\n"
     ]
    },
    {
     "name": "stderr",
     "output_type": "stream",
     "text": [
      "900it [01:08, 13.12it/s]\n"
     ]
    },
    {
     "name": "stdout",
     "output_type": "stream",
     "text": [
      "Converting prediction from <class 'numpy.float32'> to uint8, using threshold of 0.5\n",
      "File already analysed! /media/nkd/data18931/ndwi_int8_13001_18931/ndwi_int8_17478.tif\n",
      "/media/nkd/data18931/ndwi_int8_13001_18931/ndwi_int8_17479.tif\n",
      "the size of current NDWI_img 11355 11356\n"
     ]
    },
    {
     "name": "stderr",
     "output_type": "stream",
     "text": [
      "900it [01:10, 12.71it/s]\n"
     ]
    },
    {
     "name": "stdout",
     "output_type": "stream",
     "text": [
      "Converting prediction from <class 'numpy.float32'> to uint8, using threshold of 0.5\n",
      "File already analysed! /media/nkd/data18931/ndwi_int8_13001_18931/ndwi_int8_17479.tif\n",
      "/media/nkd/data18931/ndwi_int8_13001_18931/ndwi_int8_17480.tif\n",
      "the size of current NDWI_img 11356 11356\n"
     ]
    },
    {
     "name": "stderr",
     "output_type": "stream",
     "text": [
      "900it [01:13, 12.32it/s]\n"
     ]
    },
    {
     "name": "stdout",
     "output_type": "stream",
     "text": [
      "Converting prediction from <class 'numpy.float32'> to uint8, using threshold of 0.5\n",
      "File already analysed! /media/nkd/data18931/ndwi_int8_13001_18931/ndwi_int8_17480.tif\n",
      "/media/nkd/data18931/ndwi_int8_13001_18931/ndwi_int8_17481.tif\n",
      "the size of current NDWI_img 11356 11356\n"
     ]
    },
    {
     "name": "stderr",
     "output_type": "stream",
     "text": [
      "900it [01:10, 12.81it/s]\n"
     ]
    },
    {
     "name": "stdout",
     "output_type": "stream",
     "text": [
      "Converting prediction from <class 'numpy.float32'> to uint8, using threshold of 0.5\n",
      "File already analysed! /media/nkd/data18931/ndwi_int8_13001_18931/ndwi_int8_17481.tif\n",
      "/media/nkd/data18931/ndwi_int8_13001_18931/ndwi_int8_17482.tif\n",
      "the size of current NDWI_img 11356 11356\n"
     ]
    },
    {
     "name": "stderr",
     "output_type": "stream",
     "text": [
      "900it [01:09, 13.02it/s]\n"
     ]
    },
    {
     "name": "stdout",
     "output_type": "stream",
     "text": [
      "Converting prediction from <class 'numpy.float32'> to uint8, using threshold of 0.5\n",
      "File already analysed! /media/nkd/data18931/ndwi_int8_13001_18931/ndwi_int8_17482.tif\n",
      "/media/nkd/data18931/ndwi_int8_13001_18931/ndwi_int8_17483.tif\n",
      "the size of current NDWI_img 11356 11356\n"
     ]
    },
    {
     "name": "stderr",
     "output_type": "stream",
     "text": [
      "900it [01:08, 13.10it/s]\n"
     ]
    },
    {
     "name": "stdout",
     "output_type": "stream",
     "text": [
      "Converting prediction from <class 'numpy.float32'> to uint8, using threshold of 0.5\n",
      "File already analysed! /media/nkd/data18931/ndwi_int8_13001_18931/ndwi_int8_17483.tif\n",
      "/media/nkd/data18931/ndwi_int8_13001_18931/ndwi_int8_17484.tif\n",
      "the size of current NDWI_img 11356 11356\n"
     ]
    },
    {
     "name": "stderr",
     "output_type": "stream",
     "text": [
      "900it [01:09, 13.02it/s]\n"
     ]
    },
    {
     "name": "stdout",
     "output_type": "stream",
     "text": [
      "Converting prediction from <class 'numpy.float32'> to uint8, using threshold of 0.5\n",
      "File already analysed! /media/nkd/data18931/ndwi_int8_13001_18931/ndwi_int8_17484.tif\n",
      "/media/nkd/data18931/ndwi_int8_13001_18931/ndwi_int8_17485.tif\n",
      "the size of current NDWI_img 11355 11356\n"
     ]
    },
    {
     "name": "stderr",
     "output_type": "stream",
     "text": [
      "900it [01:11, 12.55it/s]\n"
     ]
    },
    {
     "name": "stdout",
     "output_type": "stream",
     "text": [
      "Converting prediction from <class 'numpy.float32'> to uint8, using threshold of 0.5\n",
      "File already analysed! /media/nkd/data18931/ndwi_int8_13001_18931/ndwi_int8_17485.tif\n",
      "/media/nkd/data18931/ndwi_int8_13001_18931/ndwi_int8_17486.tif\n",
      "the size of current NDWI_img 11355 11356\n"
     ]
    },
    {
     "name": "stderr",
     "output_type": "stream",
     "text": [
      "900it [01:10, 12.84it/s]\n"
     ]
    },
    {
     "name": "stdout",
     "output_type": "stream",
     "text": [
      "Converting prediction from <class 'numpy.float32'> to uint8, using threshold of 0.5\n",
      "File already analysed! /media/nkd/data18931/ndwi_int8_13001_18931/ndwi_int8_17486.tif\n",
      "/media/nkd/data18931/ndwi_int8_13001_18931/ndwi_int8_17487.tif\n",
      "the size of current NDWI_img 11355 11356\n"
     ]
    },
    {
     "name": "stderr",
     "output_type": "stream",
     "text": [
      "900it [01:08, 13.14it/s]\n"
     ]
    },
    {
     "name": "stdout",
     "output_type": "stream",
     "text": [
      "Converting prediction from <class 'numpy.float32'> to uint8, using threshold of 0.5\n",
      "File already analysed! /media/nkd/data18931/ndwi_int8_13001_18931/ndwi_int8_17487.tif\n",
      "/media/nkd/data18931/ndwi_int8_13001_18931/ndwi_int8_17488.tif\n",
      "the size of current NDWI_img 11355 11356\n"
     ]
    },
    {
     "name": "stderr",
     "output_type": "stream",
     "text": [
      "900it [01:12, 12.49it/s]\n"
     ]
    },
    {
     "name": "stdout",
     "output_type": "stream",
     "text": [
      "Converting prediction from <class 'numpy.float32'> to uint8, using threshold of 0.5\n",
      "File already analysed! /media/nkd/data18931/ndwi_int8_13001_18931/ndwi_int8_17488.tif\n",
      "/media/nkd/data18931/ndwi_int8_13001_18931/ndwi_int8_17489.tif\n",
      "the size of current NDWI_img 11356 11356\n"
     ]
    },
    {
     "name": "stderr",
     "output_type": "stream",
     "text": [
      "900it [01:10, 12.73it/s]\n"
     ]
    },
    {
     "name": "stdout",
     "output_type": "stream",
     "text": [
      "Converting prediction from <class 'numpy.float32'> to uint8, using threshold of 0.5\n",
      "File already analysed! /media/nkd/data18931/ndwi_int8_13001_18931/ndwi_int8_17489.tif\n",
      "/media/nkd/data18931/ndwi_int8_13001_18931/ndwi_int8_17490.tif\n",
      "the size of current NDWI_img 11356 11356\n"
     ]
    },
    {
     "name": "stderr",
     "output_type": "stream",
     "text": [
      "900it [01:10, 12.69it/s]\n"
     ]
    },
    {
     "name": "stdout",
     "output_type": "stream",
     "text": [
      "Converting prediction from <class 'numpy.float32'> to uint8, using threshold of 0.5\n",
      "File already analysed! /media/nkd/data18931/ndwi_int8_13001_18931/ndwi_int8_17490.tif\n",
      "/media/nkd/data18931/ndwi_int8_13001_18931/ndwi_int8_17491.tif\n",
      "the size of current NDWI_img 11356 11356\n"
     ]
    },
    {
     "name": "stderr",
     "output_type": "stream",
     "text": [
      "900it [01:09, 12.95it/s]\n"
     ]
    },
    {
     "name": "stdout",
     "output_type": "stream",
     "text": [
      "Converting prediction from <class 'numpy.float32'> to uint8, using threshold of 0.5\n",
      "File already analysed! /media/nkd/data18931/ndwi_int8_13001_18931/ndwi_int8_17491.tif\n",
      "/media/nkd/data18931/ndwi_int8_13001_18931/ndwi_int8_17492.tif\n",
      "the size of current NDWI_img 11356 11356\n"
     ]
    },
    {
     "name": "stderr",
     "output_type": "stream",
     "text": [
      "900it [01:09, 12.91it/s]\n"
     ]
    },
    {
     "name": "stdout",
     "output_type": "stream",
     "text": [
      "Converting prediction from <class 'numpy.float32'> to uint8, using threshold of 0.5\n",
      "File already analysed! /media/nkd/data18931/ndwi_int8_13001_18931/ndwi_int8_17492.tif\n",
      "/media/nkd/data18931/ndwi_int8_13001_18931/ndwi_int8_17493.tif\n",
      "the size of current NDWI_img 11356 11356\n"
     ]
    },
    {
     "name": "stderr",
     "output_type": "stream",
     "text": [
      "900it [01:14, 12.04it/s]\n"
     ]
    },
    {
     "name": "stdout",
     "output_type": "stream",
     "text": [
      "Converting prediction from <class 'numpy.float32'> to uint8, using threshold of 0.5\n",
      "File already analysed! /media/nkd/data18931/ndwi_int8_13001_18931/ndwi_int8_17493.tif\n",
      "/media/nkd/data18931/ndwi_int8_13001_18931/ndwi_int8_17494.tif\n",
      "the size of current NDWI_img 11355 11356\n"
     ]
    },
    {
     "name": "stderr",
     "output_type": "stream",
     "text": [
      "900it [01:08, 13.06it/s]\n"
     ]
    },
    {
     "name": "stdout",
     "output_type": "stream",
     "text": [
      "Converting prediction from <class 'numpy.float32'> to uint8, using threshold of 0.5\n",
      "File already analysed! /media/nkd/data18931/ndwi_int8_13001_18931/ndwi_int8_17494.tif\n",
      "/media/nkd/data18931/ndwi_int8_13001_18931/ndwi_int8_17495.tif\n",
      "the size of current NDWI_img 11355 11356\n"
     ]
    },
    {
     "name": "stderr",
     "output_type": "stream",
     "text": [
      "900it [01:07, 13.27it/s]\n"
     ]
    },
    {
     "name": "stdout",
     "output_type": "stream",
     "text": [
      "Converting prediction from <class 'numpy.float32'> to uint8, using threshold of 0.5\n",
      "File already analysed! /media/nkd/data18931/ndwi_int8_13001_18931/ndwi_int8_17495.tif\n",
      "/media/nkd/data18931/ndwi_int8_13001_18931/ndwi_int8_17496.tif\n",
      "the size of current NDWI_img 11355 11356\n"
     ]
    },
    {
     "name": "stderr",
     "output_type": "stream",
     "text": [
      "900it [01:08, 13.15it/s]\n"
     ]
    },
    {
     "name": "stdout",
     "output_type": "stream",
     "text": [
      "Converting prediction from <class 'numpy.float32'> to uint8, using threshold of 0.5\n",
      "File already analysed! /media/nkd/data18931/ndwi_int8_13001_18931/ndwi_int8_17496.tif\n",
      "/media/nkd/data18931/ndwi_int8_13001_18931/ndwi_int8_17497.tif\n",
      "the size of current NDWI_img 11355 11356\n"
     ]
    },
    {
     "name": "stderr",
     "output_type": "stream",
     "text": [
      "900it [01:12, 12.35it/s]\n"
     ]
    },
    {
     "name": "stdout",
     "output_type": "stream",
     "text": [
      "Converting prediction from <class 'numpy.float32'> to uint8, using threshold of 0.5\n",
      "File already analysed! /media/nkd/data18931/ndwi_int8_13001_18931/ndwi_int8_17497.tif\n",
      "/media/nkd/data18931/ndwi_int8_13001_18931/ndwi_int8_17498.tif\n",
      "the size of current NDWI_img 11355 11356\n"
     ]
    },
    {
     "name": "stderr",
     "output_type": "stream",
     "text": [
      "900it [01:09, 12.87it/s]\n"
     ]
    },
    {
     "name": "stdout",
     "output_type": "stream",
     "text": [
      "Converting prediction from <class 'numpy.float32'> to uint8, using threshold of 0.5\n",
      "File already analysed! /media/nkd/data18931/ndwi_int8_13001_18931/ndwi_int8_17498.tif\n",
      "/media/nkd/data18931/ndwi_int8_13001_18931/ndwi_int8_17499.tif\n",
      "the size of current NDWI_img 11356 11356\n"
     ]
    },
    {
     "name": "stderr",
     "output_type": "stream",
     "text": [
      "900it [01:10, 12.80it/s]\n"
     ]
    },
    {
     "name": "stdout",
     "output_type": "stream",
     "text": [
      "Converting prediction from <class 'numpy.float32'> to uint8, using threshold of 0.5\n",
      "File already analysed! /media/nkd/data18931/ndwi_int8_13001_18931/ndwi_int8_17499.tif\n",
      "/media/nkd/data18931/ndwi_int8_13001_18931/ndwi_int8_17500.tif\n",
      "the size of current NDWI_img 11356 11356\n"
     ]
    },
    {
     "name": "stderr",
     "output_type": "stream",
     "text": [
      "900it [01:08, 13.08it/s]\n"
     ]
    },
    {
     "name": "stdout",
     "output_type": "stream",
     "text": [
      "Converting prediction from <class 'numpy.float32'> to uint8, using threshold of 0.5\n",
      "File already analysed! /media/nkd/data18931/ndwi_int8_13001_18931/ndwi_int8_17500.tif\n",
      "/media/nkd/data18931/ndwi_int8_13001_18931/ndwi_int8_17501.tif\n",
      "the size of current NDWI_img 11356 11356\n"
     ]
    },
    {
     "name": "stderr",
     "output_type": "stream",
     "text": [
      "900it [01:07, 13.27it/s]\n"
     ]
    },
    {
     "name": "stdout",
     "output_type": "stream",
     "text": [
      "Converting prediction from <class 'numpy.float32'> to uint8, using threshold of 0.5\n",
      "File already analysed! /media/nkd/data18931/ndwi_int8_13001_18931/ndwi_int8_17501.tif\n",
      "/media/nkd/data18931/ndwi_int8_13001_18931/ndwi_int8_17502.tif\n",
      "the size of current NDWI_img 11356 11356\n"
     ]
    },
    {
     "name": "stderr",
     "output_type": "stream",
     "text": [
      "900it [01:08, 13.19it/s]\n"
     ]
    },
    {
     "name": "stdout",
     "output_type": "stream",
     "text": [
      "Converting prediction from <class 'numpy.float32'> to uint8, using threshold of 0.5\n",
      "File already analysed! /media/nkd/data18931/ndwi_int8_13001_18931/ndwi_int8_17502.tif\n",
      "/media/nkd/data18931/ndwi_int8_13001_18931/ndwi_int8_17503.tif\n",
      "the size of current NDWI_img 11356 11356\n"
     ]
    },
    {
     "name": "stderr",
     "output_type": "stream",
     "text": [
      "900it [01:09, 12.92it/s]\n"
     ]
    },
    {
     "name": "stdout",
     "output_type": "stream",
     "text": [
      "Converting prediction from <class 'numpy.float32'> to uint8, using threshold of 0.5\n",
      "File already analysed! /media/nkd/data18931/ndwi_int8_13001_18931/ndwi_int8_17503.tif\n",
      "/media/nkd/data18931/ndwi_int8_13001_18931/ndwi_int8_17504.tif\n",
      "the size of current NDWI_img 11355 11356\n"
     ]
    },
    {
     "name": "stderr",
     "output_type": "stream",
     "text": [
      "900it [01:10, 12.68it/s]\n"
     ]
    },
    {
     "name": "stdout",
     "output_type": "stream",
     "text": [
      "Converting prediction from <class 'numpy.float32'> to uint8, using threshold of 0.5\n",
      "File already analysed! /media/nkd/data18931/ndwi_int8_13001_18931/ndwi_int8_17504.tif\n",
      "/media/nkd/data18931/ndwi_int8_13001_18931/ndwi_int8_17505.tif\n",
      "the size of current NDWI_img 11355 11356\n"
     ]
    },
    {
     "name": "stderr",
     "output_type": "stream",
     "text": [
      "900it [01:10, 12.72it/s]\n"
     ]
    },
    {
     "name": "stdout",
     "output_type": "stream",
     "text": [
      "Converting prediction from <class 'numpy.float32'> to uint8, using threshold of 0.5\n",
      "File already analysed! /media/nkd/data18931/ndwi_int8_13001_18931/ndwi_int8_17505.tif\n",
      "/media/nkd/data18931/ndwi_int8_13001_18931/ndwi_int8_17506.tif\n",
      "the size of current NDWI_img 11355 11356\n"
     ]
    },
    {
     "name": "stderr",
     "output_type": "stream",
     "text": [
      "900it [01:06, 13.47it/s]\n"
     ]
    },
    {
     "name": "stdout",
     "output_type": "stream",
     "text": [
      "Converting prediction from <class 'numpy.float32'> to uint8, using threshold of 0.5\n",
      "File already analysed! /media/nkd/data18931/ndwi_int8_13001_18931/ndwi_int8_17506.tif\n",
      "/media/nkd/data18931/ndwi_int8_13001_18931/ndwi_int8_17507.tif\n",
      "the size of current NDWI_img 11355 11356\n"
     ]
    },
    {
     "name": "stderr",
     "output_type": "stream",
     "text": [
      "900it [01:09, 12.88it/s]\n"
     ]
    },
    {
     "name": "stdout",
     "output_type": "stream",
     "text": [
      "Converting prediction from <class 'numpy.float32'> to uint8, using threshold of 0.5\n",
      "File already analysed! /media/nkd/data18931/ndwi_int8_13001_18931/ndwi_int8_17507.tif\n",
      "/media/nkd/data18931/ndwi_int8_13001_18931/ndwi_int8_17508.tif\n",
      "the size of current NDWI_img 11355 11356\n"
     ]
    },
    {
     "name": "stderr",
     "output_type": "stream",
     "text": [
      "900it [01:09, 12.97it/s]\n"
     ]
    },
    {
     "name": "stdout",
     "output_type": "stream",
     "text": [
      "Converting prediction from <class 'numpy.float32'> to uint8, using threshold of 0.5\n",
      "File already analysed! /media/nkd/data18931/ndwi_int8_13001_18931/ndwi_int8_17508.tif\n",
      "/media/nkd/data18931/ndwi_int8_13001_18931/ndwi_int8_17509.tif\n",
      "the size of current NDWI_img 11356 11356\n"
     ]
    },
    {
     "name": "stderr",
     "output_type": "stream",
     "text": [
      "900it [01:09, 12.97it/s]\n"
     ]
    },
    {
     "name": "stdout",
     "output_type": "stream",
     "text": [
      "Converting prediction from <class 'numpy.float32'> to uint8, using threshold of 0.5\n",
      "File already analysed! /media/nkd/data18931/ndwi_int8_13001_18931/ndwi_int8_17509.tif\n",
      "/media/nkd/data18931/ndwi_int8_13001_18931/ndwi_int8_17510.tif\n",
      "the size of current NDWI_img 11356 11356\n"
     ]
    },
    {
     "name": "stderr",
     "output_type": "stream",
     "text": [
      "900it [01:09, 13.00it/s]\n"
     ]
    },
    {
     "name": "stdout",
     "output_type": "stream",
     "text": [
      "Converting prediction from <class 'numpy.float32'> to uint8, using threshold of 0.5\n",
      "File already analysed! /media/nkd/data18931/ndwi_int8_13001_18931/ndwi_int8_17510.tif\n",
      "/media/nkd/data18931/ndwi_int8_13001_18931/ndwi_int8_17511.tif\n",
      "the size of current NDWI_img 11356 11356\n"
     ]
    },
    {
     "name": "stderr",
     "output_type": "stream",
     "text": [
      "900it [01:05, 13.67it/s]\n"
     ]
    },
    {
     "name": "stdout",
     "output_type": "stream",
     "text": [
      "Converting prediction from <class 'numpy.float32'> to uint8, using threshold of 0.5\n",
      "File already analysed! /media/nkd/data18931/ndwi_int8_13001_18931/ndwi_int8_17511.tif\n",
      "/media/nkd/data18931/ndwi_int8_13001_18931/ndwi_int8_17512.tif\n",
      "the size of current NDWI_img 11356 11356\n"
     ]
    },
    {
     "name": "stderr",
     "output_type": "stream",
     "text": [
      "900it [01:13, 12.24it/s]\n"
     ]
    },
    {
     "name": "stdout",
     "output_type": "stream",
     "text": [
      "Converting prediction from <class 'numpy.float32'> to uint8, using threshold of 0.5\n",
      "File already analysed! /media/nkd/data18931/ndwi_int8_13001_18931/ndwi_int8_17512.tif\n",
      "/media/nkd/data18931/ndwi_int8_13001_18931/ndwi_int8_17513.tif\n",
      "the size of current NDWI_img 11356 11356\n"
     ]
    },
    {
     "name": "stderr",
     "output_type": "stream",
     "text": [
      "900it [01:07, 13.36it/s]\n"
     ]
    },
    {
     "name": "stdout",
     "output_type": "stream",
     "text": [
      "Converting prediction from <class 'numpy.float32'> to uint8, using threshold of 0.5\n",
      "File already analysed! /media/nkd/data18931/ndwi_int8_13001_18931/ndwi_int8_17513.tif\n",
      "/media/nkd/data18931/ndwi_int8_13001_18931/ndwi_int8_17514.tif\n",
      "the size of current NDWI_img 11355 11355\n"
     ]
    },
    {
     "name": "stderr",
     "output_type": "stream",
     "text": [
      "900it [01:09, 13.02it/s]\n"
     ]
    },
    {
     "name": "stdout",
     "output_type": "stream",
     "text": [
      "Converting prediction from <class 'numpy.float32'> to uint8, using threshold of 0.5\n",
      "File already analysed! /media/nkd/data18931/ndwi_int8_13001_18931/ndwi_int8_17514.tif\n",
      "/media/nkd/data18931/ndwi_int8_13001_18931/ndwi_int8_17515.tif\n",
      "the size of current NDWI_img 11355 11355\n"
     ]
    },
    {
     "name": "stderr",
     "output_type": "stream",
     "text": [
      "900it [01:06, 13.46it/s]\n"
     ]
    },
    {
     "name": "stdout",
     "output_type": "stream",
     "text": [
      "Converting prediction from <class 'numpy.float32'> to uint8, using threshold of 0.5\n",
      "File already analysed! /media/nkd/data18931/ndwi_int8_13001_18931/ndwi_int8_17515.tif\n",
      "/media/nkd/data18931/ndwi_int8_13001_18931/ndwi_int8_17516.tif\n",
      "the size of current NDWI_img 11355 11355\n"
     ]
    },
    {
     "name": "stderr",
     "output_type": "stream",
     "text": [
      "900it [01:08, 13.23it/s]\n"
     ]
    },
    {
     "name": "stdout",
     "output_type": "stream",
     "text": [
      "Converting prediction from <class 'numpy.float32'> to uint8, using threshold of 0.5\n",
      "File already analysed! /media/nkd/data18931/ndwi_int8_13001_18931/ndwi_int8_17516.tif\n",
      "/media/nkd/data18931/ndwi_int8_13001_18931/ndwi_int8_17517.tif\n",
      "the size of current NDWI_img 11355 11355\n"
     ]
    },
    {
     "name": "stderr",
     "output_type": "stream",
     "text": [
      "900it [01:06, 13.45it/s]\n"
     ]
    },
    {
     "name": "stdout",
     "output_type": "stream",
     "text": [
      "Converting prediction from <class 'numpy.float32'> to uint8, using threshold of 0.5\n",
      "File already analysed! /media/nkd/data18931/ndwi_int8_13001_18931/ndwi_int8_17517.tif\n",
      "/media/nkd/data18931/ndwi_int8_13001_18931/ndwi_int8_17518.tif\n",
      "the size of current NDWI_img 11355 11355\n"
     ]
    },
    {
     "name": "stderr",
     "output_type": "stream",
     "text": [
      "900it [01:11, 12.50it/s]\n"
     ]
    },
    {
     "name": "stdout",
     "output_type": "stream",
     "text": [
      "Converting prediction from <class 'numpy.float32'> to uint8, using threshold of 0.5\n",
      "File already analysed! /media/nkd/data18931/ndwi_int8_13001_18931/ndwi_int8_17518.tif\n",
      "/media/nkd/data18931/ndwi_int8_13001_18931/ndwi_int8_17519.tif\n",
      "the size of current NDWI_img 11356 11355\n"
     ]
    },
    {
     "name": "stderr",
     "output_type": "stream",
     "text": [
      "900it [01:14, 12.03it/s]\n"
     ]
    },
    {
     "name": "stdout",
     "output_type": "stream",
     "text": [
      "Converting prediction from <class 'numpy.float32'> to uint8, using threshold of 0.5\n",
      "File already analysed! /media/nkd/data18931/ndwi_int8_13001_18931/ndwi_int8_17519.tif\n",
      "/media/nkd/data18931/ndwi_int8_13001_18931/ndwi_int8_17520.tif\n",
      "the size of current NDWI_img 11356 11355\n"
     ]
    },
    {
     "name": "stderr",
     "output_type": "stream",
     "text": [
      "900it [01:07, 13.25it/s]\n"
     ]
    },
    {
     "name": "stdout",
     "output_type": "stream",
     "text": [
      "Converting prediction from <class 'numpy.float32'> to uint8, using threshold of 0.5\n",
      "File already analysed! /media/nkd/data18931/ndwi_int8_13001_18931/ndwi_int8_17520.tif\n",
      "/media/nkd/data18931/ndwi_int8_13001_18931/ndwi_int8_17521.tif\n",
      "the size of current NDWI_img 11356 11355\n"
     ]
    },
    {
     "name": "stderr",
     "output_type": "stream",
     "text": [
      "900it [01:12, 12.44it/s]\n"
     ]
    },
    {
     "name": "stdout",
     "output_type": "stream",
     "text": [
      "Converting prediction from <class 'numpy.float32'> to uint8, using threshold of 0.5\n",
      "File already analysed! /media/nkd/data18931/ndwi_int8_13001_18931/ndwi_int8_17521.tif\n",
      "/media/nkd/data18931/ndwi_int8_13001_18931/ndwi_int8_17522.tif\n",
      "the size of current NDWI_img 11356 11355\n"
     ]
    },
    {
     "name": "stderr",
     "output_type": "stream",
     "text": [
      "900it [01:10, 12.80it/s]\n"
     ]
    },
    {
     "name": "stdout",
     "output_type": "stream",
     "text": [
      "Converting prediction from <class 'numpy.float32'> to uint8, using threshold of 0.5\n",
      "File already analysed! /media/nkd/data18931/ndwi_int8_13001_18931/ndwi_int8_17522.tif\n",
      "/media/nkd/data18931/ndwi_int8_13001_18931/ndwi_int8_17523.tif\n",
      "the size of current NDWI_img 11355 11355\n"
     ]
    },
    {
     "name": "stderr",
     "output_type": "stream",
     "text": [
      "900it [01:10, 12.75it/s]\n"
     ]
    },
    {
     "name": "stdout",
     "output_type": "stream",
     "text": [
      "Converting prediction from <class 'numpy.float32'> to uint8, using threshold of 0.5\n",
      "File already analysed! /media/nkd/data18931/ndwi_int8_13001_18931/ndwi_int8_17523.tif\n",
      "/media/nkd/data18931/ndwi_int8_13001_18931/ndwi_int8_17524.tif\n",
      "the size of current NDWI_img 11355 11355\n"
     ]
    },
    {
     "name": "stderr",
     "output_type": "stream",
     "text": [
      "900it [01:08, 13.21it/s]\n"
     ]
    },
    {
     "name": "stdout",
     "output_type": "stream",
     "text": [
      "Converting prediction from <class 'numpy.float32'> to uint8, using threshold of 0.5\n",
      "File already analysed! /media/nkd/data18931/ndwi_int8_13001_18931/ndwi_int8_17524.tif\n",
      "/media/nkd/data18931/ndwi_int8_13001_18931/ndwi_int8_17525.tif\n",
      "the size of current NDWI_img 11355 11355\n"
     ]
    },
    {
     "name": "stderr",
     "output_type": "stream",
     "text": [
      "900it [01:07, 13.27it/s]\n"
     ]
    },
    {
     "name": "stdout",
     "output_type": "stream",
     "text": [
      "Converting prediction from <class 'numpy.float32'> to uint8, using threshold of 0.5\n",
      "File already analysed! /media/nkd/data18931/ndwi_int8_13001_18931/ndwi_int8_17525.tif\n",
      "/media/nkd/data18931/ndwi_int8_13001_18931/ndwi_int8_17526.tif\n",
      "the size of current NDWI_img 11355 11355\n"
     ]
    },
    {
     "name": "stderr",
     "output_type": "stream",
     "text": [
      "900it [01:06, 13.58it/s]\n"
     ]
    },
    {
     "name": "stdout",
     "output_type": "stream",
     "text": [
      "Converting prediction from <class 'numpy.float32'> to uint8, using threshold of 0.5\n",
      "File already analysed! /media/nkd/data18931/ndwi_int8_13001_18931/ndwi_int8_17526.tif\n",
      "/media/nkd/data18931/ndwi_int8_13001_18931/ndwi_int8_17527.tif\n",
      "the size of current NDWI_img 11355 11355\n"
     ]
    },
    {
     "name": "stderr",
     "output_type": "stream",
     "text": [
      "900it [01:11, 12.62it/s]\n"
     ]
    },
    {
     "name": "stdout",
     "output_type": "stream",
     "text": [
      "Converting prediction from <class 'numpy.float32'> to uint8, using threshold of 0.5\n",
      "File already analysed! /media/nkd/data18931/ndwi_int8_13001_18931/ndwi_int8_17527.tif\n",
      "/media/nkd/data18931/ndwi_int8_13001_18931/ndwi_int8_17528.tif\n",
      "the size of current NDWI_img 11356 11355\n"
     ]
    },
    {
     "name": "stderr",
     "output_type": "stream",
     "text": [
      "900it [01:09, 12.86it/s]\n"
     ]
    },
    {
     "name": "stdout",
     "output_type": "stream",
     "text": [
      "Converting prediction from <class 'numpy.float32'> to uint8, using threshold of 0.5\n",
      "File already analysed! /media/nkd/data18931/ndwi_int8_13001_18931/ndwi_int8_17528.tif\n",
      "/media/nkd/data18931/ndwi_int8_13001_18931/ndwi_int8_17529.tif\n",
      "the size of current NDWI_img 11356 11355\n"
     ]
    },
    {
     "name": "stderr",
     "output_type": "stream",
     "text": [
      "900it [01:09, 12.91it/s]\n"
     ]
    },
    {
     "name": "stdout",
     "output_type": "stream",
     "text": [
      "Converting prediction from <class 'numpy.float32'> to uint8, using threshold of 0.5\n",
      "File already analysed! /media/nkd/data18931/ndwi_int8_13001_18931/ndwi_int8_17529.tif\n",
      "/media/nkd/data18931/ndwi_int8_13001_18931/ndwi_int8_17530.tif\n",
      "the size of current NDWI_img 11356 11355\n"
     ]
    },
    {
     "name": "stderr",
     "output_type": "stream",
     "text": [
      "900it [01:10, 12.68it/s]\n"
     ]
    },
    {
     "name": "stdout",
     "output_type": "stream",
     "text": [
      "Converting prediction from <class 'numpy.float32'> to uint8, using threshold of 0.5\n",
      "File already analysed! /media/nkd/data18931/ndwi_int8_13001_18931/ndwi_int8_17530.tif\n",
      "/media/nkd/data18931/ndwi_int8_13001_18931/ndwi_int8_17531.tif\n",
      "the size of current NDWI_img 11356 11355\n"
     ]
    },
    {
     "name": "stderr",
     "output_type": "stream",
     "text": [
      "900it [01:10, 12.75it/s]\n"
     ]
    },
    {
     "name": "stdout",
     "output_type": "stream",
     "text": [
      "Converting prediction from <class 'numpy.float32'> to uint8, using threshold of 0.5\n",
      "File already analysed! /media/nkd/data18931/ndwi_int8_13001_18931/ndwi_int8_17531.tif\n",
      "/media/nkd/data18931/ndwi_int8_13001_18931/ndwi_int8_17532.tif\n",
      "the size of current NDWI_img 11356 11355\n"
     ]
    },
    {
     "name": "stderr",
     "output_type": "stream",
     "text": [
      "900it [01:12, 12.37it/s]\n"
     ]
    },
    {
     "name": "stdout",
     "output_type": "stream",
     "text": [
      "Converting prediction from <class 'numpy.float32'> to uint8, using threshold of 0.5\n",
      "File already analysed! /media/nkd/data18931/ndwi_int8_13001_18931/ndwi_int8_17532.tif\n",
      "/media/nkd/data18931/ndwi_int8_13001_18931/ndwi_int8_17533.tif\n",
      "the size of current NDWI_img 11355 11355\n"
     ]
    },
    {
     "name": "stderr",
     "output_type": "stream",
     "text": [
      "900it [01:15, 11.93it/s]\n"
     ]
    },
    {
     "name": "stdout",
     "output_type": "stream",
     "text": [
      "Converting prediction from <class 'numpy.float32'> to uint8, using threshold of 0.5\n",
      "File already analysed! /media/nkd/data18931/ndwi_int8_13001_18931/ndwi_int8_17533.tif\n",
      "/media/nkd/data18931/ndwi_int8_13001_18931/ndwi_int8_17534.tif\n",
      "the size of current NDWI_img 11355 11355\n"
     ]
    },
    {
     "name": "stderr",
     "output_type": "stream",
     "text": [
      "900it [01:09, 12.96it/s]\n"
     ]
    },
    {
     "name": "stdout",
     "output_type": "stream",
     "text": [
      "Converting prediction from <class 'numpy.float32'> to uint8, using threshold of 0.5\n",
      "File already analysed! /media/nkd/data18931/ndwi_int8_13001_18931/ndwi_int8_17534.tif\n",
      "/media/nkd/data18931/ndwi_int8_13001_18931/ndwi_int8_17535.tif\n",
      "the size of current NDWI_img 11355 11355\n"
     ]
    },
    {
     "name": "stderr",
     "output_type": "stream",
     "text": [
      "900it [01:10, 12.85it/s]\n"
     ]
    },
    {
     "name": "stdout",
     "output_type": "stream",
     "text": [
      "Converting prediction from <class 'numpy.float32'> to uint8, using threshold of 0.5\n",
      "File already analysed! /media/nkd/data18931/ndwi_int8_13001_18931/ndwi_int8_17535.tif\n",
      "/media/nkd/data18931/ndwi_int8_13001_18931/ndwi_int8_17536.tif\n",
      "the size of current NDWI_img 11355 11355\n"
     ]
    },
    {
     "name": "stderr",
     "output_type": "stream",
     "text": [
      "900it [01:09, 12.94it/s]\n"
     ]
    },
    {
     "name": "stdout",
     "output_type": "stream",
     "text": [
      "Converting prediction from <class 'numpy.float32'> to uint8, using threshold of 0.5\n",
      "File already analysed! /media/nkd/data18931/ndwi_int8_13001_18931/ndwi_int8_17536.tif\n",
      "/media/nkd/data18931/ndwi_int8_13001_18931/ndwi_int8_17537.tif\n",
      "the size of current NDWI_img 11355 11355\n"
     ]
    },
    {
     "name": "stderr",
     "output_type": "stream",
     "text": [
      "900it [01:13, 12.32it/s]\n"
     ]
    },
    {
     "name": "stdout",
     "output_type": "stream",
     "text": [
      "Converting prediction from <class 'numpy.float32'> to uint8, using threshold of 0.5\n",
      "File already analysed! /media/nkd/data18931/ndwi_int8_13001_18931/ndwi_int8_17537.tif\n",
      "/media/nkd/data18931/ndwi_int8_13001_18931/ndwi_int8_17538.tif\n",
      "the size of current NDWI_img 11356 11355\n"
     ]
    },
    {
     "name": "stderr",
     "output_type": "stream",
     "text": [
      "900it [01:12, 12.38it/s]\n"
     ]
    },
    {
     "name": "stdout",
     "output_type": "stream",
     "text": [
      "Converting prediction from <class 'numpy.float32'> to uint8, using threshold of 0.5\n",
      "File already analysed! /media/nkd/data18931/ndwi_int8_13001_18931/ndwi_int8_17538.tif\n",
      "/media/nkd/data18931/ndwi_int8_13001_18931/ndwi_int8_17539.tif\n",
      "the size of current NDWI_img 11356 11355\n"
     ]
    },
    {
     "name": "stderr",
     "output_type": "stream",
     "text": [
      "900it [01:11, 12.55it/s]\n"
     ]
    },
    {
     "name": "stdout",
     "output_type": "stream",
     "text": [
      "Converting prediction from <class 'numpy.float32'> to uint8, using threshold of 0.5\n",
      "File already analysed! /media/nkd/data18931/ndwi_int8_13001_18931/ndwi_int8_17539.tif\n",
      "/media/nkd/data18931/ndwi_int8_13001_18931/ndwi_int8_17540.tif\n",
      "the size of current NDWI_img 11356 11355\n"
     ]
    },
    {
     "name": "stderr",
     "output_type": "stream",
     "text": [
      "900it [01:12, 12.38it/s]\n"
     ]
    },
    {
     "name": "stdout",
     "output_type": "stream",
     "text": [
      "Converting prediction from <class 'numpy.float32'> to uint8, using threshold of 0.5\n",
      "File already analysed! /media/nkd/data18931/ndwi_int8_13001_18931/ndwi_int8_17540.tif\n",
      "/media/nkd/data18931/ndwi_int8_13001_18931/ndwi_int8_17541.tif\n",
      "the size of current NDWI_img 11356 11355\n"
     ]
    },
    {
     "name": "stderr",
     "output_type": "stream",
     "text": [
      "900it [01:14, 12.01it/s]\n"
     ]
    },
    {
     "name": "stdout",
     "output_type": "stream",
     "text": [
      "Converting prediction from <class 'numpy.float32'> to uint8, using threshold of 0.5\n",
      "File already analysed! /media/nkd/data18931/ndwi_int8_13001_18931/ndwi_int8_17541.tif\n",
      "/media/nkd/data18931/ndwi_int8_13001_18931/ndwi_int8_17542.tif\n",
      "the size of current NDWI_img 11356 11355\n"
     ]
    },
    {
     "name": "stderr",
     "output_type": "stream",
     "text": [
      "900it [01:15, 11.90it/s]\n"
     ]
    },
    {
     "name": "stdout",
     "output_type": "stream",
     "text": [
      "Converting prediction from <class 'numpy.float32'> to uint8, using threshold of 0.5\n",
      "File already analysed! /media/nkd/data18931/ndwi_int8_13001_18931/ndwi_int8_17542.tif\n",
      "/media/nkd/data18931/ndwi_int8_13001_18931/ndwi_int8_17543.tif\n",
      "the size of current NDWI_img 11355 11355\n"
     ]
    },
    {
     "name": "stderr",
     "output_type": "stream",
     "text": [
      "900it [01:14, 12.13it/s]\n"
     ]
    },
    {
     "name": "stdout",
     "output_type": "stream",
     "text": [
      "Converting prediction from <class 'numpy.float32'> to uint8, using threshold of 0.5\n",
      "File already analysed! /media/nkd/data18931/ndwi_int8_13001_18931/ndwi_int8_17543.tif\n",
      "/media/nkd/data18931/ndwi_int8_13001_18931/ndwi_int8_17544.tif\n",
      "the size of current NDWI_img 11355 11355\n"
     ]
    },
    {
     "name": "stderr",
     "output_type": "stream",
     "text": [
      "900it [01:15, 11.99it/s]\n"
     ]
    },
    {
     "name": "stdout",
     "output_type": "stream",
     "text": [
      "Converting prediction from <class 'numpy.float32'> to uint8, using threshold of 0.5\n",
      "File already analysed! /media/nkd/data18931/ndwi_int8_13001_18931/ndwi_int8_17544.tif\n",
      "/media/nkd/data18931/ndwi_int8_13001_18931/ndwi_int8_17545.tif\n",
      "the size of current NDWI_img 11355 11355\n"
     ]
    },
    {
     "name": "stderr",
     "output_type": "stream",
     "text": [
      "900it [01:08, 13.21it/s]\n"
     ]
    },
    {
     "name": "stdout",
     "output_type": "stream",
     "text": [
      "Converting prediction from <class 'numpy.float32'> to uint8, using threshold of 0.5\n",
      "File already analysed! /media/nkd/data18931/ndwi_int8_13001_18931/ndwi_int8_17545.tif\n",
      "/media/nkd/data18931/ndwi_int8_13001_18931/ndwi_int8_17546.tif\n",
      "the size of current NDWI_img 11355 11355\n"
     ]
    },
    {
     "name": "stderr",
     "output_type": "stream",
     "text": [
      "900it [01:11, 12.58it/s]\n"
     ]
    },
    {
     "name": "stdout",
     "output_type": "stream",
     "text": [
      "Converting prediction from <class 'numpy.float32'> to uint8, using threshold of 0.5\n",
      "File already analysed! /media/nkd/data18931/ndwi_int8_13001_18931/ndwi_int8_17546.tif\n",
      "/media/nkd/data18931/ndwi_int8_13001_18931/ndwi_int8_17547.tif\n",
      "the size of current NDWI_img 11355 11355\n"
     ]
    },
    {
     "name": "stderr",
     "output_type": "stream",
     "text": [
      "900it [01:15, 11.90it/s]\n"
     ]
    },
    {
     "name": "stdout",
     "output_type": "stream",
     "text": [
      "Converting prediction from <class 'numpy.float32'> to uint8, using threshold of 0.5\n",
      "File already analysed! /media/nkd/data18931/ndwi_int8_13001_18931/ndwi_int8_17547.tif\n",
      "/media/nkd/data18931/ndwi_int8_13001_18931/ndwi_int8_17548.tif\n",
      "the size of current NDWI_img 11356 11355\n"
     ]
    },
    {
     "name": "stderr",
     "output_type": "stream",
     "text": [
      "900it [01:12, 12.47it/s]\n"
     ]
    },
    {
     "name": "stdout",
     "output_type": "stream",
     "text": [
      "Converting prediction from <class 'numpy.float32'> to uint8, using threshold of 0.5\n",
      "File already analysed! /media/nkd/data18931/ndwi_int8_13001_18931/ndwi_int8_17548.tif\n",
      "/media/nkd/data18931/ndwi_int8_13001_18931/ndwi_int8_17549.tif\n",
      "the size of current NDWI_img 11356 11355\n"
     ]
    },
    {
     "name": "stderr",
     "output_type": "stream",
     "text": [
      "900it [01:13, 12.29it/s]\n"
     ]
    },
    {
     "name": "stdout",
     "output_type": "stream",
     "text": [
      "Converting prediction from <class 'numpy.float32'> to uint8, using threshold of 0.5\n",
      "File already analysed! /media/nkd/data18931/ndwi_int8_13001_18931/ndwi_int8_17549.tif\n",
      "/media/nkd/data18931/ndwi_int8_13001_18931/ndwi_int8_17550.tif\n",
      "the size of current NDWI_img 11356 11355\n"
     ]
    },
    {
     "name": "stderr",
     "output_type": "stream",
     "text": [
      "900it [01:10, 12.69it/s]\n"
     ]
    },
    {
     "name": "stdout",
     "output_type": "stream",
     "text": [
      "Converting prediction from <class 'numpy.float32'> to uint8, using threshold of 0.5\n",
      "File already analysed! /media/nkd/data18931/ndwi_int8_13001_18931/ndwi_int8_17550.tif\n",
      "/media/nkd/data18931/ndwi_int8_13001_18931/ndwi_int8_17551.tif\n",
      "the size of current NDWI_img 11356 11355\n"
     ]
    },
    {
     "name": "stderr",
     "output_type": "stream",
     "text": [
      "900it [01:15, 12.00it/s]\n"
     ]
    },
    {
     "name": "stdout",
     "output_type": "stream",
     "text": [
      "Converting prediction from <class 'numpy.float32'> to uint8, using threshold of 0.5\n",
      "File already analysed! /media/nkd/data18931/ndwi_int8_13001_18931/ndwi_int8_17551.tif\n",
      "/media/nkd/data18931/ndwi_int8_13001_18931/ndwi_int8_17552.tif\n",
      "the size of current NDWI_img 11356 11355\n"
     ]
    },
    {
     "name": "stderr",
     "output_type": "stream",
     "text": [
      "900it [01:18, 11.48it/s]\n"
     ]
    },
    {
     "name": "stdout",
     "output_type": "stream",
     "text": [
      "Converting prediction from <class 'numpy.float32'> to uint8, using threshold of 0.5\n",
      "File already analysed! /media/nkd/data18931/ndwi_int8_13001_18931/ndwi_int8_17552.tif\n",
      "/media/nkd/data18931/ndwi_int8_13001_18931/ndwi_int8_17553.tif\n",
      "the size of current NDWI_img 11355 11355\n"
     ]
    },
    {
     "name": "stderr",
     "output_type": "stream",
     "text": [
      "900it [01:12, 12.33it/s]\n"
     ]
    },
    {
     "name": "stdout",
     "output_type": "stream",
     "text": [
      "Converting prediction from <class 'numpy.float32'> to uint8, using threshold of 0.5\n",
      "File already analysed! /media/nkd/data18931/ndwi_int8_13001_18931/ndwi_int8_17553.tif\n",
      "/media/nkd/data18931/ndwi_int8_13001_18931/ndwi_int8_17554.tif\n",
      "the size of current NDWI_img 11355 11355\n"
     ]
    },
    {
     "name": "stderr",
     "output_type": "stream",
     "text": [
      "900it [01:12, 12.48it/s]\n"
     ]
    },
    {
     "name": "stdout",
     "output_type": "stream",
     "text": [
      "Converting prediction from <class 'numpy.float32'> to uint8, using threshold of 0.5\n",
      "File already analysed! /media/nkd/data18931/ndwi_int8_13001_18931/ndwi_int8_17554.tif\n",
      "/media/nkd/data18931/ndwi_int8_13001_18931/ndwi_int8_17555.tif\n",
      "the size of current NDWI_img 11355 11355\n"
     ]
    },
    {
     "name": "stderr",
     "output_type": "stream",
     "text": [
      "900it [01:07, 13.25it/s]\n"
     ]
    },
    {
     "name": "stdout",
     "output_type": "stream",
     "text": [
      "Converting prediction from <class 'numpy.float32'> to uint8, using threshold of 0.5\n",
      "File already analysed! /media/nkd/data18931/ndwi_int8_13001_18931/ndwi_int8_17555.tif\n",
      "/media/nkd/data18931/ndwi_int8_13001_18931/ndwi_int8_17556.tif\n",
      "the size of current NDWI_img 11355 11355\n"
     ]
    },
    {
     "name": "stderr",
     "output_type": "stream",
     "text": [
      "900it [01:08, 13.07it/s]\n"
     ]
    },
    {
     "name": "stdout",
     "output_type": "stream",
     "text": [
      "Converting prediction from <class 'numpy.float32'> to uint8, using threshold of 0.5\n",
      "File already analysed! /media/nkd/data18931/ndwi_int8_13001_18931/ndwi_int8_17556.tif\n",
      "/media/nkd/data18931/ndwi_int8_13001_18931/ndwi_int8_17557.tif\n",
      "the size of current NDWI_img 11355 11355\n"
     ]
    },
    {
     "name": "stderr",
     "output_type": "stream",
     "text": [
      "900it [01:14, 12.16it/s]\n"
     ]
    },
    {
     "name": "stdout",
     "output_type": "stream",
     "text": [
      "Converting prediction from <class 'numpy.float32'> to uint8, using threshold of 0.5\n",
      "File already analysed! /media/nkd/data18931/ndwi_int8_13001_18931/ndwi_int8_17557.tif\n",
      "/media/nkd/data18931/ndwi_int8_13001_18931/ndwi_int8_17558.tif\n",
      "the size of current NDWI_img 11356 11355\n"
     ]
    },
    {
     "name": "stderr",
     "output_type": "stream",
     "text": [
      "900it [01:17, 11.68it/s]\n"
     ]
    },
    {
     "name": "stdout",
     "output_type": "stream",
     "text": [
      "Converting prediction from <class 'numpy.float32'> to uint8, using threshold of 0.5\n",
      "File already analysed! /media/nkd/data18931/ndwi_int8_13001_18931/ndwi_int8_17558.tif\n",
      "/media/nkd/data18931/ndwi_int8_13001_18931/ndwi_int8_17559.tif\n",
      "the size of current NDWI_img 11356 11355\n"
     ]
    },
    {
     "name": "stderr",
     "output_type": "stream",
     "text": [
      "900it [01:11, 12.51it/s]\n"
     ]
    },
    {
     "name": "stdout",
     "output_type": "stream",
     "text": [
      "Converting prediction from <class 'numpy.float32'> to uint8, using threshold of 0.5\n",
      "File already analysed! /media/nkd/data18931/ndwi_int8_13001_18931/ndwi_int8_17559.tif\n",
      "/media/nkd/data18931/ndwi_int8_13001_18931/ndwi_int8_17560.tif\n",
      "the size of current NDWI_img 11356 11355\n"
     ]
    },
    {
     "name": "stderr",
     "output_type": "stream",
     "text": [
      "900it [01:13, 12.17it/s]\n"
     ]
    },
    {
     "name": "stdout",
     "output_type": "stream",
     "text": [
      "Converting prediction from <class 'numpy.float32'> to uint8, using threshold of 0.5\n",
      "File already analysed! /media/nkd/data18931/ndwi_int8_13001_18931/ndwi_int8_17560.tif\n",
      "/media/nkd/data18931/ndwi_int8_13001_18931/ndwi_int8_17561.tif\n",
      "the size of current NDWI_img 11356 11355\n"
     ]
    },
    {
     "name": "stderr",
     "output_type": "stream",
     "text": [
      "900it [01:14, 12.02it/s]\n"
     ]
    },
    {
     "name": "stdout",
     "output_type": "stream",
     "text": [
      "Converting prediction from <class 'numpy.float32'> to uint8, using threshold of 0.5\n",
      "File already analysed! /media/nkd/data18931/ndwi_int8_13001_18931/ndwi_int8_17561.tif\n",
      "/media/nkd/data18931/ndwi_int8_13001_18931/ndwi_int8_17562.tif\n",
      "the size of current NDWI_img 11356 11355\n"
     ]
    },
    {
     "name": "stderr",
     "output_type": "stream",
     "text": [
      "900it [01:15, 11.96it/s]\n"
     ]
    },
    {
     "name": "stdout",
     "output_type": "stream",
     "text": [
      "Converting prediction from <class 'numpy.float32'> to uint8, using threshold of 0.5\n",
      "File already analysed! /media/nkd/data18931/ndwi_int8_13001_18931/ndwi_int8_17562.tif\n",
      "/media/nkd/data18931/ndwi_int8_13001_18931/ndwi_int8_17563.tif\n",
      "the size of current NDWI_img 11355 11355\n"
     ]
    },
    {
     "name": "stderr",
     "output_type": "stream",
     "text": [
      "900it [01:14, 12.14it/s]\n"
     ]
    },
    {
     "name": "stdout",
     "output_type": "stream",
     "text": [
      "Converting prediction from <class 'numpy.float32'> to uint8, using threshold of 0.5\n",
      "File already analysed! /media/nkd/data18931/ndwi_int8_13001_18931/ndwi_int8_17563.tif\n",
      "/media/nkd/data18931/ndwi_int8_13001_18931/ndwi_int8_17564.tif\n",
      "the size of current NDWI_img 11355 11355\n"
     ]
    },
    {
     "name": "stderr",
     "output_type": "stream",
     "text": [
      "900it [01:13, 12.18it/s]\n"
     ]
    },
    {
     "name": "stdout",
     "output_type": "stream",
     "text": [
      "Converting prediction from <class 'numpy.float32'> to uint8, using threshold of 0.5\n",
      "File already analysed! /media/nkd/data18931/ndwi_int8_13001_18931/ndwi_int8_17564.tif\n",
      "/media/nkd/data18931/ndwi_int8_13001_18931/ndwi_int8_17565.tif\n",
      "the size of current NDWI_img 11355 11355\n"
     ]
    },
    {
     "name": "stderr",
     "output_type": "stream",
     "text": [
      "900it [01:12, 12.46it/s]\n"
     ]
    },
    {
     "name": "stdout",
     "output_type": "stream",
     "text": [
      "Converting prediction from <class 'numpy.float32'> to uint8, using threshold of 0.5\n",
      "File already analysed! /media/nkd/data18931/ndwi_int8_13001_18931/ndwi_int8_17565.tif\n",
      "/media/nkd/data18931/ndwi_int8_13001_18931/ndwi_int8_17566.tif\n",
      "the size of current NDWI_img 11355 11355\n"
     ]
    },
    {
     "name": "stderr",
     "output_type": "stream",
     "text": [
      "900it [01:11, 12.52it/s]\n"
     ]
    },
    {
     "name": "stdout",
     "output_type": "stream",
     "text": [
      "Converting prediction from <class 'numpy.float32'> to uint8, using threshold of 0.5\n",
      "File already analysed! /media/nkd/data18931/ndwi_int8_13001_18931/ndwi_int8_17566.tif\n",
      "/media/nkd/data18931/ndwi_int8_13001_18931/ndwi_int8_17567.tif\n",
      "the size of current NDWI_img 11355 11355\n"
     ]
    },
    {
     "name": "stderr",
     "output_type": "stream",
     "text": [
      "900it [01:13, 12.18it/s]\n"
     ]
    },
    {
     "name": "stdout",
     "output_type": "stream",
     "text": [
      "Converting prediction from <class 'numpy.float32'> to uint8, using threshold of 0.5\n",
      "File already analysed! /media/nkd/data18931/ndwi_int8_13001_18931/ndwi_int8_17567.tif\n",
      "/media/nkd/data18931/ndwi_int8_13001_18931/ndwi_int8_17568.tif\n",
      "the size of current NDWI_img 11356 11355\n"
     ]
    },
    {
     "name": "stderr",
     "output_type": "stream",
     "text": [
      "900it [01:14, 12.14it/s]\n"
     ]
    },
    {
     "name": "stdout",
     "output_type": "stream",
     "text": [
      "Converting prediction from <class 'numpy.float32'> to uint8, using threshold of 0.5\n",
      "File already analysed! /media/nkd/data18931/ndwi_int8_13001_18931/ndwi_int8_17568.tif\n",
      "/media/nkd/data18931/ndwi_int8_13001_18931/ndwi_int8_17569.tif\n",
      "the size of current NDWI_img 11356 11355\n"
     ]
    },
    {
     "name": "stderr",
     "output_type": "stream",
     "text": [
      "900it [01:14, 12.03it/s]\n"
     ]
    },
    {
     "name": "stdout",
     "output_type": "stream",
     "text": [
      "Converting prediction from <class 'numpy.float32'> to uint8, using threshold of 0.5\n",
      "File already analysed! /media/nkd/data18931/ndwi_int8_13001_18931/ndwi_int8_17569.tif\n",
      "/media/nkd/data18931/ndwi_int8_13001_18931/ndwi_int8_17570.tif\n",
      "the size of current NDWI_img 11356 11355\n"
     ]
    },
    {
     "name": "stderr",
     "output_type": "stream",
     "text": [
      "900it [01:14, 12.12it/s]\n"
     ]
    },
    {
     "name": "stdout",
     "output_type": "stream",
     "text": [
      "Converting prediction from <class 'numpy.float32'> to uint8, using threshold of 0.5\n",
      "File already analysed! /media/nkd/data18931/ndwi_int8_13001_18931/ndwi_int8_17570.tif\n",
      "/media/nkd/data18931/ndwi_int8_13001_18931/ndwi_int8_17571.tif\n",
      "the size of current NDWI_img 11356 11355\n"
     ]
    },
    {
     "name": "stderr",
     "output_type": "stream",
     "text": [
      "900it [01:11, 12.53it/s]\n"
     ]
    },
    {
     "name": "stdout",
     "output_type": "stream",
     "text": [
      "Converting prediction from <class 'numpy.float32'> to uint8, using threshold of 0.5\n",
      "File already analysed! /media/nkd/data18931/ndwi_int8_13001_18931/ndwi_int8_17571.tif\n",
      "/media/nkd/data18931/ndwi_int8_13001_18931/ndwi_int8_17572.tif\n",
      "the size of current NDWI_img 11356 11355\n"
     ]
    },
    {
     "name": "stderr",
     "output_type": "stream",
     "text": [
      "900it [01:17, 11.62it/s]\n"
     ]
    },
    {
     "name": "stdout",
     "output_type": "stream",
     "text": [
      "Converting prediction from <class 'numpy.float32'> to uint8, using threshold of 0.5\n",
      "File already analysed! /media/nkd/data18931/ndwi_int8_13001_18931/ndwi_int8_17572.tif\n",
      "/media/nkd/data18931/ndwi_int8_13001_18931/ndwi_int8_17573.tif\n",
      "the size of current NDWI_img 11355 11355\n"
     ]
    },
    {
     "name": "stderr",
     "output_type": "stream",
     "text": [
      "900it [00:48, 18.52it/s]\n"
     ]
    },
    {
     "name": "stdout",
     "output_type": "stream",
     "text": [
      "Converting prediction from <class 'numpy.float32'> to uint8, using threshold of 0.5\n",
      "File already analysed! /media/nkd/data18931/ndwi_int8_13001_18931/ndwi_int8_17573.tif\n",
      "/media/nkd/data18931/ndwi_int8_13001_18931/ndwi_int8_17574.tif\n",
      "the size of current NDWI_img 11355 11355\n"
     ]
    },
    {
     "name": "stderr",
     "output_type": "stream",
     "text": [
      "900it [01:16, 11.81it/s]\n"
     ]
    },
    {
     "name": "stdout",
     "output_type": "stream",
     "text": [
      "Converting prediction from <class 'numpy.float32'> to uint8, using threshold of 0.5\n",
      "File already analysed! /media/nkd/data18931/ndwi_int8_13001_18931/ndwi_int8_17574.tif\n",
      "/media/nkd/data18931/ndwi_int8_13001_18931/ndwi_int8_17575.tif\n",
      "the size of current NDWI_img 11355 11355\n"
     ]
    },
    {
     "name": "stderr",
     "output_type": "stream",
     "text": [
      "900it [01:12, 12.41it/s]\n"
     ]
    },
    {
     "name": "stdout",
     "output_type": "stream",
     "text": [
      "Converting prediction from <class 'numpy.float32'> to uint8, using threshold of 0.5\n",
      "File already analysed! /media/nkd/data18931/ndwi_int8_13001_18931/ndwi_int8_17575.tif\n",
      "/media/nkd/data18931/ndwi_int8_13001_18931/ndwi_int8_17576.tif\n",
      "the size of current NDWI_img 11355 11355\n"
     ]
    },
    {
     "name": "stderr",
     "output_type": "stream",
     "text": [
      "900it [01:14, 12.13it/s]\n"
     ]
    },
    {
     "name": "stdout",
     "output_type": "stream",
     "text": [
      "Converting prediction from <class 'numpy.float32'> to uint8, using threshold of 0.5\n",
      "File already analysed! /media/nkd/data18931/ndwi_int8_13001_18931/ndwi_int8_17576.tif\n",
      "/media/nkd/data18931/ndwi_int8_13001_18931/ndwi_int8_17577.tif\n",
      "the size of current NDWI_img 11355 11355\n"
     ]
    },
    {
     "name": "stderr",
     "output_type": "stream",
     "text": [
      "900it [01:12, 12.37it/s]\n"
     ]
    },
    {
     "name": "stdout",
     "output_type": "stream",
     "text": [
      "Converting prediction from <class 'numpy.float32'> to uint8, using threshold of 0.5\n",
      "File already analysed! /media/nkd/data18931/ndwi_int8_13001_18931/ndwi_int8_17577.tif\n",
      "/media/nkd/data18931/ndwi_int8_13001_18931/ndwi_int8_17578.tif\n",
      "the size of current NDWI_img 11356 11355\n"
     ]
    },
    {
     "name": "stderr",
     "output_type": "stream",
     "text": [
      "900it [01:09, 12.95it/s]\n"
     ]
    },
    {
     "name": "stdout",
     "output_type": "stream",
     "text": [
      "Converting prediction from <class 'numpy.float32'> to uint8, using threshold of 0.5\n",
      "File already analysed! /media/nkd/data18931/ndwi_int8_13001_18931/ndwi_int8_17578.tif\n",
      "/media/nkd/data18931/ndwi_int8_13001_18931/ndwi_int8_17579.tif\n",
      "the size of current NDWI_img 11356 11355\n"
     ]
    },
    {
     "name": "stderr",
     "output_type": "stream",
     "text": [
      "900it [01:09, 12.89it/s]\n"
     ]
    },
    {
     "name": "stdout",
     "output_type": "stream",
     "text": [
      "Converting prediction from <class 'numpy.float32'> to uint8, using threshold of 0.5\n",
      "File already analysed! /media/nkd/data18931/ndwi_int8_13001_18931/ndwi_int8_17579.tif\n",
      "/media/nkd/data18931/ndwi_int8_13001_18931/ndwi_int8_17580.tif\n",
      "the size of current NDWI_img 11356 11355\n"
     ]
    },
    {
     "name": "stderr",
     "output_type": "stream",
     "text": [
      "900it [01:09, 12.97it/s]\n"
     ]
    },
    {
     "name": "stdout",
     "output_type": "stream",
     "text": [
      "Converting prediction from <class 'numpy.float32'> to uint8, using threshold of 0.5\n",
      "File already analysed! /media/nkd/data18931/ndwi_int8_13001_18931/ndwi_int8_17580.tif\n",
      "/media/nkd/data18931/ndwi_int8_13001_18931/ndwi_int8_17581.tif\n",
      "the size of current NDWI_img 11356 11355\n"
     ]
    },
    {
     "name": "stderr",
     "output_type": "stream",
     "text": [
      "900it [01:12, 12.44it/s]\n"
     ]
    },
    {
     "name": "stdout",
     "output_type": "stream",
     "text": [
      "Converting prediction from <class 'numpy.float32'> to uint8, using threshold of 0.5\n",
      "File already analysed! /media/nkd/data18931/ndwi_int8_13001_18931/ndwi_int8_17581.tif\n",
      "/media/nkd/data18931/ndwi_int8_13001_18931/ndwi_int8_17582.tif\n",
      "the size of current NDWI_img 11356 11355\n"
     ]
    },
    {
     "name": "stderr",
     "output_type": "stream",
     "text": [
      "900it [01:16, 11.81it/s]\n"
     ]
    },
    {
     "name": "stdout",
     "output_type": "stream",
     "text": [
      "Converting prediction from <class 'numpy.float32'> to uint8, using threshold of 0.5\n",
      "File already analysed! /media/nkd/data18931/ndwi_int8_13001_18931/ndwi_int8_17582.tif\n",
      "/media/nkd/data18931/ndwi_int8_13001_18931/ndwi_int8_17583.tif\n",
      "the size of current NDWI_img 11355 11355\n"
     ]
    },
    {
     "name": "stderr",
     "output_type": "stream",
     "text": [
      "900it [00:43, 20.68it/s]\n"
     ]
    },
    {
     "name": "stdout",
     "output_type": "stream",
     "text": [
      "Converting prediction from <class 'numpy.float32'> to uint8, using threshold of 0.5\n",
      "File already analysed! /media/nkd/data18931/ndwi_int8_13001_18931/ndwi_int8_17583.tif\n",
      "/media/nkd/data18931/ndwi_int8_13001_18931/ndwi_int8_17584.tif\n",
      "the size of current NDWI_img 11355 11355\n"
     ]
    },
    {
     "name": "stderr",
     "output_type": "stream",
     "text": [
      "900it [00:52, 17.04it/s]\n"
     ]
    },
    {
     "name": "stdout",
     "output_type": "stream",
     "text": [
      "Converting prediction from <class 'numpy.float32'> to uint8, using threshold of 0.5\n",
      "File already analysed! /media/nkd/data18931/ndwi_int8_13001_18931/ndwi_int8_17584.tif\n",
      "/media/nkd/data18931/ndwi_int8_13001_18931/ndwi_int8_17585.tif\n",
      "the size of current NDWI_img 11355 11355\n"
     ]
    },
    {
     "name": "stderr",
     "output_type": "stream",
     "text": [
      "900it [01:04, 13.90it/s]\n"
     ]
    },
    {
     "name": "stdout",
     "output_type": "stream",
     "text": [
      "Converting prediction from <class 'numpy.float32'> to uint8, using threshold of 0.5\n",
      "File already analysed! /media/nkd/data18931/ndwi_int8_13001_18931/ndwi_int8_17585.tif\n",
      "/media/nkd/data18931/ndwi_int8_13001_18931/ndwi_int8_17586.tif\n",
      "the size of current NDWI_img 11355 11355\n"
     ]
    },
    {
     "name": "stderr",
     "output_type": "stream",
     "text": [
      "900it [01:08, 13.19it/s]\n"
     ]
    },
    {
     "name": "stdout",
     "output_type": "stream",
     "text": [
      "Converting prediction from <class 'numpy.float32'> to uint8, using threshold of 0.5\n",
      "File already analysed! /media/nkd/data18931/ndwi_int8_13001_18931/ndwi_int8_17586.tif\n",
      "/media/nkd/data18931/ndwi_int8_13001_18931/ndwi_int8_17587.tif\n",
      "the size of current NDWI_img 11355 11355\n"
     ]
    },
    {
     "name": "stderr",
     "output_type": "stream",
     "text": [
      "900it [01:08, 13.08it/s]\n"
     ]
    },
    {
     "name": "stdout",
     "output_type": "stream",
     "text": [
      "Converting prediction from <class 'numpy.float32'> to uint8, using threshold of 0.5\n",
      "File already analysed! /media/nkd/data18931/ndwi_int8_13001_18931/ndwi_int8_17587.tif\n",
      "/media/nkd/data18931/ndwi_int8_13001_18931/ndwi_int8_17588.tif\n",
      "the size of current NDWI_img 11356 11355\n"
     ]
    },
    {
     "name": "stderr",
     "output_type": "stream",
     "text": [
      "900it [01:10, 12.77it/s]\n"
     ]
    },
    {
     "name": "stdout",
     "output_type": "stream",
     "text": [
      "Converting prediction from <class 'numpy.float32'> to uint8, using threshold of 0.5\n",
      "File already analysed! /media/nkd/data18931/ndwi_int8_13001_18931/ndwi_int8_17588.tif\n",
      "/media/nkd/data18931/ndwi_int8_13001_18931/ndwi_int8_17589.tif\n",
      "the size of current NDWI_img 11356 11355\n"
     ]
    },
    {
     "name": "stderr",
     "output_type": "stream",
     "text": [
      "900it [01:09, 12.86it/s]\n"
     ]
    },
    {
     "name": "stdout",
     "output_type": "stream",
     "text": [
      "Converting prediction from <class 'numpy.float32'> to uint8, using threshold of 0.5\n",
      "File already analysed! /media/nkd/data18931/ndwi_int8_13001_18931/ndwi_int8_17589.tif\n",
      "/media/nkd/data18931/ndwi_int8_13001_18931/ndwi_int8_17590.tif\n",
      "the size of current NDWI_img 11356 11355\n"
     ]
    },
    {
     "name": "stderr",
     "output_type": "stream",
     "text": [
      "900it [01:12, 12.35it/s]\n"
     ]
    },
    {
     "name": "stdout",
     "output_type": "stream",
     "text": [
      "Converting prediction from <class 'numpy.float32'> to uint8, using threshold of 0.5\n",
      "File already analysed! /media/nkd/data18931/ndwi_int8_13001_18931/ndwi_int8_17590.tif\n",
      "/media/nkd/data18931/ndwi_int8_13001_18931/ndwi_int8_17591.tif\n",
      "the size of current NDWI_img 11356 11355\n"
     ]
    },
    {
     "name": "stderr",
     "output_type": "stream",
     "text": [
      "900it [01:12, 12.39it/s]\n"
     ]
    },
    {
     "name": "stdout",
     "output_type": "stream",
     "text": [
      "Converting prediction from <class 'numpy.float32'> to uint8, using threshold of 0.5\n",
      "File already analysed! /media/nkd/data18931/ndwi_int8_13001_18931/ndwi_int8_17591.tif\n",
      "/media/nkd/data18931/ndwi_int8_13001_18931/ndwi_int8_17592.tif\n",
      "the size of current NDWI_img 11356 11355\n"
     ]
    },
    {
     "name": "stderr",
     "output_type": "stream",
     "text": [
      "900it [01:15, 11.93it/s]\n"
     ]
    },
    {
     "name": "stdout",
     "output_type": "stream",
     "text": [
      "Converting prediction from <class 'numpy.float32'> to uint8, using threshold of 0.5\n",
      "File already analysed! /media/nkd/data18931/ndwi_int8_13001_18931/ndwi_int8_17592.tif\n",
      "/media/nkd/data18931/ndwi_int8_13001_18931/ndwi_int8_17593.tif\n",
      "the size of current NDWI_img 11355 11356\n"
     ]
    },
    {
     "name": "stderr",
     "output_type": "stream",
     "text": [
      "900it [00:46, 19.20it/s]\n"
     ]
    },
    {
     "name": "stdout",
     "output_type": "stream",
     "text": [
      "Converting prediction from <class 'numpy.float32'> to uint8, using threshold of 0.5\n",
      "File already analysed! /media/nkd/data18931/ndwi_int8_13001_18931/ndwi_int8_17593.tif\n",
      "/media/nkd/data18931/ndwi_int8_13001_18931/ndwi_int8_17594.tif\n",
      "the size of current NDWI_img 11355 11356\n"
     ]
    },
    {
     "name": "stderr",
     "output_type": "stream",
     "text": [
      "900it [00:45, 19.67it/s]\n"
     ]
    },
    {
     "name": "stdout",
     "output_type": "stream",
     "text": [
      "Converting prediction from <class 'numpy.float32'> to uint8, using threshold of 0.5\n",
      "File already analysed! /media/nkd/data18931/ndwi_int8_13001_18931/ndwi_int8_17594.tif\n",
      "/media/nkd/data18931/ndwi_int8_13001_18931/ndwi_int8_17595.tif\n",
      "the size of current NDWI_img 11355 11356\n"
     ]
    },
    {
     "name": "stderr",
     "output_type": "stream",
     "text": [
      "900it [00:50, 17.78it/s]\n"
     ]
    },
    {
     "name": "stdout",
     "output_type": "stream",
     "text": [
      "Converting prediction from <class 'numpy.float32'> to uint8, using threshold of 0.5\n",
      "File already analysed! /media/nkd/data18931/ndwi_int8_13001_18931/ndwi_int8_17595.tif\n",
      "/media/nkd/data18931/ndwi_int8_13001_18931/ndwi_int8_17596.tif\n",
      "the size of current NDWI_img 11356 11356\n"
     ]
    },
    {
     "name": "stderr",
     "output_type": "stream",
     "text": [
      "900it [01:19, 11.36it/s]\n"
     ]
    },
    {
     "name": "stdout",
     "output_type": "stream",
     "text": [
      "Converting prediction from <class 'numpy.float32'> to uint8, using threshold of 0.5\n",
      "File already analysed! /media/nkd/data18931/ndwi_int8_13001_18931/ndwi_int8_17596.tif\n",
      "/media/nkd/data18931/ndwi_int8_13001_18931/ndwi_int8_17597.tif\n",
      "the size of current NDWI_img 11356 11356\n"
     ]
    },
    {
     "name": "stderr",
     "output_type": "stream",
     "text": [
      "900it [01:15, 11.92it/s]\n"
     ]
    },
    {
     "name": "stdout",
     "output_type": "stream",
     "text": [
      "Converting prediction from <class 'numpy.float32'> to uint8, using threshold of 0.5\n",
      "File already analysed! /media/nkd/data18931/ndwi_int8_13001_18931/ndwi_int8_17597.tif\n",
      "/media/nkd/data18931/ndwi_int8_13001_18931/ndwi_int8_17598.tif\n",
      "the size of current NDWI_img 11356 11356\n"
     ]
    },
    {
     "name": "stderr",
     "output_type": "stream",
     "text": [
      "900it [01:10, 12.68it/s]\n"
     ]
    },
    {
     "name": "stdout",
     "output_type": "stream",
     "text": [
      "Converting prediction from <class 'numpy.float32'> to uint8, using threshold of 0.5\n",
      "File already analysed! /media/nkd/data18931/ndwi_int8_13001_18931/ndwi_int8_17598.tif\n",
      "/media/nkd/data18931/ndwi_int8_13001_18931/ndwi_int8_17599.tif\n",
      "the size of current NDWI_img 11356 11356\n"
     ]
    },
    {
     "name": "stderr",
     "output_type": "stream",
     "text": [
      "900it [01:13, 12.20it/s]\n"
     ]
    },
    {
     "name": "stdout",
     "output_type": "stream",
     "text": [
      "Converting prediction from <class 'numpy.float32'> to uint8, using threshold of 0.5\n",
      "File already analysed! /media/nkd/data18931/ndwi_int8_13001_18931/ndwi_int8_17599.tif\n",
      "/media/nkd/data18931/ndwi_int8_13001_18931/ndwi_int8_17600.tif\n",
      "the size of current NDWI_img 11356 11356\n"
     ]
    },
    {
     "name": "stderr",
     "output_type": "stream",
     "text": [
      "900it [01:11, 12.58it/s]\n"
     ]
    },
    {
     "name": "stdout",
     "output_type": "stream",
     "text": [
      "Converting prediction from <class 'numpy.float32'> to uint8, using threshold of 0.5\n",
      "File already analysed! /media/nkd/data18931/ndwi_int8_13001_18931/ndwi_int8_17600.tif\n",
      "/media/nkd/data18931/ndwi_int8_13001_18931/ndwi_int8_17601.tif\n",
      "the size of current NDWI_img 11355 11356\n"
     ]
    },
    {
     "name": "stderr",
     "output_type": "stream",
     "text": [
      "900it [00:42, 21.24it/s]\n"
     ]
    },
    {
     "name": "stdout",
     "output_type": "stream",
     "text": [
      "Converting prediction from <class 'numpy.float32'> to uint8, using threshold of 0.5\n",
      "File already analysed! /media/nkd/data18931/ndwi_int8_13001_18931/ndwi_int8_17601.tif\n",
      "/media/nkd/data18931/ndwi_int8_13001_18931/ndwi_int8_17602.tif\n",
      "the size of current NDWI_img 11356 11356\n"
     ]
    },
    {
     "name": "stderr",
     "output_type": "stream",
     "text": [
      "900it [01:13, 12.28it/s]\n"
     ]
    },
    {
     "name": "stdout",
     "output_type": "stream",
     "text": [
      "Converting prediction from <class 'numpy.float32'> to uint8, using threshold of 0.5\n",
      "File already analysed! /media/nkd/data18931/ndwi_int8_13001_18931/ndwi_int8_17602.tif\n",
      "/media/nkd/data18931/ndwi_int8_13001_18931/ndwi_int8_17603.tif\n",
      "the size of current NDWI_img 11356 11356\n"
     ]
    },
    {
     "name": "stderr",
     "output_type": "stream",
     "text": [
      "900it [01:17, 11.67it/s]\n"
     ]
    },
    {
     "name": "stdout",
     "output_type": "stream",
     "text": [
      "Converting prediction from <class 'numpy.float32'> to uint8, using threshold of 0.5\n",
      "File already analysed! /media/nkd/data18931/ndwi_int8_13001_18931/ndwi_int8_17603.tif\n",
      "/media/nkd/data18931/ndwi_int8_13001_18931/ndwi_int8_17604.tif\n",
      "the size of current NDWI_img 11356 11356\n"
     ]
    },
    {
     "name": "stderr",
     "output_type": "stream",
     "text": [
      "900it [01:13, 12.32it/s]\n"
     ]
    },
    {
     "name": "stdout",
     "output_type": "stream",
     "text": [
      "Converting prediction from <class 'numpy.float32'> to uint8, using threshold of 0.5\n",
      "File already analysed! /media/nkd/data18931/ndwi_int8_13001_18931/ndwi_int8_17604.tif\n",
      "/media/nkd/data18931/ndwi_int8_13001_18931/ndwi_int8_17605.tif\n",
      "the size of current NDWI_img 11356 11356\n"
     ]
    },
    {
     "name": "stderr",
     "output_type": "stream",
     "text": [
      "900it [01:11, 12.56it/s]\n"
     ]
    },
    {
     "name": "stdout",
     "output_type": "stream",
     "text": [
      "Converting prediction from <class 'numpy.float32'> to uint8, using threshold of 0.5\n",
      "File already analysed! /media/nkd/data18931/ndwi_int8_13001_18931/ndwi_int8_17605.tif\n",
      "/media/nkd/data18931/ndwi_int8_13001_18931/ndwi_int8_17606.tif\n",
      "the size of current NDWI_img 11356 11356\n"
     ]
    },
    {
     "name": "stderr",
     "output_type": "stream",
     "text": [
      "900it [01:09, 12.90it/s]\n"
     ]
    },
    {
     "name": "stdout",
     "output_type": "stream",
     "text": [
      "Converting prediction from <class 'numpy.float32'> to uint8, using threshold of 0.5\n",
      "File already analysed! /media/nkd/data18931/ndwi_int8_13001_18931/ndwi_int8_17606.tif\n",
      "/media/nkd/data18931/ndwi_int8_13001_18931/ndwi_int8_17607.tif\n",
      "the size of current NDWI_img 11356 11356\n"
     ]
    },
    {
     "name": "stderr",
     "output_type": "stream",
     "text": [
      "900it [00:49, 18.08it/s]\n"
     ]
    },
    {
     "name": "stdout",
     "output_type": "stream",
     "text": [
      "Converting prediction from <class 'numpy.float32'> to uint8, using threshold of 0.5\n",
      "File already analysed! /media/nkd/data18931/ndwi_int8_13001_18931/ndwi_int8_17607.tif\n",
      "/media/nkd/data18931/ndwi_int8_13001_18931/ndwi_int8_17608.tif\n",
      "the size of current NDWI_img 11356 11356\n"
     ]
    },
    {
     "name": "stderr",
     "output_type": "stream",
     "text": [
      "900it [01:00, 14.82it/s]\n"
     ]
    },
    {
     "name": "stdout",
     "output_type": "stream",
     "text": [
      "Converting prediction from <class 'numpy.float32'> to uint8, using threshold of 0.5\n",
      "File already analysed! /media/nkd/data18931/ndwi_int8_13001_18931/ndwi_int8_17608.tif\n",
      "/media/nkd/data18931/ndwi_int8_13001_18931/ndwi_int8_17609.tif\n",
      "the size of current NDWI_img 11356 11356\n"
     ]
    },
    {
     "name": "stderr",
     "output_type": "stream",
     "text": [
      "900it [01:00, 14.78it/s]\n"
     ]
    },
    {
     "name": "stdout",
     "output_type": "stream",
     "text": [
      "Converting prediction from <class 'numpy.float32'> to uint8, using threshold of 0.5\n",
      "File already analysed! /media/nkd/data18931/ndwi_int8_13001_18931/ndwi_int8_17609.tif\n",
      "/media/nkd/data18931/ndwi_int8_13001_18931/ndwi_int8_17610.tif\n",
      "the size of current NDWI_img 11356 11356\n"
     ]
    },
    {
     "name": "stderr",
     "output_type": "stream",
     "text": [
      "900it [00:51, 17.40it/s]\n"
     ]
    },
    {
     "name": "stdout",
     "output_type": "stream",
     "text": [
      "Converting prediction from <class 'numpy.float32'> to uint8, using threshold of 0.5\n",
      "File already analysed! /media/nkd/data18931/ndwi_int8_13001_18931/ndwi_int8_17610.tif\n",
      "/media/nkd/data18931/ndwi_int8_13001_18931/ndwi_int8_17611.tif\n",
      "the size of current NDWI_img 11356 11356\n"
     ]
    },
    {
     "name": "stderr",
     "output_type": "stream",
     "text": [
      "900it [00:45, 20.00it/s]\n"
     ]
    },
    {
     "name": "stdout",
     "output_type": "stream",
     "text": [
      "Converting prediction from <class 'numpy.float32'> to uint8, using threshold of 0.5\n",
      "File already analysed! /media/nkd/data18931/ndwi_int8_13001_18931/ndwi_int8_17611.tif\n",
      "/media/nkd/data18931/ndwi_int8_13001_18931/ndwi_int8_17612.tif\n",
      "the size of current NDWI_img 11356 11356\n"
     ]
    },
    {
     "name": "stderr",
     "output_type": "stream",
     "text": [
      "900it [00:45, 19.67it/s]\n"
     ]
    },
    {
     "name": "stdout",
     "output_type": "stream",
     "text": [
      "Converting prediction from <class 'numpy.float32'> to uint8, using threshold of 0.5\n",
      "File already analysed! /media/nkd/data18931/ndwi_int8_13001_18931/ndwi_int8_17612.tif\n",
      "/media/nkd/data18931/ndwi_int8_13001_18931/ndwi_int8_17613.tif\n",
      "the size of current NDWI_img 11356 11356\n"
     ]
    },
    {
     "name": "stderr",
     "output_type": "stream",
     "text": [
      "900it [00:39, 22.74it/s]\n"
     ]
    },
    {
     "name": "stdout",
     "output_type": "stream",
     "text": [
      "Converting prediction from <class 'numpy.float32'> to uint8, using threshold of 0.5\n",
      "File already analysed! /media/nkd/data18931/ndwi_int8_13001_18931/ndwi_int8_17613.tif\n",
      "/media/nkd/data18931/ndwi_int8_13001_18931/ndwi_int8_17614.tif\n",
      "the size of current NDWI_img 11355 11356\n"
     ]
    },
    {
     "name": "stderr",
     "output_type": "stream",
     "text": [
      "900it [00:42, 21.35it/s]\n"
     ]
    },
    {
     "name": "stdout",
     "output_type": "stream",
     "text": [
      "Converting prediction from <class 'numpy.float32'> to uint8, using threshold of 0.5\n",
      "File already analysed! /media/nkd/data18931/ndwi_int8_13001_18931/ndwi_int8_17614.tif\n",
      "/media/nkd/data18931/ndwi_int8_13001_18931/ndwi_int8_17615.tif\n",
      "the size of current NDWI_img 11356 11356\n"
     ]
    },
    {
     "name": "stderr",
     "output_type": "stream",
     "text": [
      "900it [00:45, 19.85it/s]\n"
     ]
    },
    {
     "name": "stdout",
     "output_type": "stream",
     "text": [
      "Converting prediction from <class 'numpy.float32'> to uint8, using threshold of 0.5\n",
      "File already analysed! /media/nkd/data18931/ndwi_int8_13001_18931/ndwi_int8_17615.tif\n",
      "/media/nkd/data18931/ndwi_int8_13001_18931/ndwi_int8_17616.tif\n",
      "the size of current NDWI_img 11356 11356\n"
     ]
    },
    {
     "name": "stderr",
     "output_type": "stream",
     "text": [
      "900it [00:53, 16.87it/s]\n"
     ]
    },
    {
     "name": "stdout",
     "output_type": "stream",
     "text": [
      "Converting prediction from <class 'numpy.float32'> to uint8, using threshold of 0.5\n",
      "File already analysed! /media/nkd/data18931/ndwi_int8_13001_18931/ndwi_int8_17616.tif\n",
      "/media/nkd/data18931/ndwi_int8_13001_18931/ndwi_int8_17617.tif\n",
      "the size of current NDWI_img 11356 11356\n"
     ]
    },
    {
     "name": "stderr",
     "output_type": "stream",
     "text": [
      "900it [01:06, 13.62it/s]\n"
     ]
    },
    {
     "name": "stdout",
     "output_type": "stream",
     "text": [
      "Converting prediction from <class 'numpy.float32'> to uint8, using threshold of 0.5\n",
      "File already analysed! /media/nkd/data18931/ndwi_int8_13001_18931/ndwi_int8_17617.tif\n",
      "/media/nkd/data18931/ndwi_int8_13001_18931/ndwi_int8_17618.tif\n",
      "the size of current NDWI_img 11356 11356\n"
     ]
    },
    {
     "name": "stderr",
     "output_type": "stream",
     "text": [
      "900it [00:56, 15.88it/s]\n"
     ]
    },
    {
     "name": "stdout",
     "output_type": "stream",
     "text": [
      "Converting prediction from <class 'numpy.float32'> to uint8, using threshold of 0.5\n",
      "File already analysed! /media/nkd/data18931/ndwi_int8_13001_18931/ndwi_int8_17618.tif\n",
      "/media/nkd/data18931/ndwi_int8_13001_18931/ndwi_int8_17619.tif\n",
      "the size of current NDWI_img 11356 11356\n"
     ]
    },
    {
     "name": "stderr",
     "output_type": "stream",
     "text": [
      "900it [00:42, 21.26it/s]\n"
     ]
    },
    {
     "name": "stdout",
     "output_type": "stream",
     "text": [
      "Converting prediction from <class 'numpy.float32'> to uint8, using threshold of 0.5\n",
      "File already analysed! /media/nkd/data18931/ndwi_int8_13001_18931/ndwi_int8_17619.tif\n",
      "/media/nkd/data18931/ndwi_int8_13001_18931/ndwi_int8_17620.tif\n",
      "the size of current NDWI_img 11355 11356\n"
     ]
    },
    {
     "name": "stderr",
     "output_type": "stream",
     "text": [
      "900it [00:55, 16.07it/s]\n"
     ]
    },
    {
     "name": "stdout",
     "output_type": "stream",
     "text": [
      "Converting prediction from <class 'numpy.float32'> to uint8, using threshold of 0.5\n",
      "File already analysed! /media/nkd/data18931/ndwi_int8_13001_18931/ndwi_int8_17620.tif\n",
      "/media/nkd/data18931/ndwi_int8_13001_18931/ndwi_int8_17621.tif\n",
      "the size of current NDWI_img 11356 11356\n"
     ]
    },
    {
     "name": "stderr",
     "output_type": "stream",
     "text": [
      "900it [01:18, 11.45it/s]\n"
     ]
    },
    {
     "name": "stdout",
     "output_type": "stream",
     "text": [
      "Converting prediction from <class 'numpy.float32'> to uint8, using threshold of 0.5\n",
      "File already analysed! /media/nkd/data18931/ndwi_int8_13001_18931/ndwi_int8_17621.tif\n",
      "/media/nkd/data18931/ndwi_int8_13001_18931/ndwi_int8_17622.tif\n",
      "the size of current NDWI_img 11356 11356\n"
     ]
    },
    {
     "name": "stderr",
     "output_type": "stream",
     "text": [
      "900it [01:18, 11.48it/s]\n"
     ]
    },
    {
     "name": "stdout",
     "output_type": "stream",
     "text": [
      "Converting prediction from <class 'numpy.float32'> to uint8, using threshold of 0.5\n",
      "File already analysed! /media/nkd/data18931/ndwi_int8_13001_18931/ndwi_int8_17622.tif\n",
      "/media/nkd/data18931/ndwi_int8_13001_18931/ndwi_int8_17623.tif\n",
      "the size of current NDWI_img 11356 11356\n"
     ]
    },
    {
     "name": "stderr",
     "output_type": "stream",
     "text": [
      "900it [01:16, 11.81it/s]\n"
     ]
    },
    {
     "name": "stdout",
     "output_type": "stream",
     "text": [
      "Converting prediction from <class 'numpy.float32'> to uint8, using threshold of 0.5\n",
      "File already analysed! /media/nkd/data18931/ndwi_int8_13001_18931/ndwi_int8_17623.tif\n",
      "/media/nkd/data18931/ndwi_int8_13001_18931/ndwi_int8_17624.tif\n",
      "the size of current NDWI_img 11356 11356\n"
     ]
    },
    {
     "name": "stderr",
     "output_type": "stream",
     "text": [
      "900it [01:16, 11.71it/s]\n"
     ]
    },
    {
     "name": "stdout",
     "output_type": "stream",
     "text": [
      "Converting prediction from <class 'numpy.float32'> to uint8, using threshold of 0.5\n",
      "File already analysed! /media/nkd/data18931/ndwi_int8_13001_18931/ndwi_int8_17624.tif\n",
      "/media/nkd/data18931/ndwi_int8_13001_18931/ndwi_int8_17625.tif\n",
      "the size of current NDWI_img 11356 11356\n"
     ]
    },
    {
     "name": "stderr",
     "output_type": "stream",
     "text": [
      "900it [01:09, 12.86it/s]\n"
     ]
    },
    {
     "name": "stdout",
     "output_type": "stream",
     "text": [
      "Converting prediction from <class 'numpy.float32'> to uint8, using threshold of 0.5\n",
      "File already analysed! /media/nkd/data18931/ndwi_int8_13001_18931/ndwi_int8_17625.tif\n",
      "/media/nkd/data18931/ndwi_int8_13001_18931/ndwi_int8_17626.tif\n",
      "the size of current NDWI_img 11355 11355\n"
     ]
    },
    {
     "name": "stderr",
     "output_type": "stream",
     "text": [
      "900it [00:58, 15.32it/s]\n"
     ]
    },
    {
     "name": "stdout",
     "output_type": "stream",
     "text": [
      "Converting prediction from <class 'numpy.float32'> to uint8, using threshold of 0.5\n",
      "File already analysed! /media/nkd/data18931/ndwi_int8_13001_18931/ndwi_int8_17626.tif\n",
      "/media/nkd/data18931/ndwi_int8_13001_18931/ndwi_int8_17627.tif\n",
      "the size of current NDWI_img 11356 11355\n"
     ]
    },
    {
     "name": "stderr",
     "output_type": "stream",
     "text": [
      "900it [01:19, 11.38it/s]\n"
     ]
    },
    {
     "name": "stdout",
     "output_type": "stream",
     "text": [
      "Converting prediction from <class 'numpy.float32'> to uint8, using threshold of 0.5\n",
      "File already analysed! /media/nkd/data18931/ndwi_int8_13001_18931/ndwi_int8_17627.tif\n",
      "/media/nkd/data18931/ndwi_int8_13001_18931/ndwi_int8_17628.tif\n",
      "the size of current NDWI_img 11356 11355\n"
     ]
    },
    {
     "name": "stderr",
     "output_type": "stream",
     "text": [
      "900it [01:20, 11.25it/s]\n"
     ]
    },
    {
     "name": "stdout",
     "output_type": "stream",
     "text": [
      "Converting prediction from <class 'numpy.float32'> to uint8, using threshold of 0.5\n",
      "File already analysed! /media/nkd/data18931/ndwi_int8_13001_18931/ndwi_int8_17628.tif\n",
      "/media/nkd/data18931/ndwi_int8_13001_18931/ndwi_int8_17629.tif\n",
      "the size of current NDWI_img 11356 11355\n"
     ]
    },
    {
     "name": "stderr",
     "output_type": "stream",
     "text": [
      "900it [01:16, 11.75it/s]\n"
     ]
    },
    {
     "name": "stdout",
     "output_type": "stream",
     "text": [
      "Converting prediction from <class 'numpy.float32'> to uint8, using threshold of 0.5\n",
      "File already analysed! /media/nkd/data18931/ndwi_int8_13001_18931/ndwi_int8_17629.tif\n",
      "/media/nkd/data18931/ndwi_int8_13001_18931/ndwi_int8_17630.tif\n",
      "the size of current NDWI_img 11356 11355\n"
     ]
    },
    {
     "name": "stderr",
     "output_type": "stream",
     "text": [
      "900it [01:19, 11.33it/s]\n"
     ]
    },
    {
     "name": "stdout",
     "output_type": "stream",
     "text": [
      "Converting prediction from <class 'numpy.float32'> to uint8, using threshold of 0.5\n",
      "File already analysed! /media/nkd/data18931/ndwi_int8_13001_18931/ndwi_int8_17630.tif\n",
      "/media/nkd/data18931/ndwi_int8_13001_18931/ndwi_int8_17631.tif\n",
      "the size of current NDWI_img 11356 11355\n"
     ]
    },
    {
     "name": "stderr",
     "output_type": "stream",
     "text": [
      "900it [01:18, 11.52it/s]\n"
     ]
    },
    {
     "name": "stdout",
     "output_type": "stream",
     "text": [
      "Converting prediction from <class 'numpy.float32'> to uint8, using threshold of 0.5\n",
      "File already analysed! /media/nkd/data18931/ndwi_int8_13001_18931/ndwi_int8_17631.tif\n",
      "/media/nkd/data18931/ndwi_int8_13001_18931/ndwi_int8_17632.tif\n",
      "the size of current NDWI_img 11355 11355\n"
     ]
    },
    {
     "name": "stderr",
     "output_type": "stream",
     "text": [
      "900it [00:49, 18.33it/s]\n"
     ]
    },
    {
     "name": "stdout",
     "output_type": "stream",
     "text": [
      "Converting prediction from <class 'numpy.float32'> to uint8, using threshold of 0.5\n",
      "File already analysed! /media/nkd/data18931/ndwi_int8_13001_18931/ndwi_int8_17632.tif\n",
      "/media/nkd/data18931/ndwi_int8_13001_18931/ndwi_int8_17633.tif\n",
      "the size of current NDWI_img 11356 11355\n"
     ]
    },
    {
     "name": "stderr",
     "output_type": "stream",
     "text": [
      "900it [01:17, 11.66it/s]\n"
     ]
    },
    {
     "name": "stdout",
     "output_type": "stream",
     "text": [
      "Converting prediction from <class 'numpy.float32'> to uint8, using threshold of 0.5\n",
      "File already analysed! /media/nkd/data18931/ndwi_int8_13001_18931/ndwi_int8_17633.tif\n",
      "/media/nkd/data18931/ndwi_int8_13001_18931/ndwi_int8_17634.tif\n",
      "the size of current NDWI_img 11356 11355\n"
     ]
    },
    {
     "name": "stderr",
     "output_type": "stream",
     "text": [
      "900it [01:15, 12.00it/s]\n"
     ]
    },
    {
     "name": "stdout",
     "output_type": "stream",
     "text": [
      "Converting prediction from <class 'numpy.float32'> to uint8, using threshold of 0.5\n",
      "File already analysed! /media/nkd/data18931/ndwi_int8_13001_18931/ndwi_int8_17634.tif\n",
      "/media/nkd/data18931/ndwi_int8_13001_18931/ndwi_int8_17635.tif\n",
      "the size of current NDWI_img 11356 11355\n"
     ]
    },
    {
     "name": "stderr",
     "output_type": "stream",
     "text": [
      "900it [01:16, 11.70it/s]\n"
     ]
    },
    {
     "name": "stdout",
     "output_type": "stream",
     "text": [
      "Converting prediction from <class 'numpy.float32'> to uint8, using threshold of 0.5\n",
      "File already analysed! /media/nkd/data18931/ndwi_int8_13001_18931/ndwi_int8_17635.tif\n",
      "/media/nkd/data18931/ndwi_int8_13001_18931/ndwi_int8_17636.tif\n",
      "the size of current NDWI_img 11356 11355\n"
     ]
    },
    {
     "name": "stderr",
     "output_type": "stream",
     "text": [
      "900it [01:17, 11.65it/s]\n"
     ]
    },
    {
     "name": "stdout",
     "output_type": "stream",
     "text": [
      "Converting prediction from <class 'numpy.float32'> to uint8, using threshold of 0.5\n",
      "File already analysed! /media/nkd/data18931/ndwi_int8_13001_18931/ndwi_int8_17636.tif\n",
      "/media/nkd/data18931/ndwi_int8_13001_18931/ndwi_int8_17637.tif\n",
      "the size of current NDWI_img 11356 11355\n"
     ]
    },
    {
     "name": "stderr",
     "output_type": "stream",
     "text": [
      "900it [01:16, 11.74it/s]\n"
     ]
    },
    {
     "name": "stdout",
     "output_type": "stream",
     "text": [
      "Converting prediction from <class 'numpy.float32'> to uint8, using threshold of 0.5\n",
      "File already analysed! /media/nkd/data18931/ndwi_int8_13001_18931/ndwi_int8_17637.tif\n",
      "/media/nkd/data18931/ndwi_int8_13001_18931/ndwi_int8_17638.tif\n",
      "the size of current NDWI_img 11355 11355\n"
     ]
    },
    {
     "name": "stderr",
     "output_type": "stream",
     "text": [
      "900it [00:46, 19.48it/s]\n"
     ]
    },
    {
     "name": "stdout",
     "output_type": "stream",
     "text": [
      "Converting prediction from <class 'numpy.float32'> to uint8, using threshold of 0.5\n",
      "File already analysed! /media/nkd/data18931/ndwi_int8_13001_18931/ndwi_int8_17638.tif\n",
      "/media/nkd/data18931/ndwi_int8_13001_18931/ndwi_int8_17639.tif\n",
      "the size of current NDWI_img 11356 11355\n"
     ]
    },
    {
     "name": "stderr",
     "output_type": "stream",
     "text": [
      "900it [00:56, 16.03it/s]\n"
     ]
    },
    {
     "name": "stdout",
     "output_type": "stream",
     "text": [
      "Converting prediction from <class 'numpy.float32'> to uint8, using threshold of 0.5\n",
      "File already analysed! /media/nkd/data18931/ndwi_int8_13001_18931/ndwi_int8_17639.tif\n",
      "/media/nkd/data18931/ndwi_int8_13001_18931/ndwi_int8_17640.tif\n",
      "the size of current NDWI_img 11356 11355\n"
     ]
    },
    {
     "name": "stderr",
     "output_type": "stream",
     "text": [
      "900it [01:08, 13.12it/s]\n"
     ]
    },
    {
     "name": "stdout",
     "output_type": "stream",
     "text": [
      "Converting prediction from <class 'numpy.float32'> to uint8, using threshold of 0.5\n",
      "File already analysed! /media/nkd/data18931/ndwi_int8_13001_18931/ndwi_int8_17640.tif\n",
      "/media/nkd/data18931/ndwi_int8_13001_18931/ndwi_int8_17641.tif\n",
      "the size of current NDWI_img 11356 11355\n"
     ]
    },
    {
     "name": "stderr",
     "output_type": "stream",
     "text": [
      "900it [01:13, 12.20it/s]\n"
     ]
    },
    {
     "name": "stdout",
     "output_type": "stream",
     "text": [
      "Converting prediction from <class 'numpy.float32'> to uint8, using threshold of 0.5\n",
      "File already analysed! /media/nkd/data18931/ndwi_int8_13001_18931/ndwi_int8_17641.tif\n",
      "/media/nkd/data18931/ndwi_int8_13001_18931/ndwi_int8_17642.tif\n",
      "the size of current NDWI_img 11356 11355\n"
     ]
    },
    {
     "name": "stderr",
     "output_type": "stream",
     "text": [
      "900it [01:17, 11.67it/s]\n"
     ]
    },
    {
     "name": "stdout",
     "output_type": "stream",
     "text": [
      "Converting prediction from <class 'numpy.float32'> to uint8, using threshold of 0.5\n",
      "File already analysed! /media/nkd/data18931/ndwi_int8_13001_18931/ndwi_int8_17642.tif\n",
      "/media/nkd/data18931/ndwi_int8_13001_18931/ndwi_int8_17643.tif\n",
      "the size of current NDWI_img 11356 11355\n"
     ]
    },
    {
     "name": "stderr",
     "output_type": "stream",
     "text": [
      "900it [01:14, 12.03it/s]\n"
     ]
    },
    {
     "name": "stdout",
     "output_type": "stream",
     "text": [
      "Converting prediction from <class 'numpy.float32'> to uint8, using threshold of 0.5\n",
      "File already analysed! /media/nkd/data18931/ndwi_int8_13001_18931/ndwi_int8_17643.tif\n",
      "/media/nkd/data18931/ndwi_int8_13001_18931/ndwi_int8_17644.tif\n",
      "the size of current NDWI_img 11356 11355\n"
     ]
    },
    {
     "name": "stderr",
     "output_type": "stream",
     "text": [
      "900it [00:46, 19.37it/s]\n"
     ]
    },
    {
     "name": "stdout",
     "output_type": "stream",
     "text": [
      "Converting prediction from <class 'numpy.float32'> to uint8, using threshold of 0.5\n",
      "File already analysed! /media/nkd/data18931/ndwi_int8_13001_18931/ndwi_int8_17644.tif\n",
      "/media/nkd/data18931/ndwi_int8_13001_18931/ndwi_int8_17645.tif\n",
      "the size of current NDWI_img 11356 11355\n"
     ]
    },
    {
     "name": "stderr",
     "output_type": "stream",
     "text": [
      "900it [00:56, 15.93it/s]\n"
     ]
    },
    {
     "name": "stdout",
     "output_type": "stream",
     "text": [
      "Converting prediction from <class 'numpy.float32'> to uint8, using threshold of 0.5\n",
      "File already analysed! /media/nkd/data18931/ndwi_int8_13001_18931/ndwi_int8_17645.tif\n",
      "/media/nkd/data18931/ndwi_int8_13001_18931/ndwi_int8_17646.tif\n",
      "the size of current NDWI_img 11356 11355\n"
     ]
    },
    {
     "name": "stderr",
     "output_type": "stream",
     "text": [
      "900it [01:06, 13.55it/s]\n"
     ]
    },
    {
     "name": "stdout",
     "output_type": "stream",
     "text": [
      "Converting prediction from <class 'numpy.float32'> to uint8, using threshold of 0.5\n",
      "File already analysed! /media/nkd/data18931/ndwi_int8_13001_18931/ndwi_int8_17646.tif\n",
      "/media/nkd/data18931/ndwi_int8_13001_18931/ndwi_int8_17647.tif\n",
      "the size of current NDWI_img 11356 11356\n"
     ]
    },
    {
     "name": "stderr",
     "output_type": "stream",
     "text": [
      "900it [00:42, 21.01it/s]\n"
     ]
    },
    {
     "name": "stdout",
     "output_type": "stream",
     "text": [
      "Converting prediction from <class 'numpy.float32'> to uint8, using threshold of 0.5\n",
      "File already analysed! /media/nkd/data18931/ndwi_int8_13001_18931/ndwi_int8_17647.tif\n",
      "/media/nkd/data18931/ndwi_int8_13001_18931/ndwi_int8_17648.tif\n",
      "the size of current NDWI_img 11356 11356\n"
     ]
    },
    {
     "name": "stderr",
     "output_type": "stream",
     "text": [
      "900it [00:33, 26.88it/s]\n"
     ]
    },
    {
     "name": "stdout",
     "output_type": "stream",
     "text": [
      "Converting prediction from <class 'numpy.float32'> to uint8, using threshold of 0.5\n",
      "File already analysed! /media/nkd/data18931/ndwi_int8_13001_18931/ndwi_int8_17648.tif\n",
      "/media/nkd/data18931/ndwi_int8_13001_18931/ndwi_int8_17649.tif\n",
      "the size of current NDWI_img 11356 11356\n"
     ]
    },
    {
     "name": "stderr",
     "output_type": "stream",
     "text": [
      "900it [00:40, 22.04it/s]\n"
     ]
    },
    {
     "name": "stdout",
     "output_type": "stream",
     "text": [
      "Converting prediction from <class 'numpy.float32'> to uint8, using threshold of 0.5\n",
      "File already analysed! /media/nkd/data18931/ndwi_int8_13001_18931/ndwi_int8_17649.tif\n",
      "/media/nkd/data18931/ndwi_int8_13001_18931/ndwi_int8_17650.tif\n",
      "the size of current NDWI_img 11356 11356\n"
     ]
    },
    {
     "name": "stderr",
     "output_type": "stream",
     "text": [
      "900it [00:50, 17.78it/s]\n"
     ]
    },
    {
     "name": "stdout",
     "output_type": "stream",
     "text": [
      "Converting prediction from <class 'numpy.float32'> to uint8, using threshold of 0.5\n",
      "File already analysed! /media/nkd/data18931/ndwi_int8_13001_18931/ndwi_int8_17650.tif\n",
      "/media/nkd/data18931/ndwi_int8_13001_18931/ndwi_int8_17651.tif\n",
      "the size of current NDWI_img 11356 11356\n"
     ]
    },
    {
     "name": "stderr",
     "output_type": "stream",
     "text": [
      "900it [00:48, 18.46it/s]\n"
     ]
    },
    {
     "name": "stdout",
     "output_type": "stream",
     "text": [
      "Converting prediction from <class 'numpy.float32'> to uint8, using threshold of 0.5\n",
      "File already analysed! /media/nkd/data18931/ndwi_int8_13001_18931/ndwi_int8_17651.tif\n",
      "/media/nkd/data18931/ndwi_int8_13001_18931/ndwi_int8_17652.tif\n",
      "the size of current NDWI_img 11355 11356\n"
     ]
    },
    {
     "name": "stderr",
     "output_type": "stream",
     "text": [
      "900it [00:47, 19.10it/s]\n"
     ]
    },
    {
     "name": "stdout",
     "output_type": "stream",
     "text": [
      "Converting prediction from <class 'numpy.float32'> to uint8, using threshold of 0.5\n",
      "File already analysed! /media/nkd/data18931/ndwi_int8_13001_18931/ndwi_int8_17652.tif\n",
      "/media/nkd/data18931/ndwi_int8_13001_18931/ndwi_int8_17653.tif\n",
      "the size of current NDWI_img 11355 11356\n"
     ]
    },
    {
     "name": "stderr",
     "output_type": "stream",
     "text": [
      "900it [00:44, 20.02it/s]\n"
     ]
    },
    {
     "name": "stdout",
     "output_type": "stream",
     "text": [
      "Converting prediction from <class 'numpy.float32'> to uint8, using threshold of 0.5\n",
      "File already analysed! /media/nkd/data18931/ndwi_int8_13001_18931/ndwi_int8_17653.tif\n",
      "/media/nkd/data18931/ndwi_int8_13001_18931/ndwi_int8_17654.tif\n",
      "the size of current NDWI_img 11356 11356\n"
     ]
    },
    {
     "name": "stderr",
     "output_type": "stream",
     "text": [
      "900it [00:41, 21.45it/s]\n"
     ]
    },
    {
     "name": "stdout",
     "output_type": "stream",
     "text": [
      "Converting prediction from <class 'numpy.float32'> to uint8, using threshold of 0.5\n",
      "File already analysed! /media/nkd/data18931/ndwi_int8_13001_18931/ndwi_int8_17654.tif\n",
      "/media/nkd/data18931/ndwi_int8_13001_18931/ndwi_int8_17655.tif\n",
      "the size of current NDWI_img 11355 11356\n"
     ]
    },
    {
     "name": "stderr",
     "output_type": "stream",
     "text": [
      "900it [00:45, 19.75it/s]\n"
     ]
    },
    {
     "name": "stdout",
     "output_type": "stream",
     "text": [
      "Converting prediction from <class 'numpy.float32'> to uint8, using threshold of 0.5\n",
      "File already analysed! /media/nkd/data18931/ndwi_int8_13001_18931/ndwi_int8_17655.tif\n",
      "/media/nkd/data18931/ndwi_int8_13001_18931/ndwi_int8_17656.tif\n",
      "the size of current NDWI_img 11355 11356\n"
     ]
    },
    {
     "name": "stderr",
     "output_type": "stream",
     "text": [
      "900it [00:45, 19.77it/s]\n"
     ]
    },
    {
     "name": "stdout",
     "output_type": "stream",
     "text": [
      "Converting prediction from <class 'numpy.float32'> to uint8, using threshold of 0.5\n",
      "File already analysed! /media/nkd/data18931/ndwi_int8_13001_18931/ndwi_int8_17656.tif\n",
      "/media/nkd/data18931/ndwi_int8_13001_18931/ndwi_int8_17657.tif\n",
      "the size of current NDWI_img 11355 11356\n"
     ]
    },
    {
     "name": "stderr",
     "output_type": "stream",
     "text": [
      "900it [00:43, 20.71it/s]\n"
     ]
    },
    {
     "name": "stdout",
     "output_type": "stream",
     "text": [
      "Converting prediction from <class 'numpy.float32'> to uint8, using threshold of 0.5\n",
      "File already analysed! /media/nkd/data18931/ndwi_int8_13001_18931/ndwi_int8_17657.tif\n",
      "/media/nkd/data18931/ndwi_int8_13001_18931/ndwi_int8_17658.tif\n",
      "the size of current NDWI_img 11355 11356\n"
     ]
    },
    {
     "name": "stderr",
     "output_type": "stream",
     "text": [
      "900it [00:55, 16.28it/s]\n"
     ]
    },
    {
     "name": "stdout",
     "output_type": "stream",
     "text": [
      "Converting prediction from <class 'numpy.float32'> to uint8, using threshold of 0.5\n",
      "File already analysed! /media/nkd/data18931/ndwi_int8_13001_18931/ndwi_int8_17658.tif\n",
      "/media/nkd/data18931/ndwi_int8_13001_18931/ndwi_int8_17659.tif\n",
      "the size of current NDWI_img 11355 11356\n"
     ]
    },
    {
     "name": "stderr",
     "output_type": "stream",
     "text": [
      "900it [00:51, 17.31it/s]\n"
     ]
    },
    {
     "name": "stdout",
     "output_type": "stream",
     "text": [
      "Converting prediction from <class 'numpy.float32'> to uint8, using threshold of 0.5\n",
      "File already analysed! /media/nkd/data18931/ndwi_int8_13001_18931/ndwi_int8_17659.tif\n",
      "/media/nkd/data18931/ndwi_int8_13001_18931/ndwi_int8_17660.tif\n",
      "the size of current NDWI_img 11356 11356\n"
     ]
    },
    {
     "name": "stderr",
     "output_type": "stream",
     "text": [
      "900it [00:55, 16.33it/s]\n"
     ]
    },
    {
     "name": "stdout",
     "output_type": "stream",
     "text": [
      "Converting prediction from <class 'numpy.float32'> to uint8, using threshold of 0.5\n",
      "File already analysed! /media/nkd/data18931/ndwi_int8_13001_18931/ndwi_int8_17660.tif\n",
      "/media/nkd/data18931/ndwi_int8_13001_18931/ndwi_int8_17661.tif\n",
      "the size of current NDWI_img 11356 11356\n"
     ]
    },
    {
     "name": "stderr",
     "output_type": "stream",
     "text": [
      "900it [00:50, 17.88it/s]\n"
     ]
    },
    {
     "name": "stdout",
     "output_type": "stream",
     "text": [
      "Converting prediction from <class 'numpy.float32'> to uint8, using threshold of 0.5\n",
      "File already analysed! /media/nkd/data18931/ndwi_int8_13001_18931/ndwi_int8_17661.tif\n",
      "/media/nkd/data18931/ndwi_int8_13001_18931/ndwi_int8_17662.tif\n",
      "the size of current NDWI_img 11356 11356\n"
     ]
    },
    {
     "name": "stderr",
     "output_type": "stream",
     "text": [
      "900it [00:51, 17.62it/s]\n"
     ]
    },
    {
     "name": "stdout",
     "output_type": "stream",
     "text": [
      "Converting prediction from <class 'numpy.float32'> to uint8, using threshold of 0.5\n",
      "File already analysed! /media/nkd/data18931/ndwi_int8_13001_18931/ndwi_int8_17662.tif\n",
      "/media/nkd/data18931/ndwi_int8_13001_18931/ndwi_int8_17663.tif\n",
      "the size of current NDWI_img 11356 11356\n"
     ]
    },
    {
     "name": "stderr",
     "output_type": "stream",
     "text": [
      "900it [00:41, 21.48it/s]\n"
     ]
    },
    {
     "name": "stdout",
     "output_type": "stream",
     "text": [
      "Converting prediction from <class 'numpy.float32'> to uint8, using threshold of 0.5\n",
      "File already analysed! /media/nkd/data18931/ndwi_int8_13001_18931/ndwi_int8_17663.tif\n",
      "/media/nkd/data18931/ndwi_int8_13001_18931/ndwi_int8_17664.tif\n",
      "the size of current NDWI_img 11355 11356\n"
     ]
    },
    {
     "name": "stderr",
     "output_type": "stream",
     "text": [
      "900it [00:45, 20.00it/s]\n"
     ]
    },
    {
     "name": "stdout",
     "output_type": "stream",
     "text": [
      "Converting prediction from <class 'numpy.float32'> to uint8, using threshold of 0.5\n",
      "File already analysed! /media/nkd/data18931/ndwi_int8_13001_18931/ndwi_int8_17664.tif\n",
      "/media/nkd/data18931/ndwi_int8_13001_18931/ndwi_int8_17665.tif\n",
      "the size of current NDWI_img 11355 11356\n"
     ]
    },
    {
     "name": "stderr",
     "output_type": "stream",
     "text": [
      "900it [01:01, 14.57it/s]\n"
     ]
    },
    {
     "name": "stdout",
     "output_type": "stream",
     "text": [
      "Converting prediction from <class 'numpy.float32'> to uint8, using threshold of 0.5\n",
      "File already analysed! /media/nkd/data18931/ndwi_int8_13001_18931/ndwi_int8_17665.tif\n",
      "/media/nkd/data18931/ndwi_int8_13001_18931/ndwi_int8_17666.tif\n",
      "the size of current NDWI_img 11355 11356\n"
     ]
    },
    {
     "name": "stderr",
     "output_type": "stream",
     "text": [
      "900it [01:16, 11.81it/s]\n"
     ]
    },
    {
     "name": "stdout",
     "output_type": "stream",
     "text": [
      "Converting prediction from <class 'numpy.float32'> to uint8, using threshold of 0.5\n",
      "File already analysed! /media/nkd/data18931/ndwi_int8_13001_18931/ndwi_int8_17666.tif\n",
      "/media/nkd/data18931/ndwi_int8_13001_18931/ndwi_int8_17667.tif\n",
      "the size of current NDWI_img 11355 11356\n"
     ]
    },
    {
     "name": "stderr",
     "output_type": "stream",
     "text": [
      "900it [01:06, 13.59it/s]\n"
     ]
    },
    {
     "name": "stdout",
     "output_type": "stream",
     "text": [
      "Converting prediction from <class 'numpy.float32'> to uint8, using threshold of 0.5\n",
      "File already analysed! /media/nkd/data18931/ndwi_int8_13001_18931/ndwi_int8_17667.tif\n",
      "/media/nkd/data18931/ndwi_int8_13001_18931/ndwi_int8_17668.tif\n",
      "the size of current NDWI_img 11355 11356\n"
     ]
    },
    {
     "name": "stderr",
     "output_type": "stream",
     "text": [
      "900it [01:03, 14.09it/s]\n"
     ]
    },
    {
     "name": "stdout",
     "output_type": "stream",
     "text": [
      "Converting prediction from <class 'numpy.float32'> to uint8, using threshold of 0.5\n",
      "File already analysed! /media/nkd/data18931/ndwi_int8_13001_18931/ndwi_int8_17668.tif\n",
      "/media/nkd/data18931/ndwi_int8_13001_18931/ndwi_int8_17669.tif\n",
      "the size of current NDWI_img 11356 11356\n"
     ]
    },
    {
     "name": "stderr",
     "output_type": "stream",
     "text": [
      "900it [01:10, 12.74it/s]\n"
     ]
    },
    {
     "name": "stdout",
     "output_type": "stream",
     "text": [
      "Converting prediction from <class 'numpy.float32'> to uint8, using threshold of 0.5\n",
      "File already analysed! /media/nkd/data18931/ndwi_int8_13001_18931/ndwi_int8_17669.tif\n",
      "/media/nkd/data18931/ndwi_int8_13001_18931/ndwi_int8_17670.tif\n",
      "the size of current NDWI_img 11356 11356\n"
     ]
    },
    {
     "name": "stderr",
     "output_type": "stream",
     "text": [
      "900it [01:09, 12.99it/s]\n"
     ]
    },
    {
     "name": "stdout",
     "output_type": "stream",
     "text": [
      "Converting prediction from <class 'numpy.float32'> to uint8, using threshold of 0.5\n",
      "File already analysed! /media/nkd/data18931/ndwi_int8_13001_18931/ndwi_int8_17670.tif\n",
      "/media/nkd/data18931/ndwi_int8_13001_18931/ndwi_int8_17671.tif\n",
      "the size of current NDWI_img 11356 11356\n"
     ]
    },
    {
     "name": "stderr",
     "output_type": "stream",
     "text": [
      "900it [01:02, 14.29it/s]\n"
     ]
    },
    {
     "name": "stdout",
     "output_type": "stream",
     "text": [
      "Converting prediction from <class 'numpy.float32'> to uint8, using threshold of 0.5\n",
      "File already analysed! /media/nkd/data18931/ndwi_int8_13001_18931/ndwi_int8_17671.tif\n",
      "/media/nkd/data18931/ndwi_int8_13001_18931/ndwi_int8_17672.tif\n",
      "the size of current NDWI_img 11356 11356\n"
     ]
    },
    {
     "name": "stderr",
     "output_type": "stream",
     "text": [
      "900it [00:40, 22.35it/s]\n"
     ]
    },
    {
     "name": "stdout",
     "output_type": "stream",
     "text": [
      "Converting prediction from <class 'numpy.float32'> to uint8, using threshold of 0.5\n",
      "File already analysed! /media/nkd/data18931/ndwi_int8_13001_18931/ndwi_int8_17672.tif\n",
      "/media/nkd/data18931/ndwi_int8_13001_18931/ndwi_int8_17673.tif\n",
      "the size of current NDWI_img 11355 11356\n"
     ]
    },
    {
     "name": "stderr",
     "output_type": "stream",
     "text": [
      "900it [01:15, 11.89it/s]\n"
     ]
    },
    {
     "name": "stdout",
     "output_type": "stream",
     "text": [
      "Converting prediction from <class 'numpy.float32'> to uint8, using threshold of 0.5\n",
      "File already analysed! /media/nkd/data18931/ndwi_int8_13001_18931/ndwi_int8_17673.tif\n",
      "/media/nkd/data18931/ndwi_int8_13001_18931/ndwi_int8_17674.tif\n",
      "the size of current NDWI_img 11355 11356\n"
     ]
    },
    {
     "name": "stderr",
     "output_type": "stream",
     "text": [
      "900it [01:12, 12.37it/s]\n"
     ]
    },
    {
     "name": "stdout",
     "output_type": "stream",
     "text": [
      "Converting prediction from <class 'numpy.float32'> to uint8, using threshold of 0.5\n",
      "File already analysed! /media/nkd/data18931/ndwi_int8_13001_18931/ndwi_int8_17674.tif\n",
      "/media/nkd/data18931/ndwi_int8_13001_18931/ndwi_int8_17675.tif\n",
      "the size of current NDWI_img 11355 11356\n"
     ]
    },
    {
     "name": "stderr",
     "output_type": "stream",
     "text": [
      "900it [01:15, 11.88it/s]\n"
     ]
    },
    {
     "name": "stdout",
     "output_type": "stream",
     "text": [
      "Converting prediction from <class 'numpy.float32'> to uint8, using threshold of 0.5\n",
      "File already analysed! /media/nkd/data18931/ndwi_int8_13001_18931/ndwi_int8_17675.tif\n",
      "/media/nkd/data18931/ndwi_int8_13001_18931/ndwi_int8_17676.tif\n",
      "the size of current NDWI_img 11355 11356\n"
     ]
    },
    {
     "name": "stderr",
     "output_type": "stream",
     "text": [
      "900it [01:07, 13.43it/s]\n"
     ]
    },
    {
     "name": "stdout",
     "output_type": "stream",
     "text": [
      "Converting prediction from <class 'numpy.float32'> to uint8, using threshold of 0.5\n",
      "File already analysed! /media/nkd/data18931/ndwi_int8_13001_18931/ndwi_int8_17676.tif\n",
      "/media/nkd/data18931/ndwi_int8_13001_18931/ndwi_int8_17677.tif\n",
      "the size of current NDWI_img 11355 11356\n"
     ]
    },
    {
     "name": "stderr",
     "output_type": "stream",
     "text": [
      "900it [01:12, 12.47it/s]\n"
     ]
    },
    {
     "name": "stdout",
     "output_type": "stream",
     "text": [
      "Converting prediction from <class 'numpy.float32'> to uint8, using threshold of 0.5\n",
      "File already analysed! /media/nkd/data18931/ndwi_int8_13001_18931/ndwi_int8_17677.tif\n",
      "/media/nkd/data18931/ndwi_int8_13001_18931/ndwi_int8_17678.tif\n",
      "the size of current NDWI_img 11356 11356\n"
     ]
    },
    {
     "name": "stderr",
     "output_type": "stream",
     "text": [
      "900it [01:15, 11.88it/s]\n"
     ]
    },
    {
     "name": "stdout",
     "output_type": "stream",
     "text": [
      "Converting prediction from <class 'numpy.float32'> to uint8, using threshold of 0.5\n",
      "File already analysed! /media/nkd/data18931/ndwi_int8_13001_18931/ndwi_int8_17678.tif\n",
      "/media/nkd/data18931/ndwi_int8_13001_18931/ndwi_int8_17679.tif\n",
      "the size of current NDWI_img 11356 11356\n"
     ]
    },
    {
     "name": "stderr",
     "output_type": "stream",
     "text": [
      "900it [01:16, 11.82it/s]\n"
     ]
    },
    {
     "name": "stdout",
     "output_type": "stream",
     "text": [
      "Converting prediction from <class 'numpy.float32'> to uint8, using threshold of 0.5\n",
      "File already analysed! /media/nkd/data18931/ndwi_int8_13001_18931/ndwi_int8_17679.tif\n",
      "/media/nkd/data18931/ndwi_int8_13001_18931/ndwi_int8_17680.tif\n",
      "the size of current NDWI_img 11356 11356\n"
     ]
    },
    {
     "name": "stderr",
     "output_type": "stream",
     "text": [
      "900it [01:15, 11.91it/s]\n"
     ]
    },
    {
     "name": "stdout",
     "output_type": "stream",
     "text": [
      "Converting prediction from <class 'numpy.float32'> to uint8, using threshold of 0.5\n",
      "File already analysed! /media/nkd/data18931/ndwi_int8_13001_18931/ndwi_int8_17680.tif\n",
      "/media/nkd/data18931/ndwi_int8_13001_18931/ndwi_int8_17681.tif\n",
      "the size of current NDWI_img 11356 11356\n"
     ]
    },
    {
     "name": "stderr",
     "output_type": "stream",
     "text": [
      "900it [00:54, 16.54it/s]\n"
     ]
    },
    {
     "name": "stdout",
     "output_type": "stream",
     "text": [
      "Converting prediction from <class 'numpy.float32'> to uint8, using threshold of 0.5\n",
      "File already analysed! /media/nkd/data18931/ndwi_int8_13001_18931/ndwi_int8_17681.tif\n",
      "/media/nkd/data18931/ndwi_int8_13001_18931/ndwi_int8_17682.tif\n",
      "the size of current NDWI_img 11356 11356\n"
     ]
    },
    {
     "name": "stderr",
     "output_type": "stream",
     "text": [
      "900it [00:41, 21.69it/s]\n"
     ]
    },
    {
     "name": "stdout",
     "output_type": "stream",
     "text": [
      "Converting prediction from <class 'numpy.float32'> to uint8, using threshold of 0.5\n",
      "File already analysed! /media/nkd/data18931/ndwi_int8_13001_18931/ndwi_int8_17682.tif\n",
      "/media/nkd/data18931/ndwi_int8_13001_18931/ndwi_int8_17683.tif\n",
      "the size of current NDWI_img 11355 11356\n"
     ]
    },
    {
     "name": "stderr",
     "output_type": "stream",
     "text": [
      "900it [01:15, 11.92it/s]\n"
     ]
    },
    {
     "name": "stdout",
     "output_type": "stream",
     "text": [
      "Converting prediction from <class 'numpy.float32'> to uint8, using threshold of 0.5\n",
      "File already analysed! /media/nkd/data18931/ndwi_int8_13001_18931/ndwi_int8_17683.tif\n",
      "/media/nkd/data18931/ndwi_int8_13001_18931/ndwi_int8_17684.tif\n",
      "the size of current NDWI_img 11355 11356\n"
     ]
    },
    {
     "name": "stderr",
     "output_type": "stream",
     "text": [
      "900it [01:14, 12.13it/s]\n"
     ]
    },
    {
     "name": "stdout",
     "output_type": "stream",
     "text": [
      "Converting prediction from <class 'numpy.float32'> to uint8, using threshold of 0.5\n",
      "File already analysed! /media/nkd/data18931/ndwi_int8_13001_18931/ndwi_int8_17684.tif\n",
      "/media/nkd/data18931/ndwi_int8_13001_18931/ndwi_int8_17685.tif\n",
      "the size of current NDWI_img 11355 11356\n"
     ]
    },
    {
     "name": "stderr",
     "output_type": "stream",
     "text": [
      "900it [01:13, 12.31it/s]\n"
     ]
    },
    {
     "name": "stdout",
     "output_type": "stream",
     "text": [
      "Converting prediction from <class 'numpy.float32'> to uint8, using threshold of 0.5\n",
      "File already analysed! /media/nkd/data18931/ndwi_int8_13001_18931/ndwi_int8_17685.tif\n",
      "/media/nkd/data18931/ndwi_int8_13001_18931/ndwi_int8_17686.tif\n",
      "the size of current NDWI_img 11355 11356\n"
     ]
    },
    {
     "name": "stderr",
     "output_type": "stream",
     "text": [
      "900it [01:11, 12.53it/s]\n"
     ]
    },
    {
     "name": "stdout",
     "output_type": "stream",
     "text": [
      "Converting prediction from <class 'numpy.float32'> to uint8, using threshold of 0.5\n",
      "File already analysed! /media/nkd/data18931/ndwi_int8_13001_18931/ndwi_int8_17686.tif\n",
      "/media/nkd/data18931/ndwi_int8_13001_18931/ndwi_int8_17687.tif\n",
      "the size of current NDWI_img 11355 11356\n"
     ]
    },
    {
     "name": "stderr",
     "output_type": "stream",
     "text": [
      "900it [01:14, 12.09it/s]\n"
     ]
    },
    {
     "name": "stdout",
     "output_type": "stream",
     "text": [
      "Converting prediction from <class 'numpy.float32'> to uint8, using threshold of 0.5\n",
      "File already analysed! /media/nkd/data18931/ndwi_int8_13001_18931/ndwi_int8_17687.tif\n",
      "/media/nkd/data18931/ndwi_int8_13001_18931/ndwi_int8_17688.tif\n",
      "the size of current NDWI_img 11356 11356\n"
     ]
    },
    {
     "name": "stderr",
     "output_type": "stream",
     "text": [
      "900it [01:15, 11.86it/s]\n"
     ]
    },
    {
     "name": "stdout",
     "output_type": "stream",
     "text": [
      "Converting prediction from <class 'numpy.float32'> to uint8, using threshold of 0.5\n",
      "File already analysed! /media/nkd/data18931/ndwi_int8_13001_18931/ndwi_int8_17688.tif\n",
      "/media/nkd/data18931/ndwi_int8_13001_18931/ndwi_int8_17689.tif\n",
      "the size of current NDWI_img 11356 11356\n"
     ]
    },
    {
     "name": "stderr",
     "output_type": "stream",
     "text": [
      "900it [01:14, 12.07it/s]\n"
     ]
    },
    {
     "name": "stdout",
     "output_type": "stream",
     "text": [
      "Converting prediction from <class 'numpy.float32'> to uint8, using threshold of 0.5\n",
      "File already analysed! /media/nkd/data18931/ndwi_int8_13001_18931/ndwi_int8_17689.tif\n",
      "/media/nkd/data18931/ndwi_int8_13001_18931/ndwi_int8_17690.tif\n",
      "the size of current NDWI_img 11356 11356\n"
     ]
    },
    {
     "name": "stderr",
     "output_type": "stream",
     "text": [
      "900it [01:13, 12.26it/s]\n"
     ]
    },
    {
     "name": "stdout",
     "output_type": "stream",
     "text": [
      "Converting prediction from <class 'numpy.float32'> to uint8, using threshold of 0.5\n",
      "File already analysed! /media/nkd/data18931/ndwi_int8_13001_18931/ndwi_int8_17690.tif\n",
      "/media/nkd/data18931/ndwi_int8_13001_18931/ndwi_int8_17691.tif\n",
      "the size of current NDWI_img 11356 11356\n"
     ]
    },
    {
     "name": "stderr",
     "output_type": "stream",
     "text": [
      "900it [01:13, 12.25it/s]\n"
     ]
    },
    {
     "name": "stdout",
     "output_type": "stream",
     "text": [
      "Converting prediction from <class 'numpy.float32'> to uint8, using threshold of 0.5\n",
      "File already analysed! /media/nkd/data18931/ndwi_int8_13001_18931/ndwi_int8_17691.tif\n",
      "/media/nkd/data18931/ndwi_int8_13001_18931/ndwi_int8_17692.tif\n",
      "the size of current NDWI_img 11356 11356\n"
     ]
    },
    {
     "name": "stderr",
     "output_type": "stream",
     "text": [
      "900it [00:45, 19.92it/s]\n"
     ]
    },
    {
     "name": "stdout",
     "output_type": "stream",
     "text": [
      "Converting prediction from <class 'numpy.float32'> to uint8, using threshold of 0.5\n",
      "File already analysed! /media/nkd/data18931/ndwi_int8_13001_18931/ndwi_int8_17692.tif\n",
      "/media/nkd/data18931/ndwi_int8_13001_18931/ndwi_int8_17693.tif\n",
      "the size of current NDWI_img 11355 11356\n"
     ]
    },
    {
     "name": "stderr",
     "output_type": "stream",
     "text": [
      "900it [01:15, 11.95it/s]\n"
     ]
    },
    {
     "name": "stdout",
     "output_type": "stream",
     "text": [
      "Converting prediction from <class 'numpy.float32'> to uint8, using threshold of 0.5\n",
      "File already analysed! /media/nkd/data18931/ndwi_int8_13001_18931/ndwi_int8_17693.tif\n",
      "/media/nkd/data18931/ndwi_int8_13001_18931/ndwi_int8_17694.tif\n",
      "the size of current NDWI_img 11355 11356\n"
     ]
    },
    {
     "name": "stderr",
     "output_type": "stream",
     "text": [
      "900it [01:13, 12.20it/s]\n"
     ]
    },
    {
     "name": "stdout",
     "output_type": "stream",
     "text": [
      "Converting prediction from <class 'numpy.float32'> to uint8, using threshold of 0.5\n",
      "File already analysed! /media/nkd/data18931/ndwi_int8_13001_18931/ndwi_int8_17694.tif\n",
      "/media/nkd/data18931/ndwi_int8_13001_18931/ndwi_int8_17695.tif\n",
      "the size of current NDWI_img 11355 11356\n"
     ]
    },
    {
     "name": "stderr",
     "output_type": "stream",
     "text": [
      "900it [01:13, 12.31it/s]\n"
     ]
    },
    {
     "name": "stdout",
     "output_type": "stream",
     "text": [
      "Converting prediction from <class 'numpy.float32'> to uint8, using threshold of 0.5\n",
      "File already analysed! /media/nkd/data18931/ndwi_int8_13001_18931/ndwi_int8_17695.tif\n",
      "/media/nkd/data18931/ndwi_int8_13001_18931/ndwi_int8_17696.tif\n",
      "the size of current NDWI_img 11355 11356\n"
     ]
    },
    {
     "name": "stderr",
     "output_type": "stream",
     "text": [
      "900it [01:11, 12.55it/s]\n"
     ]
    },
    {
     "name": "stdout",
     "output_type": "stream",
     "text": [
      "Converting prediction from <class 'numpy.float32'> to uint8, using threshold of 0.5\n",
      "File already analysed! /media/nkd/data18931/ndwi_int8_13001_18931/ndwi_int8_17696.tif\n",
      "/media/nkd/data18931/ndwi_int8_13001_18931/ndwi_int8_17697.tif\n",
      "the size of current NDWI_img 11355 11356\n"
     ]
    },
    {
     "name": "stderr",
     "output_type": "stream",
     "text": [
      "900it [01:14, 12.15it/s]\n"
     ]
    },
    {
     "name": "stdout",
     "output_type": "stream",
     "text": [
      "Converting prediction from <class 'numpy.float32'> to uint8, using threshold of 0.5\n",
      "File already analysed! /media/nkd/data18931/ndwi_int8_13001_18931/ndwi_int8_17697.tif\n",
      "/media/nkd/data18931/ndwi_int8_13001_18931/ndwi_int8_17698.tif\n",
      "the size of current NDWI_img 11356 11356\n"
     ]
    },
    {
     "name": "stderr",
     "output_type": "stream",
     "text": [
      "900it [01:15, 12.00it/s]\n"
     ]
    },
    {
     "name": "stdout",
     "output_type": "stream",
     "text": [
      "Converting prediction from <class 'numpy.float32'> to uint8, using threshold of 0.5\n",
      "File already analysed! /media/nkd/data18931/ndwi_int8_13001_18931/ndwi_int8_17698.tif\n",
      "/media/nkd/data18931/ndwi_int8_13001_18931/ndwi_int8_17699.tif\n",
      "the size of current NDWI_img 11356 11356\n"
     ]
    },
    {
     "name": "stderr",
     "output_type": "stream",
     "text": [
      "900it [01:16, 11.79it/s]\n"
     ]
    },
    {
     "name": "stdout",
     "output_type": "stream",
     "text": [
      "Converting prediction from <class 'numpy.float32'> to uint8, using threshold of 0.5\n",
      "File already analysed! /media/nkd/data18931/ndwi_int8_13001_18931/ndwi_int8_17699.tif\n",
      "/media/nkd/data18931/ndwi_int8_13001_18931/ndwi_int8_17700.tif\n",
      "the size of current NDWI_img 11356 11356\n"
     ]
    },
    {
     "name": "stderr",
     "output_type": "stream",
     "text": [
      "900it [01:13, 12.19it/s]\n"
     ]
    },
    {
     "name": "stdout",
     "output_type": "stream",
     "text": [
      "Converting prediction from <class 'numpy.float32'> to uint8, using threshold of 0.5\n",
      "File already analysed! /media/nkd/data18931/ndwi_int8_13001_18931/ndwi_int8_17700.tif\n",
      "/media/nkd/data18931/ndwi_int8_13001_18931/ndwi_int8_17701.tif\n",
      "the size of current NDWI_img 11356 11356\n"
     ]
    },
    {
     "name": "stderr",
     "output_type": "stream",
     "text": [
      "900it [01:14, 12.08it/s]\n"
     ]
    },
    {
     "name": "stdout",
     "output_type": "stream",
     "text": [
      "Converting prediction from <class 'numpy.float32'> to uint8, using threshold of 0.5\n",
      "File already analysed! /media/nkd/data18931/ndwi_int8_13001_18931/ndwi_int8_17701.tif\n",
      "/media/nkd/data18931/ndwi_int8_13001_18931/ndwi_int8_17702.tif\n",
      "the size of current NDWI_img 11356 11356\n"
     ]
    },
    {
     "name": "stderr",
     "output_type": "stream",
     "text": [
      "900it [00:48, 18.56it/s]\n"
     ]
    },
    {
     "name": "stdout",
     "output_type": "stream",
     "text": [
      "Converting prediction from <class 'numpy.float32'> to uint8, using threshold of 0.5\n",
      "File already analysed! /media/nkd/data18931/ndwi_int8_13001_18931/ndwi_int8_17702.tif\n",
      "/media/nkd/data18931/ndwi_int8_13001_18931/ndwi_int8_17703.tif\n",
      "the size of current NDWI_img 11355 11356\n"
     ]
    },
    {
     "name": "stderr",
     "output_type": "stream",
     "text": [
      "900it [01:16, 11.69it/s]\n"
     ]
    },
    {
     "name": "stdout",
     "output_type": "stream",
     "text": [
      "Converting prediction from <class 'numpy.float32'> to uint8, using threshold of 0.5\n",
      "File already analysed! /media/nkd/data18931/ndwi_int8_13001_18931/ndwi_int8_17703.tif\n",
      "/media/nkd/data18931/ndwi_int8_13001_18931/ndwi_int8_17704.tif\n",
      "the size of current NDWI_img 11355 11356\n"
     ]
    },
    {
     "name": "stderr",
     "output_type": "stream",
     "text": [
      "900it [01:14, 12.05it/s]\n"
     ]
    },
    {
     "name": "stdout",
     "output_type": "stream",
     "text": [
      "Converting prediction from <class 'numpy.float32'> to uint8, using threshold of 0.5\n",
      "File already analysed! /media/nkd/data18931/ndwi_int8_13001_18931/ndwi_int8_17704.tif\n",
      "/media/nkd/data18931/ndwi_int8_13001_18931/ndwi_int8_17705.tif\n",
      "the size of current NDWI_img 11355 11356\n"
     ]
    },
    {
     "name": "stderr",
     "output_type": "stream",
     "text": [
      "900it [01:12, 12.43it/s]\n"
     ]
    },
    {
     "name": "stdout",
     "output_type": "stream",
     "text": [
      "Converting prediction from <class 'numpy.float32'> to uint8, using threshold of 0.5\n",
      "File already analysed! /media/nkd/data18931/ndwi_int8_13001_18931/ndwi_int8_17705.tif\n",
      "/media/nkd/data18931/ndwi_int8_13001_18931/ndwi_int8_17706.tif\n",
      "the size of current NDWI_img 11355 11356\n"
     ]
    },
    {
     "name": "stderr",
     "output_type": "stream",
     "text": [
      "900it [01:12, 12.45it/s]\n"
     ]
    },
    {
     "name": "stdout",
     "output_type": "stream",
     "text": [
      "Converting prediction from <class 'numpy.float32'> to uint8, using threshold of 0.5\n",
      "File already analysed! /media/nkd/data18931/ndwi_int8_13001_18931/ndwi_int8_17706.tif\n",
      "/media/nkd/data18931/ndwi_int8_13001_18931/ndwi_int8_17707.tif\n",
      "the size of current NDWI_img 11355 11356\n"
     ]
    },
    {
     "name": "stderr",
     "output_type": "stream",
     "text": [
      "900it [01:12, 12.37it/s]\n"
     ]
    },
    {
     "name": "stdout",
     "output_type": "stream",
     "text": [
      "Converting prediction from <class 'numpy.float32'> to uint8, using threshold of 0.5\n",
      "File already analysed! /media/nkd/data18931/ndwi_int8_13001_18931/ndwi_int8_17707.tif\n",
      "/media/nkd/data18931/ndwi_int8_13001_18931/ndwi_int8_17708.tif\n",
      "the size of current NDWI_img 11356 11356\n"
     ]
    },
    {
     "name": "stderr",
     "output_type": "stream",
     "text": [
      "900it [01:14, 12.11it/s]\n"
     ]
    },
    {
     "name": "stdout",
     "output_type": "stream",
     "text": [
      "Converting prediction from <class 'numpy.float32'> to uint8, using threshold of 0.5\n",
      "File already analysed! /media/nkd/data18931/ndwi_int8_13001_18931/ndwi_int8_17708.tif\n",
      "/media/nkd/data18931/ndwi_int8_13001_18931/ndwi_int8_17709.tif\n",
      "the size of current NDWI_img 11356 11356\n"
     ]
    },
    {
     "name": "stderr",
     "output_type": "stream",
     "text": [
      "900it [01:13, 12.30it/s]\n"
     ]
    },
    {
     "name": "stdout",
     "output_type": "stream",
     "text": [
      "Converting prediction from <class 'numpy.float32'> to uint8, using threshold of 0.5\n",
      "File already analysed! /media/nkd/data18931/ndwi_int8_13001_18931/ndwi_int8_17709.tif\n",
      "/media/nkd/data18931/ndwi_int8_13001_18931/ndwi_int8_17710.tif\n",
      "the size of current NDWI_img 11356 11356\n"
     ]
    },
    {
     "name": "stderr",
     "output_type": "stream",
     "text": [
      "900it [01:12, 12.36it/s]\n"
     ]
    },
    {
     "name": "stdout",
     "output_type": "stream",
     "text": [
      "Converting prediction from <class 'numpy.float32'> to uint8, using threshold of 0.5\n",
      "File already analysed! /media/nkd/data18931/ndwi_int8_13001_18931/ndwi_int8_17710.tif\n",
      "/media/nkd/data18931/ndwi_int8_13001_18931/ndwi_int8_17711.tif\n",
      "the size of current NDWI_img 11356 11356\n"
     ]
    },
    {
     "name": "stderr",
     "output_type": "stream",
     "text": [
      "900it [01:15, 11.96it/s]\n"
     ]
    },
    {
     "name": "stdout",
     "output_type": "stream",
     "text": [
      "Converting prediction from <class 'numpy.float32'> to uint8, using threshold of 0.5\n",
      "File already analysed! /media/nkd/data18931/ndwi_int8_13001_18931/ndwi_int8_17711.tif\n",
      "/media/nkd/data18931/ndwi_int8_13001_18931/ndwi_int8_17712.tif\n",
      "the size of current NDWI_img 11356 11356\n"
     ]
    },
    {
     "name": "stderr",
     "output_type": "stream",
     "text": [
      "900it [01:00, 14.87it/s]\n"
     ]
    },
    {
     "name": "stdout",
     "output_type": "stream",
     "text": [
      "Converting prediction from <class 'numpy.float32'> to uint8, using threshold of 0.5\n",
      "File already analysed! /media/nkd/data18931/ndwi_int8_13001_18931/ndwi_int8_17712.tif\n",
      "/media/nkd/data18931/ndwi_int8_13001_18931/ndwi_int8_17713.tif\n",
      "the size of current NDWI_img 11355 11356\n"
     ]
    },
    {
     "name": "stderr",
     "output_type": "stream",
     "text": [
      "900it [01:13, 12.32it/s]\n"
     ]
    },
    {
     "name": "stdout",
     "output_type": "stream",
     "text": [
      "Converting prediction from <class 'numpy.float32'> to uint8, using threshold of 0.5\n",
      "File already analysed! /media/nkd/data18931/ndwi_int8_13001_18931/ndwi_int8_17713.tif\n",
      "/media/nkd/data18931/ndwi_int8_13001_18931/ndwi_int8_17714.tif\n",
      "the size of current NDWI_img 11355 11356\n"
     ]
    },
    {
     "name": "stderr",
     "output_type": "stream",
     "text": [
      "900it [01:15, 11.99it/s]\n"
     ]
    },
    {
     "name": "stdout",
     "output_type": "stream",
     "text": [
      "Converting prediction from <class 'numpy.float32'> to uint8, using threshold of 0.5\n",
      "File already analysed! /media/nkd/data18931/ndwi_int8_13001_18931/ndwi_int8_17714.tif\n",
      "/media/nkd/data18931/ndwi_int8_13001_18931/ndwi_int8_17715.tif\n",
      "the size of current NDWI_img 11355 11356\n"
     ]
    },
    {
     "name": "stderr",
     "output_type": "stream",
     "text": [
      "900it [01:13, 12.27it/s]\n"
     ]
    },
    {
     "name": "stdout",
     "output_type": "stream",
     "text": [
      "Converting prediction from <class 'numpy.float32'> to uint8, using threshold of 0.5\n",
      "File already analysed! /media/nkd/data18931/ndwi_int8_13001_18931/ndwi_int8_17715.tif\n",
      "/media/nkd/data18931/ndwi_int8_13001_18931/ndwi_int8_17716.tif\n",
      "the size of current NDWI_img 11355 11356\n"
     ]
    },
    {
     "name": "stderr",
     "output_type": "stream",
     "text": [
      "900it [01:12, 12.46it/s]\n"
     ]
    },
    {
     "name": "stdout",
     "output_type": "stream",
     "text": [
      "Converting prediction from <class 'numpy.float32'> to uint8, using threshold of 0.5\n",
      "File already analysed! /media/nkd/data18931/ndwi_int8_13001_18931/ndwi_int8_17716.tif\n",
      "/media/nkd/data18931/ndwi_int8_13001_18931/ndwi_int8_17717.tif\n",
      "the size of current NDWI_img 11355 11356\n"
     ]
    },
    {
     "name": "stderr",
     "output_type": "stream",
     "text": [
      "900it [01:11, 12.60it/s]\n"
     ]
    },
    {
     "name": "stdout",
     "output_type": "stream",
     "text": [
      "Converting prediction from <class 'numpy.float32'> to uint8, using threshold of 0.5\n",
      "File already analysed! /media/nkd/data18931/ndwi_int8_13001_18931/ndwi_int8_17717.tif\n",
      "/media/nkd/data18931/ndwi_int8_13001_18931/ndwi_int8_17718.tif\n",
      "the size of current NDWI_img 11356 11356\n"
     ]
    },
    {
     "name": "stderr",
     "output_type": "stream",
     "text": [
      "900it [01:11, 12.66it/s]\n"
     ]
    },
    {
     "name": "stdout",
     "output_type": "stream",
     "text": [
      "Converting prediction from <class 'numpy.float32'> to uint8, using threshold of 0.5\n",
      "File already analysed! /media/nkd/data18931/ndwi_int8_13001_18931/ndwi_int8_17718.tif\n",
      "/media/nkd/data18931/ndwi_int8_13001_18931/ndwi_int8_17719.tif\n",
      "the size of current NDWI_img 11356 11356\n"
     ]
    },
    {
     "name": "stderr",
     "output_type": "stream",
     "text": [
      "900it [01:13, 12.30it/s]\n"
     ]
    },
    {
     "name": "stdout",
     "output_type": "stream",
     "text": [
      "Converting prediction from <class 'numpy.float32'> to uint8, using threshold of 0.5\n",
      "File already analysed! /media/nkd/data18931/ndwi_int8_13001_18931/ndwi_int8_17719.tif\n",
      "/media/nkd/data18931/ndwi_int8_13001_18931/ndwi_int8_17720.tif\n",
      "the size of current NDWI_img 11356 11356\n"
     ]
    },
    {
     "name": "stderr",
     "output_type": "stream",
     "text": [
      "900it [01:13, 12.17it/s]\n"
     ]
    },
    {
     "name": "stdout",
     "output_type": "stream",
     "text": [
      "Converting prediction from <class 'numpy.float32'> to uint8, using threshold of 0.5\n",
      "File already analysed! /media/nkd/data18931/ndwi_int8_13001_18931/ndwi_int8_17720.tif\n",
      "/media/nkd/data18931/ndwi_int8_13001_18931/ndwi_int8_17721.tif\n",
      "the size of current NDWI_img 11356 11356\n"
     ]
    },
    {
     "name": "stderr",
     "output_type": "stream",
     "text": [
      "900it [01:17, 11.56it/s]\n"
     ]
    },
    {
     "name": "stdout",
     "output_type": "stream",
     "text": [
      "Converting prediction from <class 'numpy.float32'> to uint8, using threshold of 0.5\n",
      "File already analysed! /media/nkd/data18931/ndwi_int8_13001_18931/ndwi_int8_17721.tif\n",
      "/media/nkd/data18931/ndwi_int8_13001_18931/ndwi_int8_17722.tif\n",
      "the size of current NDWI_img 11356 11356\n"
     ]
    },
    {
     "name": "stderr",
     "output_type": "stream",
     "text": [
      "900it [01:10, 12.79it/s]\n"
     ]
    },
    {
     "name": "stdout",
     "output_type": "stream",
     "text": [
      "Converting prediction from <class 'numpy.float32'> to uint8, using threshold of 0.5\n",
      "File already analysed! /media/nkd/data18931/ndwi_int8_13001_18931/ndwi_int8_17722.tif\n",
      "/media/nkd/data18931/ndwi_int8_13001_18931/ndwi_int8_17723.tif\n",
      "the size of current NDWI_img 11355 11356\n"
     ]
    },
    {
     "name": "stderr",
     "output_type": "stream",
     "text": [
      "900it [01:13, 12.18it/s]\n"
     ]
    },
    {
     "name": "stdout",
     "output_type": "stream",
     "text": [
      "Converting prediction from <class 'numpy.float32'> to uint8, using threshold of 0.5\n",
      "File already analysed! /media/nkd/data18931/ndwi_int8_13001_18931/ndwi_int8_17723.tif\n",
      "/media/nkd/data18931/ndwi_int8_13001_18931/ndwi_int8_17724.tif\n",
      "the size of current NDWI_img 11355 11356\n"
     ]
    },
    {
     "name": "stderr",
     "output_type": "stream",
     "text": [
      "900it [01:13, 12.27it/s]\n"
     ]
    },
    {
     "name": "stdout",
     "output_type": "stream",
     "text": [
      "Converting prediction from <class 'numpy.float32'> to uint8, using threshold of 0.5\n",
      "File already analysed! /media/nkd/data18931/ndwi_int8_13001_18931/ndwi_int8_17724.tif\n",
      "/media/nkd/data18931/ndwi_int8_13001_18931/ndwi_int8_17725.tif\n",
      "the size of current NDWI_img 11355 11356\n"
     ]
    },
    {
     "name": "stderr",
     "output_type": "stream",
     "text": [
      "900it [01:10, 12.74it/s]\n"
     ]
    },
    {
     "name": "stdout",
     "output_type": "stream",
     "text": [
      "Converting prediction from <class 'numpy.float32'> to uint8, using threshold of 0.5\n",
      "File already analysed! /media/nkd/data18931/ndwi_int8_13001_18931/ndwi_int8_17725.tif\n",
      "/media/nkd/data18931/ndwi_int8_13001_18931/ndwi_int8_17726.tif\n",
      "the size of current NDWI_img 11355 11356\n"
     ]
    },
    {
     "name": "stderr",
     "output_type": "stream",
     "text": [
      "900it [01:10, 12.82it/s]\n"
     ]
    },
    {
     "name": "stdout",
     "output_type": "stream",
     "text": [
      "Converting prediction from <class 'numpy.float32'> to uint8, using threshold of 0.5\n",
      "File already analysed! /media/nkd/data18931/ndwi_int8_13001_18931/ndwi_int8_17726.tif\n",
      "/media/nkd/data18931/ndwi_int8_13001_18931/ndwi_int8_17727.tif\n",
      "the size of current NDWI_img 11355 11356\n"
     ]
    },
    {
     "name": "stderr",
     "output_type": "stream",
     "text": [
      "900it [01:10, 12.82it/s]\n"
     ]
    },
    {
     "name": "stdout",
     "output_type": "stream",
     "text": [
      "Converting prediction from <class 'numpy.float32'> to uint8, using threshold of 0.5\n",
      "File already analysed! /media/nkd/data18931/ndwi_int8_13001_18931/ndwi_int8_17727.tif\n",
      "/media/nkd/data18931/ndwi_int8_13001_18931/ndwi_int8_17728.tif\n",
      "the size of current NDWI_img 11356 11356\n"
     ]
    },
    {
     "name": "stderr",
     "output_type": "stream",
     "text": [
      "900it [01:07, 13.28it/s]\n"
     ]
    },
    {
     "name": "stdout",
     "output_type": "stream",
     "text": [
      "Converting prediction from <class 'numpy.float32'> to uint8, using threshold of 0.5\n",
      "File already analysed! /media/nkd/data18931/ndwi_int8_13001_18931/ndwi_int8_17728.tif\n",
      "/media/nkd/data18931/ndwi_int8_13001_18931/ndwi_int8_17729.tif\n",
      "the size of current NDWI_img 11356 11356\n"
     ]
    },
    {
     "name": "stderr",
     "output_type": "stream",
     "text": [
      "900it [01:10, 12.82it/s]\n"
     ]
    },
    {
     "name": "stdout",
     "output_type": "stream",
     "text": [
      "Converting prediction from <class 'numpy.float32'> to uint8, using threshold of 0.5\n",
      "File already analysed! /media/nkd/data18931/ndwi_int8_13001_18931/ndwi_int8_17729.tif\n",
      "/media/nkd/data18931/ndwi_int8_13001_18931/ndwi_int8_17730.tif\n",
      "the size of current NDWI_img 11356 11356\n"
     ]
    },
    {
     "name": "stderr",
     "output_type": "stream",
     "text": [
      "900it [01:12, 12.44it/s]\n"
     ]
    },
    {
     "name": "stdout",
     "output_type": "stream",
     "text": [
      "Converting prediction from <class 'numpy.float32'> to uint8, using threshold of 0.5\n",
      "File already analysed! /media/nkd/data18931/ndwi_int8_13001_18931/ndwi_int8_17730.tif\n",
      "/media/nkd/data18931/ndwi_int8_13001_18931/ndwi_int8_17731.tif\n",
      "the size of current NDWI_img 11356 11356\n"
     ]
    },
    {
     "name": "stderr",
     "output_type": "stream",
     "text": [
      "900it [01:15, 11.93it/s]\n"
     ]
    },
    {
     "name": "stdout",
     "output_type": "stream",
     "text": [
      "Converting prediction from <class 'numpy.float32'> to uint8, using threshold of 0.5\n",
      "File already analysed! /media/nkd/data18931/ndwi_int8_13001_18931/ndwi_int8_17731.tif\n",
      "/media/nkd/data18931/ndwi_int8_13001_18931/ndwi_int8_17732.tif\n",
      "the size of current NDWI_img 11356 11356\n"
     ]
    },
    {
     "name": "stderr",
     "output_type": "stream",
     "text": [
      "900it [01:07, 13.31it/s]\n"
     ]
    },
    {
     "name": "stdout",
     "output_type": "stream",
     "text": [
      "Converting prediction from <class 'numpy.float32'> to uint8, using threshold of 0.5\n",
      "File already analysed! /media/nkd/data18931/ndwi_int8_13001_18931/ndwi_int8_17732.tif\n",
      "/media/nkd/data18931/ndwi_int8_13001_18931/ndwi_int8_17733.tif\n",
      "the size of current NDWI_img 11355 11356\n"
     ]
    },
    {
     "name": "stderr",
     "output_type": "stream",
     "text": [
      "900it [01:13, 12.29it/s]\n"
     ]
    },
    {
     "name": "stdout",
     "output_type": "stream",
     "text": [
      "Converting prediction from <class 'numpy.float32'> to uint8, using threshold of 0.5\n",
      "File already analysed! /media/nkd/data18931/ndwi_int8_13001_18931/ndwi_int8_17733.tif\n",
      "/media/nkd/data18931/ndwi_int8_13001_18931/ndwi_int8_17734.tif\n",
      "the size of current NDWI_img 11355 11356\n"
     ]
    },
    {
     "name": "stderr",
     "output_type": "stream",
     "text": [
      "900it [01:14, 12.14it/s]\n"
     ]
    },
    {
     "name": "stdout",
     "output_type": "stream",
     "text": [
      "Converting prediction from <class 'numpy.float32'> to uint8, using threshold of 0.5\n",
      "File already analysed! /media/nkd/data18931/ndwi_int8_13001_18931/ndwi_int8_17734.tif\n",
      "/media/nkd/data18931/ndwi_int8_13001_18931/ndwi_int8_17735.tif\n",
      "the size of current NDWI_img 11355 11356\n"
     ]
    },
    {
     "name": "stderr",
     "output_type": "stream",
     "text": [
      "900it [01:11, 12.66it/s]\n"
     ]
    },
    {
     "name": "stdout",
     "output_type": "stream",
     "text": [
      "Converting prediction from <class 'numpy.float32'> to uint8, using threshold of 0.5\n",
      "File already analysed! /media/nkd/data18931/ndwi_int8_13001_18931/ndwi_int8_17735.tif\n",
      "/media/nkd/data18931/ndwi_int8_13001_18931/ndwi_int8_17736.tif\n",
      "the size of current NDWI_img 11355 11356\n"
     ]
    },
    {
     "name": "stderr",
     "output_type": "stream",
     "text": [
      "900it [01:11, 12.56it/s]\n"
     ]
    },
    {
     "name": "stdout",
     "output_type": "stream",
     "text": [
      "Converting prediction from <class 'numpy.float32'> to uint8, using threshold of 0.5\n",
      "File already analysed! /media/nkd/data18931/ndwi_int8_13001_18931/ndwi_int8_17736.tif\n",
      "/media/nkd/data18931/ndwi_int8_13001_18931/ndwi_int8_17737.tif\n",
      "the size of current NDWI_img 11355 11356\n"
     ]
    },
    {
     "name": "stderr",
     "output_type": "stream",
     "text": [
      "900it [01:10, 12.71it/s]\n"
     ]
    },
    {
     "name": "stdout",
     "output_type": "stream",
     "text": [
      "Converting prediction from <class 'numpy.float32'> to uint8, using threshold of 0.5\n",
      "File already analysed! /media/nkd/data18931/ndwi_int8_13001_18931/ndwi_int8_17737.tif\n",
      "/media/nkd/data18931/ndwi_int8_13001_18931/ndwi_int8_17738.tif\n",
      "the size of current NDWI_img 11356 11356\n"
     ]
    },
    {
     "name": "stderr",
     "output_type": "stream",
     "text": [
      "900it [01:08, 13.20it/s]\n"
     ]
    },
    {
     "name": "stdout",
     "output_type": "stream",
     "text": [
      "Converting prediction from <class 'numpy.float32'> to uint8, using threshold of 0.5\n",
      "File already analysed! /media/nkd/data18931/ndwi_int8_13001_18931/ndwi_int8_17738.tif\n",
      "/media/nkd/data18931/ndwi_int8_13001_18931/ndwi_int8_17739.tif\n",
      "the size of current NDWI_img 11356 11356\n"
     ]
    },
    {
     "name": "stderr",
     "output_type": "stream",
     "text": [
      "900it [01:08, 13.09it/s]\n"
     ]
    },
    {
     "name": "stdout",
     "output_type": "stream",
     "text": [
      "Converting prediction from <class 'numpy.float32'> to uint8, using threshold of 0.5\n",
      "File already analysed! /media/nkd/data18931/ndwi_int8_13001_18931/ndwi_int8_17739.tif\n",
      "/media/nkd/data18931/ndwi_int8_13001_18931/ndwi_int8_17740.tif\n",
      "the size of current NDWI_img 11356 11356\n"
     ]
    },
    {
     "name": "stderr",
     "output_type": "stream",
     "text": [
      "900it [01:09, 12.90it/s]\n"
     ]
    },
    {
     "name": "stdout",
     "output_type": "stream",
     "text": [
      "Converting prediction from <class 'numpy.float32'> to uint8, using threshold of 0.5\n",
      "File already analysed! /media/nkd/data18931/ndwi_int8_13001_18931/ndwi_int8_17740.tif\n",
      "/media/nkd/data18931/ndwi_int8_13001_18931/ndwi_int8_17741.tif\n",
      "the size of current NDWI_img 11356 11356\n"
     ]
    },
    {
     "name": "stderr",
     "output_type": "stream",
     "text": [
      "900it [01:09, 12.98it/s]\n"
     ]
    },
    {
     "name": "stdout",
     "output_type": "stream",
     "text": [
      "Converting prediction from <class 'numpy.float32'> to uint8, using threshold of 0.5\n",
      "File already analysed! /media/nkd/data18931/ndwi_int8_13001_18931/ndwi_int8_17741.tif\n",
      "/media/nkd/data18931/ndwi_int8_13001_18931/ndwi_int8_17742.tif\n",
      "the size of current NDWI_img 11356 11356\n"
     ]
    },
    {
     "name": "stderr",
     "output_type": "stream",
     "text": [
      "900it [01:02, 14.32it/s]\n"
     ]
    },
    {
     "name": "stdout",
     "output_type": "stream",
     "text": [
      "Converting prediction from <class 'numpy.float32'> to uint8, using threshold of 0.5\n",
      "File already analysed! /media/nkd/data18931/ndwi_int8_13001_18931/ndwi_int8_17742.tif\n",
      "/media/nkd/data18931/ndwi_int8_13001_18931/ndwi_int8_17743.tif\n",
      "the size of current NDWI_img 11355 11356\n"
     ]
    },
    {
     "name": "stderr",
     "output_type": "stream",
     "text": [
      "900it [01:14, 12.04it/s]\n"
     ]
    },
    {
     "name": "stdout",
     "output_type": "stream",
     "text": [
      "Converting prediction from <class 'numpy.float32'> to uint8, using threshold of 0.5\n",
      "File already analysed! /media/nkd/data18931/ndwi_int8_13001_18931/ndwi_int8_17743.tif\n",
      "/media/nkd/data18931/ndwi_int8_13001_18931/ndwi_int8_17744.tif\n",
      "the size of current NDWI_img 11355 11356\n"
     ]
    },
    {
     "name": "stderr",
     "output_type": "stream",
     "text": [
      "900it [01:13, 12.30it/s]\n"
     ]
    },
    {
     "name": "stdout",
     "output_type": "stream",
     "text": [
      "Converting prediction from <class 'numpy.float32'> to uint8, using threshold of 0.5\n",
      "File already analysed! /media/nkd/data18931/ndwi_int8_13001_18931/ndwi_int8_17744.tif\n",
      "/media/nkd/data18931/ndwi_int8_13001_18931/ndwi_int8_17745.tif\n",
      "the size of current NDWI_img 11355 11356\n"
     ]
    },
    {
     "name": "stderr",
     "output_type": "stream",
     "text": [
      "900it [01:11, 12.57it/s]\n"
     ]
    },
    {
     "name": "stdout",
     "output_type": "stream",
     "text": [
      "Converting prediction from <class 'numpy.float32'> to uint8, using threshold of 0.5\n",
      "File already analysed! /media/nkd/data18931/ndwi_int8_13001_18931/ndwi_int8_17745.tif\n",
      "/media/nkd/data18931/ndwi_int8_13001_18931/ndwi_int8_17746.tif\n",
      "the size of current NDWI_img 11355 11356\n"
     ]
    },
    {
     "name": "stderr",
     "output_type": "stream",
     "text": [
      "900it [01:11, 12.51it/s]\n"
     ]
    },
    {
     "name": "stdout",
     "output_type": "stream",
     "text": [
      "Converting prediction from <class 'numpy.float32'> to uint8, using threshold of 0.5\n",
      "File already analysed! /media/nkd/data18931/ndwi_int8_13001_18931/ndwi_int8_17746.tif\n",
      "/media/nkd/data18931/ndwi_int8_13001_18931/ndwi_int8_17747.tif\n",
      "the size of current NDWI_img 11355 11356\n"
     ]
    },
    {
     "name": "stderr",
     "output_type": "stream",
     "text": [
      "900it [01:12, 12.41it/s]\n"
     ]
    },
    {
     "name": "stdout",
     "output_type": "stream",
     "text": [
      "Converting prediction from <class 'numpy.float32'> to uint8, using threshold of 0.5\n",
      "File already analysed! /media/nkd/data18931/ndwi_int8_13001_18931/ndwi_int8_17747.tif\n",
      "/media/nkd/data18931/ndwi_int8_13001_18931/ndwi_int8_17748.tif\n",
      "the size of current NDWI_img 11356 11356\n"
     ]
    },
    {
     "name": "stderr",
     "output_type": "stream",
     "text": [
      "900it [01:08, 13.10it/s]\n"
     ]
    },
    {
     "name": "stdout",
     "output_type": "stream",
     "text": [
      "Converting prediction from <class 'numpy.float32'> to uint8, using threshold of 0.5\n",
      "File already analysed! /media/nkd/data18931/ndwi_int8_13001_18931/ndwi_int8_17748.tif\n",
      "/media/nkd/data18931/ndwi_int8_13001_18931/ndwi_int8_17749.tif\n",
      "the size of current NDWI_img 11356 11356\n"
     ]
    },
    {
     "name": "stderr",
     "output_type": "stream",
     "text": [
      "900it [01:10, 12.83it/s]\n"
     ]
    },
    {
     "name": "stdout",
     "output_type": "stream",
     "text": [
      "Converting prediction from <class 'numpy.float32'> to uint8, using threshold of 0.5\n",
      "File already analysed! /media/nkd/data18931/ndwi_int8_13001_18931/ndwi_int8_17749.tif\n",
      "/media/nkd/data18931/ndwi_int8_13001_18931/ndwi_int8_17750.tif\n",
      "the size of current NDWI_img 11356 11356\n"
     ]
    },
    {
     "name": "stderr",
     "output_type": "stream",
     "text": [
      "900it [01:11, 12.53it/s]\n"
     ]
    },
    {
     "name": "stdout",
     "output_type": "stream",
     "text": [
      "Converting prediction from <class 'numpy.float32'> to uint8, using threshold of 0.5\n",
      "File already analysed! /media/nkd/data18931/ndwi_int8_13001_18931/ndwi_int8_17750.tif\n",
      "/media/nkd/data18931/ndwi_int8_13001_18931/ndwi_int8_17751.tif\n",
      "the size of current NDWI_img 11356 11356\n"
     ]
    },
    {
     "name": "stderr",
     "output_type": "stream",
     "text": [
      "900it [01:07, 13.35it/s]\n"
     ]
    },
    {
     "name": "stdout",
     "output_type": "stream",
     "text": [
      "Converting prediction from <class 'numpy.float32'> to uint8, using threshold of 0.5\n",
      "File already analysed! /media/nkd/data18931/ndwi_int8_13001_18931/ndwi_int8_17751.tif\n",
      "/media/nkd/data18931/ndwi_int8_13001_18931/ndwi_int8_17752.tif\n",
      "the size of current NDWI_img 11356 11356\n"
     ]
    },
    {
     "name": "stderr",
     "output_type": "stream",
     "text": [
      "900it [01:08, 13.20it/s]\n"
     ]
    },
    {
     "name": "stdout",
     "output_type": "stream",
     "text": [
      "Converting prediction from <class 'numpy.float32'> to uint8, using threshold of 0.5\n",
      "File already analysed! /media/nkd/data18931/ndwi_int8_13001_18931/ndwi_int8_17752.tif\n",
      "/media/nkd/data18931/ndwi_int8_13001_18931/ndwi_int8_17753.tif\n",
      "the size of current NDWI_img 11355 11355\n"
     ]
    },
    {
     "name": "stderr",
     "output_type": "stream",
     "text": [
      "900it [01:16, 11.82it/s]\n"
     ]
    },
    {
     "name": "stdout",
     "output_type": "stream",
     "text": [
      "Converting prediction from <class 'numpy.float32'> to uint8, using threshold of 0.5\n",
      "File already analysed! /media/nkd/data18931/ndwi_int8_13001_18931/ndwi_int8_17753.tif\n",
      "/media/nkd/data18931/ndwi_int8_13001_18931/ndwi_int8_17754.tif\n",
      "the size of current NDWI_img 11355 11355\n"
     ]
    },
    {
     "name": "stderr",
     "output_type": "stream",
     "text": [
      "900it [01:15, 11.86it/s]\n"
     ]
    },
    {
     "name": "stdout",
     "output_type": "stream",
     "text": [
      "Converting prediction from <class 'numpy.float32'> to uint8, using threshold of 0.5\n",
      "File already analysed! /media/nkd/data18931/ndwi_int8_13001_18931/ndwi_int8_17754.tif\n",
      "/media/nkd/data18931/ndwi_int8_13001_18931/ndwi_int8_17755.tif\n",
      "the size of current NDWI_img 11355 11355\n"
     ]
    },
    {
     "name": "stderr",
     "output_type": "stream",
     "text": [
      "900it [01:11, 12.59it/s]\n"
     ]
    },
    {
     "name": "stdout",
     "output_type": "stream",
     "text": [
      "Converting prediction from <class 'numpy.float32'> to uint8, using threshold of 0.5\n",
      "File already analysed! /media/nkd/data18931/ndwi_int8_13001_18931/ndwi_int8_17755.tif\n",
      "/media/nkd/data18931/ndwi_int8_13001_18931/ndwi_int8_17756.tif\n",
      "the size of current NDWI_img 11355 11355\n"
     ]
    },
    {
     "name": "stderr",
     "output_type": "stream",
     "text": [
      "900it [01:11, 12.54it/s]\n"
     ]
    },
    {
     "name": "stdout",
     "output_type": "stream",
     "text": [
      "Converting prediction from <class 'numpy.float32'> to uint8, using threshold of 0.5\n",
      "File already analysed! /media/nkd/data18931/ndwi_int8_13001_18931/ndwi_int8_17756.tif\n",
      "/media/nkd/data18931/ndwi_int8_13001_18931/ndwi_int8_17757.tif\n",
      "the size of current NDWI_img 11355 11355\n"
     ]
    },
    {
     "name": "stderr",
     "output_type": "stream",
     "text": [
      "900it [01:09, 12.93it/s]\n"
     ]
    },
    {
     "name": "stdout",
     "output_type": "stream",
     "text": [
      "Converting prediction from <class 'numpy.float32'> to uint8, using threshold of 0.5\n",
      "File already analysed! /media/nkd/data18931/ndwi_int8_13001_18931/ndwi_int8_17757.tif\n",
      "/media/nkd/data18931/ndwi_int8_13001_18931/ndwi_int8_17758.tif\n",
      "the size of current NDWI_img 11356 11355\n"
     ]
    },
    {
     "name": "stderr",
     "output_type": "stream",
     "text": [
      "900it [01:05, 13.71it/s]\n"
     ]
    },
    {
     "name": "stdout",
     "output_type": "stream",
     "text": [
      "Converting prediction from <class 'numpy.float32'> to uint8, using threshold of 0.5\n",
      "File already analysed! /media/nkd/data18931/ndwi_int8_13001_18931/ndwi_int8_17758.tif\n",
      "/media/nkd/data18931/ndwi_int8_13001_18931/ndwi_int8_17759.tif\n",
      "the size of current NDWI_img 11356 11355\n"
     ]
    },
    {
     "name": "stderr",
     "output_type": "stream",
     "text": [
      "900it [01:06, 13.50it/s]\n"
     ]
    },
    {
     "name": "stdout",
     "output_type": "stream",
     "text": [
      "Converting prediction from <class 'numpy.float32'> to uint8, using threshold of 0.5\n",
      "File already analysed! /media/nkd/data18931/ndwi_int8_13001_18931/ndwi_int8_17759.tif\n",
      "/media/nkd/data18931/ndwi_int8_13001_18931/ndwi_int8_17760.tif\n",
      "the size of current NDWI_img 11356 11355\n"
     ]
    },
    {
     "name": "stderr",
     "output_type": "stream",
     "text": [
      "900it [01:08, 13.12it/s]\n"
     ]
    },
    {
     "name": "stdout",
     "output_type": "stream",
     "text": [
      "Converting prediction from <class 'numpy.float32'> to uint8, using threshold of 0.5\n",
      "File already analysed! /media/nkd/data18931/ndwi_int8_13001_18931/ndwi_int8_17760.tif\n",
      "/media/nkd/data18931/ndwi_int8_13001_18931/ndwi_int8_17761.tif\n",
      "the size of current NDWI_img 11356 11355\n"
     ]
    },
    {
     "name": "stderr",
     "output_type": "stream",
     "text": [
      "900it [01:05, 13.83it/s]\n"
     ]
    },
    {
     "name": "stdout",
     "output_type": "stream",
     "text": [
      "Converting prediction from <class 'numpy.float32'> to uint8, using threshold of 0.5\n",
      "File already analysed! /media/nkd/data18931/ndwi_int8_13001_18931/ndwi_int8_17761.tif\n",
      "/media/nkd/data18931/ndwi_int8_13001_18931/ndwi_int8_17762.tif\n",
      "the size of current NDWI_img 11356 11355\n"
     ]
    },
    {
     "name": "stderr",
     "output_type": "stream",
     "text": [
      "900it [01:07, 13.31it/s]\n"
     ]
    },
    {
     "name": "stdout",
     "output_type": "stream",
     "text": [
      "Converting prediction from <class 'numpy.float32'> to uint8, using threshold of 0.5\n",
      "File already analysed! /media/nkd/data18931/ndwi_int8_13001_18931/ndwi_int8_17762.tif\n",
      "/media/nkd/data18931/ndwi_int8_13001_18931/ndwi_int8_17763.tif\n",
      "the size of current NDWI_img 11355 11355\n"
     ]
    },
    {
     "name": "stderr",
     "output_type": "stream",
     "text": [
      "900it [01:14, 12.04it/s]\n"
     ]
    },
    {
     "name": "stdout",
     "output_type": "stream",
     "text": [
      "Converting prediction from <class 'numpy.float32'> to uint8, using threshold of 0.5\n",
      "File already analysed! /media/nkd/data18931/ndwi_int8_13001_18931/ndwi_int8_17763.tif\n",
      "/media/nkd/data18931/ndwi_int8_13001_18931/ndwi_int8_17764.tif\n",
      "the size of current NDWI_img 11355 11355\n"
     ]
    },
    {
     "name": "stderr",
     "output_type": "stream",
     "text": [
      "900it [01:12, 12.48it/s]\n"
     ]
    },
    {
     "name": "stdout",
     "output_type": "stream",
     "text": [
      "Converting prediction from <class 'numpy.float32'> to uint8, using threshold of 0.5\n",
      "File already analysed! /media/nkd/data18931/ndwi_int8_13001_18931/ndwi_int8_17764.tif\n",
      "/media/nkd/data18931/ndwi_int8_13001_18931/ndwi_int8_17765.tif\n",
      "the size of current NDWI_img 11355 11355\n"
     ]
    },
    {
     "name": "stderr",
     "output_type": "stream",
     "text": [
      "900it [01:10, 12.84it/s]\n"
     ]
    },
    {
     "name": "stdout",
     "output_type": "stream",
     "text": [
      "Converting prediction from <class 'numpy.float32'> to uint8, using threshold of 0.5\n",
      "File already analysed! /media/nkd/data18931/ndwi_int8_13001_18931/ndwi_int8_17765.tif\n",
      "/media/nkd/data18931/ndwi_int8_13001_18931/ndwi_int8_17766.tif\n",
      "the size of current NDWI_img 11355 11355\n"
     ]
    },
    {
     "name": "stderr",
     "output_type": "stream",
     "text": [
      "900it [01:08, 13.16it/s]\n"
     ]
    },
    {
     "name": "stdout",
     "output_type": "stream",
     "text": [
      "Converting prediction from <class 'numpy.float32'> to uint8, using threshold of 0.5\n",
      "File already analysed! /media/nkd/data18931/ndwi_int8_13001_18931/ndwi_int8_17766.tif\n",
      "/media/nkd/data18931/ndwi_int8_13001_18931/ndwi_int8_17767.tif\n",
      "the size of current NDWI_img 11355 11355\n"
     ]
    },
    {
     "name": "stderr",
     "output_type": "stream",
     "text": [
      "900it [01:09, 12.90it/s]\n"
     ]
    },
    {
     "name": "stdout",
     "output_type": "stream",
     "text": [
      "Converting prediction from <class 'numpy.float32'> to uint8, using threshold of 0.5\n",
      "File already analysed! /media/nkd/data18931/ndwi_int8_13001_18931/ndwi_int8_17767.tif\n",
      "/media/nkd/data18931/ndwi_int8_13001_18931/ndwi_int8_17768.tif\n",
      "the size of current NDWI_img 11356 11355\n"
     ]
    },
    {
     "name": "stderr",
     "output_type": "stream",
     "text": [
      "900it [01:06, 13.44it/s]\n"
     ]
    },
    {
     "name": "stdout",
     "output_type": "stream",
     "text": [
      "Converting prediction from <class 'numpy.float32'> to uint8, using threshold of 0.5\n",
      "File already analysed! /media/nkd/data18931/ndwi_int8_13001_18931/ndwi_int8_17768.tif\n",
      "/media/nkd/data18931/ndwi_int8_13001_18931/ndwi_int8_17769.tif\n",
      "the size of current NDWI_img 11356 11355\n"
     ]
    },
    {
     "name": "stderr",
     "output_type": "stream",
     "text": [
      "900it [01:03, 14.15it/s]\n"
     ]
    },
    {
     "name": "stdout",
     "output_type": "stream",
     "text": [
      "Converting prediction from <class 'numpy.float32'> to uint8, using threshold of 0.5\n",
      "File already analysed! /media/nkd/data18931/ndwi_int8_13001_18931/ndwi_int8_17769.tif\n",
      "/media/nkd/data18931/ndwi_int8_13001_18931/ndwi_int8_17770.tif\n",
      "the size of current NDWI_img 11356 11355\n"
     ]
    },
    {
     "name": "stderr",
     "output_type": "stream",
     "text": [
      "900it [01:04, 13.99it/s]\n"
     ]
    },
    {
     "name": "stdout",
     "output_type": "stream",
     "text": [
      "Converting prediction from <class 'numpy.float32'> to uint8, using threshold of 0.5\n",
      "File already analysed! /media/nkd/data18931/ndwi_int8_13001_18931/ndwi_int8_17770.tif\n",
      "/media/nkd/data18931/ndwi_int8_13001_18931/ndwi_int8_17771.tif\n",
      "the size of current NDWI_img 11356 11355\n"
     ]
    },
    {
     "name": "stderr",
     "output_type": "stream",
     "text": [
      "900it [01:07, 13.40it/s]\n"
     ]
    },
    {
     "name": "stdout",
     "output_type": "stream",
     "text": [
      "Converting prediction from <class 'numpy.float32'> to uint8, using threshold of 0.5\n",
      "File already analysed! /media/nkd/data18931/ndwi_int8_13001_18931/ndwi_int8_17771.tif\n",
      "/media/nkd/data18931/ndwi_int8_13001_18931/ndwi_int8_17772.tif\n",
      "the size of current NDWI_img 11356 11355\n"
     ]
    },
    {
     "name": "stderr",
     "output_type": "stream",
     "text": [
      "900it [01:05, 13.76it/s]\n"
     ]
    },
    {
     "name": "stdout",
     "output_type": "stream",
     "text": [
      "Converting prediction from <class 'numpy.float32'> to uint8, using threshold of 0.5\n",
      "File already analysed! /media/nkd/data18931/ndwi_int8_13001_18931/ndwi_int8_17772.tif\n",
      "/media/nkd/data18931/ndwi_int8_13001_18931/ndwi_int8_17773.tif\n",
      "the size of current NDWI_img 11355 11355\n"
     ]
    },
    {
     "name": "stderr",
     "output_type": "stream",
     "text": [
      "900it [01:13, 12.32it/s]\n"
     ]
    },
    {
     "name": "stdout",
     "output_type": "stream",
     "text": [
      "Converting prediction from <class 'numpy.float32'> to uint8, using threshold of 0.5\n",
      "File already analysed! /media/nkd/data18931/ndwi_int8_13001_18931/ndwi_int8_17773.tif\n",
      "/media/nkd/data18931/ndwi_int8_13001_18931/ndwi_int8_17774.tif\n",
      "the size of current NDWI_img 11355 11355\n"
     ]
    },
    {
     "name": "stderr",
     "output_type": "stream",
     "text": [
      "900it [01:10, 12.75it/s]\n"
     ]
    },
    {
     "name": "stdout",
     "output_type": "stream",
     "text": [
      "Converting prediction from <class 'numpy.float32'> to uint8, using threshold of 0.5\n",
      "File already analysed! /media/nkd/data18931/ndwi_int8_13001_18931/ndwi_int8_17774.tif\n",
      "/media/nkd/data18931/ndwi_int8_13001_18931/ndwi_int8_17775.tif\n",
      "the size of current NDWI_img 11355 11355\n"
     ]
    },
    {
     "name": "stderr",
     "output_type": "stream",
     "text": [
      "900it [01:10, 12.73it/s]\n"
     ]
    },
    {
     "name": "stdout",
     "output_type": "stream",
     "text": [
      "Converting prediction from <class 'numpy.float32'> to uint8, using threshold of 0.5\n",
      "File already analysed! /media/nkd/data18931/ndwi_int8_13001_18931/ndwi_int8_17775.tif\n",
      "/media/nkd/data18931/ndwi_int8_13001_18931/ndwi_int8_17776.tif\n",
      "the size of current NDWI_img 11355 11355\n"
     ]
    },
    {
     "name": "stderr",
     "output_type": "stream",
     "text": [
      "900it [01:10, 12.82it/s]\n"
     ]
    },
    {
     "name": "stdout",
     "output_type": "stream",
     "text": [
      "Converting prediction from <class 'numpy.float32'> to uint8, using threshold of 0.5\n",
      "File already analysed! /media/nkd/data18931/ndwi_int8_13001_18931/ndwi_int8_17776.tif\n",
      "/media/nkd/data18931/ndwi_int8_13001_18931/ndwi_int8_17777.tif\n",
      "the size of current NDWI_img 11355 11355\n"
     ]
    },
    {
     "name": "stderr",
     "output_type": "stream",
     "text": [
      "900it [01:09, 13.03it/s]\n"
     ]
    },
    {
     "name": "stdout",
     "output_type": "stream",
     "text": [
      "Converting prediction from <class 'numpy.float32'> to uint8, using threshold of 0.5\n",
      "File already analysed! /media/nkd/data18931/ndwi_int8_13001_18931/ndwi_int8_17777.tif\n",
      "/media/nkd/data18931/ndwi_int8_13001_18931/ndwi_int8_17778.tif\n",
      "the size of current NDWI_img 11356 11355\n"
     ]
    },
    {
     "name": "stderr",
     "output_type": "stream",
     "text": [
      "900it [01:09, 12.96it/s]\n"
     ]
    },
    {
     "name": "stdout",
     "output_type": "stream",
     "text": [
      "Converting prediction from <class 'numpy.float32'> to uint8, using threshold of 0.5\n",
      "File already analysed! /media/nkd/data18931/ndwi_int8_13001_18931/ndwi_int8_17778.tif\n",
      "/media/nkd/data18931/ndwi_int8_13001_18931/ndwi_int8_17779.tif\n",
      "the size of current NDWI_img 11356 11355\n"
     ]
    },
    {
     "name": "stderr",
     "output_type": "stream",
     "text": [
      "900it [01:05, 13.78it/s]\n"
     ]
    },
    {
     "name": "stdout",
     "output_type": "stream",
     "text": [
      "Converting prediction from <class 'numpy.float32'> to uint8, using threshold of 0.5\n",
      "File already analysed! /media/nkd/data18931/ndwi_int8_13001_18931/ndwi_int8_17779.tif\n",
      "/media/nkd/data18931/ndwi_int8_13001_18931/ndwi_int8_17780.tif\n",
      "the size of current NDWI_img 11356 11355\n"
     ]
    },
    {
     "name": "stderr",
     "output_type": "stream",
     "text": [
      "900it [01:04, 13.93it/s]\n"
     ]
    },
    {
     "name": "stdout",
     "output_type": "stream",
     "text": [
      "Converting prediction from <class 'numpy.float32'> to uint8, using threshold of 0.5\n",
      "File already analysed! /media/nkd/data18931/ndwi_int8_13001_18931/ndwi_int8_17780.tif\n",
      "/media/nkd/data18931/ndwi_int8_13001_18931/ndwi_int8_17781.tif\n",
      "the size of current NDWI_img 11356 11355\n"
     ]
    },
    {
     "name": "stderr",
     "output_type": "stream",
     "text": [
      "900it [01:05, 13.70it/s]\n"
     ]
    },
    {
     "name": "stdout",
     "output_type": "stream",
     "text": [
      "Converting prediction from <class 'numpy.float32'> to uint8, using threshold of 0.5\n",
      "File already analysed! /media/nkd/data18931/ndwi_int8_13001_18931/ndwi_int8_17781.tif\n",
      "/media/nkd/data18931/ndwi_int8_13001_18931/ndwi_int8_17782.tif\n",
      "the size of current NDWI_img 11356 11355\n"
     ]
    },
    {
     "name": "stderr",
     "output_type": "stream",
     "text": [
      "900it [01:05, 13.81it/s]\n"
     ]
    },
    {
     "name": "stdout",
     "output_type": "stream",
     "text": [
      "Converting prediction from <class 'numpy.float32'> to uint8, using threshold of 0.5\n",
      "File already analysed! /media/nkd/data18931/ndwi_int8_13001_18931/ndwi_int8_17782.tif\n",
      "/media/nkd/data18931/ndwi_int8_13001_18931/ndwi_int8_17783.tif\n",
      "the size of current NDWI_img 11355 11355\n"
     ]
    },
    {
     "name": "stderr",
     "output_type": "stream",
     "text": [
      "900it [01:12, 12.35it/s]\n"
     ]
    },
    {
     "name": "stdout",
     "output_type": "stream",
     "text": [
      "Converting prediction from <class 'numpy.float32'> to uint8, using threshold of 0.5\n",
      "File already analysed! /media/nkd/data18931/ndwi_int8_13001_18931/ndwi_int8_17783.tif\n",
      "/media/nkd/data18931/ndwi_int8_13001_18931/ndwi_int8_17784.tif\n",
      "the size of current NDWI_img 11355 11355\n"
     ]
    },
    {
     "name": "stderr",
     "output_type": "stream",
     "text": [
      "900it [01:11, 12.53it/s]\n"
     ]
    },
    {
     "name": "stdout",
     "output_type": "stream",
     "text": [
      "Converting prediction from <class 'numpy.float32'> to uint8, using threshold of 0.5\n",
      "File already analysed! /media/nkd/data18931/ndwi_int8_13001_18931/ndwi_int8_17784.tif\n",
      "/media/nkd/data18931/ndwi_int8_13001_18931/ndwi_int8_17785.tif\n",
      "the size of current NDWI_img 11355 11355\n"
     ]
    },
    {
     "name": "stderr",
     "output_type": "stream",
     "text": [
      "900it [01:10, 12.79it/s]\n"
     ]
    },
    {
     "name": "stdout",
     "output_type": "stream",
     "text": [
      "Converting prediction from <class 'numpy.float32'> to uint8, using threshold of 0.5\n",
      "File already analysed! /media/nkd/data18931/ndwi_int8_13001_18931/ndwi_int8_17785.tif\n",
      "/media/nkd/data18931/ndwi_int8_13001_18931/ndwi_int8_17786.tif\n",
      "the size of current NDWI_img 11355 11355\n"
     ]
    },
    {
     "name": "stderr",
     "output_type": "stream",
     "text": [
      "900it [01:08, 13.16it/s]\n"
     ]
    },
    {
     "name": "stdout",
     "output_type": "stream",
     "text": [
      "Converting prediction from <class 'numpy.float32'> to uint8, using threshold of 0.5\n",
      "File already analysed! /media/nkd/data18931/ndwi_int8_13001_18931/ndwi_int8_17786.tif\n",
      "/media/nkd/data18931/ndwi_int8_13001_18931/ndwi_int8_17787.tif\n",
      "the size of current NDWI_img 11355 11355\n"
     ]
    },
    {
     "name": "stderr",
     "output_type": "stream",
     "text": [
      "900it [01:07, 13.40it/s]\n"
     ]
    },
    {
     "name": "stdout",
     "output_type": "stream",
     "text": [
      "Converting prediction from <class 'numpy.float32'> to uint8, using threshold of 0.5\n",
      "File already analysed! /media/nkd/data18931/ndwi_int8_13001_18931/ndwi_int8_17787.tif\n",
      "/media/nkd/data18931/ndwi_int8_13001_18931/ndwi_int8_17788.tif\n",
      "the size of current NDWI_img 11356 11355\n"
     ]
    },
    {
     "name": "stderr",
     "output_type": "stream",
     "text": [
      "900it [01:05, 13.81it/s]\n"
     ]
    },
    {
     "name": "stdout",
     "output_type": "stream",
     "text": [
      "Converting prediction from <class 'numpy.float32'> to uint8, using threshold of 0.5\n",
      "File already analysed! /media/nkd/data18931/ndwi_int8_13001_18931/ndwi_int8_17788.tif\n",
      "/media/nkd/data18931/ndwi_int8_13001_18931/ndwi_int8_17789.tif\n",
      "the size of current NDWI_img 11356 11355\n"
     ]
    },
    {
     "name": "stderr",
     "output_type": "stream",
     "text": [
      "900it [01:02, 14.30it/s]\n"
     ]
    },
    {
     "name": "stdout",
     "output_type": "stream",
     "text": [
      "Converting prediction from <class 'numpy.float32'> to uint8, using threshold of 0.5\n",
      "File already analysed! /media/nkd/data18931/ndwi_int8_13001_18931/ndwi_int8_17789.tif\n",
      "/media/nkd/data18931/ndwi_int8_13001_18931/ndwi_int8_17790.tif\n",
      "the size of current NDWI_img 11356 11355\n"
     ]
    },
    {
     "name": "stderr",
     "output_type": "stream",
     "text": [
      "900it [01:04, 13.90it/s]\n"
     ]
    },
    {
     "name": "stdout",
     "output_type": "stream",
     "text": [
      "Converting prediction from <class 'numpy.float32'> to uint8, using threshold of 0.5\n",
      "File already analysed! /media/nkd/data18931/ndwi_int8_13001_18931/ndwi_int8_17790.tif\n",
      "/media/nkd/data18931/ndwi_int8_13001_18931/ndwi_int8_17791.tif\n",
      "the size of current NDWI_img 11356 11355\n"
     ]
    },
    {
     "name": "stderr",
     "output_type": "stream",
     "text": [
      "900it [01:04, 13.91it/s]\n"
     ]
    },
    {
     "name": "stdout",
     "output_type": "stream",
     "text": [
      "Converting prediction from <class 'numpy.float32'> to uint8, using threshold of 0.5\n",
      "File already analysed! /media/nkd/data18931/ndwi_int8_13001_18931/ndwi_int8_17791.tif\n",
      "/media/nkd/data18931/ndwi_int8_13001_18931/ndwi_int8_17792.tif\n",
      "the size of current NDWI_img 11356 11355\n"
     ]
    },
    {
     "name": "stderr",
     "output_type": "stream",
     "text": [
      "900it [01:04, 13.87it/s]\n"
     ]
    },
    {
     "name": "stdout",
     "output_type": "stream",
     "text": [
      "Converting prediction from <class 'numpy.float32'> to uint8, using threshold of 0.5\n",
      "File already analysed! /media/nkd/data18931/ndwi_int8_13001_18931/ndwi_int8_17792.tif\n",
      "/media/nkd/data18931/ndwi_int8_13001_18931/ndwi_int8_17793.tif\n",
      "the size of current NDWI_img 11355 11355\n"
     ]
    },
    {
     "name": "stderr",
     "output_type": "stream",
     "text": [
      "900it [01:14, 12.04it/s]\n"
     ]
    },
    {
     "name": "stdout",
     "output_type": "stream",
     "text": [
      "Converting prediction from <class 'numpy.float32'> to uint8, using threshold of 0.5\n",
      "File already analysed! /media/nkd/data18931/ndwi_int8_13001_18931/ndwi_int8_17793.tif\n",
      "/media/nkd/data18931/ndwi_int8_13001_18931/ndwi_int8_17794.tif\n",
      "the size of current NDWI_img 11355 11355\n"
     ]
    },
    {
     "name": "stderr",
     "output_type": "stream",
     "text": [
      "900it [01:13, 12.22it/s]\n"
     ]
    },
    {
     "name": "stdout",
     "output_type": "stream",
     "text": [
      "Converting prediction from <class 'numpy.float32'> to uint8, using threshold of 0.5\n",
      "File already analysed! /media/nkd/data18931/ndwi_int8_13001_18931/ndwi_int8_17794.tif\n",
      "/media/nkd/data18931/ndwi_int8_13001_18931/ndwi_int8_17795.tif\n",
      "the size of current NDWI_img 11355 11355\n"
     ]
    },
    {
     "name": "stderr",
     "output_type": "stream",
     "text": [
      "900it [01:11, 12.62it/s]\n"
     ]
    },
    {
     "name": "stdout",
     "output_type": "stream",
     "text": [
      "Converting prediction from <class 'numpy.float32'> to uint8, using threshold of 0.5\n",
      "File already analysed! /media/nkd/data18931/ndwi_int8_13001_18931/ndwi_int8_17795.tif\n",
      "/media/nkd/data18931/ndwi_int8_13001_18931/ndwi_int8_17796.tif\n",
      "the size of current NDWI_img 11355 11355\n"
     ]
    },
    {
     "name": "stderr",
     "output_type": "stream",
     "text": [
      "900it [01:07, 13.27it/s]\n"
     ]
    },
    {
     "name": "stdout",
     "output_type": "stream",
     "text": [
      "Converting prediction from <class 'numpy.float32'> to uint8, using threshold of 0.5\n",
      "File already analysed! /media/nkd/data18931/ndwi_int8_13001_18931/ndwi_int8_17796.tif\n",
      "/media/nkd/data18931/ndwi_int8_13001_18931/ndwi_int8_17797.tif\n",
      "the size of current NDWI_img 11356 11355\n"
     ]
    },
    {
     "name": "stderr",
     "output_type": "stream",
     "text": [
      "900it [01:08, 13.19it/s]\n"
     ]
    },
    {
     "name": "stdout",
     "output_type": "stream",
     "text": [
      "Converting prediction from <class 'numpy.float32'> to uint8, using threshold of 0.5\n",
      "File already analysed! /media/nkd/data18931/ndwi_int8_13001_18931/ndwi_int8_17797.tif\n",
      "/media/nkd/data18931/ndwi_int8_13001_18931/ndwi_int8_17798.tif\n",
      "the size of current NDWI_img 11356 11355\n"
     ]
    },
    {
     "name": "stderr",
     "output_type": "stream",
     "text": [
      "900it [01:08, 13.22it/s]\n"
     ]
    },
    {
     "name": "stdout",
     "output_type": "stream",
     "text": [
      "Converting prediction from <class 'numpy.float32'> to uint8, using threshold of 0.5\n",
      "File already analysed! /media/nkd/data18931/ndwi_int8_13001_18931/ndwi_int8_17798.tif\n",
      "/media/nkd/data18931/ndwi_int8_13001_18931/ndwi_int8_17799.tif\n",
      "the size of current NDWI_img 11356 11355\n"
     ]
    },
    {
     "name": "stderr",
     "output_type": "stream",
     "text": [
      "900it [01:07, 13.39it/s]\n"
     ]
    },
    {
     "name": "stdout",
     "output_type": "stream",
     "text": [
      "Converting prediction from <class 'numpy.float32'> to uint8, using threshold of 0.5\n",
      "File already analysed! /media/nkd/data18931/ndwi_int8_13001_18931/ndwi_int8_17799.tif\n",
      "/media/nkd/data18931/ndwi_int8_13001_18931/ndwi_int8_17800.tif\n",
      "the size of current NDWI_img 11356 11355\n"
     ]
    },
    {
     "name": "stderr",
     "output_type": "stream",
     "text": [
      "900it [01:07, 13.42it/s]\n"
     ]
    },
    {
     "name": "stdout",
     "output_type": "stream",
     "text": [
      "Converting prediction from <class 'numpy.float32'> to uint8, using threshold of 0.5\n",
      "File already analysed! /media/nkd/data18931/ndwi_int8_13001_18931/ndwi_int8_17800.tif\n",
      "/media/nkd/data18931/ndwi_int8_13001_18931/ndwi_int8_17801.tif\n",
      "the size of current NDWI_img 11356 11355\n"
     ]
    },
    {
     "name": "stderr",
     "output_type": "stream",
     "text": [
      "900it [01:08, 13.09it/s]\n"
     ]
    },
    {
     "name": "stdout",
     "output_type": "stream",
     "text": [
      "Converting prediction from <class 'numpy.float32'> to uint8, using threshold of 0.5\n",
      "File already analysed! /media/nkd/data18931/ndwi_int8_13001_18931/ndwi_int8_17801.tif\n",
      "/media/nkd/data18931/ndwi_int8_13001_18931/ndwi_int8_17802.tif\n",
      "the size of current NDWI_img 11355 11355\n"
     ]
    },
    {
     "name": "stderr",
     "output_type": "stream",
     "text": [
      "900it [01:12, 12.39it/s]\n"
     ]
    },
    {
     "name": "stdout",
     "output_type": "stream",
     "text": [
      "Converting prediction from <class 'numpy.float32'> to uint8, using threshold of 0.5\n",
      "File already analysed! /media/nkd/data18931/ndwi_int8_13001_18931/ndwi_int8_17802.tif\n",
      "/media/nkd/data18931/ndwi_int8_13001_18931/ndwi_int8_17803.tif\n",
      "the size of current NDWI_img 11355 11355\n"
     ]
    },
    {
     "name": "stderr",
     "output_type": "stream",
     "text": [
      "900it [01:14, 12.09it/s]\n"
     ]
    },
    {
     "name": "stdout",
     "output_type": "stream",
     "text": [
      "Converting prediction from <class 'numpy.float32'> to uint8, using threshold of 0.5\n",
      "File already analysed! /media/nkd/data18931/ndwi_int8_13001_18931/ndwi_int8_17803.tif\n",
      "/media/nkd/data18931/ndwi_int8_13001_18931/ndwi_int8_17804.tif\n",
      "the size of current NDWI_img 11355 11355\n"
     ]
    },
    {
     "name": "stderr",
     "output_type": "stream",
     "text": [
      "900it [01:12, 12.46it/s]\n"
     ]
    },
    {
     "name": "stdout",
     "output_type": "stream",
     "text": [
      "Converting prediction from <class 'numpy.float32'> to uint8, using threshold of 0.5\n",
      "File already analysed! /media/nkd/data18931/ndwi_int8_13001_18931/ndwi_int8_17804.tif\n",
      "/media/nkd/data18931/ndwi_int8_13001_18931/ndwi_int8_17805.tif\n",
      "the size of current NDWI_img 11355 11355\n"
     ]
    },
    {
     "name": "stderr",
     "output_type": "stream",
     "text": [
      "900it [01:11, 12.63it/s]\n"
     ]
    },
    {
     "name": "stdout",
     "output_type": "stream",
     "text": [
      "Converting prediction from <class 'numpy.float32'> to uint8, using threshold of 0.5\n",
      "File already analysed! /media/nkd/data18931/ndwi_int8_13001_18931/ndwi_int8_17805.tif\n",
      "/media/nkd/data18931/ndwi_int8_13001_18931/ndwi_int8_17806.tif\n",
      "the size of current NDWI_img 11355 11355\n"
     ]
    },
    {
     "name": "stderr",
     "output_type": "stream",
     "text": [
      "900it [01:10, 12.73it/s]\n"
     ]
    },
    {
     "name": "stdout",
     "output_type": "stream",
     "text": [
      "Converting prediction from <class 'numpy.float32'> to uint8, using threshold of 0.5\n",
      "File already analysed! /media/nkd/data18931/ndwi_int8_13001_18931/ndwi_int8_17806.tif\n",
      "/media/nkd/data18931/ndwi_int8_13001_18931/ndwi_int8_17807.tif\n",
      "the size of current NDWI_img 11356 11355\n"
     ]
    },
    {
     "name": "stderr",
     "output_type": "stream",
     "text": [
      "900it [01:10, 12.78it/s]\n"
     ]
    },
    {
     "name": "stdout",
     "output_type": "stream",
     "text": [
      "Converting prediction from <class 'numpy.float32'> to uint8, using threshold of 0.5\n",
      "File already analysed! /media/nkd/data18931/ndwi_int8_13001_18931/ndwi_int8_17807.tif\n",
      "/media/nkd/data18931/ndwi_int8_13001_18931/ndwi_int8_17808.tif\n",
      "the size of current NDWI_img 11356 11355\n"
     ]
    },
    {
     "name": "stderr",
     "output_type": "stream",
     "text": [
      "900it [01:11, 12.60it/s]\n"
     ]
    },
    {
     "name": "stdout",
     "output_type": "stream",
     "text": [
      "Converting prediction from <class 'numpy.float32'> to uint8, using threshold of 0.5\n",
      "File already analysed! /media/nkd/data18931/ndwi_int8_13001_18931/ndwi_int8_17808.tif\n",
      "/media/nkd/data18931/ndwi_int8_13001_18931/ndwi_int8_17809.tif\n",
      "the size of current NDWI_img 11356 11355\n"
     ]
    },
    {
     "name": "stderr",
     "output_type": "stream",
     "text": [
      "900it [01:05, 13.77it/s]\n"
     ]
    },
    {
     "name": "stdout",
     "output_type": "stream",
     "text": [
      "Converting prediction from <class 'numpy.float32'> to uint8, using threshold of 0.5\n",
      "File already analysed! /media/nkd/data18931/ndwi_int8_13001_18931/ndwi_int8_17809.tif\n",
      "/media/nkd/data18931/ndwi_int8_13001_18931/ndwi_int8_17810.tif\n",
      "the size of current NDWI_img 11356 11355\n"
     ]
    },
    {
     "name": "stderr",
     "output_type": "stream",
     "text": [
      "900it [01:08, 13.09it/s]\n"
     ]
    },
    {
     "name": "stdout",
     "output_type": "stream",
     "text": [
      "Converting prediction from <class 'numpy.float32'> to uint8, using threshold of 0.5\n",
      "File already analysed! /media/nkd/data18931/ndwi_int8_13001_18931/ndwi_int8_17810.tif\n",
      "/media/nkd/data18931/ndwi_int8_13001_18931/ndwi_int8_17811.tif\n",
      "the size of current NDWI_img 11356 11355\n"
     ]
    },
    {
     "name": "stderr",
     "output_type": "stream",
     "text": [
      "900it [01:05, 13.72it/s]\n"
     ]
    },
    {
     "name": "stdout",
     "output_type": "stream",
     "text": [
      "Converting prediction from <class 'numpy.float32'> to uint8, using threshold of 0.5\n",
      "File already analysed! /media/nkd/data18931/ndwi_int8_13001_18931/ndwi_int8_17811.tif\n",
      "/media/nkd/data18931/ndwi_int8_13001_18931/ndwi_int8_17812.tif\n",
      "the size of current NDWI_img 11355 11355\n"
     ]
    },
    {
     "name": "stderr",
     "output_type": "stream",
     "text": [
      "900it [01:14, 12.12it/s]\n"
     ]
    },
    {
     "name": "stdout",
     "output_type": "stream",
     "text": [
      "Converting prediction from <class 'numpy.float32'> to uint8, using threshold of 0.5\n",
      "File already analysed! /media/nkd/data18931/ndwi_int8_13001_18931/ndwi_int8_17812.tif\n",
      "/media/nkd/data18931/ndwi_int8_13001_18931/ndwi_int8_17813.tif\n",
      "the size of current NDWI_img 11355 11355\n"
     ]
    },
    {
     "name": "stderr",
     "output_type": "stream",
     "text": [
      "900it [01:14, 12.14it/s]\n"
     ]
    },
    {
     "name": "stdout",
     "output_type": "stream",
     "text": [
      "Converting prediction from <class 'numpy.float32'> to uint8, using threshold of 0.5\n",
      "File already analysed! /media/nkd/data18931/ndwi_int8_13001_18931/ndwi_int8_17813.tif\n",
      "/media/nkd/data18931/ndwi_int8_13001_18931/ndwi_int8_17814.tif\n",
      "the size of current NDWI_img 11355 11355\n"
     ]
    },
    {
     "name": "stderr",
     "output_type": "stream",
     "text": [
      "900it [01:12, 12.49it/s]\n"
     ]
    },
    {
     "name": "stdout",
     "output_type": "stream",
     "text": [
      "Converting prediction from <class 'numpy.float32'> to uint8, using threshold of 0.5\n",
      "File already analysed! /media/nkd/data18931/ndwi_int8_13001_18931/ndwi_int8_17814.tif\n",
      "/media/nkd/data18931/ndwi_int8_13001_18931/ndwi_int8_17815.tif\n",
      "the size of current NDWI_img 11355 11355\n"
     ]
    },
    {
     "name": "stderr",
     "output_type": "stream",
     "text": [
      "900it [01:10, 12.72it/s]\n"
     ]
    },
    {
     "name": "stdout",
     "output_type": "stream",
     "text": [
      "Converting prediction from <class 'numpy.float32'> to uint8, using threshold of 0.5\n",
      "File already analysed! /media/nkd/data18931/ndwi_int8_13001_18931/ndwi_int8_17815.tif\n",
      "/media/nkd/data18931/ndwi_int8_13001_18931/ndwi_int8_17816.tif\n",
      "the size of current NDWI_img 11355 11355\n"
     ]
    },
    {
     "name": "stderr",
     "output_type": "stream",
     "text": [
      "900it [01:09, 12.99it/s]\n"
     ]
    },
    {
     "name": "stdout",
     "output_type": "stream",
     "text": [
      "Converting prediction from <class 'numpy.float32'> to uint8, using threshold of 0.5\n",
      "File already analysed! /media/nkd/data18931/ndwi_int8_13001_18931/ndwi_int8_17816.tif\n",
      "/media/nkd/data18931/ndwi_int8_13001_18931/ndwi_int8_17817.tif\n",
      "the size of current NDWI_img 11356 11355\n"
     ]
    },
    {
     "name": "stderr",
     "output_type": "stream",
     "text": [
      "900it [01:11, 12.58it/s]\n"
     ]
    },
    {
     "name": "stdout",
     "output_type": "stream",
     "text": [
      "Converting prediction from <class 'numpy.float32'> to uint8, using threshold of 0.5\n",
      "File already analysed! /media/nkd/data18931/ndwi_int8_13001_18931/ndwi_int8_17817.tif\n",
      "/media/nkd/data18931/ndwi_int8_13001_18931/ndwi_int8_17818.tif\n",
      "the size of current NDWI_img 11356 11355\n"
     ]
    },
    {
     "name": "stderr",
     "output_type": "stream",
     "text": [
      "900it [01:08, 13.05it/s]\n"
     ]
    },
    {
     "name": "stdout",
     "output_type": "stream",
     "text": [
      "Converting prediction from <class 'numpy.float32'> to uint8, using threshold of 0.5\n",
      "File already analysed! /media/nkd/data18931/ndwi_int8_13001_18931/ndwi_int8_17818.tif\n",
      "/media/nkd/data18931/ndwi_int8_13001_18931/ndwi_int8_17819.tif\n",
      "the size of current NDWI_img 11356 11355\n"
     ]
    },
    {
     "name": "stderr",
     "output_type": "stream",
     "text": [
      "900it [01:02, 14.32it/s]\n"
     ]
    },
    {
     "name": "stdout",
     "output_type": "stream",
     "text": [
      "Converting prediction from <class 'numpy.float32'> to uint8, using threshold of 0.5\n",
      "File already analysed! /media/nkd/data18931/ndwi_int8_13001_18931/ndwi_int8_17819.tif\n",
      "/media/nkd/data18931/ndwi_int8_13001_18931/ndwi_int8_17820.tif\n",
      "the size of current NDWI_img 11356 11355\n"
     ]
    },
    {
     "name": "stderr",
     "output_type": "stream",
     "text": [
      "900it [01:01, 14.60it/s]\n"
     ]
    },
    {
     "name": "stdout",
     "output_type": "stream",
     "text": [
      "Converting prediction from <class 'numpy.float32'> to uint8, using threshold of 0.5\n",
      "File already analysed! /media/nkd/data18931/ndwi_int8_13001_18931/ndwi_int8_17820.tif\n",
      "/media/nkd/data18931/ndwi_int8_13001_18931/ndwi_int8_17821.tif\n",
      "the size of current NDWI_img 11356 11355\n"
     ]
    },
    {
     "name": "stderr",
     "output_type": "stream",
     "text": [
      "900it [01:05, 13.75it/s]\n"
     ]
    },
    {
     "name": "stdout",
     "output_type": "stream",
     "text": [
      "Converting prediction from <class 'numpy.float32'> to uint8, using threshold of 0.5\n",
      "File already analysed! /media/nkd/data18931/ndwi_int8_13001_18931/ndwi_int8_17821.tif\n",
      "/media/nkd/data18931/ndwi_int8_13001_18931/ndwi_int8_17822.tif\n",
      "the size of current NDWI_img 11355 11355\n"
     ]
    },
    {
     "name": "stderr",
     "output_type": "stream",
     "text": [
      "900it [01:12, 12.40it/s]\n"
     ]
    },
    {
     "name": "stdout",
     "output_type": "stream",
     "text": [
      "Converting prediction from <class 'numpy.float32'> to uint8, using threshold of 0.5\n",
      "File already analysed! /media/nkd/data18931/ndwi_int8_13001_18931/ndwi_int8_17822.tif\n",
      "/media/nkd/data18931/ndwi_int8_13001_18931/ndwi_int8_17823.tif\n",
      "the size of current NDWI_img 11355 11355\n"
     ]
    },
    {
     "name": "stderr",
     "output_type": "stream",
     "text": [
      "900it [01:11, 12.65it/s]\n"
     ]
    },
    {
     "name": "stdout",
     "output_type": "stream",
     "text": [
      "Converting prediction from <class 'numpy.float32'> to uint8, using threshold of 0.5\n",
      "File already analysed! /media/nkd/data18931/ndwi_int8_13001_18931/ndwi_int8_17823.tif\n",
      "/media/nkd/data18931/ndwi_int8_13001_18931/ndwi_int8_17824.tif\n",
      "the size of current NDWI_img 11355 11355\n"
     ]
    },
    {
     "name": "stderr",
     "output_type": "stream",
     "text": [
      "900it [01:07, 13.28it/s]\n"
     ]
    },
    {
     "name": "stdout",
     "output_type": "stream",
     "text": [
      "Converting prediction from <class 'numpy.float32'> to uint8, using threshold of 0.5\n",
      "File already analysed! /media/nkd/data18931/ndwi_int8_13001_18931/ndwi_int8_17824.tif\n",
      "/media/nkd/data18931/ndwi_int8_13001_18931/ndwi_int8_17825.tif\n",
      "the size of current NDWI_img 11355 11355\n"
     ]
    },
    {
     "name": "stderr",
     "output_type": "stream",
     "text": [
      "900it [01:09, 12.97it/s]\n"
     ]
    },
    {
     "name": "stdout",
     "output_type": "stream",
     "text": [
      "Converting prediction from <class 'numpy.float32'> to uint8, using threshold of 0.5\n",
      "File already analysed! /media/nkd/data18931/ndwi_int8_13001_18931/ndwi_int8_17825.tif\n",
      "/media/nkd/data18931/ndwi_int8_13001_18931/ndwi_int8_17826.tif\n",
      "the size of current NDWI_img 11356 11355\n"
     ]
    },
    {
     "name": "stderr",
     "output_type": "stream",
     "text": [
      "900it [01:10, 12.79it/s]\n"
     ]
    },
    {
     "name": "stdout",
     "output_type": "stream",
     "text": [
      "Converting prediction from <class 'numpy.float32'> to uint8, using threshold of 0.5\n",
      "File already analysed! /media/nkd/data18931/ndwi_int8_13001_18931/ndwi_int8_17826.tif\n",
      "/media/nkd/data18931/ndwi_int8_13001_18931/ndwi_int8_17827.tif\n",
      "the size of current NDWI_img 11356 11355\n"
     ]
    },
    {
     "name": "stderr",
     "output_type": "stream",
     "text": [
      "900it [01:09, 12.98it/s]\n"
     ]
    },
    {
     "name": "stdout",
     "output_type": "stream",
     "text": [
      "Converting prediction from <class 'numpy.float32'> to uint8, using threshold of 0.5\n",
      "File already analysed! /media/nkd/data18931/ndwi_int8_13001_18931/ndwi_int8_17827.tif\n",
      "/media/nkd/data18931/ndwi_int8_13001_18931/ndwi_int8_17828.tif\n",
      "the size of current NDWI_img 11356 11355\n"
     ]
    },
    {
     "name": "stderr",
     "output_type": "stream",
     "text": [
      "900it [01:06, 13.52it/s]\n"
     ]
    },
    {
     "name": "stdout",
     "output_type": "stream",
     "text": [
      "Converting prediction from <class 'numpy.float32'> to uint8, using threshold of 0.5\n",
      "File already analysed! /media/nkd/data18931/ndwi_int8_13001_18931/ndwi_int8_17828.tif\n",
      "/media/nkd/data18931/ndwi_int8_13001_18931/ndwi_int8_17829.tif\n",
      "the size of current NDWI_img 11356 11355\n"
     ]
    },
    {
     "name": "stderr",
     "output_type": "stream",
     "text": [
      "900it [00:59, 15.15it/s]\n"
     ]
    },
    {
     "name": "stdout",
     "output_type": "stream",
     "text": [
      "Converting prediction from <class 'numpy.float32'> to uint8, using threshold of 0.5\n",
      "File already analysed! /media/nkd/data18931/ndwi_int8_13001_18931/ndwi_int8_17829.tif\n",
      "/media/nkd/data18931/ndwi_int8_13001_18931/ndwi_int8_17830.tif\n",
      "the size of current NDWI_img 11356 11355\n"
     ]
    },
    {
     "name": "stderr",
     "output_type": "stream",
     "text": [
      "900it [01:04, 13.86it/s]\n"
     ]
    },
    {
     "name": "stdout",
     "output_type": "stream",
     "text": [
      "Converting prediction from <class 'numpy.float32'> to uint8, using threshold of 0.5\n",
      "File already analysed! /media/nkd/data18931/ndwi_int8_13001_18931/ndwi_int8_17830.tif\n",
      "/media/nkd/data18931/ndwi_int8_13001_18931/ndwi_int8_17831.tif\n",
      "the size of current NDWI_img 11355 11355\n"
     ]
    },
    {
     "name": "stderr",
     "output_type": "stream",
     "text": [
      "900it [01:11, 12.51it/s]\n"
     ]
    },
    {
     "name": "stdout",
     "output_type": "stream",
     "text": [
      "Converting prediction from <class 'numpy.float32'> to uint8, using threshold of 0.5\n",
      "File already analysed! /media/nkd/data18931/ndwi_int8_13001_18931/ndwi_int8_17831.tif\n",
      "/media/nkd/data18931/ndwi_int8_13001_18931/ndwi_int8_17832.tif\n",
      "the size of current NDWI_img 11355 11355\n"
     ]
    },
    {
     "name": "stderr",
     "output_type": "stream",
     "text": [
      "900it [01:11, 12.64it/s]\n"
     ]
    },
    {
     "name": "stdout",
     "output_type": "stream",
     "text": [
      "Converting prediction from <class 'numpy.float32'> to uint8, using threshold of 0.5\n",
      "File already analysed! /media/nkd/data18931/ndwi_int8_13001_18931/ndwi_int8_17832.tif\n",
      "/media/nkd/data18931/ndwi_int8_13001_18931/ndwi_int8_17833.tif\n",
      "the size of current NDWI_img 11355 11355\n"
     ]
    },
    {
     "name": "stderr",
     "output_type": "stream",
     "text": [
      "900it [01:08, 13.20it/s]\n"
     ]
    },
    {
     "name": "stdout",
     "output_type": "stream",
     "text": [
      "Converting prediction from <class 'numpy.float32'> to uint8, using threshold of 0.5\n",
      "File already analysed! /media/nkd/data18931/ndwi_int8_13001_18931/ndwi_int8_17833.tif\n",
      "/media/nkd/data18931/ndwi_int8_13001_18931/ndwi_int8_17834.tif\n",
      "the size of current NDWI_img 11355 11355\n"
     ]
    },
    {
     "name": "stderr",
     "output_type": "stream",
     "text": [
      "900it [01:08, 13.22it/s]\n"
     ]
    },
    {
     "name": "stdout",
     "output_type": "stream",
     "text": [
      "Converting prediction from <class 'numpy.float32'> to uint8, using threshold of 0.5\n",
      "File already analysed! /media/nkd/data18931/ndwi_int8_13001_18931/ndwi_int8_17834.tif\n",
      "/media/nkd/data18931/ndwi_int8_13001_18931/ndwi_int8_17835.tif\n",
      "the size of current NDWI_img 11355 11355\n"
     ]
    },
    {
     "name": "stderr",
     "output_type": "stream",
     "text": [
      "900it [01:08, 13.14it/s]\n"
     ]
    },
    {
     "name": "stdout",
     "output_type": "stream",
     "text": [
      "Converting prediction from <class 'numpy.float32'> to uint8, using threshold of 0.5\n",
      "File already analysed! /media/nkd/data18931/ndwi_int8_13001_18931/ndwi_int8_17835.tif\n",
      "/media/nkd/data18931/ndwi_int8_13001_18931/ndwi_int8_17836.tif\n",
      "the size of current NDWI_img 11356 11355\n"
     ]
    },
    {
     "name": "stderr",
     "output_type": "stream",
     "text": [
      "900it [01:12, 12.34it/s]\n"
     ]
    },
    {
     "name": "stdout",
     "output_type": "stream",
     "text": [
      "Converting prediction from <class 'numpy.float32'> to uint8, using threshold of 0.5\n",
      "File already analysed! /media/nkd/data18931/ndwi_int8_13001_18931/ndwi_int8_17836.tif\n",
      "/media/nkd/data18931/ndwi_int8_13001_18931/ndwi_int8_17837.tif\n",
      "the size of current NDWI_img 11356 11355\n"
     ]
    },
    {
     "name": "stderr",
     "output_type": "stream",
     "text": [
      "900it [01:12, 12.33it/s]\n"
     ]
    },
    {
     "name": "stdout",
     "output_type": "stream",
     "text": [
      "Converting prediction from <class 'numpy.float32'> to uint8, using threshold of 0.5\n",
      "File already analysed! /media/nkd/data18931/ndwi_int8_13001_18931/ndwi_int8_17837.tif\n",
      "/media/nkd/data18931/ndwi_int8_13001_18931/ndwi_int8_17838.tif\n",
      "the size of current NDWI_img 11356 11355\n"
     ]
    },
    {
     "name": "stderr",
     "output_type": "stream",
     "text": [
      "900it [01:09, 12.89it/s]\n"
     ]
    },
    {
     "name": "stdout",
     "output_type": "stream",
     "text": [
      "Converting prediction from <class 'numpy.float32'> to uint8, using threshold of 0.5\n",
      "File already analysed! /media/nkd/data18931/ndwi_int8_13001_18931/ndwi_int8_17838.tif\n",
      "/media/nkd/data18931/ndwi_int8_13001_18931/ndwi_int8_17839.tif\n",
      "the size of current NDWI_img 11356 11355\n"
     ]
    },
    {
     "name": "stderr",
     "output_type": "stream",
     "text": [
      "900it [00:57, 15.53it/s]\n"
     ]
    },
    {
     "name": "stdout",
     "output_type": "stream",
     "text": [
      "Converting prediction from <class 'numpy.float32'> to uint8, using threshold of 0.5\n",
      "File already analysed! /media/nkd/data18931/ndwi_int8_13001_18931/ndwi_int8_17839.tif\n",
      "/media/nkd/data18931/ndwi_int8_13001_18931/ndwi_int8_17840.tif\n",
      "the size of current NDWI_img 11356 11355\n"
     ]
    },
    {
     "name": "stderr",
     "output_type": "stream",
     "text": [
      "900it [01:03, 14.25it/s]\n"
     ]
    },
    {
     "name": "stdout",
     "output_type": "stream",
     "text": [
      "Converting prediction from <class 'numpy.float32'> to uint8, using threshold of 0.5\n",
      "File already analysed! /media/nkd/data18931/ndwi_int8_13001_18931/ndwi_int8_17840.tif\n",
      "/media/nkd/data18931/ndwi_int8_13001_18931/ndwi_int8_17841.tif\n",
      "the size of current NDWI_img 11355 11356\n"
     ]
    },
    {
     "name": "stderr",
     "output_type": "stream",
     "text": [
      "900it [01:08, 13.13it/s]\n"
     ]
    },
    {
     "name": "stdout",
     "output_type": "stream",
     "text": [
      "Converting prediction from <class 'numpy.float32'> to uint8, using threshold of 0.5\n",
      "File already analysed! /media/nkd/data18931/ndwi_int8_13001_18931/ndwi_int8_17841.tif\n",
      "/media/nkd/data18931/ndwi_int8_13001_18931/ndwi_int8_17842.tif\n",
      "the size of current NDWI_img 11355 11356\n"
     ]
    },
    {
     "name": "stderr",
     "output_type": "stream",
     "text": [
      "900it [01:06, 13.47it/s]\n"
     ]
    },
    {
     "name": "stdout",
     "output_type": "stream",
     "text": [
      "Converting prediction from <class 'numpy.float32'> to uint8, using threshold of 0.5\n",
      "File already analysed! /media/nkd/data18931/ndwi_int8_13001_18931/ndwi_int8_17842.tif\n",
      "/media/nkd/data18931/ndwi_int8_13001_18931/ndwi_int8_17843.tif\n",
      "the size of current NDWI_img 11355 11356\n"
     ]
    },
    {
     "name": "stderr",
     "output_type": "stream",
     "text": [
      "900it [01:08, 13.16it/s]\n"
     ]
    },
    {
     "name": "stdout",
     "output_type": "stream",
     "text": [
      "Converting prediction from <class 'numpy.float32'> to uint8, using threshold of 0.5\n",
      "File already analysed! /media/nkd/data18931/ndwi_int8_13001_18931/ndwi_int8_17843.tif\n",
      "/media/nkd/data18931/ndwi_int8_13001_18931/ndwi_int8_17844.tif\n",
      "the size of current NDWI_img 11355 11356\n"
     ]
    },
    {
     "name": "stderr",
     "output_type": "stream",
     "text": [
      "900it [01:10, 12.79it/s]\n"
     ]
    },
    {
     "name": "stdout",
     "output_type": "stream",
     "text": [
      "Converting prediction from <class 'numpy.float32'> to uint8, using threshold of 0.5\n",
      "File already analysed! /media/nkd/data18931/ndwi_int8_13001_18931/ndwi_int8_17844.tif\n",
      "/media/nkd/data18931/ndwi_int8_13001_18931/ndwi_int8_17845.tif\n",
      "the size of current NDWI_img 11355 11356\n"
     ]
    },
    {
     "name": "stderr",
     "output_type": "stream",
     "text": [
      "900it [01:10, 12.70it/s]\n"
     ]
    },
    {
     "name": "stdout",
     "output_type": "stream",
     "text": [
      "Converting prediction from <class 'numpy.float32'> to uint8, using threshold of 0.5\n",
      "File already analysed! /media/nkd/data18931/ndwi_int8_13001_18931/ndwi_int8_17845.tif\n",
      "/media/nkd/data18931/ndwi_int8_13001_18931/ndwi_int8_17846.tif\n",
      "the size of current NDWI_img 11356 11356\n"
     ]
    },
    {
     "name": "stderr",
     "output_type": "stream",
     "text": [
      "900it [01:12, 12.34it/s]\n"
     ]
    },
    {
     "name": "stdout",
     "output_type": "stream",
     "text": [
      "Converting prediction from <class 'numpy.float32'> to uint8, using threshold of 0.5\n",
      "File already analysed! /media/nkd/data18931/ndwi_int8_13001_18931/ndwi_int8_17846.tif\n",
      "/media/nkd/data18931/ndwi_int8_13001_18931/ndwi_int8_17847.tif\n",
      "the size of current NDWI_img 11356 11356\n"
     ]
    },
    {
     "name": "stderr",
     "output_type": "stream",
     "text": [
      "900it [01:12, 12.44it/s]\n"
     ]
    },
    {
     "name": "stdout",
     "output_type": "stream",
     "text": [
      "Converting prediction from <class 'numpy.float32'> to uint8, using threshold of 0.5\n",
      "File already analysed! /media/nkd/data18931/ndwi_int8_13001_18931/ndwi_int8_17847.tif\n",
      "/media/nkd/data18931/ndwi_int8_13001_18931/ndwi_int8_17848.tif\n",
      "the size of current NDWI_img 11356 11356\n"
     ]
    },
    {
     "name": "stderr",
     "output_type": "stream",
     "text": [
      "900it [01:11, 12.66it/s]\n"
     ]
    },
    {
     "name": "stdout",
     "output_type": "stream",
     "text": [
      "Converting prediction from <class 'numpy.float32'> to uint8, using threshold of 0.5\n",
      "File already analysed! /media/nkd/data18931/ndwi_int8_13001_18931/ndwi_int8_17848.tif\n",
      "/media/nkd/data18931/ndwi_int8_13001_18931/ndwi_int8_17849.tif\n",
      "the size of current NDWI_img 11356 11356\n"
     ]
    },
    {
     "name": "stderr",
     "output_type": "stream",
     "text": [
      "900it [01:03, 14.22it/s]\n"
     ]
    },
    {
     "name": "stdout",
     "output_type": "stream",
     "text": [
      "Converting prediction from <class 'numpy.float32'> to uint8, using threshold of 0.5\n",
      "File already analysed! /media/nkd/data18931/ndwi_int8_13001_18931/ndwi_int8_17849.tif\n",
      "/media/nkd/data18931/ndwi_int8_13001_18931/ndwi_int8_17850.tif\n",
      "the size of current NDWI_img 11356 11356\n"
     ]
    },
    {
     "name": "stderr",
     "output_type": "stream",
     "text": [
      "900it [01:05, 13.72it/s]\n"
     ]
    },
    {
     "name": "stdout",
     "output_type": "stream",
     "text": [
      "Converting prediction from <class 'numpy.float32'> to uint8, using threshold of 0.5\n",
      "File already analysed! /media/nkd/data18931/ndwi_int8_13001_18931/ndwi_int8_17850.tif\n",
      "/media/nkd/data18931/ndwi_int8_13001_18931/ndwi_int8_17851.tif\n",
      "the size of current NDWI_img 11355 11356\n"
     ]
    },
    {
     "name": "stderr",
     "output_type": "stream",
     "text": [
      "900it [01:07, 13.41it/s]\n"
     ]
    },
    {
     "name": "stdout",
     "output_type": "stream",
     "text": [
      "Converting prediction from <class 'numpy.float32'> to uint8, using threshold of 0.5\n",
      "File already analysed! /media/nkd/data18931/ndwi_int8_13001_18931/ndwi_int8_17851.tif\n",
      "/media/nkd/data18931/ndwi_int8_13001_18931/ndwi_int8_17852.tif\n",
      "the size of current NDWI_img 11355 11356\n"
     ]
    },
    {
     "name": "stderr",
     "output_type": "stream",
     "text": [
      "900it [01:03, 14.17it/s]\n"
     ]
    },
    {
     "name": "stdout",
     "output_type": "stream",
     "text": [
      "Converting prediction from <class 'numpy.float32'> to uint8, using threshold of 0.5\n",
      "File already analysed! /media/nkd/data18931/ndwi_int8_13001_18931/ndwi_int8_17852.tif\n",
      "/media/nkd/data18931/ndwi_int8_13001_18931/ndwi_int8_17853.tif\n",
      "the size of current NDWI_img 11355 11356\n"
     ]
    },
    {
     "name": "stderr",
     "output_type": "stream",
     "text": [
      "900it [01:09, 12.93it/s]\n"
     ]
    },
    {
     "name": "stdout",
     "output_type": "stream",
     "text": [
      "Converting prediction from <class 'numpy.float32'> to uint8, using threshold of 0.5\n",
      "File already analysed! /media/nkd/data18931/ndwi_int8_13001_18931/ndwi_int8_17853.tif\n",
      "/media/nkd/data18931/ndwi_int8_13001_18931/ndwi_int8_17854.tif\n",
      "the size of current NDWI_img 11355 11356\n"
     ]
    },
    {
     "name": "stderr",
     "output_type": "stream",
     "text": [
      "900it [01:10, 12.84it/s]\n"
     ]
    },
    {
     "name": "stdout",
     "output_type": "stream",
     "text": [
      "Converting prediction from <class 'numpy.float32'> to uint8, using threshold of 0.5\n",
      "File already analysed! /media/nkd/data18931/ndwi_int8_13001_18931/ndwi_int8_17854.tif\n",
      "/media/nkd/data18931/ndwi_int8_13001_18931/ndwi_int8_17855.tif\n",
      "the size of current NDWI_img 11355 11356\n"
     ]
    },
    {
     "name": "stderr",
     "output_type": "stream",
     "text": [
      "900it [01:11, 12.67it/s]\n"
     ]
    },
    {
     "name": "stdout",
     "output_type": "stream",
     "text": [
      "Converting prediction from <class 'numpy.float32'> to uint8, using threshold of 0.5\n",
      "File already analysed! /media/nkd/data18931/ndwi_int8_13001_18931/ndwi_int8_17855.tif\n",
      "/media/nkd/data18931/ndwi_int8_13001_18931/ndwi_int8_17856.tif\n",
      "the size of current NDWI_img 11356 11356\n"
     ]
    },
    {
     "name": "stderr",
     "output_type": "stream",
     "text": [
      "900it [01:12, 12.34it/s]\n"
     ]
    },
    {
     "name": "stdout",
     "output_type": "stream",
     "text": [
      "Converting prediction from <class 'numpy.float32'> to uint8, using threshold of 0.5\n",
      "File already analysed! /media/nkd/data18931/ndwi_int8_13001_18931/ndwi_int8_17856.tif\n",
      "/media/nkd/data18931/ndwi_int8_13001_18931/ndwi_int8_17857.tif\n",
      "the size of current NDWI_img 11356 11356\n"
     ]
    },
    {
     "name": "stderr",
     "output_type": "stream",
     "text": [
      "900it [01:10, 12.84it/s]\n"
     ]
    },
    {
     "name": "stdout",
     "output_type": "stream",
     "text": [
      "Converting prediction from <class 'numpy.float32'> to uint8, using threshold of 0.5\n",
      "File already analysed! /media/nkd/data18931/ndwi_int8_13001_18931/ndwi_int8_17857.tif\n",
      "/media/nkd/data18931/ndwi_int8_13001_18931/ndwi_int8_17858.tif\n",
      "the size of current NDWI_img 11356 11356\n"
     ]
    },
    {
     "name": "stderr",
     "output_type": "stream",
     "text": [
      "900it [01:06, 13.48it/s]\n"
     ]
    },
    {
     "name": "stdout",
     "output_type": "stream",
     "text": [
      "Converting prediction from <class 'numpy.float32'> to uint8, using threshold of 0.5\n",
      "File already analysed! /media/nkd/data18931/ndwi_int8_13001_18931/ndwi_int8_17858.tif\n",
      "/media/nkd/data18931/ndwi_int8_13001_18931/ndwi_int8_17859.tif\n",
      "the size of current NDWI_img 11356 11356\n"
     ]
    },
    {
     "name": "stderr",
     "output_type": "stream",
     "text": [
      "900it [01:11, 12.64it/s]\n"
     ]
    },
    {
     "name": "stdout",
     "output_type": "stream",
     "text": [
      "Converting prediction from <class 'numpy.float32'> to uint8, using threshold of 0.5\n",
      "File already analysed! /media/nkd/data18931/ndwi_int8_13001_18931/ndwi_int8_17859.tif\n",
      "/media/nkd/data18931/ndwi_int8_13001_18931/ndwi_int8_17860.tif\n",
      "the size of current NDWI_img 11356 11356\n"
     ]
    },
    {
     "name": "stderr",
     "output_type": "stream",
     "text": [
      "900it [01:04, 13.90it/s]\n"
     ]
    },
    {
     "name": "stdout",
     "output_type": "stream",
     "text": [
      "Converting prediction from <class 'numpy.float32'> to uint8, using threshold of 0.5\n",
      "File already analysed! /media/nkd/data18931/ndwi_int8_13001_18931/ndwi_int8_17860.tif\n",
      "/media/nkd/data18931/ndwi_int8_13001_18931/ndwi_int8_17861.tif\n",
      "the size of current NDWI_img 11355 11356\n"
     ]
    },
    {
     "name": "stderr",
     "output_type": "stream",
     "text": [
      "900it [01:09, 12.91it/s]\n"
     ]
    },
    {
     "name": "stdout",
     "output_type": "stream",
     "text": [
      "Converting prediction from <class 'numpy.float32'> to uint8, using threshold of 0.5\n",
      "File already analysed! /media/nkd/data18931/ndwi_int8_13001_18931/ndwi_int8_17861.tif\n",
      "/media/nkd/data18931/ndwi_int8_13001_18931/ndwi_int8_17862.tif\n",
      "the size of current NDWI_img 11355 11356\n"
     ]
    },
    {
     "name": "stderr",
     "output_type": "stream",
     "text": [
      "900it [01:14, 12.01it/s]\n"
     ]
    },
    {
     "name": "stdout",
     "output_type": "stream",
     "text": [
      "Converting prediction from <class 'numpy.float32'> to uint8, using threshold of 0.5\n",
      "File already analysed! /media/nkd/data18931/ndwi_int8_13001_18931/ndwi_int8_17862.tif\n",
      "/media/nkd/data18931/ndwi_int8_13001_18931/ndwi_int8_17863.tif\n",
      "the size of current NDWI_img 11355 11356\n"
     ]
    },
    {
     "name": "stderr",
     "output_type": "stream",
     "text": [
      "900it [01:15, 11.87it/s]\n"
     ]
    },
    {
     "name": "stdout",
     "output_type": "stream",
     "text": [
      "Converting prediction from <class 'numpy.float32'> to uint8, using threshold of 0.5\n",
      "File already analysed! /media/nkd/data18931/ndwi_int8_13001_18931/ndwi_int8_17863.tif\n",
      "/media/nkd/data18931/ndwi_int8_13001_18931/ndwi_int8_17864.tif\n",
      "the size of current NDWI_img 11355 11356\n"
     ]
    },
    {
     "name": "stderr",
     "output_type": "stream",
     "text": [
      "900it [01:11, 12.57it/s]\n"
     ]
    },
    {
     "name": "stdout",
     "output_type": "stream",
     "text": [
      "Converting prediction from <class 'numpy.float32'> to uint8, using threshold of 0.5\n",
      "File already analysed! /media/nkd/data18931/ndwi_int8_13001_18931/ndwi_int8_17864.tif\n",
      "/media/nkd/data18931/ndwi_int8_13001_18931/ndwi_int8_17865.tif\n",
      "the size of current NDWI_img 11355 11356\n"
     ]
    },
    {
     "name": "stderr",
     "output_type": "stream",
     "text": [
      "900it [01:11, 12.63it/s]\n"
     ]
    },
    {
     "name": "stdout",
     "output_type": "stream",
     "text": [
      "Converting prediction from <class 'numpy.float32'> to uint8, using threshold of 0.5\n",
      "File already analysed! /media/nkd/data18931/ndwi_int8_13001_18931/ndwi_int8_17865.tif\n",
      "/media/nkd/data18931/ndwi_int8_13001_18931/ndwi_int8_17866.tif\n",
      "the size of current NDWI_img 11356 11356\n"
     ]
    },
    {
     "name": "stderr",
     "output_type": "stream",
     "text": [
      "900it [01:11, 12.60it/s]\n"
     ]
    },
    {
     "name": "stdout",
     "output_type": "stream",
     "text": [
      "Converting prediction from <class 'numpy.float32'> to uint8, using threshold of 0.5\n",
      "File already analysed! /media/nkd/data18931/ndwi_int8_13001_18931/ndwi_int8_17866.tif\n",
      "/media/nkd/data18931/ndwi_int8_13001_18931/ndwi_int8_17867.tif\n",
      "the size of current NDWI_img 11356 11356\n"
     ]
    },
    {
     "name": "stderr",
     "output_type": "stream",
     "text": [
      "900it [01:15, 11.84it/s]\n"
     ]
    },
    {
     "name": "stdout",
     "output_type": "stream",
     "text": [
      "Converting prediction from <class 'numpy.float32'> to uint8, using threshold of 0.5\n",
      "File already analysed! /media/nkd/data18931/ndwi_int8_13001_18931/ndwi_int8_17867.tif\n",
      "/media/nkd/data18931/ndwi_int8_13001_18931/ndwi_int8_17868.tif\n",
      "the size of current NDWI_img 11356 11356\n"
     ]
    },
    {
     "name": "stderr",
     "output_type": "stream",
     "text": [
      "900it [01:12, 12.50it/s]\n"
     ]
    },
    {
     "name": "stdout",
     "output_type": "stream",
     "text": [
      "Converting prediction from <class 'numpy.float32'> to uint8, using threshold of 0.5\n",
      "File already analysed! /media/nkd/data18931/ndwi_int8_13001_18931/ndwi_int8_17868.tif\n",
      "/media/nkd/data18931/ndwi_int8_13001_18931/ndwi_int8_17869.tif\n",
      "the size of current NDWI_img 11356 11356\n"
     ]
    },
    {
     "name": "stderr",
     "output_type": "stream",
     "text": [
      "900it [01:08, 13.18it/s]\n"
     ]
    },
    {
     "name": "stdout",
     "output_type": "stream",
     "text": [
      "Converting prediction from <class 'numpy.float32'> to uint8, using threshold of 0.5\n",
      "File already analysed! /media/nkd/data18931/ndwi_int8_13001_18931/ndwi_int8_17869.tif\n",
      "/media/nkd/data18931/ndwi_int8_13001_18931/ndwi_int8_17870.tif\n",
      "the size of current NDWI_img 11356 11356\n"
     ]
    },
    {
     "name": "stderr",
     "output_type": "stream",
     "text": [
      "900it [01:11, 12.58it/s]\n"
     ]
    },
    {
     "name": "stdout",
     "output_type": "stream",
     "text": [
      "Converting prediction from <class 'numpy.float32'> to uint8, using threshold of 0.5\n",
      "File already analysed! /media/nkd/data18931/ndwi_int8_13001_18931/ndwi_int8_17870.tif\n",
      "/media/nkd/data18931/ndwi_int8_13001_18931/ndwi_int8_17871.tif\n",
      "the size of current NDWI_img 11355 11356\n"
     ]
    },
    {
     "name": "stderr",
     "output_type": "stream",
     "text": [
      "900it [01:14, 12.15it/s]\n"
     ]
    },
    {
     "name": "stdout",
     "output_type": "stream",
     "text": [
      "Converting prediction from <class 'numpy.float32'> to uint8, using threshold of 0.5\n",
      "File already analysed! /media/nkd/data18931/ndwi_int8_13001_18931/ndwi_int8_17871.tif\n",
      "/media/nkd/data18931/ndwi_int8_13001_18931/ndwi_int8_17872.tif\n",
      "the size of current NDWI_img 11355 11356\n"
     ]
    },
    {
     "name": "stderr",
     "output_type": "stream",
     "text": [
      "900it [01:13, 12.28it/s]\n"
     ]
    },
    {
     "name": "stdout",
     "output_type": "stream",
     "text": [
      "Converting prediction from <class 'numpy.float32'> to uint8, using threshold of 0.5\n",
      "File already analysed! /media/nkd/data18931/ndwi_int8_13001_18931/ndwi_int8_17872.tif\n",
      "/media/nkd/data18931/ndwi_int8_13001_18931/ndwi_int8_17873.tif\n",
      "the size of current NDWI_img 11355 11356\n"
     ]
    },
    {
     "name": "stderr",
     "output_type": "stream",
     "text": [
      "900it [01:16, 11.78it/s]\n"
     ]
    },
    {
     "name": "stdout",
     "output_type": "stream",
     "text": [
      "Converting prediction from <class 'numpy.float32'> to uint8, using threshold of 0.5\n",
      "File already analysed! /media/nkd/data18931/ndwi_int8_13001_18931/ndwi_int8_17873.tif\n",
      "/media/nkd/data18931/ndwi_int8_13001_18931/ndwi_int8_17874.tif\n",
      "the size of current NDWI_img 11355 11356\n"
     ]
    },
    {
     "name": "stderr",
     "output_type": "stream",
     "text": [
      "900it [01:12, 12.36it/s]\n"
     ]
    },
    {
     "name": "stdout",
     "output_type": "stream",
     "text": [
      "Converting prediction from <class 'numpy.float32'> to uint8, using threshold of 0.5\n",
      "File already analysed! /media/nkd/data18931/ndwi_int8_13001_18931/ndwi_int8_17874.tif\n",
      "/media/nkd/data18931/ndwi_int8_13001_18931/ndwi_int8_17875.tif\n",
      "the size of current NDWI_img 11355 11356\n"
     ]
    },
    {
     "name": "stderr",
     "output_type": "stream",
     "text": [
      "900it [01:07, 13.26it/s]\n"
     ]
    },
    {
     "name": "stdout",
     "output_type": "stream",
     "text": [
      "Converting prediction from <class 'numpy.float32'> to uint8, using threshold of 0.5\n",
      "File already analysed! /media/nkd/data18931/ndwi_int8_13001_18931/ndwi_int8_17875.tif\n",
      "/media/nkd/data18931/ndwi_int8_13001_18931/ndwi_int8_17876.tif\n",
      "the size of current NDWI_img 11356 11356\n"
     ]
    },
    {
     "name": "stderr",
     "output_type": "stream",
     "text": [
      "900it [01:08, 13.14it/s]\n"
     ]
    },
    {
     "name": "stdout",
     "output_type": "stream",
     "text": [
      "Converting prediction from <class 'numpy.float32'> to uint8, using threshold of 0.5\n",
      "File already analysed! /media/nkd/data18931/ndwi_int8_13001_18931/ndwi_int8_17876.tif\n",
      "/media/nkd/data18931/ndwi_int8_13001_18931/ndwi_int8_17877.tif\n",
      "the size of current NDWI_img 11356 11356\n"
     ]
    },
    {
     "name": "stderr",
     "output_type": "stream",
     "text": [
      "900it [01:10, 12.70it/s]\n"
     ]
    },
    {
     "name": "stdout",
     "output_type": "stream",
     "text": [
      "Converting prediction from <class 'numpy.float32'> to uint8, using threshold of 0.5\n",
      "File already analysed! /media/nkd/data18931/ndwi_int8_13001_18931/ndwi_int8_17877.tif\n",
      "/media/nkd/data18931/ndwi_int8_13001_18931/ndwi_int8_17878.tif\n",
      "the size of current NDWI_img 11356 11356\n"
     ]
    },
    {
     "name": "stderr",
     "output_type": "stream",
     "text": [
      "900it [01:12, 12.49it/s]\n"
     ]
    },
    {
     "name": "stdout",
     "output_type": "stream",
     "text": [
      "Converting prediction from <class 'numpy.float32'> to uint8, using threshold of 0.5\n",
      "File already analysed! /media/nkd/data18931/ndwi_int8_13001_18931/ndwi_int8_17878.tif\n",
      "/media/nkd/data18931/ndwi_int8_13001_18931/ndwi_int8_17879.tif\n",
      "the size of current NDWI_img 11356 11356\n"
     ]
    },
    {
     "name": "stderr",
     "output_type": "stream",
     "text": [
      "900it [01:12, 12.40it/s]\n"
     ]
    },
    {
     "name": "stdout",
     "output_type": "stream",
     "text": [
      "Converting prediction from <class 'numpy.float32'> to uint8, using threshold of 0.5\n",
      "File already analysed! /media/nkd/data18931/ndwi_int8_13001_18931/ndwi_int8_17879.tif\n",
      "/media/nkd/data18931/ndwi_int8_13001_18931/ndwi_int8_17880.tif\n",
      "the size of current NDWI_img 11356 11356\n"
     ]
    },
    {
     "name": "stderr",
     "output_type": "stream",
     "text": [
      "900it [01:06, 13.51it/s]\n"
     ]
    },
    {
     "name": "stdout",
     "output_type": "stream",
     "text": [
      "Converting prediction from <class 'numpy.float32'> to uint8, using threshold of 0.5\n",
      "File already analysed! /media/nkd/data18931/ndwi_int8_13001_18931/ndwi_int8_17880.tif\n",
      "/media/nkd/data18931/ndwi_int8_13001_18931/ndwi_int8_17881.tif\n",
      "the size of current NDWI_img 11355 11356\n"
     ]
    },
    {
     "name": "stderr",
     "output_type": "stream",
     "text": [
      "900it [01:15, 11.98it/s]\n"
     ]
    },
    {
     "name": "stdout",
     "output_type": "stream",
     "text": [
      "Converting prediction from <class 'numpy.float32'> to uint8, using threshold of 0.5\n",
      "File already analysed! /media/nkd/data18931/ndwi_int8_13001_18931/ndwi_int8_17881.tif\n",
      "/media/nkd/data18931/ndwi_int8_13001_18931/ndwi_int8_17882.tif\n",
      "the size of current NDWI_img 11355 11356\n"
     ]
    },
    {
     "name": "stderr",
     "output_type": "stream",
     "text": [
      "900it [01:12, 12.38it/s]\n"
     ]
    },
    {
     "name": "stdout",
     "output_type": "stream",
     "text": [
      "Converting prediction from <class 'numpy.float32'> to uint8, using threshold of 0.5\n",
      "File already analysed! /media/nkd/data18931/ndwi_int8_13001_18931/ndwi_int8_17882.tif\n",
      "/media/nkd/data18931/ndwi_int8_13001_18931/ndwi_int8_17883.tif\n",
      "the size of current NDWI_img 11355 11356\n"
     ]
    },
    {
     "name": "stderr",
     "output_type": "stream",
     "text": [
      "900it [01:15, 11.94it/s]\n"
     ]
    },
    {
     "name": "stdout",
     "output_type": "stream",
     "text": [
      "Converting prediction from <class 'numpy.float32'> to uint8, using threshold of 0.5\n",
      "File already analysed! /media/nkd/data18931/ndwi_int8_13001_18931/ndwi_int8_17883.tif\n",
      "/media/nkd/data18931/ndwi_int8_13001_18931/ndwi_int8_17884.tif\n",
      "the size of current NDWI_img 11355 11356\n"
     ]
    },
    {
     "name": "stderr",
     "output_type": "stream",
     "text": [
      "900it [01:09, 12.94it/s]\n"
     ]
    },
    {
     "name": "stdout",
     "output_type": "stream",
     "text": [
      "Converting prediction from <class 'numpy.float32'> to uint8, using threshold of 0.5\n",
      "File already analysed! /media/nkd/data18931/ndwi_int8_13001_18931/ndwi_int8_17884.tif\n",
      "/media/nkd/data18931/ndwi_int8_13001_18931/ndwi_int8_17885.tif\n",
      "the size of current NDWI_img 11355 11356\n"
     ]
    },
    {
     "name": "stderr",
     "output_type": "stream",
     "text": [
      "900it [01:06, 13.45it/s]\n"
     ]
    },
    {
     "name": "stdout",
     "output_type": "stream",
     "text": [
      "Converting prediction from <class 'numpy.float32'> to uint8, using threshold of 0.5\n",
      "File already analysed! /media/nkd/data18931/ndwi_int8_13001_18931/ndwi_int8_17885.tif\n",
      "/media/nkd/data18931/ndwi_int8_13001_18931/ndwi_int8_17886.tif\n",
      "the size of current NDWI_img 11356 11356\n"
     ]
    },
    {
     "name": "stderr",
     "output_type": "stream",
     "text": [
      "900it [01:06, 13.47it/s]\n"
     ]
    },
    {
     "name": "stdout",
     "output_type": "stream",
     "text": [
      "Converting prediction from <class 'numpy.float32'> to uint8, using threshold of 0.5\n",
      "File already analysed! /media/nkd/data18931/ndwi_int8_13001_18931/ndwi_int8_17886.tif\n",
      "/media/nkd/data18931/ndwi_int8_13001_18931/ndwi_int8_17887.tif\n",
      "the size of current NDWI_img 11356 11356\n"
     ]
    },
    {
     "name": "stderr",
     "output_type": "stream",
     "text": [
      "900it [01:07, 13.36it/s]\n"
     ]
    },
    {
     "name": "stdout",
     "output_type": "stream",
     "text": [
      "Converting prediction from <class 'numpy.float32'> to uint8, using threshold of 0.5\n",
      "File already analysed! /media/nkd/data18931/ndwi_int8_13001_18931/ndwi_int8_17887.tif\n",
      "/media/nkd/data18931/ndwi_int8_13001_18931/ndwi_int8_17888.tif\n",
      "the size of current NDWI_img 11356 11356\n"
     ]
    },
    {
     "name": "stderr",
     "output_type": "stream",
     "text": [
      "900it [01:10, 12.76it/s]\n"
     ]
    },
    {
     "name": "stdout",
     "output_type": "stream",
     "text": [
      "Converting prediction from <class 'numpy.float32'> to uint8, using threshold of 0.5\n",
      "File already analysed! /media/nkd/data18931/ndwi_int8_13001_18931/ndwi_int8_17888.tif\n",
      "/media/nkd/data18931/ndwi_int8_13001_18931/ndwi_int8_17889.tif\n",
      "the size of current NDWI_img 11356 11356\n"
     ]
    },
    {
     "name": "stderr",
     "output_type": "stream",
     "text": [
      "900it [01:10, 12.80it/s]\n"
     ]
    },
    {
     "name": "stdout",
     "output_type": "stream",
     "text": [
      "Converting prediction from <class 'numpy.float32'> to uint8, using threshold of 0.5\n",
      "File already analysed! /media/nkd/data18931/ndwi_int8_13001_18931/ndwi_int8_17889.tif\n",
      "/media/nkd/data18931/ndwi_int8_13001_18931/ndwi_int8_17890.tif\n",
      "the size of current NDWI_img 11356 11356\n"
     ]
    },
    {
     "name": "stderr",
     "output_type": "stream",
     "text": [
      "900it [01:06, 13.54it/s]\n"
     ]
    },
    {
     "name": "stdout",
     "output_type": "stream",
     "text": [
      "Converting prediction from <class 'numpy.float32'> to uint8, using threshold of 0.5\n",
      "File already analysed! /media/nkd/data18931/ndwi_int8_13001_18931/ndwi_int8_17890.tif\n",
      "/media/nkd/data18931/ndwi_int8_13001_18931/ndwi_int8_17891.tif\n",
      "the size of current NDWI_img 11355 11356\n"
     ]
    },
    {
     "name": "stderr",
     "output_type": "stream",
     "text": [
      "900it [01:10, 12.73it/s]\n"
     ]
    },
    {
     "name": "stdout",
     "output_type": "stream",
     "text": [
      "Converting prediction from <class 'numpy.float32'> to uint8, using threshold of 0.5\n",
      "File already analysed! /media/nkd/data18931/ndwi_int8_13001_18931/ndwi_int8_17891.tif\n",
      "/media/nkd/data18931/ndwi_int8_13001_18931/ndwi_int8_17892.tif\n",
      "the size of current NDWI_img 11355 11356\n"
     ]
    },
    {
     "name": "stderr",
     "output_type": "stream",
     "text": [
      "900it [00:59, 15.02it/s]\n"
     ]
    },
    {
     "name": "stdout",
     "output_type": "stream",
     "text": [
      "Converting prediction from <class 'numpy.float32'> to uint8, using threshold of 0.5\n",
      "File already analysed! /media/nkd/data18931/ndwi_int8_13001_18931/ndwi_int8_17892.tif\n",
      "/media/nkd/data18931/ndwi_int8_13001_18931/ndwi_int8_17893.tif\n",
      "the size of current NDWI_img 11355 11356\n"
     ]
    },
    {
     "name": "stderr",
     "output_type": "stream",
     "text": [
      "900it [01:12, 12.44it/s]\n"
     ]
    },
    {
     "name": "stdout",
     "output_type": "stream",
     "text": [
      "Converting prediction from <class 'numpy.float32'> to uint8, using threshold of 0.5\n",
      "File already analysed! /media/nkd/data18931/ndwi_int8_13001_18931/ndwi_int8_17893.tif\n",
      "/media/nkd/data18931/ndwi_int8_13001_18931/ndwi_int8_17894.tif\n",
      "the size of current NDWI_img 11355 11356\n"
     ]
    },
    {
     "name": "stderr",
     "output_type": "stream",
     "text": [
      "900it [01:09, 12.89it/s]\n"
     ]
    },
    {
     "name": "stdout",
     "output_type": "stream",
     "text": [
      "Converting prediction from <class 'numpy.float32'> to uint8, using threshold of 0.5\n",
      "File already analysed! /media/nkd/data18931/ndwi_int8_13001_18931/ndwi_int8_17894.tif\n",
      "/media/nkd/data18931/ndwi_int8_13001_18931/ndwi_int8_17895.tif\n",
      "the size of current NDWI_img 11355 11356\n"
     ]
    },
    {
     "name": "stderr",
     "output_type": "stream",
     "text": [
      "900it [01:08, 13.07it/s]\n"
     ]
    },
    {
     "name": "stdout",
     "output_type": "stream",
     "text": [
      "Converting prediction from <class 'numpy.float32'> to uint8, using threshold of 0.5\n",
      "File already analysed! /media/nkd/data18931/ndwi_int8_13001_18931/ndwi_int8_17895.tif\n",
      "/media/nkd/data18931/ndwi_int8_13001_18931/ndwi_int8_17896.tif\n",
      "the size of current NDWI_img 11356 11356\n"
     ]
    },
    {
     "name": "stderr",
     "output_type": "stream",
     "text": [
      "900it [01:05, 13.64it/s]\n"
     ]
    },
    {
     "name": "stdout",
     "output_type": "stream",
     "text": [
      "Converting prediction from <class 'numpy.float32'> to uint8, using threshold of 0.5\n",
      "File already analysed! /media/nkd/data18931/ndwi_int8_13001_18931/ndwi_int8_17896.tif\n",
      "/media/nkd/data18931/ndwi_int8_13001_18931/ndwi_int8_17897.tif\n",
      "the size of current NDWI_img 11356 11356\n"
     ]
    },
    {
     "name": "stderr",
     "output_type": "stream",
     "text": [
      "900it [01:11, 12.55it/s]\n"
     ]
    },
    {
     "name": "stdout",
     "output_type": "stream",
     "text": [
      "Converting prediction from <class 'numpy.float32'> to uint8, using threshold of 0.5\n",
      "File already analysed! /media/nkd/data18931/ndwi_int8_13001_18931/ndwi_int8_17897.tif\n",
      "/media/nkd/data18931/ndwi_int8_13001_18931/ndwi_int8_17898.tif\n",
      "the size of current NDWI_img 11356 11356\n"
     ]
    },
    {
     "name": "stderr",
     "output_type": "stream",
     "text": [
      "900it [01:13, 12.28it/s]\n"
     ]
    },
    {
     "name": "stdout",
     "output_type": "stream",
     "text": [
      "Converting prediction from <class 'numpy.float32'> to uint8, using threshold of 0.5\n",
      "File already analysed! /media/nkd/data18931/ndwi_int8_13001_18931/ndwi_int8_17898.tif\n",
      "/media/nkd/data18931/ndwi_int8_13001_18931/ndwi_int8_17899.tif\n",
      "the size of current NDWI_img 11356 11356\n"
     ]
    },
    {
     "name": "stderr",
     "output_type": "stream",
     "text": [
      "900it [01:08, 13.06it/s]\n"
     ]
    },
    {
     "name": "stdout",
     "output_type": "stream",
     "text": [
      "Converting prediction from <class 'numpy.float32'> to uint8, using threshold of 0.5\n",
      "File already analysed! /media/nkd/data18931/ndwi_int8_13001_18931/ndwi_int8_17899.tif\n",
      "/media/nkd/data18931/ndwi_int8_13001_18931/ndwi_int8_17900.tif\n",
      "the size of current NDWI_img 11356 11356\n"
     ]
    },
    {
     "name": "stderr",
     "output_type": "stream",
     "text": [
      "900it [01:06, 13.60it/s]\n"
     ]
    },
    {
     "name": "stdout",
     "output_type": "stream",
     "text": [
      "Converting prediction from <class 'numpy.float32'> to uint8, using threshold of 0.5\n",
      "File already analysed! /media/nkd/data18931/ndwi_int8_13001_18931/ndwi_int8_17900.tif\n",
      "/media/nkd/data18931/ndwi_int8_13001_18931/ndwi_int8_17901.tif\n",
      "the size of current NDWI_img 11355 11356\n"
     ]
    },
    {
     "name": "stderr",
     "output_type": "stream",
     "text": [
      "900it [01:12, 12.49it/s]\n"
     ]
    },
    {
     "name": "stdout",
     "output_type": "stream",
     "text": [
      "Converting prediction from <class 'numpy.float32'> to uint8, using threshold of 0.5\n",
      "File already analysed! /media/nkd/data18931/ndwi_int8_13001_18931/ndwi_int8_17901.tif\n",
      "/media/nkd/data18931/ndwi_int8_13001_18931/ndwi_int8_17902.tif\n",
      "the size of current NDWI_img 11355 11356\n"
     ]
    },
    {
     "name": "stderr",
     "output_type": "stream",
     "text": [
      "900it [01:12, 12.35it/s]\n"
     ]
    },
    {
     "name": "stdout",
     "output_type": "stream",
     "text": [
      "Converting prediction from <class 'numpy.float32'> to uint8, using threshold of 0.5\n",
      "File already analysed! /media/nkd/data18931/ndwi_int8_13001_18931/ndwi_int8_17902.tif\n",
      "/media/nkd/data18931/ndwi_int8_13001_18931/ndwi_int8_17903.tif\n",
      "the size of current NDWI_img 11355 11356\n"
     ]
    },
    {
     "name": "stderr",
     "output_type": "stream",
     "text": [
      "900it [01:13, 12.20it/s]\n"
     ]
    },
    {
     "name": "stdout",
     "output_type": "stream",
     "text": [
      "Converting prediction from <class 'numpy.float32'> to uint8, using threshold of 0.5\n",
      "File already analysed! /media/nkd/data18931/ndwi_int8_13001_18931/ndwi_int8_17903.tif\n",
      "/media/nkd/data18931/ndwi_int8_13001_18931/ndwi_int8_17904.tif\n",
      "the size of current NDWI_img 11355 11356\n"
     ]
    },
    {
     "name": "stderr",
     "output_type": "stream",
     "text": [
      "900it [01:11, 12.53it/s]\n"
     ]
    },
    {
     "name": "stdout",
     "output_type": "stream",
     "text": [
      "Converting prediction from <class 'numpy.float32'> to uint8, using threshold of 0.5\n",
      "File already analysed! /media/nkd/data18931/ndwi_int8_13001_18931/ndwi_int8_17904.tif\n",
      "/media/nkd/data18931/ndwi_int8_13001_18931/ndwi_int8_17905.tif\n",
      "the size of current NDWI_img 11355 11356\n"
     ]
    },
    {
     "name": "stderr",
     "output_type": "stream",
     "text": [
      "900it [01:12, 12.37it/s]\n"
     ]
    },
    {
     "name": "stdout",
     "output_type": "stream",
     "text": [
      "Converting prediction from <class 'numpy.float32'> to uint8, using threshold of 0.5\n",
      "File already analysed! /media/nkd/data18931/ndwi_int8_13001_18931/ndwi_int8_17905.tif\n",
      "/media/nkd/data18931/ndwi_int8_13001_18931/ndwi_int8_17906.tif\n",
      "the size of current NDWI_img 11356 11356\n"
     ]
    },
    {
     "name": "stderr",
     "output_type": "stream",
     "text": [
      "900it [01:12, 12.47it/s]\n"
     ]
    },
    {
     "name": "stdout",
     "output_type": "stream",
     "text": [
      "Converting prediction from <class 'numpy.float32'> to uint8, using threshold of 0.5\n",
      "File already analysed! /media/nkd/data18931/ndwi_int8_13001_18931/ndwi_int8_17906.tif\n",
      "/media/nkd/data18931/ndwi_int8_13001_18931/ndwi_int8_17907.tif\n",
      "the size of current NDWI_img 11356 11356\n"
     ]
    },
    {
     "name": "stderr",
     "output_type": "stream",
     "text": [
      "900it [01:13, 12.17it/s]\n"
     ]
    },
    {
     "name": "stdout",
     "output_type": "stream",
     "text": [
      "Converting prediction from <class 'numpy.float32'> to uint8, using threshold of 0.5\n",
      "File already analysed! /media/nkd/data18931/ndwi_int8_13001_18931/ndwi_int8_17907.tif\n",
      "/media/nkd/data18931/ndwi_int8_13001_18931/ndwi_int8_17908.tif\n",
      "the size of current NDWI_img 11356 11356\n"
     ]
    },
    {
     "name": "stderr",
     "output_type": "stream",
     "text": [
      "900it [01:12, 12.41it/s]\n"
     ]
    },
    {
     "name": "stdout",
     "output_type": "stream",
     "text": [
      "Converting prediction from <class 'numpy.float32'> to uint8, using threshold of 0.5\n",
      "File already analysed! /media/nkd/data18931/ndwi_int8_13001_18931/ndwi_int8_17908.tif\n",
      "/media/nkd/data18931/ndwi_int8_13001_18931/ndwi_int8_17909.tif\n",
      "the size of current NDWI_img 11356 11356\n"
     ]
    },
    {
     "name": "stderr",
     "output_type": "stream",
     "text": [
      "900it [01:10, 12.74it/s]\n"
     ]
    },
    {
     "name": "stdout",
     "output_type": "stream",
     "text": [
      "Converting prediction from <class 'numpy.float32'> to uint8, using threshold of 0.5\n",
      "File already analysed! /media/nkd/data18931/ndwi_int8_13001_18931/ndwi_int8_17909.tif\n",
      "/media/nkd/data18931/ndwi_int8_13001_18931/ndwi_int8_17910.tif\n",
      "the size of current NDWI_img 11356 11356\n"
     ]
    },
    {
     "name": "stderr",
     "output_type": "stream",
     "text": [
      "900it [01:12, 12.48it/s]\n"
     ]
    },
    {
     "name": "stdout",
     "output_type": "stream",
     "text": [
      "Converting prediction from <class 'numpy.float32'> to uint8, using threshold of 0.5\n",
      "File already analysed! /media/nkd/data18931/ndwi_int8_13001_18931/ndwi_int8_17910.tif\n",
      "/media/nkd/data18931/ndwi_int8_13001_18931/ndwi_int8_17911.tif\n",
      "the size of current NDWI_img 11355 11356\n"
     ]
    },
    {
     "name": "stderr",
     "output_type": "stream",
     "text": [
      "900it [01:10, 12.73it/s]\n"
     ]
    },
    {
     "name": "stdout",
     "output_type": "stream",
     "text": [
      "Converting prediction from <class 'numpy.float32'> to uint8, using threshold of 0.5\n",
      "File already analysed! /media/nkd/data18931/ndwi_int8_13001_18931/ndwi_int8_17911.tif\n",
      "/media/nkd/data18931/ndwi_int8_13001_18931/ndwi_int8_17912.tif\n",
      "the size of current NDWI_img 11355 11356\n"
     ]
    },
    {
     "name": "stderr",
     "output_type": "stream",
     "text": [
      "900it [01:12, 12.49it/s]\n"
     ]
    },
    {
     "name": "stdout",
     "output_type": "stream",
     "text": [
      "Converting prediction from <class 'numpy.float32'> to uint8, using threshold of 0.5\n",
      "File already analysed! /media/nkd/data18931/ndwi_int8_13001_18931/ndwi_int8_17912.tif\n",
      "/media/nkd/data18931/ndwi_int8_13001_18931/ndwi_int8_17913.tif\n",
      "the size of current NDWI_img 11355 11356\n"
     ]
    },
    {
     "name": "stderr",
     "output_type": "stream",
     "text": [
      "900it [01:15, 11.98it/s]\n"
     ]
    },
    {
     "name": "stdout",
     "output_type": "stream",
     "text": [
      "Converting prediction from <class 'numpy.float32'> to uint8, using threshold of 0.5\n",
      "File already analysed! /media/nkd/data18931/ndwi_int8_13001_18931/ndwi_int8_17913.tif\n",
      "/media/nkd/data18931/ndwi_int8_13001_18931/ndwi_int8_17914.tif\n",
      "the size of current NDWI_img 11355 11356\n"
     ]
    },
    {
     "name": "stderr",
     "output_type": "stream",
     "text": [
      "900it [01:15, 11.89it/s]\n"
     ]
    },
    {
     "name": "stdout",
     "output_type": "stream",
     "text": [
      "Converting prediction from <class 'numpy.float32'> to uint8, using threshold of 0.5\n",
      "File already analysed! /media/nkd/data18931/ndwi_int8_13001_18931/ndwi_int8_17914.tif\n",
      "/media/nkd/data18931/ndwi_int8_13001_18931/ndwi_int8_17915.tif\n",
      "the size of current NDWI_img 11355 11356\n"
     ]
    },
    {
     "name": "stderr",
     "output_type": "stream",
     "text": [
      "900it [01:13, 12.20it/s]\n"
     ]
    },
    {
     "name": "stdout",
     "output_type": "stream",
     "text": [
      "Converting prediction from <class 'numpy.float32'> to uint8, using threshold of 0.5\n",
      "File already analysed! /media/nkd/data18931/ndwi_int8_13001_18931/ndwi_int8_17915.tif\n",
      "/media/nkd/data18931/ndwi_int8_13001_18931/ndwi_int8_17916.tif\n",
      "the size of current NDWI_img 11356 11356\n"
     ]
    },
    {
     "name": "stderr",
     "output_type": "stream",
     "text": [
      "900it [01:16, 11.70it/s]\n"
     ]
    },
    {
     "name": "stdout",
     "output_type": "stream",
     "text": [
      "Converting prediction from <class 'numpy.float32'> to uint8, using threshold of 0.5\n",
      "File already analysed! /media/nkd/data18931/ndwi_int8_13001_18931/ndwi_int8_17916.tif\n",
      "/media/nkd/data18931/ndwi_int8_13001_18931/ndwi_int8_17917.tif\n",
      "the size of current NDWI_img 11356 11356\n"
     ]
    },
    {
     "name": "stderr",
     "output_type": "stream",
     "text": [
      "900it [01:14, 12.11it/s]\n"
     ]
    },
    {
     "name": "stdout",
     "output_type": "stream",
     "text": [
      "Converting prediction from <class 'numpy.float32'> to uint8, using threshold of 0.5\n",
      "File already analysed! /media/nkd/data18931/ndwi_int8_13001_18931/ndwi_int8_17917.tif\n",
      "/media/nkd/data18931/ndwi_int8_13001_18931/ndwi_int8_17918.tif\n",
      "the size of current NDWI_img 11356 11356\n"
     ]
    },
    {
     "name": "stderr",
     "output_type": "stream",
     "text": [
      "900it [01:14, 12.14it/s]\n"
     ]
    },
    {
     "name": "stdout",
     "output_type": "stream",
     "text": [
      "Converting prediction from <class 'numpy.float32'> to uint8, using threshold of 0.5\n",
      "File already analysed! /media/nkd/data18931/ndwi_int8_13001_18931/ndwi_int8_17918.tif\n",
      "/media/nkd/data18931/ndwi_int8_13001_18931/ndwi_int8_17919.tif\n",
      "the size of current NDWI_img 11356 11356\n"
     ]
    },
    {
     "name": "stderr",
     "output_type": "stream",
     "text": [
      "900it [01:17, 11.64it/s]\n"
     ]
    },
    {
     "name": "stdout",
     "output_type": "stream",
     "text": [
      "Converting prediction from <class 'numpy.float32'> to uint8, using threshold of 0.5\n",
      "File already analysed! /media/nkd/data18931/ndwi_int8_13001_18931/ndwi_int8_17919.tif\n",
      "/media/nkd/data18931/ndwi_int8_13001_18931/ndwi_int8_17920.tif\n",
      "the size of current NDWI_img 11356 11356\n"
     ]
    },
    {
     "name": "stderr",
     "output_type": "stream",
     "text": [
      "900it [01:16, 11.71it/s]\n"
     ]
    },
    {
     "name": "stdout",
     "output_type": "stream",
     "text": [
      "Converting prediction from <class 'numpy.float32'> to uint8, using threshold of 0.5\n",
      "File already analysed! /media/nkd/data18931/ndwi_int8_13001_18931/ndwi_int8_17920.tif\n",
      "/media/nkd/data18931/ndwi_int8_13001_18931/ndwi_int8_17921.tif\n",
      "the size of current NDWI_img 11355 11356\n"
     ]
    },
    {
     "name": "stderr",
     "output_type": "stream",
     "text": [
      "900it [01:13, 12.19it/s]\n"
     ]
    },
    {
     "name": "stdout",
     "output_type": "stream",
     "text": [
      "Converting prediction from <class 'numpy.float32'> to uint8, using threshold of 0.5\n",
      "File already analysed! /media/nkd/data18931/ndwi_int8_13001_18931/ndwi_int8_17921.tif\n",
      "/media/nkd/data18931/ndwi_int8_13001_18931/ndwi_int8_17922.tif\n",
      "the size of current NDWI_img 11355 11356\n"
     ]
    },
    {
     "name": "stderr",
     "output_type": "stream",
     "text": [
      "900it [01:14, 12.10it/s]\n"
     ]
    },
    {
     "name": "stdout",
     "output_type": "stream",
     "text": [
      "Converting prediction from <class 'numpy.float32'> to uint8, using threshold of 0.5\n",
      "File already analysed! /media/nkd/data18931/ndwi_int8_13001_18931/ndwi_int8_17922.tif\n",
      "/media/nkd/data18931/ndwi_int8_13001_18931/ndwi_int8_17923.tif\n",
      "the size of current NDWI_img 11355 11356\n"
     ]
    },
    {
     "name": "stderr",
     "output_type": "stream",
     "text": [
      "900it [01:15, 11.85it/s]\n"
     ]
    },
    {
     "name": "stdout",
     "output_type": "stream",
     "text": [
      "Converting prediction from <class 'numpy.float32'> to uint8, using threshold of 0.5\n",
      "File already analysed! /media/nkd/data18931/ndwi_int8_13001_18931/ndwi_int8_17923.tif\n",
      "/media/nkd/data18931/ndwi_int8_13001_18931/ndwi_int8_17924.tif\n",
      "the size of current NDWI_img 11355 11356\n"
     ]
    },
    {
     "name": "stderr",
     "output_type": "stream",
     "text": [
      "900it [01:14, 12.11it/s]\n"
     ]
    },
    {
     "name": "stdout",
     "output_type": "stream",
     "text": [
      "Converting prediction from <class 'numpy.float32'> to uint8, using threshold of 0.5\n",
      "File already analysed! /media/nkd/data18931/ndwi_int8_13001_18931/ndwi_int8_17924.tif\n",
      "/media/nkd/data18931/ndwi_int8_13001_18931/ndwi_int8_17925.tif\n",
      "the size of current NDWI_img 11355 11356\n"
     ]
    },
    {
     "name": "stderr",
     "output_type": "stream",
     "text": [
      "900it [01:14, 12.15it/s]\n"
     ]
    },
    {
     "name": "stdout",
     "output_type": "stream",
     "text": [
      "Converting prediction from <class 'numpy.float32'> to uint8, using threshold of 0.5\n",
      "File already analysed! /media/nkd/data18931/ndwi_int8_13001_18931/ndwi_int8_17925.tif\n",
      "/media/nkd/data18931/ndwi_int8_13001_18931/ndwi_int8_17926.tif\n",
      "the size of current NDWI_img 11356 11356\n"
     ]
    },
    {
     "name": "stderr",
     "output_type": "stream",
     "text": [
      "900it [01:10, 12.76it/s]\n"
     ]
    },
    {
     "name": "stdout",
     "output_type": "stream",
     "text": [
      "Converting prediction from <class 'numpy.float32'> to uint8, using threshold of 0.5\n",
      "File already analysed! /media/nkd/data18931/ndwi_int8_13001_18931/ndwi_int8_17926.tif\n",
      "/media/nkd/data18931/ndwi_int8_13001_18931/ndwi_int8_17927.tif\n",
      "the size of current NDWI_img 11356 11356\n"
     ]
    },
    {
     "name": "stderr",
     "output_type": "stream",
     "text": [
      "900it [01:13, 12.32it/s]\n"
     ]
    },
    {
     "name": "stdout",
     "output_type": "stream",
     "text": [
      "Converting prediction from <class 'numpy.float32'> to uint8, using threshold of 0.5\n",
      "File already analysed! /media/nkd/data18931/ndwi_int8_13001_18931/ndwi_int8_17927.tif\n",
      "/media/nkd/data18931/ndwi_int8_13001_18931/ndwi_int8_17928.tif\n",
      "the size of current NDWI_img 11356 11356\n"
     ]
    },
    {
     "name": "stderr",
     "output_type": "stream",
     "text": [
      "900it [01:15, 11.96it/s]\n"
     ]
    },
    {
     "name": "stdout",
     "output_type": "stream",
     "text": [
      "Converting prediction from <class 'numpy.float32'> to uint8, using threshold of 0.5\n",
      "File already analysed! /media/nkd/data18931/ndwi_int8_13001_18931/ndwi_int8_17928.tif\n",
      "/media/nkd/data18931/ndwi_int8_13001_18931/ndwi_int8_17929.tif\n",
      "the size of current NDWI_img 11356 11356\n"
     ]
    },
    {
     "name": "stderr",
     "output_type": "stream",
     "text": [
      "900it [01:16, 11.73it/s]\n"
     ]
    },
    {
     "name": "stdout",
     "output_type": "stream",
     "text": [
      "Converting prediction from <class 'numpy.float32'> to uint8, using threshold of 0.5\n",
      "File already analysed! /media/nkd/data18931/ndwi_int8_13001_18931/ndwi_int8_17929.tif\n",
      "/media/nkd/data18931/ndwi_int8_13001_18931/ndwi_int8_17930.tif\n",
      "the size of current NDWI_img 11356 11356\n"
     ]
    },
    {
     "name": "stderr",
     "output_type": "stream",
     "text": [
      "900it [01:16, 11.81it/s]\n"
     ]
    },
    {
     "name": "stdout",
     "output_type": "stream",
     "text": [
      "Converting prediction from <class 'numpy.float32'> to uint8, using threshold of 0.5\n",
      "File already analysed! /media/nkd/data18931/ndwi_int8_13001_18931/ndwi_int8_17930.tif\n",
      "/media/nkd/data18931/ndwi_int8_13001_18931/ndwi_int8_17931.tif\n",
      "the size of current NDWI_img 11355 11356\n"
     ]
    },
    {
     "name": "stderr",
     "output_type": "stream",
     "text": [
      "900it [01:10, 12.73it/s]\n"
     ]
    },
    {
     "name": "stdout",
     "output_type": "stream",
     "text": [
      "Converting prediction from <class 'numpy.float32'> to uint8, using threshold of 0.5\n",
      "File already analysed! /media/nkd/data18931/ndwi_int8_13001_18931/ndwi_int8_17931.tif\n",
      "/media/nkd/data18931/ndwi_int8_13001_18931/ndwi_int8_17932.tif\n",
      "the size of current NDWI_img 11355 11356\n"
     ]
    },
    {
     "name": "stderr",
     "output_type": "stream",
     "text": [
      "900it [01:08, 13.09it/s]\n"
     ]
    },
    {
     "name": "stdout",
     "output_type": "stream",
     "text": [
      "Converting prediction from <class 'numpy.float32'> to uint8, using threshold of 0.5\n",
      "File already analysed! /media/nkd/data18931/ndwi_int8_13001_18931/ndwi_int8_17932.tif\n",
      "/media/nkd/data18931/ndwi_int8_13001_18931/ndwi_int8_17933.tif\n",
      "the size of current NDWI_img 11355 11356\n"
     ]
    },
    {
     "name": "stderr",
     "output_type": "stream",
     "text": [
      "900it [01:07, 13.27it/s]\n"
     ]
    },
    {
     "name": "stdout",
     "output_type": "stream",
     "text": [
      "Converting prediction from <class 'numpy.float32'> to uint8, using threshold of 0.5\n",
      "File already analysed! /media/nkd/data18931/ndwi_int8_13001_18931/ndwi_int8_17933.tif\n",
      "/media/nkd/data18931/ndwi_int8_13001_18931/ndwi_int8_17934.tif\n",
      "the size of current NDWI_img 11355 11356\n"
     ]
    },
    {
     "name": "stderr",
     "output_type": "stream",
     "text": [
      "900it [01:05, 13.67it/s]\n"
     ]
    },
    {
     "name": "stdout",
     "output_type": "stream",
     "text": [
      "Converting prediction from <class 'numpy.float32'> to uint8, using threshold of 0.5\n",
      "File already analysed! /media/nkd/data18931/ndwi_int8_13001_18931/ndwi_int8_17934.tif\n",
      "/media/nkd/data18931/ndwi_int8_13001_18931/ndwi_int8_17935.tif\n",
      "the size of current NDWI_img 11355 11356\n"
     ]
    },
    {
     "name": "stderr",
     "output_type": "stream",
     "text": [
      "900it [01:08, 13.23it/s]\n"
     ]
    },
    {
     "name": "stdout",
     "output_type": "stream",
     "text": [
      "Converting prediction from <class 'numpy.float32'> to uint8, using threshold of 0.5\n",
      "File already analysed! /media/nkd/data18931/ndwi_int8_13001_18931/ndwi_int8_17935.tif\n",
      "/media/nkd/data18931/ndwi_int8_13001_18931/ndwi_int8_17936.tif\n",
      "the size of current NDWI_img 11356 11356\n"
     ]
    },
    {
     "name": "stderr",
     "output_type": "stream",
     "text": [
      "900it [01:09, 12.86it/s]\n"
     ]
    },
    {
     "name": "stdout",
     "output_type": "stream",
     "text": [
      "Converting prediction from <class 'numpy.float32'> to uint8, using threshold of 0.5\n",
      "File already analysed! /media/nkd/data18931/ndwi_int8_13001_18931/ndwi_int8_17936.tif\n",
      "/media/nkd/data18931/ndwi_int8_13001_18931/ndwi_int8_17937.tif\n",
      "the size of current NDWI_img 11356 11356\n"
     ]
    },
    {
     "name": "stderr",
     "output_type": "stream",
     "text": [
      "900it [01:10, 12.82it/s]\n"
     ]
    },
    {
     "name": "stdout",
     "output_type": "stream",
     "text": [
      "Converting prediction from <class 'numpy.float32'> to uint8, using threshold of 0.5\n",
      "File already analysed! /media/nkd/data18931/ndwi_int8_13001_18931/ndwi_int8_17937.tif\n",
      "/media/nkd/data18931/ndwi_int8_13001_18931/ndwi_int8_17938.tif\n",
      "the size of current NDWI_img 11356 11356\n"
     ]
    },
    {
     "name": "stderr",
     "output_type": "stream",
     "text": [
      "900it [01:13, 12.27it/s]\n"
     ]
    },
    {
     "name": "stdout",
     "output_type": "stream",
     "text": [
      "Converting prediction from <class 'numpy.float32'> to uint8, using threshold of 0.5\n",
      "File already analysed! /media/nkd/data18931/ndwi_int8_13001_18931/ndwi_int8_17938.tif\n",
      "/media/nkd/data18931/ndwi_int8_13001_18931/ndwi_int8_17939.tif\n",
      "the size of current NDWI_img 11356 11356\n"
     ]
    },
    {
     "name": "stderr",
     "output_type": "stream",
     "text": [
      "900it [01:08, 13.10it/s]\n"
     ]
    },
    {
     "name": "stdout",
     "output_type": "stream",
     "text": [
      "Converting prediction from <class 'numpy.float32'> to uint8, using threshold of 0.5\n",
      "File already analysed! /media/nkd/data18931/ndwi_int8_13001_18931/ndwi_int8_17939.tif\n",
      "/media/nkd/data18931/ndwi_int8_13001_18931/ndwi_int8_17940.tif\n",
      "the size of current NDWI_img 11356 11356\n"
     ]
    },
    {
     "name": "stderr",
     "output_type": "stream",
     "text": [
      "900it [01:06, 13.61it/s]\n"
     ]
    },
    {
     "name": "stdout",
     "output_type": "stream",
     "text": [
      "Converting prediction from <class 'numpy.float32'> to uint8, using threshold of 0.5\n",
      "File already analysed! /media/nkd/data18931/ndwi_int8_13001_18931/ndwi_int8_17940.tif\n",
      "/media/nkd/data18931/ndwi_int8_13001_18931/ndwi_int8_17941.tif\n",
      "the size of current NDWI_img 11355 11356\n"
     ]
    },
    {
     "name": "stderr",
     "output_type": "stream",
     "text": [
      "900it [01:09, 12.97it/s]\n"
     ]
    },
    {
     "name": "stdout",
     "output_type": "stream",
     "text": [
      "Converting prediction from <class 'numpy.float32'> to uint8, using threshold of 0.5\n",
      "File already analysed! /media/nkd/data18931/ndwi_int8_13001_18931/ndwi_int8_17941.tif\n",
      "/media/nkd/data18931/ndwi_int8_13001_18931/ndwi_int8_17942.tif\n",
      "the size of current NDWI_img 11355 11356\n"
     ]
    },
    {
     "name": "stderr",
     "output_type": "stream",
     "text": [
      "900it [01:10, 12.79it/s]\n"
     ]
    },
    {
     "name": "stdout",
     "output_type": "stream",
     "text": [
      "Converting prediction from <class 'numpy.float32'> to uint8, using threshold of 0.5\n",
      "File already analysed! /media/nkd/data18931/ndwi_int8_13001_18931/ndwi_int8_17942.tif\n",
      "/media/nkd/data18931/ndwi_int8_13001_18931/ndwi_int8_17943.tif\n",
      "the size of current NDWI_img 11355 11356\n"
     ]
    },
    {
     "name": "stderr",
     "output_type": "stream",
     "text": [
      "900it [01:09, 13.01it/s]\n"
     ]
    },
    {
     "name": "stdout",
     "output_type": "stream",
     "text": [
      "Converting prediction from <class 'numpy.float32'> to uint8, using threshold of 0.5\n",
      "File already analysed! /media/nkd/data18931/ndwi_int8_13001_18931/ndwi_int8_17943.tif\n",
      "/media/nkd/data18931/ndwi_int8_13001_18931/ndwi_int8_17944.tif\n",
      "the size of current NDWI_img 11355 11356\n"
     ]
    },
    {
     "name": "stderr",
     "output_type": "stream",
     "text": [
      "900it [01:09, 12.90it/s]\n"
     ]
    },
    {
     "name": "stdout",
     "output_type": "stream",
     "text": [
      "Converting prediction from <class 'numpy.float32'> to uint8, using threshold of 0.5\n",
      "File already analysed! /media/nkd/data18931/ndwi_int8_13001_18931/ndwi_int8_17944.tif\n",
      "/media/nkd/data18931/ndwi_int8_13001_18931/ndwi_int8_17945.tif\n",
      "the size of current NDWI_img 11355 11356\n"
     ]
    },
    {
     "name": "stderr",
     "output_type": "stream",
     "text": [
      "900it [01:07, 13.29it/s]\n"
     ]
    },
    {
     "name": "stdout",
     "output_type": "stream",
     "text": [
      "Converting prediction from <class 'numpy.float32'> to uint8, using threshold of 0.5\n",
      "File already analysed! /media/nkd/data18931/ndwi_int8_13001_18931/ndwi_int8_17945.tif\n",
      "/media/nkd/data18931/ndwi_int8_13001_18931/ndwi_int8_17946.tif\n",
      "the size of current NDWI_img 11356 11356\n"
     ]
    },
    {
     "name": "stderr",
     "output_type": "stream",
     "text": [
      "900it [01:08, 13.07it/s]\n"
     ]
    },
    {
     "name": "stdout",
     "output_type": "stream",
     "text": [
      "Converting prediction from <class 'numpy.float32'> to uint8, using threshold of 0.5\n",
      "File already analysed! /media/nkd/data18931/ndwi_int8_13001_18931/ndwi_int8_17946.tif\n",
      "/media/nkd/data18931/ndwi_int8_13001_18931/ndwi_int8_17947.tif\n",
      "the size of current NDWI_img 11356 11356\n"
     ]
    },
    {
     "name": "stderr",
     "output_type": "stream",
     "text": [
      "900it [01:11, 12.66it/s]\n"
     ]
    },
    {
     "name": "stdout",
     "output_type": "stream",
     "text": [
      "Converting prediction from <class 'numpy.float32'> to uint8, using threshold of 0.5\n",
      "File already analysed! /media/nkd/data18931/ndwi_int8_13001_18931/ndwi_int8_17947.tif\n",
      "/media/nkd/data18931/ndwi_int8_13001_18931/ndwi_int8_17948.tif\n",
      "the size of current NDWI_img 11356 11356\n"
     ]
    },
    {
     "name": "stderr",
     "output_type": "stream",
     "text": [
      "900it [01:10, 12.80it/s]\n"
     ]
    },
    {
     "name": "stdout",
     "output_type": "stream",
     "text": [
      "Converting prediction from <class 'numpy.float32'> to uint8, using threshold of 0.5\n",
      "File already analysed! /media/nkd/data18931/ndwi_int8_13001_18931/ndwi_int8_17948.tif\n",
      "/media/nkd/data18931/ndwi_int8_13001_18931/ndwi_int8_17949.tif\n",
      "the size of current NDWI_img 11356 11356\n"
     ]
    },
    {
     "name": "stderr",
     "output_type": "stream",
     "text": [
      "900it [01:01, 14.70it/s]\n"
     ]
    },
    {
     "name": "stdout",
     "output_type": "stream",
     "text": [
      "Converting prediction from <class 'numpy.float32'> to uint8, using threshold of 0.5\n",
      "File already analysed! /media/nkd/data18931/ndwi_int8_13001_18931/ndwi_int8_17949.tif\n",
      "/media/nkd/data18931/ndwi_int8_13001_18931/ndwi_int8_17950.tif\n",
      "the size of current NDWI_img 11356 11356\n"
     ]
    },
    {
     "name": "stderr",
     "output_type": "stream",
     "text": [
      "900it [01:02, 14.40it/s]\n"
     ]
    },
    {
     "name": "stdout",
     "output_type": "stream",
     "text": [
      "Converting prediction from <class 'numpy.float32'> to uint8, using threshold of 0.5\n",
      "File already analysed! /media/nkd/data18931/ndwi_int8_13001_18931/ndwi_int8_17950.tif\n",
      "/media/nkd/data18931/ndwi_int8_13001_18931/ndwi_int8_17951.tif\n",
      "the size of current NDWI_img 11355 11355\n"
     ]
    },
    {
     "name": "stderr",
     "output_type": "stream",
     "text": [
      "900it [01:07, 13.35it/s]\n"
     ]
    },
    {
     "name": "stdout",
     "output_type": "stream",
     "text": [
      "Converting prediction from <class 'numpy.float32'> to uint8, using threshold of 0.5\n",
      "File already analysed! /media/nkd/data18931/ndwi_int8_13001_18931/ndwi_int8_17951.tif\n",
      "/media/nkd/data18931/ndwi_int8_13001_18931/ndwi_int8_17952.tif\n",
      "the size of current NDWI_img 11355 11355\n"
     ]
    },
    {
     "name": "stderr",
     "output_type": "stream",
     "text": [
      "900it [01:09, 12.89it/s]\n"
     ]
    },
    {
     "name": "stdout",
     "output_type": "stream",
     "text": [
      "Converting prediction from <class 'numpy.float32'> to uint8, using threshold of 0.5\n",
      "File already analysed! /media/nkd/data18931/ndwi_int8_13001_18931/ndwi_int8_17952.tif\n",
      "/media/nkd/data18931/ndwi_int8_13001_18931/ndwi_int8_17953.tif\n",
      "the size of current NDWI_img 11355 11355\n"
     ]
    },
    {
     "name": "stderr",
     "output_type": "stream",
     "text": [
      "900it [01:10, 12.83it/s]\n"
     ]
    },
    {
     "name": "stdout",
     "output_type": "stream",
     "text": [
      "Converting prediction from <class 'numpy.float32'> to uint8, using threshold of 0.5\n",
      "File already analysed! /media/nkd/data18931/ndwi_int8_13001_18931/ndwi_int8_17953.tif\n",
      "/media/nkd/data18931/ndwi_int8_13001_18931/ndwi_int8_17954.tif\n",
      "the size of current NDWI_img 11355 11355\n"
     ]
    },
    {
     "name": "stderr",
     "output_type": "stream",
     "text": [
      "900it [01:11, 12.65it/s]\n"
     ]
    },
    {
     "name": "stdout",
     "output_type": "stream",
     "text": [
      "Converting prediction from <class 'numpy.float32'> to uint8, using threshold of 0.5\n",
      "File already analysed! /media/nkd/data18931/ndwi_int8_13001_18931/ndwi_int8_17954.tif\n",
      "/media/nkd/data18931/ndwi_int8_13001_18931/ndwi_int8_17955.tif\n",
      "the size of current NDWI_img 11355 11355\n"
     ]
    },
    {
     "name": "stderr",
     "output_type": "stream",
     "text": [
      "900it [01:11, 12.62it/s]\n"
     ]
    },
    {
     "name": "stdout",
     "output_type": "stream",
     "text": [
      "Converting prediction from <class 'numpy.float32'> to uint8, using threshold of 0.5\n",
      "File already analysed! /media/nkd/data18931/ndwi_int8_13001_18931/ndwi_int8_17955.tif\n",
      "/media/nkd/data18931/ndwi_int8_13001_18931/ndwi_int8_17956.tif\n",
      "the size of current NDWI_img 11356 11355\n"
     ]
    },
    {
     "name": "stderr",
     "output_type": "stream",
     "text": [
      "900it [01:09, 12.94it/s]\n"
     ]
    },
    {
     "name": "stdout",
     "output_type": "stream",
     "text": [
      "Converting prediction from <class 'numpy.float32'> to uint8, using threshold of 0.5\n",
      "File already analysed! /media/nkd/data18931/ndwi_int8_13001_18931/ndwi_int8_17956.tif\n",
      "/media/nkd/data18931/ndwi_int8_13001_18931/ndwi_int8_17957.tif\n",
      "the size of current NDWI_img 11356 11355\n"
     ]
    },
    {
     "name": "stderr",
     "output_type": "stream",
     "text": [
      "900it [01:08, 13.11it/s]\n"
     ]
    },
    {
     "name": "stdout",
     "output_type": "stream",
     "text": [
      "Converting prediction from <class 'numpy.float32'> to uint8, using threshold of 0.5\n",
      "File already analysed! /media/nkd/data18931/ndwi_int8_13001_18931/ndwi_int8_17957.tif\n",
      "/media/nkd/data18931/ndwi_int8_13001_18931/ndwi_int8_17958.tif\n",
      "the size of current NDWI_img 11356 11355\n"
     ]
    },
    {
     "name": "stderr",
     "output_type": "stream",
     "text": [
      "900it [01:05, 13.72it/s]\n"
     ]
    },
    {
     "name": "stdout",
     "output_type": "stream",
     "text": [
      "Converting prediction from <class 'numpy.float32'> to uint8, using threshold of 0.5\n",
      "File already analysed! /media/nkd/data18931/ndwi_int8_13001_18931/ndwi_int8_17958.tif\n",
      "/media/nkd/data18931/ndwi_int8_13001_18931/ndwi_int8_17959.tif\n",
      "the size of current NDWI_img 11356 11355\n"
     ]
    },
    {
     "name": "stderr",
     "output_type": "stream",
     "text": [
      "900it [01:01, 14.63it/s]\n"
     ]
    },
    {
     "name": "stdout",
     "output_type": "stream",
     "text": [
      "Converting prediction from <class 'numpy.float32'> to uint8, using threshold of 0.5\n",
      "File already analysed! /media/nkd/data18931/ndwi_int8_13001_18931/ndwi_int8_17959.tif\n",
      "/media/nkd/data18931/ndwi_int8_13001_18931/ndwi_int8_17960.tif\n",
      "the size of current NDWI_img 11356 11355\n"
     ]
    },
    {
     "name": "stderr",
     "output_type": "stream",
     "text": [
      "900it [01:07, 13.25it/s]\n"
     ]
    },
    {
     "name": "stdout",
     "output_type": "stream",
     "text": [
      "Converting prediction from <class 'numpy.float32'> to uint8, using threshold of 0.5\n",
      "File already analysed! /media/nkd/data18931/ndwi_int8_13001_18931/ndwi_int8_17960.tif\n",
      "/media/nkd/data18931/ndwi_int8_13001_18931/ndwi_int8_17961.tif\n",
      "the size of current NDWI_img 11355 11355\n"
     ]
    },
    {
     "name": "stderr",
     "output_type": "stream",
     "text": [
      "900it [01:07, 13.25it/s]\n"
     ]
    },
    {
     "name": "stdout",
     "output_type": "stream",
     "text": [
      "Converting prediction from <class 'numpy.float32'> to uint8, using threshold of 0.5\n",
      "File already analysed! /media/nkd/data18931/ndwi_int8_13001_18931/ndwi_int8_17961.tif\n",
      "/media/nkd/data18931/ndwi_int8_13001_18931/ndwi_int8_17962.tif\n",
      "the size of current NDWI_img 11355 11355\n"
     ]
    },
    {
     "name": "stderr",
     "output_type": "stream",
     "text": [
      "900it [01:09, 12.87it/s]\n"
     ]
    },
    {
     "name": "stdout",
     "output_type": "stream",
     "text": [
      "Converting prediction from <class 'numpy.float32'> to uint8, using threshold of 0.5\n",
      "File already analysed! /media/nkd/data18931/ndwi_int8_13001_18931/ndwi_int8_17962.tif\n",
      "/media/nkd/data18931/ndwi_int8_13001_18931/ndwi_int8_17963.tif\n",
      "the size of current NDWI_img 11355 11355\n"
     ]
    },
    {
     "name": "stderr",
     "output_type": "stream",
     "text": [
      "900it [01:09, 13.03it/s]\n"
     ]
    },
    {
     "name": "stdout",
     "output_type": "stream",
     "text": [
      "Converting prediction from <class 'numpy.float32'> to uint8, using threshold of 0.5\n",
      "File already analysed! /media/nkd/data18931/ndwi_int8_13001_18931/ndwi_int8_17963.tif\n",
      "/media/nkd/data18931/ndwi_int8_13001_18931/ndwi_int8_17964.tif\n",
      "the size of current NDWI_img 11355 11355\n"
     ]
    },
    {
     "name": "stderr",
     "output_type": "stream",
     "text": [
      "900it [01:12, 12.45it/s]\n"
     ]
    },
    {
     "name": "stdout",
     "output_type": "stream",
     "text": [
      "Converting prediction from <class 'numpy.float32'> to uint8, using threshold of 0.5\n",
      "File already analysed! /media/nkd/data18931/ndwi_int8_13001_18931/ndwi_int8_17964.tif\n",
      "/media/nkd/data18931/ndwi_int8_13001_18931/ndwi_int8_17965.tif\n",
      "the size of current NDWI_img 11355 11355\n"
     ]
    },
    {
     "name": "stderr",
     "output_type": "stream",
     "text": [
      "900it [01:12, 12.47it/s]\n"
     ]
    },
    {
     "name": "stdout",
     "output_type": "stream",
     "text": [
      "Converting prediction from <class 'numpy.float32'> to uint8, using threshold of 0.5\n",
      "File already analysed! /media/nkd/data18931/ndwi_int8_13001_18931/ndwi_int8_17965.tif\n",
      "/media/nkd/data18931/ndwi_int8_13001_18931/ndwi_int8_17966.tif\n",
      "the size of current NDWI_img 11356 11355\n"
     ]
    },
    {
     "name": "stderr",
     "output_type": "stream",
     "text": [
      "900it [01:10, 12.70it/s]\n"
     ]
    },
    {
     "name": "stdout",
     "output_type": "stream",
     "text": [
      "Converting prediction from <class 'numpy.float32'> to uint8, using threshold of 0.5\n",
      "File already analysed! /media/nkd/data18931/ndwi_int8_13001_18931/ndwi_int8_17966.tif\n",
      "/media/nkd/data18931/ndwi_int8_13001_18931/ndwi_int8_17967.tif\n",
      "the size of current NDWI_img 11356 11355\n"
     ]
    },
    {
     "name": "stderr",
     "output_type": "stream",
     "text": [
      "900it [01:07, 13.29it/s]\n"
     ]
    },
    {
     "name": "stdout",
     "output_type": "stream",
     "text": [
      "Converting prediction from <class 'numpy.float32'> to uint8, using threshold of 0.5\n",
      "File already analysed! /media/nkd/data18931/ndwi_int8_13001_18931/ndwi_int8_17967.tif\n",
      "/media/nkd/data18931/ndwi_int8_13001_18931/ndwi_int8_17968.tif\n",
      "the size of current NDWI_img 11356 11355\n"
     ]
    },
    {
     "name": "stderr",
     "output_type": "stream",
     "text": [
      "900it [01:05, 13.65it/s]\n"
     ]
    },
    {
     "name": "stdout",
     "output_type": "stream",
     "text": [
      "Converting prediction from <class 'numpy.float32'> to uint8, using threshold of 0.5\n",
      "File already analysed! /media/nkd/data18931/ndwi_int8_13001_18931/ndwi_int8_17968.tif\n",
      "/media/nkd/data18931/ndwi_int8_13001_18931/ndwi_int8_17969.tif\n",
      "the size of current NDWI_img 11356 11355\n"
     ]
    },
    {
     "name": "stderr",
     "output_type": "stream",
     "text": [
      "900it [01:06, 13.52it/s]\n"
     ]
    },
    {
     "name": "stdout",
     "output_type": "stream",
     "text": [
      "Converting prediction from <class 'numpy.float32'> to uint8, using threshold of 0.5\n",
      "File already analysed! /media/nkd/data18931/ndwi_int8_13001_18931/ndwi_int8_17969.tif\n",
      "/media/nkd/data18931/ndwi_int8_13001_18931/ndwi_int8_17970.tif\n",
      "the size of current NDWI_img 11356 11355\n"
     ]
    },
    {
     "name": "stderr",
     "output_type": "stream",
     "text": [
      "900it [01:10, 12.76it/s]\n"
     ]
    },
    {
     "name": "stdout",
     "output_type": "stream",
     "text": [
      "Converting prediction from <class 'numpy.float32'> to uint8, using threshold of 0.5\n",
      "File already analysed! /media/nkd/data18931/ndwi_int8_13001_18931/ndwi_int8_17970.tif\n",
      "/media/nkd/data18931/ndwi_int8_13001_18931/ndwi_int8_17971.tif\n",
      "the size of current NDWI_img 11355 11355\n"
     ]
    },
    {
     "name": "stderr",
     "output_type": "stream",
     "text": [
      "900it [01:09, 12.87it/s]\n"
     ]
    },
    {
     "name": "stdout",
     "output_type": "stream",
     "text": [
      "Converting prediction from <class 'numpy.float32'> to uint8, using threshold of 0.5\n",
      "File already analysed! /media/nkd/data18931/ndwi_int8_13001_18931/ndwi_int8_17971.tif\n",
      "/media/nkd/data18931/ndwi_int8_13001_18931/ndwi_int8_17972.tif\n",
      "the size of current NDWI_img 11355 11355\n"
     ]
    },
    {
     "name": "stderr",
     "output_type": "stream",
     "text": [
      "900it [01:09, 12.91it/s]\n"
     ]
    },
    {
     "name": "stdout",
     "output_type": "stream",
     "text": [
      "Converting prediction from <class 'numpy.float32'> to uint8, using threshold of 0.5\n",
      "File already analysed! /media/nkd/data18931/ndwi_int8_13001_18931/ndwi_int8_17972.tif\n",
      "/media/nkd/data18931/ndwi_int8_13001_18931/ndwi_int8_17973.tif\n",
      "the size of current NDWI_img 11355 11355\n"
     ]
    },
    {
     "name": "stderr",
     "output_type": "stream",
     "text": [
      "900it [01:10, 12.84it/s]\n"
     ]
    },
    {
     "name": "stdout",
     "output_type": "stream",
     "text": [
      "Converting prediction from <class 'numpy.float32'> to uint8, using threshold of 0.5\n",
      "File already analysed! /media/nkd/data18931/ndwi_int8_13001_18931/ndwi_int8_17973.tif\n",
      "/media/nkd/data18931/ndwi_int8_13001_18931/ndwi_int8_17974.tif\n",
      "the size of current NDWI_img 11355 11355\n"
     ]
    },
    {
     "name": "stderr",
     "output_type": "stream",
     "text": [
      "900it [01:10, 12.70it/s]\n"
     ]
    },
    {
     "name": "stdout",
     "output_type": "stream",
     "text": [
      "Converting prediction from <class 'numpy.float32'> to uint8, using threshold of 0.5\n",
      "File already analysed! /media/nkd/data18931/ndwi_int8_13001_18931/ndwi_int8_17974.tif\n",
      "/media/nkd/data18931/ndwi_int8_13001_18931/ndwi_int8_17975.tif\n",
      "the size of current NDWI_img 11355 11355\n"
     ]
    },
    {
     "name": "stderr",
     "output_type": "stream",
     "text": [
      "900it [01:12, 12.44it/s]\n"
     ]
    },
    {
     "name": "stdout",
     "output_type": "stream",
     "text": [
      "Converting prediction from <class 'numpy.float32'> to uint8, using threshold of 0.5\n",
      "File already analysed! /media/nkd/data18931/ndwi_int8_13001_18931/ndwi_int8_17975.tif\n",
      "/media/nkd/data18931/ndwi_int8_13001_18931/ndwi_int8_17976.tif\n",
      "the size of current NDWI_img 11356 11355\n"
     ]
    },
    {
     "name": "stderr",
     "output_type": "stream",
     "text": [
      "900it [01:10, 12.73it/s]\n"
     ]
    },
    {
     "name": "stdout",
     "output_type": "stream",
     "text": [
      "Converting prediction from <class 'numpy.float32'> to uint8, using threshold of 0.5\n",
      "File already analysed! /media/nkd/data18931/ndwi_int8_13001_18931/ndwi_int8_17976.tif\n",
      "/media/nkd/data18931/ndwi_int8_13001_18931/ndwi_int8_17977.tif\n",
      "the size of current NDWI_img 11356 11355\n"
     ]
    },
    {
     "name": "stderr",
     "output_type": "stream",
     "text": [
      "900it [01:10, 12.85it/s]\n"
     ]
    },
    {
     "name": "stdout",
     "output_type": "stream",
     "text": [
      "Converting prediction from <class 'numpy.float32'> to uint8, using threshold of 0.5\n",
      "File already analysed! /media/nkd/data18931/ndwi_int8_13001_18931/ndwi_int8_17977.tif\n",
      "/media/nkd/data18931/ndwi_int8_13001_18931/ndwi_int8_17978.tif\n",
      "the size of current NDWI_img 11356 11355\n"
     ]
    },
    {
     "name": "stderr",
     "output_type": "stream",
     "text": [
      "900it [01:09, 12.97it/s]\n"
     ]
    },
    {
     "name": "stdout",
     "output_type": "stream",
     "text": [
      "Converting prediction from <class 'numpy.float32'> to uint8, using threshold of 0.5\n",
      "File already analysed! /media/nkd/data18931/ndwi_int8_13001_18931/ndwi_int8_17978.tif\n",
      "/media/nkd/data18931/ndwi_int8_13001_18931/ndwi_int8_17979.tif\n",
      "the size of current NDWI_img 11356 11355\n"
     ]
    },
    {
     "name": "stderr",
     "output_type": "stream",
     "text": [
      "900it [01:10, 12.81it/s]\n"
     ]
    },
    {
     "name": "stdout",
     "output_type": "stream",
     "text": [
      "Converting prediction from <class 'numpy.float32'> to uint8, using threshold of 0.5\n",
      "File already analysed! /media/nkd/data18931/ndwi_int8_13001_18931/ndwi_int8_17979.tif\n",
      "/media/nkd/data18931/ndwi_int8_13001_18931/ndwi_int8_17980.tif\n",
      "the size of current NDWI_img 11356 11355\n"
     ]
    },
    {
     "name": "stderr",
     "output_type": "stream",
     "text": [
      "900it [01:08, 13.08it/s]\n"
     ]
    },
    {
     "name": "stdout",
     "output_type": "stream",
     "text": [
      "Converting prediction from <class 'numpy.float32'> to uint8, using threshold of 0.5\n",
      "File already analysed! /media/nkd/data18931/ndwi_int8_13001_18931/ndwi_int8_17980.tif\n",
      "/media/nkd/data18931/ndwi_int8_13001_18931/ndwi_int8_17981.tif\n",
      "the size of current NDWI_img 11355 11355\n"
     ]
    },
    {
     "name": "stderr",
     "output_type": "stream",
     "text": [
      "900it [01:12, 12.49it/s]\n"
     ]
    },
    {
     "name": "stdout",
     "output_type": "stream",
     "text": [
      "Converting prediction from <class 'numpy.float32'> to uint8, using threshold of 0.5\n",
      "File already analysed! /media/nkd/data18931/ndwi_int8_13001_18931/ndwi_int8_17981.tif\n",
      "/media/nkd/data18931/ndwi_int8_13001_18931/ndwi_int8_17982.tif\n",
      "the size of current NDWI_img 11355 11355\n"
     ]
    },
    {
     "name": "stderr",
     "output_type": "stream",
     "text": [
      "900it [01:11, 12.63it/s]\n"
     ]
    },
    {
     "name": "stdout",
     "output_type": "stream",
     "text": [
      "Converting prediction from <class 'numpy.float32'> to uint8, using threshold of 0.5\n",
      "File already analysed! /media/nkd/data18931/ndwi_int8_13001_18931/ndwi_int8_17982.tif\n",
      "/media/nkd/data18931/ndwi_int8_13001_18931/ndwi_int8_17983.tif\n",
      "the size of current NDWI_img 11355 11355\n"
     ]
    },
    {
     "name": "stderr",
     "output_type": "stream",
     "text": [
      "900it [01:11, 12.56it/s]\n"
     ]
    },
    {
     "name": "stdout",
     "output_type": "stream",
     "text": [
      "Converting prediction from <class 'numpy.float32'> to uint8, using threshold of 0.5\n",
      "File already analysed! /media/nkd/data18931/ndwi_int8_13001_18931/ndwi_int8_17983.tif\n",
      "/media/nkd/data18931/ndwi_int8_13001_18931/ndwi_int8_17984.tif\n",
      "the size of current NDWI_img 11355 11355\n"
     ]
    },
    {
     "name": "stderr",
     "output_type": "stream",
     "text": [
      "900it [01:10, 12.70it/s]\n"
     ]
    },
    {
     "name": "stdout",
     "output_type": "stream",
     "text": [
      "Converting prediction from <class 'numpy.float32'> to uint8, using threshold of 0.5\n",
      "File already analysed! /media/nkd/data18931/ndwi_int8_13001_18931/ndwi_int8_17984.tif\n",
      "/media/nkd/data18931/ndwi_int8_13001_18931/ndwi_int8_17985.tif\n",
      "the size of current NDWI_img 11355 11355\n"
     ]
    },
    {
     "name": "stderr",
     "output_type": "stream",
     "text": [
      "900it [01:07, 13.35it/s]\n"
     ]
    },
    {
     "name": "stdout",
     "output_type": "stream",
     "text": [
      "Converting prediction from <class 'numpy.float32'> to uint8, using threshold of 0.5\n",
      "File already analysed! /media/nkd/data18931/ndwi_int8_13001_18931/ndwi_int8_17985.tif\n",
      "/media/nkd/data18931/ndwi_int8_13001_18931/ndwi_int8_17986.tif\n",
      "the size of current NDWI_img 11356 11355\n"
     ]
    },
    {
     "name": "stderr",
     "output_type": "stream",
     "text": [
      "900it [01:12, 12.43it/s]\n"
     ]
    },
    {
     "name": "stdout",
     "output_type": "stream",
     "text": [
      "Converting prediction from <class 'numpy.float32'> to uint8, using threshold of 0.5\n",
      "File already analysed! /media/nkd/data18931/ndwi_int8_13001_18931/ndwi_int8_17986.tif\n",
      "/media/nkd/data18931/ndwi_int8_13001_18931/ndwi_int8_17987.tif\n",
      "the size of current NDWI_img 11356 11355\n"
     ]
    },
    {
     "name": "stderr",
     "output_type": "stream",
     "text": [
      "900it [01:12, 12.45it/s]\n"
     ]
    },
    {
     "name": "stdout",
     "output_type": "stream",
     "text": [
      "Converting prediction from <class 'numpy.float32'> to uint8, using threshold of 0.5\n",
      "File already analysed! /media/nkd/data18931/ndwi_int8_13001_18931/ndwi_int8_17987.tif\n",
      "/media/nkd/data18931/ndwi_int8_13001_18931/ndwi_int8_17988.tif\n",
      "the size of current NDWI_img 11356 11355\n"
     ]
    },
    {
     "name": "stderr",
     "output_type": "stream",
     "text": [
      "900it [01:10, 12.73it/s]\n"
     ]
    },
    {
     "name": "stdout",
     "output_type": "stream",
     "text": [
      "Converting prediction from <class 'numpy.float32'> to uint8, using threshold of 0.5\n",
      "File already analysed! /media/nkd/data18931/ndwi_int8_13001_18931/ndwi_int8_17988.tif\n",
      "/media/nkd/data18931/ndwi_int8_13001_18931/ndwi_int8_17989.tif\n",
      "the size of current NDWI_img 11356 11355\n"
     ]
    },
    {
     "name": "stderr",
     "output_type": "stream",
     "text": [
      "900it [01:11, 12.66it/s]\n"
     ]
    },
    {
     "name": "stdout",
     "output_type": "stream",
     "text": [
      "Converting prediction from <class 'numpy.float32'> to uint8, using threshold of 0.5\n",
      "File already analysed! /media/nkd/data18931/ndwi_int8_13001_18931/ndwi_int8_17989.tif\n",
      "/media/nkd/data18931/ndwi_int8_13001_18931/ndwi_int8_17990.tif\n",
      "the size of current NDWI_img 11356 11355\n"
     ]
    },
    {
     "name": "stderr",
     "output_type": "stream",
     "text": [
      "900it [01:10, 12.83it/s]\n"
     ]
    },
    {
     "name": "stdout",
     "output_type": "stream",
     "text": [
      "Converting prediction from <class 'numpy.float32'> to uint8, using threshold of 0.5\n",
      "File already analysed! /media/nkd/data18931/ndwi_int8_13001_18931/ndwi_int8_17990.tif\n",
      "/media/nkd/data18931/ndwi_int8_13001_18931/ndwi_int8_17991.tif\n",
      "the size of current NDWI_img 11355 11355\n"
     ]
    },
    {
     "name": "stderr",
     "output_type": "stream",
     "text": [
      "900it [01:09, 13.02it/s]\n"
     ]
    },
    {
     "name": "stdout",
     "output_type": "stream",
     "text": [
      "Converting prediction from <class 'numpy.float32'> to uint8, using threshold of 0.5\n",
      "File already analysed! /media/nkd/data18931/ndwi_int8_13001_18931/ndwi_int8_17991.tif\n",
      "/media/nkd/data18931/ndwi_int8_13001_18931/ndwi_int8_17992.tif\n",
      "the size of current NDWI_img 11355 11355\n"
     ]
    },
    {
     "name": "stderr",
     "output_type": "stream",
     "text": [
      "900it [01:11, 12.65it/s]\n"
     ]
    },
    {
     "name": "stdout",
     "output_type": "stream",
     "text": [
      "Converting prediction from <class 'numpy.float32'> to uint8, using threshold of 0.5\n",
      "File already analysed! /media/nkd/data18931/ndwi_int8_13001_18931/ndwi_int8_17992.tif\n",
      "/media/nkd/data18931/ndwi_int8_13001_18931/ndwi_int8_17993.tif\n",
      "the size of current NDWI_img 11355 11355\n"
     ]
    },
    {
     "name": "stderr",
     "output_type": "stream",
     "text": [
      "900it [01:10, 12.70it/s]\n"
     ]
    },
    {
     "name": "stdout",
     "output_type": "stream",
     "text": [
      "Converting prediction from <class 'numpy.float32'> to uint8, using threshold of 0.5\n",
      "File already analysed! /media/nkd/data18931/ndwi_int8_13001_18931/ndwi_int8_17993.tif\n",
      "/media/nkd/data18931/ndwi_int8_13001_18931/ndwi_int8_17994.tif\n",
      "the size of current NDWI_img 11355 11355\n"
     ]
    },
    {
     "name": "stderr",
     "output_type": "stream",
     "text": [
      "900it [01:10, 12.78it/s]\n"
     ]
    },
    {
     "name": "stdout",
     "output_type": "stream",
     "text": [
      "Converting prediction from <class 'numpy.float32'> to uint8, using threshold of 0.5\n",
      "File already analysed! /media/nkd/data18931/ndwi_int8_13001_18931/ndwi_int8_17994.tif\n",
      "/media/nkd/data18931/ndwi_int8_13001_18931/ndwi_int8_17995.tif\n",
      "the size of current NDWI_img 11355 11355\n"
     ]
    },
    {
     "name": "stderr",
     "output_type": "stream",
     "text": [
      "900it [01:11, 12.66it/s]\n"
     ]
    },
    {
     "name": "stdout",
     "output_type": "stream",
     "text": [
      "Converting prediction from <class 'numpy.float32'> to uint8, using threshold of 0.5\n",
      "File already analysed! /media/nkd/data18931/ndwi_int8_13001_18931/ndwi_int8_17995.tif\n",
      "/media/nkd/data18931/ndwi_int8_13001_18931/ndwi_int8_17996.tif\n",
      "the size of current NDWI_img 11356 11355\n"
     ]
    },
    {
     "name": "stderr",
     "output_type": "stream",
     "text": [
      "900it [01:11, 12.67it/s]\n"
     ]
    },
    {
     "name": "stdout",
     "output_type": "stream",
     "text": [
      "Converting prediction from <class 'numpy.float32'> to uint8, using threshold of 0.5\n",
      "File already analysed! /media/nkd/data18931/ndwi_int8_13001_18931/ndwi_int8_17996.tif\n",
      "/media/nkd/data18931/ndwi_int8_13001_18931/ndwi_int8_17997.tif\n",
      "the size of current NDWI_img 11356 11355\n"
     ]
    },
    {
     "name": "stderr",
     "output_type": "stream",
     "text": [
      "900it [01:11, 12.65it/s]\n"
     ]
    },
    {
     "name": "stdout",
     "output_type": "stream",
     "text": [
      "Converting prediction from <class 'numpy.float32'> to uint8, using threshold of 0.5\n",
      "File already analysed! /media/nkd/data18931/ndwi_int8_13001_18931/ndwi_int8_17997.tif\n",
      "/media/nkd/data18931/ndwi_int8_13001_18931/ndwi_int8_17998.tif\n",
      "the size of current NDWI_img 11356 11355\n"
     ]
    },
    {
     "name": "stderr",
     "output_type": "stream",
     "text": [
      "900it [01:06, 13.57it/s]\n"
     ]
    },
    {
     "name": "stdout",
     "output_type": "stream",
     "text": [
      "Converting prediction from <class 'numpy.float32'> to uint8, using threshold of 0.5\n",
      "File already analysed! /media/nkd/data18931/ndwi_int8_13001_18931/ndwi_int8_17998.tif\n",
      "/media/nkd/data18931/ndwi_int8_13001_18931/ndwi_int8_17999.tif\n",
      "the size of current NDWI_img 11356 11355\n"
     ]
    },
    {
     "name": "stderr",
     "output_type": "stream",
     "text": [
      "900it [01:10, 12.78it/s]\n"
     ]
    },
    {
     "name": "stdout",
     "output_type": "stream",
     "text": [
      "Converting prediction from <class 'numpy.float32'> to uint8, using threshold of 0.5\n",
      "File already analysed! /media/nkd/data18931/ndwi_int8_13001_18931/ndwi_int8_17999.tif\n",
      "/media/nkd/data18931/ndwi_int8_13001_18931/ndwi_int8_18000.tif\n",
      "the size of current NDWI_img 11356 11355\n"
     ]
    },
    {
     "name": "stderr",
     "output_type": "stream",
     "text": [
      "900it [01:10, 12.68it/s]\n"
     ]
    },
    {
     "name": "stdout",
     "output_type": "stream",
     "text": [
      "Converting prediction from <class 'numpy.float32'> to uint8, using threshold of 0.5\n",
      "File already analysed! /media/nkd/data18931/ndwi_int8_13001_18931/ndwi_int8_18000.tif\n",
      "/media/nkd/data18931/ndwi_int8_13001_18931/ndwi_int8_18001.tif\n",
      "the size of current NDWI_img 11355 11355\n"
     ]
    },
    {
     "name": "stderr",
     "output_type": "stream",
     "text": [
      "900it [01:06, 13.63it/s]\n"
     ]
    },
    {
     "name": "stdout",
     "output_type": "stream",
     "text": [
      "Converting prediction from <class 'numpy.float32'> to uint8, using threshold of 0.5\n",
      "File already analysed! /media/nkd/data18931/ndwi_int8_13001_18931/ndwi_int8_18001.tif\n",
      "/media/nkd/data18931/ndwi_int8_13001_18931/ndwi_int8_18002.tif\n",
      "the size of current NDWI_img 11355 11355\n"
     ]
    },
    {
     "name": "stderr",
     "output_type": "stream",
     "text": [
      "900it [01:09, 13.03it/s]\n"
     ]
    },
    {
     "name": "stdout",
     "output_type": "stream",
     "text": [
      "Converting prediction from <class 'numpy.float32'> to uint8, using threshold of 0.5\n",
      "File already analysed! /media/nkd/data18931/ndwi_int8_13001_18931/ndwi_int8_18002.tif\n",
      "/media/nkd/data18931/ndwi_int8_13001_18931/ndwi_int8_18003.tif\n",
      "the size of current NDWI_img 11355 11355\n"
     ]
    },
    {
     "name": "stderr",
     "output_type": "stream",
     "text": [
      "900it [01:08, 13.09it/s]\n"
     ]
    },
    {
     "name": "stdout",
     "output_type": "stream",
     "text": [
      "Converting prediction from <class 'numpy.float32'> to uint8, using threshold of 0.5\n",
      "File already analysed! /media/nkd/data18931/ndwi_int8_13001_18931/ndwi_int8_18003.tif\n",
      "/media/nkd/data18931/ndwi_int8_13001_18931/ndwi_int8_18004.tif\n",
      "the size of current NDWI_img 11355 11355\n"
     ]
    },
    {
     "name": "stderr",
     "output_type": "stream",
     "text": [
      "900it [01:08, 13.07it/s]\n"
     ]
    },
    {
     "name": "stdout",
     "output_type": "stream",
     "text": [
      "Converting prediction from <class 'numpy.float32'> to uint8, using threshold of 0.5\n",
      "File already analysed! /media/nkd/data18931/ndwi_int8_13001_18931/ndwi_int8_18004.tif\n",
      "/media/nkd/data18931/ndwi_int8_13001_18931/ndwi_int8_18005.tif\n",
      "the size of current NDWI_img 11355 11355\n"
     ]
    },
    {
     "name": "stderr",
     "output_type": "stream",
     "text": [
      "900it [01:09, 12.95it/s]\n"
     ]
    },
    {
     "name": "stdout",
     "output_type": "stream",
     "text": [
      "Converting prediction from <class 'numpy.float32'> to uint8, using threshold of 0.5\n",
      "File already analysed! /media/nkd/data18931/ndwi_int8_13001_18931/ndwi_int8_18005.tif\n",
      "/media/nkd/data18931/ndwi_int8_13001_18931/ndwi_int8_18006.tif\n",
      "the size of current NDWI_img 11356 11355\n"
     ]
    },
    {
     "name": "stderr",
     "output_type": "stream",
     "text": [
      "900it [01:06, 13.62it/s]\n"
     ]
    },
    {
     "name": "stdout",
     "output_type": "stream",
     "text": [
      "Converting prediction from <class 'numpy.float32'> to uint8, using threshold of 0.5\n",
      "File already analysed! /media/nkd/data18931/ndwi_int8_13001_18931/ndwi_int8_18006.tif\n",
      "/media/nkd/data18931/ndwi_int8_13001_18931/ndwi_int8_18007.tif\n",
      "the size of current NDWI_img 11356 11355\n"
     ]
    },
    {
     "name": "stderr",
     "output_type": "stream",
     "text": [
      "900it [01:08, 13.21it/s]\n"
     ]
    },
    {
     "name": "stdout",
     "output_type": "stream",
     "text": [
      "Converting prediction from <class 'numpy.float32'> to uint8, using threshold of 0.5\n",
      "File already analysed! /media/nkd/data18931/ndwi_int8_13001_18931/ndwi_int8_18007.tif\n",
      "/media/nkd/data18931/ndwi_int8_13001_18931/ndwi_int8_18008.tif\n",
      "the size of current NDWI_img 11356 11355\n"
     ]
    },
    {
     "name": "stderr",
     "output_type": "stream",
     "text": [
      "900it [01:07, 13.32it/s]\n"
     ]
    },
    {
     "name": "stdout",
     "output_type": "stream",
     "text": [
      "Converting prediction from <class 'numpy.float32'> to uint8, using threshold of 0.5\n",
      "File already analysed! /media/nkd/data18931/ndwi_int8_13001_18931/ndwi_int8_18008.tif\n",
      "/media/nkd/data18931/ndwi_int8_13001_18931/ndwi_int8_18009.tif\n",
      "the size of current NDWI_img 11356 11355\n"
     ]
    },
    {
     "name": "stderr",
     "output_type": "stream",
     "text": [
      "900it [01:09, 12.91it/s]\n"
     ]
    },
    {
     "name": "stdout",
     "output_type": "stream",
     "text": [
      "Converting prediction from <class 'numpy.float32'> to uint8, using threshold of 0.5\n",
      "File already analysed! /media/nkd/data18931/ndwi_int8_13001_18931/ndwi_int8_18009.tif\n",
      "/media/nkd/data18931/ndwi_int8_13001_18931/ndwi_int8_18010.tif\n",
      "the size of current NDWI_img 11356 11355\n"
     ]
    },
    {
     "name": "stderr",
     "output_type": "stream",
     "text": [
      "900it [01:02, 14.46it/s]\n"
     ]
    },
    {
     "name": "stdout",
     "output_type": "stream",
     "text": [
      "Converting prediction from <class 'numpy.float32'> to uint8, using threshold of 0.5\n",
      "File already analysed! /media/nkd/data18931/ndwi_int8_13001_18931/ndwi_int8_18010.tif\n",
      "/media/nkd/data18931/ndwi_int8_13001_18931/ndwi_int8_18011.tif\n",
      "the size of current NDWI_img 11355 11355\n"
     ]
    },
    {
     "name": "stderr",
     "output_type": "stream",
     "text": [
      "900it [01:01, 14.73it/s]\n"
     ]
    },
    {
     "name": "stdout",
     "output_type": "stream",
     "text": [
      "Converting prediction from <class 'numpy.float32'> to uint8, using threshold of 0.5\n",
      "File already analysed! /media/nkd/data18931/ndwi_int8_13001_18931/ndwi_int8_18011.tif\n",
      "/media/nkd/data18931/ndwi_int8_13001_18931/ndwi_int8_18012.tif\n",
      "the size of current NDWI_img 11355 11355\n"
     ]
    },
    {
     "name": "stderr",
     "output_type": "stream",
     "text": [
      "900it [01:07, 13.36it/s]\n"
     ]
    },
    {
     "name": "stdout",
     "output_type": "stream",
     "text": [
      "Converting prediction from <class 'numpy.float32'> to uint8, using threshold of 0.5\n",
      "File already analysed! /media/nkd/data18931/ndwi_int8_13001_18931/ndwi_int8_18012.tif\n",
      "/media/nkd/data18931/ndwi_int8_13001_18931/ndwi_int8_18013.tif\n",
      "the size of current NDWI_img 11355 11355\n"
     ]
    },
    {
     "name": "stderr",
     "output_type": "stream",
     "text": [
      "900it [01:08, 13.14it/s]\n"
     ]
    },
    {
     "name": "stdout",
     "output_type": "stream",
     "text": [
      "Converting prediction from <class 'numpy.float32'> to uint8, using threshold of 0.5\n",
      "File already analysed! /media/nkd/data18931/ndwi_int8_13001_18931/ndwi_int8_18013.tif\n",
      "/media/nkd/data18931/ndwi_int8_13001_18931/ndwi_int8_18014.tif\n",
      "the size of current NDWI_img 11355 11355\n"
     ]
    },
    {
     "name": "stderr",
     "output_type": "stream",
     "text": [
      "900it [01:08, 13.15it/s]\n"
     ]
    },
    {
     "name": "stdout",
     "output_type": "stream",
     "text": [
      "Converting prediction from <class 'numpy.float32'> to uint8, using threshold of 0.5\n",
      "File already analysed! /media/nkd/data18931/ndwi_int8_13001_18931/ndwi_int8_18014.tif\n",
      "/media/nkd/data18931/ndwi_int8_13001_18931/ndwi_int8_18015.tif\n",
      "the size of current NDWI_img 11355 11355\n"
     ]
    },
    {
     "name": "stderr",
     "output_type": "stream",
     "text": [
      "900it [01:09, 12.94it/s]\n"
     ]
    },
    {
     "name": "stdout",
     "output_type": "stream",
     "text": [
      "Converting prediction from <class 'numpy.float32'> to uint8, using threshold of 0.5\n",
      "File already analysed! /media/nkd/data18931/ndwi_int8_13001_18931/ndwi_int8_18015.tif\n",
      "/media/nkd/data18931/ndwi_int8_13001_18931/ndwi_int8_18016.tif\n",
      "the size of current NDWI_img 11356 11355\n"
     ]
    },
    {
     "name": "stderr",
     "output_type": "stream",
     "text": [
      "900it [01:08, 13.05it/s]\n"
     ]
    },
    {
     "name": "stdout",
     "output_type": "stream",
     "text": [
      "Converting prediction from <class 'numpy.float32'> to uint8, using threshold of 0.5\n",
      "File already analysed! /media/nkd/data18931/ndwi_int8_13001_18931/ndwi_int8_18016.tif\n",
      "/media/nkd/data18931/ndwi_int8_13001_18931/ndwi_int8_18017.tif\n",
      "the size of current NDWI_img 11356 11355\n"
     ]
    },
    {
     "name": "stderr",
     "output_type": "stream",
     "text": [
      "900it [01:10, 12.75it/s]\n"
     ]
    },
    {
     "name": "stdout",
     "output_type": "stream",
     "text": [
      "Converting prediction from <class 'numpy.float32'> to uint8, using threshold of 0.5\n",
      "File already analysed! /media/nkd/data18931/ndwi_int8_13001_18931/ndwi_int8_18017.tif\n",
      "/media/nkd/data18931/ndwi_int8_13001_18931/ndwi_int8_18018.tif\n",
      "the size of current NDWI_img 11356 11355\n"
     ]
    },
    {
     "name": "stderr",
     "output_type": "stream",
     "text": [
      "900it [01:06, 13.58it/s]\n"
     ]
    },
    {
     "name": "stdout",
     "output_type": "stream",
     "text": [
      "Converting prediction from <class 'numpy.float32'> to uint8, using threshold of 0.5\n",
      "File already analysed! /media/nkd/data18931/ndwi_int8_13001_18931/ndwi_int8_18018.tif\n",
      "/media/nkd/data18931/ndwi_int8_13001_18931/ndwi_int8_18019.tif\n",
      "the size of current NDWI_img 11356 11355\n"
     ]
    },
    {
     "name": "stderr",
     "output_type": "stream",
     "text": [
      "900it [00:49, 18.05it/s]\n"
     ]
    },
    {
     "name": "stdout",
     "output_type": "stream",
     "text": [
      "Converting prediction from <class 'numpy.float32'> to uint8, using threshold of 0.5\n",
      "File already analysed! /media/nkd/data18931/ndwi_int8_13001_18931/ndwi_int8_18019.tif\n",
      "/media/nkd/data18931/ndwi_int8_13001_18931/ndwi_int8_18020.tif\n",
      "the size of current NDWI_img 11356 11355\n"
     ]
    },
    {
     "name": "stderr",
     "output_type": "stream",
     "text": [
      "900it [00:43, 20.64it/s]\n"
     ]
    },
    {
     "name": "stdout",
     "output_type": "stream",
     "text": [
      "Converting prediction from <class 'numpy.float32'> to uint8, using threshold of 0.5\n",
      "File already analysed! /media/nkd/data18931/ndwi_int8_13001_18931/ndwi_int8_18020.tif\n",
      "/media/nkd/data18931/ndwi_int8_13001_18931/ndwi_int8_18021.tif\n",
      "the size of current NDWI_img 11355 11355\n"
     ]
    },
    {
     "name": "stderr",
     "output_type": "stream",
     "text": [
      "900it [01:08, 13.14it/s]\n"
     ]
    },
    {
     "name": "stdout",
     "output_type": "stream",
     "text": [
      "Converting prediction from <class 'numpy.float32'> to uint8, using threshold of 0.5\n",
      "File already analysed! /media/nkd/data18931/ndwi_int8_13001_18931/ndwi_int8_18021.tif\n",
      "/media/nkd/data18931/ndwi_int8_13001_18931/ndwi_int8_18022.tif\n",
      "the size of current NDWI_img 11355 11355\n"
     ]
    },
    {
     "name": "stderr",
     "output_type": "stream",
     "text": [
      "900it [01:08, 13.22it/s]\n"
     ]
    },
    {
     "name": "stdout",
     "output_type": "stream",
     "text": [
      "Converting prediction from <class 'numpy.float32'> to uint8, using threshold of 0.5\n",
      "File already analysed! /media/nkd/data18931/ndwi_int8_13001_18931/ndwi_int8_18022.tif\n",
      "/media/nkd/data18931/ndwi_int8_13001_18931/ndwi_int8_18023.tif\n",
      "the size of current NDWI_img 11355 11355\n"
     ]
    },
    {
     "name": "stderr",
     "output_type": "stream",
     "text": [
      "900it [01:07, 13.36it/s]\n"
     ]
    },
    {
     "name": "stdout",
     "output_type": "stream",
     "text": [
      "Converting prediction from <class 'numpy.float32'> to uint8, using threshold of 0.5\n",
      "File already analysed! /media/nkd/data18931/ndwi_int8_13001_18931/ndwi_int8_18023.tif\n",
      "/media/nkd/data18931/ndwi_int8_13001_18931/ndwi_int8_18024.tif\n",
      "the size of current NDWI_img 11355 11355\n"
     ]
    },
    {
     "name": "stderr",
     "output_type": "stream",
     "text": [
      "900it [01:06, 13.47it/s]\n"
     ]
    },
    {
     "name": "stdout",
     "output_type": "stream",
     "text": [
      "Converting prediction from <class 'numpy.float32'> to uint8, using threshold of 0.5\n",
      "File already analysed! /media/nkd/data18931/ndwi_int8_13001_18931/ndwi_int8_18024.tif\n",
      "/media/nkd/data18931/ndwi_int8_13001_18931/ndwi_int8_18025.tif\n",
      "the size of current NDWI_img 11355 11355\n"
     ]
    },
    {
     "name": "stderr",
     "output_type": "stream",
     "text": [
      "900it [01:07, 13.39it/s]\n"
     ]
    },
    {
     "name": "stdout",
     "output_type": "stream",
     "text": [
      "Converting prediction from <class 'numpy.float32'> to uint8, using threshold of 0.5\n",
      "File already analysed! /media/nkd/data18931/ndwi_int8_13001_18931/ndwi_int8_18025.tif\n",
      "/media/nkd/data18931/ndwi_int8_13001_18931/ndwi_int8_18026.tif\n",
      "the size of current NDWI_img 11356 11355\n"
     ]
    },
    {
     "name": "stderr",
     "output_type": "stream",
     "text": [
      "900it [01:09, 13.00it/s]\n"
     ]
    },
    {
     "name": "stdout",
     "output_type": "stream",
     "text": [
      "Converting prediction from <class 'numpy.float32'> to uint8, using threshold of 0.5\n",
      "File already analysed! /media/nkd/data18931/ndwi_int8_13001_18931/ndwi_int8_18026.tif\n",
      "/media/nkd/data18931/ndwi_int8_13001_18931/ndwi_int8_18027.tif\n",
      "the size of current NDWI_img 11356 11355\n"
     ]
    },
    {
     "name": "stderr",
     "output_type": "stream",
     "text": [
      "900it [01:07, 13.33it/s]\n"
     ]
    },
    {
     "name": "stdout",
     "output_type": "stream",
     "text": [
      "Converting prediction from <class 'numpy.float32'> to uint8, using threshold of 0.5\n",
      "File already analysed! /media/nkd/data18931/ndwi_int8_13001_18931/ndwi_int8_18027.tif\n",
      "/media/nkd/data18931/ndwi_int8_13001_18931/ndwi_int8_18028.tif\n",
      "the size of current NDWI_img 11356 11355\n"
     ]
    },
    {
     "name": "stderr",
     "output_type": "stream",
     "text": [
      "900it [00:54, 16.50it/s]\n"
     ]
    },
    {
     "name": "stdout",
     "output_type": "stream",
     "text": [
      "Converting prediction from <class 'numpy.float32'> to uint8, using threshold of 0.5\n",
      "File already analysed! /media/nkd/data18931/ndwi_int8_13001_18931/ndwi_int8_18028.tif\n",
      "/media/nkd/data18931/ndwi_int8_13001_18931/ndwi_int8_18029.tif\n",
      "the size of current NDWI_img 11356 11355\n"
     ]
    },
    {
     "name": "stderr",
     "output_type": "stream",
     "text": [
      "900it [00:43, 20.71it/s]\n"
     ]
    },
    {
     "name": "stdout",
     "output_type": "stream",
     "text": [
      "Converting prediction from <class 'numpy.float32'> to uint8, using threshold of 0.5\n",
      "File already analysed! /media/nkd/data18931/ndwi_int8_13001_18931/ndwi_int8_18029.tif\n",
      "/media/nkd/data18931/ndwi_int8_13001_18931/ndwi_int8_18030.tif\n",
      "the size of current NDWI_img 11356 11355\n"
     ]
    },
    {
     "name": "stderr",
     "output_type": "stream",
     "text": [
      "900it [00:47, 18.97it/s]\n"
     ]
    },
    {
     "name": "stdout",
     "output_type": "stream",
     "text": [
      "Converting prediction from <class 'numpy.float32'> to uint8, using threshold of 0.5\n",
      "File already analysed! /media/nkd/data18931/ndwi_int8_13001_18931/ndwi_int8_18030.tif\n",
      "/media/nkd/data18931/ndwi_int8_13001_18931/ndwi_int8_18031.tif\n",
      "the size of current NDWI_img 11355 11356\n"
     ]
    },
    {
     "name": "stderr",
     "output_type": "stream",
     "text": [
      "900it [01:11, 12.58it/s]\n"
     ]
    },
    {
     "name": "stdout",
     "output_type": "stream",
     "text": [
      "Converting prediction from <class 'numpy.float32'> to uint8, using threshold of 0.5\n",
      "File already analysed! /media/nkd/data18931/ndwi_int8_13001_18931/ndwi_int8_18031.tif\n",
      "/media/nkd/data18931/ndwi_int8_13001_18931/ndwi_int8_18032.tif\n",
      "the size of current NDWI_img 11355 11356\n"
     ]
    },
    {
     "name": "stderr",
     "output_type": "stream",
     "text": [
      "900it [01:11, 12.58it/s]\n"
     ]
    },
    {
     "name": "stdout",
     "output_type": "stream",
     "text": [
      "Converting prediction from <class 'numpy.float32'> to uint8, using threshold of 0.5\n",
      "File already analysed! /media/nkd/data18931/ndwi_int8_13001_18931/ndwi_int8_18032.tif\n",
      "/media/nkd/data18931/ndwi_int8_13001_18931/ndwi_int8_18033.tif\n",
      "the size of current NDWI_img 11355 11356\n"
     ]
    },
    {
     "name": "stderr",
     "output_type": "stream",
     "text": [
      "900it [01:05, 13.67it/s]\n"
     ]
    },
    {
     "name": "stdout",
     "output_type": "stream",
     "text": [
      "Converting prediction from <class 'numpy.float32'> to uint8, using threshold of 0.5\n",
      "File already analysed! /media/nkd/data18931/ndwi_int8_13001_18931/ndwi_int8_18033.tif\n",
      "/media/nkd/data18931/ndwi_int8_13001_18931/ndwi_int8_18034.tif\n",
      "the size of current NDWI_img 11355 11356\n"
     ]
    },
    {
     "name": "stderr",
     "output_type": "stream",
     "text": [
      "900it [01:09, 12.96it/s]\n"
     ]
    },
    {
     "name": "stdout",
     "output_type": "stream",
     "text": [
      "Converting prediction from <class 'numpy.float32'> to uint8, using threshold of 0.5\n",
      "File already analysed! /media/nkd/data18931/ndwi_int8_13001_18931/ndwi_int8_18034.tif\n",
      "/media/nkd/data18931/ndwi_int8_13001_18931/ndwi_int8_18035.tif\n",
      "the size of current NDWI_img 11355 11356\n"
     ]
    },
    {
     "name": "stderr",
     "output_type": "stream",
     "text": [
      "900it [01:11, 12.66it/s]\n"
     ]
    },
    {
     "name": "stdout",
     "output_type": "stream",
     "text": [
      "Converting prediction from <class 'numpy.float32'> to uint8, using threshold of 0.5\n",
      "File already analysed! /media/nkd/data18931/ndwi_int8_13001_18931/ndwi_int8_18035.tif\n",
      "/media/nkd/data18931/ndwi_int8_13001_18931/ndwi_int8_18036.tif\n",
      "the size of current NDWI_img 11356 11356\n"
     ]
    },
    {
     "name": "stderr",
     "output_type": "stream",
     "text": [
      "900it [01:07, 13.34it/s]\n"
     ]
    },
    {
     "name": "stdout",
     "output_type": "stream",
     "text": [
      "Converting prediction from <class 'numpy.float32'> to uint8, using threshold of 0.5\n",
      "File already analysed! /media/nkd/data18931/ndwi_int8_13001_18931/ndwi_int8_18036.tif\n",
      "/media/nkd/data18931/ndwi_int8_13001_18931/ndwi_int8_18037.tif\n",
      "the size of current NDWI_img 11356 11356\n"
     ]
    },
    {
     "name": "stderr",
     "output_type": "stream",
     "text": [
      "900it [00:44, 20.04it/s]\n"
     ]
    },
    {
     "name": "stdout",
     "output_type": "stream",
     "text": [
      "Converting prediction from <class 'numpy.float32'> to uint8, using threshold of 0.5\n",
      "File already analysed! /media/nkd/data18931/ndwi_int8_13001_18931/ndwi_int8_18037.tif\n",
      "/media/nkd/data18931/ndwi_int8_13001_18931/ndwi_int8_18038.tif\n",
      "the size of current NDWI_img 11356 11356\n"
     ]
    },
    {
     "name": "stderr",
     "output_type": "stream",
     "text": [
      "900it [00:43, 20.59it/s]\n"
     ]
    },
    {
     "name": "stdout",
     "output_type": "stream",
     "text": [
      "Converting prediction from <class 'numpy.float32'> to uint8, using threshold of 0.5\n",
      "File already analysed! /media/nkd/data18931/ndwi_int8_13001_18931/ndwi_int8_18038.tif\n",
      "/media/nkd/data18931/ndwi_int8_13001_18931/ndwi_int8_18039.tif\n",
      "the size of current NDWI_img 11356 11356\n"
     ]
    },
    {
     "name": "stderr",
     "output_type": "stream",
     "text": [
      "900it [00:47, 18.99it/s]\n"
     ]
    },
    {
     "name": "stdout",
     "output_type": "stream",
     "text": [
      "Converting prediction from <class 'numpy.float32'> to uint8, using threshold of 0.5\n",
      "File already analysed! /media/nkd/data18931/ndwi_int8_13001_18931/ndwi_int8_18039.tif\n",
      "/media/nkd/data18931/ndwi_int8_13001_18931/ndwi_int8_18040.tif\n",
      "the size of current NDWI_img 11355 11356\n"
     ]
    },
    {
     "name": "stderr",
     "output_type": "stream",
     "text": [
      "900it [01:05, 13.83it/s]\n"
     ]
    },
    {
     "name": "stdout",
     "output_type": "stream",
     "text": [
      "Converting prediction from <class 'numpy.float32'> to uint8, using threshold of 0.5\n",
      "File already analysed! /media/nkd/data18931/ndwi_int8_13001_18931/ndwi_int8_18040.tif\n",
      "/media/nkd/data18931/ndwi_int8_13001_18931/ndwi_int8_18041.tif\n",
      "the size of current NDWI_img 11355 11356\n"
     ]
    },
    {
     "name": "stderr",
     "output_type": "stream",
     "text": [
      "900it [01:09, 13.01it/s]\n"
     ]
    },
    {
     "name": "stdout",
     "output_type": "stream",
     "text": [
      "Converting prediction from <class 'numpy.float32'> to uint8, using threshold of 0.5\n",
      "File already analysed! /media/nkd/data18931/ndwi_int8_13001_18931/ndwi_int8_18041.tif\n",
      "/media/nkd/data18931/ndwi_int8_13001_18931/ndwi_int8_18042.tif\n",
      "the size of current NDWI_img 11355 11356\n"
     ]
    },
    {
     "name": "stderr",
     "output_type": "stream",
     "text": [
      "900it [01:09, 12.99it/s]\n"
     ]
    },
    {
     "name": "stdout",
     "output_type": "stream",
     "text": [
      "Converting prediction from <class 'numpy.float32'> to uint8, using threshold of 0.5\n",
      "File already analysed! /media/nkd/data18931/ndwi_int8_13001_18931/ndwi_int8_18042.tif\n",
      "/media/nkd/data18931/ndwi_int8_13001_18931/ndwi_int8_18043.tif\n",
      "the size of current NDWI_img 11355 11356\n"
     ]
    },
    {
     "name": "stderr",
     "output_type": "stream",
     "text": [
      "900it [01:09, 12.92it/s]\n"
     ]
    },
    {
     "name": "stdout",
     "output_type": "stream",
     "text": [
      "Converting prediction from <class 'numpy.float32'> to uint8, using threshold of 0.5\n",
      "File already analysed! /media/nkd/data18931/ndwi_int8_13001_18931/ndwi_int8_18043.tif\n",
      "/media/nkd/data18931/ndwi_int8_13001_18931/ndwi_int8_18044.tif\n",
      "the size of current NDWI_img 11355 11356\n"
     ]
    },
    {
     "name": "stderr",
     "output_type": "stream",
     "text": [
      "900it [01:04, 13.87it/s]\n"
     ]
    },
    {
     "name": "stdout",
     "output_type": "stream",
     "text": [
      "Converting prediction from <class 'numpy.float32'> to uint8, using threshold of 0.5\n",
      "File already analysed! /media/nkd/data18931/ndwi_int8_13001_18931/ndwi_int8_18044.tif\n",
      "/media/nkd/data18931/ndwi_int8_13001_18931/ndwi_int8_18045.tif\n",
      "the size of current NDWI_img 11356 11356\n"
     ]
    },
    {
     "name": "stderr",
     "output_type": "stream",
     "text": [
      "900it [00:46, 19.47it/s]\n"
     ]
    },
    {
     "name": "stdout",
     "output_type": "stream",
     "text": [
      "Converting prediction from <class 'numpy.float32'> to uint8, using threshold of 0.5\n",
      "File already analysed! /media/nkd/data18931/ndwi_int8_13001_18931/ndwi_int8_18045.tif\n",
      "/media/nkd/data18931/ndwi_int8_13001_18931/ndwi_int8_18046.tif\n",
      "the size of current NDWI_img 11356 11356\n"
     ]
    },
    {
     "name": "stderr",
     "output_type": "stream",
     "text": [
      "900it [00:44, 20.37it/s]\n"
     ]
    },
    {
     "name": "stdout",
     "output_type": "stream",
     "text": [
      "Converting prediction from <class 'numpy.float32'> to uint8, using threshold of 0.5\n",
      "File already analysed! /media/nkd/data18931/ndwi_int8_13001_18931/ndwi_int8_18046.tif\n",
      "/media/nkd/data18931/ndwi_int8_13001_18931/ndwi_int8_18047.tif\n",
      "the size of current NDWI_img 11356 11356\n"
     ]
    },
    {
     "name": "stderr",
     "output_type": "stream",
     "text": [
      "900it [00:44, 20.40it/s]\n"
     ]
    },
    {
     "name": "stdout",
     "output_type": "stream",
     "text": [
      "Converting prediction from <class 'numpy.float32'> to uint8, using threshold of 0.5\n",
      "File already analysed! /media/nkd/data18931/ndwi_int8_13001_18931/ndwi_int8_18047.tif\n",
      "/media/nkd/data18931/ndwi_int8_13001_18931/ndwi_int8_18048.tif\n",
      "the size of current NDWI_img 11356 11356\n"
     ]
    },
    {
     "name": "stderr",
     "output_type": "stream",
     "text": [
      "900it [00:48, 18.48it/s]\n"
     ]
    },
    {
     "name": "stdout",
     "output_type": "stream",
     "text": [
      "Converting prediction from <class 'numpy.float32'> to uint8, using threshold of 0.5\n",
      "File already analysed! /media/nkd/data18931/ndwi_int8_13001_18931/ndwi_int8_18048.tif\n",
      "/media/nkd/data18931/ndwi_int8_13001_18931/ndwi_int8_18049.tif\n",
      "the size of current NDWI_img 11355 11356\n"
     ]
    },
    {
     "name": "stderr",
     "output_type": "stream",
     "text": [
      "900it [00:51, 17.61it/s]\n"
     ]
    },
    {
     "name": "stdout",
     "output_type": "stream",
     "text": [
      "Converting prediction from <class 'numpy.float32'> to uint8, using threshold of 0.5\n",
      "File already analysed! /media/nkd/data18931/ndwi_int8_13001_18931/ndwi_int8_18049.tif\n",
      "/media/nkd/data18931/ndwi_int8_13001_18931/ndwi_int8_18050.tif\n",
      "the size of current NDWI_img 11355 11356\n"
     ]
    },
    {
     "name": "stderr",
     "output_type": "stream",
     "text": [
      "900it [00:57, 15.53it/s]\n"
     ]
    },
    {
     "name": "stdout",
     "output_type": "stream",
     "text": [
      "Converting prediction from <class 'numpy.float32'> to uint8, using threshold of 0.5\n",
      "File already analysed! /media/nkd/data18931/ndwi_int8_13001_18931/ndwi_int8_18050.tif\n",
      "/media/nkd/data18931/ndwi_int8_13001_18931/ndwi_int8_18051.tif\n",
      "the size of current NDWI_img 11355 11356\n"
     ]
    },
    {
     "name": "stderr",
     "output_type": "stream",
     "text": [
      "900it [00:54, 16.50it/s]\n"
     ]
    },
    {
     "name": "stdout",
     "output_type": "stream",
     "text": [
      "Converting prediction from <class 'numpy.float32'> to uint8, using threshold of 0.5\n",
      "File already analysed! /media/nkd/data18931/ndwi_int8_13001_18931/ndwi_int8_18051.tif\n",
      "/media/nkd/data18931/ndwi_int8_13001_18931/ndwi_int8_18052.tif\n",
      "the size of current NDWI_img 11355 11356\n"
     ]
    },
    {
     "name": "stderr",
     "output_type": "stream",
     "text": [
      "900it [00:46, 19.42it/s]\n"
     ]
    },
    {
     "name": "stdout",
     "output_type": "stream",
     "text": [
      "Converting prediction from <class 'numpy.float32'> to uint8, using threshold of 0.5\n",
      "File already analysed! /media/nkd/data18931/ndwi_int8_13001_18931/ndwi_int8_18052.tif\n",
      "/media/nkd/data18931/ndwi_int8_13001_18931/ndwi_int8_18053.tif\n",
      "the size of current NDWI_img 11355 11356\n"
     ]
    },
    {
     "name": "stderr",
     "output_type": "stream",
     "text": [
      "900it [00:46, 19.43it/s]\n"
     ]
    },
    {
     "name": "stdout",
     "output_type": "stream",
     "text": [
      "Converting prediction from <class 'numpy.float32'> to uint8, using threshold of 0.5\n",
      "File already analysed! /media/nkd/data18931/ndwi_int8_13001_18931/ndwi_int8_18053.tif\n",
      "/media/nkd/data18931/ndwi_int8_13001_18931/ndwi_int8_18054.tif\n",
      "the size of current NDWI_img 11356 11356\n"
     ]
    },
    {
     "name": "stderr",
     "output_type": "stream",
     "text": [
      "900it [00:46, 19.27it/s]\n"
     ]
    },
    {
     "name": "stdout",
     "output_type": "stream",
     "text": [
      "Converting prediction from <class 'numpy.float32'> to uint8, using threshold of 0.5\n",
      "File already analysed! /media/nkd/data18931/ndwi_int8_13001_18931/ndwi_int8_18054.tif\n",
      "/media/nkd/data18931/ndwi_int8_13001_18931/ndwi_int8_18055.tif\n",
      "the size of current NDWI_img 11356 11356\n"
     ]
    },
    {
     "name": "stderr",
     "output_type": "stream",
     "text": [
      "900it [00:56, 16.03it/s]\n"
     ]
    },
    {
     "name": "stdout",
     "output_type": "stream",
     "text": [
      "Converting prediction from <class 'numpy.float32'> to uint8, using threshold of 0.5\n",
      "File already analysed! /media/nkd/data18931/ndwi_int8_13001_18931/ndwi_int8_18055.tif\n",
      "/media/nkd/data18931/ndwi_int8_13001_18931/ndwi_int8_18056.tif\n",
      "the size of current NDWI_img 11356 11356\n"
     ]
    },
    {
     "name": "stderr",
     "output_type": "stream",
     "text": [
      "900it [01:01, 14.72it/s]\n"
     ]
    },
    {
     "name": "stdout",
     "output_type": "stream",
     "text": [
      "Converting prediction from <class 'numpy.float32'> to uint8, using threshold of 0.5\n",
      "File already analysed! /media/nkd/data18931/ndwi_int8_13001_18931/ndwi_int8_18056.tif\n",
      "/media/nkd/data18931/ndwi_int8_13001_18931/ndwi_int8_18057.tif\n",
      "the size of current NDWI_img 11356 11356\n"
     ]
    },
    {
     "name": "stderr",
     "output_type": "stream",
     "text": [
      "900it [01:02, 14.32it/s]\n"
     ]
    },
    {
     "name": "stdout",
     "output_type": "stream",
     "text": [
      "Converting prediction from <class 'numpy.float32'> to uint8, using threshold of 0.5\n",
      "File already analysed! /media/nkd/data18931/ndwi_int8_13001_18931/ndwi_int8_18057.tif\n",
      "/media/nkd/data18931/ndwi_int8_13001_18931/ndwi_int8_18058.tif\n",
      "the size of current NDWI_img 11356 11356\n"
     ]
    },
    {
     "name": "stderr",
     "output_type": "stream",
     "text": [
      "900it [00:44, 20.10it/s]\n"
     ]
    },
    {
     "name": "stdout",
     "output_type": "stream",
     "text": [
      "Converting prediction from <class 'numpy.float32'> to uint8, using threshold of 0.5\n",
      "File already analysed! /media/nkd/data18931/ndwi_int8_13001_18931/ndwi_int8_18058.tif\n",
      "/media/nkd/data18931/ndwi_int8_13001_18931/ndwi_int8_18059.tif\n",
      "the size of current NDWI_img 11356 11356\n"
     ]
    },
    {
     "name": "stderr",
     "output_type": "stream",
     "text": [
      "900it [00:45, 19.83it/s]\n"
     ]
    },
    {
     "name": "stdout",
     "output_type": "stream",
     "text": [
      "Converting prediction from <class 'numpy.float32'> to uint8, using threshold of 0.5\n",
      "File already analysed! /media/nkd/data18931/ndwi_int8_13001_18931/ndwi_int8_18059.tif\n",
      "/media/nkd/data18931/ndwi_int8_13001_18931/ndwi_int8_18060.tif\n",
      "the size of current NDWI_img 11356 11356\n"
     ]
    },
    {
     "name": "stderr",
     "output_type": "stream",
     "text": [
      "900it [00:58, 15.41it/s]\n"
     ]
    },
    {
     "name": "stdout",
     "output_type": "stream",
     "text": [
      "Converting prediction from <class 'numpy.float32'> to uint8, using threshold of 0.5\n",
      "File already analysed! /media/nkd/data18931/ndwi_int8_13001_18931/ndwi_int8_18060.tif\n",
      "/media/nkd/data18931/ndwi_int8_13001_18931/ndwi_int8_18061.tif\n",
      "the size of current NDWI_img 11356 11356\n"
     ]
    },
    {
     "name": "stderr",
     "output_type": "stream",
     "text": [
      "900it [00:34, 25.92it/s]\n"
     ]
    },
    {
     "name": "stdout",
     "output_type": "stream",
     "text": [
      "Converting prediction from <class 'numpy.float32'> to uint8, using threshold of 0.5\n",
      "File already analysed! /media/nkd/data18931/ndwi_int8_13001_18931/ndwi_int8_18061.tif\n",
      "/media/nkd/data18931/ndwi_int8_13001_18931/ndwi_int8_18062.tif\n",
      "the size of current NDWI_img 11356 11356\n"
     ]
    },
    {
     "name": "stderr",
     "output_type": "stream",
     "text": [
      "900it [00:44, 20.41it/s]\n"
     ]
    },
    {
     "name": "stdout",
     "output_type": "stream",
     "text": [
      "Converting prediction from <class 'numpy.float32'> to uint8, using threshold of 0.5\n",
      "File already analysed! /media/nkd/data18931/ndwi_int8_13001_18931/ndwi_int8_18062.tif\n",
      "/media/nkd/data18931/ndwi_int8_13001_18931/ndwi_int8_18063.tif\n",
      "the size of current NDWI_img 11356 11356\n"
     ]
    },
    {
     "name": "stderr",
     "output_type": "stream",
     "text": [
      "900it [00:46, 19.15it/s]\n"
     ]
    },
    {
     "name": "stdout",
     "output_type": "stream",
     "text": [
      "Converting prediction from <class 'numpy.float32'> to uint8, using threshold of 0.5\n",
      "File already analysed! /media/nkd/data18931/ndwi_int8_13001_18931/ndwi_int8_18063.tif\n",
      "/media/nkd/data18931/ndwi_int8_13001_18931/ndwi_int8_18064.tif\n",
      "the size of current NDWI_img 11356 11355\n"
     ]
    },
    {
     "name": "stderr",
     "output_type": "stream",
     "text": [
      "900it [00:43, 20.78it/s]\n"
     ]
    },
    {
     "name": "stdout",
     "output_type": "stream",
     "text": [
      "Converting prediction from <class 'numpy.float32'> to uint8, using threshold of 0.5\n",
      "File already analysed! /media/nkd/data18931/ndwi_int8_13001_18931/ndwi_int8_18064.tif\n",
      "/media/nkd/data18931/ndwi_int8_13001_18931/ndwi_int8_18065.tif\n",
      "the size of current NDWI_img 11356 11355\n"
     ]
    },
    {
     "name": "stderr",
     "output_type": "stream",
     "text": [
      "900it [00:45, 19.68it/s]\n"
     ]
    },
    {
     "name": "stdout",
     "output_type": "stream",
     "text": [
      "Converting prediction from <class 'numpy.float32'> to uint8, using threshold of 0.5\n",
      "File already analysed! /media/nkd/data18931/ndwi_int8_13001_18931/ndwi_int8_18065.tif\n",
      "/media/nkd/data18931/ndwi_int8_13001_18931/ndwi_int8_18066.tif\n",
      "the size of current NDWI_img 11356 11355\n"
     ]
    },
    {
     "name": "stderr",
     "output_type": "stream",
     "text": [
      "900it [00:55, 16.10it/s]\n"
     ]
    },
    {
     "name": "stdout",
     "output_type": "stream",
     "text": [
      "Converting prediction from <class 'numpy.float32'> to uint8, using threshold of 0.5\n",
      "File already analysed! /media/nkd/data18931/ndwi_int8_13001_18931/ndwi_int8_18066.tif\n",
      "/media/nkd/data18931/ndwi_int8_13001_18931/ndwi_int8_18067.tif\n",
      "the size of current NDWI_img 11356 11355\n"
     ]
    },
    {
     "name": "stderr",
     "output_type": "stream",
     "text": [
      "900it [00:45, 19.59it/s]\n"
     ]
    },
    {
     "name": "stdout",
     "output_type": "stream",
     "text": [
      "Converting prediction from <class 'numpy.float32'> to uint8, using threshold of 0.5\n",
      "File already analysed! /media/nkd/data18931/ndwi_int8_13001_18931/ndwi_int8_18067.tif\n",
      "/media/nkd/data18931/ndwi_int8_13001_18931/ndwi_int8_18068.tif\n",
      "the size of current NDWI_img 11356 11355\n"
     ]
    },
    {
     "name": "stderr",
     "output_type": "stream",
     "text": [
      "900it [00:58, 15.28it/s]\n"
     ]
    },
    {
     "name": "stdout",
     "output_type": "stream",
     "text": [
      "Converting prediction from <class 'numpy.float32'> to uint8, using threshold of 0.5\n",
      "File already analysed! /media/nkd/data18931/ndwi_int8_13001_18931/ndwi_int8_18068.tif\n",
      "/media/nkd/data18931/ndwi_int8_13001_18931/ndwi_int8_18069.tif\n",
      "the size of current NDWI_img 11356 11355\n"
     ]
    },
    {
     "name": "stderr",
     "output_type": "stream",
     "text": [
      "900it [00:46, 19.36it/s]\n"
     ]
    },
    {
     "name": "stdout",
     "output_type": "stream",
     "text": [
      "Converting prediction from <class 'numpy.float32'> to uint8, using threshold of 0.5\n",
      "File already analysed! /media/nkd/data18931/ndwi_int8_13001_18931/ndwi_int8_18069.tif\n",
      "/media/nkd/data18931/ndwi_int8_13001_18931/ndwi_int8_18070.tif\n",
      "the size of current NDWI_img 11356 11355\n"
     ]
    },
    {
     "name": "stderr",
     "output_type": "stream",
     "text": [
      "900it [00:45, 19.66it/s]\n"
     ]
    },
    {
     "name": "stdout",
     "output_type": "stream",
     "text": [
      "Converting prediction from <class 'numpy.float32'> to uint8, using threshold of 0.5\n",
      "File already analysed! /media/nkd/data18931/ndwi_int8_13001_18931/ndwi_int8_18070.tif\n",
      "/media/nkd/data18931/ndwi_int8_13001_18931/ndwi_int8_18071.tif\n",
      "the size of current NDWI_img 11356 11355\n"
     ]
    },
    {
     "name": "stderr",
     "output_type": "stream",
     "text": [
      "900it [00:52, 17.09it/s]\n"
     ]
    },
    {
     "name": "stdout",
     "output_type": "stream",
     "text": [
      "Converting prediction from <class 'numpy.float32'> to uint8, using threshold of 0.5\n",
      "File already analysed! /media/nkd/data18931/ndwi_int8_13001_18931/ndwi_int8_18071.tif\n",
      "/media/nkd/data18931/ndwi_int8_13001_18931/ndwi_int8_18072.tif\n",
      "the size of current NDWI_img 11356 11355\n"
     ]
    },
    {
     "name": "stderr",
     "output_type": "stream",
     "text": [
      "900it [00:50, 17.73it/s]\n"
     ]
    },
    {
     "name": "stdout",
     "output_type": "stream",
     "text": [
      "Converting prediction from <class 'numpy.float32'> to uint8, using threshold of 0.5\n",
      "File already analysed! /media/nkd/data18931/ndwi_int8_13001_18931/ndwi_int8_18072.tif\n",
      "/media/nkd/data18931/ndwi_int8_13001_18931/ndwi_int8_18073.tif\n",
      "the size of current NDWI_img 11356 11355\n"
     ]
    },
    {
     "name": "stderr",
     "output_type": "stream",
     "text": [
      "900it [00:47, 19.03it/s]\n"
     ]
    },
    {
     "name": "stdout",
     "output_type": "stream",
     "text": [
      "Converting prediction from <class 'numpy.float32'> to uint8, using threshold of 0.5\n",
      "File already analysed! /media/nkd/data18931/ndwi_int8_13001_18931/ndwi_int8_18073.tif\n",
      "/media/nkd/data18931/ndwi_int8_13001_18931/ndwi_int8_18074.tif\n",
      "the size of current NDWI_img 11355 11355\n"
     ]
    },
    {
     "name": "stderr",
     "output_type": "stream",
     "text": [
      "900it [00:32, 27.90it/s]\n"
     ]
    },
    {
     "name": "stdout",
     "output_type": "stream",
     "text": [
      "Converting prediction from <class 'numpy.float32'> to uint8, using threshold of 0.5\n",
      "File already analysed! /media/nkd/data18931/ndwi_int8_13001_18931/ndwi_int8_18074.tif\n",
      "/media/nkd/data18931/ndwi_int8_13001_18931/ndwi_int8_18075.tif\n",
      "the size of current NDWI_img 11355 11355\n"
     ]
    },
    {
     "name": "stderr",
     "output_type": "stream",
     "text": [
      "900it [00:32, 27.70it/s]\n"
     ]
    },
    {
     "name": "stdout",
     "output_type": "stream",
     "text": [
      "Converting prediction from <class 'numpy.float32'> to uint8, using threshold of 0.5\n",
      "File already analysed! /media/nkd/data18931/ndwi_int8_13001_18931/ndwi_int8_18075.tif\n",
      "/media/nkd/data18931/ndwi_int8_13001_18931/ndwi_int8_18076.tif\n",
      "the size of current NDWI_img 11356 11355\n"
     ]
    },
    {
     "name": "stderr",
     "output_type": "stream",
     "text": [
      "900it [00:45, 19.90it/s]\n"
     ]
    },
    {
     "name": "stdout",
     "output_type": "stream",
     "text": [
      "Converting prediction from <class 'numpy.float32'> to uint8, using threshold of 0.5\n",
      "File already analysed! /media/nkd/data18931/ndwi_int8_13001_18931/ndwi_int8_18076.tif\n",
      "/media/nkd/data18931/ndwi_int8_13001_18931/ndwi_int8_18077.tif\n",
      "the size of current NDWI_img 11356 11355\n"
     ]
    },
    {
     "name": "stderr",
     "output_type": "stream",
     "text": [
      "900it [00:44, 20.26it/s]\n"
     ]
    },
    {
     "name": "stdout",
     "output_type": "stream",
     "text": [
      "Converting prediction from <class 'numpy.float32'> to uint8, using threshold of 0.5\n",
      "File already analysed! /media/nkd/data18931/ndwi_int8_13001_18931/ndwi_int8_18077.tif\n",
      "/media/nkd/data18931/ndwi_int8_13001_18931/ndwi_int8_18078.tif\n",
      "the size of current NDWI_img 11356 11355\n"
     ]
    },
    {
     "name": "stderr",
     "output_type": "stream",
     "text": [
      "900it [00:45, 19.75it/s]\n"
     ]
    },
    {
     "name": "stdout",
     "output_type": "stream",
     "text": [
      "Converting prediction from <class 'numpy.float32'> to uint8, using threshold of 0.5\n",
      "File already analysed! /media/nkd/data18931/ndwi_int8_13001_18931/ndwi_int8_18078.tif\n",
      "/media/nkd/data18931/ndwi_int8_13001_18931/ndwi_int8_18079.tif\n",
      "the size of current NDWI_img 11355 11355\n"
     ]
    },
    {
     "name": "stderr",
     "output_type": "stream",
     "text": [
      "900it [00:32, 27.39it/s]\n"
     ]
    },
    {
     "name": "stdout",
     "output_type": "stream",
     "text": [
      "Converting prediction from <class 'numpy.float32'> to uint8, using threshold of 0.5\n",
      "File already analysed! /media/nkd/data18931/ndwi_int8_13001_18931/ndwi_int8_18079.tif\n",
      "/media/nkd/data18931/ndwi_int8_13001_18931/ndwi_int8_18080.tif\n",
      "the size of current NDWI_img 11355 11355\n"
     ]
    },
    {
     "name": "stderr",
     "output_type": "stream",
     "text": [
      "900it [00:33, 26.95it/s]\n"
     ]
    },
    {
     "name": "stdout",
     "output_type": "stream",
     "text": [
      "Converting prediction from <class 'numpy.float32'> to uint8, using threshold of 0.5\n",
      "File already analysed! /media/nkd/data18931/ndwi_int8_13001_18931/ndwi_int8_18080.tif\n",
      "/media/nkd/data18931/ndwi_int8_13001_18931/ndwi_int8_18081.tif\n",
      "the size of current NDWI_img 11356 11355\n"
     ]
    },
    {
     "name": "stderr",
     "output_type": "stream",
     "text": [
      "900it [00:48, 18.64it/s]\n"
     ]
    },
    {
     "name": "stdout",
     "output_type": "stream",
     "text": [
      "Converting prediction from <class 'numpy.float32'> to uint8, using threshold of 0.5\n",
      "File already analysed! /media/nkd/data18931/ndwi_int8_13001_18931/ndwi_int8_18081.tif\n",
      "/media/nkd/data18931/ndwi_int8_13001_18931/ndwi_int8_18082.tif\n",
      "the size of current NDWI_img 11356 11355\n"
     ]
    },
    {
     "name": "stderr",
     "output_type": "stream",
     "text": [
      "900it [00:46, 19.52it/s]\n"
     ]
    },
    {
     "name": "stdout",
     "output_type": "stream",
     "text": [
      "Converting prediction from <class 'numpy.float32'> to uint8, using threshold of 0.5\n",
      "File already analysed! /media/nkd/data18931/ndwi_int8_13001_18931/ndwi_int8_18082.tif\n",
      "/media/nkd/data18931/ndwi_int8_13001_18931/ndwi_int8_18083.tif\n",
      "the size of current NDWI_img 11356 11355\n"
     ]
    },
    {
     "name": "stderr",
     "output_type": "stream",
     "text": [
      "900it [00:45, 19.67it/s]\n"
     ]
    },
    {
     "name": "stdout",
     "output_type": "stream",
     "text": [
      "Converting prediction from <class 'numpy.float32'> to uint8, using threshold of 0.5\n",
      "File already analysed! /media/nkd/data18931/ndwi_int8_13001_18931/ndwi_int8_18083.tif\n",
      "/media/nkd/data18931/ndwi_int8_13001_18931/ndwi_int8_18084.tif\n",
      "the size of current NDWI_img 11356 11355\n"
     ]
    },
    {
     "name": "stderr",
     "output_type": "stream",
     "text": [
      "900it [00:47, 18.92it/s]\n"
     ]
    },
    {
     "name": "stdout",
     "output_type": "stream",
     "text": [
      "Converting prediction from <class 'numpy.float32'> to uint8, using threshold of 0.5\n",
      "File already analysed! /media/nkd/data18931/ndwi_int8_13001_18931/ndwi_int8_18084.tif\n",
      "/media/nkd/data18931/ndwi_int8_13001_18931/ndwi_int8_18085.tif\n",
      "the size of current NDWI_img 11356 11355\n"
     ]
    },
    {
     "name": "stderr",
     "output_type": "stream",
     "text": [
      "900it [00:46, 19.34it/s]\n"
     ]
    },
    {
     "name": "stdout",
     "output_type": "stream",
     "text": [
      "Converting prediction from <class 'numpy.float32'> to uint8, using threshold of 0.5\n",
      "File already analysed! /media/nkd/data18931/ndwi_int8_13001_18931/ndwi_int8_18085.tif\n",
      "/media/nkd/data18931/ndwi_int8_13001_18931/ndwi_int8_18086.tif\n",
      "the size of current NDWI_img 11356 11356\n"
     ]
    },
    {
     "name": "stderr",
     "output_type": "stream",
     "text": [
      "900it [00:48, 18.60it/s]\n"
     ]
    },
    {
     "name": "stdout",
     "output_type": "stream",
     "text": [
      "Converting prediction from <class 'numpy.float32'> to uint8, using threshold of 0.5\n",
      "File already analysed! /media/nkd/data18931/ndwi_int8_13001_18931/ndwi_int8_18086.tif\n",
      "/media/nkd/data18931/ndwi_int8_13001_18931/ndwi_int8_18087.tif\n",
      "the size of current NDWI_img 11356 11356\n"
     ]
    },
    {
     "name": "stderr",
     "output_type": "stream",
     "text": [
      "900it [00:56, 15.84it/s]\n"
     ]
    },
    {
     "name": "stdout",
     "output_type": "stream",
     "text": [
      "Converting prediction from <class 'numpy.float32'> to uint8, using threshold of 0.5\n",
      "File already analysed! /media/nkd/data18931/ndwi_int8_13001_18931/ndwi_int8_18087.tif\n",
      "/media/nkd/data18931/ndwi_int8_13001_18931/ndwi_int8_18088.tif\n",
      "the size of current NDWI_img 11355 11356\n"
     ]
    },
    {
     "name": "stderr",
     "output_type": "stream",
     "text": [
      "900it [01:03, 14.17it/s]\n"
     ]
    },
    {
     "name": "stdout",
     "output_type": "stream",
     "text": [
      "Converting prediction from <class 'numpy.float32'> to uint8, using threshold of 0.5\n",
      "File already analysed! /media/nkd/data18931/ndwi_int8_13001_18931/ndwi_int8_18088.tif\n",
      "/media/nkd/data18931/ndwi_int8_13001_18931/ndwi_int8_18089.tif\n",
      "the size of current NDWI_img 11355 11356\n"
     ]
    },
    {
     "name": "stderr",
     "output_type": "stream",
     "text": [
      "900it [00:59, 15.09it/s]\n"
     ]
    },
    {
     "name": "stdout",
     "output_type": "stream",
     "text": [
      "Converting prediction from <class 'numpy.float32'> to uint8, using threshold of 0.5\n",
      "File already analysed! /media/nkd/data18931/ndwi_int8_13001_18931/ndwi_int8_18089.tif\n",
      "/media/nkd/data18931/ndwi_int8_13001_18931/ndwi_int8_18090.tif\n",
      "the size of current NDWI_img 11355 11356\n"
     ]
    },
    {
     "name": "stderr",
     "output_type": "stream",
     "text": [
      "900it [00:33, 27.25it/s]\n"
     ]
    },
    {
     "name": "stdout",
     "output_type": "stream",
     "text": [
      "Converting prediction from <class 'numpy.float32'> to uint8, using threshold of 0.5\n",
      "File already analysed! /media/nkd/data18931/ndwi_int8_13001_18931/ndwi_int8_18090.tif\n",
      "/media/nkd/data18931/ndwi_int8_13001_18931/ndwi_int8_18091.tif\n",
      "the size of current NDWI_img 11356 11356\n"
     ]
    },
    {
     "name": "stderr",
     "output_type": "stream",
     "text": [
      "900it [00:50, 17.95it/s]\n"
     ]
    },
    {
     "name": "stdout",
     "output_type": "stream",
     "text": [
      "Converting prediction from <class 'numpy.float32'> to uint8, using threshold of 0.5\n",
      "File already analysed! /media/nkd/data18931/ndwi_int8_13001_18931/ndwi_int8_18091.tif\n",
      "/media/nkd/data18931/ndwi_int8_13001_18931/ndwi_int8_18092.tif\n",
      "the size of current NDWI_img 11356 11356\n"
     ]
    },
    {
     "name": "stderr",
     "output_type": "stream",
     "text": [
      "900it [00:50, 17.96it/s]\n"
     ]
    },
    {
     "name": "stdout",
     "output_type": "stream",
     "text": [
      "Converting prediction from <class 'numpy.float32'> to uint8, using threshold of 0.5\n",
      "File already analysed! /media/nkd/data18931/ndwi_int8_13001_18931/ndwi_int8_18092.tif\n",
      "/media/nkd/data18931/ndwi_int8_13001_18931/ndwi_int8_18093.tif\n",
      "the size of current NDWI_img 11356 11356\n"
     ]
    },
    {
     "name": "stderr",
     "output_type": "stream",
     "text": [
      "900it [00:46, 19.21it/s]\n"
     ]
    },
    {
     "name": "stdout",
     "output_type": "stream",
     "text": [
      "Converting prediction from <class 'numpy.float32'> to uint8, using threshold of 0.5\n",
      "File already analysed! /media/nkd/data18931/ndwi_int8_13001_18931/ndwi_int8_18093.tif\n",
      "/media/nkd/data18931/ndwi_int8_13001_18931/ndwi_int8_18094.tif\n",
      "the size of current NDWI_img 11356 11356\n"
     ]
    },
    {
     "name": "stderr",
     "output_type": "stream",
     "text": [
      "900it [00:44, 20.43it/s]\n"
     ]
    },
    {
     "name": "stdout",
     "output_type": "stream",
     "text": [
      "Converting prediction from <class 'numpy.float32'> to uint8, using threshold of 0.5\n",
      "File already analysed! /media/nkd/data18931/ndwi_int8_13001_18931/ndwi_int8_18094.tif\n",
      "/media/nkd/data18931/ndwi_int8_13001_18931/ndwi_int8_18095.tif\n",
      "the size of current NDWI_img 11356 11356\n"
     ]
    },
    {
     "name": "stderr",
     "output_type": "stream",
     "text": [
      "900it [00:49, 18.04it/s]\n"
     ]
    },
    {
     "name": "stdout",
     "output_type": "stream",
     "text": [
      "Converting prediction from <class 'numpy.float32'> to uint8, using threshold of 0.5\n",
      "File already analysed! /media/nkd/data18931/ndwi_int8_13001_18931/ndwi_int8_18095.tif\n",
      "/media/nkd/data18931/ndwi_int8_13001_18931/ndwi_int8_18096.tif\n",
      "the size of current NDWI_img 11356 11356\n"
     ]
    },
    {
     "name": "stderr",
     "output_type": "stream",
     "text": [
      "900it [00:57, 15.71it/s]\n"
     ]
    },
    {
     "name": "stdout",
     "output_type": "stream",
     "text": [
      "Converting prediction from <class 'numpy.float32'> to uint8, using threshold of 0.5\n",
      "File already analysed! /media/nkd/data18931/ndwi_int8_13001_18931/ndwi_int8_18096.tif\n",
      "/media/nkd/data18931/ndwi_int8_13001_18931/ndwi_int8_18097.tif\n",
      "the size of current NDWI_img 11356 11356\n"
     ]
    },
    {
     "name": "stderr",
     "output_type": "stream",
     "text": [
      "900it [00:58, 15.48it/s]\n"
     ]
    },
    {
     "name": "stdout",
     "output_type": "stream",
     "text": [
      "Converting prediction from <class 'numpy.float32'> to uint8, using threshold of 0.5\n",
      "File already analysed! /media/nkd/data18931/ndwi_int8_13001_18931/ndwi_int8_18097.tif\n",
      "/media/nkd/data18931/ndwi_int8_13001_18931/ndwi_int8_18098.tif\n",
      "the size of current NDWI_img 11356 11356\n"
     ]
    },
    {
     "name": "stderr",
     "output_type": "stream",
     "text": [
      "900it [00:40, 22.13it/s]\n"
     ]
    },
    {
     "name": "stdout",
     "output_type": "stream",
     "text": [
      "Converting prediction from <class 'numpy.float32'> to uint8, using threshold of 0.5\n",
      "File already analysed! /media/nkd/data18931/ndwi_int8_13001_18931/ndwi_int8_18098.tif\n",
      "/media/nkd/data18931/ndwi_int8_13001_18931/ndwi_int8_18099.tif\n",
      "the size of current NDWI_img 11356 11355\n"
     ]
    },
    {
     "name": "stderr",
     "output_type": "stream",
     "text": [
      "900it [01:07, 13.26it/s]\n"
     ]
    },
    {
     "name": "stdout",
     "output_type": "stream",
     "text": [
      "Converting prediction from <class 'numpy.float32'> to uint8, using threshold of 0.5\n",
      "File already analysed! /media/nkd/data18931/ndwi_int8_13001_18931/ndwi_int8_18099.tif\n",
      "/media/nkd/data18931/ndwi_int8_13001_18931/ndwi_int8_18100.tif\n",
      "the size of current NDWI_img 11356 11355\n"
     ]
    },
    {
     "name": "stderr",
     "output_type": "stream",
     "text": [
      "900it [01:10, 12.68it/s]\n"
     ]
    },
    {
     "name": "stdout",
     "output_type": "stream",
     "text": [
      "Converting prediction from <class 'numpy.float32'> to uint8, using threshold of 0.5\n",
      "File already analysed! /media/nkd/data18931/ndwi_int8_13001_18931/ndwi_int8_18100.tif\n",
      "/media/nkd/data18931/ndwi_int8_13001_18931/ndwi_int8_18101.tif\n",
      "the size of current NDWI_img 11356 11355\n"
     ]
    },
    {
     "name": "stderr",
     "output_type": "stream",
     "text": [
      "900it [01:10, 12.77it/s]\n"
     ]
    },
    {
     "name": "stdout",
     "output_type": "stream",
     "text": [
      "Converting prediction from <class 'numpy.float32'> to uint8, using threshold of 0.5\n",
      "File already analysed! /media/nkd/data18931/ndwi_int8_13001_18931/ndwi_int8_18101.tif\n",
      "/media/nkd/data18931/ndwi_int8_13001_18931/ndwi_int8_18102.tif\n",
      "the size of current NDWI_img 11356 11355\n"
     ]
    },
    {
     "name": "stderr",
     "output_type": "stream",
     "text": [
      "900it [01:11, 12.53it/s]\n"
     ]
    },
    {
     "name": "stdout",
     "output_type": "stream",
     "text": [
      "Converting prediction from <class 'numpy.float32'> to uint8, using threshold of 0.5\n",
      "File already analysed! /media/nkd/data18931/ndwi_int8_13001_18931/ndwi_int8_18102.tif\n",
      "/media/nkd/data18931/ndwi_int8_13001_18931/ndwi_int8_18103.tif\n",
      "the size of current NDWI_img 11356 11355\n"
     ]
    },
    {
     "name": "stderr",
     "output_type": "stream",
     "text": [
      "900it [00:56, 16.02it/s]\n"
     ]
    },
    {
     "name": "stdout",
     "output_type": "stream",
     "text": [
      "Converting prediction from <class 'numpy.float32'> to uint8, using threshold of 0.5\n",
      "File already analysed! /media/nkd/data18931/ndwi_int8_13001_18931/ndwi_int8_18103.tif\n",
      "/media/nkd/data18931/ndwi_int8_13001_18931/ndwi_int8_18104.tif\n",
      "the size of current NDWI_img 11356 11355\n"
     ]
    },
    {
     "name": "stderr",
     "output_type": "stream",
     "text": [
      "900it [00:42, 21.05it/s]\n"
     ]
    },
    {
     "name": "stdout",
     "output_type": "stream",
     "text": [
      "Converting prediction from <class 'numpy.float32'> to uint8, using threshold of 0.5\n",
      "File already analysed! /media/nkd/data18931/ndwi_int8_13001_18931/ndwi_int8_18104.tif\n",
      "/media/nkd/data18931/ndwi_int8_13001_18931/ndwi_int8_18105.tif\n",
      "the size of current NDWI_img 11356 11355\n"
     ]
    },
    {
     "name": "stderr",
     "output_type": "stream",
     "text": [
      "900it [00:41, 21.59it/s]\n"
     ]
    },
    {
     "name": "stdout",
     "output_type": "stream",
     "text": [
      "Converting prediction from <class 'numpy.float32'> to uint8, using threshold of 0.5\n",
      "File already analysed! /media/nkd/data18931/ndwi_int8_13001_18931/ndwi_int8_18105.tif\n",
      "/media/nkd/data18931/ndwi_int8_13001_18931/ndwi_int8_18106.tif\n",
      "the size of current NDWI_img 11356 11355\n"
     ]
    },
    {
     "name": "stderr",
     "output_type": "stream",
     "text": [
      "900it [01:12, 12.39it/s]\n"
     ]
    },
    {
     "name": "stdout",
     "output_type": "stream",
     "text": [
      "Converting prediction from <class 'numpy.float32'> to uint8, using threshold of 0.5\n",
      "File already analysed! /media/nkd/data18931/ndwi_int8_13001_18931/ndwi_int8_18106.tif\n",
      "/media/nkd/data18931/ndwi_int8_13001_18931/ndwi_int8_18107.tif\n",
      "the size of current NDWI_img 11356 11355\n"
     ]
    },
    {
     "name": "stderr",
     "output_type": "stream",
     "text": [
      "900it [01:13, 12.20it/s]\n"
     ]
    },
    {
     "name": "stdout",
     "output_type": "stream",
     "text": [
      "Converting prediction from <class 'numpy.float32'> to uint8, using threshold of 0.5\n",
      "File already analysed! /media/nkd/data18931/ndwi_int8_13001_18931/ndwi_int8_18107.tif\n",
      "/media/nkd/data18931/ndwi_int8_13001_18931/ndwi_int8_18108.tif\n",
      "the size of current NDWI_img 11356 11355\n"
     ]
    },
    {
     "name": "stderr",
     "output_type": "stream",
     "text": [
      "900it [01:12, 12.49it/s]\n"
     ]
    },
    {
     "name": "stdout",
     "output_type": "stream",
     "text": [
      "Converting prediction from <class 'numpy.float32'> to uint8, using threshold of 0.5\n",
      "File already analysed! /media/nkd/data18931/ndwi_int8_13001_18931/ndwi_int8_18108.tif\n",
      "/media/nkd/data18931/ndwi_int8_13001_18931/ndwi_int8_18109.tif\n",
      "the size of current NDWI_img 11356 11355\n"
     ]
    },
    {
     "name": "stderr",
     "output_type": "stream",
     "text": [
      "900it [01:11, 12.66it/s]\n"
     ]
    },
    {
     "name": "stdout",
     "output_type": "stream",
     "text": [
      "Converting prediction from <class 'numpy.float32'> to uint8, using threshold of 0.5\n",
      "File already analysed! /media/nkd/data18931/ndwi_int8_13001_18931/ndwi_int8_18109.tif\n",
      "/media/nkd/data18931/ndwi_int8_13001_18931/ndwi_int8_18110.tif\n",
      "the size of current NDWI_img 11356 11355\n"
     ]
    },
    {
     "name": "stderr",
     "output_type": "stream",
     "text": [
      "900it [01:11, 12.65it/s]\n"
     ]
    },
    {
     "name": "stdout",
     "output_type": "stream",
     "text": [
      "Converting prediction from <class 'numpy.float32'> to uint8, using threshold of 0.5\n",
      "File already analysed! /media/nkd/data18931/ndwi_int8_13001_18931/ndwi_int8_18110.tif\n",
      "/media/nkd/data18931/ndwi_int8_13001_18931/ndwi_int8_18111.tif\n",
      "the size of current NDWI_img 11356 11355\n"
     ]
    },
    {
     "name": "stderr",
     "output_type": "stream",
     "text": [
      "900it [01:14, 12.13it/s]\n"
     ]
    },
    {
     "name": "stdout",
     "output_type": "stream",
     "text": [
      "Converting prediction from <class 'numpy.float32'> to uint8, using threshold of 0.5\n",
      "File already analysed! /media/nkd/data18931/ndwi_int8_13001_18931/ndwi_int8_18111.tif\n",
      "/media/nkd/data18931/ndwi_int8_13001_18931/ndwi_int8_18112.tif\n",
      "the size of current NDWI_img 11356 11355\n"
     ]
    },
    {
     "name": "stderr",
     "output_type": "stream",
     "text": [
      "900it [01:06, 13.53it/s]\n"
     ]
    },
    {
     "name": "stdout",
     "output_type": "stream",
     "text": [
      "Converting prediction from <class 'numpy.float32'> to uint8, using threshold of 0.5\n",
      "File already analysed! /media/nkd/data18931/ndwi_int8_13001_18931/ndwi_int8_18112.tif\n",
      "/media/nkd/data18931/ndwi_int8_13001_18931/ndwi_int8_18113.tif\n",
      "the size of current NDWI_img 11355 11355\n"
     ]
    },
    {
     "name": "stderr",
     "output_type": "stream",
     "text": [
      "900it [00:59, 15.23it/s]\n"
     ]
    },
    {
     "name": "stdout",
     "output_type": "stream",
     "text": [
      "Converting prediction from <class 'numpy.float32'> to uint8, using threshold of 0.5\n",
      "File already analysed! /media/nkd/data18931/ndwi_int8_13001_18931/ndwi_int8_18113.tif\n",
      "/media/nkd/data18931/ndwi_int8_13001_18931/ndwi_int8_18114.tif\n",
      "the size of current NDWI_img 11355 11355\n"
     ]
    },
    {
     "name": "stderr",
     "output_type": "stream",
     "text": [
      "900it [01:03, 14.19it/s]\n"
     ]
    },
    {
     "name": "stdout",
     "output_type": "stream",
     "text": [
      "Converting prediction from <class 'numpy.float32'> to uint8, using threshold of 0.5\n",
      "File already analysed! /media/nkd/data18931/ndwi_int8_13001_18931/ndwi_int8_18114.tif\n",
      "/media/nkd/data18931/ndwi_int8_13001_18931/ndwi_int8_18115.tif\n",
      "the size of current NDWI_img 11355 11355\n"
     ]
    },
    {
     "name": "stderr",
     "output_type": "stream",
     "text": [
      "900it [01:00, 14.88it/s]\n"
     ]
    },
    {
     "name": "stdout",
     "output_type": "stream",
     "text": [
      "Converting prediction from <class 'numpy.float32'> to uint8, using threshold of 0.5\n",
      "File already analysed! /media/nkd/data18931/ndwi_int8_13001_18931/ndwi_int8_18115.tif\n",
      "/media/nkd/data18931/ndwi_int8_13001_18931/ndwi_int8_18116.tif\n",
      "the size of current NDWI_img 11356 11355\n"
     ]
    },
    {
     "name": "stderr",
     "output_type": "stream",
     "text": [
      "900it [01:08, 13.09it/s]\n"
     ]
    },
    {
     "name": "stdout",
     "output_type": "stream",
     "text": [
      "Converting prediction from <class 'numpy.float32'> to uint8, using threshold of 0.5\n",
      "File already analysed! /media/nkd/data18931/ndwi_int8_13001_18931/ndwi_int8_18116.tif\n",
      "/media/nkd/data18931/ndwi_int8_13001_18931/ndwi_int8_18117.tif\n",
      "the size of current NDWI_img 11356 11355\n"
     ]
    },
    {
     "name": "stderr",
     "output_type": "stream",
     "text": [
      "900it [01:11, 12.58it/s]\n"
     ]
    },
    {
     "name": "stdout",
     "output_type": "stream",
     "text": [
      "Converting prediction from <class 'numpy.float32'> to uint8, using threshold of 0.5\n",
      "File already analysed! /media/nkd/data18931/ndwi_int8_13001_18931/ndwi_int8_18117.tif\n",
      "/media/nkd/data18931/ndwi_int8_13001_18931/ndwi_int8_18118.tif\n",
      "the size of current NDWI_img 11356 11355\n"
     ]
    },
    {
     "name": "stderr",
     "output_type": "stream",
     "text": [
      "900it [01:13, 12.24it/s]\n"
     ]
    },
    {
     "name": "stdout",
     "output_type": "stream",
     "text": [
      "Converting prediction from <class 'numpy.float32'> to uint8, using threshold of 0.5\n",
      "File already analysed! /media/nkd/data18931/ndwi_int8_13001_18931/ndwi_int8_18118.tif\n",
      "/media/nkd/data18931/ndwi_int8_13001_18931/ndwi_int8_18119.tif\n",
      "the size of current NDWI_img 11356 11355\n"
     ]
    },
    {
     "name": "stderr",
     "output_type": "stream",
     "text": [
      "900it [01:13, 12.33it/s]\n"
     ]
    },
    {
     "name": "stdout",
     "output_type": "stream",
     "text": [
      "Converting prediction from <class 'numpy.float32'> to uint8, using threshold of 0.5\n",
      "File already analysed! /media/nkd/data18931/ndwi_int8_13001_18931/ndwi_int8_18119.tif\n",
      "/media/nkd/data18931/ndwi_int8_13001_18931/ndwi_int8_18120.tif\n",
      "the size of current NDWI_img 11356 11355\n"
     ]
    },
    {
     "name": "stderr",
     "output_type": "stream",
     "text": [
      "900it [01:14, 12.03it/s]\n"
     ]
    },
    {
     "name": "stdout",
     "output_type": "stream",
     "text": [
      "Converting prediction from <class 'numpy.float32'> to uint8, using threshold of 0.5\n",
      "File already analysed! /media/nkd/data18931/ndwi_int8_13001_18931/ndwi_int8_18120.tif\n",
      "/media/nkd/data18931/ndwi_int8_13001_18931/ndwi_int8_18121.tif\n",
      "the size of current NDWI_img 11356 11355\n"
     ]
    },
    {
     "name": "stderr",
     "output_type": "stream",
     "text": [
      "900it [01:15, 11.86it/s]\n"
     ]
    },
    {
     "name": "stdout",
     "output_type": "stream",
     "text": [
      "Converting prediction from <class 'numpy.float32'> to uint8, using threshold of 0.5\n",
      "File already analysed! /media/nkd/data18931/ndwi_int8_13001_18931/ndwi_int8_18121.tif\n",
      "/media/nkd/data18931/ndwi_int8_13001_18931/ndwi_int8_18122.tif\n",
      "the size of current NDWI_img 11356 11355\n"
     ]
    },
    {
     "name": "stderr",
     "output_type": "stream",
     "text": [
      "900it [01:18, 11.43it/s]\n"
     ]
    },
    {
     "name": "stdout",
     "output_type": "stream",
     "text": [
      "Converting prediction from <class 'numpy.float32'> to uint8, using threshold of 0.5\n",
      "File already analysed! /media/nkd/data18931/ndwi_int8_13001_18931/ndwi_int8_18122.tif\n",
      "/media/nkd/data18931/ndwi_int8_13001_18931/ndwi_int8_18123.tif\n",
      "the size of current NDWI_img 11355 11355\n"
     ]
    },
    {
     "name": "stderr",
     "output_type": "stream",
     "text": [
      "900it [01:16, 11.69it/s]\n"
     ]
    },
    {
     "name": "stdout",
     "output_type": "stream",
     "text": [
      "Converting prediction from <class 'numpy.float32'> to uint8, using threshold of 0.5\n",
      "File already analysed! /media/nkd/data18931/ndwi_int8_13001_18931/ndwi_int8_18123.tif\n",
      "/media/nkd/data18931/ndwi_int8_13001_18931/ndwi_int8_18124.tif\n",
      "the size of current NDWI_img 11355 11355\n"
     ]
    },
    {
     "name": "stderr",
     "output_type": "stream",
     "text": [
      "900it [01:14, 12.04it/s]\n"
     ]
    },
    {
     "name": "stdout",
     "output_type": "stream",
     "text": [
      "Converting prediction from <class 'numpy.float32'> to uint8, using threshold of 0.5\n",
      "File already analysed! /media/nkd/data18931/ndwi_int8_13001_18931/ndwi_int8_18124.tif\n",
      "/media/nkd/data18931/ndwi_int8_13001_18931/ndwi_int8_18125.tif\n",
      "the size of current NDWI_img 11355 11355\n"
     ]
    },
    {
     "name": "stderr",
     "output_type": "stream",
     "text": [
      "900it [01:14, 12.09it/s]\n"
     ]
    },
    {
     "name": "stdout",
     "output_type": "stream",
     "text": [
      "Converting prediction from <class 'numpy.float32'> to uint8, using threshold of 0.5\n",
      "File already analysed! /media/nkd/data18931/ndwi_int8_13001_18931/ndwi_int8_18125.tif\n",
      "/media/nkd/data18931/ndwi_int8_13001_18931/ndwi_int8_18126.tif\n",
      "the size of current NDWI_img 11356 11355\n"
     ]
    },
    {
     "name": "stderr",
     "output_type": "stream",
     "text": [
      "900it [01:04, 13.96it/s]\n"
     ]
    },
    {
     "name": "stdout",
     "output_type": "stream",
     "text": [
      "Converting prediction from <class 'numpy.float32'> to uint8, using threshold of 0.5\n",
      "File already analysed! /media/nkd/data18931/ndwi_int8_13001_18931/ndwi_int8_18126.tif\n",
      "/media/nkd/data18931/ndwi_int8_13001_18931/ndwi_int8_18127.tif\n",
      "the size of current NDWI_img 11356 11355\n"
     ]
    },
    {
     "name": "stderr",
     "output_type": "stream",
     "text": [
      "900it [01:04, 13.94it/s]\n"
     ]
    },
    {
     "name": "stdout",
     "output_type": "stream",
     "text": [
      "Converting prediction from <class 'numpy.float32'> to uint8, using threshold of 0.5\n",
      "File already analysed! /media/nkd/data18931/ndwi_int8_13001_18931/ndwi_int8_18127.tif\n",
      "/media/nkd/data18931/ndwi_int8_13001_18931/ndwi_int8_18128.tif\n",
      "the size of current NDWI_img 11356 11355\n"
     ]
    },
    {
     "name": "stderr",
     "output_type": "stream",
     "text": [
      "900it [01:08, 13.08it/s]\n"
     ]
    },
    {
     "name": "stdout",
     "output_type": "stream",
     "text": [
      "Converting prediction from <class 'numpy.float32'> to uint8, using threshold of 0.5\n",
      "File already analysed! /media/nkd/data18931/ndwi_int8_13001_18931/ndwi_int8_18128.tif\n",
      "/media/nkd/data18931/ndwi_int8_13001_18931/ndwi_int8_18129.tif\n",
      "the size of current NDWI_img 11356 11355\n"
     ]
    },
    {
     "name": "stderr",
     "output_type": "stream",
     "text": [
      "900it [01:07, 13.41it/s]\n"
     ]
    },
    {
     "name": "stdout",
     "output_type": "stream",
     "text": [
      "Converting prediction from <class 'numpy.float32'> to uint8, using threshold of 0.5\n",
      "File already analysed! /media/nkd/data18931/ndwi_int8_13001_18931/ndwi_int8_18129.tif\n",
      "/media/nkd/data18931/ndwi_int8_13001_18931/ndwi_int8_18130.tif\n",
      "the size of current NDWI_img 11356 11355\n"
     ]
    },
    {
     "name": "stderr",
     "output_type": "stream",
     "text": [
      "900it [01:09, 12.89it/s]\n"
     ]
    },
    {
     "name": "stdout",
     "output_type": "stream",
     "text": [
      "Converting prediction from <class 'numpy.float32'> to uint8, using threshold of 0.5\n",
      "File already analysed! /media/nkd/data18931/ndwi_int8_13001_18931/ndwi_int8_18130.tif\n",
      "/media/nkd/data18931/ndwi_int8_13001_18931/ndwi_int8_18131.tif\n",
      "the size of current NDWI_img 11356 11355\n"
     ]
    },
    {
     "name": "stderr",
     "output_type": "stream",
     "text": [
      "900it [01:08, 13.19it/s]\n"
     ]
    },
    {
     "name": "stdout",
     "output_type": "stream",
     "text": [
      "Converting prediction from <class 'numpy.float32'> to uint8, using threshold of 0.5\n",
      "File already analysed! /media/nkd/data18931/ndwi_int8_13001_18931/ndwi_int8_18131.tif\n",
      "/media/nkd/data18931/ndwi_int8_13001_18931/ndwi_int8_18132.tif\n",
      "the size of current NDWI_img 11356 11355\n"
     ]
    },
    {
     "name": "stderr",
     "output_type": "stream",
     "text": [
      "900it [01:15, 11.96it/s]\n"
     ]
    },
    {
     "name": "stdout",
     "output_type": "stream",
     "text": [
      "Converting prediction from <class 'numpy.float32'> to uint8, using threshold of 0.5\n",
      "File already analysed! /media/nkd/data18931/ndwi_int8_13001_18931/ndwi_int8_18132.tif\n",
      "/media/nkd/data18931/ndwi_int8_13001_18931/ndwi_int8_18133.tif\n",
      "the size of current NDWI_img 11355 11355\n"
     ]
    },
    {
     "name": "stderr",
     "output_type": "stream",
     "text": [
      "900it [01:12, 12.39it/s]\n"
     ]
    },
    {
     "name": "stdout",
     "output_type": "stream",
     "text": [
      "Converting prediction from <class 'numpy.float32'> to uint8, using threshold of 0.5\n",
      "File already analysed! /media/nkd/data18931/ndwi_int8_13001_18931/ndwi_int8_18133.tif\n",
      "/media/nkd/data18931/ndwi_int8_13001_18931/ndwi_int8_18134.tif\n",
      "the size of current NDWI_img 11355 11355\n"
     ]
    },
    {
     "name": "stderr",
     "output_type": "stream",
     "text": [
      "900it [01:11, 12.64it/s]\n"
     ]
    },
    {
     "name": "stdout",
     "output_type": "stream",
     "text": [
      "Converting prediction from <class 'numpy.float32'> to uint8, using threshold of 0.5\n",
      "File already analysed! /media/nkd/data18931/ndwi_int8_13001_18931/ndwi_int8_18134.tif\n",
      "/media/nkd/data18931/ndwi_int8_13001_18931/ndwi_int8_18135.tif\n",
      "the size of current NDWI_img 11355 11355\n"
     ]
    },
    {
     "name": "stderr",
     "output_type": "stream",
     "text": [
      "900it [01:11, 12.64it/s]\n"
     ]
    },
    {
     "name": "stdout",
     "output_type": "stream",
     "text": [
      "Converting prediction from <class 'numpy.float32'> to uint8, using threshold of 0.5\n",
      "File already analysed! /media/nkd/data18931/ndwi_int8_13001_18931/ndwi_int8_18135.tif\n",
      "/media/nkd/data18931/ndwi_int8_13001_18931/ndwi_int8_18136.tif\n",
      "the size of current NDWI_img 11356 11355\n"
     ]
    },
    {
     "name": "stderr",
     "output_type": "stream",
     "text": [
      "900it [01:02, 14.30it/s]\n"
     ]
    },
    {
     "name": "stdout",
     "output_type": "stream",
     "text": [
      "Converting prediction from <class 'numpy.float32'> to uint8, using threshold of 0.5\n",
      "File already analysed! /media/nkd/data18931/ndwi_int8_13001_18931/ndwi_int8_18136.tif\n",
      "/media/nkd/data18931/ndwi_int8_13001_18931/ndwi_int8_18137.tif\n",
      "the size of current NDWI_img 11356 11355\n"
     ]
    },
    {
     "name": "stderr",
     "output_type": "stream",
     "text": [
      "900it [01:03, 14.22it/s]\n"
     ]
    },
    {
     "name": "stdout",
     "output_type": "stream",
     "text": [
      "Converting prediction from <class 'numpy.float32'> to uint8, using threshold of 0.5\n",
      "File already analysed! /media/nkd/data18931/ndwi_int8_13001_18931/ndwi_int8_18137.tif\n",
      "/media/nkd/data18931/ndwi_int8_13001_18931/ndwi_int8_18138.tif\n",
      "the size of current NDWI_img 11356 11355\n"
     ]
    },
    {
     "name": "stderr",
     "output_type": "stream",
     "text": [
      "900it [01:04, 13.91it/s]\n"
     ]
    },
    {
     "name": "stdout",
     "output_type": "stream",
     "text": [
      "Converting prediction from <class 'numpy.float32'> to uint8, using threshold of 0.5\n",
      "File already analysed! /media/nkd/data18931/ndwi_int8_13001_18931/ndwi_int8_18138.tif\n",
      "/media/nkd/data18931/ndwi_int8_13001_18931/ndwi_int8_18139.tif\n",
      "the size of current NDWI_img 11356 11355\n"
     ]
    },
    {
     "name": "stderr",
     "output_type": "stream",
     "text": [
      "900it [00:59, 15.01it/s]\n"
     ]
    },
    {
     "name": "stdout",
     "output_type": "stream",
     "text": [
      "Converting prediction from <class 'numpy.float32'> to uint8, using threshold of 0.5\n",
      "File already analysed! /media/nkd/data18931/ndwi_int8_13001_18931/ndwi_int8_18139.tif\n",
      "/media/nkd/data18931/ndwi_int8_13001_18931/ndwi_int8_18140.tif\n",
      "the size of current NDWI_img 11356 11355\n"
     ]
    },
    {
     "name": "stderr",
     "output_type": "stream",
     "text": [
      "900it [01:04, 13.94it/s]\n"
     ]
    },
    {
     "name": "stdout",
     "output_type": "stream",
     "text": [
      "Converting prediction from <class 'numpy.float32'> to uint8, using threshold of 0.5\n",
      "File already analysed! /media/nkd/data18931/ndwi_int8_13001_18931/ndwi_int8_18140.tif\n",
      "/media/nkd/data18931/ndwi_int8_13001_18931/ndwi_int8_18141.tif\n",
      "the size of current NDWI_img 11356 11355\n"
     ]
    },
    {
     "name": "stderr",
     "output_type": "stream",
     "text": [
      "900it [01:06, 13.53it/s]\n"
     ]
    },
    {
     "name": "stdout",
     "output_type": "stream",
     "text": [
      "Converting prediction from <class 'numpy.float32'> to uint8, using threshold of 0.5\n",
      "File already analysed! /media/nkd/data18931/ndwi_int8_13001_18931/ndwi_int8_18141.tif\n",
      "/media/nkd/data18931/ndwi_int8_13001_18931/ndwi_int8_18142.tif\n",
      "the size of current NDWI_img 11356 11355\n"
     ]
    },
    {
     "name": "stderr",
     "output_type": "stream",
     "text": [
      "900it [01:10, 12.72it/s]\n"
     ]
    },
    {
     "name": "stdout",
     "output_type": "stream",
     "text": [
      "Converting prediction from <class 'numpy.float32'> to uint8, using threshold of 0.5\n",
      "File already analysed! /media/nkd/data18931/ndwi_int8_13001_18931/ndwi_int8_18142.tif\n",
      "/media/nkd/data18931/ndwi_int8_13001_18931/ndwi_int8_18143.tif\n",
      "the size of current NDWI_img 11355 11355\n"
     ]
    },
    {
     "name": "stderr",
     "output_type": "stream",
     "text": [
      "900it [01:13, 12.25it/s]\n"
     ]
    },
    {
     "name": "stdout",
     "output_type": "stream",
     "text": [
      "Converting prediction from <class 'numpy.float32'> to uint8, using threshold of 0.5\n",
      "File already analysed! /media/nkd/data18931/ndwi_int8_13001_18931/ndwi_int8_18143.tif\n",
      "/media/nkd/data18931/ndwi_int8_13001_18931/ndwi_int8_18144.tif\n",
      "the size of current NDWI_img 11355 11355\n"
     ]
    },
    {
     "name": "stderr",
     "output_type": "stream",
     "text": [
      "900it [01:15, 11.92it/s]\n"
     ]
    },
    {
     "name": "stdout",
     "output_type": "stream",
     "text": [
      "Converting prediction from <class 'numpy.float32'> to uint8, using threshold of 0.5\n",
      "File already analysed! /media/nkd/data18931/ndwi_int8_13001_18931/ndwi_int8_18144.tif\n",
      "/media/nkd/data18931/ndwi_int8_13001_18931/ndwi_int8_18145.tif\n",
      "the size of current NDWI_img 11355 11355\n"
     ]
    },
    {
     "name": "stderr",
     "output_type": "stream",
     "text": [
      "900it [01:12, 12.40it/s]\n"
     ]
    },
    {
     "name": "stdout",
     "output_type": "stream",
     "text": [
      "Converting prediction from <class 'numpy.float32'> to uint8, using threshold of 0.5\n",
      "File already analysed! /media/nkd/data18931/ndwi_int8_13001_18931/ndwi_int8_18145.tif\n",
      "/media/nkd/data18931/ndwi_int8_13001_18931/ndwi_int8_18146.tif\n",
      "the size of current NDWI_img 11356 11355\n"
     ]
    },
    {
     "name": "stderr",
     "output_type": "stream",
     "text": [
      "900it [01:04, 13.92it/s]\n"
     ]
    },
    {
     "name": "stdout",
     "output_type": "stream",
     "text": [
      "Converting prediction from <class 'numpy.float32'> to uint8, using threshold of 0.5\n",
      "File already analysed! /media/nkd/data18931/ndwi_int8_13001_18931/ndwi_int8_18146.tif\n",
      "/media/nkd/data18931/ndwi_int8_13001_18931/ndwi_int8_18147.tif\n",
      "the size of current NDWI_img 11356 11355\n"
     ]
    },
    {
     "name": "stderr",
     "output_type": "stream",
     "text": [
      "900it [01:05, 13.77it/s]\n"
     ]
    },
    {
     "name": "stdout",
     "output_type": "stream",
     "text": [
      "Converting prediction from <class 'numpy.float32'> to uint8, using threshold of 0.5\n",
      "File already analysed! /media/nkd/data18931/ndwi_int8_13001_18931/ndwi_int8_18147.tif\n",
      "/media/nkd/data18931/ndwi_int8_13001_18931/ndwi_int8_18148.tif\n",
      "the size of current NDWI_img 11356 11355\n"
     ]
    },
    {
     "name": "stderr",
     "output_type": "stream",
     "text": [
      "900it [01:04, 14.05it/s]\n"
     ]
    },
    {
     "name": "stdout",
     "output_type": "stream",
     "text": [
      "Converting prediction from <class 'numpy.float32'> to uint8, using threshold of 0.5\n",
      "File already analysed! /media/nkd/data18931/ndwi_int8_13001_18931/ndwi_int8_18148.tif\n",
      "/media/nkd/data18931/ndwi_int8_13001_18931/ndwi_int8_18149.tif\n",
      "the size of current NDWI_img 11356 11355\n"
     ]
    },
    {
     "name": "stderr",
     "output_type": "stream",
     "text": [
      "900it [01:01, 14.69it/s]\n"
     ]
    },
    {
     "name": "stdout",
     "output_type": "stream",
     "text": [
      "Converting prediction from <class 'numpy.float32'> to uint8, using threshold of 0.5\n",
      "File already analysed! /media/nkd/data18931/ndwi_int8_13001_18931/ndwi_int8_18149.tif\n",
      "/media/nkd/data18931/ndwi_int8_13001_18931/ndwi_int8_18150.tif\n",
      "the size of current NDWI_img 11356 11355\n"
     ]
    },
    {
     "name": "stderr",
     "output_type": "stream",
     "text": [
      "900it [01:04, 13.85it/s]\n"
     ]
    },
    {
     "name": "stdout",
     "output_type": "stream",
     "text": [
      "Converting prediction from <class 'numpy.float32'> to uint8, using threshold of 0.5\n",
      "File already analysed! /media/nkd/data18931/ndwi_int8_13001_18931/ndwi_int8_18150.tif\n",
      "/media/nkd/data18931/ndwi_int8_13001_18931/ndwi_int8_18151.tif\n",
      "the size of current NDWI_img 11356 11355\n"
     ]
    },
    {
     "name": "stderr",
     "output_type": "stream",
     "text": [
      "900it [01:02, 14.40it/s]\n"
     ]
    },
    {
     "name": "stdout",
     "output_type": "stream",
     "text": [
      "Converting prediction from <class 'numpy.float32'> to uint8, using threshold of 0.5\n",
      "File already analysed! /media/nkd/data18931/ndwi_int8_13001_18931/ndwi_int8_18151.tif\n",
      "/media/nkd/data18931/ndwi_int8_13001_18931/ndwi_int8_18152.tif\n",
      "the size of current NDWI_img 11356 11355\n"
     ]
    },
    {
     "name": "stderr",
     "output_type": "stream",
     "text": [
      "900it [01:06, 13.47it/s]\n"
     ]
    },
    {
     "name": "stdout",
     "output_type": "stream",
     "text": [
      "Converting prediction from <class 'numpy.float32'> to uint8, using threshold of 0.5\n",
      "File already analysed! /media/nkd/data18931/ndwi_int8_13001_18931/ndwi_int8_18152.tif\n",
      "/media/nkd/data18931/ndwi_int8_13001_18931/ndwi_int8_18153.tif\n",
      "the size of current NDWI_img 11355 11355\n"
     ]
    },
    {
     "name": "stderr",
     "output_type": "stream",
     "text": [
      "900it [01:10, 12.77it/s]\n"
     ]
    },
    {
     "name": "stdout",
     "output_type": "stream",
     "text": [
      "Converting prediction from <class 'numpy.float32'> to uint8, using threshold of 0.5\n",
      "File already analysed! /media/nkd/data18931/ndwi_int8_13001_18931/ndwi_int8_18153.tif\n",
      "/media/nkd/data18931/ndwi_int8_13001_18931/ndwi_int8_18154.tif\n",
      "the size of current NDWI_img 11355 11355\n"
     ]
    },
    {
     "name": "stderr",
     "output_type": "stream",
     "text": [
      "900it [01:15, 11.87it/s]\n"
     ]
    },
    {
     "name": "stdout",
     "output_type": "stream",
     "text": [
      "Converting prediction from <class 'numpy.float32'> to uint8, using threshold of 0.5\n",
      "File already analysed! /media/nkd/data18931/ndwi_int8_13001_18931/ndwi_int8_18154.tif\n",
      "/media/nkd/data18931/ndwi_int8_13001_18931/ndwi_int8_18155.tif\n",
      "the size of current NDWI_img 11355 11355\n"
     ]
    },
    {
     "name": "stderr",
     "output_type": "stream",
     "text": [
      "900it [01:15, 11.94it/s]\n"
     ]
    },
    {
     "name": "stdout",
     "output_type": "stream",
     "text": [
      "Converting prediction from <class 'numpy.float32'> to uint8, using threshold of 0.5\n",
      "File already analysed! /media/nkd/data18931/ndwi_int8_13001_18931/ndwi_int8_18155.tif\n",
      "/media/nkd/data18931/ndwi_int8_13001_18931/ndwi_int8_18156.tif\n",
      "the size of current NDWI_img 11356 11355\n"
     ]
    },
    {
     "name": "stderr",
     "output_type": "stream",
     "text": [
      "900it [01:03, 14.23it/s]\n"
     ]
    },
    {
     "name": "stdout",
     "output_type": "stream",
     "text": [
      "Converting prediction from <class 'numpy.float32'> to uint8, using threshold of 0.5\n",
      "File already analysed! /media/nkd/data18931/ndwi_int8_13001_18931/ndwi_int8_18156.tif\n",
      "/media/nkd/data18931/ndwi_int8_13001_18931/ndwi_int8_18157.tif\n",
      "the size of current NDWI_img 11356 11355\n"
     ]
    },
    {
     "name": "stderr",
     "output_type": "stream",
     "text": [
      "900it [00:59, 15.01it/s]\n"
     ]
    },
    {
     "name": "stdout",
     "output_type": "stream",
     "text": [
      "Converting prediction from <class 'numpy.float32'> to uint8, using threshold of 0.5\n",
      "File already analysed! /media/nkd/data18931/ndwi_int8_13001_18931/ndwi_int8_18157.tif\n",
      "/media/nkd/data18931/ndwi_int8_13001_18931/ndwi_int8_18158.tif\n",
      "the size of current NDWI_img 11356 11355\n"
     ]
    },
    {
     "name": "stderr",
     "output_type": "stream",
     "text": [
      "900it [01:01, 14.56it/s]\n"
     ]
    },
    {
     "name": "stdout",
     "output_type": "stream",
     "text": [
      "Converting prediction from <class 'numpy.float32'> to uint8, using threshold of 0.5\n",
      "File already analysed! /media/nkd/data18931/ndwi_int8_13001_18931/ndwi_int8_18158.tif\n",
      "/media/nkd/data18931/ndwi_int8_13001_18931/ndwi_int8_18159.tif\n",
      "the size of current NDWI_img 11356 11355\n"
     ]
    },
    {
     "name": "stderr",
     "output_type": "stream",
     "text": [
      "900it [00:58, 15.30it/s]\n"
     ]
    },
    {
     "name": "stdout",
     "output_type": "stream",
     "text": [
      "Converting prediction from <class 'numpy.float32'> to uint8, using threshold of 0.5\n",
      "File already analysed! /media/nkd/data18931/ndwi_int8_13001_18931/ndwi_int8_18159.tif\n",
      "/media/nkd/data18931/ndwi_int8_13001_18931/ndwi_int8_18160.tif\n",
      "the size of current NDWI_img 11356 11355\n"
     ]
    },
    {
     "name": "stderr",
     "output_type": "stream",
     "text": [
      "900it [00:58, 15.46it/s]\n"
     ]
    },
    {
     "name": "stdout",
     "output_type": "stream",
     "text": [
      "Converting prediction from <class 'numpy.float32'> to uint8, using threshold of 0.5\n",
      "File already analysed! /media/nkd/data18931/ndwi_int8_13001_18931/ndwi_int8_18160.tif\n",
      "/media/nkd/data18931/ndwi_int8_13001_18931/ndwi_int8_18161.tif\n",
      "the size of current NDWI_img 11356 11355\n"
     ]
    },
    {
     "name": "stderr",
     "output_type": "stream",
     "text": [
      "900it [01:01, 14.72it/s]\n"
     ]
    },
    {
     "name": "stdout",
     "output_type": "stream",
     "text": [
      "Converting prediction from <class 'numpy.float32'> to uint8, using threshold of 0.5\n",
      "File already analysed! /media/nkd/data18931/ndwi_int8_13001_18931/ndwi_int8_18161.tif\n",
      "/media/nkd/data18931/ndwi_int8_13001_18931/ndwi_int8_18162.tif\n",
      "the size of current NDWI_img 11356 11355\n"
     ]
    },
    {
     "name": "stderr",
     "output_type": "stream",
     "text": [
      "900it [01:08, 13.23it/s]\n"
     ]
    },
    {
     "name": "stdout",
     "output_type": "stream",
     "text": [
      "Converting prediction from <class 'numpy.float32'> to uint8, using threshold of 0.5\n",
      "File already analysed! /media/nkd/data18931/ndwi_int8_13001_18931/ndwi_int8_18162.tif\n",
      "/media/nkd/data18931/ndwi_int8_13001_18931/ndwi_int8_18163.tif\n",
      "the size of current NDWI_img 11355 11355\n"
     ]
    },
    {
     "name": "stderr",
     "output_type": "stream",
     "text": [
      "900it [01:11, 12.67it/s]\n"
     ]
    },
    {
     "name": "stdout",
     "output_type": "stream",
     "text": [
      "Converting prediction from <class 'numpy.float32'> to uint8, using threshold of 0.5\n",
      "File already analysed! /media/nkd/data18931/ndwi_int8_13001_18931/ndwi_int8_18163.tif\n",
      "/media/nkd/data18931/ndwi_int8_13001_18931/ndwi_int8_18164.tif\n",
      "the size of current NDWI_img 11355 11355\n"
     ]
    },
    {
     "name": "stderr",
     "output_type": "stream",
     "text": [
      "900it [01:11, 12.59it/s]\n"
     ]
    },
    {
     "name": "stdout",
     "output_type": "stream",
     "text": [
      "Converting prediction from <class 'numpy.float32'> to uint8, using threshold of 0.5\n",
      "File already analysed! /media/nkd/data18931/ndwi_int8_13001_18931/ndwi_int8_18164.tif\n",
      "/media/nkd/data18931/ndwi_int8_13001_18931/ndwi_int8_18165.tif\n",
      "the size of current NDWI_img 11355 11355\n"
     ]
    },
    {
     "name": "stderr",
     "output_type": "stream",
     "text": [
      "900it [01:11, 12.55it/s]\n"
     ]
    },
    {
     "name": "stdout",
     "output_type": "stream",
     "text": [
      "Converting prediction from <class 'numpy.float32'> to uint8, using threshold of 0.5\n",
      "File already analysed! /media/nkd/data18931/ndwi_int8_13001_18931/ndwi_int8_18165.tif\n",
      "/media/nkd/data18931/ndwi_int8_13001_18931/ndwi_int8_18166.tif\n",
      "the size of current NDWI_img 11356 11355\n"
     ]
    },
    {
     "name": "stderr",
     "output_type": "stream",
     "text": [
      "900it [01:04, 13.92it/s]\n"
     ]
    },
    {
     "name": "stdout",
     "output_type": "stream",
     "text": [
      "Converting prediction from <class 'numpy.float32'> to uint8, using threshold of 0.5\n",
      "File already analysed! /media/nkd/data18931/ndwi_int8_13001_18931/ndwi_int8_18166.tif\n",
      "/media/nkd/data18931/ndwi_int8_13001_18931/ndwi_int8_18167.tif\n",
      "the size of current NDWI_img 11356 11355\n"
     ]
    },
    {
     "name": "stderr",
     "output_type": "stream",
     "text": [
      "900it [01:01, 14.61it/s]\n"
     ]
    },
    {
     "name": "stdout",
     "output_type": "stream",
     "text": [
      "Converting prediction from <class 'numpy.float32'> to uint8, using threshold of 0.5\n",
      "File already analysed! /media/nkd/data18931/ndwi_int8_13001_18931/ndwi_int8_18167.tif\n",
      "/media/nkd/data18931/ndwi_int8_13001_18931/ndwi_int8_18168.tif\n",
      "the size of current NDWI_img 11356 11355\n"
     ]
    },
    {
     "name": "stderr",
     "output_type": "stream",
     "text": [
      "900it [01:00, 14.90it/s]\n"
     ]
    },
    {
     "name": "stdout",
     "output_type": "stream",
     "text": [
      "Converting prediction from <class 'numpy.float32'> to uint8, using threshold of 0.5\n",
      "File already analysed! /media/nkd/data18931/ndwi_int8_13001_18931/ndwi_int8_18168.tif\n",
      "/media/nkd/data18931/ndwi_int8_13001_18931/ndwi_int8_18169.tif\n",
      "the size of current NDWI_img 11356 11355\n"
     ]
    },
    {
     "name": "stderr",
     "output_type": "stream",
     "text": [
      "900it [01:04, 13.89it/s]\n"
     ]
    },
    {
     "name": "stdout",
     "output_type": "stream",
     "text": [
      "Converting prediction from <class 'numpy.float32'> to uint8, using threshold of 0.5\n",
      "File already analysed! /media/nkd/data18931/ndwi_int8_13001_18931/ndwi_int8_18169.tif\n",
      "/media/nkd/data18931/ndwi_int8_13001_18931/ndwi_int8_18170.tif\n",
      "the size of current NDWI_img 11356 11355\n"
     ]
    },
    {
     "name": "stderr",
     "output_type": "stream",
     "text": [
      "900it [01:02, 14.31it/s]\n"
     ]
    },
    {
     "name": "stdout",
     "output_type": "stream",
     "text": [
      "Converting prediction from <class 'numpy.float32'> to uint8, using threshold of 0.5\n",
      "File already analysed! /media/nkd/data18931/ndwi_int8_13001_18931/ndwi_int8_18170.tif\n",
      "/media/nkd/data18931/ndwi_int8_13001_18931/ndwi_int8_18171.tif\n",
      "the size of current NDWI_img 11356 11355\n"
     ]
    },
    {
     "name": "stderr",
     "output_type": "stream",
     "text": [
      "900it [00:58, 15.44it/s]\n"
     ]
    },
    {
     "name": "stdout",
     "output_type": "stream",
     "text": [
      "Converting prediction from <class 'numpy.float32'> to uint8, using threshold of 0.5\n",
      "File already analysed! /media/nkd/data18931/ndwi_int8_13001_18931/ndwi_int8_18171.tif\n",
      "/media/nkd/data18931/ndwi_int8_13001_18931/ndwi_int8_18172.tif\n",
      "the size of current NDWI_img 11356 11355\n"
     ]
    },
    {
     "name": "stderr",
     "output_type": "stream",
     "text": [
      "900it [01:03, 14.27it/s]\n"
     ]
    },
    {
     "name": "stdout",
     "output_type": "stream",
     "text": [
      "Converting prediction from <class 'numpy.float32'> to uint8, using threshold of 0.5\n",
      "File already analysed! /media/nkd/data18931/ndwi_int8_13001_18931/ndwi_int8_18172.tif\n",
      "/media/nkd/data18931/ndwi_int8_13001_18931/ndwi_int8_18173.tif\n",
      "the size of current NDWI_img 11355 11355\n"
     ]
    },
    {
     "name": "stderr",
     "output_type": "stream",
     "text": [
      "900it [01:10, 12.81it/s]\n"
     ]
    },
    {
     "name": "stdout",
     "output_type": "stream",
     "text": [
      "Converting prediction from <class 'numpy.float32'> to uint8, using threshold of 0.5\n",
      "File already analysed! /media/nkd/data18931/ndwi_int8_13001_18931/ndwi_int8_18173.tif\n",
      "/media/nkd/data18931/ndwi_int8_13001_18931/ndwi_int8_18174.tif\n",
      "the size of current NDWI_img 11355 11355\n"
     ]
    },
    {
     "name": "stderr",
     "output_type": "stream",
     "text": [
      "900it [01:05, 13.70it/s]\n"
     ]
    },
    {
     "name": "stdout",
     "output_type": "stream",
     "text": [
      "Converting prediction from <class 'numpy.float32'> to uint8, using threshold of 0.5\n",
      "File already analysed! /media/nkd/data18931/ndwi_int8_13001_18931/ndwi_int8_18174.tif\n",
      "/media/nkd/data18931/ndwi_int8_13001_18931/ndwi_int8_18175.tif\n",
      "the size of current NDWI_img 11355 11355\n"
     ]
    },
    {
     "name": "stderr",
     "output_type": "stream",
     "text": [
      "900it [01:07, 13.33it/s]\n"
     ]
    },
    {
     "name": "stdout",
     "output_type": "stream",
     "text": [
      "Converting prediction from <class 'numpy.float32'> to uint8, using threshold of 0.5\n",
      "File already analysed! /media/nkd/data18931/ndwi_int8_13001_18931/ndwi_int8_18175.tif\n",
      "/media/nkd/data18931/ndwi_int8_13001_18931/ndwi_int8_18176.tif\n",
      "the size of current NDWI_img 11356 11356\n"
     ]
    },
    {
     "name": "stderr",
     "output_type": "stream",
     "text": [
      "900it [01:01, 14.52it/s]\n"
     ]
    },
    {
     "name": "stdout",
     "output_type": "stream",
     "text": [
      "Converting prediction from <class 'numpy.float32'> to uint8, using threshold of 0.5\n",
      "File already analysed! /media/nkd/data18931/ndwi_int8_13001_18931/ndwi_int8_18176.tif\n",
      "/media/nkd/data18931/ndwi_int8_13001_18931/ndwi_int8_18177.tif\n",
      "the size of current NDWI_img 11356 11356\n"
     ]
    },
    {
     "name": "stderr",
     "output_type": "stream",
     "text": [
      "900it [01:01, 14.62it/s]\n"
     ]
    },
    {
     "name": "stdout",
     "output_type": "stream",
     "text": [
      "Converting prediction from <class 'numpy.float32'> to uint8, using threshold of 0.5\n",
      "File already analysed! /media/nkd/data18931/ndwi_int8_13001_18931/ndwi_int8_18177.tif\n",
      "/media/nkd/data18931/ndwi_int8_13001_18931/ndwi_int8_18178.tif\n",
      "the size of current NDWI_img 11356 11356\n"
     ]
    },
    {
     "name": "stderr",
     "output_type": "stream",
     "text": [
      "900it [01:00, 14.78it/s]\n"
     ]
    },
    {
     "name": "stdout",
     "output_type": "stream",
     "text": [
      "Converting prediction from <class 'numpy.float32'> to uint8, using threshold of 0.5\n",
      "File already analysed! /media/nkd/data18931/ndwi_int8_13001_18931/ndwi_int8_18178.tif\n",
      "/media/nkd/data18931/ndwi_int8_13001_18931/ndwi_int8_18179.tif\n",
      "the size of current NDWI_img 11356 11356\n"
     ]
    },
    {
     "name": "stderr",
     "output_type": "stream",
     "text": [
      "900it [01:01, 14.69it/s]\n"
     ]
    },
    {
     "name": "stdout",
     "output_type": "stream",
     "text": [
      "Converting prediction from <class 'numpy.float32'> to uint8, using threshold of 0.5\n",
      "File already analysed! /media/nkd/data18931/ndwi_int8_13001_18931/ndwi_int8_18179.tif\n",
      "/media/nkd/data18931/ndwi_int8_13001_18931/ndwi_int8_18180.tif\n",
      "the size of current NDWI_img 11356 11356\n"
     ]
    },
    {
     "name": "stderr",
     "output_type": "stream",
     "text": [
      "900it [00:59, 15.07it/s]\n"
     ]
    },
    {
     "name": "stdout",
     "output_type": "stream",
     "text": [
      "Converting prediction from <class 'numpy.float32'> to uint8, using threshold of 0.5\n",
      "File already analysed! /media/nkd/data18931/ndwi_int8_13001_18931/ndwi_int8_18180.tif\n",
      "/media/nkd/data18931/ndwi_int8_13001_18931/ndwi_int8_18181.tif\n",
      "the size of current NDWI_img 11356 11356\n"
     ]
    },
    {
     "name": "stderr",
     "output_type": "stream",
     "text": [
      "900it [01:00, 14.98it/s]\n"
     ]
    },
    {
     "name": "stdout",
     "output_type": "stream",
     "text": [
      "Converting prediction from <class 'numpy.float32'> to uint8, using threshold of 0.5\n",
      "File already analysed! /media/nkd/data18931/ndwi_int8_13001_18931/ndwi_int8_18181.tif\n",
      "/media/nkd/data18931/ndwi_int8_13001_18931/ndwi_int8_18182.tif\n",
      "the size of current NDWI_img 11356 11356\n"
     ]
    },
    {
     "name": "stderr",
     "output_type": "stream",
     "text": [
      "900it [00:59, 15.12it/s]\n"
     ]
    },
    {
     "name": "stdout",
     "output_type": "stream",
     "text": [
      "Converting prediction from <class 'numpy.float32'> to uint8, using threshold of 0.5\n",
      "File already analysed! /media/nkd/data18931/ndwi_int8_13001_18931/ndwi_int8_18182.tif\n",
      "/media/nkd/data18931/ndwi_int8_13001_18931/ndwi_int8_18183.tif\n",
      "the size of current NDWI_img 11355 11356\n"
     ]
    },
    {
     "name": "stderr",
     "output_type": "stream",
     "text": [
      "900it [01:05, 13.71it/s]\n"
     ]
    },
    {
     "name": "stdout",
     "output_type": "stream",
     "text": [
      "Converting prediction from <class 'numpy.float32'> to uint8, using threshold of 0.5\n",
      "File already analysed! /media/nkd/data18931/ndwi_int8_13001_18931/ndwi_int8_18183.tif\n",
      "/media/nkd/data18931/ndwi_int8_13001_18931/ndwi_int8_18184.tif\n",
      "the size of current NDWI_img 11355 11356\n"
     ]
    },
    {
     "name": "stderr",
     "output_type": "stream",
     "text": [
      "900it [01:11, 12.54it/s]\n"
     ]
    },
    {
     "name": "stdout",
     "output_type": "stream",
     "text": [
      "Converting prediction from <class 'numpy.float32'> to uint8, using threshold of 0.5\n",
      "File already analysed! /media/nkd/data18931/ndwi_int8_13001_18931/ndwi_int8_18184.tif\n",
      "/media/nkd/data18931/ndwi_int8_13001_18931/ndwi_int8_18185.tif\n",
      "the size of current NDWI_img 11355 11356\n"
     ]
    },
    {
     "name": "stderr",
     "output_type": "stream",
     "text": [
      "900it [01:07, 13.33it/s]\n"
     ]
    },
    {
     "name": "stdout",
     "output_type": "stream",
     "text": [
      "Converting prediction from <class 'numpy.float32'> to uint8, using threshold of 0.5\n",
      "File already analysed! /media/nkd/data18931/ndwi_int8_13001_18931/ndwi_int8_18185.tif\n",
      "/media/nkd/data18931/ndwi_int8_13001_18931/ndwi_int8_18186.tif\n",
      "the size of current NDWI_img 11356 11356\n"
     ]
    },
    {
     "name": "stderr",
     "output_type": "stream",
     "text": [
      "900it [01:02, 14.37it/s]\n"
     ]
    },
    {
     "name": "stdout",
     "output_type": "stream",
     "text": [
      "Converting prediction from <class 'numpy.float32'> to uint8, using threshold of 0.5\n",
      "File already analysed! /media/nkd/data18931/ndwi_int8_13001_18931/ndwi_int8_18186.tif\n",
      "/media/nkd/data18931/ndwi_int8_13001_18931/ndwi_int8_18187.tif\n",
      "the size of current NDWI_img 11356 11356\n"
     ]
    },
    {
     "name": "stderr",
     "output_type": "stream",
     "text": [
      "900it [01:01, 14.71it/s]\n"
     ]
    },
    {
     "name": "stdout",
     "output_type": "stream",
     "text": [
      "Converting prediction from <class 'numpy.float32'> to uint8, using threshold of 0.5\n",
      "File already analysed! /media/nkd/data18931/ndwi_int8_13001_18931/ndwi_int8_18187.tif\n",
      "/media/nkd/data18931/ndwi_int8_13001_18931/ndwi_int8_18188.tif\n",
      "the size of current NDWI_img 11356 11356\n"
     ]
    },
    {
     "name": "stderr",
     "output_type": "stream",
     "text": [
      "900it [01:00, 14.81it/s]\n"
     ]
    },
    {
     "name": "stdout",
     "output_type": "stream",
     "text": [
      "Converting prediction from <class 'numpy.float32'> to uint8, using threshold of 0.5\n",
      "File already analysed! /media/nkd/data18931/ndwi_int8_13001_18931/ndwi_int8_18188.tif\n",
      "/media/nkd/data18931/ndwi_int8_13001_18931/ndwi_int8_18189.tif\n",
      "the size of current NDWI_img 11356 11356\n"
     ]
    },
    {
     "name": "stderr",
     "output_type": "stream",
     "text": [
      "900it [01:00, 14.91it/s]\n"
     ]
    },
    {
     "name": "stdout",
     "output_type": "stream",
     "text": [
      "Converting prediction from <class 'numpy.float32'> to uint8, using threshold of 0.5\n",
      "File already analysed! /media/nkd/data18931/ndwi_int8_13001_18931/ndwi_int8_18189.tif\n",
      "/media/nkd/data18931/ndwi_int8_13001_18931/ndwi_int8_18190.tif\n",
      "the size of current NDWI_img 11356 11356\n"
     ]
    },
    {
     "name": "stderr",
     "output_type": "stream",
     "text": [
      "900it [01:01, 14.54it/s]\n"
     ]
    },
    {
     "name": "stdout",
     "output_type": "stream",
     "text": [
      "Converting prediction from <class 'numpy.float32'> to uint8, using threshold of 0.5\n",
      "File already analysed! /media/nkd/data18931/ndwi_int8_13001_18931/ndwi_int8_18190.tif\n",
      "/media/nkd/data18931/ndwi_int8_13001_18931/ndwi_int8_18191.tif\n",
      "the size of current NDWI_img 11356 11356\n"
     ]
    },
    {
     "name": "stderr",
     "output_type": "stream",
     "text": [
      "900it [01:01, 14.75it/s]\n"
     ]
    },
    {
     "name": "stdout",
     "output_type": "stream",
     "text": [
      "Converting prediction from <class 'numpy.float32'> to uint8, using threshold of 0.5\n",
      "File already analysed! /media/nkd/data18931/ndwi_int8_13001_18931/ndwi_int8_18191.tif\n",
      "/media/nkd/data18931/ndwi_int8_13001_18931/ndwi_int8_18192.tif\n",
      "the size of current NDWI_img 11356 11356\n"
     ]
    },
    {
     "name": "stderr",
     "output_type": "stream",
     "text": [
      "900it [01:00, 14.76it/s]\n"
     ]
    },
    {
     "name": "stdout",
     "output_type": "stream",
     "text": [
      "Converting prediction from <class 'numpy.float32'> to uint8, using threshold of 0.5\n",
      "File already analysed! /media/nkd/data18931/ndwi_int8_13001_18931/ndwi_int8_18192.tif\n",
      "/media/nkd/data18931/ndwi_int8_13001_18931/ndwi_int8_18193.tif\n",
      "the size of current NDWI_img 11355 11356\n"
     ]
    },
    {
     "name": "stderr",
     "output_type": "stream",
     "text": [
      "900it [00:58, 15.30it/s]\n"
     ]
    },
    {
     "name": "stdout",
     "output_type": "stream",
     "text": [
      "Converting prediction from <class 'numpy.float32'> to uint8, using threshold of 0.5\n",
      "File already analysed! /media/nkd/data18931/ndwi_int8_13001_18931/ndwi_int8_18193.tif\n",
      "/media/nkd/data18931/ndwi_int8_13001_18931/ndwi_int8_18194.tif\n",
      "the size of current NDWI_img 11355 11356\n"
     ]
    },
    {
     "name": "stderr",
     "output_type": "stream",
     "text": [
      "900it [00:59, 15.03it/s]\n"
     ]
    },
    {
     "name": "stdout",
     "output_type": "stream",
     "text": [
      "Converting prediction from <class 'numpy.float32'> to uint8, using threshold of 0.5\n",
      "File already analysed! /media/nkd/data18931/ndwi_int8_13001_18931/ndwi_int8_18194.tif\n",
      "/media/nkd/data18931/ndwi_int8_13001_18931/ndwi_int8_18195.tif\n",
      "the size of current NDWI_img 11355 11356\n"
     ]
    },
    {
     "name": "stderr",
     "output_type": "stream",
     "text": [
      "900it [01:01, 14.60it/s]\n"
     ]
    },
    {
     "name": "stdout",
     "output_type": "stream",
     "text": [
      "Converting prediction from <class 'numpy.float32'> to uint8, using threshold of 0.5\n",
      "File already analysed! /media/nkd/data18931/ndwi_int8_13001_18931/ndwi_int8_18195.tif\n",
      "/media/nkd/data18931/ndwi_int8_13001_18931/ndwi_int8_18196.tif\n",
      "the size of current NDWI_img 11356 11356\n"
     ]
    },
    {
     "name": "stderr",
     "output_type": "stream",
     "text": [
      "900it [01:06, 13.58it/s]\n"
     ]
    },
    {
     "name": "stdout",
     "output_type": "stream",
     "text": [
      "Converting prediction from <class 'numpy.float32'> to uint8, using threshold of 0.5\n",
      "File already analysed! /media/nkd/data18931/ndwi_int8_13001_18931/ndwi_int8_18196.tif\n",
      "/media/nkd/data18931/ndwi_int8_13001_18931/ndwi_int8_18197.tif\n",
      "the size of current NDWI_img 11356 11356\n"
     ]
    },
    {
     "name": "stderr",
     "output_type": "stream",
     "text": [
      "900it [01:01, 14.62it/s]\n"
     ]
    },
    {
     "name": "stdout",
     "output_type": "stream",
     "text": [
      "Converting prediction from <class 'numpy.float32'> to uint8, using threshold of 0.5\n",
      "File already analysed! /media/nkd/data18931/ndwi_int8_13001_18931/ndwi_int8_18197.tif\n",
      "/media/nkd/data18931/ndwi_int8_13001_18931/ndwi_int8_18198.tif\n",
      "the size of current NDWI_img 11356 11356\n"
     ]
    },
    {
     "name": "stderr",
     "output_type": "stream",
     "text": [
      "900it [00:59, 15.04it/s]\n"
     ]
    },
    {
     "name": "stdout",
     "output_type": "stream",
     "text": [
      "Converting prediction from <class 'numpy.float32'> to uint8, using threshold of 0.5\n",
      "File already analysed! /media/nkd/data18931/ndwi_int8_13001_18931/ndwi_int8_18198.tif\n",
      "/media/nkd/data18931/ndwi_int8_13001_18931/ndwi_int8_18199.tif\n",
      "the size of current NDWI_img 11356 11356\n"
     ]
    },
    {
     "name": "stderr",
     "output_type": "stream",
     "text": [
      "900it [01:03, 14.20it/s]\n"
     ]
    },
    {
     "name": "stdout",
     "output_type": "stream",
     "text": [
      "Converting prediction from <class 'numpy.float32'> to uint8, using threshold of 0.5\n",
      "File already analysed! /media/nkd/data18931/ndwi_int8_13001_18931/ndwi_int8_18199.tif\n",
      "/media/nkd/data18931/ndwi_int8_13001_18931/ndwi_int8_18200.tif\n",
      "the size of current NDWI_img 11356 11356\n"
     ]
    },
    {
     "name": "stderr",
     "output_type": "stream",
     "text": [
      "900it [01:05, 13.76it/s]\n"
     ]
    },
    {
     "name": "stdout",
     "output_type": "stream",
     "text": [
      "Converting prediction from <class 'numpy.float32'> to uint8, using threshold of 0.5\n",
      "File already analysed! /media/nkd/data18931/ndwi_int8_13001_18931/ndwi_int8_18200.tif\n",
      "/media/nkd/data18931/ndwi_int8_13001_18931/ndwi_int8_18201.tif\n",
      "the size of current NDWI_img 11356 11356\n"
     ]
    },
    {
     "name": "stderr",
     "output_type": "stream",
     "text": [
      "900it [01:00, 14.78it/s]\n"
     ]
    },
    {
     "name": "stdout",
     "output_type": "stream",
     "text": [
      "Converting prediction from <class 'numpy.float32'> to uint8, using threshold of 0.5\n",
      "File already analysed! /media/nkd/data18931/ndwi_int8_13001_18931/ndwi_int8_18201.tif\n",
      "/media/nkd/data18931/ndwi_int8_13001_18931/ndwi_int8_18202.tif\n",
      "the size of current NDWI_img 11356 11356\n"
     ]
    },
    {
     "name": "stderr",
     "output_type": "stream",
     "text": [
      "900it [00:57, 15.73it/s]\n"
     ]
    },
    {
     "name": "stdout",
     "output_type": "stream",
     "text": [
      "Converting prediction from <class 'numpy.float32'> to uint8, using threshold of 0.5\n",
      "File already analysed! /media/nkd/data18931/ndwi_int8_13001_18931/ndwi_int8_18202.tif\n",
      "/media/nkd/data18931/ndwi_int8_13001_18931/ndwi_int8_18203.tif\n",
      "the size of current NDWI_img 11355 11356\n"
     ]
    },
    {
     "name": "stderr",
     "output_type": "stream",
     "text": [
      "900it [01:02, 14.37it/s]\n"
     ]
    },
    {
     "name": "stdout",
     "output_type": "stream",
     "text": [
      "Converting prediction from <class 'numpy.float32'> to uint8, using threshold of 0.5\n",
      "File already analysed! /media/nkd/data18931/ndwi_int8_13001_18931/ndwi_int8_18203.tif\n",
      "/media/nkd/data18931/ndwi_int8_13001_18931/ndwi_int8_18204.tif\n",
      "the size of current NDWI_img 11355 11356\n"
     ]
    },
    {
     "name": "stderr",
     "output_type": "stream",
     "text": [
      "900it [01:03, 14.23it/s]\n"
     ]
    },
    {
     "name": "stdout",
     "output_type": "stream",
     "text": [
      "Converting prediction from <class 'numpy.float32'> to uint8, using threshold of 0.5\n",
      "File already analysed! /media/nkd/data18931/ndwi_int8_13001_18931/ndwi_int8_18204.tif\n",
      "/media/nkd/data18931/ndwi_int8_13001_18931/ndwi_int8_18205.tif\n",
      "the size of current NDWI_img 11355 11356\n"
     ]
    },
    {
     "name": "stderr",
     "output_type": "stream",
     "text": [
      "900it [00:54, 16.47it/s]\n"
     ]
    },
    {
     "name": "stdout",
     "output_type": "stream",
     "text": [
      "Converting prediction from <class 'numpy.float32'> to uint8, using threshold of 0.5\n",
      "File already analysed! /media/nkd/data18931/ndwi_int8_13001_18931/ndwi_int8_18205.tif\n",
      "/media/nkd/data18931/ndwi_int8_13001_18931/ndwi_int8_18206.tif\n",
      "the size of current NDWI_img 11356 11356\n"
     ]
    },
    {
     "name": "stderr",
     "output_type": "stream",
     "text": [
      "900it [00:38, 23.43it/s]\n"
     ]
    },
    {
     "name": "stdout",
     "output_type": "stream",
     "text": [
      "Converting prediction from <class 'numpy.float32'> to uint8, using threshold of 0.5\n",
      "File already analysed! /media/nkd/data18931/ndwi_int8_13001_18931/ndwi_int8_18206.tif\n",
      "/media/nkd/data18931/ndwi_int8_13001_18931/ndwi_int8_18207.tif\n",
      "the size of current NDWI_img 11356 11356\n"
     ]
    },
    {
     "name": "stderr",
     "output_type": "stream",
     "text": [
      "900it [01:00, 14.86it/s]\n"
     ]
    },
    {
     "name": "stdout",
     "output_type": "stream",
     "text": [
      "Converting prediction from <class 'numpy.float32'> to uint8, using threshold of 0.5\n",
      "File already analysed! /media/nkd/data18931/ndwi_int8_13001_18931/ndwi_int8_18207.tif\n",
      "/media/nkd/data18931/ndwi_int8_13001_18931/ndwi_int8_18208.tif\n",
      "the size of current NDWI_img 11356 11356\n"
     ]
    },
    {
     "name": "stderr",
     "output_type": "stream",
     "text": [
      "900it [01:02, 14.30it/s]\n"
     ]
    },
    {
     "name": "stdout",
     "output_type": "stream",
     "text": [
      "Converting prediction from <class 'numpy.float32'> to uint8, using threshold of 0.5\n",
      "File already analysed! /media/nkd/data18931/ndwi_int8_13001_18931/ndwi_int8_18208.tif\n",
      "/media/nkd/data18931/ndwi_int8_13001_18931/ndwi_int8_18209.tif\n",
      "the size of current NDWI_img 11356 11356\n"
     ]
    },
    {
     "name": "stderr",
     "output_type": "stream",
     "text": [
      "900it [01:06, 13.56it/s]\n"
     ]
    },
    {
     "name": "stdout",
     "output_type": "stream",
     "text": [
      "Converting prediction from <class 'numpy.float32'> to uint8, using threshold of 0.5\n",
      "File already analysed! /media/nkd/data18931/ndwi_int8_13001_18931/ndwi_int8_18209.tif\n",
      "/media/nkd/data18931/ndwi_int8_13001_18931/ndwi_int8_18210.tif\n",
      "the size of current NDWI_img 11356 11356\n"
     ]
    },
    {
     "name": "stderr",
     "output_type": "stream",
     "text": [
      "900it [01:06, 13.54it/s]\n"
     ]
    },
    {
     "name": "stdout",
     "output_type": "stream",
     "text": [
      "Converting prediction from <class 'numpy.float32'> to uint8, using threshold of 0.5\n",
      "File already analysed! /media/nkd/data18931/ndwi_int8_13001_18931/ndwi_int8_18210.tif\n",
      "/media/nkd/data18931/ndwi_int8_13001_18931/ndwi_int8_18211.tif\n",
      "the size of current NDWI_img 11356 11356\n"
     ]
    },
    {
     "name": "stderr",
     "output_type": "stream",
     "text": [
      "900it [01:02, 14.51it/s]\n"
     ]
    },
    {
     "name": "stdout",
     "output_type": "stream",
     "text": [
      "Converting prediction from <class 'numpy.float32'> to uint8, using threshold of 0.5\n",
      "File already analysed! /media/nkd/data18931/ndwi_int8_13001_18931/ndwi_int8_18211.tif\n",
      "/media/nkd/data18931/ndwi_int8_13001_18931/ndwi_int8_18212.tif\n",
      "the size of current NDWI_img 11356 11356\n"
     ]
    },
    {
     "name": "stderr",
     "output_type": "stream",
     "text": [
      "900it [00:57, 15.71it/s]\n"
     ]
    },
    {
     "name": "stdout",
     "output_type": "stream",
     "text": [
      "Converting prediction from <class 'numpy.float32'> to uint8, using threshold of 0.5\n",
      "File already analysed! /media/nkd/data18931/ndwi_int8_13001_18931/ndwi_int8_18212.tif\n",
      "/media/nkd/data18931/ndwi_int8_13001_18931/ndwi_int8_18213.tif\n",
      "the size of current NDWI_img 11355 11356\n"
     ]
    },
    {
     "name": "stderr",
     "output_type": "stream",
     "text": [
      "900it [00:59, 15.04it/s]\n"
     ]
    },
    {
     "name": "stdout",
     "output_type": "stream",
     "text": [
      "Converting prediction from <class 'numpy.float32'> to uint8, using threshold of 0.5\n",
      "File already analysed! /media/nkd/data18931/ndwi_int8_13001_18931/ndwi_int8_18213.tif\n",
      "/media/nkd/data18931/ndwi_int8_13001_18931/ndwi_int8_18214.tif\n",
      "the size of current NDWI_img 11355 11356\n"
     ]
    },
    {
     "name": "stderr",
     "output_type": "stream",
     "text": [
      "900it [01:04, 14.06it/s]\n"
     ]
    },
    {
     "name": "stdout",
     "output_type": "stream",
     "text": [
      "Converting prediction from <class 'numpy.float32'> to uint8, using threshold of 0.5\n",
      "File already analysed! /media/nkd/data18931/ndwi_int8_13001_18931/ndwi_int8_18214.tif\n",
      "/media/nkd/data18931/ndwi_int8_13001_18931/ndwi_int8_18215.tif\n",
      "the size of current NDWI_img 11355 11356\n"
     ]
    },
    {
     "name": "stderr",
     "output_type": "stream",
     "text": [
      "900it [01:07, 13.38it/s]\n"
     ]
    },
    {
     "name": "stdout",
     "output_type": "stream",
     "text": [
      "Converting prediction from <class 'numpy.float32'> to uint8, using threshold of 0.5\n",
      "File already analysed! /media/nkd/data18931/ndwi_int8_13001_18931/ndwi_int8_18215.tif\n",
      "/media/nkd/data18931/ndwi_int8_13001_18931/ndwi_int8_18216.tif\n",
      "the size of current NDWI_img 11356 11356\n"
     ]
    },
    {
     "name": "stderr",
     "output_type": "stream",
     "text": [
      "900it [00:42, 21.35it/s]\n"
     ]
    },
    {
     "name": "stdout",
     "output_type": "stream",
     "text": [
      "Converting prediction from <class 'numpy.float32'> to uint8, using threshold of 0.5\n",
      "File already analysed! /media/nkd/data18931/ndwi_int8_13001_18931/ndwi_int8_18216.tif\n",
      "/media/nkd/data18931/ndwi_int8_13001_18931/ndwi_int8_18217.tif\n",
      "the size of current NDWI_img 11356 11356\n"
     ]
    },
    {
     "name": "stderr",
     "output_type": "stream",
     "text": [
      "900it [00:58, 15.43it/s]\n"
     ]
    },
    {
     "name": "stdout",
     "output_type": "stream",
     "text": [
      "Converting prediction from <class 'numpy.float32'> to uint8, using threshold of 0.5\n",
      "File already analysed! /media/nkd/data18931/ndwi_int8_13001_18931/ndwi_int8_18217.tif\n",
      "/media/nkd/data18931/ndwi_int8_13001_18931/ndwi_int8_18218.tif\n",
      "the size of current NDWI_img 11356 11356\n"
     ]
    },
    {
     "name": "stderr",
     "output_type": "stream",
     "text": [
      "900it [01:03, 14.23it/s]\n"
     ]
    },
    {
     "name": "stdout",
     "output_type": "stream",
     "text": [
      "Converting prediction from <class 'numpy.float32'> to uint8, using threshold of 0.5\n",
      "File already analysed! /media/nkd/data18931/ndwi_int8_13001_18931/ndwi_int8_18218.tif\n",
      "/media/nkd/data18931/ndwi_int8_13001_18931/ndwi_int8_18219.tif\n",
      "the size of current NDWI_img 11356 11356\n"
     ]
    },
    {
     "name": "stderr",
     "output_type": "stream",
     "text": [
      "900it [01:07, 13.36it/s]\n"
     ]
    },
    {
     "name": "stdout",
     "output_type": "stream",
     "text": [
      "Converting prediction from <class 'numpy.float32'> to uint8, using threshold of 0.5\n",
      "File already analysed! /media/nkd/data18931/ndwi_int8_13001_18931/ndwi_int8_18219.tif\n",
      "/media/nkd/data18931/ndwi_int8_13001_18931/ndwi_int8_18220.tif\n",
      "the size of current NDWI_img 11356 11356\n"
     ]
    },
    {
     "name": "stderr",
     "output_type": "stream",
     "text": [
      "900it [01:06, 13.60it/s]\n"
     ]
    },
    {
     "name": "stdout",
     "output_type": "stream",
     "text": [
      "Converting prediction from <class 'numpy.float32'> to uint8, using threshold of 0.5\n",
      "File already analysed! /media/nkd/data18931/ndwi_int8_13001_18931/ndwi_int8_18220.tif\n",
      "/media/nkd/data18931/ndwi_int8_13001_18931/ndwi_int8_18221.tif\n",
      "the size of current NDWI_img 11356 11356\n"
     ]
    },
    {
     "name": "stderr",
     "output_type": "stream",
     "text": [
      "900it [01:00, 15.00it/s]\n"
     ]
    },
    {
     "name": "stdout",
     "output_type": "stream",
     "text": [
      "Converting prediction from <class 'numpy.float32'> to uint8, using threshold of 0.5\n",
      "File already analysed! /media/nkd/data18931/ndwi_int8_13001_18931/ndwi_int8_18221.tif\n",
      "/media/nkd/data18931/ndwi_int8_13001_18931/ndwi_int8_18222.tif\n",
      "the size of current NDWI_img 11356 11356\n"
     ]
    },
    {
     "name": "stderr",
     "output_type": "stream",
     "text": [
      "900it [01:02, 14.33it/s]\n"
     ]
    },
    {
     "name": "stdout",
     "output_type": "stream",
     "text": [
      "Converting prediction from <class 'numpy.float32'> to uint8, using threshold of 0.5\n",
      "File already analysed! /media/nkd/data18931/ndwi_int8_13001_18931/ndwi_int8_18222.tif\n",
      "/media/nkd/data18931/ndwi_int8_13001_18931/ndwi_int8_18223.tif\n",
      "the size of current NDWI_img 11355 11356\n"
     ]
    },
    {
     "name": "stderr",
     "output_type": "stream",
     "text": [
      "900it [01:07, 13.24it/s]\n"
     ]
    },
    {
     "name": "stdout",
     "output_type": "stream",
     "text": [
      "Converting prediction from <class 'numpy.float32'> to uint8, using threshold of 0.5\n",
      "File already analysed! /media/nkd/data18931/ndwi_int8_13001_18931/ndwi_int8_18223.tif\n",
      "/media/nkd/data18931/ndwi_int8_13001_18931/ndwi_int8_18224.tif\n",
      "the size of current NDWI_img 11355 11356\n"
     ]
    },
    {
     "name": "stderr",
     "output_type": "stream",
     "text": [
      "900it [01:09, 12.94it/s]\n"
     ]
    },
    {
     "name": "stdout",
     "output_type": "stream",
     "text": [
      "Converting prediction from <class 'numpy.float32'> to uint8, using threshold of 0.5\n",
      "File already analysed! /media/nkd/data18931/ndwi_int8_13001_18931/ndwi_int8_18224.tif\n",
      "/media/nkd/data18931/ndwi_int8_13001_18931/ndwi_int8_18225.tif\n",
      "the size of current NDWI_img 11355 11356\n"
     ]
    },
    {
     "name": "stderr",
     "output_type": "stream",
     "text": [
      "900it [01:06, 13.45it/s]\n"
     ]
    },
    {
     "name": "stdout",
     "output_type": "stream",
     "text": [
      "Converting prediction from <class 'numpy.float32'> to uint8, using threshold of 0.5\n",
      "File already analysed! /media/nkd/data18931/ndwi_int8_13001_18931/ndwi_int8_18225.tif\n",
      "/media/nkd/data18931/ndwi_int8_13001_18931/ndwi_int8_18226.tif\n",
      "the size of current NDWI_img 11356 11356\n"
     ]
    },
    {
     "name": "stderr",
     "output_type": "stream",
     "text": [
      "900it [00:42, 21.02it/s]\n"
     ]
    },
    {
     "name": "stdout",
     "output_type": "stream",
     "text": [
      "Converting prediction from <class 'numpy.float32'> to uint8, using threshold of 0.5\n",
      "File already analysed! /media/nkd/data18931/ndwi_int8_13001_18931/ndwi_int8_18226.tif\n",
      "/media/nkd/data18931/ndwi_int8_13001_18931/ndwi_int8_18227.tif\n",
      "the size of current NDWI_img 11356 11356\n"
     ]
    },
    {
     "name": "stderr",
     "output_type": "stream",
     "text": [
      "900it [00:54, 16.47it/s]\n"
     ]
    },
    {
     "name": "stdout",
     "output_type": "stream",
     "text": [
      "Converting prediction from <class 'numpy.float32'> to uint8, using threshold of 0.5\n",
      "File already analysed! /media/nkd/data18931/ndwi_int8_13001_18931/ndwi_int8_18227.tif\n",
      "/media/nkd/data18931/ndwi_int8_13001_18931/ndwi_int8_18228.tif\n",
      "the size of current NDWI_img 11356 11356\n"
     ]
    },
    {
     "name": "stderr",
     "output_type": "stream",
     "text": [
      "900it [01:02, 14.34it/s]\n"
     ]
    },
    {
     "name": "stdout",
     "output_type": "stream",
     "text": [
      "Converting prediction from <class 'numpy.float32'> to uint8, using threshold of 0.5\n",
      "File already analysed! /media/nkd/data18931/ndwi_int8_13001_18931/ndwi_int8_18228.tif\n",
      "/media/nkd/data18931/ndwi_int8_13001_18931/ndwi_int8_18229.tif\n",
      "the size of current NDWI_img 11356 11356\n"
     ]
    },
    {
     "name": "stderr",
     "output_type": "stream",
     "text": [
      "900it [01:05, 13.83it/s]\n"
     ]
    },
    {
     "name": "stdout",
     "output_type": "stream",
     "text": [
      "Converting prediction from <class 'numpy.float32'> to uint8, using threshold of 0.5\n",
      "File already analysed! /media/nkd/data18931/ndwi_int8_13001_18931/ndwi_int8_18229.tif\n",
      "/media/nkd/data18931/ndwi_int8_13001_18931/ndwi_int8_18230.tif\n",
      "the size of current NDWI_img 11356 11356\n"
     ]
    },
    {
     "name": "stderr",
     "output_type": "stream",
     "text": [
      "900it [01:05, 13.78it/s]\n"
     ]
    },
    {
     "name": "stdout",
     "output_type": "stream",
     "text": [
      "Converting prediction from <class 'numpy.float32'> to uint8, using threshold of 0.5\n",
      "File already analysed! /media/nkd/data18931/ndwi_int8_13001_18931/ndwi_int8_18230.tif\n",
      "/media/nkd/data18931/ndwi_int8_13001_18931/ndwi_int8_18231.tif\n",
      "the size of current NDWI_img 11356 11356\n"
     ]
    },
    {
     "name": "stderr",
     "output_type": "stream",
     "text": [
      "900it [01:05, 13.83it/s]\n"
     ]
    },
    {
     "name": "stdout",
     "output_type": "stream",
     "text": [
      "Converting prediction from <class 'numpy.float32'> to uint8, using threshold of 0.5\n",
      "File already analysed! /media/nkd/data18931/ndwi_int8_13001_18931/ndwi_int8_18231.tif\n",
      "/media/nkd/data18931/ndwi_int8_13001_18931/ndwi_int8_18232.tif\n",
      "the size of current NDWI_img 11356 11356\n"
     ]
    },
    {
     "name": "stderr",
     "output_type": "stream",
     "text": [
      "900it [01:03, 14.22it/s]\n"
     ]
    },
    {
     "name": "stdout",
     "output_type": "stream",
     "text": [
      "Converting prediction from <class 'numpy.float32'> to uint8, using threshold of 0.5\n",
      "File already analysed! /media/nkd/data18931/ndwi_int8_13001_18931/ndwi_int8_18232.tif\n",
      "/media/nkd/data18931/ndwi_int8_13001_18931/ndwi_int8_18233.tif\n",
      "the size of current NDWI_img 11355 11356\n"
     ]
    },
    {
     "name": "stderr",
     "output_type": "stream",
     "text": [
      "900it [01:06, 13.61it/s]\n"
     ]
    },
    {
     "name": "stdout",
     "output_type": "stream",
     "text": [
      "Converting prediction from <class 'numpy.float32'> to uint8, using threshold of 0.5\n",
      "File already analysed! /media/nkd/data18931/ndwi_int8_13001_18931/ndwi_int8_18233.tif\n",
      "/media/nkd/data18931/ndwi_int8_13001_18931/ndwi_int8_18234.tif\n",
      "the size of current NDWI_img 11355 11356\n"
     ]
    },
    {
     "name": "stderr",
     "output_type": "stream",
     "text": [
      "900it [01:05, 13.75it/s]\n"
     ]
    },
    {
     "name": "stdout",
     "output_type": "stream",
     "text": [
      "Converting prediction from <class 'numpy.float32'> to uint8, using threshold of 0.5\n",
      "File already analysed! /media/nkd/data18931/ndwi_int8_13001_18931/ndwi_int8_18234.tif\n",
      "/media/nkd/data18931/ndwi_int8_13001_18931/ndwi_int8_18235.tif\n",
      "the size of current NDWI_img 11355 11356\n"
     ]
    },
    {
     "name": "stderr",
     "output_type": "stream",
     "text": [
      "900it [01:09, 12.95it/s]\n"
     ]
    },
    {
     "name": "stdout",
     "output_type": "stream",
     "text": [
      "Converting prediction from <class 'numpy.float32'> to uint8, using threshold of 0.5\n",
      "File already analysed! /media/nkd/data18931/ndwi_int8_13001_18931/ndwi_int8_18235.tif\n",
      "/media/nkd/data18931/ndwi_int8_13001_18931/ndwi_int8_18236.tif\n",
      "the size of current NDWI_img 11356 11356\n"
     ]
    },
    {
     "name": "stderr",
     "output_type": "stream",
     "text": [
      "900it [00:49, 18.09it/s]\n"
     ]
    },
    {
     "name": "stdout",
     "output_type": "stream",
     "text": [
      "Converting prediction from <class 'numpy.float32'> to uint8, using threshold of 0.5\n",
      "File already analysed! /media/nkd/data18931/ndwi_int8_13001_18931/ndwi_int8_18236.tif\n",
      "/media/nkd/data18931/ndwi_int8_13001_18931/ndwi_int8_18237.tif\n",
      "the size of current NDWI_img 11356 11356\n"
     ]
    },
    {
     "name": "stderr",
     "output_type": "stream",
     "text": [
      "900it [01:01, 14.62it/s]\n"
     ]
    },
    {
     "name": "stdout",
     "output_type": "stream",
     "text": [
      "Converting prediction from <class 'numpy.float32'> to uint8, using threshold of 0.5\n",
      "File already analysed! /media/nkd/data18931/ndwi_int8_13001_18931/ndwi_int8_18237.tif\n",
      "/media/nkd/data18931/ndwi_int8_13001_18931/ndwi_int8_18238.tif\n",
      "the size of current NDWI_img 11356 11356\n"
     ]
    },
    {
     "name": "stderr",
     "output_type": "stream",
     "text": [
      "900it [00:59, 15.08it/s]\n"
     ]
    },
    {
     "name": "stdout",
     "output_type": "stream",
     "text": [
      "Converting prediction from <class 'numpy.float32'> to uint8, using threshold of 0.5\n",
      "File already analysed! /media/nkd/data18931/ndwi_int8_13001_18931/ndwi_int8_18238.tif\n",
      "/media/nkd/data18931/ndwi_int8_13001_18931/ndwi_int8_18239.tif\n",
      "the size of current NDWI_img 11356 11356\n"
     ]
    },
    {
     "name": "stderr",
     "output_type": "stream",
     "text": [
      "900it [01:06, 13.52it/s]\n"
     ]
    },
    {
     "name": "stdout",
     "output_type": "stream",
     "text": [
      "Converting prediction from <class 'numpy.float32'> to uint8, using threshold of 0.5\n",
      "File already analysed! /media/nkd/data18931/ndwi_int8_13001_18931/ndwi_int8_18239.tif\n",
      "/media/nkd/data18931/ndwi_int8_13001_18931/ndwi_int8_18240.tif\n",
      "the size of current NDWI_img 11356 11356\n"
     ]
    },
    {
     "name": "stderr",
     "output_type": "stream",
     "text": [
      "900it [01:06, 13.47it/s]\n"
     ]
    },
    {
     "name": "stdout",
     "output_type": "stream",
     "text": [
      "Converting prediction from <class 'numpy.float32'> to uint8, using threshold of 0.5\n",
      "File already analysed! /media/nkd/data18931/ndwi_int8_13001_18931/ndwi_int8_18240.tif\n",
      "/media/nkd/data18931/ndwi_int8_13001_18931/ndwi_int8_18241.tif\n",
      "the size of current NDWI_img 11356 11356\n"
     ]
    },
    {
     "name": "stderr",
     "output_type": "stream",
     "text": [
      "900it [01:03, 14.21it/s]\n"
     ]
    },
    {
     "name": "stdout",
     "output_type": "stream",
     "text": [
      "Converting prediction from <class 'numpy.float32'> to uint8, using threshold of 0.5\n",
      "File already analysed! /media/nkd/data18931/ndwi_int8_13001_18931/ndwi_int8_18241.tif\n",
      "/media/nkd/data18931/ndwi_int8_13001_18931/ndwi_int8_18242.tif\n",
      "the size of current NDWI_img 11355 11356\n"
     ]
    },
    {
     "name": "stderr",
     "output_type": "stream",
     "text": [
      "900it [01:03, 14.17it/s]\n"
     ]
    },
    {
     "name": "stdout",
     "output_type": "stream",
     "text": [
      "Converting prediction from <class 'numpy.float32'> to uint8, using threshold of 0.5\n",
      "File already analysed! /media/nkd/data18931/ndwi_int8_13001_18931/ndwi_int8_18242.tif\n",
      "/media/nkd/data18931/ndwi_int8_13001_18931/ndwi_int8_18243.tif\n",
      "the size of current NDWI_img 11355 11356\n"
     ]
    },
    {
     "name": "stderr",
     "output_type": "stream",
     "text": [
      "900it [01:05, 13.84it/s]\n"
     ]
    },
    {
     "name": "stdout",
     "output_type": "stream",
     "text": [
      "Converting prediction from <class 'numpy.float32'> to uint8, using threshold of 0.5\n",
      "File already analysed! /media/nkd/data18931/ndwi_int8_13001_18931/ndwi_int8_18243.tif\n",
      "/media/nkd/data18931/ndwi_int8_13001_18931/ndwi_int8_18244.tif\n",
      "the size of current NDWI_img 11355 11356\n"
     ]
    },
    {
     "name": "stderr",
     "output_type": "stream",
     "text": [
      "900it [01:04, 13.95it/s]\n"
     ]
    },
    {
     "name": "stdout",
     "output_type": "stream",
     "text": [
      "Converting prediction from <class 'numpy.float32'> to uint8, using threshold of 0.5\n",
      "File already analysed! /media/nkd/data18931/ndwi_int8_13001_18931/ndwi_int8_18244.tif\n",
      "/media/nkd/data18931/ndwi_int8_13001_18931/ndwi_int8_18245.tif\n",
      "the size of current NDWI_img 11356 11356\n"
     ]
    },
    {
     "name": "stderr",
     "output_type": "stream",
     "text": [
      "900it [00:44, 20.14it/s]\n"
     ]
    },
    {
     "name": "stdout",
     "output_type": "stream",
     "text": [
      "Converting prediction from <class 'numpy.float32'> to uint8, using threshold of 0.5\n",
      "File already analysed! /media/nkd/data18931/ndwi_int8_13001_18931/ndwi_int8_18245.tif\n",
      "/media/nkd/data18931/ndwi_int8_13001_18931/ndwi_int8_18246.tif\n",
      "the size of current NDWI_img 11356 11356\n"
     ]
    },
    {
     "name": "stderr",
     "output_type": "stream",
     "text": [
      "900it [01:01, 14.63it/s]\n"
     ]
    },
    {
     "name": "stdout",
     "output_type": "stream",
     "text": [
      "Converting prediction from <class 'numpy.float32'> to uint8, using threshold of 0.5\n",
      "File already analysed! /media/nkd/data18931/ndwi_int8_13001_18931/ndwi_int8_18246.tif\n",
      "/media/nkd/data18931/ndwi_int8_13001_18931/ndwi_int8_18247.tif\n",
      "the size of current NDWI_img 11356 11356\n"
     ]
    },
    {
     "name": "stderr",
     "output_type": "stream",
     "text": [
      "900it [01:04, 13.95it/s]\n"
     ]
    },
    {
     "name": "stdout",
     "output_type": "stream",
     "text": [
      "Converting prediction from <class 'numpy.float32'> to uint8, using threshold of 0.5\n",
      "File already analysed! /media/nkd/data18931/ndwi_int8_13001_18931/ndwi_int8_18247.tif\n",
      "/media/nkd/data18931/ndwi_int8_13001_18931/ndwi_int8_18248.tif\n",
      "the size of current NDWI_img 11356 11356\n"
     ]
    },
    {
     "name": "stderr",
     "output_type": "stream",
     "text": [
      "900it [00:57, 15.68it/s]\n"
     ]
    },
    {
     "name": "stdout",
     "output_type": "stream",
     "text": [
      "Converting prediction from <class 'numpy.float32'> to uint8, using threshold of 0.5\n",
      "File already analysed! /media/nkd/data18931/ndwi_int8_13001_18931/ndwi_int8_18248.tif\n",
      "/media/nkd/data18931/ndwi_int8_13001_18931/ndwi_int8_18249.tif\n",
      "the size of current NDWI_img 11356 11356\n"
     ]
    },
    {
     "name": "stderr",
     "output_type": "stream",
     "text": [
      "900it [00:53, 16.91it/s]\n"
     ]
    },
    {
     "name": "stdout",
     "output_type": "stream",
     "text": [
      "Converting prediction from <class 'numpy.float32'> to uint8, using threshold of 0.5\n",
      "File already analysed! /media/nkd/data18931/ndwi_int8_13001_18931/ndwi_int8_18249.tif\n",
      "/media/nkd/data18931/ndwi_int8_13001_18931/ndwi_int8_18250.tif\n",
      "the size of current NDWI_img 11356 11356\n"
     ]
    },
    {
     "name": "stderr",
     "output_type": "stream",
     "text": [
      "900it [01:04, 13.93it/s]\n"
     ]
    },
    {
     "name": "stdout",
     "output_type": "stream",
     "text": [
      "Converting prediction from <class 'numpy.float32'> to uint8, using threshold of 0.5\n",
      "File already analysed! /media/nkd/data18931/ndwi_int8_13001_18931/ndwi_int8_18250.tif\n",
      "/media/nkd/data18931/ndwi_int8_13001_18931/ndwi_int8_18251.tif\n",
      "the size of current NDWI_img 11355 11356\n"
     ]
    },
    {
     "name": "stderr",
     "output_type": "stream",
     "text": [
      "900it [01:07, 13.40it/s]\n"
     ]
    },
    {
     "name": "stdout",
     "output_type": "stream",
     "text": [
      "Converting prediction from <class 'numpy.float32'> to uint8, using threshold of 0.5\n",
      "File already analysed! /media/nkd/data18931/ndwi_int8_13001_18931/ndwi_int8_18251.tif\n",
      "/media/nkd/data18931/ndwi_int8_13001_18931/ndwi_int8_18252.tif\n",
      "the size of current NDWI_img 11355 11356\n"
     ]
    },
    {
     "name": "stderr",
     "output_type": "stream",
     "text": [
      "900it [01:02, 14.36it/s]\n"
     ]
    },
    {
     "name": "stdout",
     "output_type": "stream",
     "text": [
      "Converting prediction from <class 'numpy.float32'> to uint8, using threshold of 0.5\n",
      "File already analysed! /media/nkd/data18931/ndwi_int8_13001_18931/ndwi_int8_18252.tif\n",
      "/media/nkd/data18931/ndwi_int8_13001_18931/ndwi_int8_18253.tif\n",
      "the size of current NDWI_img 11355 11356\n"
     ]
    },
    {
     "name": "stderr",
     "output_type": "stream",
     "text": [
      "900it [01:01, 14.65it/s]\n"
     ]
    },
    {
     "name": "stdout",
     "output_type": "stream",
     "text": [
      "Converting prediction from <class 'numpy.float32'> to uint8, using threshold of 0.5\n",
      "File already analysed! /media/nkd/data18931/ndwi_int8_13001_18931/ndwi_int8_18253.tif\n",
      "/media/nkd/data18931/ndwi_int8_13001_18931/ndwi_int8_18254.tif\n",
      "the size of current NDWI_img 11356 11356\n"
     ]
    },
    {
     "name": "stderr",
     "output_type": "stream",
     "text": [
      "900it [00:43, 20.67it/s]\n"
     ]
    },
    {
     "name": "stdout",
     "output_type": "stream",
     "text": [
      "Converting prediction from <class 'numpy.float32'> to uint8, using threshold of 0.5\n",
      "File already analysed! /media/nkd/data18931/ndwi_int8_13001_18931/ndwi_int8_18254.tif\n",
      "/media/nkd/data18931/ndwi_int8_13001_18931/ndwi_int8_18255.tif\n",
      "the size of current NDWI_img 11356 11356\n"
     ]
    },
    {
     "name": "stderr",
     "output_type": "stream",
     "text": [
      "900it [00:50, 17.85it/s]\n"
     ]
    },
    {
     "name": "stdout",
     "output_type": "stream",
     "text": [
      "Converting prediction from <class 'numpy.float32'> to uint8, using threshold of 0.5\n",
      "File already analysed! /media/nkd/data18931/ndwi_int8_13001_18931/ndwi_int8_18255.tif\n",
      "/media/nkd/data18931/ndwi_int8_13001_18931/ndwi_int8_18256.tif\n",
      "the size of current NDWI_img 11356 11356\n"
     ]
    },
    {
     "name": "stderr",
     "output_type": "stream",
     "text": [
      "900it [00:43, 20.56it/s]\n"
     ]
    },
    {
     "name": "stdout",
     "output_type": "stream",
     "text": [
      "Converting prediction from <class 'numpy.float32'> to uint8, using threshold of 0.5\n",
      "File already analysed! /media/nkd/data18931/ndwi_int8_13001_18931/ndwi_int8_18256.tif\n",
      "/media/nkd/data18931/ndwi_int8_13001_18931/ndwi_int8_18257.tif\n",
      "the size of current NDWI_img 11356 11356\n"
     ]
    },
    {
     "name": "stderr",
     "output_type": "stream",
     "text": [
      "900it [01:04, 14.04it/s]\n"
     ]
    },
    {
     "name": "stdout",
     "output_type": "stream",
     "text": [
      "Converting prediction from <class 'numpy.float32'> to uint8, using threshold of 0.5\n",
      "File already analysed! /media/nkd/data18931/ndwi_int8_13001_18931/ndwi_int8_18257.tif\n",
      "/media/nkd/data18931/ndwi_int8_13001_18931/ndwi_int8_18258.tif\n",
      "the size of current NDWI_img 11356 11356\n"
     ]
    },
    {
     "name": "stderr",
     "output_type": "stream",
     "text": [
      "900it [01:03, 14.08it/s]\n"
     ]
    },
    {
     "name": "stdout",
     "output_type": "stream",
     "text": [
      "Converting prediction from <class 'numpy.float32'> to uint8, using threshold of 0.5\n",
      "File already analysed! /media/nkd/data18931/ndwi_int8_13001_18931/ndwi_int8_18258.tif\n",
      "/media/nkd/data18931/ndwi_int8_13001_18931/ndwi_int8_18259.tif\n",
      "the size of current NDWI_img 11355 11356\n"
     ]
    },
    {
     "name": "stderr",
     "output_type": "stream",
     "text": [
      "900it [01:01, 14.62it/s]\n"
     ]
    },
    {
     "name": "stdout",
     "output_type": "stream",
     "text": [
      "Converting prediction from <class 'numpy.float32'> to uint8, using threshold of 0.5\n",
      "File already analysed! /media/nkd/data18931/ndwi_int8_13001_18931/ndwi_int8_18259.tif\n",
      "/media/nkd/data18931/ndwi_int8_13001_18931/ndwi_int8_18260.tif\n",
      "the size of current NDWI_img 11355 11356\n"
     ]
    },
    {
     "name": "stderr",
     "output_type": "stream",
     "text": [
      "900it [01:05, 13.79it/s]\n"
     ]
    },
    {
     "name": "stdout",
     "output_type": "stream",
     "text": [
      "Converting prediction from <class 'numpy.float32'> to uint8, using threshold of 0.5\n",
      "File already analysed! /media/nkd/data18931/ndwi_int8_13001_18931/ndwi_int8_18260.tif\n",
      "/media/nkd/data18931/ndwi_int8_13001_18931/ndwi_int8_18261.tif\n",
      "the size of current NDWI_img 11355 11356\n"
     ]
    },
    {
     "name": "stderr",
     "output_type": "stream",
     "text": [
      "900it [01:04, 14.03it/s]\n"
     ]
    },
    {
     "name": "stdout",
     "output_type": "stream",
     "text": [
      "Converting prediction from <class 'numpy.float32'> to uint8, using threshold of 0.5\n",
      "File already analysed! /media/nkd/data18931/ndwi_int8_13001_18931/ndwi_int8_18261.tif\n",
      "/media/nkd/data18931/ndwi_int8_13001_18931/ndwi_int8_18262.tif\n",
      "the size of current NDWI_img 11356 11356\n"
     ]
    },
    {
     "name": "stderr",
     "output_type": "stream",
     "text": [
      "900it [00:40, 22.38it/s]\n"
     ]
    },
    {
     "name": "stdout",
     "output_type": "stream",
     "text": [
      "Converting prediction from <class 'numpy.float32'> to uint8, using threshold of 0.5\n",
      "File already analysed! /media/nkd/data18931/ndwi_int8_13001_18931/ndwi_int8_18262.tif\n",
      "/media/nkd/data18931/ndwi_int8_13001_18931/ndwi_int8_18263.tif\n",
      "the size of current NDWI_img 11356 11356\n"
     ]
    },
    {
     "name": "stderr",
     "output_type": "stream",
     "text": [
      "900it [01:05, 13.76it/s]\n"
     ]
    },
    {
     "name": "stdout",
     "output_type": "stream",
     "text": [
      "Converting prediction from <class 'numpy.float32'> to uint8, using threshold of 0.5\n",
      "File already analysed! /media/nkd/data18931/ndwi_int8_13001_18931/ndwi_int8_18263.tif\n",
      "/media/nkd/data18931/ndwi_int8_13001_18931/ndwi_int8_18264.tif\n",
      "the size of current NDWI_img 11356 11356\n"
     ]
    },
    {
     "name": "stderr",
     "output_type": "stream",
     "text": [
      "900it [01:03, 14.26it/s]\n"
     ]
    },
    {
     "name": "stdout",
     "output_type": "stream",
     "text": [
      "Converting prediction from <class 'numpy.float32'> to uint8, using threshold of 0.5\n",
      "File already analysed! /media/nkd/data18931/ndwi_int8_13001_18931/ndwi_int8_18264.tif\n",
      "/media/nkd/data18931/ndwi_int8_13001_18931/ndwi_int8_18265.tif\n",
      "the size of current NDWI_img 11355 11356\n"
     ]
    },
    {
     "name": "stderr",
     "output_type": "stream",
     "text": [
      "900it [01:04, 14.03it/s]\n"
     ]
    },
    {
     "name": "stdout",
     "output_type": "stream",
     "text": [
      "Converting prediction from <class 'numpy.float32'> to uint8, using threshold of 0.5\n",
      "File already analysed! /media/nkd/data18931/ndwi_int8_13001_18931/ndwi_int8_18265.tif\n",
      "/media/nkd/data18931/ndwi_int8_13001_18931/ndwi_int8_18266.tif\n",
      "the size of current NDWI_img 11355 11356\n"
     ]
    },
    {
     "name": "stderr",
     "output_type": "stream",
     "text": [
      "900it [01:06, 13.58it/s]\n"
     ]
    },
    {
     "name": "stdout",
     "output_type": "stream",
     "text": [
      "Converting prediction from <class 'numpy.float32'> to uint8, using threshold of 0.5\n",
      "File already analysed! /media/nkd/data18931/ndwi_int8_13001_18931/ndwi_int8_18266.tif\n",
      "/media/nkd/data18931/ndwi_int8_13001_18931/ndwi_int8_18267.tif\n",
      "the size of current NDWI_img 11355 11356\n"
     ]
    },
    {
     "name": "stderr",
     "output_type": "stream",
     "text": [
      "900it [01:10, 12.83it/s]\n"
     ]
    },
    {
     "name": "stdout",
     "output_type": "stream",
     "text": [
      "Converting prediction from <class 'numpy.float32'> to uint8, using threshold of 0.5\n",
      "File already analysed! /media/nkd/data18931/ndwi_int8_13001_18931/ndwi_int8_18267.tif\n",
      "/media/nkd/data18931/ndwi_int8_13001_18931/ndwi_int8_18268.tif\n",
      "the size of current NDWI_img 11356 11356\n"
     ]
    },
    {
     "name": "stderr",
     "output_type": "stream",
     "text": [
      "900it [00:42, 21.17it/s]\n"
     ]
    },
    {
     "name": "stdout",
     "output_type": "stream",
     "text": [
      "Converting prediction from <class 'numpy.float32'> to uint8, using threshold of 0.5\n",
      "File already analysed! /media/nkd/data18931/ndwi_int8_13001_18931/ndwi_int8_18268.tif\n",
      "/media/nkd/data18931/ndwi_int8_13001_18931/ndwi_int8_18269.tif\n",
      "the size of current NDWI_img 11356 11356\n"
     ]
    },
    {
     "name": "stderr",
     "output_type": "stream",
     "text": [
      "900it [01:04, 13.94it/s]\n"
     ]
    },
    {
     "name": "stdout",
     "output_type": "stream",
     "text": [
      "Converting prediction from <class 'numpy.float32'> to uint8, using threshold of 0.5\n",
      "File already analysed! /media/nkd/data18931/ndwi_int8_13001_18931/ndwi_int8_18269.tif\n",
      "/media/nkd/data18931/ndwi_int8_13001_18931/ndwi_int8_18270.tif\n",
      "the size of current NDWI_img 11356 11356\n"
     ]
    },
    {
     "name": "stderr",
     "output_type": "stream",
     "text": [
      "900it [01:03, 14.21it/s]\n"
     ]
    },
    {
     "name": "stdout",
     "output_type": "stream",
     "text": [
      "Converting prediction from <class 'numpy.float32'> to uint8, using threshold of 0.5\n",
      "File already analysed! /media/nkd/data18931/ndwi_int8_13001_18931/ndwi_int8_18270.tif\n",
      "/media/nkd/data18931/ndwi_int8_13001_18931/ndwi_int8_18271.tif\n",
      "the size of current NDWI_img 11355 11356\n"
     ]
    },
    {
     "name": "stderr",
     "output_type": "stream",
     "text": [
      "900it [01:03, 14.08it/s]\n"
     ]
    },
    {
     "name": "stdout",
     "output_type": "stream",
     "text": [
      "Converting prediction from <class 'numpy.float32'> to uint8, using threshold of 0.5\n",
      "File already analysed! /media/nkd/data18931/ndwi_int8_13001_18931/ndwi_int8_18271.tif\n",
      "/media/nkd/data18931/ndwi_int8_13001_18931/ndwi_int8_18272.tif\n",
      "the size of current NDWI_img 11355 11356\n"
     ]
    },
    {
     "name": "stderr",
     "output_type": "stream",
     "text": [
      "900it [01:02, 14.39it/s]\n"
     ]
    },
    {
     "name": "stdout",
     "output_type": "stream",
     "text": [
      "Converting prediction from <class 'numpy.float32'> to uint8, using threshold of 0.5\n",
      "File already analysed! /media/nkd/data18931/ndwi_int8_13001_18931/ndwi_int8_18272.tif\n",
      "/media/nkd/data18931/ndwi_int8_13001_18931/ndwi_int8_18273.tif\n",
      "the size of current NDWI_img 11355 11356\n"
     ]
    },
    {
     "name": "stderr",
     "output_type": "stream",
     "text": [
      "900it [01:09, 13.00it/s]\n"
     ]
    },
    {
     "name": "stdout",
     "output_type": "stream",
     "text": [
      "Converting prediction from <class 'numpy.float32'> to uint8, using threshold of 0.5\n",
      "File already analysed! /media/nkd/data18931/ndwi_int8_13001_18931/ndwi_int8_18273.tif\n",
      "/media/nkd/data18931/ndwi_int8_13001_18931/ndwi_int8_18274.tif\n",
      "the size of current NDWI_img 11356 11356\n"
     ]
    },
    {
     "name": "stderr",
     "output_type": "stream",
     "text": [
      "900it [00:41, 21.61it/s]\n"
     ]
    },
    {
     "name": "stdout",
     "output_type": "stream",
     "text": [
      "Converting prediction from <class 'numpy.float32'> to uint8, using threshold of 0.5\n",
      "File already analysed! /media/nkd/data18931/ndwi_int8_13001_18931/ndwi_int8_18274.tif\n",
      "/media/nkd/data18931/ndwi_int8_13001_18931/ndwi_int8_18275.tif\n",
      "the size of current NDWI_img 11356 11356\n"
     ]
    },
    {
     "name": "stderr",
     "output_type": "stream",
     "text": [
      "900it [00:46, 19.49it/s]\n"
     ]
    },
    {
     "name": "stdout",
     "output_type": "stream",
     "text": [
      "Converting prediction from <class 'numpy.float32'> to uint8, using threshold of 0.5\n",
      "File already analysed! /media/nkd/data18931/ndwi_int8_13001_18931/ndwi_int8_18275.tif\n",
      "/media/nkd/data18931/ndwi_int8_13001_18931/ndwi_int8_18276.tif\n",
      "the size of current NDWI_img 11356 11356\n"
     ]
    },
    {
     "name": "stderr",
     "output_type": "stream",
     "text": [
      "900it [00:58, 15.47it/s]\n"
     ]
    },
    {
     "name": "stdout",
     "output_type": "stream",
     "text": [
      "Converting prediction from <class 'numpy.float32'> to uint8, using threshold of 0.5\n",
      "File already analysed! /media/nkd/data18931/ndwi_int8_13001_18931/ndwi_int8_18276.tif\n",
      "/media/nkd/data18931/ndwi_int8_13001_18931/ndwi_int8_18277.tif\n",
      "the size of current NDWI_img 11355 11356\n"
     ]
    },
    {
     "name": "stderr",
     "output_type": "stream",
     "text": [
      "900it [01:06, 13.51it/s]\n"
     ]
    },
    {
     "name": "stdout",
     "output_type": "stream",
     "text": [
      "Converting prediction from <class 'numpy.float32'> to uint8, using threshold of 0.5\n",
      "File already analysed! /media/nkd/data18931/ndwi_int8_13001_18931/ndwi_int8_18277.tif\n",
      "/media/nkd/data18931/ndwi_int8_13001_18931/ndwi_int8_18278.tif\n",
      "the size of current NDWI_img 11355 11356\n"
     ]
    },
    {
     "name": "stderr",
     "output_type": "stream",
     "text": [
      "900it [01:12, 12.40it/s]\n"
     ]
    },
    {
     "name": "stdout",
     "output_type": "stream",
     "text": [
      "Converting prediction from <class 'numpy.float32'> to uint8, using threshold of 0.5\n",
      "File already analysed! /media/nkd/data18931/ndwi_int8_13001_18931/ndwi_int8_18278.tif\n",
      "/media/nkd/data18931/ndwi_int8_13001_18931/ndwi_int8_18279.tif\n",
      "the size of current NDWI_img 11355 11356\n"
     ]
    },
    {
     "name": "stderr",
     "output_type": "stream",
     "text": [
      "900it [01:11, 12.50it/s]\n"
     ]
    },
    {
     "name": "stdout",
     "output_type": "stream",
     "text": [
      "Converting prediction from <class 'numpy.float32'> to uint8, using threshold of 0.5\n",
      "File already analysed! /media/nkd/data18931/ndwi_int8_13001_18931/ndwi_int8_18279.tif\n",
      "/media/nkd/data18931/ndwi_int8_13001_18931/ndwi_int8_18280.tif\n",
      "the size of current NDWI_img 11356 11355\n"
     ]
    },
    {
     "name": "stderr",
     "output_type": "stream",
     "text": [
      "900it [00:44, 20.17it/s]\n"
     ]
    },
    {
     "name": "stdout",
     "output_type": "stream",
     "text": [
      "Converting prediction from <class 'numpy.float32'> to uint8, using threshold of 0.5\n",
      "File already analysed! /media/nkd/data18931/ndwi_int8_13001_18931/ndwi_int8_18280.tif\n",
      "/media/nkd/data18931/ndwi_int8_13001_18931/ndwi_int8_18281.tif\n",
      "the size of current NDWI_img 11355 11355\n"
     ]
    },
    {
     "name": "stderr",
     "output_type": "stream",
     "text": [
      "900it [00:56, 16.02it/s]\n"
     ]
    },
    {
     "name": "stdout",
     "output_type": "stream",
     "text": [
      "Converting prediction from <class 'numpy.float32'> to uint8, using threshold of 0.5\n",
      "File already analysed! /media/nkd/data18931/ndwi_int8_13001_18931/ndwi_int8_18281.tif\n",
      "/media/nkd/data18931/ndwi_int8_13001_18931/ndwi_int8_18282.tif\n",
      "the size of current NDWI_img 11355 11355\n"
     ]
    },
    {
     "name": "stderr",
     "output_type": "stream",
     "text": [
      "900it [01:13, 12.28it/s]\n"
     ]
    },
    {
     "name": "stdout",
     "output_type": "stream",
     "text": [
      "Converting prediction from <class 'numpy.float32'> to uint8, using threshold of 0.5\n",
      "File already analysed! /media/nkd/data18931/ndwi_int8_13001_18931/ndwi_int8_18282.tif\n",
      "/media/nkd/data18931/ndwi_int8_13001_18931/ndwi_int8_18283.tif\n",
      "the size of current NDWI_img 11355 11355\n"
     ]
    },
    {
     "name": "stderr",
     "output_type": "stream",
     "text": [
      "900it [01:13, 12.28it/s]\n"
     ]
    },
    {
     "name": "stdout",
     "output_type": "stream",
     "text": [
      "Converting prediction from <class 'numpy.float32'> to uint8, using threshold of 0.5\n",
      "File already analysed! /media/nkd/data18931/ndwi_int8_13001_18931/ndwi_int8_18283.tif\n",
      "/media/nkd/data18931/ndwi_int8_13001_18931/ndwi_int8_18284.tif\n",
      "the size of current NDWI_img 11355 11355\n"
     ]
    },
    {
     "name": "stderr",
     "output_type": "stream",
     "text": [
      "900it [00:42, 21.24it/s]\n"
     ]
    },
    {
     "name": "stdout",
     "output_type": "stream",
     "text": [
      "Converting prediction from <class 'numpy.float32'> to uint8, using threshold of 0.5\n",
      "File already analysed! /media/nkd/data18931/ndwi_int8_13001_18931/ndwi_int8_18284.tif\n",
      "/media/nkd/data18931/ndwi_int8_13001_18931/ndwi_int8_18285.tif\n",
      "the size of current NDWI_img 11355 11355\n"
     ]
    },
    {
     "name": "stderr",
     "output_type": "stream",
     "text": [
      "900it [00:49, 18.14it/s]\n"
     ]
    },
    {
     "name": "stdout",
     "output_type": "stream",
     "text": [
      "Converting prediction from <class 'numpy.float32'> to uint8, using threshold of 0.5\n",
      "File already analysed! /media/nkd/data18931/ndwi_int8_13001_18931/ndwi_int8_18285.tif\n",
      "/media/nkd/data18931/ndwi_int8_13001_18931/ndwi_int8_18286.tif\n",
      "the size of current NDWI_img 11355 11355\n"
     ]
    },
    {
     "name": "stderr",
     "output_type": "stream",
     "text": [
      "900it [01:06, 13.56it/s]\n"
     ]
    },
    {
     "name": "stdout",
     "output_type": "stream",
     "text": [
      "Converting prediction from <class 'numpy.float32'> to uint8, using threshold of 0.5\n",
      "File already analysed! /media/nkd/data18931/ndwi_int8_13001_18931/ndwi_int8_18286.tif\n",
      "/media/nkd/data18931/ndwi_int8_13001_18931/ndwi_int8_18287.tif\n",
      "the size of current NDWI_img 11355 11355\n"
     ]
    },
    {
     "name": "stderr",
     "output_type": "stream",
     "text": [
      "900it [00:46, 19.54it/s]\n"
     ]
    },
    {
     "name": "stdout",
     "output_type": "stream",
     "text": [
      "Converting prediction from <class 'numpy.float32'> to uint8, using threshold of 0.5\n",
      "File already analysed! /media/nkd/data18931/ndwi_int8_13001_18931/ndwi_int8_18287.tif\n",
      "/media/nkd/data18931/ndwi_int8_13001_18931/ndwi_int8_18288.tif\n",
      "the size of current NDWI_img 11355 11355\n"
     ]
    },
    {
     "name": "stderr",
     "output_type": "stream",
     "text": [
      "900it [00:59, 15.15it/s]\n"
     ]
    },
    {
     "name": "stdout",
     "output_type": "stream",
     "text": [
      "Converting prediction from <class 'numpy.float32'> to uint8, using threshold of 0.5\n",
      "File already analysed! /media/nkd/data18931/ndwi_int8_13001_18931/ndwi_int8_18288.tif\n",
      "/media/nkd/data18931/ndwi_int8_13001_18931/ndwi_int8_18289.tif\n",
      "the size of current NDWI_img 11355 11355\n"
     ]
    },
    {
     "name": "stderr",
     "output_type": "stream",
     "text": [
      "900it [00:49, 18.18it/s]\n"
     ]
    },
    {
     "name": "stdout",
     "output_type": "stream",
     "text": [
      "Converting prediction from <class 'numpy.float32'> to uint8, using threshold of 0.5\n",
      "File already analysed! /media/nkd/data18931/ndwi_int8_13001_18931/ndwi_int8_18289.tif\n",
      "/media/nkd/data18931/ndwi_int8_13001_18931/ndwi_int8_18290.tif\n",
      "the size of current NDWI_img 11356 11355\n"
     ]
    },
    {
     "name": "stderr",
     "output_type": "stream",
     "text": [
      "900it [00:54, 16.57it/s]\n"
     ]
    },
    {
     "name": "stdout",
     "output_type": "stream",
     "text": [
      "Converting prediction from <class 'numpy.float32'> to uint8, using threshold of 0.5\n",
      "File already analysed! /media/nkd/data18931/ndwi_int8_13001_18931/ndwi_int8_18290.tif\n",
      "/media/nkd/data18931/ndwi_int8_13001_18931/ndwi_int8_18291.tif\n",
      "the size of current NDWI_img 11356 11355\n"
     ]
    },
    {
     "name": "stderr",
     "output_type": "stream",
     "text": [
      "900it [00:54, 16.43it/s]\n"
     ]
    },
    {
     "name": "stdout",
     "output_type": "stream",
     "text": [
      "Converting prediction from <class 'numpy.float32'> to uint8, using threshold of 0.5\n",
      "File already analysed! /media/nkd/data18931/ndwi_int8_13001_18931/ndwi_int8_18291.tif\n",
      "/media/nkd/data18931/ndwi_int8_13001_18931/ndwi_int8_18292.tif\n",
      "the size of current NDWI_img 11355 11356\n"
     ]
    },
    {
     "name": "stderr",
     "output_type": "stream",
     "text": [
      "900it [00:40, 21.95it/s]\n"
     ]
    },
    {
     "name": "stdout",
     "output_type": "stream",
     "text": [
      "Converting prediction from <class 'numpy.float32'> to uint8, using threshold of 0.5\n",
      "File already analysed! /media/nkd/data18931/ndwi_int8_13001_18931/ndwi_int8_18292.tif\n",
      "/media/nkd/data18931/ndwi_int8_13001_18931/ndwi_int8_18293.tif\n",
      "the size of current NDWI_img 11356 11356\n"
     ]
    },
    {
     "name": "stderr",
     "output_type": "stream",
     "text": [
      "900it [00:42, 21.11it/s]\n"
     ]
    },
    {
     "name": "stdout",
     "output_type": "stream",
     "text": [
      "Converting prediction from <class 'numpy.float32'> to uint8, using threshold of 0.5\n",
      "File already analysed! /media/nkd/data18931/ndwi_int8_13001_18931/ndwi_int8_18293.tif\n",
      "/media/nkd/data18931/ndwi_int8_13001_18931/ndwi_int8_18294.tif\n",
      "the size of current NDWI_img 11355 11356\n"
     ]
    },
    {
     "name": "stderr",
     "output_type": "stream",
     "text": [
      "900it [00:43, 20.64it/s]\n"
     ]
    },
    {
     "name": "stdout",
     "output_type": "stream",
     "text": [
      "Converting prediction from <class 'numpy.float32'> to uint8, using threshold of 0.5\n",
      "File already analysed! /media/nkd/data18931/ndwi_int8_13001_18931/ndwi_int8_18294.tif\n",
      "/media/nkd/data18931/ndwi_int8_13001_18931/ndwi_int8_18295.tif\n",
      "the size of current NDWI_img 11355 11356\n"
     ]
    },
    {
     "name": "stderr",
     "output_type": "stream",
     "text": [
      "900it [00:45, 19.78it/s]\n"
     ]
    },
    {
     "name": "stdout",
     "output_type": "stream",
     "text": [
      "Converting prediction from <class 'numpy.float32'> to uint8, using threshold of 0.5\n",
      "File already analysed! /media/nkd/data18931/ndwi_int8_13001_18931/ndwi_int8_18295.tif\n",
      "/media/nkd/data18931/ndwi_int8_13001_18931/ndwi_int8_18296.tif\n",
      "the size of current NDWI_img 11355 11356\n"
     ]
    },
    {
     "name": "stderr",
     "output_type": "stream",
     "text": [
      "900it [01:00, 14.82it/s]\n"
     ]
    },
    {
     "name": "stdout",
     "output_type": "stream",
     "text": [
      "Converting prediction from <class 'numpy.float32'> to uint8, using threshold of 0.5\n",
      "File already analysed! /media/nkd/data18931/ndwi_int8_13001_18931/ndwi_int8_18296.tif\n",
      "/media/nkd/data18931/ndwi_int8_13001_18931/ndwi_int8_18297.tif\n",
      "the size of current NDWI_img 11356 11356\n"
     ]
    },
    {
     "name": "stderr",
     "output_type": "stream",
     "text": [
      "900it [00:48, 18.66it/s]\n"
     ]
    },
    {
     "name": "stdout",
     "output_type": "stream",
     "text": [
      "Converting prediction from <class 'numpy.float32'> to uint8, using threshold of 0.5\n",
      "File already analysed! /media/nkd/data18931/ndwi_int8_13001_18931/ndwi_int8_18297.tif\n",
      "/media/nkd/data18931/ndwi_int8_13001_18931/ndwi_int8_18298.tif\n",
      "the size of current NDWI_img 11356 11356\n"
     ]
    },
    {
     "name": "stderr",
     "output_type": "stream",
     "text": [
      "900it [01:07, 13.34it/s]\n"
     ]
    },
    {
     "name": "stdout",
     "output_type": "stream",
     "text": [
      "Converting prediction from <class 'numpy.float32'> to uint8, using threshold of 0.5\n",
      "File already analysed! /media/nkd/data18931/ndwi_int8_13001_18931/ndwi_int8_18298.tif\n",
      "/media/nkd/data18931/ndwi_int8_13001_18931/ndwi_int8_18299.tif\n",
      "the size of current NDWI_img 11355 11356\n"
     ]
    },
    {
     "name": "stderr",
     "output_type": "stream",
     "text": [
      "900it [01:07, 13.41it/s]\n"
     ]
    },
    {
     "name": "stdout",
     "output_type": "stream",
     "text": [
      "Converting prediction from <class 'numpy.float32'> to uint8, using threshold of 0.5\n",
      "File already analysed! /media/nkd/data18931/ndwi_int8_13001_18931/ndwi_int8_18299.tif\n",
      "/media/nkd/data18931/ndwi_int8_13001_18931/ndwi_int8_18300.tif\n",
      "the size of current NDWI_img 11355 11356\n"
     ]
    },
    {
     "name": "stderr",
     "output_type": "stream",
     "text": [
      "900it [01:09, 12.98it/s]\n"
     ]
    },
    {
     "name": "stdout",
     "output_type": "stream",
     "text": [
      "Converting prediction from <class 'numpy.float32'> to uint8, using threshold of 0.5\n",
      "File already analysed! /media/nkd/data18931/ndwi_int8_13001_18931/ndwi_int8_18300.tif\n",
      "/media/nkd/data18931/ndwi_int8_13001_18931/ndwi_int8_18301.tif\n",
      "the size of current NDWI_img 11355 11356\n"
     ]
    },
    {
     "name": "stderr",
     "output_type": "stream",
     "text": [
      "900it [01:11, 12.54it/s]\n"
     ]
    },
    {
     "name": "stdout",
     "output_type": "stream",
     "text": [
      "Converting prediction from <class 'numpy.float32'> to uint8, using threshold of 0.5\n",
      "File already analysed! /media/nkd/data18931/ndwi_int8_13001_18931/ndwi_int8_18301.tif\n",
      "/media/nkd/data18931/ndwi_int8_13001_18931/ndwi_int8_18302.tif\n",
      "the size of current NDWI_img 11356 11356\n"
     ]
    },
    {
     "name": "stderr",
     "output_type": "stream",
     "text": [
      "900it [00:36, 24.37it/s]\n"
     ]
    },
    {
     "name": "stdout",
     "output_type": "stream",
     "text": [
      "Converting prediction from <class 'numpy.float32'> to uint8, using threshold of 0.5\n",
      "File already analysed! /media/nkd/data18931/ndwi_int8_13001_18931/ndwi_int8_18302.tif\n",
      "/media/nkd/data18931/ndwi_int8_13001_18931/ndwi_int8_18303.tif\n",
      "the size of current NDWI_img 11356 11356\n"
     ]
    },
    {
     "name": "stderr",
     "output_type": "stream",
     "text": [
      "900it [01:03, 14.19it/s]\n"
     ]
    },
    {
     "name": "stdout",
     "output_type": "stream",
     "text": [
      "Converting prediction from <class 'numpy.float32'> to uint8, using threshold of 0.5\n",
      "File already analysed! /media/nkd/data18931/ndwi_int8_13001_18931/ndwi_int8_18303.tif\n",
      "/media/nkd/data18931/ndwi_int8_13001_18931/ndwi_int8_18304.tif\n",
      "the size of current NDWI_img 11356 11356\n"
     ]
    },
    {
     "name": "stderr",
     "output_type": "stream",
     "text": [
      "900it [01:17, 11.61it/s]\n"
     ]
    },
    {
     "name": "stdout",
     "output_type": "stream",
     "text": [
      "Converting prediction from <class 'numpy.float32'> to uint8, using threshold of 0.5\n",
      "File already analysed! /media/nkd/data18931/ndwi_int8_13001_18931/ndwi_int8_18304.tif\n",
      "/media/nkd/data18931/ndwi_int8_13001_18931/ndwi_int8_18305.tif\n",
      "the size of current NDWI_img 11355 11356\n"
     ]
    },
    {
     "name": "stderr",
     "output_type": "stream",
     "text": [
      "900it [01:11, 12.54it/s]\n"
     ]
    },
    {
     "name": "stdout",
     "output_type": "stream",
     "text": [
      "Converting prediction from <class 'numpy.float32'> to uint8, using threshold of 0.5\n",
      "File already analysed! /media/nkd/data18931/ndwi_int8_13001_18931/ndwi_int8_18305.tif\n",
      "/media/nkd/data18931/ndwi_int8_13001_18931/ndwi_int8_18306.tif\n",
      "the size of current NDWI_img 11355 11356\n"
     ]
    },
    {
     "name": "stderr",
     "output_type": "stream",
     "text": [
      "900it [01:12, 12.42it/s]\n"
     ]
    },
    {
     "name": "stdout",
     "output_type": "stream",
     "text": [
      "Converting prediction from <class 'numpy.float32'> to uint8, using threshold of 0.5\n",
      "File already analysed! /media/nkd/data18931/ndwi_int8_13001_18931/ndwi_int8_18306.tif\n",
      "/media/nkd/data18931/ndwi_int8_13001_18931/ndwi_int8_18307.tif\n",
      "the size of current NDWI_img 11355 11356\n"
     ]
    },
    {
     "name": "stderr",
     "output_type": "stream",
     "text": [
      "900it [01:09, 13.01it/s]\n"
     ]
    },
    {
     "name": "stdout",
     "output_type": "stream",
     "text": [
      "Converting prediction from <class 'numpy.float32'> to uint8, using threshold of 0.5\n",
      "File already analysed! /media/nkd/data18931/ndwi_int8_13001_18931/ndwi_int8_18307.tif\n",
      "/media/nkd/data18931/ndwi_int8_13001_18931/ndwi_int8_18308.tif\n",
      "the size of current NDWI_img 11356 11356\n"
     ]
    },
    {
     "name": "stderr",
     "output_type": "stream",
     "text": [
      "900it [00:39, 22.97it/s]\n"
     ]
    },
    {
     "name": "stdout",
     "output_type": "stream",
     "text": [
      "Converting prediction from <class 'numpy.float32'> to uint8, using threshold of 0.5\n",
      "File already analysed! /media/nkd/data18931/ndwi_int8_13001_18931/ndwi_int8_18308.tif\n",
      "/media/nkd/data18931/ndwi_int8_13001_18931/ndwi_int8_18309.tif\n",
      "the size of current NDWI_img 11356 11356\n"
     ]
    },
    {
     "name": "stderr",
     "output_type": "stream",
     "text": [
      "900it [00:58, 15.50it/s]\n"
     ]
    },
    {
     "name": "stdout",
     "output_type": "stream",
     "text": [
      "Converting prediction from <class 'numpy.float32'> to uint8, using threshold of 0.5\n",
      "File already analysed! /media/nkd/data18931/ndwi_int8_13001_18931/ndwi_int8_18309.tif\n",
      "/media/nkd/data18931/ndwi_int8_13001_18931/ndwi_int8_18310.tif\n",
      "the size of current NDWI_img 11356 11356\n"
     ]
    },
    {
     "name": "stderr",
     "output_type": "stream",
     "text": [
      "900it [01:13, 12.23it/s]\n"
     ]
    },
    {
     "name": "stdout",
     "output_type": "stream",
     "text": [
      "Converting prediction from <class 'numpy.float32'> to uint8, using threshold of 0.5\n",
      "File already analysed! /media/nkd/data18931/ndwi_int8_13001_18931/ndwi_int8_18310.tif\n",
      "/media/nkd/data18931/ndwi_int8_13001_18931/ndwi_int8_18311.tif\n",
      "the size of current NDWI_img 11355 11356\n"
     ]
    },
    {
     "name": "stderr",
     "output_type": "stream",
     "text": [
      "900it [01:13, 12.29it/s]\n"
     ]
    },
    {
     "name": "stdout",
     "output_type": "stream",
     "text": [
      "Converting prediction from <class 'numpy.float32'> to uint8, using threshold of 0.5\n",
      "File already analysed! /media/nkd/data18931/ndwi_int8_13001_18931/ndwi_int8_18311.tif\n",
      "/media/nkd/data18931/ndwi_int8_13001_18931/ndwi_int8_18312.tif\n",
      "the size of current NDWI_img 11355 11356\n"
     ]
    },
    {
     "name": "stderr",
     "output_type": "stream",
     "text": [
      "900it [01:11, 12.61it/s]\n"
     ]
    },
    {
     "name": "stdout",
     "output_type": "stream",
     "text": [
      "Converting prediction from <class 'numpy.float32'> to uint8, using threshold of 0.5\n",
      "File already analysed! /media/nkd/data18931/ndwi_int8_13001_18931/ndwi_int8_18312.tif\n",
      "/media/nkd/data18931/ndwi_int8_13001_18931/ndwi_int8_18313.tif\n",
      "the size of current NDWI_img 11355 11356\n"
     ]
    },
    {
     "name": "stderr",
     "output_type": "stream",
     "text": [
      "900it [01:11, 12.65it/s]\n"
     ]
    },
    {
     "name": "stdout",
     "output_type": "stream",
     "text": [
      "Converting prediction from <class 'numpy.float32'> to uint8, using threshold of 0.5\n",
      "File already analysed! /media/nkd/data18931/ndwi_int8_13001_18931/ndwi_int8_18313.tif\n",
      "/media/nkd/data18931/ndwi_int8_13001_18931/ndwi_int8_18314.tif\n",
      "the size of current NDWI_img 11356 11356\n"
     ]
    },
    {
     "name": "stderr",
     "output_type": "stream",
     "text": [
      "900it [00:53, 16.92it/s]\n"
     ]
    },
    {
     "name": "stdout",
     "output_type": "stream",
     "text": [
      "Converting prediction from <class 'numpy.float32'> to uint8, using threshold of 0.5\n",
      "File already analysed! /media/nkd/data18931/ndwi_int8_13001_18931/ndwi_int8_18314.tif\n",
      "/media/nkd/data18931/ndwi_int8_13001_18931/ndwi_int8_18315.tif\n",
      "the size of current NDWI_img 11356 11356\n"
     ]
    },
    {
     "name": "stderr",
     "output_type": "stream",
     "text": [
      "900it [01:14, 12.03it/s]\n"
     ]
    },
    {
     "name": "stdout",
     "output_type": "stream",
     "text": [
      "Converting prediction from <class 'numpy.float32'> to uint8, using threshold of 0.5\n",
      "File already analysed! /media/nkd/data18931/ndwi_int8_13001_18931/ndwi_int8_18315.tif\n",
      "/media/nkd/data18931/ndwi_int8_13001_18931/ndwi_int8_18316.tif\n",
      "the size of current NDWI_img 11355 11356\n"
     ]
    },
    {
     "name": "stderr",
     "output_type": "stream",
     "text": [
      "900it [01:12, 12.34it/s]\n"
     ]
    },
    {
     "name": "stdout",
     "output_type": "stream",
     "text": [
      "Converting prediction from <class 'numpy.float32'> to uint8, using threshold of 0.5\n",
      "File already analysed! /media/nkd/data18931/ndwi_int8_13001_18931/ndwi_int8_18316.tif\n",
      "/media/nkd/data18931/ndwi_int8_13001_18931/ndwi_int8_18317.tif\n",
      "the size of current NDWI_img 11355 11356\n"
     ]
    },
    {
     "name": "stderr",
     "output_type": "stream",
     "text": [
      "900it [01:10, 12.72it/s]\n"
     ]
    },
    {
     "name": "stdout",
     "output_type": "stream",
     "text": [
      "Converting prediction from <class 'numpy.float32'> to uint8, using threshold of 0.5\n",
      "File already analysed! /media/nkd/data18931/ndwi_int8_13001_18931/ndwi_int8_18317.tif\n",
      "/media/nkd/data18931/ndwi_int8_13001_18931/ndwi_int8_18318.tif\n",
      "the size of current NDWI_img 11355 11356\n"
     ]
    },
    {
     "name": "stderr",
     "output_type": "stream",
     "text": [
      "900it [01:12, 12.49it/s]\n"
     ]
    },
    {
     "name": "stdout",
     "output_type": "stream",
     "text": [
      "Converting prediction from <class 'numpy.float32'> to uint8, using threshold of 0.5\n",
      "File already analysed! /media/nkd/data18931/ndwi_int8_13001_18931/ndwi_int8_18318.tif\n",
      "/media/nkd/data18931/ndwi_int8_13001_18931/ndwi_int8_18319.tif\n",
      "the size of current NDWI_img 11356 11356\n"
     ]
    },
    {
     "name": "stderr",
     "output_type": "stream",
     "text": [
      "900it [00:45, 19.75it/s]\n"
     ]
    },
    {
     "name": "stdout",
     "output_type": "stream",
     "text": [
      "Converting prediction from <class 'numpy.float32'> to uint8, using threshold of 0.5\n",
      "File already analysed! /media/nkd/data18931/ndwi_int8_13001_18931/ndwi_int8_18319.tif\n",
      "/media/nkd/data18931/ndwi_int8_13001_18931/ndwi_int8_18320.tif\n",
      "the size of current NDWI_img 11356 11356\n"
     ]
    },
    {
     "name": "stderr",
     "output_type": "stream",
     "text": [
      "900it [01:14, 12.00it/s]\n"
     ]
    },
    {
     "name": "stdout",
     "output_type": "stream",
     "text": [
      "Converting prediction from <class 'numpy.float32'> to uint8, using threshold of 0.5\n",
      "File already analysed! /media/nkd/data18931/ndwi_int8_13001_18931/ndwi_int8_18320.tif\n",
      "/media/nkd/data18931/ndwi_int8_13001_18931/ndwi_int8_18321.tif\n",
      "the size of current NDWI_img 11355 11356\n"
     ]
    },
    {
     "name": "stderr",
     "output_type": "stream",
     "text": [
      "900it [01:12, 12.45it/s]\n"
     ]
    },
    {
     "name": "stdout",
     "output_type": "stream",
     "text": [
      "Converting prediction from <class 'numpy.float32'> to uint8, using threshold of 0.5\n",
      "File already analysed! /media/nkd/data18931/ndwi_int8_13001_18931/ndwi_int8_18321.tif\n",
      "/media/nkd/data18931/ndwi_int8_13001_18931/ndwi_int8_18322.tif\n",
      "the size of current NDWI_img 11355 11356\n"
     ]
    },
    {
     "name": "stderr",
     "output_type": "stream",
     "text": [
      "900it [01:11, 12.67it/s]\n"
     ]
    },
    {
     "name": "stdout",
     "output_type": "stream",
     "text": [
      "Converting prediction from <class 'numpy.float32'> to uint8, using threshold of 0.5\n",
      "File already analysed! /media/nkd/data18931/ndwi_int8_13001_18931/ndwi_int8_18322.tif\n",
      "/media/nkd/data18931/ndwi_int8_13001_18931/ndwi_int8_18323.tif\n",
      "the size of current NDWI_img 11355 11356\n"
     ]
    },
    {
     "name": "stderr",
     "output_type": "stream",
     "text": [
      "900it [01:11, 12.54it/s]\n"
     ]
    },
    {
     "name": "stdout",
     "output_type": "stream",
     "text": [
      "Converting prediction from <class 'numpy.float32'> to uint8, using threshold of 0.5\n",
      "File already analysed! /media/nkd/data18931/ndwi_int8_13001_18931/ndwi_int8_18323.tif\n",
      "/media/nkd/data18931/ndwi_int8_13001_18931/ndwi_int8_18324.tif\n",
      "the size of current NDWI_img 11356 11356\n"
     ]
    },
    {
     "name": "stderr",
     "output_type": "stream",
     "text": [
      "900it [00:46, 19.54it/s]\n"
     ]
    },
    {
     "name": "stdout",
     "output_type": "stream",
     "text": [
      "Converting prediction from <class 'numpy.float32'> to uint8, using threshold of 0.5\n",
      "File already analysed! /media/nkd/data18931/ndwi_int8_13001_18931/ndwi_int8_18324.tif\n",
      "/media/nkd/data18931/ndwi_int8_13001_18931/ndwi_int8_18325.tif\n",
      "the size of current NDWI_img 11356 11356\n"
     ]
    },
    {
     "name": "stderr",
     "output_type": "stream",
     "text": [
      "900it [01:14, 12.07it/s]\n"
     ]
    },
    {
     "name": "stdout",
     "output_type": "stream",
     "text": [
      "Converting prediction from <class 'numpy.float32'> to uint8, using threshold of 0.5\n",
      "File already analysed! /media/nkd/data18931/ndwi_int8_13001_18931/ndwi_int8_18325.tif\n",
      "/media/nkd/data18931/ndwi_int8_13001_18931/ndwi_int8_18326.tif\n",
      "the size of current NDWI_img 11355 11356\n"
     ]
    },
    {
     "name": "stderr",
     "output_type": "stream",
     "text": [
      "900it [01:11, 12.58it/s]\n"
     ]
    },
    {
     "name": "stdout",
     "output_type": "stream",
     "text": [
      "Converting prediction from <class 'numpy.float32'> to uint8, using threshold of 0.5\n",
      "File already analysed! /media/nkd/data18931/ndwi_int8_13001_18931/ndwi_int8_18326.tif\n",
      "/media/nkd/data18931/ndwi_int8_13001_18931/ndwi_int8_18327.tif\n",
      "the size of current NDWI_img 11355 11356\n"
     ]
    },
    {
     "name": "stderr",
     "output_type": "stream",
     "text": [
      "900it [01:12, 12.47it/s]\n"
     ]
    },
    {
     "name": "stdout",
     "output_type": "stream",
     "text": [
      "Converting prediction from <class 'numpy.float32'> to uint8, using threshold of 0.5\n",
      "File already analysed! /media/nkd/data18931/ndwi_int8_13001_18931/ndwi_int8_18327.tif\n",
      "/media/nkd/data18931/ndwi_int8_13001_18931/ndwi_int8_18328.tif\n",
      "the size of current NDWI_img 11355 11356\n"
     ]
    },
    {
     "name": "stderr",
     "output_type": "stream",
     "text": [
      "900it [01:10, 12.72it/s]\n"
     ]
    },
    {
     "name": "stdout",
     "output_type": "stream",
     "text": [
      "Converting prediction from <class 'numpy.float32'> to uint8, using threshold of 0.5\n",
      "File already analysed! /media/nkd/data18931/ndwi_int8_13001_18931/ndwi_int8_18328.tif\n",
      "/media/nkd/data18931/ndwi_int8_13001_18931/ndwi_int8_18329.tif\n",
      "the size of current NDWI_img 11356 11356\n"
     ]
    },
    {
     "name": "stderr",
     "output_type": "stream",
     "text": [
      "900it [00:47, 19.07it/s]\n"
     ]
    },
    {
     "name": "stdout",
     "output_type": "stream",
     "text": [
      "Converting prediction from <class 'numpy.float32'> to uint8, using threshold of 0.5\n",
      "File already analysed! /media/nkd/data18931/ndwi_int8_13001_18931/ndwi_int8_18329.tif\n",
      "/media/nkd/data18931/ndwi_int8_13001_18931/ndwi_int8_18330.tif\n",
      "the size of current NDWI_img 11356 11356\n"
     ]
    },
    {
     "name": "stderr",
     "output_type": "stream",
     "text": [
      "900it [01:16, 11.78it/s]\n"
     ]
    },
    {
     "name": "stdout",
     "output_type": "stream",
     "text": [
      "Converting prediction from <class 'numpy.float32'> to uint8, using threshold of 0.5\n",
      "File already analysed! /media/nkd/data18931/ndwi_int8_13001_18931/ndwi_int8_18330.tif\n",
      "/media/nkd/data18931/ndwi_int8_13001_18931/ndwi_int8_18331.tif\n",
      "the size of current NDWI_img 11355 11356\n"
     ]
    },
    {
     "name": "stderr",
     "output_type": "stream",
     "text": [
      "900it [01:13, 12.26it/s]\n"
     ]
    },
    {
     "name": "stdout",
     "output_type": "stream",
     "text": [
      "Converting prediction from <class 'numpy.float32'> to uint8, using threshold of 0.5\n",
      "File already analysed! /media/nkd/data18931/ndwi_int8_13001_18931/ndwi_int8_18331.tif\n",
      "/media/nkd/data18931/ndwi_int8_13001_18931/ndwi_int8_18332.tif\n",
      "the size of current NDWI_img 11355 11356\n"
     ]
    },
    {
     "name": "stderr",
     "output_type": "stream",
     "text": [
      "900it [01:12, 12.46it/s]\n"
     ]
    },
    {
     "name": "stdout",
     "output_type": "stream",
     "text": [
      "Converting prediction from <class 'numpy.float32'> to uint8, using threshold of 0.5\n",
      "File already analysed! /media/nkd/data18931/ndwi_int8_13001_18931/ndwi_int8_18332.tif\n",
      "/media/nkd/data18931/ndwi_int8_13001_18931/ndwi_int8_18333.tif\n",
      "the size of current NDWI_img 11355 11356\n"
     ]
    },
    {
     "name": "stderr",
     "output_type": "stream",
     "text": [
      "900it [01:10, 12.86it/s]\n"
     ]
    },
    {
     "name": "stdout",
     "output_type": "stream",
     "text": [
      "Converting prediction from <class 'numpy.float32'> to uint8, using threshold of 0.5\n",
      "File already analysed! /media/nkd/data18931/ndwi_int8_13001_18931/ndwi_int8_18333.tif\n",
      "/media/nkd/data18931/ndwi_int8_13001_18931/ndwi_int8_18334.tif\n",
      "the size of current NDWI_img 11356 11355\n"
     ]
    },
    {
     "name": "stderr",
     "output_type": "stream",
     "text": [
      "900it [00:44, 20.26it/s]\n"
     ]
    },
    {
     "name": "stdout",
     "output_type": "stream",
     "text": [
      "Converting prediction from <class 'numpy.float32'> to uint8, using threshold of 0.5\n",
      "File already analysed! /media/nkd/data18931/ndwi_int8_13001_18931/ndwi_int8_18334.tif\n",
      "/media/nkd/data18931/ndwi_int8_13001_18931/ndwi_int8_18335.tif\n",
      "the size of current NDWI_img 11356 11355\n"
     ]
    },
    {
     "name": "stderr",
     "output_type": "stream",
     "text": [
      "900it [01:13, 12.30it/s]\n"
     ]
    },
    {
     "name": "stdout",
     "output_type": "stream",
     "text": [
      "Converting prediction from <class 'numpy.float32'> to uint8, using threshold of 0.5\n",
      "File already analysed! /media/nkd/data18931/ndwi_int8_13001_18931/ndwi_int8_18335.tif\n",
      "/media/nkd/data18931/ndwi_int8_13001_18931/ndwi_int8_18336.tif\n",
      "the size of current NDWI_img 11355 11355\n"
     ]
    },
    {
     "name": "stderr",
     "output_type": "stream",
     "text": [
      "900it [01:16, 11.80it/s]\n"
     ]
    },
    {
     "name": "stdout",
     "output_type": "stream",
     "text": [
      "Converting prediction from <class 'numpy.float32'> to uint8, using threshold of 0.5\n",
      "File already analysed! /media/nkd/data18931/ndwi_int8_13001_18931/ndwi_int8_18336.tif\n",
      "/media/nkd/data18931/ndwi_int8_13001_18931/ndwi_int8_18337.tif\n",
      "the size of current NDWI_img 11355 11355\n"
     ]
    },
    {
     "name": "stderr",
     "output_type": "stream",
     "text": [
      "900it [01:12, 12.40it/s]\n"
     ]
    },
    {
     "name": "stdout",
     "output_type": "stream",
     "text": [
      "Converting prediction from <class 'numpy.float32'> to uint8, using threshold of 0.5\n",
      "File already analysed! /media/nkd/data18931/ndwi_int8_13001_18931/ndwi_int8_18337.tif\n",
      "/media/nkd/data18931/ndwi_int8_13001_18931/ndwi_int8_18338.tif\n",
      "the size of current NDWI_img 11355 11355\n"
     ]
    },
    {
     "name": "stderr",
     "output_type": "stream",
     "text": [
      "900it [01:11, 12.61it/s]\n"
     ]
    },
    {
     "name": "stdout",
     "output_type": "stream",
     "text": [
      "Converting prediction from <class 'numpy.float32'> to uint8, using threshold of 0.5\n",
      "File already analysed! /media/nkd/data18931/ndwi_int8_13001_18931/ndwi_int8_18338.tif\n",
      "/media/nkd/data18931/ndwi_int8_13001_18931/ndwi_int8_18339.tif\n",
      "the size of current NDWI_img 11356 11355\n"
     ]
    },
    {
     "name": "stderr",
     "output_type": "stream",
     "text": [
      "900it [00:48, 18.68it/s]\n"
     ]
    },
    {
     "name": "stdout",
     "output_type": "stream",
     "text": [
      "Converting prediction from <class 'numpy.float32'> to uint8, using threshold of 0.5\n",
      "File already analysed! /media/nkd/data18931/ndwi_int8_13001_18931/ndwi_int8_18339.tif\n",
      "/media/nkd/data18931/ndwi_int8_13001_18931/ndwi_int8_18340.tif\n",
      "the size of current NDWI_img 11356 11355\n"
     ]
    },
    {
     "name": "stderr",
     "output_type": "stream",
     "text": [
      "900it [01:10, 12.79it/s]\n"
     ]
    },
    {
     "name": "stdout",
     "output_type": "stream",
     "text": [
      "Converting prediction from <class 'numpy.float32'> to uint8, using threshold of 0.5\n",
      "File already analysed! /media/nkd/data18931/ndwi_int8_13001_18931/ndwi_int8_18340.tif\n",
      "/media/nkd/data18931/ndwi_int8_13001_18931/ndwi_int8_18341.tif\n",
      "the size of current NDWI_img 11355 11355\n"
     ]
    },
    {
     "name": "stderr",
     "output_type": "stream",
     "text": [
      "900it [01:13, 12.33it/s]\n"
     ]
    },
    {
     "name": "stdout",
     "output_type": "stream",
     "text": [
      "Converting prediction from <class 'numpy.float32'> to uint8, using threshold of 0.5\n",
      "File already analysed! /media/nkd/data18931/ndwi_int8_13001_18931/ndwi_int8_18341.tif\n",
      "/media/nkd/data18931/ndwi_int8_13001_18931/ndwi_int8_18342.tif\n",
      "the size of current NDWI_img 11355 11355\n"
     ]
    },
    {
     "name": "stderr",
     "output_type": "stream",
     "text": [
      "900it [01:13, 12.29it/s]\n"
     ]
    },
    {
     "name": "stdout",
     "output_type": "stream",
     "text": [
      "Converting prediction from <class 'numpy.float32'> to uint8, using threshold of 0.5\n",
      "File already analysed! /media/nkd/data18931/ndwi_int8_13001_18931/ndwi_int8_18342.tif\n",
      "/media/nkd/data18931/ndwi_int8_13001_18931/ndwi_int8_18343.tif\n",
      "the size of current NDWI_img 11355 11355\n"
     ]
    },
    {
     "name": "stderr",
     "output_type": "stream",
     "text": [
      "900it [01:12, 12.50it/s]\n"
     ]
    },
    {
     "name": "stdout",
     "output_type": "stream",
     "text": [
      "Converting prediction from <class 'numpy.float32'> to uint8, using threshold of 0.5\n",
      "File already analysed! /media/nkd/data18931/ndwi_int8_13001_18931/ndwi_int8_18343.tif\n",
      "/media/nkd/data18931/ndwi_int8_13001_18931/ndwi_int8_18344.tif\n",
      "the size of current NDWI_img 11356 11355\n"
     ]
    },
    {
     "name": "stderr",
     "output_type": "stream",
     "text": [
      "900it [00:52, 17.12it/s]\n"
     ]
    },
    {
     "name": "stdout",
     "output_type": "stream",
     "text": [
      "Converting prediction from <class 'numpy.float32'> to uint8, using threshold of 0.5\n",
      "File already analysed! /media/nkd/data18931/ndwi_int8_13001_18931/ndwi_int8_18344.tif\n",
      "/media/nkd/data18931/ndwi_int8_13001_18931/ndwi_int8_18345.tif\n",
      "the size of current NDWI_img 11355 11355\n"
     ]
    },
    {
     "name": "stderr",
     "output_type": "stream",
     "text": [
      "900it [01:15, 11.93it/s]\n"
     ]
    },
    {
     "name": "stdout",
     "output_type": "stream",
     "text": [
      "Converting prediction from <class 'numpy.float32'> to uint8, using threshold of 0.5\n",
      "File already analysed! /media/nkd/data18931/ndwi_int8_13001_18931/ndwi_int8_18345.tif\n",
      "/media/nkd/data18931/ndwi_int8_13001_18931/ndwi_int8_18346.tif\n",
      "the size of current NDWI_img 11355 11355\n"
     ]
    },
    {
     "name": "stderr",
     "output_type": "stream",
     "text": [
      "900it [01:15, 11.90it/s]\n"
     ]
    },
    {
     "name": "stdout",
     "output_type": "stream",
     "text": [
      "Converting prediction from <class 'numpy.float32'> to uint8, using threshold of 0.5\n",
      "File already analysed! /media/nkd/data18931/ndwi_int8_13001_18931/ndwi_int8_18346.tif\n",
      "/media/nkd/data18931/ndwi_int8_13001_18931/ndwi_int8_18347.tif\n",
      "the size of current NDWI_img 11355 11355\n"
     ]
    },
    {
     "name": "stderr",
     "output_type": "stream",
     "text": [
      "900it [01:16, 11.83it/s]\n"
     ]
    },
    {
     "name": "stdout",
     "output_type": "stream",
     "text": [
      "Converting prediction from <class 'numpy.float32'> to uint8, using threshold of 0.5\n",
      "File already analysed! /media/nkd/data18931/ndwi_int8_13001_18931/ndwi_int8_18347.tif\n",
      "/media/nkd/data18931/ndwi_int8_13001_18931/ndwi_int8_18348.tif\n",
      "the size of current NDWI_img 11356 11355\n"
     ]
    },
    {
     "name": "stderr",
     "output_type": "stream",
     "text": [
      "900it [00:44, 20.18it/s]\n"
     ]
    },
    {
     "name": "stdout",
     "output_type": "stream",
     "text": [
      "Converting prediction from <class 'numpy.float32'> to uint8, using threshold of 0.5\n",
      "File already analysed! /media/nkd/data18931/ndwi_int8_13001_18931/ndwi_int8_18348.tif\n",
      "/media/nkd/data18931/ndwi_int8_13001_18931/ndwi_int8_18349.tif\n",
      "the size of current NDWI_img 11355 11355\n"
     ]
    },
    {
     "name": "stderr",
     "output_type": "stream",
     "text": [
      "900it [01:01, 14.53it/s]\n"
     ]
    },
    {
     "name": "stdout",
     "output_type": "stream",
     "text": [
      "Converting prediction from <class 'numpy.float32'> to uint8, using threshold of 0.5\n",
      "File already analysed! /media/nkd/data18931/ndwi_int8_13001_18931/ndwi_int8_18349.tif\n",
      "/media/nkd/data18931/ndwi_int8_13001_18931/ndwi_int8_18350.tif\n",
      "the size of current NDWI_img 11355 11355\n"
     ]
    },
    {
     "name": "stderr",
     "output_type": "stream",
     "text": [
      "900it [01:14, 12.13it/s]\n"
     ]
    },
    {
     "name": "stdout",
     "output_type": "stream",
     "text": [
      "Converting prediction from <class 'numpy.float32'> to uint8, using threshold of 0.5\n",
      "File already analysed! /media/nkd/data18931/ndwi_int8_13001_18931/ndwi_int8_18350.tif\n",
      "/media/nkd/data18931/ndwi_int8_13001_18931/ndwi_int8_18351.tif\n",
      "the size of current NDWI_img 11355 11355\n"
     ]
    },
    {
     "name": "stderr",
     "output_type": "stream",
     "text": [
      "900it [01:15, 11.93it/s]\n"
     ]
    },
    {
     "name": "stdout",
     "output_type": "stream",
     "text": [
      "Converting prediction from <class 'numpy.float32'> to uint8, using threshold of 0.5\n",
      "File already analysed! /media/nkd/data18931/ndwi_int8_13001_18931/ndwi_int8_18351.tif\n",
      "/media/nkd/data18931/ndwi_int8_13001_18931/ndwi_int8_18352.tif\n",
      "the size of current NDWI_img 11355 11355\n"
     ]
    },
    {
     "name": "stderr",
     "output_type": "stream",
     "text": [
      "900it [00:46, 19.56it/s]\n"
     ]
    },
    {
     "name": "stdout",
     "output_type": "stream",
     "text": [
      "Converting prediction from <class 'numpy.float32'> to uint8, using threshold of 0.5\n",
      "File already analysed! /media/nkd/data18931/ndwi_int8_13001_18931/ndwi_int8_18352.tif\n",
      "/media/nkd/data18931/ndwi_int8_13001_18931/ndwi_int8_18353.tif\n",
      "the size of current NDWI_img 11355 11355\n"
     ]
    },
    {
     "name": "stderr",
     "output_type": "stream",
     "text": [
      "900it [01:05, 13.70it/s]\n"
     ]
    },
    {
     "name": "stdout",
     "output_type": "stream",
     "text": [
      "Converting prediction from <class 'numpy.float32'> to uint8, using threshold of 0.5\n",
      "File already analysed! /media/nkd/data18931/ndwi_int8_13001_18931/ndwi_int8_18353.tif\n",
      "/media/nkd/data18931/ndwi_int8_13001_18931/ndwi_int8_18354.tif\n",
      "the size of current NDWI_img 11355 11355\n"
     ]
    },
    {
     "name": "stderr",
     "output_type": "stream",
     "text": [
      "900it [01:13, 12.17it/s]\n"
     ]
    },
    {
     "name": "stdout",
     "output_type": "stream",
     "text": [
      "Converting prediction from <class 'numpy.float32'> to uint8, using threshold of 0.5\n",
      "File already analysed! /media/nkd/data18931/ndwi_int8_13001_18931/ndwi_int8_18354.tif\n",
      "/media/nkd/data18931/ndwi_int8_13001_18931/ndwi_int8_18355.tif\n",
      "the size of current NDWI_img 11355 11355\n"
     ]
    },
    {
     "name": "stderr",
     "output_type": "stream",
     "text": [
      "900it [00:45, 19.62it/s]\n"
     ]
    },
    {
     "name": "stdout",
     "output_type": "stream",
     "text": [
      "Converting prediction from <class 'numpy.float32'> to uint8, using threshold of 0.5\n",
      "File already analysed! /media/nkd/data18931/ndwi_int8_13001_18931/ndwi_int8_18355.tif\n",
      "/media/nkd/data18931/ndwi_int8_13001_18931/ndwi_int8_18356.tif\n",
      "the size of current NDWI_img 11355 11355\n"
     ]
    },
    {
     "name": "stderr",
     "output_type": "stream",
     "text": [
      "900it [01:03, 14.23it/s]\n"
     ]
    },
    {
     "name": "stdout",
     "output_type": "stream",
     "text": [
      "Converting prediction from <class 'numpy.float32'> to uint8, using threshold of 0.5\n",
      "File already analysed! /media/nkd/data18931/ndwi_int8_13001_18931/ndwi_int8_18356.tif\n",
      "/media/nkd/data18931/ndwi_int8_13001_18931/ndwi_int8_18357.tif\n",
      "the size of current NDWI_img 11355 11355\n"
     ]
    },
    {
     "name": "stderr",
     "output_type": "stream",
     "text": [
      "900it [00:47, 19.09it/s]\n"
     ]
    },
    {
     "name": "stdout",
     "output_type": "stream",
     "text": [
      "Converting prediction from <class 'numpy.float32'> to uint8, using threshold of 0.5\n",
      "File already analysed! /media/nkd/data18931/ndwi_int8_13001_18931/ndwi_int8_18357.tif\n",
      "/media/nkd/data18931/ndwi_int8_13001_18931/ndwi_int8_18358.tif\n",
      "the size of current NDWI_img 11356 11356\n"
     ]
    },
    {
     "name": "stderr",
     "output_type": "stream",
     "text": [
      "900it [00:32, 27.61it/s]\n"
     ]
    },
    {
     "name": "stdout",
     "output_type": "stream",
     "text": [
      "Converting prediction from <class 'numpy.float32'> to uint8, using threshold of 0.5\n",
      "File already analysed! /media/nkd/data18931/ndwi_int8_13001_18931/ndwi_int8_18358.tif\n",
      "/media/nkd/data18931/ndwi_int8_13001_18931/ndwi_int8_18359.tif\n",
      "the size of current NDWI_img 11356 11356\n"
     ]
    },
    {
     "name": "stderr",
     "output_type": "stream",
     "text": [
      "900it [00:47, 18.90it/s]\n"
     ]
    },
    {
     "name": "stdout",
     "output_type": "stream",
     "text": [
      "Converting prediction from <class 'numpy.float32'> to uint8, using threshold of 0.5\n",
      "File already analysed! /media/nkd/data18931/ndwi_int8_13001_18931/ndwi_int8_18359.tif\n",
      "/media/nkd/data18931/ndwi_int8_13001_18931/ndwi_int8_18360.tif\n",
      "the size of current NDWI_img 11356 11356\n"
     ]
    },
    {
     "name": "stderr",
     "output_type": "stream",
     "text": [
      "900it [00:47, 18.83it/s]\n"
     ]
    },
    {
     "name": "stdout",
     "output_type": "stream",
     "text": [
      "Converting prediction from <class 'numpy.float32'> to uint8, using threshold of 0.5\n",
      "File already analysed! /media/nkd/data18931/ndwi_int8_13001_18931/ndwi_int8_18360.tif\n",
      "/media/nkd/data18931/ndwi_int8_13001_18931/ndwi_int8_18361.tif\n",
      "the size of current NDWI_img 11355 11356\n"
     ]
    },
    {
     "name": "stderr",
     "output_type": "stream",
     "text": [
      "900it [00:43, 20.88it/s]\n"
     ]
    },
    {
     "name": "stdout",
     "output_type": "stream",
     "text": [
      "Converting prediction from <class 'numpy.float32'> to uint8, using threshold of 0.5\n",
      "File already analysed! /media/nkd/data18931/ndwi_int8_13001_18931/ndwi_int8_18361.tif\n",
      "/media/nkd/data18931/ndwi_int8_13001_18931/ndwi_int8_18362.tif\n",
      "the size of current NDWI_img 11356 11356\n"
     ]
    },
    {
     "name": "stderr",
     "output_type": "stream",
     "text": [
      "900it [00:35, 25.25it/s]\n"
     ]
    },
    {
     "name": "stdout",
     "output_type": "stream",
     "text": [
      "Converting prediction from <class 'numpy.float32'> to uint8, using threshold of 0.5\n",
      "File already analysed! /media/nkd/data18931/ndwi_int8_13001_18931/ndwi_int8_18362.tif\n",
      "/media/nkd/data18931/ndwi_int8_13001_18931/ndwi_int8_18363.tif\n",
      "the size of current NDWI_img 11356 11356\n"
     ]
    },
    {
     "name": "stderr",
     "output_type": "stream",
     "text": [
      "900it [00:53, 16.86it/s]\n"
     ]
    },
    {
     "name": "stdout",
     "output_type": "stream",
     "text": [
      "Converting prediction from <class 'numpy.float32'> to uint8, using threshold of 0.5\n",
      "File already analysed! /media/nkd/data18931/ndwi_int8_13001_18931/ndwi_int8_18363.tif\n",
      "/media/nkd/data18931/ndwi_int8_13001_18931/ndwi_int8_18364.tif\n",
      "the size of current NDWI_img 11356 11356\n"
     ]
    },
    {
     "name": "stderr",
     "output_type": "stream",
     "text": [
      "900it [01:00, 14.76it/s]\n"
     ]
    },
    {
     "name": "stdout",
     "output_type": "stream",
     "text": [
      "Converting prediction from <class 'numpy.float32'> to uint8, using threshold of 0.5\n",
      "File already analysed! /media/nkd/data18931/ndwi_int8_13001_18931/ndwi_int8_18364.tif\n",
      "/media/nkd/data18931/ndwi_int8_13001_18931/ndwi_int8_18365.tif\n",
      "the size of current NDWI_img 11355 11356\n"
     ]
    },
    {
     "name": "stderr",
     "output_type": "stream",
     "text": [
      "900it [00:57, 15.53it/s]\n"
     ]
    },
    {
     "name": "stdout",
     "output_type": "stream",
     "text": [
      "Converting prediction from <class 'numpy.float32'> to uint8, using threshold of 0.5\n",
      "File already analysed! /media/nkd/data18931/ndwi_int8_13001_18931/ndwi_int8_18365.tif\n",
      "/media/nkd/data18931/ndwi_int8_13001_18931/ndwi_int8_18366.tif\n",
      "the size of current NDWI_img 11355 11356\n"
     ]
    },
    {
     "name": "stderr",
     "output_type": "stream",
     "text": [
      "900it [01:01, 14.73it/s]\n"
     ]
    },
    {
     "name": "stdout",
     "output_type": "stream",
     "text": [
      "Converting prediction from <class 'numpy.float32'> to uint8, using threshold of 0.5\n",
      "File already analysed! /media/nkd/data18931/ndwi_int8_13001_18931/ndwi_int8_18366.tif\n",
      "/media/nkd/data18931/ndwi_int8_13001_18931/ndwi_int8_18367.tif\n",
      "the size of current NDWI_img 11355 11356\n"
     ]
    },
    {
     "name": "stderr",
     "output_type": "stream",
     "text": [
      "900it [01:12, 12.48it/s]\n"
     ]
    },
    {
     "name": "stdout",
     "output_type": "stream",
     "text": [
      "Converting prediction from <class 'numpy.float32'> to uint8, using threshold of 0.5\n",
      "File already analysed! /media/nkd/data18931/ndwi_int8_13001_18931/ndwi_int8_18367.tif\n",
      "/media/nkd/data18931/ndwi_int8_13001_18931/ndwi_int8_18368.tif\n",
      "the size of current NDWI_img 11356 11356\n"
     ]
    },
    {
     "name": "stderr",
     "output_type": "stream",
     "text": [
      "900it [00:39, 22.74it/s]\n"
     ]
    },
    {
     "name": "stdout",
     "output_type": "stream",
     "text": [
      "Converting prediction from <class 'numpy.float32'> to uint8, using threshold of 0.5\n",
      "File already analysed! /media/nkd/data18931/ndwi_int8_13001_18931/ndwi_int8_18368.tif\n",
      "/media/nkd/data18931/ndwi_int8_13001_18931/ndwi_int8_18369.tif\n",
      "the size of current NDWI_img 11356 11356\n"
     ]
    },
    {
     "name": "stderr",
     "output_type": "stream",
     "text": [
      "900it [01:07, 13.32it/s]\n"
     ]
    },
    {
     "name": "stdout",
     "output_type": "stream",
     "text": [
      "Converting prediction from <class 'numpy.float32'> to uint8, using threshold of 0.5\n",
      "File already analysed! /media/nkd/data18931/ndwi_int8_13001_18931/ndwi_int8_18369.tif\n",
      "/media/nkd/data18931/ndwi_int8_13001_18931/ndwi_int8_18370.tif\n",
      "the size of current NDWI_img 11356 11356\n"
     ]
    },
    {
     "name": "stderr",
     "output_type": "stream",
     "text": [
      "900it [01:13, 12.29it/s]\n"
     ]
    },
    {
     "name": "stdout",
     "output_type": "stream",
     "text": [
      "Converting prediction from <class 'numpy.float32'> to uint8, using threshold of 0.5\n",
      "File already analysed! /media/nkd/data18931/ndwi_int8_13001_18931/ndwi_int8_18370.tif\n",
      "/media/nkd/data18931/ndwi_int8_13001_18931/ndwi_int8_18371.tif\n",
      "the size of current NDWI_img 11355 11356\n"
     ]
    },
    {
     "name": "stderr",
     "output_type": "stream",
     "text": [
      "900it [01:11, 12.65it/s]\n"
     ]
    },
    {
     "name": "stdout",
     "output_type": "stream",
     "text": [
      "Converting prediction from <class 'numpy.float32'> to uint8, using threshold of 0.5\n",
      "File already analysed! /media/nkd/data18931/ndwi_int8_13001_18931/ndwi_int8_18371.tif\n",
      "/media/nkd/data18931/ndwi_int8_13001_18931/ndwi_int8_18372.tif\n",
      "the size of current NDWI_img 11355 11356\n"
     ]
    },
    {
     "name": "stderr",
     "output_type": "stream",
     "text": [
      "900it [01:14, 12.03it/s]\n"
     ]
    },
    {
     "name": "stdout",
     "output_type": "stream",
     "text": [
      "Converting prediction from <class 'numpy.float32'> to uint8, using threshold of 0.5\n",
      "File already analysed! /media/nkd/data18931/ndwi_int8_13001_18931/ndwi_int8_18372.tif\n",
      "/media/nkd/data18931/ndwi_int8_13001_18931/ndwi_int8_18373.tif\n",
      "the size of current NDWI_img 11355 11356\n"
     ]
    },
    {
     "name": "stderr",
     "output_type": "stream",
     "text": [
      "900it [01:13, 12.32it/s]\n"
     ]
    },
    {
     "name": "stdout",
     "output_type": "stream",
     "text": [
      "Converting prediction from <class 'numpy.float32'> to uint8, using threshold of 0.5\n",
      "File already analysed! /media/nkd/data18931/ndwi_int8_13001_18931/ndwi_int8_18373.tif\n",
      "/media/nkd/data18931/ndwi_int8_13001_18931/ndwi_int8_18374.tif\n",
      "the size of current NDWI_img 11356 11356\n"
     ]
    },
    {
     "name": "stderr",
     "output_type": "stream",
     "text": [
      "900it [00:47, 18.78it/s]\n"
     ]
    },
    {
     "name": "stdout",
     "output_type": "stream",
     "text": [
      "Converting prediction from <class 'numpy.float32'> to uint8, using threshold of 0.5\n",
      "File already analysed! /media/nkd/data18931/ndwi_int8_13001_18931/ndwi_int8_18374.tif\n",
      "/media/nkd/data18931/ndwi_int8_13001_18931/ndwi_int8_18375.tif\n",
      "the size of current NDWI_img 11356 11356\n"
     ]
    },
    {
     "name": "stderr",
     "output_type": "stream",
     "text": [
      "900it [01:12, 12.33it/s]\n"
     ]
    },
    {
     "name": "stdout",
     "output_type": "stream",
     "text": [
      "Converting prediction from <class 'numpy.float32'> to uint8, using threshold of 0.5\n",
      "File already analysed! /media/nkd/data18931/ndwi_int8_13001_18931/ndwi_int8_18375.tif\n",
      "/media/nkd/data18931/ndwi_int8_13001_18931/ndwi_int8_18376.tif\n",
      "the size of current NDWI_img 11356 11356\n"
     ]
    },
    {
     "name": "stderr",
     "output_type": "stream",
     "text": [
      "900it [01:13, 12.26it/s]\n"
     ]
    },
    {
     "name": "stdout",
     "output_type": "stream",
     "text": [
      "Converting prediction from <class 'numpy.float32'> to uint8, using threshold of 0.5\n",
      "File already analysed! /media/nkd/data18931/ndwi_int8_13001_18931/ndwi_int8_18376.tif\n",
      "/media/nkd/data18931/ndwi_int8_13001_18931/ndwi_int8_18377.tif\n",
      "the size of current NDWI_img 11355 11356\n"
     ]
    },
    {
     "name": "stderr",
     "output_type": "stream",
     "text": [
      "900it [01:14, 12.02it/s]\n"
     ]
    },
    {
     "name": "stdout",
     "output_type": "stream",
     "text": [
      "Converting prediction from <class 'numpy.float32'> to uint8, using threshold of 0.5\n",
      "File already analysed! /media/nkd/data18931/ndwi_int8_13001_18931/ndwi_int8_18377.tif\n",
      "/media/nkd/data18931/ndwi_int8_13001_18931/ndwi_int8_18378.tif\n",
      "the size of current NDWI_img 11355 11356\n"
     ]
    },
    {
     "name": "stderr",
     "output_type": "stream",
     "text": [
      "900it [01:13, 12.23it/s]\n"
     ]
    },
    {
     "name": "stdout",
     "output_type": "stream",
     "text": [
      "Converting prediction from <class 'numpy.float32'> to uint8, using threshold of 0.5\n",
      "File already analysed! /media/nkd/data18931/ndwi_int8_13001_18931/ndwi_int8_18378.tif\n",
      "/media/nkd/data18931/ndwi_int8_13001_18931/ndwi_int8_18379.tif\n",
      "the size of current NDWI_img 11355 11356\n"
     ]
    },
    {
     "name": "stderr",
     "output_type": "stream",
     "text": [
      "900it [01:13, 12.24it/s]\n"
     ]
    },
    {
     "name": "stdout",
     "output_type": "stream",
     "text": [
      "Converting prediction from <class 'numpy.float32'> to uint8, using threshold of 0.5\n",
      "File already analysed! /media/nkd/data18931/ndwi_int8_13001_18931/ndwi_int8_18379.tif\n",
      "/media/nkd/data18931/ndwi_int8_13001_18931/ndwi_int8_18380.tif\n",
      "the size of current NDWI_img 11356 11356\n"
     ]
    },
    {
     "name": "stderr",
     "output_type": "stream",
     "text": [
      "900it [00:43, 20.47it/s]\n"
     ]
    },
    {
     "name": "stdout",
     "output_type": "stream",
     "text": [
      "Converting prediction from <class 'numpy.float32'> to uint8, using threshold of 0.5\n",
      "File already analysed! /media/nkd/data18931/ndwi_int8_13001_18931/ndwi_int8_18380.tif\n",
      "/media/nkd/data18931/ndwi_int8_13001_18931/ndwi_int8_18381.tif\n",
      "the size of current NDWI_img 11356 11356\n"
     ]
    },
    {
     "name": "stderr",
     "output_type": "stream",
     "text": [
      "900it [01:14, 12.11it/s]\n"
     ]
    },
    {
     "name": "stdout",
     "output_type": "stream",
     "text": [
      "Converting prediction from <class 'numpy.float32'> to uint8, using threshold of 0.5\n",
      "File already analysed! /media/nkd/data18931/ndwi_int8_13001_18931/ndwi_int8_18381.tif\n",
      "/media/nkd/data18931/ndwi_int8_13001_18931/ndwi_int8_18382.tif\n",
      "the size of current NDWI_img 11356 11356\n"
     ]
    },
    {
     "name": "stderr",
     "output_type": "stream",
     "text": [
      "900it [01:23, 10.75it/s]\n"
     ]
    },
    {
     "name": "stdout",
     "output_type": "stream",
     "text": [
      "Converting prediction from <class 'numpy.float32'> to uint8, using threshold of 0.5\n",
      "File already analysed! /media/nkd/data18931/ndwi_int8_13001_18931/ndwi_int8_18382.tif\n",
      "/media/nkd/data18931/ndwi_int8_13001_18931/ndwi_int8_18383.tif\n",
      "the size of current NDWI_img 11355 11356\n"
     ]
    },
    {
     "name": "stderr",
     "output_type": "stream",
     "text": [
      "900it [01:24, 10.63it/s]\n"
     ]
    },
    {
     "name": "stdout",
     "output_type": "stream",
     "text": [
      "Converting prediction from <class 'numpy.float32'> to uint8, using threshold of 0.5\n",
      "File already analysed! /media/nkd/data18931/ndwi_int8_13001_18931/ndwi_int8_18383.tif\n",
      "/media/nkd/data18931/ndwi_int8_13001_18931/ndwi_int8_18384.tif\n",
      "the size of current NDWI_img 11355 11356\n"
     ]
    },
    {
     "name": "stderr",
     "output_type": "stream",
     "text": [
      "900it [01:25, 10.55it/s]\n"
     ]
    },
    {
     "name": "stdout",
     "output_type": "stream",
     "text": [
      "Converting prediction from <class 'numpy.float32'> to uint8, using threshold of 0.5\n",
      "File already analysed! /media/nkd/data18931/ndwi_int8_13001_18931/ndwi_int8_18384.tif\n",
      "/media/nkd/data18931/ndwi_int8_13001_18931/ndwi_int8_18385.tif\n",
      "the size of current NDWI_img 11355 11356\n"
     ]
    },
    {
     "name": "stderr",
     "output_type": "stream",
     "text": [
      "900it [01:26, 10.37it/s]\n"
     ]
    },
    {
     "name": "stdout",
     "output_type": "stream",
     "text": [
      "Converting prediction from <class 'numpy.float32'> to uint8, using threshold of 0.5\n",
      "File already analysed! /media/nkd/data18931/ndwi_int8_13001_18931/ndwi_int8_18385.tif\n",
      "/media/nkd/data18931/ndwi_int8_13001_18931/ndwi_int8_18386.tif\n",
      "the size of current NDWI_img 11356 11356\n"
     ]
    },
    {
     "name": "stderr",
     "output_type": "stream",
     "text": [
      "900it [01:01, 14.65it/s]\n"
     ]
    },
    {
     "name": "stdout",
     "output_type": "stream",
     "text": [
      "Converting prediction from <class 'numpy.float32'> to uint8, using threshold of 0.5\n",
      "File already analysed! /media/nkd/data18931/ndwi_int8_13001_18931/ndwi_int8_18386.tif\n",
      "/media/nkd/data18931/ndwi_int8_13001_18931/ndwi_int8_18387.tif\n",
      "the size of current NDWI_img 11356 11356\n"
     ]
    },
    {
     "name": "stderr",
     "output_type": "stream",
     "text": [
      "900it [01:22, 10.88it/s]\n"
     ]
    },
    {
     "name": "stdout",
     "output_type": "stream",
     "text": [
      "Converting prediction from <class 'numpy.float32'> to uint8, using threshold of 0.5\n",
      "File already analysed! /media/nkd/data18931/ndwi_int8_13001_18931/ndwi_int8_18387.tif\n",
      "/media/nkd/data18931/ndwi_int8_13001_18931/ndwi_int8_18388.tif\n",
      "the size of current NDWI_img 11355 11356\n"
     ]
    },
    {
     "name": "stderr",
     "output_type": "stream",
     "text": [
      "900it [01:23, 10.81it/s]\n"
     ]
    },
    {
     "name": "stdout",
     "output_type": "stream",
     "text": [
      "Converting prediction from <class 'numpy.float32'> to uint8, using threshold of 0.5\n",
      "File already analysed! /media/nkd/data18931/ndwi_int8_13001_18931/ndwi_int8_18388.tif\n",
      "/media/nkd/data18931/ndwi_int8_13001_18931/ndwi_int8_18389.tif\n",
      "the size of current NDWI_img 11355 11356\n"
     ]
    },
    {
     "name": "stderr",
     "output_type": "stream",
     "text": [
      "900it [01:26, 10.37it/s]\n"
     ]
    },
    {
     "name": "stdout",
     "output_type": "stream",
     "text": [
      "Converting prediction from <class 'numpy.float32'> to uint8, using threshold of 0.5\n",
      "File already analysed! /media/nkd/data18931/ndwi_int8_13001_18931/ndwi_int8_18389.tif\n",
      "/media/nkd/data18931/ndwi_int8_13001_18931/ndwi_int8_18390.tif\n",
      "the size of current NDWI_img 11355 11356\n"
     ]
    },
    {
     "name": "stderr",
     "output_type": "stream",
     "text": [
      "900it [01:27, 10.30it/s]\n"
     ]
    },
    {
     "name": "stdout",
     "output_type": "stream",
     "text": [
      "Converting prediction from <class 'numpy.float32'> to uint8, using threshold of 0.5\n",
      "File already analysed! /media/nkd/data18931/ndwi_int8_13001_18931/ndwi_int8_18390.tif\n",
      "/media/nkd/data18931/ndwi_int8_13001_18931/ndwi_int8_18391.tif\n",
      "the size of current NDWI_img 11356 11356\n"
     ]
    },
    {
     "name": "stderr",
     "output_type": "stream",
     "text": [
      "900it [00:53, 16.71it/s]\n"
     ]
    },
    {
     "name": "stdout",
     "output_type": "stream",
     "text": [
      "Converting prediction from <class 'numpy.float32'> to uint8, using threshold of 0.5\n",
      "File already analysed! /media/nkd/data18931/ndwi_int8_13001_18931/ndwi_int8_18391.tif\n",
      "/media/nkd/data18931/ndwi_int8_13001_18931/ndwi_int8_18392.tif\n",
      "the size of current NDWI_img 11356 11356\n"
     ]
    },
    {
     "name": "stderr",
     "output_type": "stream",
     "text": [
      "900it [01:21, 11.09it/s]\n"
     ]
    },
    {
     "name": "stdout",
     "output_type": "stream",
     "text": [
      "Converting prediction from <class 'numpy.float32'> to uint8, using threshold of 0.5\n",
      "File already analysed! /media/nkd/data18931/ndwi_int8_13001_18931/ndwi_int8_18392.tif\n",
      "/media/nkd/data18931/ndwi_int8_13001_18931/ndwi_int8_18393.tif\n",
      "the size of current NDWI_img 11355 11356\n"
     ]
    },
    {
     "name": "stderr",
     "output_type": "stream",
     "text": [
      "900it [01:28, 10.14it/s]\n"
     ]
    },
    {
     "name": "stdout",
     "output_type": "stream",
     "text": [
      "Converting prediction from <class 'numpy.float32'> to uint8, using threshold of 0.5\n",
      "File already analysed! /media/nkd/data18931/ndwi_int8_13001_18931/ndwi_int8_18393.tif\n",
      "/media/nkd/data18931/ndwi_int8_13001_18931/ndwi_int8_18394.tif\n",
      "the size of current NDWI_img 11355 11356\n"
     ]
    },
    {
     "name": "stderr",
     "output_type": "stream",
     "text": [
      "900it [01:28, 10.17it/s]\n"
     ]
    },
    {
     "name": "stdout",
     "output_type": "stream",
     "text": [
      "Converting prediction from <class 'numpy.float32'> to uint8, using threshold of 0.5\n",
      "File already analysed! /media/nkd/data18931/ndwi_int8_13001_18931/ndwi_int8_18394.tif\n",
      "/media/nkd/data18931/ndwi_int8_13001_18931/ndwi_int8_18395.tif\n",
      "the size of current NDWI_img 11355 11356\n"
     ]
    },
    {
     "name": "stderr",
     "output_type": "stream",
     "text": [
      "900it [01:26, 10.45it/s]\n"
     ]
    },
    {
     "name": "stdout",
     "output_type": "stream",
     "text": [
      "Converting prediction from <class 'numpy.float32'> to uint8, using threshold of 0.5\n",
      "File already analysed! /media/nkd/data18931/ndwi_int8_13001_18931/ndwi_int8_18395.tif\n",
      "/media/nkd/data18931/ndwi_int8_13001_18931/ndwi_int8_18396.tif\n",
      "the size of current NDWI_img 11356 11356\n"
     ]
    },
    {
     "name": "stderr",
     "output_type": "stream",
     "text": [
      "900it [00:50, 17.78it/s]\n"
     ]
    },
    {
     "name": "stdout",
     "output_type": "stream",
     "text": [
      "Converting prediction from <class 'numpy.float32'> to uint8, using threshold of 0.5\n",
      "File already analysed! /media/nkd/data18931/ndwi_int8_13001_18931/ndwi_int8_18396.tif\n",
      "/media/nkd/data18931/ndwi_int8_13001_18931/ndwi_int8_18397.tif\n",
      "the size of current NDWI_img 11356 11356\n"
     ]
    },
    {
     "name": "stderr",
     "output_type": "stream",
     "text": [
      "900it [01:17, 11.68it/s]\n"
     ]
    },
    {
     "name": "stdout",
     "output_type": "stream",
     "text": [
      "Converting prediction from <class 'numpy.float32'> to uint8, using threshold of 0.5\n",
      "File already analysed! /media/nkd/data18931/ndwi_int8_13001_18931/ndwi_int8_18397.tif\n",
      "/media/nkd/data18931/ndwi_int8_13001_18931/ndwi_int8_18398.tif\n",
      "the size of current NDWI_img 11355 11356\n"
     ]
    },
    {
     "name": "stderr",
     "output_type": "stream",
     "text": [
      "900it [01:26, 10.42it/s]\n"
     ]
    },
    {
     "name": "stdout",
     "output_type": "stream",
     "text": [
      "Converting prediction from <class 'numpy.float32'> to uint8, using threshold of 0.5\n",
      "File already analysed! /media/nkd/data18931/ndwi_int8_13001_18931/ndwi_int8_18398.tif\n",
      "/media/nkd/data18931/ndwi_int8_13001_18931/ndwi_int8_18399.tif\n",
      "the size of current NDWI_img 11355 11356\n"
     ]
    },
    {
     "name": "stderr",
     "output_type": "stream",
     "text": [
      "900it [01:18, 11.52it/s]\n"
     ]
    },
    {
     "name": "stdout",
     "output_type": "stream",
     "text": [
      "Converting prediction from <class 'numpy.float32'> to uint8, using threshold of 0.5\n",
      "File already analysed! /media/nkd/data18931/ndwi_int8_13001_18931/ndwi_int8_18399.tif\n",
      "/media/nkd/data18931/ndwi_int8_13001_18931/ndwi_int8_18400.tif\n",
      "the size of current NDWI_img 11355 11356\n"
     ]
    },
    {
     "name": "stderr",
     "output_type": "stream",
     "text": [
      "900it [01:18, 11.47it/s]\n"
     ]
    },
    {
     "name": "stdout",
     "output_type": "stream",
     "text": [
      "Converting prediction from <class 'numpy.float32'> to uint8, using threshold of 0.5\n",
      "File already analysed! /media/nkd/data18931/ndwi_int8_13001_18931/ndwi_int8_18400.tif\n",
      "/media/nkd/data18931/ndwi_int8_13001_18931/ndwi_int8_18401.tif\n",
      "the size of current NDWI_img 11356 11356\n"
     ]
    },
    {
     "name": "stderr",
     "output_type": "stream",
     "text": [
      "900it [00:50, 17.72it/s]\n"
     ]
    },
    {
     "name": "stdout",
     "output_type": "stream",
     "text": [
      "Converting prediction from <class 'numpy.float32'> to uint8, using threshold of 0.5\n",
      "File already analysed! /media/nkd/data18931/ndwi_int8_13001_18931/ndwi_int8_18401.tif\n",
      "/media/nkd/data18931/ndwi_int8_13001_18931/ndwi_int8_18402.tif\n",
      "the size of current NDWI_img 11356 11356\n"
     ]
    },
    {
     "name": "stderr",
     "output_type": "stream",
     "text": [
      "900it [01:10, 12.74it/s]\n"
     ]
    },
    {
     "name": "stdout",
     "output_type": "stream",
     "text": [
      "Converting prediction from <class 'numpy.float32'> to uint8, using threshold of 0.5\n",
      "File already analysed! /media/nkd/data18931/ndwi_int8_13001_18931/ndwi_int8_18402.tif\n",
      "/media/nkd/data18931/ndwi_int8_13001_18931/ndwi_int8_18403.tif\n",
      "the size of current NDWI_img 11355 11356\n"
     ]
    },
    {
     "name": "stderr",
     "output_type": "stream",
     "text": [
      "900it [01:12, 12.41it/s]\n"
     ]
    },
    {
     "name": "stdout",
     "output_type": "stream",
     "text": [
      "Converting prediction from <class 'numpy.float32'> to uint8, using threshold of 0.5\n",
      "File already analysed! /media/nkd/data18931/ndwi_int8_13001_18931/ndwi_int8_18403.tif\n",
      "/media/nkd/data18931/ndwi_int8_13001_18931/ndwi_int8_18404.tif\n",
      "the size of current NDWI_img 11355 11356\n"
     ]
    },
    {
     "name": "stderr",
     "output_type": "stream",
     "text": [
      "900it [01:17, 11.55it/s]\n"
     ]
    },
    {
     "name": "stdout",
     "output_type": "stream",
     "text": [
      "Converting prediction from <class 'numpy.float32'> to uint8, using threshold of 0.5\n",
      "File already analysed! /media/nkd/data18931/ndwi_int8_13001_18931/ndwi_int8_18404.tif\n",
      "/media/nkd/data18931/ndwi_int8_13001_18931/ndwi_int8_18405.tif\n",
      "the size of current NDWI_img 11355 11356\n"
     ]
    },
    {
     "name": "stderr",
     "output_type": "stream",
     "text": [
      "900it [01:16, 11.74it/s]\n"
     ]
    },
    {
     "name": "stdout",
     "output_type": "stream",
     "text": [
      "Converting prediction from <class 'numpy.float32'> to uint8, using threshold of 0.5\n",
      "File already analysed! /media/nkd/data18931/ndwi_int8_13001_18931/ndwi_int8_18405.tif\n",
      "/media/nkd/data18931/ndwi_int8_13001_18931/ndwi_int8_18406.tif\n",
      "the size of current NDWI_img 11356 11355\n"
     ]
    },
    {
     "name": "stderr",
     "output_type": "stream",
     "text": [
      "900it [00:46, 19.46it/s]\n"
     ]
    },
    {
     "name": "stdout",
     "output_type": "stream",
     "text": [
      "Converting prediction from <class 'numpy.float32'> to uint8, using threshold of 0.5\n",
      "File already analysed! /media/nkd/data18931/ndwi_int8_13001_18931/ndwi_int8_18406.tif\n",
      "/media/nkd/data18931/ndwi_int8_13001_18931/ndwi_int8_18407.tif\n",
      "the size of current NDWI_img 11356 11355\n"
     ]
    },
    {
     "name": "stderr",
     "output_type": "stream",
     "text": [
      "900it [01:08, 13.23it/s]\n"
     ]
    },
    {
     "name": "stdout",
     "output_type": "stream",
     "text": [
      "Converting prediction from <class 'numpy.float32'> to uint8, using threshold of 0.5\n",
      "File already analysed! /media/nkd/data18931/ndwi_int8_13001_18931/ndwi_int8_18407.tif\n",
      "/media/nkd/data18931/ndwi_int8_13001_18931/ndwi_int8_18408.tif\n",
      "the size of current NDWI_img 11355 11355\n"
     ]
    },
    {
     "name": "stderr",
     "output_type": "stream",
     "text": [
      "900it [01:15, 11.88it/s]\n"
     ]
    },
    {
     "name": "stdout",
     "output_type": "stream",
     "text": [
      "Converting prediction from <class 'numpy.float32'> to uint8, using threshold of 0.5\n",
      "File already analysed! /media/nkd/data18931/ndwi_int8_13001_18931/ndwi_int8_18408.tif\n",
      "/media/nkd/data18931/ndwi_int8_13001_18931/ndwi_int8_18409.tif\n",
      "the size of current NDWI_img 11355 11355\n"
     ]
    },
    {
     "name": "stderr",
     "output_type": "stream",
     "text": [
      "900it [01:15, 11.86it/s]\n"
     ]
    },
    {
     "name": "stdout",
     "output_type": "stream",
     "text": [
      "Converting prediction from <class 'numpy.float32'> to uint8, using threshold of 0.5\n",
      "File already analysed! /media/nkd/data18931/ndwi_int8_13001_18931/ndwi_int8_18409.tif\n",
      "/media/nkd/data18931/ndwi_int8_13001_18931/ndwi_int8_18410.tif\n",
      "the size of current NDWI_img 11355 11355\n"
     ]
    },
    {
     "name": "stderr",
     "output_type": "stream",
     "text": [
      "900it [01:14, 12.03it/s]\n"
     ]
    },
    {
     "name": "stdout",
     "output_type": "stream",
     "text": [
      "Converting prediction from <class 'numpy.float32'> to uint8, using threshold of 0.5\n",
      "File already analysed! /media/nkd/data18931/ndwi_int8_13001_18931/ndwi_int8_18410.tif\n",
      "/media/nkd/data18931/ndwi_int8_13001_18931/ndwi_int8_18411.tif\n",
      "the size of current NDWI_img 11356 11355\n"
     ]
    },
    {
     "name": "stderr",
     "output_type": "stream",
     "text": [
      "900it [00:48, 18.43it/s]\n"
     ]
    },
    {
     "name": "stdout",
     "output_type": "stream",
     "text": [
      "Converting prediction from <class 'numpy.float32'> to uint8, using threshold of 0.5\n",
      "File already analysed! /media/nkd/data18931/ndwi_int8_13001_18931/ndwi_int8_18411.tif\n",
      "/media/nkd/data18931/ndwi_int8_13001_18931/ndwi_int8_18412.tif\n",
      "the size of current NDWI_img 11356 11355\n"
     ]
    },
    {
     "name": "stderr",
     "output_type": "stream",
     "text": [
      "900it [00:49, 18.31it/s]\n"
     ]
    },
    {
     "name": "stdout",
     "output_type": "stream",
     "text": [
      "Converting prediction from <class 'numpy.float32'> to uint8, using threshold of 0.5\n",
      "File already analysed! /media/nkd/data18931/ndwi_int8_13001_18931/ndwi_int8_18412.tif\n",
      "/media/nkd/data18931/ndwi_int8_13001_18931/ndwi_int8_18413.tif\n",
      "the size of current NDWI_img 11355 11355\n"
     ]
    },
    {
     "name": "stderr",
     "output_type": "stream",
     "text": [
      "900it [01:13, 12.20it/s]\n"
     ]
    },
    {
     "name": "stdout",
     "output_type": "stream",
     "text": [
      "Converting prediction from <class 'numpy.float32'> to uint8, using threshold of 0.5\n",
      "File already analysed! /media/nkd/data18931/ndwi_int8_13001_18931/ndwi_int8_18413.tif\n",
      "/media/nkd/data18931/ndwi_int8_13001_18931/ndwi_int8_18414.tif\n",
      "the size of current NDWI_img 11355 11355\n"
     ]
    },
    {
     "name": "stderr",
     "output_type": "stream",
     "text": [
      "900it [01:12, 12.38it/s]\n"
     ]
    },
    {
     "name": "stdout",
     "output_type": "stream",
     "text": [
      "Converting prediction from <class 'numpy.float32'> to uint8, using threshold of 0.5\n",
      "File already analysed! /media/nkd/data18931/ndwi_int8_13001_18931/ndwi_int8_18414.tif\n",
      "/media/nkd/data18931/ndwi_int8_13001_18931/ndwi_int8_18415.tif\n",
      "the size of current NDWI_img 11355 11355\n"
     ]
    },
    {
     "name": "stderr",
     "output_type": "stream",
     "text": [
      "900it [03:13,  4.66it/s]\n"
     ]
    },
    {
     "name": "stdout",
     "output_type": "stream",
     "text": [
      "Converting prediction from <class 'numpy.float32'> to uint8, using threshold of 0.5\n",
      "File already analysed! /media/nkd/data18931/ndwi_int8_13001_18931/ndwi_int8_18415.tif\n",
      "/media/nkd/data18931/ndwi_int8_13001_18931/ndwi_int8_18416.tif\n",
      "the size of current NDWI_img 11355 11355\n"
     ]
    },
    {
     "name": "stderr",
     "output_type": "stream",
     "text": [
      "900it [02:43,  5.49it/s]\n"
     ]
    },
    {
     "name": "stdout",
     "output_type": "stream",
     "text": [
      "Converting prediction from <class 'numpy.float32'> to uint8, using threshold of 0.5\n",
      "File already analysed! /media/nkd/data18931/ndwi_int8_13001_18931/ndwi_int8_18416.tif\n",
      "/media/nkd/data18931/ndwi_int8_13001_18931/ndwi_int8_18417.tif\n",
      "the size of current NDWI_img 11355 11355\n"
     ]
    },
    {
     "name": "stderr",
     "output_type": "stream",
     "text": [
      "900it [03:27,  4.33it/s]\n"
     ]
    },
    {
     "name": "stdout",
     "output_type": "stream",
     "text": [
      "Converting prediction from <class 'numpy.float32'> to uint8, using threshold of 0.5\n",
      "File already analysed! /media/nkd/data18931/ndwi_int8_13001_18931/ndwi_int8_18417.tif\n",
      "/media/nkd/data18931/ndwi_int8_13001_18931/ndwi_int8_18418.tif\n",
      "the size of current NDWI_img 11355 11355\n"
     ]
    },
    {
     "name": "stderr",
     "output_type": "stream",
     "text": [
      "900it [03:06,  4.82it/s]\n"
     ]
    },
    {
     "name": "stdout",
     "output_type": "stream",
     "text": [
      "Converting prediction from <class 'numpy.float32'> to uint8, using threshold of 0.5\n",
      "File already analysed! /media/nkd/data18931/ndwi_int8_13001_18931/ndwi_int8_18418.tif\n",
      "/media/nkd/data18931/ndwi_int8_13001_18931/ndwi_int8_18419.tif\n",
      "the size of current NDWI_img 11355 11355\n"
     ]
    },
    {
     "name": "stderr",
     "output_type": "stream",
     "text": [
      "900it [00:51, 17.39it/s]\n"
     ]
    },
    {
     "name": "stdout",
     "output_type": "stream",
     "text": [
      "Converting prediction from <class 'numpy.float32'> to uint8, using threshold of 0.5\n",
      "File already analysed! /media/nkd/data18931/ndwi_int8_13001_18931/ndwi_int8_18419.tif\n",
      "/media/nkd/data18931/ndwi_int8_13001_18931/ndwi_int8_18420.tif\n",
      "the size of current NDWI_img 11355 11355\n"
     ]
    },
    {
     "name": "stderr",
     "output_type": "stream",
     "text": [
      "900it [01:08, 13.22it/s]\n"
     ]
    },
    {
     "name": "stdout",
     "output_type": "stream",
     "text": [
      "Converting prediction from <class 'numpy.float32'> to uint8, using threshold of 0.5\n",
      "File already analysed! /media/nkd/data18931/ndwi_int8_13001_18931/ndwi_int8_18420.tif\n",
      "/media/nkd/data18931/ndwi_int8_13001_18931/ndwi_int8_18421.tif\n",
      "the size of current NDWI_img 11355 11355\n"
     ]
    },
    {
     "name": "stderr",
     "output_type": "stream",
     "text": [
      "900it [01:07, 13.25it/s]\n"
     ]
    },
    {
     "name": "stdout",
     "output_type": "stream",
     "text": [
      "Converting prediction from <class 'numpy.float32'> to uint8, using threshold of 0.5\n",
      "File already analysed! /media/nkd/data18931/ndwi_int8_13001_18931/ndwi_int8_18421.tif\n",
      "/media/nkd/data18931/ndwi_int8_13001_18931/ndwi_int8_18422.tif\n",
      "the size of current NDWI_img 11355 11355\n"
     ]
    },
    {
     "name": "stderr",
     "output_type": "stream",
     "text": [
      "900it [00:50, 17.84it/s]\n"
     ]
    },
    {
     "name": "stdout",
     "output_type": "stream",
     "text": [
      "Converting prediction from <class 'numpy.float32'> to uint8, using threshold of 0.5\n",
      "File already analysed! /media/nkd/data18931/ndwi_int8_13001_18931/ndwi_int8_18422.tif\n",
      "/media/nkd/data18931/ndwi_int8_13001_18931/ndwi_int8_18423.tif\n",
      "the size of current NDWI_img 11355 11355\n"
     ]
    },
    {
     "name": "stderr",
     "output_type": "stream",
     "text": [
      "900it [01:10, 12.83it/s]\n"
     ]
    },
    {
     "name": "stdout",
     "output_type": "stream",
     "text": [
      "Converting prediction from <class 'numpy.float32'> to uint8, using threshold of 0.5\n",
      "File already analysed! /media/nkd/data18931/ndwi_int8_13001_18931/ndwi_int8_18423.tif\n",
      "/media/nkd/data18931/ndwi_int8_13001_18931/ndwi_int8_18424.tif\n",
      "the size of current NDWI_img 11355 11355\n"
     ]
    },
    {
     "name": "stderr",
     "output_type": "stream",
     "text": [
      "900it [01:05, 13.79it/s]\n"
     ]
    },
    {
     "name": "stdout",
     "output_type": "stream",
     "text": [
      "Converting prediction from <class 'numpy.float32'> to uint8, using threshold of 0.5\n",
      "File already analysed! /media/nkd/data18931/ndwi_int8_13001_18931/ndwi_int8_18424.tif\n",
      "/media/nkd/data18931/ndwi_int8_13001_18931/ndwi_int8_18425.tif\n",
      "the size of current NDWI_img 11355 11355\n"
     ]
    },
    {
     "name": "stderr",
     "output_type": "stream",
     "text": [
      "900it [00:45, 19.65it/s]\n"
     ]
    },
    {
     "name": "stdout",
     "output_type": "stream",
     "text": [
      "Converting prediction from <class 'numpy.float32'> to uint8, using threshold of 0.5\n",
      "File already analysed! /media/nkd/data18931/ndwi_int8_13001_18931/ndwi_int8_18425.tif\n",
      "/media/nkd/data18931/ndwi_int8_13001_18931/ndwi_int8_18426.tif\n",
      "the size of current NDWI_img 11355 11355\n"
     ]
    },
    {
     "name": "stderr",
     "output_type": "stream",
     "text": [
      "900it [01:06, 13.46it/s]\n"
     ]
    },
    {
     "name": "stdout",
     "output_type": "stream",
     "text": [
      "Converting prediction from <class 'numpy.float32'> to uint8, using threshold of 0.5\n",
      "File already analysed! /media/nkd/data18931/ndwi_int8_13001_18931/ndwi_int8_18426.tif\n",
      "/media/nkd/data18931/ndwi_int8_13001_18931/ndwi_int8_18427.tif\n",
      "the size of current NDWI_img 11355 11355\n"
     ]
    },
    {
     "name": "stderr",
     "output_type": "stream",
     "text": [
      "900it [01:03, 14.24it/s]\n"
     ]
    },
    {
     "name": "stdout",
     "output_type": "stream",
     "text": [
      "Converting prediction from <class 'numpy.float32'> to uint8, using threshold of 0.5\n",
      "File already analysed! /media/nkd/data18931/ndwi_int8_13001_18931/ndwi_int8_18427.tif\n",
      "/media/nkd/data18931/ndwi_int8_13001_18931/ndwi_int8_18428.tif\n",
      "the size of current NDWI_img 11355 11355\n"
     ]
    },
    {
     "name": "stderr",
     "output_type": "stream",
     "text": [
      "900it [01:06, 13.51it/s]\n"
     ]
    },
    {
     "name": "stdout",
     "output_type": "stream",
     "text": [
      "Converting prediction from <class 'numpy.float32'> to uint8, using threshold of 0.5\n",
      "File already analysed! /media/nkd/data18931/ndwi_int8_13001_18931/ndwi_int8_18428.tif\n",
      "/media/nkd/data18931/ndwi_int8_13001_18931/ndwi_int8_18429.tif\n",
      "the size of current NDWI_img 11355 11355\n"
     ]
    },
    {
     "name": "stderr",
     "output_type": "stream",
     "text": [
      "900it [00:56, 15.80it/s]\n"
     ]
    },
    {
     "name": "stdout",
     "output_type": "stream",
     "text": [
      "Converting prediction from <class 'numpy.float32'> to uint8, using threshold of 0.5\n",
      "File already analysed! /media/nkd/data18931/ndwi_int8_13001_18931/ndwi_int8_18429.tif\n",
      "/media/nkd/data18931/ndwi_int8_13001_18931/ndwi_int8_18430.tif\n",
      "the size of current NDWI_img 11355 11355\n"
     ]
    },
    {
     "name": "stderr",
     "output_type": "stream",
     "text": [
      "900it [00:45, 19.66it/s]\n"
     ]
    },
    {
     "name": "stdout",
     "output_type": "stream",
     "text": [
      "Converting prediction from <class 'numpy.float32'> to uint8, using threshold of 0.5\n",
      "File already analysed! /media/nkd/data18931/ndwi_int8_13001_18931/ndwi_int8_18430.tif\n",
      "/media/nkd/data18931/ndwi_int8_13001_18931/ndwi_int8_18431.tif\n",
      "the size of current NDWI_img 11355 11355\n"
     ]
    },
    {
     "name": "stderr",
     "output_type": "stream",
     "text": [
      "900it [01:03, 14.25it/s]\n"
     ]
    },
    {
     "name": "stdout",
     "output_type": "stream",
     "text": [
      "Converting prediction from <class 'numpy.float32'> to uint8, using threshold of 0.5\n",
      "File already analysed! /media/nkd/data18931/ndwi_int8_13001_18931/ndwi_int8_18431.tif\n",
      "/media/nkd/data18931/ndwi_int8_13001_18931/ndwi_int8_18432.tif\n",
      "the size of current NDWI_img 11355 11355\n"
     ]
    },
    {
     "name": "stderr",
     "output_type": "stream",
     "text": [
      "900it [01:08, 13.17it/s]\n"
     ]
    },
    {
     "name": "stdout",
     "output_type": "stream",
     "text": [
      "Converting prediction from <class 'numpy.float32'> to uint8, using threshold of 0.5\n",
      "File already analysed! /media/nkd/data18931/ndwi_int8_13001_18931/ndwi_int8_18432.tif\n",
      "/media/nkd/data18931/ndwi_int8_13001_18931/ndwi_int8_18433.tif\n",
      "the size of current NDWI_img 11355 11356\n"
     ]
    },
    {
     "name": "stderr",
     "output_type": "stream",
     "text": [
      "900it [00:46, 19.24it/s]\n"
     ]
    },
    {
     "name": "stdout",
     "output_type": "stream",
     "text": [
      "Converting prediction from <class 'numpy.float32'> to uint8, using threshold of 0.5\n",
      "File already analysed! /media/nkd/data18931/ndwi_int8_13001_18931/ndwi_int8_18433.tif\n",
      "/media/nkd/data18931/ndwi_int8_13001_18931/ndwi_int8_18434.tif\n",
      "the size of current NDWI_img 11355 11356\n"
     ]
    },
    {
     "name": "stderr",
     "output_type": "stream",
     "text": [
      "900it [01:15, 11.89it/s]\n"
     ]
    },
    {
     "name": "stdout",
     "output_type": "stream",
     "text": [
      "Converting prediction from <class 'numpy.float32'> to uint8, using threshold of 0.5\n",
      "File already analysed! /media/nkd/data18931/ndwi_int8_13001_18931/ndwi_int8_18434.tif\n",
      "/media/nkd/data18931/ndwi_int8_13001_18931/ndwi_int8_18435.tif\n",
      "the size of current NDWI_img 11355 11356\n"
     ]
    },
    {
     "name": "stderr",
     "output_type": "stream",
     "text": [
      "900it [01:13, 12.27it/s]\n"
     ]
    },
    {
     "name": "stdout",
     "output_type": "stream",
     "text": [
      "Converting prediction from <class 'numpy.float32'> to uint8, using threshold of 0.5\n",
      "File already analysed! /media/nkd/data18931/ndwi_int8_13001_18931/ndwi_int8_18435.tif\n",
      "/media/nkd/data18931/ndwi_int8_13001_18931/ndwi_int8_18436.tif\n",
      "the size of current NDWI_img 11356 11356\n"
     ]
    },
    {
     "name": "stderr",
     "output_type": "stream",
     "text": [
      "900it [00:43, 20.93it/s]\n"
     ]
    },
    {
     "name": "stdout",
     "output_type": "stream",
     "text": [
      "Converting prediction from <class 'numpy.float32'> to uint8, using threshold of 0.5\n",
      "File already analysed! /media/nkd/data18931/ndwi_int8_13001_18931/ndwi_int8_18436.tif\n",
      "/media/nkd/data18931/ndwi_int8_13001_18931/ndwi_int8_18437.tif\n",
      "the size of current NDWI_img 11355 11356\n"
     ]
    },
    {
     "name": "stderr",
     "output_type": "stream",
     "text": [
      "900it [00:52, 17.04it/s]\n"
     ]
    },
    {
     "name": "stdout",
     "output_type": "stream",
     "text": [
      "Converting prediction from <class 'numpy.float32'> to uint8, using threshold of 0.5\n",
      "File already analysed! /media/nkd/data18931/ndwi_int8_13001_18931/ndwi_int8_18437.tif\n",
      "/media/nkd/data18931/ndwi_int8_13001_18931/ndwi_int8_18438.tif\n",
      "the size of current NDWI_img 11355 11356\n"
     ]
    },
    {
     "name": "stderr",
     "output_type": "stream",
     "text": [
      "900it [01:17, 11.61it/s]\n"
     ]
    },
    {
     "name": "stdout",
     "output_type": "stream",
     "text": [
      "Converting prediction from <class 'numpy.float32'> to uint8, using threshold of 0.5\n",
      "File already analysed! /media/nkd/data18931/ndwi_int8_13001_18931/ndwi_int8_18438.tif\n",
      "/media/nkd/data18931/ndwi_int8_13001_18931/ndwi_int8_18439.tif\n",
      "the size of current NDWI_img 11355 11356\n"
     ]
    },
    {
     "name": "stderr",
     "output_type": "stream",
     "text": [
      "900it [01:10, 12.81it/s]\n"
     ]
    },
    {
     "name": "stdout",
     "output_type": "stream",
     "text": [
      "Converting prediction from <class 'numpy.float32'> to uint8, using threshold of 0.5\n",
      "File already analysed! /media/nkd/data18931/ndwi_int8_13001_18931/ndwi_int8_18439.tif\n",
      "/media/nkd/data18931/ndwi_int8_13001_18931/ndwi_int8_18440.tif\n",
      "the size of current NDWI_img 11356 11356\n"
     ]
    },
    {
     "name": "stderr",
     "output_type": "stream",
     "text": [
      "900it [00:45, 19.82it/s]\n"
     ]
    },
    {
     "name": "stdout",
     "output_type": "stream",
     "text": [
      "Converting prediction from <class 'numpy.float32'> to uint8, using threshold of 0.5\n",
      "File already analysed! /media/nkd/data18931/ndwi_int8_13001_18931/ndwi_int8_18440.tif\n",
      "/media/nkd/data18931/ndwi_int8_13001_18931/ndwi_int8_18441.tif\n",
      "the size of current NDWI_img 11356 11356\n"
     ]
    },
    {
     "name": "stderr",
     "output_type": "stream",
     "text": [
      "900it [00:47, 18.91it/s]\n"
     ]
    },
    {
     "name": "stdout",
     "output_type": "stream",
     "text": [
      "Converting prediction from <class 'numpy.float32'> to uint8, using threshold of 0.5\n",
      "File already analysed! /media/nkd/data18931/ndwi_int8_13001_18931/ndwi_int8_18441.tif\n",
      "/media/nkd/data18931/ndwi_int8_13001_18931/ndwi_int8_18442.tif\n",
      "the size of current NDWI_img 11356 11356\n"
     ]
    },
    {
     "name": "stderr",
     "output_type": "stream",
     "text": [
      "900it [00:51, 17.44it/s]\n"
     ]
    },
    {
     "name": "stdout",
     "output_type": "stream",
     "text": [
      "Converting prediction from <class 'numpy.float32'> to uint8, using threshold of 0.5\n",
      "File already analysed! /media/nkd/data18931/ndwi_int8_13001_18931/ndwi_int8_18442.tif\n",
      "/media/nkd/data18931/ndwi_int8_13001_18931/ndwi_int8_18443.tif\n",
      "the size of current NDWI_img 11355 11356\n"
     ]
    },
    {
     "name": "stderr",
     "output_type": "stream",
     "text": [
      "900it [01:12, 12.36it/s]\n"
     ]
    },
    {
     "name": "stdout",
     "output_type": "stream",
     "text": [
      "Converting prediction from <class 'numpy.float32'> to uint8, using threshold of 0.5\n",
      "File already analysed! /media/nkd/data18931/ndwi_int8_13001_18931/ndwi_int8_18443.tif\n",
      "/media/nkd/data18931/ndwi_int8_13001_18931/ndwi_int8_18444.tif\n",
      "the size of current NDWI_img 11355 11356\n"
     ]
    },
    {
     "name": "stderr",
     "output_type": "stream",
     "text": [
      "900it [01:12, 12.34it/s]\n"
     ]
    },
    {
     "name": "stdout",
     "output_type": "stream",
     "text": [
      "Converting prediction from <class 'numpy.float32'> to uint8, using threshold of 0.5\n",
      "File already analysed! /media/nkd/data18931/ndwi_int8_13001_18931/ndwi_int8_18444.tif\n",
      "/media/nkd/data18931/ndwi_int8_13001_18931/ndwi_int8_18445.tif\n",
      "the size of current NDWI_img 11355 11356\n"
     ]
    },
    {
     "name": "stderr",
     "output_type": "stream",
     "text": [
      "900it [01:10, 12.76it/s]\n"
     ]
    },
    {
     "name": "stdout",
     "output_type": "stream",
     "text": [
      "Converting prediction from <class 'numpy.float32'> to uint8, using threshold of 0.5\n",
      "File already analysed! /media/nkd/data18931/ndwi_int8_13001_18931/ndwi_int8_18445.tif\n",
      "/media/nkd/data18931/ndwi_int8_13001_18931/ndwi_int8_18446.tif\n",
      "the size of current NDWI_img 11356 11356\n"
     ]
    },
    {
     "name": "stderr",
     "output_type": "stream",
     "text": [
      "900it [00:44, 20.09it/s]\n"
     ]
    },
    {
     "name": "stdout",
     "output_type": "stream",
     "text": [
      "Converting prediction from <class 'numpy.float32'> to uint8, using threshold of 0.5\n",
      "File already analysed! /media/nkd/data18931/ndwi_int8_13001_18931/ndwi_int8_18446.tif\n",
      "/media/nkd/data18931/ndwi_int8_13001_18931/ndwi_int8_18447.tif\n",
      "the size of current NDWI_img 11356 11356\n"
     ]
    },
    {
     "name": "stderr",
     "output_type": "stream",
     "text": [
      "900it [00:59, 15.10it/s]\n"
     ]
    },
    {
     "name": "stdout",
     "output_type": "stream",
     "text": [
      "Converting prediction from <class 'numpy.float32'> to uint8, using threshold of 0.5\n",
      "File already analysed! /media/nkd/data18931/ndwi_int8_13001_18931/ndwi_int8_18447.tif\n",
      "/media/nkd/data18931/ndwi_int8_13001_18931/ndwi_int8_18448.tif\n",
      "the size of current NDWI_img 11356 11356\n"
     ]
    },
    {
     "name": "stderr",
     "output_type": "stream",
     "text": [
      "900it [01:12, 12.35it/s]\n"
     ]
    },
    {
     "name": "stdout",
     "output_type": "stream",
     "text": [
      "Converting prediction from <class 'numpy.float32'> to uint8, using threshold of 0.5\n",
      "File already analysed! /media/nkd/data18931/ndwi_int8_13001_18931/ndwi_int8_18448.tif\n",
      "/media/nkd/data18931/ndwi_int8_13001_18931/ndwi_int8_18449.tif\n",
      "the size of current NDWI_img 11355 11356\n"
     ]
    },
    {
     "name": "stderr",
     "output_type": "stream",
     "text": [
      "900it [01:14, 12.06it/s]\n"
     ]
    },
    {
     "name": "stdout",
     "output_type": "stream",
     "text": [
      "Converting prediction from <class 'numpy.float32'> to uint8, using threshold of 0.5\n",
      "File already analysed! /media/nkd/data18931/ndwi_int8_13001_18931/ndwi_int8_18449.tif\n",
      "/media/nkd/data18931/ndwi_int8_13001_18931/ndwi_int8_18450.tif\n",
      "the size of current NDWI_img 11355 11356\n"
     ]
    },
    {
     "name": "stderr",
     "output_type": "stream",
     "text": [
      "900it [01:08, 13.14it/s]\n"
     ]
    },
    {
     "name": "stdout",
     "output_type": "stream",
     "text": [
      "Converting prediction from <class 'numpy.float32'> to uint8, using threshold of 0.5\n",
      "File already analysed! /media/nkd/data18931/ndwi_int8_13001_18931/ndwi_int8_18450.tif\n",
      "/media/nkd/data18931/ndwi_int8_13001_18931/ndwi_int8_18451.tif\n",
      "the size of current NDWI_img 11355 11356\n"
     ]
    },
    {
     "name": "stderr",
     "output_type": "stream",
     "text": [
      "900it [01:11, 12.58it/s]\n"
     ]
    },
    {
     "name": "stdout",
     "output_type": "stream",
     "text": [
      "Converting prediction from <class 'numpy.float32'> to uint8, using threshold of 0.5\n",
      "File already analysed! /media/nkd/data18931/ndwi_int8_13001_18931/ndwi_int8_18451.tif\n",
      "/media/nkd/data18931/ndwi_int8_13001_18931/ndwi_int8_18452.tif\n",
      "the size of current NDWI_img 11356 11356\n"
     ]
    },
    {
     "name": "stderr",
     "output_type": "stream",
     "text": [
      "900it [00:38, 23.27it/s]\n"
     ]
    },
    {
     "name": "stdout",
     "output_type": "stream",
     "text": [
      "Converting prediction from <class 'numpy.float32'> to uint8, using threshold of 0.5\n",
      "File already analysed! /media/nkd/data18931/ndwi_int8_13001_18931/ndwi_int8_18452.tif\n",
      "/media/nkd/data18931/ndwi_int8_13001_18931/ndwi_int8_18453.tif\n",
      "the size of current NDWI_img 11356 11356\n"
     ]
    },
    {
     "name": "stderr",
     "output_type": "stream",
     "text": [
      "900it [00:50, 17.86it/s]\n"
     ]
    },
    {
     "name": "stdout",
     "output_type": "stream",
     "text": [
      "Converting prediction from <class 'numpy.float32'> to uint8, using threshold of 0.5\n",
      "File already analysed! /media/nkd/data18931/ndwi_int8_13001_18931/ndwi_int8_18453.tif\n",
      "/media/nkd/data18931/ndwi_int8_13001_18931/ndwi_int8_18454.tif\n",
      "the size of current NDWI_img 11356 11356\n"
     ]
    },
    {
     "name": "stderr",
     "output_type": "stream",
     "text": [
      "900it [00:45, 19.73it/s]\n"
     ]
    },
    {
     "name": "stdout",
     "output_type": "stream",
     "text": [
      "Converting prediction from <class 'numpy.float32'> to uint8, using threshold of 0.5\n",
      "File already analysed! /media/nkd/data18931/ndwi_int8_13001_18931/ndwi_int8_18454.tif\n",
      "/media/nkd/data18931/ndwi_int8_13001_18931/ndwi_int8_18455.tif\n",
      "the size of current NDWI_img 11356 11356\n"
     ]
    },
    {
     "name": "stderr",
     "output_type": "stream",
     "text": [
      "900it [01:12, 12.39it/s]\n"
     ]
    },
    {
     "name": "stdout",
     "output_type": "stream",
     "text": [
      "Converting prediction from <class 'numpy.float32'> to uint8, using threshold of 0.5\n",
      "File already analysed! /media/nkd/data18931/ndwi_int8_13001_18931/ndwi_int8_18455.tif\n",
      "/media/nkd/data18931/ndwi_int8_13001_18931/ndwi_int8_18456.tif\n",
      "the size of current NDWI_img 11355 11356\n"
     ]
    },
    {
     "name": "stderr",
     "output_type": "stream",
     "text": [
      "900it [01:11, 12.54it/s]\n"
     ]
    },
    {
     "name": "stdout",
     "output_type": "stream",
     "text": [
      "Converting prediction from <class 'numpy.float32'> to uint8, using threshold of 0.5\n",
      "File already analysed! /media/nkd/data18931/ndwi_int8_13001_18931/ndwi_int8_18456.tif\n",
      "/media/nkd/data18931/ndwi_int8_13001_18931/ndwi_int8_18457.tif\n",
      "the size of current NDWI_img 11355 11356\n"
     ]
    },
    {
     "name": "stderr",
     "output_type": "stream",
     "text": [
      "900it [01:07, 13.32it/s]\n"
     ]
    },
    {
     "name": "stdout",
     "output_type": "stream",
     "text": [
      "Converting prediction from <class 'numpy.float32'> to uint8, using threshold of 0.5\n",
      "File already analysed! /media/nkd/data18931/ndwi_int8_13001_18931/ndwi_int8_18457.tif\n",
      "/media/nkd/data18931/ndwi_int8_13001_18931/ndwi_int8_18458.tif\n",
      "the size of current NDWI_img 11355 11356\n"
     ]
    },
    {
     "name": "stderr",
     "output_type": "stream",
     "text": [
      "900it [01:12, 12.47it/s]\n"
     ]
    },
    {
     "name": "stdout",
     "output_type": "stream",
     "text": [
      "Converting prediction from <class 'numpy.float32'> to uint8, using threshold of 0.5\n",
      "File already analysed! /media/nkd/data18931/ndwi_int8_13001_18931/ndwi_int8_18458.tif\n",
      "/media/nkd/data18931/ndwi_int8_13001_18931/ndwi_int8_18459.tif\n",
      "the size of current NDWI_img 11356 11356\n"
     ]
    },
    {
     "name": "stderr",
     "output_type": "stream",
     "text": [
      "900it [00:45, 19.87it/s]\n"
     ]
    },
    {
     "name": "stdout",
     "output_type": "stream",
     "text": [
      "Converting prediction from <class 'numpy.float32'> to uint8, using threshold of 0.5\n",
      "File already analysed! /media/nkd/data18931/ndwi_int8_13001_18931/ndwi_int8_18459.tif\n",
      "/media/nkd/data18931/ndwi_int8_13001_18931/ndwi_int8_18460.tif\n",
      "the size of current NDWI_img 11356 11356\n"
     ]
    },
    {
     "name": "stderr",
     "output_type": "stream",
     "text": [
      "900it [00:55, 16.22it/s]\n"
     ]
    },
    {
     "name": "stdout",
     "output_type": "stream",
     "text": [
      "Converting prediction from <class 'numpy.float32'> to uint8, using threshold of 0.5\n",
      "File already analysed! /media/nkd/data18931/ndwi_int8_13001_18931/ndwi_int8_18460.tif\n",
      "/media/nkd/data18931/ndwi_int8_13001_18931/ndwi_int8_18461.tif\n",
      "the size of current NDWI_img 11356 11356\n"
     ]
    },
    {
     "name": "stderr",
     "output_type": "stream",
     "text": [
      "900it [00:54, 16.52it/s]\n"
     ]
    },
    {
     "name": "stdout",
     "output_type": "stream",
     "text": [
      "Converting prediction from <class 'numpy.float32'> to uint8, using threshold of 0.5\n",
      "File already analysed! /media/nkd/data18931/ndwi_int8_13001_18931/ndwi_int8_18461.tif\n",
      "/media/nkd/data18931/ndwi_int8_13001_18931/ndwi_int8_18462.tif\n",
      "the size of current NDWI_img 11356 11356\n"
     ]
    },
    {
     "name": "stderr",
     "output_type": "stream",
     "text": [
      "900it [00:56, 15.96it/s]\n"
     ]
    },
    {
     "name": "stdout",
     "output_type": "stream",
     "text": [
      "Converting prediction from <class 'numpy.float32'> to uint8, using threshold of 0.5\n",
      "File already analysed! /media/nkd/data18931/ndwi_int8_13001_18931/ndwi_int8_18462.tif\n",
      "/media/nkd/data18931/ndwi_int8_13001_18931/ndwi_int8_18463.tif\n",
      "the size of current NDWI_img 11355 11356\n"
     ]
    },
    {
     "name": "stderr",
     "output_type": "stream",
     "text": [
      "900it [01:12, 12.35it/s]\n"
     ]
    },
    {
     "name": "stdout",
     "output_type": "stream",
     "text": [
      "Converting prediction from <class 'numpy.float32'> to uint8, using threshold of 0.5\n",
      "File already analysed! /media/nkd/data18931/ndwi_int8_13001_18931/ndwi_int8_18463.tif\n",
      "/media/nkd/data18931/ndwi_int8_13001_18931/ndwi_int8_18464.tif\n",
      "the size of current NDWI_img 11355 11356\n"
     ]
    },
    {
     "name": "stderr",
     "output_type": "stream",
     "text": [
      "900it [01:08, 13.14it/s]\n"
     ]
    },
    {
     "name": "stdout",
     "output_type": "stream",
     "text": [
      "Converting prediction from <class 'numpy.float32'> to uint8, using threshold of 0.5\n",
      "File already analysed! /media/nkd/data18931/ndwi_int8_13001_18931/ndwi_int8_18464.tif\n",
      "/media/nkd/data18931/ndwi_int8_13001_18931/ndwi_int8_18465.tif\n",
      "the size of current NDWI_img 11355 11356\n"
     ]
    },
    {
     "name": "stderr",
     "output_type": "stream",
     "text": [
      "900it [01:08, 13.16it/s]\n"
     ]
    },
    {
     "name": "stdout",
     "output_type": "stream",
     "text": [
      "Converting prediction from <class 'numpy.float32'> to uint8, using threshold of 0.5\n",
      "File already analysed! /media/nkd/data18931/ndwi_int8_13001_18931/ndwi_int8_18465.tif\n",
      "/media/nkd/data18931/ndwi_int8_13001_18931/ndwi_int8_18466.tif\n",
      "the size of current NDWI_img 11356 11356\n"
     ]
    },
    {
     "name": "stderr",
     "output_type": "stream",
     "text": [
      "900it [00:44, 20.28it/s]\n"
     ]
    },
    {
     "name": "stdout",
     "output_type": "stream",
     "text": [
      "Converting prediction from <class 'numpy.float32'> to uint8, using threshold of 0.5\n",
      "File already analysed! /media/nkd/data18931/ndwi_int8_13001_18931/ndwi_int8_18466.tif\n",
      "/media/nkd/data18931/ndwi_int8_13001_18931/ndwi_int8_18467.tif\n",
      "the size of current NDWI_img 11356 11356\n"
     ]
    },
    {
     "name": "stderr",
     "output_type": "stream",
     "text": [
      "900it [00:55, 16.22it/s]\n"
     ]
    },
    {
     "name": "stdout",
     "output_type": "stream",
     "text": [
      "Converting prediction from <class 'numpy.float32'> to uint8, using threshold of 0.5\n",
      "File already analysed! /media/nkd/data18931/ndwi_int8_13001_18931/ndwi_int8_18467.tif\n",
      "/media/nkd/data18931/ndwi_int8_13001_18931/ndwi_int8_18468.tif\n",
      "the size of current NDWI_img 11356 11356\n"
     ]
    },
    {
     "name": "stderr",
     "output_type": "stream",
     "text": [
      "900it [01:03, 14.09it/s]\n"
     ]
    },
    {
     "name": "stdout",
     "output_type": "stream",
     "text": [
      "Converting prediction from <class 'numpy.float32'> to uint8, using threshold of 0.5\n",
      "File already analysed! /media/nkd/data18931/ndwi_int8_13001_18931/ndwi_int8_18468.tif\n",
      "/media/nkd/data18931/ndwi_int8_13001_18931/ndwi_int8_18469.tif\n",
      "the size of current NDWI_img 11356 11356\n"
     ]
    },
    {
     "name": "stderr",
     "output_type": "stream",
     "text": [
      "900it [01:06, 13.45it/s]\n"
     ]
    },
    {
     "name": "stdout",
     "output_type": "stream",
     "text": [
      "Converting prediction from <class 'numpy.float32'> to uint8, using threshold of 0.5\n",
      "File already analysed! /media/nkd/data18931/ndwi_int8_13001_18931/ndwi_int8_18469.tif\n",
      "/media/nkd/data18931/ndwi_int8_13001_18931/ndwi_int8_18470.tif\n",
      "the size of current NDWI_img 11355 11356\n"
     ]
    },
    {
     "name": "stderr",
     "output_type": "stream",
     "text": [
      "900it [01:11, 12.66it/s]\n"
     ]
    },
    {
     "name": "stdout",
     "output_type": "stream",
     "text": [
      "Converting prediction from <class 'numpy.float32'> to uint8, using threshold of 0.5\n",
      "File already analysed! /media/nkd/data18931/ndwi_int8_13001_18931/ndwi_int8_18470.tif\n",
      "/media/nkd/data18931/ndwi_int8_13001_18931/ndwi_int8_18471.tif\n",
      "the size of current NDWI_img 11355 11356\n"
     ]
    },
    {
     "name": "stderr",
     "output_type": "stream",
     "text": [
      "900it [01:13, 12.21it/s]\n"
     ]
    },
    {
     "name": "stdout",
     "output_type": "stream",
     "text": [
      "Converting prediction from <class 'numpy.float32'> to uint8, using threshold of 0.5\n",
      "File already analysed! /media/nkd/data18931/ndwi_int8_13001_18931/ndwi_int8_18471.tif\n",
      "/media/nkd/data18931/ndwi_int8_13001_18931/ndwi_int8_18472.tif\n",
      "the size of current NDWI_img 11355 11356\n"
     ]
    },
    {
     "name": "stderr",
     "output_type": "stream",
     "text": [
      "900it [01:13, 12.22it/s]\n"
     ]
    },
    {
     "name": "stdout",
     "output_type": "stream",
     "text": [
      "Converting prediction from <class 'numpy.float32'> to uint8, using threshold of 0.5\n",
      "File already analysed! /media/nkd/data18931/ndwi_int8_13001_18931/ndwi_int8_18472.tif\n",
      "/media/nkd/data18931/ndwi_int8_13001_18931/ndwi_int8_18473.tif\n",
      "the size of current NDWI_img 11356 11356\n"
     ]
    },
    {
     "name": "stderr",
     "output_type": "stream",
     "text": [
      "900it [00:47, 18.76it/s]\n"
     ]
    },
    {
     "name": "stdout",
     "output_type": "stream",
     "text": [
      "Converting prediction from <class 'numpy.float32'> to uint8, using threshold of 0.5\n",
      "File already analysed! /media/nkd/data18931/ndwi_int8_13001_18931/ndwi_int8_18473.tif\n",
      "/media/nkd/data18931/ndwi_int8_13001_18931/ndwi_int8_18474.tif\n",
      "the size of current NDWI_img 11356 11356\n"
     ]
    },
    {
     "name": "stderr",
     "output_type": "stream",
     "text": [
      "900it [00:53, 16.91it/s]\n"
     ]
    },
    {
     "name": "stdout",
     "output_type": "stream",
     "text": [
      "Converting prediction from <class 'numpy.float32'> to uint8, using threshold of 0.5\n",
      "File already analysed! /media/nkd/data18931/ndwi_int8_13001_18931/ndwi_int8_18474.tif\n",
      "/media/nkd/data18931/ndwi_int8_13001_18931/ndwi_int8_18475.tif\n",
      "the size of current NDWI_img 11356 11356\n"
     ]
    },
    {
     "name": "stderr",
     "output_type": "stream",
     "text": [
      "900it [01:10, 12.79it/s]\n"
     ]
    },
    {
     "name": "stdout",
     "output_type": "stream",
     "text": [
      "Converting prediction from <class 'numpy.float32'> to uint8, using threshold of 0.5\n",
      "File already analysed! /media/nkd/data18931/ndwi_int8_13001_18931/ndwi_int8_18475.tif\n",
      "/media/nkd/data18931/ndwi_int8_13001_18931/ndwi_int8_18476.tif\n",
      "the size of current NDWI_img 11356 11356\n"
     ]
    },
    {
     "name": "stderr",
     "output_type": "stream",
     "text": [
      "900it [01:13, 12.23it/s]\n"
     ]
    },
    {
     "name": "stdout",
     "output_type": "stream",
     "text": [
      "Converting prediction from <class 'numpy.float32'> to uint8, using threshold of 0.5\n",
      "File already analysed! /media/nkd/data18931/ndwi_int8_13001_18931/ndwi_int8_18476.tif\n",
      "/media/nkd/data18931/ndwi_int8_13001_18931/ndwi_int8_18477.tif\n",
      "the size of current NDWI_img 11356 11356\n"
     ]
    },
    {
     "name": "stderr",
     "output_type": "stream",
     "text": [
      "900it [01:11, 12.54it/s]\n"
     ]
    },
    {
     "name": "stdout",
     "output_type": "stream",
     "text": [
      "Converting prediction from <class 'numpy.float32'> to uint8, using threshold of 0.5\n",
      "File already analysed! /media/nkd/data18931/ndwi_int8_13001_18931/ndwi_int8_18477.tif\n",
      "/media/nkd/data18931/ndwi_int8_13001_18931/ndwi_int8_18478.tif\n",
      "the size of current NDWI_img 11355 11356\n"
     ]
    },
    {
     "name": "stderr",
     "output_type": "stream",
     "text": [
      "900it [01:11, 12.67it/s]\n"
     ]
    },
    {
     "name": "stdout",
     "output_type": "stream",
     "text": [
      "Converting prediction from <class 'numpy.float32'> to uint8, using threshold of 0.5\n",
      "File already analysed! /media/nkd/data18931/ndwi_int8_13001_18931/ndwi_int8_18478.tif\n",
      "/media/nkd/data18931/ndwi_int8_13001_18931/ndwi_int8_18479.tif\n",
      "the size of current NDWI_img 11355 11356\n"
     ]
    },
    {
     "name": "stderr",
     "output_type": "stream",
     "text": [
      "900it [01:09, 12.87it/s]\n"
     ]
    },
    {
     "name": "stdout",
     "output_type": "stream",
     "text": [
      "Converting prediction from <class 'numpy.float32'> to uint8, using threshold of 0.5\n",
      "File already analysed! /media/nkd/data18931/ndwi_int8_13001_18931/ndwi_int8_18479.tif\n",
      "/media/nkd/data18931/ndwi_int8_13001_18931/ndwi_int8_18480.tif\n",
      "the size of current NDWI_img 11355 11356\n"
     ]
    },
    {
     "name": "stderr",
     "output_type": "stream",
     "text": [
      "900it [01:10, 12.82it/s]\n"
     ]
    },
    {
     "name": "stdout",
     "output_type": "stream",
     "text": [
      "Converting prediction from <class 'numpy.float32'> to uint8, using threshold of 0.5\n",
      "File already analysed! /media/nkd/data18931/ndwi_int8_13001_18931/ndwi_int8_18480.tif\n",
      "/media/nkd/data18931/ndwi_int8_13001_18931/ndwi_int8_18481.tif\n",
      "the size of current NDWI_img 11356 11356\n"
     ]
    },
    {
     "name": "stderr",
     "output_type": "stream",
     "text": [
      "900it [00:46, 19.29it/s]\n"
     ]
    },
    {
     "name": "stdout",
     "output_type": "stream",
     "text": [
      "Converting prediction from <class 'numpy.float32'> to uint8, using threshold of 0.5\n",
      "File already analysed! /media/nkd/data18931/ndwi_int8_13001_18931/ndwi_int8_18481.tif\n",
      "/media/nkd/data18931/ndwi_int8_13001_18931/ndwi_int8_18482.tif\n",
      "the size of current NDWI_img 11356 11356\n"
     ]
    },
    {
     "name": "stderr",
     "output_type": "stream",
     "text": [
      "900it [01:05, 13.69it/s]\n"
     ]
    },
    {
     "name": "stdout",
     "output_type": "stream",
     "text": [
      "Converting prediction from <class 'numpy.float32'> to uint8, using threshold of 0.5\n",
      "File already analysed! /media/nkd/data18931/ndwi_int8_13001_18931/ndwi_int8_18482.tif\n",
      "/media/nkd/data18931/ndwi_int8_13001_18931/ndwi_int8_18483.tif\n",
      "the size of current NDWI_img 11356 11356\n"
     ]
    },
    {
     "name": "stderr",
     "output_type": "stream",
     "text": [
      "900it [01:09, 12.92it/s]\n"
     ]
    },
    {
     "name": "stdout",
     "output_type": "stream",
     "text": [
      "Converting prediction from <class 'numpy.float32'> to uint8, using threshold of 0.5\n",
      "File already analysed! /media/nkd/data18931/ndwi_int8_13001_18931/ndwi_int8_18483.tif\n",
      "/media/nkd/data18931/ndwi_int8_13001_18931/ndwi_int8_18484.tif\n",
      "the size of current NDWI_img 11356 11356\n"
     ]
    },
    {
     "name": "stderr",
     "output_type": "stream",
     "text": [
      "900it [01:12, 12.47it/s]\n"
     ]
    },
    {
     "name": "stdout",
     "output_type": "stream",
     "text": [
      "Converting prediction from <class 'numpy.float32'> to uint8, using threshold of 0.5\n",
      "File already analysed! /media/nkd/data18931/ndwi_int8_13001_18931/ndwi_int8_18484.tif\n",
      "/media/nkd/data18931/ndwi_int8_13001_18931/ndwi_int8_18485.tif\n",
      "the size of current NDWI_img 11356 11356\n"
     ]
    },
    {
     "name": "stderr",
     "output_type": "stream",
     "text": [
      "900it [01:13, 12.25it/s]\n"
     ]
    },
    {
     "name": "stdout",
     "output_type": "stream",
     "text": [
      "Converting prediction from <class 'numpy.float32'> to uint8, using threshold of 0.5\n",
      "File already analysed! /media/nkd/data18931/ndwi_int8_13001_18931/ndwi_int8_18485.tif\n",
      "/media/nkd/data18931/ndwi_int8_13001_18931/ndwi_int8_18486.tif\n",
      "the size of current NDWI_img 11356 11356\n"
     ]
    },
    {
     "name": "stderr",
     "output_type": "stream",
     "text": [
      "900it [01:14, 12.00it/s]\n"
     ]
    },
    {
     "name": "stdout",
     "output_type": "stream",
     "text": [
      "Converting prediction from <class 'numpy.float32'> to uint8, using threshold of 0.5\n",
      "File already analysed! /media/nkd/data18931/ndwi_int8_13001_18931/ndwi_int8_18486.tif\n",
      "/media/nkd/data18931/ndwi_int8_13001_18931/ndwi_int8_18487.tif\n",
      "the size of current NDWI_img 11355 11356\n"
     ]
    },
    {
     "name": "stderr",
     "output_type": "stream",
     "text": [
      "900it [01:11, 12.62it/s]\n"
     ]
    },
    {
     "name": "stdout",
     "output_type": "stream",
     "text": [
      "Converting prediction from <class 'numpy.float32'> to uint8, using threshold of 0.5\n",
      "File already analysed! /media/nkd/data18931/ndwi_int8_13001_18931/ndwi_int8_18487.tif\n",
      "/media/nkd/data18931/ndwi_int8_13001_18931/ndwi_int8_18488.tif\n",
      "the size of current NDWI_img 11355 11356\n"
     ]
    },
    {
     "name": "stderr",
     "output_type": "stream",
     "text": [
      "900it [01:09, 13.00it/s]\n"
     ]
    },
    {
     "name": "stdout",
     "output_type": "stream",
     "text": [
      "Converting prediction from <class 'numpy.float32'> to uint8, using threshold of 0.5\n",
      "File already analysed! /media/nkd/data18931/ndwi_int8_13001_18931/ndwi_int8_18488.tif\n",
      "/media/nkd/data18931/ndwi_int8_13001_18931/ndwi_int8_18489.tif\n",
      "the size of current NDWI_img 11355 11356\n"
     ]
    },
    {
     "name": "stderr",
     "output_type": "stream",
     "text": [
      "900it [01:10, 12.79it/s]\n"
     ]
    },
    {
     "name": "stdout",
     "output_type": "stream",
     "text": [
      "Converting prediction from <class 'numpy.float32'> to uint8, using threshold of 0.5\n",
      "File already analysed! /media/nkd/data18931/ndwi_int8_13001_18931/ndwi_int8_18489.tif\n",
      "/media/nkd/data18931/ndwi_int8_13001_18931/ndwi_int8_18490.tif\n",
      "the size of current NDWI_img 11356 11356\n"
     ]
    },
    {
     "name": "stderr",
     "output_type": "stream",
     "text": [
      "900it [00:52, 17.26it/s]\n"
     ]
    },
    {
     "name": "stdout",
     "output_type": "stream",
     "text": [
      "Converting prediction from <class 'numpy.float32'> to uint8, using threshold of 0.5\n",
      "File already analysed! /media/nkd/data18931/ndwi_int8_13001_18931/ndwi_int8_18490.tif\n",
      "/media/nkd/data18931/ndwi_int8_13001_18931/ndwi_int8_18491.tif\n",
      "the size of current NDWI_img 11356 11356\n"
     ]
    },
    {
     "name": "stderr",
     "output_type": "stream",
     "text": [
      "900it [01:10, 12.73it/s]\n"
     ]
    },
    {
     "name": "stdout",
     "output_type": "stream",
     "text": [
      "Converting prediction from <class 'numpy.float32'> to uint8, using threshold of 0.5\n",
      "File already analysed! /media/nkd/data18931/ndwi_int8_13001_18931/ndwi_int8_18491.tif\n",
      "/media/nkd/data18931/ndwi_int8_13001_18931/ndwi_int8_18492.tif\n",
      "the size of current NDWI_img 11356 11356\n"
     ]
    },
    {
     "name": "stderr",
     "output_type": "stream",
     "text": [
      "900it [01:08, 13.12it/s]\n"
     ]
    },
    {
     "name": "stdout",
     "output_type": "stream",
     "text": [
      "Converting prediction from <class 'numpy.float32'> to uint8, using threshold of 0.5\n",
      "File already analysed! /media/nkd/data18931/ndwi_int8_13001_18931/ndwi_int8_18492.tif\n",
      "/media/nkd/data18931/ndwi_int8_13001_18931/ndwi_int8_18493.tif\n",
      "the size of current NDWI_img 11356 11356\n"
     ]
    },
    {
     "name": "stderr",
     "output_type": "stream",
     "text": [
      "900it [01:12, 12.44it/s]\n"
     ]
    },
    {
     "name": "stdout",
     "output_type": "stream",
     "text": [
      "Converting prediction from <class 'numpy.float32'> to uint8, using threshold of 0.5\n",
      "File already analysed! /media/nkd/data18931/ndwi_int8_13001_18931/ndwi_int8_18493.tif\n",
      "/media/nkd/data18931/ndwi_int8_13001_18931/ndwi_int8_18494.tif\n",
      "the size of current NDWI_img 11356 11356\n"
     ]
    },
    {
     "name": "stderr",
     "output_type": "stream",
     "text": [
      "900it [01:14, 12.10it/s]\n"
     ]
    },
    {
     "name": "stdout",
     "output_type": "stream",
     "text": [
      "Converting prediction from <class 'numpy.float32'> to uint8, using threshold of 0.5\n",
      "File already analysed! /media/nkd/data18931/ndwi_int8_13001_18931/ndwi_int8_18494.tif\n",
      "/media/nkd/data18931/ndwi_int8_13001_18931/ndwi_int8_18495.tif\n",
      "the size of current NDWI_img 11356 11356\n"
     ]
    },
    {
     "name": "stderr",
     "output_type": "stream",
     "text": [
      "900it [01:14, 12.07it/s]\n"
     ]
    },
    {
     "name": "stdout",
     "output_type": "stream",
     "text": [
      "Converting prediction from <class 'numpy.float32'> to uint8, using threshold of 0.5\n",
      "File already analysed! /media/nkd/data18931/ndwi_int8_13001_18931/ndwi_int8_18495.tif\n",
      "/media/nkd/data18931/ndwi_int8_13001_18931/ndwi_int8_18496.tif\n",
      "the size of current NDWI_img 11355 11356\n"
     ]
    },
    {
     "name": "stderr",
     "output_type": "stream",
     "text": [
      "900it [01:11, 12.57it/s]\n"
     ]
    },
    {
     "name": "stdout",
     "output_type": "stream",
     "text": [
      "Converting prediction from <class 'numpy.float32'> to uint8, using threshold of 0.5\n",
      "File already analysed! /media/nkd/data18931/ndwi_int8_13001_18931/ndwi_int8_18496.tif\n",
      "/media/nkd/data18931/ndwi_int8_13001_18931/ndwi_int8_18497.tif\n",
      "the size of current NDWI_img 11355 11356\n"
     ]
    },
    {
     "name": "stderr",
     "output_type": "stream",
     "text": [
      "900it [01:11, 12.52it/s]\n"
     ]
    },
    {
     "name": "stdout",
     "output_type": "stream",
     "text": [
      "Converting prediction from <class 'numpy.float32'> to uint8, using threshold of 0.5\n",
      "File already analysed! /media/nkd/data18931/ndwi_int8_13001_18931/ndwi_int8_18497.tif\n",
      "/media/nkd/data18931/ndwi_int8_13001_18931/ndwi_int8_18498.tif\n",
      "the size of current NDWI_img 11355 11356\n"
     ]
    },
    {
     "name": "stderr",
     "output_type": "stream",
     "text": [
      "900it [01:13, 12.27it/s]\n"
     ]
    },
    {
     "name": "stdout",
     "output_type": "stream",
     "text": [
      "Converting prediction from <class 'numpy.float32'> to uint8, using threshold of 0.5\n",
      "File already analysed! /media/nkd/data18931/ndwi_int8_13001_18931/ndwi_int8_18498.tif\n",
      "/media/nkd/data18931/ndwi_int8_13001_18931/ndwi_int8_18499.tif\n",
      "the size of current NDWI_img 11356 11356\n"
     ]
    },
    {
     "name": "stderr",
     "output_type": "stream",
     "text": [
      "900it [00:53, 16.74it/s]\n"
     ]
    },
    {
     "name": "stdout",
     "output_type": "stream",
     "text": [
      "Converting prediction from <class 'numpy.float32'> to uint8, using threshold of 0.5\n",
      "File already analysed! /media/nkd/data18931/ndwi_int8_13001_18931/ndwi_int8_18499.tif\n",
      "/media/nkd/data18931/ndwi_int8_13001_18931/ndwi_int8_18500.tif\n",
      "the size of current NDWI_img 11356 11356\n"
     ]
    },
    {
     "name": "stderr",
     "output_type": "stream",
     "text": [
      "900it [01:09, 12.87it/s]\n"
     ]
    },
    {
     "name": "stdout",
     "output_type": "stream",
     "text": [
      "Converting prediction from <class 'numpy.float32'> to uint8, using threshold of 0.5\n",
      "File already analysed! /media/nkd/data18931/ndwi_int8_13001_18931/ndwi_int8_18500.tif\n",
      "/media/nkd/data18931/ndwi_int8_13001_18931/ndwi_int8_18501.tif\n",
      "the size of current NDWI_img 11356 11356\n"
     ]
    },
    {
     "name": "stderr",
     "output_type": "stream",
     "text": [
      "900it [01:01, 14.54it/s]\n"
     ]
    },
    {
     "name": "stdout",
     "output_type": "stream",
     "text": [
      "Converting prediction from <class 'numpy.float32'> to uint8, using threshold of 0.5\n",
      "File already analysed! /media/nkd/data18931/ndwi_int8_13001_18931/ndwi_int8_18501.tif\n",
      "/media/nkd/data18931/ndwi_int8_13001_18931/ndwi_int8_18502.tif\n",
      "the size of current NDWI_img 11356 11356\n"
     ]
    },
    {
     "name": "stderr",
     "output_type": "stream",
     "text": [
      "900it [01:08, 13.18it/s]\n"
     ]
    },
    {
     "name": "stdout",
     "output_type": "stream",
     "text": [
      "Converting prediction from <class 'numpy.float32'> to uint8, using threshold of 0.5\n",
      "File already analysed! /media/nkd/data18931/ndwi_int8_13001_18931/ndwi_int8_18502.tif\n",
      "/media/nkd/data18931/ndwi_int8_13001_18931/ndwi_int8_18503.tif\n",
      "the size of current NDWI_img 11356 11356\n"
     ]
    },
    {
     "name": "stderr",
     "output_type": "stream",
     "text": [
      "900it [01:14, 12.02it/s]\n"
     ]
    },
    {
     "name": "stdout",
     "output_type": "stream",
     "text": [
      "Converting prediction from <class 'numpy.float32'> to uint8, using threshold of 0.5\n",
      "File already analysed! /media/nkd/data18931/ndwi_int8_13001_18931/ndwi_int8_18503.tif\n",
      "/media/nkd/data18931/ndwi_int8_13001_18931/ndwi_int8_18504.tif\n",
      "the size of current NDWI_img 11356 11356\n"
     ]
    },
    {
     "name": "stderr",
     "output_type": "stream",
     "text": [
      "900it [01:16, 11.71it/s]\n"
     ]
    },
    {
     "name": "stdout",
     "output_type": "stream",
     "text": [
      "Converting prediction from <class 'numpy.float32'> to uint8, using threshold of 0.5\n",
      "File already analysed! /media/nkd/data18931/ndwi_int8_13001_18931/ndwi_int8_18504.tif\n",
      "/media/nkd/data18931/ndwi_int8_13001_18931/ndwi_int8_18505.tif\n",
      "the size of current NDWI_img 11355 11356\n"
     ]
    },
    {
     "name": "stderr",
     "output_type": "stream",
     "text": [
      "900it [01:14, 12.08it/s]\n"
     ]
    },
    {
     "name": "stdout",
     "output_type": "stream",
     "text": [
      "Converting prediction from <class 'numpy.float32'> to uint8, using threshold of 0.5\n",
      "File already analysed! /media/nkd/data18931/ndwi_int8_13001_18931/ndwi_int8_18505.tif\n",
      "/media/nkd/data18931/ndwi_int8_13001_18931/ndwi_int8_18506.tif\n",
      "the size of current NDWI_img 11355 11356\n"
     ]
    },
    {
     "name": "stderr",
     "output_type": "stream",
     "text": [
      "900it [01:10, 12.74it/s]\n"
     ]
    },
    {
     "name": "stdout",
     "output_type": "stream",
     "text": [
      "Converting prediction from <class 'numpy.float32'> to uint8, using threshold of 0.5\n",
      "File already analysed! /media/nkd/data18931/ndwi_int8_13001_18931/ndwi_int8_18506.tif\n",
      "/media/nkd/data18931/ndwi_int8_13001_18931/ndwi_int8_18507.tif\n",
      "the size of current NDWI_img 11355 11356\n"
     ]
    },
    {
     "name": "stderr",
     "output_type": "stream",
     "text": [
      "900it [01:14, 12.16it/s]\n"
     ]
    },
    {
     "name": "stdout",
     "output_type": "stream",
     "text": [
      "Converting prediction from <class 'numpy.float32'> to uint8, using threshold of 0.5\n",
      "File already analysed! /media/nkd/data18931/ndwi_int8_13001_18931/ndwi_int8_18507.tif\n",
      "/media/nkd/data18931/ndwi_int8_13001_18931/ndwi_int8_18508.tif\n",
      "the size of current NDWI_img 11356 11355\n"
     ]
    },
    {
     "name": "stderr",
     "output_type": "stream",
     "text": [
      "900it [00:49, 18.24it/s]\n"
     ]
    },
    {
     "name": "stdout",
     "output_type": "stream",
     "text": [
      "Converting prediction from <class 'numpy.float32'> to uint8, using threshold of 0.5\n",
      "File already analysed! /media/nkd/data18931/ndwi_int8_13001_18931/ndwi_int8_18508.tif\n",
      "/media/nkd/data18931/ndwi_int8_13001_18931/ndwi_int8_18509.tif\n",
      "the size of current NDWI_img 11356 11355\n"
     ]
    },
    {
     "name": "stderr",
     "output_type": "stream",
     "text": [
      "900it [01:03, 14.20it/s]\n"
     ]
    },
    {
     "name": "stdout",
     "output_type": "stream",
     "text": [
      "Converting prediction from <class 'numpy.float32'> to uint8, using threshold of 0.5\n",
      "File already analysed! /media/nkd/data18931/ndwi_int8_13001_18931/ndwi_int8_18509.tif\n",
      "/media/nkd/data18931/ndwi_int8_13001_18931/ndwi_int8_18510.tif\n",
      "the size of current NDWI_img 11356 11355\n"
     ]
    },
    {
     "name": "stderr",
     "output_type": "stream",
     "text": [
      "900it [01:07, 13.29it/s]\n"
     ]
    },
    {
     "name": "stdout",
     "output_type": "stream",
     "text": [
      "Converting prediction from <class 'numpy.float32'> to uint8, using threshold of 0.5\n",
      "File already analysed! /media/nkd/data18931/ndwi_int8_13001_18931/ndwi_int8_18510.tif\n",
      "/media/nkd/data18931/ndwi_int8_13001_18931/ndwi_int8_18511.tif\n",
      "the size of current NDWI_img 11356 11355\n"
     ]
    },
    {
     "name": "stderr",
     "output_type": "stream",
     "text": [
      "900it [01:07, 13.35it/s]\n"
     ]
    },
    {
     "name": "stdout",
     "output_type": "stream",
     "text": [
      "Converting prediction from <class 'numpy.float32'> to uint8, using threshold of 0.5\n",
      "File already analysed! /media/nkd/data18931/ndwi_int8_13001_18931/ndwi_int8_18511.tif\n",
      "/media/nkd/data18931/ndwi_int8_13001_18931/ndwi_int8_18512.tif\n",
      "the size of current NDWI_img 11356 11355\n"
     ]
    },
    {
     "name": "stderr",
     "output_type": "stream",
     "text": [
      "900it [01:08, 13.13it/s]\n"
     ]
    },
    {
     "name": "stdout",
     "output_type": "stream",
     "text": [
      "Converting prediction from <class 'numpy.float32'> to uint8, using threshold of 0.5\n",
      "File already analysed! /media/nkd/data18931/ndwi_int8_13001_18931/ndwi_int8_18512.tif\n",
      "/media/nkd/data18931/ndwi_int8_13001_18931/ndwi_int8_18513.tif\n",
      "the size of current NDWI_img 11356 11355\n"
     ]
    },
    {
     "name": "stderr",
     "output_type": "stream",
     "text": [
      "900it [01:14, 12.07it/s]\n"
     ]
    },
    {
     "name": "stdout",
     "output_type": "stream",
     "text": [
      "Converting prediction from <class 'numpy.float32'> to uint8, using threshold of 0.5\n",
      "File already analysed! /media/nkd/data18931/ndwi_int8_13001_18931/ndwi_int8_18513.tif\n",
      "/media/nkd/data18931/ndwi_int8_13001_18931/ndwi_int8_18514.tif\n",
      "the size of current NDWI_img 11356 11355\n"
     ]
    },
    {
     "name": "stderr",
     "output_type": "stream",
     "text": [
      "900it [01:14, 12.14it/s]\n"
     ]
    },
    {
     "name": "stdout",
     "output_type": "stream",
     "text": [
      "Converting prediction from <class 'numpy.float32'> to uint8, using threshold of 0.5\n",
      "File already analysed! /media/nkd/data18931/ndwi_int8_13001_18931/ndwi_int8_18514.tif\n",
      "/media/nkd/data18931/ndwi_int8_13001_18931/ndwi_int8_18515.tif\n",
      "the size of current NDWI_img 11355 11355\n"
     ]
    },
    {
     "name": "stderr",
     "output_type": "stream",
     "text": [
      "900it [01:12, 12.36it/s]\n"
     ]
    },
    {
     "name": "stdout",
     "output_type": "stream",
     "text": [
      "Converting prediction from <class 'numpy.float32'> to uint8, using threshold of 0.5\n",
      "File already analysed! /media/nkd/data18931/ndwi_int8_13001_18931/ndwi_int8_18515.tif\n",
      "/media/nkd/data18931/ndwi_int8_13001_18931/ndwi_int8_18516.tif\n",
      "the size of current NDWI_img 11355 11355\n"
     ]
    },
    {
     "name": "stderr",
     "output_type": "stream",
     "text": [
      "900it [01:13, 12.29it/s]\n"
     ]
    },
    {
     "name": "stdout",
     "output_type": "stream",
     "text": [
      "Converting prediction from <class 'numpy.float32'> to uint8, using threshold of 0.5\n",
      "File already analysed! /media/nkd/data18931/ndwi_int8_13001_18931/ndwi_int8_18516.tif\n",
      "/media/nkd/data18931/ndwi_int8_13001_18931/ndwi_int8_18517.tif\n",
      "the size of current NDWI_img 11355 11355\n"
     ]
    },
    {
     "name": "stderr",
     "output_type": "stream",
     "text": [
      "900it [01:12, 12.35it/s]\n"
     ]
    },
    {
     "name": "stdout",
     "output_type": "stream",
     "text": [
      "Converting prediction from <class 'numpy.float32'> to uint8, using threshold of 0.5\n",
      "File already analysed! /media/nkd/data18931/ndwi_int8_13001_18931/ndwi_int8_18517.tif\n",
      "/media/nkd/data18931/ndwi_int8_13001_18931/ndwi_int8_18518.tif\n",
      "the size of current NDWI_img 11356 11355\n"
     ]
    },
    {
     "name": "stderr",
     "output_type": "stream",
     "text": [
      "900it [00:43, 20.80it/s]\n"
     ]
    },
    {
     "name": "stdout",
     "output_type": "stream",
     "text": [
      "Converting prediction from <class 'numpy.float32'> to uint8, using threshold of 0.5\n",
      "File already analysed! /media/nkd/data18931/ndwi_int8_13001_18931/ndwi_int8_18518.tif\n",
      "/media/nkd/data18931/ndwi_int8_13001_18931/ndwi_int8_18519.tif\n",
      "the size of current NDWI_img 11356 11355\n"
     ]
    },
    {
     "name": "stderr",
     "output_type": "stream",
     "text": [
      "900it [00:52, 17.27it/s]\n"
     ]
    },
    {
     "name": "stdout",
     "output_type": "stream",
     "text": [
      "Converting prediction from <class 'numpy.float32'> to uint8, using threshold of 0.5\n",
      "File already analysed! /media/nkd/data18931/ndwi_int8_13001_18931/ndwi_int8_18519.tif\n",
      "/media/nkd/data18931/ndwi_int8_13001_18931/ndwi_int8_18520.tif\n",
      "the size of current NDWI_img 11356 11355\n"
     ]
    },
    {
     "name": "stderr",
     "output_type": "stream",
     "text": [
      "900it [01:13, 12.27it/s]\n"
     ]
    },
    {
     "name": "stdout",
     "output_type": "stream",
     "text": [
      "Converting prediction from <class 'numpy.float32'> to uint8, using threshold of 0.5\n",
      "File already analysed! /media/nkd/data18931/ndwi_int8_13001_18931/ndwi_int8_18520.tif\n",
      "/media/nkd/data18931/ndwi_int8_13001_18931/ndwi_int8_18521.tif\n",
      "the size of current NDWI_img 11356 11355\n"
     ]
    },
    {
     "name": "stderr",
     "output_type": "stream",
     "text": [
      "900it [01:10, 12.76it/s]\n"
     ]
    },
    {
     "name": "stdout",
     "output_type": "stream",
     "text": [
      "Converting prediction from <class 'numpy.float32'> to uint8, using threshold of 0.5\n",
      "File already analysed! /media/nkd/data18931/ndwi_int8_13001_18931/ndwi_int8_18521.tif\n",
      "/media/nkd/data18931/ndwi_int8_13001_18931/ndwi_int8_18522.tif\n",
      "the size of current NDWI_img 11356 11355\n"
     ]
    },
    {
     "name": "stderr",
     "output_type": "stream",
     "text": [
      "900it [01:14, 12.14it/s]\n"
     ]
    },
    {
     "name": "stdout",
     "output_type": "stream",
     "text": [
      "Converting prediction from <class 'numpy.float32'> to uint8, using threshold of 0.5\n",
      "File already analysed! /media/nkd/data18931/ndwi_int8_13001_18931/ndwi_int8_18522.tif\n",
      "/media/nkd/data18931/ndwi_int8_13001_18931/ndwi_int8_18523.tif\n",
      "the size of current NDWI_img 11356 11355\n"
     ]
    },
    {
     "name": "stderr",
     "output_type": "stream",
     "text": [
      "900it [01:13, 12.20it/s]\n"
     ]
    },
    {
     "name": "stdout",
     "output_type": "stream",
     "text": [
      "Converting prediction from <class 'numpy.float32'> to uint8, using threshold of 0.5\n",
      "File already analysed! /media/nkd/data18931/ndwi_int8_13001_18931/ndwi_int8_18523.tif\n",
      "/media/nkd/data18931/ndwi_int8_13001_18931/ndwi_int8_18524.tif\n",
      "the size of current NDWI_img 11356 11355\n"
     ]
    },
    {
     "name": "stderr",
     "output_type": "stream",
     "text": [
      "900it [01:13, 12.30it/s]\n"
     ]
    },
    {
     "name": "stdout",
     "output_type": "stream",
     "text": [
      "Converting prediction from <class 'numpy.float32'> to uint8, using threshold of 0.5\n",
      "File already analysed! /media/nkd/data18931/ndwi_int8_13001_18931/ndwi_int8_18524.tif\n",
      "/media/nkd/data18931/ndwi_int8_13001_18931/ndwi_int8_18525.tif\n",
      "the size of current NDWI_img 11355 11355\n"
     ]
    },
    {
     "name": "stderr",
     "output_type": "stream",
     "text": [
      "900it [01:13, 12.23it/s]\n"
     ]
    },
    {
     "name": "stdout",
     "output_type": "stream",
     "text": [
      "Converting prediction from <class 'numpy.float32'> to uint8, using threshold of 0.5\n",
      "File already analysed! /media/nkd/data18931/ndwi_int8_13001_18931/ndwi_int8_18525.tif\n",
      "/media/nkd/data18931/ndwi_int8_13001_18931/ndwi_int8_18526.tif\n",
      "the size of current NDWI_img 11355 11355\n"
     ]
    },
    {
     "name": "stderr",
     "output_type": "stream",
     "text": [
      "900it [01:14, 12.13it/s]\n"
     ]
    },
    {
     "name": "stdout",
     "output_type": "stream",
     "text": [
      "Converting prediction from <class 'numpy.float32'> to uint8, using threshold of 0.5\n",
      "File already analysed! /media/nkd/data18931/ndwi_int8_13001_18931/ndwi_int8_18526.tif\n",
      "/media/nkd/data18931/ndwi_int8_13001_18931/ndwi_int8_18527.tif\n",
      "the size of current NDWI_img 11355 11355\n"
     ]
    },
    {
     "name": "stderr",
     "output_type": "stream",
     "text": [
      "900it [01:14, 12.14it/s]\n"
     ]
    },
    {
     "name": "stdout",
     "output_type": "stream",
     "text": [
      "Converting prediction from <class 'numpy.float32'> to uint8, using threshold of 0.5\n",
      "File already analysed! /media/nkd/data18931/ndwi_int8_13001_18931/ndwi_int8_18527.tif\n",
      "/media/nkd/data18931/ndwi_int8_13001_18931/ndwi_int8_18528.tif\n",
      "the size of current NDWI_img 11356 11355\n"
     ]
    },
    {
     "name": "stderr",
     "output_type": "stream",
     "text": [
      "900it [00:43, 20.66it/s]\n"
     ]
    },
    {
     "name": "stdout",
     "output_type": "stream",
     "text": [
      "Converting prediction from <class 'numpy.float32'> to uint8, using threshold of 0.5\n",
      "File already analysed! /media/nkd/data18931/ndwi_int8_13001_18931/ndwi_int8_18528.tif\n",
      "/media/nkd/data18931/ndwi_int8_13001_18931/ndwi_int8_18529.tif\n",
      "the size of current NDWI_img 11356 11355\n"
     ]
    },
    {
     "name": "stderr",
     "output_type": "stream",
     "text": [
      "900it [01:00, 14.95it/s]\n"
     ]
    },
    {
     "name": "stdout",
     "output_type": "stream",
     "text": [
      "Converting prediction from <class 'numpy.float32'> to uint8, using threshold of 0.5\n",
      "File already analysed! /media/nkd/data18931/ndwi_int8_13001_18931/ndwi_int8_18529.tif\n",
      "/media/nkd/data18931/ndwi_int8_13001_18931/ndwi_int8_18530.tif\n",
      "the size of current NDWI_img 11356 11355\n"
     ]
    },
    {
     "name": "stderr",
     "output_type": "stream",
     "text": [
      "900it [01:12, 12.33it/s]\n"
     ]
    },
    {
     "name": "stdout",
     "output_type": "stream",
     "text": [
      "Converting prediction from <class 'numpy.float32'> to uint8, using threshold of 0.5\n",
      "File already analysed! /media/nkd/data18931/ndwi_int8_13001_18931/ndwi_int8_18530.tif\n",
      "/media/nkd/data18931/ndwi_int8_13001_18931/ndwi_int8_18531.tif\n",
      "the size of current NDWI_img 11356 11355\n"
     ]
    },
    {
     "name": "stderr",
     "output_type": "stream",
     "text": [
      "900it [01:14, 12.15it/s]\n"
     ]
    },
    {
     "name": "stdout",
     "output_type": "stream",
     "text": [
      "Converting prediction from <class 'numpy.float32'> to uint8, using threshold of 0.5\n",
      "File already analysed! /media/nkd/data18931/ndwi_int8_13001_18931/ndwi_int8_18531.tif\n",
      "/media/nkd/data18931/ndwi_int8_13001_18931/ndwi_int8_18532.tif\n",
      "the size of current NDWI_img 11356 11355\n"
     ]
    },
    {
     "name": "stderr",
     "output_type": "stream",
     "text": [
      "900it [01:10, 12.81it/s]\n"
     ]
    },
    {
     "name": "stdout",
     "output_type": "stream",
     "text": [
      "Converting prediction from <class 'numpy.float32'> to uint8, using threshold of 0.5\n",
      "File already analysed! /media/nkd/data18931/ndwi_int8_13001_18931/ndwi_int8_18532.tif\n",
      "/media/nkd/data18931/ndwi_int8_13001_18931/ndwi_int8_18533.tif\n",
      "the size of current NDWI_img 11356 11355\n"
     ]
    },
    {
     "name": "stderr",
     "output_type": "stream",
     "text": [
      "900it [01:10, 12.71it/s]\n"
     ]
    },
    {
     "name": "stdout",
     "output_type": "stream",
     "text": [
      "Converting prediction from <class 'numpy.float32'> to uint8, using threshold of 0.5\n",
      "File already analysed! /media/nkd/data18931/ndwi_int8_13001_18931/ndwi_int8_18533.tif\n",
      "/media/nkd/data18931/ndwi_int8_13001_18931/ndwi_int8_18534.tif\n",
      "the size of current NDWI_img 11356 11355\n"
     ]
    },
    {
     "name": "stderr",
     "output_type": "stream",
     "text": [
      "900it [01:09, 13.02it/s]\n"
     ]
    },
    {
     "name": "stdout",
     "output_type": "stream",
     "text": [
      "Converting prediction from <class 'numpy.float32'> to uint8, using threshold of 0.5\n",
      "File already analysed! /media/nkd/data18931/ndwi_int8_13001_18931/ndwi_int8_18534.tif\n",
      "/media/nkd/data18931/ndwi_int8_13001_18931/ndwi_int8_18535.tif\n",
      "the size of current NDWI_img 11355 11355\n"
     ]
    },
    {
     "name": "stderr",
     "output_type": "stream",
     "text": [
      "900it [01:10, 12.69it/s]\n"
     ]
    },
    {
     "name": "stdout",
     "output_type": "stream",
     "text": [
      "Converting prediction from <class 'numpy.float32'> to uint8, using threshold of 0.5\n",
      "File already analysed! /media/nkd/data18931/ndwi_int8_13001_18931/ndwi_int8_18535.tif\n",
      "/media/nkd/data18931/ndwi_int8_13001_18931/ndwi_int8_18536.tif\n",
      "the size of current NDWI_img 11355 11355\n"
     ]
    },
    {
     "name": "stderr",
     "output_type": "stream",
     "text": [
      "900it [01:13, 12.16it/s]\n"
     ]
    },
    {
     "name": "stdout",
     "output_type": "stream",
     "text": [
      "Converting prediction from <class 'numpy.float32'> to uint8, using threshold of 0.5\n",
      "File already analysed! /media/nkd/data18931/ndwi_int8_13001_18931/ndwi_int8_18536.tif\n",
      "/media/nkd/data18931/ndwi_int8_13001_18931/ndwi_int8_18537.tif\n",
      "the size of current NDWI_img 11355 11355\n"
     ]
    },
    {
     "name": "stderr",
     "output_type": "stream",
     "text": [
      "900it [01:13, 12.23it/s]\n"
     ]
    },
    {
     "name": "stdout",
     "output_type": "stream",
     "text": [
      "Converting prediction from <class 'numpy.float32'> to uint8, using threshold of 0.5\n",
      "File already analysed! /media/nkd/data18931/ndwi_int8_13001_18931/ndwi_int8_18537.tif\n",
      "/media/nkd/data18931/ndwi_int8_13001_18931/ndwi_int8_18538.tif\n",
      "the size of current NDWI_img 11356 11355\n"
     ]
    },
    {
     "name": "stderr",
     "output_type": "stream",
     "text": [
      "900it [00:46, 19.20it/s]\n"
     ]
    },
    {
     "name": "stdout",
     "output_type": "stream",
     "text": [
      "Converting prediction from <class 'numpy.float32'> to uint8, using threshold of 0.5\n",
      "File already analysed! /media/nkd/data18931/ndwi_int8_13001_18931/ndwi_int8_18538.tif\n",
      "/media/nkd/data18931/ndwi_int8_13001_18931/ndwi_int8_18539.tif\n",
      "the size of current NDWI_img 11356 11355\n"
     ]
    },
    {
     "name": "stderr",
     "output_type": "stream",
     "text": [
      "900it [01:08, 13.18it/s]\n"
     ]
    },
    {
     "name": "stdout",
     "output_type": "stream",
     "text": [
      "Converting prediction from <class 'numpy.float32'> to uint8, using threshold of 0.5\n",
      "File already analysed! /media/nkd/data18931/ndwi_int8_13001_18931/ndwi_int8_18539.tif\n",
      "/media/nkd/data18931/ndwi_int8_13001_18931/ndwi_int8_18540.tif\n",
      "the size of current NDWI_img 11356 11355\n"
     ]
    },
    {
     "name": "stderr",
     "output_type": "stream",
     "text": [
      "900it [01:07, 13.40it/s]\n"
     ]
    },
    {
     "name": "stdout",
     "output_type": "stream",
     "text": [
      "Converting prediction from <class 'numpy.float32'> to uint8, using threshold of 0.5\n",
      "File already analysed! /media/nkd/data18931/ndwi_int8_13001_18931/ndwi_int8_18540.tif\n",
      "/media/nkd/data18931/ndwi_int8_13001_18931/ndwi_int8_18541.tif\n",
      "the size of current NDWI_img 11356 11355\n"
     ]
    },
    {
     "name": "stderr",
     "output_type": "stream",
     "text": [
      "900it [01:10, 12.84it/s]\n"
     ]
    },
    {
     "name": "stdout",
     "output_type": "stream",
     "text": [
      "Converting prediction from <class 'numpy.float32'> to uint8, using threshold of 0.5\n",
      "File already analysed! /media/nkd/data18931/ndwi_int8_13001_18931/ndwi_int8_18541.tif\n",
      "/media/nkd/data18931/ndwi_int8_13001_18931/ndwi_int8_18542.tif\n",
      "the size of current NDWI_img 11356 11355\n"
     ]
    },
    {
     "name": "stderr",
     "output_type": "stream",
     "text": [
      "900it [01:06, 13.61it/s]\n"
     ]
    },
    {
     "name": "stdout",
     "output_type": "stream",
     "text": [
      "Converting prediction from <class 'numpy.float32'> to uint8, using threshold of 0.5\n",
      "File already analysed! /media/nkd/data18931/ndwi_int8_13001_18931/ndwi_int8_18542.tif\n",
      "/media/nkd/data18931/ndwi_int8_13001_18931/ndwi_int8_18543.tif\n",
      "the size of current NDWI_img 11356 11355\n"
     ]
    },
    {
     "name": "stderr",
     "output_type": "stream",
     "text": [
      "900it [01:05, 13.74it/s]\n"
     ]
    },
    {
     "name": "stdout",
     "output_type": "stream",
     "text": [
      "Converting prediction from <class 'numpy.float32'> to uint8, using threshold of 0.5\n",
      "File already analysed! /media/nkd/data18931/ndwi_int8_13001_18931/ndwi_int8_18543.tif\n",
      "/media/nkd/data18931/ndwi_int8_13001_18931/ndwi_int8_18544.tif\n",
      "the size of current NDWI_img 11356 11355\n"
     ]
    },
    {
     "name": "stderr",
     "output_type": "stream",
     "text": [
      "900it [01:05, 13.74it/s]\n"
     ]
    },
    {
     "name": "stdout",
     "output_type": "stream",
     "text": [
      "Converting prediction from <class 'numpy.float32'> to uint8, using threshold of 0.5\n",
      "File already analysed! /media/nkd/data18931/ndwi_int8_13001_18931/ndwi_int8_18544.tif\n",
      "/media/nkd/data18931/ndwi_int8_13001_18931/ndwi_int8_18545.tif\n",
      "the size of current NDWI_img 11355 11355\n"
     ]
    },
    {
     "name": "stderr",
     "output_type": "stream",
     "text": [
      "900it [01:10, 12.76it/s]\n"
     ]
    },
    {
     "name": "stdout",
     "output_type": "stream",
     "text": [
      "Converting prediction from <class 'numpy.float32'> to uint8, using threshold of 0.5\n",
      "File already analysed! /media/nkd/data18931/ndwi_int8_13001_18931/ndwi_int8_18545.tif\n",
      "/media/nkd/data18931/ndwi_int8_13001_18931/ndwi_int8_18546.tif\n",
      "the size of current NDWI_img 11355 11355\n"
     ]
    },
    {
     "name": "stderr",
     "output_type": "stream",
     "text": [
      "900it [01:13, 12.22it/s]\n"
     ]
    },
    {
     "name": "stdout",
     "output_type": "stream",
     "text": [
      "Converting prediction from <class 'numpy.float32'> to uint8, using threshold of 0.5\n",
      "File already analysed! /media/nkd/data18931/ndwi_int8_13001_18931/ndwi_int8_18546.tif\n",
      "/media/nkd/data18931/ndwi_int8_13001_18931/ndwi_int8_18547.tif\n",
      "the size of current NDWI_img 11355 11355\n"
     ]
    },
    {
     "name": "stderr",
     "output_type": "stream",
     "text": [
      "900it [01:15, 11.98it/s]\n"
     ]
    },
    {
     "name": "stdout",
     "output_type": "stream",
     "text": [
      "Converting prediction from <class 'numpy.float32'> to uint8, using threshold of 0.5\n",
      "File already analysed! /media/nkd/data18931/ndwi_int8_13001_18931/ndwi_int8_18547.tif\n",
      "/media/nkd/data18931/ndwi_int8_13001_18931/ndwi_int8_18548.tif\n",
      "the size of current NDWI_img 11356 11355\n"
     ]
    },
    {
     "name": "stderr",
     "output_type": "stream",
     "text": [
      "900it [00:43, 20.62it/s]\n"
     ]
    },
    {
     "name": "stdout",
     "output_type": "stream",
     "text": [
      "Converting prediction from <class 'numpy.float32'> to uint8, using threshold of 0.5\n",
      "File already analysed! /media/nkd/data18931/ndwi_int8_13001_18931/ndwi_int8_18548.tif\n",
      "/media/nkd/data18931/ndwi_int8_13001_18931/ndwi_int8_18549.tif\n",
      "the size of current NDWI_img 11356 11355\n"
     ]
    },
    {
     "name": "stderr",
     "output_type": "stream",
     "text": [
      "900it [00:47, 18.96it/s]\n"
     ]
    },
    {
     "name": "stdout",
     "output_type": "stream",
     "text": [
      "Converting prediction from <class 'numpy.float32'> to uint8, using threshold of 0.5\n",
      "File already analysed! /media/nkd/data18931/ndwi_int8_13001_18931/ndwi_int8_18549.tif\n",
      "/media/nkd/data18931/ndwi_int8_13001_18931/ndwi_int8_18550.tif\n",
      "the size of current NDWI_img 11356 11355\n"
     ]
    },
    {
     "name": "stderr",
     "output_type": "stream",
     "text": [
      "900it [01:07, 13.26it/s]\n"
     ]
    },
    {
     "name": "stdout",
     "output_type": "stream",
     "text": [
      "Converting prediction from <class 'numpy.float32'> to uint8, using threshold of 0.5\n",
      "File already analysed! /media/nkd/data18931/ndwi_int8_13001_18931/ndwi_int8_18550.tif\n",
      "/media/nkd/data18931/ndwi_int8_13001_18931/ndwi_int8_18551.tif\n",
      "the size of current NDWI_img 11356 11355\n"
     ]
    },
    {
     "name": "stderr",
     "output_type": "stream",
     "text": [
      "900it [01:06, 13.48it/s]\n"
     ]
    },
    {
     "name": "stdout",
     "output_type": "stream",
     "text": [
      "Converting prediction from <class 'numpy.float32'> to uint8, using threshold of 0.5\n",
      "File already analysed! /media/nkd/data18931/ndwi_int8_13001_18931/ndwi_int8_18551.tif\n",
      "/media/nkd/data18931/ndwi_int8_13001_18931/ndwi_int8_18552.tif\n",
      "the size of current NDWI_img 11356 11355\n"
     ]
    },
    {
     "name": "stderr",
     "output_type": "stream",
     "text": [
      "900it [01:11, 12.59it/s]\n"
     ]
    },
    {
     "name": "stdout",
     "output_type": "stream",
     "text": [
      "Converting prediction from <class 'numpy.float32'> to uint8, using threshold of 0.5\n",
      "File already analysed! /media/nkd/data18931/ndwi_int8_13001_18931/ndwi_int8_18552.tif\n",
      "/media/nkd/data18931/ndwi_int8_13001_18931/ndwi_int8_18553.tif\n",
      "the size of current NDWI_img 11356 11355\n"
     ]
    },
    {
     "name": "stderr",
     "output_type": "stream",
     "text": [
      "900it [01:04, 13.92it/s]\n"
     ]
    },
    {
     "name": "stdout",
     "output_type": "stream",
     "text": [
      "Converting prediction from <class 'numpy.float32'> to uint8, using threshold of 0.5\n",
      "File already analysed! /media/nkd/data18931/ndwi_int8_13001_18931/ndwi_int8_18553.tif\n",
      "/media/nkd/data18931/ndwi_int8_13001_18931/ndwi_int8_18554.tif\n",
      "the size of current NDWI_img 11356 11355\n"
     ]
    },
    {
     "name": "stderr",
     "output_type": "stream",
     "text": [
      "900it [01:07, 13.29it/s]\n"
     ]
    },
    {
     "name": "stdout",
     "output_type": "stream",
     "text": [
      "Converting prediction from <class 'numpy.float32'> to uint8, using threshold of 0.5\n",
      "File already analysed! /media/nkd/data18931/ndwi_int8_13001_18931/ndwi_int8_18554.tif\n",
      "/media/nkd/data18931/ndwi_int8_13001_18931/ndwi_int8_18555.tif\n",
      "the size of current NDWI_img 11355 11355\n"
     ]
    },
    {
     "name": "stderr",
     "output_type": "stream",
     "text": [
      "900it [01:09, 12.88it/s]\n"
     ]
    },
    {
     "name": "stdout",
     "output_type": "stream",
     "text": [
      "Converting prediction from <class 'numpy.float32'> to uint8, using threshold of 0.5\n",
      "File already analysed! /media/nkd/data18931/ndwi_int8_13001_18931/ndwi_int8_18555.tif\n",
      "/media/nkd/data18931/ndwi_int8_13001_18931/ndwi_int8_18556.tif\n",
      "the size of current NDWI_img 11355 11355\n"
     ]
    },
    {
     "name": "stderr",
     "output_type": "stream",
     "text": [
      "900it [01:13, 12.31it/s]\n"
     ]
    },
    {
     "name": "stdout",
     "output_type": "stream",
     "text": [
      "Converting prediction from <class 'numpy.float32'> to uint8, using threshold of 0.5\n",
      "File already analysed! /media/nkd/data18931/ndwi_int8_13001_18931/ndwi_int8_18556.tif\n",
      "/media/nkd/data18931/ndwi_int8_13001_18931/ndwi_int8_18557.tif\n",
      "the size of current NDWI_img 11355 11355\n"
     ]
    },
    {
     "name": "stderr",
     "output_type": "stream",
     "text": [
      "900it [01:15, 11.85it/s]\n"
     ]
    },
    {
     "name": "stdout",
     "output_type": "stream",
     "text": [
      "Converting prediction from <class 'numpy.float32'> to uint8, using threshold of 0.5\n",
      "File already analysed! /media/nkd/data18931/ndwi_int8_13001_18931/ndwi_int8_18557.tif\n",
      "/media/nkd/data18931/ndwi_int8_13001_18931/ndwi_int8_18558.tif\n",
      "the size of current NDWI_img 11356 11355\n"
     ]
    },
    {
     "name": "stderr",
     "output_type": "stream",
     "text": [
      "900it [00:48, 18.74it/s]\n"
     ]
    },
    {
     "name": "stdout",
     "output_type": "stream",
     "text": [
      "Converting prediction from <class 'numpy.float32'> to uint8, using threshold of 0.5\n",
      "File already analysed! /media/nkd/data18931/ndwi_int8_13001_18931/ndwi_int8_18558.tif\n",
      "/media/nkd/data18931/ndwi_int8_13001_18931/ndwi_int8_18559.tif\n",
      "the size of current NDWI_img 11356 11355\n"
     ]
    },
    {
     "name": "stderr",
     "output_type": "stream",
     "text": [
      "900it [00:49, 18.23it/s]\n"
     ]
    },
    {
     "name": "stdout",
     "output_type": "stream",
     "text": [
      "Converting prediction from <class 'numpy.float32'> to uint8, using threshold of 0.5\n",
      "File already analysed! /media/nkd/data18931/ndwi_int8_13001_18931/ndwi_int8_18559.tif\n",
      "/media/nkd/data18931/ndwi_int8_13001_18931/ndwi_int8_18560.tif\n",
      "the size of current NDWI_img 11356 11355\n"
     ]
    },
    {
     "name": "stderr",
     "output_type": "stream",
     "text": [
      "900it [01:02, 14.49it/s]\n"
     ]
    },
    {
     "name": "stdout",
     "output_type": "stream",
     "text": [
      "Converting prediction from <class 'numpy.float32'> to uint8, using threshold of 0.5\n",
      "File already analysed! /media/nkd/data18931/ndwi_int8_13001_18931/ndwi_int8_18560.tif\n",
      "/media/nkd/data18931/ndwi_int8_13001_18931/ndwi_int8_18561.tif\n",
      "the size of current NDWI_img 11356 11355\n"
     ]
    },
    {
     "name": "stderr",
     "output_type": "stream",
     "text": [
      "900it [01:11, 12.53it/s]\n"
     ]
    },
    {
     "name": "stdout",
     "output_type": "stream",
     "text": [
      "Converting prediction from <class 'numpy.float32'> to uint8, using threshold of 0.5\n",
      "File already analysed! /media/nkd/data18931/ndwi_int8_13001_18931/ndwi_int8_18561.tif\n",
      "/media/nkd/data18931/ndwi_int8_13001_18931/ndwi_int8_18562.tif\n",
      "the size of current NDWI_img 11356 11355\n"
     ]
    },
    {
     "name": "stderr",
     "output_type": "stream",
     "text": [
      "900it [01:10, 12.75it/s]\n"
     ]
    },
    {
     "name": "stdout",
     "output_type": "stream",
     "text": [
      "Converting prediction from <class 'numpy.float32'> to uint8, using threshold of 0.5\n",
      "File already analysed! /media/nkd/data18931/ndwi_int8_13001_18931/ndwi_int8_18562.tif\n",
      "/media/nkd/data18931/ndwi_int8_13001_18931/ndwi_int8_18563.tif\n",
      "the size of current NDWI_img 11356 11355\n"
     ]
    },
    {
     "name": "stderr",
     "output_type": "stream",
     "text": [
      "900it [01:11, 12.54it/s]\n"
     ]
    },
    {
     "name": "stdout",
     "output_type": "stream",
     "text": [
      "Converting prediction from <class 'numpy.float32'> to uint8, using threshold of 0.5\n",
      "File already analysed! /media/nkd/data18931/ndwi_int8_13001_18931/ndwi_int8_18563.tif\n",
      "/media/nkd/data18931/ndwi_int8_13001_18931/ndwi_int8_18564.tif\n",
      "the size of current NDWI_img 11356 11355\n"
     ]
    },
    {
     "name": "stderr",
     "output_type": "stream",
     "text": [
      "900it [01:12, 12.37it/s]\n"
     ]
    },
    {
     "name": "stdout",
     "output_type": "stream",
     "text": [
      "Converting prediction from <class 'numpy.float32'> to uint8, using threshold of 0.5\n",
      "File already analysed! /media/nkd/data18931/ndwi_int8_13001_18931/ndwi_int8_18564.tif\n",
      "/media/nkd/data18931/ndwi_int8_13001_18931/ndwi_int8_18565.tif\n",
      "the size of current NDWI_img 11355 11355\n"
     ]
    },
    {
     "name": "stderr",
     "output_type": "stream",
     "text": [
      "900it [01:10, 12.75it/s]\n"
     ]
    },
    {
     "name": "stdout",
     "output_type": "stream",
     "text": [
      "Converting prediction from <class 'numpy.float32'> to uint8, using threshold of 0.5\n",
      "File already analysed! /media/nkd/data18931/ndwi_int8_13001_18931/ndwi_int8_18565.tif\n",
      "/media/nkd/data18931/ndwi_int8_13001_18931/ndwi_int8_18566.tif\n",
      "the size of current NDWI_img 11355 11355\n"
     ]
    },
    {
     "name": "stderr",
     "output_type": "stream",
     "text": [
      "900it [01:12, 12.39it/s]\n"
     ]
    },
    {
     "name": "stdout",
     "output_type": "stream",
     "text": [
      "Converting prediction from <class 'numpy.float32'> to uint8, using threshold of 0.5\n",
      "File already analysed! /media/nkd/data18931/ndwi_int8_13001_18931/ndwi_int8_18566.tif\n",
      "/media/nkd/data18931/ndwi_int8_13001_18931/ndwi_int8_18567.tif\n",
      "the size of current NDWI_img 11355 11355\n"
     ]
    },
    {
     "name": "stderr",
     "output_type": "stream",
     "text": [
      "900it [01:06, 13.55it/s]\n"
     ]
    },
    {
     "name": "stdout",
     "output_type": "stream",
     "text": [
      "Converting prediction from <class 'numpy.float32'> to uint8, using threshold of 0.5\n",
      "File already analysed! /media/nkd/data18931/ndwi_int8_13001_18931/ndwi_int8_18567.tif\n",
      "/media/nkd/data18931/ndwi_int8_13001_18931/ndwi_int8_18568.tif\n",
      "the size of current NDWI_img 11356 11355\n"
     ]
    },
    {
     "name": "stderr",
     "output_type": "stream",
     "text": [
      "900it [00:58, 15.49it/s]\n"
     ]
    },
    {
     "name": "stdout",
     "output_type": "stream",
     "text": [
      "Converting prediction from <class 'numpy.float32'> to uint8, using threshold of 0.5\n",
      "File already analysed! /media/nkd/data18931/ndwi_int8_13001_18931/ndwi_int8_18568.tif\n",
      "/media/nkd/data18931/ndwi_int8_13001_18931/ndwi_int8_18569.tif\n",
      "the size of current NDWI_img 11356 11355\n"
     ]
    },
    {
     "name": "stderr",
     "output_type": "stream",
     "text": [
      "900it [01:11, 12.50it/s]\n"
     ]
    },
    {
     "name": "stdout",
     "output_type": "stream",
     "text": [
      "Converting prediction from <class 'numpy.float32'> to uint8, using threshold of 0.5\n",
      "File already analysed! /media/nkd/data18931/ndwi_int8_13001_18931/ndwi_int8_18569.tif\n",
      "/media/nkd/data18931/ndwi_int8_13001_18931/ndwi_int8_18570.tif\n",
      "the size of current NDWI_img 11356 11355\n"
     ]
    },
    {
     "name": "stderr",
     "output_type": "stream",
     "text": [
      "900it [01:13, 12.25it/s]\n"
     ]
    },
    {
     "name": "stdout",
     "output_type": "stream",
     "text": [
      "Converting prediction from <class 'numpy.float32'> to uint8, using threshold of 0.5\n",
      "File already analysed! /media/nkd/data18931/ndwi_int8_13001_18931/ndwi_int8_18570.tif\n",
      "/media/nkd/data18931/ndwi_int8_13001_18931/ndwi_int8_18571.tif\n",
      "the size of current NDWI_img 11356 11355\n"
     ]
    },
    {
     "name": "stderr",
     "output_type": "stream",
     "text": [
      "900it [01:14, 12.07it/s]\n"
     ]
    },
    {
     "name": "stdout",
     "output_type": "stream",
     "text": [
      "Converting prediction from <class 'numpy.float32'> to uint8, using threshold of 0.5\n",
      "File already analysed! /media/nkd/data18931/ndwi_int8_13001_18931/ndwi_int8_18571.tif\n",
      "/media/nkd/data18931/ndwi_int8_13001_18931/ndwi_int8_18572.tif\n",
      "the size of current NDWI_img 11356 11355\n"
     ]
    },
    {
     "name": "stderr",
     "output_type": "stream",
     "text": [
      "900it [01:14, 12.05it/s]\n"
     ]
    },
    {
     "name": "stdout",
     "output_type": "stream",
     "text": [
      "Converting prediction from <class 'numpy.float32'> to uint8, using threshold of 0.5\n",
      "File already analysed! /media/nkd/data18931/ndwi_int8_13001_18931/ndwi_int8_18572.tif\n",
      "/media/nkd/data18931/ndwi_int8_13001_18931/ndwi_int8_18573.tif\n",
      "the size of current NDWI_img 11355 11355\n"
     ]
    },
    {
     "name": "stderr",
     "output_type": "stream",
     "text": [
      "900it [01:13, 12.21it/s]\n"
     ]
    },
    {
     "name": "stdout",
     "output_type": "stream",
     "text": [
      "Converting prediction from <class 'numpy.float32'> to uint8, using threshold of 0.5\n",
      "File already analysed! /media/nkd/data18931/ndwi_int8_13001_18931/ndwi_int8_18573.tif\n",
      "/media/nkd/data18931/ndwi_int8_13001_18931/ndwi_int8_18574.tif\n",
      "the size of current NDWI_img 11355 11355\n"
     ]
    },
    {
     "name": "stderr",
     "output_type": "stream",
     "text": [
      "900it [01:10, 12.85it/s]\n"
     ]
    },
    {
     "name": "stdout",
     "output_type": "stream",
     "text": [
      "Converting prediction from <class 'numpy.float32'> to uint8, using threshold of 0.5\n",
      "File already analysed! /media/nkd/data18931/ndwi_int8_13001_18931/ndwi_int8_18574.tif\n",
      "/media/nkd/data18931/ndwi_int8_13001_18931/ndwi_int8_18575.tif\n",
      "the size of current NDWI_img 11355 11355\n"
     ]
    },
    {
     "name": "stderr",
     "output_type": "stream",
     "text": [
      "900it [01:07, 13.30it/s]\n"
     ]
    },
    {
     "name": "stdout",
     "output_type": "stream",
     "text": [
      "Converting prediction from <class 'numpy.float32'> to uint8, using threshold of 0.5\n",
      "File already analysed! /media/nkd/data18931/ndwi_int8_13001_18931/ndwi_int8_18575.tif\n",
      "/media/nkd/data18931/ndwi_int8_13001_18931/ndwi_int8_18576.tif\n",
      "the size of current NDWI_img 11356 11355\n"
     ]
    },
    {
     "name": "stderr",
     "output_type": "stream",
     "text": [
      "900it [00:43, 20.76it/s]\n"
     ]
    },
    {
     "name": "stdout",
     "output_type": "stream",
     "text": [
      "Converting prediction from <class 'numpy.float32'> to uint8, using threshold of 0.5\n",
      "File already analysed! /media/nkd/data18931/ndwi_int8_13001_18931/ndwi_int8_18576.tif\n",
      "/media/nkd/data18931/ndwi_int8_13001_18931/ndwi_int8_18577.tif\n",
      "the size of current NDWI_img 11356 11355\n"
     ]
    },
    {
     "name": "stderr",
     "output_type": "stream",
     "text": [
      "900it [00:42, 20.93it/s]\n"
     ]
    },
    {
     "name": "stdout",
     "output_type": "stream",
     "text": [
      "Converting prediction from <class 'numpy.float32'> to uint8, using threshold of 0.5\n",
      "File already analysed! /media/nkd/data18931/ndwi_int8_13001_18931/ndwi_int8_18577.tif\n",
      "/media/nkd/data18931/ndwi_int8_13001_18931/ndwi_int8_18578.tif\n",
      "the size of current NDWI_img 11356 11355\n"
     ]
    },
    {
     "name": "stderr",
     "output_type": "stream",
     "text": [
      "900it [00:51, 17.44it/s]\n"
     ]
    },
    {
     "name": "stdout",
     "output_type": "stream",
     "text": [
      "Converting prediction from <class 'numpy.float32'> to uint8, using threshold of 0.5\n",
      "File already analysed! /media/nkd/data18931/ndwi_int8_13001_18931/ndwi_int8_18578.tif\n",
      "/media/nkd/data18931/ndwi_int8_13001_18931/ndwi_int8_18579.tif\n",
      "the size of current NDWI_img 11356 11355\n"
     ]
    },
    {
     "name": "stderr",
     "output_type": "stream",
     "text": [
      "900it [01:11, 12.65it/s]\n"
     ]
    },
    {
     "name": "stdout",
     "output_type": "stream",
     "text": [
      "Converting prediction from <class 'numpy.float32'> to uint8, using threshold of 0.5\n",
      "File already analysed! /media/nkd/data18931/ndwi_int8_13001_18931/ndwi_int8_18579.tif\n",
      "/media/nkd/data18931/ndwi_int8_13001_18931/ndwi_int8_18580.tif\n",
      "the size of current NDWI_img 11356 11355\n"
     ]
    },
    {
     "name": "stderr",
     "output_type": "stream",
     "text": [
      "900it [01:12, 12.47it/s]\n"
     ]
    },
    {
     "name": "stdout",
     "output_type": "stream",
     "text": [
      "Converting prediction from <class 'numpy.float32'> to uint8, using threshold of 0.5\n",
      "File already analysed! /media/nkd/data18931/ndwi_int8_13001_18931/ndwi_int8_18580.tif\n",
      "/media/nkd/data18931/ndwi_int8_13001_18931/ndwi_int8_18581.tif\n",
      "the size of current NDWI_img 11355 11355\n"
     ]
    },
    {
     "name": "stderr",
     "output_type": "stream",
     "text": [
      "900it [01:11, 12.53it/s]\n"
     ]
    },
    {
     "name": "stdout",
     "output_type": "stream",
     "text": [
      "Converting prediction from <class 'numpy.float32'> to uint8, using threshold of 0.5\n",
      "File already analysed! /media/nkd/data18931/ndwi_int8_13001_18931/ndwi_int8_18581.tif\n",
      "/media/nkd/data18931/ndwi_int8_13001_18931/ndwi_int8_18582.tif\n",
      "the size of current NDWI_img 11355 11355\n"
     ]
    },
    {
     "name": "stderr",
     "output_type": "stream",
     "text": [
      "900it [01:11, 12.60it/s]\n"
     ]
    },
    {
     "name": "stdout",
     "output_type": "stream",
     "text": [
      "Converting prediction from <class 'numpy.float32'> to uint8, using threshold of 0.5\n",
      "File already analysed! /media/nkd/data18931/ndwi_int8_13001_18931/ndwi_int8_18582.tif\n",
      "/media/nkd/data18931/ndwi_int8_13001_18931/ndwi_int8_18583.tif\n",
      "the size of current NDWI_img 11355 11355\n"
     ]
    },
    {
     "name": "stderr",
     "output_type": "stream",
     "text": [
      "900it [01:14, 12.08it/s]\n"
     ]
    },
    {
     "name": "stdout",
     "output_type": "stream",
     "text": [
      "Converting prediction from <class 'numpy.float32'> to uint8, using threshold of 0.5\n",
      "File already analysed! /media/nkd/data18931/ndwi_int8_13001_18931/ndwi_int8_18583.tif\n",
      "/media/nkd/data18931/ndwi_int8_13001_18931/ndwi_int8_18584.tif\n",
      "the size of current NDWI_img 11356 11356\n"
     ]
    },
    {
     "name": "stderr",
     "output_type": "stream",
     "text": [
      "900it [00:45, 19.66it/s]\n"
     ]
    },
    {
     "name": "stdout",
     "output_type": "stream",
     "text": [
      "Converting prediction from <class 'numpy.float32'> to uint8, using threshold of 0.5\n",
      "File already analysed! /media/nkd/data18931/ndwi_int8_13001_18931/ndwi_int8_18584.tif\n",
      "/media/nkd/data18931/ndwi_int8_13001_18931/ndwi_int8_18585.tif\n",
      "the size of current NDWI_img 11356 11356\n"
     ]
    },
    {
     "name": "stderr",
     "output_type": "stream",
     "text": [
      "900it [00:43, 20.46it/s]\n"
     ]
    },
    {
     "name": "stdout",
     "output_type": "stream",
     "text": [
      "Converting prediction from <class 'numpy.float32'> to uint8, using threshold of 0.5\n",
      "File already analysed! /media/nkd/data18931/ndwi_int8_13001_18931/ndwi_int8_18585.tif\n",
      "/media/nkd/data18931/ndwi_int8_13001_18931/ndwi_int8_18586.tif\n",
      "the size of current NDWI_img 11356 11356\n"
     ]
    },
    {
     "name": "stderr",
     "output_type": "stream",
     "text": [
      "900it [00:54, 16.46it/s]\n"
     ]
    },
    {
     "name": "stdout",
     "output_type": "stream",
     "text": [
      "Converting prediction from <class 'numpy.float32'> to uint8, using threshold of 0.5\n",
      "File already analysed! /media/nkd/data18931/ndwi_int8_13001_18931/ndwi_int8_18586.tif\n",
      "/media/nkd/data18931/ndwi_int8_13001_18931/ndwi_int8_18587.tif\n",
      "the size of current NDWI_img 11355 11356\n"
     ]
    },
    {
     "name": "stderr",
     "output_type": "stream",
     "text": [
      "900it [01:13, 12.23it/s]\n"
     ]
    },
    {
     "name": "stdout",
     "output_type": "stream",
     "text": [
      "Converting prediction from <class 'numpy.float32'> to uint8, using threshold of 0.5\n",
      "File already analysed! /media/nkd/data18931/ndwi_int8_13001_18931/ndwi_int8_18587.tif\n",
      "/media/nkd/data18931/ndwi_int8_13001_18931/ndwi_int8_18588.tif\n",
      "the size of current NDWI_img 11355 11356\n"
     ]
    },
    {
     "name": "stderr",
     "output_type": "stream",
     "text": [
      "900it [01:11, 12.56it/s]\n"
     ]
    },
    {
     "name": "stdout",
     "output_type": "stream",
     "text": [
      "Converting prediction from <class 'numpy.float32'> to uint8, using threshold of 0.5\n",
      "File already analysed! /media/nkd/data18931/ndwi_int8_13001_18931/ndwi_int8_18588.tif\n",
      "/media/nkd/data18931/ndwi_int8_13001_18931/ndwi_int8_18589.tif\n",
      "the size of current NDWI_img 11355 11356\n"
     ]
    },
    {
     "name": "stderr",
     "output_type": "stream",
     "text": [
      "900it [01:15, 11.96it/s]\n"
     ]
    },
    {
     "name": "stdout",
     "output_type": "stream",
     "text": [
      "Converting prediction from <class 'numpy.float32'> to uint8, using threshold of 0.5\n",
      "File already analysed! /media/nkd/data18931/ndwi_int8_13001_18931/ndwi_int8_18589.tif\n",
      "/media/nkd/data18931/ndwi_int8_13001_18931/ndwi_int8_18590.tif\n",
      "the size of current NDWI_img 11355 11356\n"
     ]
    },
    {
     "name": "stderr",
     "output_type": "stream",
     "text": [
      "900it [00:51, 17.58it/s]\n"
     ]
    },
    {
     "name": "stdout",
     "output_type": "stream",
     "text": [
      "Converting prediction from <class 'numpy.float32'> to uint8, using threshold of 0.5\n",
      "File already analysed! /media/nkd/data18931/ndwi_int8_13001_18931/ndwi_int8_18590.tif\n",
      "/media/nkd/data18931/ndwi_int8_13001_18931/ndwi_int8_18591.tif\n",
      "the size of current NDWI_img 11355 11356\n"
     ]
    },
    {
     "name": "stderr",
     "output_type": "stream",
     "text": [
      "900it [01:08, 13.21it/s]\n"
     ]
    },
    {
     "name": "stdout",
     "output_type": "stream",
     "text": [
      "Converting prediction from <class 'numpy.float32'> to uint8, using threshold of 0.5\n",
      "File already analysed! /media/nkd/data18931/ndwi_int8_13001_18931/ndwi_int8_18591.tif\n",
      "/media/nkd/data18931/ndwi_int8_13001_18931/ndwi_int8_18592.tif\n",
      "the size of current NDWI_img 11355 11356\n"
     ]
    },
    {
     "name": "stderr",
     "output_type": "stream",
     "text": [
      "900it [01:09, 12.86it/s]\n"
     ]
    },
    {
     "name": "stdout",
     "output_type": "stream",
     "text": [
      "Converting prediction from <class 'numpy.float32'> to uint8, using threshold of 0.5\n",
      "File already analysed! /media/nkd/data18931/ndwi_int8_13001_18931/ndwi_int8_18592.tif\n",
      "/media/nkd/data18931/ndwi_int8_13001_18931/ndwi_int8_18593.tif\n",
      "the size of current NDWI_img 11355 11356\n"
     ]
    },
    {
     "name": "stderr",
     "output_type": "stream",
     "text": [
      "900it [00:45, 19.68it/s]\n"
     ]
    },
    {
     "name": "stdout",
     "output_type": "stream",
     "text": [
      "Converting prediction from <class 'numpy.float32'> to uint8, using threshold of 0.5\n",
      "File already analysed! /media/nkd/data18931/ndwi_int8_13001_18931/ndwi_int8_18593.tif\n",
      "/media/nkd/data18931/ndwi_int8_13001_18931/ndwi_int8_18594.tif\n",
      "the size of current NDWI_img 11355 11356\n"
     ]
    },
    {
     "name": "stderr",
     "output_type": "stream",
     "text": [
      "900it [00:48, 18.71it/s]\n"
     ]
    },
    {
     "name": "stdout",
     "output_type": "stream",
     "text": [
      "Converting prediction from <class 'numpy.float32'> to uint8, using threshold of 0.5\n",
      "File already analysed! /media/nkd/data18931/ndwi_int8_13001_18931/ndwi_int8_18594.tif\n",
      "/media/nkd/data18931/ndwi_int8_13001_18931/ndwi_int8_18595.tif\n",
      "the size of current NDWI_img 11355 11356\n"
     ]
    },
    {
     "name": "stderr",
     "output_type": "stream",
     "text": [
      "900it [00:32, 27.96it/s]\n"
     ]
    },
    {
     "name": "stdout",
     "output_type": "stream",
     "text": [
      "Converting prediction from <class 'numpy.float32'> to uint8, using threshold of 0.5\n",
      "File already analysed! /media/nkd/data18931/ndwi_int8_13001_18931/ndwi_int8_18595.tif\n",
      "/media/nkd/data18931/ndwi_int8_13001_18931/ndwi_int8_18596.tif\n",
      "the size of current NDWI_img 11355 11356\n"
     ]
    },
    {
     "name": "stderr",
     "output_type": "stream",
     "text": [
      "900it [00:32, 27.71it/s]\n"
     ]
    },
    {
     "name": "stdout",
     "output_type": "stream",
     "text": [
      "Converting prediction from <class 'numpy.float32'> to uint8, using threshold of 0.5\n",
      "File already analysed! /media/nkd/data18931/ndwi_int8_13001_18931/ndwi_int8_18596.tif\n",
      "/media/nkd/data18931/ndwi_int8_13001_18931/ndwi_int8_18597.tif\n",
      "the size of current NDWI_img 11356 11356\n"
     ]
    },
    {
     "name": "stderr",
     "output_type": "stream",
     "text": [
      "900it [00:47, 18.82it/s]\n"
     ]
    },
    {
     "name": "stdout",
     "output_type": "stream",
     "text": [
      "Converting prediction from <class 'numpy.float32'> to uint8, using threshold of 0.5\n",
      "File already analysed! /media/nkd/data18931/ndwi_int8_13001_18931/ndwi_int8_18597.tif\n",
      "/media/nkd/data18931/ndwi_int8_13001_18931/ndwi_int8_18598.tif\n",
      "the size of current NDWI_img 11356 11356\n"
     ]
    },
    {
     "name": "stderr",
     "output_type": "stream",
     "text": [
      "900it [01:02, 14.47it/s]\n"
     ]
    },
    {
     "name": "stdout",
     "output_type": "stream",
     "text": [
      "Converting prediction from <class 'numpy.float32'> to uint8, using threshold of 0.5\n",
      "File already analysed! /media/nkd/data18931/ndwi_int8_13001_18931/ndwi_int8_18598.tif\n",
      "/media/nkd/data18931/ndwi_int8_13001_18931/ndwi_int8_18599.tif\n",
      "the size of current NDWI_img 11356 11356\n"
     ]
    },
    {
     "name": "stderr",
     "output_type": "stream",
     "text": [
      "900it [00:45, 19.77it/s]\n"
     ]
    },
    {
     "name": "stdout",
     "output_type": "stream",
     "text": [
      "Converting prediction from <class 'numpy.float32'> to uint8, using threshold of 0.5\n",
      "File already analysed! /media/nkd/data18931/ndwi_int8_13001_18931/ndwi_int8_18599.tif\n",
      "/media/nkd/data18931/ndwi_int8_13001_18931/ndwi_int8_18600.tif\n",
      "the size of current NDWI_img 11356 11356\n"
     ]
    },
    {
     "name": "stderr",
     "output_type": "stream",
     "text": [
      "900it [00:49, 18.11it/s]\n"
     ]
    },
    {
     "name": "stdout",
     "output_type": "stream",
     "text": [
      "Converting prediction from <class 'numpy.float32'> to uint8, using threshold of 0.5\n",
      "File already analysed! /media/nkd/data18931/ndwi_int8_13001_18931/ndwi_int8_18600.tif\n",
      "/media/nkd/data18931/ndwi_int8_13001_18931/ndwi_int8_18601.tif\n",
      "the size of current NDWI_img 11356 11356\n"
     ]
    },
    {
     "name": "stderr",
     "output_type": "stream",
     "text": [
      "900it [00:39, 22.77it/s]\n"
     ]
    },
    {
     "name": "stdout",
     "output_type": "stream",
     "text": [
      "Converting prediction from <class 'numpy.float32'> to uint8, using threshold of 0.5\n",
      "File already analysed! /media/nkd/data18931/ndwi_int8_13001_18931/ndwi_int8_18601.tif\n",
      "/media/nkd/data18931/ndwi_int8_13001_18931/ndwi_int8_18602.tif\n",
      "the size of current NDWI_img 11356 11356\n"
     ]
    },
    {
     "name": "stderr",
     "output_type": "stream",
     "text": [
      "900it [00:45, 19.65it/s]\n"
     ]
    },
    {
     "name": "stdout",
     "output_type": "stream",
     "text": [
      "Converting prediction from <class 'numpy.float32'> to uint8, using threshold of 0.5\n",
      "File already analysed! /media/nkd/data18931/ndwi_int8_13001_18931/ndwi_int8_18602.tif\n",
      "/media/nkd/data18931/ndwi_int8_13001_18931/ndwi_int8_18603.tif\n",
      "the size of current NDWI_img 11356 11356\n"
     ]
    },
    {
     "name": "stderr",
     "output_type": "stream",
     "text": [
      "900it [00:45, 19.62it/s]\n"
     ]
    },
    {
     "name": "stdout",
     "output_type": "stream",
     "text": [
      "Converting prediction from <class 'numpy.float32'> to uint8, using threshold of 0.5\n",
      "File already analysed! /media/nkd/data18931/ndwi_int8_13001_18931/ndwi_int8_18603.tif\n",
      "/media/nkd/data18931/ndwi_int8_13001_18931/ndwi_int8_18604.tif\n",
      "the size of current NDWI_img 11356 11356\n"
     ]
    },
    {
     "name": "stderr",
     "output_type": "stream",
     "text": [
      "900it [00:45, 19.60it/s]\n"
     ]
    },
    {
     "name": "stdout",
     "output_type": "stream",
     "text": [
      "Converting prediction from <class 'numpy.float32'> to uint8, using threshold of 0.5\n",
      "File already analysed! /media/nkd/data18931/ndwi_int8_13001_18931/ndwi_int8_18604.tif\n",
      "/media/nkd/data18931/ndwi_int8_13001_18931/ndwi_int8_18605.tif\n",
      "the size of current NDWI_img 11356 11356\n"
     ]
    },
    {
     "name": "stderr",
     "output_type": "stream",
     "text": [
      "900it [01:03, 14.19it/s]\n"
     ]
    },
    {
     "name": "stdout",
     "output_type": "stream",
     "text": [
      "Converting prediction from <class 'numpy.float32'> to uint8, using threshold of 0.5\n",
      "File already analysed! /media/nkd/data18931/ndwi_int8_13001_18931/ndwi_int8_18605.tif\n",
      "/media/nkd/data18931/ndwi_int8_13001_18931/ndwi_int8_18606.tif\n",
      "the size of current NDWI_img 11356 11356\n"
     ]
    },
    {
     "name": "stderr",
     "output_type": "stream",
     "text": [
      "900it [00:49, 18.26it/s]\n"
     ]
    },
    {
     "name": "stdout",
     "output_type": "stream",
     "text": [
      "Converting prediction from <class 'numpy.float32'> to uint8, using threshold of 0.5\n",
      "File already analysed! /media/nkd/data18931/ndwi_int8_13001_18931/ndwi_int8_18606.tif\n",
      "/media/nkd/data18931/ndwi_int8_13001_18931/ndwi_int8_18607.tif\n",
      "the size of current NDWI_img 11356 11356\n"
     ]
    },
    {
     "name": "stderr",
     "output_type": "stream",
     "text": [
      "900it [01:05, 13.83it/s]\n"
     ]
    },
    {
     "name": "stdout",
     "output_type": "stream",
     "text": [
      "Converting prediction from <class 'numpy.float32'> to uint8, using threshold of 0.5\n",
      "File already analysed! /media/nkd/data18931/ndwi_int8_13001_18931/ndwi_int8_18607.tif\n",
      "/media/nkd/data18931/ndwi_int8_13001_18931/ndwi_int8_18608.tif\n",
      "the size of current NDWI_img 11356 11356\n"
     ]
    },
    {
     "name": "stderr",
     "output_type": "stream",
     "text": [
      "900it [00:53, 16.93it/s]\n"
     ]
    },
    {
     "name": "stdout",
     "output_type": "stream",
     "text": [
      "Converting prediction from <class 'numpy.float32'> to uint8, using threshold of 0.5\n",
      "File already analysed! /media/nkd/data18931/ndwi_int8_13001_18931/ndwi_int8_18608.tif\n",
      "/media/nkd/data18931/ndwi_int8_13001_18931/ndwi_int8_18609.tif\n",
      "the size of current NDWI_img 11356 11356\n"
     ]
    },
    {
     "name": "stderr",
     "output_type": "stream",
     "text": [
      "900it [00:54, 16.50it/s]\n"
     ]
    },
    {
     "name": "stdout",
     "output_type": "stream",
     "text": [
      "Converting prediction from <class 'numpy.float32'> to uint8, using threshold of 0.5\n",
      "File already analysed! /media/nkd/data18931/ndwi_int8_13001_18931/ndwi_int8_18609.tif\n",
      "/media/nkd/data18931/ndwi_int8_13001_18931/ndwi_int8_18610.tif\n",
      "the size of current NDWI_img 11356 11356\n"
     ]
    },
    {
     "name": "stderr",
     "output_type": "stream",
     "text": [
      "900it [01:03, 14.17it/s]\n"
     ]
    },
    {
     "name": "stdout",
     "output_type": "stream",
     "text": [
      "Converting prediction from <class 'numpy.float32'> to uint8, using threshold of 0.5\n",
      "File already analysed! /media/nkd/data18931/ndwi_int8_13001_18931/ndwi_int8_18610.tif\n",
      "/media/nkd/data18931/ndwi_int8_13001_18931/ndwi_int8_18611.tif\n",
      "the size of current NDWI_img 11356 11356\n"
     ]
    },
    {
     "name": "stderr",
     "output_type": "stream",
     "text": [
      "900it [00:51, 17.39it/s]\n"
     ]
    },
    {
     "name": "stdout",
     "output_type": "stream",
     "text": [
      "Converting prediction from <class 'numpy.float32'> to uint8, using threshold of 0.5\n",
      "File already analysed! /media/nkd/data18931/ndwi_int8_13001_18931/ndwi_int8_18611.tif\n",
      "/media/nkd/data18931/ndwi_int8_13001_18931/ndwi_int8_18612.tif\n",
      "the size of current NDWI_img 11356 11356\n"
     ]
    },
    {
     "name": "stderr",
     "output_type": "stream",
     "text": [
      "900it [00:56, 15.81it/s]\n"
     ]
    },
    {
     "name": "stdout",
     "output_type": "stream",
     "text": [
      "Converting prediction from <class 'numpy.float32'> to uint8, using threshold of 0.5\n",
      "File already analysed! /media/nkd/data18931/ndwi_int8_13001_18931/ndwi_int8_18612.tif\n",
      "/media/nkd/data18931/ndwi_int8_13001_18931/ndwi_int8_18613.tif\n",
      "the size of current NDWI_img 11356 11356\n"
     ]
    },
    {
     "name": "stderr",
     "output_type": "stream",
     "text": [
      "900it [01:15, 11.93it/s]\n"
     ]
    },
    {
     "name": "stdout",
     "output_type": "stream",
     "text": [
      "Converting prediction from <class 'numpy.float32'> to uint8, using threshold of 0.5\n",
      "File already analysed! /media/nkd/data18931/ndwi_int8_13001_18931/ndwi_int8_18613.tif\n",
      "/media/nkd/data18931/ndwi_int8_13001_18931/ndwi_int8_18614.tif\n",
      "the size of current NDWI_img 11356 11356\n"
     ]
    },
    {
     "name": "stderr",
     "output_type": "stream",
     "text": [
      "900it [01:10, 12.81it/s]\n"
     ]
    },
    {
     "name": "stdout",
     "output_type": "stream",
     "text": [
      "Converting prediction from <class 'numpy.float32'> to uint8, using threshold of 0.5\n",
      "File already analysed! /media/nkd/data18931/ndwi_int8_13001_18931/ndwi_int8_18614.tif\n",
      "/media/nkd/data18931/ndwi_int8_13001_18931/ndwi_int8_18615.tif\n",
      "the size of current NDWI_img 11356 11356\n"
     ]
    },
    {
     "name": "stderr",
     "output_type": "stream",
     "text": [
      "900it [01:06, 13.63it/s]\n"
     ]
    },
    {
     "name": "stdout",
     "output_type": "stream",
     "text": [
      "Converting prediction from <class 'numpy.float32'> to uint8, using threshold of 0.5\n",
      "File already analysed! /media/nkd/data18931/ndwi_int8_13001_18931/ndwi_int8_18615.tif\n",
      "/media/nkd/data18931/ndwi_int8_13001_18931/ndwi_int8_18616.tif\n",
      "the size of current NDWI_img 11356 11356\n"
     ]
    },
    {
     "name": "stderr",
     "output_type": "stream",
     "text": [
      "900it [00:47, 18.88it/s]\n"
     ]
    },
    {
     "name": "stdout",
     "output_type": "stream",
     "text": [
      "Converting prediction from <class 'numpy.float32'> to uint8, using threshold of 0.5\n",
      "File already analysed! /media/nkd/data18931/ndwi_int8_13001_18931/ndwi_int8_18616.tif\n",
      "/media/nkd/data18931/ndwi_int8_13001_18931/ndwi_int8_18617.tif\n",
      "the size of current NDWI_img 11356 11356\n"
     ]
    },
    {
     "name": "stderr",
     "output_type": "stream",
     "text": [
      "900it [00:48, 18.39it/s]\n"
     ]
    },
    {
     "name": "stdout",
     "output_type": "stream",
     "text": [
      "Converting prediction from <class 'numpy.float32'> to uint8, using threshold of 0.5\n",
      "File already analysed! /media/nkd/data18931/ndwi_int8_13001_18931/ndwi_int8_18617.tif\n",
      "/media/nkd/data18931/ndwi_int8_13001_18931/ndwi_int8_18618.tif\n",
      "the size of current NDWI_img 11356 11356\n"
     ]
    },
    {
     "name": "stderr",
     "output_type": "stream",
     "text": [
      "900it [01:14, 12.06it/s]\n"
     ]
    },
    {
     "name": "stdout",
     "output_type": "stream",
     "text": [
      "Converting prediction from <class 'numpy.float32'> to uint8, using threshold of 0.5\n",
      "File already analysed! /media/nkd/data18931/ndwi_int8_13001_18931/ndwi_int8_18618.tif\n",
      "/media/nkd/data18931/ndwi_int8_13001_18931/ndwi_int8_18619.tif\n",
      "the size of current NDWI_img 11356 11356\n"
     ]
    },
    {
     "name": "stderr",
     "output_type": "stream",
     "text": [
      "900it [01:10, 12.69it/s]\n"
     ]
    },
    {
     "name": "stdout",
     "output_type": "stream",
     "text": [
      "Converting prediction from <class 'numpy.float32'> to uint8, using threshold of 0.5\n",
      "File already analysed! /media/nkd/data18931/ndwi_int8_13001_18931/ndwi_int8_18619.tif\n",
      "/media/nkd/data18931/ndwi_int8_13001_18931/ndwi_int8_18620.tif\n",
      "the size of current NDWI_img 11356 11356\n"
     ]
    },
    {
     "name": "stderr",
     "output_type": "stream",
     "text": [
      "900it [00:45, 19.62it/s]\n"
     ]
    },
    {
     "name": "stdout",
     "output_type": "stream",
     "text": [
      "Converting prediction from <class 'numpy.float32'> to uint8, using threshold of 0.5\n",
      "File already analysed! /media/nkd/data18931/ndwi_int8_13001_18931/ndwi_int8_18620.tif\n",
      "/media/nkd/data18931/ndwi_int8_13001_18931/ndwi_int8_18621.tif\n",
      "the size of current NDWI_img 11356 11356\n"
     ]
    },
    {
     "name": "stderr",
     "output_type": "stream",
     "text": [
      "900it [00:47, 18.98it/s]\n"
     ]
    },
    {
     "name": "stdout",
     "output_type": "stream",
     "text": [
      "Converting prediction from <class 'numpy.float32'> to uint8, using threshold of 0.5\n",
      "File already analysed! /media/nkd/data18931/ndwi_int8_13001_18931/ndwi_int8_18621.tif\n",
      "/media/nkd/data18931/ndwi_int8_13001_18931/ndwi_int8_18622.tif\n",
      "the size of current NDWI_img 11356 11356\n"
     ]
    },
    {
     "name": "stderr",
     "output_type": "stream",
     "text": [
      "900it [00:42, 21.42it/s]\n"
     ]
    },
    {
     "name": "stdout",
     "output_type": "stream",
     "text": [
      "Converting prediction from <class 'numpy.float32'> to uint8, using threshold of 0.5\n",
      "File already analysed! /media/nkd/data18931/ndwi_int8_13001_18931/ndwi_int8_18622.tif\n",
      "/media/nkd/data18931/ndwi_int8_13001_18931/ndwi_int8_18623.tif\n",
      "the size of current NDWI_img 11356 11356\n"
     ]
    },
    {
     "name": "stderr",
     "output_type": "stream",
     "text": [
      "900it [01:12, 12.43it/s]\n"
     ]
    },
    {
     "name": "stdout",
     "output_type": "stream",
     "text": [
      "Converting prediction from <class 'numpy.float32'> to uint8, using threshold of 0.5\n",
      "File already analysed! /media/nkd/data18931/ndwi_int8_13001_18931/ndwi_int8_18623.tif\n",
      "/media/nkd/data18931/ndwi_int8_13001_18931/ndwi_int8_18624.tif\n",
      "the size of current NDWI_img 11356 11356\n"
     ]
    },
    {
     "name": "stderr",
     "output_type": "stream",
     "text": [
      "900it [00:45, 19.59it/s]\n"
     ]
    },
    {
     "name": "stdout",
     "output_type": "stream",
     "text": [
      "Converting prediction from <class 'numpy.float32'> to uint8, using threshold of 0.5\n",
      "File already analysed! /media/nkd/data18931/ndwi_int8_13001_18931/ndwi_int8_18624.tif\n",
      "/media/nkd/data18931/ndwi_int8_13001_18931/ndwi_int8_18625.tif\n",
      "the size of current NDWI_img 11356 11356\n"
     ]
    },
    {
     "name": "stderr",
     "output_type": "stream",
     "text": [
      "900it [00:48, 18.53it/s]\n"
     ]
    },
    {
     "name": "stdout",
     "output_type": "stream",
     "text": [
      "Converting prediction from <class 'numpy.float32'> to uint8, using threshold of 0.5\n",
      "File already analysed! /media/nkd/data18931/ndwi_int8_13001_18931/ndwi_int8_18625.tif\n",
      "/media/nkd/data18931/ndwi_int8_13001_18931/ndwi_int8_18626.tif\n",
      "the size of current NDWI_img 11356 11356\n"
     ]
    },
    {
     "name": "stderr",
     "output_type": "stream",
     "text": [
      "900it [00:49, 18.09it/s]\n"
     ]
    },
    {
     "name": "stdout",
     "output_type": "stream",
     "text": [
      "Converting prediction from <class 'numpy.float32'> to uint8, using threshold of 0.5\n",
      "File already analysed! /media/nkd/data18931/ndwi_int8_13001_18931/ndwi_int8_18626.tif\n",
      "/media/nkd/data18931/ndwi_int8_13001_18931/ndwi_int8_18627.tif\n",
      "the size of current NDWI_img 11356 11356\n"
     ]
    },
    {
     "name": "stderr",
     "output_type": "stream",
     "text": [
      "900it [00:48, 18.69it/s]\n"
     ]
    },
    {
     "name": "stdout",
     "output_type": "stream",
     "text": [
      "Converting prediction from <class 'numpy.float32'> to uint8, using threshold of 0.5\n",
      "File already analysed! /media/nkd/data18931/ndwi_int8_13001_18931/ndwi_int8_18627.tif\n",
      "/media/nkd/data18931/ndwi_int8_13001_18931/ndwi_int8_18628.tif\n",
      "the size of current NDWI_img 11356 11356\n"
     ]
    },
    {
     "name": "stderr",
     "output_type": "stream",
     "text": [
      "900it [00:54, 16.52it/s]\n"
     ]
    },
    {
     "name": "stdout",
     "output_type": "stream",
     "text": [
      "Converting prediction from <class 'numpy.float32'> to uint8, using threshold of 0.5\n",
      "File already analysed! /media/nkd/data18931/ndwi_int8_13001_18931/ndwi_int8_18628.tif\n",
      "/media/nkd/data18931/ndwi_int8_13001_18931/ndwi_int8_18629.tif\n",
      "the size of current NDWI_img 11356 11356\n"
     ]
    },
    {
     "name": "stderr",
     "output_type": "stream",
     "text": [
      "900it [00:46, 19.47it/s]\n"
     ]
    },
    {
     "name": "stdout",
     "output_type": "stream",
     "text": [
      "Converting prediction from <class 'numpy.float32'> to uint8, using threshold of 0.5\n",
      "File already analysed! /media/nkd/data18931/ndwi_int8_13001_18931/ndwi_int8_18629.tif\n",
      "/media/nkd/data18931/ndwi_int8_13001_18931/ndwi_int8_18630.tif\n",
      "the size of current NDWI_img 11356 11356\n"
     ]
    },
    {
     "name": "stderr",
     "output_type": "stream",
     "text": [
      "900it [00:52, 17.00it/s]\n"
     ]
    },
    {
     "name": "stdout",
     "output_type": "stream",
     "text": [
      "Converting prediction from <class 'numpy.float32'> to uint8, using threshold of 0.5\n",
      "File already analysed! /media/nkd/data18931/ndwi_int8_13001_18931/ndwi_int8_18630.tif\n",
      "/media/nkd/data18931/ndwi_int8_13001_18931/ndwi_int8_18631.tif\n",
      "the size of current NDWI_img 11356 11356\n"
     ]
    },
    {
     "name": "stderr",
     "output_type": "stream",
     "text": [
      "900it [00:41, 21.58it/s]\n"
     ]
    },
    {
     "name": "stdout",
     "output_type": "stream",
     "text": [
      "Converting prediction from <class 'numpy.float32'> to uint8, using threshold of 0.5\n",
      "File already analysed! /media/nkd/data18931/ndwi_int8_13001_18931/ndwi_int8_18631.tif\n",
      "/media/nkd/data18931/ndwi_int8_13001_18931/ndwi_int8_18632.tif\n",
      "the size of current NDWI_img 11356 11356\n"
     ]
    },
    {
     "name": "stderr",
     "output_type": "stream",
     "text": [
      "900it [00:49, 18.35it/s]\n"
     ]
    },
    {
     "name": "stdout",
     "output_type": "stream",
     "text": [
      "Converting prediction from <class 'numpy.float32'> to uint8, using threshold of 0.5\n",
      "File already analysed! /media/nkd/data18931/ndwi_int8_13001_18931/ndwi_int8_18632.tif\n",
      "/media/nkd/data18931/ndwi_int8_13001_18931/ndwi_int8_18633.tif\n",
      "the size of current NDWI_img 11356 11356\n"
     ]
    },
    {
     "name": "stderr",
     "output_type": "stream",
     "text": [
      "900it [00:35, 25.55it/s]\n"
     ]
    },
    {
     "name": "stdout",
     "output_type": "stream",
     "text": [
      "Converting prediction from <class 'numpy.float32'> to uint8, using threshold of 0.5\n",
      "File already analysed! /media/nkd/data18931/ndwi_int8_13001_18931/ndwi_int8_18633.tif\n",
      "/media/nkd/data18931/ndwi_int8_13001_18931/ndwi_int8_18634.tif\n",
      "the size of current NDWI_img 11355 11356\n"
     ]
    },
    {
     "name": "stderr",
     "output_type": "stream",
     "text": [
      "900it [01:05, 13.75it/s]\n"
     ]
    },
    {
     "name": "stdout",
     "output_type": "stream",
     "text": [
      "Converting prediction from <class 'numpy.float32'> to uint8, using threshold of 0.5\n",
      "File already analysed! /media/nkd/data18931/ndwi_int8_13001_18931/ndwi_int8_18634.tif\n",
      "/media/nkd/data18931/ndwi_int8_13001_18931/ndwi_int8_18635.tif\n",
      "the size of current NDWI_img 11355 11356\n"
     ]
    },
    {
     "name": "stderr",
     "output_type": "stream",
     "text": [
      "900it [01:03, 14.08it/s]\n"
     ]
    },
    {
     "name": "stdout",
     "output_type": "stream",
     "text": [
      "Converting prediction from <class 'numpy.float32'> to uint8, using threshold of 0.5\n",
      "File already analysed! /media/nkd/data18931/ndwi_int8_13001_18931/ndwi_int8_18635.tif\n",
      "/media/nkd/data18931/ndwi_int8_13001_18931/ndwi_int8_18636.tif\n",
      "the size of current NDWI_img 11355 11356\n"
     ]
    },
    {
     "name": "stderr",
     "output_type": "stream",
     "text": [
      "900it [00:52, 17.26it/s]\n"
     ]
    },
    {
     "name": "stdout",
     "output_type": "stream",
     "text": [
      "Converting prediction from <class 'numpy.float32'> to uint8, using threshold of 0.5\n",
      "File already analysed! /media/nkd/data18931/ndwi_int8_13001_18931/ndwi_int8_18636.tif\n",
      "/media/nkd/data18931/ndwi_int8_13001_18931/ndwi_int8_18637.tif\n",
      "the size of current NDWI_img 11355 11356\n"
     ]
    },
    {
     "name": "stderr",
     "output_type": "stream",
     "text": [
      "900it [00:57, 15.72it/s]\n"
     ]
    },
    {
     "name": "stdout",
     "output_type": "stream",
     "text": [
      "Converting prediction from <class 'numpy.float32'> to uint8, using threshold of 0.5\n",
      "File already analysed! /media/nkd/data18931/ndwi_int8_13001_18931/ndwi_int8_18637.tif\n",
      "/media/nkd/data18931/ndwi_int8_13001_18931/ndwi_int8_18638.tif\n",
      "the size of current NDWI_img 11355 11356\n"
     ]
    },
    {
     "name": "stderr",
     "output_type": "stream",
     "text": [
      "900it [00:53, 16.83it/s]\n"
     ]
    },
    {
     "name": "stdout",
     "output_type": "stream",
     "text": [
      "Converting prediction from <class 'numpy.float32'> to uint8, using threshold of 0.5\n",
      "File already analysed! /media/nkd/data18931/ndwi_int8_13001_18931/ndwi_int8_18638.tif\n",
      "/media/nkd/data18931/ndwi_int8_13001_18931/ndwi_int8_18639.tif\n",
      "the size of current NDWI_img 11356 11356\n"
     ]
    },
    {
     "name": "stderr",
     "output_type": "stream",
     "text": [
      "900it [00:52, 17.11it/s]\n"
     ]
    },
    {
     "name": "stdout",
     "output_type": "stream",
     "text": [
      "Converting prediction from <class 'numpy.float32'> to uint8, using threshold of 0.5\n",
      "File already analysed! /media/nkd/data18931/ndwi_int8_13001_18931/ndwi_int8_18639.tif\n",
      "/media/nkd/data18931/ndwi_int8_13001_18931/ndwi_int8_18640.tif\n",
      "the size of current NDWI_img 11356 11356\n"
     ]
    },
    {
     "name": "stderr",
     "output_type": "stream",
     "text": [
      "900it [00:50, 17.93it/s]\n"
     ]
    },
    {
     "name": "stdout",
     "output_type": "stream",
     "text": [
      "Converting prediction from <class 'numpy.float32'> to uint8, using threshold of 0.5\n",
      "File already analysed! /media/nkd/data18931/ndwi_int8_13001_18931/ndwi_int8_18640.tif\n",
      "/media/nkd/data18931/ndwi_int8_13001_18931/ndwi_int8_18641.tif\n",
      "the size of current NDWI_img 11355 11356\n"
     ]
    },
    {
     "name": "stderr",
     "output_type": "stream",
     "text": [
      "900it [01:18, 11.49it/s]\n"
     ]
    },
    {
     "name": "stdout",
     "output_type": "stream",
     "text": [
      "Converting prediction from <class 'numpy.float32'> to uint8, using threshold of 0.5\n",
      "File already analysed! /media/nkd/data18931/ndwi_int8_13001_18931/ndwi_int8_18641.tif\n",
      "/media/nkd/data18931/ndwi_int8_13001_18931/ndwi_int8_18642.tif\n",
      "the size of current NDWI_img 11355 11356\n"
     ]
    },
    {
     "name": "stderr",
     "output_type": "stream",
     "text": [
      "900it [01:12, 12.43it/s]\n"
     ]
    },
    {
     "name": "stdout",
     "output_type": "stream",
     "text": [
      "Converting prediction from <class 'numpy.float32'> to uint8, using threshold of 0.5\n",
      "File already analysed! /media/nkd/data18931/ndwi_int8_13001_18931/ndwi_int8_18642.tif\n",
      "/media/nkd/data18931/ndwi_int8_13001_18931/ndwi_int8_18643.tif\n",
      "the size of current NDWI_img 11355 11356\n"
     ]
    },
    {
     "name": "stderr",
     "output_type": "stream",
     "text": [
      "900it [01:00, 14.90it/s]\n"
     ]
    },
    {
     "name": "stdout",
     "output_type": "stream",
     "text": [
      "Converting prediction from <class 'numpy.float32'> to uint8, using threshold of 0.5\n",
      "File already analysed! /media/nkd/data18931/ndwi_int8_13001_18931/ndwi_int8_18643.tif\n",
      "/media/nkd/data18931/ndwi_int8_13001_18931/ndwi_int8_18644.tif\n",
      "the size of current NDWI_img 11355 11356\n"
     ]
    },
    {
     "name": "stderr",
     "output_type": "stream",
     "text": [
      "900it [01:04, 14.05it/s]\n"
     ]
    },
    {
     "name": "stdout",
     "output_type": "stream",
     "text": [
      "Converting prediction from <class 'numpy.float32'> to uint8, using threshold of 0.5\n",
      "File already analysed! /media/nkd/data18931/ndwi_int8_13001_18931/ndwi_int8_18644.tif\n",
      "/media/nkd/data18931/ndwi_int8_13001_18931/ndwi_int8_18645.tif\n",
      "the size of current NDWI_img 11355 11356\n"
     ]
    },
    {
     "name": "stderr",
     "output_type": "stream",
     "text": [
      "900it [00:59, 15.11it/s]\n"
     ]
    },
    {
     "name": "stdout",
     "output_type": "stream",
     "text": [
      "Converting prediction from <class 'numpy.float32'> to uint8, using threshold of 0.5\n",
      "File already analysed! /media/nkd/data18931/ndwi_int8_13001_18931/ndwi_int8_18645.tif\n",
      "/media/nkd/data18931/ndwi_int8_13001_18931/ndwi_int8_18646.tif\n",
      "the size of current NDWI_img 11356 11356\n"
     ]
    },
    {
     "name": "stderr",
     "output_type": "stream",
     "text": [
      "900it [00:55, 16.15it/s]\n"
     ]
    },
    {
     "name": "stdout",
     "output_type": "stream",
     "text": [
      "Converting prediction from <class 'numpy.float32'> to uint8, using threshold of 0.5\n",
      "File already analysed! /media/nkd/data18931/ndwi_int8_13001_18931/ndwi_int8_18646.tif\n",
      "/media/nkd/data18931/ndwi_int8_13001_18931/ndwi_int8_18647.tif\n",
      "the size of current NDWI_img 11356 11356\n"
     ]
    },
    {
     "name": "stderr",
     "output_type": "stream",
     "text": [
      "900it [00:52, 17.05it/s]\n"
     ]
    },
    {
     "name": "stdout",
     "output_type": "stream",
     "text": [
      "Converting prediction from <class 'numpy.float32'> to uint8, using threshold of 0.5\n",
      "File already analysed! /media/nkd/data18931/ndwi_int8_13001_18931/ndwi_int8_18647.tif\n",
      "/media/nkd/data18931/ndwi_int8_13001_18931/ndwi_int8_18648.tif\n",
      "the size of current NDWI_img 11356 11356\n"
     ]
    },
    {
     "name": "stderr",
     "output_type": "stream",
     "text": [
      "900it [00:52, 17.02it/s]\n"
     ]
    },
    {
     "name": "stdout",
     "output_type": "stream",
     "text": [
      "Converting prediction from <class 'numpy.float32'> to uint8, using threshold of 0.5\n",
      "File already analysed! /media/nkd/data18931/ndwi_int8_13001_18931/ndwi_int8_18648.tif\n",
      "/media/nkd/data18931/ndwi_int8_13001_18931/ndwi_int8_18649.tif\n",
      "the size of current NDWI_img 11356 11356\n"
     ]
    },
    {
     "name": "stderr",
     "output_type": "stream",
     "text": [
      "900it [00:48, 18.66it/s]\n"
     ]
    },
    {
     "name": "stdout",
     "output_type": "stream",
     "text": [
      "Converting prediction from <class 'numpy.float32'> to uint8, using threshold of 0.5\n",
      "File already analysed! /media/nkd/data18931/ndwi_int8_13001_18931/ndwi_int8_18649.tif\n",
      "/media/nkd/data18931/ndwi_int8_13001_18931/ndwi_int8_18650.tif\n",
      "the size of current NDWI_img 11356 11356\n"
     ]
    },
    {
     "name": "stderr",
     "output_type": "stream",
     "text": [
      "900it [00:44, 20.17it/s]\n"
     ]
    },
    {
     "name": "stdout",
     "output_type": "stream",
     "text": [
      "Converting prediction from <class 'numpy.float32'> to uint8, using threshold of 0.5\n",
      "File already analysed! /media/nkd/data18931/ndwi_int8_13001_18931/ndwi_int8_18650.tif\n",
      "/media/nkd/data18931/ndwi_int8_13001_18931/ndwi_int8_18651.tif\n",
      "the size of current NDWI_img 11355 11356\n"
     ]
    },
    {
     "name": "stderr",
     "output_type": "stream",
     "text": [
      "900it [01:16, 11.75it/s]\n"
     ]
    },
    {
     "name": "stdout",
     "output_type": "stream",
     "text": [
      "Converting prediction from <class 'numpy.float32'> to uint8, using threshold of 0.5\n",
      "File already analysed! /media/nkd/data18931/ndwi_int8_13001_18931/ndwi_int8_18651.tif\n",
      "/media/nkd/data18931/ndwi_int8_13001_18931/ndwi_int8_18652.tif\n",
      "the size of current NDWI_img 11355 11356\n"
     ]
    },
    {
     "name": "stderr",
     "output_type": "stream",
     "text": [
      "900it [01:14, 12.02it/s]\n"
     ]
    },
    {
     "name": "stdout",
     "output_type": "stream",
     "text": [
      "Converting prediction from <class 'numpy.float32'> to uint8, using threshold of 0.5\n",
      "File already analysed! /media/nkd/data18931/ndwi_int8_13001_18931/ndwi_int8_18652.tif\n",
      "/media/nkd/data18931/ndwi_int8_13001_18931/ndwi_int8_18653.tif\n",
      "the size of current NDWI_img 11355 11356\n"
     ]
    },
    {
     "name": "stderr",
     "output_type": "stream",
     "text": [
      "900it [01:18, 11.45it/s]\n"
     ]
    },
    {
     "name": "stdout",
     "output_type": "stream",
     "text": [
      "Converting prediction from <class 'numpy.float32'> to uint8, using threshold of 0.5\n",
      "File already analysed! /media/nkd/data18931/ndwi_int8_13001_18931/ndwi_int8_18653.tif\n",
      "/media/nkd/data18931/ndwi_int8_13001_18931/ndwi_int8_18654.tif\n",
      "the size of current NDWI_img 11355 11356\n"
     ]
    },
    {
     "name": "stderr",
     "output_type": "stream",
     "text": [
      "900it [01:13, 12.19it/s]\n"
     ]
    },
    {
     "name": "stdout",
     "output_type": "stream",
     "text": [
      "Converting prediction from <class 'numpy.float32'> to uint8, using threshold of 0.5\n",
      "File already analysed! /media/nkd/data18931/ndwi_int8_13001_18931/ndwi_int8_18654.tif\n",
      "/media/nkd/data18931/ndwi_int8_13001_18931/ndwi_int8_18655.tif\n",
      "the size of current NDWI_img 11355 11356\n"
     ]
    },
    {
     "name": "stderr",
     "output_type": "stream",
     "text": [
      "900it [01:07, 13.41it/s]\n"
     ]
    },
    {
     "name": "stdout",
     "output_type": "stream",
     "text": [
      "Converting prediction from <class 'numpy.float32'> to uint8, using threshold of 0.5\n",
      "File already analysed! /media/nkd/data18931/ndwi_int8_13001_18931/ndwi_int8_18655.tif\n",
      "/media/nkd/data18931/ndwi_int8_13001_18931/ndwi_int8_18656.tif\n",
      "the size of current NDWI_img 11356 11356\n"
     ]
    },
    {
     "name": "stderr",
     "output_type": "stream",
     "text": [
      "900it [00:57, 15.78it/s]\n"
     ]
    },
    {
     "name": "stdout",
     "output_type": "stream",
     "text": [
      "Converting prediction from <class 'numpy.float32'> to uint8, using threshold of 0.5\n",
      "File already analysed! /media/nkd/data18931/ndwi_int8_13001_18931/ndwi_int8_18656.tif\n",
      "/media/nkd/data18931/ndwi_int8_13001_18931/ndwi_int8_18657.tif\n",
      "the size of current NDWI_img 11356 11356\n"
     ]
    },
    {
     "name": "stderr",
     "output_type": "stream",
     "text": [
      "900it [00:47, 18.87it/s]\n"
     ]
    },
    {
     "name": "stdout",
     "output_type": "stream",
     "text": [
      "Converting prediction from <class 'numpy.float32'> to uint8, using threshold of 0.5\n",
      "File already analysed! /media/nkd/data18931/ndwi_int8_13001_18931/ndwi_int8_18657.tif\n",
      "/media/nkd/data18931/ndwi_int8_13001_18931/ndwi_int8_18658.tif\n",
      "the size of current NDWI_img 11356 11356\n"
     ]
    },
    {
     "name": "stderr",
     "output_type": "stream",
     "text": [
      "900it [00:59, 15.09it/s]\n"
     ]
    },
    {
     "name": "stdout",
     "output_type": "stream",
     "text": [
      "Converting prediction from <class 'numpy.float32'> to uint8, using threshold of 0.5\n",
      "File already analysed! /media/nkd/data18931/ndwi_int8_13001_18931/ndwi_int8_18658.tif\n",
      "/media/nkd/data18931/ndwi_int8_13001_18931/ndwi_int8_18659.tif\n",
      "the size of current NDWI_img 11356 11356\n"
     ]
    },
    {
     "name": "stderr",
     "output_type": "stream",
     "text": [
      "900it [01:07, 13.26it/s]\n"
     ]
    },
    {
     "name": "stdout",
     "output_type": "stream",
     "text": [
      "Converting prediction from <class 'numpy.float32'> to uint8, using threshold of 0.5\n",
      "File already analysed! /media/nkd/data18931/ndwi_int8_13001_18931/ndwi_int8_18659.tif\n",
      "/media/nkd/data18931/ndwi_int8_13001_18931/ndwi_int8_18660.tif\n",
      "the size of current NDWI_img 11356 11356\n"
     ]
    },
    {
     "name": "stderr",
     "output_type": "stream",
     "text": [
      "900it [01:06, 13.62it/s]\n"
     ]
    },
    {
     "name": "stdout",
     "output_type": "stream",
     "text": [
      "Converting prediction from <class 'numpy.float32'> to uint8, using threshold of 0.5\n",
      "File already analysed! /media/nkd/data18931/ndwi_int8_13001_18931/ndwi_int8_18660.tif\n",
      "/media/nkd/data18931/ndwi_int8_13001_18931/ndwi_int8_18661.tif\n",
      "the size of current NDWI_img 11355 11355\n"
     ]
    },
    {
     "name": "stderr",
     "output_type": "stream",
     "text": [
      "900it [01:11, 12.59it/s]\n"
     ]
    },
    {
     "name": "stdout",
     "output_type": "stream",
     "text": [
      "Converting prediction from <class 'numpy.float32'> to uint8, using threshold of 0.5\n",
      "File already analysed! /media/nkd/data18931/ndwi_int8_13001_18931/ndwi_int8_18661.tif\n",
      "/media/nkd/data18931/ndwi_int8_13001_18931/ndwi_int8_18662.tif\n",
      "the size of current NDWI_img 11355 11355\n"
     ]
    },
    {
     "name": "stderr",
     "output_type": "stream",
     "text": [
      "900it [01:16, 11.76it/s]\n"
     ]
    },
    {
     "name": "stdout",
     "output_type": "stream",
     "text": [
      "Converting prediction from <class 'numpy.float32'> to uint8, using threshold of 0.5\n",
      "File already analysed! /media/nkd/data18931/ndwi_int8_13001_18931/ndwi_int8_18662.tif\n",
      "/media/nkd/data18931/ndwi_int8_13001_18931/ndwi_int8_18663.tif\n",
      "the size of current NDWI_img 11355 11355\n"
     ]
    },
    {
     "name": "stderr",
     "output_type": "stream",
     "text": [
      "900it [01:17, 11.55it/s]\n"
     ]
    },
    {
     "name": "stdout",
     "output_type": "stream",
     "text": [
      "Converting prediction from <class 'numpy.float32'> to uint8, using threshold of 0.5\n",
      "File already analysed! /media/nkd/data18931/ndwi_int8_13001_18931/ndwi_int8_18663.tif\n",
      "/media/nkd/data18931/ndwi_int8_13001_18931/ndwi_int8_18664.tif\n",
      "the size of current NDWI_img 11355 11355\n"
     ]
    },
    {
     "name": "stderr",
     "output_type": "stream",
     "text": [
      "900it [01:15, 11.86it/s]\n"
     ]
    },
    {
     "name": "stdout",
     "output_type": "stream",
     "text": [
      "Converting prediction from <class 'numpy.float32'> to uint8, using threshold of 0.5\n",
      "File already analysed! /media/nkd/data18931/ndwi_int8_13001_18931/ndwi_int8_18664.tif\n",
      "/media/nkd/data18931/ndwi_int8_13001_18931/ndwi_int8_18665.tif\n",
      "the size of current NDWI_img 11355 11355\n"
     ]
    },
    {
     "name": "stderr",
     "output_type": "stream",
     "text": [
      "900it [01:18, 11.45it/s]\n"
     ]
    },
    {
     "name": "stdout",
     "output_type": "stream",
     "text": [
      "Converting prediction from <class 'numpy.float32'> to uint8, using threshold of 0.5\n",
      "File already analysed! /media/nkd/data18931/ndwi_int8_13001_18931/ndwi_int8_18665.tif\n",
      "/media/nkd/data18931/ndwi_int8_13001_18931/ndwi_int8_18666.tif\n",
      "the size of current NDWI_img 11356 11355\n"
     ]
    },
    {
     "name": "stderr",
     "output_type": "stream",
     "text": [
      "900it [01:16, 11.80it/s]\n"
     ]
    },
    {
     "name": "stdout",
     "output_type": "stream",
     "text": [
      "Converting prediction from <class 'numpy.float32'> to uint8, using threshold of 0.5\n",
      "File already analysed! /media/nkd/data18931/ndwi_int8_13001_18931/ndwi_int8_18666.tif\n",
      "/media/nkd/data18931/ndwi_int8_13001_18931/ndwi_int8_18667.tif\n",
      "the size of current NDWI_img 11356 11355\n"
     ]
    },
    {
     "name": "stderr",
     "output_type": "stream",
     "text": [
      "900it [01:13, 12.20it/s]\n"
     ]
    },
    {
     "name": "stdout",
     "output_type": "stream",
     "text": [
      "Converting prediction from <class 'numpy.float32'> to uint8, using threshold of 0.5\n",
      "File already analysed! /media/nkd/data18931/ndwi_int8_13001_18931/ndwi_int8_18667.tif\n",
      "/media/nkd/data18931/ndwi_int8_13001_18931/ndwi_int8_18668.tif\n",
      "the size of current NDWI_img 11356 11355\n"
     ]
    },
    {
     "name": "stderr",
     "output_type": "stream",
     "text": [
      "900it [01:07, 13.31it/s]\n"
     ]
    },
    {
     "name": "stdout",
     "output_type": "stream",
     "text": [
      "Converting prediction from <class 'numpy.float32'> to uint8, using threshold of 0.5\n",
      "File already analysed! /media/nkd/data18931/ndwi_int8_13001_18931/ndwi_int8_18668.tif\n",
      "/media/nkd/data18931/ndwi_int8_13001_18931/ndwi_int8_18669.tif\n",
      "the size of current NDWI_img 11356 11355\n"
     ]
    },
    {
     "name": "stderr",
     "output_type": "stream",
     "text": [
      "900it [01:05, 13.79it/s]\n"
     ]
    },
    {
     "name": "stdout",
     "output_type": "stream",
     "text": [
      "Converting prediction from <class 'numpy.float32'> to uint8, using threshold of 0.5\n",
      "File already analysed! /media/nkd/data18931/ndwi_int8_13001_18931/ndwi_int8_18669.tif\n",
      "/media/nkd/data18931/ndwi_int8_13001_18931/ndwi_int8_18670.tif\n",
      "the size of current NDWI_img 11356 11355\n"
     ]
    },
    {
     "name": "stderr",
     "output_type": "stream",
     "text": [
      "900it [01:09, 12.93it/s]\n"
     ]
    },
    {
     "name": "stdout",
     "output_type": "stream",
     "text": [
      "Converting prediction from <class 'numpy.float32'> to uint8, using threshold of 0.5\n",
      "File already analysed! /media/nkd/data18931/ndwi_int8_13001_18931/ndwi_int8_18670.tif\n",
      "/media/nkd/data18931/ndwi_int8_13001_18931/ndwi_int8_18671.tif\n",
      "the size of current NDWI_img 11355 11355\n"
     ]
    },
    {
     "name": "stderr",
     "output_type": "stream",
     "text": [
      "900it [01:07, 13.38it/s]\n"
     ]
    },
    {
     "name": "stdout",
     "output_type": "stream",
     "text": [
      "Converting prediction from <class 'numpy.float32'> to uint8, using threshold of 0.5\n",
      "File already analysed! /media/nkd/data18931/ndwi_int8_13001_18931/ndwi_int8_18671.tif\n",
      "/media/nkd/data18931/ndwi_int8_13001_18931/ndwi_int8_18672.tif\n",
      "the size of current NDWI_img 11355 11355\n"
     ]
    },
    {
     "name": "stderr",
     "output_type": "stream",
     "text": [
      "900it [01:09, 12.96it/s]\n"
     ]
    },
    {
     "name": "stdout",
     "output_type": "stream",
     "text": [
      "Converting prediction from <class 'numpy.float32'> to uint8, using threshold of 0.5\n",
      "File already analysed! /media/nkd/data18931/ndwi_int8_13001_18931/ndwi_int8_18672.tif\n",
      "/media/nkd/data18931/ndwi_int8_13001_18931/ndwi_int8_18673.tif\n",
      "the size of current NDWI_img 11355 11355\n"
     ]
    },
    {
     "name": "stderr",
     "output_type": "stream",
     "text": [
      "900it [01:09, 13.02it/s]\n"
     ]
    },
    {
     "name": "stdout",
     "output_type": "stream",
     "text": [
      "Converting prediction from <class 'numpy.float32'> to uint8, using threshold of 0.5\n",
      "File already analysed! /media/nkd/data18931/ndwi_int8_13001_18931/ndwi_int8_18673.tif\n",
      "/media/nkd/data18931/ndwi_int8_13001_18931/ndwi_int8_18674.tif\n",
      "the size of current NDWI_img 11355 11355\n"
     ]
    },
    {
     "name": "stderr",
     "output_type": "stream",
     "text": [
      "900it [01:06, 13.61it/s]\n"
     ]
    },
    {
     "name": "stdout",
     "output_type": "stream",
     "text": [
      "Converting prediction from <class 'numpy.float32'> to uint8, using threshold of 0.5\n",
      "File already analysed! /media/nkd/data18931/ndwi_int8_13001_18931/ndwi_int8_18674.tif\n",
      "/media/nkd/data18931/ndwi_int8_13001_18931/ndwi_int8_18675.tif\n",
      "the size of current NDWI_img 11355 11355\n"
     ]
    },
    {
     "name": "stderr",
     "output_type": "stream",
     "text": [
      "900it [01:08, 13.05it/s]\n"
     ]
    },
    {
     "name": "stdout",
     "output_type": "stream",
     "text": [
      "Converting prediction from <class 'numpy.float32'> to uint8, using threshold of 0.5\n",
      "File already analysed! /media/nkd/data18931/ndwi_int8_13001_18931/ndwi_int8_18675.tif\n",
      "/media/nkd/data18931/ndwi_int8_13001_18931/ndwi_int8_18676.tif\n",
      "the size of current NDWI_img 11356 11355\n"
     ]
    },
    {
     "name": "stderr",
     "output_type": "stream",
     "text": [
      "900it [01:14, 12.15it/s]\n"
     ]
    },
    {
     "name": "stdout",
     "output_type": "stream",
     "text": [
      "Converting prediction from <class 'numpy.float32'> to uint8, using threshold of 0.5\n",
      "File already analysed! /media/nkd/data18931/ndwi_int8_13001_18931/ndwi_int8_18676.tif\n",
      "/media/nkd/data18931/ndwi_int8_13001_18931/ndwi_int8_18677.tif\n",
      "the size of current NDWI_img 11356 11355\n"
     ]
    },
    {
     "name": "stderr",
     "output_type": "stream",
     "text": [
      "900it [01:14, 12.08it/s]\n"
     ]
    },
    {
     "name": "stdout",
     "output_type": "stream",
     "text": [
      "Converting prediction from <class 'numpy.float32'> to uint8, using threshold of 0.5\n",
      "File already analysed! /media/nkd/data18931/ndwi_int8_13001_18931/ndwi_int8_18677.tif\n",
      "/media/nkd/data18931/ndwi_int8_13001_18931/ndwi_int8_18678.tif\n",
      "the size of current NDWI_img 11356 11355\n"
     ]
    },
    {
     "name": "stderr",
     "output_type": "stream",
     "text": [
      "900it [01:18, 11.46it/s]\n"
     ]
    },
    {
     "name": "stdout",
     "output_type": "stream",
     "text": [
      "Converting prediction from <class 'numpy.float32'> to uint8, using threshold of 0.5\n",
      "File already analysed! /media/nkd/data18931/ndwi_int8_13001_18931/ndwi_int8_18678.tif\n",
      "/media/nkd/data18931/ndwi_int8_13001_18931/ndwi_int8_18679.tif\n",
      "the size of current NDWI_img 11356 11355\n"
     ]
    },
    {
     "name": "stderr",
     "output_type": "stream",
     "text": [
      "900it [01:16, 11.81it/s]\n"
     ]
    },
    {
     "name": "stdout",
     "output_type": "stream",
     "text": [
      "Converting prediction from <class 'numpy.float32'> to uint8, using threshold of 0.5\n",
      "File already analysed! /media/nkd/data18931/ndwi_int8_13001_18931/ndwi_int8_18679.tif\n",
      "/media/nkd/data18931/ndwi_int8_13001_18931/ndwi_int8_18680.tif\n",
      "the size of current NDWI_img 11356 11355\n"
     ]
    },
    {
     "name": "stderr",
     "output_type": "stream",
     "text": [
      "900it [01:17, 11.67it/s]\n"
     ]
    },
    {
     "name": "stdout",
     "output_type": "stream",
     "text": [
      "Converting prediction from <class 'numpy.float32'> to uint8, using threshold of 0.5\n",
      "File already analysed! /media/nkd/data18931/ndwi_int8_13001_18931/ndwi_int8_18680.tif\n",
      "/media/nkd/data18931/ndwi_int8_13001_18931/ndwi_int8_18681.tif\n",
      "the size of current NDWI_img 11355 11355\n"
     ]
    },
    {
     "name": "stderr",
     "output_type": "stream",
     "text": [
      "900it [01:04, 13.96it/s]\n"
     ]
    },
    {
     "name": "stdout",
     "output_type": "stream",
     "text": [
      "Converting prediction from <class 'numpy.float32'> to uint8, using threshold of 0.5\n",
      "File already analysed! /media/nkd/data18931/ndwi_int8_13001_18931/ndwi_int8_18681.tif\n",
      "/media/nkd/data18931/ndwi_int8_13001_18931/ndwi_int8_18682.tif\n",
      "the size of current NDWI_img 11355 11355\n"
     ]
    },
    {
     "name": "stderr",
     "output_type": "stream",
     "text": [
      "868it [01:04, 12.69it/s]"
     ]
    }
   ],
   "source": [
    "# input_image_dir=r'/media/nkd/data7000/ndwi_int8_7000'\n",
    "input_image_dir=r'/media/nkd/data18931/ndwi_int8_13001_18931'\n",
    "operator='max'\n",
    "suffix='_iew{}'.format(config.ignore_edge_width)\n",
    "for start in np.arange(17001,18002,1000):\n",
    "    \n",
    "# start=11001\n",
    "    end=start+1000\n",
    "    for index in range(start,end):\n",
    "        out_dir=os.path.join(config.output_dir,f'{start}_{end-1}')\n",
    "        if not os.path.exists(out_dir):\n",
    "            os.makedirs(out_dir)\n",
    "        filename=f'{config.ndwi_fn_st}_{index}{config.input_image_type}'\n",
    "        fullPath=os.path.join(input_image_dir,filename)\n",
    "        outputFile = os.path.join(out_dir, f'{config.output_prefix}{index}{suffix}{config.input_image_type}')\n",
    "        if not os.path.isfile(outputFile) or config.overwrite_analysed_files: \n",
    "            with rasterio.open(fullPath) as NDWI:\n",
    "                with rasterio.open(fullPath.replace(config.ndwi_fn_st,config.bands_fn_st)) as bands:\n",
    "                    print(fullPath)\n",
    "                    detectedMask, detectedMeta = detect_lake(fullPath,NDWI,bands,operator,width = config.WIDTH, height = config.HEIGHT, stride = config.STRIDE,ie_width=config.ignore_edge_width,bandNum=config.band_num)\n",
    "                    writeMaskToDisk(detectedMask, detectedMeta, outputFile, write_as_type = config.output_dtype, th = 0.5, create_countors = False)            \n",
    "            print('File already analysed!', fullPath)\n",
    "        \n",
    "print('finish')"
   ]
  },
  {
   "cell_type": "code",
   "execution_count": null,
   "metadata": {},
   "outputs": [],
   "source": [
    "# def detect_lake(fullPath, image, operator ,width=512, height=512, stride = 256,ie_width=0,bandNum=1):\n",
    "#     nols, nrows = image.meta['width'], image.meta['height']\n",
    "#     meta = image.meta.copy() \n",
    "#     if 'float' not in meta['dtype']: #The prediction is a float so we keep it as float to be consistent with the prediction. \n",
    "#         meta['dtype'] = np.float32\n",
    "#     meta['nodata']=None\n",
    "#     col_index=list(range(0, nols-width, stride))\n",
    "#     col_index.append(nols-width)\n",
    "#     row_index=list(range(0, nrows-height, stride))\n",
    "#     row_index.append(nrows-height)\n",
    "#     offsets = product(col_index,row_index)\n",
    "#     big_window = windows.Window(col_off=0, row_off=0, width=nols, height=nrows)\n",
    "#     print('the size of current image',nrows, nols) \n",
    "\n",
    "#     mask = np.zeros((nrows, nols), dtype=meta['dtype'])\n",
    "\n",
    "# #     mask = mask -1   # Note: The initial mask is initialized with -1 instead of zero   to handle the MIN case (see addToResult)\n",
    "#     batch = []\n",
    "#     batch_pos = [ ]\n",
    "#     for col_off, row_off in  tqdm(offsets):\n",
    "#         window =windows.Window(col_off=col_off, row_off=row_off, width=width, height=height).intersection(big_window)\n",
    "#         transform = windows.transform(window, image.transform) \n",
    "# #         hbh:notice datatype is float\n",
    "#         patch = np.full((height, width, bandNum),-1.0)#Add -1 padding in case of corner images\n",
    "#         read_image=image.read(window=window)\n",
    "#         temp_im = read_image/1000\n",
    "#         temp_im =  np.transpose(temp_im, axes=(1,2,0))\n",
    "\n",
    "#         patch[:window.height, :window.width] = temp_im   \n",
    "#         batch.append(patch)\n",
    "#         batch_pos.append((window.col_off, window.row_off, window.width, window.height))\n",
    "        \n",
    "#         if (len(batch) == config.BATCH_SIZE):\n",
    "#             mask = predict_using_model(model, batch, batch_pos, mask,operator,ie_width)\n",
    "#             batch = []\n",
    "#             batch_pos = []\n",
    "            \n",
    "#     # To handle the edge of images as the image size may not be divisible by n complete batches and few frames on the edge may be left.\n",
    "#     if batch:\n",
    "#         mask = predict_using_model(model, batch, batch_pos, mask,operator,ie_width)\n",
    "#         batch = []\n",
    "#         batch_pos = []\n",
    "\n",
    "#     return(mask, meta)"
   ]
  },
  {
   "cell_type": "code",
   "execution_count": null,
   "metadata": {
    "scrolled": true
   },
   "outputs": [],
   "source": [
    "# # Predict trees in the all the files in the input image dir \n",
    "# # Depending upon the available RAM, images may not to be split before running this cell.\n",
    "# # Use the Auxiliary-2-SplitRasterToAnalyse if the images are too big to be analysed in memory.\n",
    "# all_files = []\n",
    "# for root, dirs, files in os.walk(r'/home/nkd/hbh/patchesReshape/test'):\n",
    "# # for root, dirs, files in os.walk(r'/media/nkd/backup/sample750_pad/tif'):\n",
    "#     for file in files:\n",
    "#         # if file.endswith(config.input_image_type)and file.startswith('sample'):\n",
    "#         if file.endswith(config.input_image_type)and file.startswith('image'):\n",
    "#              all_files.append((os.path.join(root, file), file))\n",
    "# print(all_files)\n",
    "\n",
    "# operator='max'\n",
    "# suffix='_iew{}'.format(config.ignore_edge_width)\n",
    "# output_dir='/media/nkd/backup/lakemapping/evaluate/model0129/iew{}/tif'.format(config.ignore_edge_width)\n",
    "# if not os.path.exists(output_dir):\n",
    "#     os.makedirs(output_dir)\n",
    "# for fullPath, filename in all_files:\n",
    "#     outputFile = os.path.join(output_dir, filename.replace('image', config.output_prefix + operator + suffix) )\n",
    "#     if not os.path.isfile(outputFile) or config.overwrite_analysed_files: \n",
    "#         with rasterio.open(fullPath) as image:\n",
    "#             print(fullPath)\n",
    "#             detectedMask, detectedMeta = detect_lake(fullPath,image,operator,width = config.WIDTH, height = config.HEIGHT, stride = config.STRIDE,ie_width=config.ignore_edge_width,bandNum=config.band_num)\n",
    "#             writeMaskToDisk(detectedMask, detectedMeta, outputFile, write_as_type = config.output_dtype, th = 0.5, create_countors = False)            \n",
    "# #             vecter_path =outputFile.replace('tif','shp')\n",
    "# #             field_name = \"class\"\n",
    "# # #            第0类删除,若实际情况不需要1类和2类,则ignore_values = [1,2]\n",
    "# #             ignore_values = [0]\n",
    "# #             raster2vector(outputFile, vecter_path, field_name=field_name, ignore_values = ignore_values)#, ignore_values = ignore_values\n",
    "#     else:\n",
    "#         print('File already analysed!', fullPath)\n",
    "        \n",
    "# print('finish')"
   ]
  },
  {
   "cell_type": "code",
   "execution_count": null,
   "metadata": {},
   "outputs": [],
   "source": [
    "# outputFile=r'/media/nkd/backup/5_lakemapping/iew100/predition_b5_max_iew50_4976.tif'\n",
    "# vecter_path =outputFile.replace('tif','shp')\n",
    "# field_name = \"class\"\n",
    "# #            第0类删除,若实际情况不需要1类和2类,则ignore_values = [1,2]\n",
    "# ignore_values = [0]\n",
    "# raster2vector(outputFile, vecter_path, field_name=field_name, ignore_values = ignore_values)#, ignore_values = ignore_values"
   ]
  },
  {
   "cell_type": "code",
   "execution_count": null,
   "metadata": {},
   "outputs": [],
   "source": []
  },
  {
   "cell_type": "code",
   "execution_count": null,
   "metadata": {},
   "outputs": [],
   "source": []
  }
 ],
 "metadata": {
  "kernelspec": {
   "display_name": "hbh_env",
   "language": "python",
   "name": "hbh_env"
  },
  "language_info": {
   "codemirror_mode": {
    "name": "ipython",
    "version": 3
   },
   "file_extension": ".py",
   "mimetype": "text/x-python",
   "name": "python",
   "nbconvert_exporter": "python",
   "pygments_lexer": "ipython3",
   "version": "3.8.13"
  }
 },
 "nbformat": 4,
 "nbformat_minor": 4
}
