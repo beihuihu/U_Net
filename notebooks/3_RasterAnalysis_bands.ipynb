{
 "cells": [
  {
   "cell_type": "code",
   "execution_count": 1,
   "metadata": {},
   "outputs": [
    {
     "name": "stdout",
     "output_type": "stream",
     "text": [
      "2.5.0-rc3\n"
     ]
    }
   ],
   "source": [
    "from tensorflow.keras.models import load_model\n",
    "import geopandas as gps\n",
    "import rasterio                  # I/O raster data (netcdf, height, geotiff, ...)\n",
    "import rasterio.warp             # Reproject raster samples\n",
    "from rasterio import windows\n",
    "from rasterio import features\n",
    "import fiona                     # I/O vector data (shape, geojson, ...)\n",
    "import pyproj                    # Change coordinate reference system\n",
    "from osgeo import gdal, ogr, osr\n",
    "import pandas as pd\n",
    "import shapely\n",
    "from shapely.geometry import Point, Polygon\n",
    "from shapely.geometry import mapping, shape\n",
    "import cv2\n",
    "import json\n",
    "import geopandas as gpd\n",
    "import numpy as np               # numerical array manipulation\n",
    "import pandas as pd\n",
    "import os\n",
    "from tqdm import tqdm\n",
    "from PIL import Image\n",
    "import PIL.ImageDraw\n",
    "\n",
    "from itertools import product\n",
    "\n",
    "import sys\n",
    "from core.UNet import UNet\n",
    "from core.losses import tversky, focalTversky, bce_dice_loss, accuracy, dice_loss, IoU, recall, precision\n",
    "from core.optimizers import adaDelta, adagrad, adam, nadam\n",
    "from core.visualize import display_images\n",
    "\n",
    "import matplotlib.pyplot as plt  # plotting tools\n",
    "%matplotlib inline\n",
    "import warnings                  # ignore annoying warnings\n",
    "warnings.filterwarnings(\"ignore\")\n",
    "import logging\n",
    "logger = logging.getLogger()\n",
    "logger.setLevel(logging.CRITICAL)\n",
    "\n",
    "%reload_ext autoreload\n",
    "%autoreload 2\n",
    "from IPython.core.interactiveshell import InteractiveShell\n",
    "InteractiveShell.ast_node_interactivity = \"all\"\n",
    "\n",
    "os.environ['TF_ENABLE_AUTO_MIXED_PRECISION'] = '1'\n",
    "import tensorflow as tf\n",
    "print(tf.__version__)"
   ]
  },
  {
   "cell_type": "code",
   "execution_count": 2,
   "metadata": {},
   "outputs": [],
   "source": [
    "from tensorflow.compat.v1 import ConfigProto\n",
    "from tensorflow.compat.v1 import InteractiveSession\n",
    "\n",
    "config = ConfigProto(\n",
    "    #device_count={\"CPU\": 64},\n",
    "    allow_soft_placement=True, \n",
    "    log_device_placement=False)\n",
    "config.gpu_options.allow_growth = True\n",
    "session = InteractiveSession(config=config)"
   ]
  },
  {
   "cell_type": "code",
   "execution_count": 3,
   "metadata": {},
   "outputs": [
    {
     "name": "stdout",
     "output_type": "stream",
     "text": [
      "self.trained_model_path: D:\\sample250\\U-Net_13\\saved_models\\UNet\\lakes_20230818-2031_AdaDelta_dice_loss_b5_012345_512.h5\n"
     ]
    }
   ],
   "source": [
    "# Required configurations (including the input and output paths) are stored in a separate file (such as config/RasterAnalysis.py)\n",
    "# Please provide required info in the file before continuing with this notebook. \n",
    " \n",
    "from config import RasterAnalysis\n",
    "# In case you are using a different folder name such as configLargeCluster, then you should import from the respective folder \n",
    "# Eg. from configLargeCluster import RasterAnalysis\n",
    "config = RasterAnalysis.Configuration()"
   ]
  },
  {
   "cell_type": "code",
   "execution_count": 4,
   "metadata": {},
   "outputs": [
    {
     "name": "stdout",
     "output_type": "stream",
     "text": [
      "WARNING:tensorflow:From C:\\Users\\ASUS\\AppData\\Local\\Temp\\ipykernel_16800\\2468478624.py:4: enable_mixed_precision_graph_rewrite (from tensorflow.python.training.experimental.mixed_precision) is deprecated and will be removed after 2020-11-30.\n",
      "Instructions for updating:\n",
      "Use tf.keras.mixed_precision. There is a guide at https://www.tensorflow.org/guide/mixed_precision. Alternatively, `tf.compat.v1.mixed_precision.enable_mixed_precision_graph_rewrite` can be used, but this is not recommended for TF2 code.\n",
      "WARNING:tensorflow:You already have existing Sessions that do not use mixed precision. enable_mixed_precision_graph_rewrite() will not affect these Sessions.\n",
      "WARNING:tensorflow:tf.keras.mixed_precision.experimental.LossScaleOptimizer is deprecated. Please use tf.keras.mixed_precision.LossScaleOptimizer instead. For example:\n",
      "  opt = tf.keras.mixed_precision.LossScaleOptimizer(opt)\n"
     ]
    }
   ],
   "source": [
    "# Load a pretrained model \n",
    "OPTIMIZER = adaDelta\n",
    "# OPTIMIZER = adam\n",
    "OPTIMIZER=tf.train.experimental.enable_mixed_precision_graph_rewrite(OPTIMIZER)\n",
    "model = load_model(config.trained_model_path, custom_objects={'dice loss': dice_loss, 'accuracy':accuracy ,'recall':recall, 'precision':precision,'IoU': IoU}, compile=False)\n",
    "model.compile(optimizer=OPTIMIZER, loss=dice_loss, metrics=[dice_loss, accuracy,recall, precision, IoU])"
   ]
  },
  {
   "cell_type": "code",
   "execution_count": 10,
   "metadata": {},
   "outputs": [],
   "source": [
    "# Methods to add results of a patch   to    the total results of a larger area. \n",
    "#The operator could be min (useful if there are too many false positives), max (useful for tackle false negatives)\n",
    "#res:mask [rows,cols] predition=np.squeeze(prediction[i], axis = -1) (col, row, wi, he) = batch_pos[i]\n",
    "def addTOResult(res, prediction, row, col, he, wi,operator,padding):\n",
    "    currValue = res[row:row+he, col:col+wi]\n",
    "    newPredictions = prediction[:he, :wi]\n",
    "# IMPORTANT: MIN can't be used as long as the mask is initialed with 0!!!!! \n",
    "#If you want to use MIN initial the mask with -1 and handle the case of default value(-1) separately.\n",
    "    if operator == 'min': # Takes the min of current prediction and new prediction for each pixel  \n",
    "        currValue [currValue == -1] = 1 #Replace -1 with 1 in case of MIN  \n",
    "        res[row:row+he, col:col+wi] =  np.minimum(currValue, newPredictions)\n",
    "    elif operator == 'max':\n",
    "        res[row:row+he, col:col+wi] = np.maximum(currValue, newPredictions)\n",
    "    elif operator == 'padding':\n",
    "        newPredictions = newPredictions[padding:he-padding, padding:wi-padding]\n",
    "        res[row+padding:row+he-padding, col+padding:col+wi-padding] = newPredictions\n",
    "    else:\n",
    "        res[row:row+he, col:col+wi] = newPredictions  \n",
    "    return (res)"
   ]
  },
  {
   "cell_type": "code",
   "execution_count": 11,
   "metadata": {},
   "outputs": [],
   "source": [
    "# Methods that actually makes the predictions\n",
    "def predict_using_model(model, batch, batch_pos, mask,operator,padding):\n",
    "    tm = np.stack(batch, axis = 0)\n",
    "    prediction = model.predict(tm)\n",
    "    for i in range(len(batch_pos)): \n",
    "        (col, row, wi, he) = batch_pos[i]\n",
    "        p = np.squeeze(prediction[i], axis = -1)\n",
    "        # Instead of replacing the current values with new values, use the user specified operator (MIN,MAX,PADDING)\n",
    "        mask = addTOResult(mask, p, row, col, he, wi,operator,padding)  \n",
    "    return mask\n",
    "    \n",
    "def detect_lake(fullPath, NDWI_img, bands_img, operator = 'max',width=512, height=512, stride = 256,padding=100):\n",
    "    nols, nrows = NDWI_img.meta['width'], NDWI_img.meta['height']\n",
    "    meta = NDWI_img.meta.copy() \n",
    "    if 'float' not in meta['dtype']: #The prediction is a float so we keep it as float to be consistent with the prediction. \n",
    "        meta['dtype'] = np.float32\n",
    "    col_index=list(range(0, nols-width, stride))\n",
    "    col_index.append(nols-width)\n",
    "    row_index=list(range(0, nrows-height, stride))\n",
    "    row_index.append(nrows-height)\n",
    "    offsets = product(col_index,row_index)\n",
    "    big_window = windows.Window(col_off=0, row_off=0, width=nols, height=nrows)\n",
    "    print('the size of current NDWI_img',nrows, nols) \n",
    "\n",
    "    mask = np.zeros((nrows, nols), dtype=meta['dtype'])\n",
    "\n",
    "#     mask = mask -1   # Note: The initial mask is initialized with -1 instead of zero   to handle the MIN case (see addToResult)\n",
    "    batch = []\n",
    "    batch_pos = [ ]\n",
    "    for col_off, row_off in  tqdm(offsets):\n",
    "        window =windows.Window(col_off=col_off, row_off=row_off, width=width, height=height).intersection(big_window)\n",
    "        transform = windows.transform(window, NDWI_img.transform) \n",
    "#         hbh:notice datatype is float\n",
    "        patch = np.full((height, width, 5),-1.0)#Add -1 padding in case of corner images\n",
    "    \n",
    "        read_ndwi_img=NDWI_img.read(window=window)/100\n",
    "        read_bands_img = bands_img.read(window=window)/1000\n",
    "        \n",
    "        temp_im = np.concatenate((read_ndwi_img,read_bands_img))\n",
    "        temp_im =  np.transpose(temp_im, axes=(1,2,0))\n",
    "        \n",
    "        patch[:window.height, :window.width] = temp_im   \n",
    "        batch.append(patch)\n",
    "        batch_pos.append((window.col_off, window.row_off, window.width, window.height))\n",
    "        \n",
    "        if (len(batch) == config.BATCH_SIZE):\n",
    "            mask = predict_using_model(model, batch, batch_pos, mask,operator,padding)\n",
    "            batch = []\n",
    "            batch_pos = []\n",
    "            \n",
    "    # To handle the edge of images as the image size may not be divisible by n complete batches and few frames on the edge may be left.\n",
    "    if batch:\n",
    "        mask = predict_using_model(model, batch, batch_pos, mask,operator,padding)\n",
    "        batch = []\n",
    "        batch_pos = []\n",
    "\n",
    "    return(mask, meta)"
   ]
  },
  {
   "cell_type": "code",
   "execution_count": 12,
   "metadata": {},
   "outputs": [],
   "source": [
    "def raster2vector(raster_path, vecter_path, field_name=\"class\", ignore_values = None):\n",
    "    \n",
    "    # 读取路径中的栅格数据\n",
    "    raster = gdal.Open(raster_path)\n",
    "    # in_band 为想要转为矢量的波段,一般需要进行转矢量的栅格都是单波段分类结果\n",
    "    # 若栅格为多波段,需要提前转换为单波段\n",
    "    band = raster.GetRasterBand(1)\n",
    "    \n",
    "    # 读取栅格的投影信息,为后面生成的矢量赋予相同的投影信息\n",
    "    prj = osr.SpatialReference()\n",
    "    prj.ImportFromWkt(raster.GetProjection())\n",
    "    \n",
    "    \n",
    "    drv = ogr.GetDriverByName(\"ESRI Shapefile\")\n",
    "    # 若文件已经存在,删除\n",
    "    if os.path.exists(vecter_path):\n",
    "        drv.DeleteDataSource(vecter_path)\n",
    "        \n",
    "    # 创建目标文件\n",
    "    polygon = drv.CreateDataSource(vecter_path)\n",
    "    # 创建面图层\n",
    "    poly_layer = polygon.CreateLayer(vecter_path[:-4], srs=prj, geom_type=ogr.wkbMultiPolygon)\n",
    "    # 添加浮点型字段,用来存储栅格的像素值\n",
    "    field = ogr.FieldDefn(field_name, ogr.OFTReal)  \n",
    "    poly_layer.CreateField(field)\n",
    "    \n",
    "    # FPolygonize将每个像元转成一个矩形，然后将相似的像元进行合并\n",
    "    # 设置矢量图层中保存像元值的字段序号为0\n",
    "    gdal.FPolygonize(band, None, poly_layer, 0)\n",
    "    \n",
    "    # 删除ignore_value链表中的类别要素\n",
    "    if ignore_values is not None:\n",
    "        for feature in poly_layer:\n",
    "            class_value = feature.GetField('class')\n",
    "            for ignore_value in ignore_values:\n",
    "                if class_value==ignore_value:\n",
    "                    # 通过FID删除要素\n",
    "                    poly_layer.DeleteFeature(feature.GetFID())\n",
    "                    break\n",
    "                \n",
    "    polygon.SyncToDisk()\n",
    "    polygon = None\n",
    "    print('Vector File Exported Successfully!')\n",
    "\n",
    "def writeMaskToDisk(detected_mask, detected_meta, wp, write_as_type = 'uint8', th = 0.5, create_countors = False):\n",
    "    # Convert to correct required before writing\n",
    "    if 'float' in str(detected_meta['dtype']) and 'int' in write_as_type:\n",
    "        print(f'Converting prediction from {detected_meta[\"dtype\"]} to {write_as_type}, using threshold of {th}')#float32 to uint8\n",
    "#         initial code have problem of big lake\n",
    "        detected_mask[detected_mask<th]=0\n",
    "        detected_mask[detected_mask>=th]=1\n",
    "        detected_mask = detected_mask.astype(write_as_type)#'uint8'\n",
    "        detected_meta['dtype'] =  write_as_type\n",
    "    \n",
    "    # compress tif\n",
    "    detected_meta.update({\"compress\": 'lzw'})\n",
    "    \n",
    "    with rasterio.open(wp, 'w', **detected_meta) as outds:\n",
    "        outds.write(detected_mask, 1)"
   ]
  },
  {
   "cell_type": "code",
   "execution_count": 13,
   "metadata": {
    "scrolled": true
   },
   "outputs": [
    {
     "name": "stderr",
     "output_type": "stream",
     "text": [
      "6it [00:00, 57.67it/s]"
     ]
    },
    {
     "name": "stdout",
     "output_type": "stream",
     "text": [
      "[('D:\\\\sample250\\\\test_img\\\\ndwi_int8_65.tif', 'ndwi_int8_65.tif'), ('D:\\\\sample250\\\\test_img\\\\ndwi_int8_43.tif', 'ndwi_int8_43.tif'), ('D:\\\\sample250\\\\test_img\\\\ndwi_int8_56.tif', 'ndwi_int8_56.tif')]\n",
      "D:\\sample250\\test_img\\ndwi_int8_65.tif\n",
      "the size of current NDWI_img 11355 11356\n"
     ]
    },
    {
     "name": "stderr",
     "output_type": "stream",
     "text": [
      "1936it [04:50,  6.67it/s]\n"
     ]
    },
    {
     "name": "stdout",
     "output_type": "stream",
     "text": [
      "Converting prediction from <class 'numpy.float32'> to uint8, using threshold of 0.5\n",
      "Vector File Exported Successfully!\n"
     ]
    },
    {
     "name": "stderr",
     "output_type": "stream",
     "text": [
      "6it [00:00, 59.39it/s]"
     ]
    },
    {
     "name": "stdout",
     "output_type": "stream",
     "text": [
      "D:\\sample250\\test_img\\ndwi_int8_43.tif\n",
      "the size of current NDWI_img 11356 11356\n"
     ]
    },
    {
     "name": "stderr",
     "output_type": "stream",
     "text": [
      "1936it [04:41,  6.87it/s]\n"
     ]
    },
    {
     "name": "stdout",
     "output_type": "stream",
     "text": [
      "Converting prediction from <class 'numpy.float32'> to uint8, using threshold of 0.5\n",
      "Vector File Exported Successfully!\n"
     ]
    },
    {
     "name": "stderr",
     "output_type": "stream",
     "text": [
      "6it [00:00, 55.25it/s]"
     ]
    },
    {
     "name": "stdout",
     "output_type": "stream",
     "text": [
      "D:\\sample250\\test_img\\ndwi_int8_56.tif\n",
      "the size of current NDWI_img 11355 11356\n"
     ]
    },
    {
     "name": "stderr",
     "output_type": "stream",
     "text": [
      "1936it [04:47,  6.75it/s]\n"
     ]
    },
    {
     "name": "stdout",
     "output_type": "stream",
     "text": [
      "Converting prediction from <class 'numpy.float32'> to uint8, using threshold of 0.5\n",
      "Vector File Exported Successfully!\n",
      "finish\n"
     ]
    }
   ],
   "source": [
    "# Predict trees in the all the files in the input image dir \n",
    "# Depending upon the available RAM, images may not to be split before running this cell.\n",
    "# Use the Auxiliary-2-SplitRasterToAnalyse if the images are too big to be analysed in memory.\n",
    "all_files = []\n",
    "for root, dirs, files in os.walk(config.input_image_dir):\n",
    "    for file in files:\n",
    "        if file.endswith(config.input_image_type)and file.startswith(config.ndwi_fn_st):\n",
    "             all_files.append((os.path.join(root, file), file))\n",
    "print(all_files)\n",
    "\n",
    "operator='padding'\n",
    "for fullPath, filename in all_files:\n",
    "    outputFile = os.path.join(config.output_dir, filename.replace(config.ndwi_fn_st, config.output_prefix + operator) )\n",
    "    if not os.path.isfile(outputFile) or config.overwrite_analysed_files: \n",
    "        with rasterio.open(fullPath) as NDWI:\n",
    "            with rasterio.open(fullPath.replace(config.ndwi_fn_st,config.bands_fn_st)) as bands:\n",
    "                print(fullPath)\n",
    "                detectedMask, detectedMeta = detect_lake(fullPath,NDWI,bands,operator,width = config.WIDTH, height = config.HEIGHT, stride = config.STRIDE)\n",
    "                writeMaskToDisk(detectedMask, detectedMeta, outputFile, write_as_type = config.output_dtype, th = 0.5, create_countors = False)            \n",
    "                vecter_path =outputFile.replace('tif','shp')\n",
    "                field_name = \"class\"\n",
    "#            第0类删除,若实际情况不需要1类和2类,则ignore_values = [1,2]\n",
    "                ignore_values = [0]\n",
    "                raster2vector(outputFile, vecter_path, field_name=field_name, ignore_values = ignore_values)#, ignore_values = ignore_values\n",
    "    else:\n",
    "        print('File already analysed!', fullPath)\n",
    "        \n",
    "print('finish')"
   ]
  },
  {
   "cell_type": "code",
   "execution_count": null,
   "metadata": {},
   "outputs": [],
   "source": []
  }
 ],
 "metadata": {
  "kernelspec": {
   "display_name": "Python 3 (ipykernel)",
   "language": "python",
   "name": "python3"
  },
  "language_info": {
   "codemirror_mode": {
    "name": "ipython",
    "version": 3
   },
   "file_extension": ".py",
   "mimetype": "text/x-python",
   "name": "python",
   "nbconvert_exporter": "python",
   "pygments_lexer": "ipython3",
   "version": "3.8.5"
  }
 },
 "nbformat": 4,
 "nbformat_minor": 4
}
