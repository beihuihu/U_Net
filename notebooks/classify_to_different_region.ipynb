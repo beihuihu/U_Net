{
 "cells": [
  {
   "cell_type": "code",
   "execution_count": 1,
   "metadata": {},
   "outputs": [],
   "source": [
    "import rasterio  \n",
    "import rasterio.mask\n",
    "import geopandas as gps\n",
    "import os\n",
    "import tqdm\n",
    "import copy\n",
    "import shutil\n",
    "from shapely.geometry import Point, Polygon,box"
   ]
  },
  {
   "cell_type": "code",
   "execution_count": 2,
   "metadata": {},
   "outputs": [
    {
     "data": {
      "text/html": [
       "<div>\n",
       "<style scoped>\n",
       "    .dataframe tbody tr th:only-of-type {\n",
       "        vertical-align: middle;\n",
       "    }\n",
       "\n",
       "    .dataframe tbody tr th {\n",
       "        vertical-align: top;\n",
       "    }\n",
       "\n",
       "    .dataframe thead th {\n",
       "        text-align: right;\n",
       "    }\n",
       "</style>\n",
       "<table border=\"1\" class=\"dataframe\">\n",
       "  <thead>\n",
       "    <tr style=\"text-align: right;\">\n",
       "      <th></th>\n",
       "      <th>UL_Lon</th>\n",
       "      <th>UL_Lat</th>\n",
       "      <th>Id</th>\n",
       "      <th>geometry</th>\n",
       "    </tr>\n",
       "  </thead>\n",
       "  <tbody>\n",
       "    <tr>\n",
       "      <th>0</th>\n",
       "      <td>93</td>\n",
       "      <td>7</td>\n",
       "      <td>874</td>\n",
       "      <td>POLYGON ((93.00000 6.00000, 93.00000 7.00000, ...</td>\n",
       "    </tr>\n",
       "    <tr>\n",
       "      <th>1</th>\n",
       "      <td>93</td>\n",
       "      <td>8</td>\n",
       "      <td>875</td>\n",
       "      <td>POLYGON ((93.00000 7.00000, 93.00000 8.00000, ...</td>\n",
       "    </tr>\n",
       "    <tr>\n",
       "      <th>2</th>\n",
       "      <td>94</td>\n",
       "      <td>6</td>\n",
       "      <td>878</td>\n",
       "      <td>POLYGON ((94.00000 5.00000, 94.00000 6.00000, ...</td>\n",
       "    </tr>\n",
       "    <tr>\n",
       "      <th>3</th>\n",
       "      <td>94</td>\n",
       "      <td>7</td>\n",
       "      <td>879</td>\n",
       "      <td>POLYGON ((94.00000 6.00000, 94.00000 7.00000, ...</td>\n",
       "    </tr>\n",
       "    <tr>\n",
       "      <th>4</th>\n",
       "      <td>94</td>\n",
       "      <td>8</td>\n",
       "      <td>880</td>\n",
       "      <td>POLYGON ((94.00000 7.00000, 94.00000 8.00000, ...</td>\n",
       "    </tr>\n",
       "    <tr>\n",
       "      <th>...</th>\n",
       "      <td>...</td>\n",
       "      <td>...</td>\n",
       "      <td>...</td>\n",
       "      <td>...</td>\n",
       "    </tr>\n",
       "    <tr>\n",
       "      <th>746</th>\n",
       "      <td>152</td>\n",
       "      <td>-11</td>\n",
       "      <td>17015</td>\n",
       "      <td>POLYGON ((152.00000 -12.00000, 152.00000 -11.0...</td>\n",
       "    </tr>\n",
       "    <tr>\n",
       "      <th>747</th>\n",
       "      <td>152</td>\n",
       "      <td>-10</td>\n",
       "      <td>17016</td>\n",
       "      <td>POLYGON ((152.00000 -11.00000, 152.00000 -10.0...</td>\n",
       "    </tr>\n",
       "    <tr>\n",
       "      <th>748</th>\n",
       "      <td>153</td>\n",
       "      <td>-11</td>\n",
       "      <td>17017</td>\n",
       "      <td>POLYGON ((153.00000 -12.00000, 153.00000 -11.0...</td>\n",
       "    </tr>\n",
       "    <tr>\n",
       "      <th>749</th>\n",
       "      <td>153</td>\n",
       "      <td>-10</td>\n",
       "      <td>17018</td>\n",
       "      <td>POLYGON ((153.00000 -11.00000, 153.00000 -10.0...</td>\n",
       "    </tr>\n",
       "    <tr>\n",
       "      <th>750</th>\n",
       "      <td>154</td>\n",
       "      <td>-11</td>\n",
       "      <td>17019</td>\n",
       "      <td>POLYGON ((154.00000 -12.00000, 154.00000 -11.0...</td>\n",
       "    </tr>\n",
       "  </tbody>\n",
       "</table>\n",
       "<p>751 rows × 4 columns</p>\n",
       "</div>"
      ],
      "text/plain": [
       "     UL_Lon  UL_Lat     Id                                           geometry\n",
       "0        93       7    874  POLYGON ((93.00000 6.00000, 93.00000 7.00000, ...\n",
       "1        93       8    875  POLYGON ((93.00000 7.00000, 93.00000 8.00000, ...\n",
       "2        94       6    878  POLYGON ((94.00000 5.00000, 94.00000 6.00000, ...\n",
       "3        94       7    879  POLYGON ((94.00000 6.00000, 94.00000 7.00000, ...\n",
       "4        94       8    880  POLYGON ((94.00000 7.00000, 94.00000 8.00000, ...\n",
       "..      ...     ...    ...                                                ...\n",
       "746     152     -11  17015  POLYGON ((152.00000 -12.00000, 152.00000 -11.0...\n",
       "747     152     -10  17016  POLYGON ((152.00000 -11.00000, 152.00000 -10.0...\n",
       "748     153     -11  17017  POLYGON ((153.00000 -12.00000, 153.00000 -11.0...\n",
       "749     153     -10  17018  POLYGON ((153.00000 -11.00000, 153.00000 -10.0...\n",
       "750     154     -11  17019  POLYGON ((154.00000 -12.00000, 154.00000 -11.0...\n",
       "\n",
       "[751 rows x 4 columns]"
      ]
     },
     "execution_count": 2,
     "metadata": {},
     "output_type": "execute_result"
    }
   ],
   "source": [
    "auxiliary_data_dir=r'D:\\lakemapping\\0_auxiliary_data\\auxiliary_dataset.gdb'\n",
    "# grwl_path = os.path.join(auxiliary_data_dir, 'GRWL') \n",
    "# OSM_path =  os.path.join(auxiliary_data_dir, 'OSM_water') \n",
    "# raw_prediction_dir=r'J:\\result836\\model0121\\tif'\n",
    "# output_dir=r'J:\\result836\\model0121\\aftermask'"
   ]
  },
  {
   "cell_type": "code",
   "execution_count": 3,
   "metadata": {},
   "outputs": [],
   "source": [
    "continent_polygon = gps.read_file(auxiliary_data_dir,layer='continent_polygon')\n",
    "continent_polygon"
   ]
  },
  {
   "cell_type": "code",
   "execution_count": null,
   "metadata": {},
   "outputs": [],
   "source": [
    "region_List=continent_polygon['region'].unique().tolist()"
   ]
  },
  {
   "cell_type": "code",
   "execution_count": null,
   "metadata": {},
   "outputs": [],
   "source": [
    "for region in region_List:\n",
    "    os.makedirs(r'D:\\postprocess\\region\\{}'.format(region))"
   ]
  },
  {
   "cell_type": "code",
   "execution_count": null,
   "metadata": {},
   "outputs": [],
   "source": [
    "for region in region_List:\n",
    "    region_clip=continent_polygon[continent_polygon.region==region]\n",
    "    id_list=region_clip.Id.tolist()\n",
    "    for i in id_list:\n",
    "        for root, dirs, files in os.walk(r'D:\\postprocess\\tif'):\n",
    "            for file in files:\n",
    "                if file== f'pre_{i}_after_land_mask.tif':\n",
    "                    old_file=os.path.join(root, file)\n",
    "                    new_file=os.path.join(r'D:\\postprocess\\region',region+'/'+file)\n",
    "#                     print(old_file)\n",
    "#                     print(new_file)\n",
    "                    shutil.move(old_file,new_file)\n",
    "                    continue"
   ]
  }
 ],
 "metadata": {
  "kernelspec": {
   "display_name": "tf_gpu_38",
   "language": "python",
   "name": "tf_gpu_38"
  },
  "language_info": {
   "codemirror_mode": {
    "name": "ipython",
    "version": 3
   },
   "file_extension": ".py",
   "mimetype": "text/x-python",
   "name": "python",
   "nbconvert_exporter": "python",
   "pygments_lexer": "ipython3",
   "version": "3.8.18"
  }
 },
 "nbformat": 4,
 "nbformat_minor": 4
}
